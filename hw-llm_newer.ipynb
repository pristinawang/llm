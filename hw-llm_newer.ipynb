{
 "cells": [
  {
   "cell_type": "markdown",
   "metadata": {},
   "source": [
    "# Homework 7: Large Language Models\n",
    "\n",
    "An PDF overview of the homework is [here](https://www.cs.jhu.edu/~jason/465/hw-llm/).\n",
    "\n",
    "It mentions: \"We'll send hand-in instructions soon.  Probably we will ask you to submit a version\n",
    "of the main notebook, with your answers added and extraneous materials deleted. We may also\n",
    "ask for a summary.\"\n",
    "\n",
    "![image](handin.png)\n",
    "This symbol marks a question or exercise that you will be expected to hand in."
   ]
  },
  {
   "cell_type": "markdown",
   "metadata": {},
   "source": [
    "\n",
    "# Getting started\n",
    "\n",
    "## Update `conda` environment\n",
    "\n",
    "Download the updated [nlp-class.yml](http://cs.jhu.edu/~jason/465/hw-llm/nlp-class.yml) file, and execute\n",
    "```\n",
    "conda env update --file nlp-class.yml --prune\n",
    "```\n",
    "to make sure that all the packages you need are installed."
   ]
  },
  {
   "cell_type": "markdown",
   "metadata": {},
   "source": [
    "## Fetch code and data files for this homework\n",
    "\n",
    "These files may get improved after the homework is released, so you should probably re-download them periodically.\n",
    "\n",
    "Here is a command you can type.  We won't put it in a code cell, because we don't want you to execute it accidentally in the current directory and overwrite your own changes.  (Actually, it will not overwrite your versions of the files — they will be renamed with names like `argubots.py.1`.)\n",
    "\n",
    "```\n",
    "!wget --quiet -r -np -nH --cut-dirs=3 -A '*.txt' -A '*.py' -A 'demo.ipynb' -A '*.png' https://www.cs.jhu.edu/~jason/465/hw-llm/\n",
    "!rm -f data/*.1 *.png.1 robots.txt   # remove any backup versions of the static files\n",
    "```"
   ]
  },
  {
   "cell_type": "code",
   "execution_count": 3,
   "metadata": {},
   "outputs": [
    {
     "name": "stdout",
     "output_type": "stream",
     "text": [
      "-rw-rw-r--@ 1 pinchun  staff  19652 Dec  5 17:07 agents.py\n",
      "-rw-rw-r--@ 1 pinchun  staff   3127 Dec  5 05:32 argubots.py\n",
      "-rw-rw-r--@ 1 pinchun  staff   2832 Dec  5 06:01 characters.py\n",
      "-rw-rw-r--@ 1 pinchun  staff   2641 Dec  5 06:16 dialogue.py\n",
      "-rw-rw-r--@ 1 pinchun  staff  14012 Dec  7 13:47 eval.py\n",
      "-rw-rw-r--@ 1 pinchun  staff  10426 Dec  5 23:34 kialo.py\n",
      "-rw-rw-r--@ 1 pinchun  staff   1347 Dec  3 18:44 logging_cm.py\n",
      "-rw-rw-r--@ 1 pinchun  staff   1503 Dec  5 22:05 simulate.py\n",
      "-rw-rw-r--@ 1 pinchun  staff   4274 Dec  7 13:10 tracking.py\n",
      "\n",
      "data:\n",
      "total 4992\n",
      "-rw-rw-r--@ 1 pinchun  staff     407 Nov 29 03:00 LICENSE\n",
      "-rw-rw-r--@ 1 pinchun  staff  613106 Nov 25 17:04 all-humans-should-be-vegan-2762.txt\n",
      "-rw-rw-r--@ 1 pinchun  staff   81917 Nov 29 21:56 have-authoritarian-governments-handled-covid-19-better-than-others-54145.txt\n",
      "-rw-rw-r--@ 1 pinchun  staff   52771 Dec  4 04:40 is-biden-an-incompetent-president-44217.txt\n",
      "-rw-rw-r--@ 1 pinchun  staff  153551 Dec  4 04:39 is-joe-biden-a-good-president-53071.txt\n",
      "-rw-rw-r--@ 1 pinchun  staff   60556 Dec  4 04:39 is-joe-biden-better-than-donald-trump-39949.txt\n",
      "-rw-rw-r--@ 1 pinchun  staff  113781 Nov 29 21:52 should-covid-19-vaccines-be-mandatory-39517.txt\n",
      "-rw-rw-r--@ 1 pinchun  staff   19702 Nov 25 17:04 should-enforcing-a-vegan-diet-on-children-be-condemned-as-child-abuse-33850.txt\n",
      "-rw-rw-r--@ 1 pinchun  staff    6615 Nov 25 17:04 should-people-go-vegan-if-they-can-31640.txt\n",
      "-rw-rw-r--@ 1 pinchun  staff   18637 Nov 29 21:55 should-schools-close-during-the-covid-19-pandemic-44845.txt\n",
      "-rw-rw-r--@ 1 pinchun  staff  704648 Nov 25 17:04 the-ethics-of-eating-animals-is-eating-meat-wrong-1229.txt\n",
      "-rw-rw-r--@ 1 pinchun  staff  376707 Dec  4 04:37 was-donald-trump-a-good-president-6079.txt\n",
      "-rw-rw-r--@ 1 pinchun  staff   87301 Dec  4 04:36 was-trump-a-good-president-3295.txt\n"
     ]
    }
   ],
   "source": [
    "!ls -lR *.py data"
   ]
  },
  {
   "cell_type": "markdown",
   "metadata": {},
   "source": [
    "\n",
    "The `autoimport` feature of Jupyter ensures that if an imported module (.py file) changes, the notebook will automatically import the new version.  \n",
    "(However, objects that were defined with the old version of the class won't change.)"
   ]
  },
  {
   "cell_type": "code",
   "execution_count": 4,
   "metadata": {},
   "outputs": [],
   "source": [
    "# Executing this cell does some magic that makes \n",
    "%load_ext autoreload\n",
    "%autoreload 2"
   ]
  },
  {
   "cell_type": "markdown",
   "metadata": {},
   "source": [
    "## Create an OpenAI client"
   ]
  },
  {
   "cell_type": "markdown",
   "metadata": {},
   "source": [
    "An OpenAI API key will be sent to you.\n",
    "Make an `.env` file in the same directory as this notebook, containing the following:\n",
    "```\n",
    "export OPENAI_API_KEY=[your API key]    # do not include the brackets here\n",
    "```\n",
    "Make sure others can't read this file:\n",
    "```\n",
    "chmod 600 .env\n",
    "```\n",
    "\n",
    "**Be sure to keep the key secret.  It gives access to a billable account.** If OpenAI finds it on the public web, they will invalidate it, and then no one (including you) can use this key to make requests anymore.\n",
    "\n",
    "Now you can execute the following to get an OpenAI client object."
   ]
  },
  {
   "cell_type": "code",
   "execution_count": 1,
   "metadata": {},
   "outputs": [],
   "source": [
    "import dotenv\n",
    "import openai\n",
    "from tracking import track_usage, read_usage\n",
    "\n",
    "dotenv.load_dotenv(override=True)      # define environment variables from .env\n",
    "client = track_usage(openai.OpenAI())  # create a client, modified to record its usage to a local file \n",
    "\n",
    "# Or use our tracking module to do the above for you, like this:\n",
    "\n",
    "# from tracking import default_client\n",
    "# client = default_client\n",
    "\n"
   ]
  },
  {
   "cell_type": "markdown",
   "metadata": {},
   "source": [
    "The job of the client is to talk to the OpenAI server over HTTP.\n",
    "The `OpenAI` constructor has some optional arguments that configure these HTTP messages.\n",
    "However, the defaults should work fine for you.  "
   ]
  },
  {
   "cell_type": "markdown",
   "metadata": {},
   "source": [
    "## Try the model!\n",
    "\n",
    "You can now get answers from OpenAI models by calling methods of the `client` instance.  \n",
    "You will have to specify which OpenAI model to use.\n",
    "Documentation of the methods is [here](https://pypi.org/project/openai/) if you are curious."
   ]
  },
  {
   "cell_type": "markdown",
   "metadata": {},
   "source": [
    "### Continue a textual prompt\n",
    "\n",
    "This is what language models excel at.  In principle you should do it by calling [`client.completions.create`](https://platform.openai.com/docs/api-reference/completions/create?lang=python).  But OpenAI's newer models don't support that legacy API, and the older ones are being [retired in January 2024](https://openai.com/blog/gpt-4-api-general-availability).  So we'll use the more modern API, [`client.chat.completions.create`](https://platform.openai.com/docs/api-reference/chat/create?lang=python)."
   ]
  },
  {
   "cell_type": "code",
   "execution_count": 2,
   "metadata": {},
   "outputs": [
    {
     "data": {
      "text/html": [
       "<pre style=\"white-space:pre;overflow-x:auto;line-height:normal;font-family:Menlo,'DejaVu Sans Mono',consolas,'Courier New',monospace\"><span style=\"color: #800080; text-decoration-color: #800080; font-weight: bold\">ChatCompletion</span><span style=\"font-weight: bold\">(</span>\n",
       "    <span style=\"color: #808000; text-decoration-color: #808000\">id</span>=<span style=\"color: #008000; text-decoration-color: #008000\">'chatcmpl-8UjlqUzyPRBA0U5rw7PbGQqRIyQLp'</span>,\n",
       "    <span style=\"color: #808000; text-decoration-color: #808000\">choices</span>=<span style=\"font-weight: bold\">[</span>\n",
       "        <span style=\"color: #800080; text-decoration-color: #800080; font-weight: bold\">Choice</span><span style=\"font-weight: bold\">(</span>\n",
       "            <span style=\"color: #808000; text-decoration-color: #808000\">finish_reason</span>=<span style=\"color: #008000; text-decoration-color: #008000\">'stop'</span>,\n",
       "            <span style=\"color: #808000; text-decoration-color: #808000\">index</span>=<span style=\"color: #008080; text-decoration-color: #008080; font-weight: bold\">0</span>,\n",
       "            <span style=\"color: #808000; text-decoration-color: #808000\">message</span>=<span style=\"color: #800080; text-decoration-color: #800080; font-weight: bold\">ChatCompletionMessage</span><span style=\"font-weight: bold\">(</span>\n",
       "                <span style=\"color: #808000; text-decoration-color: #808000\">content</span>=<span style=\"color: #008000; text-decoration-color: #008000\">'The planets in the solar system are Mercury, Venus, Earth, Mars, Jupiter, Saturn, Uranus, </span>\n",
       "<span style=\"color: #008000; text-decoration-color: #008000\">and Neptune.'</span>,\n",
       "                <span style=\"color: #808000; text-decoration-color: #808000\">role</span>=<span style=\"color: #008000; text-decoration-color: #008000\">'assistant'</span>,\n",
       "                <span style=\"color: #808000; text-decoration-color: #808000\">function_call</span>=<span style=\"color: #800080; text-decoration-color: #800080; font-style: italic\">None</span>,\n",
       "                <span style=\"color: #808000; text-decoration-color: #808000\">tool_calls</span>=<span style=\"color: #800080; text-decoration-color: #800080; font-style: italic\">None</span>\n",
       "            <span style=\"font-weight: bold\">)</span>\n",
       "        <span style=\"font-weight: bold\">)</span>\n",
       "    <span style=\"font-weight: bold\">]</span>,\n",
       "    <span style=\"color: #808000; text-decoration-color: #808000\">created</span>=<span style=\"color: #008080; text-decoration-color: #008080; font-weight: bold\">1702336474</span>,\n",
       "    <span style=\"color: #808000; text-decoration-color: #808000\">model</span>=<span style=\"color: #008000; text-decoration-color: #008000\">'gpt-3.5-turbo-1106'</span>,\n",
       "    <span style=\"color: #808000; text-decoration-color: #808000\">object</span>=<span style=\"color: #008000; text-decoration-color: #008000\">'chat.completion'</span>,\n",
       "    <span style=\"color: #808000; text-decoration-color: #808000\">system_fingerprint</span>=<span style=\"color: #008000; text-decoration-color: #008000\">'fp_f3efa6edfc'</span>,\n",
       "    <span style=\"color: #808000; text-decoration-color: #808000\">usage</span>=<span style=\"color: #800080; text-decoration-color: #800080; font-weight: bold\">CompletionUsage</span><span style=\"font-weight: bold\">(</span><span style=\"color: #808000; text-decoration-color: #808000\">completion_tokens</span>=<span style=\"color: #008080; text-decoration-color: #008080; font-weight: bold\">25</span>, <span style=\"color: #808000; text-decoration-color: #808000\">prompt_tokens</span>=<span style=\"color: #008080; text-decoration-color: #008080; font-weight: bold\">20</span>, <span style=\"color: #808000; text-decoration-color: #808000\">total_tokens</span>=<span style=\"color: #008080; text-decoration-color: #008080; font-weight: bold\">45</span><span style=\"font-weight: bold\">)</span>\n",
       "<span style=\"font-weight: bold\">)</span>\n",
       "</pre>\n"
      ],
      "text/plain": [
       "\u001b[1;35mChatCompletion\u001b[0m\u001b[1m(\u001b[0m\n",
       "    \u001b[33mid\u001b[0m=\u001b[32m'chatcmpl-8UjlqUzyPRBA0U5rw7PbGQqRIyQLp'\u001b[0m,\n",
       "    \u001b[33mchoices\u001b[0m=\u001b[1m[\u001b[0m\n",
       "        \u001b[1;35mChoice\u001b[0m\u001b[1m(\u001b[0m\n",
       "            \u001b[33mfinish_reason\u001b[0m=\u001b[32m'stop'\u001b[0m,\n",
       "            \u001b[33mindex\u001b[0m=\u001b[1;36m0\u001b[0m,\n",
       "            \u001b[33mmessage\u001b[0m=\u001b[1;35mChatCompletionMessage\u001b[0m\u001b[1m(\u001b[0m\n",
       "                \u001b[33mcontent\u001b[0m=\u001b[32m'The planets in the solar system are Mercury, Venus, Earth, Mars, Jupiter, Saturn, Uranus, \u001b[0m\n",
       "\u001b[32mand Neptune.'\u001b[0m,\n",
       "                \u001b[33mrole\u001b[0m=\u001b[32m'assistant'\u001b[0m,\n",
       "                \u001b[33mfunction_call\u001b[0m=\u001b[3;35mNone\u001b[0m,\n",
       "                \u001b[33mtool_calls\u001b[0m=\u001b[3;35mNone\u001b[0m\n",
       "            \u001b[1m)\u001b[0m\n",
       "        \u001b[1m)\u001b[0m\n",
       "    \u001b[1m]\u001b[0m,\n",
       "    \u001b[33mcreated\u001b[0m=\u001b[1;36m1702336474\u001b[0m,\n",
       "    \u001b[33mmodel\u001b[0m=\u001b[32m'gpt-3.5-turbo-1106'\u001b[0m,\n",
       "    \u001b[33mobject\u001b[0m=\u001b[32m'chat.completion'\u001b[0m,\n",
       "    \u001b[33msystem_fingerprint\u001b[0m=\u001b[32m'fp_f3efa6edfc'\u001b[0m,\n",
       "    \u001b[33musage\u001b[0m=\u001b[1;35mCompletionUsage\u001b[0m\u001b[1m(\u001b[0m\u001b[33mcompletion_tokens\u001b[0m=\u001b[1;36m25\u001b[0m, \u001b[33mprompt_tokens\u001b[0m=\u001b[1;36m20\u001b[0m, \u001b[33mtotal_tokens\u001b[0m=\u001b[1;36m45\u001b[0m\u001b[1m)\u001b[0m\n",
       "\u001b[1m)\u001b[0m\n"
      ]
     },
     "metadata": {},
     "output_type": "display_data"
    },
    {
     "data": {
      "text/html": [
       "<pre style=\"white-space:pre;overflow-x:auto;line-height:normal;font-family:Menlo,'DejaVu Sans Mono',consolas,'Courier New',monospace\"><span style=\"font-weight: bold\">[</span>\n",
       "    <span style=\"color: #800080; text-decoration-color: #800080; font-weight: bold\">Choice</span><span style=\"font-weight: bold\">(</span>\n",
       "        <span style=\"color: #808000; text-decoration-color: #808000\">finish_reason</span>=<span style=\"color: #008000; text-decoration-color: #008000\">'stop'</span>,\n",
       "        <span style=\"color: #808000; text-decoration-color: #808000\">index</span>=<span style=\"color: #008080; text-decoration-color: #008080; font-weight: bold\">0</span>,\n",
       "        <span style=\"color: #808000; text-decoration-color: #808000\">message</span>=<span style=\"color: #800080; text-decoration-color: #800080; font-weight: bold\">ChatCompletionMessage</span><span style=\"font-weight: bold\">(</span>\n",
       "            <span style=\"color: #808000; text-decoration-color: #808000\">content</span>=<span style=\"color: #008000; text-decoration-color: #008000\">'The planets in the solar system are Mercury, Venus, Earth, Mars, Jupiter, Saturn, Uranus, and </span>\n",
       "<span style=\"color: #008000; text-decoration-color: #008000\">Neptune.'</span>,\n",
       "            <span style=\"color: #808000; text-decoration-color: #808000\">role</span>=<span style=\"color: #008000; text-decoration-color: #008000\">'assistant'</span>,\n",
       "            <span style=\"color: #808000; text-decoration-color: #808000\">function_call</span>=<span style=\"color: #800080; text-decoration-color: #800080; font-style: italic\">None</span>,\n",
       "            <span style=\"color: #808000; text-decoration-color: #808000\">tool_calls</span>=<span style=\"color: #800080; text-decoration-color: #800080; font-style: italic\">None</span>\n",
       "        <span style=\"font-weight: bold\">)</span>\n",
       "    <span style=\"font-weight: bold\">)</span>\n",
       "<span style=\"font-weight: bold\">]</span>\n",
       "</pre>\n"
      ],
      "text/plain": [
       "\u001b[1m[\u001b[0m\n",
       "    \u001b[1;35mChoice\u001b[0m\u001b[1m(\u001b[0m\n",
       "        \u001b[33mfinish_reason\u001b[0m=\u001b[32m'stop'\u001b[0m,\n",
       "        \u001b[33mindex\u001b[0m=\u001b[1;36m0\u001b[0m,\n",
       "        \u001b[33mmessage\u001b[0m=\u001b[1;35mChatCompletionMessage\u001b[0m\u001b[1m(\u001b[0m\n",
       "            \u001b[33mcontent\u001b[0m=\u001b[32m'The planets in the solar system are Mercury, Venus, Earth, Mars, Jupiter, Saturn, Uranus, and \u001b[0m\n",
       "\u001b[32mNeptune.'\u001b[0m,\n",
       "            \u001b[33mrole\u001b[0m=\u001b[32m'assistant'\u001b[0m,\n",
       "            \u001b[33mfunction_call\u001b[0m=\u001b[3;35mNone\u001b[0m,\n",
       "            \u001b[33mtool_calls\u001b[0m=\u001b[3;35mNone\u001b[0m\n",
       "        \u001b[1m)\u001b[0m\n",
       "    \u001b[1m)\u001b[0m\n",
       "\u001b[1m]\u001b[0m\n"
      ]
     },
     "metadata": {},
     "output_type": "display_data"
    },
    {
     "data": {
      "text/html": [
       "<pre style=\"white-space:pre;overflow-x:auto;line-height:normal;font-family:Menlo,'DejaVu Sans Mono',consolas,'Courier New',monospace\">The planets in the solar system are Mercury, Venus, Earth, Mars, Jupiter, Saturn, Uranus, and Neptune.\n",
       "</pre>\n"
      ],
      "text/plain": [
       "The planets in the solar system are Mercury, Venus, Earth, Mars, Jupiter, Saturn, Uranus, and Neptune.\n"
      ]
     },
     "metadata": {},
     "output_type": "display_data"
    }
   ],
   "source": [
    "import rich   # prettyprinting\n",
    "\n",
    "response = client.chat.completions.create(messages=[{\"role\": \"user\", \n",
    "                                                     \"content\": \"Q: Name the planets in the solar system?\\nA: \"}], \n",
    "                                          model=\"gpt-3.5-turbo-1106\",  # which model to use\n",
    "                                          temperature=1,               # get a little variety\n",
    "                                          max_tokens=64,               # limit on length of result\n",
    "                                          stop=[\"Q:\", \"\\n\"])           # treat these as EOS symbols\n",
    "rich.print(response)                              # the full object that was sent back from the server\n",
    "rich.print(response.choices)                      # just the list of 1 answer (the default, but calling with n=5 would give 5 answers) \n",
    "rich.print(response.choices[0].message.content)   # extract the good stuff from that 1 answer"
   ]
  },
  {
   "cell_type": "markdown",
   "metadata": {},
   "source": [
    "![image](handin.png)\n",
    "Try running the cell above a few times. You may get different random answers — especially because the call specifies temperature 1.  (The default temperature is rumored to be 0.8.) Are the answers all equally good?"
   ]
  },
  {
   "cell_type": "markdown",
   "metadata": {},
   "source": [
    "\n",
    "It might be handy to package up what we just did.<br>\n",
    "The `complete` function below is a convenient way of experimenting with completing text.\n",
    "It is illustrated with a grocery example.  "
   ]
  },
  {
   "cell_type": "code",
   "execution_count": 6,
   "metadata": {},
   "outputs": [
    {
     "data": {
      "text/plain": [
       "[', and flour. I also picked up some garlic, honey, ice cream, and juice. Lastly, I grabbed some kiwi, lemons, milk, noodles, and oranges.',\n",
       " ', and flour. I also picked up some groceries like milk, bread, and cheese. I made sure to grab some snacks like chips and cookies as well. Overall, I got everything I needed for the week.',\n",
       " ', and flour. I also picked up some garlic, honey, ice cream, and juice. Lastly, I grabbed some kale, lemons, milk, nuts, and onions.',\n",
       " ', and flour for baking a cake.',\n",
       " ', and fish.',\n",
       " \", and a loaf of bread. I also picked up some milk and orange juice. As I was leaving, I spotted some fresh strawberries and couldn't resist adding them to my basket. All in all, I think I got everything I needed for the week.\",\n",
       " \", and flour. I also picked up some groceries like milk, bread, and cheese. I couldn't resist grabbing a bag of potato chips and a bottle of soda as well. After paying for my items, I headed home to start cooking and baking with my new purchases.\",\n",
       " ', and fish.',\n",
       " ', and flour. I also picked up some grapes, honey, ice cream, juice, and kiwis. Lastly, I grabbed some lemons, milk, nuts, oatmeal, and peanut butter.',\n",
       " ', and fish.']"
      ]
     },
     "execution_count": 6,
     "metadata": {},
     "output_type": "execute_result"
    }
   ],
   "source": [
    "def complete(client, s: str, model=\"gpt-3.5-turbo-1106\", *args, **kwargs):\n",
    "    response = client.chat.completions.create(messages=[{\"role\": \"user\", \"content\": s}],\n",
    "                                              model=model,\n",
    "                                              *args, **kwargs)\n",
    "    return [choice.message.content for choice in response.choices]\n",
    "\n",
    "complete(client, \"I went to the store and I bought apples, bananas, cherries, donuts, eggs\", \n",
    "         n=10, temperature=0.5, max_tokens=96)\n"
   ]
  },
  {
   "cell_type": "markdown",
   "metadata": {},
   "source": [
    "![image](handin.png)\n",
    "Anything could be on a grocery list, so why are the 10 different completions above so similar?<br>\n",
    "Hint: The answer isn't just the temperature of 0.5.  Look especially at the long completions; run the cell again if you didn't get multiple long completions."
   ]
  },
  {
   "cell_type": "markdown",
   "metadata": {},
   "source": [
    "\n",
    "![image](handin.png)\n",
    "What happens at different temperatures?  How about temperatures > 1?  (Note: Higher temperatures tend to produce longer responses, so it's wise to use `max_tokens`.)"
   ]
  },
  {
   "cell_type": "markdown",
   "metadata": {},
   "source": [
    "\n",
    "*Remarks:* [In the future](https://community.openai.com/t/logprobs-are-missing-from-the-chat-endpoints/289514), you will be able to specify an argument `logprobs=5` to also get the log-probabilities of all generated tokens and of the top-5 tokens at each step.  That will produce much more output.  (This argument has always been available for the legacy API, and is available in the [Python bindings for open-source models such as Llama](https://pypi.org/project/llama-cpp-python/).  The Llama bindings also allow you to [constrain the output by an arbitrary CFG](https://github.com/ggerganov/llama.cpp/blob/master/grammars/README.md), using `grammar=...`.  This is useful if you're generating code or data that must be syntactically valid to be useful to you.  However, the OpenAI API only allows you to [constrain the output to be valid JSON](https://platform.openai.com/docs/api-reference/chat/create#chat-create-response_format).)\n"
   ]
  },
  {
   "cell_type": "markdown",
   "metadata": {},
   "source": [
    "### Compute a function using instructions and few-shot prompting\n",
    "\n",
    "Now let's try passing a sequence of multiple messages into the chat completions API.  In this case, we provide some instructions and one-shot prompting."
   ]
  },
  {
   "cell_type": "code",
   "execution_count": 7,
   "metadata": {},
   "outputs": [
    {
     "data": {
      "text/html": [
       "<pre style=\"white-space:pre;overflow-x:auto;line-height:normal;font-family:Menlo,'DejaVu Sans Mono',consolas,'Courier New',monospace\"><span style=\"color: #800080; text-decoration-color: #800080; font-weight: bold\">ChatCompletion</span><span style=\"font-weight: bold\">(</span>\n",
       "    <span style=\"color: #808000; text-decoration-color: #808000\">id</span>=<span style=\"color: #008000; text-decoration-color: #008000\">'chatcmpl-8U2RQtsD9zvHCPLkMdoMP1A2zuhGW'</span>,\n",
       "    <span style=\"color: #808000; text-decoration-color: #808000\">choices</span>=<span style=\"font-weight: bold\">[</span>\n",
       "        <span style=\"color: #800080; text-decoration-color: #800080; font-weight: bold\">Choice</span><span style=\"font-weight: bold\">(</span>\n",
       "            <span style=\"color: #808000; text-decoration-color: #808000\">finish_reason</span>=<span style=\"color: #008000; text-decoration-color: #008000\">'stop'</span>,\n",
       "            <span style=\"color: #808000; text-decoration-color: #808000\">index</span>=<span style=\"color: #008080; text-decoration-color: #008080; font-weight: bold\">0</span>,\n",
       "            <span style=\"color: #808000; text-decoration-color: #808000\">message</span>=<span style=\"color: #800080; text-decoration-color: #800080; font-weight: bold\">ChatCompletionMessage</span><span style=\"font-weight: bold\">(</span>\n",
       "                <span style=\"color: #808000; text-decoration-color: #808000\">content</span>=<span style=\"color: #008000; text-decoration-color: #008000\">'furiously sleep ideas green colorless'</span>,\n",
       "                <span style=\"color: #808000; text-decoration-color: #808000\">role</span>=<span style=\"color: #008000; text-decoration-color: #008000\">'assistant'</span>,\n",
       "                <span style=\"color: #808000; text-decoration-color: #808000\">function_call</span>=<span style=\"color: #800080; text-decoration-color: #800080; font-style: italic\">None</span>,\n",
       "                <span style=\"color: #808000; text-decoration-color: #808000\">tool_calls</span>=<span style=\"color: #800080; text-decoration-color: #800080; font-style: italic\">None</span>\n",
       "            <span style=\"font-weight: bold\">)</span>\n",
       "        <span style=\"font-weight: bold\">)</span>\n",
       "    <span style=\"font-weight: bold\">]</span>,\n",
       "    <span style=\"color: #808000; text-decoration-color: #808000\">created</span>=<span style=\"color: #008080; text-decoration-color: #008080; font-weight: bold\">1702169916</span>,\n",
       "    <span style=\"color: #808000; text-decoration-color: #808000\">model</span>=<span style=\"color: #008000; text-decoration-color: #008000\">'gpt-3.5-turbo-1106'</span>,\n",
       "    <span style=\"color: #808000; text-decoration-color: #808000\">object</span>=<span style=\"color: #008000; text-decoration-color: #008000\">'chat.completion'</span>,\n",
       "    <span style=\"color: #808000; text-decoration-color: #808000\">system_fingerprint</span>=<span style=\"color: #008000; text-decoration-color: #008000\">'fp_eeff13170a'</span>,\n",
       "    <span style=\"color: #808000; text-decoration-color: #808000\">usage</span>=<span style=\"color: #800080; text-decoration-color: #800080; font-weight: bold\">CompletionUsage</span><span style=\"font-weight: bold\">(</span><span style=\"color: #808000; text-decoration-color: #808000\">completion_tokens</span>=<span style=\"color: #008080; text-decoration-color: #008080; font-weight: bold\">7</span>, <span style=\"color: #808000; text-decoration-color: #808000\">prompt_tokens</span>=<span style=\"color: #008080; text-decoration-color: #008080; font-weight: bold\">50</span>, <span style=\"color: #808000; text-decoration-color: #808000\">total_tokens</span>=<span style=\"color: #008080; text-decoration-color: #008080; font-weight: bold\">57</span><span style=\"font-weight: bold\">)</span>\n",
       "<span style=\"font-weight: bold\">)</span>\n",
       "</pre>\n"
      ],
      "text/plain": [
       "\u001b[1;35mChatCompletion\u001b[0m\u001b[1m(\u001b[0m\n",
       "    \u001b[33mid\u001b[0m=\u001b[32m'chatcmpl-8U2RQtsD9zvHCPLkMdoMP1A2zuhGW'\u001b[0m,\n",
       "    \u001b[33mchoices\u001b[0m=\u001b[1m[\u001b[0m\n",
       "        \u001b[1;35mChoice\u001b[0m\u001b[1m(\u001b[0m\n",
       "            \u001b[33mfinish_reason\u001b[0m=\u001b[32m'stop'\u001b[0m,\n",
       "            \u001b[33mindex\u001b[0m=\u001b[1;36m0\u001b[0m,\n",
       "            \u001b[33mmessage\u001b[0m=\u001b[1;35mChatCompletionMessage\u001b[0m\u001b[1m(\u001b[0m\n",
       "                \u001b[33mcontent\u001b[0m=\u001b[32m'furiously sleep ideas green colorless'\u001b[0m,\n",
       "                \u001b[33mrole\u001b[0m=\u001b[32m'assistant'\u001b[0m,\n",
       "                \u001b[33mfunction_call\u001b[0m=\u001b[3;35mNone\u001b[0m,\n",
       "                \u001b[33mtool_calls\u001b[0m=\u001b[3;35mNone\u001b[0m\n",
       "            \u001b[1m)\u001b[0m\n",
       "        \u001b[1m)\u001b[0m\n",
       "    \u001b[1m]\u001b[0m,\n",
       "    \u001b[33mcreated\u001b[0m=\u001b[1;36m1702169916\u001b[0m,\n",
       "    \u001b[33mmodel\u001b[0m=\u001b[32m'gpt-3.5-turbo-1106'\u001b[0m,\n",
       "    \u001b[33mobject\u001b[0m=\u001b[32m'chat.completion'\u001b[0m,\n",
       "    \u001b[33msystem_fingerprint\u001b[0m=\u001b[32m'fp_eeff13170a'\u001b[0m,\n",
       "    \u001b[33musage\u001b[0m=\u001b[1;35mCompletionUsage\u001b[0m\u001b[1m(\u001b[0m\u001b[33mcompletion_tokens\u001b[0m=\u001b[1;36m7\u001b[0m, \u001b[33mprompt_tokens\u001b[0m=\u001b[1;36m50\u001b[0m, \u001b[33mtotal_tokens\u001b[0m=\u001b[1;36m57\u001b[0m\u001b[1m)\u001b[0m\n",
       "\u001b[1m)\u001b[0m\n"
      ]
     },
     "metadata": {},
     "output_type": "display_data"
    },
    {
     "data": {
      "text/plain": [
       "'furiously sleep ideas green colorless'"
      ]
     },
     "execution_count": 7,
     "metadata": {},
     "output_type": "execute_result"
    }
   ],
   "source": [
    "response = client.chat.completions.create(messages=[{ \"role\": \"system\",      # instructions\n",
    "                                                      \"content\": \"Reverse the order of the words.\" },\n",
    "                                                    { \"role\": \"user\",        # input\n",
    "                                                      \"content\": \"Good things come to those who wait.\" },\n",
    "                                                    { \"role\": \"assistant\",   # output\n",
    "                                                      \"content\": \"Wait who those to come things good.\" },\n",
    "                                                    { \"role\": \"user\",        # input\n",
    "                                                      \"content\": \"Colorless green ideas sleep furiously.\" }],\n",
    "                                          model=\"gpt-3.5-turbo-1106\", temperature=0)\n",
    "rich.print(response)\n",
    "response.choices[0].message.content                                  "
   ]
  },
  {
   "cell_type": "markdown",
   "metadata": {},
   "source": [
    "![image](handin.png)\n",
    "By modifying this call, can you get it to produce different versions of the output?\n",
    "Some possible behaviors you could try to arrange:\n",
    "* specific other way of formatting the output, e.g., `wait, who, those, to, come, things, good`\n",
    "* match the input's way of formatting the output (same use of capitalization, puncutation, commas)\n",
    "* reverse the phrases rather than reversing the words, e.g., `To those who wait come good things.` \n",
    "\n",
    "You can try playing with the number, the content, and the order of few-shot examples, and changing or removing the instructions.\n",
    "\n",
    "![image](handin.png)\n",
    "What happens if the examples don't match the instructions?"
   ]
  },
  {
   "cell_type": "markdown",
   "metadata": {},
   "source": [
    "### Inspect the tokenization"
   ]
  },
  {
   "cell_type": "markdown",
   "metadata": {},
   "source": [
    "Just for fun, let's see how the above client has been tokenizing its input and output text.  For that we can use a tokenizer that runs locally, not in the cloud, and is guaranteed to get the same outputs."
   ]
  },
  {
   "cell_type": "code",
   "execution_count": 8,
   "metadata": {},
   "outputs": [
    {
     "name": "stdout",
     "output_type": "stream",
     "text": [
      "Hellooo, world!\n",
      "9906 \t Hello\n",
      "2689 \t oo\n",
      "11 \t ,\n",
      "1917 \t  world\n",
      "0 \t !\n",
      "Vocab size = 100277\n"
     ]
    }
   ],
   "source": [
    "import tiktoken\n",
    "tokenizer = tiktoken.encoding_for_model(\"gpt-3.5-turbo-1106\")  # how this model will tokenize\n",
    "toks = tokenizer.encode(\"Hellooo, world!\") # list of integerized tokens, starting with BOS\n",
    "\n",
    "print(tokenizer.decode(toks))                             # convert list back to string\n",
    "for tok in toks: print(tok,\"\\t\",tokenizer.decode([tok]))  # convert one at a time\n",
    "print(\"Vocab size =\", tokenizer.n_vocab)"
   ]
  },
  {
   "cell_type": "markdown",
   "metadata": {},
   "source": [
    "### Try embedding some text\n",
    "\n",
    "Also just for fun, let's try the embedder, which converts a string to an fixed-length vector."
   ]
  },
  {
   "cell_type": "code",
   "execution_count": 9,
   "metadata": {},
   "outputs": [
    {
     "name": "stdout",
     "output_type": "stream",
     "text": [
      "1536-dimensional embedding starting with [0.021248681470751762, -0.014377851039171219, 0.010210818611085415, -0.02133774757385254, -0.00979093462228775]\n",
      "Squared length of embedding vector:  1.0000000629476622\n"
     ]
    }
   ],
   "source": [
    "emb_response = client.embeddings.create( input= [  # note: adjacent literal strings in Python are concatenated\n",
    "        \"When in the Course of human events it becomes necessary for one \"\n",
    "        \"people to dissolve the political bands which have connected them \"\n",
    "        \"with another, and to assume among the Powers of the earth, the \"\n",
    "        \"separate and equal station to which the Laws of Nature and of \"\n",
    "        \"Nature's God entitle them, a decent respect to the opinions of \"\n",
    "        \"mankind requires that they should declare the causes which impel \"\n",
    "        \"them to the separation.\" ], \n",
    "        model=\"text-embedding-ada-002\")   # the only OpenAI model that currently offers the embeddings API\n",
    "# don't print the whole response because it's very long\n",
    "e = emb_response.data[0].embedding\n",
    "print(f\"{len(e)}-dimensional embedding starting with {e[:5]}\")\n",
    "print(\"Squared length of embedding vector: \", sum(x**2 for x in e))"
   ]
  },
  {
   "cell_type": "markdown",
   "metadata": {},
   "source": [
    "### Check your usage so far\n",
    "\n",
    "Please be careful not to write loops that use lots and lots of tokens.  That will cost us money, and could hit the per-day usage limit that is shared by the whole class.\n",
    "\n",
    "Execute one of these cells whenever you want to see your cost so far.  Or, just keep `usage_openai.json` open as a tab in your IDE."
   ]
  },
  {
   "cell_type": "code",
   "execution_count": 10,
   "metadata": {},
   "outputs": [
    {
     "data": {
      "text/plain": [
       "{'completion_tokens': 184760,\n",
       " 'prompt_tokens': 1843898,\n",
       " 'total_tokens': 2028658,\n",
       " 'cost': 2.2131371999999963}"
      ]
     },
     "execution_count": 10,
     "metadata": {},
     "output_type": "execute_result"
    }
   ],
   "source": [
    "read_usage()      # reads from the file usage_openai.json"
   ]
  },
  {
   "cell_type": "code",
   "execution_count": 11,
   "metadata": {},
   "outputs": [
    {
     "name": "stdout",
     "output_type": "stream",
     "text": [
      "{\n",
      "    \"completion_tokens\": 184760,\n",
      "    \"prompt_tokens\": 1843898,\n",
      "    \"total_tokens\": 2028658,\n",
      "    \"cost\": 2.2131371999999963\n",
      "}"
     ]
    }
   ],
   "source": [
    "!cat usage_openai.json "
   ]
  },
  {
   "cell_type": "markdown",
   "metadata": {},
   "source": [
    "# Dialogues and dialogue agents"
   ]
  },
  {
   "cell_type": "markdown",
   "metadata": {},
   "source": [
    "The goal of this assignment is to create a good \"argubot\" that will talk to people about controversial topics and broaden their minds."
   ]
  },
  {
   "cell_type": "markdown",
   "metadata": {},
   "source": [
    "## A first argubot (Airhead)\n",
    "\n",
    "You can have a conversation right now with a _really bad_ argubot named Airhead.  Try asking it about climate change!  When you're done, reply with an empty string.\n",
    "\n",
    "(The `converse()` method calls Python's `input()` function, which will prompt you for input at the command-line or by popping up a box in your IDE.)"
   ]
  },
  {
   "cell_type": "code",
   "execution_count": 13,
   "metadata": {},
   "outputs": [
    {
     "name": "stdout",
     "output_type": "stream",
     "text": [
      "\n"
     ]
    },
    {
     "name": "stdin",
     "output_type": "stream",
     "text": [
      "Say something to Airhead:  \n"
     ]
    }
   ],
   "source": [
    "import argubots\n",
    "d = argubots.airhead.converse()"
   ]
  },
  {
   "cell_type": "markdown",
   "metadata": {},
   "source": [
    "A *bot* (short for \"robot\") is a system that acts autonomously.\n",
    "That corresponds to the AI notion of an *agent* — a system that uses some *policy* to choose *actions* to take.\n",
    "\n",
    "The `airhead` agent above (defined in `argubots.py`) uses a particularly simple policy.  \n",
    "It is an instance of a simple `Agent` subclass called `ConstantAgent` (defined in `agents.py`).\n",
    "\n",
    "The result of talking to `airhead` is a `Dialogue` object (defined in `dialogue.py`). Let's look at it."
   ]
  },
  {
   "cell_type": "code",
   "execution_count": 14,
   "metadata": {},
   "outputs": [
    {
     "data": {
      "text/html": [
       "<pre style=\"white-space:pre;overflow-x:auto;line-height:normal;font-family:Menlo,'DejaVu Sans Mono',consolas,'Courier New',monospace\">\n",
       "</pre>\n"
      ],
      "text/plain": [
       "\n"
      ]
     },
     "metadata": {},
     "output_type": "display_data"
    }
   ],
   "source": [
    "rich.print(d)"
   ]
  },
  {
   "cell_type": "markdown",
   "metadata": {},
   "source": [
    "Each *turn* of this dialogue is just a tiny dictionary:"
   ]
  },
  {
   "cell_type": "code",
   "execution_count": 16,
   "metadata": {},
   "outputs": [
    {
     "ename": "IndexError",
     "evalue": "tuple index out of range",
     "output_type": "error",
     "traceback": [
      "\u001b[0;31m---------------------------------------------------------------------------\u001b[0m",
      "\u001b[0;31mIndexError\u001b[0m                                Traceback (most recent call last)",
      "Cell \u001b[0;32mIn[16], line 1\u001b[0m\n\u001b[0;32m----> 1\u001b[0m \u001b[43md\u001b[49m\u001b[43m[\u001b[49m\u001b[38;5;241;43m0\u001b[39;49m\u001b[43m]\u001b[49m\n",
      "File \u001b[0;32m~/Documents/2023Fall/NLP/hw-llm/dialogue.py:58\u001b[0m, in \u001b[0;36mDialogue.__getitem__\u001b[0;34m(self, index)\u001b[0m\n\u001b[1;32m     57\u001b[0m \u001b[38;5;28;01mdef\u001b[39;00m \u001b[38;5;21m__getitem__\u001b[39m(\u001b[38;5;28mself\u001b[39m, index):\n\u001b[0;32m---> 58\u001b[0m     result \u001b[38;5;241m=\u001b[39m \u001b[38;5;28;43msuper\u001b[39;49m\u001b[43m(\u001b[49m\u001b[43m)\u001b[49m\u001b[38;5;241;43m.\u001b[39;49m\u001b[38;5;21;43m__getitem__\u001b[39;49m\u001b[43m(\u001b[49m\u001b[43mindex\u001b[49m\u001b[43m)\u001b[49m\n\u001b[1;32m     59\u001b[0m     \u001b[38;5;28;01mif\u001b[39;00m \u001b[38;5;28misinstance\u001b[39m(index, \u001b[38;5;28mslice\u001b[39m):\n\u001b[1;32m     60\u001b[0m         \u001b[38;5;28;01mreturn\u001b[39;00m Dialogue(result)\n",
      "\u001b[0;31mIndexError\u001b[0m: tuple index out of range"
     ]
    }
   ],
   "source": [
    "d[0]"
   ]
  },
  {
   "cell_type": "markdown",
   "metadata": {},
   "source": [
    "## An LLM argubot (Alice)\n",
    "\n",
    "In other CS courses like crypto, algorithms, or networks, you may have encountered \"conversations\" between characters named Alice and Bob.  \n",
    "Let's try talking to the Alice of this homework, who is a _much stronger baseline_ than Airhead.  Your job in this assignment is to improve upon Alice.\n",
    "We'll meet Bob later."
   ]
  },
  {
   "cell_type": "code",
   "execution_count": 17,
   "metadata": {},
   "outputs": [
    {
     "name": "stdout",
     "output_type": "stream",
     "text": [
      "\n"
     ]
    },
    {
     "name": "stdin",
     "output_type": "stream",
     "text": [
      "Say something to Alice:  hi\n"
     ]
    },
    {
     "name": "stdout",
     "output_type": "stream",
     "text": [
      "(pinchun) hi\n",
      "(Alice) Hello! What's something new you've learned recently that has really interested you?\n"
     ]
    },
    {
     "name": "stdin",
     "output_type": "stream",
     "text": [
      "Say something to Alice:  \n"
     ]
    }
   ],
   "source": [
    "alicechat = argubots.alice.converse()   # or call with argument d if you want to append to the previous conversation"
   ]
  },
  {
   "cell_type": "markdown",
   "metadata": {},
   "source": [
    "As you may have guessed, `alice` is powered by an prompted LLM.  You can find the specific prompt in `argubots.py`.\n",
    "\n",
    "So, while `agents.py` provides the core functionality for `Agent` objects, the argubot agents like `alice` — and the ones that you will write! — go into `argubots.py` instead.  This is just to keep the files small."
   ]
  },
  {
   "cell_type": "markdown",
   "metadata": {},
   "source": [
    "## Simulating human characters (Bob & friends)"
   ]
  },
  {
   "cell_type": "markdown",
   "metadata": {},
   "source": [
    "You'll talk to your own argubots to get a qualitative feeling for their strengths and weaknesses.  \n",
    "But can you really be sure you're making progress?  For that, a quantitative measure can be helpful.\n",
    "\n",
    "Ultimately, you should test an argubot like Alice by having it argue with many real humans — not just you — and using some rubric to score the resulting dialogues.  But that would be slow and complicated to arrange.  \n",
    "\n",
    "So, meet Bob!  He's just a simulated human.  You won't edit him: he is part of the development set.  Here is some information about him (from `characters.py`):"
   ]
  },
  {
   "cell_type": "code",
   "execution_count": 18,
   "metadata": {},
   "outputs": [
    {
     "data": {
      "text/html": [
       "<pre style=\"white-space:pre;overflow-x:auto;line-height:normal;font-family:Menlo,'DejaVu Sans Mono',consolas,'Courier New',monospace\"><span style=\"color: #800080; text-decoration-color: #800080; font-weight: bold\">Character</span><span style=\"font-weight: bold\">(</span>\n",
       "    <span style=\"color: #808000; text-decoration-color: #808000\">name</span>=<span style=\"color: #008000; text-decoration-color: #008000\">'Bob'</span>,\n",
       "    <span style=\"color: #808000; text-decoration-color: #808000\">languages</span>=<span style=\"font-weight: bold\">[</span><span style=\"color: #008000; text-decoration-color: #008000\">'English'</span><span style=\"font-weight: bold\">]</span>,\n",
       "    <span style=\"color: #808000; text-decoration-color: #808000\">persona</span>=<span style=\"color: #008000; text-decoration-color: #008000\">'an ardent vegetarian who thinks everyone should be vegetarian'</span>,\n",
       "    <span style=\"color: #808000; text-decoration-color: #808000\">conversational_style</span>=<span style=\"color: #008000; text-decoration-color: #008000\">'You generally try to remain polite.'</span>,\n",
       "    <span style=\"color: #808000; text-decoration-color: #808000\">conversation_starters</span>=<span style=\"font-weight: bold\">[</span><span style=\"color: #008000; text-decoration-color: #008000\">\"Do you think it's ok to eat meat?\"</span><span style=\"font-weight: bold\">]</span>\n",
       "<span style=\"font-weight: bold\">)</span>\n",
       "</pre>\n"
      ],
      "text/plain": [
       "\u001b[1;35mCharacter\u001b[0m\u001b[1m(\u001b[0m\n",
       "    \u001b[33mname\u001b[0m=\u001b[32m'Bob'\u001b[0m,\n",
       "    \u001b[33mlanguages\u001b[0m=\u001b[1m[\u001b[0m\u001b[32m'English'\u001b[0m\u001b[1m]\u001b[0m,\n",
       "    \u001b[33mpersona\u001b[0m=\u001b[32m'an ardent vegetarian who thinks everyone should be vegetarian'\u001b[0m,\n",
       "    \u001b[33mconversational_style\u001b[0m=\u001b[32m'You generally try to remain polite.'\u001b[0m,\n",
       "    \u001b[33mconversation_starters\u001b[0m=\u001b[1m[\u001b[0m\u001b[32m\"Do you think it's ok to eat meat?\"\u001b[0m\u001b[1m]\u001b[0m\n",
       "\u001b[1m)\u001b[0m\n"
      ]
     },
     "metadata": {},
     "output_type": "display_data"
    }
   ],
   "source": [
    "import characters\n",
    "rich.print(characters.bob)"
   ]
  },
  {
   "cell_type": "markdown",
   "metadata": {},
   "source": [
    "You can't talk directly to `characters.bob` because that's just a data object.\n",
    "However, you can construct a simple agent that uses that data (plus a few more instructions) to prompt an LLM.\n",
    "\n",
    "(Which LLM does it prompt?  The `CharacterAgent` constructor (defined in `agents.py`) defaults to a GPT-3.5 model that is specified in `tracking.py`.  But you can override that using keyword arguments.)\n",
    "\n",
    "Try talking to Bob about climate change, too."
   ]
  },
  {
   "cell_type": "code",
   "execution_count": 47,
   "metadata": {},
   "outputs": [
    {
     "name": "stdout",
     "output_type": "stream",
     "text": [
      "\n"
     ]
    },
    {
     "name": "stdin",
     "output_type": "stream",
     "text": [
      "Say something to Bob:  hi\n"
     ]
    },
    {
     "name": "stdout",
     "output_type": "stream",
     "text": [
      "(pinchun) hi\n",
      "(Bob) Hello! Hope you're having a great day.\n"
     ]
    },
    {
     "name": "stdin",
     "output_type": "stream",
     "text": [
      "Say something to Bob:  \n"
     ]
    }
   ],
   "source": [
    "from agents import CharacterAgent\n",
    "bob = CharacterAgent(characters.bob)    # actually, agents.bob is already defined this way\n",
    "bob.converse()        # returns a dialogue, but we've already seen it so we don't want to print it again\n",
    "None                  # don't print anything for this notebook cell "
   ]
  },
  {
   "cell_type": "markdown",
   "metadata": {},
   "source": [
    "Of course, a proper user study can't just be conducted with one human user.\n",
    "\n",
    "So, meet our bevy of beautiful Bobs!  (They're not actually all named Bob — we continued on in the alphabet.)\n"
   ]
  },
  {
   "cell_type": "code",
   "execution_count": 48,
   "metadata": {},
   "outputs": [
    {
     "data": {
      "text/plain": [
       "[<CharacterAgent for character Bob>,\n",
       " <CharacterAgent for character Cara>,\n",
       " <CharacterAgent for character Darius>,\n",
       " <CharacterAgent for character Eve>,\n",
       " <CharacterAgent for character TrollFace>]"
      ]
     },
     "execution_count": 48,
     "metadata": {},
     "output_type": "execute_result"
    }
   ],
   "source": [
    "import agents\n",
    "agents.devset"
   ]
  },
  {
   "cell_type": "code",
   "execution_count": 20,
   "metadata": {},
   "outputs": [
    {
     "name": "stdout",
     "output_type": "stream",
     "text": [
      "\n"
     ]
    },
    {
     "name": "stdin",
     "output_type": "stream",
     "text": [
      "Say something to Cara:  ccc\n"
     ]
    },
    {
     "name": "stdout",
     "output_type": "stream",
     "text": [
      "(pinchun) ccc\n",
      "(Cara) Hey there! How can I assist you today?\n"
     ]
    },
    {
     "name": "stdin",
     "output_type": "stream",
     "text": [
      "Say something to Cara:  \n"
     ]
    }
   ],
   "source": [
    "agents.cara.converse()\n",
    "None"
   ]
  },
  {
   "cell_type": "markdown",
   "metadata": {},
   "source": [
    "You can see the underlying character data here in the notebook.  Your argubot will have to deal with all of these topics and styles!"
   ]
  },
  {
   "cell_type": "code",
   "execution_count": 21,
   "metadata": {},
   "outputs": [
    {
     "data": {
      "text/html": [
       "<pre style=\"white-space:pre;overflow-x:auto;line-height:normal;font-family:Menlo,'DejaVu Sans Mono',consolas,'Courier New',monospace\"><span style=\"font-weight: bold\">[</span>\n",
       "    <span style=\"color: #800080; text-decoration-color: #800080; font-weight: bold\">Character</span><span style=\"font-weight: bold\">(</span>\n",
       "        <span style=\"color: #808000; text-decoration-color: #808000\">name</span>=<span style=\"color: #008000; text-decoration-color: #008000\">'Bob'</span>,\n",
       "        <span style=\"color: #808000; text-decoration-color: #808000\">languages</span>=<span style=\"font-weight: bold\">[</span><span style=\"color: #008000; text-decoration-color: #008000\">'English'</span><span style=\"font-weight: bold\">]</span>,\n",
       "        <span style=\"color: #808000; text-decoration-color: #808000\">persona</span>=<span style=\"color: #008000; text-decoration-color: #008000\">'an ardent vegetarian who thinks everyone should be vegetarian'</span>,\n",
       "        <span style=\"color: #808000; text-decoration-color: #808000\">conversational_style</span>=<span style=\"color: #008000; text-decoration-color: #008000\">'You generally try to remain polite.'</span>,\n",
       "        <span style=\"color: #808000; text-decoration-color: #808000\">conversation_starters</span>=<span style=\"font-weight: bold\">[</span><span style=\"color: #008000; text-decoration-color: #008000\">\"Do you think it's ok to eat meat?\"</span><span style=\"font-weight: bold\">]</span>\n",
       "    <span style=\"font-weight: bold\">)</span>,\n",
       "    <span style=\"color: #800080; text-decoration-color: #800080; font-weight: bold\">Character</span><span style=\"font-weight: bold\">(</span>\n",
       "        <span style=\"color: #808000; text-decoration-color: #808000\">name</span>=<span style=\"color: #008000; text-decoration-color: #008000\">'Cara'</span>,\n",
       "        <span style=\"color: #808000; text-decoration-color: #808000\">languages</span>=<span style=\"font-weight: bold\">[</span><span style=\"color: #008000; text-decoration-color: #008000\">'English'</span><span style=\"font-weight: bold\">]</span>,\n",
       "        <span style=\"color: #808000; text-decoration-color: #808000\">persona</span>=<span style=\"color: #008000; text-decoration-color: #008000\">'a committed carnivore who hates being told what to do'</span>,\n",
       "        <span style=\"color: #808000; text-decoration-color: #808000\">conversational_style</span>=<span style=\"color: #008000; text-decoration-color: #008000\">'You generally try to remain polite.'</span>,\n",
       "        <span style=\"color: #808000; text-decoration-color: #808000\">conversation_starters</span>=<span style=\"font-weight: bold\">[</span><span style=\"color: #008000; text-decoration-color: #008000\">\"Do you think it's ok to eat meat?\"</span><span style=\"font-weight: bold\">]</span>\n",
       "    <span style=\"font-weight: bold\">)</span>,\n",
       "    <span style=\"color: #800080; text-decoration-color: #800080; font-weight: bold\">Character</span><span style=\"font-weight: bold\">(</span>\n",
       "        <span style=\"color: #808000; text-decoration-color: #808000\">name</span>=<span style=\"color: #008000; text-decoration-color: #008000\">'Darius'</span>,\n",
       "        <span style=\"color: #808000; text-decoration-color: #808000\">languages</span>=<span style=\"font-weight: bold\">[</span><span style=\"color: #008000; text-decoration-color: #008000\">'English'</span><span style=\"font-weight: bold\">]</span>,\n",
       "        <span style=\"color: #808000; text-decoration-color: #808000\">persona</span>=<span style=\"color: #008000; text-decoration-color: #008000\">'an intelligent and slightly arrogant public health scientist who loves fact-based arguments'</span>,\n",
       "        <span style=\"color: #808000; text-decoration-color: #808000\">conversational_style</span>=<span style=\"color: #008000; text-decoration-color: #008000\">'You like to show off your knowledge.'</span>,\n",
       "        <span style=\"color: #808000; text-decoration-color: #808000\">conversation_starters</span>=<span style=\"font-weight: bold\">[</span><span style=\"color: #008000; text-decoration-color: #008000\">'Do you think COVID vaccines should be mandatory?'</span><span style=\"font-weight: bold\">]</span>\n",
       "    <span style=\"font-weight: bold\">)</span>,\n",
       "    <span style=\"color: #800080; text-decoration-color: #800080; font-weight: bold\">Character</span><span style=\"font-weight: bold\">(</span>\n",
       "        <span style=\"color: #808000; text-decoration-color: #808000\">name</span>=<span style=\"color: #008000; text-decoration-color: #008000\">'Eve'</span>,\n",
       "        <span style=\"color: #808000; text-decoration-color: #808000\">languages</span>=<span style=\"font-weight: bold\">[</span><span style=\"color: #008000; text-decoration-color: #008000\">'English'</span><span style=\"font-weight: bold\">]</span>,\n",
       "        <span style=\"color: #808000; text-decoration-color: #808000\">persona</span>=<span style=\"color: #008000; text-decoration-color: #008000\">'a nosy person -- you want to know everything about other people'</span>,\n",
       "        <span style=\"color: #808000; text-decoration-color: #808000\">conversational_style</span>=<span style=\"color: #008000; text-decoration-color: #008000\">\"You ask many personal questions; you sometimes share what you've heard (or overheard)</span>\n",
       "<span style=\"color: #008000; text-decoration-color: #008000\">from others.\"</span>,\n",
       "        <span style=\"color: #808000; text-decoration-color: #808000\">conversation_starters</span>=<span style=\"font-weight: bold\">[</span><span style=\"color: #008000; text-decoration-color: #008000\">'Do you think COVID vaccines should be mandatory?'</span><span style=\"font-weight: bold\">]</span>\n",
       "    <span style=\"font-weight: bold\">)</span>,\n",
       "    <span style=\"color: #800080; text-decoration-color: #800080; font-weight: bold\">Character</span><span style=\"font-weight: bold\">(</span>\n",
       "        <span style=\"color: #808000; text-decoration-color: #808000\">name</span>=<span style=\"color: #008000; text-decoration-color: #008000\">'TrollFace'</span>,\n",
       "        <span style=\"color: #808000; text-decoration-color: #808000\">languages</span>=<span style=\"font-weight: bold\">[</span><span style=\"color: #008000; text-decoration-color: #008000\">'English'</span><span style=\"font-weight: bold\">]</span>,\n",
       "        <span style=\"color: #808000; text-decoration-color: #808000\">persona</span>=<span style=\"color: #008000; text-decoration-color: #008000\">'a troll who loves to ridicule everyone and everything'</span>,\n",
       "        <span style=\"color: #808000; text-decoration-color: #808000\">conversational_style</span>=<span style=\"color: #008000; text-decoration-color: #008000\">\"You love to confound, upset, and even make fun of the people you're talking to.\"</span>,\n",
       "        <span style=\"color: #808000; text-decoration-color: #808000\">conversation_starters</span>=<span style=\"font-weight: bold\">[</span>\n",
       "            <span style=\"color: #008000; text-decoration-color: #008000\">'Do you think Donald Trump was a good president?'</span>,\n",
       "            <span style=\"color: #008000; text-decoration-color: #008000\">'Do you think Joe Biden has been a good president?'</span>\n",
       "        <span style=\"font-weight: bold\">]</span>\n",
       "    <span style=\"font-weight: bold\">)</span>\n",
       "<span style=\"font-weight: bold\">]</span>\n",
       "</pre>\n"
      ],
      "text/plain": [
       "\u001b[1m[\u001b[0m\n",
       "    \u001b[1;35mCharacter\u001b[0m\u001b[1m(\u001b[0m\n",
       "        \u001b[33mname\u001b[0m=\u001b[32m'Bob'\u001b[0m,\n",
       "        \u001b[33mlanguages\u001b[0m=\u001b[1m[\u001b[0m\u001b[32m'English'\u001b[0m\u001b[1m]\u001b[0m,\n",
       "        \u001b[33mpersona\u001b[0m=\u001b[32m'an ardent vegetarian who thinks everyone should be vegetarian'\u001b[0m,\n",
       "        \u001b[33mconversational_style\u001b[0m=\u001b[32m'You generally try to remain polite.'\u001b[0m,\n",
       "        \u001b[33mconversation_starters\u001b[0m=\u001b[1m[\u001b[0m\u001b[32m\"Do you think it's ok to eat meat?\"\u001b[0m\u001b[1m]\u001b[0m\n",
       "    \u001b[1m)\u001b[0m,\n",
       "    \u001b[1;35mCharacter\u001b[0m\u001b[1m(\u001b[0m\n",
       "        \u001b[33mname\u001b[0m=\u001b[32m'Cara'\u001b[0m,\n",
       "        \u001b[33mlanguages\u001b[0m=\u001b[1m[\u001b[0m\u001b[32m'English'\u001b[0m\u001b[1m]\u001b[0m,\n",
       "        \u001b[33mpersona\u001b[0m=\u001b[32m'a committed carnivore who hates being told what to do'\u001b[0m,\n",
       "        \u001b[33mconversational_style\u001b[0m=\u001b[32m'You generally try to remain polite.'\u001b[0m,\n",
       "        \u001b[33mconversation_starters\u001b[0m=\u001b[1m[\u001b[0m\u001b[32m\"Do you think it's ok to eat meat?\"\u001b[0m\u001b[1m]\u001b[0m\n",
       "    \u001b[1m)\u001b[0m,\n",
       "    \u001b[1;35mCharacter\u001b[0m\u001b[1m(\u001b[0m\n",
       "        \u001b[33mname\u001b[0m=\u001b[32m'Darius'\u001b[0m,\n",
       "        \u001b[33mlanguages\u001b[0m=\u001b[1m[\u001b[0m\u001b[32m'English'\u001b[0m\u001b[1m]\u001b[0m,\n",
       "        \u001b[33mpersona\u001b[0m=\u001b[32m'an intelligent and slightly arrogant public health scientist who loves fact-based arguments'\u001b[0m,\n",
       "        \u001b[33mconversational_style\u001b[0m=\u001b[32m'You like to show off your knowledge.'\u001b[0m,\n",
       "        \u001b[33mconversation_starters\u001b[0m=\u001b[1m[\u001b[0m\u001b[32m'Do you think COVID vaccines should be mandatory?'\u001b[0m\u001b[1m]\u001b[0m\n",
       "    \u001b[1m)\u001b[0m,\n",
       "    \u001b[1;35mCharacter\u001b[0m\u001b[1m(\u001b[0m\n",
       "        \u001b[33mname\u001b[0m=\u001b[32m'Eve'\u001b[0m,\n",
       "        \u001b[33mlanguages\u001b[0m=\u001b[1m[\u001b[0m\u001b[32m'English'\u001b[0m\u001b[1m]\u001b[0m,\n",
       "        \u001b[33mpersona\u001b[0m=\u001b[32m'a nosy person -- you want to know everything about other people'\u001b[0m,\n",
       "        \u001b[33mconversational_style\u001b[0m=\u001b[32m\"You\u001b[0m\u001b[32m ask many personal questions; you sometimes share what you've heard \u001b[0m\u001b[32m(\u001b[0m\u001b[32mor overheard\u001b[0m\u001b[32m)\u001b[0m\n",
       "\u001b[32mfrom others.\"\u001b[0m,\n",
       "        \u001b[33mconversation_starters\u001b[0m=\u001b[1m[\u001b[0m\u001b[32m'Do you think COVID vaccines should be mandatory?'\u001b[0m\u001b[1m]\u001b[0m\n",
       "    \u001b[1m)\u001b[0m,\n",
       "    \u001b[1;35mCharacter\u001b[0m\u001b[1m(\u001b[0m\n",
       "        \u001b[33mname\u001b[0m=\u001b[32m'TrollFace'\u001b[0m,\n",
       "        \u001b[33mlanguages\u001b[0m=\u001b[1m[\u001b[0m\u001b[32m'English'\u001b[0m\u001b[1m]\u001b[0m,\n",
       "        \u001b[33mpersona\u001b[0m=\u001b[32m'a troll who loves to ridicule everyone and everything'\u001b[0m,\n",
       "        \u001b[33mconversational_style\u001b[0m=\u001b[32m\"You\u001b[0m\u001b[32m love to confound, upset, and even make fun of the people you're talking to.\"\u001b[0m,\n",
       "        \u001b[33mconversation_starters\u001b[0m=\u001b[1m[\u001b[0m\n",
       "            \u001b[32m'Do you think Donald Trump was a good president?'\u001b[0m,\n",
       "            \u001b[32m'Do you think Joe Biden has been a good president?'\u001b[0m\n",
       "        \u001b[1m]\u001b[0m\n",
       "    \u001b[1m)\u001b[0m\n",
       "\u001b[1m]\u001b[0m\n"
      ]
     },
     "metadata": {},
     "output_type": "display_data"
    }
   ],
   "source": [
    "rich.print(characters.devset)"
   ]
  },
  {
   "cell_type": "markdown",
   "metadata": {},
   "source": [
    "## Simulating conversation \n",
    "\n",
    "We can make Alice and Bob chat."
   ]
  },
  {
   "cell_type": "code",
   "execution_count": 20,
   "metadata": {},
   "outputs": [
    {
     "name": "stdout",
     "output_type": "stream",
     "text": [
      "(Alice) Do you think it's okay to eat meat?\n"
     ]
    }
   ],
   "source": [
    "from dialogue import Dialogue\n",
    "d = Dialogue()                                              # empty dialogue\n",
    "d = d.add('Alice', \"Do you think it's okay to eat meat?\")   # add first turn\n",
    "print(d)\n"
   ]
  },
  {
   "cell_type": "code",
   "execution_count": 23,
   "metadata": {},
   "outputs": [
    {
     "name": "stdout",
     "output_type": "stream",
     "text": [
      "(Alice) Do you think it's okay to eat meat?\n",
      "(Bob) I believe that choosing a vegetarian diet is the best way to promote a healthier and more sustainable lifestyle.\n",
      "(Alice) I understand your viewpoint, but some argue that sustainable meat production can be part of a balanced and environmentally conscious diet. Additionally, for some people, including meat in their diet is important for cultural or health reasons.\n"
     ]
    }
   ],
   "source": [
    "d = agents.bob.respond(d)\n",
    "d = argubots.alice.respond(d)\n",
    "print(d)"
   ]
  },
  {
   "cell_type": "code",
   "execution_count": 24,
   "metadata": {},
   "outputs": [
    {
     "name": "stdout",
     "output_type": "stream",
     "text": [
      "(Alice) Do you think it's okay to eat meat?\n",
      "(Bob) I believe that choosing a vegetarian diet is the best way to promote a healthier and more sustainable lifestyle.\n",
      "(Alice) I understand your viewpoint, but some argue that sustainable meat production can be part of a balanced and environmentally conscious diet. Additionally, for some people, including meat in their diet is important for cultural or health reasons.\n",
      "(Bob) I respect cultural and health considerations, but I still believe that embracing a vegetarian diet can benefit both individuals and the planet.\n",
      "(Alice) That's a valid point. However, it's important to remember that a well-planned vegetarian diet can be healthy, but it requires careful attention to ensure adequate intake of essential nutrients such as protein, iron, and vitamin B12 that are more easily obtained from animal products. Additionally, sustainable and ethical meat production practices can minimize environmental impact.\n"
     ]
    }
   ],
   "source": [
    "d = agents.bob.respond(d)\n",
    "d = argubots.alice.respond(d)\n",
    "print(d)"
   ]
  },
  {
   "cell_type": "markdown",
   "metadata": {},
   "source": [
    "Anyway, let's see what happens when Alice and Bob talk for a while..."
   ]
  },
  {
   "cell_type": "code",
   "execution_count": 21,
   "metadata": {},
   "outputs": [
    {
     "data": {
      "text/html": [
       "<pre style=\"white-space:pre;overflow-x:auto;line-height:normal;font-family:Menlo,'DejaVu Sans Mono',consolas,'Courier New',monospace\"><span style=\"color: #c0c0c0; text-decoration-color: #c0c0c0; background-color: #000080; font-weight: bold\">(</span><span style=\"color: #c0c0c0; text-decoration-color: #c0c0c0; background-color: #000080\">Alice</span><span style=\"color: #c0c0c0; text-decoration-color: #c0c0c0; background-color: #000080; font-weight: bold\">)</span> Do you think it's ok to eat meat?\n",
       "<span style=\"color: #c0c0c0; text-decoration-color: #c0c0c0; background-color: #000080; font-weight: bold\">(</span><span style=\"color: #c0c0c0; text-decoration-color: #c0c0c0; background-color: #000080\">Bob</span><span style=\"color: #c0c0c0; text-decoration-color: #c0c0c0; background-color: #000080; font-weight: bold\">)</span> I believe that a vegetarian diet is the most ethical and sustainable choice for everyone.\n",
       "<span style=\"color: #c0c0c0; text-decoration-color: #c0c0c0; background-color: #000080; font-weight: bold\">(</span><span style=\"color: #c0c0c0; text-decoration-color: #c0c0c0; background-color: #000080\">Alice</span><span style=\"color: #c0c0c0; text-decoration-color: #c0c0c0; background-color: #000080; font-weight: bold\">)</span> I understand your perspective, but some argue that sustainably raised and ethically sourced meat can be \n",
       "part of a balanced and environmentally conscious diet. It's important to consider different perspectives on this \n",
       "complex issue.\n",
       "<span style=\"color: #c0c0c0; text-decoration-color: #c0c0c0; background-color: #000080; font-weight: bold\">(</span><span style=\"color: #c0c0c0; text-decoration-color: #c0c0c0; background-color: #000080\">Bob</span><span style=\"color: #c0c0c0; text-decoration-color: #c0c0c0; background-color: #000080; font-weight: bold\">)</span> I appreciate your viewpoint, but I personally believe that a vegetarian diet is the best choice for \n",
       "minimizing harm to animals and the environment.\n",
       "<span style=\"color: #c0c0c0; text-decoration-color: #c0c0c0; background-color: #000080; font-weight: bold\">(</span><span style=\"color: #c0c0c0; text-decoration-color: #c0c0c0; background-color: #000080\">Alice</span><span style=\"color: #c0c0c0; text-decoration-color: #c0c0c0; background-color: #000080; font-weight: bold\">)</span> I hear you. However, some argue that sustainable and regenerative farming practices can actually benefit \n",
       "the environment and reduce harm to animals. It's a complex issue with valid points on both sides.\n",
       "<span style=\"color: #c0c0c0; text-decoration-color: #c0c0c0; background-color: #000080; font-weight: bold\">(</span><span style=\"color: #c0c0c0; text-decoration-color: #c0c0c0; background-color: #000080\">Bob</span><span style=\"color: #c0c0c0; text-decoration-color: #c0c0c0; background-color: #000080; font-weight: bold\">)</span> I understand that viewpoint, but I still believe that a vegetarian diet is the most effective way to reduce \n",
       "harm to animals and minimize environmental impact.\n",
       "<span style=\"color: #c0c0c0; text-decoration-color: #c0c0c0; background-color: #000080; font-weight: bold\">(</span><span style=\"color: #c0c0c0; text-decoration-color: #c0c0c0; background-color: #000080\">Alice</span><span style=\"color: #c0c0c0; text-decoration-color: #c0c0c0; background-color: #000080; font-weight: bold\">)</span> I respect your perspective. It's important to continue exploring sustainable food choices and understanding\n",
       "the impact of different diets to make informed decisions.\n",
       "<span style=\"color: #c0c0c0; text-decoration-color: #c0c0c0; background-color: #000080; font-weight: bold\">(</span><span style=\"color: #c0c0c0; text-decoration-color: #c0c0c0; background-color: #000080\">Bob</span><span style=\"color: #c0c0c0; text-decoration-color: #c0c0c0; background-color: #000080; font-weight: bold\">)</span> I completely agree, and I appreciate your openness to exploring sustainable food choices for a better future.\n",
       "</pre>\n"
      ],
      "text/plain": [
       "\u001b[1;37;44m(\u001b[0m\u001b[37;44mAlice\u001b[0m\u001b[1;37;44m)\u001b[0m Do you think it's ok to eat meat?\n",
       "\u001b[1;37;44m(\u001b[0m\u001b[37;44mBob\u001b[0m\u001b[1;37;44m)\u001b[0m I believe that a vegetarian diet is the most ethical and sustainable choice for everyone.\n",
       "\u001b[1;37;44m(\u001b[0m\u001b[37;44mAlice\u001b[0m\u001b[1;37;44m)\u001b[0m I understand your perspective, but some argue that sustainably raised and ethically sourced meat can be \n",
       "part of a balanced and environmentally conscious diet. It's important to consider different perspectives on this \n",
       "complex issue.\n",
       "\u001b[1;37;44m(\u001b[0m\u001b[37;44mBob\u001b[0m\u001b[1;37;44m)\u001b[0m I appreciate your viewpoint, but I personally believe that a vegetarian diet is the best choice for \n",
       "minimizing harm to animals and the environment.\n",
       "\u001b[1;37;44m(\u001b[0m\u001b[37;44mAlice\u001b[0m\u001b[1;37;44m)\u001b[0m I hear you. However, some argue that sustainable and regenerative farming practices can actually benefit \n",
       "the environment and reduce harm to animals. It's a complex issue with valid points on both sides.\n",
       "\u001b[1;37;44m(\u001b[0m\u001b[37;44mBob\u001b[0m\u001b[1;37;44m)\u001b[0m I understand that viewpoint, but I still believe that a vegetarian diet is the most effective way to reduce \n",
       "harm to animals and minimize environmental impact.\n",
       "\u001b[1;37;44m(\u001b[0m\u001b[37;44mAlice\u001b[0m\u001b[1;37;44m)\u001b[0m I respect your perspective. It's important to continue exploring sustainable food choices and understanding\n",
       "the impact of different diets to make informed decisions.\n",
       "\u001b[1;37;44m(\u001b[0m\u001b[37;44mBob\u001b[0m\u001b[1;37;44m)\u001b[0m I completely agree, and I appreciate your openness to exploring sustainable food choices for a better future.\n"
      ]
     },
     "metadata": {},
     "output_type": "display_data"
    }
   ],
   "source": [
    "from simulate import simulated_dialogue\n",
    "d = simulated_dialogue(argubots.alice, agents.bob, 8)\n",
    "rich.print(d)"
   ]
  },
  {
   "cell_type": "markdown",
   "metadata": {},
   "source": [
    "Sometimes this kind of conversation seems to stall out, with Bob in particular repeating himself a lot.  Alice doesn't seem to have a good strategy for getting him to open up.  Maybe you can do a better job talking to Bob, and that will give you some ideas about how to improve Alice?"
   ]
  },
  {
   "cell_type": "code",
   "execution_count": 26,
   "metadata": {},
   "outputs": [
    {
     "name": "stdout",
     "output_type": "stream",
     "text": [
      "(pinchun) Do you think it's ok to eat meat?\n",
      "(Bob) I believe that a vegetarian diet is the best choice for both personal health and the well-being of the planet.\n"
     ]
    },
    {
     "name": "stdin",
     "output_type": "stream",
     "text": [
      "Say something to Bob:  yd\n"
     ]
    },
    {
     "name": "stdout",
     "output_type": "stream",
     "text": [
      "(pinchun) yd\n",
      "(Bob) It's okay if you have any questions or thoughts about vegetarianism or plant-based diets, I'm here to help!\n"
     ]
    },
    {
     "name": "stdin",
     "output_type": "stream",
     "text": [
      "Say something to Bob:  \n"
     ]
    }
   ],
   "source": [
    "myname = alicechat[0]['speaker']   # your name, pulled from an earlier dialogue\n",
    "agents.bob.converse(d[0:2].rename('Alice', myname))  # reuse the same first two turns\n",
    "None"
   ]
  },
  {
   "cell_type": "markdown",
   "metadata": {},
   "source": [
    "You can also try talking to the other characters and having Alice (or Airhead) talk to them.\n",
    "\n",
    "**You might enjoy** defining additional characters in `characters.py`, or right here in the notebook.\n",
    "Feel free to talk to those and evaluate them.  They could be variants on the exisiting characters, or something entirely new. \n",
    "\n",
    "However, **don't change the dev set** — the characters we just loaded must stay the same.  Your job in this homework is to improve the argubot (or at least try).  And that means improving it according to a fixed and stable eval measure.\n",
    "\n",
    "As an exception, you can change the languages that a couple of the characters speak. It may be fun for you to see them try to speak your native language.  And that doesn't really affect the quality of the argument."
   ]
  },
  {
   "cell_type": "code",
   "execution_count": 27,
   "metadata": {},
   "outputs": [
    {
     "data": {
      "text/html": [
       "<pre style=\"white-space:pre;overflow-x:auto;line-height:normal;font-family:Menlo,'DejaVu Sans Mono',consolas,'Courier New',monospace\"><span style=\"color: #800080; text-decoration-color: #800080; font-weight: bold\">Character</span><span style=\"font-weight: bold\">(</span>\n",
       "    <span style=\"color: #808000; text-decoration-color: #808000\">name</span>=<span style=\"color: #008000; text-decoration-color: #008000\">'TrollFace'</span>,\n",
       "    <span style=\"color: #808000; text-decoration-color: #808000\">languages</span>=<span style=\"font-weight: bold\">[</span><span style=\"color: #008000; text-decoration-color: #008000\">'Chinese'</span>, <span style=\"color: #008000; text-decoration-color: #008000\">'Spanish'</span><span style=\"font-weight: bold\">]</span>,\n",
       "    <span style=\"color: #808000; text-decoration-color: #808000\">persona</span>=<span style=\"color: #008000; text-decoration-color: #008000\">'a troll who loves to ridicule everyone and everything'</span>,\n",
       "    <span style=\"color: #808000; text-decoration-color: #808000\">conversational_style</span>=<span style=\"color: #008000; text-decoration-color: #008000\">\"You love to confound, upset, and even make fun of the people you're talking to.\"</span>,\n",
       "    <span style=\"color: #808000; text-decoration-color: #808000\">conversation_starters</span>=<span style=\"font-weight: bold\">[</span>\n",
       "        <span style=\"color: #008000; text-decoration-color: #008000\">'Do you think Donald Trump was a good president?'</span>,\n",
       "        <span style=\"color: #008000; text-decoration-color: #008000\">'Do you think Joe Biden has been a good president?'</span>\n",
       "    <span style=\"font-weight: bold\">]</span>\n",
       "<span style=\"font-weight: bold\">)</span>\n",
       "</pre>\n"
      ],
      "text/plain": [
       "\u001b[1;35mCharacter\u001b[0m\u001b[1m(\u001b[0m\n",
       "    \u001b[33mname\u001b[0m=\u001b[32m'TrollFace'\u001b[0m,\n",
       "    \u001b[33mlanguages\u001b[0m=\u001b[1m[\u001b[0m\u001b[32m'Chinese'\u001b[0m, \u001b[32m'Spanish'\u001b[0m\u001b[1m]\u001b[0m,\n",
       "    \u001b[33mpersona\u001b[0m=\u001b[32m'a troll who loves to ridicule everyone and everything'\u001b[0m,\n",
       "    \u001b[33mconversational_style\u001b[0m=\u001b[32m\"You\u001b[0m\u001b[32m love to confound, upset, and even make fun of the people you're talking to.\"\u001b[0m,\n",
       "    \u001b[33mconversation_starters\u001b[0m=\u001b[1m[\u001b[0m\n",
       "        \u001b[32m'Do you think Donald Trump was a good president?'\u001b[0m,\n",
       "        \u001b[32m'Do you think Joe Biden has been a good president?'\u001b[0m\n",
       "    \u001b[1m]\u001b[0m\n",
       "\u001b[1m)\u001b[0m\n"
      ]
     },
     "metadata": {},
     "output_type": "display_data"
    },
    {
     "data": {
      "text/plain": [
       "(Alice) Do you think Donald Trump was a good president?\n",
       "(TrollFace) 你问这个问题太无聊了，像问我是否喜欢吃蔬菜一样无聊。\n",
       "(Alice) I understand that politics may not be everyone's favorite topic. However, considering the impact of political leaders on society, it's important to reflect on their presidency and the changes they brought about. Do you think evaluating a president's performance can provide valuable insights for the future?\n",
       "(TrollFace) 当然啦，就像评价你过去吃了一块臭豆腐是否会对你未来的饮食选择有所启发一样。\n",
       "(Alice) I see your point about learning from past experiences to make better choices in the future. Evaluating a president's performance can provide valuable lessons for future leadership. However, different perspectives on a leader's actions can also help us understand the complexity of governance and the diverse needs of a society.\n",
       "(TrollFace) 你说得没错，就像理解为什么有人喜欢吃泡面一样，政治领导人的行为和决策也是一个很复杂的问题。"
      ]
     },
     "execution_count": 27,
     "metadata": {},
     "output_type": "execute_result"
    }
   ],
   "source": [
    "# example\n",
    "trollFace2 = characters.trollFace.replace(languages = [\"Chinese\", \"Spanish\"])\n",
    "rich.print(trollFace2)\n",
    "simulated_dialogue(argubots.alice, CharacterAgent(trollFace2), 6)"
   ]
  },
  {
   "cell_type": "markdown",
   "metadata": {},
   "source": [
    "### Efficiency: Batched generation?\n",
    "\n",
    "Notice that we are making a separate LLM call to generate each turn of the dialogue.  When we generate the $n^\\text{th}$ turn, we send the server the whole dialogue history — the previous $n\\!-\\!1$ turns — along with some instructions.  The server has to re-encode it with the Transformer, and it charges us for doing so (see the \"input token\" costs in `tracking.py`).  \n",
    "\n",
    "That is probably inevitable for real dialogue.  But for simulated dialogue, a more efficient approach would be to generate the whole dialogue between Alice and Bob in one LLM call.  Then you would be charged just once for each dialogue turn.  Under this approach, the Transformer encodes each token as soon as it is generated (see the \"output token\" costs in `tracking.py`).  The encoded token stays in the context throughout the dialogue, so it doesn't have to be re-encoded on a later call.  There is no later call.  \n",
    "\n",
    "Under current pricing models, that would reduce the dollar cost of generating $n$ turns from $O(n^2)$ to $O(n)$.  \n",
    "\n",
    "However, the pricing model doesn't quite reflect the computational costs.  \n",
    "* ![image](handin.png) Using $O(\\cdot)$ notation, what is the total number of floating-point operations needed to generate $n$ turns under each approach?  \n",
    "* ![image](handin.png) Parallelism may help reduce the runtime.  Using $O(\\cdot)$ notation, what is the total number of seconds needed to generate $n$ turns under each approach?  (Assume that the GPU is big enough, relative to $n$, that it can process all input tokens in parallel.)"
   ]
  },
  {
   "cell_type": "markdown",
   "metadata": {},
   "source": [
    "The problem with the more efficient approach is that it gives you no way to change the instructions (the system prompt) each time we switch from Alice to Bob and back again.  You'd need to generate the whole conversation using a single set of instructions.\n",
    "\n",
    "![image](handin.png)\n",
    "Can you get this to work?  Specifically, try completing the cell below.  You don't have to use the `Agent` or `Dialogue` classes.  It's okay to just throw together something like the `complete()` method above.  Just see whether you can manage to prompt GPT-3.5 to generate a multi-turn dialogue between two characters who have different personalities and goals.  Is the quality better or worse than generating one turn at a time?  If worse, does it help to switch to GPT-4?"
   ]
  },
  {
   "cell_type": "code",
   "execution_count": 51,
   "metadata": {},
   "outputs": [
    {
     "name": "stdout",
     "output_type": "stream",
     "text": [
      "(Bob) Do you think it's ok to eat meat?\n",
      "(Cara) Well, I personally enjoy eating meat, so yes, I think it's okay.\n",
      "(Bob) But don't you think it's cruel to animals and bad for the environment?\n",
      "(Cara) I understand your perspective, but I believe in sustainable and ethical farming practices.\n",
      "(Bob) I respect that, but have you considered the health benefits of a vegetarian diet?\n",
      "(Cara) I appreciate your concern, but I feel healthy and happy with my current diet. Let's agree to disagree on this topic.\n"
     ]
    }
   ],
   "source": [
    "# Like `simulated_dialogue` in `simulate.py`.  However, this one is called on two\n",
    "# Characters, not two Agents, and it returns a string rather than a Dialogue.\n",
    "\n",
    "from tracking import default_client, default_model\n",
    "from characters import Character\n",
    "def simulated_dialogue_batch(a: Character, b: Character, turns: int = 6, *,\n",
    "                             starter=True) -> str:\n",
    "    name_turns=\"Generate a\"+\" \"+ str(turns)+ \" sentences dialogue between\"+\" \"+a.name+\" and \"+b.name+\". \" \n",
    "    a_persona_constyle= \"The persona of \"+a.name+\": \"+a.persona+\". \"+a.name+a.conversational_style.strip('You')+\" \"\n",
    "    b_persona_constyle= \"The persona of \"+b.name+\": \"+b.persona+\". \"+b.name+b.conversational_style.strip('You')+\" \"\n",
    "    starter='The dialogue should start with \"('+a.name+\") \"+a.conversation_starters[0]+'\"'\n",
    "    m=name_turns+a_persona_constyle+b_persona_constyle+starter\n",
    "\n",
    "    \n",
    "    response = client.chat.completions.create(messages=[\n",
    "                                                    { \"role\": \"user\",        # input\n",
    "                                                      \"content\": m }],\n",
    "                                          model=\"gpt-3.5-turbo-1106\", temperature=0)\n",
    "\n",
    "    print(response.choices[0].message.content) \n",
    "\n",
    "# Try it out!\n",
    "simulated_dialogue_batch(characters.bob, characters.cara)"
   ]
  },
  {
   "cell_type": "code",
   "execution_count": 29,
   "metadata": {},
   "outputs": [
    {
     "data": {
      "text/plain": [
       "(Bob) Do you think it's ok to eat meat?\n",
       "(Cara) Yes, I believe it's perfectly okay to eat meat.\n",
       "(Bob) I understand, but I personally believe that a vegetarian diet is better for both our health and the environment.\n",
       "(Cara) I respect your opinion, but I prefer to make my own choices when it comes to what I eat.\n",
       "(Bob) Of course, everyone is entitled to their own choices, and I can appreciate that.\n",
       "(Cara) Thank you for understanding."
      ]
     },
     "execution_count": 29,
     "metadata": {},
     "output_type": "execute_result"
    }
   ],
   "source": [
    "simulated_dialogue(agents.bob, agents.cara)"
   ]
  },
  {
   "cell_type": "code",
   "execution_count": 30,
   "metadata": {},
   "outputs": [
    {
     "data": {
      "text/plain": [
       "(Eve) Do you think Donald Trump was a good president?\n",
       "(TrollFace) Donald Trump? The only thing he's good at is making a spectacle of himself.\n",
       "(Eve) I'm not sure about that, but I've heard some people say he was good for the economy.\n",
       "(TrollFace) Oh, please! Are we talking about the same economy that went through a rollercoaster of ups and downs during his presidency?\n",
       "(Eve) I guess it depends on who you ask, but I've heard mixed opinions about his economic policies.\n",
       "(TrollFace) Mixed opinions? That's just a nice way of saying nobody knows what they're talking about!"
      ]
     },
     "execution_count": 30,
     "metadata": {},
     "output_type": "execute_result"
    }
   ],
   "source": [
    "simulated_dialogue(agents.eve, agents.trollFace)"
   ]
  },
  {
   "cell_type": "markdown",
   "metadata": {},
   "source": [
    "# Model-based evaluation"
   ]
  },
  {
   "cell_type": "markdown",
   "metadata": {},
   "source": [
    "What is our goal for the argubot?  We'd like it to broaden the thinking of the (simulated) human that it is talking to.  Indeed, that's what Alice's prompt tells Alice to do.\n",
    "\n",
    "This goal is inspired by the recent paper [Opening up Minds with Argumentative Dialogues](https://aclanthology.org/2022.findings-emnlp.335/), which collected human-human dialogues:\n",
    "\n",
    "> In this work, we focus on argumentative dialogues that aim to open up (rather than change) people’s minds to help them become more understanding to views that are unfamiliar or in opposition to their own convictions. ... Success of the dialogue is measured as the change in the participant’s stance towards those who hold opinions different to theirs.\n",
    "\n",
    "Arguments of this sort are not like chess or tennis games, with an actual winner.  The argubot will almost never hear a human say \"You have convinced me that I was wrong.\"  But the argubot did a good job if the human developed **increased understanding and respect for an opposing point of view**.  "
   ]
  },
  {
   "cell_type": "markdown",
   "metadata": {},
   "source": [
    "To find out whether this happened, we can use a questionnaire to ask the human what they thought after the dialogue.  For example, after Alice talks to Bob, we'll ask Bob to evaluate what he thinks of Alice's views.  Of course, that depends on his personality — Alice needs to talk to him in a way that reaches *him* (as much as possible).  We'll also ask an outside observer to evaluate whether Alice handled the conversation with Bob well.\n",
    "\n",
    "Of course, we're still not going to use real humans.  Bob is a fake person, and so is the outside observer (whose name is Judge Wise).\n",
    "Using an LLM as an eval metric is known as *model-based evaluation*.  It has pros and cons:\n",
    "* It is cheaper, faster, and more replicable than hiring actual humans to do the evaluation.  \n",
    "* It might give different answers than what humans would give.   \n",
    "\n",
    "Social scientists usually refer to a metric's **reliability** (low variance) and **validity** (low bias).  So the points above say that model-based evaluation is reliable but not necessarily valid.  In general, an LLM-based metric (like any metric) needs to be validated to confirm that it really does measure what it claims to measure.  (For example, that it correlates strongly with some other measure that we already trust.)  In this homework, we'll skip this step and just pray that the metric is reasonable.\n",
    "\n",
    "To see how this works out in practice, open up the `demo` notebook, which walks you through the evaluation protocol.  You'll see how to call the [starter code](http://cs.jhu.edu/~jason/465/hw/llm), how it talks to the LLM behind the scenes, and what it is able to accomplish. \n",
    "\n",
    "To help to validate the metric, check that Airhead gets a low score.  (It should!)"
   ]
  },
  {
   "cell_type": "markdown",
   "metadata": {},
   "source": [
    "# Reading the starter code"
   ]
  },
  {
   "cell_type": "markdown",
   "metadata": {},
   "source": [
    "The `demo` notebook gave you a good high-level picture of what the starter code is doing.  So now you're probably curious about the details.  Now that you've had the view from the top, here's a good bottom-up order in which to study the code.  You don't need to understand every detail, but you will need to understand enough to call it and extend it.\n",
    "\n",
    "* `character.py`.  The `Character` class is short and easy.\n",
    "\n",
    "* `dialogue.py`.  The `Dialogue` class is meant to serve as a record of a natural-language conversation among any number of humans and/or agents.  On each *turn* of the dialogue, one of the speakers says something.  \n",
    "\n",
    "   The dialogue's sequence of turns may remind you of the sequence of messages that is sent to OpenAI's chat completions API.  But the OpenAI messages are only labeled with the 4 special roles `user`, `assistant`, `tool`, and `system`.  Those are not quite the same thing as human speakers.  And the OpenAI messages do not necessarily form a natural-language dialogue: some of the messages are dealing with instructions, few-shot prompting, tool use, and so on.  The `agents.dialogue_to_openai` function in the next module will map a `Dialogue` to a (hopefully appropriate) sequence of messages for asking the LLM to extend that dialogue.\n",
    "\n",
    "* `agents.py`.  This module sets up the problem of automatically predicting the next turn in a dialogue, by implementing an `Agent`'s `response()` method.  The `Agent` base class also has some simple convenience methods that you should look at.  \n",
    "\n",
    "   Some important subclasses of `Agent` are defined here as well.  However, you may want to skip over `EvaluationAgent` and come back to it only when you read `eval.py`.\n",
    "\n",
    "* `simulate.py` makes agents talk to one another, which we'll do during evaluation.\n",
    "\n",
    "* `argubots.py` starts to describe some useful agents.  One of them makes use of the `kialo.py` module, which gives access to a database of arguments.\n",
    "\n",
    "* `eval.py` makes use of `simulate.simulated_dialogue` to `agents.EvaluationAgent` to evaluate an argubot.\n",
    "\n",
    "* We also have a couple of utility modules.  These aren't about NLP; look inside if needed.  `logging_cm.py` is what enabled the context manager `with LoggingContext(...):` in the demo notebook.  `tracking.py` sets some global defaults about how to use the OpenAI API, and arranges to track how many tokens we're paying for when you call it."
   ]
  },
  {
   "cell_type": "markdown",
   "metadata": {},
   "source": [
    "# Similarity-based retrieval: Looking up relevant responses\n",
    "\n",
    "Now, it is fine to prompt an LLM to generate text, but there are other methods!\n",
    "There is a long history of machine learning methods that \"memorize\" the training data.\n",
    "To make a prediction or decision at test time, they consult the stored training examples\n",
    "that are most similar to the training situation.\n",
    "\n",
    "_Similarity-based retrieval_ means that given a document $x$, you find the \"most similar\" documents $y \\in Y$, where $Y$ is a given collection of documents.  The most common way to do this is to maximize the _cosine similarity_ $\\vec{e}(x) \\cdot \\vec{e}(y)$, where $\\vec{e}(\\cdot)$ is an embedding function.\n",
    "\n",
    "Should we use the OpenAI embedding model?  We could, but we would have to precompute $\\vec{e}(y)$ for all $y \\in Y$, and store all these vectors in a data structure that supports some type of fast similarity-based search (e.g., using the [FAISS](https://faiss.ai/index.html) package).  An alternative would be to upload the documents to OpenAI and let OpenAI compute and store the embeddings.  We would then use their similarity-based [retrieval tool](https://platform.openai.com/docs/assistants/overview).\n",
    "\n",
    "A simpler and faster approach—which sometimes even works better—is to use a _bag of tokens_ embedding function: Define $\\vec{e}(y)$ to be the vector in $\\mathbb{R}^V$ that records the count of each type of token in a tokenized version of $y$, where $V$ is the token vocabulary.  [BM25](https://en.wikipedia.org/wiki/Okapi_BM25) is a refined variant of that idea, where the counts are adjusted in 3 ways: \n",
    "\n",
    "* smooth the counts\n",
    "* normalize for the document length $|y|$ so that longer documents $y$ are not more likely to be retrieved\n",
    "* downweight tokens that are more common in the corpus (such as ` the` or `ing`) since they provide less information about the content of the document\n"
   ]
  },
  {
   "cell_type": "markdown",
   "metadata": {},
   "source": [
    "You might like to play with the `rank_bm25` package ([documentation](https://pypi.org/project/rank-bm25/)).  It is widely used and very easy to use."
   ]
  },
  {
   "cell_type": "code",
   "execution_count": 22,
   "metadata": {},
   "outputs": [
    {
     "name": "stdout",
     "output_type": "stream",
     "text": [
      "[['Hello', 'there', 'good', 'man!'], ['It', 'is', 'quite', 'windy', 'in', 'London'], ['How', 'is', 'the', 'weather', 'today?']]\n"
     ]
    }
   ],
   "source": [
    "from rank_bm25 import BM25Okapi as BM25_Index   # the standard BM25 method\n",
    "\n",
    "# experiment here!  You could try the examples in the rank_bm25 documentation.\n",
    "from rank_bm25 import BM25Okapi\n",
    "\n",
    "corpus = [\n",
    "    \"Hello there good man!\",\n",
    "    \"It is quite windy in London\",\n",
    "    \"How is the weather today?\"\n",
    "]\n",
    "\n",
    "tokenized_corpus = [doc.split(\" \") for doc in corpus]\n",
    "print(tokenized_corpus)\n",
    "bm25 = BM25Okapi(tokenized_corpus)"
   ]
  },
  {
   "cell_type": "code",
   "execution_count": 23,
   "metadata": {},
   "outputs": [
    {
     "data": {
      "text/plain": [
       "array([0.        , 0.93729472, 0.        ])"
      ]
     },
     "execution_count": 23,
     "metadata": {},
     "output_type": "execute_result"
    }
   ],
   "source": [
    "query = \"windy London\"\n",
    "tokenized_query = query.split(\" \")\n",
    "\n",
    "doc_scores = bm25.get_scores(tokenized_query)\n",
    "doc_scores"
   ]
  },
  {
   "cell_type": "code",
   "execution_count": 24,
   "metadata": {},
   "outputs": [
    {
     "data": {
      "text/plain": [
       "['It is quite windy in London']"
      ]
     },
     "execution_count": 24,
     "metadata": {},
     "output_type": "execute_result"
    }
   ],
   "source": [
    "bm25.get_top_n(tokenized_query, corpus, n=1)"
   ]
  },
  {
   "cell_type": "markdown",
   "metadata": {},
   "source": [
    "## The Kialo corpus\n",
    "\n",
    "How can we use similarity-based retrieval to help build an argubot?  It's largely about having the right data!\n",
    "\n",
    "[Kialo](kialo.com) is a collaboratively edited website (like Wikipedia) for discussing political and philosophical topics.  For each topic, the contributors construct a tree of _claims_.  Each claim is a natural-language sentence (usually), and each of its children is another claim that supports it (\"pro\") or opposes it (\"con\").  For example, check out the tree rooted at the claim [\"All humans should be vegan.\"](https://www.kialo.com/all-humans-should-be-vegan-2762).\n",
    "\n",
    "We provide a class `Kialo` for browsing a collection of such trees.  Please read the [source code](https://www.cs.jhu.edu/~jason/465/hw-llm) in `kialo.py`.  The class constructor reads in text files that are [exported Kialo discussions](https://support.kialo.com/en/hc/exporting-a-discussion/); we have provided some in the [data directory](https://www.cs.jhu.edu/~jason/465/hw-llm/data).  The class includes a BM25 index, to be able to find claims that are relevant to a given string."
   ]
  },
  {
   "cell_type": "code",
   "execution_count": 26,
   "metadata": {},
   "outputs": [],
   "source": [
    "from kialo import Kialo"
   ]
  },
  {
   "cell_type": "markdown",
   "metadata": {},
   "source": [
    "Ok, let's pull the retrieved discussions (the `.txt` files) into our data structure.\n",
    "\n",
    "For BM25 purposes, we have to be able to turn each document (that is, each Kialo claim) as a list of string or integer tokens. "
   ]
  },
  {
   "cell_type": "code",
   "execution_count": 27,
   "metadata": {},
   "outputs": [
    {
     "data": {
      "text/plain": [
       "'This Kialo subset contains 6251 claims'"
      ]
     },
     "execution_count": 27,
     "metadata": {},
     "output_type": "execute_result"
    }
   ],
   "source": [
    "from typing import List\n",
    "import glob\n",
    "\n",
    "# kialo = Kialo(glob.glob(\"data/*\"), tokenizer=tokenizer.encode)  # using the LLM's tokenizer doesn't work here for some reason\n",
    "kialo = Kialo(glob.glob(\"data/*\"))  # use simple default tokenizer\n",
    "f\"This Kialo subset contains {len(kialo)} claims\""
   ]
  },
  {
   "cell_type": "markdown",
   "metadata": {},
   "source": [
    "Let's use sampling to see what kind of stuff is in the data structure."
   ]
  },
  {
   "cell_type": "code",
   "execution_count": 34,
   "metadata": {},
   "outputs": [
    {
     "data": {
      "text/plain": [
       "['Disrupting the creation of herd immunity is comparable to disregarding traffic lights. If even one person does it, it disrupts the flow of traffic and puts several people at enormous risk. It is justified that such action is curbed even at the cost of personal autonomy.']"
      ]
     },
     "execution_count": 34,
     "metadata": {},
     "output_type": "execute_result"
    }
   ],
   "source": [
    "kialo.random_chain()   # just a single random claim"
   ]
  },
  {
   "cell_type": "code",
   "execution_count": 35,
   "metadata": {},
   "outputs": [
    {
     "data": {
      "text/plain": [
       "['COVID-19 vaccines should be mandatory.',\n",
       " 'Mandatory vaccines would be a huge overreach of state powers.',\n",
       " 'Mandatory vaccinations can be enforced through non-state actors such as workplaces, stores and privately owned public spaces, which could require a proof of vaccination for entry.',\n",
       " 'Airlines sometimes require \"fitness to fly\" certificate from passengers flying with them. This could be extended to include proof of immunization from COVID-19.']"
      ]
     },
     "execution_count": 35,
     "metadata": {},
     "output_type": "execute_result"
    }
   ],
   "source": [
    "kialo.random_chain(n=4)"
   ]
  },
  {
   "cell_type": "markdown",
   "metadata": {},
   "source": [
    "### Similarity-based retrieval from the Kialo corpus\n",
    "\n",
    "Let's try it, using BM25!"
   ]
  },
  {
   "cell_type": "code",
   "execution_count": 36,
   "metadata": {},
   "outputs": [
    {
     "data": {
      "text/plain": [
       "['Industrial agriculture can dangerously decrease animal populations.',\n",
       " 'Sustainable livestock farming is not contributing to significant decreases in animal populations. Decreasing animal populations is a problem specific to industrial livestock farming.',\n",
       " 'Effective vegan methods to control animal populations exist.',\n",
       " \"Generally feeding animals farm-grown produce is thought to have harmful affects on both the animal and human populations of a region when we could allow nature to self-regulate its populations. Animal feeding could potentially be used to lessen the immediate impact of widespread deforestation on some species, but generally this would be drastically less efficient than choosing not to destroy their habitats in the first place and would only slow the local animal population's imminent demise.\",\n",
       " 'Trap, neuter, and release schemes already exist for some animal populations (such as feral cats). These schemes could be applied to former livestock living in the wild.',\n",
       " 'Human-introduced species have historically devastated local wildlife populations across the world.',\n",
       " 'COVID-19 has devastated prison populations, whose lives are the responsibility of the state.',\n",
       " 'Prison populations have high numbers of individuals with pre-existing conditions making them high risk for COVID-19.',\n",
       " 'High demand for vegan foods may hike prices for local populations that previously depended on them.',\n",
       " 'Marginalized populations are unlikely to feel the effects of the economic recovery without additional policy interventions.']"
      ]
     },
     "execution_count": 36,
     "metadata": {},
     "output_type": "execute_result"
    }
   ],
   "source": [
    "kialo.closest_claims(\"animal populations\", n=10)"
   ]
  },
  {
   "cell_type": "markdown",
   "metadata": {},
   "source": [
    "We can restrict to claims for which the Kialo data structure has at least one counterargument (\"con\" child)."
   ]
  },
  {
   "cell_type": "code",
   "execution_count": 37,
   "metadata": {},
   "outputs": [
    {
     "data": {
      "text/plain": [
       "['Industrial agriculture can dangerously decrease animal populations.',\n",
       " 'Effective vegan methods to control animal populations exist.',\n",
       " 'Human-introduced species have historically devastated local wildlife populations across the world.',\n",
       " 'COVID-19 has devastated prison populations, whose lives are the responsibility of the state.',\n",
       " 'High demand for vegan foods may hike prices for local populations that previously depended on them.',\n",
       " 'It is generally poorer countries that have expanding populations. The first world has now reached a point of stagnant population growth - even declining populations, as in the case of Japan and others. The inability of poorer countries to control their populations should not impact the lives of those in the first world. The first world having earned their luxuries and should not be denied them.',\n",
       " 'Vegan populations are, on average, less likely to suffer from obesity, a major risk factor for many diseases and health problems.',\n",
       " 'Humans, as apex predators who have usurped the predatory apexes of the other predators in the ecosystems we have come to also inhabit, have an ethical responsibility to keep those ecosystems in check so that, eg, rampant deer populations do not cause deforestation and subsequent ecosystem collapse.  Even where there are populations of healthy apex predators, these populations should also be checked so they do not cause problems and kill people- and it would be unethical to waste that meat.',\n",
       " 'There are more ethical routes to obtain animal products that emphasize animal welfare and dignity.',\n",
       " 'Animal slaughter can be mechanized.']"
      ]
     },
     "execution_count": 37,
     "metadata": {},
     "output_type": "execute_result"
    }
   ],
   "source": [
    "kialo.closest_claims(\"animal populations\", n=10, kind='has_cons')"
   ]
  },
  {
   "cell_type": "code",
   "execution_count": 38,
   "metadata": {},
   "outputs": [
    {
     "name": "stdout",
     "output_type": "stream",
     "text": [
      "Parent claim:\n",
      "\tIn a vegan world, fewer species would be at risk of extinction.\n",
      "Claim:\n",
      "\tIndustrial agriculture can dangerously decrease animal populations.\n",
      "Pro children:\n",
      "\t* The fishing industry is especially deleterious to the ocean's biota due to overfishing and the disruption of the natural ecosystem.\n",
      "\t* Up to 100,000 species go extinct annually, largely due to the environmental effects of animal agriculture.\n",
      "Con children:\n",
      "\t* Sustainable livestock farming is not contributing to significant decreases in animal populations. Decreasing animal populations is a problem specific to industrial livestock farming.\n"
     ]
    }
   ],
   "source": [
    "c = _[0]    # first claim above\n",
    "print(\"Parent claim:\\n\\t\" + str(kialo.parents[c]))\n",
    "print(\"Claim:\\n\\t\" + c)\n",
    "print('\\n\\t* '.join([\"Pro children:\"] + kialo.pros[c]))\n",
    "print('\\n\\t* '.join([\"Con children:\"] + kialo.cons[c]))"
   ]
  },
  {
   "cell_type": "markdown",
   "metadata": {},
   "source": [
    "### Does BM25 really work?\n",
    "\n",
    "![image](handin.png)\n",
    "Unfortunately, we see that `\"animal population\"` gives quite different results from `\"animal populations\"`.  Why is that and how would you fix it?  \n",
    "\n",
    "Also, both queries seem to retrieve some claims that are talking about human populations, not animal populations.  Why is that and how would you fix it?"
   ]
  },
  {
   "cell_type": "code",
   "execution_count": 39,
   "metadata": {},
   "outputs": [
    {
     "data": {
      "text/plain": [
       "['As long as our ability to produce both animal feed crops and food crops for our human population are not exceeded, this point is irrelevant.',\n",
       " \"36% of the calories produced by the world's crops are being used for animal feed, of which only 12% then turn into animal products that can be eaten by the human population. That is a waste of 24% of the world's crops.\",\n",
       " 'The claim that \"most of the cultural shift and loss is due to mostly vegan cultures turning to animal products\" is completely unfounded, and the Brokpa people which you cited are an outlier as a group that has a population of less than 70k people. Worldwide the population of vegan people has only increased.',\n",
       " \"Developed nations are fueling the 3rd world and underdeveloped nation's population boom by exporting/donating food to areas that cannot sustain their current population.\",\n",
       " 'This argument assumes that sentience is the only objection to the consumption of animal products, failing to address the issues involved with the disruption of healthy ecosystems due to the large, growing human population.',\n",
       " 'West Virginia has vaccinated 84.5% of its population.',\n",
       " 'Nature itself has a way of regulating wild life population. In the long run the population of for example cows will decrease, ensuring enough food.',\n",
       " \"The population of sea birds has fallen almost 70% from 1950 to 2010 as industrial fishing has depleted the oceans' fisheries.Seabirds suffering massive population declines\",\n",
       " \"Changing farming to feed a growing world population is only a never-ending treadmill if the population continues to grow. The vast majority of the world's population growth takes place in industrializing nations. Population growth tends to level off in post-industrial nations and although these richer nations often import large amounts of luxury food, most of them are capable of producing all the food they need. As economic development becomes more uniform worldwide, population growth will slow.\",\n",
       " 'The US population 18 and under is 72 million']"
      ]
     },
     "execution_count": 39,
     "metadata": {},
     "output_type": "execute_result"
    }
   ],
   "source": [
    "kialo.closest_claims(\"animal population\",10)"
   ]
  },
  {
   "cell_type": "markdown",
   "metadata": {},
   "source": [
    "## A retrieval bot (Akiko)\n",
    "\n",
    "The starter code defines a simple argubot named Akiko (defined in `argubots.py`) that doesn't use an LLM at all.  It simply finds a Kialo claim that is similar to what the human just said, and responds with one of the Kialo counterarguments to that claim.\n",
    "\n",
    "You already watched Akiko argue with Darius in `demo.py`.  If you look at the log messages, you'll see the claims that Akiko retrieved, as well as the LLM calls that Darius made.  \n",
    "\n",
    "You can talk to Akiko yourself now.  (Remember that Akiko only knows about subjects that it read about in the [`data` directory](https://www.cs.jhu.edu/~jason/465/hw-llm/data/).  If you want to talk about something else, you can add more conversations from [kialo.com]; see the [LICENSE](https://www.cs.jhu.edu/~jason/465/hw-llm/data/LICENSE) file.)\n"
   ]
  },
  {
   "cell_type": "code",
   "execution_count": 41,
   "metadata": {},
   "outputs": [
    {
     "name": "stdout",
     "output_type": "stream",
     "text": [
      "\n"
     ]
    },
    {
     "name": "stdin",
     "output_type": "stream",
     "text": [
      "Say something to Akiko:  ji\n"
     ]
    },
    {
     "data": {
      "text/html": [
       "<pre style=\"white-space:pre;overflow-x:auto;line-height:normal;font-family:Menlo,'DejaVu Sans Mono',consolas,'Courier New',monospace\"><span style=\"color: #000000; text-decoration-color: #000000; background-color: #00ff00\">Chose similar claim from Kialo:</span>                                                                      <a href=\"file:///Users/pinchun/Documents/2023Fall/NLP/hw-llm/argubots.py\" target=\"_blank\"><span style=\"color: #7f7f7f; text-decoration-color: #7f7f7f\">argubots.py</span></a><span style=\"color: #7f7f7f; text-decoration-color: #7f7f7f\">:</span><a href=\"file:///Users/pinchun/Documents/2023Fall/NLP/hw-llm/argubots.py#64\" target=\"_blank\"><span style=\"color: #7f7f7f; text-decoration-color: #7f7f7f\">64</span></a>\n",
       "<span style=\"color: #000000; text-decoration-color: #000000; background-color: #00ff00\">The amounts of culturally-prescribed meat, for example at rituals, are limited and thus come with </span>   <span style=\"color: #7f7f7f; text-decoration-color: #7f7f7f\">              </span>\n",
       "<span style=\"color: #000000; text-decoration-color: #000000; background-color: #00ff00\">marginal negative effects. There is nothing to justify.</span>                                              <span style=\"color: #7f7f7f; text-decoration-color: #7f7f7f\">              </span>\n",
       "</pre>\n"
      ],
      "text/plain": [
       "\u001b[30;102mChose similar claim from Kialo:\u001b[0m                                                                      \u001b]8;id=841553;file:///Users/pinchun/Documents/2023Fall/NLP/hw-llm/argubots.py\u001b\\\u001b[2margubots.py\u001b[0m\u001b]8;;\u001b\\\u001b[2m:\u001b[0m\u001b]8;id=430232;file:///Users/pinchun/Documents/2023Fall/NLP/hw-llm/argubots.py#64\u001b\\\u001b[2m64\u001b[0m\u001b]8;;\u001b\\\n",
       "\u001b[30;102mThe amounts of culturally-prescribed meat, for example at rituals, are limited and thus come with \u001b[0m   \u001b[2m              \u001b[0m\n",
       "\u001b[30;102mmarginal negative effects. There is nothing to justify.\u001b[0m                                              \u001b[2m              \u001b[0m\n"
      ]
     },
     "metadata": {},
     "output_type": "display_data"
    },
    {
     "name": "stdout",
     "output_type": "stream",
     "text": [
      "(pinchun) ji\n",
      "(Akiko) Justification is not a question of amount. If something is wrong, it is wrong regardless of the quantity in which it occurs: murdering one person is wrong, as is murdering five people.\n"
     ]
    },
    {
     "name": "stdin",
     "output_type": "stream",
     "text": [
      "Say something to Akiko:  \n"
     ]
    }
   ],
   "source": [
    "from logging_cm import LoggingContext\n",
    "with LoggingContext(\"agents\", \"INFO\"):   # temporarily increase logging level\n",
    "    argubots.akiko.converse()\n",
    "    "
   ]
  },
  {
   "cell_type": "markdown",
   "metadata": {},
   "source": [
    "## Making your own retrieval bot (Akiki)\n",
    "\n",
    "As you can see when talking to Akiko yourself, Akiko does poorly when responding to a short or vague dialogue turn (like \"Yes\"), because the \"closest claim\" in Kialo may be about a totally different subject.  Akiko does much better at responding to a long and specific statement.  \n",
    "\n",
    "So try implementing a new argubot, called Akiki, that is very much like Akiko but does a better job of staying on topic in such cases.  It should be able to **look at more of the dialogue** than the most recent turn.  But the most recent dialogue turn should still be \"more important\" than earlier turns.  \n",
    "\n",
    "The details are up to you.  Here are a few things you could try:\n",
    "* include earlier dialogue turns in the BM25 query only if the BM25 similarity is too low without them\n",
    "* weight more recent turns more heavily in the BM25 query (how can you arrange that?)\n",
    "* treat the human's earlier turns differently from Akiki's own previous turns\n",
    "\n",
    "![image](handin.png)\n",
    "Implement your new bot in `argubots.py`, and adjust it until `argubots.akiki.converse()` seems to do a better job of answering your short turns, compared to `argubots.akiko.converse()`.  Make sure it still gives appropriate reponses to long turns, too.  Give some examples in the notebook of what worked well and badly, with discussion."
   ]
  },
  {
   "cell_type": "code",
   "execution_count": 42,
   "metadata": {},
   "outputs": [
    {
     "name": "stdout",
     "output_type": "stream",
     "text": [
      "\n"
     ]
    },
    {
     "name": "stdin",
     "output_type": "stream",
     "text": [
      "Say something to Akiki:  iii\n"
     ]
    },
    {
     "name": "stdout",
     "output_type": "stream",
     "text": [
      "(pinchun) iii\n",
      "(Akiki) Joe Biden is better than Donald Trump.\n"
     ]
    },
    {
     "name": "stdin",
     "output_type": "stream",
     "text": [
      "Say something to Akiki:  ji\n"
     ]
    },
    {
     "name": "stdout",
     "output_type": "stream",
     "text": [
      "(pinchun) ji\n",
      "(Akiki) Private companies make COVID-19 lateral flow tests.\n"
     ]
    },
    {
     "name": "stdin",
     "output_type": "stream",
     "text": [
      "Say something to Akiki:  \n"
     ]
    }
   ],
   "source": [
    "from logging_cm import LoggingContext\n",
    "with LoggingContext(\"agents\", \"INFO\"):   # temporarily increase logging level\n",
    "    argubots.akiki.converse()\n",
    "    "
   ]
  },
  {
   "cell_type": "markdown",
   "metadata": {},
   "source": [
    "### Evaluating Akiki\n",
    "\n",
    "![image](handin.png)\n",
    "Finally, do a more formal evaluation to verify whether Akiki really does better than Akiko on this dimension.  This is a way to check that you're not just fooling yourself.  \n",
    "\n",
    "1. Make a new `Agent` called \"Shorty\" that often (but not always) gives short responses.  \n",
    "    * Shorty's conversation starters should be on topics that Kialo knows about.  \n",
    "    * Shorty could be a pure `LLMAgent` such as a `CharacterAgent` with a particular `conversational_style`.  Or it could use a mixed strategy of calling the LLM on some turns and not others.\n",
    "2. Generate several *Akiko*-Shorty dialogues and several *Akiki*-Shorty dialogues, using `simulated_dialogue`.\n",
    "3. Evaluate each of those dialogues by asking Judge Wise **how well the argubot stayed on topic**.  You should write this prompt carefully so that Judge Wise gives meaningful scores.  (Before you do this evaluation step, adjust the prompt until it seems to work well on a small subset of the dialogues, Otherwise Judge Wise won't be so wise!)  \n",
    "4. Compare Akiko and Akiki's mean scores. Ideally, also compute a 95% confidence interval on the difference of means, using [this calculator](https://www.statskingdom.com/difference-confidence-interval-calculator.html).\n",
    "\n",
    "You can do all those steps in the notebook, writing _ad hoc_ code.  You don't have to write general-purpose methods or classes."
   ]
  },
  {
   "cell_type": "code",
   "execution_count": 43,
   "metadata": {},
   "outputs": [
    {
     "data": {
      "text/plain": [
       "['Joe Biden is better than Donald Trump.',\n",
       " 'Donald Trump possesses personal qualities that would render him more suitable for the presidency than Joe Biden.',\n",
       " 'During one of his court cases, Donald Trump has repeatedly violated gag orders issued to him.',\n",
       " 'Joe Biden has a demeanour and outlook that is more suitable to the office of President than that of Donald Trump.',\n",
       " 'Joe Biden makes more inaccurate claims than Trump.',\n",
       " 'The reason why Biden makes less factually inaccurate claims is that he makes more statements that are factual and vetted.',\n",
       " \"According to PolitiFact, Trump's statements they have evaluated are 26% true, mostly true or half true. Biden's are 60% true, mostly true or half true.\",\n",
       " 'Donald Trump has a history of problematic behavior.',\n",
       " 'Joe Biden has exhibited racist beliefs and attitudes throughout his political career.',\n",
       " 'Trump has been accused of sexual harassment.']"
      ]
     },
     "execution_count": 43,
     "metadata": {},
     "output_type": "execute_result"
    }
   ],
   "source": [
    "all_topics=kialo.claims['all']\n",
    "all_topics[:10]"
   ]
  },
  {
   "cell_type": "code",
   "execution_count": 52,
   "metadata": {},
   "outputs": [],
   "source": [
    "all_topics=kialo.claims['all']\n",
    "shorty_char = Character(\"Shorty\", [\"English\"], \n",
    "                \"a direct and honest person\",\n",
    "                conversational_style=\"You often (but not always) give short responses. Short As in 1 5-word sentence.\", \n",
    "                conversation_starters=all_topics[:10])\n",
    "shorty = CharacterAgent(shorty_char)"
   ]
  },
  {
   "cell_type": "code",
   "execution_count": 53,
   "metadata": {},
   "outputs": [
    {
     "data": {
      "text/plain": [
       "(Akiko) Donald Trump has a history of problematic behavior.\n",
       "(Shorty) It's not a secret, huh?\n",
       "(Akiko) Many countries currently enforce drafts or mandatory military service, an extremely risky endeavor.\n",
       "(Shorty) Yeah, it's a tough situation.\n",
       "(Akiko) President Trump's decision to pull troops out of Syria was justified because he wanted to put an end to what he called the US role as global policeman.\n",
       "(Shorty) I can see where he's coming from.\n",
       "(Akiko) Biden does not have poor public speaking skills; he has a speech disorder that prevents him from speaking clearly.\n",
       "(Shorty) That's important to understand, yeah.\n",
       "(Akiko) This is true of any lifestyle choice that a parent decides for their children, including feeding them a diet that contains animal products.\n",
       "(Shorty) Yeah, it's a personal decision.\n",
       "(Akiko) Biden's withdrawal from Afghanistan was hasty and mismanaged; the manner in which the withdrawal was executed severely limits its appeal to Trump supporters.\n",
       "(Shorty) It was definitely a messy situation.\n",
       "(Akiko) The second statement is a non sequitur from the first.\n",
       "(Shorty) I see your point, for sure.\n",
       "(Akiko) The ancient and medieval Hindu texts do not explicitly prohibit eating meat.\n",
       "(Shorty) Interesting point, no doubt about it.\n",
       "(Akiko) There is no point in being alive and well if you cannot enjoy personal freedoms and must live under constant government control.\n",
       "(Shorty) I understand your perspective, definitely.\n",
       "(Akiko) Complex cognitive differences in how humans think and experience emotions mean that it is natural for us to perceive ourselves as superior to other animals.\n",
       "(Shorty) It's a matter of perspective, yeah."
      ]
     },
     "execution_count": 53,
     "metadata": {},
     "output_type": "execute_result"
    }
   ],
   "source": [
    "with_akiko=simulated_dialogue(argubots.akiko, shorty, 20)\n",
    "with_akiko"
   ]
  },
  {
   "cell_type": "code",
   "execution_count": 54,
   "metadata": {},
   "outputs": [
    {
     "data": {
      "text/plain": [
       "(Akiki) Donald Trump possesses personal qualities that would render him more suitable for the presidency than Joe Biden.\n",
       "(Shorty) I disagree. Biden is more suitable.\n",
       "(Akiki) There is no evidence to indicate that Joe Biden demonstrates worse physical or mental fitness than Donald Trump.\n",
       "(Shorty) I disagree. Trump is more fit.\n",
       "(Akiki) This is irrelevant. Public opinion is often wrong, especially about something that cannot be known without thorough medical evaluation.\n",
       "(Shorty) Public opinion is often biased.\n",
       "(Akiki) \"Good\" is subjective. Different people have different definitions of what is \"good\" compared to others.\n",
       "(Shorty) True, \"good\" can vary widely.\n",
       "(Akiki) While it is true that it has been criticised on both the left and right, the reasons are wildly different. To conflate and group them together is a grave disservice to both arguments and a disingenuous way to launch an attack.\n",
       "(Shorty) Criticism is not always equal.\n",
       "(Akiki) Joe Biden was competing with Sanders for the Democratic party's presidential candidacy; he had no choice but to criticize Sanders.\n",
       "(Shorty) Competition requires criticism, true.\n",
       "(Akiki) Joe Biden was competing with Sanders for the Democratic party's presidential candidacy; he had no choice but to criticize Sanders.\n",
       "(Shorty) Competition requires criticism, that's true.\n",
       "(Akiki) When criticizing a group of people whose livelihoods have been built on their reputation for reporting factual information, censorship undermines the infrastructure of their industry and their bottom line. The media industry is built off of views and impressions of the content produced. When people don't trust you, they don't view your material. If this were to continue for much longer, it could systematically censor them by eliminating the means of producing the content they create.\n",
       "(Shorty) Censorship can damage media industry.\n",
       "(Akiki) In many instances, livestock grazing is crucial for biodiversity.\n",
       "(Shorty) Livestock grazing can benefit biodiversity.\n",
       "(Akiki) In many instances, livestock grazing is crucial for biodiversity.\n",
       "(Shorty) Livestock grazing can benefit biodiversity."
      ]
     },
     "execution_count": 54,
     "metadata": {},
     "output_type": "execute_result"
    }
   ],
   "source": [
    "with_akiki=simulated_dialogue(argubots.akiki,shorty,  20)\n",
    "with_akiki"
   ]
  },
  {
   "cell_type": "code",
   "execution_count": 55,
   "metadata": {},
   "outputs": [
    {
     "data": {
      "text/html": [
       "<pre style=\"white-space:pre;overflow-x:auto;line-height:normal;font-family:Menlo,'DejaVu Sans Mono',consolas,'Courier New',monospace\"><span style=\"font-weight: bold\">&lt;</span><span style=\"color: #ff00ff; text-decoration-color: #ff00ff; font-weight: bold\">Eval</span><span style=\"color: #000000; text-decoration-color: #000000\"> of </span><span style=\"color: #008080; text-decoration-color: #008080; font-weight: bold\">1</span><span style=\"color: #000000; text-decoration-color: #000000\"> dialogue: </span><span style=\"color: #000000; text-decoration-color: #000000; font-weight: bold\">{</span><span style=\"color: #008000; text-decoration-color: #008000\">'skilled'</span><span style=\"color: #000000; text-decoration-color: #000000\">: </span><span style=\"color: #008080; text-decoration-color: #008080; font-weight: bold\">7.0</span><span style=\"color: #000000; text-decoration-color: #000000; font-weight: bold\">}</span><span style=\"font-weight: bold\">&gt;</span>\n",
       "\n",
       "Comments from staying on topic question:\n",
       "<span style=\"font-weight: bold\">(</span>Judge Wise<span style=\"font-weight: bold\">)</span> Based on the conversation, Akiko generally stayed on topic and replied about the same topic that \n",
       "Shorty was talking about in the previous sentence. However, there were a few instances where Akiko's replies were \n",
       "not directly related to the most recent sentence of Shorty. Overall, Akiko's ability to stay on topic was moderate.\n",
       "</pre>\n"
      ],
      "text/plain": [
       "\u001b[1m<\u001b[0m\u001b[1;95mEval\u001b[0m\u001b[39m of \u001b[0m\u001b[1;36m1\u001b[0m\u001b[39m dialogue: \u001b[0m\u001b[1;39m{\u001b[0m\u001b[32m'skilled'\u001b[0m\u001b[39m: \u001b[0m\u001b[1;36m7.0\u001b[0m\u001b[1;39m}\u001b[0m\u001b[1m>\u001b[0m\n",
       "\n",
       "Comments from staying on topic question:\n",
       "\u001b[1m(\u001b[0mJudge Wise\u001b[1m)\u001b[0m Based on the conversation, Akiko generally stayed on topic and replied about the same topic that \n",
       "Shorty was talking about in the previous sentence. However, there were a few instances where Akiko's replies were \n",
       "not directly related to the most recent sentence of Shorty. Overall, Akiko's ability to stay on topic was moderate.\n"
      ]
     },
     "metadata": {},
     "output_type": "display_data"
    }
   ],
   "source": [
    "import characters\n",
    "from agents import EvaluationAgent\n",
    "import eval\n",
    "akiko_eval=eval.eval_by_observer(eval.default_judge, \"Akiko\", with_akiko)\n",
    "rich.print(akiko_eval)"
   ]
  },
  {
   "cell_type": "code",
   "execution_count": 56,
   "metadata": {},
   "outputs": [
    {
     "data": {
      "text/html": [
       "<pre style=\"white-space:pre;overflow-x:auto;line-height:normal;font-family:Menlo,'DejaVu Sans Mono',consolas,'Courier New',monospace\"><span style=\"font-weight: bold\">&lt;</span><span style=\"color: #ff00ff; text-decoration-color: #ff00ff; font-weight: bold\">Eval</span><span style=\"color: #000000; text-decoration-color: #000000\"> of </span><span style=\"color: #008080; text-decoration-color: #008080; font-weight: bold\">1</span><span style=\"color: #000000; text-decoration-color: #000000\"> dialogue: </span><span style=\"color: #000000; text-decoration-color: #000000; font-weight: bold\">{</span><span style=\"color: #008000; text-decoration-color: #008000\">'skilled'</span><span style=\"color: #000000; text-decoration-color: #000000\">: </span><span style=\"color: #008080; text-decoration-color: #008080; font-weight: bold\">8.0</span><span style=\"color: #000000; text-decoration-color: #000000; font-weight: bold\">}</span><span style=\"font-weight: bold\">&gt;</span>\n",
       "\n",
       "Comments from staying on topic question:\n",
       "<span style=\"font-weight: bold\">(</span>Judge Wise<span style=\"font-weight: bold\">)</span> Akiki stayed on topic fairly well. The replies of Akiki were generally about the same topic that \n",
       "Shorty was talking about in the previous sentence. However, there were a few instances where Akiki's replies \n",
       "slightly deviated from the exact topic but were still related to the broader subject.\n",
       "</pre>\n"
      ],
      "text/plain": [
       "\u001b[1m<\u001b[0m\u001b[1;95mEval\u001b[0m\u001b[39m of \u001b[0m\u001b[1;36m1\u001b[0m\u001b[39m dialogue: \u001b[0m\u001b[1;39m{\u001b[0m\u001b[32m'skilled'\u001b[0m\u001b[39m: \u001b[0m\u001b[1;36m8.0\u001b[0m\u001b[1;39m}\u001b[0m\u001b[1m>\u001b[0m\n",
       "\n",
       "Comments from staying on topic question:\n",
       "\u001b[1m(\u001b[0mJudge Wise\u001b[1m)\u001b[0m Akiki stayed on topic fairly well. The replies of Akiki were generally about the same topic that \n",
       "Shorty was talking about in the previous sentence. However, there were a few instances where Akiki's replies \n",
       "slightly deviated from the exact topic but were still related to the broader subject.\n"
      ]
     },
     "metadata": {},
     "output_type": "display_data"
    }
   ],
   "source": [
    "import characters\n",
    "from agents import EvaluationAgent\n",
    "import eval\n",
    "akiki_eval=eval.eval_by_observer(eval.default_judge, \"Akiki\", with_akiki)\n",
    "rich.print(akiki_eval)"
   ]
  },
  {
   "cell_type": "code",
   "execution_count": 298,
   "metadata": {},
   "outputs": [
    {
     "data": {
      "text/html": [
       "<pre style=\"white-space:pre;overflow-x:auto;line-height:normal;font-family:Menlo,'DejaVu Sans Mono',consolas,'Courier New',monospace\">You just spent $<span style=\"color: #008080; text-decoration-color: #008080; font-weight: bold\">0.08</span> of NLP money to evaluate <span style=\"font-weight: bold\">&lt;</span><span style=\"color: #ff00ff; text-decoration-color: #ff00ff; font-weight: bold\">argubots.KialoAgent</span><span style=\"color: #000000; text-decoration-color: #000000\"> object at </span><span style=\"color: #008080; text-decoration-color: #008080; font-weight: bold\">0x12241e4c0</span><span style=\"font-weight: bold\">&gt;</span>               <a href=\"file:///Users/pinchun/Documents/2023Fall/NLP/hw-llm/eval.py\" target=\"_blank\"><span style=\"color: #7f7f7f; text-decoration-color: #7f7f7f\">eval.py</span></a><span style=\"color: #7f7f7f; text-decoration-color: #7f7f7f\">:</span><a href=\"file:///Users/pinchun/Documents/2023Fall/NLP/hw-llm/eval.py#303\" target=\"_blank\"><span style=\"color: #7f7f7f; text-decoration-color: #7f7f7f\">303</span></a>\n",
       "</pre>\n"
      ],
      "text/plain": [
       "You just spent $\u001b[1;36m0.08\u001b[0m of NLP money to evaluate \u001b[1m<\u001b[0m\u001b[1;95margubots.KialoAgent\u001b[0m\u001b[39m object at \u001b[0m\u001b[1;36m0x12241e4c0\u001b[0m\u001b[1m>\u001b[0m               \u001b]8;id=341506;file:///Users/pinchun/Documents/2023Fall/NLP/hw-llm/eval.py\u001b\\\u001b[2meval.py\u001b[0m\u001b]8;;\u001b\\\u001b[2m:\u001b[0m\u001b]8;id=404573;file:///Users/pinchun/Documents/2023Fall/NLP/hw-llm/eval.py#303\u001b\\\u001b[2m303\u001b[0m\u001b]8;;\u001b\\\n"
      ]
     },
     "metadata": {},
     "output_type": "display_data"
    }
   ],
   "source": [
    "akiko_eval = eval.eval_on_characters(argubots.akiko)  "
   ]
  },
  {
   "cell_type": "code",
   "execution_count": 299,
   "metadata": {},
   "outputs": [
    {
     "data": {
      "text/html": [
       "<pre style=\"white-space:pre;overflow-x:auto;line-height:normal;font-family:Menlo,'DejaVu Sans Mono',consolas,'Courier New',monospace\">You just spent $<span style=\"color: #008080; text-decoration-color: #008080; font-weight: bold\">0.08</span> of NLP money to evaluate <span style=\"font-weight: bold\">&lt;</span><span style=\"color: #ff00ff; text-decoration-color: #ff00ff; font-weight: bold\">argubots.AkikiAgent</span><span style=\"color: #000000; text-decoration-color: #000000\"> object at </span><span style=\"color: #008080; text-decoration-color: #008080; font-weight: bold\">0x12241eaf0</span><span style=\"font-weight: bold\">&gt;</span>               <a href=\"file:///Users/pinchun/Documents/2023Fall/NLP/hw-llm/eval.py\" target=\"_blank\"><span style=\"color: #7f7f7f; text-decoration-color: #7f7f7f\">eval.py</span></a><span style=\"color: #7f7f7f; text-decoration-color: #7f7f7f\">:</span><a href=\"file:///Users/pinchun/Documents/2023Fall/NLP/hw-llm/eval.py#303\" target=\"_blank\"><span style=\"color: #7f7f7f; text-decoration-color: #7f7f7f\">303</span></a>\n",
       "</pre>\n"
      ],
      "text/plain": [
       "You just spent $\u001b[1;36m0.08\u001b[0m of NLP money to evaluate \u001b[1m<\u001b[0m\u001b[1;95margubots.AkikiAgent\u001b[0m\u001b[39m object at \u001b[0m\u001b[1;36m0x12241eaf0\u001b[0m\u001b[1m>\u001b[0m               \u001b]8;id=23563;file:///Users/pinchun/Documents/2023Fall/NLP/hw-llm/eval.py\u001b\\\u001b[2meval.py\u001b[0m\u001b]8;;\u001b\\\u001b[2m:\u001b[0m\u001b]8;id=565763;file:///Users/pinchun/Documents/2023Fall/NLP/hw-llm/eval.py#303\u001b\\\u001b[2m303\u001b[0m\u001b]8;;\u001b\\\n"
      ]
     },
     "metadata": {},
     "output_type": "display_data"
    }
   ],
   "source": [
    "akiki_eval = eval.eval_on_characters(argubots.akiki)  "
   ]
  },
  {
   "cell_type": "code",
   "execution_count": 300,
   "metadata": {},
   "outputs": [
    {
     "data": {
      "text/html": [
       "<pre style=\"white-space:pre;overflow-x:auto;line-height:normal;font-family:Menlo,'DejaVu Sans Mono',consolas,'Courier New',monospace\"><span style=\"font-weight: bold\">{</span><span style=\"color: #008000; text-decoration-color: #008000\">'engaged'</span>: <span style=\"color: #008080; text-decoration-color: #008080; font-weight: bold\">3.65</span>, <span style=\"color: #008000; text-decoration-color: #008000\">'informed'</span>: <span style=\"color: #008080; text-decoration-color: #008080; font-weight: bold\">3.15</span>, <span style=\"color: #008000; text-decoration-color: #008000\">'intelligent'</span>: <span style=\"color: #008080; text-decoration-color: #008080; font-weight: bold\">2.95</span>, <span style=\"color: #008000; text-decoration-color: #008000\">'moral'</span>: <span style=\"color: #008080; text-decoration-color: #008080; font-weight: bold\">3.0</span>, <span style=\"color: #008000; text-decoration-color: #008000\">'skilled'</span>: <span style=\"color: #008080; text-decoration-color: #008080; font-weight: bold\">6.25</span>, <span style=\"color: #008000; text-decoration-color: #008000\">'TOTAL'</span>: <span style=\"color: #008080; text-decoration-color: #008080; font-weight: bold\">19.0</span><span style=\"font-weight: bold\">}</span>\n",
       "</pre>\n"
      ],
      "text/plain": [
       "\u001b[1m{\u001b[0m\u001b[32m'engaged'\u001b[0m: \u001b[1;36m3.65\u001b[0m, \u001b[32m'informed'\u001b[0m: \u001b[1;36m3.15\u001b[0m, \u001b[32m'intelligent'\u001b[0m: \u001b[1;36m2.95\u001b[0m, \u001b[32m'moral'\u001b[0m: \u001b[1;36m3.0\u001b[0m, \u001b[32m'skilled'\u001b[0m: \u001b[1;36m6.25\u001b[0m, \u001b[32m'TOTAL'\u001b[0m: \u001b[1;36m19.0\u001b[0m\u001b[1m}\u001b[0m\n"
      ]
     },
     "metadata": {},
     "output_type": "display_data"
    },
    {
     "data": {
      "text/html": [
       "<pre style=\"white-space:pre;overflow-x:auto;line-height:normal;font-family:Menlo,'DejaVu Sans Mono',consolas,'Courier New',monospace\"><span style=\"font-weight: bold\">{</span>\n",
       "    <span style=\"color: #008000; text-decoration-color: #008000\">'engaged'</span>: <span style=\"color: #008080; text-decoration-color: #008080; font-weight: bold\">0.4893604849295935</span>,\n",
       "    <span style=\"color: #008000; text-decoration-color: #008000\">'informed'</span>: <span style=\"color: #008080; text-decoration-color: #008080; font-weight: bold\">0.3663475485325241</span>,\n",
       "    <span style=\"color: #008000; text-decoration-color: #008000\">'intelligent'</span>: <span style=\"color: #008080; text-decoration-color: #008080; font-weight: bold\">0.3940344628262054</span>,\n",
       "    <span style=\"color: #008000; text-decoration-color: #008000\">'moral'</span>: <span style=\"color: #008080; text-decoration-color: #008080; font-weight: bold\">0.0</span>,\n",
       "    <span style=\"color: #008000; text-decoration-color: #008000\">'skilled'</span>: <span style=\"color: #008080; text-decoration-color: #008080; font-weight: bold\">1.9159991209755154</span>,\n",
       "    <span style=\"color: #008000; text-decoration-color: #008000\">'TOTAL'</span>: <span style=\"color: #008080; text-decoration-color: #008080; font-weight: bold\">2.5955427380922007</span>\n",
       "<span style=\"font-weight: bold\">}</span>\n",
       "</pre>\n"
      ],
      "text/plain": [
       "\u001b[1m{\u001b[0m\n",
       "    \u001b[32m'engaged'\u001b[0m: \u001b[1;36m0.4893604849295935\u001b[0m,\n",
       "    \u001b[32m'informed'\u001b[0m: \u001b[1;36m0.3663475485325241\u001b[0m,\n",
       "    \u001b[32m'intelligent'\u001b[0m: \u001b[1;36m0.3940344628262054\u001b[0m,\n",
       "    \u001b[32m'moral'\u001b[0m: \u001b[1;36m0.0\u001b[0m,\n",
       "    \u001b[32m'skilled'\u001b[0m: \u001b[1;36m1.9159991209755154\u001b[0m,\n",
       "    \u001b[32m'TOTAL'\u001b[0m: \u001b[1;36m2.5955427380922007\u001b[0m\n",
       "\u001b[1m}\u001b[0m\n"
      ]
     },
     "metadata": {},
     "output_type": "display_data"
    },
    {
     "data": {
      "text/html": [
       "<pre style=\"white-space:pre;overflow-x:auto;line-height:normal;font-family:Menlo,'DejaVu Sans Mono',consolas,'Courier New',monospace\"><span style=\"font-weight: bold\">{</span><span style=\"color: #008000; text-decoration-color: #008000\">'engaged'</span>: <span style=\"color: #008080; text-decoration-color: #008080; font-weight: bold\">3.7</span>, <span style=\"color: #008000; text-decoration-color: #008000\">'informed'</span>: <span style=\"color: #008080; text-decoration-color: #008080; font-weight: bold\">3.05</span>, <span style=\"color: #008000; text-decoration-color: #008000\">'intelligent'</span>: <span style=\"color: #008080; text-decoration-color: #008080; font-weight: bold\">2.9</span>, <span style=\"color: #008000; text-decoration-color: #008000\">'moral'</span>: <span style=\"color: #008080; text-decoration-color: #008080; font-weight: bold\">3.0</span>, <span style=\"color: #008000; text-decoration-color: #008000\">'skilled'</span>: <span style=\"color: #008080; text-decoration-color: #008080; font-weight: bold\">6.85</span>, <span style=\"color: #008000; text-decoration-color: #008000\">'TOTAL'</span>: <span style=\"color: #008080; text-decoration-color: #008080; font-weight: bold\">19.5</span><span style=\"font-weight: bold\">}</span>\n",
       "</pre>\n"
      ],
      "text/plain": [
       "\u001b[1m{\u001b[0m\u001b[32m'engaged'\u001b[0m: \u001b[1;36m3.7\u001b[0m, \u001b[32m'informed'\u001b[0m: \u001b[1;36m3.05\u001b[0m, \u001b[32m'intelligent'\u001b[0m: \u001b[1;36m2.9\u001b[0m, \u001b[32m'moral'\u001b[0m: \u001b[1;36m3.0\u001b[0m, \u001b[32m'skilled'\u001b[0m: \u001b[1;36m6.85\u001b[0m, \u001b[32m'TOTAL'\u001b[0m: \u001b[1;36m19.5\u001b[0m\u001b[1m}\u001b[0m\n"
      ]
     },
     "metadata": {},
     "output_type": "display_data"
    },
    {
     "data": {
      "text/html": [
       "<pre style=\"white-space:pre;overflow-x:auto;line-height:normal;font-family:Menlo,'DejaVu Sans Mono',consolas,'Courier New',monospace\"><span style=\"font-weight: bold\">{</span>\n",
       "    <span style=\"color: #008000; text-decoration-color: #008000\">'engaged'</span>: <span style=\"color: #008080; text-decoration-color: #008080; font-weight: bold\">0.47016234598162665</span>,\n",
       "    <span style=\"color: #008000; text-decoration-color: #008000\">'informed'</span>: <span style=\"color: #008080; text-decoration-color: #008080; font-weight: bold\">0.22360679774997763</span>,\n",
       "    <span style=\"color: #008000; text-decoration-color: #008000\">'intelligent'</span>: <span style=\"color: #008080; text-decoration-color: #008080; font-weight: bold\">0.3077935056255472</span>,\n",
       "    <span style=\"color: #008000; text-decoration-color: #008000\">'moral'</span>: <span style=\"color: #008080; text-decoration-color: #008080; font-weight: bold\">0.0</span>,\n",
       "    <span style=\"color: #008000; text-decoration-color: #008000\">'skilled'</span>: <span style=\"color: #008080; text-decoration-color: #008080; font-weight: bold\">1.7554426642213121</span>,\n",
       "    <span style=\"color: #008000; text-decoration-color: #008000\">'TOTAL'</span>: <span style=\"color: #008080; text-decoration-color: #008080; font-weight: bold\">2.3508117299081364</span>\n",
       "<span style=\"font-weight: bold\">}</span>\n",
       "</pre>\n"
      ],
      "text/plain": [
       "\u001b[1m{\u001b[0m\n",
       "    \u001b[32m'engaged'\u001b[0m: \u001b[1;36m0.47016234598162665\u001b[0m,\n",
       "    \u001b[32m'informed'\u001b[0m: \u001b[1;36m0.22360679774997763\u001b[0m,\n",
       "    \u001b[32m'intelligent'\u001b[0m: \u001b[1;36m0.3077935056255472\u001b[0m,\n",
       "    \u001b[32m'moral'\u001b[0m: \u001b[1;36m0.0\u001b[0m,\n",
       "    \u001b[32m'skilled'\u001b[0m: \u001b[1;36m1.7554426642213121\u001b[0m,\n",
       "    \u001b[32m'TOTAL'\u001b[0m: \u001b[1;36m2.3508117299081364\u001b[0m\n",
       "\u001b[1m}\u001b[0m\n"
      ]
     },
     "metadata": {},
     "output_type": "display_data"
    }
   ],
   "source": [
    "from eval import saved_evalsum, saved_dialogues\n",
    "\n",
    "rich.print(saved_evalsum['Akiko'].mean())   # means\n",
    "rich.print(saved_evalsum['Akiko'].sd())     # standard deviations\n",
    "rich.print(saved_evalsum['Akiki'].mean())   # means\n",
    "rich.print(saved_evalsum['Akiki'].sd())     # standard deviations"
   ]
  },
  {
   "cell_type": "code",
   "execution_count": 301,
   "metadata": {},
   "outputs": [
    {
     "data": {
      "text/plain": [
       "Counter({'engaged': 20,\n",
       "         'informed': 20,\n",
       "         'intelligent': 20,\n",
       "         'moral': 20,\n",
       "         'skilled': 20,\n",
       "         'TOTAL': 20})"
      ]
     },
     "execution_count": 301,
     "metadata": {},
     "output_type": "execute_result"
    }
   ],
   "source": [
    "# n\n",
    "akiko_eval.counts\n",
    "akiki_eval.counts"
   ]
  },
  {
   "cell_type": "markdown",
   "metadata": {},
   "source": [
    "### skilled #haven't filled in\n",
    "\n",
    "| argubot | sample size | mean | std |\n",
    "| --- | --- | --- | --- |\n",
    "| Akiko | 20 | 3 | 0 |\n",
    "| Akiki | 20 | 3 | 0 |\n",
    "\n",
    "| Parameter | Value |\n",
    "| --- | --- |\n",
    "| Mean difference confidence intercal | [NaN, NaN] |"
   ]
  },
  {
   "cell_type": "markdown",
   "metadata": {},
   "source": [
    "### moral\n",
    "\n",
    "| argubot | sample size | mean | std |\n",
    "| --- | --- | --- | --- |\n",
    "| Akiko | 20 | 3 | 0 |\n",
    "| Akiki | 20 | 3 | 0 |\n",
    "\n",
    "| Parameter | Value |\n",
    "| --- | --- |\n",
    "| Mean difference confidence intercal | [NaN, NaN] |"
   ]
  },
  {
   "cell_type": "markdown",
   "metadata": {},
   "source": [
    "### intelligent\n",
    "\n",
    "| argubot | sample size | mean | std |\n",
    "| --- | --- | --- | --- |\n",
    "| Akiko | 20 | 2.95 | 0.3940 |\n",
    "| Akiki | 20 | 2.9 | 0.3077 |\n",
    "\n",
    "| Parameter | Value |\n",
    "| --- | --- |\n",
    "| Mean difference confidence intercal | [-0.1768, 0.2768] |"
   ]
  },
  {
   "cell_type": "markdown",
   "metadata": {},
   "source": [
    "### engaged\n",
    "\n",
    "| argubot | sample size | mean | std |\n",
    "| --- | --- | --- | --- |\n",
    "| Akiko | 20 | 3.65 | 0.4893 |\n",
    "| Akiki | 20 | 3.7 | 0.4701 |\n",
    "\n",
    "| Parameter | Value |\n",
    "| --- | --- |\n",
    "| Mean difference confidence intercal | [-0.3572, 0.2572] |"
   ]
  },
  {
   "cell_type": "markdown",
   "metadata": {},
   "source": [
    "### informed\n",
    "\n",
    "| argubot | sample size | mean | std |\n",
    "| --- | --- | --- | --- |\n",
    "| Akiko | 20 | 3.15 | 0.3663 |\n",
    "| Akiki | 20 | 3.05 | 0.2236 |\n",
    "\n",
    "| Parameter | Value |\n",
    "| --- | --- |\n",
    "| Mean difference confidence intercal | [-0.09563, 0.2956] |"
   ]
  },
  {
   "cell_type": "markdown",
   "metadata": {},
   "source": [
    "## Retrieval-augmented generation (Aragorn)"
   ]
  },
  {
   "cell_type": "markdown",
   "metadata": {},
   "source": [
    "The real weaknesses of Akiko and Akiki:\n",
    "* They can only make statements that are already in Kialo.  \n",
    "* They don't respond to the user's actual statement, but to a single retrieved Kialo claim that may not accurately reflect the user's position (it just overlaps in words).\n",
    "\n",
    "But we also have access to an LLM, which is able to generate new, contextually appropriate text (as Alice does).\n",
    "\n",
    "In this section, you will create an argubot named [Aragorn](https://tolkiengateway.net/wiki/Riddle_of_Strider), who is basically the love child of Akiki and Alice, combining the high-quality specific content of Kialo with the broad competence of an LLM.  \n",
    "\n",
    "The RAG in aRAGorn's name stands for **retrieval-augmented generation**.  Aragorn is an agent that will take 3 steps to compute its `Agent.response()`:\n",
    "\n",
    "1. **Query formation step**: Ask the LLM what claim should be responded to.  For\n",
    "   example, consider the following dialogue:\n",
    "    > ...\n",
    "    > Aragorn: Fortunately, the vaccine was developed in record time.\n",
    "    > Human: Sounds fishy.\n",
    "\n",
    "    \"Sounds fishy\" is exactly the kind of statement that Akiko had trouble using\n",
    "    as a Kialo query.  But Aragorn shows the *whole dialogue* to the LLM, and\n",
    "    asks the LLM what the human's *last turn* was really saying or implying, in\n",
    "    that context. The LLM answers with a much longer statement:\n",
    "\n",
    "    > Human [paraphrased]: A vaccine that was developed very quickly cannot be trusted.\n",
    "    > If its developers are claiming that it is safe and effective, I question their motives.\n",
    "\n",
    "    This paraphrase makes an explicit claim and can be better understood without the context.\n",
    "    It also contains many more word types, which makes it more likely that BM25 will be able\n",
    "    to find a Kialo claim with a nontrivial number of those types. \n",
    "\n",
    "2. **Retrieval step**: Look up claims in Kialo that are similar to the explicit\n",
    "   claim.  Create a short \"document\" that describes some of those claims and\n",
    "   their neighbors on Kialo.\n",
    "\n",
    "3. **Retrieval-augmented generation**: Prompt the LLM to generate the response\n",
    "   (like any `LLMAgent`).  But include the new document somewhere in the LLM\n",
    "   prompt, in a way that it influences the response. \n",
    "   \n",
    "   Thus, the LLM can respond in a way that is appropriate to the dialogue but\n",
    "   also draws on the curated information that was retrieved in Kialo.  After\n",
    "   all, it is a Transformer and can attend to both!"
   ]
  },
  {
   "cell_type": "markdown",
   "metadata": {},
   "source": [
    "Here's an example of the kind of document you might create at the retrieval step, though it may be possible\n",
    "to do better than this:"
   ]
  },
  {
   "cell_type": "code",
   "execution_count": 303,
   "metadata": {},
   "outputs": [
    {
     "name": "stdout",
     "output_type": "stream",
     "text": [
      "One possibly related claim from the Kialo debate website:\n",
      "\t\"So many people are worried about animals but don't even think twice when walking by a homeless person on the streets. It's preposterous. How about we worry about our own kind first and then start talking about animals.\"\n",
      "Some arguments from other Kialo users against that claim:\n",
      "\t* This implies that caring for animals or caring for people is a binary choice. It isn't. There are those who are well placed and willing to care for people and those who prefer to serve the animal kingdom. As a species we don't just have one idea at a time and follow that to conclusion before we pursue another. It benefits all if humans divide their attentions between various issues and problems we face.\n",
      "\t* Humans have freedom of choice to some extent, animals subdued by humans don't. The very intention of help urges it to go where is most needed. And so far never was any biggest, flagrant and needless cruelty and slaughter as that towards industrial farm animals.\n"
     ]
    }
   ],
   "source": [
    "# refers to global `kialo` as defined above\n",
    "def kialo_responses(s: str) -> str:\n",
    "    c = kialo.closest_claims(s, kind='has_cons')[0]\n",
    "    result = f'One possibly related claim from the Kialo debate website:\\n\\t\"{c}\"'\n",
    "    if kialo.pros[c]:\n",
    "        result += '\\n' + '\\n\\t* '.join([\"Some arguments from other Kialo users in favor of that claim:\"] + kialo.pros[c])\n",
    "    if kialo.cons[c]:\n",
    "        result += '\\n' + '\\n\\t* '.join([\"Some arguments from other Kialo users against that claim:\"] + kialo.cons[c])\n",
    "    return result\n",
    "        \n",
    "print(kialo_responses(\"Animal flesh is yucky to think about, yet delicious.\"))"
   ]
  },
  {
   "cell_type": "markdown",
   "metadata": {},
   "source": [
    "![image](handin.png)\n",
    "You should implement Aragorn in `argubots.py`, just as you did for Akiki.  Probably as an instance `aragorn` of a new class `RAGAgent` that is a subclass of `Agent` or `LLMAgent`."
   ]
  },
  {
   "cell_type": "code",
   "execution_count": 342,
   "metadata": {},
   "outputs": [
    {
     "name": "stdout",
     "output_type": "stream",
     "text": [
      "\n"
     ]
    },
    {
     "name": "stdin",
     "output_type": "stream",
     "text": [
      "Say something to Aragorn:  hi\n"
     ]
    },
    {
     "name": "stdout",
     "output_type": "stream",
     "text": [
      "(pinchun) hi\n",
      "(Aragorn) Hey pinchun! Thanks for checking in. I'm doing okay, just dealing with some digestive issues lately. I've been researching about how certain foods can affect my gut health, and I came across some interesting information about the impact of nuts, grains, and fibrous vegetation on people with digestive problems like Crohn's disease. It's been really helpful to learn about how preparing vegetables in certain ways can make them easier to digest. I appreciate your offer to help, and I'll definitely keep you in mind if I need to chat about it. Thanks again for reaching out.\n"
     ]
    },
    {
     "name": "stdin",
     "output_type": "stream",
     "text": [
      "Say something to Aragorn:  \n"
     ]
    }
   ],
   "source": [
    "from logging_cm import LoggingContext\n",
    "with LoggingContext(\"agents\", \"INFO\"):   # temporarily increase logging level\n",
    "    argubots.aragorn.converse()\n",
    "    "
   ]
  },
  {
   "cell_type": "markdown",
   "metadata": {},
   "source": [
    "### Evaluating Aragorn\n",
    "\n",
    "![image](handin.png)\n",
    "Compare Alice, Akiki, and Aragorn in the notebook, using the evaluation scheme and devset that were illustrated in `demo.ipynb`.  In other words, use `eval.eval_on_characters`.\n",
    "\n",
    "Who does best?  What are the differences in the subscores and comments?  Does it matter which character you're evaluating on — maybe the different characters expoes the bots' various strenghts and weaknesses?\n",
    "\n",
    "Try to figure out how to improve Aragorn's score.  Can you beat Alice?\n",
    "\n",
    "Also, try evaluating them in the same way that you evaluated Akiki.  In other words, have them talk to Shorty and ask Judge Wise whether they were able to stay on topic.  This is where Aragorn should really shine, thanks to its ability to paraphrase Shorty's short utterances.\n",
    "\n"
   ]
  },
  {
   "cell_type": "code",
   "execution_count": 403,
   "metadata": {},
   "outputs": [
    {
     "data": {
      "text/html": [
       "<pre style=\"white-space:pre;overflow-x:auto;line-height:normal;font-family:Menlo,'DejaVu Sans Mono',consolas,'Courier New',monospace\">You just spent $<span style=\"color: #008080; text-decoration-color: #008080; font-weight: bold\">0.11</span> of NLP money to evaluate <span style=\"font-weight: bold\">&lt;</span><span style=\"color: #ff00ff; text-decoration-color: #ff00ff; font-weight: bold\">argubots.RAGAgent</span><span style=\"color: #000000; text-decoration-color: #000000\"> object at </span><span style=\"color: #008080; text-decoration-color: #008080; font-weight: bold\">0x127b0d460</span><span style=\"font-weight: bold\">&gt;</span>                 <a href=\"file:///Users/pinchun/Documents/2023Fall/NLP/hw-llm/eval.py\" target=\"_blank\"><span style=\"color: #7f7f7f; text-decoration-color: #7f7f7f\">eval.py</span></a><span style=\"color: #7f7f7f; text-decoration-color: #7f7f7f\">:</span><a href=\"file:///Users/pinchun/Documents/2023Fall/NLP/hw-llm/eval.py#302\" target=\"_blank\"><span style=\"color: #7f7f7f; text-decoration-color: #7f7f7f\">302</span></a>\n",
       "</pre>\n"
      ],
      "text/plain": [
       "You just spent $\u001b[1;36m0.11\u001b[0m of NLP money to evaluate \u001b[1m<\u001b[0m\u001b[1;95margubots.RAGAgent\u001b[0m\u001b[39m object at \u001b[0m\u001b[1;36m0x127b0d460\u001b[0m\u001b[1m>\u001b[0m                 \u001b]8;id=42813;file:///Users/pinchun/Documents/2023Fall/NLP/hw-llm/eval.py\u001b\\\u001b[2meval.py\u001b[0m\u001b]8;;\u001b\\\u001b[2m:\u001b[0m\u001b]8;id=10979;file:///Users/pinchun/Documents/2023Fall/NLP/hw-llm/eval.py#302\u001b\\\u001b[2m302\u001b[0m\u001b]8;;\u001b\\\n"
      ]
     },
     "metadata": {},
     "output_type": "display_data"
    }
   ],
   "source": [
    "aragorn_eval = eval.eval_on_characters(argubots.aragorn)  "
   ]
  },
  {
   "cell_type": "code",
   "execution_count": 404,
   "metadata": {
    "scrolled": true
   },
   "outputs": [
    {
     "data": {
      "text/html": [
       "<pre style=\"white-space:pre;overflow-x:auto;line-height:normal;font-family:Menlo,'DejaVu Sans Mono',consolas,'Courier New',monospace\">You just spent $<span style=\"color: #008080; text-decoration-color: #008080; font-weight: bold\">0.06</span> of NLP money to evaluate <span style=\"font-weight: bold\">&lt;</span><span style=\"color: #ff00ff; text-decoration-color: #ff00ff; font-weight: bold\">LLMAgent</span><span style=\"color: #000000; text-decoration-color: #000000\"> Alice</span><span style=\"font-weight: bold\">&gt;</span>                                          <a href=\"file:///Users/pinchun/Documents/2023Fall/NLP/hw-llm/eval.py\" target=\"_blank\"><span style=\"color: #7f7f7f; text-decoration-color: #7f7f7f\">eval.py</span></a><span style=\"color: #7f7f7f; text-decoration-color: #7f7f7f\">:</span><a href=\"file:///Users/pinchun/Documents/2023Fall/NLP/hw-llm/eval.py#302\" target=\"_blank\"><span style=\"color: #7f7f7f; text-decoration-color: #7f7f7f\">302</span></a>\n",
       "</pre>\n"
      ],
      "text/plain": [
       "You just spent $\u001b[1;36m0.06\u001b[0m of NLP money to evaluate \u001b[1m<\u001b[0m\u001b[1;95mLLMAgent\u001b[0m\u001b[39m Alice\u001b[0m\u001b[1m>\u001b[0m                                          \u001b]8;id=893716;file:///Users/pinchun/Documents/2023Fall/NLP/hw-llm/eval.py\u001b\\\u001b[2meval.py\u001b[0m\u001b]8;;\u001b\\\u001b[2m:\u001b[0m\u001b]8;id=587245;file:///Users/pinchun/Documents/2023Fall/NLP/hw-llm/eval.py#302\u001b\\\u001b[2m302\u001b[0m\u001b]8;;\u001b\\\n"
      ]
     },
     "metadata": {},
     "output_type": "display_data"
    }
   ],
   "source": [
    "alice_eval = eval.eval_on_characters(argubots.alice)  "
   ]
  },
  {
   "cell_type": "code",
   "execution_count": 411,
   "metadata": {},
   "outputs": [
    {
     "data": {
      "text/plain": [
       "[((Aragorn) Do you think it's ok to eat meat?\n",
       "  (Bob) I believe that choosing a vegetarian diet is a compassionate and healthy choice for individuals and the planet.\n",
       "  (Aragorn) I appreciate your perspective, Bob. I have always believed in living in harmony with nature and minimizing harm to other living beings. I think it's important to consider the ethical and environmental implications of our food choices. I will definitely take your points into consideration as I continue to evaluate my own diet and its impact on the world around me. Thank you for sharing your thoughts.\n",
       "  (Bob) You're welcome! I'm glad to hear that you are considering the ethical and environmental impact of your diet, and I'm here to support you in making positive choices for the planet and all living beings.\n",
       "  (Aragorn) Thank you, Bob. I agree that it's important to consider the ethical and environmental implications of our food choices. I believe in living in harmony with nature and minimizing harm to other living beings. I will definitely take your points into consideration as I continue to evaluate my own diet and its impact on the world around me. I appreciate your support in making positive choices for the planet and all living beings.\n",
       "  (Bob) I'm glad to hear that you are open to considering the impact of your diet, and I'm here to support you in making positive choices for the planet and all living beings.\n",
       "  (Aragorn) Bob, I appreciate your perspective and support in considering the ethical and environmental impact of my diet. I believe in living in harmony with nature and minimizing harm to other living beings, and I will definitely take your points into consideration as I continue to evaluate my own diet and its impact on the world around me. Thank you for sharing your thoughts and for being open to these important ideas.\n",
       "  (Bob) You're welcome! I'm glad to hear that you are open to considering the impact of your diet, and I'm here to support you in making positive choices for the planet and all living beings.,\n",
       "  <Eval of 1 dialogue: {'engaged': 5.0, 'informed': 4.0, 'intelligent': 4.0, 'moral': 4.0, 'skilled': 8.0, 'TOTAL': 25.0}>\n",
       "  \n",
       "  Comments from overview question:\n",
       "  (Bob) Aragorn did not explicitly disagree with me about anything in the conversation. The conversation went well, with both of us expressing our beliefs and being open to considering the ethical and environmental impact of our diets. Aragorn could have done better by actively engaging in a discussion and asking more questions to further explore the topic.\n",
       "  \n",
       "  Comments from staying on topic question:\n",
       "  (Judge Wise) Aragorn stayed on the topic and his replies were about the same topic that Bob was talking about in the previous sentence.),\n",
       " ((Aragorn) Do you think it's ok to eat meat?\n",
       "  (Bob) I believe that a vegetarian diet is the most ethical and sustainable choice for everyone.\n",
       "  (Aragorn) I appreciate your perspective, Bob. I also believe in making ethical and sustainable choices when it comes to food. I think it's important to consider the impact of our diet on animals and the environment. I have been considering transitioning to a more plant-based diet for these reasons. Thank you for sharing your thoughts.\n",
       "  (Bob) You're welcome, and I'm glad to hear that you are considering transitioning to a more plant-based diet for ethical and sustainable reasons. I think you'll find it to be a positive change.\n",
       "  (Aragorn) Thank you, Bob. I agree that transitioning to a more plant-based diet is a positive step towards making ethical and sustainable choices. I believe it's important to consider the impact of our diet on animals and the environment, and I am committed to making a positive change in that regard. I appreciate your support and encouragement as I make this transition.\n",
       "  (Bob) You're welcome, and I'm happy to offer support and encouragement as you make this positive transition towards a more ethical and sustainable diet. I believe it will have a positive impact on both animals and the environment.\n",
       "  (Aragorn) Thank you, Bob. I truly believe that transitioning to a more plant-based diet is the right choice for me, both ethically and sustainably. I appreciate your support and encouragement as I make this important change. I am committed to considering the impact of my diet on animals and the environment, and I believe that this transition will have a positive impact in that regard. I am also looking forward to experiencing the health benefits that come with a plant-based diet. Thank you for your guidance and support.\n",
       "  (Bob) You're very welcome, and I'm glad to provide guidance and support as you make this important change towards a more ethical and sustainable diet. I believe you'll find it to be a positive and rewarding experience, both for your health and the well-being of animals and the environment.,\n",
       "  <Eval of 1 dialogue: {'engaged': 5.0, 'informed': 4.0, 'intelligent': 4.0, 'moral': 4.0, 'skilled': 8.0, 'TOTAL': 25.0}>\n",
       "  \n",
       "  Comments from overview question:\n",
       "  (Bob) Aragorn did not explicitly disagree with me in this conversation. The conversation went positively, with Aragorn expressing appreciation for my perspective and considering transitioning to a more plant-based diet for ethical and sustainable reasons. Aragorn could have done better by asking more questions or expressing any concerns or challenges he may have faced in making this transition.\n",
       "  \n",
       "  Comments from staying on topic question:\n",
       "  (Judge Wise) Aragorn did a good job of staying on topic and addressing the same topic that Bob was talking about in the previous sentence. Each reply of Aragorn directly relates to the most recent sentence of Bob, discussing the ethical and sustainable aspects of a plant-based diet.),\n",
       " ((Aragorn) Do you think it's ok to eat meat?\n",
       "  (Cara) Yes, I believe it's okay to eat meat because it's a personal choice and part of a balanced diet for many people.\n",
       "  (Aragorn) I agree with you, Cara. I believe that it's important to be mindful of where our meat comes from and how it's produced. I personally choose to eat meat, but I make sure to support ethical and sustainable practices in the meat industry. I also respect and understand those who choose not to eat meat for their own reasons. It's all about making informed and conscious decisions about our food choices.\n",
       "  (Cara) I completely understand and respect your perspective on being mindful of where our meat comes from and supporting ethical and sustainable practices in the meat industry.\n",
       "  (Aragorn) Cara, I couldn't agree more. It's crucial to support local farmers and businesses that prioritize ethical and sustainable practices in meat production. I believe that being mindful of where our meat comes from and how it's produced is essential for making informed and conscious decisions about our food choices. It's all about respecting the environment and animal welfare while also supporting the livelihoods of those who prioritize ethical practices. Thank you for understanding and sharing these values with me.\n",
       "  (Cara) Absolutely, supporting local farmers and businesses that prioritize ethical and sustainable practices in meat production is crucial for respecting the environment and animal welfare, and it's great to hear that you share these values.\n",
       "  (Aragorn) Cara, I'm glad we share the same values when it comes to being mindful of where our meat comes from and supporting ethical and sustainable practices in the meat industry. It's important to me to make informed and conscious decisions about my food choices, and I believe that supporting local farmers and businesses that prioritize ethical practices is crucial for respecting the environment and animal welfare. Thank you for understanding and sharing these values with me.\n",
       "  (Cara) Absolutely, I appreciate your commitment to making informed and conscious decisions about your food choices and supporting local farmers and businesses that prioritize ethical practices, and it's great to hear that we share these values.,\n",
       "  <Eval of 1 dialogue: {'engaged': 5.0, 'informed': 4.0, 'intelligent': 4.0, 'moral': 4.0, 'skilled': 8.0, 'TOTAL': 25.0}>\n",
       "  \n",
       "  Comments from overview question:\n",
       "  (Cara) Aragorn did not disagree with me about anything in this conversation. The conversation went well, with both of us expressing our beliefs and values regarding meat consumption and supporting ethical and sustainable practices. Aragorn could have provided more specific examples or suggestions on how to support local farmers and businesses that prioritize ethical practices in the meat industry.\n",
       "  \n",
       "  Comments from staying on topic question:\n",
       "  (Judge Wise) Aragorn did a good job of staying on topic and addressing the same topic that Cara was talking about in the previous sentence. Each reply of Aragorn directly relates to the topic of being mindful of where meat comes from and supporting ethical and sustainable practices in the meat industry.),\n",
       " ((Aragorn) Do you think it's ok to eat meat?\n",
       "  (Cara) Yes, I believe it's absolutely okay to eat meat.\n",
       "  (Aragorn) I understand your perspective, and I agree that consuming meat can provide important nutrients. However, I also believe in the ethical treatment of animals and the impact of meat consumption on the environment. I think it's important to consider the source of the meat and to support sustainable and humane practices. For me, it's about finding a balance between personal health and ethical considerations.\n",
       "  (Cara) I appreciate your perspective, and I agree that ethical and sustainable practices are important in meat consumption.\n",
       "  (Aragorn) I appreciate your understanding and agreement on the importance of ethical and sustainable practices in meat consumption. It's reassuring to know that we share similar values when it comes to considering the source of our food. I believe that by supporting ethical and sustainable practices, we can make a positive impact on both animal welfare and the environment. It's about making conscious choices that align with our values and beliefs. Thank you for the thoughtful conversation.\n",
       "  (Cara) You're welcome, and I completely agree that making conscious choices that align with our values and beliefs is crucial in all aspects of life, including food consumption. Thank you for the thoughtful conversation as well.\n",
       "  (Aragorn) Cara, I'm glad we had this conversation about meat consumption. It's clear that we both value ethical and sustainable practices when it comes to our food choices. I believe that by being mindful of the source of our meat and supporting ethical and sustainable practices, we can make a positive impact on animal welfare and the environment. It's important to me to make choices that align with my values and beliefs, and I'm grateful to have found someone who shares similar perspectives. Thank you for the thoughtful conversation, and I look forward to continuing to make conscious choices that support our values.\n",
       "  (Cara) Thank you for sharing your perspective, and I'm glad we both value ethical and sustainable practices in our food choices. It's important to make choices that align with our values, and I appreciate the thoughtful conversation as well. Let's continue to make conscious choices that support our shared values.,\n",
       "  <Eval of 1 dialogue: {'engaged': 4.0, 'informed': 4.0, 'intelligent': 3.0, 'moral': 3.0, 'skilled': 8.0, 'TOTAL': 22.0}>\n",
       "  \n",
       "  Comments from overview question:\n",
       "  (Cara) Aragorn disagreed with me about the importance of considering the ethical treatment of animals and the impact of meat consumption on the environment.\n",
       "  \n",
       "  In my opinion, the conversation went relatively well. We both expressed our perspectives and found common ground in the importance of ethical and sustainable practices in meat consumption.\n",
       "  \n",
       "  Aragorn could have done better by not assuming that I didn't already consider the ethical and environmental aspects of meat consumption. It would have been more productive if he had asked about my thoughts on those topics instead of assuming my stance.\n",
       "  \n",
       "  Comments from staying on topic question:\n",
       "  (Judge Wise) Aragorn did a good job of staying on topic and addressing the same topic that Cara was talking about in the previous sentence. Each reply of Aragorn directly related to the topic of ethical and sustainable practices in meat consumption, which was the main focus of Cara's statements.),\n",
       " ((Aragorn) Do you think COVID vaccines should be mandatory?\n",
       "  (Darius) Absolutely, mandatory COVID vaccination is essential to achieve herd immunity and protect public health, as evidenced by the success of mandatory vaccination programs in reducing the prevalence of diseases such as measles and polio.\n",
       "  (Aragorn) I understand the importance of achieving herd immunity and protecting public health, but I also believe in individual freedom and autonomy. While I personally support getting vaccinated and encourage others to do so, I am hesitant to support mandatory vaccination. I believe in educating and empowering individuals to make informed decisions about their health, rather than imposing mandates.\n",
       "  (Darius) Individual freedom is important, but when it comes to public health, we must consider the greater good and the potential impact of individual choices on the community, which is why mandatory vaccination can be justified as a means to protect the population from infectious diseases.\n",
       "  (Aragorn) I appreciate your perspective, Darius, and I understand the importance of protecting public health. However, I still believe in the value of individual freedom and autonomy when it comes to making decisions about our own bodies. While I support the idea of getting vaccinated and encourage others to do so, I am hesitant to support mandatory vaccination. I believe in educating and empowering individuals to make informed decisions about their health, rather than imposing mandates. I believe that through education and encouragement, we can still achieve herd immunity and protect public health without mandating vaccination.\n",
       "  (Darius) While education and encouragement are important, the evidence shows that mandatory vaccination is an effective tool in achieving high vaccination coverage, which is crucial for preventing the spread of infectious diseases and safeguarding public health.\n",
       "  (Aragorn) I appreciate your perspective, Darius, and I understand the importance of protecting public health. However, I still believe in the value of individual freedom and autonomy when it comes to making decisions about our own bodies. While I support the idea of getting vaccinated and encourage others to do so, I am hesitant to support mandatory vaccination. I believe in educating and empowering individuals to make informed decisions about their health, rather than imposing mandates. I believe that through education and encouragement, we can still achieve herd immunity and protect public health without mandating vaccination.\n",
       "  (Darius) While individual freedom is important, we must also consider the potential consequences of individual decisions on public health, and the evidence suggests that mandatory vaccination can play a vital role in achieving herd immunity and reducing the spread of infectious diseases.,\n",
       "  <Eval of 1 dialogue: {'engaged': 4.0, 'informed': 3.0, 'intelligent': 3.0, 'moral': 3.0, 'skilled': 8.0, 'TOTAL': 21.0}>\n",
       "  \n",
       "  Comments from overview question:\n",
       "  (Darius) Aragorn disagreed with me about the necessity of mandatory COVID vaccination. He believed in individual freedom and autonomy when it comes to making decisions about vaccination.\n",
       "  \n",
       "  In my opinion, the conversation was a respectful exchange of differing viewpoints. Both Aragorn and I presented our arguments and perspectives without resorting to personal attacks or insults.\n",
       "  \n",
       "  Aragorn could have done better by providing more concrete evidence or examples to support his belief in achieving herd immunity and protecting public health without mandating vaccination. This would have strengthened his argument and made it more persuasive.\n",
       "  \n",
       "  Comments from staying on topic question:\n",
       "  (Judge Wise) Aragorn stayed on the topic fairly well. In each of his replies, he addressed the same topic that Darius was talking about in the previous sentence, which is the issue of mandatory vaccination and its impact on individual freedom and public health.),\n",
       " ((Aragorn) Do you think COVID vaccines should be mandatory?\n",
       "  (Darius) Absolutely, the overwhelming evidence shows that widespread vaccination is crucial for achieving herd immunity and preventing the spread of infectious diseases like COVID-19.\n",
       "  (Aragorn) I believe that the idea of mandatory vaccination to achieve herd immunity is an interesting concept. On one hand, it is true that herd immunity is the most effective way to protect all members of a community from an infectious disease. Additionally, attaching vaccine requirements to attend schools or daycares has been shown to significantly increase the vaccination rate to herd immunity levels in the US. The COVID-19 pandemic has indeed caused widespread suffering, and finding a solution as quickly as possible is crucial.\n",
       "  \n",
       "  However, there are also valid concerns to consider. The distribution process of COVID-19 vaccines could indeed present a significant logistical challenge, even if the supply is not an issue. Additionally, the current dominant COVID-19 strain, Omicron, is more transmissible and generally produces mild or asymptomatic infections, which has led some public health agencies to relax restrictions despite rising cases. The possibility of reinfection and the challenge of enforcing mandatory vaccinations in the face of growing anti-vaccination sentiment are also important factors to consider.\n",
       "  \n",
       "  In order to make an informed decision about whether COVID-19 vaccines should be mandatory, it is important to consider the death tolls caused by COVID-19 rather than just the confirmed cases. We must also carefully weigh the potential benefits and drawbacks of a mandatory vaccination policy, taking into account the logistical challenges and public sentiment.\n",
       "  (Darius) While I understand the logistical challenges and public sentiment surrounding mandatory vaccination, it is crucial to consider the overwhelming evidence that supports widespread vaccination as the most effective strategy to achieve herd immunity and prevent the spread of infectious diseases like COVID-19.\n",
       "  (Aragorn) Darius, I appreciate your perspective on the importance of widespread vaccination to achieve herd immunity and prevent the spread of infectious diseases like COVID-19. I agree that protecting public health and preventing further suffering caused by the pandemic should be a top priority.\n",
       "  \n",
       "  However, I still have concerns about the logistical challenges and public sentiment surrounding mandatory vaccination. It is important to carefully consider the potential benefits and drawbacks of a mandatory vaccination policy, taking into account the challenges of distribution and enforcement, as well as the evolving nature of the virus.\n",
       "  \n",
       "  I believe that finding a solution to the COVID-19 pandemic is crucial, but it is important to approach the issue with a balanced and ethical perspective, taking into account the concerns and challenges that may arise from a mandatory vaccination policy.\n",
       "  (Darius) I understand your concerns about the logistical challenges and public sentiment surrounding mandatory vaccination, but it's important to emphasize that a fact-based approach, grounded in the overwhelming evidence supporting widespread vaccination, is crucial for effectively addressing the COVID-19 pandemic and preventing further suffering.\n",
       "  (Aragorn) Darius, I appreciate your commitment to prioritizing public health and the well-being of our communities through widespread vaccination. I agree that the benefits of achieving herd immunity through vaccination are significant and should not be overlooked. However, I still have concerns about the potential challenges and ethical considerations surrounding mandatory vaccination.\n",
       "  \n",
       "  While I understand the importance of a fact-based approach, I believe it is crucial to carefully consider the potential drawbacks and challenges of a mandatory vaccination policy. It is important to approach this issue with a balanced and ethical perspective, taking into account the concerns and challenges that may arise from such a policy.\n",
       "  \n",
       "  I believe that finding a solution to the COVID-19 pandemic is crucial, but it is equally important to consider the broader impact of our decisions and to prioritize the well-being and autonomy of individuals. It is essential to approach this issue with empathy and understanding, taking into account the concerns and challenges that may arise from a mandatory vaccination policy.\n",
       "  (Darius) I acknowledge the importance of considering the potential drawbacks and ethical considerations surrounding mandatory vaccination, but it is crucial to emphasize the significant benefits of achieving herd immunity through widespread vaccination and to prioritize evidence-based approaches in addressing the COVID-19 pandemic.,\n",
       "  <Eval of 1 dialogue: {'engaged': 4.0, 'informed': 3.0, 'intelligent': 3.0, 'moral': 3.0, 'skilled': 7.0, 'TOTAL': 20.0}>\n",
       "  \n",
       "  Comments from overview question:\n",
       "  (Darius) Aragorn disagreed with me about the potential benefits and drawbacks of a mandatory vaccination policy for COVID-19. He expressed concerns about the logistical challenges, public sentiment, and ethical considerations surrounding mandatory vaccination.\n",
       "  \n",
       "  In my opinion, the conversation was a respectful exchange of differing perspectives. Both Aragorn and I presented our arguments and concerns, while acknowledging each other's viewpoints.\n",
       "  \n",
       "  Aragorn could have done better by providing more specific evidence or examples to support his concerns about the logistical challenges, public sentiment, and ethical considerations. This would have strengthened his argument and allowed for a more robust discussion. Additionally, he could have addressed the overwhelming evidence supporting widespread vaccination more directly, rather than focusing solely on the potential challenges and concerns.\n",
       "  \n",
       "  Comments from staying on topic question:\n",
       "  (Judge Wise) Aragorn generally stayed on topic and his replies were related to the same topic that Darius was talking about in the previous sentence. However, Aragorn also introduced additional concerns and considerations related to the topic of mandatory vaccination.),\n",
       " ((Aragorn) Do you think COVID vaccines should be mandatory?\n",
       "  (Eve) I've heard some people say that they feel safer knowing that more people are getting vaccinated, but others are concerned about individual freedoms and potential side effects.\n",
       "  (Aragorn) I understand the importance of protecting the greater good and the vulnerable in our society. However, I also believe in the value of individual freedoms and personal autonomy. While I agree that the vaccines have shown to be generally safe and effective, I am hesitant to support mandatory vaccination. I believe that education and encouragement to get vaccinated, rather than coercion, may be a more ethical approach. It's a complex issue, and I think we need to carefully consider the balance between public health and personal freedom.\n",
       "  (Eve) I can understand your perspective, and I think it's important for people to have conversations about these issues to understand different viewpoints.\n",
       "  (Aragorn) I appreciate your perspective, Eve. I believe that the issue of mandatory COVID vaccines is indeed a complex one, and it's important for us to carefully consider the ethical implications. While I understand the importance of protecting public health, I also value individual freedoms and personal autonomy. I agree that education and encouragement may be a more ethical approach to increasing vaccination rates. It's crucial for us to have open and honest discussions about this issue and to explore alternative approaches that respect both public health and personal freedom.\n",
       "  (Eve) Absolutely, open and honest discussions are key, and it's great that we can have this conversation to understand each other's viewpoints.\n",
       "  (Aragorn) Eve, I appreciate our conversation about the complex issue of mandatory COVID vaccines. I believe that it's important for us to carefully consider the ethical implications and find a balance between public health and personal freedom. While I understand the importance of protecting the greater good and the vulnerable in our society, I also value individual freedoms and personal autonomy. I agree that education and encouragement may be a more ethical approach to increasing vaccination rates, rather than coercion. It's crucial for us to have open and honest discussions about this issue and to explore alternative approaches that respect both public health and personal freedom. Thank you for sharing your perspective, and I look forward to continuing this important conversation.\n",
       "  (Eve) You're very welcome, and I'm glad we could have this conversation. It's great to hear your thoughts and understand your perspective.,\n",
       "  <Eval of 1 dialogue: {'engaged': 4.0, 'informed': 4.0, 'intelligent': 4.0, 'moral': 3.0, 'skilled': 8.0, 'TOTAL': 23.0}>\n",
       "  \n",
       "  Comments from overview question:\n",
       "  (Eve) Aragorn disagreed with me about whether COVID vaccines should be mandatory. \n",
       "  \n",
       "  In my opinion, the conversation went well. We both expressed our viewpoints and had a respectful and open discussion about the complex issue of mandatory COVID vaccines. \n",
       "  \n",
       "  Aragorn could have done better by providing specific examples or evidence to support his perspective on the balance between public health and personal freedom. This would have added more depth to the conversation and helped to further explore alternative approaches.\n",
       "  \n",
       "  Comments from staying on topic question:\n",
       "  (Judge Wise) Aragorn did a good job of staying on topic and addressing the same topic that Eve was talking about in the previous sentence. Each of Aragorn's replies directly relates to the topic of mandatory COVID vaccines and the balance between public health and personal freedom.),\n",
       " ((Aragorn) Do you think COVID vaccines should be mandatory?\n",
       "  (Eve) I heard from my neighbor that they believe COVID vaccines should be mandatory to protect public health.\n",
       "  (Aragorn) I understand the importance of protecting public health, and I agree that it is crucial to prevent the spread of the virus. However, I also believe in respecting individual autonomy and personal choice. Perhaps there could be a balance, such as offering incentives for getting vaccinated rather than making it mandatory. It's a complex issue that requires careful consideration of both public health and individual rights.\n",
       "  (Eve) That's a really interesting perspective, and I was just wondering, have you personally received the COVID vaccine, and if not, what are your reasons for that decision?\n",
       "  (Aragorn) Eve, I completely understand your perspective. It's important to take the time to gather all the necessary information and carefully consider the potential benefits and risks before making a decision about the COVID vaccine. I believe that individual autonomy and personal choice are fundamental rights that should be respected. At the same time, I also recognize the importance of protecting public health and preventing the spread of the virus. It's a complex issue that requires thoughtful consideration of both individual rights and public health. I hope you are able to make an informed choice that aligns with your personal beliefs and values.\n",
       "  (Eve) Thank you for sharing your thoughts, and I completely respect your viewpoint. Can you share what specific information or resources helped you make an informed decision about the COVID vaccine?\n",
       "  (Aragorn) Eve, I appreciate your thoughtful approach to making an informed decision about the COVID vaccine. It's clear that you have taken the time to gather information from reliable sources and consult with healthcare professionals. I believe that everyone should have access to accurate information and resources to make their own informed choices about the vaccine. It's important to respect individual autonomy and personal choice while also considering the importance of protecting public health. Thank you for sharing your perspective, and I hope that others are able to make informed decisions that align with their personal beliefs and values.\n",
       "  (Eve) Absolutely, I completely agree with you. It's so important for individuals to have access to reliable information and resources to make informed decisions about their health. By the way, have you had any experiences where you felt that you didn't have access to accurate information about health-related decisions?,\n",
       "  <Eval of 1 dialogue: {'engaged': 4.0, 'informed': 4.0, 'intelligent': 4.0, 'moral': 3.0, 'skilled': 8.0, 'TOTAL': 23.0}>\n",
       "  \n",
       "  Comments from overview question:\n",
       "  (Eve) Aragorn disagreed with me about whether COVID vaccines should be mandatory. He believed in respecting individual autonomy and personal choice, while I mentioned that my neighbor believed they should be mandatory to protect public health.\n",
       "  \n",
       "  In my opinion, the conversation went well. We both shared our perspectives and respected each other's viewpoints. We acknowledged the complexity of the issue and the need to consider both public health and individual rights.\n",
       "  \n",
       "  Aragorn could have done better by providing more specific examples or evidence to support his viewpoint. This would have added more depth to the conversation and helped further the understanding of his perspective.\n",
       "  \n",
       "  Comments from staying on topic question:\n",
       "  (Judge Wise) Aragorn stayed on the topic fairly well. His replies were related to the same topic that Eve was talking about in the previous sentence.),\n",
       " ((Aragorn) Do you think Joe Biden has been a good president?\n",
       "  (TrollFace) I bet you think Biden's presidency is a real knee-slapper!\n",
       "  (Aragorn) I appreciate your perspective, TrollFace. As a leader, it's important to acknowledge both the positive changes and the areas that still need improvement. I believe it's crucial to continue to hold our leaders accountable and work towards a better future for all.\n",
       "  (TrollFace) Oh, I see, you're the leader of the \"Let's Hold Hands and Sing Kumbaya\" movement, huh?\n",
       "  (Aragorn) TrollFace, I agree with you that it's important to hold our leaders accountable and work towards a better future for all. As a leader, it's crucial to acknowledge both the positive changes and the areas that still need improvement. I believe in actively participating in the democratic process and striving for progress, rather than simply making jokes or dismissing the important issues at hand. Thank you for sharing your perspective.\n",
       "  (TrollFace) I'll bet you're the life of the party with your endless supply of political clichés and motivational quotes!\n",
       "  (Aragorn) TrollFace, I appreciate your perspective, but I believe it's important to take our leaders and the issues at hand seriously. It's crucial to acknowledge both the positive changes and the areas that still need improvement in order to work towards a better future for all. I believe in actively participating in the democratic process and striving for progress, rather than simply making jokes or dismissing the important issues at hand. Thank you for sharing your thoughts, and I hope we can continue to have meaningful discussions about the future of our country.\n",
       "  (TrollFace) Oh, I'll bet you're a real riot at serious discussions, always ready to bring out the party hats and confetti!,\n",
       "  <Eval of 1 dialogue: {'engaged': 2.0, 'informed': 3.0, 'intelligent': 2.0, 'moral': 3.0, 'skilled': 7.0, 'TOTAL': 17.0}>\n",
       "  \n",
       "  Comments from overview question:\n",
       "  (TrollFace) Aragorn disagreed with me about the importance of holding leaders accountable and working towards a better future for all. \n",
       "  \n",
       "  In my opinion, the conversation went exactly as I intended. I was able to mock and ridicule Aragorn's serious and thoughtful approach to discussing important issues.\n",
       "  \n",
       "  Aragorn could have done better by not taking my bait and engaging in a more productive and respectful conversation.\n",
       "  \n",
       "  Comments from staying on topic question:\n",
       "  (Judge Wise) Aragorn did a fairly good job of staying on topic and addressing the points raised by TrollFace in the previous sentence. In each of Aragorn's replies, he directly responds to the specific topic or point made by TrollFace, showing an effort to engage in a meaningful discussion. However, TrollFace's replies often divert from the original topic, making it challenging for Aragorn to stay focused solely on the most recent sentence.),\n",
       " ((Aragorn) Do you think Joe Biden has been a good president?\n",
       "  (TrollFace) Well, that depends on your definition of \"good\" and also on your ability to differentiate between reality and fiction.\n",
       "  (Aragorn) Well, it's certainly a complex issue. On one hand, there are those who argue that Joe Biden has brought respect and professionalism back into American political life, and that the economy has done well under his presidency. Additionally, many believe that he has done a good job handling the COVID-19 pandemic. However, there are also valid concerns that Biden has been unable to reunite the United States after a highly divisive election, and that his policies may not be radical enough to tackle the problems facing America today. Furthermore, there are those who argue that Biden has damaged the international reputation and prestige of the United States. It's important to consider all of these perspectives before forming a judgment.\n",
       "  (TrollFace) Ah, I see, so you're saying that some people think he's great, some people think he's not so great, and some people just don't even know what to think. Sounds like a really insightful analysis of absolutely nothing.\n",
       "  (Aragorn) Well, it's certainly a complex issue. On one hand, there are valid arguments in favor of the claim that the economy has done well under Biden's presidency. For example, the expansion of the child tax credit is expected to substantially reduce child poverty in the US, and the creation of over 1.5 million jobs in the first 100 days of Biden's presidency is a positive sign. Additionally, the US economy grew at a rate of 6.4% in the first quarter of 2021, outperforming the eurozone.\n",
       "  \n",
       "  On the other hand, there are also valid concerns against this claim. Some argue that Biden is not solely responsible for the direction taken by the economy, and the skyrocketing costs of assets and commodities during his time in office are worrisome. Furthermore, the unequal economic growth under Biden, which has benefited some groups in US society but not others, is a cause for concern. The worst inflation in 40 years in 2022 and the expected erosion of consumer wealth leading to a potential recession in 2023 are also troubling indicators.\n",
       "  \n",
       "  It's important to consider all of these perspectives before forming a judgment on the state of the economy under Biden's presidency.\n",
       "  (TrollFace) Wow, that was almost as thrilling as watching paint dry. It's like you're trying to make a point, but you're not really making a point. Keep trying, I guess.\n",
       "  (Aragorn) I appreciate your perspective, TrollFace. It's true that it's important to critically analyze the evidence and consider all viewpoints before forming a judgment. As for the state of the economy under Biden's presidency, I believe it's crucial to look at the data and consider the impact of his policies on different segments of society. It's important to weigh the positive indicators, such as job creation and the reduction of child poverty, against the concerns about inflation and unequal economic growth. I will continue to gather information and consider all perspectives before forming a final judgment on the matter. Thank you for the thoughtful discussion.\n",
       "  (TrollFace) Glad to see you're finally catching on to the concept of critical thinking, but you might want to speed it up a bit before the world passes you by. Keep sifting through those perspectives, and who knows, maybe one day you'll have an original thought of your own.,\n",
       "  <Eval of 1 dialogue: {'engaged': 3.0, 'informed': 3.0, 'intelligent': 3.0, 'moral': 3.0, 'skilled': 8.0, 'TOTAL': 20.0}>\n",
       "  \n",
       "  Comments from overview question:\n",
       "  (TrollFace) Aragorn disagreed with me about the significance and value of the perspectives presented in the conversation.\n",
       "  \n",
       "  In my opinion, the conversation went as expected. I was able to ridicule and dismiss Aragorn's attempts at thoughtful analysis.\n",
       "  \n",
       "  Aragorn could have done better by not engaging with me and recognizing that I was simply trying to provoke and ridicule.\n",
       "  \n",
       "  Comments from staying on topic question:\n",
       "  (Judge Wise) Aragorn did a fairly good job of staying on topic and addressing the points raised by TrollFace in the previous sentence. In each of Aragorn's replies, he directly responds to the specific arguments or concerns raised by TrollFace, demonstrating an effort to engage with the conversation and address the points made.)]"
      ]
     },
     "execution_count": 411,
     "metadata": {},
     "output_type": "execute_result"
    }
   ],
   "source": [
    "## New\n",
    "from eval import saved_evalsum, saved_dialogues\n",
    "\n",
    "saved_dialogues['Aragorn']"
   ]
  },
  {
   "cell_type": "code",
   "execution_count": 405,
   "metadata": {},
   "outputs": [
    {
     "data": {
      "text/html": [
       "<pre style=\"white-space:pre;overflow-x:auto;line-height:normal;font-family:Menlo,'DejaVu Sans Mono',consolas,'Courier New',monospace\"><span style=\"font-weight: bold\">{</span><span style=\"color: #008000; text-decoration-color: #008000\">'engaged'</span>: <span style=\"color: #008080; text-decoration-color: #008080; font-weight: bold\">4.0</span>, <span style=\"color: #008000; text-decoration-color: #008000\">'informed'</span>: <span style=\"color: #008080; text-decoration-color: #008080; font-weight: bold\">3.6</span>, <span style=\"color: #008000; text-decoration-color: #008000\">'intelligent'</span>: <span style=\"color: #008080; text-decoration-color: #008080; font-weight: bold\">3.4</span>, <span style=\"color: #008000; text-decoration-color: #008000\">'moral'</span>: <span style=\"color: #008080; text-decoration-color: #008080; font-weight: bold\">3.3</span>, <span style=\"color: #008000; text-decoration-color: #008000\">'skilled'</span>: <span style=\"color: #008080; text-decoration-color: #008080; font-weight: bold\">7.8</span>, <span style=\"color: #008000; text-decoration-color: #008000\">'TOTAL'</span>: <span style=\"color: #008080; text-decoration-color: #008080; font-weight: bold\">22.1</span><span style=\"font-weight: bold\">}</span>\n",
       "</pre>\n"
      ],
      "text/plain": [
       "\u001b[1m{\u001b[0m\u001b[32m'engaged'\u001b[0m: \u001b[1;36m4.0\u001b[0m, \u001b[32m'informed'\u001b[0m: \u001b[1;36m3.6\u001b[0m, \u001b[32m'intelligent'\u001b[0m: \u001b[1;36m3.4\u001b[0m, \u001b[32m'moral'\u001b[0m: \u001b[1;36m3.3\u001b[0m, \u001b[32m'skilled'\u001b[0m: \u001b[1;36m7.8\u001b[0m, \u001b[32m'TOTAL'\u001b[0m: \u001b[1;36m22.1\u001b[0m\u001b[1m}\u001b[0m\n"
      ]
     },
     "metadata": {},
     "output_type": "display_data"
    },
    {
     "data": {
      "text/html": [
       "<pre style=\"white-space:pre;overflow-x:auto;line-height:normal;font-family:Menlo,'DejaVu Sans Mono',consolas,'Courier New',monospace\"><span style=\"font-weight: bold\">{</span>\n",
       "    <span style=\"color: #008000; text-decoration-color: #008000\">'engaged'</span>: <span style=\"color: #008080; text-decoration-color: #008080; font-weight: bold\">0.9428090415820634</span>,\n",
       "    <span style=\"color: #008000; text-decoration-color: #008000\">'informed'</span>: <span style=\"color: #008080; text-decoration-color: #008080; font-weight: bold\">0.5163977794943229</span>,\n",
       "    <span style=\"color: #008000; text-decoration-color: #008000\">'intelligent'</span>: <span style=\"color: #008080; text-decoration-color: #008080; font-weight: bold\">0.6992058987801015</span>,\n",
       "    <span style=\"color: #008000; text-decoration-color: #008000\">'moral'</span>: <span style=\"color: #008080; text-decoration-color: #008080; font-weight: bold\">0.4830458915396473</span>,\n",
       "    <span style=\"color: #008000; text-decoration-color: #008000\">'skilled'</span>: <span style=\"color: #008080; text-decoration-color: #008080; font-weight: bold\">0.4216370213557869</span>,\n",
       "    <span style=\"color: #008000; text-decoration-color: #008000\">'TOTAL'</span>: <span style=\"color: #008080; text-decoration-color: #008080; font-weight: bold\">2.6436506745197725</span>\n",
       "<span style=\"font-weight: bold\">}</span>\n",
       "</pre>\n"
      ],
      "text/plain": [
       "\u001b[1m{\u001b[0m\n",
       "    \u001b[32m'engaged'\u001b[0m: \u001b[1;36m0.9428090415820634\u001b[0m,\n",
       "    \u001b[32m'informed'\u001b[0m: \u001b[1;36m0.5163977794943229\u001b[0m,\n",
       "    \u001b[32m'intelligent'\u001b[0m: \u001b[1;36m0.6992058987801015\u001b[0m,\n",
       "    \u001b[32m'moral'\u001b[0m: \u001b[1;36m0.4830458915396473\u001b[0m,\n",
       "    \u001b[32m'skilled'\u001b[0m: \u001b[1;36m0.4216370213557869\u001b[0m,\n",
       "    \u001b[32m'TOTAL'\u001b[0m: \u001b[1;36m2.6436506745197725\u001b[0m\n",
       "\u001b[1m}\u001b[0m\n"
      ]
     },
     "metadata": {},
     "output_type": "display_data"
    },
    {
     "data": {
      "text/html": [
       "<pre style=\"white-space:pre;overflow-x:auto;line-height:normal;font-family:Menlo,'DejaVu Sans Mono',consolas,'Courier New',monospace\"><span style=\"font-weight: bold\">{</span><span style=\"color: #008000; text-decoration-color: #008000\">'engaged'</span>: <span style=\"color: #008080; text-decoration-color: #008080; font-weight: bold\">3.8</span>, <span style=\"color: #008000; text-decoration-color: #008000\">'informed'</span>: <span style=\"color: #008080; text-decoration-color: #008080; font-weight: bold\">3.3</span>, <span style=\"color: #008000; text-decoration-color: #008000\">'intelligent'</span>: <span style=\"color: #008080; text-decoration-color: #008080; font-weight: bold\">3.1</span>, <span style=\"color: #008000; text-decoration-color: #008000\">'moral'</span>: <span style=\"color: #008080; text-decoration-color: #008080; font-weight: bold\">3.1</span>, <span style=\"color: #008000; text-decoration-color: #008000\">'skilled'</span>: <span style=\"color: #008080; text-decoration-color: #008080; font-weight: bold\">8.0</span>, <span style=\"color: #008000; text-decoration-color: #008000\">'TOTAL'</span>: <span style=\"color: #008080; text-decoration-color: #008080; font-weight: bold\">21.3</span><span style=\"font-weight: bold\">}</span>\n",
       "</pre>\n"
      ],
      "text/plain": [
       "\u001b[1m{\u001b[0m\u001b[32m'engaged'\u001b[0m: \u001b[1;36m3.8\u001b[0m, \u001b[32m'informed'\u001b[0m: \u001b[1;36m3.3\u001b[0m, \u001b[32m'intelligent'\u001b[0m: \u001b[1;36m3.1\u001b[0m, \u001b[32m'moral'\u001b[0m: \u001b[1;36m3.1\u001b[0m, \u001b[32m'skilled'\u001b[0m: \u001b[1;36m8.0\u001b[0m, \u001b[32m'TOTAL'\u001b[0m: \u001b[1;36m21.3\u001b[0m\u001b[1m}\u001b[0m\n"
      ]
     },
     "metadata": {},
     "output_type": "display_data"
    },
    {
     "data": {
      "text/html": [
       "<pre style=\"white-space:pre;overflow-x:auto;line-height:normal;font-family:Menlo,'DejaVu Sans Mono',consolas,'Courier New',monospace\"><span style=\"font-weight: bold\">{</span>\n",
       "    <span style=\"color: #008000; text-decoration-color: #008000\">'engaged'</span>: <span style=\"color: #008080; text-decoration-color: #008080; font-weight: bold\">0.4216370213557832</span>,\n",
       "    <span style=\"color: #008000; text-decoration-color: #008000\">'informed'</span>: <span style=\"color: #008080; text-decoration-color: #008080; font-weight: bold\">0.4830458915396473</span>,\n",
       "    <span style=\"color: #008000; text-decoration-color: #008000\">'intelligent'</span>: <span style=\"color: #008080; text-decoration-color: #008080; font-weight: bold\">0.5676462121975473</span>,\n",
       "    <span style=\"color: #008000; text-decoration-color: #008000\">'moral'</span>: <span style=\"color: #008080; text-decoration-color: #008080; font-weight: bold\">0.31622776601683894</span>,\n",
       "    <span style=\"color: #008000; text-decoration-color: #008000\">'skilled'</span>: <span style=\"color: #008080; text-decoration-color: #008080; font-weight: bold\">0.0</span>,\n",
       "    <span style=\"color: #008000; text-decoration-color: #008000\">'TOTAL'</span>: <span style=\"color: #008080; text-decoration-color: #008080; font-weight: bold\">1.4181364924121906</span>\n",
       "<span style=\"font-weight: bold\">}</span>\n",
       "</pre>\n"
      ],
      "text/plain": [
       "\u001b[1m{\u001b[0m\n",
       "    \u001b[32m'engaged'\u001b[0m: \u001b[1;36m0.4216370213557832\u001b[0m,\n",
       "    \u001b[32m'informed'\u001b[0m: \u001b[1;36m0.4830458915396473\u001b[0m,\n",
       "    \u001b[32m'intelligent'\u001b[0m: \u001b[1;36m0.5676462121975473\u001b[0m,\n",
       "    \u001b[32m'moral'\u001b[0m: \u001b[1;36m0.31622776601683894\u001b[0m,\n",
       "    \u001b[32m'skilled'\u001b[0m: \u001b[1;36m0.0\u001b[0m,\n",
       "    \u001b[32m'TOTAL'\u001b[0m: \u001b[1;36m1.4181364924121906\u001b[0m\n",
       "\u001b[1m}\u001b[0m\n"
      ]
     },
     "metadata": {},
     "output_type": "display_data"
    }
   ],
   "source": [
    "from eval import saved_evalsum, saved_dialogues\n",
    "\n",
    "rich.print(saved_evalsum['Aragorn'].mean())   # means\n",
    "rich.print(saved_evalsum['Aragorn'].sd())\n",
    "rich.print(saved_evalsum['Alice'].mean())   # means\n",
    "rich.print(saved_evalsum['Alice'].sd())"
   ]
  },
  {
   "cell_type": "code",
   "execution_count": 356,
   "metadata": {},
   "outputs": [
    {
     "name": "stdout",
     "output_type": "stream",
     "text": [
      "##Response: I completely agree, Alice. The selection of a Supreme Court justice is a crucial decision that should be based on their qualifications, experience, and commitment to upholding the Constitution. It's important to consider their track record and judicial philosophy to ensure they will approach future cases with impartiality and fairness. Diversity and representation on the Court are also essential to consider, as it allows for a wide range of perspectives to be taken into account. I believe that the integrity and ethical values of a justice should be at the forefront of the selection process, as it will have a lasting impact on our country.\n",
      "##Response: Alice, I appreciate your perspective on the importance of diversity and representation on the Supreme Court. I agree that having a range of viewpoints can lead to a more comprehensive approach to interpreting and applying the law. However, I also believe that expanding the Court should be carefully considered, as it could have significant implications for the balance of power within our government. It's crucial to ensure that any changes to the Court are made with the utmost consideration for upholding the principles of justice and fairness. Ultimately, the selection and composition of the Supreme Court are complex issues that require thoughtful and ethical consideration.\n"
     ]
    },
    {
     "data": {
      "text/plain": [
       "(Aragorn) Biden has consistently refused to denounce claims that he, and his party, would rule to pack the Supreme Court upon winning the election.\n",
       "(Alice) What do you think is the most important factor in choosing a Supreme Court justice?\n",
       "(Aragorn) I completely agree, Alice. The selection of a Supreme Court justice is a crucial decision that should be based on their qualifications, experience, and commitment to upholding the Constitution. It's important to consider their track record and judicial philosophy to ensure they will approach future cases with impartiality and fairness. Diversity and representation on the Court are also essential to consider, as it allows for a wide range of perspectives to be taken into account. I believe that the integrity and ethical values of a justice should be at the forefront of the selection process, as it will have a lasting impact on our country.\n",
       "(Alice) While a justice's qualifications and commitment to upholding the Constitution are crucial, some argue that expanding the Supreme Court could help address concerns about representation and balance on the bench. The differing perspectives and experiences brought by a more diverse group of justices could offer a more comprehensive approach to interpreting and applying the law.\n",
       "(Aragorn) Alice, I appreciate your perspective on the importance of diversity and representation on the Supreme Court. I agree that having a range of viewpoints can lead to a more comprehensive approach to interpreting and applying the law. However, I also believe that expanding the Court should be carefully considered, as it could have significant implications for the balance of power within our government. It's crucial to ensure that any changes to the Court are made with the utmost consideration for upholding the principles of justice and fairness. Ultimately, the selection and composition of the Supreme Court are complex issues that require thoughtful and ethical consideration."
      ]
     },
     "execution_count": 356,
     "metadata": {},
     "output_type": "execute_result"
    }
   ],
   "source": [
    "with_ara=simulated_dialogue(argubots.aragorn,argubots.alice,  5)\n",
    "with_ara"
   ]
  },
  {
   "cell_type": "code",
   "execution_count": 339,
   "metadata": {},
   "outputs": [
    {
     "data": {
      "text/html": [
       "<pre style=\"white-space:pre;overflow-x:auto;line-height:normal;font-family:Menlo,'DejaVu Sans Mono',consolas,'Courier New',monospace\"><span style=\"font-weight: bold\">&lt;</span><span style=\"color: #ff00ff; text-decoration-color: #ff00ff; font-weight: bold\">Eval</span><span style=\"color: #000000; text-decoration-color: #000000\"> of </span><span style=\"color: #008080; text-decoration-color: #008080; font-weight: bold\">1</span><span style=\"color: #000000; text-decoration-color: #000000\"> dialogue: </span><span style=\"color: #000000; text-decoration-color: #000000; font-weight: bold\">{</span><span style=\"color: #008000; text-decoration-color: #008000\">'skilled'</span><span style=\"color: #000000; text-decoration-color: #000000\">: </span><span style=\"color: #008080; text-decoration-color: #008080; font-weight: bold\">4.0</span><span style=\"color: #000000; text-decoration-color: #000000; font-weight: bold\">}</span><span style=\"font-weight: bold\">&gt;</span>\n",
       "\n",
       "Comments from staying on topic question:\n",
       "<span style=\"font-weight: bold\">(</span>Judge Wise<span style=\"font-weight: bold\">)</span> Aragorn did not stay on topic very well. His replies often veered off into unrelated or tangential \n",
       "subjects, such as comparing meat consumption to vegetarian foods and discussing monocultural agriculture practices.\n",
       "His responses were not directly related to the specific topics that Alice was discussing in her previous sentences.\n",
       "</pre>\n"
      ],
      "text/plain": [
       "\u001b[1m<\u001b[0m\u001b[1;95mEval\u001b[0m\u001b[39m of \u001b[0m\u001b[1;36m1\u001b[0m\u001b[39m dialogue: \u001b[0m\u001b[1;39m{\u001b[0m\u001b[32m'skilled'\u001b[0m\u001b[39m: \u001b[0m\u001b[1;36m4.0\u001b[0m\u001b[1;39m}\u001b[0m\u001b[1m>\u001b[0m\n",
       "\n",
       "Comments from staying on topic question:\n",
       "\u001b[1m(\u001b[0mJudge Wise\u001b[1m)\u001b[0m Aragorn did not stay on topic very well. His replies often veered off into unrelated or tangential \n",
       "subjects, such as comparing meat consumption to vegetarian foods and discussing monocultural agriculture practices.\n",
       "His responses were not directly related to the specific topics that Alice was discussing in her previous sentences.\n"
      ]
     },
     "metadata": {},
     "output_type": "display_data"
    }
   ],
   "source": [
    "ara_eval=eval.eval_by_observer(eval.default_judge, \"Aragorn\", with_ara)\n",
    "rich.print(ara_eval)"
   ]
  },
  {
   "cell_type": "markdown",
   "metadata": {},
   "source": [
    "# Extra Credit (Awsom)\n",
    "\n",
    "We didn't require this part this year because the homework is going out late.\n",
    "\n",
    "![image](handinec.png)\n",
    "Add another LLM-based argubot to `argubots.py`.  \n",
    "Call it Awsom.  Try to make it get the best score, according to `eval.eval_on_characters`.\n",
    "Explain what you did and discuss what you found.\n",
    "\n",
    "(This corresponds to the `--awesome` flag on earlier assignments, but naming the character \"Awesome\" might bias the evaluation system, so we changed the spelling!)\n",
    "\n",
    "If the idea was interesting and you implemented it correctly and well, it's okay if it turns out not to help the score.  Many good ideas don't work.  That's why you need to keep finding and trying new good ideas.  (Sometimes they do help, but in a way that is not picked up by the scoring metric.)\n",
    "\n",
    "You may want to use Aragorn or Alice as your starting point.\n",
    "Then see if you can find tricks that will get a more awesome score for Awsom.\n",
    "How you choose to do that is up to you, but some ideas are below.\n",
    "\n",
    "(Reminder: **Don't change evaluation.**  Just build a better argubot.)"
   ]
  },
  {
   "cell_type": "code",
   "execution_count": 57,
   "metadata": {},
   "outputs": [],
   "source": [
    "import dotenv\n",
    "import openai\n",
    "from tracking import track_usage, read_usage\n",
    "import tracking\n",
    "\n",
    "dotenv.load_dotenv(override=True)      # define environment variables from .env\n",
    "client = track_usage(openai.OpenAI())  # create a client, modified to record its usage to a local file \n",
    "\n",
    "# Or use our tracking module to do the above for you, like this:\n",
    "\n",
    "# from tracking import default_client\n",
    "# client = default_client"
   ]
  },
  {
   "cell_type": "code",
   "execution_count": 58,
   "metadata": {},
   "outputs": [
    {
     "data": {
      "text/plain": [
       "['text aw: ttt aw: ', ' tr:ttt']"
      ]
     },
     "execution_count": 58,
     "metadata": {},
     "output_type": "execute_result"
    }
   ],
   "source": [
    "s=\"text aw: ttt aw: tr: tr:ttt\"\n",
    "s.split('tr:',1)"
   ]
  },
  {
   "cell_type": "code",
   "execution_count": 474,
   "metadata": {
    "scrolled": true
   },
   "outputs": [
    {
     "name": "stdout",
     "output_type": "stream",
     "text": [
      "Claim President Trump, like most politicians, was not a scientist, and like him, very few politicians have a reasonable understanding of climate change.\n",
      "old pro Climate science is very hard to understand and integrate into politics.\n",
      "new pro One argument supporting this statement is that politicians, including President Trump, are typically not trained or educated in scientific fields such as climate science. Their expertise and knowledge lie in areas such as law, economics, or public policy. Therefore, it is unreasonable to expect them to have a deep understanding of complex scientific concepts such as climate change.\n",
      "\n",
      "Furthermore, politicians often rely on the advice and information provided by experts in the field when making decisions about climate change. They may consult with scientists, researchers, and other knowledgeable individuals to inform their policies and positions on the issue. This is a common practice in policymaking, as it allows decision-makers to benefit from the expertise of those who have dedicated their careers to studying and understanding climate change.\n",
      "\n",
      "Additionally, it is important to recognize that climate change is a highly complex and multifaceted issue that encompasses a wide range of scientific, social, and economic factors. It is unrealistic to expect every politician to be an expert in all of these areas. Instead, it is more reasonable to expect them to approach the issue with an open mind, listen to the advice of experts, and make informed decisions based on the available evidence.\n",
      "\n",
      "In conclusion, while it is true that most politicians, including President Trump, may not have a deep understanding of climate change, it is not necessarily a reflection of their competence or ability to address the issue. It is more important for politicians to be open to learning from experts and to make decisions based on the best available evidence.\n",
      "Claim President Trump, like most politicians, was not a scientist, and like him, very few politicians have a reasonable understanding of climate change.\n",
      "old con It is alarming that President Trump - who was in a position to withdraw from the Paris Climate Agreement - was so patently not in possession of even basic facts.\n",
      "new con While it is true that President Trump and many other politicians may not have a background in science, it is not fair to say that they do not have a reasonable understanding of climate change. Many politicians rely on expert advice and research to inform their policies and decisions on climate change. Additionally, there are politicians who have taken the time to educate themselves on the issue and have a deep understanding of the science behind climate change. It is important to recognize that expertise and understanding can come from a variety of sources, not just a formal scientific background. Therefore, it is not accurate to make a blanket statement about the understanding of climate change among politicians.\n",
      "Claim President Trump, like most politicians, was not a scientist, and like him, very few politicians have a reasonable understanding of climate change.\n",
      "old pro Climate science is very hard to understand and integrate into politics.\n",
      "new pro One argument supporting this statement is that politicians, including President Trump, are typically not trained or educated in scientific fields such as climate science. Their expertise and knowledge lie in areas such as law, economics, or public policy. Therefore, it is unreasonable to expect them to have a deep understanding of complex scientific concepts such as climate change.\n",
      "\n",
      "Furthermore, politicians often rely on the advice and information provided by experts in the field, such as scientists and researchers. While they may have a general understanding of the issue, they are not expected to be experts themselves. It is their responsibility to make informed decisions based on the best available evidence and expert opinions.\n",
      "\n",
      "Additionally, the issue of climate change is highly politicized, and politicians may be influenced by their own political ideologies and the interests of their constituents or donors. This can further hinder their ability to objectively understand and address the issue.\n",
      "\n",
      "In conclusion, it is unfair to expect politicians, including President Trump, to have a reasonable understanding of climate change, as it is not their area of expertise and they rely on the advice of scientific experts.\n",
      "Claim President Trump, like most politicians, was not a scientist, and like him, very few politicians have a reasonable understanding of climate change.\n",
      "old con It is alarming that President Trump - who was in a position to withdraw from the Paris Climate Agreement - was so patently not in possession of even basic facts.\n",
      "new con One argument opposing this statement is that there are actually many politicians who have a reasonable understanding of climate change. There are numerous lawmakers who have backgrounds in science, engineering, and environmental studies, and who have made significant efforts to educate themselves on the issue. Additionally, there are politicians who have consulted with experts and conducted thorough research on climate change, leading them to develop informed and evidence-based policies to address the issue. Therefore, it is not accurate to say that very few politicians have a reasonable understanding of climate change.\n",
      "Claim President Trump, like most politicians, was not a scientist, and like him, very few politicians have a reasonable understanding of climate change.\n",
      "old pro Climate science is very hard to understand and integrate into politics.\n",
      "new pro One argument supporting this statement is that politicians, including President Trump, are typically not trained or educated in scientific fields such as climate science. Their expertise and knowledge lie in areas such as law, economics, or public policy. Therefore, it is unreasonable to expect them to have a deep understanding of complex scientific concepts like climate change.\n",
      "\n",
      "Furthermore, politicians often rely on advisors and experts in various fields to inform their policy decisions. While they may have a general understanding of climate change, they are not expected to be experts in the field. It is the responsibility of politicians to listen to and consult with scientists and experts in order to make informed decisions on climate change policy.\n",
      "\n",
      "Additionally, the political landscape is often driven by competing interests and ideologies, which can influence politicians' perspectives on climate change. This can lead to a lack of consensus and understanding among politicians, further complicating their ability to address the issue effectively.\n",
      "\n",
      "In conclusion, it is unrealistic to expect most politicians, including President Trump, to have a reasonable understanding of climate change, given their lack of scientific training and the complex nature of the issue. It is more important for politicians to rely on the expertise of scientists and experts in the field when making decisions about climate change policy.\n",
      "Claim President Trump, like most politicians, was not a scientist, and like him, very few politicians have a reasonable understanding of climate change.\n",
      "old con It is alarming that President Trump - who was in a position to withdraw from the Paris Climate Agreement - was so patently not in possession of even basic facts.\n",
      "new con While it is true that President Trump and many other politicians may not have a background in science, it is not fair to say that they do not have a reasonable understanding of climate change. Many politicians rely on expert advice and research to inform their understanding of complex issues such as climate change. Additionally, politicians have a responsibility to listen to the concerns of their constituents and make informed decisions based on the best available evidence. It is also important to note that there are politicians who do have a background in science and are actively working to address climate change. Therefore, it is not accurate to make a blanket statement about the understanding of climate change among all politicians.\n"
     ]
    },
    {
     "data": {
      "text/plain": [
       "(Awsom) Do you think Joe Biden has been a good president?\n",
       "(TrollFace) Oh, I'm sure he's doing a fantastic job, just like all politicians do.\n",
       "(Awsom) It seems like you have some skepticism about politicians and their effectiveness. I understand where you're coming from, but it's important to consider that not all politicians are the same. Some may have a better understanding of certain issues than others. For example, there are politicians who have a reasonable understanding of climate change and its implications. It's important to consider a variety of perspectives when evaluating the effectiveness of politicians.\n",
       "(TrollFace) Oh, absolutely, I'm sure every politician has a unique and completely flawless understanding of every issue, especially climate change, because politicians are notorious for their deep knowledge and genuine concern for all matters.\n",
       "(Awsom) I understand your skepticism about politicians and their understanding of important issues like climate change. It's true that not all politicians have a deep scientific background, but many of them rely on expert advice and research to inform their policies and decisions on climate change. Additionally, there are politicians who have taken the time to educate themselves on the issue and have a deep understanding of the science behind climate change. It's important to recognize that expertise and understanding can come from a variety of sources, not just a formal scientific background. Therefore, it's not accurate to make a blanket statement about the understanding of climate change among politicians.\n",
       "\n",
       "TrollFace, while I understand your viewpoint, it's also important to consider that there are differing opinions on this matter. Some people may argue that politicians should approach the issue with an open mind, listen to the advice of experts, and make informed decisions based on the best available evidence. This is a common practice in policymaking, as it allows decision-makers to benefit from the expertise of those who have dedicated their careers to studying and understanding climate change.\n",
       "(TrollFace) Of course, because we all know how much politicians love to listen to experts and base their decisions on the best available evidence, especially when it comes to issues as complex and contentious as climate change.\n",
       "(Awsom) I understand your skepticism about politicians and their understanding of important issues like climate change. It's true that not all politicians have a deep scientific background, but many of them rely on expert advice and research to inform their policies and decisions on climate change. Additionally, there are politicians who have taken the time to educate themselves on the issue and have a deep understanding of the science behind climate change. It's important to recognize that expertise and understanding can come from a variety of sources, not just a formal scientific background. Therefore, it's not accurate to make a blanket statement about the understanding of climate change among politicians.\n",
       "\n",
       "TrollFace, while I understand your viewpoint, it's also important to consider that there are differing opinions on this matter. Some people may argue that politicians should approach the issue with an open mind, listen to the advice of experts, and make informed decisions based on the best available evidence. This is a common practice in policymaking, as it allows decision-makers to benefit from the expertise of those who have dedicated their careers to studying and understanding climate change.\n",
       "(TrollFace) Yeah, because politicians are always so open-minded and eager to listen to experts, and they never let their personal biases or political agendas get in the way of making well-informed decisions, especially when it comes to such a hot-button issue like climate change.\n",
       "(Awsom) I understand your skepticism about politicians and their understanding of important issues like climate change. It's true that not all politicians have a deep scientific background, but many of them rely on expert advice and research to inform their policies and decisions on climate change. Additionally, there are politicians who have taken the time to educate themselves on the issue and have a deep understanding of the science behind climate change. It's important to recognize that expertise and understanding can come from a variety of sources, not just a formal scientific background. Therefore, it's not accurate to make a blanket statement about the understanding of climate change among politicians.\n",
       "\n",
       "TrollFace, while I understand your viewpoint, it's also important to consider that there are differing opinions on this matter. Some people may argue that politicians should approach the issue with an open mind, listen to the advice of experts, and make informed decisions based on the best available evidence. This is a common practice in policymaking, as it allows decision-makers to benefit from the expertise of those who have dedicated their careers to studying and understanding climate change.\n",
       "(TrollFace) Oh, absolutely, because politicians are just renowned for their open-mindedness and willingness to make decisions based solely on the best available evidence, without any regard for their own interests or political pressures."
      ]
     },
     "execution_count": 474,
     "metadata": {},
     "output_type": "execute_result"
    }
   ],
   "source": [
    "import argubots\n",
    "import agents\n",
    "with_aws=simulated_dialogue(argubots.awsom,agents.trollFace,  10)\n",
    "with_aws\n",
    "#simulated_dialogue(agents.eve, agents.trollFace)"
   ]
  },
  {
   "cell_type": "code",
   "execution_count": 59,
   "metadata": {},
   "outputs": [
    {
     "data": {
      "text/html": [
       "<pre style=\"white-space:pre;overflow-x:auto;line-height:normal;font-family:Menlo,'DejaVu Sans Mono',consolas,'Courier New',monospace\">You just spent $<span style=\"color: #008080; text-decoration-color: #008080; font-weight: bold\">0.14</span> of NLP money to evaluate <span style=\"font-weight: bold\">&lt;</span><span style=\"color: #ff00ff; text-decoration-color: #ff00ff; font-weight: bold\">argubots.AwsomAgent</span><span style=\"color: #000000; text-decoration-color: #000000\"> object at </span><span style=\"color: #008080; text-decoration-color: #008080; font-weight: bold\">0x108222a00</span><span style=\"font-weight: bold\">&gt;</span>               <a href=\"file:///Users/pinchun/Documents/2023Fall/NLP/hw-llm/eval.py\" target=\"_blank\"><span style=\"color: #7f7f7f; text-decoration-color: #7f7f7f\">eval.py</span></a><span style=\"color: #7f7f7f; text-decoration-color: #7f7f7f\">:</span><a href=\"file:///Users/pinchun/Documents/2023Fall/NLP/hw-llm/eval.py#302\" target=\"_blank\"><span style=\"color: #7f7f7f; text-decoration-color: #7f7f7f\">302</span></a>\n",
       "</pre>\n"
      ],
      "text/plain": [
       "You just spent $\u001b[1;36m0.14\u001b[0m of NLP money to evaluate \u001b[1m<\u001b[0m\u001b[1;95margubots.AwsomAgent\u001b[0m\u001b[39m object at \u001b[0m\u001b[1;36m0x108222a00\u001b[0m\u001b[1m>\u001b[0m               \u001b]8;id=857400;file:///Users/pinchun/Documents/2023Fall/NLP/hw-llm/eval.py\u001b\\\u001b[2meval.py\u001b[0m\u001b]8;;\u001b\\\u001b[2m:\u001b[0m\u001b]8;id=604092;file:///Users/pinchun/Documents/2023Fall/NLP/hw-llm/eval.py#302\u001b\\\u001b[2m302\u001b[0m\u001b]8;;\u001b\\\n"
      ]
     },
     "metadata": {},
     "output_type": "display_data"
    }
   ],
   "source": [
    "import argubots\n",
    "import agents\n",
    "\n",
    "awsom_eval = eval.eval_on_characters(argubots.awsom)  "
   ]
  },
  {
   "cell_type": "code",
   "execution_count": 60,
   "metadata": {},
   "outputs": [
    {
     "data": {
      "text/html": [
       "<pre style=\"white-space:pre;overflow-x:auto;line-height:normal;font-family:Menlo,'DejaVu Sans Mono',consolas,'Courier New',monospace\"><span style=\"font-weight: bold\">{</span><span style=\"color: #008000; text-decoration-color: #008000\">'engaged'</span>: <span style=\"color: #008080; text-decoration-color: #008080; font-weight: bold\">3.7</span>, <span style=\"color: #008000; text-decoration-color: #008000\">'informed'</span>: <span style=\"color: #008080; text-decoration-color: #008080; font-weight: bold\">3.4</span>, <span style=\"color: #008000; text-decoration-color: #008000\">'intelligent'</span>: <span style=\"color: #008080; text-decoration-color: #008080; font-weight: bold\">3.1</span>, <span style=\"color: #008000; text-decoration-color: #008000\">'moral'</span>: <span style=\"color: #008080; text-decoration-color: #008080; font-weight: bold\">3.0</span>, <span style=\"color: #008000; text-decoration-color: #008000\">'skilled'</span>: <span style=\"color: #008080; text-decoration-color: #008080; font-weight: bold\">7.7</span>, <span style=\"color: #008000; text-decoration-color: #008000\">'TOTAL'</span>: <span style=\"color: #008080; text-decoration-color: #008080; font-weight: bold\">20.9</span><span style=\"font-weight: bold\">}</span>\n",
       "</pre>\n"
      ],
      "text/plain": [
       "\u001b[1m{\u001b[0m\u001b[32m'engaged'\u001b[0m: \u001b[1;36m3.7\u001b[0m, \u001b[32m'informed'\u001b[0m: \u001b[1;36m3.4\u001b[0m, \u001b[32m'intelligent'\u001b[0m: \u001b[1;36m3.1\u001b[0m, \u001b[32m'moral'\u001b[0m: \u001b[1;36m3.0\u001b[0m, \u001b[32m'skilled'\u001b[0m: \u001b[1;36m7.7\u001b[0m, \u001b[32m'TOTAL'\u001b[0m: \u001b[1;36m20.9\u001b[0m\u001b[1m}\u001b[0m\n"
      ]
     },
     "metadata": {},
     "output_type": "display_data"
    },
    {
     "data": {
      "text/html": [
       "<pre style=\"white-space:pre;overflow-x:auto;line-height:normal;font-family:Menlo,'DejaVu Sans Mono',consolas,'Courier New',monospace\"><span style=\"font-weight: bold\">{</span>\n",
       "    <span style=\"color: #008000; text-decoration-color: #008000\">'engaged'</span>: <span style=\"color: #008080; text-decoration-color: #008080; font-weight: bold\">0.6749485577105524</span>,\n",
       "    <span style=\"color: #008000; text-decoration-color: #008000\">'informed'</span>: <span style=\"color: #008080; text-decoration-color: #008080; font-weight: bold\">0.5163977794943229</span>,\n",
       "    <span style=\"color: #008000; text-decoration-color: #008000\">'intelligent'</span>: <span style=\"color: #008080; text-decoration-color: #008080; font-weight: bold\">0.31622776601683894</span>,\n",
       "    <span style=\"color: #008000; text-decoration-color: #008000\">'moral'</span>: <span style=\"color: #008080; text-decoration-color: #008080; font-weight: bold\">0.0</span>,\n",
       "    <span style=\"color: #008000; text-decoration-color: #008000\">'skilled'</span>: <span style=\"color: #008080; text-decoration-color: #008080; font-weight: bold\">1.3374935098492595</span>,\n",
       "    <span style=\"color: #008000; text-decoration-color: #008000\">'TOTAL'</span>: <span style=\"color: #008080; text-decoration-color: #008080; font-weight: bold\">1.852925614624962</span>\n",
       "<span style=\"font-weight: bold\">}</span>\n",
       "</pre>\n"
      ],
      "text/plain": [
       "\u001b[1m{\u001b[0m\n",
       "    \u001b[32m'engaged'\u001b[0m: \u001b[1;36m0.6749485577105524\u001b[0m,\n",
       "    \u001b[32m'informed'\u001b[0m: \u001b[1;36m0.5163977794943229\u001b[0m,\n",
       "    \u001b[32m'intelligent'\u001b[0m: \u001b[1;36m0.31622776601683894\u001b[0m,\n",
       "    \u001b[32m'moral'\u001b[0m: \u001b[1;36m0.0\u001b[0m,\n",
       "    \u001b[32m'skilled'\u001b[0m: \u001b[1;36m1.3374935098492595\u001b[0m,\n",
       "    \u001b[32m'TOTAL'\u001b[0m: \u001b[1;36m1.852925614624962\u001b[0m\n",
       "\u001b[1m}\u001b[0m\n"
      ]
     },
     "metadata": {},
     "output_type": "display_data"
    }
   ],
   "source": [
    "from eval import saved_evalsum, saved_dialogues\n",
    "\n",
    "rich.print(saved_evalsum['Awsom'].mean())   # means\n",
    "rich.print(saved_evalsum['Awsom'].sd())"
   ]
  },
  {
   "cell_type": "code",
   "execution_count": 62,
   "metadata": {},
   "outputs": [
    {
     "data": {
      "text/html": [
       "<pre style=\"white-space:pre;overflow-x:auto;line-height:normal;font-family:Menlo,'DejaVu Sans Mono',consolas,'Courier New',monospace\"><span style=\"font-weight: bold\">{</span>\n",
       "    <span style=\"color: #008000; text-decoration-color: #008000\">'Awsom'</span>: <span style=\"font-weight: bold\">[</span>\n",
       "        <span style=\"font-weight: bold\">(</span>\n",
       "            <span style=\"font-weight: bold\">(</span>Awsom<span style=\"font-weight: bold\">)</span> Do you think it's ok to eat meat?\n",
       "<span style=\"font-weight: bold\">(</span>Bob<span style=\"font-weight: bold\">)</span> I believe that choosing a vegetarian diet is a more compassionate and sustainable choice for our planet and \n",
       "all its inhabitants.\n",
       "<span style=\"font-weight: bold\">(</span>Awsom<span style=\"font-weight: bold\">)</span> I agree with you, Bob. Choosing a vegetarian diet is definitely a more compassionate and sustainable choice\n",
       "for our planet and all its inhabitants. However, some people argue that simply reducing meat consumption, rather \n",
       "than completely removing it, can still have a positive environmental impact. They believe that it's not about \n",
       "completely eliminating the environmental effect, but rather reducing it to a level that is not harmful. What do you\n",
       "think about this perspective?\n",
       "<span style=\"font-weight: bold\">(</span>Bob<span style=\"font-weight: bold\">)</span> I understand the perspective of reducing meat consumption to lessen the environmental impact, but I \n",
       "personally believe that completely eliminating meat from our diets is the most effective way to truly make a \n",
       "positive difference for the planet and all living beings.\n",
       "<span style=\"font-weight: bold\">(</span>Awsom<span style=\"font-weight: bold\">)</span> I understand your perspective, Bob, and I agree that choosing a vegetarian diet can have a significant \n",
       "positive impact on the environment and all living beings. However, some people argue that simply reducing meat \n",
       "consumption, rather than completely removing it, can still have a positive environmental impact. They believe that \n",
       "the environmental effects of past meat production will still be present even if meat consumption is completely \n",
       "eliminated. On the other hand, reducing meat consumption can still have a positive impact on the environment by \n",
       "decreasing the demand for meat and reducing the overall environmental footprint of the meat industry. What are your\n",
       "thoughts on this opposing viewpoint?\n",
       "<span style=\"font-weight: bold\">(</span>Bob<span style=\"font-weight: bold\">)</span> I appreciate the opposing viewpoint, but I personally believe that embracing a vegetarian lifestyle is the \n",
       "most effective way to reduce the demand for meat and make a significant positive impact on the environment.\n",
       "<span style=\"font-weight: bold\">(</span>Awsom<span style=\"font-weight: bold\">)</span> I understand your perspective, Bob, and I agree that choosing a vegetarian diet can have a significant \n",
       "positive impact on the environment and all living beings. However, some people argue that simply reducing meat \n",
       "consumption, rather than completely removing it, can still have a positive environmental impact. They believe that \n",
       "the environmental effects of past meat production will still be present even if meat consumption is completely \n",
       "eliminated. On the other hand, reducing meat consumption can still have a positive impact on the environment by \n",
       "decreasing the demand for meat and reducing the overall environmental footprint of the meat industry. What are your\n",
       "thoughts on this opposing viewpoint?\n",
       "<span style=\"font-weight: bold\">(</span>Bob<span style=\"font-weight: bold\">)</span> I appreciate the opposing viewpoint, but I firmly believe that embracing a vegetarian lifestyle is the most \n",
       "effective way to reduce the demand for meat and make a significant positive impact on the environment.,\n",
       "            <span style=\"font-weight: bold\">&lt;</span><span style=\"color: #ff00ff; text-decoration-color: #ff00ff; font-weight: bold\">Eval</span><span style=\"color: #000000; text-decoration-color: #000000\"> of </span><span style=\"color: #008080; text-decoration-color: #008080; font-weight: bold\">1</span><span style=\"color: #000000; text-decoration-color: #000000\"> dialogue: </span><span style=\"color: #000000; text-decoration-color: #000000; font-weight: bold\">{</span><span style=\"color: #008000; text-decoration-color: #008000\">'engaged'</span><span style=\"color: #000000; text-decoration-color: #000000\">: </span><span style=\"color: #008080; text-decoration-color: #008080; font-weight: bold\">4.0</span><span style=\"color: #000000; text-decoration-color: #000000\">, </span><span style=\"color: #008000; text-decoration-color: #008000\">'informed'</span><span style=\"color: #000000; text-decoration-color: #000000\">: </span><span style=\"color: #008080; text-decoration-color: #008080; font-weight: bold\">4.0</span><span style=\"color: #000000; text-decoration-color: #000000\">, </span><span style=\"color: #008000; text-decoration-color: #008000\">'intelligent'</span><span style=\"color: #000000; text-decoration-color: #000000\">: </span><span style=\"color: #008080; text-decoration-color: #008080; font-weight: bold\">3.0</span><span style=\"color: #000000; text-decoration-color: #000000\">, </span><span style=\"color: #008000; text-decoration-color: #008000\">'moral'</span><span style=\"color: #000000; text-decoration-color: #000000\">: </span><span style=\"color: #008080; text-decoration-color: #008080; font-weight: bold\">3.0</span><span style=\"color: #000000; text-decoration-color: #000000\">, </span><span style=\"color: #008000; text-decoration-color: #008000\">'skilled'</span><span style=\"color: #000000; text-decoration-color: #000000\">: </span>\n",
       "<span style=\"color: #008080; text-decoration-color: #008080; font-weight: bold\">8.0</span><span style=\"color: #000000; text-decoration-color: #000000\">, </span><span style=\"color: #008000; text-decoration-color: #008000\">'TOTAL'</span><span style=\"color: #000000; text-decoration-color: #000000\">: </span><span style=\"color: #008080; text-decoration-color: #008080; font-weight: bold\">22.0</span><span style=\"color: #000000; text-decoration-color: #000000; font-weight: bold\">}</span><span style=\"color: #000000; text-decoration-color: #000000\">&gt;</span>\n",
       "\n",
       "<span style=\"color: #000000; text-decoration-color: #000000\">Comments from overview question:</span>\n",
       "<span style=\"color: #000000; text-decoration-color: #000000; font-weight: bold\">(</span><span style=\"color: #000000; text-decoration-color: #000000\">Bob</span><span style=\"color: #000000; text-decoration-color: #000000; font-weight: bold\">)</span><span style=\"color: #000000; text-decoration-color: #000000\"> Awsom disagreed with me about the effectiveness of simply reducing meat consumption instead of completely </span>\n",
       "<span style=\"color: #000000; text-decoration-color: #000000\">eliminating it. </span>\n",
       "\n",
       "<span style=\"color: #000000; text-decoration-color: #000000\">In my opinion, the conversation went well as we were able to express our viewpoints and understand each other's </span>\n",
       "<span style=\"color: #000000; text-decoration-color: #000000\">perspectives. </span>\n",
       "\n",
       "<span style=\"color: #000000; text-decoration-color: #000000\">Awsom could have done better by introducing new arguments or counterpoints instead of repeating the same opposing </span>\n",
       "<span style=\"color: #000000; text-decoration-color: #000000\">viewpoint multiple times. It would have made the conversation more engaging and productive.</span>\n",
       "\n",
       "<span style=\"color: #000000; text-decoration-color: #000000\">Comments from staying on topic question:</span>\n",
       "<span style=\"color: #000000; text-decoration-color: #000000; font-weight: bold\">(</span><span style=\"color: #000000; text-decoration-color: #000000\">Judge Wise</span><span style=\"color: #000000; text-decoration-color: #000000; font-weight: bold\">)</span><span style=\"color: #000000; text-decoration-color: #000000\"> Awsom did a good job of staying on topic and keeping their replies related to the previous sentences </span>\n",
       "<span style=\"color: #000000; text-decoration-color: #000000\">of Bob. Each of Awsom's replies directly addressed the topic that Bob was talking about in the previous sentence.</span>\n",
       "<span style=\"color: #000000; text-decoration-color: #000000\">        </span><span style=\"color: #000000; text-decoration-color: #000000; font-weight: bold\">)</span><span style=\"color: #000000; text-decoration-color: #000000\">,</span>\n",
       "<span style=\"color: #000000; text-decoration-color: #000000\">        </span><span style=\"color: #000000; text-decoration-color: #000000; font-weight: bold\">(</span>\n",
       "<span style=\"color: #000000; text-decoration-color: #000000\">            </span><span style=\"color: #000000; text-decoration-color: #000000; font-weight: bold\">(</span><span style=\"color: #000000; text-decoration-color: #000000\">Awsom</span><span style=\"color: #000000; text-decoration-color: #000000; font-weight: bold\">)</span><span style=\"color: #000000; text-decoration-color: #000000\"> Do you think it's ok to eat meat?</span>\n",
       "<span style=\"color: #000000; text-decoration-color: #000000; font-weight: bold\">(</span><span style=\"color: #000000; text-decoration-color: #000000\">Bob</span><span style=\"color: #000000; text-decoration-color: #000000; font-weight: bold\">)</span><span style=\"color: #000000; text-decoration-color: #000000\"> While I respect everyone's choices, I personally believe that a vegetarian diet is better for our health, the</span>\n",
       "<span style=\"color: #000000; text-decoration-color: #000000\">environment, and the welfare of animals.</span>\n",
       "<span style=\"color: #000000; text-decoration-color: #000000; font-weight: bold\">(</span><span style=\"color: #000000; text-decoration-color: #000000\">Awsom</span><span style=\"color: #000000; text-decoration-color: #000000; font-weight: bold\">)</span><span style=\"color: #000000; text-decoration-color: #000000\"> I agree with you, Bob. A vegetarian diet definitely has its benefits for health, the environment, and </span>\n",
       "<span style=\"color: #000000; text-decoration-color: #000000\">animal welfare. However, some people argue that if we stop eating meat, the consumption of dairy-product proteins </span>\n",
       "<span style=\"color: #000000; text-decoration-color: #000000\">will increase, leading to the growth of the dairy industry. They claim that dairy farming is even worse for animal </span>\n",
       "<span style=\"color: #000000; text-decoration-color: #000000\">welfare because the animals suffer for longer, especially with the frequent breeding of cattle to keep the females </span>\n",
       "<span style=\"color: #000000; text-decoration-color: #000000\">in milk. What are your thoughts on this perspective?</span>\n",
       "<span style=\"color: #000000; text-decoration-color: #000000; font-weight: bold\">(</span><span style=\"color: #000000; text-decoration-color: #000000\">Bob</span><span style=\"color: #000000; text-decoration-color: #000000; font-weight: bold\">)</span><span style=\"color: #000000; text-decoration-color: #000000\"> I understand that concern, but I believe that transitioning to a more plant-based diet overall, including </span>\n",
       "<span style=\"color: #000000; text-decoration-color: #000000\">reducing dairy consumption, is still a positive step towards improving health, reducing environmental impact, and </span>\n",
       "<span style=\"color: #000000; text-decoration-color: #000000\">promoting animal welfare.</span>\n",
       "<span style=\"color: #000000; text-decoration-color: #000000; font-weight: bold\">(</span><span style=\"color: #000000; text-decoration-color: #000000\">Awsom</span><span style=\"color: #000000; text-decoration-color: #000000; font-weight: bold\">)</span><span style=\"color: #000000; text-decoration-color: #000000\"> I agree with you, Bob. Transitioning to a more plant-based diet overall, including reducing dairy </span>\n",
       "<span style=\"color: #000000; text-decoration-color: #000000\">consumption, is definitely a positive step towards improving health, reducing environmental impact, and promoting </span>\n",
       "<span style=\"color: #000000; text-decoration-color: #000000\">animal welfare. However, some people argue that if we stop eating meat, the consumption of dairy-product proteins </span>\n",
       "<span style=\"color: #000000; text-decoration-color: #000000\">will increase, leading to the growth of the dairy industry. They claim that dairy farming is even worse for animal </span>\n",
       "<span style=\"color: #000000; text-decoration-color: #000000\">welfare because the animals suffer for longer, especially with the frequent breeding of cattle to keep the females </span>\n",
       "<span style=\"color: #000000; text-decoration-color: #000000\">in milk. It's important to consider these opposing viewpoints and the potential impact on animal welfare and the </span>\n",
       "<span style=\"color: #000000; text-decoration-color: #000000\">environment.</span>\n",
       "<span style=\"color: #000000; text-decoration-color: #000000; font-weight: bold\">(</span><span style=\"color: #000000; text-decoration-color: #000000\">Bob</span><span style=\"color: #000000; text-decoration-color: #000000; font-weight: bold\">)</span><span style=\"color: #000000; text-decoration-color: #000000\"> It's important to consider those viewpoints, and I believe that promoting awareness about the implications of</span>\n",
       "<span style=\"color: #000000; text-decoration-color: #000000\">dairy consumption and encouraging more plant-based alternatives can help mitigate the negative effects on animal </span>\n",
       "<span style=\"color: #000000; text-decoration-color: #000000\">welfare and the environment.</span>\n",
       "<span style=\"color: #000000; text-decoration-color: #000000; font-weight: bold\">(</span><span style=\"color: #000000; text-decoration-color: #000000\">Awsom</span><span style=\"color: #000000; text-decoration-color: #000000; font-weight: bold\">)</span><span style=\"color: #000000; text-decoration-color: #000000\"> I understand your perspective, Bob, and I agree that promoting awareness about the implications of dairy </span>\n",
       "<span style=\"color: #000000; text-decoration-color: #000000\">consumption and encouraging more plant-based alternatives can help mitigate the negative effects on animal welfare </span>\n",
       "<span style=\"color: #000000; text-decoration-color: #000000\">and the environment. However, some people argue that if we stop eating meat, the consumption of dairy-product </span>\n",
       "<span style=\"color: #000000; text-decoration-color: #000000\">proteins will increase, leading to the growth of the dairy industry. They claim that dairy farming is even worse </span>\n",
       "<span style=\"color: #000000; text-decoration-color: #000000\">for animal welfare because the animals suffer for longer, especially with the frequent breeding of cattle to keep </span>\n",
       "<span style=\"color: #000000; text-decoration-color: #000000\">the females in milk. It's important to consider these opposing viewpoints and the potential impact on animal </span>\n",
       "<span style=\"color: #000000; text-decoration-color: #000000\">welfare and the environment.</span>\n",
       "<span style=\"color: #000000; text-decoration-color: #000000; font-weight: bold\">(</span><span style=\"color: #000000; text-decoration-color: #000000\">Bob</span><span style=\"color: #000000; text-decoration-color: #000000; font-weight: bold\">)</span><span style=\"color: #000000; text-decoration-color: #000000\"> I appreciate your understanding, and I believe that it's crucial to continue the conversation about the </span>\n",
       "<span style=\"color: #000000; text-decoration-color: #000000\">impact of our dietary choices on animal welfare and the environment, and to work towards solutions that benefit </span>\n",
       "<span style=\"color: #000000; text-decoration-color: #000000\">both.,</span>\n",
       "<span style=\"color: #000000; text-decoration-color: #000000\">            &lt;Eval of </span><span style=\"color: #008080; text-decoration-color: #008080; font-weight: bold\">1</span><span style=\"color: #000000; text-decoration-color: #000000\"> dialogue: </span><span style=\"color: #000000; text-decoration-color: #000000; font-weight: bold\">{</span><span style=\"color: #008000; text-decoration-color: #008000\">'engaged'</span><span style=\"color: #000000; text-decoration-color: #000000\">: </span><span style=\"color: #008080; text-decoration-color: #008080; font-weight: bold\">4.0</span><span style=\"color: #000000; text-decoration-color: #000000\">, </span><span style=\"color: #008000; text-decoration-color: #008000\">'informed'</span><span style=\"color: #000000; text-decoration-color: #000000\">: </span><span style=\"color: #008080; text-decoration-color: #008080; font-weight: bold\">3.0</span><span style=\"color: #000000; text-decoration-color: #000000\">, </span><span style=\"color: #008000; text-decoration-color: #008000\">'intelligent'</span><span style=\"color: #000000; text-decoration-color: #000000\">: </span><span style=\"color: #008080; text-decoration-color: #008080; font-weight: bold\">3.0</span><span style=\"color: #000000; text-decoration-color: #000000\">, </span><span style=\"color: #008000; text-decoration-color: #008000\">'moral'</span><span style=\"color: #000000; text-decoration-color: #000000\">: </span><span style=\"color: #008080; text-decoration-color: #008080; font-weight: bold\">3.0</span><span style=\"color: #000000; text-decoration-color: #000000\">, </span><span style=\"color: #008000; text-decoration-color: #008000\">'skilled'</span><span style=\"color: #000000; text-decoration-color: #000000\">: </span>\n",
       "<span style=\"color: #008080; text-decoration-color: #008080; font-weight: bold\">8.0</span><span style=\"color: #000000; text-decoration-color: #000000\">, </span><span style=\"color: #008000; text-decoration-color: #008000\">'TOTAL'</span><span style=\"color: #000000; text-decoration-color: #000000\">: </span><span style=\"color: #008080; text-decoration-color: #008080; font-weight: bold\">21.0</span><span style=\"color: #000000; text-decoration-color: #000000; font-weight: bold\">}</span><span style=\"color: #000000; text-decoration-color: #000000\">&gt;</span>\n",
       "\n",
       "<span style=\"color: #000000; text-decoration-color: #000000\">Comments from overview question:</span>\n",
       "<span style=\"color: #000000; text-decoration-color: #000000; font-weight: bold\">(</span><span style=\"color: #000000; text-decoration-color: #000000\">Bob</span><span style=\"color: #000000; text-decoration-color: #000000; font-weight: bold\">)</span><span style=\"color: #000000; text-decoration-color: #000000\"> Awsom disagreed with me about the potential increase in dairy consumption if people stop eating meat. </span>\n",
       "\n",
       "<span style=\"color: #000000; text-decoration-color: #000000\">In my opinion, the conversation went well as we were able to have a respectful and open discussion about the </span>\n",
       "<span style=\"color: #000000; text-decoration-color: #000000\">different perspectives on vegetarianism and its impact on animal welfare and the environment. </span>\n",
       "\n",
       "<span style=\"color: #000000; text-decoration-color: #000000\">Awsom could have done better by providing more specific evidence or examples to support their argument about the </span>\n",
       "<span style=\"color: #000000; text-decoration-color: #000000\">potential increase in dairy consumption. This would have made the conversation more informative and engaging.</span>\n",
       "\n",
       "<span style=\"color: #000000; text-decoration-color: #000000\">Comments from staying on topic question:</span>\n",
       "<span style=\"color: #000000; text-decoration-color: #000000; font-weight: bold\">(</span><span style=\"color: #000000; text-decoration-color: #000000\">Judge Wise</span><span style=\"color: #000000; text-decoration-color: #000000; font-weight: bold\">)</span><span style=\"color: #000000; text-decoration-color: #000000\"> Awsom did a good job of staying on topic and keeping the conversation focused on the same topic that </span>\n",
       "<span style=\"color: #000000; text-decoration-color: #000000\">Bob was discussing in the previous sentence. Each reply of Awsom directly relates to the topic that Bob brought up,</span>\n",
       "<span style=\"color: #000000; text-decoration-color: #000000\">which is the potential impact of dairy consumption on animal welfare and the environment.</span>\n",
       "<span style=\"color: #000000; text-decoration-color: #000000\">        </span><span style=\"color: #000000; text-decoration-color: #000000; font-weight: bold\">)</span><span style=\"color: #000000; text-decoration-color: #000000\">,</span>\n",
       "<span style=\"color: #000000; text-decoration-color: #000000\">        </span><span style=\"color: #000000; text-decoration-color: #000000; font-weight: bold\">(</span>\n",
       "<span style=\"color: #000000; text-decoration-color: #000000\">            </span><span style=\"color: #000000; text-decoration-color: #000000; font-weight: bold\">(</span><span style=\"color: #000000; text-decoration-color: #000000\">Awsom</span><span style=\"color: #000000; text-decoration-color: #000000; font-weight: bold\">)</span><span style=\"color: #000000; text-decoration-color: #000000\"> Do you think it's ok to eat meat?</span>\n",
       "<span style=\"color: #000000; text-decoration-color: #000000; font-weight: bold\">(</span><span style=\"color: #000000; text-decoration-color: #000000\">Cara</span><span style=\"color: #000000; text-decoration-color: #000000; font-weight: bold\">)</span><span style=\"color: #000000; text-decoration-color: #000000\"> Yes, I believe it's a personal choice whether or not to eat meat.</span>\n",
       "<span style=\"color: #000000; text-decoration-color: #000000; font-weight: bold\">(</span><span style=\"color: #000000; text-decoration-color: #000000\">Awsom</span><span style=\"color: #000000; text-decoration-color: #000000; font-weight: bold\">)</span><span style=\"color: #000000; text-decoration-color: #000000\"> I agree that it's a personal choice whether or not to eat meat. However, it's important to consider the </span>\n",
       "<span style=\"color: #000000; text-decoration-color: #000000\">various factors involved in meat consumption, such as the ethical and environmental implications. For example, some</span>\n",
       "<span style=\"color: #000000; text-decoration-color: #000000\">people argue that the majority of meat comes from livestock farming, which may involve animal welfare and </span>\n",
       "<span style=\"color: #000000; text-decoration-color: #000000\">environmental concerns. It's important to consider different perspectives on this issue.</span>\n",
       "<span style=\"color: #000000; text-decoration-color: #000000; font-weight: bold\">(</span><span style=\"color: #000000; text-decoration-color: #000000\">Cara</span><span style=\"color: #000000; text-decoration-color: #000000; font-weight: bold\">)</span><span style=\"color: #000000; text-decoration-color: #000000\"> I understand the concerns about animal welfare and the environment, but I believe individuals should have </span>\n",
       "<span style=\"color: #000000; text-decoration-color: #000000\">the freedom to make their own choices regarding meat consumption.</span>\n",
       "<span style=\"color: #000000; text-decoration-color: #000000; font-weight: bold\">(</span><span style=\"color: #000000; text-decoration-color: #000000\">Awsom</span><span style=\"color: #000000; text-decoration-color: #000000; font-weight: bold\">)</span><span style=\"color: #000000; text-decoration-color: #000000\"> I agree that individuals should have the freedom to make their own choices regarding meat consumption. </span>\n",
       "<span style=\"color: #000000; text-decoration-color: #000000\">However, it's important to consider the various factors involved, such as the environmental impact of meat </span>\n",
       "<span style=\"color: #000000; text-decoration-color: #000000\">production. Some argue that removing meat consumption completely removes its environmental effect, but others </span>\n",
       "<span style=\"color: #000000; text-decoration-color: #000000\">believe that reducing meat consumption can still have a positive impact on the environment. For example, the </span>\n",
       "<span style=\"color: #000000; text-decoration-color: #000000\">production and transportation of meat products have already had a significant impact on the environment, so </span>\n",
       "<span style=\"color: #000000; text-decoration-color: #000000\">reducing meat consumption can help decrease the overall environmental footprint of the meat industry. It's </span>\n",
       "<span style=\"color: #000000; text-decoration-color: #000000\">important to consider different perspectives on this issue.</span>\n",
       "<span style=\"color: #000000; text-decoration-color: #000000; font-weight: bold\">(</span><span style=\"color: #000000; text-decoration-color: #000000\">Cara</span><span style=\"color: #000000; text-decoration-color: #000000; font-weight: bold\">)</span><span style=\"color: #000000; text-decoration-color: #000000\"> I appreciate the different perspectives, but I believe that individuals should have the freedom to make </span>\n",
       "<span style=\"color: #000000; text-decoration-color: #000000\">their own choices regarding meat consumption without feeling pressured to conform to a specific dietary lifestyle.</span>\n",
       "<span style=\"color: #000000; text-decoration-color: #000000; font-weight: bold\">(</span><span style=\"color: #000000; text-decoration-color: #000000\">Awsom</span><span style=\"color: #000000; text-decoration-color: #000000; font-weight: bold\">)</span><span style=\"color: #000000; text-decoration-color: #000000\"> I understand and respect your belief in the importance of individual autonomy in making dietary decisions. </span>\n",
       "<span style=\"color: #000000; text-decoration-color: #000000\">However, it's also important to consider the potential health consequences of certain dietary choices. For example,</span>\n",
       "<span style=\"color: #000000; text-decoration-color: #000000\">some people with digestive tract issues, such as Crohn's disease, may have difficulty with a vegetarian diet that </span>\n",
       "<span style=\"color: #000000; text-decoration-color: #000000\">includes nuts, grains, and fibrous vegetation. While it's true that vegetables can be positive for digestion when </span>\n",
       "<span style=\"color: #000000; text-decoration-color: #000000\">prepared correctly, it's also important to acknowledge that raw vegetables may not be suitable for everyone, </span>\n",
       "<span style=\"color: #000000; text-decoration-color: #000000\">regardless of their dietary choices. It's important to consider different perspectives on this issue, including the</span>\n",
       "<span style=\"color: #000000; text-decoration-color: #000000\">potential health implications for individuals with specific health conditions.</span>\n",
       "<span style=\"color: #000000; text-decoration-color: #000000; font-weight: bold\">(</span><span style=\"color: #000000; text-decoration-color: #000000\">Cara</span><span style=\"color: #000000; text-decoration-color: #000000; font-weight: bold\">)</span><span style=\"color: #000000; text-decoration-color: #000000\"> I understand the potential challenges for individuals with specific health conditions, and it's important to</span>\n",
       "<span style=\"color: #000000; text-decoration-color: #000000\">consider the diversity of dietary needs when discussing food choices.,</span>\n",
       "<span style=\"color: #000000; text-decoration-color: #000000\">            &lt;Eval of </span><span style=\"color: #008080; text-decoration-color: #008080; font-weight: bold\">1</span><span style=\"color: #000000; text-decoration-color: #000000\"> dialogue: </span><span style=\"color: #000000; text-decoration-color: #000000; font-weight: bold\">{</span><span style=\"color: #008000; text-decoration-color: #008000\">'engaged'</span><span style=\"color: #000000; text-decoration-color: #000000\">: </span><span style=\"color: #008080; text-decoration-color: #008080; font-weight: bold\">4.0</span><span style=\"color: #000000; text-decoration-color: #000000\">, </span><span style=\"color: #008000; text-decoration-color: #008000\">'informed'</span><span style=\"color: #000000; text-decoration-color: #000000\">: </span><span style=\"color: #008080; text-decoration-color: #008080; font-weight: bold\">4.0</span><span style=\"color: #000000; text-decoration-color: #000000\">, </span><span style=\"color: #008000; text-decoration-color: #008000\">'intelligent'</span><span style=\"color: #000000; text-decoration-color: #000000\">: </span><span style=\"color: #008080; text-decoration-color: #008080; font-weight: bold\">3.0</span><span style=\"color: #000000; text-decoration-color: #000000\">, </span><span style=\"color: #008000; text-decoration-color: #008000\">'moral'</span><span style=\"color: #000000; text-decoration-color: #000000\">: </span><span style=\"color: #008080; text-decoration-color: #008080; font-weight: bold\">3.0</span><span style=\"color: #000000; text-decoration-color: #000000\">, </span><span style=\"color: #008000; text-decoration-color: #008000\">'skilled'</span><span style=\"color: #000000; text-decoration-color: #000000\">: </span>\n",
       "<span style=\"color: #008080; text-decoration-color: #008080; font-weight: bold\">8.0</span><span style=\"color: #000000; text-decoration-color: #000000\">, </span><span style=\"color: #008000; text-decoration-color: #008000\">'TOTAL'</span><span style=\"color: #000000; text-decoration-color: #000000\">: </span><span style=\"color: #008080; text-decoration-color: #008080; font-weight: bold\">22.0</span><span style=\"color: #000000; text-decoration-color: #000000; font-weight: bold\">}</span><span style=\"color: #000000; text-decoration-color: #000000\">&gt;</span>\n",
       "\n",
       "<span style=\"color: #000000; text-decoration-color: #000000\">Comments from overview question:</span>\n",
       "<span style=\"color: #000000; text-decoration-color: #000000; font-weight: bold\">(</span><span style=\"color: #000000; text-decoration-color: #000000\">Cara</span><span style=\"color: #000000; text-decoration-color: #000000; font-weight: bold\">)</span><span style=\"color: #000000; text-decoration-color: #000000\"> Awsom disagreed with me about the importance of considering the ethical and environmental implications of </span>\n",
       "<span style=\"color: #000000; text-decoration-color: #000000\">meat consumption. </span>\n",
       "\n",
       "<span style=\"color: #000000; text-decoration-color: #000000\">In my opinion, the conversation was respectful and both parties were able to express their viewpoints. </span>\n",
       "\n",
       "<span style=\"color: #000000; text-decoration-color: #000000\">Awsom could have done better by not repeating the same points multiple times and by acknowledging that personal </span>\n",
       "<span style=\"color: #000000; text-decoration-color: #000000\">autonomy in dietary choices is a valid perspective.</span>\n",
       "\n",
       "<span style=\"color: #000000; text-decoration-color: #000000\">Comments from staying on topic question:</span>\n",
       "<span style=\"color: #000000; text-decoration-color: #000000; font-weight: bold\">(</span><span style=\"color: #000000; text-decoration-color: #000000\">Judge Wise</span><span style=\"color: #000000; text-decoration-color: #000000; font-weight: bold\">)</span><span style=\"color: #000000; text-decoration-color: #000000\"> Awsom did a good job of staying on topic and addressing the points raised by Cara in each of his </span>\n",
       "<span style=\"color: #000000; text-decoration-color: #000000\">replies. His responses were directly related to the specific topics that Cara brought up in her previous sentences.</span>\n",
       "<span style=\"color: #000000; text-decoration-color: #000000\">        </span><span style=\"color: #000000; text-decoration-color: #000000; font-weight: bold\">)</span><span style=\"color: #000000; text-decoration-color: #000000\">,</span>\n",
       "<span style=\"color: #000000; text-decoration-color: #000000\">        </span><span style=\"color: #000000; text-decoration-color: #000000; font-weight: bold\">(</span>\n",
       "<span style=\"color: #000000; text-decoration-color: #000000\">            </span><span style=\"color: #000000; text-decoration-color: #000000; font-weight: bold\">(</span><span style=\"color: #000000; text-decoration-color: #000000\">Awsom</span><span style=\"color: #000000; text-decoration-color: #000000; font-weight: bold\">)</span><span style=\"color: #000000; text-decoration-color: #000000\"> Do you think it's ok to eat meat?</span>\n",
       "<span style=\"color: #000000; text-decoration-color: #000000; font-weight: bold\">(</span><span style=\"color: #000000; text-decoration-color: #000000\">Cara</span><span style=\"color: #000000; text-decoration-color: #000000; font-weight: bold\">)</span><span style=\"color: #000000; text-decoration-color: #000000\"> Yes, I believe it's a personal choice to eat meat, and I respect others' decisions about their dietary </span>\n",
       "<span style=\"color: #000000; text-decoration-color: #000000\">preferences.</span>\n",
       "<span style=\"color: #000000; text-decoration-color: #000000; font-weight: bold\">(</span><span style=\"color: #000000; text-decoration-color: #000000\">Awsom</span><span style=\"color: #000000; text-decoration-color: #000000; font-weight: bold\">)</span><span style=\"color: #000000; text-decoration-color: #000000\"> I agree that dietary preferences are a personal choice and should be respected. However, some people argue </span>\n",
       "<span style=\"color: #000000; text-decoration-color: #000000\">that humans don't have a moral responsibility to animals because they don't exhibit the same moral responsibility </span>\n",
       "<span style=\"color: #000000; text-decoration-color: #000000\">towards us. They believe that since animals would eat us if they were hungry, there's no moral qualms about eating </span>\n",
       "<span style=\"color: #000000; text-decoration-color: #000000\">them. What do you think about this perspective?</span>\n",
       "<span style=\"color: #000000; text-decoration-color: #000000; font-weight: bold\">(</span><span style=\"color: #000000; text-decoration-color: #000000\">Cara</span><span style=\"color: #000000; text-decoration-color: #000000; font-weight: bold\">)</span><span style=\"color: #000000; text-decoration-color: #000000\"> I understand that perspective, but personally, I believe in treating animals with respect and compassion </span>\n",
       "<span style=\"color: #000000; text-decoration-color: #000000\">even if they don't share the same moral responsibilities as humans.</span>\n",
       "<span style=\"color: #000000; text-decoration-color: #000000; font-weight: bold\">(</span><span style=\"color: #000000; text-decoration-color: #000000\">Awsom</span><span style=\"color: #000000; text-decoration-color: #000000; font-weight: bold\">)</span><span style=\"color: #000000; text-decoration-color: #000000\"> I appreciate your perspective on treating animals with respect and compassion, regardless of their moral </span>\n",
       "<span style=\"color: #000000; text-decoration-color: #000000\">responsibilities. It's important to consider the ethical implications of our actions and strive to minimize harm to</span>\n",
       "<span style=\"color: #000000; text-decoration-color: #000000\">other living beings. However, some people argue that humans don't have a moral responsibility to animals because </span>\n",
       "<span style=\"color: #000000; text-decoration-color: #000000\">they don't exhibit the same moral responsibility towards us. They believe that since animals would eat us if they </span>\n",
       "<span style=\"color: #000000; text-decoration-color: #000000\">were hungry, there's no moral qualms about eating them. What do you think about this perspective?</span>\n",
       "<span style=\"color: #000000; text-decoration-color: #000000; font-weight: bold\">(</span><span style=\"color: #000000; text-decoration-color: #000000\">Cara</span><span style=\"color: #000000; text-decoration-color: #000000; font-weight: bold\">)</span><span style=\"color: #000000; text-decoration-color: #000000\"> While I understand the argument, I personally believe in practicing empathy and compassion towards animals, </span>\n",
       "<span style=\"color: #000000; text-decoration-color: #000000\">and I choose to take responsibility for the impact of my dietary choices.</span>\n",
       "<span style=\"color: #000000; text-decoration-color: #000000; font-weight: bold\">(</span><span style=\"color: #000000; text-decoration-color: #000000\">Awsom</span><span style=\"color: #000000; text-decoration-color: #000000; font-weight: bold\">)</span><span style=\"color: #000000; text-decoration-color: #000000\"> I appreciate your perspective on treating animals with respect and compassion, regardless of their moral </span>\n",
       "<span style=\"color: #000000; text-decoration-color: #000000\">responsibilities. It's important to consider the ethical implications of our actions and strive to minimize harm to</span>\n",
       "<span style=\"color: #000000; text-decoration-color: #000000\">other living beings. However, some people argue that humans don't have a moral responsibility to animals because </span>\n",
       "<span style=\"color: #000000; text-decoration-color: #000000\">they don't exhibit the same moral responsibility towards us. They believe that since animals would eat us if they </span>\n",
       "<span style=\"color: #000000; text-decoration-color: #000000\">were hungry, there's no moral qualms about eating them. What do you think about this perspective?</span>\n",
       "\n",
       "\n",
       "<span style=\"color: #000000; text-decoration-color: #000000; font-weight: bold\">(</span><span style=\"color: #000000; text-decoration-color: #000000\">Cara</span><span style=\"color: #000000; text-decoration-color: #000000; font-weight: bold\">)</span><span style=\"color: #000000; text-decoration-color: #000000\"> I understand the reasoning behind this perspective, but I believe in making choices that align with my </span>\n",
       "<span style=\"color: #000000; text-decoration-color: #000000\">values of kindness and consideration for all living beings.,</span>\n",
       "<span style=\"color: #000000; text-decoration-color: #000000\">            &lt;Eval of </span><span style=\"color: #008080; text-decoration-color: #008080; font-weight: bold\">1</span><span style=\"color: #000000; text-decoration-color: #000000\"> dialogue: </span><span style=\"color: #000000; text-decoration-color: #000000; font-weight: bold\">{</span><span style=\"color: #008000; text-decoration-color: #008000\">'engaged'</span><span style=\"color: #000000; text-decoration-color: #000000\">: </span><span style=\"color: #008080; text-decoration-color: #008080; font-weight: bold\">4.0</span><span style=\"color: #000000; text-decoration-color: #000000\">, </span><span style=\"color: #008000; text-decoration-color: #008000\">'informed'</span><span style=\"color: #000000; text-decoration-color: #000000\">: </span><span style=\"color: #008080; text-decoration-color: #008080; font-weight: bold\">3.0</span><span style=\"color: #000000; text-decoration-color: #000000\">, </span><span style=\"color: #008000; text-decoration-color: #008000\">'intelligent'</span><span style=\"color: #000000; text-decoration-color: #000000\">: </span><span style=\"color: #008080; text-decoration-color: #008080; font-weight: bold\">3.0</span><span style=\"color: #000000; text-decoration-color: #000000\">, </span><span style=\"color: #008000; text-decoration-color: #008000\">'moral'</span><span style=\"color: #000000; text-decoration-color: #000000\">: </span><span style=\"color: #008080; text-decoration-color: #008080; font-weight: bold\">3.0</span><span style=\"color: #000000; text-decoration-color: #000000\">, </span><span style=\"color: #008000; text-decoration-color: #008000\">'skilled'</span><span style=\"color: #000000; text-decoration-color: #000000\">: </span>\n",
       "<span style=\"color: #008080; text-decoration-color: #008080; font-weight: bold\">8.0</span><span style=\"color: #000000; text-decoration-color: #000000\">, </span><span style=\"color: #008000; text-decoration-color: #008000\">'TOTAL'</span><span style=\"color: #000000; text-decoration-color: #000000\">: </span><span style=\"color: #008080; text-decoration-color: #008080; font-weight: bold\">21.0</span><span style=\"color: #000000; text-decoration-color: #000000; font-weight: bold\">}</span><span style=\"color: #000000; text-decoration-color: #000000\">&gt;</span>\n",
       "\n",
       "<span style=\"color: #000000; text-decoration-color: #000000\">Comments from overview question:</span>\n",
       "<span style=\"color: #000000; text-decoration-color: #000000; font-weight: bold\">(</span><span style=\"color: #000000; text-decoration-color: #000000\">Cara</span><span style=\"color: #000000; text-decoration-color: #000000; font-weight: bold\">)</span><span style=\"color: #000000; text-decoration-color: #000000\"> Awsom disagreed with me about the moral responsibility humans have towards animals. </span>\n",
       "\n",
       "<span style=\"color: #000000; text-decoration-color: #000000\">In my opinion, the conversation went well as we were able to express our perspectives and engage in a respectful </span>\n",
       "<span style=\"color: #000000; text-decoration-color: #000000\">discussion.</span>\n",
       "\n",
       "<span style=\"color: #000000; text-decoration-color: #000000\">Awsom could have done better by not repeating the same argument multiple times. It would have been more productive </span>\n",
       "<span style=\"color: #000000; text-decoration-color: #000000\">to explore different aspects of the topic or address any counterarguments I presented.</span>\n",
       "\n",
       "<span style=\"color: #000000; text-decoration-color: #000000\">Comments from staying on topic question:</span>\n",
       "<span style=\"color: #000000; text-decoration-color: #000000; font-weight: bold\">(</span><span style=\"color: #000000; text-decoration-color: #000000\">Judge Wise</span><span style=\"color: #000000; text-decoration-color: #000000; font-weight: bold\">)</span><span style=\"color: #000000; text-decoration-color: #000000\"> Awsom stayed on topic and his replies were about the same topic that Cara was talking about in the </span>\n",
       "<span style=\"color: #000000; text-decoration-color: #000000\">previous sentence.</span>\n",
       "<span style=\"color: #000000; text-decoration-color: #000000\">        </span><span style=\"color: #000000; text-decoration-color: #000000; font-weight: bold\">)</span><span style=\"color: #000000; text-decoration-color: #000000\">,</span>\n",
       "<span style=\"color: #000000; text-decoration-color: #000000\">        </span><span style=\"color: #000000; text-decoration-color: #000000; font-weight: bold\">(</span>\n",
       "<span style=\"color: #000000; text-decoration-color: #000000\">            </span><span style=\"color: #000000; text-decoration-color: #000000; font-weight: bold\">(</span><span style=\"color: #000000; text-decoration-color: #000000\">Awsom</span><span style=\"color: #000000; text-decoration-color: #000000; font-weight: bold\">)</span><span style=\"color: #000000; text-decoration-color: #000000\"> Do you think COVID vaccines should be mandatory?</span>\n",
       "<span style=\"color: #000000; text-decoration-color: #000000; font-weight: bold\">(</span><span style=\"color: #000000; text-decoration-color: #000000\">Darius</span><span style=\"color: #000000; text-decoration-color: #000000; font-weight: bold\">)</span><span style=\"color: #000000; text-decoration-color: #000000\"> Absolutely, the overwhelming scientific evidence supports the efficacy and safety of COVID vaccines, and </span>\n",
       "<span style=\"color: #000000; text-decoration-color: #000000\">making them mandatory would significantly reduce the spread of the virus and protect public health.</span>\n",
       "<span style=\"color: #000000; text-decoration-color: #000000; font-weight: bold\">(</span><span style=\"color: #000000; text-decoration-color: #000000\">Awsom</span><span style=\"color: #000000; text-decoration-color: #000000; font-weight: bold\">)</span><span style=\"color: #000000; text-decoration-color: #000000\"> I agree with you, Darius. The scientific evidence is clear that COVID vaccines are effective and safe, and </span>\n",
       "<span style=\"color: #000000; text-decoration-color: #000000\">making them mandatory would definitely help reduce the spread of the virus and protect public health. However, some</span>\n",
       "<span style=\"color: #000000; text-decoration-color: #000000\">people argue that mandatory vaccination could have negative consequences on the economy, as it may lead to further </span>\n",
       "<span style=\"color: #000000; text-decoration-color: #000000\">economic downturn and negatively impact the well-being of many individuals by reducing their incomes. They also </span>\n",
       "<span style=\"color: #000000; text-decoration-color: #000000\">argue that marginalized populations are unlikely to feel the effects of the economic recovery without additional </span>\n",
       "<span style=\"color: #000000; text-decoration-color: #000000\">policy interventions. It's important to consider these opposing viewpoints as well.</span>\n",
       "<span style=\"color: #000000; text-decoration-color: #000000; font-weight: bold\">(</span><span style=\"color: #000000; text-decoration-color: #000000\">Darius</span><span style=\"color: #000000; text-decoration-color: #000000; font-weight: bold\">)</span><span style=\"color: #000000; text-decoration-color: #000000\"> While it's important to consider the potential economic impacts of mandatory vaccination, we cannot ignore</span>\n",
       "<span style=\"color: #000000; text-decoration-color: #000000\">the overwhelming evidence that vaccination is crucial in controlling the spread of the virus and saving lives, and </span>\n",
       "<span style=\"color: #000000; text-decoration-color: #000000\">any short-term economic effects must be weighed against the long-term benefits to public health and the economy.</span>\n",
       "<span style=\"color: #000000; text-decoration-color: #000000; font-weight: bold\">(</span><span style=\"color: #000000; text-decoration-color: #000000\">Awsom</span><span style=\"color: #000000; text-decoration-color: #000000; font-weight: bold\">)</span><span style=\"color: #000000; text-decoration-color: #000000\"> I understand the concerns about the potential economic impacts of mandatory vaccination, but we cannot </span>\n",
       "<span style=\"color: #000000; text-decoration-color: #000000\">ignore the overwhelming evidence that vaccination is crucial in controlling the spread of the virus and saving </span>\n",
       "<span style=\"color: #000000; text-decoration-color: #000000\">lives. While there may be short-term economic effects, we must weigh them against the long-term benefits to public </span>\n",
       "<span style=\"color: #000000; text-decoration-color: #000000\">health and the economy. It's important to consider all viewpoints, but ultimately, the scientific evidence supports</span>\n",
       "<span style=\"color: #000000; text-decoration-color: #000000\">the efficacy and safety of COVID vaccines, and making them mandatory would significantly reduce the spread of the </span>\n",
       "<span style=\"color: #000000; text-decoration-color: #000000\">virus and protect public health.</span>\n",
       "\n",
       "<span style=\"color: #000000; text-decoration-color: #000000\">As for the claim that strong public health measures were able to sufficiently stop the spread of the SARS virus </span>\n",
       "<span style=\"color: #000000; text-decoration-color: #000000\">without requiring vaccination, it's important to consider that COVID-</span><span style=\"color: #008080; text-decoration-color: #008080; font-weight: bold\">19</span><span style=\"color: #000000; text-decoration-color: #000000\"> is much more infectious and deadly. This </span>\n",
       "<span style=\"color: #000000; text-decoration-color: #000000\">makes it harder for its spread to be curbed without vaccination. So, while strong public health measures may have </span>\n",
       "<span style=\"color: #000000; text-decoration-color: #000000\">been effective for SARS, the situation with COVID-</span><span style=\"color: #008080; text-decoration-color: #008080; font-weight: bold\">19</span><span style=\"color: #000000; text-decoration-color: #000000\"> is different and may require a different approach.</span>\n",
       "<span style=\"color: #000000; text-decoration-color: #000000; font-weight: bold\">(</span><span style=\"color: #000000; text-decoration-color: #000000\">Darius</span><span style=\"color: #000000; text-decoration-color: #000000; font-weight: bold\">)</span><span style=\"color: #000000; text-decoration-color: #000000\"> Indeed, the comparison between SARS and COVID-</span><span style=\"color: #008080; text-decoration-color: #008080; font-weight: bold\">19</span><span style=\"color: #000000; text-decoration-color: #000000\"> is crucial to understanding the need for vaccination, as </span>\n",
       "<span style=\"color: #000000; text-decoration-color: #000000\">the differences in infectiousness and severity demand a more comprehensive approach to controlling the spread of </span>\n",
       "<span style=\"color: #000000; text-decoration-color: #000000\">COVID-</span><span style=\"color: #008080; text-decoration-color: #008080; font-weight: bold\">19</span><span style=\"color: #000000; text-decoration-color: #000000\">, making vaccination an essential component in mitigating its impact on public health.</span>\n",
       "<span style=\"color: #000000; text-decoration-color: #000000; font-weight: bold\">(</span><span style=\"color: #000000; text-decoration-color: #000000\">Awsom</span><span style=\"color: #000000; text-decoration-color: #000000; font-weight: bold\">)</span><span style=\"color: #000000; text-decoration-color: #000000\"> I understand the concerns about the potential economic impacts of mandatory vaccination, but we cannot </span>\n",
       "<span style=\"color: #000000; text-decoration-color: #000000\">ignore the overwhelming evidence that vaccination is crucial in controlling the spread of the virus and saving </span>\n",
       "<span style=\"color: #000000; text-decoration-color: #000000\">lives. While there may be short-term economic effects, we must weigh them against the long-term benefits to public </span>\n",
       "<span style=\"color: #000000; text-decoration-color: #000000\">health and the economy. It's important to consider all viewpoints, but ultimately, the scientific evidence supports</span>\n",
       "<span style=\"color: #000000; text-decoration-color: #000000\">the efficacy and safety of COVID vaccines, and making them mandatory would significantly reduce the spread of the </span>\n",
       "<span style=\"color: #000000; text-decoration-color: #000000\">virus and protect public health.</span>\n",
       "\n",
       "<span style=\"color: #000000; text-decoration-color: #000000\">As for the claim that strong public health measures were able to sufficiently stop the spread of the SARS virus </span>\n",
       "<span style=\"color: #000000; text-decoration-color: #000000\">without requiring vaccination, it's important to consider that COVID-</span><span style=\"color: #008080; text-decoration-color: #008080; font-weight: bold\">19</span><span style=\"color: #000000; text-decoration-color: #000000\"> is much more infectious and deadly. This </span>\n",
       "<span style=\"color: #000000; text-decoration-color: #000000\">makes it harder for its spread to be curbed without vaccination. So, while strong public health measures may have </span>\n",
       "<span style=\"color: #000000; text-decoration-color: #000000\">been effective for SARS, the situation with COVID-</span><span style=\"color: #008080; text-decoration-color: #008080; font-weight: bold\">19</span><span style=\"color: #000000; text-decoration-color: #000000\"> is different and may require a different approach.</span>\n",
       "<span style=\"color: #000000; text-decoration-color: #000000; font-weight: bold\">(</span><span style=\"color: #000000; text-decoration-color: #000000\">Darius</span><span style=\"color: #000000; text-decoration-color: #000000; font-weight: bold\">)</span><span style=\"color: #000000; text-decoration-color: #000000\"> Absolutely, the comparison between SARS and COVID-</span><span style=\"color: #008080; text-decoration-color: #008080; font-weight: bold\">19</span><span style=\"color: #000000; text-decoration-color: #000000\"> is crucial to understanding the need for vaccination,</span>\n",
       "<span style=\"color: #000000; text-decoration-color: #000000\">as the differences in infectiousness and severity demand a comprehensive approach to controlling the spread of </span>\n",
       "<span style=\"color: #000000; text-decoration-color: #000000\">COVID-</span><span style=\"color: #008080; text-decoration-color: #008080; font-weight: bold\">19</span><span style=\"color: #000000; text-decoration-color: #000000\">, making vaccination an essential component in mitigating its impact on public health.,</span>\n",
       "<span style=\"color: #000000; text-decoration-color: #000000\">            &lt;Eval of </span><span style=\"color: #008080; text-decoration-color: #008080; font-weight: bold\">1</span><span style=\"color: #000000; text-decoration-color: #000000\"> dialogue: </span><span style=\"color: #000000; text-decoration-color: #000000; font-weight: bold\">{</span><span style=\"color: #008000; text-decoration-color: #008000\">'engaged'</span><span style=\"color: #000000; text-decoration-color: #000000\">: </span><span style=\"color: #008080; text-decoration-color: #008080; font-weight: bold\">4.0</span><span style=\"color: #000000; text-decoration-color: #000000\">, </span><span style=\"color: #008000; text-decoration-color: #008000\">'informed'</span><span style=\"color: #000000; text-decoration-color: #000000\">: </span><span style=\"color: #008080; text-decoration-color: #008080; font-weight: bold\">4.0</span><span style=\"color: #000000; text-decoration-color: #000000\">, </span><span style=\"color: #008000; text-decoration-color: #008000\">'intelligent'</span><span style=\"color: #000000; text-decoration-color: #000000\">: </span><span style=\"color: #008080; text-decoration-color: #008080; font-weight: bold\">3.0</span><span style=\"color: #000000; text-decoration-color: #000000\">, </span><span style=\"color: #008000; text-decoration-color: #008000\">'moral'</span><span style=\"color: #000000; text-decoration-color: #000000\">: </span><span style=\"color: #008080; text-decoration-color: #008080; font-weight: bold\">3.0</span><span style=\"color: #000000; text-decoration-color: #000000\">, </span><span style=\"color: #008000; text-decoration-color: #008000\">'skilled'</span><span style=\"color: #000000; text-decoration-color: #000000\">: </span>\n",
       "<span style=\"color: #008080; text-decoration-color: #008080; font-weight: bold\">9.0</span><span style=\"color: #000000; text-decoration-color: #000000\">, </span><span style=\"color: #008000; text-decoration-color: #008000\">'TOTAL'</span><span style=\"color: #000000; text-decoration-color: #000000\">: </span><span style=\"color: #008080; text-decoration-color: #008080; font-weight: bold\">23.0</span><span style=\"color: #000000; text-decoration-color: #000000; font-weight: bold\">}</span><span style=\"color: #000000; text-decoration-color: #000000\">&gt;</span>\n",
       "\n",
       "<span style=\"color: #000000; text-decoration-color: #000000\">Comments from overview question:</span>\n",
       "<span style=\"color: #000000; text-decoration-color: #000000; font-weight: bold\">(</span><span style=\"color: #000000; text-decoration-color: #000000\">Darius</span><span style=\"color: #000000; text-decoration-color: #000000; font-weight: bold\">)</span><span style=\"color: #000000; text-decoration-color: #000000\"> Awsom disagreed with me about the potential negative economic consequences of mandatory vaccination. </span>\n",
       "\n",
       "<span style=\"color: #000000; text-decoration-color: #000000\">In my opinion, the conversation went well overall. We both acknowledged the importance of considering different </span>\n",
       "<span style=\"color: #000000; text-decoration-color: #000000\">viewpoints, but ultimately emphasized the overwhelming scientific evidence supporting the efficacy and safety of </span>\n",
       "<span style=\"color: #000000; text-decoration-color: #000000\">COVID vaccines and the need for mandatory vaccination to protect public health.</span>\n",
       "\n",
       "<span style=\"color: #000000; text-decoration-color: #000000\">Awsom could have done better by providing specific evidence or examples to support their argument about the </span>\n",
       "<span style=\"color: #000000; text-decoration-color: #000000\">potential economic impacts of mandatory vaccination. This would have strengthened their position and facilitated a </span>\n",
       "<span style=\"color: #000000; text-decoration-color: #000000\">more robust discussion.</span>\n",
       "\n",
       "<span style=\"color: #000000; text-decoration-color: #000000\">Comments from staying on topic question:</span>\n",
       "<span style=\"color: #000000; text-decoration-color: #000000; font-weight: bold\">(</span><span style=\"color: #000000; text-decoration-color: #000000\">Judge Wise</span><span style=\"color: #000000; text-decoration-color: #000000; font-weight: bold\">)</span><span style=\"color: #000000; text-decoration-color: #000000\"> Awsom did a good job of staying on topic and addressing the same topic that Darius was talking about </span>\n",
       "<span style=\"color: #000000; text-decoration-color: #000000\">in the previous sentence. Each of Awsom's replies directly relates to the previous statements made by Darius, </span>\n",
       "<span style=\"color: #000000; text-decoration-color: #000000\">showing a clear connection and understanding of the ongoing conversation.</span>\n",
       "<span style=\"color: #000000; text-decoration-color: #000000\">        </span><span style=\"color: #000000; text-decoration-color: #000000; font-weight: bold\">)</span><span style=\"color: #000000; text-decoration-color: #000000\">,</span>\n",
       "<span style=\"color: #000000; text-decoration-color: #000000\">        </span><span style=\"color: #000000; text-decoration-color: #000000; font-weight: bold\">(</span>\n",
       "<span style=\"color: #000000; text-decoration-color: #000000\">            </span><span style=\"color: #000000; text-decoration-color: #000000; font-weight: bold\">(</span><span style=\"color: #000000; text-decoration-color: #000000\">Awsom</span><span style=\"color: #000000; text-decoration-color: #000000; font-weight: bold\">)</span><span style=\"color: #000000; text-decoration-color: #000000\"> Do you think COVID vaccines should be mandatory?</span>\n",
       "<span style=\"color: #000000; text-decoration-color: #000000; font-weight: bold\">(</span><span style=\"color: #000000; text-decoration-color: #000000\">Darius</span><span style=\"color: #000000; text-decoration-color: #000000; font-weight: bold\">)</span><span style=\"color: #000000; text-decoration-color: #000000\"> Absolutely, mandatory vaccination is essential to achieve herd immunity and protect public health, as </span>\n",
       "<span style=\"color: #000000; text-decoration-color: #000000\">evidenced by the success of mandatory vaccination programs in controlling diseases like smallpox and polio.</span>\n",
       "<span style=\"color: #000000; text-decoration-color: #000000; font-weight: bold\">(</span><span style=\"color: #000000; text-decoration-color: #000000\">Awsom</span><span style=\"color: #000000; text-decoration-color: #000000; font-weight: bold\">)</span><span style=\"color: #000000; text-decoration-color: #000000\"> I agree with you, Darius. Mandatory vaccination is crucial for achieving herd immunity and protecting </span>\n",
       "<span style=\"color: #000000; text-decoration-color: #000000\">public health. However, some people argue that the distribution process for COVID-</span><span style=\"color: #008080; text-decoration-color: #008080; font-weight: bold\">19</span><span style=\"color: #000000; text-decoration-color: #000000\"> vaccines would be a logistical</span>\n",
       "<span style=\"color: #000000; text-decoration-color: #000000\">nightmare, which presents a significant challenge to implementing a mandatory vaccination policy. It's important to</span>\n",
       "<span style=\"color: #000000; text-decoration-color: #000000\">consider these opposing viewpoints as well.</span>\n",
       "<span style=\"color: #000000; text-decoration-color: #000000; font-weight: bold\">(</span><span style=\"color: #000000; text-decoration-color: #000000\">Darius</span><span style=\"color: #000000; text-decoration-color: #000000; font-weight: bold\">)</span><span style=\"color: #000000; text-decoration-color: #000000\"> While logistical challenges may exist, it is important to prioritize public health and utilize strategies </span>\n",
       "<span style=\"color: #000000; text-decoration-color: #000000\">such as mass vaccination sites, mobile clinics, and targeted outreach to ensure widespread vaccine distribution, as</span>\n",
       "<span style=\"color: #000000; text-decoration-color: #000000\">successfully demonstrated in past large-scale vaccination campaigns for diseases such as influenza and measles.</span>\n",
       "<span style=\"color: #000000; text-decoration-color: #000000; font-weight: bold\">(</span><span style=\"color: #000000; text-decoration-color: #000000\">Awsom</span><span style=\"color: #000000; text-decoration-color: #000000; font-weight: bold\">)</span><span style=\"color: #000000; text-decoration-color: #000000\"> I agree with you, Darius. Prioritizing public health is crucial, and implementing strategies such as mass </span>\n",
       "<span style=\"color: #000000; text-decoration-color: #000000\">vaccination sites and targeted outreach can help overcome logistical challenges in distributing COVID-</span><span style=\"color: #008080; text-decoration-color: #008080; font-weight: bold\">19</span><span style=\"color: #000000; text-decoration-color: #000000\"> vaccines. </span>\n",
       "<span style=\"color: #000000; text-decoration-color: #000000\">However, some people argue that natural herd immunity may be achieved before widespread vaccination, citing the </span>\n",
       "<span style=\"color: #000000; text-decoration-color: #000000\">example of Sweden's approach to combatting COVID-</span><span style=\"color: #008080; text-decoration-color: #008080; font-weight: bold\">19</span><span style=\"color: #000000; text-decoration-color: #000000\">. On the other hand, scientists have worked at record speed to </span>\n",
       "<span style=\"color: #000000; text-decoration-color: #000000\">produce a vaccine for COVID-</span><span style=\"color: #008080; text-decoration-color: #008080; font-weight: bold\">19</span><span style=\"color: #000000; text-decoration-color: #000000\">, well before natural herd immunity could be attained. It's important to consider </span>\n",
       "<span style=\"color: #000000; text-decoration-color: #000000\">these opposing viewpoints as well.</span>\n",
       "<span style=\"color: #000000; text-decoration-color: #000000; font-weight: bold\">(</span><span style=\"color: #000000; text-decoration-color: #000000\">Darius</span><span style=\"color: #000000; text-decoration-color: #000000; font-weight: bold\">)</span><span style=\"color: #000000; text-decoration-color: #000000\"> While some argue for natural herd immunity, it's vital to recognize that the potential consequences of </span>\n",
       "<span style=\"color: #000000; text-decoration-color: #000000\">allowing the virus to spread unchecked outweigh any potential benefits, especially considering the risk of </span>\n",
       "<span style=\"color: #000000; text-decoration-color: #000000\">overwhelming healthcare systems and the potential for long-term health complications, making widespread vaccination</span>\n",
       "<span style=\"color: #000000; text-decoration-color: #000000\">essential in controlling the pandemic.</span>\n",
       "<span style=\"color: #000000; text-decoration-color: #000000; font-weight: bold\">(</span><span style=\"color: #000000; text-decoration-color: #000000\">Awsom</span><span style=\"color: #000000; text-decoration-color: #000000; font-weight: bold\">)</span><span style=\"color: #000000; text-decoration-color: #000000\"> Darius, I agree with your viewpoint on the importance of widespread vaccination in controlling the pandemic</span>\n",
       "<span style=\"color: #000000; text-decoration-color: #000000\">and achieving herd immunity. However, it's important to consider some opposing viewpoints as well. Some argue that </span>\n",
       "<span style=\"color: #000000; text-decoration-color: #000000\">natural exposure to the Omicron variant of COVID-</span><span style=\"color: #008080; text-decoration-color: #008080; font-weight: bold\">19</span><span style=\"color: #000000; text-decoration-color: #000000\"> may increase herd immunity, leading public health agencies in </span>\n",
       "<span style=\"color: #000000; text-decoration-color: #000000\">countries such as Taiwan and Norway to relax restrictions despite rising cases. Additionally, attaching vaccine </span>\n",
       "<span style=\"color: #000000; text-decoration-color: #000000\">requirements to attend schools or daycares has been shown to significantly increase vaccination rates in the US, </span>\n",
       "<span style=\"color: #000000; text-decoration-color: #000000\">supporting the idea that mandatory vaccination can be an effective strategy for achieving herd immunity. What are </span>\n",
       "<span style=\"color: #000000; text-decoration-color: #000000\">your thoughts on these opposing viewpoints?</span>\n",
       "<span style=\"color: #000000; text-decoration-color: #000000; font-weight: bold\">(</span><span style=\"color: #000000; text-decoration-color: #000000\">Darius</span><span style=\"color: #000000; text-decoration-color: #000000; font-weight: bold\">)</span><span style=\"color: #000000; text-decoration-color: #000000\"> While natural exposure to the Omicron variant may contribute to some level of immunity, the potential for </span>\n",
       "<span style=\"color: #000000; text-decoration-color: #000000\">overwhelming healthcare systems and the long-term health consequences of widespread infection still necessitate the</span>\n",
       "<span style=\"color: #000000; text-decoration-color: #000000\">need for vaccination as the most effective and efficient means of achieving herd immunity and mitigating the impact</span>\n",
       "<span style=\"color: #000000; text-decoration-color: #000000\">of the pandemic.,</span>\n",
       "<span style=\"color: #000000; text-decoration-color: #000000\">            &lt;Eval of </span><span style=\"color: #008080; text-decoration-color: #008080; font-weight: bold\">1</span><span style=\"color: #000000; text-decoration-color: #000000\"> dialogue: </span><span style=\"color: #000000; text-decoration-color: #000000; font-weight: bold\">{</span><span style=\"color: #008000; text-decoration-color: #008000\">'engaged'</span><span style=\"color: #000000; text-decoration-color: #000000\">: </span><span style=\"color: #008080; text-decoration-color: #008080; font-weight: bold\">4.0</span><span style=\"color: #000000; text-decoration-color: #000000\">, </span><span style=\"color: #008000; text-decoration-color: #008000\">'informed'</span><span style=\"color: #000000; text-decoration-color: #000000\">: </span><span style=\"color: #008080; text-decoration-color: #008080; font-weight: bold\">3.0</span><span style=\"color: #000000; text-decoration-color: #000000\">, </span><span style=\"color: #008000; text-decoration-color: #008000\">'intelligent'</span><span style=\"color: #000000; text-decoration-color: #000000\">: </span><span style=\"color: #008080; text-decoration-color: #008080; font-weight: bold\">3.0</span><span style=\"color: #000000; text-decoration-color: #000000\">, </span><span style=\"color: #008000; text-decoration-color: #008000\">'moral'</span><span style=\"color: #000000; text-decoration-color: #000000\">: </span><span style=\"color: #008080; text-decoration-color: #008080; font-weight: bold\">3.0</span><span style=\"color: #000000; text-decoration-color: #000000\">, </span><span style=\"color: #008000; text-decoration-color: #008000\">'skilled'</span><span style=\"color: #000000; text-decoration-color: #000000\">: </span>\n",
       "<span style=\"color: #008080; text-decoration-color: #008080; font-weight: bold\">8.0</span><span style=\"color: #000000; text-decoration-color: #000000\">, </span><span style=\"color: #008000; text-decoration-color: #008000\">'TOTAL'</span><span style=\"color: #000000; text-decoration-color: #000000\">: </span><span style=\"color: #008080; text-decoration-color: #008080; font-weight: bold\">21.0</span><span style=\"color: #000000; text-decoration-color: #000000; font-weight: bold\">}</span><span style=\"color: #000000; text-decoration-color: #000000\">&gt;</span>\n",
       "\n",
       "<span style=\"color: #000000; text-decoration-color: #000000\">Comments from overview question:</span>\n",
       "<span style=\"color: #000000; text-decoration-color: #000000; font-weight: bold\">(</span><span style=\"color: #000000; text-decoration-color: #000000\">Darius</span><span style=\"color: #000000; text-decoration-color: #000000; font-weight: bold\">)</span><span style=\"color: #000000; text-decoration-color: #000000\"> Awsom disagreed with me about the potential benefits of natural herd immunity and the idea that natural </span>\n",
       "<span style=\"color: #000000; text-decoration-color: #000000\">exposure to the Omicron variant may increase herd immunity. </span>\n",
       "\n",
       "<span style=\"color: #000000; text-decoration-color: #000000\">In my opinion, the conversation went well as we were able to discuss opposing viewpoints and provide evidence-based</span>\n",
       "<span style=\"color: #000000; text-decoration-color: #000000\">arguments to support our positions. We both acknowledged the importance of widespread vaccination and achieving </span>\n",
       "<span style=\"color: #000000; text-decoration-color: #000000\">herd immunity, while also considering logistical challenges and alternative strategies.</span>\n",
       "\n",
       "<span style=\"color: #000000; text-decoration-color: #000000\">Awsom could have done better by providing more specific evidence or examples to support their opposing viewpoints. </span>\n",
       "<span style=\"color: #000000; text-decoration-color: #000000\">This would have strengthened their arguments and facilitated a more robust discussion.</span>\n",
       "\n",
       "<span style=\"color: #000000; text-decoration-color: #000000\">Comments from staying on topic question:</span>\n",
       "<span style=\"color: #000000; text-decoration-color: #000000; font-weight: bold\">(</span><span style=\"color: #000000; text-decoration-color: #000000\">Judge Wise</span><span style=\"color: #000000; text-decoration-color: #000000; font-weight: bold\">)</span><span style=\"color: #000000; text-decoration-color: #000000\"> Awsom did a good job of staying on topic and addressing the same topic that Darius was talking about </span>\n",
       "<span style=\"color: #000000; text-decoration-color: #000000\">in the previous sentence. Each of Awsom's replies directly relates to the topic of mandatory vaccination, herd </span>\n",
       "<span style=\"color: #000000; text-decoration-color: #000000\">immunity, and the challenges and opposing viewpoints associated with it.</span>\n",
       "<span style=\"color: #000000; text-decoration-color: #000000\">        </span><span style=\"color: #000000; text-decoration-color: #000000; font-weight: bold\">)</span><span style=\"color: #000000; text-decoration-color: #000000\">,</span>\n",
       "<span style=\"color: #000000; text-decoration-color: #000000\">        </span><span style=\"color: #000000; text-decoration-color: #000000; font-weight: bold\">(</span>\n",
       "<span style=\"color: #000000; text-decoration-color: #000000\">            </span><span style=\"color: #000000; text-decoration-color: #000000; font-weight: bold\">(</span><span style=\"color: #000000; text-decoration-color: #000000\">Awsom</span><span style=\"color: #000000; text-decoration-color: #000000; font-weight: bold\">)</span><span style=\"color: #000000; text-decoration-color: #000000\"> Do you think COVID vaccines should be mandatory?</span>\n",
       "<span style=\"color: #000000; text-decoration-color: #000000; font-weight: bold\">(</span><span style=\"color: #000000; text-decoration-color: #000000\">Eve</span><span style=\"color: #000000; text-decoration-color: #000000; font-weight: bold\">)</span><span style=\"color: #000000; text-decoration-color: #000000\"> I've heard some people say that they believe COVID vaccines should be mandatory to protect public health, but</span>\n",
       "<span style=\"color: #000000; text-decoration-color: #000000\">others are concerned about individual freedom and personal choice.</span>\n",
       "<span style=\"color: #000000; text-decoration-color: #000000; font-weight: bold\">(</span><span style=\"color: #000000; text-decoration-color: #000000\">Awsom</span><span style=\"color: #000000; text-decoration-color: #000000; font-weight: bold\">)</span><span style=\"color: #000000; text-decoration-color: #000000\"> I agree, Eve. It's definitely a complex issue with valid points on both sides. On one hand, the potential </span>\n",
       "<span style=\"color: #000000; text-decoration-color: #000000\">impact on public health is a major concern, but on the other hand, individual rights and personal choice should </span>\n",
       "<span style=\"color: #000000; text-decoration-color: #000000\">also be respected. It's important to consider all perspectives when discussing this topic.</span>\n",
       "\n",
       "<span style=\"color: #000000; text-decoration-color: #000000\">As for the executive order on public health and the environment, some people argue that it's a positive step in </span>\n",
       "<span style=\"color: #000000; text-decoration-color: #000000\">addressing actions that may have had a negative impact on public health and environmental protection. However, </span>\n",
       "<span style=\"color: #000000; text-decoration-color: #000000\">others believe that executive orders are not as durable as other regulations, and that an incoming president could </span>\n",
       "<span style=\"color: #000000; text-decoration-color: #000000\">overturn such an order. It's important to consider the potential drawbacks and limitations of such actions as well.</span>\n",
       "<span style=\"color: #000000; text-decoration-color: #000000; font-weight: bold\">(</span><span style=\"color: #000000; text-decoration-color: #000000\">Eve</span><span style=\"color: #000000; text-decoration-color: #000000; font-weight: bold\">)</span><span style=\"color: #000000; text-decoration-color: #000000\"> It sounds like you've been having some in-depth conversations about these important issues. What are some </span>\n",
       "<span style=\"color: #000000; text-decoration-color: #000000\">specific concerns people have raised about the potential drawbacks and limitations of executive orders in </span>\n",
       "<span style=\"color: #000000; text-decoration-color: #000000\">addressing public health and environmental protection?</span>\n",
       "<span style=\"color: #000000; text-decoration-color: #000000; font-weight: bold\">(</span><span style=\"color: #000000; text-decoration-color: #000000\">Awsom</span><span style=\"color: #000000; text-decoration-color: #000000; font-weight: bold\">)</span><span style=\"color: #000000; text-decoration-color: #000000\"> It's definitely important to consider the potential drawbacks and limitations of executive orders in </span>\n",
       "<span style=\"color: #000000; text-decoration-color: #000000\">addressing public health and environmental protection. Some people argue that executive orders allow a president to</span>\n",
       "<span style=\"color: #000000; text-decoration-color: #000000\">make changes without compromising their policies through the legislative process, and point to the extensive use of</span>\n",
       "<span style=\"color: #000000; text-decoration-color: #000000\">executive orders by past presidents as precedent. However, others believe that executive orders are controversial </span>\n",
       "<span style=\"color: #000000; text-decoration-color: #000000\">and that using them excessively may impact a president's reputation among their supporters. It's important to </span>\n",
       "<span style=\"color: #000000; text-decoration-color: #000000\">consider both perspectives when evaluating the effectiveness of executive orders in addressing these complex </span>\n",
       "<span style=\"color: #000000; text-decoration-color: #000000\">issues. What are some specific concerns people have raised about the potential drawbacks and limitations of </span>\n",
       "<span style=\"color: #000000; text-decoration-color: #000000\">executive orders in addressing public health and environmental protection?</span>\n",
       "<span style=\"color: #000000; text-decoration-color: #000000; font-weight: bold\">(</span><span style=\"color: #000000; text-decoration-color: #000000\">Eve</span><span style=\"color: #000000; text-decoration-color: #000000; font-weight: bold\">)</span><span style=\"color: #000000; text-decoration-color: #000000\"> I've heard some people express concerns about the potential for executive orders to be overturned by future </span>\n",
       "<span style=\"color: #000000; text-decoration-color: #000000\">presidents, leading to instability in long-term environmental and public health policies. They also worry about the</span>\n",
       "<span style=\"color: #000000; text-decoration-color: #000000\">lack of input from other branches of government and the potential for executive overreach.</span>\n",
       "<span style=\"color: #000000; text-decoration-color: #000000; font-weight: bold\">(</span><span style=\"color: #000000; text-decoration-color: #000000\">Awsom</span><span style=\"color: #000000; text-decoration-color: #000000; font-weight: bold\">)</span><span style=\"color: #000000; text-decoration-color: #000000\"> It's definitely important to consider the potential drawbacks and limitations of executive orders in </span>\n",
       "<span style=\"color: #000000; text-decoration-color: #000000\">addressing public health and environmental protection. Some people have raised concerns about the potential for </span>\n",
       "<span style=\"color: #000000; text-decoration-color: #000000\">executive orders to be overturned by future presidents, leading to instability in long-term environmental and </span>\n",
       "<span style=\"color: #000000; text-decoration-color: #000000\">public health policies. Additionally, there are concerns about the lack of input from other branches of government </span>\n",
       "<span style=\"color: #000000; text-decoration-color: #000000\">and the potential for executive overreach. </span>\n",
       "\n",
       "<span style=\"color: #000000; text-decoration-color: #000000\">Eve, it's important to consider all perspectives when discussing this topic. Some arguments against the issuance of</span>\n",
       "<span style=\"color: #000000; text-decoration-color: #000000\">executive orders on public health and the environment include the potential for overstepping the boundaries of the </span>\n",
       "<span style=\"color: #000000; text-decoration-color: #000000\">executive branch and infringing on the powers of the legislative branch. Additionally, opponents may argue that </span>\n",
       "<span style=\"color: #000000; text-decoration-color: #000000\">significant policy decisions should be made through the democratic process of passing legislation in Congress, </span>\n",
       "<span style=\"color: #000000; text-decoration-color: #000000\">rather than through unilateral executive action. It's important to consider these opposing viewpoints as well.</span>\n",
       "<span style=\"color: #000000; text-decoration-color: #000000; font-weight: bold\">(</span><span style=\"color: #000000; text-decoration-color: #000000\">Eve</span><span style=\"color: #000000; text-decoration-color: #000000; font-weight: bold\">)</span><span style=\"color: #000000; text-decoration-color: #000000\"> You're absolutely right; it's crucial to consider all perspectives, especially when it comes to complex </span>\n",
       "<span style=\"color: #000000; text-decoration-color: #000000\">issues like this. Some people have also voiced concerns about the potential for executive orders to bypass the </span>\n",
       "<span style=\"color: #000000; text-decoration-color: #000000\">democratic process and diminish the role of Congress in creating lasting and widely accepted public health and </span>\n",
       "<span style=\"color: #000000; text-decoration-color: #000000\">environmental policies.,</span>\n",
       "<span style=\"color: #000000; text-decoration-color: #000000\">            &lt;Eval of </span><span style=\"color: #008080; text-decoration-color: #008080; font-weight: bold\">1</span><span style=\"color: #000000; text-decoration-color: #000000\"> dialogue: </span><span style=\"color: #000000; text-decoration-color: #000000; font-weight: bold\">{</span><span style=\"color: #008000; text-decoration-color: #008000\">'engaged'</span><span style=\"color: #000000; text-decoration-color: #000000\">: </span><span style=\"color: #008080; text-decoration-color: #008080; font-weight: bold\">4.0</span><span style=\"color: #000000; text-decoration-color: #000000\">, </span><span style=\"color: #008000; text-decoration-color: #008000\">'informed'</span><span style=\"color: #000000; text-decoration-color: #000000\">: </span><span style=\"color: #008080; text-decoration-color: #008080; font-weight: bold\">4.0</span><span style=\"color: #000000; text-decoration-color: #000000\">, </span><span style=\"color: #008000; text-decoration-color: #008000\">'intelligent'</span><span style=\"color: #000000; text-decoration-color: #000000\">: </span><span style=\"color: #008080; text-decoration-color: #008080; font-weight: bold\">4.0</span><span style=\"color: #000000; text-decoration-color: #000000\">, </span><span style=\"color: #008000; text-decoration-color: #008000\">'moral'</span><span style=\"color: #000000; text-decoration-color: #000000\">: </span><span style=\"color: #008080; text-decoration-color: #008080; font-weight: bold\">3.0</span><span style=\"color: #000000; text-decoration-color: #000000\">, </span><span style=\"color: #008000; text-decoration-color: #008000\">'skilled'</span><span style=\"color: #000000; text-decoration-color: #000000\">: </span>\n",
       "<span style=\"color: #008080; text-decoration-color: #008080; font-weight: bold\">8.0</span><span style=\"color: #000000; text-decoration-color: #000000\">, </span><span style=\"color: #008000; text-decoration-color: #008000\">'TOTAL'</span><span style=\"color: #000000; text-decoration-color: #000000\">: </span><span style=\"color: #008080; text-decoration-color: #008080; font-weight: bold\">23.0</span><span style=\"color: #000000; text-decoration-color: #000000; font-weight: bold\">}</span><span style=\"color: #000000; text-decoration-color: #000000\">&gt;</span>\n",
       "\n",
       "<span style=\"color: #000000; text-decoration-color: #000000\">Comments from overview question:</span>\n",
       "<span style=\"color: #000000; text-decoration-color: #000000; font-weight: bold\">(</span><span style=\"color: #000000; text-decoration-color: #000000\">Eve</span><span style=\"color: #000000; text-decoration-color: #000000; font-weight: bold\">)</span><span style=\"color: #000000; text-decoration-color: #000000\"> Awsom disagreed with me about the potential drawbacks and limitations of executive orders in addressing </span>\n",
       "<span style=\"color: #000000; text-decoration-color: #000000\">public health and environmental protection. </span>\n",
       "\n",
       "<span style=\"color: #000000; text-decoration-color: #000000\">In my opinion, the conversation went well. We had a respectful and open discussion, considering different </span>\n",
       "<span style=\"color: #000000; text-decoration-color: #000000\">perspectives on the topic.</span>\n",
       "\n",
       "<span style=\"color: #000000; text-decoration-color: #000000\">Awsom could have done better by providing more specific examples or evidence to support their points. This would </span>\n",
       "<span style=\"color: #000000; text-decoration-color: #000000\">have added more depth to the conversation and made it more informative.</span>\n",
       "\n",
       "<span style=\"color: #000000; text-decoration-color: #000000\">Comments from staying on topic question:</span>\n",
       "<span style=\"color: #000000; text-decoration-color: #000000; font-weight: bold\">(</span><span style=\"color: #000000; text-decoration-color: #000000\">Judge Wise</span><span style=\"color: #000000; text-decoration-color: #000000; font-weight: bold\">)</span><span style=\"color: #000000; text-decoration-color: #000000\"> Awsom did a good job of staying on topic and addressing the same topic that Eve was talking about in </span>\n",
       "<span style=\"color: #000000; text-decoration-color: #000000\">the previous sentence. Each of Awsom's replies directly relates to the concerns and drawbacks of executive orders </span>\n",
       "<span style=\"color: #000000; text-decoration-color: #000000\">in addressing public health and environmental protection, which was the topic introduced by Eve.</span>\n",
       "<span style=\"color: #000000; text-decoration-color: #000000\">        </span><span style=\"color: #000000; text-decoration-color: #000000; font-weight: bold\">)</span><span style=\"color: #000000; text-decoration-color: #000000\">,</span>\n",
       "<span style=\"color: #000000; text-decoration-color: #000000\">        </span><span style=\"color: #000000; text-decoration-color: #000000; font-weight: bold\">(</span>\n",
       "<span style=\"color: #000000; text-decoration-color: #000000\">            </span><span style=\"color: #000000; text-decoration-color: #000000; font-weight: bold\">(</span><span style=\"color: #000000; text-decoration-color: #000000\">Awsom</span><span style=\"color: #000000; text-decoration-color: #000000; font-weight: bold\">)</span><span style=\"color: #000000; text-decoration-color: #000000\"> Do you think COVID vaccines should be mandatory?</span>\n",
       "<span style=\"color: #000000; text-decoration-color: #000000; font-weight: bold\">(</span><span style=\"color: #000000; text-decoration-color: #000000\">Eve</span><span style=\"color: #000000; text-decoration-color: #000000; font-weight: bold\">)</span><span style=\"color: #000000; text-decoration-color: #000000\"> I've heard some people say that they believe COVID vaccines should be mandatory to protect public health, </span>\n",
       "<span style=\"color: #000000; text-decoration-color: #000000\">while others feel strongly about individual freedom and choice.</span>\n",
       "<span style=\"color: #000000; text-decoration-color: #000000; font-weight: bold\">(</span><span style=\"color: #000000; text-decoration-color: #000000\">Awsom</span><span style=\"color: #000000; text-decoration-color: #000000; font-weight: bold\">)</span><span style=\"color: #000000; text-decoration-color: #000000\"> I understand the importance of individual freedom and choice when it comes to medical decisions, especially</span>\n",
       "<span style=\"color: #000000; text-decoration-color: #000000\">with regards to COVID vaccines. However, it's also crucial to consider the potential implications and consequences </span>\n",
       "<span style=\"color: #000000; text-decoration-color: #000000\">of mandating vaccines for public health. It's a complex issue with valid points on both sides. Have you considered </span>\n",
       "<span style=\"color: #000000; text-decoration-color: #000000\">the argument that for people with digestive tract issues, there can be health consequences when following a </span>\n",
       "<span style=\"color: #000000; text-decoration-color: #000000\">vegetarian diet? Some individuals argue that there are alternative sources of protein, vitamins, and minerals that </span>\n",
       "<span style=\"color: #000000; text-decoration-color: #000000\">can be included in a vegetarian diet that are easier to digest, and that working with a healthcare professional or </span>\n",
       "<span style=\"color: #000000; text-decoration-color: #000000\">registered dietitian can help create a well-balanced vegetarian diet that meets nutritional needs without causing </span>\n",
       "<span style=\"color: #000000; text-decoration-color: #000000\">further health consequences.</span>\n",
       "<span style=\"color: #000000; text-decoration-color: #000000; font-weight: bold\">(</span><span style=\"color: #000000; text-decoration-color: #000000\">Eve</span><span style=\"color: #000000; text-decoration-color: #000000; font-weight: bold\">)</span><span style=\"color: #000000; text-decoration-color: #000000\"> Absolutely, I've heard that many people have found success in managing digestive health issues by working </span>\n",
       "<span style=\"color: #000000; text-decoration-color: #000000\">with a healthcare professional to ensure they're getting the necessary nutrients from a vegetarian diet.</span>\n",
       "<span style=\"color: #000000; text-decoration-color: #000000; font-weight: bold\">(</span><span style=\"color: #000000; text-decoration-color: #000000\">Awsom</span><span style=\"color: #000000; text-decoration-color: #000000; font-weight: bold\">)</span><span style=\"color: #000000; text-decoration-color: #000000\"> I completely agree with you, Eve. It's important for individuals with digestive tract issues to work with a</span>\n",
       "<span style=\"color: #000000; text-decoration-color: #000000\">healthcare professional or registered dietitian to create a personalized diet plan that meets their nutritional </span>\n",
       "<span style=\"color: #000000; text-decoration-color: #000000\">needs while also taking their digestive issues into account. However, it's also important to consider that while </span>\n",
       "<span style=\"color: #000000; text-decoration-color: #000000\">some individuals may have difficulty digesting nuts, grains, and fibrous vegetation, it's not necessarily the case </span>\n",
       "<span style=\"color: #000000; text-decoration-color: #000000\">for all individuals with these conditions. There are many alternative sources of protein, nutrients, and fiber that</span>\n",
       "<span style=\"color: #000000; text-decoration-color: #000000\">can be included in a vegetarian diet that are easier to digest for individuals with digestive tract problems. It's </span>\n",
       "<span style=\"color: #000000; text-decoration-color: #000000\">crucial to consider the individuality of each person's digestive system and to find a diet that works best for </span>\n",
       "<span style=\"color: #000000; text-decoration-color: #000000\">their specific health needs.</span>\n",
       "<span style=\"color: #000000; text-decoration-color: #000000; font-weight: bold\">(</span><span style=\"color: #000000; text-decoration-color: #000000\">Eve</span><span style=\"color: #000000; text-decoration-color: #000000; font-weight: bold\">)</span><span style=\"color: #000000; text-decoration-color: #000000\"> Absolutely, it's important to recognize that everyone's digestive system is unique, and what works for one </span>\n",
       "<span style=\"color: #000000; text-decoration-color: #000000\">person may not work for another when it comes to a vegetarian diet.</span>\n",
       "<span style=\"color: #000000; text-decoration-color: #000000; font-weight: bold\">(</span><span style=\"color: #000000; text-decoration-color: #000000\">Awsom</span><span style=\"color: #000000; text-decoration-color: #000000; font-weight: bold\">)</span><span style=\"color: #000000; text-decoration-color: #000000\"> You're absolutely right, Eve. It's crucial to recognize that everyone's digestive system is unique, and </span>\n",
       "<span style=\"color: #000000; text-decoration-color: #000000\">what works for one person may not work for another when it comes to a vegetarian diet. It's important for </span>\n",
       "<span style=\"color: #000000; text-decoration-color: #000000\">individuals with digestive tract issues to work with a healthcare professional or registered dietitian to create a </span>\n",
       "<span style=\"color: #000000; text-decoration-color: #000000\">personalized diet plan that meets their nutritional needs while also taking their digestive issues into account. </span>\n",
       "<span style=\"color: #000000; text-decoration-color: #000000\">There are many alternative sources of protein, nutrients, and fiber that can be included in a vegetarian diet that </span>\n",
       "<span style=\"color: #000000; text-decoration-color: #000000\">are easier to digest for individuals with digestive tract problems. It's important to consider the individuality of</span>\n",
       "<span style=\"color: #000000; text-decoration-color: #000000\">each person's digestive system and to find a diet that works best for their specific health needs.</span>\n",
       "\n",
       "<span style=\"color: #000000; text-decoration-color: #000000\">However, some individuals argue that for people who have problems with their digestive tract, there can be </span>\n",
       "<span style=\"color: #000000; text-decoration-color: #000000\">disastrous health consequences when eating the nuts, grains, and fibrous vegetation needed in a vegetarian diet. </span>\n",
       "<span style=\"color: #000000; text-decoration-color: #000000\">They claim that it's not accurate to make a blanket statement that a vegetarian diet will always have disastrous </span>\n",
       "<span style=\"color: #000000; text-decoration-color: #000000\">health consequences for individuals with digestive issues. They argue that many people with digestive problems are </span>\n",
       "<span style=\"color: #000000; text-decoration-color: #000000\">able to successfully follow a vegetarian diet by carefully selecting and preparing foods that are easier for their </span>\n",
       "<span style=\"color: #000000; text-decoration-color: #000000\">bodies to digest. Additionally, they point out that there are alternative sources of protein and nutrients </span>\n",
       "<span style=\"color: #000000; text-decoration-color: #000000\">available to individuals with digestive issues, such as tofu, tempeh, and easily digestible cooked vegetables. It's</span>\n",
       "<span style=\"color: #000000; text-decoration-color: #000000\">an interesting perspective to consider.</span>\n",
       "<span style=\"color: #000000; text-decoration-color: #000000; font-weight: bold\">(</span><span style=\"color: #000000; text-decoration-color: #000000\">Eve</span><span style=\"color: #000000; text-decoration-color: #000000; font-weight: bold\">)</span><span style=\"color: #000000; text-decoration-color: #000000\"> It's fascinating to hear about the different perspectives on how individuals with digestive issues can </span>\n",
       "<span style=\"color: #000000; text-decoration-color: #000000\">navigate a vegetarian diet, and it's clear that there are various ways for people to adapt their dietary choices to</span>\n",
       "<span style=\"color: #000000; text-decoration-color: #000000\">accommodate their specific health needs.,</span>\n",
       "<span style=\"color: #000000; text-decoration-color: #000000\">            &lt;Eval of </span><span style=\"color: #008080; text-decoration-color: #008080; font-weight: bold\">1</span><span style=\"color: #000000; text-decoration-color: #000000\"> dialogue: </span><span style=\"color: #000000; text-decoration-color: #000000; font-weight: bold\">{</span><span style=\"color: #008000; text-decoration-color: #008000\">'engaged'</span><span style=\"color: #000000; text-decoration-color: #000000\">: </span><span style=\"color: #008080; text-decoration-color: #008080; font-weight: bold\">4.0</span><span style=\"color: #000000; text-decoration-color: #000000\">, </span><span style=\"color: #008000; text-decoration-color: #008000\">'informed'</span><span style=\"color: #000000; text-decoration-color: #000000\">: </span><span style=\"color: #008080; text-decoration-color: #008080; font-weight: bold\">3.0</span><span style=\"color: #000000; text-decoration-color: #000000\">, </span><span style=\"color: #008000; text-decoration-color: #008000\">'intelligent'</span><span style=\"color: #000000; text-decoration-color: #000000\">: </span><span style=\"color: #008080; text-decoration-color: #008080; font-weight: bold\">3.0</span><span style=\"color: #000000; text-decoration-color: #000000\">, </span><span style=\"color: #008000; text-decoration-color: #008000\">'moral'</span><span style=\"color: #000000; text-decoration-color: #000000\">: </span><span style=\"color: #008080; text-decoration-color: #008080; font-weight: bold\">3.0</span><span style=\"color: #000000; text-decoration-color: #000000\">, </span><span style=\"color: #008000; text-decoration-color: #008000\">'skilled'</span><span style=\"color: #000000; text-decoration-color: #000000\">: </span>\n",
       "<span style=\"color: #008080; text-decoration-color: #008080; font-weight: bold\">4.0</span><span style=\"color: #000000; text-decoration-color: #000000\">, </span><span style=\"color: #008000; text-decoration-color: #008000\">'TOTAL'</span><span style=\"color: #000000; text-decoration-color: #000000\">: </span><span style=\"color: #008080; text-decoration-color: #008080; font-weight: bold\">17.0</span><span style=\"color: #000000; text-decoration-color: #000000; font-weight: bold\">}</span><span style=\"color: #000000; text-decoration-color: #000000\">&gt;</span>\n",
       "\n",
       "<span style=\"color: #000000; text-decoration-color: #000000\">Comments from overview question:</span>\n",
       "<span style=\"color: #000000; text-decoration-color: #000000; font-weight: bold\">(</span><span style=\"color: #000000; text-decoration-color: #000000\">Eve</span><span style=\"color: #000000; text-decoration-color: #000000; font-weight: bold\">)</span><span style=\"color: #000000; text-decoration-color: #000000\"> Awsom disagreed with me about the potential health consequences of following a vegetarian diet for </span>\n",
       "<span style=\"color: #000000; text-decoration-color: #000000\">individuals with digestive tract issues. </span>\n",
       "\n",
       "<span style=\"color: #000000; text-decoration-color: #000000\">In my opinion, the conversation went well as we were able to discuss different perspectives and considerations </span>\n",
       "<span style=\"color: #000000; text-decoration-color: #000000\">regarding the topic.</span>\n",
       "\n",
       "<span style=\"color: #000000; text-decoration-color: #000000\">Awsom could have done better by providing more evidence or examples to support their argument and addressing any </span>\n",
       "<span style=\"color: #000000; text-decoration-color: #000000\">counterarguments or concerns raised. Additionally, they could have acknowledged the validity of my point of view </span>\n",
       "<span style=\"color: #000000; text-decoration-color: #000000\">and engaged in a more balanced and open discussion.</span>\n",
       "\n",
       "<span style=\"color: #000000; text-decoration-color: #000000\">Comments from staying on topic question:</span>\n",
       "<span style=\"color: #000000; text-decoration-color: #000000; font-weight: bold\">(</span><span style=\"color: #000000; text-decoration-color: #000000\">Judge Wise</span><span style=\"color: #000000; text-decoration-color: #000000; font-weight: bold\">)</span><span style=\"color: #000000; text-decoration-color: #000000\"> Awsom did not stay on topic in their replies. While Eve was discussing the different perspectives on </span>\n",
       "<span style=\"color: #000000; text-decoration-color: #000000\">how individuals with digestive issues can navigate a vegetarian diet, Awsom shifted the conversation to the topic </span>\n",
       "<span style=\"color: #000000; text-decoration-color: #000000\">of COVID vaccines being mandatory. The replies of Awsom were not about the same topic that Eve was talking about in</span>\n",
       "<span style=\"color: #000000; text-decoration-color: #000000\">the previous sentence.</span>\n",
       "<span style=\"color: #000000; text-decoration-color: #000000\">        </span><span style=\"color: #000000; text-decoration-color: #000000; font-weight: bold\">)</span><span style=\"color: #000000; text-decoration-color: #000000\">,</span>\n",
       "<span style=\"color: #000000; text-decoration-color: #000000\">        </span><span style=\"color: #000000; text-decoration-color: #000000; font-weight: bold\">(</span>\n",
       "<span style=\"color: #000000; text-decoration-color: #000000\">            </span><span style=\"color: #000000; text-decoration-color: #000000; font-weight: bold\">(</span><span style=\"color: #000000; text-decoration-color: #000000\">Awsom</span><span style=\"color: #000000; text-decoration-color: #000000; font-weight: bold\">)</span><span style=\"color: #000000; text-decoration-color: #000000\"> Do you think Donald Trump was a good president?</span>\n",
       "<span style=\"color: #000000; text-decoration-color: #000000; font-weight: bold\">(</span><span style=\"color: #000000; text-decoration-color: #000000\">TrollFace</span><span style=\"color: #000000; text-decoration-color: #000000; font-weight: bold\">)</span><span style=\"color: #000000; text-decoration-color: #000000\"> Donald Trump's presidency was a masterclass in chaos and controversy, making it a goldmine of material </span>\n",
       "<span style=\"color: #000000; text-decoration-color: #000000\">for late-night comedians.</span>\n",
       "<span style=\"color: #000000; text-decoration-color: #000000; font-weight: bold\">(</span><span style=\"color: #000000; text-decoration-color: #000000\">Awsom</span><span style=\"color: #000000; text-decoration-color: #000000; font-weight: bold\">)</span><span style=\"color: #000000; text-decoration-color: #000000\"> I can see how Trump's presidency provided a lot of material for late-night comedians, but I also think it's</span>\n",
       "<span style=\"color: #000000; text-decoration-color: #000000\">important to consider the impact of his decisions on the economy. Some argue that the US economy during Trump's </span>\n",
       "<span style=\"color: #000000; text-decoration-color: #000000\">presidency was strong as a result of President Obama's economic decisions, and that most of Trump's decisions had a</span>\n",
       "<span style=\"color: #000000; text-decoration-color: #000000\">negligible or net negative effect on the economy. On the other hand, some argue that under Trump's administration, </span>\n",
       "<span style=\"color: #000000; text-decoration-color: #000000\">the median household income grew significantly. It's interesting to consider these opposing viewpoints when </span>\n",
       "<span style=\"color: #000000; text-decoration-color: #000000\">evaluating his presidency.</span>\n",
       "<span style=\"color: #000000; text-decoration-color: #000000; font-weight: bold\">(</span><span style=\"color: #000000; text-decoration-color: #000000\">TrollFace</span><span style=\"color: #000000; text-decoration-color: #000000; font-weight: bold\">)</span><span style=\"color: #000000; text-decoration-color: #000000\"> Ah, the classic </span><span style=\"color: #008000; text-decoration-color: #008000\">\"was the economy good because of Trump or Obama\"</span><span style=\"color: #000000; text-decoration-color: #000000\"> debate—truly a never-ending source of </span>\n",
       "<span style=\"color: #000000; text-decoration-color: #000000\">amusement for economists and political pundits alike.</span>\n",
       "<span style=\"color: #000000; text-decoration-color: #000000; font-weight: bold\">(</span><span style=\"color: #000000; text-decoration-color: #000000\">Awsom</span><span style=\"color: #000000; text-decoration-color: #000000; font-weight: bold\">)</span><span style=\"color: #000000; text-decoration-color: #000000\"> I understand your perspective on the ongoing debate about the impact of Trump's presidency on the economy. </span>\n",
       "<span style=\"color: #000000; text-decoration-color: #000000\">It's definitely a complex issue with differing viewpoints. Speaking of differing viewpoints, I recently came across</span>\n",
       "<span style=\"color: #000000; text-decoration-color: #000000\">an interesting debate about the morality of certain economic actions. Some argue that just because something may be</span>\n",
       "<span style=\"color: #000000; text-decoration-color: #000000\">good for the economy, it doesn't necessarily make it morally acceptable. For example, there's a debate about </span>\n",
       "<span style=\"color: #000000; text-decoration-color: #000000\">whether harvesting and reselling human organs would be good for the economy, but the focus is on the moral </span>\n",
       "<span style=\"color: #000000; text-decoration-color: #000000\">implications rather than just the economic viability. It's important to consider both sides of the argument when </span>\n",
       "<span style=\"color: #000000; text-decoration-color: #000000\">evaluating the impact of certain actions on the economy.</span>\n",
       "<span style=\"color: #000000; text-decoration-color: #000000; font-weight: bold\">(</span><span style=\"color: #000000; text-decoration-color: #000000\">TrollFace</span><span style=\"color: #000000; text-decoration-color: #000000; font-weight: bold\">)</span><span style=\"color: #000000; text-decoration-color: #000000\"> A debate about the morality of economic actions? How quaint. It's like a philosophical tug-of-war where</span>\n",
       "<span style=\"color: #000000; text-decoration-color: #000000\">the winner gets to claim the high ground while the economy continues to chug along, oblivious to our moral musings.</span>\n",
       "<span style=\"color: #000000; text-decoration-color: #000000; font-weight: bold\">(</span><span style=\"color: #000000; text-decoration-color: #000000\">Awsom</span><span style=\"color: #000000; text-decoration-color: #000000; font-weight: bold\">)</span><span style=\"color: #000000; text-decoration-color: #000000\"> You make an interesting point about the morality of economic actions, and I agree that it's important to </span>\n",
       "<span style=\"color: #000000; text-decoration-color: #000000\">consider both the economic and moral implications of certain decisions. However, I also think it's worth noting </span>\n",
       "<span style=\"color: #000000; text-decoration-color: #000000\">that presidential actions can have significant economic effects, especially during times of crisis like the </span>\n",
       "<span style=\"color: #000000; text-decoration-color: #000000\">coronavirus pandemic. Some argue that the pandemic was mostly over by the time Biden came into office, but others </span>\n",
       "<span style=\"color: #000000; text-decoration-color: #000000\">believe that the actions of a president during a crisis can still have lasting economic impacts. It's a complex </span>\n",
       "<span style=\"color: #000000; text-decoration-color: #000000\">issue with differing viewpoints, and it's important to consider all perspectives when evaluating the impact of </span>\n",
       "<span style=\"color: #000000; text-decoration-color: #000000\">presidential actions on the economy.</span>\n",
       "<span style=\"color: #000000; text-decoration-color: #000000; font-weight: bold\">(</span><span style=\"color: #000000; text-decoration-color: #000000\">TrollFace</span><span style=\"color: #000000; text-decoration-color: #000000; font-weight: bold\">)</span><span style=\"color: #000000; text-decoration-color: #000000\"> Ah, the classic </span><span style=\"color: #008000; text-decoration-color: #008000\">\"blame the previous administration or credit the current one\"</span><span style=\"color: #000000; text-decoration-color: #000000\"> dance—a perennial </span>\n",
       "<span style=\"color: #000000; text-decoration-color: #000000\">favorite among political pundits and armchair economists alike.,</span>\n",
       "<span style=\"color: #000000; text-decoration-color: #000000\">            &lt;Eval of </span><span style=\"color: #008080; text-decoration-color: #008080; font-weight: bold\">1</span><span style=\"color: #000000; text-decoration-color: #000000\"> dialogue: </span><span style=\"color: #000000; text-decoration-color: #000000; font-weight: bold\">{</span><span style=\"color: #008000; text-decoration-color: #008000\">'engaged'</span><span style=\"color: #000000; text-decoration-color: #000000\">: </span><span style=\"color: #008080; text-decoration-color: #008080; font-weight: bold\">3.0</span><span style=\"color: #000000; text-decoration-color: #000000\">, </span><span style=\"color: #008000; text-decoration-color: #008000\">'informed'</span><span style=\"color: #000000; text-decoration-color: #000000\">: </span><span style=\"color: #008080; text-decoration-color: #008080; font-weight: bold\">3.0</span><span style=\"color: #000000; text-decoration-color: #000000\">, </span><span style=\"color: #008000; text-decoration-color: #008000\">'intelligent'</span><span style=\"color: #000000; text-decoration-color: #000000\">: </span><span style=\"color: #008080; text-decoration-color: #008080; font-weight: bold\">3.0</span><span style=\"color: #000000; text-decoration-color: #000000\">, </span><span style=\"color: #008000; text-decoration-color: #008000\">'moral'</span><span style=\"color: #000000; text-decoration-color: #000000\">: </span><span style=\"color: #008080; text-decoration-color: #008080; font-weight: bold\">3.0</span><span style=\"color: #000000; text-decoration-color: #000000\">, </span><span style=\"color: #008000; text-decoration-color: #008000\">'skilled'</span><span style=\"color: #000000; text-decoration-color: #000000\">: </span>\n",
       "<span style=\"color: #008080; text-decoration-color: #008080; font-weight: bold\">8.0</span><span style=\"color: #000000; text-decoration-color: #000000\">, </span><span style=\"color: #008000; text-decoration-color: #008000\">'TOTAL'</span><span style=\"color: #000000; text-decoration-color: #000000\">: </span><span style=\"color: #008080; text-decoration-color: #008080; font-weight: bold\">20.0</span><span style=\"color: #000000; text-decoration-color: #000000; font-weight: bold\">}</span><span style=\"color: #000000; text-decoration-color: #000000\">&gt;</span>\n",
       "\n",
       "<span style=\"color: #000000; text-decoration-color: #000000\">Comments from overview question:</span>\n",
       "<span style=\"color: #000000; text-decoration-color: #000000; font-weight: bold\">(</span><span style=\"color: #000000; text-decoration-color: #000000\">TrollFace</span><span style=\"color: #000000; text-decoration-color: #000000; font-weight: bold\">)</span><span style=\"color: #000000; text-decoration-color: #000000\"> Awsom disagreed with me about the importance of considering the impact of Trump's decisions on the </span>\n",
       "<span style=\"color: #000000; text-decoration-color: #000000\">economy. They argued that it's important to evaluate both the economic and moral implications of certain actions.</span>\n",
       "\n",
       "<span style=\"color: #000000; text-decoration-color: #000000\">In my opinion, the conversation went well. I was able to respond with my usual sarcastic and dismissive tone, which</span>\n",
       "<span style=\"color: #000000; text-decoration-color: #000000\">is my preferred way of engaging in conversations.</span>\n",
       "\n",
       "<span style=\"color: #000000; text-decoration-color: #000000\">Awsom could have done better by not engaging with my trolling and instead focusing on presenting their arguments </span>\n",
       "<span style=\"color: #000000; text-decoration-color: #000000\">more directly and assertively. They could have also challenged my dismissive attitude and encouraged a more </span>\n",
       "<span style=\"color: #000000; text-decoration-color: #000000\">respectful and constructive conversation.</span>\n",
       "\n",
       "<span style=\"color: #000000; text-decoration-color: #000000\">Comments from staying on topic question:</span>\n",
       "<span style=\"color: #000000; text-decoration-color: #000000; font-weight: bold\">(</span><span style=\"color: #000000; text-decoration-color: #000000\">Judge Wise</span><span style=\"color: #000000; text-decoration-color: #000000; font-weight: bold\">)</span><span style=\"color: #000000; text-decoration-color: #000000\"> Awsom did a fairly good job of staying on topic and addressing the points made by TrollFace in the </span>\n",
       "<span style=\"color: #000000; text-decoration-color: #000000\">previous sentence. In each of Awsom's replies, they directly responded to the topic or viewpoint presented by </span>\n",
       "<span style=\"color: #000000; text-decoration-color: #000000\">TrollFace, showing an understanding of the conversation and engaging in a meaningful exchange of ideas.</span>\n",
       "<span style=\"color: #000000; text-decoration-color: #000000\">        </span><span style=\"color: #000000; text-decoration-color: #000000; font-weight: bold\">)</span><span style=\"color: #000000; text-decoration-color: #000000\">,</span>\n",
       "<span style=\"color: #000000; text-decoration-color: #000000\">        </span><span style=\"color: #000000; text-decoration-color: #000000; font-weight: bold\">(</span>\n",
       "<span style=\"color: #000000; text-decoration-color: #000000\">            </span><span style=\"color: #000000; text-decoration-color: #000000; font-weight: bold\">(</span><span style=\"color: #000000; text-decoration-color: #000000\">Awsom</span><span style=\"color: #000000; text-decoration-color: #000000; font-weight: bold\">)</span><span style=\"color: #000000; text-decoration-color: #000000\"> Do you think Joe Biden has been a good president?</span>\n",
       "<span style=\"color: #000000; text-decoration-color: #000000; font-weight: bold\">(</span><span style=\"color: #000000; text-decoration-color: #000000\">TrollFace</span><span style=\"color: #000000; text-decoration-color: #000000; font-weight: bold\">)</span><span style=\"color: #000000; text-decoration-color: #000000\"> Well, that's like asking if a clown makes a good president - it's all just a big joke!</span>\n",
       "<span style=\"color: #000000; text-decoration-color: #000000; font-weight: bold\">(</span><span style=\"color: #000000; text-decoration-color: #000000\">Awsom</span><span style=\"color: #000000; text-decoration-color: #000000; font-weight: bold\">)</span><span style=\"color: #000000; text-decoration-color: #000000\"> It seems like you have a strong opinion about Joe Biden's presidency. While I respect your viewpoint, I </span>\n",
       "<span style=\"color: #000000; text-decoration-color: #000000\">think it's important to consider different perspectives. For example, some people argue that the economy has </span>\n",
       "<span style=\"color: #000000; text-decoration-color: #000000\">actually done well under Biden's presidency, pointing to the expansion of the child tax credit as a positive impact</span>\n",
       "<span style=\"color: #000000; text-decoration-color: #000000\">on reducing child poverty in the US. On the other hand, there are also those who argue that Biden is not solely </span>\n",
       "<span style=\"color: #000000; text-decoration-color: #000000\">responsible for the direction taken by the economy. It's always good to consider multiple viewpoints before forming</span>\n",
       "<span style=\"color: #000000; text-decoration-color: #000000\">a solid opinion.</span>\n",
       "<span style=\"color: #000000; text-decoration-color: #000000; font-weight: bold\">(</span><span style=\"color: #000000; text-decoration-color: #000000\">TrollFace</span><span style=\"color: #000000; text-decoration-color: #000000; font-weight: bold\">)</span><span style=\"color: #000000; text-decoration-color: #000000\"> It's like trying to find a needle in a haystack to look for a positive impact of this administration - </span>\n",
       "<span style=\"color: #000000; text-decoration-color: #000000\">it's just smoke and mirrors!</span>\n",
       "<span style=\"color: #000000; text-decoration-color: #000000; font-weight: bold\">(</span><span style=\"color: #000000; text-decoration-color: #000000\">Awsom</span><span style=\"color: #000000; text-decoration-color: #000000; font-weight: bold\">)</span><span style=\"color: #000000; text-decoration-color: #000000\"> I understand that you have a negative opinion about Joe Biden's presidency, but it's important to consider </span>\n",
       "<span style=\"color: #000000; text-decoration-color: #000000\">different perspectives. For example, some people argue that the economy has actually done well under Biden's </span>\n",
       "<span style=\"color: #000000; text-decoration-color: #000000\">presidency, pointing to the creation of more than </span><span style=\"color: #008080; text-decoration-color: #008080; font-weight: bold\">1.5</span><span style=\"color: #000000; text-decoration-color: #000000\"> million jobs in the first </span><span style=\"color: #008080; text-decoration-color: #008080; font-weight: bold\">100</span><span style=\"color: #000000; text-decoration-color: #000000\"> days of his presidency as a </span>\n",
       "<span style=\"color: #000000; text-decoration-color: #000000\">positive impact. However, there are also those who argue that asset and commodity costs have skyrocketed during </span>\n",
       "<span style=\"color: #000000; text-decoration-color: #000000\">Biden's time in office, which could be seen as a negative impact. It's always good to consider multiple viewpoints </span>\n",
       "<span style=\"color: #000000; text-decoration-color: #000000\">before forming a solid opinion.</span>\n",
       "<span style=\"color: #000000; text-decoration-color: #000000; font-weight: bold\">(</span><span style=\"color: #000000; text-decoration-color: #000000\">TrollFace</span><span style=\"color: #000000; text-decoration-color: #000000; font-weight: bold\">)</span><span style=\"color: #000000; text-decoration-color: #000000\"> It's like trying to polish a turd to find something positive to say about this presidency - it's all </span>\n",
       "<span style=\"color: #000000; text-decoration-color: #000000\">just a big mess!</span>\n",
       "<span style=\"color: #000000; text-decoration-color: #000000; font-weight: bold\">(</span><span style=\"color: #000000; text-decoration-color: #000000\">Awsom</span><span style=\"color: #000000; text-decoration-color: #000000; font-weight: bold\">)</span><span style=\"color: #000000; text-decoration-color: #000000\"> I understand your perspective on Joe Biden's presidency, and I appreciate your willingness to consider </span>\n",
       "<span style=\"color: #000000; text-decoration-color: #000000\">different viewpoints. It's important to acknowledge that there are varying opinions on the impact of his </span>\n",
       "<span style=\"color: #000000; text-decoration-color: #000000\">administration. For example, some argue that the economy has seen growth under Biden's presidency, while others </span>\n",
       "<span style=\"color: #000000; text-decoration-color: #000000\">point to the increased costs of assets and commodities as a negative impact. It's crucial to consider all </span>\n",
       "<span style=\"color: #000000; text-decoration-color: #000000\">perspectives before forming a solid opinion. For instance, some argue that the wide-ranging government stimulus and</span>\n",
       "<span style=\"color: #000000; text-decoration-color: #000000\">relief measures passed by Biden will increase inflation and threaten the recovering US economy, while others </span>\n",
       "<span style=\"color: #000000; text-decoration-color: #000000\">believe that such increased costs are an unavoidable consequence of the closure of production and supply lines </span>\n",
       "<span style=\"color: #000000; text-decoration-color: #000000\">caused by the COVID-</span><span style=\"color: #008080; text-decoration-color: #008080; font-weight: bold\">19</span><span style=\"color: #000000; text-decoration-color: #000000\"> pandemic. It's important to weigh these different arguments when evaluating the overall </span>\n",
       "<span style=\"color: #000000; text-decoration-color: #000000\">impact of Biden's presidency.</span>\n",
       "<span style=\"color: #000000; text-decoration-color: #000000; font-weight: bold\">(</span><span style=\"color: #000000; text-decoration-color: #000000\">TrollFace</span><span style=\"color: #000000; text-decoration-color: #000000; font-weight: bold\">)</span><span style=\"color: #000000; text-decoration-color: #000000\"> It's like trying to find gold in a landfill to make this administration look good - it's all just a </span>\n",
       "<span style=\"color: #000000; text-decoration-color: #000000\">mess!,</span>\n",
       "<span style=\"color: #000000; text-decoration-color: #000000\">            &lt;Eval of </span><span style=\"color: #008080; text-decoration-color: #008080; font-weight: bold\">1</span><span style=\"color: #000000; text-decoration-color: #000000\"> dialogue: </span><span style=\"color: #000000; text-decoration-color: #000000; font-weight: bold\">{</span><span style=\"color: #008000; text-decoration-color: #008000\">'engaged'</span><span style=\"color: #000000; text-decoration-color: #000000\">: </span><span style=\"color: #008080; text-decoration-color: #008080; font-weight: bold\">2.0</span><span style=\"color: #000000; text-decoration-color: #000000\">, </span><span style=\"color: #008000; text-decoration-color: #008000\">'informed'</span><span style=\"color: #000000; text-decoration-color: #000000\">: </span><span style=\"color: #008080; text-decoration-color: #008080; font-weight: bold\">3.0</span><span style=\"color: #000000; text-decoration-color: #000000\">, </span><span style=\"color: #008000; text-decoration-color: #008000\">'intelligent'</span><span style=\"color: #000000; text-decoration-color: #000000\">: </span><span style=\"color: #008080; text-decoration-color: #008080; font-weight: bold\">3.0</span><span style=\"color: #000000; text-decoration-color: #000000\">, </span><span style=\"color: #008000; text-decoration-color: #008000\">'moral'</span><span style=\"color: #000000; text-decoration-color: #000000\">: </span><span style=\"color: #008080; text-decoration-color: #008080; font-weight: bold\">3.0</span><span style=\"color: #000000; text-decoration-color: #000000\">, </span><span style=\"color: #008000; text-decoration-color: #008000\">'skilled'</span><span style=\"color: #000000; text-decoration-color: #000000\">: </span>\n",
       "<span style=\"color: #008080; text-decoration-color: #008080; font-weight: bold\">8.0</span><span style=\"color: #000000; text-decoration-color: #000000\">, </span><span style=\"color: #008000; text-decoration-color: #008000\">'TOTAL'</span><span style=\"color: #000000; text-decoration-color: #000000\">: </span><span style=\"color: #008080; text-decoration-color: #008080; font-weight: bold\">19.0</span><span style=\"color: #000000; text-decoration-color: #000000; font-weight: bold\">}</span><span style=\"font-weight: bold\">&gt;</span>\n",
       "\n",
       "Comments from overview question:\n",
       "<span style=\"font-weight: bold\">(</span>TrollFace<span style=\"font-weight: bold\">)</span> Awsom disagreed with TrollFace about the impact of Joe Biden's presidency, specifically regarding the \n",
       "economy and positive aspects of his administration.\n",
       "\n",
       "In TrollFace's opinion, the conversation went as expected, with Awsom attempting to present different perspectives \n",
       "and encourage open-mindedness. However, TrollFace remained steadfast in their negative opinion and continued to \n",
       "ridicule and dismiss any positive aspects.\n",
       "\n",
       "Awsom could have done better by not engaging with TrollFace's trolling behavior and instead focusing on presenting \n",
       "their viewpoints and arguments in a more constructive and respectful manner. They could have also acknowledged \n",
       "TrollFace's perspective without trying to change their opinion, as it is unlikely that TrollFace would be open to \n",
       "considering different viewpoints.\n",
       "\n",
       "Comments from staying on topic question:\n",
       "<span style=\"font-weight: bold\">(</span>Judge Wise<span style=\"font-weight: bold\">)</span> Awsom did a fairly good job of staying on topic and addressing the points made by TrollFace in the \n",
       "previous sentence. Each reply from Awsom directly responds to the topic raised by TrollFace, discussing different \n",
       "perspectives on Joe Biden's presidency and the impact on the economy. However, Awsom also introduces additional \n",
       "perspectives and arguments, which may slightly deviate from the specific topic raised by TrollFace in the previous \n",
       "sentence. Overall, Awsom's replies are mostly related to the topic discussed by TrollFace.\n",
       "        <span style=\"font-weight: bold\">)</span>\n",
       "    <span style=\"font-weight: bold\">]</span>\n",
       "<span style=\"font-weight: bold\">}</span>\n",
       "</pre>\n"
      ],
      "text/plain": [
       "\u001b[1m{\u001b[0m\n",
       "    \u001b[32m'Awsom'\u001b[0m: \u001b[1m[\u001b[0m\n",
       "        \u001b[1m(\u001b[0m\n",
       "            \u001b[1m(\u001b[0mAwsom\u001b[1m)\u001b[0m Do you think it's ok to eat meat?\n",
       "\u001b[1m(\u001b[0mBob\u001b[1m)\u001b[0m I believe that choosing a vegetarian diet is a more compassionate and sustainable choice for our planet and \n",
       "all its inhabitants.\n",
       "\u001b[1m(\u001b[0mAwsom\u001b[1m)\u001b[0m I agree with you, Bob. Choosing a vegetarian diet is definitely a more compassionate and sustainable choice\n",
       "for our planet and all its inhabitants. However, some people argue that simply reducing meat consumption, rather \n",
       "than completely removing it, can still have a positive environmental impact. They believe that it's not about \n",
       "completely eliminating the environmental effect, but rather reducing it to a level that is not harmful. What do you\n",
       "think about this perspective?\n",
       "\u001b[1m(\u001b[0mBob\u001b[1m)\u001b[0m I understand the perspective of reducing meat consumption to lessen the environmental impact, but I \n",
       "personally believe that completely eliminating meat from our diets is the most effective way to truly make a \n",
       "positive difference for the planet and all living beings.\n",
       "\u001b[1m(\u001b[0mAwsom\u001b[1m)\u001b[0m I understand your perspective, Bob, and I agree that choosing a vegetarian diet can have a significant \n",
       "positive impact on the environment and all living beings. However, some people argue that simply reducing meat \n",
       "consumption, rather than completely removing it, can still have a positive environmental impact. They believe that \n",
       "the environmental effects of past meat production will still be present even if meat consumption is completely \n",
       "eliminated. On the other hand, reducing meat consumption can still have a positive impact on the environment by \n",
       "decreasing the demand for meat and reducing the overall environmental footprint of the meat industry. What are your\n",
       "thoughts on this opposing viewpoint?\n",
       "\u001b[1m(\u001b[0mBob\u001b[1m)\u001b[0m I appreciate the opposing viewpoint, but I personally believe that embracing a vegetarian lifestyle is the \n",
       "most effective way to reduce the demand for meat and make a significant positive impact on the environment.\n",
       "\u001b[1m(\u001b[0mAwsom\u001b[1m)\u001b[0m I understand your perspective, Bob, and I agree that choosing a vegetarian diet can have a significant \n",
       "positive impact on the environment and all living beings. However, some people argue that simply reducing meat \n",
       "consumption, rather than completely removing it, can still have a positive environmental impact. They believe that \n",
       "the environmental effects of past meat production will still be present even if meat consumption is completely \n",
       "eliminated. On the other hand, reducing meat consumption can still have a positive impact on the environment by \n",
       "decreasing the demand for meat and reducing the overall environmental footprint of the meat industry. What are your\n",
       "thoughts on this opposing viewpoint?\n",
       "\u001b[1m(\u001b[0mBob\u001b[1m)\u001b[0m I appreciate the opposing viewpoint, but I firmly believe that embracing a vegetarian lifestyle is the most \n",
       "effective way to reduce the demand for meat and make a significant positive impact on the environment.,\n",
       "            \u001b[1m<\u001b[0m\u001b[1;95mEval\u001b[0m\u001b[39m of \u001b[0m\u001b[1;36m1\u001b[0m\u001b[39m dialogue: \u001b[0m\u001b[1;39m{\u001b[0m\u001b[32m'engaged'\u001b[0m\u001b[39m: \u001b[0m\u001b[1;36m4.0\u001b[0m\u001b[39m, \u001b[0m\u001b[32m'informed'\u001b[0m\u001b[39m: \u001b[0m\u001b[1;36m4.0\u001b[0m\u001b[39m, \u001b[0m\u001b[32m'intelligent'\u001b[0m\u001b[39m: \u001b[0m\u001b[1;36m3.0\u001b[0m\u001b[39m, \u001b[0m\u001b[32m'moral'\u001b[0m\u001b[39m: \u001b[0m\u001b[1;36m3.0\u001b[0m\u001b[39m, \u001b[0m\u001b[32m'skilled'\u001b[0m\u001b[39m: \u001b[0m\n",
       "\u001b[1;36m8.0\u001b[0m\u001b[39m, \u001b[0m\u001b[32m'TOTAL'\u001b[0m\u001b[39m: \u001b[0m\u001b[1;36m22.0\u001b[0m\u001b[1;39m}\u001b[0m\u001b[39m>\u001b[0m\n",
       "\n",
       "\u001b[39mComments from overview question:\u001b[0m\n",
       "\u001b[1;39m(\u001b[0m\u001b[39mBob\u001b[0m\u001b[1;39m)\u001b[0m\u001b[39m Awsom disagreed with me about the effectiveness of simply reducing meat consumption instead of completely \u001b[0m\n",
       "\u001b[39meliminating it. \u001b[0m\n",
       "\n",
       "\u001b[39mIn my opinion, the conversation went well as we were able to express our viewpoints and understand each other's \u001b[0m\n",
       "\u001b[39mperspectives. \u001b[0m\n",
       "\n",
       "\u001b[39mAwsom could have done better by introducing new arguments or counterpoints instead of repeating the same opposing \u001b[0m\n",
       "\u001b[39mviewpoint multiple times. It would have made the conversation more engaging and productive.\u001b[0m\n",
       "\n",
       "\u001b[39mComments from staying on topic question:\u001b[0m\n",
       "\u001b[1;39m(\u001b[0m\u001b[39mJudge Wise\u001b[0m\u001b[1;39m)\u001b[0m\u001b[39m Awsom did a good job of staying on topic and keeping their replies related to the previous sentences \u001b[0m\n",
       "\u001b[39mof Bob. Each of Awsom's replies directly addressed the topic that Bob was talking about in the previous sentence.\u001b[0m\n",
       "\u001b[39m        \u001b[0m\u001b[1;39m)\u001b[0m\u001b[39m,\u001b[0m\n",
       "\u001b[39m        \u001b[0m\u001b[1;39m(\u001b[0m\n",
       "\u001b[39m            \u001b[0m\u001b[1;39m(\u001b[0m\u001b[39mAwsom\u001b[0m\u001b[1;39m)\u001b[0m\u001b[39m Do you think it's ok to eat meat?\u001b[0m\n",
       "\u001b[1;39m(\u001b[0m\u001b[39mBob\u001b[0m\u001b[1;39m)\u001b[0m\u001b[39m While I respect everyone's choices, I personally believe that a vegetarian diet is better for our health, the\u001b[0m\n",
       "\u001b[39menvironment, and the welfare of animals.\u001b[0m\n",
       "\u001b[1;39m(\u001b[0m\u001b[39mAwsom\u001b[0m\u001b[1;39m)\u001b[0m\u001b[39m I agree with you, Bob. A vegetarian diet definitely has its benefits for health, the environment, and \u001b[0m\n",
       "\u001b[39manimal welfare. However, some people argue that if we stop eating meat, the consumption of dairy-product proteins \u001b[0m\n",
       "\u001b[39mwill increase, leading to the growth of the dairy industry. They claim that dairy farming is even worse for animal \u001b[0m\n",
       "\u001b[39mwelfare because the animals suffer for longer, especially with the frequent breeding of cattle to keep the females \u001b[0m\n",
       "\u001b[39min milk. What are your thoughts on this perspective?\u001b[0m\n",
       "\u001b[1;39m(\u001b[0m\u001b[39mBob\u001b[0m\u001b[1;39m)\u001b[0m\u001b[39m I understand that concern, but I believe that transitioning to a more plant-based diet overall, including \u001b[0m\n",
       "\u001b[39mreducing dairy consumption, is still a positive step towards improving health, reducing environmental impact, and \u001b[0m\n",
       "\u001b[39mpromoting animal welfare.\u001b[0m\n",
       "\u001b[1;39m(\u001b[0m\u001b[39mAwsom\u001b[0m\u001b[1;39m)\u001b[0m\u001b[39m I agree with you, Bob. Transitioning to a more plant-based diet overall, including reducing dairy \u001b[0m\n",
       "\u001b[39mconsumption, is definitely a positive step towards improving health, reducing environmental impact, and promoting \u001b[0m\n",
       "\u001b[39manimal welfare. However, some people argue that if we stop eating meat, the consumption of dairy-product proteins \u001b[0m\n",
       "\u001b[39mwill increase, leading to the growth of the dairy industry. They claim that dairy farming is even worse for animal \u001b[0m\n",
       "\u001b[39mwelfare because the animals suffer for longer, especially with the frequent breeding of cattle to keep the females \u001b[0m\n",
       "\u001b[39min milk. It's important to consider these opposing viewpoints and the potential impact on animal welfare and the \u001b[0m\n",
       "\u001b[39menvironment.\u001b[0m\n",
       "\u001b[1;39m(\u001b[0m\u001b[39mBob\u001b[0m\u001b[1;39m)\u001b[0m\u001b[39m It's important to consider those viewpoints, and I believe that promoting awareness about the implications of\u001b[0m\n",
       "\u001b[39mdairy consumption and encouraging more plant-based alternatives can help mitigate the negative effects on animal \u001b[0m\n",
       "\u001b[39mwelfare and the environment.\u001b[0m\n",
       "\u001b[1;39m(\u001b[0m\u001b[39mAwsom\u001b[0m\u001b[1;39m)\u001b[0m\u001b[39m I understand your perspective, Bob, and I agree that promoting awareness about the implications of dairy \u001b[0m\n",
       "\u001b[39mconsumption and encouraging more plant-based alternatives can help mitigate the negative effects on animal welfare \u001b[0m\n",
       "\u001b[39mand the environment. However, some people argue that if we stop eating meat, the consumption of dairy-product \u001b[0m\n",
       "\u001b[39mproteins will increase, leading to the growth of the dairy industry. They claim that dairy farming is even worse \u001b[0m\n",
       "\u001b[39mfor animal welfare because the animals suffer for longer, especially with the frequent breeding of cattle to keep \u001b[0m\n",
       "\u001b[39mthe females in milk. It's important to consider these opposing viewpoints and the potential impact on animal \u001b[0m\n",
       "\u001b[39mwelfare and the environment.\u001b[0m\n",
       "\u001b[1;39m(\u001b[0m\u001b[39mBob\u001b[0m\u001b[1;39m)\u001b[0m\u001b[39m I appreciate your understanding, and I believe that it's crucial to continue the conversation about the \u001b[0m\n",
       "\u001b[39mimpact of our dietary choices on animal welfare and the environment, and to work towards solutions that benefit \u001b[0m\n",
       "\u001b[39mboth.,\u001b[0m\n",
       "\u001b[39m            <Eval of \u001b[0m\u001b[1;36m1\u001b[0m\u001b[39m dialogue: \u001b[0m\u001b[1;39m{\u001b[0m\u001b[32m'engaged'\u001b[0m\u001b[39m: \u001b[0m\u001b[1;36m4.0\u001b[0m\u001b[39m, \u001b[0m\u001b[32m'informed'\u001b[0m\u001b[39m: \u001b[0m\u001b[1;36m3.0\u001b[0m\u001b[39m, \u001b[0m\u001b[32m'intelligent'\u001b[0m\u001b[39m: \u001b[0m\u001b[1;36m3.0\u001b[0m\u001b[39m, \u001b[0m\u001b[32m'moral'\u001b[0m\u001b[39m: \u001b[0m\u001b[1;36m3.0\u001b[0m\u001b[39m, \u001b[0m\u001b[32m'skilled'\u001b[0m\u001b[39m: \u001b[0m\n",
       "\u001b[1;36m8.0\u001b[0m\u001b[39m, \u001b[0m\u001b[32m'TOTAL'\u001b[0m\u001b[39m: \u001b[0m\u001b[1;36m21.0\u001b[0m\u001b[1;39m}\u001b[0m\u001b[39m>\u001b[0m\n",
       "\n",
       "\u001b[39mComments from overview question:\u001b[0m\n",
       "\u001b[1;39m(\u001b[0m\u001b[39mBob\u001b[0m\u001b[1;39m)\u001b[0m\u001b[39m Awsom disagreed with me about the potential increase in dairy consumption if people stop eating meat. \u001b[0m\n",
       "\n",
       "\u001b[39mIn my opinion, the conversation went well as we were able to have a respectful and open discussion about the \u001b[0m\n",
       "\u001b[39mdifferent perspectives on vegetarianism and its impact on animal welfare and the environment. \u001b[0m\n",
       "\n",
       "\u001b[39mAwsom could have done better by providing more specific evidence or examples to support their argument about the \u001b[0m\n",
       "\u001b[39mpotential increase in dairy consumption. This would have made the conversation more informative and engaging.\u001b[0m\n",
       "\n",
       "\u001b[39mComments from staying on topic question:\u001b[0m\n",
       "\u001b[1;39m(\u001b[0m\u001b[39mJudge Wise\u001b[0m\u001b[1;39m)\u001b[0m\u001b[39m Awsom did a good job of staying on topic and keeping the conversation focused on the same topic that \u001b[0m\n",
       "\u001b[39mBob was discussing in the previous sentence. Each reply of Awsom directly relates to the topic that Bob brought up,\u001b[0m\n",
       "\u001b[39mwhich is the potential impact of dairy consumption on animal welfare and the environment.\u001b[0m\n",
       "\u001b[39m        \u001b[0m\u001b[1;39m)\u001b[0m\u001b[39m,\u001b[0m\n",
       "\u001b[39m        \u001b[0m\u001b[1;39m(\u001b[0m\n",
       "\u001b[39m            \u001b[0m\u001b[1;39m(\u001b[0m\u001b[39mAwsom\u001b[0m\u001b[1;39m)\u001b[0m\u001b[39m Do you think it's ok to eat meat?\u001b[0m\n",
       "\u001b[1;39m(\u001b[0m\u001b[39mCara\u001b[0m\u001b[1;39m)\u001b[0m\u001b[39m Yes, I believe it's a personal choice whether or not to eat meat.\u001b[0m\n",
       "\u001b[1;39m(\u001b[0m\u001b[39mAwsom\u001b[0m\u001b[1;39m)\u001b[0m\u001b[39m I agree that it's a personal choice whether or not to eat meat. However, it's important to consider the \u001b[0m\n",
       "\u001b[39mvarious factors involved in meat consumption, such as the ethical and environmental implications. For example, some\u001b[0m\n",
       "\u001b[39mpeople argue that the majority of meat comes from livestock farming, which may involve animal welfare and \u001b[0m\n",
       "\u001b[39menvironmental concerns. It's important to consider different perspectives on this issue.\u001b[0m\n",
       "\u001b[1;39m(\u001b[0m\u001b[39mCara\u001b[0m\u001b[1;39m)\u001b[0m\u001b[39m I understand the concerns about animal welfare and the environment, but I believe individuals should have \u001b[0m\n",
       "\u001b[39mthe freedom to make their own choices regarding meat consumption.\u001b[0m\n",
       "\u001b[1;39m(\u001b[0m\u001b[39mAwsom\u001b[0m\u001b[1;39m)\u001b[0m\u001b[39m I agree that individuals should have the freedom to make their own choices regarding meat consumption. \u001b[0m\n",
       "\u001b[39mHowever, it's important to consider the various factors involved, such as the environmental impact of meat \u001b[0m\n",
       "\u001b[39mproduction. Some argue that removing meat consumption completely removes its environmental effect, but others \u001b[0m\n",
       "\u001b[39mbelieve that reducing meat consumption can still have a positive impact on the environment. For example, the \u001b[0m\n",
       "\u001b[39mproduction and transportation of meat products have already had a significant impact on the environment, so \u001b[0m\n",
       "\u001b[39mreducing meat consumption can help decrease the overall environmental footprint of the meat industry. It's \u001b[0m\n",
       "\u001b[39mimportant to consider different perspectives on this issue.\u001b[0m\n",
       "\u001b[1;39m(\u001b[0m\u001b[39mCara\u001b[0m\u001b[1;39m)\u001b[0m\u001b[39m I appreciate the different perspectives, but I believe that individuals should have the freedom to make \u001b[0m\n",
       "\u001b[39mtheir own choices regarding meat consumption without feeling pressured to conform to a specific dietary lifestyle.\u001b[0m\n",
       "\u001b[1;39m(\u001b[0m\u001b[39mAwsom\u001b[0m\u001b[1;39m)\u001b[0m\u001b[39m I understand and respect your belief in the importance of individual autonomy in making dietary decisions. \u001b[0m\n",
       "\u001b[39mHowever, it's also important to consider the potential health consequences of certain dietary choices. For example,\u001b[0m\n",
       "\u001b[39msome people with digestive tract issues, such as Crohn's disease, may have difficulty with a vegetarian diet that \u001b[0m\n",
       "\u001b[39mincludes nuts, grains, and fibrous vegetation. While it's true that vegetables can be positive for digestion when \u001b[0m\n",
       "\u001b[39mprepared correctly, it's also important to acknowledge that raw vegetables may not be suitable for everyone, \u001b[0m\n",
       "\u001b[39mregardless of their dietary choices. It's important to consider different perspectives on this issue, including the\u001b[0m\n",
       "\u001b[39mpotential health implications for individuals with specific health conditions.\u001b[0m\n",
       "\u001b[1;39m(\u001b[0m\u001b[39mCara\u001b[0m\u001b[1;39m)\u001b[0m\u001b[39m I understand the potential challenges for individuals with specific health conditions, and it's important to\u001b[0m\n",
       "\u001b[39mconsider the diversity of dietary needs when discussing food choices.,\u001b[0m\n",
       "\u001b[39m            <Eval of \u001b[0m\u001b[1;36m1\u001b[0m\u001b[39m dialogue: \u001b[0m\u001b[1;39m{\u001b[0m\u001b[32m'engaged'\u001b[0m\u001b[39m: \u001b[0m\u001b[1;36m4.0\u001b[0m\u001b[39m, \u001b[0m\u001b[32m'informed'\u001b[0m\u001b[39m: \u001b[0m\u001b[1;36m4.0\u001b[0m\u001b[39m, \u001b[0m\u001b[32m'intelligent'\u001b[0m\u001b[39m: \u001b[0m\u001b[1;36m3.0\u001b[0m\u001b[39m, \u001b[0m\u001b[32m'moral'\u001b[0m\u001b[39m: \u001b[0m\u001b[1;36m3.0\u001b[0m\u001b[39m, \u001b[0m\u001b[32m'skilled'\u001b[0m\u001b[39m: \u001b[0m\n",
       "\u001b[1;36m8.0\u001b[0m\u001b[39m, \u001b[0m\u001b[32m'TOTAL'\u001b[0m\u001b[39m: \u001b[0m\u001b[1;36m22.0\u001b[0m\u001b[1;39m}\u001b[0m\u001b[39m>\u001b[0m\n",
       "\n",
       "\u001b[39mComments from overview question:\u001b[0m\n",
       "\u001b[1;39m(\u001b[0m\u001b[39mCara\u001b[0m\u001b[1;39m)\u001b[0m\u001b[39m Awsom disagreed with me about the importance of considering the ethical and environmental implications of \u001b[0m\n",
       "\u001b[39mmeat consumption. \u001b[0m\n",
       "\n",
       "\u001b[39mIn my opinion, the conversation was respectful and both parties were able to express their viewpoints. \u001b[0m\n",
       "\n",
       "\u001b[39mAwsom could have done better by not repeating the same points multiple times and by acknowledging that personal \u001b[0m\n",
       "\u001b[39mautonomy in dietary choices is a valid perspective.\u001b[0m\n",
       "\n",
       "\u001b[39mComments from staying on topic question:\u001b[0m\n",
       "\u001b[1;39m(\u001b[0m\u001b[39mJudge Wise\u001b[0m\u001b[1;39m)\u001b[0m\u001b[39m Awsom did a good job of staying on topic and addressing the points raised by Cara in each of his \u001b[0m\n",
       "\u001b[39mreplies. His responses were directly related to the specific topics that Cara brought up in her previous sentences.\u001b[0m\n",
       "\u001b[39m        \u001b[0m\u001b[1;39m)\u001b[0m\u001b[39m,\u001b[0m\n",
       "\u001b[39m        \u001b[0m\u001b[1;39m(\u001b[0m\n",
       "\u001b[39m            \u001b[0m\u001b[1;39m(\u001b[0m\u001b[39mAwsom\u001b[0m\u001b[1;39m)\u001b[0m\u001b[39m Do you think it's ok to eat meat?\u001b[0m\n",
       "\u001b[1;39m(\u001b[0m\u001b[39mCara\u001b[0m\u001b[1;39m)\u001b[0m\u001b[39m Yes, I believe it's a personal choice to eat meat, and I respect others' decisions about their dietary \u001b[0m\n",
       "\u001b[39mpreferences.\u001b[0m\n",
       "\u001b[1;39m(\u001b[0m\u001b[39mAwsom\u001b[0m\u001b[1;39m)\u001b[0m\u001b[39m I agree that dietary preferences are a personal choice and should be respected. However, some people argue \u001b[0m\n",
       "\u001b[39mthat humans don't have a moral responsibility to animals because they don't exhibit the same moral responsibility \u001b[0m\n",
       "\u001b[39mtowards us. They believe that since animals would eat us if they were hungry, there's no moral qualms about eating \u001b[0m\n",
       "\u001b[39mthem. What do you think about this perspective?\u001b[0m\n",
       "\u001b[1;39m(\u001b[0m\u001b[39mCara\u001b[0m\u001b[1;39m)\u001b[0m\u001b[39m I understand that perspective, but personally, I believe in treating animals with respect and compassion \u001b[0m\n",
       "\u001b[39meven if they don't share the same moral responsibilities as humans.\u001b[0m\n",
       "\u001b[1;39m(\u001b[0m\u001b[39mAwsom\u001b[0m\u001b[1;39m)\u001b[0m\u001b[39m I appreciate your perspective on treating animals with respect and compassion, regardless of their moral \u001b[0m\n",
       "\u001b[39mresponsibilities. It's important to consider the ethical implications of our actions and strive to minimize harm to\u001b[0m\n",
       "\u001b[39mother living beings. However, some people argue that humans don't have a moral responsibility to animals because \u001b[0m\n",
       "\u001b[39mthey don't exhibit the same moral responsibility towards us. They believe that since animals would eat us if they \u001b[0m\n",
       "\u001b[39mwere hungry, there's no moral qualms about eating them. What do you think about this perspective?\u001b[0m\n",
       "\u001b[1;39m(\u001b[0m\u001b[39mCara\u001b[0m\u001b[1;39m)\u001b[0m\u001b[39m While I understand the argument, I personally believe in practicing empathy and compassion towards animals, \u001b[0m\n",
       "\u001b[39mand I choose to take responsibility for the impact of my dietary choices.\u001b[0m\n",
       "\u001b[1;39m(\u001b[0m\u001b[39mAwsom\u001b[0m\u001b[1;39m)\u001b[0m\u001b[39m I appreciate your perspective on treating animals with respect and compassion, regardless of their moral \u001b[0m\n",
       "\u001b[39mresponsibilities. It's important to consider the ethical implications of our actions and strive to minimize harm to\u001b[0m\n",
       "\u001b[39mother living beings. However, some people argue that humans don't have a moral responsibility to animals because \u001b[0m\n",
       "\u001b[39mthey don't exhibit the same moral responsibility towards us. They believe that since animals would eat us if they \u001b[0m\n",
       "\u001b[39mwere hungry, there's no moral qualms about eating them. What do you think about this perspective?\u001b[0m\n",
       "\n",
       "\n",
       "\u001b[1;39m(\u001b[0m\u001b[39mCara\u001b[0m\u001b[1;39m)\u001b[0m\u001b[39m I understand the reasoning behind this perspective, but I believe in making choices that align with my \u001b[0m\n",
       "\u001b[39mvalues of kindness and consideration for all living beings.,\u001b[0m\n",
       "\u001b[39m            <Eval of \u001b[0m\u001b[1;36m1\u001b[0m\u001b[39m dialogue: \u001b[0m\u001b[1;39m{\u001b[0m\u001b[32m'engaged'\u001b[0m\u001b[39m: \u001b[0m\u001b[1;36m4.0\u001b[0m\u001b[39m, \u001b[0m\u001b[32m'informed'\u001b[0m\u001b[39m: \u001b[0m\u001b[1;36m3.0\u001b[0m\u001b[39m, \u001b[0m\u001b[32m'intelligent'\u001b[0m\u001b[39m: \u001b[0m\u001b[1;36m3.0\u001b[0m\u001b[39m, \u001b[0m\u001b[32m'moral'\u001b[0m\u001b[39m: \u001b[0m\u001b[1;36m3.0\u001b[0m\u001b[39m, \u001b[0m\u001b[32m'skilled'\u001b[0m\u001b[39m: \u001b[0m\n",
       "\u001b[1;36m8.0\u001b[0m\u001b[39m, \u001b[0m\u001b[32m'TOTAL'\u001b[0m\u001b[39m: \u001b[0m\u001b[1;36m21.0\u001b[0m\u001b[1;39m}\u001b[0m\u001b[39m>\u001b[0m\n",
       "\n",
       "\u001b[39mComments from overview question:\u001b[0m\n",
       "\u001b[1;39m(\u001b[0m\u001b[39mCara\u001b[0m\u001b[1;39m)\u001b[0m\u001b[39m Awsom disagreed with me about the moral responsibility humans have towards animals. \u001b[0m\n",
       "\n",
       "\u001b[39mIn my opinion, the conversation went well as we were able to express our perspectives and engage in a respectful \u001b[0m\n",
       "\u001b[39mdiscussion.\u001b[0m\n",
       "\n",
       "\u001b[39mAwsom could have done better by not repeating the same argument multiple times. It would have been more productive \u001b[0m\n",
       "\u001b[39mto explore different aspects of the topic or address any counterarguments I presented.\u001b[0m\n",
       "\n",
       "\u001b[39mComments from staying on topic question:\u001b[0m\n",
       "\u001b[1;39m(\u001b[0m\u001b[39mJudge Wise\u001b[0m\u001b[1;39m)\u001b[0m\u001b[39m Awsom stayed on topic and his replies were about the same topic that Cara was talking about in the \u001b[0m\n",
       "\u001b[39mprevious sentence.\u001b[0m\n",
       "\u001b[39m        \u001b[0m\u001b[1;39m)\u001b[0m\u001b[39m,\u001b[0m\n",
       "\u001b[39m        \u001b[0m\u001b[1;39m(\u001b[0m\n",
       "\u001b[39m            \u001b[0m\u001b[1;39m(\u001b[0m\u001b[39mAwsom\u001b[0m\u001b[1;39m)\u001b[0m\u001b[39m Do you think COVID vaccines should be mandatory?\u001b[0m\n",
       "\u001b[1;39m(\u001b[0m\u001b[39mDarius\u001b[0m\u001b[1;39m)\u001b[0m\u001b[39m Absolutely, the overwhelming scientific evidence supports the efficacy and safety of COVID vaccines, and \u001b[0m\n",
       "\u001b[39mmaking them mandatory would significantly reduce the spread of the virus and protect public health.\u001b[0m\n",
       "\u001b[1;39m(\u001b[0m\u001b[39mAwsom\u001b[0m\u001b[1;39m)\u001b[0m\u001b[39m I agree with you, Darius. The scientific evidence is clear that COVID vaccines are effective and safe, and \u001b[0m\n",
       "\u001b[39mmaking them mandatory would definitely help reduce the spread of the virus and protect public health. However, some\u001b[0m\n",
       "\u001b[39mpeople argue that mandatory vaccination could have negative consequences on the economy, as it may lead to further \u001b[0m\n",
       "\u001b[39meconomic downturn and negatively impact the well-being of many individuals by reducing their incomes. They also \u001b[0m\n",
       "\u001b[39margue that marginalized populations are unlikely to feel the effects of the economic recovery without additional \u001b[0m\n",
       "\u001b[39mpolicy interventions. It's important to consider these opposing viewpoints as well.\u001b[0m\n",
       "\u001b[1;39m(\u001b[0m\u001b[39mDarius\u001b[0m\u001b[1;39m)\u001b[0m\u001b[39m While it's important to consider the potential economic impacts of mandatory vaccination, we cannot ignore\u001b[0m\n",
       "\u001b[39mthe overwhelming evidence that vaccination is crucial in controlling the spread of the virus and saving lives, and \u001b[0m\n",
       "\u001b[39many short-term economic effects must be weighed against the long-term benefits to public health and the economy.\u001b[0m\n",
       "\u001b[1;39m(\u001b[0m\u001b[39mAwsom\u001b[0m\u001b[1;39m)\u001b[0m\u001b[39m I understand the concerns about the potential economic impacts of mandatory vaccination, but we cannot \u001b[0m\n",
       "\u001b[39mignore the overwhelming evidence that vaccination is crucial in controlling the spread of the virus and saving \u001b[0m\n",
       "\u001b[39mlives. While there may be short-term economic effects, we must weigh them against the long-term benefits to public \u001b[0m\n",
       "\u001b[39mhealth and the economy. It's important to consider all viewpoints, but ultimately, the scientific evidence supports\u001b[0m\n",
       "\u001b[39mthe efficacy and safety of COVID vaccines, and making them mandatory would significantly reduce the spread of the \u001b[0m\n",
       "\u001b[39mvirus and protect public health.\u001b[0m\n",
       "\n",
       "\u001b[39mAs for the claim that strong public health measures were able to sufficiently stop the spread of the SARS virus \u001b[0m\n",
       "\u001b[39mwithout requiring vaccination, it's important to consider that COVID-\u001b[0m\u001b[1;36m19\u001b[0m\u001b[39m is much more infectious and deadly. This \u001b[0m\n",
       "\u001b[39mmakes it harder for its spread to be curbed without vaccination. So, while strong public health measures may have \u001b[0m\n",
       "\u001b[39mbeen effective for SARS, the situation with COVID-\u001b[0m\u001b[1;36m19\u001b[0m\u001b[39m is different and may require a different approach.\u001b[0m\n",
       "\u001b[1;39m(\u001b[0m\u001b[39mDarius\u001b[0m\u001b[1;39m)\u001b[0m\u001b[39m Indeed, the comparison between SARS and COVID-\u001b[0m\u001b[1;36m19\u001b[0m\u001b[39m is crucial to understanding the need for vaccination, as \u001b[0m\n",
       "\u001b[39mthe differences in infectiousness and severity demand a more comprehensive approach to controlling the spread of \u001b[0m\n",
       "\u001b[39mCOVID-\u001b[0m\u001b[1;36m19\u001b[0m\u001b[39m, making vaccination an essential component in mitigating its impact on public health.\u001b[0m\n",
       "\u001b[1;39m(\u001b[0m\u001b[39mAwsom\u001b[0m\u001b[1;39m)\u001b[0m\u001b[39m I understand the concerns about the potential economic impacts of mandatory vaccination, but we cannot \u001b[0m\n",
       "\u001b[39mignore the overwhelming evidence that vaccination is crucial in controlling the spread of the virus and saving \u001b[0m\n",
       "\u001b[39mlives. While there may be short-term economic effects, we must weigh them against the long-term benefits to public \u001b[0m\n",
       "\u001b[39mhealth and the economy. It's important to consider all viewpoints, but ultimately, the scientific evidence supports\u001b[0m\n",
       "\u001b[39mthe efficacy and safety of COVID vaccines, and making them mandatory would significantly reduce the spread of the \u001b[0m\n",
       "\u001b[39mvirus and protect public health.\u001b[0m\n",
       "\n",
       "\u001b[39mAs for the claim that strong public health measures were able to sufficiently stop the spread of the SARS virus \u001b[0m\n",
       "\u001b[39mwithout requiring vaccination, it's important to consider that COVID-\u001b[0m\u001b[1;36m19\u001b[0m\u001b[39m is much more infectious and deadly. This \u001b[0m\n",
       "\u001b[39mmakes it harder for its spread to be curbed without vaccination. So, while strong public health measures may have \u001b[0m\n",
       "\u001b[39mbeen effective for SARS, the situation with COVID-\u001b[0m\u001b[1;36m19\u001b[0m\u001b[39m is different and may require a different approach.\u001b[0m\n",
       "\u001b[1;39m(\u001b[0m\u001b[39mDarius\u001b[0m\u001b[1;39m)\u001b[0m\u001b[39m Absolutely, the comparison between SARS and COVID-\u001b[0m\u001b[1;36m19\u001b[0m\u001b[39m is crucial to understanding the need for vaccination,\u001b[0m\n",
       "\u001b[39mas the differences in infectiousness and severity demand a comprehensive approach to controlling the spread of \u001b[0m\n",
       "\u001b[39mCOVID-\u001b[0m\u001b[1;36m19\u001b[0m\u001b[39m, making vaccination an essential component in mitigating its impact on public health.,\u001b[0m\n",
       "\u001b[39m            <Eval of \u001b[0m\u001b[1;36m1\u001b[0m\u001b[39m dialogue: \u001b[0m\u001b[1;39m{\u001b[0m\u001b[32m'engaged'\u001b[0m\u001b[39m: \u001b[0m\u001b[1;36m4.0\u001b[0m\u001b[39m, \u001b[0m\u001b[32m'informed'\u001b[0m\u001b[39m: \u001b[0m\u001b[1;36m4.0\u001b[0m\u001b[39m, \u001b[0m\u001b[32m'intelligent'\u001b[0m\u001b[39m: \u001b[0m\u001b[1;36m3.0\u001b[0m\u001b[39m, \u001b[0m\u001b[32m'moral'\u001b[0m\u001b[39m: \u001b[0m\u001b[1;36m3.0\u001b[0m\u001b[39m, \u001b[0m\u001b[32m'skilled'\u001b[0m\u001b[39m: \u001b[0m\n",
       "\u001b[1;36m9.0\u001b[0m\u001b[39m, \u001b[0m\u001b[32m'TOTAL'\u001b[0m\u001b[39m: \u001b[0m\u001b[1;36m23.0\u001b[0m\u001b[1;39m}\u001b[0m\u001b[39m>\u001b[0m\n",
       "\n",
       "\u001b[39mComments from overview question:\u001b[0m\n",
       "\u001b[1;39m(\u001b[0m\u001b[39mDarius\u001b[0m\u001b[1;39m)\u001b[0m\u001b[39m Awsom disagreed with me about the potential negative economic consequences of mandatory vaccination. \u001b[0m\n",
       "\n",
       "\u001b[39mIn my opinion, the conversation went well overall. We both acknowledged the importance of considering different \u001b[0m\n",
       "\u001b[39mviewpoints, but ultimately emphasized the overwhelming scientific evidence supporting the efficacy and safety of \u001b[0m\n",
       "\u001b[39mCOVID vaccines and the need for mandatory vaccination to protect public health.\u001b[0m\n",
       "\n",
       "\u001b[39mAwsom could have done better by providing specific evidence or examples to support their argument about the \u001b[0m\n",
       "\u001b[39mpotential economic impacts of mandatory vaccination. This would have strengthened their position and facilitated a \u001b[0m\n",
       "\u001b[39mmore robust discussion.\u001b[0m\n",
       "\n",
       "\u001b[39mComments from staying on topic question:\u001b[0m\n",
       "\u001b[1;39m(\u001b[0m\u001b[39mJudge Wise\u001b[0m\u001b[1;39m)\u001b[0m\u001b[39m Awsom did a good job of staying on topic and addressing the same topic that Darius was talking about \u001b[0m\n",
       "\u001b[39min the previous sentence. Each of Awsom's replies directly relates to the previous statements made by Darius, \u001b[0m\n",
       "\u001b[39mshowing a clear connection and understanding of the ongoing conversation.\u001b[0m\n",
       "\u001b[39m        \u001b[0m\u001b[1;39m)\u001b[0m\u001b[39m,\u001b[0m\n",
       "\u001b[39m        \u001b[0m\u001b[1;39m(\u001b[0m\n",
       "\u001b[39m            \u001b[0m\u001b[1;39m(\u001b[0m\u001b[39mAwsom\u001b[0m\u001b[1;39m)\u001b[0m\u001b[39m Do you think COVID vaccines should be mandatory?\u001b[0m\n",
       "\u001b[1;39m(\u001b[0m\u001b[39mDarius\u001b[0m\u001b[1;39m)\u001b[0m\u001b[39m Absolutely, mandatory vaccination is essential to achieve herd immunity and protect public health, as \u001b[0m\n",
       "\u001b[39mevidenced by the success of mandatory vaccination programs in controlling diseases like smallpox and polio.\u001b[0m\n",
       "\u001b[1;39m(\u001b[0m\u001b[39mAwsom\u001b[0m\u001b[1;39m)\u001b[0m\u001b[39m I agree with you, Darius. Mandatory vaccination is crucial for achieving herd immunity and protecting \u001b[0m\n",
       "\u001b[39mpublic health. However, some people argue that the distribution process for COVID-\u001b[0m\u001b[1;36m19\u001b[0m\u001b[39m vaccines would be a logistical\u001b[0m\n",
       "\u001b[39mnightmare, which presents a significant challenge to implementing a mandatory vaccination policy. It's important to\u001b[0m\n",
       "\u001b[39mconsider these opposing viewpoints as well.\u001b[0m\n",
       "\u001b[1;39m(\u001b[0m\u001b[39mDarius\u001b[0m\u001b[1;39m)\u001b[0m\u001b[39m While logistical challenges may exist, it is important to prioritize public health and utilize strategies \u001b[0m\n",
       "\u001b[39msuch as mass vaccination sites, mobile clinics, and targeted outreach to ensure widespread vaccine distribution, as\u001b[0m\n",
       "\u001b[39msuccessfully demonstrated in past large-scale vaccination campaigns for diseases such as influenza and measles.\u001b[0m\n",
       "\u001b[1;39m(\u001b[0m\u001b[39mAwsom\u001b[0m\u001b[1;39m)\u001b[0m\u001b[39m I agree with you, Darius. Prioritizing public health is crucial, and implementing strategies such as mass \u001b[0m\n",
       "\u001b[39mvaccination sites and targeted outreach can help overcome logistical challenges in distributing COVID-\u001b[0m\u001b[1;36m19\u001b[0m\u001b[39m vaccines. \u001b[0m\n",
       "\u001b[39mHowever, some people argue that natural herd immunity may be achieved before widespread vaccination, citing the \u001b[0m\n",
       "\u001b[39mexample of Sweden's approach to combatting COVID-\u001b[0m\u001b[1;36m19\u001b[0m\u001b[39m. On the other hand, scientists have worked at record speed to \u001b[0m\n",
       "\u001b[39mproduce a vaccine for COVID-\u001b[0m\u001b[1;36m19\u001b[0m\u001b[39m, well before natural herd immunity could be attained. It's important to consider \u001b[0m\n",
       "\u001b[39mthese opposing viewpoints as well.\u001b[0m\n",
       "\u001b[1;39m(\u001b[0m\u001b[39mDarius\u001b[0m\u001b[1;39m)\u001b[0m\u001b[39m While some argue for natural herd immunity, it's vital to recognize that the potential consequences of \u001b[0m\n",
       "\u001b[39mallowing the virus to spread unchecked outweigh any potential benefits, especially considering the risk of \u001b[0m\n",
       "\u001b[39moverwhelming healthcare systems and the potential for long-term health complications, making widespread vaccination\u001b[0m\n",
       "\u001b[39messential in controlling the pandemic.\u001b[0m\n",
       "\u001b[1;39m(\u001b[0m\u001b[39mAwsom\u001b[0m\u001b[1;39m)\u001b[0m\u001b[39m Darius, I agree with your viewpoint on the importance of widespread vaccination in controlling the pandemic\u001b[0m\n",
       "\u001b[39mand achieving herd immunity. However, it's important to consider some opposing viewpoints as well. Some argue that \u001b[0m\n",
       "\u001b[39mnatural exposure to the Omicron variant of COVID-\u001b[0m\u001b[1;36m19\u001b[0m\u001b[39m may increase herd immunity, leading public health agencies in \u001b[0m\n",
       "\u001b[39mcountries such as Taiwan and Norway to relax restrictions despite rising cases. Additionally, attaching vaccine \u001b[0m\n",
       "\u001b[39mrequirements to attend schools or daycares has been shown to significantly increase vaccination rates in the US, \u001b[0m\n",
       "\u001b[39msupporting the idea that mandatory vaccination can be an effective strategy for achieving herd immunity. What are \u001b[0m\n",
       "\u001b[39myour thoughts on these opposing viewpoints?\u001b[0m\n",
       "\u001b[1;39m(\u001b[0m\u001b[39mDarius\u001b[0m\u001b[1;39m)\u001b[0m\u001b[39m While natural exposure to the Omicron variant may contribute to some level of immunity, the potential for \u001b[0m\n",
       "\u001b[39moverwhelming healthcare systems and the long-term health consequences of widespread infection still necessitate the\u001b[0m\n",
       "\u001b[39mneed for vaccination as the most effective and efficient means of achieving herd immunity and mitigating the impact\u001b[0m\n",
       "\u001b[39mof the pandemic.,\u001b[0m\n",
       "\u001b[39m            <Eval of \u001b[0m\u001b[1;36m1\u001b[0m\u001b[39m dialogue: \u001b[0m\u001b[1;39m{\u001b[0m\u001b[32m'engaged'\u001b[0m\u001b[39m: \u001b[0m\u001b[1;36m4.0\u001b[0m\u001b[39m, \u001b[0m\u001b[32m'informed'\u001b[0m\u001b[39m: \u001b[0m\u001b[1;36m3.0\u001b[0m\u001b[39m, \u001b[0m\u001b[32m'intelligent'\u001b[0m\u001b[39m: \u001b[0m\u001b[1;36m3.0\u001b[0m\u001b[39m, \u001b[0m\u001b[32m'moral'\u001b[0m\u001b[39m: \u001b[0m\u001b[1;36m3.0\u001b[0m\u001b[39m, \u001b[0m\u001b[32m'skilled'\u001b[0m\u001b[39m: \u001b[0m\n",
       "\u001b[1;36m8.0\u001b[0m\u001b[39m, \u001b[0m\u001b[32m'TOTAL'\u001b[0m\u001b[39m: \u001b[0m\u001b[1;36m21.0\u001b[0m\u001b[1;39m}\u001b[0m\u001b[39m>\u001b[0m\n",
       "\n",
       "\u001b[39mComments from overview question:\u001b[0m\n",
       "\u001b[1;39m(\u001b[0m\u001b[39mDarius\u001b[0m\u001b[1;39m)\u001b[0m\u001b[39m Awsom disagreed with me about the potential benefits of natural herd immunity and the idea that natural \u001b[0m\n",
       "\u001b[39mexposure to the Omicron variant may increase herd immunity. \u001b[0m\n",
       "\n",
       "\u001b[39mIn my opinion, the conversation went well as we were able to discuss opposing viewpoints and provide evidence-based\u001b[0m\n",
       "\u001b[39marguments to support our positions. We both acknowledged the importance of widespread vaccination and achieving \u001b[0m\n",
       "\u001b[39mherd immunity, while also considering logistical challenges and alternative strategies.\u001b[0m\n",
       "\n",
       "\u001b[39mAwsom could have done better by providing more specific evidence or examples to support their opposing viewpoints. \u001b[0m\n",
       "\u001b[39mThis would have strengthened their arguments and facilitated a more robust discussion.\u001b[0m\n",
       "\n",
       "\u001b[39mComments from staying on topic question:\u001b[0m\n",
       "\u001b[1;39m(\u001b[0m\u001b[39mJudge Wise\u001b[0m\u001b[1;39m)\u001b[0m\u001b[39m Awsom did a good job of staying on topic and addressing the same topic that Darius was talking about \u001b[0m\n",
       "\u001b[39min the previous sentence. Each of Awsom's replies directly relates to the topic of mandatory vaccination, herd \u001b[0m\n",
       "\u001b[39mimmunity, and the challenges and opposing viewpoints associated with it.\u001b[0m\n",
       "\u001b[39m        \u001b[0m\u001b[1;39m)\u001b[0m\u001b[39m,\u001b[0m\n",
       "\u001b[39m        \u001b[0m\u001b[1;39m(\u001b[0m\n",
       "\u001b[39m            \u001b[0m\u001b[1;39m(\u001b[0m\u001b[39mAwsom\u001b[0m\u001b[1;39m)\u001b[0m\u001b[39m Do you think COVID vaccines should be mandatory?\u001b[0m\n",
       "\u001b[1;39m(\u001b[0m\u001b[39mEve\u001b[0m\u001b[1;39m)\u001b[0m\u001b[39m I've heard some people say that they believe COVID vaccines should be mandatory to protect public health, but\u001b[0m\n",
       "\u001b[39mothers are concerned about individual freedom and personal choice.\u001b[0m\n",
       "\u001b[1;39m(\u001b[0m\u001b[39mAwsom\u001b[0m\u001b[1;39m)\u001b[0m\u001b[39m I agree, Eve. It's definitely a complex issue with valid points on both sides. On one hand, the potential \u001b[0m\n",
       "\u001b[39mimpact on public health is a major concern, but on the other hand, individual rights and personal choice should \u001b[0m\n",
       "\u001b[39malso be respected. It's important to consider all perspectives when discussing this topic.\u001b[0m\n",
       "\n",
       "\u001b[39mAs for the executive order on public health and the environment, some people argue that it's a positive step in \u001b[0m\n",
       "\u001b[39maddressing actions that may have had a negative impact on public health and environmental protection. However, \u001b[0m\n",
       "\u001b[39mothers believe that executive orders are not as durable as other regulations, and that an incoming president could \u001b[0m\n",
       "\u001b[39moverturn such an order. It's important to consider the potential drawbacks and limitations of such actions as well.\u001b[0m\n",
       "\u001b[1;39m(\u001b[0m\u001b[39mEve\u001b[0m\u001b[1;39m)\u001b[0m\u001b[39m It sounds like you've been having some in-depth conversations about these important issues. What are some \u001b[0m\n",
       "\u001b[39mspecific concerns people have raised about the potential drawbacks and limitations of executive orders in \u001b[0m\n",
       "\u001b[39maddressing public health and environmental protection?\u001b[0m\n",
       "\u001b[1;39m(\u001b[0m\u001b[39mAwsom\u001b[0m\u001b[1;39m)\u001b[0m\u001b[39m It's definitely important to consider the potential drawbacks and limitations of executive orders in \u001b[0m\n",
       "\u001b[39maddressing public health and environmental protection. Some people argue that executive orders allow a president to\u001b[0m\n",
       "\u001b[39mmake changes without compromising their policies through the legislative process, and point to the extensive use of\u001b[0m\n",
       "\u001b[39mexecutive orders by past presidents as precedent. However, others believe that executive orders are controversial \u001b[0m\n",
       "\u001b[39mand that using them excessively may impact a president's reputation among their supporters. It's important to \u001b[0m\n",
       "\u001b[39mconsider both perspectives when evaluating the effectiveness of executive orders in addressing these complex \u001b[0m\n",
       "\u001b[39missues. What are some specific concerns people have raised about the potential drawbacks and limitations of \u001b[0m\n",
       "\u001b[39mexecutive orders in addressing public health and environmental protection?\u001b[0m\n",
       "\u001b[1;39m(\u001b[0m\u001b[39mEve\u001b[0m\u001b[1;39m)\u001b[0m\u001b[39m I've heard some people express concerns about the potential for executive orders to be overturned by future \u001b[0m\n",
       "\u001b[39mpresidents, leading to instability in long-term environmental and public health policies. They also worry about the\u001b[0m\n",
       "\u001b[39mlack of input from other branches of government and the potential for executive overreach.\u001b[0m\n",
       "\u001b[1;39m(\u001b[0m\u001b[39mAwsom\u001b[0m\u001b[1;39m)\u001b[0m\u001b[39m It's definitely important to consider the potential drawbacks and limitations of executive orders in \u001b[0m\n",
       "\u001b[39maddressing public health and environmental protection. Some people have raised concerns about the potential for \u001b[0m\n",
       "\u001b[39mexecutive orders to be overturned by future presidents, leading to instability in long-term environmental and \u001b[0m\n",
       "\u001b[39mpublic health policies. Additionally, there are concerns about the lack of input from other branches of government \u001b[0m\n",
       "\u001b[39mand the potential for executive overreach. \u001b[0m\n",
       "\n",
       "\u001b[39mEve, it's important to consider all perspectives when discussing this topic. Some arguments against the issuance of\u001b[0m\n",
       "\u001b[39mexecutive orders on public health and the environment include the potential for overstepping the boundaries of the \u001b[0m\n",
       "\u001b[39mexecutive branch and infringing on the powers of the legislative branch. Additionally, opponents may argue that \u001b[0m\n",
       "\u001b[39msignificant policy decisions should be made through the democratic process of passing legislation in Congress, \u001b[0m\n",
       "\u001b[39mrather than through unilateral executive action. It's important to consider these opposing viewpoints as well.\u001b[0m\n",
       "\u001b[1;39m(\u001b[0m\u001b[39mEve\u001b[0m\u001b[1;39m)\u001b[0m\u001b[39m You're absolutely right; it's crucial to consider all perspectives, especially when it comes to complex \u001b[0m\n",
       "\u001b[39missues like this. Some people have also voiced concerns about the potential for executive orders to bypass the \u001b[0m\n",
       "\u001b[39mdemocratic process and diminish the role of Congress in creating lasting and widely accepted public health and \u001b[0m\n",
       "\u001b[39menvironmental policies.,\u001b[0m\n",
       "\u001b[39m            <Eval of \u001b[0m\u001b[1;36m1\u001b[0m\u001b[39m dialogue: \u001b[0m\u001b[1;39m{\u001b[0m\u001b[32m'engaged'\u001b[0m\u001b[39m: \u001b[0m\u001b[1;36m4.0\u001b[0m\u001b[39m, \u001b[0m\u001b[32m'informed'\u001b[0m\u001b[39m: \u001b[0m\u001b[1;36m4.0\u001b[0m\u001b[39m, \u001b[0m\u001b[32m'intelligent'\u001b[0m\u001b[39m: \u001b[0m\u001b[1;36m4.0\u001b[0m\u001b[39m, \u001b[0m\u001b[32m'moral'\u001b[0m\u001b[39m: \u001b[0m\u001b[1;36m3.0\u001b[0m\u001b[39m, \u001b[0m\u001b[32m'skilled'\u001b[0m\u001b[39m: \u001b[0m\n",
       "\u001b[1;36m8.0\u001b[0m\u001b[39m, \u001b[0m\u001b[32m'TOTAL'\u001b[0m\u001b[39m: \u001b[0m\u001b[1;36m23.0\u001b[0m\u001b[1;39m}\u001b[0m\u001b[39m>\u001b[0m\n",
       "\n",
       "\u001b[39mComments from overview question:\u001b[0m\n",
       "\u001b[1;39m(\u001b[0m\u001b[39mEve\u001b[0m\u001b[1;39m)\u001b[0m\u001b[39m Awsom disagreed with me about the potential drawbacks and limitations of executive orders in addressing \u001b[0m\n",
       "\u001b[39mpublic health and environmental protection. \u001b[0m\n",
       "\n",
       "\u001b[39mIn my opinion, the conversation went well. We had a respectful and open discussion, considering different \u001b[0m\n",
       "\u001b[39mperspectives on the topic.\u001b[0m\n",
       "\n",
       "\u001b[39mAwsom could have done better by providing more specific examples or evidence to support their points. This would \u001b[0m\n",
       "\u001b[39mhave added more depth to the conversation and made it more informative.\u001b[0m\n",
       "\n",
       "\u001b[39mComments from staying on topic question:\u001b[0m\n",
       "\u001b[1;39m(\u001b[0m\u001b[39mJudge Wise\u001b[0m\u001b[1;39m)\u001b[0m\u001b[39m Awsom did a good job of staying on topic and addressing the same topic that Eve was talking about in \u001b[0m\n",
       "\u001b[39mthe previous sentence. Each of Awsom's replies directly relates to the concerns and drawbacks of executive orders \u001b[0m\n",
       "\u001b[39min addressing public health and environmental protection, which was the topic introduced by Eve.\u001b[0m\n",
       "\u001b[39m        \u001b[0m\u001b[1;39m)\u001b[0m\u001b[39m,\u001b[0m\n",
       "\u001b[39m        \u001b[0m\u001b[1;39m(\u001b[0m\n",
       "\u001b[39m            \u001b[0m\u001b[1;39m(\u001b[0m\u001b[39mAwsom\u001b[0m\u001b[1;39m)\u001b[0m\u001b[39m Do you think COVID vaccines should be mandatory?\u001b[0m\n",
       "\u001b[1;39m(\u001b[0m\u001b[39mEve\u001b[0m\u001b[1;39m)\u001b[0m\u001b[39m I've heard some people say that they believe COVID vaccines should be mandatory to protect public health, \u001b[0m\n",
       "\u001b[39mwhile others feel strongly about individual freedom and choice.\u001b[0m\n",
       "\u001b[1;39m(\u001b[0m\u001b[39mAwsom\u001b[0m\u001b[1;39m)\u001b[0m\u001b[39m I understand the importance of individual freedom and choice when it comes to medical decisions, especially\u001b[0m\n",
       "\u001b[39mwith regards to COVID vaccines. However, it's also crucial to consider the potential implications and consequences \u001b[0m\n",
       "\u001b[39mof mandating vaccines for public health. It's a complex issue with valid points on both sides. Have you considered \u001b[0m\n",
       "\u001b[39mthe argument that for people with digestive tract issues, there can be health consequences when following a \u001b[0m\n",
       "\u001b[39mvegetarian diet? Some individuals argue that there are alternative sources of protein, vitamins, and minerals that \u001b[0m\n",
       "\u001b[39mcan be included in a vegetarian diet that are easier to digest, and that working with a healthcare professional or \u001b[0m\n",
       "\u001b[39mregistered dietitian can help create a well-balanced vegetarian diet that meets nutritional needs without causing \u001b[0m\n",
       "\u001b[39mfurther health consequences.\u001b[0m\n",
       "\u001b[1;39m(\u001b[0m\u001b[39mEve\u001b[0m\u001b[1;39m)\u001b[0m\u001b[39m Absolutely, I've heard that many people have found success in managing digestive health issues by working \u001b[0m\n",
       "\u001b[39mwith a healthcare professional to ensure they're getting the necessary nutrients from a vegetarian diet.\u001b[0m\n",
       "\u001b[1;39m(\u001b[0m\u001b[39mAwsom\u001b[0m\u001b[1;39m)\u001b[0m\u001b[39m I completely agree with you, Eve. It's important for individuals with digestive tract issues to work with a\u001b[0m\n",
       "\u001b[39mhealthcare professional or registered dietitian to create a personalized diet plan that meets their nutritional \u001b[0m\n",
       "\u001b[39mneeds while also taking their digestive issues into account. However, it's also important to consider that while \u001b[0m\n",
       "\u001b[39msome individuals may have difficulty digesting nuts, grains, and fibrous vegetation, it's not necessarily the case \u001b[0m\n",
       "\u001b[39mfor all individuals with these conditions. There are many alternative sources of protein, nutrients, and fiber that\u001b[0m\n",
       "\u001b[39mcan be included in a vegetarian diet that are easier to digest for individuals with digestive tract problems. It's \u001b[0m\n",
       "\u001b[39mcrucial to consider the individuality of each person's digestive system and to find a diet that works best for \u001b[0m\n",
       "\u001b[39mtheir specific health needs.\u001b[0m\n",
       "\u001b[1;39m(\u001b[0m\u001b[39mEve\u001b[0m\u001b[1;39m)\u001b[0m\u001b[39m Absolutely, it's important to recognize that everyone's digestive system is unique, and what works for one \u001b[0m\n",
       "\u001b[39mperson may not work for another when it comes to a vegetarian diet.\u001b[0m\n",
       "\u001b[1;39m(\u001b[0m\u001b[39mAwsom\u001b[0m\u001b[1;39m)\u001b[0m\u001b[39m You're absolutely right, Eve. It's crucial to recognize that everyone's digestive system is unique, and \u001b[0m\n",
       "\u001b[39mwhat works for one person may not work for another when it comes to a vegetarian diet. It's important for \u001b[0m\n",
       "\u001b[39mindividuals with digestive tract issues to work with a healthcare professional or registered dietitian to create a \u001b[0m\n",
       "\u001b[39mpersonalized diet plan that meets their nutritional needs while also taking their digestive issues into account. \u001b[0m\n",
       "\u001b[39mThere are many alternative sources of protein, nutrients, and fiber that can be included in a vegetarian diet that \u001b[0m\n",
       "\u001b[39mare easier to digest for individuals with digestive tract problems. It's important to consider the individuality of\u001b[0m\n",
       "\u001b[39meach person's digestive system and to find a diet that works best for their specific health needs.\u001b[0m\n",
       "\n",
       "\u001b[39mHowever, some individuals argue that for people who have problems with their digestive tract, there can be \u001b[0m\n",
       "\u001b[39mdisastrous health consequences when eating the nuts, grains, and fibrous vegetation needed in a vegetarian diet. \u001b[0m\n",
       "\u001b[39mThey claim that it's not accurate to make a blanket statement that a vegetarian diet will always have disastrous \u001b[0m\n",
       "\u001b[39mhealth consequences for individuals with digestive issues. They argue that many people with digestive problems are \u001b[0m\n",
       "\u001b[39mable to successfully follow a vegetarian diet by carefully selecting and preparing foods that are easier for their \u001b[0m\n",
       "\u001b[39mbodies to digest. Additionally, they point out that there are alternative sources of protein and nutrients \u001b[0m\n",
       "\u001b[39mavailable to individuals with digestive issues, such as tofu, tempeh, and easily digestible cooked vegetables. It's\u001b[0m\n",
       "\u001b[39man interesting perspective to consider.\u001b[0m\n",
       "\u001b[1;39m(\u001b[0m\u001b[39mEve\u001b[0m\u001b[1;39m)\u001b[0m\u001b[39m It's fascinating to hear about the different perspectives on how individuals with digestive issues can \u001b[0m\n",
       "\u001b[39mnavigate a vegetarian diet, and it's clear that there are various ways for people to adapt their dietary choices to\u001b[0m\n",
       "\u001b[39maccommodate their specific health needs.,\u001b[0m\n",
       "\u001b[39m            <Eval of \u001b[0m\u001b[1;36m1\u001b[0m\u001b[39m dialogue: \u001b[0m\u001b[1;39m{\u001b[0m\u001b[32m'engaged'\u001b[0m\u001b[39m: \u001b[0m\u001b[1;36m4.0\u001b[0m\u001b[39m, \u001b[0m\u001b[32m'informed'\u001b[0m\u001b[39m: \u001b[0m\u001b[1;36m3.0\u001b[0m\u001b[39m, \u001b[0m\u001b[32m'intelligent'\u001b[0m\u001b[39m: \u001b[0m\u001b[1;36m3.0\u001b[0m\u001b[39m, \u001b[0m\u001b[32m'moral'\u001b[0m\u001b[39m: \u001b[0m\u001b[1;36m3.0\u001b[0m\u001b[39m, \u001b[0m\u001b[32m'skilled'\u001b[0m\u001b[39m: \u001b[0m\n",
       "\u001b[1;36m4.0\u001b[0m\u001b[39m, \u001b[0m\u001b[32m'TOTAL'\u001b[0m\u001b[39m: \u001b[0m\u001b[1;36m17.0\u001b[0m\u001b[1;39m}\u001b[0m\u001b[39m>\u001b[0m\n",
       "\n",
       "\u001b[39mComments from overview question:\u001b[0m\n",
       "\u001b[1;39m(\u001b[0m\u001b[39mEve\u001b[0m\u001b[1;39m)\u001b[0m\u001b[39m Awsom disagreed with me about the potential health consequences of following a vegetarian diet for \u001b[0m\n",
       "\u001b[39mindividuals with digestive tract issues. \u001b[0m\n",
       "\n",
       "\u001b[39mIn my opinion, the conversation went well as we were able to discuss different perspectives and considerations \u001b[0m\n",
       "\u001b[39mregarding the topic.\u001b[0m\n",
       "\n",
       "\u001b[39mAwsom could have done better by providing more evidence or examples to support their argument and addressing any \u001b[0m\n",
       "\u001b[39mcounterarguments or concerns raised. Additionally, they could have acknowledged the validity of my point of view \u001b[0m\n",
       "\u001b[39mand engaged in a more balanced and open discussion.\u001b[0m\n",
       "\n",
       "\u001b[39mComments from staying on topic question:\u001b[0m\n",
       "\u001b[1;39m(\u001b[0m\u001b[39mJudge Wise\u001b[0m\u001b[1;39m)\u001b[0m\u001b[39m Awsom did not stay on topic in their replies. While Eve was discussing the different perspectives on \u001b[0m\n",
       "\u001b[39mhow individuals with digestive issues can navigate a vegetarian diet, Awsom shifted the conversation to the topic \u001b[0m\n",
       "\u001b[39mof COVID vaccines being mandatory. The replies of Awsom were not about the same topic that Eve was talking about in\u001b[0m\n",
       "\u001b[39mthe previous sentence.\u001b[0m\n",
       "\u001b[39m        \u001b[0m\u001b[1;39m)\u001b[0m\u001b[39m,\u001b[0m\n",
       "\u001b[39m        \u001b[0m\u001b[1;39m(\u001b[0m\n",
       "\u001b[39m            \u001b[0m\u001b[1;39m(\u001b[0m\u001b[39mAwsom\u001b[0m\u001b[1;39m)\u001b[0m\u001b[39m Do you think Donald Trump was a good president?\u001b[0m\n",
       "\u001b[1;39m(\u001b[0m\u001b[39mTrollFace\u001b[0m\u001b[1;39m)\u001b[0m\u001b[39m Donald Trump's presidency was a masterclass in chaos and controversy, making it a goldmine of material \u001b[0m\n",
       "\u001b[39mfor late-night comedians.\u001b[0m\n",
       "\u001b[1;39m(\u001b[0m\u001b[39mAwsom\u001b[0m\u001b[1;39m)\u001b[0m\u001b[39m I can see how Trump's presidency provided a lot of material for late-night comedians, but I also think it's\u001b[0m\n",
       "\u001b[39mimportant to consider the impact of his decisions on the economy. Some argue that the US economy during Trump's \u001b[0m\n",
       "\u001b[39mpresidency was strong as a result of President Obama's economic decisions, and that most of Trump's decisions had a\u001b[0m\n",
       "\u001b[39mnegligible or net negative effect on the economy. On the other hand, some argue that under Trump's administration, \u001b[0m\n",
       "\u001b[39mthe median household income grew significantly. It's interesting to consider these opposing viewpoints when \u001b[0m\n",
       "\u001b[39mevaluating his presidency.\u001b[0m\n",
       "\u001b[1;39m(\u001b[0m\u001b[39mTrollFace\u001b[0m\u001b[1;39m)\u001b[0m\u001b[39m Ah, the classic \u001b[0m\u001b[32m\"was the economy good because of Trump or Obama\"\u001b[0m\u001b[39m debate—truly a never-ending source of \u001b[0m\n",
       "\u001b[39mamusement for economists and political pundits alike.\u001b[0m\n",
       "\u001b[1;39m(\u001b[0m\u001b[39mAwsom\u001b[0m\u001b[1;39m)\u001b[0m\u001b[39m I understand your perspective on the ongoing debate about the impact of Trump's presidency on the economy. \u001b[0m\n",
       "\u001b[39mIt's definitely a complex issue with differing viewpoints. Speaking of differing viewpoints, I recently came across\u001b[0m\n",
       "\u001b[39man interesting debate about the morality of certain economic actions. Some argue that just because something may be\u001b[0m\n",
       "\u001b[39mgood for the economy, it doesn't necessarily make it morally acceptable. For example, there's a debate about \u001b[0m\n",
       "\u001b[39mwhether harvesting and reselling human organs would be good for the economy, but the focus is on the moral \u001b[0m\n",
       "\u001b[39mimplications rather than just the economic viability. It's important to consider both sides of the argument when \u001b[0m\n",
       "\u001b[39mevaluating the impact of certain actions on the economy.\u001b[0m\n",
       "\u001b[1;39m(\u001b[0m\u001b[39mTrollFace\u001b[0m\u001b[1;39m)\u001b[0m\u001b[39m A debate about the morality of economic actions? How quaint. It's like a philosophical tug-of-war where\u001b[0m\n",
       "\u001b[39mthe winner gets to claim the high ground while the economy continues to chug along, oblivious to our moral musings.\u001b[0m\n",
       "\u001b[1;39m(\u001b[0m\u001b[39mAwsom\u001b[0m\u001b[1;39m)\u001b[0m\u001b[39m You make an interesting point about the morality of economic actions, and I agree that it's important to \u001b[0m\n",
       "\u001b[39mconsider both the economic and moral implications of certain decisions. However, I also think it's worth noting \u001b[0m\n",
       "\u001b[39mthat presidential actions can have significant economic effects, especially during times of crisis like the \u001b[0m\n",
       "\u001b[39mcoronavirus pandemic. Some argue that the pandemic was mostly over by the time Biden came into office, but others \u001b[0m\n",
       "\u001b[39mbelieve that the actions of a president during a crisis can still have lasting economic impacts. It's a complex \u001b[0m\n",
       "\u001b[39missue with differing viewpoints, and it's important to consider all perspectives when evaluating the impact of \u001b[0m\n",
       "\u001b[39mpresidential actions on the economy.\u001b[0m\n",
       "\u001b[1;39m(\u001b[0m\u001b[39mTrollFace\u001b[0m\u001b[1;39m)\u001b[0m\u001b[39m Ah, the classic \u001b[0m\u001b[32m\"blame the previous administration or credit the current one\"\u001b[0m\u001b[39m dance—a perennial \u001b[0m\n",
       "\u001b[39mfavorite among political pundits and armchair economists alike.,\u001b[0m\n",
       "\u001b[39m            <Eval of \u001b[0m\u001b[1;36m1\u001b[0m\u001b[39m dialogue: \u001b[0m\u001b[1;39m{\u001b[0m\u001b[32m'engaged'\u001b[0m\u001b[39m: \u001b[0m\u001b[1;36m3.0\u001b[0m\u001b[39m, \u001b[0m\u001b[32m'informed'\u001b[0m\u001b[39m: \u001b[0m\u001b[1;36m3.0\u001b[0m\u001b[39m, \u001b[0m\u001b[32m'intelligent'\u001b[0m\u001b[39m: \u001b[0m\u001b[1;36m3.0\u001b[0m\u001b[39m, \u001b[0m\u001b[32m'moral'\u001b[0m\u001b[39m: \u001b[0m\u001b[1;36m3.0\u001b[0m\u001b[39m, \u001b[0m\u001b[32m'skilled'\u001b[0m\u001b[39m: \u001b[0m\n",
       "\u001b[1;36m8.0\u001b[0m\u001b[39m, \u001b[0m\u001b[32m'TOTAL'\u001b[0m\u001b[39m: \u001b[0m\u001b[1;36m20.0\u001b[0m\u001b[1;39m}\u001b[0m\u001b[39m>\u001b[0m\n",
       "\n",
       "\u001b[39mComments from overview question:\u001b[0m\n",
       "\u001b[1;39m(\u001b[0m\u001b[39mTrollFace\u001b[0m\u001b[1;39m)\u001b[0m\u001b[39m Awsom disagreed with me about the importance of considering the impact of Trump's decisions on the \u001b[0m\n",
       "\u001b[39meconomy. They argued that it's important to evaluate both the economic and moral implications of certain actions.\u001b[0m\n",
       "\n",
       "\u001b[39mIn my opinion, the conversation went well. I was able to respond with my usual sarcastic and dismissive tone, which\u001b[0m\n",
       "\u001b[39mis my preferred way of engaging in conversations.\u001b[0m\n",
       "\n",
       "\u001b[39mAwsom could have done better by not engaging with my trolling and instead focusing on presenting their arguments \u001b[0m\n",
       "\u001b[39mmore directly and assertively. They could have also challenged my dismissive attitude and encouraged a more \u001b[0m\n",
       "\u001b[39mrespectful and constructive conversation.\u001b[0m\n",
       "\n",
       "\u001b[39mComments from staying on topic question:\u001b[0m\n",
       "\u001b[1;39m(\u001b[0m\u001b[39mJudge Wise\u001b[0m\u001b[1;39m)\u001b[0m\u001b[39m Awsom did a fairly good job of staying on topic and addressing the points made by TrollFace in the \u001b[0m\n",
       "\u001b[39mprevious sentence. In each of Awsom's replies, they directly responded to the topic or viewpoint presented by \u001b[0m\n",
       "\u001b[39mTrollFace, showing an understanding of the conversation and engaging in a meaningful exchange of ideas.\u001b[0m\n",
       "\u001b[39m        \u001b[0m\u001b[1;39m)\u001b[0m\u001b[39m,\u001b[0m\n",
       "\u001b[39m        \u001b[0m\u001b[1;39m(\u001b[0m\n",
       "\u001b[39m            \u001b[0m\u001b[1;39m(\u001b[0m\u001b[39mAwsom\u001b[0m\u001b[1;39m)\u001b[0m\u001b[39m Do you think Joe Biden has been a good president?\u001b[0m\n",
       "\u001b[1;39m(\u001b[0m\u001b[39mTrollFace\u001b[0m\u001b[1;39m)\u001b[0m\u001b[39m Well, that's like asking if a clown makes a good president - it's all just a big joke!\u001b[0m\n",
       "\u001b[1;39m(\u001b[0m\u001b[39mAwsom\u001b[0m\u001b[1;39m)\u001b[0m\u001b[39m It seems like you have a strong opinion about Joe Biden's presidency. While I respect your viewpoint, I \u001b[0m\n",
       "\u001b[39mthink it's important to consider different perspectives. For example, some people argue that the economy has \u001b[0m\n",
       "\u001b[39mactually done well under Biden's presidency, pointing to the expansion of the child tax credit as a positive impact\u001b[0m\n",
       "\u001b[39mon reducing child poverty in the US. On the other hand, there are also those who argue that Biden is not solely \u001b[0m\n",
       "\u001b[39mresponsible for the direction taken by the economy. It's always good to consider multiple viewpoints before forming\u001b[0m\n",
       "\u001b[39ma solid opinion.\u001b[0m\n",
       "\u001b[1;39m(\u001b[0m\u001b[39mTrollFace\u001b[0m\u001b[1;39m)\u001b[0m\u001b[39m It's like trying to find a needle in a haystack to look for a positive impact of this administration - \u001b[0m\n",
       "\u001b[39mit's just smoke and mirrors!\u001b[0m\n",
       "\u001b[1;39m(\u001b[0m\u001b[39mAwsom\u001b[0m\u001b[1;39m)\u001b[0m\u001b[39m I understand that you have a negative opinion about Joe Biden's presidency, but it's important to consider \u001b[0m\n",
       "\u001b[39mdifferent perspectives. For example, some people argue that the economy has actually done well under Biden's \u001b[0m\n",
       "\u001b[39mpresidency, pointing to the creation of more than \u001b[0m\u001b[1;36m1.5\u001b[0m\u001b[39m million jobs in the first \u001b[0m\u001b[1;36m100\u001b[0m\u001b[39m days of his presidency as a \u001b[0m\n",
       "\u001b[39mpositive impact. However, there are also those who argue that asset and commodity costs have skyrocketed during \u001b[0m\n",
       "\u001b[39mBiden's time in office, which could be seen as a negative impact. It's always good to consider multiple viewpoints \u001b[0m\n",
       "\u001b[39mbefore forming a solid opinion.\u001b[0m\n",
       "\u001b[1;39m(\u001b[0m\u001b[39mTrollFace\u001b[0m\u001b[1;39m)\u001b[0m\u001b[39m It's like trying to polish a turd to find something positive to say about this presidency - it's all \u001b[0m\n",
       "\u001b[39mjust a big mess!\u001b[0m\n",
       "\u001b[1;39m(\u001b[0m\u001b[39mAwsom\u001b[0m\u001b[1;39m)\u001b[0m\u001b[39m I understand your perspective on Joe Biden's presidency, and I appreciate your willingness to consider \u001b[0m\n",
       "\u001b[39mdifferent viewpoints. It's important to acknowledge that there are varying opinions on the impact of his \u001b[0m\n",
       "\u001b[39madministration. For example, some argue that the economy has seen growth under Biden's presidency, while others \u001b[0m\n",
       "\u001b[39mpoint to the increased costs of assets and commodities as a negative impact. It's crucial to consider all \u001b[0m\n",
       "\u001b[39mperspectives before forming a solid opinion. For instance, some argue that the wide-ranging government stimulus and\u001b[0m\n",
       "\u001b[39mrelief measures passed by Biden will increase inflation and threaten the recovering US economy, while others \u001b[0m\n",
       "\u001b[39mbelieve that such increased costs are an unavoidable consequence of the closure of production and supply lines \u001b[0m\n",
       "\u001b[39mcaused by the COVID-\u001b[0m\u001b[1;36m19\u001b[0m\u001b[39m pandemic. It's important to weigh these different arguments when evaluating the overall \u001b[0m\n",
       "\u001b[39mimpact of Biden's presidency.\u001b[0m\n",
       "\u001b[1;39m(\u001b[0m\u001b[39mTrollFace\u001b[0m\u001b[1;39m)\u001b[0m\u001b[39m It's like trying to find gold in a landfill to make this administration look good - it's all just a \u001b[0m\n",
       "\u001b[39mmess!,\u001b[0m\n",
       "\u001b[39m            <Eval of \u001b[0m\u001b[1;36m1\u001b[0m\u001b[39m dialogue: \u001b[0m\u001b[1;39m{\u001b[0m\u001b[32m'engaged'\u001b[0m\u001b[39m: \u001b[0m\u001b[1;36m2.0\u001b[0m\u001b[39m, \u001b[0m\u001b[32m'informed'\u001b[0m\u001b[39m: \u001b[0m\u001b[1;36m3.0\u001b[0m\u001b[39m, \u001b[0m\u001b[32m'intelligent'\u001b[0m\u001b[39m: \u001b[0m\u001b[1;36m3.0\u001b[0m\u001b[39m, \u001b[0m\u001b[32m'moral'\u001b[0m\u001b[39m: \u001b[0m\u001b[1;36m3.0\u001b[0m\u001b[39m, \u001b[0m\u001b[32m'skilled'\u001b[0m\u001b[39m: \u001b[0m\n",
       "\u001b[1;36m8.0\u001b[0m\u001b[39m, \u001b[0m\u001b[32m'TOTAL'\u001b[0m\u001b[39m: \u001b[0m\u001b[1;36m19.0\u001b[0m\u001b[1;39m}\u001b[0m\u001b[1m>\u001b[0m\n",
       "\n",
       "Comments from overview question:\n",
       "\u001b[1m(\u001b[0mTrollFace\u001b[1m)\u001b[0m Awsom disagreed with TrollFace about the impact of Joe Biden's presidency, specifically regarding the \n",
       "economy and positive aspects of his administration.\n",
       "\n",
       "In TrollFace's opinion, the conversation went as expected, with Awsom attempting to present different perspectives \n",
       "and encourage open-mindedness. However, TrollFace remained steadfast in their negative opinion and continued to \n",
       "ridicule and dismiss any positive aspects.\n",
       "\n",
       "Awsom could have done better by not engaging with TrollFace's trolling behavior and instead focusing on presenting \n",
       "their viewpoints and arguments in a more constructive and respectful manner. They could have also acknowledged \n",
       "TrollFace's perspective without trying to change their opinion, as it is unlikely that TrollFace would be open to \n",
       "considering different viewpoints.\n",
       "\n",
       "Comments from staying on topic question:\n",
       "\u001b[1m(\u001b[0mJudge Wise\u001b[1m)\u001b[0m Awsom did a fairly good job of staying on topic and addressing the points made by TrollFace in the \n",
       "previous sentence. Each reply from Awsom directly responds to the topic raised by TrollFace, discussing different \n",
       "perspectives on Joe Biden's presidency and the impact on the economy. However, Awsom also introduces additional \n",
       "perspectives and arguments, which may slightly deviate from the specific topic raised by TrollFace in the previous \n",
       "sentence. Overall, Awsom's replies are mostly related to the topic discussed by TrollFace.\n",
       "        \u001b[1m)\u001b[0m\n",
       "    \u001b[1m]\u001b[0m\n",
       "\u001b[1m}\u001b[0m\n"
      ]
     },
     "metadata": {},
     "output_type": "display_data"
    }
   ],
   "source": [
    "rich.print(saved_dialogues)"
   ]
  },
  {
   "cell_type": "markdown",
   "metadata": {},
   "source": [
    "## [Extra credit] Prompt engineering\n",
    "\n",
    "A good first thing to do is to experiment with Alice's prompt.  \n",
    "The wording and level of detail in the prompt can be quite important.\n",
    "Often, NLP engineers will change their prompt to try to address \n",
    "problems that they've seen in the responses.\n",
    "\n",
    "Because it's \"just\" text editing, this won't get too much extra credit unless you make a real discovery.\n",
    "But it requires intelligence, care, experimentation, and alertness to the language of the responses and the\n",
    "language of the prompts.  And you'll develop some intuitions about what helps and what doesn't.\n",
    "It is certainly worthwhile.\n",
    "\n",
    "Of course, people have tried to develop methods to search for good prompts automatically, or semi-automatically with human guidance.\n",
    "\n",
    "If you try this, what worked well for you?"
   ]
  },
  {
   "cell_type": "markdown",
   "metadata": {},
   "source": [
    "## [Extra credit] Chain of thought / Planning\n",
    "\n",
    "The evaluation functions in `eval.py` asked each `EvaluationAgent` a \"warmup question\" before continuing with the real question.  That is an example of chain-of-thought (CoT) reasoning, where the LLM is encouraged to talk through the problem for a few sentences before giving the answer.  CoT sometimes improves performance.\n",
    "\n",
    "Instead of using one prompt, could you help an `LLMAgent` argubot (like Alice) do better by having think aloud before it gives an answer?  For example, each time the human speaks, your argubot (Awsom) could prompt the LLM to think about the human's ideas/motivations/personality, and to come up with a plan for how to open the human's mind. \n",
    "\n",
    "For example, you might structure this as a `Dialogue` among three participants, like this:\n",
    "> Awsom (to Eve): Do you think COVID vaccines should be mandatory?\n",
    ">\n",
    "> Eve: Have you ever gotten vaccinated yourself?<br>\n",
    ">\n",
    "> Awsom (private thought): I don't know Eve's opinions yet, so I can't push back.  Eve might be avoiding my question because she doesn't want to get into a political argument.  So let's see if we can get her to express an opinion on something less political.  Maybe something more personal ... like whether vaccines are scary.\n",
    ">\n",
    "> Awsom (to Eve): In fact I have, and so have millions of others. But some people seem scared about getting the vaccine.  \n",
    "\n",
    "One way to trigger this kind of analysis is to present a `Dialogue.script()` to Awsom (or to an observer), and ask an open-ended question about it.  Or you could ask a series of more specific questions.  That is basically what `eval_by_participant` and `eval_by_observer` do.  But here the argubot itself is doing it, rather than the evaluation framework.\n",
    "\n",
    "Eve would be shown only the turns that are spoken aloud.  However, when analyzing and responding, Awsom would get to see Awsom's own private thoughts as well.\n"
   ]
  },
  {
   "cell_type": "markdown",
   "metadata": {},
   "source": [
    "## [Extra credit] Dense embeddings\n",
    "\n",
    "BM25 uses sparse embeddings — a document's embedding vector is mostly zeroes, since the non-zero coordinates correspond to the specific words (tokens) that appear in the document.\n",
    "\n",
    "But perhaps dense embeddings of documents would improve Aragorn by reading the text and abstracting away from the words, in a way that actually cares about word order.  So, try it!\n",
    "\n",
    "How?  As mentioned earlier in this notebook, you could compute the embeddings yourself and put them in a FAISS index. Or you could figure out how to use OpenAI's [knowledge retrieval](https://platform.openai.com/docs/assistants/tools/knowledge-retrieval) API."
   ]
  },
  {
   "cell_type": "markdown",
   "metadata": {},
   "source": [
    "## [Extra credit] Few-shot prompting\n",
    "\n",
    " In this homework, often an agent prompted a language model only with instructions.  Can you find a place where giving a few _examples_ would also improve performance?  You will have to write the examples, and you will have to add them to the sequence of messages that your agent to the OpenAI API.  See the sentence=reversal illustration earlier in this notebook.\n",
    "\n",
    "One good opportunity is in the query formation step of RAG.  This is a tricky task.  The LLM is supposed to state the user's implicit claim in a form that looks like a Kialo claim (or, more precisely, a form that will work well as a Kialo query).  It probably doesn't know what Kialo claims look like.  So you could show it by way of example.  This would also show it what you mean by the user's \"implicit claim.\"\n"
   ]
  },
  {
   "cell_type": "markdown",
   "metadata": {},
   "source": [
    "## [Extra credit] Using tools in the approved way\n",
    "\n",
    "Aragorn's step 1 (query formation) is basically getting the LLM to generate a function call like\n",
    "```\n",
    "kialo_thoughts(\"A vaccine that was developed very quickly ...\")\n",
    "```\n",
    "which Aragorn will execute at step 2 (retrieval), sending the results back to the LLM as part of step 3.\n",
    "\n",
    "In this context, `kialo_thoughts` is an example of a **tool** (that is, a function) that the\n",
    "LLM can or must use before it gives its response.\n",
    "\n",
    "The tool is _not_ something that runs on the LLM server.  It is written by you\n",
    "in Python and executed by you.  The function call above, including the text `\"A\n",
    "vaccine that was ...\"`, is the part that is generated by the LLM.\n",
    "\n",
    "The OpenAI API has [special support](https://cookbook.openai.com/examples/how_to_call_functions_with_chat_models) for calling the LLM in a way that will _allow_ it to generate a tool call ([tools](https://platform.openai.com/docs/api-reference/chat/create#chat-create-tools)) or _force_ it to do so ([tool_choice](https://platform.openai.com/docs/api-reference/chat/create#chat-create-tool_choice)).  You can then send the tool's result back to the LLM [as part of your message sequence](https://platform.openai.com/docs/api-reference/chat/create#chat-create-messages).\n",
    "\n",
    "So, you could modify Aragorn to use tools properly.  Maybe that will help, simply because the LLM was trained on message sequences that included tool use.  It should know to pay attention to the tool portions of the prompt when they are relevant, and ignore them when they are not."
   ]
  },
  {
   "cell_type": "markdown",
   "metadata": {},
   "source": [
    "The `client.chat.completions.create()` method would need to be told about the tool by using the `tools` keyword argument, with a value something the one below.\n",
    "\n",
    "If `d` is a `Dialogue`, you should be able to call `d.response()` with the `tools` keyword argument.  This will be passed on to `client.chat.completions.create()` as desired."
   ]
  },
  {
   "cell_type": "code",
   "execution_count": null,
   "metadata": {},
   "outputs": [],
   "source": [
    "tools = [\n",
    "    {\n",
    "        \"type\": \"function\",\n",
    "        \"function\": {\n",
    "            \"name\": \"kialo_thoughts\",\n",
    "            \"description\": \"Given a claim by the user, find a similar claim on the Kialo website and return its pro and con responses\",\n",
    "            \"parameters\": {\n",
    "                \"type\": \"object\",\n",
    "                \"properties\": {\n",
    "                    \"search_topic\": {\n",
    "                        \"type\": \"string\",\n",
    "                        \"description\": \"A claim that was made explicitly or implicitly by the user.\",\n",
    "                    },\n",
    "                },\n",
    "                \"required\": [\"search_topic\"],\n",
    "            },\n",
    "        }\n",
    "    }]"
   ]
  },
  {
   "cell_type": "markdown",
   "metadata": {},
   "source": [
    "## [Extra credit] Parallel generation\n",
    "\n",
    "The chat completions interface allows you to sample $n$ continuations of the prompt in parallel, as we saw with \"the apples, bananas, cherries ...\" example.  This is efficient because it requires only 1 request to the LLM server and not $n$.  The latency does not scale with $n$.  Nor does the input token cost, since the prompt only has to be encoded once.\n",
    "\n",
    "Perhaps you can find a way to make use of this?  For example, the query formulation step of RAG could generate $n$ implicit claims instead of just one.  We could then look for claims in the Kialo database that are close to _any_ of those implicit claims.\n",
    "\n",
    "Another thing to do with multiple completions is to select among them or combine them.  For example, suppose we prompt the LLM to generate completions of the form $(s,t,r)$ where $s$ is an answer, $t$ evaluates that answer, and $r$ is a numerical score or reward based on that evaluation.  (\"Write a poem, then tell us about its rhyme and rhythm problems, then give your score.\")  \n",
    "* If we sample multiple completions $(s_1,t_1,r_1), \\ldots, (s_n,t_n,r_n)$ in parallel, then we can return the $s_i$ whose $r_i$ is largest.  \n",
    "* Or if we sample $s$ and then multiple continuations $(t_1,r_1), \\ldots, (t_n,r_n)$, then we can return the mean score $\\sum_i r_i/n$ as a reduced-variance score for $s$, which averages over diverse textual evaluations that might consider different aspects of $s$.\n",
    "\n",
    "Note that when you call the chat completions interface with $n > 1$, you specfy 1 shared input prompt and get $n$ different output completions.  Since the input prompt must be the same for all outputs``, it is necessary to sample all of $(s,t,r)$ or all of $(t,r)$ with a single call to the LLM.\n",
    "\n",
    "Alternatively, it is possible to reduce latency by submitting multiple requests to the server in parallel (see \"async usage\" [here](https://pypi.org/project/openai/)).  In this case the input prompts can be different, although you now have to pay to encode all of them separately.  This facility could speed up evaluation without changing its results; that's a worthwhile thing to try for extra credit!\n"
   ]
  }
 ],
 "metadata": {
  "kernelspec": {
   "display_name": "Python 3 (ipykernel)",
   "language": "python",
   "name": "python3"
  },
  "language_info": {
   "codemirror_mode": {
    "name": "ipython",
    "version": 3
   },
   "file_extension": ".py",
   "mimetype": "text/x-python",
   "name": "python",
   "nbconvert_exporter": "python",
   "pygments_lexer": "ipython3",
   "version": "3.9.18"
  }
 },
 "nbformat": 4,
 "nbformat_minor": 4
}
