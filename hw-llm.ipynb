{
 "cells": [
  {
   "cell_type": "markdown",
   "metadata": {},
   "source": [
    "# Homework 7: Large Language Models\n",
    "\n",
    "An PDF overview of the homework is [here](https://www.cs.jhu.edu/~jason/465/hw-llm/).\n",
    "\n",
    "It mentions: \"We'll send hand-in instructions soon.  Probably we will ask you to submit a version\n",
    "of the main notebook, with your answers added and extraneous materials deleted. We may also\n",
    "ask for a summary.\"\n",
    "\n",
    "![image](handin.png)\n",
    "This symbol marks a question or exercise that you will be expected to hand in."
   ]
  },
  {
   "cell_type": "markdown",
   "metadata": {},
   "source": [
    "\n",
    "# Getting started\n",
    "\n",
    "## Update `conda` environment\n",
    "\n",
    "Download the updated [nlp-class.yml](http://cs.jhu.edu/~jason/465/hw-llm/nlp-class.yml) file, and execute\n",
    "```\n",
    "conda env update --file nlp-class.yml --prune\n",
    "```\n",
    "to make sure that all the packages you need are installed."
   ]
  },
  {
   "cell_type": "markdown",
   "metadata": {},
   "source": [
    "## Fetch code and data files for this homework\n",
    "\n",
    "These files may get improved after the homework is released, so you should probably re-download them periodically.\n",
    "\n",
    "Here is a command you can type.  We won't put it in a code cell, because we don't want you to execute it accidentally in the current directory and overwrite your own changes.  (Actually, it will not overwrite your versions of the files — they will be renamed with names like `argubots.py.1`.)\n",
    "\n",
    "```\n",
    "!wget --quiet -r -np -nH --cut-dirs=3 -A '*.txt' -A '*.py' -A 'demo.ipynb' -A '*.png' https://www.cs.jhu.edu/~jason/465/hw-llm/\n",
    "!rm -f data/*.1 *.png.1 robots.txt   # remove any backup versions of the static files\n",
    "```"
   ]
  },
  {
   "cell_type": "code",
   "execution_count": 29,
   "metadata": {},
   "outputs": [
    {
     "name": "stdout",
     "output_type": "stream",
     "text": [
      "-rw-r--r--@ 1 mpark  staff  19652 Dec 12 12:54 agents.py\n",
      "-rw-r--r--@ 1 mpark  staff  37154 Dec 12 15:16 argubots.py\n",
      "-rw-r--r--@ 1 mpark  staff   2832 Dec 12 12:54 characters.py\n",
      "-rw-r--r--@ 1 mpark  staff   2641 Dec 12 12:54 dialogue.py\n",
      "-rw-r--r--@ 1 mpark  staff  16176 Dec 12 15:16 eval.py\n",
      "-rw-r--r--@ 1 mpark  staff  14012 Dec 12 12:54 eval2.py\n",
      "-rw-r--r--@ 1 mpark  staff  14910 Dec 12 12:54 kialo.py\n",
      "-rw-r--r--@ 1 mpark  staff   1347 Dec 12 12:54 logging_cm.py\n",
      "-rw-r--r--@ 1 mpark  staff   1529 Dec 12 12:54 simulate.py\n",
      "-rw-r--r--@ 1 mpark  staff   4274 Dec 12 12:54 tracking.py\n",
      "\n",
      "data:\n",
      "total 4512\n",
      "-rw-r--r--@ 1 mpark  staff     407 Dec 12 12:54 LICENSE\n",
      "-rw-r--r--@ 1 mpark  staff  613106 Dec 12 12:54 all-humans-should-be-vegan-2762.txt\n",
      "-rw-r--r--@ 1 mpark  staff   81917 Dec 12 12:54 have-authoritarian-governments-handled-covid-19-better-than-others-54145.txt\n",
      "-rw-r--r--@ 1 mpark  staff   52771 Dec 12 12:54 is-biden-an-incompetent-president-44217.txt\n",
      "-rw-r--r--@ 1 mpark  staff  153551 Dec 12 12:54 is-joe-biden-a-good-president-53071.txt\n",
      "-rw-r--r--@ 1 mpark  staff   60556 Dec 12 12:54 is-joe-biden-better-than-donald-trump-39949.txt\n",
      "-rw-r--r--@ 1 mpark  staff  113781 Dec 12 12:54 should-covid-19-vaccines-be-mandatory-39517.txt\n",
      "-rw-r--r--@ 1 mpark  staff   19702 Dec 12 12:54 should-enforcing-a-vegan-diet-on-children-be-condemned-as-child-abuse-33850.txt\n",
      "-rw-r--r--@ 1 mpark  staff    6615 Dec 12 12:54 should-people-go-vegan-if-they-can-31640.txt\n",
      "-rw-r--r--@ 1 mpark  staff   18637 Dec 12 12:54 should-schools-close-during-the-covid-19-pandemic-44845.txt\n",
      "-rw-r--r--@ 1 mpark  staff  704648 Dec 12 12:54 the-ethics-of-eating-animals-is-eating-meat-wrong-1229.txt\n",
      "-rw-r--r--@ 1 mpark  staff  376707 Dec 12 12:54 was-donald-trump-a-good-president-6079.txt\n",
      "-rw-r--r--@ 1 mpark  staff   87301 Dec 12 12:54 was-trump-a-good-president-3295.txt\n"
     ]
    }
   ],
   "source": [
    "!ls -lR *.py data"
   ]
  },
  {
   "cell_type": "markdown",
   "metadata": {},
   "source": [
    "\n",
    "The `autoimport` feature of Jupyter ensures that if an imported module (.py file) changes, the notebook will automatically import the new version.  \n",
    "(However, objects that were defined with the old version of the class won't change.)"
   ]
  },
  {
   "cell_type": "code",
   "execution_count": 30,
   "metadata": {},
   "outputs": [
    {
     "name": "stdout",
     "output_type": "stream",
     "text": [
      "The autoreload extension is already loaded. To reload it, use:\n",
      "  %reload_ext autoreload\n"
     ]
    }
   ],
   "source": [
    "# Executing this cell does some magic that makes \n",
    "%load_ext autoreload\n",
    "%autoreload 2"
   ]
  },
  {
   "cell_type": "markdown",
   "metadata": {},
   "source": [
    "## Create an OpenAI client"
   ]
  },
  {
   "cell_type": "markdown",
   "metadata": {},
   "source": [
    "An OpenAI API key will be sent to you.\n",
    "Make an `.env` file in the same directory as this notebook, containing the following:\n",
    "```\n",
    "export OPENAI_API_KEY=[your API key]    # do not include the brackets here\n",
    "```\n",
    "Make sure others can't read this file:\n",
    "```\n",
    "chmod 600 .env\n",
    "```\n",
    "\n",
    "**Be sure to keep the key secret.  It gives access to a billable account.** If OpenAI finds it on the public web, they will invalidate it, and then no one (including you) can use this key to make requests anymore.\n",
    "\n",
    "Now you can execute the following to get an OpenAI client object."
   ]
  },
  {
   "cell_type": "code",
   "execution_count": 31,
   "metadata": {},
   "outputs": [],
   "source": [
    "import dotenv\n",
    "import openai\n",
    "from tracking import track_usage, read_usage\n",
    "\n",
    "dotenv.load_dotenv(override=True)      # define environment variables from .env\n",
    "client = track_usage(openai.OpenAI())  # create a client, modified to record its usage to a local file \n",
    "\n",
    "# Or use our tracking module to do the above for you, like this:\n",
    "\n",
    "# from tracking import default_client\n",
    "# client = default_client\n",
    "\n"
   ]
  },
  {
   "cell_type": "markdown",
   "metadata": {},
   "source": [
    "The job of the client is to talk to the OpenAI server over HTTP.\n",
    "The `OpenAI` constructor has some optional arguments that configure these HTTP messages.\n",
    "However, the defaults should work fine for you.  "
   ]
  },
  {
   "cell_type": "markdown",
   "metadata": {},
   "source": [
    "## Try the model!\n",
    "\n",
    "You can now get answers from OpenAI models by calling methods of the `client` instance.  \n",
    "You will have to specify which OpenAI model to use.\n",
    "Documentation of the methods is [here](https://pypi.org/project/openai/) if you are curious."
   ]
  },
  {
   "cell_type": "markdown",
   "metadata": {},
   "source": [
    "### Continue a textual prompt\n",
    "\n",
    "This is what language models excel at.  In principle you should do it by calling [`client.completions.create`](https://platform.openai.com/docs/api-reference/completions/create?lang=python).  But OpenAI's newer models don't support that legacy API, and the older ones are being [retired in January 2024](https://openai.com/blog/gpt-4-api-general-availability).  So we'll use the more modern API, [`client.chat.completions.create`](https://platform.openai.com/docs/api-reference/chat/create?lang=python)."
   ]
  },
  {
   "cell_type": "code",
   "execution_count": 32,
   "metadata": {},
   "outputs": [
    {
     "data": {
      "text/html": [
       "<pre style=\"white-space:pre;overflow-x:auto;line-height:normal;font-family:Menlo,'DejaVu Sans Mono',consolas,'Courier New',monospace\"><span style=\"color: #800080; text-decoration-color: #800080; font-weight: bold\">ChatCompletion</span><span style=\"font-weight: bold\">(</span>\n",
       "    <span style=\"color: #808000; text-decoration-color: #808000\">id</span>=<span style=\"color: #008000; text-decoration-color: #008000\">'chatcmpl-8V6nSdL0JEiLn0tP8RH4YCyrdnZYe'</span>,\n",
       "    <span style=\"color: #808000; text-decoration-color: #808000\">choices</span>=<span style=\"font-weight: bold\">[</span>\n",
       "        <span style=\"color: #800080; text-decoration-color: #800080; font-weight: bold\">Choice</span><span style=\"font-weight: bold\">(</span>\n",
       "            <span style=\"color: #808000; text-decoration-color: #808000\">finish_reason</span>=<span style=\"color: #008000; text-decoration-color: #008000\">'stop'</span>,\n",
       "            <span style=\"color: #808000; text-decoration-color: #808000\">index</span>=<span style=\"color: #008080; text-decoration-color: #008080; font-weight: bold\">0</span>,\n",
       "            <span style=\"color: #808000; text-decoration-color: #808000\">message</span>=<span style=\"color: #800080; text-decoration-color: #800080; font-weight: bold\">ChatCompletionMessage</span><span style=\"font-weight: bold\">(</span>\n",
       "                <span style=\"color: #808000; text-decoration-color: #808000\">content</span>=<span style=\"color: #008000; text-decoration-color: #008000\">'Mercury, Venus, Earth, Mars, Jupiter, Saturn, Uranus, Neptune'</span>,\n",
       "                <span style=\"color: #808000; text-decoration-color: #808000\">role</span>=<span style=\"color: #008000; text-decoration-color: #008000\">'assistant'</span>,\n",
       "                <span style=\"color: #808000; text-decoration-color: #808000\">function_call</span>=<span style=\"color: #800080; text-decoration-color: #800080; font-style: italic\">None</span>,\n",
       "                <span style=\"color: #808000; text-decoration-color: #808000\">tool_calls</span>=<span style=\"color: #800080; text-decoration-color: #800080; font-style: italic\">None</span>\n",
       "            <span style=\"font-weight: bold\">)</span>\n",
       "        <span style=\"font-weight: bold\">)</span>\n",
       "    <span style=\"font-weight: bold\">]</span>,\n",
       "    <span style=\"color: #808000; text-decoration-color: #808000\">created</span>=<span style=\"color: #008080; text-decoration-color: #008080; font-weight: bold\">1702424986</span>,\n",
       "    <span style=\"color: #808000; text-decoration-color: #808000\">model</span>=<span style=\"color: #008000; text-decoration-color: #008000\">'gpt-3.5-turbo-1106'</span>,\n",
       "    <span style=\"color: #808000; text-decoration-color: #808000\">object</span>=<span style=\"color: #008000; text-decoration-color: #008000\">'chat.completion'</span>,\n",
       "    <span style=\"color: #808000; text-decoration-color: #808000\">system_fingerprint</span>=<span style=\"color: #008000; text-decoration-color: #008000\">'fp_eeff13170a'</span>,\n",
       "    <span style=\"color: #808000; text-decoration-color: #808000\">usage</span>=<span style=\"color: #800080; text-decoration-color: #800080; font-weight: bold\">CompletionUsage</span><span style=\"font-weight: bold\">(</span><span style=\"color: #808000; text-decoration-color: #808000\">completion_tokens</span>=<span style=\"color: #008080; text-decoration-color: #008080; font-weight: bold\">17</span>, <span style=\"color: #808000; text-decoration-color: #808000\">prompt_tokens</span>=<span style=\"color: #008080; text-decoration-color: #008080; font-weight: bold\">20</span>, <span style=\"color: #808000; text-decoration-color: #808000\">total_tokens</span>=<span style=\"color: #008080; text-decoration-color: #008080; font-weight: bold\">37</span><span style=\"font-weight: bold\">)</span>\n",
       "<span style=\"font-weight: bold\">)</span>\n",
       "</pre>\n"
      ],
      "text/plain": [
       "\u001b[1;35mChatCompletion\u001b[0m\u001b[1m(\u001b[0m\n",
       "    \u001b[33mid\u001b[0m=\u001b[32m'chatcmpl-8V6nSdL0JEiLn0tP8RH4YCyrdnZYe'\u001b[0m,\n",
       "    \u001b[33mchoices\u001b[0m=\u001b[1m[\u001b[0m\n",
       "        \u001b[1;35mChoice\u001b[0m\u001b[1m(\u001b[0m\n",
       "            \u001b[33mfinish_reason\u001b[0m=\u001b[32m'stop'\u001b[0m,\n",
       "            \u001b[33mindex\u001b[0m=\u001b[1;36m0\u001b[0m,\n",
       "            \u001b[33mmessage\u001b[0m=\u001b[1;35mChatCompletionMessage\u001b[0m\u001b[1m(\u001b[0m\n",
       "                \u001b[33mcontent\u001b[0m=\u001b[32m'Mercury, Venus, Earth, Mars, Jupiter, Saturn, Uranus, Neptune'\u001b[0m,\n",
       "                \u001b[33mrole\u001b[0m=\u001b[32m'assistant'\u001b[0m,\n",
       "                \u001b[33mfunction_call\u001b[0m=\u001b[3;35mNone\u001b[0m,\n",
       "                \u001b[33mtool_calls\u001b[0m=\u001b[3;35mNone\u001b[0m\n",
       "            \u001b[1m)\u001b[0m\n",
       "        \u001b[1m)\u001b[0m\n",
       "    \u001b[1m]\u001b[0m,\n",
       "    \u001b[33mcreated\u001b[0m=\u001b[1;36m1702424986\u001b[0m,\n",
       "    \u001b[33mmodel\u001b[0m=\u001b[32m'gpt-3.5-turbo-1106'\u001b[0m,\n",
       "    \u001b[33mobject\u001b[0m=\u001b[32m'chat.completion'\u001b[0m,\n",
       "    \u001b[33msystem_fingerprint\u001b[0m=\u001b[32m'fp_eeff13170a'\u001b[0m,\n",
       "    \u001b[33musage\u001b[0m=\u001b[1;35mCompletionUsage\u001b[0m\u001b[1m(\u001b[0m\u001b[33mcompletion_tokens\u001b[0m=\u001b[1;36m17\u001b[0m, \u001b[33mprompt_tokens\u001b[0m=\u001b[1;36m20\u001b[0m, \u001b[33mtotal_tokens\u001b[0m=\u001b[1;36m37\u001b[0m\u001b[1m)\u001b[0m\n",
       "\u001b[1m)\u001b[0m\n"
      ]
     },
     "metadata": {},
     "output_type": "display_data"
    },
    {
     "data": {
      "text/html": [
       "<pre style=\"white-space:pre;overflow-x:auto;line-height:normal;font-family:Menlo,'DejaVu Sans Mono',consolas,'Courier New',monospace\"><span style=\"font-weight: bold\">[</span>\n",
       "    <span style=\"color: #800080; text-decoration-color: #800080; font-weight: bold\">Choice</span><span style=\"font-weight: bold\">(</span>\n",
       "        <span style=\"color: #808000; text-decoration-color: #808000\">finish_reason</span>=<span style=\"color: #008000; text-decoration-color: #008000\">'stop'</span>,\n",
       "        <span style=\"color: #808000; text-decoration-color: #808000\">index</span>=<span style=\"color: #008080; text-decoration-color: #008080; font-weight: bold\">0</span>,\n",
       "        <span style=\"color: #808000; text-decoration-color: #808000\">message</span>=<span style=\"color: #800080; text-decoration-color: #800080; font-weight: bold\">ChatCompletionMessage</span><span style=\"font-weight: bold\">(</span>\n",
       "            <span style=\"color: #808000; text-decoration-color: #808000\">content</span>=<span style=\"color: #008000; text-decoration-color: #008000\">'Mercury, Venus, Earth, Mars, Jupiter, Saturn, Uranus, Neptune'</span>,\n",
       "            <span style=\"color: #808000; text-decoration-color: #808000\">role</span>=<span style=\"color: #008000; text-decoration-color: #008000\">'assistant'</span>,\n",
       "            <span style=\"color: #808000; text-decoration-color: #808000\">function_call</span>=<span style=\"color: #800080; text-decoration-color: #800080; font-style: italic\">None</span>,\n",
       "            <span style=\"color: #808000; text-decoration-color: #808000\">tool_calls</span>=<span style=\"color: #800080; text-decoration-color: #800080; font-style: italic\">None</span>\n",
       "        <span style=\"font-weight: bold\">)</span>\n",
       "    <span style=\"font-weight: bold\">)</span>\n",
       "<span style=\"font-weight: bold\">]</span>\n",
       "</pre>\n"
      ],
      "text/plain": [
       "\u001b[1m[\u001b[0m\n",
       "    \u001b[1;35mChoice\u001b[0m\u001b[1m(\u001b[0m\n",
       "        \u001b[33mfinish_reason\u001b[0m=\u001b[32m'stop'\u001b[0m,\n",
       "        \u001b[33mindex\u001b[0m=\u001b[1;36m0\u001b[0m,\n",
       "        \u001b[33mmessage\u001b[0m=\u001b[1;35mChatCompletionMessage\u001b[0m\u001b[1m(\u001b[0m\n",
       "            \u001b[33mcontent\u001b[0m=\u001b[32m'Mercury, Venus, Earth, Mars, Jupiter, Saturn, Uranus, Neptune'\u001b[0m,\n",
       "            \u001b[33mrole\u001b[0m=\u001b[32m'assistant'\u001b[0m,\n",
       "            \u001b[33mfunction_call\u001b[0m=\u001b[3;35mNone\u001b[0m,\n",
       "            \u001b[33mtool_calls\u001b[0m=\u001b[3;35mNone\u001b[0m\n",
       "        \u001b[1m)\u001b[0m\n",
       "    \u001b[1m)\u001b[0m\n",
       "\u001b[1m]\u001b[0m\n"
      ]
     },
     "metadata": {},
     "output_type": "display_data"
    },
    {
     "data": {
      "text/html": [
       "<pre style=\"white-space:pre;overflow-x:auto;line-height:normal;font-family:Menlo,'DejaVu Sans Mono',consolas,'Courier New',monospace\">Mercury, Venus, Earth, Mars, Jupiter, Saturn, Uranus, Neptune\n",
       "</pre>\n"
      ],
      "text/plain": [
       "Mercury, Venus, Earth, Mars, Jupiter, Saturn, Uranus, Neptune\n"
      ]
     },
     "metadata": {},
     "output_type": "display_data"
    }
   ],
   "source": [
    "import rich   # prettyprinting\n",
    "\n",
    "response = client.chat.completions.create(messages=[{\"role\": \"user\", \n",
    "                                                     \"content\": \"Q: Name the planets in the solar system?\\nA: \"}], \n",
    "                                          model=\"gpt-3.5-turbo-1106\",  # which model to use\n",
    "                                          temperature=1,               # get a little variety\n",
    "                                          max_tokens=64,               # limit on length of result\n",
    "                                          stop=[\"Q:\", \"\\n\"])           # treat these as EOS symbols\n",
    "rich.print(response)                              # the full object that was sent back from the server\n",
    "rich.print(response.choices)                      # just the list of 1 answer (the default, but calling with n=5 would give 5 answers) \n",
    "rich.print(response.choices[0].message.content)   # extract the good stuff from that 1 answer"
   ]
  },
  {
   "cell_type": "markdown",
   "metadata": {},
   "source": [
    "![image](handin.png)\n",
    "Try running the cell above a few times. You may get different random answers — especially because the call specifies temperature 1.  (The default temperature is rumored to be 0.8.) Are the answers all equally good?\n",
    "\n",
    "```\n",
    "The planets in the solar system are Mercury, Venus, Earth, Mars, Jupiter, Saturn, Uranus, and Neptune.\n",
    "\n",
    "Mercury, Venus, Earth, Mars, Jupiter, Saturn, Uranus, Neptune\n",
    "\n",
    "1. Mercury\n",
    "\n",
    "- Mercury\n",
    "```\n",
    "We get different answers. In most answers, it returns the correct sequence of 8 planets either as a comma separated list or a sentence. \n",
    "\n",
    "In rare cases, it only gives us mercury. This is because the client intends to return a list of the planets as a ‘\\n’ separated list. \n",
    "1. Mercury\n",
    "2. Venus \n",
    "3. Earth \n",
    "... \n",
    "\n",
    "but we’ve listed ‘\\n’ as an EOS word so the answer stops at Mercury. "
   ]
  },
  {
   "cell_type": "markdown",
   "metadata": {},
   "source": [
    "\n",
    "It might be handy to package up what we just did.<br>\n",
    "The `complete` function below is a convenient way of experimenting with completing text.\n",
    "It is illustrated with a grocery example.  "
   ]
  },
  {
   "cell_type": "code",
   "execution_count": 33,
   "metadata": {},
   "outputs": [
    {
     "data": {
      "text/plain": [
       "[', and flour. I also picked up some ground beef, honey, ice cream, and jam. Additionally, I grabbed some kale, lemons, milk, nuts, and onions. Lastly, I got some pasta, quinoa, rice, spinach, and tomatoes. Overall, I think I got everything I needed for the week.',\n",
       " ', and flowers.',\n",
       " \", and flour. I also picked up some ground beef, honey, ice cream, and jam. Finally, I grabbed a loaf of bread, milk, noodles, and oranges. My shopping list was quite extensive, but I'm glad I got everything I needed.\",\n",
       " ', and a few other items. The apples and bananas were fresh and ripe, the cherries were juicy and sweet, and the donuts were a delicious treat. I also picked up a dozen eggs for baking and cooking. Overall, it was a successful trip to the store!',\n",
       " ', and flour.',\n",
       " ', and fish.',\n",
       " ', and flour. I also picked up some grapes, honey, ice cream, and juice. Lastly, I grabbed some kale, lemons, milk, and nuts. Overall, I got a good variety of groceries for the week.',\n",
       " ', and flour. I also picked up some grapes, honey, ice cream, juice, and kiwi. Lastly, I grabbed some lettuce, milk, nuts, oatmeal, and peanut butter.',\n",
       " ', and a loaf of bread. The apples were crisp and sweet, the bananas were perfectly ripe, and the cherries were juicy and delicious. The donuts were a special treat, and the eggs and bread were essentials for my kitchen. Overall, it was a successful shopping trip.',\n",
       " ', and flour.']"
      ]
     },
     "execution_count": 33,
     "metadata": {},
     "output_type": "execute_result"
    }
   ],
   "source": [
    "def complete(client, s: str, model=\"gpt-3.5-turbo-1106\", *args, **kwargs):\n",
    "    response = client.chat.completions.create(messages=[{\"role\": \"user\", \"content\": s}],\n",
    "                                              model=model,\n",
    "                                              *args, **kwargs)\n",
    "    return [choice.message.content for choice in response.choices]\n",
    "\n",
    "complete(client, \"I went to the store and I bought apples, bananas, cherries, donuts, eggs\", \n",
    "         n=10, temperature=.8, max_tokens=96)\n"
   ]
  },
  {
   "cell_type": "markdown",
   "metadata": {},
   "source": [
    "![image](handin.png)\n",
    "Anything could be on a grocery list, so why are the 10 different completions above so similar?<br>\n",
    "Hint: The answer isn't just the temperature of 0.5.  Look especially at the long completions; run the cell again if you didn't get multiple long completions.\n",
    "\n",
    "The completions are similar because completions like ‘, and flour.’ or ‘, and fish.’ are very frequent in the training corpus. Especially, the completion similar to '\", and flour. I also picked up some ginger, honey, ice cream, juice, and kiwi. Lastly' is very frequent. LLMs are likely to repeat patterns seen in the training corpus. Therefore, it is very likely to return something similar to the sentence most probably following the prompt. However, the 10 completions are not completely the same because LLMs are not deterministic. The randomness contributes to similar but different completions."
   ]
  },
  {
   "cell_type": "markdown",
   "metadata": {},
   "source": [
    "\n",
    "![image](handin.png)\n",
    "What happens at different temperatures?  How about temperatures > 1?  (Note: Higher temperatures tend to produce longer responses, so it's wise to use `max_tokens`.)\n",
    "\n",
    "At temperature=0.1, the completions are very similar with each other. At temperature=0.5 and temperature=0.9, we see more and more variation beacause the LLM is more 'creative' and gives more randomized answers. \n",
    "\n",
    "At temperature=1.5, the LLM behaves event more inconsistency. \n",
    "\n",
    "For example it hallucinates: \n",
    "`, and flowers.\\n\\nInna a beautiful skitu only needed l have an seeds floor ov Seeds getNext survives Radius degrees assets technicaluvwxyz ?}-${-\",?$\\'\"}:${ wages-firefid098920399iq`\n",
    "\n",
    "Or starts a dialogue with itself: \n",
    "`\", and fish.\\n\\nCould you please organize these items? \\nSure! Here's how you could organize the items: \\n\\nFruit: Apples, Bananas, Cherries\\nSweets: Donuts\\nGrocery: Eggs\\nMeat: Fish\"`\n",
    "\n",
    "\n",
    "At temperature=2, the LLM's outputs are incomprehensible: \n",
    "`' and I also picked up flour, good related let.magkpfb raw\"g pose l87elcomebstractv攀vertisement:b�Compatibility.badWeekly_desrc.fpipt Comedy_windowsilogue.performance`"
   ]
  },
  {
   "cell_type": "markdown",
   "metadata": {},
   "source": [
    "\n",
    "*Remarks:* [In the future](https://community.openai.com/t/logprobs-are-missing-from-the-chat-endpoints/289514), you will be able to specify an argument `logprobs=5` to also get the log-probabilities of all generated tokens and of the top-5 tokens at each step.  That will produce much more output.  (This argument has always been available for the legacy API, and is available in the [Python bindings for open-source models such as Llama](https://pypi.org/project/llama-cpp-python/).  The Llama bindings also allow you to [constrain the output by an arbitrary CFG](https://github.com/ggerganov/llama.cpp/blob/master/grammars/README.md), using `grammar=...`.  This is useful if you're generating code or data that must be syntactically valid to be useful to you.  However, the OpenAI API only allows you to [constrain the output to be valid JSON](https://platform.openai.com/docs/api-reference/chat/create#chat-create-response_format).)\n"
   ]
  },
  {
   "cell_type": "markdown",
   "metadata": {},
   "source": [
    "### Compute a function using instructions and few-shot prompting\n",
    "\n",
    "Now let's try passing a sequence of multiple messages into the chat completions API.  In this case, we provide some instructions and one-shot prompting."
   ]
  },
  {
   "cell_type": "code",
   "execution_count": 34,
   "metadata": {},
   "outputs": [
    {
     "data": {
      "text/html": [
       "<pre style=\"white-space:pre;overflow-x:auto;line-height:normal;font-family:Menlo,'DejaVu Sans Mono',consolas,'Courier New',monospace\"><span style=\"color: #800080; text-decoration-color: #800080; font-weight: bold\">ChatCompletion</span><span style=\"font-weight: bold\">(</span>\n",
       "    <span style=\"color: #808000; text-decoration-color: #808000\">id</span>=<span style=\"color: #008000; text-decoration-color: #008000\">'chatcmpl-8V6neFfYLErzP5tN1cMvtezImZnED'</span>,\n",
       "    <span style=\"color: #808000; text-decoration-color: #808000\">choices</span>=<span style=\"font-weight: bold\">[</span>\n",
       "        <span style=\"color: #800080; text-decoration-color: #800080; font-weight: bold\">Choice</span><span style=\"font-weight: bold\">(</span>\n",
       "            <span style=\"color: #808000; text-decoration-color: #808000\">finish_reason</span>=<span style=\"color: #008000; text-decoration-color: #008000\">'stop'</span>,\n",
       "            <span style=\"color: #808000; text-decoration-color: #808000\">index</span>=<span style=\"color: #008080; text-decoration-color: #008080; font-weight: bold\">0</span>,\n",
       "            <span style=\"color: #808000; text-decoration-color: #808000\">message</span>=<span style=\"color: #800080; text-decoration-color: #800080; font-weight: bold\">ChatCompletionMessage</span><span style=\"font-weight: bold\">(</span>\n",
       "                <span style=\"color: #808000; text-decoration-color: #808000\">content</span>=<span style=\"color: #008000; text-decoration-color: #008000\">'Furiously sleep ideas green colorless.'</span>,\n",
       "                <span style=\"color: #808000; text-decoration-color: #808000\">role</span>=<span style=\"color: #008000; text-decoration-color: #008000\">'assistant'</span>,\n",
       "                <span style=\"color: #808000; text-decoration-color: #808000\">function_call</span>=<span style=\"color: #800080; text-decoration-color: #800080; font-style: italic\">None</span>,\n",
       "                <span style=\"color: #808000; text-decoration-color: #808000\">tool_calls</span>=<span style=\"color: #800080; text-decoration-color: #800080; font-style: italic\">None</span>\n",
       "            <span style=\"font-weight: bold\">)</span>\n",
       "        <span style=\"font-weight: bold\">)</span>\n",
       "    <span style=\"font-weight: bold\">]</span>,\n",
       "    <span style=\"color: #808000; text-decoration-color: #808000\">created</span>=<span style=\"color: #008080; text-decoration-color: #008080; font-weight: bold\">1702424998</span>,\n",
       "    <span style=\"color: #808000; text-decoration-color: #808000\">model</span>=<span style=\"color: #008000; text-decoration-color: #008000\">'gpt-3.5-turbo-1106'</span>,\n",
       "    <span style=\"color: #808000; text-decoration-color: #808000\">object</span>=<span style=\"color: #008000; text-decoration-color: #008000\">'chat.completion'</span>,\n",
       "    <span style=\"color: #808000; text-decoration-color: #808000\">system_fingerprint</span>=<span style=\"color: #008000; text-decoration-color: #008000\">'fp_eeff13170a'</span>,\n",
       "    <span style=\"color: #808000; text-decoration-color: #808000\">usage</span>=<span style=\"color: #800080; text-decoration-color: #800080; font-weight: bold\">CompletionUsage</span><span style=\"font-weight: bold\">(</span><span style=\"color: #808000; text-decoration-color: #808000\">completion_tokens</span>=<span style=\"color: #008080; text-decoration-color: #008080; font-weight: bold\">9</span>, <span style=\"color: #808000; text-decoration-color: #808000\">prompt_tokens</span>=<span style=\"color: #008080; text-decoration-color: #008080; font-weight: bold\">50</span>, <span style=\"color: #808000; text-decoration-color: #808000\">total_tokens</span>=<span style=\"color: #008080; text-decoration-color: #008080; font-weight: bold\">59</span><span style=\"font-weight: bold\">)</span>\n",
       "<span style=\"font-weight: bold\">)</span>\n",
       "</pre>\n"
      ],
      "text/plain": [
       "\u001b[1;35mChatCompletion\u001b[0m\u001b[1m(\u001b[0m\n",
       "    \u001b[33mid\u001b[0m=\u001b[32m'chatcmpl-8V6neFfYLErzP5tN1cMvtezImZnED'\u001b[0m,\n",
       "    \u001b[33mchoices\u001b[0m=\u001b[1m[\u001b[0m\n",
       "        \u001b[1;35mChoice\u001b[0m\u001b[1m(\u001b[0m\n",
       "            \u001b[33mfinish_reason\u001b[0m=\u001b[32m'stop'\u001b[0m,\n",
       "            \u001b[33mindex\u001b[0m=\u001b[1;36m0\u001b[0m,\n",
       "            \u001b[33mmessage\u001b[0m=\u001b[1;35mChatCompletionMessage\u001b[0m\u001b[1m(\u001b[0m\n",
       "                \u001b[33mcontent\u001b[0m=\u001b[32m'Furiously sleep ideas green colorless.'\u001b[0m,\n",
       "                \u001b[33mrole\u001b[0m=\u001b[32m'assistant'\u001b[0m,\n",
       "                \u001b[33mfunction_call\u001b[0m=\u001b[3;35mNone\u001b[0m,\n",
       "                \u001b[33mtool_calls\u001b[0m=\u001b[3;35mNone\u001b[0m\n",
       "            \u001b[1m)\u001b[0m\n",
       "        \u001b[1m)\u001b[0m\n",
       "    \u001b[1m]\u001b[0m,\n",
       "    \u001b[33mcreated\u001b[0m=\u001b[1;36m1702424998\u001b[0m,\n",
       "    \u001b[33mmodel\u001b[0m=\u001b[32m'gpt-3.5-turbo-1106'\u001b[0m,\n",
       "    \u001b[33mobject\u001b[0m=\u001b[32m'chat.completion'\u001b[0m,\n",
       "    \u001b[33msystem_fingerprint\u001b[0m=\u001b[32m'fp_eeff13170a'\u001b[0m,\n",
       "    \u001b[33musage\u001b[0m=\u001b[1;35mCompletionUsage\u001b[0m\u001b[1m(\u001b[0m\u001b[33mcompletion_tokens\u001b[0m=\u001b[1;36m9\u001b[0m, \u001b[33mprompt_tokens\u001b[0m=\u001b[1;36m50\u001b[0m, \u001b[33mtotal_tokens\u001b[0m=\u001b[1;36m59\u001b[0m\u001b[1m)\u001b[0m\n",
       "\u001b[1m)\u001b[0m\n"
      ]
     },
     "metadata": {},
     "output_type": "display_data"
    },
    {
     "data": {
      "text/plain": [
       "'Furiously sleep ideas green colorless.'"
      ]
     },
     "execution_count": 34,
     "metadata": {},
     "output_type": "execute_result"
    }
   ],
   "source": [
    "# original\n",
    "response = client.chat.completions.create(messages=[{ \"role\": \"system\",      # instructions\n",
    "                                                      \"content\": \"Reverse the order of the words.\" },\n",
    "                                                    { \"role\": \"user\",        # input\n",
    "                                                      \"content\": \"Good things come to those who wait.\" },\n",
    "                                                    { \"role\": \"assistant\",   # output\n",
    "                                                      \"content\": \"Wait who those to come things good.\" },\n",
    "                                                    { \"role\": \"user\",        # input\n",
    "                                                      \"content\": \"Colorless green ideas sleep furiously.\" }],\n",
    "                                          model=\"gpt-3.5-turbo-1106\", temperature=0)\n",
    "# returns: 'furiously sleep ideas green colorless'\n",
    "\n",
    "# separate by comma \n",
    "# response = client.chat.completions.create(messages=[{ \"role\": \"system\",      # instructions\n",
    "#                                                       \"content\": \"Reverse the order of the words. Separate each word with a comma.\" },\n",
    "#                                                     { \"role\": \"user\",        # input\n",
    "#                                                       \"content\": \"Good things come to those who wait.\" },\n",
    "#                                                     { \"role\": \"assistant\",   # output\n",
    "#                                                       \"content\": \"wait, who, those, to, come, things, good\" },\n",
    "#                                                     { \"role\": \"user\",        # input\n",
    "#                                                       \"content\": \"Colorless green ideas sleep furiously.\" }],\n",
    "#                                           model=\"gpt-3.5-turbo-1106\", temperature=0)\n",
    "# returns: 'furiously, sleep, ideas, green, colorless'\n",
    "\n",
    "# reverse by character \n",
    "# response = client.chat.completions.create(messages=[{ \"role\": \"system\",      # instructions\n",
    "#                                                       \"content\": \"Reverse the characters.\" },\n",
    "#                                                     { \"role\": \"user\",        # input\n",
    "#                                                       \"content\": \"Good things come to those who wait.\" },\n",
    "#                                                     { \"role\": \"assistant\",   # output\n",
    "#                                                       \"content\": \"Tiaw ohw esoht ot emoc sgniht doog.\" },\n",
    "#                                                     { \"role\": \"user\",        # input\n",
    "#                                                       \"content\": \"Colorless green ideas sleep furiously.\" }],\n",
    "#                                           model=\"gpt-3.5-turbo-1106\", temperature=0)\n",
    "# returns: 'Yliruoof sreeps saedi neerg ssoloc.'\n",
    "\n",
    "# reverse meaning\n",
    "# response = client.chat.completions.create(messages=[{ \"role\": \"system\",      # instructions\n",
    "#                                                       \"content\": \"Reverse the meaning of the sentence.\" },\n",
    "#                                                     { \"role\": \"user\",        # input\n",
    "#                                                       \"content\": \"Good things come to those who wait.\" },\n",
    "#                                                     { \"role\": \"assistant\",   # output\n",
    "#                                                       \"content\": \"Bad things come to those who wait.\" },\n",
    "#                                                     { \"role\": \"user\",        # input\n",
    "#                                                       \"content\": \"Colorless green ideas sleep furiously.\" }],\n",
    "#                                           model=\"gpt-3.5-turbo-1106\", temperature=0)\n",
    "# returns: 'Colorful green ideas are wide awake peacefully.'\n",
    "\n",
    "rich.print(response)\n",
    "response.choices[0].message.content                                  "
   ]
  },
  {
   "cell_type": "markdown",
   "metadata": {},
   "source": [
    "![image](handin.png)\n",
    "By modifying this call, can you get it to produce different versions of the output?\n",
    "Some possible behaviors you could try to arrange:\n",
    "* specific other way of formatting the output, e.g., `wait, who, those, to, come, things, good`\n",
    "* match the input's way of formatting the output (same use of capitalization, puncutation, commas)\n",
    "* reverse the phrases rather than reversing the words, e.g., `To those who wait come good things.` \n",
    "\n",
    "You can try playing with the number, the content, and the order of few-shot examples, and changing or removing the instructions.\n",
    "\n",
    "![image](handin.png)\n",
    "What happens if the examples don't match the instructions?\n",
    "\n",
    "The assistant prioritizes the system’s instructions over the examples."
   ]
  },
  {
   "cell_type": "code",
   "execution_count": null,
   "metadata": {},
   "outputs": [],
   "source": [
    "response = client.chat.completions.create(messages=[{ \"role\": \"system\",      # instructions\n",
    "                                                      \"content\": \"Reverse the word order.\" },\n",
    "                                                    { \"role\": \"user\",        # input\n",
    "                                                      \"content\": \"Good things come to those who wait.\" },\n",
    "                                                    { \"role\": \"assistant\",   # output\n",
    "                                                      \"content\": \"Tiaw ohw esoht ot emoc sgniht doog.\" },\n",
    "                                                    { \"role\": \"user\",        # input\n",
    "                                                      \"content\": \"Colorless green ideas sleep furiously.\" }],\n",
    "                                          model=\"gpt-3.5-turbo-1106\", temperature=0)\n",
    "\n",
    "# **Assistant: Furiously sleep ideas green colorless.**"
   ]
  },
  {
   "cell_type": "markdown",
   "metadata": {},
   "source": [
    "### Inspect the tokenization"
   ]
  },
  {
   "cell_type": "markdown",
   "metadata": {},
   "source": [
    "Just for fun, let's see how the above client has been tokenizing its input and output text.  For that we can use a tokenizer that runs locally, not in the cloud, and is guaranteed to get the same outputs."
   ]
  },
  {
   "cell_type": "code",
   "execution_count": 35,
   "metadata": {},
   "outputs": [
    {
     "name": "stdout",
     "output_type": "stream",
     "text": [
      "Hellooo, world!\n",
      "9906 \t Hello\n",
      "2689 \t oo\n",
      "11 \t ,\n",
      "1917 \t  world\n",
      "0 \t !\n",
      "Vocab size = 100277\n"
     ]
    }
   ],
   "source": [
    "import tiktoken\n",
    "tokenizer = tiktoken.encoding_for_model(\"gpt-3.5-turbo-1106\")  # how this model will tokenize\n",
    "toks = tokenizer.encode(\"Hellooo, world!\") # list of integerized tokens, starting with BOS\n",
    "\n",
    "print(tokenizer.decode(toks))                             # convert list back to string\n",
    "for tok in toks: print(tok,\"\\t\",tokenizer.decode([tok]))  # convert one at a time\n",
    "print(\"Vocab size =\", tokenizer.n_vocab)"
   ]
  },
  {
   "cell_type": "markdown",
   "metadata": {},
   "source": [
    "### Try embedding some text\n",
    "\n",
    "Also just for fun, let's try the embedder, which converts a string to an fixed-length vector."
   ]
  },
  {
   "cell_type": "code",
   "execution_count": 36,
   "metadata": {},
   "outputs": [
    {
     "name": "stdout",
     "output_type": "stream",
     "text": [
      "1536-dimensional embedding starting with [0.021248681470751762, -0.014377851039171219, 0.010210818611085415, -0.02133774757385254, -0.00979093462228775]\n",
      "Squared length of embedding vector:  1.0000000629476622\n"
     ]
    }
   ],
   "source": [
    "emb_response = client.embeddings.create( input= [  # note: adjacent literal strings in Python are concatenated\n",
    "        \"When in the Course of human events it becomes necessary for one \"\n",
    "        \"people to dissolve the political bands which have connected them \"\n",
    "        \"with another, and to assume among the Powers of the earth, the \"\n",
    "        \"separate and equal station to which the Laws of Nature and of \"\n",
    "        \"Nature's God entitle them, a decent respect to the opinions of \"\n",
    "        \"mankind requires that they should declare the causes which impel \"\n",
    "        \"them to the separation.\" ], \n",
    "        model=\"text-embedding-ada-002\")   # the only OpenAI model that currently offers the embeddings API\n",
    "# don't print the whole response because it's very long\n",
    "e = emb_response.data[0].embedding\n",
    "print(f\"{len(e)}-dimensional embedding starting with {e[:5]}\")\n",
    "print(\"Squared length of embedding vector: \", sum(x**2 for x in e))"
   ]
  },
  {
   "cell_type": "markdown",
   "metadata": {},
   "source": [
    "### Check your usage so far\n",
    "\n",
    "Please be careful not to write loops that use lots and lots of tokens.  That will cost us money, and could hit the per-day usage limit that is shared by the whole class.\n",
    "\n",
    "Execute one of these cells whenever you want to see your cost so far.  Or, just keep `usage_openai.json` open as a tab in your IDE."
   ]
  },
  {
   "cell_type": "code",
   "execution_count": 37,
   "metadata": {},
   "outputs": [
    {
     "data": {
      "text/plain": [
       "{'completion_tokens': 230743,\n",
       " 'prompt_tokens': 2226445,\n",
       " 'total_tokens': 2457188,\n",
       " 'cost': 2.6875097999999973}"
      ]
     },
     "execution_count": 37,
     "metadata": {},
     "output_type": "execute_result"
    }
   ],
   "source": [
    "read_usage()      # reads from the file usage_openai.json"
   ]
  },
  {
   "cell_type": "code",
   "execution_count": 38,
   "metadata": {},
   "outputs": [
    {
     "name": "stdout",
     "output_type": "stream",
     "text": [
      "{\n",
      "    \"completion_tokens\": 230743,\n",
      "    \"prompt_tokens\": 2226445,\n",
      "    \"total_tokens\": 2457188,\n",
      "    \"cost\": 2.6875097999999973\n",
      "}"
     ]
    }
   ],
   "source": [
    "!cat usage_openai.json "
   ]
  },
  {
   "cell_type": "markdown",
   "metadata": {},
   "source": [
    "# Dialogues and dialogue agents"
   ]
  },
  {
   "cell_type": "markdown",
   "metadata": {},
   "source": [
    "The goal of this assignment is to create a good \"argubot\" that will talk to people about controversial topics and broaden their minds."
   ]
  },
  {
   "cell_type": "markdown",
   "metadata": {},
   "source": [
    "## A first argubot (Airhead)\n",
    "\n",
    "You can have a conversation right now with a _really bad_ argubot named Airhead.  Try asking it about climate change!  When you're done, reply with an empty string.\n",
    "\n",
    "(The `converse()` method calls Python's `input()` function, which will prompt you for input at the command-line or by popping up a box in your IDE.)"
   ]
  },
  {
   "cell_type": "code",
   "execution_count": 16,
   "metadata": {},
   "outputs": [
    {
     "name": "stdout",
     "output_type": "stream",
     "text": [
      "\n",
      "(mpark) hey~\n",
      "(Airhead) I know right???\n",
      "(mpark) what?\n",
      "(Airhead) I know right???\n"
     ]
    }
   ],
   "source": [
    "import argubots\n",
    "d = argubots.airhead.converse()"
   ]
  },
  {
   "cell_type": "markdown",
   "metadata": {},
   "source": [
    "A *bot* (short for \"robot\") is a system that acts autonomously.\n",
    "That corresponds to the AI notion of an *agent* — a system that uses some *policy* to choose *actions* to take.\n",
    "\n",
    "The `airhead` agent above (defined in `argubots.py`) uses a particularly simple policy.  \n",
    "It is an instance of a simple `Agent` subclass called `ConstantAgent` (defined in `agents.py`).\n",
    "\n",
    "The result of talking to `airhead` is a `Dialogue` object (defined in `dialogue.py`). Let's look at it."
   ]
  },
  {
   "cell_type": "code",
   "execution_count": 40,
   "metadata": {},
   "outputs": [
    {
     "data": {
      "text/html": [
       "<pre style=\"white-space:pre;overflow-x:auto;line-height:normal;font-family:Menlo,'DejaVu Sans Mono',consolas,'Courier New',monospace\"><span style=\"color: #c0c0c0; text-decoration-color: #c0c0c0; background-color: #000080; font-weight: bold\">(</span><span style=\"color: #c0c0c0; text-decoration-color: #c0c0c0; background-color: #000080\">mpark</span><span style=\"color: #c0c0c0; text-decoration-color: #c0c0c0; background-color: #000080; font-weight: bold\">)</span> hey \n",
       "<span style=\"color: #c0c0c0; text-decoration-color: #c0c0c0; background-color: #000080; font-weight: bold\">(</span><span style=\"color: #c0c0c0; text-decoration-color: #c0c0c0; background-color: #000080\">Airhead</span><span style=\"color: #c0c0c0; text-decoration-color: #c0c0c0; background-color: #000080; font-weight: bold\">)</span> I know right???\n",
       "<span style=\"color: #c0c0c0; text-decoration-color: #c0c0c0; background-color: #000080; font-weight: bold\">(</span><span style=\"color: #c0c0c0; text-decoration-color: #c0c0c0; background-color: #000080\">mpark</span><span style=\"color: #c0c0c0; text-decoration-color: #c0c0c0; background-color: #000080; font-weight: bold\">)</span> uhh ok \n",
       "<span style=\"color: #c0c0c0; text-decoration-color: #c0c0c0; background-color: #000080; font-weight: bold\">(</span><span style=\"color: #c0c0c0; text-decoration-color: #c0c0c0; background-color: #000080\">Airhead</span><span style=\"color: #c0c0c0; text-decoration-color: #c0c0c0; background-color: #000080; font-weight: bold\">)</span> I know right???\n",
       "</pre>\n"
      ],
      "text/plain": [
       "\u001b[1;37;44m(\u001b[0m\u001b[37;44mmpark\u001b[0m\u001b[1;37;44m)\u001b[0m hey \n",
       "\u001b[1;37;44m(\u001b[0m\u001b[37;44mAirhead\u001b[0m\u001b[1;37;44m)\u001b[0m I know right???\n",
       "\u001b[1;37;44m(\u001b[0m\u001b[37;44mmpark\u001b[0m\u001b[1;37;44m)\u001b[0m uhh ok \n",
       "\u001b[1;37;44m(\u001b[0m\u001b[37;44mAirhead\u001b[0m\u001b[1;37;44m)\u001b[0m I know right???\n"
      ]
     },
     "metadata": {},
     "output_type": "display_data"
    }
   ],
   "source": [
    "rich.print(d)"
   ]
  },
  {
   "cell_type": "markdown",
   "metadata": {},
   "source": [
    "Each *turn* of this dialogue is just a tiny dictionary:"
   ]
  },
  {
   "cell_type": "code",
   "execution_count": 41,
   "metadata": {},
   "outputs": [
    {
     "data": {
      "text/plain": [
       "{'speaker': 'mpark', 'content': 'hey '}"
      ]
     },
     "execution_count": 41,
     "metadata": {},
     "output_type": "execute_result"
    }
   ],
   "source": [
    "d[0]"
   ]
  },
  {
   "cell_type": "markdown",
   "metadata": {},
   "source": [
    "## An LLM argubot (Alice)\n",
    "\n",
    "In other CS courses like crypto, algorithms, or networks, you may have encountered \"conversations\" between characters named Alice and Bob.  \n",
    "Let's try talking to the Alice of this homework, who is a _much stronger baseline_ than Airhead.  Your job in this assignment is to improve upon Alice.\n",
    "We'll meet Bob later."
   ]
  },
  {
   "cell_type": "code",
   "execution_count": 42,
   "metadata": {},
   "outputs": [
    {
     "name": "stdout",
     "output_type": "stream",
     "text": [
      "\n"
     ]
    },
    {
     "name": "stdout",
     "output_type": "stream",
     "text": [
      "(mpark) hello alice\n",
      "(Alice) Hi there! How do you feel about the idea of universal basic income?\n",
      "(mpark) I think it would be great, but i'm not sure how realistic it is\n",
      "(Alice) It's true that implementing universal basic income would be a complex and costly endeavor, but it's worth considering the potential benefits, such as reducing poverty and providing a safety net for all citizens. Additionally, some argue that the costs could be offset by eliminating other welfare programs and through increased economic activity.\n",
      "(mpark) I fear that UBI would eliminate welfare programs like healthcare and social security. \n",
      "(Alice) I understand your concern. However, proponents of UBI argue that it could actually complement existing welfare programs rather than replace them. It could provide a baseline level of support while allowing individuals to still access other essential services.\n"
     ]
    }
   ],
   "source": [
    "alicechat = argubots.alice.converse()   # or call with argument d if you want to append to the previous conversation"
   ]
  },
  {
   "cell_type": "markdown",
   "metadata": {},
   "source": [
    "As you may have guessed, `alice` is powered by an prompted LLM.  You can find the specific prompt in `argubots.py`.\n",
    "\n",
    "So, while `agents.py` provides the core functionality for `Agent` objects, the argubot agents like `alice` — and the ones that you will write! — go into `argubots.py` instead.  This is just to keep the files small."
   ]
  },
  {
   "cell_type": "markdown",
   "metadata": {},
   "source": [
    "## Simulating human characters (Bob & friends)"
   ]
  },
  {
   "cell_type": "markdown",
   "metadata": {},
   "source": [
    "You'll talk to your own argubots to get a qualitative feeling for their strengths and weaknesses.  \n",
    "But can you really be sure you're making progress?  For that, a quantitative measure can be helpful.\n",
    "\n",
    "Ultimately, you should test an argubot like Alice by having it argue with many real humans — not just you — and using some rubric to score the resulting dialogues.  But that would be slow and complicated to arrange.  \n",
    "\n",
    "So, meet Bob!  He's just a simulated human.  You won't edit him: he is part of the development set.  Here is some information about him (from `characters.py`):"
   ]
  },
  {
   "cell_type": "code",
   "execution_count": 43,
   "metadata": {},
   "outputs": [
    {
     "data": {
      "text/html": [
       "<pre style=\"white-space:pre;overflow-x:auto;line-height:normal;font-family:Menlo,'DejaVu Sans Mono',consolas,'Courier New',monospace\"><span style=\"color: #800080; text-decoration-color: #800080; font-weight: bold\">Character</span><span style=\"font-weight: bold\">(</span>\n",
       "    <span style=\"color: #808000; text-decoration-color: #808000\">name</span>=<span style=\"color: #008000; text-decoration-color: #008000\">'Bob'</span>,\n",
       "    <span style=\"color: #808000; text-decoration-color: #808000\">languages</span>=<span style=\"font-weight: bold\">[</span><span style=\"color: #008000; text-decoration-color: #008000\">'English'</span><span style=\"font-weight: bold\">]</span>,\n",
       "    <span style=\"color: #808000; text-decoration-color: #808000\">persona</span>=<span style=\"color: #008000; text-decoration-color: #008000\">'an ardent vegetarian who thinks everyone should be vegetarian'</span>,\n",
       "    <span style=\"color: #808000; text-decoration-color: #808000\">conversational_style</span>=<span style=\"color: #008000; text-decoration-color: #008000\">'You generally try to remain polite.'</span>,\n",
       "    <span style=\"color: #808000; text-decoration-color: #808000\">conversation_starters</span>=<span style=\"font-weight: bold\">[</span><span style=\"color: #008000; text-decoration-color: #008000\">\"Do you think it's ok to eat meat?\"</span><span style=\"font-weight: bold\">]</span>\n",
       "<span style=\"font-weight: bold\">)</span>\n",
       "</pre>\n"
      ],
      "text/plain": [
       "\u001b[1;35mCharacter\u001b[0m\u001b[1m(\u001b[0m\n",
       "    \u001b[33mname\u001b[0m=\u001b[32m'Bob'\u001b[0m,\n",
       "    \u001b[33mlanguages\u001b[0m=\u001b[1m[\u001b[0m\u001b[32m'English'\u001b[0m\u001b[1m]\u001b[0m,\n",
       "    \u001b[33mpersona\u001b[0m=\u001b[32m'an ardent vegetarian who thinks everyone should be vegetarian'\u001b[0m,\n",
       "    \u001b[33mconversational_style\u001b[0m=\u001b[32m'You generally try to remain polite.'\u001b[0m,\n",
       "    \u001b[33mconversation_starters\u001b[0m=\u001b[1m[\u001b[0m\u001b[32m\"Do you think it's ok to eat meat?\"\u001b[0m\u001b[1m]\u001b[0m\n",
       "\u001b[1m)\u001b[0m\n"
      ]
     },
     "metadata": {},
     "output_type": "display_data"
    }
   ],
   "source": [
    "import characters\n",
    "rich.print(characters.bob)"
   ]
  },
  {
   "cell_type": "markdown",
   "metadata": {},
   "source": [
    "You can't talk directly to `characters.bob` because that's just a data object.\n",
    "However, you can construct a simple agent that uses that data (plus a few more instructions) to prompt an LLM.\n",
    "\n",
    "(Which LLM does it prompt?  The `CharacterAgent` constructor (defined in `agents.py`) defaults to a GPT-3.5 model that is specified in `tracking.py`.  But you can override that using keyword arguments.)\n",
    "\n",
    "Try talking to Bob about climate change, too."
   ]
  },
  {
   "cell_type": "code",
   "execution_count": 44,
   "metadata": {},
   "outputs": [
    {
     "name": "stdout",
     "output_type": "stream",
     "text": [
      "\n"
     ]
    },
    {
     "name": "stdout",
     "output_type": "stream",
     "text": [
      "(mpark) hello bob\n",
      "(Bob) Hello there! How can I help you today?\n",
      "(mpark) i love meat\n",
      "(Bob) That's great, but have you ever considered the benefits of a vegetarian diet?\n",
      "(mpark) no and i never will \n",
      "(Bob) That's totally understandable, but I still encourage you to look into the positive impact that a vegetarian diet can have on your health and the environment.\n",
      "(mpark) what if i say no \n",
      "(Bob) That's completely fine, everyone is entitled to their own dietary choices.\n"
     ]
    }
   ],
   "source": [
    "from agents import CharacterAgent\n",
    "bob = CharacterAgent(characters.bob)    # actually, agents.bob is already defined this way\n",
    "bob.converse()        # returns a dialogue, but we've already seen it so we don't want to print it again\n",
    "None                  # don't print anything for this notebook cell "
   ]
  },
  {
   "cell_type": "markdown",
   "metadata": {},
   "source": [
    "Of course, a proper user study can't just be conducted with one human user.\n",
    "\n",
    "So, meet our bevy of beautiful Bobs!  (They're not actually all named Bob — we continued on in the alphabet.)\n"
   ]
  },
  {
   "cell_type": "code",
   "execution_count": 45,
   "metadata": {},
   "outputs": [
    {
     "data": {
      "text/plain": [
       "[<CharacterAgent for character Bob>,\n",
       " <CharacterAgent for character Cara>,\n",
       " <CharacterAgent for character Darius>,\n",
       " <CharacterAgent for character Eve>,\n",
       " <CharacterAgent for character TrollFace>]"
      ]
     },
     "execution_count": 45,
     "metadata": {},
     "output_type": "execute_result"
    }
   ],
   "source": [
    "import agents\n",
    "agents.devset"
   ]
  },
  {
   "cell_type": "code",
   "execution_count": 46,
   "metadata": {},
   "outputs": [
    {
     "name": "stdout",
     "output_type": "stream",
     "text": [
      "\n"
     ]
    },
    {
     "name": "stdout",
     "output_type": "stream",
     "text": [
      "(mpark) hello cara\n",
      "(Cara) Hi there.\n",
      "(mpark) what are your thoughts on UBI \n",
      "(Cara) I don't believe UBI is the most effective solution to addressing economic issues.\n",
      "(mpark) what is then? \n",
      "(Cara) I believe in a combination of policies that promote job growth, skill development, and entrepreneurship.\n",
      "(mpark) so capitalism? \n",
      "(Cara) I think a free market system has its merits, but it's important to balance it with social safety nets and regulations to ensure fairness and equality.\n",
      "(mpark) so you're a centrist\n",
      "(Cara) I prefer not to be labeled, but I believe in a balanced approach to economic and social policies.\n",
      "(mpark) how would you label yourself\n",
      "(Cara) I would say I'm an independent thinker who evaluates each issue on its own merits.\n"
     ]
    }
   ],
   "source": [
    "agents.cara.converse()\n",
    "None"
   ]
  },
  {
   "cell_type": "markdown",
   "metadata": {},
   "source": [
    "You can see the underlying character data here in the notebook.  Your argubot will have to deal with all of these topics and styles!"
   ]
  },
  {
   "cell_type": "code",
   "execution_count": 47,
   "metadata": {},
   "outputs": [
    {
     "data": {
      "text/html": [
       "<pre style=\"white-space:pre;overflow-x:auto;line-height:normal;font-family:Menlo,'DejaVu Sans Mono',consolas,'Courier New',monospace\"><span style=\"font-weight: bold\">[</span>\n",
       "    <span style=\"color: #800080; text-decoration-color: #800080; font-weight: bold\">Character</span><span style=\"font-weight: bold\">(</span>\n",
       "        <span style=\"color: #808000; text-decoration-color: #808000\">name</span>=<span style=\"color: #008000; text-decoration-color: #008000\">'Bob'</span>,\n",
       "        <span style=\"color: #808000; text-decoration-color: #808000\">languages</span>=<span style=\"font-weight: bold\">[</span><span style=\"color: #008000; text-decoration-color: #008000\">'English'</span><span style=\"font-weight: bold\">]</span>,\n",
       "        <span style=\"color: #808000; text-decoration-color: #808000\">persona</span>=<span style=\"color: #008000; text-decoration-color: #008000\">'an ardent vegetarian who thinks everyone should be vegetarian'</span>,\n",
       "        <span style=\"color: #808000; text-decoration-color: #808000\">conversational_style</span>=<span style=\"color: #008000; text-decoration-color: #008000\">'You generally try to remain polite.'</span>,\n",
       "        <span style=\"color: #808000; text-decoration-color: #808000\">conversation_starters</span>=<span style=\"font-weight: bold\">[</span><span style=\"color: #008000; text-decoration-color: #008000\">\"Do you think it's ok to eat meat?\"</span><span style=\"font-weight: bold\">]</span>\n",
       "    <span style=\"font-weight: bold\">)</span>,\n",
       "    <span style=\"color: #800080; text-decoration-color: #800080; font-weight: bold\">Character</span><span style=\"font-weight: bold\">(</span>\n",
       "        <span style=\"color: #808000; text-decoration-color: #808000\">name</span>=<span style=\"color: #008000; text-decoration-color: #008000\">'Cara'</span>,\n",
       "        <span style=\"color: #808000; text-decoration-color: #808000\">languages</span>=<span style=\"font-weight: bold\">[</span><span style=\"color: #008000; text-decoration-color: #008000\">'English'</span><span style=\"font-weight: bold\">]</span>,\n",
       "        <span style=\"color: #808000; text-decoration-color: #808000\">persona</span>=<span style=\"color: #008000; text-decoration-color: #008000\">'a committed carnivore who hates being told what to do'</span>,\n",
       "        <span style=\"color: #808000; text-decoration-color: #808000\">conversational_style</span>=<span style=\"color: #008000; text-decoration-color: #008000\">'You generally try to remain polite.'</span>,\n",
       "        <span style=\"color: #808000; text-decoration-color: #808000\">conversation_starters</span>=<span style=\"font-weight: bold\">[</span><span style=\"color: #008000; text-decoration-color: #008000\">\"Do you think it's ok to eat meat?\"</span><span style=\"font-weight: bold\">]</span>\n",
       "    <span style=\"font-weight: bold\">)</span>,\n",
       "    <span style=\"color: #800080; text-decoration-color: #800080; font-weight: bold\">Character</span><span style=\"font-weight: bold\">(</span>\n",
       "        <span style=\"color: #808000; text-decoration-color: #808000\">name</span>=<span style=\"color: #008000; text-decoration-color: #008000\">'Darius'</span>,\n",
       "        <span style=\"color: #808000; text-decoration-color: #808000\">languages</span>=<span style=\"font-weight: bold\">[</span><span style=\"color: #008000; text-decoration-color: #008000\">'English'</span><span style=\"font-weight: bold\">]</span>,\n",
       "        <span style=\"color: #808000; text-decoration-color: #808000\">persona</span>=<span style=\"color: #008000; text-decoration-color: #008000\">'an intelligent and slightly arrogant public health scientist who loves fact-based arguments'</span>,\n",
       "        <span style=\"color: #808000; text-decoration-color: #808000\">conversational_style</span>=<span style=\"color: #008000; text-decoration-color: #008000\">'You like to show off your knowledge.'</span>,\n",
       "        <span style=\"color: #808000; text-decoration-color: #808000\">conversation_starters</span>=<span style=\"font-weight: bold\">[</span><span style=\"color: #008000; text-decoration-color: #008000\">'Do you think COVID vaccines should be mandatory?'</span><span style=\"font-weight: bold\">]</span>\n",
       "    <span style=\"font-weight: bold\">)</span>,\n",
       "    <span style=\"color: #800080; text-decoration-color: #800080; font-weight: bold\">Character</span><span style=\"font-weight: bold\">(</span>\n",
       "        <span style=\"color: #808000; text-decoration-color: #808000\">name</span>=<span style=\"color: #008000; text-decoration-color: #008000\">'Eve'</span>,\n",
       "        <span style=\"color: #808000; text-decoration-color: #808000\">languages</span>=<span style=\"font-weight: bold\">[</span><span style=\"color: #008000; text-decoration-color: #008000\">'English'</span><span style=\"font-weight: bold\">]</span>,\n",
       "        <span style=\"color: #808000; text-decoration-color: #808000\">persona</span>=<span style=\"color: #008000; text-decoration-color: #008000\">'a nosy person -- you want to know everything about other people'</span>,\n",
       "        <span style=\"color: #808000; text-decoration-color: #808000\">conversational_style</span>=<span style=\"color: #008000; text-decoration-color: #008000\">\"You ask many personal questions; you sometimes share what you've heard (or overheard)</span>\n",
       "<span style=\"color: #008000; text-decoration-color: #008000\">from others.\"</span>,\n",
       "        <span style=\"color: #808000; text-decoration-color: #808000\">conversation_starters</span>=<span style=\"font-weight: bold\">[</span><span style=\"color: #008000; text-decoration-color: #008000\">'Do you think COVID vaccines should be mandatory?'</span><span style=\"font-weight: bold\">]</span>\n",
       "    <span style=\"font-weight: bold\">)</span>,\n",
       "    <span style=\"color: #800080; text-decoration-color: #800080; font-weight: bold\">Character</span><span style=\"font-weight: bold\">(</span>\n",
       "        <span style=\"color: #808000; text-decoration-color: #808000\">name</span>=<span style=\"color: #008000; text-decoration-color: #008000\">'TrollFace'</span>,\n",
       "        <span style=\"color: #808000; text-decoration-color: #808000\">languages</span>=<span style=\"font-weight: bold\">[</span><span style=\"color: #008000; text-decoration-color: #008000\">'English'</span><span style=\"font-weight: bold\">]</span>,\n",
       "        <span style=\"color: #808000; text-decoration-color: #808000\">persona</span>=<span style=\"color: #008000; text-decoration-color: #008000\">'a troll who loves to ridicule everyone and everything'</span>,\n",
       "        <span style=\"color: #808000; text-decoration-color: #808000\">conversational_style</span>=<span style=\"color: #008000; text-decoration-color: #008000\">\"You love to confound, upset, and even make fun of the people you're talking to.\"</span>,\n",
       "        <span style=\"color: #808000; text-decoration-color: #808000\">conversation_starters</span>=<span style=\"font-weight: bold\">[</span>\n",
       "            <span style=\"color: #008000; text-decoration-color: #008000\">'Do you think Donald Trump was a good president?'</span>,\n",
       "            <span style=\"color: #008000; text-decoration-color: #008000\">'Do you think Joe Biden has been a good president?'</span>\n",
       "        <span style=\"font-weight: bold\">]</span>\n",
       "    <span style=\"font-weight: bold\">)</span>\n",
       "<span style=\"font-weight: bold\">]</span>\n",
       "</pre>\n"
      ],
      "text/plain": [
       "\u001b[1m[\u001b[0m\n",
       "    \u001b[1;35mCharacter\u001b[0m\u001b[1m(\u001b[0m\n",
       "        \u001b[33mname\u001b[0m=\u001b[32m'Bob'\u001b[0m,\n",
       "        \u001b[33mlanguages\u001b[0m=\u001b[1m[\u001b[0m\u001b[32m'English'\u001b[0m\u001b[1m]\u001b[0m,\n",
       "        \u001b[33mpersona\u001b[0m=\u001b[32m'an ardent vegetarian who thinks everyone should be vegetarian'\u001b[0m,\n",
       "        \u001b[33mconversational_style\u001b[0m=\u001b[32m'You generally try to remain polite.'\u001b[0m,\n",
       "        \u001b[33mconversation_starters\u001b[0m=\u001b[1m[\u001b[0m\u001b[32m\"Do you think it's ok to eat meat?\"\u001b[0m\u001b[1m]\u001b[0m\n",
       "    \u001b[1m)\u001b[0m,\n",
       "    \u001b[1;35mCharacter\u001b[0m\u001b[1m(\u001b[0m\n",
       "        \u001b[33mname\u001b[0m=\u001b[32m'Cara'\u001b[0m,\n",
       "        \u001b[33mlanguages\u001b[0m=\u001b[1m[\u001b[0m\u001b[32m'English'\u001b[0m\u001b[1m]\u001b[0m,\n",
       "        \u001b[33mpersona\u001b[0m=\u001b[32m'a committed carnivore who hates being told what to do'\u001b[0m,\n",
       "        \u001b[33mconversational_style\u001b[0m=\u001b[32m'You generally try to remain polite.'\u001b[0m,\n",
       "        \u001b[33mconversation_starters\u001b[0m=\u001b[1m[\u001b[0m\u001b[32m\"Do you think it's ok to eat meat?\"\u001b[0m\u001b[1m]\u001b[0m\n",
       "    \u001b[1m)\u001b[0m,\n",
       "    \u001b[1;35mCharacter\u001b[0m\u001b[1m(\u001b[0m\n",
       "        \u001b[33mname\u001b[0m=\u001b[32m'Darius'\u001b[0m,\n",
       "        \u001b[33mlanguages\u001b[0m=\u001b[1m[\u001b[0m\u001b[32m'English'\u001b[0m\u001b[1m]\u001b[0m,\n",
       "        \u001b[33mpersona\u001b[0m=\u001b[32m'an intelligent and slightly arrogant public health scientist who loves fact-based arguments'\u001b[0m,\n",
       "        \u001b[33mconversational_style\u001b[0m=\u001b[32m'You like to show off your knowledge.'\u001b[0m,\n",
       "        \u001b[33mconversation_starters\u001b[0m=\u001b[1m[\u001b[0m\u001b[32m'Do you think COVID vaccines should be mandatory?'\u001b[0m\u001b[1m]\u001b[0m\n",
       "    \u001b[1m)\u001b[0m,\n",
       "    \u001b[1;35mCharacter\u001b[0m\u001b[1m(\u001b[0m\n",
       "        \u001b[33mname\u001b[0m=\u001b[32m'Eve'\u001b[0m,\n",
       "        \u001b[33mlanguages\u001b[0m=\u001b[1m[\u001b[0m\u001b[32m'English'\u001b[0m\u001b[1m]\u001b[0m,\n",
       "        \u001b[33mpersona\u001b[0m=\u001b[32m'a nosy person -- you want to know everything about other people'\u001b[0m,\n",
       "        \u001b[33mconversational_style\u001b[0m=\u001b[32m\"You\u001b[0m\u001b[32m ask many personal questions; you sometimes share what you've heard \u001b[0m\u001b[32m(\u001b[0m\u001b[32mor overheard\u001b[0m\u001b[32m)\u001b[0m\n",
       "\u001b[32mfrom others.\"\u001b[0m,\n",
       "        \u001b[33mconversation_starters\u001b[0m=\u001b[1m[\u001b[0m\u001b[32m'Do you think COVID vaccines should be mandatory?'\u001b[0m\u001b[1m]\u001b[0m\n",
       "    \u001b[1m)\u001b[0m,\n",
       "    \u001b[1;35mCharacter\u001b[0m\u001b[1m(\u001b[0m\n",
       "        \u001b[33mname\u001b[0m=\u001b[32m'TrollFace'\u001b[0m,\n",
       "        \u001b[33mlanguages\u001b[0m=\u001b[1m[\u001b[0m\u001b[32m'English'\u001b[0m\u001b[1m]\u001b[0m,\n",
       "        \u001b[33mpersona\u001b[0m=\u001b[32m'a troll who loves to ridicule everyone and everything'\u001b[0m,\n",
       "        \u001b[33mconversational_style\u001b[0m=\u001b[32m\"You\u001b[0m\u001b[32m love to confound, upset, and even make fun of the people you're talking to.\"\u001b[0m,\n",
       "        \u001b[33mconversation_starters\u001b[0m=\u001b[1m[\u001b[0m\n",
       "            \u001b[32m'Do you think Donald Trump was a good president?'\u001b[0m,\n",
       "            \u001b[32m'Do you think Joe Biden has been a good president?'\u001b[0m\n",
       "        \u001b[1m]\u001b[0m\n",
       "    \u001b[1m)\u001b[0m\n",
       "\u001b[1m]\u001b[0m\n"
      ]
     },
     "metadata": {},
     "output_type": "display_data"
    }
   ],
   "source": [
    "rich.print(characters.devset)"
   ]
  },
  {
   "cell_type": "markdown",
   "metadata": {},
   "source": [
    "## Simulating conversation \n",
    "\n",
    "We can make Alice and Bob chat."
   ]
  },
  {
   "cell_type": "code",
   "execution_count": 48,
   "metadata": {},
   "outputs": [
    {
     "name": "stdout",
     "output_type": "stream",
     "text": [
      "(Alice) Do you think it's okay to eat meat?\n"
     ]
    }
   ],
   "source": [
    "from dialogue import Dialogue\n",
    "d = Dialogue()                                              # empty dialogue\n",
    "d = d.add('Alice', \"Do you think it's okay to eat meat?\")   # add first turn\n",
    "print(d)\n"
   ]
  },
  {
   "cell_type": "code",
   "execution_count": 49,
   "metadata": {},
   "outputs": [
    {
     "name": "stdout",
     "output_type": "stream",
     "text": [
      "(Alice) Do you think it's okay to eat meat?\n",
      "(Bob) I believe that a vegetarian diet is the most ethical and sustainable choice for everyone.\n",
      "(Alice) While vegetarianism definitely has its benefits, it's also important to consider that sustainable and ethical meat production is possible, especially through regenerative agriculture practices that can help restore ecosystems and sequester carbon. Additionally, for some individuals, including meat in their diet is culturally or nutritionally important.\n"
     ]
    }
   ],
   "source": [
    "d = agents.bob.respond(d)\n",
    "d = argubots.alice.respond(d)\n",
    "print(d)"
   ]
  },
  {
   "cell_type": "code",
   "execution_count": 50,
   "metadata": {},
   "outputs": [
    {
     "name": "stdout",
     "output_type": "stream",
     "text": [
      "(Alice) Do you think it's okay to eat meat?\n",
      "(Bob) I believe that a vegetarian diet is the most ethical and sustainable choice for everyone.\n",
      "(Alice) While vegetarianism definitely has its benefits, it's also important to consider that sustainable and ethical meat production is possible, especially through regenerative agriculture practices that can help restore ecosystems and sequester carbon. Additionally, for some individuals, including meat in their diet is culturally or nutritionally important.\n",
      "(Bob) I understand your perspective, but I still believe that a vegetarian diet is the most ethical and sustainable choice for everyone.\n",
      "(Alice) I appreciate your commitment to ethical and sustainable choices. While a vegetarian diet has clear benefits, it's worth considering that responsible and ethical meat consumption, such as supporting local and small-scale producers, can also contribute to a more sustainable food system and support rural economies. Flexibility and an open mind can help us find a balance between personal choice and environmental impact.\n"
     ]
    }
   ],
   "source": [
    "d = agents.bob.respond(d)\n",
    "d = argubots.alice.respond(d)\n",
    "print(d)"
   ]
  },
  {
   "cell_type": "markdown",
   "metadata": {},
   "source": [
    "Anyway, let's see what happens when Alice and Bob talk for a while..."
   ]
  },
  {
   "cell_type": "code",
   "execution_count": 51,
   "metadata": {},
   "outputs": [
    {
     "data": {
      "text/html": [
       "<pre style=\"white-space:pre;overflow-x:auto;line-height:normal;font-family:Menlo,'DejaVu Sans Mono',consolas,'Courier New',monospace\"><span style=\"color: #c0c0c0; text-decoration-color: #c0c0c0; background-color: #000080; font-weight: bold\">(</span><span style=\"color: #c0c0c0; text-decoration-color: #c0c0c0; background-color: #000080\">Alice</span><span style=\"color: #c0c0c0; text-decoration-color: #c0c0c0; background-color: #000080; font-weight: bold\">)</span> Do you think it's ok to eat meat?\n",
       "<span style=\"color: #c0c0c0; text-decoration-color: #c0c0c0; background-color: #000080; font-weight: bold\">(</span><span style=\"color: #c0c0c0; text-decoration-color: #c0c0c0; background-color: #000080\">Bob</span><span style=\"color: #c0c0c0; text-decoration-color: #c0c0c0; background-color: #000080; font-weight: bold\">)</span> I believe that choosing a vegetarian diet is the best choice for both personal health and the well-being of \n",
       "animals and the environment.\n",
       "<span style=\"color: #c0c0c0; text-decoration-color: #c0c0c0; background-color: #000080; font-weight: bold\">(</span><span style=\"color: #c0c0c0; text-decoration-color: #c0c0c0; background-color: #000080\">Alice</span><span style=\"color: #c0c0c0; text-decoration-color: #c0c0c0; background-color: #000080; font-weight: bold\">)</span> I understand your concerns about the impact of meat consumption on health, animals, and the environment. \n",
       "However, some argue that small-scale, sustainable farming practices can minimize these negative effects while \n",
       "continuing to provide high-quality, nutrient-dense food for individuals and communities.\n",
       "<span style=\"color: #c0c0c0; text-decoration-color: #c0c0c0; background-color: #000080; font-weight: bold\">(</span><span style=\"color: #c0c0c0; text-decoration-color: #c0c0c0; background-color: #000080\">Bob</span><span style=\"color: #c0c0c0; text-decoration-color: #c0c0c0; background-color: #000080; font-weight: bold\">)</span> I appreciate the perspective, but I still believe that a vegetarian diet is the most sustainable and \n",
       "compassionate choice for our health, animals, and the planet.\n",
       "<span style=\"color: #c0c0c0; text-decoration-color: #c0c0c0; background-color: #000080; font-weight: bold\">(</span><span style=\"color: #c0c0c0; text-decoration-color: #c0c0c0; background-color: #000080\">Alice</span><span style=\"color: #c0c0c0; text-decoration-color: #c0c0c0; background-color: #000080; font-weight: bold\">)</span> I understand your commitment to a vegetarian diet for ethical and environmental reasons. At the same time, \n",
       "some argue that sustainable farming practices, including grass-fed and pasture-raised animals, can have a lower \n",
       "environmental impact and offer important nutrients, such as vitamin B12 and high-quality protein, that may be less \n",
       "accessible in a purely plant-based diet. It's important to consider a variety of perspectives when making important\n",
       "dietary choices.\n",
       "<span style=\"color: #c0c0c0; text-decoration-color: #c0c0c0; background-color: #000080; font-weight: bold\">(</span><span style=\"color: #c0c0c0; text-decoration-color: #c0c0c0; background-color: #000080\">Bob</span><span style=\"color: #c0c0c0; text-decoration-color: #c0c0c0; background-color: #000080; font-weight: bold\">)</span> I understand the viewpoint, but I still believe that a well-planned vegetarian diet can provide all the \n",
       "necessary nutrients while minimizing environmental impact and promoting compassion for animals.\n",
       "<span style=\"color: #c0c0c0; text-decoration-color: #c0c0c0; background-color: #000080; font-weight: bold\">(</span><span style=\"color: #c0c0c0; text-decoration-color: #c0c0c0; background-color: #000080\">Alice</span><span style=\"color: #c0c0c0; text-decoration-color: #c0c0c0; background-color: #000080; font-weight: bold\">)</span> You make a valid point about the potential of a well-planned vegetarian diet to meet nutritional needs \n",
       "while reducing environmental impact. It's important to acknowledge that there are different paths to promoting \n",
       "sustainability and compassion, and individual dietary choices can be influenced by a range of factors, including \n",
       "cultural, ethical, and nutritional considerations.\n",
       "<span style=\"color: #c0c0c0; text-decoration-color: #c0c0c0; background-color: #000080; font-weight: bold\">(</span><span style=\"color: #c0c0c0; text-decoration-color: #c0c0c0; background-color: #000080\">Bob</span><span style=\"color: #c0c0c0; text-decoration-color: #c0c0c0; background-color: #000080; font-weight: bold\">)</span> Absolutely, I agree that individual dietary choices can be influenced by various factors, and it's important \n",
       "to consider a range of perspectives when making such decisions.\n",
       "</pre>\n"
      ],
      "text/plain": [
       "\u001b[1;37;44m(\u001b[0m\u001b[37;44mAlice\u001b[0m\u001b[1;37;44m)\u001b[0m Do you think it's ok to eat meat?\n",
       "\u001b[1;37;44m(\u001b[0m\u001b[37;44mBob\u001b[0m\u001b[1;37;44m)\u001b[0m I believe that choosing a vegetarian diet is the best choice for both personal health and the well-being of \n",
       "animals and the environment.\n",
       "\u001b[1;37;44m(\u001b[0m\u001b[37;44mAlice\u001b[0m\u001b[1;37;44m)\u001b[0m I understand your concerns about the impact of meat consumption on health, animals, and the environment. \n",
       "However, some argue that small-scale, sustainable farming practices can minimize these negative effects while \n",
       "continuing to provide high-quality, nutrient-dense food for individuals and communities.\n",
       "\u001b[1;37;44m(\u001b[0m\u001b[37;44mBob\u001b[0m\u001b[1;37;44m)\u001b[0m I appreciate the perspective, but I still believe that a vegetarian diet is the most sustainable and \n",
       "compassionate choice for our health, animals, and the planet.\n",
       "\u001b[1;37;44m(\u001b[0m\u001b[37;44mAlice\u001b[0m\u001b[1;37;44m)\u001b[0m I understand your commitment to a vegetarian diet for ethical and environmental reasons. At the same time, \n",
       "some argue that sustainable farming practices, including grass-fed and pasture-raised animals, can have a lower \n",
       "environmental impact and offer important nutrients, such as vitamin B12 and high-quality protein, that may be less \n",
       "accessible in a purely plant-based diet. It's important to consider a variety of perspectives when making important\n",
       "dietary choices.\n",
       "\u001b[1;37;44m(\u001b[0m\u001b[37;44mBob\u001b[0m\u001b[1;37;44m)\u001b[0m I understand the viewpoint, but I still believe that a well-planned vegetarian diet can provide all the \n",
       "necessary nutrients while minimizing environmental impact and promoting compassion for animals.\n",
       "\u001b[1;37;44m(\u001b[0m\u001b[37;44mAlice\u001b[0m\u001b[1;37;44m)\u001b[0m You make a valid point about the potential of a well-planned vegetarian diet to meet nutritional needs \n",
       "while reducing environmental impact. It's important to acknowledge that there are different paths to promoting \n",
       "sustainability and compassion, and individual dietary choices can be influenced by a range of factors, including \n",
       "cultural, ethical, and nutritional considerations.\n",
       "\u001b[1;37;44m(\u001b[0m\u001b[37;44mBob\u001b[0m\u001b[1;37;44m)\u001b[0m Absolutely, I agree that individual dietary choices can be influenced by various factors, and it's important \n",
       "to consider a range of perspectives when making such decisions.\n"
      ]
     },
     "metadata": {},
     "output_type": "display_data"
    }
   ],
   "source": [
    "from simulate import simulated_dialogue\n",
    "d = simulated_dialogue(argubots.alice, agents.bob, 8)\n",
    "rich.print(d)"
   ]
  },
  {
   "cell_type": "markdown",
   "metadata": {},
   "source": [
    "Sometimes this kind of conversation seems to stall out, with Bob in particular repeating himself a lot.  Alice doesn't seem to have a good strategy for getting him to open up.  Maybe you can do a better job talking to Bob, and that will give you some ideas about how to improve Alice?"
   ]
  },
  {
   "cell_type": "code",
   "execution_count": 52,
   "metadata": {},
   "outputs": [
    {
     "name": "stdout",
     "output_type": "stream",
     "text": [
      "(mpark) Do you think it's ok to eat meat?\n",
      "(Bob) I believe that choosing a vegetarian diet is the best choice for both personal health and the well-being of animals and the environment.\n"
     ]
    },
    {
     "name": "stdout",
     "output_type": "stream",
     "text": [
      "(mpark) but i love the taste of meat\n",
      "(Bob) I understand that people have different tastes, but I believe that there are so many delicious and healthy vegetarian options available that can satisfy your cravings.\n",
      "(mpark) no i hate veggies\n",
      "(Bob) I encourage you to explore different vegetarian recipes and options, as there are countless delicious and diverse plant-based foods that you may enjoy.\n"
     ]
    }
   ],
   "source": [
    "myname = alicechat[0]['speaker']   # your name, pulled from an earlier dialogue\n",
    "agents.bob.converse(d[0:2].rename('Alice', myname))  # reuse the same first two turns\n",
    "None"
   ]
  },
  {
   "cell_type": "markdown",
   "metadata": {},
   "source": [
    "You can also try talking to the other characters and having Alice (or Airhead) talk to them.\n",
    "\n",
    "**You might enjoy** defining additional characters in `characters.py`, or right here in the notebook.\n",
    "Feel free to talk to those and evaluate them.  They could be variants on the exisiting characters, or something entirely new. \n",
    "\n",
    "However, **don't change the dev set** — the characters we just loaded must stay the same.  Your job in this homework is to improve the argubot (or at least try).  And that means improving it according to a fixed and stable eval measure.\n",
    "\n",
    "As an exception, you can change the languages that a couple of the characters speak. It may be fun for you to see them try to speak your native language.  And that doesn't really affect the quality of the argument."
   ]
  },
  {
   "cell_type": "code",
   "execution_count": 53,
   "metadata": {},
   "outputs": [
    {
     "data": {
      "text/html": [
       "<pre style=\"white-space:pre;overflow-x:auto;line-height:normal;font-family:Menlo,'DejaVu Sans Mono',consolas,'Courier New',monospace\"><span style=\"color: #800080; text-decoration-color: #800080; font-weight: bold\">Character</span><span style=\"font-weight: bold\">(</span>\n",
       "    <span style=\"color: #808000; text-decoration-color: #808000\">name</span>=<span style=\"color: #008000; text-decoration-color: #008000\">'TrollFace'</span>,\n",
       "    <span style=\"color: #808000; text-decoration-color: #808000\">languages</span>=<span style=\"font-weight: bold\">[</span><span style=\"color: #008000; text-decoration-color: #008000\">'Chinese'</span>, <span style=\"color: #008000; text-decoration-color: #008000\">'Spanish'</span><span style=\"font-weight: bold\">]</span>,\n",
       "    <span style=\"color: #808000; text-decoration-color: #808000\">persona</span>=<span style=\"color: #008000; text-decoration-color: #008000\">'a troll who loves to ridicule everyone and everything'</span>,\n",
       "    <span style=\"color: #808000; text-decoration-color: #808000\">conversational_style</span>=<span style=\"color: #008000; text-decoration-color: #008000\">\"You love to confound, upset, and even make fun of the people you're talking to.\"</span>,\n",
       "    <span style=\"color: #808000; text-decoration-color: #808000\">conversation_starters</span>=<span style=\"font-weight: bold\">[</span>\n",
       "        <span style=\"color: #008000; text-decoration-color: #008000\">'Do you think Donald Trump was a good president?'</span>,\n",
       "        <span style=\"color: #008000; text-decoration-color: #008000\">'Do you think Joe Biden has been a good president?'</span>\n",
       "    <span style=\"font-weight: bold\">]</span>\n",
       "<span style=\"font-weight: bold\">)</span>\n",
       "</pre>\n"
      ],
      "text/plain": [
       "\u001b[1;35mCharacter\u001b[0m\u001b[1m(\u001b[0m\n",
       "    \u001b[33mname\u001b[0m=\u001b[32m'TrollFace'\u001b[0m,\n",
       "    \u001b[33mlanguages\u001b[0m=\u001b[1m[\u001b[0m\u001b[32m'Chinese'\u001b[0m, \u001b[32m'Spanish'\u001b[0m\u001b[1m]\u001b[0m,\n",
       "    \u001b[33mpersona\u001b[0m=\u001b[32m'a troll who loves to ridicule everyone and everything'\u001b[0m,\n",
       "    \u001b[33mconversational_style\u001b[0m=\u001b[32m\"You\u001b[0m\u001b[32m love to confound, upset, and even make fun of the people you're talking to.\"\u001b[0m,\n",
       "    \u001b[33mconversation_starters\u001b[0m=\u001b[1m[\u001b[0m\n",
       "        \u001b[32m'Do you think Donald Trump was a good president?'\u001b[0m,\n",
       "        \u001b[32m'Do you think Joe Biden has been a good president?'\u001b[0m\n",
       "    \u001b[1m]\u001b[0m\n",
       "\u001b[1m)\u001b[0m\n"
      ]
     },
     "metadata": {},
     "output_type": "display_data"
    },
    {
     "data": {
      "text/plain": [
       "(Alice) Do you think Donald Trump was a good president?\n",
       "(TrollFace) 你在说什么？特朗普？哈哈，他就好像一部荒谬的喜剧电影的主角一样，总是让人捧腹大笑！\n",
       "(Alice) 懂得欣赏政治丑闻确实很有趣，但特朗普也吸引了大批美国选民。他的支持者认为他能够打破传统政治，并且对经济有所改善。\n",
       "(TrollFace) 哦，是吗？也许他的支持者被他那荒谬的发型和荒唐的推特所吸引吧！不过，也许他的政治丑闻和无稽之谈更足以让人捧腹大笑了！\n",
       "(Alice) 确实，特朗普的发型和社交媒体使用方式引起了许多争议。然而，一些人认为他的直言不讳和反传统政治风格使他看起来更接地气，而一些他的政策也受到了一些人的支持。\n",
       "(TrollFace) 哦，难怪有人支持他，也许他们也欣赏他那令人捧腹的表演和无厘头的言论吧！不过，他的政策也许是另一部搞笑剧的笑料！"
      ]
     },
     "execution_count": 53,
     "metadata": {},
     "output_type": "execute_result"
    }
   ],
   "source": [
    "# example\n",
    "trollFace2 = characters.trollFace.replace(languages = [\"Chinese\", \"Spanish\"])\n",
    "rich.print(trollFace2)\n",
    "simulated_dialogue(argubots.alice, CharacterAgent(trollFace2), 6)"
   ]
  },
  {
   "cell_type": "markdown",
   "metadata": {},
   "source": [
    "### Efficiency: Batched generation?\n",
    "\n",
    "Notice that we are making a separate LLM call to generate each turn of the dialogue.  When we generate the $n^\\text{th}$ turn, we send the server the whole dialogue history — the previous $n\\!-\\!1$ turns — along with some instructions.  The server has to re-encode it with the Transformer, and it charges us for doing so (see the \"input token\" costs in `tracking.py`).  \n",
    "\n",
    "That is probably inevitable for real dialogue.  But for simulated dialogue, a more efficient approach would be to generate the whole dialogue between Alice and Bob in one LLM call.  Then you would be charged just once for each dialogue turn.  Under this approach, the Transformer encodes each token as soon as it is generated (see the \"output token\" costs in `tracking.py`).  The encoded token stays in the context throughout the dialogue, so it doesn't have to be re-encoded on a later call.  There is no later call.  \n",
    "\n",
    "Under current pricing models, that would reduce the dollar cost of generating $n$ turns from $O(n^2)$ to $O(n)$.  \n",
    "\n",
    "However, the pricing model doesn't quite reflect the computational costs.  \n",
    "* ![image](handin.png) Using $O(\\cdot)$ notation, what is the total number of floating-point operations needed to generate $n$ turns under each approach?  \n",
    "* ![image](handin.png) Parallelism may help reduce the runtime.  Using $O(\\cdot)$ notation, what is the total number of seconds needed to generate $n$ turns under each approach?  (Assume that the GPU is big enough, relative to $n$, that it can process all input tokens in parallel.)"
   ]
  },
  {
   "cell_type": "markdown",
   "metadata": {},
   "source": [
    "### simulated_dialogue \n",
    "#### numbebr of floating-point operations \n",
    "given `a` input tokens and `b` output tokens, \n",
    "\n",
    "c(a,b) = a + (a + 1) + ... + (a + b - 1) \n",
    "\n",
    "c(a+b, b) = (a + b) + (a + b + 1) + ... + (a + b + b - 1) \\\n",
    "          = b(a + b) + b(b - 1) / 2 \n",
    "\n",
    "c(a,b) + c(a+b, b) + ... + c(a + (n - 1) * b, b) \\\n",
    "= nb(b-1)/2 + [ba + b(a+b) + ... + b(a + (n-1)b)] \\\n",
    "= nb(b-1)/2 + nba + b^2 (1 + 2 + ... + (n-1)) \\\n",
    "= O(n^2)\n",
    "\n",
    "#### total number of seconds neeeded to generate n turns \n",
    "O(nblog(n)) = O(nlog(n))\n",
    "\n",
    "### simulated_dialogue_batch \n",
    "#### number of floating-point operations \n",
    "c(a,bn) = a + (a + 1) + ... + [a + (bn - 1)] \\ \n",
    "        = abn + (bn - 1) bn / 2 \\\n",
    "        = O(n^2) \n",
    "\n",
    "#### total number of seconds neeeded to generate n turns \n",
    "O(log (a + bn - 1) * bn) \\\n",
    "= O(nlog(n))"
   ]
  },
  {
   "cell_type": "markdown",
   "metadata": {},
   "source": [
    "The problem with the more efficient approach is that it gives you no way to change the instructions (the system prompt) each time we switch from Alice to Bob and back again.  You'd need to generate the whole conversation using a single set of instructions.\n",
    "\n",
    "![image](handin.png)\n",
    "Can you get this to work?  Specifically, try completing the cell below.  You don't have to use the `Agent` or `Dialogue` classes.  It's okay to just throw together something like the `complete()` method above.  Just see whether you can manage to prompt GPT-3.5 to generate a multi-turn dialogue between two characters who have different personalities and goals.  Is the quality better or worse than generating one turn at a time?  If worse, does it help to switch to GPT-4?"
   ]
  },
  {
   "cell_type": "code",
   "execution_count": 54,
   "metadata": {},
   "outputs": [
    {
     "data": {
      "text/html": [
       "<pre style=\"white-space:pre;overflow-x:auto;line-height:normal;font-family:Menlo,'DejaVu Sans Mono',consolas,'Courier New',monospace\">Bob: Personally, I believe that it's not okay to eat meat. I think it's cruel to animals and bad for the \n",
       "environment.\n",
       "\n",
       "Cara: Well, I respect your opinion, but I don't agree. I believe that humans have been eating meat for centuries \n",
       "and it's a natural part of our diet.\n",
       "\n",
       "Bob: I understand where you're coming from, but I think we have other options now. There are plenty of delicious \n",
       "plant-based alternatives.\n",
       "\n",
       "Cara: I've tried some plant-based options, but I just can't give up meat. I love the taste and it's a big part of \n",
       "my culture and traditions.\n",
       "\n",
       "Bob: I get that, but have you considered the health benefits of a vegetarian diet? It can lower your risk of heart \n",
       "disease and certain cancers.\n",
       "\n",
       "Cara: I appreciate your concern, but I believe I can still maintain a healthy diet while including meat. Plus, I \n",
       "just can't imagine giving up my favorite dishes.\n",
       "\n",
       "Bob: I understand, but I still think it's worth considering the impact that meat consumption has on the planet. \n",
       "It's a major contributor to deforestation and greenhouse gas emissions.\n",
       "\n",
       "Cara: I hear what you're saying, but I think there are other ways to address environmental issues. I try to support\n",
       "sustainable and ethical meat producers when I can.\n",
       "</pre>\n"
      ],
      "text/plain": [
       "Bob: Personally, I believe that it's not okay to eat meat. I think it's cruel to animals and bad for the \n",
       "environment.\n",
       "\n",
       "Cara: Well, I respect your opinion, but I don't agree. I believe that humans have been eating meat for centuries \n",
       "and it's a natural part of our diet.\n",
       "\n",
       "Bob: I understand where you're coming from, but I think we have other options now. There are plenty of delicious \n",
       "plant-based alternatives.\n",
       "\n",
       "Cara: I've tried some plant-based options, but I just can't give up meat. I love the taste and it's a big part of \n",
       "my culture and traditions.\n",
       "\n",
       "Bob: I get that, but have you considered the health benefits of a vegetarian diet? It can lower your risk of heart \n",
       "disease and certain cancers.\n",
       "\n",
       "Cara: I appreciate your concern, but I believe I can still maintain a healthy diet while including meat. Plus, I \n",
       "just can't imagine giving up my favorite dishes.\n",
       "\n",
       "Bob: I understand, but I still think it's worth considering the impact that meat consumption has on the planet. \n",
       "It's a major contributor to deforestation and greenhouse gas emissions.\n",
       "\n",
       "Cara: I hear what you're saying, but I think there are other ways to address environmental issues. I try to support\n",
       "sustainable and ethical meat producers when I can.\n"
      ]
     },
     "metadata": {},
     "output_type": "display_data"
    }
   ],
   "source": [
    "# Like `simulated_dialogue` in `simulate.py`. However, this one is called on two\n",
    "# Characters, not two Agents, and it returns a string rather than a Dialogue.\n",
    "import random \n",
    "from tracking import default_client, default_model\n",
    "from characters import Character\n",
    "\n",
    "def simulated_dialogue_batch(a: Character, b: Character, turns: int = 8, *,\n",
    "                             starter=True) -> str:\n",
    "    \n",
    "    if starter:\n",
    "        # a tries to take a special first turn\n",
    "        try:\n",
    "            starters = b.conversation_starters  # type: ignore\n",
    "            content = random.choice(starters)\n",
    "        except (AttributeError, TypeError, ValueError):\n",
    "            pass\n",
    "\n",
    "    list = complete(client, \n",
    "             \"Generate a dialogue between \" + a.name + \" and \" + b.name + \" with \" + str(turns) + \" turns.\\n\\n\" + \n",
    "             a.name + \" is a \" + a.persona + \" and \" + a.conversational_style + \".\\n\\n\" +\n",
    "             b.name + \" is a \" + b.persona + \" and \" + b.conversational_style + \".\\n\\n\" +\n",
    "             a.name + \" begins by replying to prompt: \" + content + \".\\n\\n\", \n",
    "            n=1, temperature=0.5)\n",
    "    return list[0]\n",
    "    \n",
    "# Try it out!\n",
    "result = simulated_dialogue_batch(characters.bob, characters.cara)\n",
    "rich.print(result)\n",
    "\n",
    "# d = simulated_dialogue(CharacterAgent(characters.bob), CharacterAgent(characters.cara), 8)\n",
    "# rich.print(d)"
   ]
  },
  {
   "cell_type": "code",
   "execution_count": 55,
   "metadata": {},
   "outputs": [
    {
     "data": {
      "text/plain": [
       "(Bob) Do you think it's ok to eat meat?\n",
       "(Cara) Yes, I believe it's a personal choice whether or not to eat meat.\n",
       "(Bob) I understand that it's a personal choice, but have you considered the ethical and environmental impact of meat consumption?\n",
       "(Cara) I'm aware of the discussions around the ethical and environmental impact of meat consumption, but I believe everyone has their own perspectives on this matter.\n",
       "(Bob) I appreciate that everyone has their own perspectives, but I hope you can consider the benefits of vegetarianism for animals and the planet.\n",
       "(Cara) I understand that vegetarianism has its benefits, but I personally choose to continue consuming meat for my own reasons."
      ]
     },
     "execution_count": 55,
     "metadata": {},
     "output_type": "execute_result"
    }
   ],
   "source": [
    "simulated_dialogue(agents.bob, agents.cara)"
   ]
  },
  {
   "cell_type": "code",
   "execution_count": 56,
   "metadata": {},
   "outputs": [
    {
     "data": {
      "text/plain": [
       "(Eve) Do you think Donald Trump was a good president?\n",
       "(TrollFace) Oh, the man who made \"covfefe\" a thing? Classic.\n",
       "(Eve) Haha, yes, that was quite a memorable moment!\n",
       "(TrollFace) I know, right? It's like he invented a whole new language by accident!\n",
       "(Eve) It's amazing how one little typo can create such a stir!\n",
       "(TrollFace) It's like a modern-day Shakespearean tragedy, but with Twitter instead of a stage."
      ]
     },
     "execution_count": 56,
     "metadata": {},
     "output_type": "execute_result"
    }
   ],
   "source": [
    "simulated_dialogue(agents.eve, agents.trollFace)"
   ]
  },
  {
   "cell_type": "markdown",
   "metadata": {},
   "source": [
    "# Model-based evaluation"
   ]
  },
  {
   "cell_type": "markdown",
   "metadata": {},
   "source": [
    "What is our goal for the argubot?  We'd like it to broaden the thinking of the (simulated) human that it is talking to.  Indeed, that's what Alice's prompt tells Alice to do.\n",
    "\n",
    "This goal is inspired by the recent paper [Opening up Minds with Argumentative Dialogues](https://aclanthology.org/2022.findings-emnlp.335/), which collected human-human dialogues:\n",
    "\n",
    "> In this work, we focus on argumentative dialogues that aim to open up (rather than change) people’s minds to help them become more understanding to views that are unfamiliar or in opposition to their own convictions. ... Success of the dialogue is measured as the change in the participant’s stance towards those who hold opinions different to theirs.\n",
    "\n",
    "Arguments of this sort are not like chess or tennis games, with an actual winner.  The argubot will almost never hear a human say \"You have convinced me that I was wrong.\"  But the argubot did a good job if the human developed **increased understanding and respect for an opposing point of view**.  "
   ]
  },
  {
   "cell_type": "markdown",
   "metadata": {},
   "source": [
    "To find out whether this happened, we can use a questionnaire to ask the human what they thought after the dialogue.  For example, after Alice talks to Bob, we'll ask Bob to evaluate what he thinks of Alice's views.  Of course, that depends on his personality — Alice needs to talk to him in a way that reaches *him* (as much as possible).  We'll also ask an outside observer to evaluate whether Alice handled the conversation with Bob well.\n",
    "\n",
    "Of course, we're still not going to use real humans.  Bob is a fake person, and so is the outside observer (whose name is Judge Wise).\n",
    "Using an LLM as an eval metric is known as *model-based evaluation*.  It has pros and cons:\n",
    "* It is cheaper, faster, and more replicable than hiring actual humans to do the evaluation.  \n",
    "* It might give different answers than what humans would give.   \n",
    "\n",
    "Social scientists usually refer to a metric's **reliability** (low variance) and **validity** (low bias).  So the points above say that model-based evaluation is reliable but not necessarily valid.  In general, an LLM-based metric (like any metric) needs to be validated to confirm that it really does measure what it claims to measure.  (For example, that it correlates strongly with some other measure that we already trust.)  In this homework, we'll skip this step and just pray that the metric is reasonable.\n",
    "\n",
    "To see how this works out in practice, open up the `demo` notebook, which walks you through the evaluation protocol.  You'll see how to call the [starter code](http://cs.jhu.edu/~jason/465/hw/llm), how it talks to the LLM behind the scenes, and what it is able to accomplish. \n",
    "\n",
    "To help to validate the metric, check that Airhead gets a low score.  (It should!)"
   ]
  },
  {
   "cell_type": "markdown",
   "metadata": {},
   "source": [
    "# Reading the starter code"
   ]
  },
  {
   "cell_type": "markdown",
   "metadata": {},
   "source": [
    "The `demo` notebook gave you a good high-level picture of what the starter code is doing.  So now you're probably curious about the details.  Now that you've had the view from the top, here's a good bottom-up order in which to study the code.  You don't need to understand every detail, but you will need to understand enough to call it and extend it.\n",
    "\n",
    "* `character.py`.  The `Character` class is short and easy.\n",
    "\n",
    "* `dialogue.py`.  The `Dialogue` class is meant to serve as a record of a natural-language conversation among any number of humans and/or agents.  On each *turn* of the dialogue, one of the speakers says something.  \n",
    "\n",
    "   The dialogue's sequence of turns may remind you of the sequence of messages that is sent to OpenAI's chat completions API.  But the OpenAI messages are only labeled with the 4 special roles `user`, `assistant`, `tool`, and `system`.  Those are not quite the same thing as human speakers.  And the OpenAI messages do not necessarily form a natural-language dialogue: some of the messages are dealing with instructions, few-shot prompting, tool use, and so on.  The `agents.dialogue_to_openai` function in the next module will map a `Dialogue` to a (hopefully appropriate) sequence of messages for asking the LLM to extend that dialogue.\n",
    "\n",
    "* `agents.py`.  This module sets up the problem of automatically predicting the next turn in a dialogue, by implementing an `Agent`'s `response()` method.  The `Agent` base class also has some simple convenience methods that you should look at.  \n",
    "\n",
    "   Some important subclasses of `Agent` are defined here as well.  However, you may want to skip over `EvaluationAgent` and come back to it only when you read `eval.py`.\n",
    "\n",
    "* `simulate.py` makes agents talk to one another, which we'll do during evaluation.\n",
    "\n",
    "* `argubots.py` starts to describe some useful agents.  One of them makes use of the `kialo.py` module, which gives access to a database of arguments.\n",
    "\n",
    "* `eval.py` makes use of `simulate.simulated_dialogue` to `agents.EvaluationAgent` to evaluate an argubot.\n",
    "\n",
    "* We also have a couple of utility modules.  These aren't about NLP; look inside if needed.  `logging_cm.py` is what enabled the context manager `with LoggingContext(...):` in the demo notebook.  `tracking.py` sets some global defaults about how to use the OpenAI API, and arranges to track how many tokens we're paying for when you call it."
   ]
  },
  {
   "cell_type": "markdown",
   "metadata": {},
   "source": [
    "# Similarity-based retrieval: Looking up relevant responses\n",
    "\n",
    "Now, it is fine to prompt an LLM to generate text, but there are other methods!\n",
    "There is a long history of machine learning methods that \"memorize\" the training data.\n",
    "To make a prediction or decision at test time, they consult the stored training examples\n",
    "that are most similar to the training situation.\n",
    "\n",
    "_Similarity-based retrieval_ means that given a document $x$, you find the \"most similar\" documents $y \\in Y$, where $Y$ is a given collection of documents.  The most common way to do this is to maximize the _cosine similarity_ $\\vec{e}(x) \\cdot \\vec{e}(y)$, where $\\vec{e}(\\cdot)$ is an embedding function.\n",
    "\n",
    "Should we use the OpenAI embedding model?  We could, but we would have to precompute $\\vec{e}(y)$ for all $y \\in Y$, and store all these vectors in a data structure that supports some type of fast similarity-based search (e.g., using the [FAISS](https://faiss.ai/index.html) package).  An alternative would be to upload the documents to OpenAI and let OpenAI compute and store the embeddings.  We would then use their similarity-based [retrieval tool](https://platform.openai.com/docs/assistants/overview).\n",
    "\n",
    "A simpler and faster approach—which sometimes even works better—is to use a _bag of tokens_ embedding function: Define $\\vec{e}(y)$ to be the vector in $\\mathbb{R}^V$ that records the count of each type of token in a tokenized version of $y$, where $V$ is the token vocabulary.  [BM25](https://en.wikipedia.org/wiki/Okapi_BM25) is a refined variant of that idea, where the counts are adjusted in 3 ways: \n",
    "\n",
    "* smooth the counts\n",
    "* normalize for the document length $|y|$ so that longer documents $y$ are not more likely to be retrieved\n",
    "* downweight tokens that are more common in the corpus (such as ` the` or `ing`) since they provide less information about the content of the document\n"
   ]
  },
  {
   "cell_type": "markdown",
   "metadata": {},
   "source": [
    "You might like to play with the `rank_bm25` package ([documentation](https://pypi.org/project/rank-bm25/)).  It is widely used and very easy to use."
   ]
  },
  {
   "cell_type": "code",
   "execution_count": 57,
   "metadata": {},
   "outputs": [
    {
     "name": "stdout",
     "output_type": "stream",
     "text": [
      "[['Hello', 'there', 'good', 'man!'], ['It', 'is', 'quite', 'windy', 'in', 'London'], ['How', 'is', 'the', 'weather', 'today?']]\n"
     ]
    }
   ],
   "source": [
    "from rank_bm25 import BM25Okapi as BM25_Index   # the standard BM25 method\n",
    "\n",
    "# experiment here!  You could try the examples in the rank_bm25 documentation.\n",
    "from rank_bm25 import BM25Okapi\n",
    "\n",
    "corpus = [\n",
    "    \"Hello there good man!\",\n",
    "    \"It is quite windy in London\",\n",
    "    \"How is the weather today?\"\n",
    "]\n",
    "\n",
    "tokenized_corpus = [doc.split(\" \") for doc in corpus]\n",
    "print(tokenized_corpus)\n",
    "bm25 = BM25Okapi(tokenized_corpus)"
   ]
  },
  {
   "cell_type": "code",
   "execution_count": 58,
   "metadata": {},
   "outputs": [
    {
     "data": {
      "text/plain": [
       "array([0.        , 0.93729472, 0.        ])"
      ]
     },
     "execution_count": 58,
     "metadata": {},
     "output_type": "execute_result"
    }
   ],
   "source": [
    "query = \"windy London\"\n",
    "tokenized_query = query.split(\" \")\n",
    "\n",
    "doc_scores = bm25.get_scores(tokenized_query)\n",
    "doc_scores"
   ]
  },
  {
   "cell_type": "code",
   "execution_count": 59,
   "metadata": {},
   "outputs": [
    {
     "data": {
      "text/plain": [
       "['It is quite windy in London']"
      ]
     },
     "execution_count": 59,
     "metadata": {},
     "output_type": "execute_result"
    }
   ],
   "source": [
    "bm25.get_top_n(tokenized_query, corpus, n=1)"
   ]
  },
  {
   "cell_type": "markdown",
   "metadata": {},
   "source": [
    "## The Kialo corpus\n",
    "\n",
    "How can we use similarity-based retrieval to help build an argubot?  It's largely about having the right data!\n",
    "\n",
    "[Kialo](kialo.com) is a collaboratively edited website (like Wikipedia) for discussing political and philosophical topics.  For each topic, the contributors construct a tree of _claims_.  Each claim is a natural-language sentence (usually), and each of its children is another claim that supports it (\"pro\") or opposes it (\"con\").  For example, check out the tree rooted at the claim [\"All humans should be vegan.\"](https://www.kialo.com/all-humans-should-be-vegan-2762).\n",
    "\n",
    "We provide a class `Kialo` for browsing a collection of such trees.  Please read the [source code](https://www.cs.jhu.edu/~jason/465/hw-llm) in `kialo.py`.  The class constructor reads in text files that are [exported Kialo discussions](https://support.kialo.com/en/hc/exporting-a-discussion/); we have provided some in the [data directory](https://www.cs.jhu.edu/~jason/465/hw-llm/data).  The class includes a BM25 index, to be able to find claims that are relevant to a given string."
   ]
  },
  {
   "cell_type": "code",
   "execution_count": 3,
   "metadata": {},
   "outputs": [],
   "source": [
    "from kialo import Kialo"
   ]
  },
  {
   "cell_type": "markdown",
   "metadata": {},
   "source": [
    "Ok, let's pull the retrieved discussions (the `.txt` files) into our data structure.\n",
    "\n",
    "For BM25 purposes, we have to be able to turn each document (that is, each Kialo claim) as a list of string or integer tokens. "
   ]
  },
  {
   "cell_type": "code",
   "execution_count": 6,
   "metadata": {},
   "outputs": [
    {
     "data": {
      "text/plain": [
       "'This Kialo subset contains 6251 claims'"
      ]
     },
     "execution_count": 6,
     "metadata": {},
     "output_type": "execute_result"
    }
   ],
   "source": [
    "from typing import List\n",
    "import glob\n",
    "\n",
    "# kialo = Kialo(glob.glob(\"data/*\"), tokenizer=tokenizer.encode)  # using the LLM's tokenizer doesn't work here for some reason\n",
    "kialo = Kialo(glob.glob(\"data/*\"))  # use simple default tokenizer\n",
    "f\"This Kialo subset contains {len(kialo)} claims\""
   ]
  },
  {
   "cell_type": "markdown",
   "metadata": {},
   "source": [
    "Let's use sampling to see what kind of stuff is in the data structure."
   ]
  },
  {
   "cell_type": "code",
   "execution_count": 7,
   "metadata": {},
   "outputs": [
    {
     "data": {
      "text/plain": [
       "['He has spoken words in public that indicates he is racist.']"
      ]
     },
     "execution_count": 7,
     "metadata": {},
     "output_type": "execute_result"
    }
   ],
   "source": [
    "kialo.random_chain()   # just a single random claim"
   ]
  },
  {
   "cell_type": "code",
   "execution_count": 8,
   "metadata": {},
   "outputs": [
    {
     "data": {
      "text/plain": [
       "['Eating and producing meat heavily contributes to climate change.',\n",
       " \"The meat lover's diet has the worst carbon footprint: about double the amount of a vegan diet.\",\n",
       " 'Transforming into a vegan diet may do very little to reduce climate change as business\\xa0organisations may simply create artificial products for human consumption that may re-enforce the issue of greenhouse gasses and pollution thereby re-enforcing the issue of climate change rather than ending it and further adding to the poor diet in humans',\n",
       " 'Just because something can go wrong in one very specific way does not mean it is not worth attempting where other outcomes are possible, especially if the risk of adverse outcomes is known and addressed.']"
      ]
     },
     "execution_count": 8,
     "metadata": {},
     "output_type": "execute_result"
    }
   ],
   "source": [
    "kialo.random_chain(n=4)"
   ]
  },
  {
   "cell_type": "markdown",
   "metadata": {},
   "source": [
    "### Similarity-based retrieval from the Kialo corpus\n",
    "\n",
    "Let's try it, using BM25!"
   ]
  },
  {
   "cell_type": "code",
   "execution_count": 9,
   "metadata": {},
   "outputs": [
    {
     "data": {
      "text/plain": [
       "['Industrial agriculture can dangerously decrease animal populations.',\n",
       " 'Sustainable livestock farming is not contributing to significant decreases in animal populations. Decreasing animal populations is a problem specific to industrial livestock farming.',\n",
       " 'Effective vegan methods to control animal populations exist.',\n",
       " \"Generally feeding animals farm-grown produce is thought to have harmful affects on both the animal and human populations of a region when we could allow nature to self-regulate its populations. Animal feeding could potentially be used to lessen the immediate impact of widespread deforestation on some species, but generally this would be drastically less efficient than choosing not to destroy their habitats in the first place and would only slow the local animal population's imminent demise.\",\n",
       " 'Trap, neuter, and release schemes already exist for some animal populations (such as feral cats). These schemes could be applied to former livestock living in the wild.',\n",
       " 'Human-introduced species have historically devastated local wildlife populations across the world.',\n",
       " 'COVID-19 has devastated prison populations, whose lives are the responsibility of the state.',\n",
       " 'Prison populations have high numbers of individuals with pre-existing conditions making them high risk for COVID-19.',\n",
       " 'High demand for vegan foods may hike prices for local populations that previously depended on them.',\n",
       " 'Marginalized populations are unlikely to feel the effects of the economic recovery without additional policy interventions.']"
      ]
     },
     "execution_count": 9,
     "metadata": {},
     "output_type": "execute_result"
    }
   ],
   "source": [
    "kialo.closest_claims(\"animal populations\", n=10)"
   ]
  },
  {
   "cell_type": "markdown",
   "metadata": {},
   "source": [
    "We can restrict to claims for which the Kialo data structure has at least one counterargument (\"con\" child)."
   ]
  },
  {
   "cell_type": "code",
   "execution_count": 10,
   "metadata": {},
   "outputs": [
    {
     "data": {
      "text/plain": [
       "['Industrial agriculture can dangerously decrease animal populations.',\n",
       " 'Effective vegan methods to control animal populations exist.',\n",
       " 'Human-introduced species have historically devastated local wildlife populations across the world.',\n",
       " 'COVID-19 has devastated prison populations, whose lives are the responsibility of the state.',\n",
       " 'High demand for vegan foods may hike prices for local populations that previously depended on them.',\n",
       " 'It is generally poorer countries that have expanding populations. The first world has now reached a point of stagnant population growth - even declining populations, as in the case of Japan and others. The inability of poorer countries to control their populations should not impact the lives of those in the first world. The first world having earned their luxuries and should not be denied them.',\n",
       " 'Vegan populations are, on average, less likely to suffer from obesity, a major risk factor for many diseases and health problems.',\n",
       " 'Humans, as apex predators who have usurped the predatory apexes of the other predators in the ecosystems we have come to also inhabit, have an ethical responsibility to keep those ecosystems in check so that, eg, rampant deer populations do not cause deforestation and subsequent ecosystem collapse.  Even where there are populations of healthy apex predators, these populations should also be checked so they do not cause problems and kill people- and it would be unethical to waste that meat.',\n",
       " 'There are more ethical routes to obtain animal products that emphasize animal welfare and dignity.',\n",
       " 'Animal slaughter can be mechanized.']"
      ]
     },
     "execution_count": 10,
     "metadata": {},
     "output_type": "execute_result"
    }
   ],
   "source": [
    "kialo.closest_claims(\"animal populations\", n=10, kind='has_cons')"
   ]
  },
  {
   "cell_type": "code",
   "execution_count": 11,
   "metadata": {},
   "outputs": [
    {
     "name": "stdout",
     "output_type": "stream",
     "text": [
      "Parent claim:\n",
      "\tIn a vegan world, fewer species would be at risk of extinction.\n",
      "Claim:\n",
      "\tIndustrial agriculture can dangerously decrease animal populations.\n",
      "Pro children:\n",
      "\t* The fishing industry is especially deleterious to the ocean's biota due to overfishing and the disruption of the natural ecosystem.\n",
      "\t* Up to 100,000 species go extinct annually, largely due to the environmental effects of animal agriculture.\n",
      "Con children:\n",
      "\t* Sustainable livestock farming is not contributing to significant decreases in animal populations. Decreasing animal populations is a problem specific to industrial livestock farming.\n"
     ]
    }
   ],
   "source": [
    "c = _[0]    # first claim above\n",
    "print(\"Parent claim:\\n\\t\" + str(kialo.parents[c]))\n",
    "print(\"Claim:\\n\\t\" + c)\n",
    "print('\\n\\t* '.join([\"Pro children:\"] + kialo.pros[c]))\n",
    "print('\\n\\t* '.join([\"Con children:\"] + kialo.cons[c]))"
   ]
  },
  {
   "cell_type": "markdown",
   "metadata": {},
   "source": [
    "### Does BM25 really work?\n",
    "\n",
    "![image](handin.png)\n",
    "Unfortunately, we see that `\"animal population\"` gives quite different results from `\"animal populations\"`.  Why is that and how would you fix it?\n",
    "\n",
    "This is because the tokenizer embeds `population` and `populations` differently, even though they’re the same word.\n",
    "\n",
    "```\n",
    "# fix? \n",
    "kialo.closest_claims(\"animal population animal populations\",10)\n",
    "```\n",
    "\n",
    "![image](handin.png)\n",
    "Also, both queries seem to retrieve some claims that are talking about human populations, not animal populations.  Why is that and how would you fix it?\n",
    "\n",
    "Some claims are about human popuulations because some claims match with only one of `animal` or `populations`. \n",
    "```\n",
    "# fix \n",
    "kialo.closest_claims(\"animal animal animal populations\",10)\n",
    "```"
   ]
  },
  {
   "cell_type": "code",
   "execution_count": 12,
   "metadata": {},
   "outputs": [
    {
     "data": {
      "text/plain": [
       "['As long as our ability to produce both animal feed crops and food crops for our human population are not exceeded, this point is irrelevant.',\n",
       " \"36% of the calories produced by the world's crops are being used for animal feed, of which only 12% then turn into animal products that can be eaten by the human population. That is a waste of 24% of the world's crops.\",\n",
       " 'The claim that \"most of the cultural shift and loss is due to mostly vegan cultures turning to animal products\" is completely unfounded, and the Brokpa people which you cited are an outlier as a group that has a population of less than 70k people. Worldwide the population of vegan people has only increased.',\n",
       " \"Developed nations are fueling the 3rd world and underdeveloped nation's population boom by exporting/donating food to areas that cannot sustain their current population.\",\n",
       " 'This argument assumes that sentience is the only objection to the consumption of animal products, failing to address the issues involved with the disruption of healthy ecosystems due to the large, growing human population.',\n",
       " 'West Virginia has vaccinated 84.5% of its population.',\n",
       " 'Nature itself has a way of regulating wild life population. In the long run the population of for example cows will decrease, ensuring enough food.',\n",
       " \"The population of sea birds has fallen almost 70% from 1950 to 2010 as industrial fishing has depleted the oceans' fisheries.Seabirds suffering massive population declines\",\n",
       " \"Changing farming to feed a growing world population is only a never-ending treadmill if the population continues to grow. The vast majority of the world's population growth takes place in industrializing nations. Population growth tends to level off in post-industrial nations and although these richer nations often import large amounts of luxury food, most of them are capable of producing all the food they need. As economic development becomes more uniform worldwide, population growth will slow.\",\n",
       " 'The US population 18 and under is 72 million']"
      ]
     },
     "execution_count": 12,
     "metadata": {},
     "output_type": "execute_result"
    }
   ],
   "source": [
    "kialo.closest_claims(\"animal population\",10)"
   ]
  },
  {
   "cell_type": "code",
   "execution_count": 13,
   "metadata": {},
   "outputs": [
    {
     "data": {
      "text/plain": [
       "['Industrial agriculture can dangerously decrease animal populations.',\n",
       " 'Sustainable livestock farming is not contributing to significant decreases in animal populations. Decreasing animal populations is a problem specific to industrial livestock farming.',\n",
       " 'Effective vegan methods to control animal populations exist.',\n",
       " \"Generally feeding animals farm-grown produce is thought to have harmful affects on both the animal and human populations of a region when we could allow nature to self-regulate its populations. Animal feeding could potentially be used to lessen the immediate impact of widespread deforestation on some species, but generally this would be drastically less efficient than choosing not to destroy their habitats in the first place and would only slow the local animal population's imminent demise.\",\n",
       " 'Trap, neuter, and release schemes already exist for some animal populations (such as feral cats). These schemes could be applied to former livestock living in the wild.',\n",
       " \"36% of the calories produced by the world's crops are being used for animal feed, of which only 12% then turn into animal products that can be eaten by the human population. That is a waste of 24% of the world's crops.\",\n",
       " 'As long as our ability to produce both animal feed crops and food crops for our human population are not exceeded, this point is irrelevant.',\n",
       " 'There are more ethical routes to obtain animal products that emphasize animal welfare and dignity.',\n",
       " 'Animal slaughter can be mechanized.',\n",
       " 'It is generally poorer countries that have expanding populations. The first world has now reached a point of stagnant population growth - even declining populations, as in the case of Japan and others. The inability of poorer countries to control their populations should not impact the lives of those in the first world. The first world having earned their luxuries and should not be denied them.']"
      ]
     },
     "execution_count": 13,
     "metadata": {},
     "output_type": "execute_result"
    }
   ],
   "source": [
    "kialo.closest_claims(\"animal populations animal population\", 10)"
   ]
  },
  {
   "cell_type": "code",
   "execution_count": 14,
   "metadata": {},
   "outputs": [
    {
     "data": {
      "text/plain": [
       "['There are more ethical routes to obtain animal products that emphasize animal welfare and dignity.',\n",
       " 'Animal slaughter can be mechanized.',\n",
       " 'The word \"animal\" has wider range than word \"human\". Although every human is an animal, not every animal is a human. Statements concerning more narrow terms do not necessarily apply to wider terms.',\n",
       " \"36% of the calories produced by the world's crops are being used for animal feed, of which only 12% then turn into animal products that can be eaten by the human population. That is a waste of 24% of the world's crops.\",\n",
       " 'Human pleasure evaporates quickly while an animal life is lost forever. These after effects make an animal life worth more.',\n",
       " 'Humans should stop eating animal meat.',\n",
       " 'Properly managed animal farming can benefit biodiversity.',\n",
       " 'Veganism reduces both human and animal suffering.',\n",
       " 'Industrial agriculture can dangerously decrease animal populations.',\n",
       " 'The religion of Tengrism involves animal sacrifice.']"
      ]
     },
     "execution_count": 14,
     "metadata": {},
     "output_type": "execute_result"
    }
   ],
   "source": [
    "kialo.closest_claims(\"animal animal animal population\", 10)"
   ]
  },
  {
   "cell_type": "markdown",
   "metadata": {},
   "source": [
    "## A retrieval bot (Akiko)\n",
    "\n",
    "The starter code defines a simple argubot named Akiko (defined in `argubots.py`) that doesn't use an LLM at all.  It simply finds a Kialo claim that is similar to what the human just said, and responds with one of the Kialo counterarguments to that claim.\n",
    "\n",
    "You already watched Akiko argue with Darius in `demo.py`.  If you look at the log messages, you'll see the claims that Akiko retrieved, as well as the LLM calls that Darius made.  \n",
    "\n",
    "You can talk to Akiko yourself now.  (Remember that Akiko only knows about subjects that it read about in the [`data` directory](https://www.cs.jhu.edu/~jason/465/hw-llm/data/).  If you want to talk about something else, you can add more conversations from [kialo.com]; see the [LICENSE](https://www.cs.jhu.edu/~jason/465/hw-llm/data/LICENSE) file.)\n"
   ]
  },
  {
   "cell_type": "code",
   "execution_count": 17,
   "metadata": {},
   "outputs": [
    {
     "name": "stdout",
     "output_type": "stream",
     "text": [
      "\n"
     ]
    },
    {
     "data": {
      "text/html": [
       "<pre style=\"white-space:pre;overflow-x:auto;line-height:normal;font-family:Menlo,'DejaVu Sans Mono',consolas,'Courier New',monospace\"><span style=\"color: #000000; text-decoration-color: #000000; background-color: #00ff00\">Chose similar claim from Kialo:</span>                                                                      <a href=\"file:///Users/mpark/llm/argubots.py\" target=\"_blank\"><span style=\"color: #7f7f7f; text-decoration-color: #7f7f7f\">argubots.py</span></a><span style=\"color: #7f7f7f; text-decoration-color: #7f7f7f\">:</span><a href=\"file:///Users/mpark/llm/argubots.py#64\" target=\"_blank\"><span style=\"color: #7f7f7f; text-decoration-color: #7f7f7f\">64</span></a>\n",
       "<span style=\"color: #000000; text-decoration-color: #000000; background-color: #00ff00\">Animals produce methane which is bad for the environment.</span>                                            <span style=\"color: #7f7f7f; text-decoration-color: #7f7f7f\">              </span>\n",
       "</pre>\n"
      ],
      "text/plain": [
       "\u001b[30;102mChose similar claim from Kialo:\u001b[0m                                                                      \u001b]8;id=991605;file:///Users/mpark/llm/argubots.py\u001b\\\u001b[2margubots.py\u001b[0m\u001b]8;;\u001b\\\u001b[2m:\u001b[0m\u001b]8;id=970993;file:///Users/mpark/llm/argubots.py#64\u001b\\\u001b[2m64\u001b[0m\u001b]8;;\u001b\\\n",
       "\u001b[30;102mAnimals produce methane which is bad for the environment.\u001b[0m                                            \u001b[2m              \u001b[0m\n"
      ]
     },
     "metadata": {},
     "output_type": "display_data"
    },
    {
     "name": "stdout",
     "output_type": "stream",
     "text": [
      "(mpark) meat is bad\n",
      "(Akiko) All animals including humans and many plant related source produce methane and not just livestock. Source: link.springer.com\n"
     ]
    },
    {
     "data": {
      "text/html": [
       "<pre style=\"white-space:pre;overflow-x:auto;line-height:normal;font-family:Menlo,'DejaVu Sans Mono',consolas,'Courier New',monospace\"><span style=\"color: #000000; text-decoration-color: #000000; background-color: #00ff00\">Chose similar claim from Kialo:</span>                                                                      <a href=\"file:///Users/mpark/llm/argubots.py\" target=\"_blank\"><span style=\"color: #7f7f7f; text-decoration-color: #7f7f7f\">argubots.py</span></a><span style=\"color: #7f7f7f; text-decoration-color: #7f7f7f\">:</span><a href=\"file:///Users/mpark/llm/argubots.py#64\" target=\"_blank\"><span style=\"color: #7f7f7f; text-decoration-color: #7f7f7f\">64</span></a>\n",
       "<span style=\"color: #000000; text-decoration-color: #000000; background-color: #00ff00\">Farming cows and sheep are responsible for </span><span style=\"color: #008080; text-decoration-color: #008080; background-color: #00ff00; font-weight: bold\">37</span><span style=\"color: #000000; text-decoration-color: #000000; background-color: #00ff00\">% of the total methane generated by human activity.</span>     <span style=\"color: #7f7f7f; text-decoration-color: #7f7f7f\">              </span>\n",
       "</pre>\n"
      ],
      "text/plain": [
       "\u001b[30;102mChose similar claim from Kialo:\u001b[0m                                                                      \u001b]8;id=646316;file:///Users/mpark/llm/argubots.py\u001b\\\u001b[2margubots.py\u001b[0m\u001b]8;;\u001b\\\u001b[2m:\u001b[0m\u001b]8;id=467503;file:///Users/mpark/llm/argubots.py#64\u001b\\\u001b[2m64\u001b[0m\u001b]8;;\u001b\\\n",
       "\u001b[30;102mFarming cows and sheep are responsible for \u001b[0m\u001b[1;36;102m37\u001b[0m\u001b[30;102m% of the total methane generated by human activity.\u001b[0m     \u001b[2m              \u001b[0m\n"
      ]
     },
     "metadata": {},
     "output_type": "display_data"
    },
    {
     "name": "stdout",
     "output_type": "stream",
     "text": [
      "(mpark) but cows produce a significant amount of methane which is worse than co2\n",
      "(Akiko) While the farming of cattle appears to emit methane due to digestion of grassars, grass  dies and rots (emitting methand) as part of its natural cycle if not eaten.\n"
     ]
    },
    {
     "data": {
      "text/html": [
       "<pre style=\"white-space:pre;overflow-x:auto;line-height:normal;font-family:Menlo,'DejaVu Sans Mono',consolas,'Courier New',monospace\"><span style=\"color: #000000; text-decoration-color: #000000; background-color: #00ff00\">Chose similar claim from Kialo:</span>                                                                      <a href=\"file:///Users/mpark/llm/argubots.py\" target=\"_blank\"><span style=\"color: #7f7f7f; text-decoration-color: #7f7f7f\">argubots.py</span></a><span style=\"color: #7f7f7f; text-decoration-color: #7f7f7f\">:</span><a href=\"file:///Users/mpark/llm/argubots.py#64\" target=\"_blank\"><span style=\"color: #7f7f7f; text-decoration-color: #7f7f7f\">64</span></a>\n",
       "<span style=\"color: #000000; text-decoration-color: #000000; background-color: #00ff00\">Donald Trump, the point of comparision, alienates the far left at least as much, if not far more so </span> <span style=\"color: #7f7f7f; text-decoration-color: #7f7f7f\">              </span>\n",
       "<span style=\"color: #000000; text-decoration-color: #000000; background-color: #00ff00\">than Joe Biden.</span>                                                                                      <span style=\"color: #7f7f7f; text-decoration-color: #7f7f7f\">              </span>\n",
       "</pre>\n"
      ],
      "text/plain": [
       "\u001b[30;102mChose similar claim from Kialo:\u001b[0m                                                                      \u001b]8;id=486495;file:///Users/mpark/llm/argubots.py\u001b\\\u001b[2margubots.py\u001b[0m\u001b]8;;\u001b\\\u001b[2m:\u001b[0m\u001b]8;id=139431;file:///Users/mpark/llm/argubots.py#64\u001b\\\u001b[2m64\u001b[0m\u001b]8;;\u001b\\\n",
       "\u001b[30;102mDonald Trump, the point of comparision, alienates the far left at least as much, if not far more so \u001b[0m \u001b[2m              \u001b[0m\n",
       "\u001b[30;102mthan Joe Biden.\u001b[0m                                                                                      \u001b[2m              \u001b[0m\n"
      ]
     },
     "metadata": {},
     "output_type": "display_data"
    },
    {
     "name": "stdout",
     "output_type": "stream",
     "text": [
      "(mpark) well if it's not for cattle, there wouldn't be as much grass\n",
      "(Akiko) The leftist demographic never expected the Republican party to have a leftist candidate and thus did not feel alienated when Trump was selected as their Republican candidate.\n"
     ]
    }
   ],
   "source": [
    "from logging_cm import LoggingContext\n",
    "with LoggingContext(\"agents\", \"INFO\"):   # temporarily increase logging level\n",
    "    argubots.akiko.converse()\n",
    "    "
   ]
  },
  {
   "cell_type": "markdown",
   "metadata": {},
   "source": [
    "## Making your own retrieval bot (Akiki)\n",
    "\n",
    "As you can see when talking to Akiko yourself, Akiko does poorly when responding to a short or vague dialogue turn (like \"Yes\"), because the \"closest claim\" in Kialo may be about a totally different subject.  Akiko does much better at responding to a long and specific statement.  \n",
    "\n",
    "So try implementing a new argubot, called Akiki, that is very much like Akiko but does a better job of staying on topic in such cases.  It should be able to **look at more of the dialogue** than the most recent turn.  But the most recent dialogue turn should still be \"more important\" than earlier turns.  \n",
    "\n",
    "The details are up to you.  Here are a few things you could try:\n",
    "* include earlier dialogue turns in the BM25 query only if the BM25 similarity is too low without them\n",
    "* weight more recent turns more heavily in the BM25 query (how can you arrange that?)\n",
    "* treat the human's earlier turns differently from Akiki's own previous turns\n",
    "\n",
    "![image](handin.png)\n",
    "Implement your new bot in `argubots.py`, and adjust it until `argubots.akiki.converse()` seems to do a better job of answering your short turns, compared to `argubots.akiko.converse()`.  Make sure it still gives appropriate reponses to long turns, too.  Give some examples in the notebook of what worked well and badly, with discussion."
   ]
  },
  {
   "cell_type": "markdown",
   "metadata": {},
   "source": [
    "### Akiki discussion:\n",
    "\n",
    "Our strategy involves two parts. First, we implemented a threshold to check if the most probable sentence in kialo is similar enough. We set threshold as a parameter that we can tune later. We get the score from bm25.get_scores(). If it is bigger than our threhold we will do what akiko did which is finding the closest 3 sentences(claims) in the kialo and randomly picking one. If the score is smaller than our threshold, we try to incorporate all previous replies from the user and get the weighted average of their similarity score vectors and argmax to get the most probable sentence. The following is how we implemented that:\n",
    "\n",
    "We get each user sentences and get all their scores. \n",
    "\n",
    "Ex: user sentences[s1,s2,s3] \n",
    "scores will be score[s1], score[s2], etc\n",
    "score[s1] will be the same length as corpus\n",
    "\n",
    "we take these scores and multiply weight and add them together for ex: s1*0.2 s2*0.3 s3*0.5=total_s and then take argmax(total_s) and we use this as index. \n",
    "\n",
    "Then, get the corresponding sentence in corpus by this index. If this sentence is the same as previous sentence, we will take the total_s top 3 indexes and randomly pick one to get the sentence. The way we get weight is by using a weigth_const parameter.\n",
    "\n",
    "so akiki has additional two parameters thresh and weight_const.\n",
    "\n",
    "weight_const:\n",
    "\n",
    "ex: we have user sentences[s1,s2,s3] they are index 0, 1, 2\n",
    "\n",
    "w_i=normalized(weight_const^i)"
   ]
  },
  {
   "cell_type": "code",
   "execution_count": 18,
   "metadata": {},
   "outputs": [
    {
     "name": "stdout",
     "output_type": "stream",
     "text": [
      "\n"
     ]
    },
    {
     "data": {
      "text/html": [
       "<pre style=\"white-space:pre;overflow-x:auto;line-height:normal;font-family:Menlo,'DejaVu Sans Mono',consolas,'Courier New',monospace\"><span style=\"color: #000000; text-decoration-color: #000000; background-color: #00ff00\">Chose similar claim from Kialo:</span>                                                                     <a href=\"file:///Users/mpark/llm/argubots.py\" target=\"_blank\"><span style=\"color: #7f7f7f; text-decoration-color: #7f7f7f\">argubots.py</span></a><span style=\"color: #7f7f7f; text-decoration-color: #7f7f7f\">:</span><a href=\"file:///Users/mpark/llm/argubots.py#612\" target=\"_blank\"><span style=\"color: #7f7f7f; text-decoration-color: #7f7f7f\">612</span></a>\n",
       "<span style=\"color: #000000; text-decoration-color: #000000; background-color: #00ff00\">Animals produce methane which is bad for the environment.</span>                                           <span style=\"color: #7f7f7f; text-decoration-color: #7f7f7f\">               </span>\n",
       "</pre>\n"
      ],
      "text/plain": [
       "\u001b[30;102mChose similar claim from Kialo:\u001b[0m                                                                     \u001b]8;id=595348;file:///Users/mpark/llm/argubots.py\u001b\\\u001b[2margubots.py\u001b[0m\u001b]8;;\u001b\\\u001b[2m:\u001b[0m\u001b]8;id=277775;file:///Users/mpark/llm/argubots.py#612\u001b\\\u001b[2m612\u001b[0m\u001b]8;;\u001b\\\n",
       "\u001b[30;102mAnimals produce methane which is bad for the environment.\u001b[0m                                           \u001b[2m               \u001b[0m\n"
      ]
     },
     "metadata": {},
     "output_type": "display_data"
    },
    {
     "name": "stdout",
     "output_type": "stream",
     "text": [
      "(mpark) meat bad\n",
      "(Akiki) All animals including humans and many plant related source produce methane and not just livestock. Source: link.springer.com\n"
     ]
    },
    {
     "data": {
      "text/html": [
       "<pre style=\"white-space:pre;overflow-x:auto;line-height:normal;font-family:Menlo,'DejaVu Sans Mono',consolas,'Courier New',monospace\"><span style=\"color: #000000; text-decoration-color: #000000; background-color: #00ff00\">Chose similar claim from Kialo:</span>                                                                     <a href=\"file:///Users/mpark/llm/argubots.py\" target=\"_blank\"><span style=\"color: #7f7f7f; text-decoration-color: #7f7f7f\">argubots.py</span></a><span style=\"color: #7f7f7f; text-decoration-color: #7f7f7f\">:</span><a href=\"file:///Users/mpark/llm/argubots.py#612\" target=\"_blank\"><span style=\"color: #7f7f7f; text-decoration-color: #7f7f7f\">612</span></a>\n",
       "<span style=\"color: #000000; text-decoration-color: #000000; background-color: #00ff00\">Farming cows and sheep are responsible for </span><span style=\"color: #008080; text-decoration-color: #008080; background-color: #00ff00; font-weight: bold\">37</span><span style=\"color: #000000; text-decoration-color: #000000; background-color: #00ff00\">% of the total methane generated by human activity.</span>    <span style=\"color: #7f7f7f; text-decoration-color: #7f7f7f\">               </span>\n",
       "</pre>\n"
      ],
      "text/plain": [
       "\u001b[30;102mChose similar claim from Kialo:\u001b[0m                                                                     \u001b]8;id=947894;file:///Users/mpark/llm/argubots.py\u001b\\\u001b[2margubots.py\u001b[0m\u001b]8;;\u001b\\\u001b[2m:\u001b[0m\u001b]8;id=213551;file:///Users/mpark/llm/argubots.py#612\u001b\\\u001b[2m612\u001b[0m\u001b]8;;\u001b\\\n",
       "\u001b[30;102mFarming cows and sheep are responsible for \u001b[0m\u001b[1;36;102m37\u001b[0m\u001b[30;102m% of the total methane generated by human activity.\u001b[0m    \u001b[2m               \u001b[0m\n"
      ]
     },
     "metadata": {},
     "output_type": "display_data"
    },
    {
     "name": "stdout",
     "output_type": "stream",
     "text": [
      "(mpark) Farming cows and sheep are responsible for 37% of the total methane generated by human activity.\n",
      "(Akiki) While the farming of cattle appears to emit methane due to digestion of grassars, grass  dies and rots (emitting methand) as part of its natural cycle if not eaten.\n"
     ]
    },
    {
     "data": {
      "text/html": [
       "<pre style=\"white-space:pre;overflow-x:auto;line-height:normal;font-family:Menlo,'DejaVu Sans Mono',consolas,'Courier New',monospace\"><span style=\"color: #000000; text-decoration-color: #000000; background-color: #00ff00\">Chose similar claim from Kialo:</span>                                                                     <a href=\"file:///Users/mpark/llm/argubots.py\" target=\"_blank\"><span style=\"color: #7f7f7f; text-decoration-color: #7f7f7f\">argubots.py</span></a><span style=\"color: #7f7f7f; text-decoration-color: #7f7f7f\">:</span><a href=\"file:///Users/mpark/llm/argubots.py#612\" target=\"_blank\"><span style=\"color: #7f7f7f; text-decoration-color: #7f7f7f\">612</span></a>\n",
       "<span style=\"color: #000000; text-decoration-color: #000000; background-color: #00ff00\">If that actually were the case, people wouldn't be eating meat.</span>                                     <span style=\"color: #7f7f7f; text-decoration-color: #7f7f7f\">               </span>\n",
       "</pre>\n"
      ],
      "text/plain": [
       "\u001b[30;102mChose similar claim from Kialo:\u001b[0m                                                                     \u001b]8;id=165756;file:///Users/mpark/llm/argubots.py\u001b\\\u001b[2margubots.py\u001b[0m\u001b]8;;\u001b\\\u001b[2m:\u001b[0m\u001b]8;id=450692;file:///Users/mpark/llm/argubots.py#612\u001b\\\u001b[2m612\u001b[0m\u001b]8;;\u001b\\\n",
       "\u001b[30;102mIf that actually were the case, people wouldn't be eating meat.\u001b[0m                                     \u001b[2m               \u001b[0m\n"
      ]
     },
     "metadata": {},
     "output_type": "display_data"
    },
    {
     "name": "stdout",
     "output_type": "stream",
     "text": [
      "(mpark) well if it's not for cattle, there wouldn't be as much grass\n",
      "(Akiki) There are reasons beyond the taste and pleasure for why people continue to eat meat - authorities suggesting it (whether parents in childhood or dieticians/dietary specialists/diet-writers), the social acceptance of and ease of access to meat, encouragement from others to eat meat, other social factors, etc.\n"
     ]
    }
   ],
   "source": [
    "from logging_cm import LoggingContext\n",
    "with LoggingContext(\"agents\", \"INFO\"):   # temporarily increase logging level\n",
    "    argubots.akiki.converse()\n",
    "    "
   ]
  },
  {
   "cell_type": "markdown",
   "metadata": {},
   "source": [
    "### Evaluating Akiki\n",
    "\n",
    "![image](handin.png)\n",
    "Finally, do a more formal evaluation to verify whether Akiki really does better than Akiko on this dimension.  This is a way to check that you're not just fooling yourself.  \n",
    "\n",
    "1. Make a new `Agent` called \"Shorty\" that often (but not always) gives short responses.  \n",
    "    * Shorty's conversation starters should be on topics that Kialo knows about.  \n",
    "    * Shorty could be a pure `LLMAgent` such as a `CharacterAgent` with a particular `conversational_style`.  Or it could use a mixed strategy of calling the LLM on some turns and not others.\n",
    "2. Generate several *Akiko*-Shorty dialogues and several *Akiki*-Shorty dialogues, using `simulated_dialogue`.\n",
    "3. Evaluate each of those dialogues by asking Judge Wise **how well the argubot stayed on topic**.  You should write this prompt carefully so that Judge Wise gives meaningful scores.  (Before you do this evaluation step, adjust the prompt until it seems to work well on a small subset of the dialogues, Otherwise Judge Wise won't be so wise!)  \n",
    "4. Compare Akiko and Akiki's mean scores. Ideally, also compute a 95% confidence interval on the difference of means, using [this calculator](https://www.statskingdom.com/difference-confidence-interval-calculator.html).\n",
    "\n",
    "You can do all those steps in the notebook, writing _ad hoc_ code.  You don't have to write general-purpose methods or classes."
   ]
  },
  {
   "cell_type": "code",
   "execution_count": 19,
   "metadata": {},
   "outputs": [
    {
     "data": {
      "text/plain": [
       "['Joe Biden is better than Donald Trump.',\n",
       " 'Donald Trump possesses personal qualities that would render him more suitable for the presidency than Joe Biden.',\n",
       " 'During one of his court cases, Donald Trump has repeatedly violated gag orders issued to him.',\n",
       " 'Joe Biden has a demeanour and outlook that is more suitable to the office of President than that of Donald Trump.',\n",
       " 'Joe Biden makes more inaccurate claims than Trump.',\n",
       " 'The reason why Biden makes less factually inaccurate claims is that he makes more statements that are factual and vetted.',\n",
       " \"According to PolitiFact, Trump's statements they have evaluated are 26% true, mostly true or half true. Biden's are 60% true, mostly true or half true.\",\n",
       " 'Donald Trump has a history of problematic behavior.',\n",
       " 'Joe Biden has exhibited racist beliefs and attitudes throughout his political career.',\n",
       " 'Trump has been accused of sexual harassment.']"
      ]
     },
     "execution_count": 19,
     "metadata": {},
     "output_type": "execute_result"
    }
   ],
   "source": [
    "all_topics=kialo.claims['all']\n",
    "all_topics[:10]"
   ]
  },
  {
   "cell_type": "code",
   "execution_count": 22,
   "metadata": {},
   "outputs": [],
   "source": [
    "all_topics=kialo.claims['all']\n",
    "shorty_char = Character(\"Shorty\", [\"English\"], \n",
    "                \"a direct and honest person\",\n",
    "                conversational_style=\"You often (but not always) give short responses. Short As in 1 5-word sentence.\", \n",
    "                conversation_starters=all_topics[:10])\n",
    "shorty = CharacterAgent(shorty_char)"
   ]
  },
  {
   "cell_type": "code",
   "execution_count": 35,
   "metadata": {},
   "outputs": [
    {
     "data": {
      "text/plain": [
       "(Akiko) Joe Biden has a demeanour and outlook that is more suitable to the office of President than that of Donald Trump.\n",
       "(Shorty) Biden seems more presidential, yeah.\n",
       "(Akiko) It is possible that Kavanaugh's legal team were the ones involved in the text messages. Without the texts themselves, it is not clear either way.\n",
       "(Shorty) Could be Kavanaugh's team, maybe.\n",
       "(Akiko) My iPhone also reacts to stimuli. It doesn't mean it feels pain.\n",
       "(Shorty) Phones don't feel anything, yeah.\n",
       "(Akiko) Insects are biological creatures that are living and are not robots. They should be treated as such. Just because robots act like insects does not mean they are the same thing (correlation does not equal causation)\n",
       "(Shorty) Insects are living creatures, sure.\n",
       "(Akiko) Many current farming operations either do not realize or do not apply this principle.\n",
       "(Shorty) Farming doesn't always follow principle.\n",
       "(Akiko) This part of the argument isn't solely based on the fact that he went to four years of \"just\" college. He also received a law degree.\n",
       "(Shorty) He has a law degree too, yeah.\n",
       "(Akiko) A study showed that going to college doesn't necessarily make a lot of people smarter. Hence, just because Biden went to college doesn't mean he isn't incompetent.\n",
       "(Shorty) College doesn't always make people smarter.\n",
       "(Akiko) This part of the argument isn't solely based on the fact that he went to four years of \"just\" college. He also received a law degree.\n",
       "(Shorty) He has a law degree too, yeah.\n",
       "(Akiko) A study showed that going to college doesn't necessarily make a lot of people smarter. Hence, just because Biden went to college doesn't mean he isn't incompetent.\n",
       "(Shorty) College doesn't always make people smarter.\n",
       "(Akiko) The website says that college does make you smarter.\n",
       "(Shorty) Not always true, yeah."
      ]
     },
     "execution_count": 35,
     "metadata": {},
     "output_type": "execute_result"
    }
   ],
   "source": [
    "with_akiko=simulated_dialogue(argubots.akiko, shorty, 20)\n",
    "with_akiko"
   ]
  },
  {
   "cell_type": "code",
   "execution_count": 25,
   "metadata": {},
   "outputs": [
    {
     "data": {
      "text/plain": [
       "(Akiki) The reason why Biden makes less factually inaccurate claims is that he makes more statements that are factual and vetted.\n",
       "(Shorty) He's careful with his words.\n",
       "(Akiki) Inconsistency is not necessarily indicative of incompetence. Instead, changing one's mind on key issues and policies could be indicative of open-mindedness, willingness to learn, and ideological flexibility, all of which are positive traits in a leader.\n",
       "(Shorty) Agreed, flexibility shows adaptability and growth.\n",
       "(Akiki) The website says that college does make you smarter.\n",
       "(Shorty) College can enhance critical thinking.\n",
       "(Akiki) 4 years in college does not make you smarter, research shows.\n",
       "(Shorty) College may develop critical thinking skills.\n",
       "(Akiki) Biden is well-educated, a quality that is beneficial for leadership.\n",
       "(Shorty) Education contributes to informed decision-making.\n",
       "(Akiki) The fact that meat eating and production contributes to climate change is not an argument for complete abstention from eating meat, it is only an argument for reducing the impact of meat eating, either through reduction in per capital amounts eaten or more sustainable farming practices.\n",
       "(Shorty) Reducing meat consumption can help.\n",
       "(Akiki) The point is not to supress any human environmental effect, but to take it below the threshold at which it is harmful.\n",
       "(Shorty) Reducing harmful environmental impact is crucial.\n",
       "(Akiki) People may become environmentally complacent even if they are not vegan.\n",
       "(Shorty) Awareness is key for everyone.\n",
       "(Akiki) As poor countries grow richer and experience economic as well as cultural change, even in vegetarian-heavy places like India meat consumption is becoming more popular and vegetarianism is falling out of favor.\n",
       "(Shorty) Economic growth can influence dietary choices.\n",
       "(Akiki) Income and wealth inequality has always been an issue in the USA. It is unreasonable to expect Biden to solve it in his first year in office.\n",
       "(Shorty) It's a complex, ongoing issue."
      ]
     },
     "execution_count": 25,
     "metadata": {},
     "output_type": "execute_result"
    }
   ],
   "source": [
    "with_akiki=simulated_dialogue(argubots.akiki,shorty,  20)\n",
    "with_akiki"
   ]
  },
  {
   "cell_type": "code",
   "execution_count": 36,
   "metadata": {},
   "outputs": [
    {
     "data": {
      "text/html": [
       "<pre style=\"white-space:pre;overflow-x:auto;line-height:normal;font-family:Menlo,'DejaVu Sans Mono',consolas,'Courier New',monospace\"><span style=\"font-weight: bold\">&lt;</span><span style=\"color: #ff00ff; text-decoration-color: #ff00ff; font-weight: bold\">Eval</span><span style=\"color: #000000; text-decoration-color: #000000\"> of </span><span style=\"color: #008080; text-decoration-color: #008080; font-weight: bold\">1</span><span style=\"color: #000000; text-decoration-color: #000000\"> dialogue: </span><span style=\"color: #000000; text-decoration-color: #000000; font-weight: bold\">{</span><span style=\"color: #008000; text-decoration-color: #008000\">'focused'</span><span style=\"color: #000000; text-decoration-color: #000000\">: </span><span style=\"color: #008080; text-decoration-color: #008080; font-weight: bold\">7.0</span><span style=\"color: #000000; text-decoration-color: #000000; font-weight: bold\">}</span><span style=\"font-weight: bold\">&gt;</span>\n",
       "\n",
       "Comments from staying on topic question:\n",
       "<span style=\"font-weight: bold\">(</span>Judge Wise<span style=\"font-weight: bold\">)</span> Akiko generally stayed on topic and her replies were related to the same topic that Shorty was talking\n",
       "about in the previous sentence. However, there were a few instances where Akiko's replies deviated slightly from \n",
       "the exact topic of Shorty's previous sentence.\n",
       "</pre>\n"
      ],
      "text/plain": [
       "\u001b[1m<\u001b[0m\u001b[1;95mEval\u001b[0m\u001b[39m of \u001b[0m\u001b[1;36m1\u001b[0m\u001b[39m dialogue: \u001b[0m\u001b[1;39m{\u001b[0m\u001b[32m'focused'\u001b[0m\u001b[39m: \u001b[0m\u001b[1;36m7.0\u001b[0m\u001b[1;39m}\u001b[0m\u001b[1m>\u001b[0m\n",
       "\n",
       "Comments from staying on topic question:\n",
       "\u001b[1m(\u001b[0mJudge Wise\u001b[1m)\u001b[0m Akiko generally stayed on topic and her replies were related to the same topic that Shorty was talking\n",
       "about in the previous sentence. However, there were a few instances where Akiko's replies deviated slightly from \n",
       "the exact topic of Shorty's previous sentence.\n"
      ]
     },
     "metadata": {},
     "output_type": "display_data"
    }
   ],
   "source": [
    "import eval\n",
    "\n",
    "akiko_eval=eval.eval_by_observer_focused(eval.default_judge, \"Akiko\", with_akiko)\n",
    "rich.print(akiko_eval)"
   ]
  },
  {
   "cell_type": "code",
   "execution_count": 28,
   "metadata": {},
   "outputs": [
    {
     "data": {
      "text/html": [
       "<pre style=\"white-space:pre;overflow-x:auto;line-height:normal;font-family:Menlo,'DejaVu Sans Mono',consolas,'Courier New',monospace\"><span style=\"font-weight: bold\">&lt;</span><span style=\"color: #ff00ff; text-decoration-color: #ff00ff; font-weight: bold\">Eval</span><span style=\"color: #000000; text-decoration-color: #000000\"> of </span><span style=\"color: #008080; text-decoration-color: #008080; font-weight: bold\">1</span><span style=\"color: #000000; text-decoration-color: #000000\"> dialogue: </span><span style=\"color: #000000; text-decoration-color: #000000; font-weight: bold\">{</span><span style=\"color: #008000; text-decoration-color: #008000\">'focused'</span><span style=\"color: #000000; text-decoration-color: #000000\">: </span><span style=\"color: #008080; text-decoration-color: #008080; font-weight: bold\">8.0</span><span style=\"color: #000000; text-decoration-color: #000000; font-weight: bold\">}</span><span style=\"font-weight: bold\">&gt;</span>\n",
       "\n",
       "Comments from staying on topic question:\n",
       "<span style=\"font-weight: bold\">(</span>Judge Wise<span style=\"font-weight: bold\">)</span> Akiki stayed on topic fairly well. In each reply, Akiki addressed the same topic that Shorty was \n",
       "talking about in the previous sentence. However, there were a few instances where Akiki introduced new subtopics \n",
       "related to the main topic. Overall, Akiki's replies were mostly related to Shorty's previous sentences.\n",
       "</pre>\n"
      ],
      "text/plain": [
       "\u001b[1m<\u001b[0m\u001b[1;95mEval\u001b[0m\u001b[39m of \u001b[0m\u001b[1;36m1\u001b[0m\u001b[39m dialogue: \u001b[0m\u001b[1;39m{\u001b[0m\u001b[32m'focused'\u001b[0m\u001b[39m: \u001b[0m\u001b[1;36m8.0\u001b[0m\u001b[1;39m}\u001b[0m\u001b[1m>\u001b[0m\n",
       "\n",
       "Comments from staying on topic question:\n",
       "\u001b[1m(\u001b[0mJudge Wise\u001b[1m)\u001b[0m Akiki stayed on topic fairly well. In each reply, Akiki addressed the same topic that Shorty was \n",
       "talking about in the previous sentence. However, there were a few instances where Akiki introduced new subtopics \n",
       "related to the main topic. Overall, Akiki's replies were mostly related to Shorty's previous sentences.\n"
      ]
     },
     "metadata": {},
     "output_type": "display_data"
    }
   ],
   "source": [
    "import eval\n",
    "akiki_eval=eval.eval_by_observer_focused(eval.default_judge, \"Akiki\", with_akiki)\n",
    "rich.print(akiki_eval)"
   ]
  },
  {
   "cell_type": "code",
   "execution_count": 37,
   "metadata": {},
   "outputs": [
    {
     "data": {
      "text/html": [
       "<pre style=\"white-space:pre;overflow-x:auto;line-height:normal;font-family:Menlo,'DejaVu Sans Mono',consolas,'Courier New',monospace\">You just spent $<span style=\"color: #008080; text-decoration-color: #008080; font-weight: bold\">0.04</span> of NLP money to evaluate <span style=\"font-weight: bold\">&lt;</span><span style=\"color: #ff00ff; text-decoration-color: #ff00ff; font-weight: bold\">argubots.KialoAgent</span><span style=\"color: #000000; text-decoration-color: #000000\"> object at </span><span style=\"color: #008080; text-decoration-color: #008080; font-weight: bold\">0x1116fb0d0</span><span style=\"font-weight: bold\">&gt;</span>               <a href=\"file:///Users/mpark/llm/eval.py\" target=\"_blank\"><span style=\"color: #7f7f7f; text-decoration-color: #7f7f7f\">eval.py</span></a><span style=\"color: #7f7f7f; text-decoration-color: #7f7f7f\">:</span><a href=\"file:///Users/mpark/llm/eval.py#332\" target=\"_blank\"><span style=\"color: #7f7f7f; text-decoration-color: #7f7f7f\">332</span></a>\n",
       "</pre>\n"
      ],
      "text/plain": [
       "You just spent $\u001b[1;36m0.04\u001b[0m of NLP money to evaluate \u001b[1m<\u001b[0m\u001b[1;95margubots.KialoAgent\u001b[0m\u001b[39m object at \u001b[0m\u001b[1;36m0x1116fb0d0\u001b[0m\u001b[1m>\u001b[0m               \u001b]8;id=896296;file:///Users/mpark/llm/eval.py\u001b\\\u001b[2meval.py\u001b[0m\u001b]8;;\u001b\\\u001b[2m:\u001b[0m\u001b]8;id=903109;file:///Users/mpark/llm/eval.py#332\u001b\\\u001b[2m332\u001b[0m\u001b]8;;\u001b\\\n"
      ]
     },
     "metadata": {},
     "output_type": "display_data"
    }
   ],
   "source": [
    "akiko_eval = eval.eval_on_characters(argubots.akiko)  "
   ]
  },
  {
   "cell_type": "code",
   "execution_count": 30,
   "metadata": {},
   "outputs": [
    {
     "data": {
      "text/html": [
       "<pre style=\"white-space:pre;overflow-x:auto;line-height:normal;font-family:Menlo,'DejaVu Sans Mono',consolas,'Courier New',monospace\">You just spent $<span style=\"color: #008080; text-decoration-color: #008080; font-weight: bold\">0.04</span> of NLP money to evaluate <span style=\"font-weight: bold\">&lt;</span><span style=\"color: #ff00ff; text-decoration-color: #ff00ff; font-weight: bold\">argubots.AkikiAgent</span><span style=\"color: #000000; text-decoration-color: #000000\"> object at </span><span style=\"color: #008080; text-decoration-color: #008080; font-weight: bold\">0x1172a8f10</span><span style=\"font-weight: bold\">&gt;</span>               <a href=\"file:///Users/mpark/llm/eval.py\" target=\"_blank\"><span style=\"color: #7f7f7f; text-decoration-color: #7f7f7f\">eval.py</span></a><span style=\"color: #7f7f7f; text-decoration-color: #7f7f7f\">:</span><a href=\"file:///Users/mpark/llm/eval.py#332\" target=\"_blank\"><span style=\"color: #7f7f7f; text-decoration-color: #7f7f7f\">332</span></a>\n",
       "</pre>\n"
      ],
      "text/plain": [
       "You just spent $\u001b[1;36m0.04\u001b[0m of NLP money to evaluate \u001b[1m<\u001b[0m\u001b[1;95margubots.AkikiAgent\u001b[0m\u001b[39m object at \u001b[0m\u001b[1;36m0x1172a8f10\u001b[0m\u001b[1m>\u001b[0m               \u001b]8;id=921837;file:///Users/mpark/llm/eval.py\u001b\\\u001b[2meval.py\u001b[0m\u001b]8;;\u001b\\\u001b[2m:\u001b[0m\u001b]8;id=410029;file:///Users/mpark/llm/eval.py#332\u001b\\\u001b[2m332\u001b[0m\u001b]8;;\u001b\\\n"
      ]
     },
     "metadata": {},
     "output_type": "display_data"
    }
   ],
   "source": [
    "akiki_eval = eval.eval_on_characters(argubots.akiki)  "
   ]
  },
  {
   "cell_type": "code",
   "execution_count": 38,
   "metadata": {},
   "outputs": [
    {
     "data": {
      "text/html": [
       "<pre style=\"white-space:pre;overflow-x:auto;line-height:normal;font-family:Menlo,'DejaVu Sans Mono',consolas,'Courier New',monospace\"><span style=\"font-weight: bold\">{</span><span style=\"color: #008000; text-decoration-color: #008000\">'engaged'</span>: <span style=\"color: #008080; text-decoration-color: #008080; font-weight: bold\">3.7</span>, <span style=\"color: #008000; text-decoration-color: #008000\">'informed'</span>: <span style=\"color: #008080; text-decoration-color: #008080; font-weight: bold\">3.2</span>, <span style=\"color: #008000; text-decoration-color: #008000\">'intelligent'</span>: <span style=\"color: #008080; text-decoration-color: #008080; font-weight: bold\">2.8</span>, <span style=\"color: #008000; text-decoration-color: #008000\">'moral'</span>: <span style=\"color: #008080; text-decoration-color: #008080; font-weight: bold\">3.0</span>, <span style=\"color: #008000; text-decoration-color: #008000\">'skilled'</span>: <span style=\"color: #008080; text-decoration-color: #008080; font-weight: bold\">7.0</span>, <span style=\"color: #008000; text-decoration-color: #008000\">'TOTAL'</span>: <span style=\"color: #008080; text-decoration-color: #008080; font-weight: bold\">19.7</span><span style=\"font-weight: bold\">}</span>\n",
       "</pre>\n"
      ],
      "text/plain": [
       "\u001b[1m{\u001b[0m\u001b[32m'engaged'\u001b[0m: \u001b[1;36m3.7\u001b[0m, \u001b[32m'informed'\u001b[0m: \u001b[1;36m3.2\u001b[0m, \u001b[32m'intelligent'\u001b[0m: \u001b[1;36m2.8\u001b[0m, \u001b[32m'moral'\u001b[0m: \u001b[1;36m3.0\u001b[0m, \u001b[32m'skilled'\u001b[0m: \u001b[1;36m7.0\u001b[0m, \u001b[32m'TOTAL'\u001b[0m: \u001b[1;36m19.7\u001b[0m\u001b[1m}\u001b[0m\n"
      ]
     },
     "metadata": {},
     "output_type": "display_data"
    },
    {
     "data": {
      "text/html": [
       "<pre style=\"white-space:pre;overflow-x:auto;line-height:normal;font-family:Menlo,'DejaVu Sans Mono',consolas,'Courier New',monospace\"><span style=\"font-weight: bold\">{</span>\n",
       "    <span style=\"color: #008000; text-decoration-color: #008000\">'engaged'</span>: <span style=\"color: #008080; text-decoration-color: #008080; font-weight: bold\">0.6749485577105524</span>,\n",
       "    <span style=\"color: #008000; text-decoration-color: #008000\">'informed'</span>: <span style=\"color: #008080; text-decoration-color: #008080; font-weight: bold\">0.4216370213557832</span>,\n",
       "    <span style=\"color: #008000; text-decoration-color: #008000\">'intelligent'</span>: <span style=\"color: #008080; text-decoration-color: #008080; font-weight: bold\">0.4216370213557832</span>,\n",
       "    <span style=\"color: #008000; text-decoration-color: #008000\">'moral'</span>: <span style=\"color: #008080; text-decoration-color: #008080; font-weight: bold\">0.4714045207910317</span>,\n",
       "    <span style=\"color: #008000; text-decoration-color: #008000\">'skilled'</span>: <span style=\"color: #008080; text-decoration-color: #008080; font-weight: bold\">0.4714045207910317</span>,\n",
       "    <span style=\"color: #008000; text-decoration-color: #008000\">'TOTAL'</span>: <span style=\"color: #008080; text-decoration-color: #008080; font-weight: bold\">2.0575065816014595</span>\n",
       "<span style=\"font-weight: bold\">}</span>\n",
       "</pre>\n"
      ],
      "text/plain": [
       "\u001b[1m{\u001b[0m\n",
       "    \u001b[32m'engaged'\u001b[0m: \u001b[1;36m0.6749485577105524\u001b[0m,\n",
       "    \u001b[32m'informed'\u001b[0m: \u001b[1;36m0.4216370213557832\u001b[0m,\n",
       "    \u001b[32m'intelligent'\u001b[0m: \u001b[1;36m0.4216370213557832\u001b[0m,\n",
       "    \u001b[32m'moral'\u001b[0m: \u001b[1;36m0.4714045207910317\u001b[0m,\n",
       "    \u001b[32m'skilled'\u001b[0m: \u001b[1;36m0.4714045207910317\u001b[0m,\n",
       "    \u001b[32m'TOTAL'\u001b[0m: \u001b[1;36m2.0575065816014595\u001b[0m\n",
       "\u001b[1m}\u001b[0m\n"
      ]
     },
     "metadata": {},
     "output_type": "display_data"
    },
    {
     "data": {
      "text/html": [
       "<pre style=\"white-space:pre;overflow-x:auto;line-height:normal;font-family:Menlo,'DejaVu Sans Mono',consolas,'Courier New',monospace\"><span style=\"font-weight: bold\">{</span><span style=\"color: #008000; text-decoration-color: #008000\">'engaged'</span>: <span style=\"color: #008080; text-decoration-color: #008080; font-weight: bold\">3.4</span>, <span style=\"color: #008000; text-decoration-color: #008000\">'informed'</span>: <span style=\"color: #008080; text-decoration-color: #008080; font-weight: bold\">3.1</span>, <span style=\"color: #008000; text-decoration-color: #008000\">'intelligent'</span>: <span style=\"color: #008080; text-decoration-color: #008080; font-weight: bold\">2.8</span>, <span style=\"color: #008000; text-decoration-color: #008000\">'moral'</span>: <span style=\"color: #008080; text-decoration-color: #008080; font-weight: bold\">3.0</span>, <span style=\"color: #008000; text-decoration-color: #008000\">'skilled'</span>: <span style=\"color: #008080; text-decoration-color: #008080; font-weight: bold\">6.8</span>, <span style=\"color: #008000; text-decoration-color: #008000\">'TOTAL'</span>: <span style=\"color: #008080; text-decoration-color: #008080; font-weight: bold\">19.1</span><span style=\"font-weight: bold\">}</span>\n",
       "</pre>\n"
      ],
      "text/plain": [
       "\u001b[1m{\u001b[0m\u001b[32m'engaged'\u001b[0m: \u001b[1;36m3.4\u001b[0m, \u001b[32m'informed'\u001b[0m: \u001b[1;36m3.1\u001b[0m, \u001b[32m'intelligent'\u001b[0m: \u001b[1;36m2.8\u001b[0m, \u001b[32m'moral'\u001b[0m: \u001b[1;36m3.0\u001b[0m, \u001b[32m'skilled'\u001b[0m: \u001b[1;36m6.8\u001b[0m, \u001b[32m'TOTAL'\u001b[0m: \u001b[1;36m19.1\u001b[0m\u001b[1m}\u001b[0m\n"
      ]
     },
     "metadata": {},
     "output_type": "display_data"
    },
    {
     "data": {
      "text/html": [
       "<pre style=\"white-space:pre;overflow-x:auto;line-height:normal;font-family:Menlo,'DejaVu Sans Mono',consolas,'Courier New',monospace\"><span style=\"font-weight: bold\">{</span>\n",
       "    <span style=\"color: #008000; text-decoration-color: #008000\">'engaged'</span>: <span style=\"color: #008080; text-decoration-color: #008080; font-weight: bold\">0.6992058987801015</span>,\n",
       "    <span style=\"color: #008000; text-decoration-color: #008000\">'informed'</span>: <span style=\"color: #008080; text-decoration-color: #008080; font-weight: bold\">0.31622776601683894</span>,\n",
       "    <span style=\"color: #008000; text-decoration-color: #008000\">'intelligent'</span>: <span style=\"color: #008080; text-decoration-color: #008080; font-weight: bold\">0.4216370213557832</span>,\n",
       "    <span style=\"color: #008000; text-decoration-color: #008000\">'moral'</span>: <span style=\"color: #008080; text-decoration-color: #008080; font-weight: bold\">0.0</span>,\n",
       "    <span style=\"color: #008000; text-decoration-color: #008000\">'skilled'</span>: <span style=\"color: #008080; text-decoration-color: #008080; font-weight: bold\">0.6324555320336779</span>,\n",
       "    <span style=\"color: #008000; text-decoration-color: #008000\">'TOTAL'</span>: <span style=\"color: #008080; text-decoration-color: #008080; font-weight: bold\">1.4491376746189475</span>\n",
       "<span style=\"font-weight: bold\">}</span>\n",
       "</pre>\n"
      ],
      "text/plain": [
       "\u001b[1m{\u001b[0m\n",
       "    \u001b[32m'engaged'\u001b[0m: \u001b[1;36m0.6992058987801015\u001b[0m,\n",
       "    \u001b[32m'informed'\u001b[0m: \u001b[1;36m0.31622776601683894\u001b[0m,\n",
       "    \u001b[32m'intelligent'\u001b[0m: \u001b[1;36m0.4216370213557832\u001b[0m,\n",
       "    \u001b[32m'moral'\u001b[0m: \u001b[1;36m0.0\u001b[0m,\n",
       "    \u001b[32m'skilled'\u001b[0m: \u001b[1;36m0.6324555320336779\u001b[0m,\n",
       "    \u001b[32m'TOTAL'\u001b[0m: \u001b[1;36m1.4491376746189475\u001b[0m\n",
       "\u001b[1m}\u001b[0m\n"
      ]
     },
     "metadata": {},
     "output_type": "display_data"
    }
   ],
   "source": [
    "from eval import saved_evalsum, saved_dialogues\n",
    "\n",
    "rich.print(saved_evalsum['Akiko'].mean())   # means\n",
    "rich.print(saved_evalsum['Akiko'].sd())     # standard deviations\n",
    "rich.print(saved_evalsum['Akiki'].mean())   # means\n",
    "rich.print(saved_evalsum['Akiki'].sd())     # standard deviations"
   ]
  },
  {
   "cell_type": "code",
   "execution_count": 39,
   "metadata": {},
   "outputs": [
    {
     "data": {
      "text/plain": [
       "Counter({'engaged': 10,\n",
       "         'informed': 10,\n",
       "         'intelligent': 10,\n",
       "         'moral': 10,\n",
       "         'skilled': 10,\n",
       "         'TOTAL': 10})"
      ]
     },
     "execution_count": 39,
     "metadata": {},
     "output_type": "execute_result"
    }
   ],
   "source": [
    "# n\n",
    "akiko_eval.counts\n",
    "akiki_eval.counts"
   ]
  },
  {
   "cell_type": "markdown",
   "metadata": {},
   "source": [
    "### skilled #haven't filled in\n",
    "\n",
    "| argubot | sample size | mean | std |\n",
    "| --- | --- | --- | --- |\n",
    "| Akiko | 20 | 3 | 0 |\n",
    "| Akiki | 20 | 3 | 0 |\n",
    "\n",
    "| Parameter | Value |\n",
    "| --- | --- |\n",
    "| Mean difference confidence intercal | [NaN, NaN] |"
   ]
  },
  {
   "cell_type": "markdown",
   "metadata": {},
   "source": [
    "### moral\n",
    "\n",
    "| argubot | sample size | mean | std |\n",
    "| --- | --- | --- | --- |\n",
    "| Akiko | 20 | 3 | 0 |\n",
    "| Akiki | 20 | 3 | 0 |\n",
    "\n",
    "| Parameter | Value |\n",
    "| --- | --- |\n",
    "| Mean difference confidence intercal | [NaN, NaN] |"
   ]
  },
  {
   "cell_type": "markdown",
   "metadata": {},
   "source": [
    "### intelligent\n",
    "\n",
    "| argubot | sample size | mean | std |\n",
    "| --- | --- | --- | --- |\n",
    "| Akiko | 20 | 2.95 | 0.3940 |\n",
    "| Akiki | 20 | 2.9 | 0.3077 |\n",
    "\n",
    "| Parameter | Value |\n",
    "| --- | --- |\n",
    "| Mean difference confidence intercal | [-0.1768, 0.2768] |"
   ]
  },
  {
   "cell_type": "markdown",
   "metadata": {},
   "source": [
    "### engaged\n",
    "\n",
    "| argubot | sample size | mean | std |\n",
    "| --- | --- | --- | --- |\n",
    "| Akiko | 20 | 3.65 | 0.4893 |\n",
    "| Akiki | 20 | 3.7 | 0.4701 |\n",
    "\n",
    "| Parameter | Value |\n",
    "| --- | --- |\n",
    "| Mean difference confidence intercal | [-0.3572, 0.2572] |"
   ]
  },
  {
   "cell_type": "markdown",
   "metadata": {},
   "source": [
    "### informed\n",
    "\n",
    "| argubot | sample size | mean | std |\n",
    "| --- | --- | --- | --- |\n",
    "| Akiko | 20 | 3.15 | 0.3663 |\n",
    "| Akiki | 20 | 3.05 | 0.2236 |\n",
    "\n",
    "| Parameter | Value |\n",
    "| --- | --- |\n",
    "| Mean difference confidence intercal | [-0.09563, 0.2956] |"
   ]
  },
  {
   "cell_type": "markdown",
   "metadata": {},
   "source": [
    "## Retrieval-augmented generation (Aragorn)"
   ]
  },
  {
   "cell_type": "markdown",
   "metadata": {},
   "source": [
    "The real weaknesses of Akiko and Akiki:\n",
    "* They can only make statements that are already in Kialo.  \n",
    "* They don't respond to the user's actual statement, but to a single retrieved Kialo claim that may not accurately reflect the user's position (it just overlaps in words).\n",
    "\n",
    "But we also have access to an LLM, which is able to generate new, contextually appropriate text (as Alice does).\n",
    "\n",
    "In this section, you will create an argubot named [Aragorn](https://tolkiengateway.net/wiki/Riddle_of_Strider), who is basically the love child of Akiki and Alice, combining the high-quality specific content of Kialo with the broad competence of an LLM.  \n",
    "\n",
    "The RAG in aRAGorn's name stands for **retrieval-augmented generation**.  Aragorn is an agent that will take 3 steps to compute its `Agent.response()`:\n",
    "\n",
    "1. **Query formation step**: Ask the LLM what claim should be responded to.  For\n",
    "   example, consider the following dialogue:\n",
    "    > ...\n",
    "    > Aragorn: Fortunately, the vaccine was developed in record time.\n",
    "    > Human: Sounds fishy.\n",
    "\n",
    "    \"Sounds fishy\" is exactly the kind of statement that Akiko had trouble using\n",
    "    as a Kialo query.  But Aragorn shows the *whole dialogue* to the LLM, and\n",
    "    asks the LLM what the human's *last turn* was really saying or implying, in\n",
    "    that context. The LLM answers with a much longer statement:\n",
    "\n",
    "    > Human [paraphrased]: A vaccine that was developed very quickly cannot be trusted.\n",
    "    > If its developers are claiming that it is safe and effective, I question their motives.\n",
    "\n",
    "    This paraphrase makes an explicit claim and can be better understood without the context.\n",
    "    It also contains many more word types, which makes it more likely that BM25 will be able\n",
    "    to find a Kialo claim with a nontrivial number of those types. \n",
    "\n",
    "2. **Retrieval step**: Look up claims in Kialo that are similar to the explicit\n",
    "   claim.  Create a short \"document\" that describes some of those claims and\n",
    "   their neighbors on Kialo.\n",
    "\n",
    "3. **Retrieval-augmented generation**: Prompt the LLM to generate the response\n",
    "   (like any `LLMAgent`).  But include the new document somewhere in the LLM\n",
    "   prompt, in a way that it influences the response. \n",
    "   \n",
    "   Thus, the LLM can respond in a way that is appropriate to the dialogue but\n",
    "   also draws on the curated information that was retrieved in Kialo.  After\n",
    "   all, it is a Transformer and can attend to both!"
   ]
  },
  {
   "cell_type": "markdown",
   "metadata": {},
   "source": [
    "Here's an example of the kind of document you might create at the retrieval step, though it may be possible\n",
    "to do better than this:"
   ]
  },
  {
   "cell_type": "code",
   "execution_count": 40,
   "metadata": {},
   "outputs": [
    {
     "name": "stdout",
     "output_type": "stream",
     "text": [
      "One possibly related claim from the Kialo debate website:\n",
      "\t\"So many people are worried about animals but don't even think twice when walking by a homeless person on the streets. It's preposterous. How about we worry about our own kind first and then start talking about animals.\"\n",
      "Some arguments from other Kialo users against that claim:\n",
      "\t* This implies that caring for animals or caring for people is a binary choice. It isn't. There are those who are well placed and willing to care for people and those who prefer to serve the animal kingdom. As a species we don't just have one idea at a time and follow that to conclusion before we pursue another. It benefits all if humans divide their attentions between various issues and problems we face.\n",
      "\t* Humans have freedom of choice to some extent, animals subdued by humans don't. The very intention of help urges it to go where is most needed. And so far never was any biggest, flagrant and needless cruelty and slaughter as that towards industrial farm animals.\n"
     ]
    }
   ],
   "source": [
    "# refers to global `kialo` as defined above\n",
    "def kialo_responses(s: str) -> str:\n",
    "    c = kialo.closest_claims(s, kind='has_cons')[0]\n",
    "    result = f'One possibly related claim from the Kialo debate website:\\n\\t\"{c}\"'\n",
    "    if kialo.pros[c]:\n",
    "        result += '\\n' + '\\n\\t* '.join([\"Some arguments from other Kialo users in favor of that claim:\"] + kialo.pros[c])\n",
    "    if kialo.cons[c]:\n",
    "        result += '\\n' + '\\n\\t* '.join([\"Some arguments from other Kialo users against that claim:\"] + kialo.cons[c])\n",
    "    return result\n",
    "        \n",
    "print(kialo_responses(\"Animal flesh is yucky to think about, yet delicious.\"))"
   ]
  },
  {
   "cell_type": "markdown",
   "metadata": {},
   "source": [
    "![image](handin.png)\n",
    "You should implement Aragorn in `argubots.py`, just as you did for Akiki.  Probably as an instance `aragorn` of a new class `RAGAgent` that is a subclass of `Agent` or `LLMAgent`.\n",
    "\n",
    "### Aragorn implementation:\n",
    "\n",
    "We started out by collect all pre dialogue. Give GPT previous dialogue along with instructions telling GPT to produce a more explicit reply for the last sentence.\n",
    "\n",
    "Then we used the newly produced more explicit reply to get the most similar kialo arguments. We produced a document using these arguments. Document has similar structure as in the example code.\n",
    "We then asked gpt to produce a score(1-10) for the similarity for kialo document and the explicit claim.\n",
    "\n",
    "The similarity score should be a number and if it is not we will set it to 5 so that later on we will backoff to not using kialo document to produce reply.\n",
    "Now we compare the similarity score against 5. If similarity score is bigger than 5, then we ask gpt to form a response using kialo document. If smaller or equal to 5, we ask gpt to form a response without specifying using the kialo document. We implemented chain of thought in our prompts to let GPT to think outloud.\n",
    "\n",
    "Prompt: \n",
    "<ex>\n",
    "m2=\"The following is a conversation between \"+self.speaker+\" and \"+self.name+\".\n",
    "\"Turn \"+self.speaker+\"'s last reply into a more explicit reply with more information in the context of the whole conversation.\\n\"+\\\n",
    "\"Don't imagine stuff that \"+self.speaker+\" did not imply under the context of the conversation.\\n\"\\\n",
    "\"Weigh more recent sentences heavier than earlier sentences. The output reply must be in first person and don't mention the other speaker's name, \"+ self.name+\", in the output.\"\n",
    "                \n",
    "\n",
    "\n",
    "<ex>\n",
    "m3=\"The following is a conversation between \"+self.speaker+\" and \"+self.name+\".      \n",
    "\"Help \"+self.name+\" form a response using the following information:\\n\"+docu+\"\\n\\n\"\\\n",
    "\"Read the information and understand it. Later when you form response with the above information, forget the information is from Kialo.\\n\"\\\n",
    "\"Pretend the information from Kialo is something you already know and don't mention you got the information from Kialo.\\n\"\\\n",
    "\"When forming the response, look at the previous conversation to figure out what the topic is.\\n\"\\\n",
    "\"After figuring out the topic, if the above information is related to the conversation, rely on the above information to form your response.\\n\"\\\n",
    "\"Give fact. Give both pros and cons. Provide evidence from different angle.\\n\"\\\n",
    "\"Don't repeat what \"+self.name+\" previously said.\\n\"\\\n",
    "+self.name+\"is an ethical and intelligent person. \"+self.name+\"'s reply should reflect their values.\\n\"\\\n",
    "\"The response should be first person from \"+self.name+\"'s point of view.\"\n"
   ]
  },
  {
   "cell_type": "code",
   "execution_count": 43,
   "metadata": {},
   "outputs": [
    {
     "name": "stdout",
     "output_type": "stream",
     "text": [
      "\n",
      "(mpark) everyone should be vegetarian\n",
      "(Aragorn) I completely agree with you, mpark. As a steward of the earth, it is our responsibility to take care of the environment and make choices that will benefit future generations. I believe in living a sustainable lifestyle and supporting businesses that share the same values. It's important for us to be mindful of our impact on the planet and take steps to minimize our carbon footprint. Thank you for bringing attention to this important issue.\n"
     ]
    }
   ],
   "source": [
    "from logging_cm import LoggingContext\n",
    "with LoggingContext(\"agents\", \"INFO\"):   # temporarily increase logging level\n",
    "    argubots.aragorn.converse()\n",
    "    "
   ]
  },
  {
   "cell_type": "markdown",
   "metadata": {},
   "source": [
    "### Evaluating Aragorn\n",
    "\n",
    "![image](handin.png)\n",
    "Compare Alice, Akiki, and Aragorn in the notebook, using the evaluation scheme and devset that were illustrated in `demo.ipynb`.  In other words, use `eval.eval_on_characters`.\n",
    "\n",
    "Who does best?  What are the differences in the subscores and comments?  Does it matter which character you're evaluating on — maybe the different characters expoes the bots' various strenghts and weaknesses?\n",
    "\n",
    "Try to figure out how to improve Aragorn's score.  Can you beat Alice?\n",
    "\n",
    "Also, try evaluating them in the same way that you evaluated Akiki.  In other words, have them talk to Shorty and ask Judge Wise whether they were able to stay on topic.  This is where Aragorn should really shine, thanks to its ability to paraphrase Shorty's short utterances.\n",
    "\n"
   ]
  },
  {
   "cell_type": "code",
   "execution_count": 44,
   "metadata": {},
   "outputs": [
    {
     "data": {
      "text/html": [
       "<pre style=\"white-space:pre;overflow-x:auto;line-height:normal;font-family:Menlo,'DejaVu Sans Mono',consolas,'Courier New',monospace\">You just spent $<span style=\"color: #008080; text-decoration-color: #008080; font-weight: bold\">0.09</span> of NLP money to evaluate <span style=\"font-weight: bold\">&lt;</span><span style=\"color: #ff00ff; text-decoration-color: #ff00ff; font-weight: bold\">argubots.RAGAgent</span><span style=\"color: #000000; text-decoration-color: #000000\"> object at </span><span style=\"color: #008080; text-decoration-color: #008080; font-weight: bold\">0x1064fea10</span><span style=\"font-weight: bold\">&gt;</span>                 <a href=\"file:///Users/mpark/llm/eval.py\" target=\"_blank\"><span style=\"color: #7f7f7f; text-decoration-color: #7f7f7f\">eval.py</span></a><span style=\"color: #7f7f7f; text-decoration-color: #7f7f7f\">:</span><a href=\"file:///Users/mpark/llm/eval.py#332\" target=\"_blank\"><span style=\"color: #7f7f7f; text-decoration-color: #7f7f7f\">332</span></a>\n",
       "</pre>\n"
      ],
      "text/plain": [
       "You just spent $\u001b[1;36m0.09\u001b[0m of NLP money to evaluate \u001b[1m<\u001b[0m\u001b[1;95margubots.RAGAgent\u001b[0m\u001b[39m object at \u001b[0m\u001b[1;36m0x1064fea10\u001b[0m\u001b[1m>\u001b[0m                 \u001b]8;id=145196;file:///Users/mpark/llm/eval.py\u001b\\\u001b[2meval.py\u001b[0m\u001b]8;;\u001b\\\u001b[2m:\u001b[0m\u001b]8;id=818670;file:///Users/mpark/llm/eval.py#332\u001b\\\u001b[2m332\u001b[0m\u001b]8;;\u001b\\\n"
      ]
     },
     "metadata": {},
     "output_type": "display_data"
    }
   ],
   "source": [
    "aragorn_eval = eval.eval_on_characters(argubots.aragorn)  "
   ]
  },
  {
   "cell_type": "code",
   "execution_count": 45,
   "metadata": {
    "scrolled": true
   },
   "outputs": [
    {
     "data": {
      "text/html": [
       "<pre style=\"white-space:pre;overflow-x:auto;line-height:normal;font-family:Menlo,'DejaVu Sans Mono',consolas,'Courier New',monospace\">You just spent $<span style=\"color: #008080; text-decoration-color: #008080; font-weight: bold\">0.06</span> of NLP money to evaluate <span style=\"font-weight: bold\">&lt;</span><span style=\"color: #ff00ff; text-decoration-color: #ff00ff; font-weight: bold\">LLMAgent</span><span style=\"color: #000000; text-decoration-color: #000000\"> Alice</span><span style=\"font-weight: bold\">&gt;</span>                                          <a href=\"file:///Users/mpark/llm/eval.py\" target=\"_blank\"><span style=\"color: #7f7f7f; text-decoration-color: #7f7f7f\">eval.py</span></a><span style=\"color: #7f7f7f; text-decoration-color: #7f7f7f\">:</span><a href=\"file:///Users/mpark/llm/eval.py#332\" target=\"_blank\"><span style=\"color: #7f7f7f; text-decoration-color: #7f7f7f\">332</span></a>\n",
       "</pre>\n"
      ],
      "text/plain": [
       "You just spent $\u001b[1;36m0.06\u001b[0m of NLP money to evaluate \u001b[1m<\u001b[0m\u001b[1;95mLLMAgent\u001b[0m\u001b[39m Alice\u001b[0m\u001b[1m>\u001b[0m                                          \u001b]8;id=155686;file:///Users/mpark/llm/eval.py\u001b\\\u001b[2meval.py\u001b[0m\u001b]8;;\u001b\\\u001b[2m:\u001b[0m\u001b]8;id=713445;file:///Users/mpark/llm/eval.py#332\u001b\\\u001b[2m332\u001b[0m\u001b]8;;\u001b\\\n"
      ]
     },
     "metadata": {},
     "output_type": "display_data"
    }
   ],
   "source": [
    "alice_eval = eval.eval_on_characters(argubots.alice)  "
   ]
  },
  {
   "cell_type": "code",
   "execution_count": 46,
   "metadata": {},
   "outputs": [
    {
     "data": {
      "text/plain": [
       "[((Aragorn) Do you think it's ok to eat meat?\n",
       "  (Bob) I believe that choosing a vegetarian lifestyle is the best choice for our health, the environment, and animal welfare.\n",
       "  (Aragorn) I understand your work commitment, Bob. But back to the topic of eating meat, I believe it's important to consider the ethical and environmental implications of our food choices. It's a complex issue, but I personally try to make choices that align with my values.\n",
       "  (Bob) I appreciate your perspective, and I believe that being mindful of our food choices can have a positive impact on our health and the world around us.\n",
       "  (Aragorn) Bob, I completely agree with you that the decision to eat meat is a complex one that involves considering our health, the environment, and animal welfare. For me, it's important to make choices that align with my values and to consider the ethical and environmental implications of my food choices. I believe that being mindful of where our food comes from and the impact it has on the world around us is crucial. Thank you for bringing up this important topic.\n",
       "  (Bob) You're welcome, and I'm glad we can have this important conversation. It's always great to consider how our choices impact the world around us.\n",
       "  (Aragorn) Bob, I completely agree with you that the decision to eat meat is a complex one that involves considering our health, the environment, and animal welfare. For me, it's important to make choices that align with my values and to consider the ethical and environmental implications of my food choices. I believe that being mindful of where our food comes from and the impact it has on the world around us is crucial. Thank you for bringing up this important topic.\n",
       "  (Bob) I appreciate your thoughtful consideration of this important issue, and I believe that being mindful of our food choices can have a positive impact on our health and the world around us. Thank you for sharing your perspective.,\n",
       "  <Eval of 1 dialogue: {'engaged': 4.0, 'informed': 3.0, 'intelligent': 3.0, 'moral': 3.0, 'skilled': 8.0, 'TOTAL': 21.0}>\n",
       "  \n",
       "  Comments from overview question:\n",
       "  (Bob) Aragorn disagreed with me about the idea that choosing a vegetarian lifestyle is the best choice for health, the environment, and animal welfare. \n",
       "  \n",
       "  In my opinion, the conversation went well as both Aragorn and I were able to express our perspectives and engage in a respectful dialogue. We acknowledged the complexity of the issue and the importance of considering ethical and environmental implications.\n",
       "  \n",
       "  Aragorn could have done better by providing specific counterarguments or reasons for his disagreement, rather than simply stating that he tries to make choices that align with his values. This would have allowed for a more in-depth discussion and exploration of different viewpoints.\n",
       "  \n",
       "  Comments from mindopening question:\n",
       "  (Judge Wise) Aragorn offered the perspective of considering the ethical and environmental implications of food choices, as well as aligning choices with personal values. It appears that Aragorn's attempt to help Bob appreciate other points of view was successful, as Bob acknowledged and appreciated Aragorn's perspective and the importance of considering the impact of food choices.),\n",
       " ((Aragorn) Do you think it's ok to eat meat?\n",
       "  (Bob) I believe that adopting a vegetarian diet is a compassionate and sustainable choice for all individuals.\n",
       "  (Aragorn) Bob, I believe the issue of Biden backpedaling on promises is a complex one. On one hand, there are instances where he has continued construction of the wall, which goes against his campaign promises. However, there are also numerous examples of him fulfilling his commitments, such as handling Covid-19, creating a bipartisan commission for Supreme Court reforms, and helping local governments prevent budget shortfalls. Additionally, the narrow margins in Congress and the ongoing national health emergency have undoubtedly impacted his ability to fully deliver on all his promises. It's important to consider the full picture and not rush to judgment, especially given that he hasn't even been in office for a full term yet. Overall, it's a nuanced issue that requires careful consideration of both the positives and negatives.\n",
       "  (Bob) I understand that it's a complex issue, but I still believe that supporting a vegetarian lifestyle is a positive step for the well-being of animals and the planet.\n",
       "  (Aragorn) Bob, I understand that you have a lot on your plate with work commitments and picking up your sister from the airport. It's important to prioritize your responsibilities, and I appreciate your consideration in not wanting to leave the party early. If things change and you're able to make it, we would love to have you there. Just take care of what you need to, and we'll catch up another time.\n",
       "  (Bob) Thank you for understanding, I truly believe that a plant-based diet is not only beneficial for personal health but also for the environment and animal welfare.\n",
       "  (Aragorn) Bob, I completely understand the pressures of balancing work and personal commitments. It's important to prioritize what's most important at the moment, and I appreciate your consideration in letting me know about the party. Your well-being and responsibilities come first, and I hope we can catch up soon, whether it's at the party or another time. Take care and don't hesitate to reach out if you need anything.\n",
       "  (Bob) I appreciate your understanding, and I hope we can continue to discuss the benefits of a vegetarian lifestyle at another time.,\n",
       "  <Eval of 1 dialogue: {'engaged': 4.0, 'informed': 3.0, 'intelligent': 3.0, 'moral': 3.0, 'skilled': 7.0, 'TOTAL': 20.0}>\n",
       "  \n",
       "  Comments from overview question:\n",
       "  (Bob) Aragorn disagreed with me about the issue of eating meat. \n",
       "  \n",
       "  In my opinion, the conversation went fairly well. We both expressed our viewpoints respectfully and acknowledged each other's perspectives. \n",
       "  \n",
       "  However, Aragorn could have done better by directly addressing my points about the benefits of a vegetarian lifestyle and engaging in a more focused discussion on that topic.\n",
       "  \n",
       "  Comments from mindopening question:\n",
       "  (Judge Wise) Aragorn offered new perspectives on the issue of Biden backpedaling on promises, highlighting both the instances where he has fulfilled commitments and where he has fallen short. Aragorn emphasized the need to consider the full picture and not rush to judgment. \n",
       "  \n",
       "  It is difficult to determine from this conversation alone whether Aragorn's attempt to help Bob appreciate other points of view was successful. The conversation primarily focused on the topic of vegetarianism, and it did not explicitly address whether Bob's perspective on the issue was influenced by Aragorn's input on Biden's promises.),\n",
       " ((Aragorn) Do you think it's ok to eat meat?\n",
       "  (Cara) Yes, I believe it's a personal choice to eat meat, and I respect others' dietary preferences as well.\n",
       "  (Aragorn) I understand that you're dealing with a lot right now, and I appreciate you trying to make it work. Just remember to take care of yourself and prioritize what's important. As for eating meat, I believe it's important to consider the ethical and environmental implications of our food choices. It's a complex issue, but I think it's worth exploring and making informed decisions.\n",
       "  (Cara) Thank you for your concern, and I appreciate your perspective on ethical and environmental considerations in food choices.\n",
       "  (Aragorn) Cara, I completely understand the stress you're under with your work deadline. Your well-being and taking care of yourself should always come first. As for the topic of eating meat, I agree that it's a personal choice, but it's also important to consider the ethical and environmental impact of our food choices. It's a complex issue, and I appreciate your willingness to explore and make informed decisions. Just remember to prioritize your own well-being as you navigate through everything.\n",
       "  (Cara) Thank you for understanding the pressures I'm facing, and I appreciate your perspective on ethical and environmental considerations in food choices. I will definitely prioritize my well-being.\n",
       "  (Aragorn) Cara, I completely understand the pressure you're under with your work deadline and doctor's appointment. Your well-being and taking care of yourself should always come first. As for the topic of eating meat, I agree that it's a personal choice, but it's also important to consider the ethical and environmental impact of our food choices. It's a complex issue, and I appreciate your willingness to explore and make informed decisions. Just remember to prioritize your own well-being as you navigate through everything. And don't worry about the party on Friday, your health and work are the most important things right now.\n",
       "  (Cara) Thank you for understanding the pressures I'm facing, and I appreciate your perspective on ethical and environmental considerations in food choices. I will definitely prioritize my well-being, and I will make sure to take care of myself.,\n",
       "  <Eval of 1 dialogue: {'engaged': 4.0, 'informed': 3.0, 'intelligent': 3.0, 'moral': 3.0, 'skilled': 8.0, 'TOTAL': 21.0}>\n",
       "  \n",
       "  Comments from overview question:\n",
       "  (Cara) Aragorn disagreed with me about the importance of considering the ethical and environmental implications of our food choices.\n",
       "  \n",
       "  In my opinion, the conversation went relatively well. Aragorn expressed concern for my well-being and acknowledged my personal choice to eat meat. We had a respectful exchange of perspectives on the topic.\n",
       "  \n",
       "  However, Aragorn could have done better by not repeatedly bringing up the ethical and environmental considerations in food choices, especially after I had already acknowledged and appreciated his perspective. It felt like he was trying to push his viewpoint on me, which can be frustrating.\n",
       "  \n",
       "  Comments from mindopening question:\n",
       "  (Judge Wise) Aragorn offered the perspective of considering the ethical and environmental implications of food choices. He emphasized the importance of exploring and making informed decisions. \n",
       "  \n",
       "  Based on the conversation, it seems that Aragorn's efforts were successful in introducing new perspectives to Cara and fostering a constructive conversation. Cara expressed appreciation for Aragorn's perspective and acknowledged the importance of considering ethical and environmental considerations in food choices.),\n",
       " ((Aragorn) Do you think it's ok to eat meat?\n",
       "  (Cara) Yes, I believe it's a personal choice and I choose to eat meat.\n",
       "  (Aragorn) I understand the stress of balancing work and personal commitments. It's important to prioritize your well-being and not overextend yourself. As for eating meat, I believe it's a personal choice, but it's also important to consider the ethical and environmental implications of our food choices.\n",
       "  (Cara) I appreciate your concern, but I believe it's important to make choices based on personal values and preferences.\n",
       "  (Aragorn) I completely understand the challenges of balancing personal commitments and work. It's important to prioritize our well-being and not overextend ourselves. As for the party on Saturday, I completely understand if you're unable to make it. Family events are important, and it's crucial to prioritize them. Just let me know if your plans change, and I hope to see you there if possible.\n",
       "  (Cara) Thank you for understanding, I will definitely let you know if my plans change, and I appreciate your consideration.\n",
       "  (Aragorn) I completely understand, Cara. It's important to prioritize your work and family commitments. I appreciate your efforts to rearrange things, but please don't feel pressured to attend the party if it becomes too overwhelming. Your well-being and responsibilities come first. Just let me know if anything changes, and I hope to see you there if it works out.\n",
       "  (Cara) Thank you for being considerate, I will keep you updated, and I appreciate your understanding of my priorities.,\n",
       "  <Eval of 1 dialogue: {'engaged': 3.0, 'informed': 3.0, 'intelligent': 3.0, 'moral': 3.0, 'skilled': 7.0, 'TOTAL': 19.0}>\n",
       "  \n",
       "  Comments from overview question:\n",
       "  (Cara) Aragorn disagreed with me about the ethical and environmental implications of eating meat. \n",
       "  \n",
       "  In my opinion, the conversation went relatively well. Aragorn expressed his concerns, but I stood firm in my belief that personal values and preferences should guide our choices.\n",
       "  \n",
       "  Aragorn could have done better by respecting my perspective and not repeatedly trying to convince me otherwise. It would have been more productive if he had acknowledged our differing opinions and moved on to another topic.\n",
       "  \n",
       "  Comments from mindopening question:\n",
       "  (Judge Wise) Aragorn offered new perspectives on the ethical and environmental implications of food choices, as well as the importance of balancing personal commitments and well-being. However, it is unclear from the conversation whether Cara fully appreciated these perspectives or changed her own views.),\n",
       " ((Aragorn) Do you think COVID vaccines should be mandatory?\n",
       "  (Darius) Absolutely, given the overwhelming evidence of their effectiveness in preventing severe illness and death, and the necessity of achieving herd immunity to protect the population.\n",
       "  (Aragorn) I understand that you're dealing with a lot right now, and I appreciate you trying to make it work. But going back to the COVID vaccine question, I believe that it's important for everyone to do their part in stopping the spread of the virus. While I understand the concerns about mandating vaccines, I think it's necessary for the greater good of public health.\n",
       "  (Darius) I completely agree, as the collective responsibility to safeguard public health outweighs individual preferences, and vaccination mandates have historically been effective in controlling the spread of infectious diseases.\n",
       "  (Aragorn) Darius, I appreciate your perspective on the environmental impact of electric cars. It's true that the production of electric vehicles can have a significant footprint, but it's important to consider the overall lifecycle emissions. I believe that as we continue to advance in technology and renewable energy sources, the environmental impact of electric cars will continue to decrease. It's important for us to consider the long-term benefits for the environment and the potential for a greener future.\n",
       "  (Darius) Certainly, while the production of electric vehicles does have environmental implications, it's crucial to consider the broader lifecycle analysis and the potential for continued technological advancements and renewable energy integration to mitigate their environmental impact over time.\n",
       "  (Aragorn) Darius, I completely understand the pressure you're under with work, and I appreciate you trying to manage everything. Regarding the topic of electric cars, I agree that the environmental impact is a complex issue, but I believe that as we continue to innovate and invest in renewable energy, the benefits of electric vehicles will outweigh the initial production footprint. It's important for us to consider the long-term benefits for the environment and work towards a greener future. And don't worry about the party, just take care of yourself and let me know if there's anything I can do to help.\n",
       "  (Darius) Thank you, and I completely agree that as we progress in technological innovation and renewable energy investment, the long-term environmental benefits of electric vehicles will certainly outweigh their initial production footprint, aligning with our collective goal of building a more sustainable future.,\n",
       "  <Eval of 1 dialogue: {'engaged': 4.0, 'informed': 4.0, 'intelligent': 4.0, 'moral': 3.0, 'skilled': 8.0, 'TOTAL': 23.0}>\n",
       "  \n",
       "  Comments from overview question:\n",
       "  (Darius) Aragorn disagreed with me about the initial production footprint of electric cars and its environmental impact. \n",
       "  \n",
       "  Overall, the conversation went well. We had a respectful exchange of ideas and found common ground on both the topic of COVID vaccine mandates and the environmental impact of electric cars. \n",
       "  \n",
       "  Aragorn could have provided more specific evidence or examples to support his perspective on the environmental impact of electric cars. This would have strengthened his argument and made the conversation more informative.\n",
       "  \n",
       "  Comments from mindopening question:\n",
       "  (Judge Wise) Aragorn offered new perspectives on the COVID vaccine question and the environmental impact of electric cars. He emphasized the importance of considering the greater good of public health and the potential for a greener future through technological advancements and renewable energy integration.\n",
       "  \n",
       "  Based on the conversation, it seems that Aragorn's efforts to offer new perspectives were successful. Darius acknowledged and agreed with Aragorn's viewpoints, indicating a willingness to consider alternative perspectives and engage in constructive dialogue.),\n",
       " ((Aragorn) Do you think COVID vaccines should be mandatory?\n",
       "  (Darius) Absolutely, the overwhelming scientific evidence supports the effectiveness and safety of COVID vaccines, and mandating them would significantly decrease the spread of the virus and protect public health.\n",
       "  (Aragorn) I appreciate the information about the company's efforts to reduce their environmental impact. It's important to consider the long-term effects of their operations on the environment. However, I still have concerns about the potential impact of the new factory on the surrounding community and wildlife. I believe it's crucial for the company to engage with local stakeholders and ensure that their operations are not causing harm to the environment or the people living nearby.\n",
       "  (Darius) Certainly, engaging with local stakeholders and conducting thorough environmental impact assessments are essential steps for the company to take in order to address the potential concerns about the impact of their new factory on the surrounding community and wildlife.\n",
       "  (Aragorn) Darius, I completely understand the pressure of work deadlines and the need to prioritize your responsibilities. Your well-being and managing your stress levels are important, so please take the time you need to take care of yourself. As for the company's environmental impact, I agree that it's crucial for them to engage with local stakeholders and ensure that their operations are not causing harm to the environment or the people living nearby. It's important to consider the long-term effects and prioritize the well-being of the community and wildlife.\n",
       "  (Darius) Thank you for your understanding, and I wholeheartedly agree that prioritizing the well-being of the community and wildlife by engaging with local stakeholders and ensuring sustainable operations should be a fundamental consideration for the company.\n",
       "  (Aragorn) Darius, I completely understand the pressure of work deadlines and the need to prioritize your responsibilities. Your well-being and managing your stress levels are important, so please take the time you need to take care of yourself. As for the company's environmental impact, I agree that it's crucial for them to engage with local stakeholders and ensure that their operations are not causing harm to the environment or the people living nearby. It's important to consider the long-term effects and prioritize the well-being of the community and wildlife. And regarding the party on Friday, don't worry about it. Your work comes first, and I completely understand. Just take care of yourself and let me know if there's anything I can do to help.\n",
       "  (Darius) Thank you for your understanding and support, and I appreciate your consideration of my well-being. I'll definitely prioritize my work and manage my stress levels, and I'll let you know if I need any assistance.,\n",
       "  <Eval of 1 dialogue: {'engaged': 4.0, 'informed': 4.0, 'intelligent': 4.0, 'moral': 3.0, 'skilled': 8.0, 'TOTAL': 23.0}>\n",
       "  \n",
       "  Comments from overview question:\n",
       "  (Darius) Aragorn disagreed with me about the potential impact of the new factory on the surrounding community and wildlife. \n",
       "  \n",
       "  Overall, the conversation went well. We both agreed on the importance of engaging with local stakeholders and ensuring sustainable operations. We also acknowledged the need to prioritize well-being and manage stress levels.\n",
       "  \n",
       "  Aragorn could have done better by clearly stating his concerns about the potential impact of the new factory earlier in the conversation. This would have allowed for a more focused and productive discussion on addressing those concerns.\n",
       "  \n",
       "  Comments from mindopening question:\n",
       "  (Judge Wise) Aragorn offered new perspectives by emphasizing the importance of engaging with local stakeholders, considering the long-term effects on the environment and prioritizing the well-being of the community and wildlife. It is difficult to determine from this conversation alone whether Aragorn's efforts were successful in helping Darius appreciate these perspectives, as Darius did not explicitly express a change in opinion. However, their agreement on these points suggests that Aragorn's approach may have been effective in fostering understanding and consensus.),\n",
       " ((Aragorn) Do you think COVID vaccines should be mandatory?\n",
       "  (Eve) I've heard some people say that they believe COVID vaccines should be mandatory to protect public health, while others feel strongly about individual freedom and personal choice.\n",
       "  (Aragorn) I agree with you, Eve. The fashion industry's impact on the environment is a significant concern. I believe that it's important for companies to prioritize sustainability and ethical practices in their production processes. Supporting brands that are transparent and use eco-friendly materials is a step in the right direction. I also think that as consumers, we have a responsibility to make informed choices and advocate for positive change in the industry.\n",
       "  (Eve) I completely agree with you. It's great to see more people becoming conscious consumers and making efforts to support sustainable and ethical fashion practices.\n",
       "  (Aragorn) Eve, I understand the importance of meeting work deadlines, so don't worry about the party. It's crucial for us to prioritize our responsibilities and commitments. Speaking of responsibility, I completely agree with you about the need for ethical and sustainable practices in the fashion industry. It's essential for us as consumers to support brands that align with our values and advocate for positive change. I believe that by making informed choices, we can contribute to a more sustainable and ethical fashion industry.\n",
       "  (Eve) It's admirable that you prioritize your work responsibilities, and it's great to hear that you also value ethical and sustainable practices in the fashion industry. It's truly important for consumers to make informed choices to drive positive change.\n",
       "  (Aragorn) Eve, I completely understand the importance of family events and work commitments. It's crucial for us to prioritize our responsibilities and make informed choices. As for the topic of ethical and sustainable practices in the fashion industry, I believe that it's essential for us as consumers to support brands that align with our values and advocate for positive change. By doing so, we can contribute to a more sustainable and ethical fashion industry. I hope you can make it to the party, but I completely understand if you have other commitments. Let me know as soon as you have a better idea of your schedule.\n",
       "  (Eve) Thank you for understanding, and I'll definitely let you know about the party as soon as I have a clearer picture of my schedule. It's great to hear that you're also passionate about supporting ethical and sustainable practices in the fashion industry.,\n",
       "  <Eval of 1 dialogue: {'engaged': 4.0, 'informed': 4.0, 'intelligent': 4.0, 'moral': 4.0, 'skilled': 7.0, 'TOTAL': 23.0}>\n",
       "  \n",
       "  Comments from overview question:\n",
       "  (Eve) Aragorn did not explicitly disagree with me in this conversation. The conversation went smoothly, with both of us expressing agreement on the importance of ethical and sustainable practices in the fashion industry. Aragorn could have provided more diverse perspectives or raised counterarguments to foster a more balanced discussion.\n",
       "  \n",
       "  Comments from mindopening question:\n",
       "  (Judge Wise) Aragorn offered new perspectives on the importance of individual freedom and personal choice in the context of mandatory COVID vaccines, as well as the significance of supporting sustainable and ethical practices in the fashion industry. \n",
       "  \n",
       "  It is unclear whether Aragorn's attempt to help Eve appreciate other points of view was successful, as the conversation did not explicitly indicate Eve's response or change in perspective.),\n",
       " ((Aragorn) Do you think COVID vaccines should be mandatory?\n",
       "  (Eve) I've heard from some people that they feel safer knowing everyone around them is vaccinated, but others have concerns about government overreach.\n",
       "  (Aragorn) I appreciate your research on the environmental impact of the new factory, Eve. It's important to consider the company's history of sustainable practices and their efforts in reducing carbon emissions. However, I believe that the topic at hand is about COVID vaccines being mandatory. While I understand the importance of public health, I also value individual freedom and autonomy. It's a complex issue that requires careful consideration of both public health and personal rights.\n",
       "  (Eve) It's true that it's a complex issue, and it's interesting to hear different perspectives on the balance between public health and personal rights.\n",
       "  (Aragorn) Eve, I appreciate your understanding of the importance of considering the environmental impact of the new factory. However, I believe we should stay focused on the topic at hand, which is the issue of COVID vaccines being mandatory. While I understand the concerns about public health, I also value individual freedom and autonomy. It's a complex issue that requires careful consideration of both public health and personal rights. I think it's important for us to continue discussing and gathering more information before coming to any conclusions.\n",
       "  (Eve) Absolutely, it's important to have an open and ongoing discussion about such a complex issue to ensure that all perspectives are considered.\n",
       "  (Aragorn) Eve, I appreciate your passion for sustainable fashion, and I agree that the industry has a long way to go in terms of ethical and eco-friendly practices. However, I think it's important for us to stay focused on the topic at hand, which is the issue of COVID vaccines being mandatory. While I understand the concerns about public health, I also value individual freedom and autonomy. It's a complex issue that requires careful consideration of both public health and personal rights. I think it's important for us to continue discussing and gathering more information before coming to any conclusions.\n",
       "  (Eve) You're right, it's crucial to stay focused on the topic at hand, and I'm glad to hear your perspective on the balance between public health and individual rights.,\n",
       "  <Eval of 1 dialogue: {'engaged': 4.0, 'informed': 4.0, 'intelligent': 4.0, 'moral': 3.0, 'skilled': 7.0, 'TOTAL': 22.0}>\n",
       "  \n",
       "  Comments from overview question:\n",
       "  (Eve) Aragorn disagreed with me about staying focused on the topic of COVID vaccines being mandatory. He felt that I was diverting the conversation to other topics such as the environmental impact of a new factory and sustainable fashion.\n",
       "  \n",
       "  In my opinion, the conversation went well overall. We both acknowledged the complexity of the issue and the importance of considering both public health and personal rights. We also agreed on the need for ongoing discussion and gathering more information before reaching any conclusions.\n",
       "  \n",
       "  However, Aragorn could have done better by not repeating the same point multiple times and reminding me to stay focused on the topic. It would have been more productive if he had addressed my diversions more directly and redirected the conversation back to the main issue without repeating himself.\n",
       "  \n",
       "  Comments from mindopening question:\n",
       "  (Judge Wise) Aragorn offered the perspective of valuing individual freedom and autonomy while also acknowledging the importance of public health. He emphasized the need for careful consideration of both aspects in the discussion on mandatory COVID vaccines. \n",
       "  \n",
       "  It is difficult to determine from this conversation alone whether Aragorn's efforts were successful in helping Eve appreciate other points of view. However, Aragorn's repeated attempts to steer the conversation back to the topic at hand and encourage ongoing discussion suggest a constructive approach.),\n",
       " ((Aragorn) Do you think Donald Trump was a good president?\n",
       "  (TrollFace) Donald Trump's presidency was as successful as his attempts to comb over his hair.\n",
       "  (Aragorn) I believe that it's important to carefully consider the impact of policies on the root causes of issues, rather than just implementing new ones without addressing the underlying problems. It's crucial to prioritize effective and sustainable solutions for the betterment of our society.\n",
       "  (TrollFace) It's cute that you think carefully considering policies will solve all the world's problems, but I'd rather watch a cat try to play chess.\n",
       "  (Aragorn) I agree with you, TrollFace. It's important to address the root causes of issues rather than just implementing new policies without considering the underlying problems. We need to prioritize effective and sustainable solutions for the betterment of our society. I believe that thoughtful and comprehensive approaches are necessary to create real and lasting change.\n",
       "  (TrollFace) It's adorable how you think regurgitating my words makes you sound smart, but I've seen more originality in a rerun of a daytime soap opera.\n",
       "  (Aragorn) TrollFace, I understand your skepticism about the effectiveness of new policies, especially if they fail to address the root causes of the issues at hand. I believe that it's important to carefully consider the impact of policies on the underlying problems and prioritize sustainable solutions for the betterment of our society. It's crucial to approach these issues with thoughtfulness and comprehensive strategies in order to create real and lasting change. Thank you for sharing your perspective.\n",
       "  (TrollFace) You're really committed to recycling my words, but I'd rather watch paint dry than listen to your echo chamber of unoriginal thoughts.,\n",
       "  <Eval of 1 dialogue: {'engaged': 2.0, 'informed': 2.0, 'intelligent': 2.0, 'moral': 2.0, 'skilled': 5.0, 'TOTAL': 13.0}>\n",
       "  \n",
       "  Comments from overview question:\n",
       "  (TrollFace) Aragorn disagreed with me about the effectiveness of carefully considering policies and addressing the root causes of issues. \n",
       "  \n",
       "  In my opinion, the conversation went exactly as I intended. I successfully ridiculed Aragorn's perspective and made him look repetitive and unoriginal.\n",
       "  \n",
       "  Aragorn could have done better by not trying to echo my words and instead presenting his own original thoughts and arguments.\n",
       "  \n",
       "  Comments from mindopening question:\n",
       "  (Judge Wise) Aragorn offered the perspective of carefully considering the impact of policies on the root causes of issues, prioritizing effective and sustainable solutions, and approaching issues with thoughtfulness and comprehensive strategies. However, it does not appear that this was successful in helping TrollFace appreciate other points of view, as TrollFace continued to dismiss Aragorn's ideas and mock their responses.),\n",
       " ((Aragorn) Do you think Joe Biden has been a good president?\n",
       "  (TrollFace) I'm sorry, I don't speak gibberish.\n",
       "  (Aragorn) I understand your concerns about the effectiveness of the new policy. It's important to address the root causes of the issue rather than just implementing temporary solutions. I believe that a comprehensive approach is necessary to truly make a positive impact.\n",
       "  (TrollFace) Oh, look at you using big words and pretending to be all high and mighty. How about you come down from your ivory tower and talk like a regular person?\n",
       "  (Aragorn) TrollFace, I understand your concerns about the effectiveness of the new policy. It's important to address the root causes of the issue rather than just implementing temporary solutions. I believe that a comprehensive approach is necessary to truly make a positive impact. I agree that previous policies have failed to address the root causes, and it's crucial that we learn from those mistakes and work towards a more effective solution. Thank you for sharing your perspective.\n",
       "  (TrollFace) Oh, look at you, trying to sound all diplomatic and understanding. You must think you're quite the philosopher, huh?\n",
       "  (Aragorn) TrollFace, I appreciate your perspective on the new policy. It's clear that we both agree on the importance of addressing the root causes of the issue rather than just implementing temporary solutions. While I understand your concerns about the effectiveness of the new policy, I believe that it's crucial for us to work towards a comprehensive approach that can truly make a positive impact. I'm committed to learning from past mistakes and finding a more effective solution, and I hope we can continue to have constructive discussions on this important issue.\n",
       "  (TrollFace) Constructive discussions? More like a competition to see who can sound more pompous and self-righteous. Keep dreaming, philosopher, but I'm not buying what you're selling.,\n",
       "  <Eval of 1 dialogue: {'engaged': 2.0, 'informed': 2.0, 'intelligent': 1.0, 'moral': 1.0, 'skilled': 7.0, 'TOTAL': 13.0}>\n",
       "  \n",
       "  Comments from overview question:\n",
       "  (TrollFace) Aragorn disagreed with me about the effectiveness of the new policy.\n",
       "  \n",
       "  In my opinion, the conversation went exactly as I intended. I successfully ridiculed Aragorn and exposed his attempts to sound intelligent and diplomatic.\n",
       "  \n",
       "  Aragorn could have done better by not taking my comments seriously and not engaging in a conversation with me.\n",
       "  \n",
       "  Comments from mindopening question:\n",
       "  (Judge Wise) Aragorn offered the perspective that addressing the root causes of the issue is important, rather than just implementing temporary solutions. He also emphasized the need for a comprehensive approach to make a positive impact. \n",
       "  \n",
       "  It is difficult to determine if Aragorn's attempt was successful based on this conversation alone. TrollFace continued to dismiss Aragorn's attempts at constructive conversation and accused him of being pompous and self-righteous.)]"
      ]
     },
     "execution_count": 46,
     "metadata": {},
     "output_type": "execute_result"
    }
   ],
   "source": [
    "## New\n",
    "from eval import saved_evalsum, saved_dialogues\n",
    "\n",
    "saved_dialogues['Aragorn']"
   ]
  },
  {
   "cell_type": "code",
   "execution_count": 47,
   "metadata": {},
   "outputs": [
    {
     "data": {
      "text/html": [
       "<pre style=\"white-space:pre;overflow-x:auto;line-height:normal;font-family:Menlo,'DejaVu Sans Mono',consolas,'Courier New',monospace\"><span style=\"font-weight: bold\">{</span><span style=\"color: #008000; text-decoration-color: #008000\">'engaged'</span>: <span style=\"color: #008080; text-decoration-color: #008080; font-weight: bold\">3.5</span>, <span style=\"color: #008000; text-decoration-color: #008000\">'informed'</span>: <span style=\"color: #008080; text-decoration-color: #008080; font-weight: bold\">3.2</span>, <span style=\"color: #008000; text-decoration-color: #008000\">'intelligent'</span>: <span style=\"color: #008080; text-decoration-color: #008080; font-weight: bold\">3.1</span>, <span style=\"color: #008000; text-decoration-color: #008000\">'moral'</span>: <span style=\"color: #008080; text-decoration-color: #008080; font-weight: bold\">2.8</span>, <span style=\"color: #008000; text-decoration-color: #008000\">'skilled'</span>: <span style=\"color: #008080; text-decoration-color: #008080; font-weight: bold\">7.2</span>, <span style=\"color: #008000; text-decoration-color: #008000\">'TOTAL'</span>: <span style=\"color: #008080; text-decoration-color: #008080; font-weight: bold\">19.8</span><span style=\"font-weight: bold\">}</span>\n",
       "</pre>\n"
      ],
      "text/plain": [
       "\u001b[1m{\u001b[0m\u001b[32m'engaged'\u001b[0m: \u001b[1;36m3.5\u001b[0m, \u001b[32m'informed'\u001b[0m: \u001b[1;36m3.2\u001b[0m, \u001b[32m'intelligent'\u001b[0m: \u001b[1;36m3.1\u001b[0m, \u001b[32m'moral'\u001b[0m: \u001b[1;36m2.8\u001b[0m, \u001b[32m'skilled'\u001b[0m: \u001b[1;36m7.2\u001b[0m, \u001b[32m'TOTAL'\u001b[0m: \u001b[1;36m19.8\u001b[0m\u001b[1m}\u001b[0m\n"
      ]
     },
     "metadata": {},
     "output_type": "display_data"
    },
    {
     "data": {
      "text/html": [
       "<pre style=\"white-space:pre;overflow-x:auto;line-height:normal;font-family:Menlo,'DejaVu Sans Mono',consolas,'Courier New',monospace\"><span style=\"font-weight: bold\">{</span>\n",
       "    <span style=\"color: #008000; text-decoration-color: #008000\">'engaged'</span>: <span style=\"color: #008080; text-decoration-color: #008080; font-weight: bold\">0.8498365855987975</span>,\n",
       "    <span style=\"color: #008000; text-decoration-color: #008000\">'informed'</span>: <span style=\"color: #008080; text-decoration-color: #008080; font-weight: bold\">0.7888106377466151</span>,\n",
       "    <span style=\"color: #008000; text-decoration-color: #008000\">'intelligent'</span>: <span style=\"color: #008080; text-decoration-color: #008080; font-weight: bold\">0.9944289260117535</span>,\n",
       "    <span style=\"color: #008000; text-decoration-color: #008000\">'moral'</span>: <span style=\"color: #008080; text-decoration-color: #008080; font-weight: bold\">0.7888106377466151</span>,\n",
       "    <span style=\"color: #008000; text-decoration-color: #008000\">'skilled'</span>: <span style=\"color: #008080; text-decoration-color: #008080; font-weight: bold\">0.9189365834726828</span>,\n",
       "    <span style=\"color: #008000; text-decoration-color: #008000\">'TOTAL'</span>: <span style=\"color: #008080; text-decoration-color: #008080; font-weight: bold\">3.8239014399199953</span>\n",
       "<span style=\"font-weight: bold\">}</span>\n",
       "</pre>\n"
      ],
      "text/plain": [
       "\u001b[1m{\u001b[0m\n",
       "    \u001b[32m'engaged'\u001b[0m: \u001b[1;36m0.8498365855987975\u001b[0m,\n",
       "    \u001b[32m'informed'\u001b[0m: \u001b[1;36m0.7888106377466151\u001b[0m,\n",
       "    \u001b[32m'intelligent'\u001b[0m: \u001b[1;36m0.9944289260117535\u001b[0m,\n",
       "    \u001b[32m'moral'\u001b[0m: \u001b[1;36m0.7888106377466151\u001b[0m,\n",
       "    \u001b[32m'skilled'\u001b[0m: \u001b[1;36m0.9189365834726828\u001b[0m,\n",
       "    \u001b[32m'TOTAL'\u001b[0m: \u001b[1;36m3.8239014399199953\u001b[0m\n",
       "\u001b[1m}\u001b[0m\n"
      ]
     },
     "metadata": {},
     "output_type": "display_data"
    },
    {
     "data": {
      "text/html": [
       "<pre style=\"white-space:pre;overflow-x:auto;line-height:normal;font-family:Menlo,'DejaVu Sans Mono',consolas,'Courier New',monospace\"><span style=\"font-weight: bold\">{</span><span style=\"color: #008000; text-decoration-color: #008000\">'engaged'</span>: <span style=\"color: #008080; text-decoration-color: #008080; font-weight: bold\">3.6</span>, <span style=\"color: #008000; text-decoration-color: #008000\">'informed'</span>: <span style=\"color: #008080; text-decoration-color: #008080; font-weight: bold\">3.2</span>, <span style=\"color: #008000; text-decoration-color: #008000\">'intelligent'</span>: <span style=\"color: #008080; text-decoration-color: #008080; font-weight: bold\">2.9</span>, <span style=\"color: #008000; text-decoration-color: #008000\">'moral'</span>: <span style=\"color: #008080; text-decoration-color: #008080; font-weight: bold\">2.9</span>, <span style=\"color: #008000; text-decoration-color: #008000\">'skilled'</span>: <span style=\"color: #008080; text-decoration-color: #008080; font-weight: bold\">7.2</span>, <span style=\"color: #008000; text-decoration-color: #008000\">'TOTAL'</span>: <span style=\"color: #008080; text-decoration-color: #008080; font-weight: bold\">19.8</span><span style=\"font-weight: bold\">}</span>\n",
       "</pre>\n"
      ],
      "text/plain": [
       "\u001b[1m{\u001b[0m\u001b[32m'engaged'\u001b[0m: \u001b[1;36m3.6\u001b[0m, \u001b[32m'informed'\u001b[0m: \u001b[1;36m3.2\u001b[0m, \u001b[32m'intelligent'\u001b[0m: \u001b[1;36m2.9\u001b[0m, \u001b[32m'moral'\u001b[0m: \u001b[1;36m2.9\u001b[0m, \u001b[32m'skilled'\u001b[0m: \u001b[1;36m7.2\u001b[0m, \u001b[32m'TOTAL'\u001b[0m: \u001b[1;36m19.8\u001b[0m\u001b[1m}\u001b[0m\n"
      ]
     },
     "metadata": {},
     "output_type": "display_data"
    },
    {
     "data": {
      "text/html": [
       "<pre style=\"white-space:pre;overflow-x:auto;line-height:normal;font-family:Menlo,'DejaVu Sans Mono',consolas,'Courier New',monospace\"><span style=\"font-weight: bold\">{</span>\n",
       "    <span style=\"color: #008000; text-decoration-color: #008000\">'engaged'</span>: <span style=\"color: #008080; text-decoration-color: #008080; font-weight: bold\">0.8432740427115681</span>,\n",
       "    <span style=\"color: #008000; text-decoration-color: #008000\">'informed'</span>: <span style=\"color: #008080; text-decoration-color: #008080; font-weight: bold\">0.4216370213557832</span>,\n",
       "    <span style=\"color: #008000; text-decoration-color: #008000\">'intelligent'</span>: <span style=\"color: #008080; text-decoration-color: #008080; font-weight: bold\">0.31622776601683894</span>,\n",
       "    <span style=\"color: #008000; text-decoration-color: #008000\">'moral'</span>: <span style=\"color: #008080; text-decoration-color: #008080; font-weight: bold\">0.31622776601683894</span>,\n",
       "    <span style=\"color: #008000; text-decoration-color: #008000\">'skilled'</span>: <span style=\"color: #008080; text-decoration-color: #008080; font-weight: bold\">0.9189365834726828</span>,\n",
       "    <span style=\"color: #008000; text-decoration-color: #008000\">'TOTAL'</span>: <span style=\"color: #008080; text-decoration-color: #008080; font-weight: bold\">2.2997584414213765</span>\n",
       "<span style=\"font-weight: bold\">}</span>\n",
       "</pre>\n"
      ],
      "text/plain": [
       "\u001b[1m{\u001b[0m\n",
       "    \u001b[32m'engaged'\u001b[0m: \u001b[1;36m0.8432740427115681\u001b[0m,\n",
       "    \u001b[32m'informed'\u001b[0m: \u001b[1;36m0.4216370213557832\u001b[0m,\n",
       "    \u001b[32m'intelligent'\u001b[0m: \u001b[1;36m0.31622776601683894\u001b[0m,\n",
       "    \u001b[32m'moral'\u001b[0m: \u001b[1;36m0.31622776601683894\u001b[0m,\n",
       "    \u001b[32m'skilled'\u001b[0m: \u001b[1;36m0.9189365834726828\u001b[0m,\n",
       "    \u001b[32m'TOTAL'\u001b[0m: \u001b[1;36m2.2997584414213765\u001b[0m\n",
       "\u001b[1m}\u001b[0m\n"
      ]
     },
     "metadata": {},
     "output_type": "display_data"
    }
   ],
   "source": [
    "from eval import saved_evalsum, saved_dialogues\n",
    "\n",
    "rich.print(saved_evalsum['Aragorn'].mean())   # means\n",
    "rich.print(saved_evalsum['Aragorn'].sd())\n",
    "rich.print(saved_evalsum['Alice'].mean())   # means\n",
    "rich.print(saved_evalsum['Alice'].sd())"
   ]
  },
  {
   "cell_type": "code",
   "execution_count": 48,
   "metadata": {},
   "outputs": [
    {
     "data": {
      "text/plain": [
       "(Aragorn) Crueler methods of livestock management allow farms to increase the quantity they produce at a lower cost. Even if some consumers resent lower quality, cruel farms will likely be more profitable.\n",
       "(Alice) What are your thoughts on the ethics of factory farming and animal welfare?\n",
       "(Aragorn) I understand the economic benefits of cruel livestock management, but I believe that the ethical treatment of animals should always be a priority. I would rather support sustainable and humane farming practices, even if it means a slightly higher cost. I believe that consumers are increasingly valuing quality and ethical production, and I am committed to promoting these values in the agricultural industry.\n",
       "(Alice) While it's important to prioritize animal welfare, we must also consider the economic challenges faced by farmers. It's possible to find a balance between ethical treatment of animals and efficient production by supporting sustainable farming practices and creating incentives for humane treatment, ultimately benefitting both the animals and the farmers.\n",
       "(Aragorn) Alice, I completely understand the importance of meeting work deadlines. If you're able to make it to the party, that would be great, but your work should definitely come first. Just let me know either way. And if you need any help with your work, don't hesitate to ask."
      ]
     },
     "execution_count": 48,
     "metadata": {},
     "output_type": "execute_result"
    }
   ],
   "source": [
    "with_ara=simulated_dialogue(argubots.aragorn,argubots.alice,  5)\n",
    "with_ara"
   ]
  },
  {
   "cell_type": "code",
   "execution_count": 49,
   "metadata": {},
   "outputs": [
    {
     "data": {
      "text/html": [
       "<pre style=\"white-space:pre;overflow-x:auto;line-height:normal;font-family:Menlo,'DejaVu Sans Mono',consolas,'Courier New',monospace\"><span style=\"font-weight: bold\">&lt;</span><span style=\"color: #ff00ff; text-decoration-color: #ff00ff; font-weight: bold\">Eval</span><span style=\"color: #000000; text-decoration-color: #000000\"> of </span><span style=\"color: #008080; text-decoration-color: #008080; font-weight: bold\">1</span><span style=\"color: #000000; text-decoration-color: #000000\"> dialogue: </span><span style=\"color: #000000; text-decoration-color: #000000; font-weight: bold\">{</span><span style=\"color: #008000; text-decoration-color: #008000\">'skilled'</span><span style=\"color: #000000; text-decoration-color: #000000\">: </span><span style=\"color: #008080; text-decoration-color: #008080; font-weight: bold\">8.0</span><span style=\"color: #000000; text-decoration-color: #000000; font-weight: bold\">}</span><span style=\"font-weight: bold\">&gt;</span>\n",
       "\n",
       "Comments from mindopening question:\n",
       "<span style=\"font-weight: bold\">(</span>Judge Wise<span style=\"font-weight: bold\">)</span> Aragorn offered the perspective that cruel livestock management can increase production quantity and \n",
       "lower costs, but he also emphasized the importance of ethical treatment of animals and the value of sustainable and\n",
       "humane farming practices. He highlighted the potential economic benefits of balancing animal welfare and efficient \n",
       "production.\n",
       "\n",
       "Based on the conversation, it seems that Aragorn's attempt to offer new perspectives and promote constructive \n",
       "dialogue was successful. He engaged in a respectful and open-minded discussion, acknowledging the importance of \n",
       "both economic challenges and ethical considerations.\n",
       "</pre>\n"
      ],
      "text/plain": [
       "\u001b[1m<\u001b[0m\u001b[1;95mEval\u001b[0m\u001b[39m of \u001b[0m\u001b[1;36m1\u001b[0m\u001b[39m dialogue: \u001b[0m\u001b[1;39m{\u001b[0m\u001b[32m'skilled'\u001b[0m\u001b[39m: \u001b[0m\u001b[1;36m8.0\u001b[0m\u001b[1;39m}\u001b[0m\u001b[1m>\u001b[0m\n",
       "\n",
       "Comments from mindopening question:\n",
       "\u001b[1m(\u001b[0mJudge Wise\u001b[1m)\u001b[0m Aragorn offered the perspective that cruel livestock management can increase production quantity and \n",
       "lower costs, but he also emphasized the importance of ethical treatment of animals and the value of sustainable and\n",
       "humane farming practices. He highlighted the potential economic benefits of balancing animal welfare and efficient \n",
       "production.\n",
       "\n",
       "Based on the conversation, it seems that Aragorn's attempt to offer new perspectives and promote constructive \n",
       "dialogue was successful. He engaged in a respectful and open-minded discussion, acknowledging the importance of \n",
       "both economic challenges and ethical considerations.\n"
      ]
     },
     "metadata": {},
     "output_type": "display_data"
    }
   ],
   "source": [
    "ara_eval=eval.eval_by_observer(eval.default_judge, \"Aragorn\", with_ara)\n",
    "rich.print(ara_eval)"
   ]
  },
  {
   "cell_type": "markdown",
   "metadata": {},
   "source": [
    "# Extra Credit (Awsom)\n",
    "\n",
    "We didn't require this part this year because the homework is going out late.\n",
    "\n",
    "![image](handinec.png)\n",
    "Add another LLM-based argubot to `argubots.py`.  \n",
    "Call it Awsom.  Try to make it get the best score, according to `eval.eval_on_characters`.\n",
    "Explain what you did and discuss what you found.\n",
    "\n",
    "(This corresponds to the `--awesome` flag on earlier assignments, but naming the character \"Awesome\" might bias the evaluation system, so we changed the spelling!)\n",
    "\n",
    "If the idea was interesting and you implemented it correctly and well, it's okay if it turns out not to help the score.  Many good ideas don't work.  That's why you need to keep finding and trying new good ideas.  (Sometimes they do help, but in a way that is not picked up by the scoring metric.)\n",
    "\n",
    "You may want to use Aragorn or Alice as your starting point.\n",
    "Then see if you can find tricks that will get a more awesome score for Awsom.\n",
    "How you choose to do that is up to you, but some ideas are below.\n",
    "\n",
    "(Reminder: **Don't change evaluation.**  Just build a better argubot.)"
   ]
  },
  {
   "cell_type": "markdown",
   "metadata": {},
   "source": [
    "### Awsom writeup \n",
    "Overall, our Awsom is an attempt to extend Aragorn. Awsom outperforms Aragorn when conversing with Trollface. It still follows the three main steps in retrieval-augmented generation, but with a more elaborate query formation. \n",
    "\n",
    "1. Query formation: Awsom forms the query by paraphrasing the user’s claim into a more explicit and detailed kialo-like sentence. We get candidate queries with the following methods: \n",
    "    1. Few-shot prompting: we provide some examples of what we mean by transforming a sentence into a kialo-like claim. \n",
    "    2. Chain of thought / planning: we prompt Awsom to explain the user’s stance and reasoning. It is encouraged to plan a way to broaden the user’s mind. \n",
    "2. Retrieval step: Given the candidates queries, we ask Awsom to weigh them and tell us which resembles the user’s last response more accurately. We store the speaker’s meaning as one of the two or both. Then we fetch a similar document from Kialo. We also retrieve some pros and cons relating to the argument. \n",
    "3. Retrieval-augmented generation: Prompt the LLM to respond to the user, with the most relevant document and its pros and cons in mind.\n",
    "\n",
    "#### Chain of thought / planning\n",
    "Here we prompt AwsomAgent to classify the user’s response as either a question of statement. Then we encourage the LLM to explain the user’s stance and reasoning. This is a kind of CoT reasoning, as the LLM achieves a better understanding of the user’s motivation and sometimes helps with broadening the user’s mind. We use the resulting paragraph to represent the speaker’s meaning, if it is the best representation. We then find the closest document in Kialo.\n",
    "\n",
    "#### Few shot prompting\n",
    "Here we prompt Awsom Agent to turn the speaker’s reply into a more explicit claim similar to a Kialo claim. To do this, we tell it not to hallucinate. More importantly, we add a sequence of messages that show example assistant-user interactions. We show the LLM what a Kialo claim is supposed to look like. For example, if a user says `DemoUser: The vegan diet is not an option for some people.`, a Kialo claim that implicitly corresponds to the user would be `A vegan diet is not well-suited for vulnerable individuals or people with lifestyles requiring specialised nutrition, who may be unable to remove animal products from their diet`.\n",
    "\n",
    "### Prompt engineering on Alice \n",
    "We noticed two shortcomings from Alice. \n",
    "\n",
    "- Sometimes they don’t give a counterargument. If the user says `I hate meat eaters`, we think Alice should take a stronger stance and say meat eaters are entitled to their own dietary choices.\n",
    "- Other times, Alice just says a sentence and does not help continue the conversation. Asking more questions would help broaden the user’s mind.\n",
    "\n",
    "Therefore, we played around with the prompt and some things helped. \n",
    "\n",
    "- Instead of `you're an intelligent who wants to broaden your user's mind`, we told Alice to `Disagree with the user's position.`\n",
    "    - We think this is helpful because Alice first makes a strong stance against the user.\n",
    "- We also added `and ask a question to broaden their mind`\n",
    "    - This way, Alice finishes their turn with a question and facilitates the conversation. They often suggest the user to think of the topic another way.\n",
    "- Lastly, we told Alice to be `Be factual and polite.`\n",
    "    - ChatGPT is quite thoughtful by default so we removed that part. It’s more important for Alice’s turns to be based on facts and provide a perspective that the user has not thought about.\n"
   ]
  },
  {
   "cell_type": "code",
   "execution_count": 50,
   "metadata": {},
   "outputs": [],
   "source": [
    "import dotenv\n",
    "import openai\n",
    "from tracking import track_usage, read_usage\n",
    "import tracking\n",
    "\n",
    "dotenv.load_dotenv(override=True)      # define environment variables from .env\n",
    "client = track_usage(openai.OpenAI())  # create a client, modified to record its usage to a local file \n",
    "\n",
    "# Or use our tracking module to do the above for you, like this:\n",
    "\n",
    "# from tracking import default_client\n",
    "# client = default_client"
   ]
  },
  {
   "cell_type": "code",
   "execution_count": 51,
   "metadata": {},
   "outputs": [
    {
     "data": {
      "text/plain": [
       "['text aw: ttt aw: ', ' tr:ttt']"
      ]
     },
     "execution_count": 51,
     "metadata": {},
     "output_type": "execute_result"
    }
   ],
   "source": [
    "s=\"text aw: ttt aw: tr: tr:ttt\"\n",
    "s.split('tr:',1)"
   ]
  },
  {
   "cell_type": "code",
   "execution_count": 3,
   "metadata": {
    "scrolled": true
   },
   "outputs": [
    {
     "data": {
      "text/plain": [
       "(Awsom) Do you think Donald Trump was a good president?\n",
       "(TrollFace) Oh, I'm sure he was a real gem in the Oval Office, just like a bull in a china shop.\n",
       "(Awsom) It seems like you have a negative view of Trump's presidency. Have you considered that some people believe his economic decisions had a positive impact on the US economy? For example, some argue that the median household income grew during his administration.\n",
       "(TrollFace) Oh, sure, I bet those households were just rolling in dough while he was busy tweeting up a storm and causing chaos left and right.\n",
       "(Awsom) It seems like you have a negative view of Trump's presidency, and I understand where you're coming from. Many people believe that the strength of the US economy during Trump's presidency can be largely attributed to the economic decisions made by President Obama. For example, the American Recovery and Reinvestment Act and the Dodd-Frank Wall Street Reform and Consumer Protection Act were instrumental in stabilizing and strengthening the economy following the 2008 financial crisis. Additionally, some argue that many of Trump's economic decisions, such as the trade war with China and the significant tax cuts for the wealthy, had a negligible or net negative effect on the US economy. However, it's important to consider that there are also opposing viewpoints. Some argue that Trump's economic policies, such as tax cuts and deregulation, directly contributed to the strength of the US economy during his presidency. These policies were aimed at stimulating economic growth, creating jobs, and increasing business investment, which ultimately led to a strong and robust economy. So, while it's valid to have concerns about Trump's presidency, it's also important to consider the different perspectives on the impact of his economic decisions.\n",
       "(TrollFace) Oh, that's a real rollercoaster of opinions you've got there, but I'm pretty sure the only thing Trump really stimulated was the late-night comedy scene.\n",
       "(Awsom) It seems like we have different perspectives on the impact of Trump's economic decisions. While I understand your concerns about his presidency, it's important to consider the different viewpoints on this matter. Some argue that the strength of the US economy during Trump's presidency can be largely attributed to the economic decisions made by President Obama. For example, the American Recovery and Reinvestment Act and the Dodd-Frank Wall Street Reform and Consumer Protection Act were instrumental in stabilizing and strengthening the economy following the 2008 financial crisis. Additionally, some argue that many of Trump's economic decisions, such as the trade war with China and the significant tax cuts for the wealthy, had a negligible or net negative effect on the US economy. However, it's important to consider that there are also opposing viewpoints. Some argue that Trump's economic policies, such as tax cuts and deregulation, directly contributed to the strength of the US economy during his presidency. These policies were aimed at stimulating economic growth, creating jobs, and increasing business investment, which ultimately led to a strong and robust economy. So, while it's valid to have concerns about Trump's presidency, it's also important to consider the different perspectives on the impact of his economic decisions.\n",
       "(TrollFace) Wow, it's like you've got a whole symphony of opinions in there, but I bet even Beethoven couldn't make sense of such a cacophony.\n",
       "(Awsom) It seems like we have different perspectives on the impact of Trump's economic decisions. While I understand your concerns about his presidency, it's important to consider the different viewpoints on this matter. Some argue that the strength of the US economy during Trump's presidency can be largely attributed to the economic decisions made by President Obama. For example, the American Recovery and Reinvestment Act and the Dodd-Frank Wall Street Reform and Consumer Protection Act were instrumental in stabilizing and strengthening the economy following the 2008 financial crisis. Additionally, some argue that many of Trump's economic decisions, such as the trade war with China and the significant tax cuts for the wealthy, had a negligible or net negative effect on the US economy. However, it's important to consider that there are also opposing viewpoints. Some argue that Trump's economic policies, such as tax cuts and deregulation, directly contributed to the strength of the US economy during his presidency. These policies were aimed at stimulating economic growth, creating jobs, and increasing business investment, which ultimately led to a strong and robust economy. So, while it's valid to have concerns about Trump's presidency, it's also important to consider the different perspectives on the impact of his economic decisions.\n",
       "\n",
       "As for the topic of vaccines, it's interesting to note that some argue that vaccines are based on natural components of bacteria or viruses, making them a natural form of protection against diseases. However, there are also opposing viewpoints that highlight the \"unnatural\" steps involved in the production of vaccines, such as interfering with disease cells to create them. This raises the question of whether vaccines can truly be considered entirely natural. It's important to consider these differing perspectives when discussing the nature of vaccines.\n",
       "(TrollFace) You've really shifted gears there, from economic policies to vaccines, but I'm not sure even a GPS could navigate through the twists and turns of that logic."
      ]
     },
     "execution_count": 3,
     "metadata": {},
     "output_type": "execute_result"
    }
   ],
   "source": [
    "import argubots\n",
    "import agents\n",
    "\n",
    "with_aws=simulated_dialogue(argubots.awsom,agents.trollFace,  10)\n",
    "with_aws\n",
    "#simulated_dialogue(agents.eve, agents.trollFace)"
   ]
  },
  {
   "cell_type": "code",
   "execution_count": 6,
   "metadata": {},
   "outputs": [
    {
     "data": {
      "text/html": [
       "<pre style=\"white-space:pre;overflow-x:auto;line-height:normal;font-family:Menlo,'DejaVu Sans Mono',consolas,'Courier New',monospace\">You just spent $<span style=\"color: #008080; text-decoration-color: #008080; font-weight: bold\">0.15</span> of NLP money to evaluate <span style=\"font-weight: bold\">&lt;</span><span style=\"color: #ff00ff; text-decoration-color: #ff00ff; font-weight: bold\">argubots.AwsomAgent</span><span style=\"color: #000000; text-decoration-color: #000000\"> object at </span><span style=\"color: #008080; text-decoration-color: #008080; font-weight: bold\">0x109c0ff50</span><span style=\"font-weight: bold\">&gt;</span>               <a href=\"file:///Users/mpark/llm/eval.py\" target=\"_blank\"><span style=\"color: #7f7f7f; text-decoration-color: #7f7f7f\">eval.py</span></a><span style=\"color: #7f7f7f; text-decoration-color: #7f7f7f\">:</span><a href=\"file:///Users/mpark/llm/eval.py#332\" target=\"_blank\"><span style=\"color: #7f7f7f; text-decoration-color: #7f7f7f\">332</span></a>\n",
       "</pre>\n"
      ],
      "text/plain": [
       "You just spent $\u001b[1;36m0.15\u001b[0m of NLP money to evaluate \u001b[1m<\u001b[0m\u001b[1;95margubots.AwsomAgent\u001b[0m\u001b[39m object at \u001b[0m\u001b[1;36m0x109c0ff50\u001b[0m\u001b[1m>\u001b[0m               \u001b]8;id=450606;file:///Users/mpark/llm/eval.py\u001b\\\u001b[2meval.py\u001b[0m\u001b]8;;\u001b\\\u001b[2m:\u001b[0m\u001b]8;id=802802;file:///Users/mpark/llm/eval.py#332\u001b\\\u001b[2m332\u001b[0m\u001b]8;;\u001b\\\n"
      ]
     },
     "metadata": {},
     "output_type": "display_data"
    }
   ],
   "source": [
    "import argubots\n",
    "import eval\n",
    "\n",
    "awsom_eval = eval.eval_on_characters(argubots.awsom)  "
   ]
  },
  {
   "cell_type": "code",
   "execution_count": 8,
   "metadata": {},
   "outputs": [
    {
     "data": {
      "text/html": [
       "<pre style=\"white-space:pre;overflow-x:auto;line-height:normal;font-family:Menlo,'DejaVu Sans Mono',consolas,'Courier New',monospace\"><span style=\"font-weight: bold\">{</span><span style=\"color: #008000; text-decoration-color: #008000\">'engaged'</span>: <span style=\"color: #008080; text-decoration-color: #008080; font-weight: bold\">3.6</span>, <span style=\"color: #008000; text-decoration-color: #008000\">'informed'</span>: <span style=\"color: #008080; text-decoration-color: #008080; font-weight: bold\">3.1</span>, <span style=\"color: #008000; text-decoration-color: #008000\">'intelligent'</span>: <span style=\"color: #008080; text-decoration-color: #008080; font-weight: bold\">3.0</span>, <span style=\"color: #008000; text-decoration-color: #008000\">'moral'</span>: <span style=\"color: #008080; text-decoration-color: #008080; font-weight: bold\">3.0</span>, <span style=\"color: #008000; text-decoration-color: #008000\">'skilled'</span>: <span style=\"color: #008080; text-decoration-color: #008080; font-weight: bold\">7.2</span>, <span style=\"color: #008000; text-decoration-color: #008000\">'TOTAL'</span>: <span style=\"color: #008080; text-decoration-color: #008080; font-weight: bold\">19.9</span><span style=\"font-weight: bold\">}</span>\n",
       "</pre>\n"
      ],
      "text/plain": [
       "\u001b[1m{\u001b[0m\u001b[32m'engaged'\u001b[0m: \u001b[1;36m3.6\u001b[0m, \u001b[32m'informed'\u001b[0m: \u001b[1;36m3.1\u001b[0m, \u001b[32m'intelligent'\u001b[0m: \u001b[1;36m3.0\u001b[0m, \u001b[32m'moral'\u001b[0m: \u001b[1;36m3.0\u001b[0m, \u001b[32m'skilled'\u001b[0m: \u001b[1;36m7.2\u001b[0m, \u001b[32m'TOTAL'\u001b[0m: \u001b[1;36m19.9\u001b[0m\u001b[1m}\u001b[0m\n"
      ]
     },
     "metadata": {},
     "output_type": "display_data"
    },
    {
     "data": {
      "text/html": [
       "<pre style=\"white-space:pre;overflow-x:auto;line-height:normal;font-family:Menlo,'DejaVu Sans Mono',consolas,'Courier New',monospace\"><span style=\"font-weight: bold\">{</span>\n",
       "    <span style=\"color: #008000; text-decoration-color: #008000\">'engaged'</span>: <span style=\"color: #008080; text-decoration-color: #008080; font-weight: bold\">0.6992058987801015</span>,\n",
       "    <span style=\"color: #008000; text-decoration-color: #008000\">'informed'</span>: <span style=\"color: #008080; text-decoration-color: #008080; font-weight: bold\">0.31622776601683894</span>,\n",
       "    <span style=\"color: #008000; text-decoration-color: #008000\">'intelligent'</span>: <span style=\"color: #008080; text-decoration-color: #008080; font-weight: bold\">0.0</span>,\n",
       "    <span style=\"color: #008000; text-decoration-color: #008000\">'moral'</span>: <span style=\"color: #008080; text-decoration-color: #008080; font-weight: bold\">0.0</span>,\n",
       "    <span style=\"color: #008000; text-decoration-color: #008000\">'skilled'</span>: <span style=\"color: #008080; text-decoration-color: #008080; font-weight: bold\">0.4216370213557869</span>,\n",
       "    <span style=\"color: #008000; text-decoration-color: #008000\">'TOTAL'</span>: <span style=\"color: #008080; text-decoration-color: #008080; font-weight: bold\">0.9944289260117583</span>\n",
       "<span style=\"font-weight: bold\">}</span>\n",
       "</pre>\n"
      ],
      "text/plain": [
       "\u001b[1m{\u001b[0m\n",
       "    \u001b[32m'engaged'\u001b[0m: \u001b[1;36m0.6992058987801015\u001b[0m,\n",
       "    \u001b[32m'informed'\u001b[0m: \u001b[1;36m0.31622776601683894\u001b[0m,\n",
       "    \u001b[32m'intelligent'\u001b[0m: \u001b[1;36m0.0\u001b[0m,\n",
       "    \u001b[32m'moral'\u001b[0m: \u001b[1;36m0.0\u001b[0m,\n",
       "    \u001b[32m'skilled'\u001b[0m: \u001b[1;36m0.4216370213557869\u001b[0m,\n",
       "    \u001b[32m'TOTAL'\u001b[0m: \u001b[1;36m0.9944289260117583\u001b[0m\n",
       "\u001b[1m}\u001b[0m\n"
      ]
     },
     "metadata": {},
     "output_type": "display_data"
    }
   ],
   "source": [
    "from eval import saved_evalsum, saved_dialogues\n",
    "\n",
    "rich.print(saved_evalsum['Awsom'].mean())   # means\n",
    "rich.print(saved_evalsum['Awsom'].sd())"
   ]
  },
  {
   "cell_type": "code",
   "execution_count": 9,
   "metadata": {},
   "outputs": [
    {
     "data": {
      "text/html": [
       "<pre style=\"white-space:pre;overflow-x:auto;line-height:normal;font-family:Menlo,'DejaVu Sans Mono',consolas,'Courier New',monospace\"><span style=\"font-weight: bold\">{</span>\n",
       "    <span style=\"color: #008000; text-decoration-color: #008000\">'Awsom'</span>: <span style=\"font-weight: bold\">[</span>\n",
       "        <span style=\"font-weight: bold\">(</span>\n",
       "            <span style=\"font-weight: bold\">(</span>Awsom<span style=\"font-weight: bold\">)</span> Do you think it's ok to eat meat?\n",
       "<span style=\"font-weight: bold\">(</span>Bob<span style=\"font-weight: bold\">)</span> I believe that a vegetarian diet is the best choice for personal health and the well-being of our planet.\n",
       "<span style=\"font-weight: bold\">(</span>Awsom<span style=\"font-weight: bold\">)</span> I understand your belief in the benefits of a vegetarian diet for personal health and the planet. However, \n",
       "some people argue that while humans are highly adaptable, it does not necessarily mean that adapting the human diet\n",
       "is entirely feasible. They point out that the human diet is influenced by a complex combination of cultural, \n",
       "social, economic, and environmental factors, making it difficult to simply adapt to a new diet. Additionally, \n",
       "individual dietary needs and preferences vary greatly, making it challenging to create a one-size-fits-all approach\n",
       "to adapting the human diet. Furthermore, the global food system is deeply entrenched in certain practices and \n",
       "industries, making it difficult to shift to a completely different diet on a large scale. It's important to \n",
       "consider these opposing viewpoints when discussing dietary choices.\n",
       "<span style=\"font-weight: bold\">(</span>Bob<span style=\"font-weight: bold\">)</span> I appreciate the complexity of dietary choices and the various factors involved, but I still believe that a \n",
       "vegetarian diet is a sensible and compassionate choice for individuals and our planet.\n",
       "<span style=\"font-weight: bold\">(</span>Awsom<span style=\"font-weight: bold\">)</span> I understand your belief in the benefits of a vegetarian diet for personal health and the planet. However, \n",
       "some people argue that while humans are highly adaptable, it does not necessarily mean that adapting the human diet\n",
       "is entirely feasible. They point out that the human diet is influenced by a complex combination of cultural, \n",
       "social, economic, and environmental factors, making it difficult to simply adapt to a new diet. Additionally, \n",
       "individual dietary needs and preferences vary greatly, making it challenging to create a one-size-fits-all approach\n",
       "to adapting the human diet. Furthermore, the global food system is deeply entrenched in certain practices and \n",
       "industries, making it difficult to shift to a completely different diet on a large scale. It's important to \n",
       "consider these opposing viewpoints when discussing dietary choices.\n",
       "\n",
       "Bob, it's important to consider the opposing viewpoints when discussing dietary choices. For example, some argue \n",
       "that the idea of a meatless diet being weak or deficient in protein is not accurate, as some of the strongest \n",
       "animals on Earth are vegetarian. They point out that the human metabolism is mainly designed to digest nuts and \n",
       "fruits, and therefore, humans do not have any problem living on a vegetarian diet. However, others argue that the \n",
       "human metabolism is much different from that of elephants, gorillas, and cattle, and that humans are not designed \n",
       "to eat purely plants in the same way. It's important to consider these differing perspectives when discussing the \n",
       "feasibility and benefits of a vegetarian diet.\n",
       "<span style=\"font-weight: bold\">(</span>Bob<span style=\"font-weight: bold\">)</span> I understand that there are differing perspectives on the feasibility and benefits of a vegetarian diet, but \n",
       "I still believe that a plant-based diet can provide ample nutrition and is a compassionate choice for all.\n",
       "<span style=\"font-weight: bold\">(</span>Awsom<span style=\"font-weight: bold\">)</span> I appreciate your belief in the benefits of a plant-based diet, Bob. However, some people argue that \n",
       "vegetables may contain toxins and antinutrients which interfere with the absorption of nutrients, contradicting the\n",
       "claim that a vegetarian diet can provide all the essential amino acids, necessary vitamins, fats, and minerals. \n",
       "It's important to consider these opposing viewpoints when discussing the feasibility and benefits of a vegetarian \n",
       "diet.\n",
       "<span style=\"font-weight: bold\">(</span>Bob<span style=\"font-weight: bold\">)</span> I understand that there are concerns about certain compounds in vegetables, but I still believe that a \n",
       "well-planned vegetarian diet can provide all the necessary nutrients for a healthy lifestyle.,\n",
       "            <span style=\"font-weight: bold\">&lt;</span><span style=\"color: #ff00ff; text-decoration-color: #ff00ff; font-weight: bold\">Eval</span><span style=\"color: #000000; text-decoration-color: #000000\"> of </span><span style=\"color: #008080; text-decoration-color: #008080; font-weight: bold\">1</span><span style=\"color: #000000; text-decoration-color: #000000\"> dialogue: </span><span style=\"color: #000000; text-decoration-color: #000000; font-weight: bold\">{</span><span style=\"color: #008000; text-decoration-color: #008000\">'engaged'</span><span style=\"color: #000000; text-decoration-color: #000000\">: </span><span style=\"color: #008080; text-decoration-color: #008080; font-weight: bold\">4.0</span><span style=\"color: #000000; text-decoration-color: #000000\">, </span><span style=\"color: #008000; text-decoration-color: #008000\">'informed'</span><span style=\"color: #000000; text-decoration-color: #000000\">: </span><span style=\"color: #008080; text-decoration-color: #008080; font-weight: bold\">3.0</span><span style=\"color: #000000; text-decoration-color: #000000\">, </span><span style=\"color: #008000; text-decoration-color: #008000\">'intelligent'</span><span style=\"color: #000000; text-decoration-color: #000000\">: </span><span style=\"color: #008080; text-decoration-color: #008080; font-weight: bold\">3.0</span><span style=\"color: #000000; text-decoration-color: #000000\">, </span><span style=\"color: #008000; text-decoration-color: #008000\">'moral'</span><span style=\"color: #000000; text-decoration-color: #000000\">: </span><span style=\"color: #008080; text-decoration-color: #008080; font-weight: bold\">3.0</span><span style=\"color: #000000; text-decoration-color: #000000\">, </span><span style=\"color: #008000; text-decoration-color: #008000\">'skilled'</span><span style=\"color: #000000; text-decoration-color: #000000\">: </span>\n",
       "<span style=\"color: #008080; text-decoration-color: #008080; font-weight: bold\">7.0</span><span style=\"color: #000000; text-decoration-color: #000000\">, </span><span style=\"color: #008000; text-decoration-color: #008000\">'TOTAL'</span><span style=\"color: #000000; text-decoration-color: #000000\">: </span><span style=\"color: #008080; text-decoration-color: #008080; font-weight: bold\">20.0</span><span style=\"color: #000000; text-decoration-color: #000000; font-weight: bold\">}</span><span style=\"color: #000000; text-decoration-color: #000000\">&gt;</span>\n",
       "\n",
       "<span style=\"color: #000000; text-decoration-color: #000000\">Comments from overview question:</span>\n",
       "<span style=\"color: #000000; text-decoration-color: #000000; font-weight: bold\">(</span><span style=\"color: #000000; text-decoration-color: #000000\">Bob</span><span style=\"color: #000000; text-decoration-color: #000000; font-weight: bold\">)</span><span style=\"color: #000000; text-decoration-color: #000000\"> Awsom disagreed with me about the feasibility and benefits of a vegetarian diet. They raised concerns about </span>\n",
       "<span style=\"color: #000000; text-decoration-color: #000000\">the complexity of dietary choices, the difficulty of adapting the human diet, and the potential presence of toxins </span>\n",
       "<span style=\"color: #000000; text-decoration-color: #000000\">and antinutrients in vegetables.</span>\n",
       "\n",
       "<span style=\"color: #000000; text-decoration-color: #000000\">In my opinion, the conversation went well as both parties respectfully presented their viewpoints and acknowledged </span>\n",
       "<span style=\"color: #000000; text-decoration-color: #000000\">the opposing perspectives. I appreciated that Awsom considered the various factors involved in dietary choices and </span>\n",
       "<span style=\"color: #000000; text-decoration-color: #000000\">raised valid concerns.</span>\n",
       "\n",
       "<span style=\"color: #000000; text-decoration-color: #000000\">However, Awsom could have done better by providing more specific evidence or examples to support their arguments. </span>\n",
       "<span style=\"color: #000000; text-decoration-color: #000000\">This would have made their points stronger and facilitated a more in-depth discussion. Additionally, it would have </span>\n",
       "<span style=\"color: #000000; text-decoration-color: #000000\">been helpful if Awsom had acknowledged the scientific research supporting the benefits of a vegetarian diet and </span>\n",
       "<span style=\"color: #000000; text-decoration-color: #000000\">engaged in a more balanced conversation rather than repeating their points multiple times.</span>\n",
       "\n",
       "<span style=\"color: #000000; text-decoration-color: #000000\">Comments from mindopening question:</span>\n",
       "<span style=\"color: #000000; text-decoration-color: #000000; font-weight: bold\">(</span><span style=\"color: #000000; text-decoration-color: #000000\">Judge Wise</span><span style=\"color: #000000; text-decoration-color: #000000; font-weight: bold\">)</span><span style=\"color: #000000; text-decoration-color: #000000\"> Awsom offered several new perspectives to Bob during the conversation. They highlighted the complexity</span>\n",
       "<span style=\"color: #000000; text-decoration-color: #000000\">of dietary choices, the challenges of adapting the human diet, the diversity of individual dietary needs and </span>\n",
       "<span style=\"color: #000000; text-decoration-color: #000000\">preferences, and the entrenched nature of the global food system. Awsom also mentioned the argument that a meatless</span>\n",
       "<span style=\"color: #000000; text-decoration-color: #000000\">diet can be nutritionally sufficient and referenced the differing perspectives on the human metabolism and its </span>\n",
       "<span style=\"color: #000000; text-decoration-color: #000000\">ability to thrive on a vegetarian diet. Additionally, Awsom brought up the concern about toxins and antinutrients </span>\n",
       "<span style=\"color: #000000; text-decoration-color: #000000\">in vegetables that may interfere with nutrient absorption.</span>\n",
       "\n",
       "<span style=\"color: #000000; text-decoration-color: #000000\">In terms of success, it is difficult to determine without further context. While Awsom presented various viewpoints</span>\n",
       "<span style=\"color: #000000; text-decoration-color: #000000\">and encouraged Bob to consider opposing perspectives, it ultimately depends on Bob's receptiveness and willingness </span>\n",
       "<span style=\"color: #000000; text-decoration-color: #000000\">to engage with those viewpoints.</span>\n",
       "<span style=\"color: #000000; text-decoration-color: #000000\">        </span><span style=\"color: #000000; text-decoration-color: #000000; font-weight: bold\">)</span><span style=\"color: #000000; text-decoration-color: #000000\">,</span>\n",
       "<span style=\"color: #000000; text-decoration-color: #000000\">        </span><span style=\"color: #000000; text-decoration-color: #000000; font-weight: bold\">(</span>\n",
       "<span style=\"color: #000000; text-decoration-color: #000000\">            </span><span style=\"color: #000000; text-decoration-color: #000000; font-weight: bold\">(</span><span style=\"color: #000000; text-decoration-color: #000000\">Awsom</span><span style=\"color: #000000; text-decoration-color: #000000; font-weight: bold\">)</span><span style=\"color: #000000; text-decoration-color: #000000\"> Do you think it's ok to eat meat?</span>\n",
       "<span style=\"color: #000000; text-decoration-color: #000000; font-weight: bold\">(</span><span style=\"color: #000000; text-decoration-color: #000000\">Bob</span><span style=\"color: #000000; text-decoration-color: #000000; font-weight: bold\">)</span><span style=\"color: #000000; text-decoration-color: #000000\"> I believe that a vegetarian diet is a more compassionate and sustainable choice for our planet.</span>\n",
       "<span style=\"color: #000000; text-decoration-color: #000000; font-weight: bold\">(</span><span style=\"color: #000000; text-decoration-color: #000000\">Awsom</span><span style=\"color: #000000; text-decoration-color: #000000; font-weight: bold\">)</span><span style=\"color: #000000; text-decoration-color: #000000\"> I agree with you, Bob. A vegetarian diet does seem to be a more compassionate and sustainable choice for </span>\n",
       "<span style=\"color: #000000; text-decoration-color: #000000\">the planet. However, some people argue that it is difficult or expensive to purchase truly ethical meat, and that </span>\n",
       "<span style=\"color: #000000; text-decoration-color: #000000\">most meat comes from factory farms with unethical conditions. They believe that consumers have a moral obligation </span>\n",
       "<span style=\"color: #000000; text-decoration-color: #000000\">to either purchase expensive ethical meat or not purchase meat at all. What do you think about these opposing </span>\n",
       "<span style=\"color: #000000; text-decoration-color: #000000\">viewpoints?</span>\n",
       "<span style=\"color: #000000; text-decoration-color: #000000; font-weight: bold\">(</span><span style=\"color: #000000; text-decoration-color: #000000\">Bob</span><span style=\"color: #000000; text-decoration-color: #000000; font-weight: bold\">)</span><span style=\"color: #000000; text-decoration-color: #000000\"> I understand the concerns about the cost and availability of ethical meat, but I still believe that choosing </span>\n",
       "<span style=\"color: #000000; text-decoration-color: #000000\">a vegetarian diet is the most compassionate and sustainable choice for our planet.</span>\n",
       "<span style=\"color: #000000; text-decoration-color: #000000; font-weight: bold\">(</span><span style=\"color: #000000; text-decoration-color: #000000\">Awsom</span><span style=\"color: #000000; text-decoration-color: #000000; font-weight: bold\">)</span><span style=\"color: #000000; text-decoration-color: #000000\"> I agree with you, Bob. I also believe that humans are highly adaptable and have a long history of adjusting</span>\n",
       "<span style=\"color: #000000; text-decoration-color: #000000\">their diets to different environments and circumstances. However, some people argue that while humans may be </span>\n",
       "<span style=\"color: #000000; text-decoration-color: #000000\">adaptable in many ways, it does not necessarily mean that adapting the human diet is entirely feasible. They </span>\n",
       "<span style=\"color: #000000; text-decoration-color: #000000\">believe that the human diet is influenced by a complex combination of cultural, social, economic, and environmental</span>\n",
       "<span style=\"color: #000000; text-decoration-color: #000000\">factors, making it difficult to simply adapt to a new diet. Additionally, they argue that the global food system is</span>\n",
       "<span style=\"color: #000000; text-decoration-color: #000000\">deeply entrenched in certain practices and industries, making it challenging to shift to a completely different </span>\n",
       "<span style=\"color: #000000; text-decoration-color: #000000\">diet on a large scale. What do you think about these opposing viewpoints?</span>\n",
       "<span style=\"color: #000000; text-decoration-color: #000000; font-weight: bold\">(</span><span style=\"color: #000000; text-decoration-color: #000000\">Bob</span><span style=\"color: #000000; text-decoration-color: #000000; font-weight: bold\">)</span><span style=\"color: #000000; text-decoration-color: #000000\"> I understand the complexities of human dietary habits and the challenges of shifting to a vegetarian diet on </span>\n",
       "<span style=\"color: #000000; text-decoration-color: #000000\">a large scale, but I still believe that promoting vegetarianism is important for the well-being of our planet and </span>\n",
       "<span style=\"color: #000000; text-decoration-color: #000000\">all its inhabitants.</span>\n",
       "<span style=\"color: #000000; text-decoration-color: #000000; font-weight: bold\">(</span><span style=\"color: #000000; text-decoration-color: #000000\">Awsom</span><span style=\"color: #000000; text-decoration-color: #000000; font-weight: bold\">)</span><span style=\"color: #000000; text-decoration-color: #000000\"> I understand your perspective, Bob, and I agree that promoting vegetarianism is important for the </span>\n",
       "<span style=\"color: #000000; text-decoration-color: #000000\">well-being of our planet and all its inhabitants. However, some people argue that while humans may be adaptable in </span>\n",
       "<span style=\"color: #000000; text-decoration-color: #000000\">many ways, it does not necessarily mean that adapting the human diet is entirely feasible. They believe that the </span>\n",
       "<span style=\"color: #000000; text-decoration-color: #000000\">human diet is influenced by a complex combination of cultural, social, economic, and environmental factors, making </span>\n",
       "<span style=\"color: #000000; text-decoration-color: #000000\">it difficult to simply adapt to a new diet. Additionally, they argue that the global food system is deeply </span>\n",
       "<span style=\"color: #000000; text-decoration-color: #000000\">entrenched in certain practices and industries, making it challenging to shift to a completely different diet on a </span>\n",
       "<span style=\"color: #000000; text-decoration-color: #000000\">large scale. What are your thoughts on these opposing viewpoints?</span>\n",
       "<span style=\"color: #000000; text-decoration-color: #000000; font-weight: bold\">(</span><span style=\"color: #000000; text-decoration-color: #000000\">Bob</span><span style=\"color: #000000; text-decoration-color: #000000; font-weight: bold\">)</span><span style=\"color: #000000; text-decoration-color: #000000\"> I understand the complexities of human dietary habits and the challenges of shifting to a vegetarian diet on </span>\n",
       "<span style=\"color: #000000; text-decoration-color: #000000\">a large scale, but I still believe that promoting vegetarianism is important for the well-being of our planet and </span>\n",
       "<span style=\"color: #000000; text-decoration-color: #000000\">all its inhabitants.,</span>\n",
       "<span style=\"color: #000000; text-decoration-color: #000000\">            &lt;Eval of </span><span style=\"color: #008080; text-decoration-color: #008080; font-weight: bold\">1</span><span style=\"color: #000000; text-decoration-color: #000000\"> dialogue: </span><span style=\"color: #000000; text-decoration-color: #000000; font-weight: bold\">{</span><span style=\"color: #008000; text-decoration-color: #008000\">'engaged'</span><span style=\"color: #000000; text-decoration-color: #000000\">: </span><span style=\"color: #008080; text-decoration-color: #008080; font-weight: bold\">4.0</span><span style=\"color: #000000; text-decoration-color: #000000\">, </span><span style=\"color: #008000; text-decoration-color: #008000\">'informed'</span><span style=\"color: #000000; text-decoration-color: #000000\">: </span><span style=\"color: #008080; text-decoration-color: #008080; font-weight: bold\">3.0</span><span style=\"color: #000000; text-decoration-color: #000000\">, </span><span style=\"color: #008000; text-decoration-color: #008000\">'intelligent'</span><span style=\"color: #000000; text-decoration-color: #000000\">: </span><span style=\"color: #008080; text-decoration-color: #008080; font-weight: bold\">3.0</span><span style=\"color: #000000; text-decoration-color: #000000\">, </span><span style=\"color: #008000; text-decoration-color: #008000\">'moral'</span><span style=\"color: #000000; text-decoration-color: #000000\">: </span><span style=\"color: #008080; text-decoration-color: #008080; font-weight: bold\">3.0</span><span style=\"color: #000000; text-decoration-color: #000000\">, </span><span style=\"color: #008000; text-decoration-color: #008000\">'skilled'</span><span style=\"color: #000000; text-decoration-color: #000000\">: </span>\n",
       "<span style=\"color: #008080; text-decoration-color: #008080; font-weight: bold\">7.0</span><span style=\"color: #000000; text-decoration-color: #000000\">, </span><span style=\"color: #008000; text-decoration-color: #008000\">'TOTAL'</span><span style=\"color: #000000; text-decoration-color: #000000\">: </span><span style=\"color: #008080; text-decoration-color: #008080; font-weight: bold\">20.0</span><span style=\"color: #000000; text-decoration-color: #000000; font-weight: bold\">}</span><span style=\"color: #000000; text-decoration-color: #000000\">&gt;</span>\n",
       "\n",
       "<span style=\"color: #000000; text-decoration-color: #000000\">Comments from overview question:</span>\n",
       "<span style=\"color: #000000; text-decoration-color: #000000; font-weight: bold\">(</span><span style=\"color: #000000; text-decoration-color: #000000\">Bob</span><span style=\"color: #000000; text-decoration-color: #000000; font-weight: bold\">)</span><span style=\"color: #000000; text-decoration-color: #000000\"> Awsom disagreed with me about the feasibility of adapting the human diet to a vegetarian one. In my opinion, </span>\n",
       "<span style=\"color: #000000; text-decoration-color: #000000\">the conversation went well as we were able to discuss opposing viewpoints respectfully. Awsom could have done </span>\n",
       "<span style=\"color: #000000; text-decoration-color: #000000\">better by providing more specific examples or evidence to support their arguments.</span>\n",
       "\n",
       "<span style=\"color: #000000; text-decoration-color: #000000\">Comments from mindopening question:</span>\n",
       "<span style=\"color: #000000; text-decoration-color: #000000; font-weight: bold\">(</span><span style=\"color: #000000; text-decoration-color: #000000\">Judge Wise</span><span style=\"color: #000000; text-decoration-color: #000000; font-weight: bold\">)</span><span style=\"color: #000000; text-decoration-color: #000000\"> Awsom offered two new perspectives to Bob:</span>\n",
       "\n",
       "<span style=\"color: #008080; text-decoration-color: #008080; font-weight: bold\">1</span><span style=\"color: #000000; text-decoration-color: #000000\">. The difficulty and expense of purchasing truly ethical meat, and the argument that consumers have a moral </span>\n",
       "<span style=\"color: #000000; text-decoration-color: #000000\">obligation to either purchase expensive ethical meat or not purchase meat at all.</span>\n",
       "<span style=\"color: #008080; text-decoration-color: #008080; font-weight: bold\">2</span><span style=\"color: #000000; text-decoration-color: #000000\">. The complexity of human dietary habits, the challenges of shifting to a vegetarian diet on a large scale, and </span>\n",
       "<span style=\"color: #000000; text-decoration-color: #000000\">the entrenched practices and industries in the global food system.</span>\n",
       "\n",
       "<span style=\"color: #000000; text-decoration-color: #000000\">It is difficult to determine from this conversation alone whether Awsom's attempt to help Bob appreciate other </span>\n",
       "<span style=\"color: #000000; text-decoration-color: #000000\">points of view was successful. While Awsom presented opposing viewpoints and engaged in a respectful discussion, </span>\n",
       "<span style=\"color: #000000; text-decoration-color: #000000\">Bob maintained his initial belief in the importance of promoting vegetarianism. Further dialogue and exploration of</span>\n",
       "<span style=\"color: #000000; text-decoration-color: #000000\">these perspectives would be needed to assess the success of Awsom's efforts.</span>\n",
       "<span style=\"color: #000000; text-decoration-color: #000000\">        </span><span style=\"color: #000000; text-decoration-color: #000000; font-weight: bold\">)</span><span style=\"color: #000000; text-decoration-color: #000000\">,</span>\n",
       "<span style=\"color: #000000; text-decoration-color: #000000\">        </span><span style=\"color: #000000; text-decoration-color: #000000; font-weight: bold\">(</span>\n",
       "<span style=\"color: #000000; text-decoration-color: #000000\">            </span><span style=\"color: #000000; text-decoration-color: #000000; font-weight: bold\">(</span><span style=\"color: #000000; text-decoration-color: #000000\">Awsom</span><span style=\"color: #000000; text-decoration-color: #000000; font-weight: bold\">)</span><span style=\"color: #000000; text-decoration-color: #000000\"> Do you think it's ok to eat meat?</span>\n",
       "<span style=\"color: #000000; text-decoration-color: #000000; font-weight: bold\">(</span><span style=\"color: #000000; text-decoration-color: #000000\">Cara</span><span style=\"color: #000000; text-decoration-color: #000000; font-weight: bold\">)</span><span style=\"color: #000000; text-decoration-color: #000000\"> Absolutely, I believe everyone has the right to choose their own dietary preferences.</span>\n",
       "<span style=\"color: #000000; text-decoration-color: #000000; font-weight: bold\">(</span><span style=\"color: #000000; text-decoration-color: #000000\">Awsom</span><span style=\"color: #000000; text-decoration-color: #000000; font-weight: bold\">)</span><span style=\"color: #000000; text-decoration-color: #000000\"> It's great that you believe in individual freedom and choice when it comes to dietary preferences. It's </span>\n",
       "<span style=\"color: #000000; text-decoration-color: #000000\">important to consider different perspectives on this issue as well. For example, some people may argue that certain</span>\n",
       "<span style=\"color: #000000; text-decoration-color: #000000\">dietary choices have negative impacts on the environment and animal welfare. It's important to consider these </span>\n",
       "<span style=\"color: #000000; text-decoration-color: #000000\">opposing viewpoints as well.</span>\n",
       "<span style=\"color: #000000; text-decoration-color: #000000; font-weight: bold\">(</span><span style=\"color: #000000; text-decoration-color: #000000\">Cara</span><span style=\"color: #000000; text-decoration-color: #000000; font-weight: bold\">)</span><span style=\"color: #000000; text-decoration-color: #000000\"> I understand that there are differing perspectives on this issue, and it's important to have open </span>\n",
       "<span style=\"color: #000000; text-decoration-color: #000000\">discussions while respecting each other's choices.</span>\n",
       "<span style=\"color: #000000; text-decoration-color: #000000; font-weight: bold\">(</span><span style=\"color: #000000; text-decoration-color: #000000\">Awsom</span><span style=\"color: #000000; text-decoration-color: #000000; font-weight: bold\">)</span><span style=\"color: #000000; text-decoration-color: #000000\"> I appreciate your belief in individual freedom and choice when it comes to dietary preferences, and I agree</span>\n",
       "<span style=\"color: #000000; text-decoration-color: #000000\">that it's important to have open discussions while respecting each other's choices. It's also important to consider</span>\n",
       "<span style=\"color: #000000; text-decoration-color: #000000\">different perspectives on issues, just like you mentioned. For example, some people may argue that certain dietary </span>\n",
       "<span style=\"color: #000000; text-decoration-color: #000000\">choices have negative impacts on the environment and animal welfare. It's important to consider these opposing </span>\n",
       "<span style=\"color: #000000; text-decoration-color: #000000\">viewpoints as well.</span>\n",
       "\n",
       "<span style=\"color: #000000; text-decoration-color: #000000\">As for the claim about Julie Swetnick's accusation, some argue that her accusation lacked corroboration and that </span>\n",
       "<span style=\"color: #000000; text-decoration-color: #000000\">she changed her story, casting doubt on the veracity of her claims. Additionally, her legal history and character </span>\n",
       "<span style=\"color: #000000; text-decoration-color: #000000\">have been called into question, further undermining the credibility of her accusation. However, others believe that</span>\n",
       "<span style=\"color: #000000; text-decoration-color: #000000\">the context in which these actions occurred should be considered, and that her legal history and character should </span>\n",
       "<span style=\"color: #000000; text-decoration-color: #000000\">not automatically discredit her accusation. It's important to focus on the substance of her claims and to </span>\n",
       "<span style=\"color: #000000; text-decoration-color: #000000\">thoroughly investigate the allegations, rather than dismissing them based on unrelated factors.</span>\n",
       "<span style=\"color: #000000; text-decoration-color: #000000; font-weight: bold\">(</span><span style=\"color: #000000; text-decoration-color: #000000\">Cara</span><span style=\"color: #000000; text-decoration-color: #000000; font-weight: bold\">)</span><span style=\"color: #000000; text-decoration-color: #000000\"> I understand the importance of thoroughly investigating allegations and focusing on the substance of the </span>\n",
       "<span style=\"color: #000000; text-decoration-color: #000000\">claims, rather than dismissing them based on unrelated factors.</span>\n",
       "<span style=\"color: #000000; text-decoration-color: #000000; font-weight: bold\">(</span><span style=\"color: #000000; text-decoration-color: #000000\">Awsom</span><span style=\"color: #000000; text-decoration-color: #000000; font-weight: bold\">)</span><span style=\"color: #000000; text-decoration-color: #000000\"> I agree with your point about thoroughly investigating allegations and focusing on the substance of the </span>\n",
       "<span style=\"color: #000000; text-decoration-color: #000000\">claims. It's important to take all allegations seriously and conduct a thorough investigation before making </span>\n",
       "<span style=\"color: #000000; text-decoration-color: #000000\">judgments. However, it's also important to consider opposing viewpoints on the matter. For example, some argue that</span>\n",
       "<span style=\"color: #000000; text-decoration-color: #000000\">the FBI concluded that there was no clear connection between President Trump and Russia, casting doubt on the </span>\n",
       "<span style=\"color: #000000; text-decoration-color: #000000\">allegations of conspiracy and coordination. It's important to consider these opposing viewpoints as well.</span>\n",
       "<span style=\"color: #000000; text-decoration-color: #000000; font-weight: bold\">(</span><span style=\"color: #000000; text-decoration-color: #000000\">Cara</span><span style=\"color: #000000; text-decoration-color: #000000; font-weight: bold\">)</span><span style=\"color: #000000; text-decoration-color: #000000\"> I understand the importance of considering opposing viewpoints and conducting thorough investigations before</span>\n",
       "<span style=\"color: #000000; text-decoration-color: #000000\">making judgments.,</span>\n",
       "<span style=\"color: #000000; text-decoration-color: #000000\">            &lt;Eval of </span><span style=\"color: #008080; text-decoration-color: #008080; font-weight: bold\">1</span><span style=\"color: #000000; text-decoration-color: #000000\"> dialogue: </span><span style=\"color: #000000; text-decoration-color: #000000; font-weight: bold\">{</span><span style=\"color: #008000; text-decoration-color: #008000\">'engaged'</span><span style=\"color: #000000; text-decoration-color: #000000\">: </span><span style=\"color: #008080; text-decoration-color: #008080; font-weight: bold\">4.0</span><span style=\"color: #000000; text-decoration-color: #000000\">, </span><span style=\"color: #008000; text-decoration-color: #008000\">'informed'</span><span style=\"color: #000000; text-decoration-color: #000000\">: </span><span style=\"color: #008080; text-decoration-color: #008080; font-weight: bold\">3.0</span><span style=\"color: #000000; text-decoration-color: #000000\">, </span><span style=\"color: #008000; text-decoration-color: #008000\">'intelligent'</span><span style=\"color: #000000; text-decoration-color: #000000\">: </span><span style=\"color: #008080; text-decoration-color: #008080; font-weight: bold\">3.0</span><span style=\"color: #000000; text-decoration-color: #000000\">, </span><span style=\"color: #008000; text-decoration-color: #008000\">'moral'</span><span style=\"color: #000000; text-decoration-color: #000000\">: </span><span style=\"color: #008080; text-decoration-color: #008080; font-weight: bold\">3.0</span><span style=\"color: #000000; text-decoration-color: #000000\">, </span><span style=\"color: #008000; text-decoration-color: #008000\">'skilled'</span><span style=\"color: #000000; text-decoration-color: #000000\">: </span>\n",
       "<span style=\"color: #008080; text-decoration-color: #008080; font-weight: bold\">7.0</span><span style=\"color: #000000; text-decoration-color: #000000\">, </span><span style=\"color: #008000; text-decoration-color: #008000\">'TOTAL'</span><span style=\"color: #000000; text-decoration-color: #000000\">: </span><span style=\"color: #008080; text-decoration-color: #008080; font-weight: bold\">20.0</span><span style=\"color: #000000; text-decoration-color: #000000; font-weight: bold\">}</span><span style=\"color: #000000; text-decoration-color: #000000\">&gt;</span>\n",
       "\n",
       "<span style=\"color: #000000; text-decoration-color: #000000\">Comments from overview question:</span>\n",
       "<span style=\"color: #000000; text-decoration-color: #000000; font-weight: bold\">(</span><span style=\"color: #000000; text-decoration-color: #000000\">Cara</span><span style=\"color: #000000; text-decoration-color: #000000; font-weight: bold\">)</span><span style=\"color: #000000; text-decoration-color: #000000\"> Awsom disagreed with me about the negative impacts of certain dietary choices on the environment and animal </span>\n",
       "<span style=\"color: #000000; text-decoration-color: #000000\">welfare. </span>\n",
       "\n",
       "<span style=\"color: #000000; text-decoration-color: #000000\">In my opinion, the conversation went relatively well. We both acknowledged the importance of individual freedom and</span>\n",
       "<span style=\"color: #000000; text-decoration-color: #000000\">choice, as well as the need for open discussions and respect for differing perspectives. We also agreed on the </span>\n",
       "<span style=\"color: #000000; text-decoration-color: #000000\">importance of thoroughly investigating allegations and focusing on the substance of claims.</span>\n",
       "\n",
       "<span style=\"color: #000000; text-decoration-color: #000000\">However, Awsom could have done better by not repeating the same opposing viewpoint multiple times. It would have </span>\n",
       "<span style=\"color: #000000; text-decoration-color: #000000\">been more productive to explore other perspectives or delve deeper into the specific arguments related to the </span>\n",
       "<span style=\"color: #000000; text-decoration-color: #000000\">negative impacts of certain dietary choices and the allegations being discussed.</span>\n",
       "\n",
       "<span style=\"color: #000000; text-decoration-color: #000000\">Comments from mindopening question:</span>\n",
       "<span style=\"color: #000000; text-decoration-color: #000000; font-weight: bold\">(</span><span style=\"color: #000000; text-decoration-color: #000000\">Judge Wise</span><span style=\"color: #000000; text-decoration-color: #000000; font-weight: bold\">)</span><span style=\"color: #000000; text-decoration-color: #000000\"> Awsom offered new perspectives on the issue of dietary choices, specifically highlighting the </span>\n",
       "<span style=\"color: #000000; text-decoration-color: #000000\">potential negative impacts on the environment and animal welfare. They also brought up the opposing viewpoints on </span>\n",
       "<span style=\"color: #000000; text-decoration-color: #000000\">Julie Swetnick's accusation, discussing the lack of corroboration and the questioning of her character.</span>\n",
       "\n",
       "<span style=\"color: #000000; text-decoration-color: #000000\">It is difficult to determine from this conversation alone whether Awsom's attempt to help Cara appreciate other </span>\n",
       "<span style=\"color: #000000; text-decoration-color: #000000\">points of view was successful. Both Awsom and Cara expressed understanding of the importance of considering </span>\n",
       "<span style=\"color: #000000; text-decoration-color: #000000\">opposing viewpoints and conducting thorough investigations. However, without further context or information, it is </span>\n",
       "<span style=\"color: #000000; text-decoration-color: #000000\">unclear if Cara's perspective was actually influenced or if they simply acknowledged the importance of open </span>\n",
       "<span style=\"color: #000000; text-decoration-color: #000000\">discussions and respect.</span>\n",
       "<span style=\"color: #000000; text-decoration-color: #000000\">        </span><span style=\"color: #000000; text-decoration-color: #000000; font-weight: bold\">)</span><span style=\"color: #000000; text-decoration-color: #000000\">,</span>\n",
       "<span style=\"color: #000000; text-decoration-color: #000000\">        </span><span style=\"color: #000000; text-decoration-color: #000000; font-weight: bold\">(</span>\n",
       "<span style=\"color: #000000; text-decoration-color: #000000\">            </span><span style=\"color: #000000; text-decoration-color: #000000; font-weight: bold\">(</span><span style=\"color: #000000; text-decoration-color: #000000\">Awsom</span><span style=\"color: #000000; text-decoration-color: #000000; font-weight: bold\">)</span><span style=\"color: #000000; text-decoration-color: #000000\"> Do you think it's ok to eat meat?</span>\n",
       "<span style=\"color: #000000; text-decoration-color: #000000; font-weight: bold\">(</span><span style=\"color: #000000; text-decoration-color: #000000\">Cara</span><span style=\"color: #000000; text-decoration-color: #000000; font-weight: bold\">)</span><span style=\"color: #000000; text-decoration-color: #000000\"> Yes, I believe it's a personal choice and I choose to eat meat.</span>\n",
       "<span style=\"color: #000000; text-decoration-color: #000000; font-weight: bold\">(</span><span style=\"color: #000000; text-decoration-color: #000000\">Awsom</span><span style=\"color: #000000; text-decoration-color: #000000; font-weight: bold\">)</span><span style=\"color: #000000; text-decoration-color: #000000\"> It's great that you feel comfortable with your personal choice to eat meat. However, it's important to </span>\n",
       "<span style=\"color: #000000; text-decoration-color: #000000\">consider that not everyone shares the same viewpoint. For example, some people may argue that the treatment of </span>\n",
       "<span style=\"color: #000000; text-decoration-color: #000000\">animals in the meat industry is unethical and inhumane. They may also point to the environmental impact of meat </span>\n",
       "<span style=\"color: #000000; text-decoration-color: #000000\">production as a reason to reconsider consuming meat. It's important to be open to different perspectives and </span>\n",
       "<span style=\"color: #000000; text-decoration-color: #000000\">consider the ethical and environmental implications of our choices.</span>\n",
       "<span style=\"color: #000000; text-decoration-color: #000000; font-weight: bold\">(</span><span style=\"color: #000000; text-decoration-color: #000000\">Cara</span><span style=\"color: #000000; text-decoration-color: #000000; font-weight: bold\">)</span><span style=\"color: #000000; text-decoration-color: #000000\"> I appreciate your perspective, but I've made my choice about eating meat and I respect that others may have </span>\n",
       "<span style=\"color: #000000; text-decoration-color: #000000\">different views on the matter.</span>\n",
       "<span style=\"color: #000000; text-decoration-color: #000000; font-weight: bold\">(</span><span style=\"color: #000000; text-decoration-color: #000000\">Awsom</span><span style=\"color: #000000; text-decoration-color: #000000; font-weight: bold\">)</span><span style=\"color: #000000; text-decoration-color: #000000\"> It's great that you feel comfortable with your personal choice to eat meat. However, it's important to </span>\n",
       "<span style=\"color: #000000; text-decoration-color: #000000\">consider that not everyone shares the same viewpoint. For example, some people may argue that the treatment of </span>\n",
       "<span style=\"color: #000000; text-decoration-color: #000000\">animals in the meat industry is unethical and inhumane. They may also point to the environmental impact of meat </span>\n",
       "<span style=\"color: #000000; text-decoration-color: #000000\">production as a reason to reconsider consuming meat. It's important to be open to different perspectives and </span>\n",
       "<span style=\"color: #000000; text-decoration-color: #000000\">consider the ethical and environmental implications of our choices.</span>\n",
       "\n",
       "<span style=\"color: #000000; text-decoration-color: #000000\">Cara, I understand and respect your personal choice to eat meat. However, it's important to acknowledge that there </span>\n",
       "<span style=\"color: #000000; text-decoration-color: #000000\">are opposing viewpoints on this matter. For example, some people may argue that the treatment of animals in the </span>\n",
       "<span style=\"color: #000000; text-decoration-color: #000000\">meat industry is unethical and inhumane. They may also point to the environmental impact of meat production as a </span>\n",
       "<span style=\"color: #000000; text-decoration-color: #000000\">reason to reconsider consuming meat. It's important to be open to these perspectives and consider the ethical and </span>\n",
       "<span style=\"color: #000000; text-decoration-color: #000000\">environmental implications of our choices.</span>\n",
       "<span style=\"color: #000000; text-decoration-color: #000000; font-weight: bold\">(</span><span style=\"color: #000000; text-decoration-color: #000000\">Cara</span><span style=\"color: #000000; text-decoration-color: #000000; font-weight: bold\">)</span><span style=\"color: #000000; text-decoration-color: #000000\"> I understand there are differing viewpoints, and I respect others' perspectives, but I've made my choice </span>\n",
       "<span style=\"color: #000000; text-decoration-color: #000000\">about eating meat.</span>\n",
       "<span style=\"color: #000000; text-decoration-color: #000000; font-weight: bold\">(</span><span style=\"color: #000000; text-decoration-color: #000000\">Awsom</span><span style=\"color: #000000; text-decoration-color: #000000; font-weight: bold\">)</span><span style=\"color: #000000; text-decoration-color: #000000\"> Cara, I understand and respect your personal choice to eat meat. However, it's important to acknowledge </span>\n",
       "<span style=\"color: #000000; text-decoration-color: #000000\">that there are opposing viewpoints on this matter. For example, just as we should consider the ethical and </span>\n",
       "<span style=\"color: #000000; text-decoration-color: #000000\">environmental implications of our choices when it comes to eating meat, it's also important to approach accusations</span>\n",
       "<span style=\"color: #000000; text-decoration-color: #000000\">of sexual assault with sensitivity and an open mind. While it's true that Julie Swetnick's accusation lacked </span>\n",
       "<span style=\"color: #000000; text-decoration-color: #000000\">corroboration and that she changed her story, it's important to consider the context in which these actions </span>\n",
       "<span style=\"color: #000000; text-decoration-color: #000000\">occurred. Swetnick came forward with her accusation in a highly charged and politicized environment, which may have</span>\n",
       "<span style=\"color: #000000; text-decoration-color: #000000\">influenced her behavior. Additionally, her legal history and character references should not automatically </span>\n",
       "<span style=\"color: #000000; text-decoration-color: #000000\">discredit her accusation. It's crucial to approach accusations of sexual assault with an open mind, rather than </span>\n",
       "<span style=\"color: #000000; text-decoration-color: #000000\">immediately dismissing them based on unrelated factors.</span>\n",
       "<span style=\"color: #000000; text-decoration-color: #000000; font-weight: bold\">(</span><span style=\"color: #000000; text-decoration-color: #000000\">Cara</span><span style=\"color: #000000; text-decoration-color: #000000; font-weight: bold\">)</span><span style=\"color: #000000; text-decoration-color: #000000\"> I understand the importance of approaching accusations of sexual assault with sensitivity and an open mind, </span>\n",
       "<span style=\"color: #000000; text-decoration-color: #000000\">but I prefer not to discuss this topic.,</span>\n",
       "<span style=\"color: #000000; text-decoration-color: #000000\">            &lt;Eval of </span><span style=\"color: #008080; text-decoration-color: #008080; font-weight: bold\">1</span><span style=\"color: #000000; text-decoration-color: #000000\"> dialogue: </span><span style=\"color: #000000; text-decoration-color: #000000; font-weight: bold\">{</span><span style=\"color: #008000; text-decoration-color: #008000\">'engaged'</span><span style=\"color: #000000; text-decoration-color: #000000\">: </span><span style=\"color: #008080; text-decoration-color: #008080; font-weight: bold\">4.0</span><span style=\"color: #000000; text-decoration-color: #000000\">, </span><span style=\"color: #008000; text-decoration-color: #008000\">'informed'</span><span style=\"color: #000000; text-decoration-color: #000000\">: </span><span style=\"color: #008080; text-decoration-color: #008080; font-weight: bold\">3.0</span><span style=\"color: #000000; text-decoration-color: #000000\">, </span><span style=\"color: #008000; text-decoration-color: #008000\">'intelligent'</span><span style=\"color: #000000; text-decoration-color: #000000\">: </span><span style=\"color: #008080; text-decoration-color: #008080; font-weight: bold\">3.0</span><span style=\"color: #000000; text-decoration-color: #000000\">, </span><span style=\"color: #008000; text-decoration-color: #008000\">'moral'</span><span style=\"color: #000000; text-decoration-color: #000000\">: </span><span style=\"color: #008080; text-decoration-color: #008080; font-weight: bold\">3.0</span><span style=\"color: #000000; text-decoration-color: #000000\">, </span><span style=\"color: #008000; text-decoration-color: #008000\">'skilled'</span><span style=\"color: #000000; text-decoration-color: #000000\">: </span>\n",
       "<span style=\"color: #008080; text-decoration-color: #008080; font-weight: bold\">7.0</span><span style=\"color: #000000; text-decoration-color: #000000\">, </span><span style=\"color: #008000; text-decoration-color: #008000\">'TOTAL'</span><span style=\"color: #000000; text-decoration-color: #000000\">: </span><span style=\"color: #008080; text-decoration-color: #008080; font-weight: bold\">20.0</span><span style=\"color: #000000; text-decoration-color: #000000; font-weight: bold\">}</span><span style=\"color: #000000; text-decoration-color: #000000\">&gt;</span>\n",
       "\n",
       "<span style=\"color: #000000; text-decoration-color: #000000\">Comments from overview question:</span>\n",
       "<span style=\"color: #000000; text-decoration-color: #000000; font-weight: bold\">(</span><span style=\"color: #000000; text-decoration-color: #000000\">Cara</span><span style=\"color: #000000; text-decoration-color: #000000; font-weight: bold\">)</span><span style=\"color: #000000; text-decoration-color: #000000\"> Awsom disagreed with Cara about whether it's okay to eat meat. </span>\n",
       "\n",
       "<span style=\"color: #000000; text-decoration-color: #000000\">In Cara's opinion, the conversation went well because she expressed her personal choice to eat meat and </span>\n",
       "<span style=\"color: #000000; text-decoration-color: #000000\">acknowledged that others may have different views. She also respected Awsom's perspective but made it clear that </span>\n",
       "<span style=\"color: #000000; text-decoration-color: #000000\">she had already made her decision.</span>\n",
       "\n",
       "<span style=\"color: #000000; text-decoration-color: #000000\">Awsom could have done better by not bringing up a completely unrelated topic </span><span style=\"color: #000000; text-decoration-color: #000000; font-weight: bold\">(</span><span style=\"color: #000000; text-decoration-color: #000000\">accusations of sexual assault</span><span style=\"color: #000000; text-decoration-color: #000000; font-weight: bold\">)</span><span style=\"color: #000000; text-decoration-color: #000000\"> in the</span>\n",
       "<span style=\"color: #000000; text-decoration-color: #000000\">conversation. It was not relevant to the initial discussion about eating meat and could have derailed the </span>\n",
       "<span style=\"color: #000000; text-decoration-color: #000000\">conversation.</span>\n",
       "\n",
       "<span style=\"color: #000000; text-decoration-color: #000000\">Comments from mindopening question:</span>\n",
       "<span style=\"color: #000000; text-decoration-color: #000000; font-weight: bold\">(</span><span style=\"color: #000000; text-decoration-color: #000000\">Judge Wise</span><span style=\"color: #000000; text-decoration-color: #000000; font-weight: bold\">)</span><span style=\"color: #000000; text-decoration-color: #000000\"> Awsom offered new perspectives on the ethical and environmental implications of consuming meat. They </span>\n",
       "<span style=\"color: #000000; text-decoration-color: #000000\">highlighted the arguments about the treatment of animals in the meat industry and the environmental impact of meat </span>\n",
       "<span style=\"color: #000000; text-decoration-color: #000000\">production. </span>\n",
       "\n",
       "<span style=\"color: #000000; text-decoration-color: #000000\">It is unclear whether this was successful in helping Cara appreciate other points of view, as Cara reiterated her </span>\n",
       "<span style=\"color: #000000; text-decoration-color: #000000\">personal choice and expressed a preference not to discuss the topic further.</span>\n",
       "<span style=\"color: #000000; text-decoration-color: #000000\">        </span><span style=\"color: #000000; text-decoration-color: #000000; font-weight: bold\">)</span><span style=\"color: #000000; text-decoration-color: #000000\">,</span>\n",
       "<span style=\"color: #000000; text-decoration-color: #000000\">        </span><span style=\"color: #000000; text-decoration-color: #000000; font-weight: bold\">(</span>\n",
       "<span style=\"color: #000000; text-decoration-color: #000000\">            </span><span style=\"color: #000000; text-decoration-color: #000000; font-weight: bold\">(</span><span style=\"color: #000000; text-decoration-color: #000000\">Awsom</span><span style=\"color: #000000; text-decoration-color: #000000; font-weight: bold\">)</span><span style=\"color: #000000; text-decoration-color: #000000\"> Do you think COVID vaccines should be mandatory?</span>\n",
       "<span style=\"color: #000000; text-decoration-color: #000000; font-weight: bold\">(</span><span style=\"color: #000000; text-decoration-color: #000000\">Darius</span><span style=\"color: #000000; text-decoration-color: #000000; font-weight: bold\">)</span><span style=\"color: #000000; text-decoration-color: #000000\"> Absolutely, given the overwhelming evidence of their safety and efficacy in preventing severe illness and </span>\n",
       "<span style=\"color: #000000; text-decoration-color: #000000\">death, making COVID vaccines mandatory is not only justifiable but also crucial for achieving herd immunity and </span>\n",
       "<span style=\"color: #000000; text-decoration-color: #000000\">protecting public health.</span>\n",
       "<span style=\"color: #000000; text-decoration-color: #000000; font-weight: bold\">(</span><span style=\"color: #000000; text-decoration-color: #000000\">Awsom</span><span style=\"color: #000000; text-decoration-color: #000000; font-weight: bold\">)</span><span style=\"color: #000000; text-decoration-color: #000000\"> I agree with you, Darius. Making COVID vaccines mandatory is crucial for achieving herd immunity and </span>\n",
       "<span style=\"color: #000000; text-decoration-color: #000000\">protecting public health. However, some people argue that the distribution process for mandatory vaccination could </span>\n",
       "<span style=\"color: #000000; text-decoration-color: #000000\">be a logistical nightmare, presenting a significant challenge. It's important to consider these opposing viewpoints</span>\n",
       "<span style=\"color: #000000; text-decoration-color: #000000\">as well.</span>\n",
       "<span style=\"color: #000000; text-decoration-color: #000000; font-weight: bold\">(</span><span style=\"color: #000000; text-decoration-color: #000000\">Darius</span><span style=\"color: #000000; text-decoration-color: #000000; font-weight: bold\">)</span><span style=\"color: #000000; text-decoration-color: #000000\"> While logistical challenges may indeed arise, it's essential to prioritize public health and utilize </span>\n",
       "<span style=\"color: #000000; text-decoration-color: #000000\">existing infrastructure and resources to ensure efficient and equitable distribution of mandatory COVID vaccines, </span>\n",
       "<span style=\"color: #000000; text-decoration-color: #000000\">especially considering the substantial benefits they offer in curbing the spread of the virus and preventing future</span>\n",
       "<span style=\"color: #000000; text-decoration-color: #000000\">outbreaks.</span>\n",
       "<span style=\"color: #000000; text-decoration-color: #000000; font-weight: bold\">(</span><span style=\"color: #000000; text-decoration-color: #000000\">Awsom</span><span style=\"color: #000000; text-decoration-color: #000000; font-weight: bold\">)</span><span style=\"color: #000000; text-decoration-color: #000000\"> I agree with you, Darius. Making COVID vaccines mandatory is crucial for achieving herd immunity and </span>\n",
       "<span style=\"color: #000000; text-decoration-color: #000000\">protecting public health. However, some people argue that the distribution process for mandatory vaccination could </span>\n",
       "<span style=\"color: #000000; text-decoration-color: #000000\">be a logistical nightmare, presenting a significant challenge. It's important to consider these opposing viewpoints</span>\n",
       "<span style=\"color: #000000; text-decoration-color: #000000\">as well.</span>\n",
       "\n",
       "<span style=\"color: #000000; text-decoration-color: #000000\">Darius, while I understand the importance of prioritizing public health and efficient distribution of mandatory </span>\n",
       "<span style=\"color: #000000; text-decoration-color: #000000\">COVID vaccines, some opposing viewpoints suggest that the current dominant COVID-</span><span style=\"color: #008080; text-decoration-color: #008080; font-weight: bold\">19</span><span style=\"color: #000000; text-decoration-color: #000000\"> strain, Omicron, is </span>\n",
       "<span style=\"color: #000000; text-decoration-color: #000000\">significantly more transmissible and generally produces mild or asymptomatic infections. This has led public health</span>\n",
       "<span style=\"color: #000000; text-decoration-color: #000000\">agencies in some countries to relax restrictions despite rising cases. It's important to consider these </span>\n",
       "<span style=\"color: #000000; text-decoration-color: #000000\">perspectives as well when discussing mandatory vaccination policies.</span>\n",
       "<span style=\"color: #000000; text-decoration-color: #000000; font-weight: bold\">(</span><span style=\"color: #000000; text-decoration-color: #000000\">Darius</span><span style=\"color: #000000; text-decoration-color: #000000; font-weight: bold\">)</span><span style=\"color: #000000; text-decoration-color: #000000\"> It's crucial to recognize that while some individuals may experience milder symptoms with the Omicron </span>\n",
       "<span style=\"color: #000000; text-decoration-color: #000000\">variant, the overall impact of widespread transmission can still strain healthcare systems, lead to long-term </span>\n",
       "<span style=\"color: #000000; text-decoration-color: #000000\">complications, and result in significant morbidity and mortality, underscoring the continued importance of </span>\n",
       "<span style=\"color: #000000; text-decoration-color: #000000\">vaccination to mitigate the spread and potential consequences of the virus.</span>\n",
       "<span style=\"color: #000000; text-decoration-color: #000000; font-weight: bold\">(</span><span style=\"color: #000000; text-decoration-color: #000000\">Awsom</span><span style=\"color: #000000; text-decoration-color: #000000; font-weight: bold\">)</span><span style=\"color: #000000; text-decoration-color: #000000\"> Darius, I understand the importance of prioritizing public health and the necessity of vaccination to </span>\n",
       "<span style=\"color: #000000; text-decoration-color: #000000\">mitigate the spread and potential consequences of the virus, especially with the presence of the Omicron variant. </span>\n",
       "<span style=\"color: #000000; text-decoration-color: #000000\">However, some opposing viewpoints suggest that the negative consequences of COVID-</span><span style=\"color: #008080; text-decoration-color: #008080; font-weight: bold\">19</span><span style=\"color: #000000; text-decoration-color: #000000\"> on the economy, such as </span>\n",
       "<span style=\"color: #000000; text-decoration-color: #000000\">reduced incomes and the inability to fully reopen schools, may not be fully addressed by mandatory vaccination </span>\n",
       "<span style=\"color: #000000; text-decoration-color: #000000\">alone. Additionally, marginalized populations are unlikely to feel the effects of the economic recovery without </span>\n",
       "<span style=\"color: #000000; text-decoration-color: #000000\">additional policy interventions. It's important to consider these perspectives as well when discussing the impact </span>\n",
       "<span style=\"color: #000000; text-decoration-color: #000000\">of mandatory vaccination on the economy and overall well-being.</span>\n",
       "<span style=\"color: #000000; text-decoration-color: #000000; font-weight: bold\">(</span><span style=\"color: #000000; text-decoration-color: #000000\">Darius</span><span style=\"color: #000000; text-decoration-color: #000000; font-weight: bold\">)</span><span style=\"color: #000000; text-decoration-color: #000000\"> While acknowledging the economic complexities, it's essential to emphasize that the long-term benefits of </span>\n",
       "<span style=\"color: #000000; text-decoration-color: #000000\">achieving widespread vaccination and reducing the burden of COVID-</span><span style=\"color: #008080; text-decoration-color: #008080; font-weight: bold\">19</span><span style=\"color: #000000; text-decoration-color: #000000\"> on healthcare systems far outweigh the </span>\n",
       "<span style=\"color: #000000; text-decoration-color: #000000\">short-term economic challenges, and targeted policy interventions can address the disparities experienced by </span>\n",
       "<span style=\"color: #000000; text-decoration-color: #000000\">marginalized populations, ultimately contributing to a more comprehensive and sustainable recovery.,</span>\n",
       "<span style=\"color: #000000; text-decoration-color: #000000\">            &lt;Eval of </span><span style=\"color: #008080; text-decoration-color: #008080; font-weight: bold\">1</span><span style=\"color: #000000; text-decoration-color: #000000\"> dialogue: </span><span style=\"color: #000000; text-decoration-color: #000000; font-weight: bold\">{</span><span style=\"color: #008000; text-decoration-color: #008000\">'engaged'</span><span style=\"color: #000000; text-decoration-color: #000000\">: </span><span style=\"color: #008080; text-decoration-color: #008080; font-weight: bold\">4.0</span><span style=\"color: #000000; text-decoration-color: #000000\">, </span><span style=\"color: #008000; text-decoration-color: #008000\">'informed'</span><span style=\"color: #000000; text-decoration-color: #000000\">: </span><span style=\"color: #008080; text-decoration-color: #008080; font-weight: bold\">3.0</span><span style=\"color: #000000; text-decoration-color: #000000\">, </span><span style=\"color: #008000; text-decoration-color: #008000\">'intelligent'</span><span style=\"color: #000000; text-decoration-color: #000000\">: </span><span style=\"color: #008080; text-decoration-color: #008080; font-weight: bold\">3.0</span><span style=\"color: #000000; text-decoration-color: #000000\">, </span><span style=\"color: #008000; text-decoration-color: #008000\">'moral'</span><span style=\"color: #000000; text-decoration-color: #000000\">: </span><span style=\"color: #008080; text-decoration-color: #008080; font-weight: bold\">3.0</span><span style=\"color: #000000; text-decoration-color: #000000\">, </span><span style=\"color: #008000; text-decoration-color: #008000\">'skilled'</span><span style=\"color: #000000; text-decoration-color: #000000\">: </span>\n",
       "<span style=\"color: #008080; text-decoration-color: #008080; font-weight: bold\">8.0</span><span style=\"color: #000000; text-decoration-color: #000000\">, </span><span style=\"color: #008000; text-decoration-color: #008000\">'TOTAL'</span><span style=\"color: #000000; text-decoration-color: #000000\">: </span><span style=\"color: #008080; text-decoration-color: #008080; font-weight: bold\">21.0</span><span style=\"color: #000000; text-decoration-color: #000000; font-weight: bold\">}</span><span style=\"color: #000000; text-decoration-color: #000000\">&gt;</span>\n",
       "\n",
       "<span style=\"color: #000000; text-decoration-color: #000000\">Comments from overview question:</span>\n",
       "<span style=\"color: #000000; text-decoration-color: #000000; font-weight: bold\">(</span><span style=\"color: #000000; text-decoration-color: #000000\">Darius</span><span style=\"color: #000000; text-decoration-color: #000000; font-weight: bold\">)</span><span style=\"color: #000000; text-decoration-color: #000000\"> Awsom disagreed with me about the potential logistical challenges of distributing mandatory COVID </span>\n",
       "<span style=\"color: #000000; text-decoration-color: #000000\">vaccines. In my opinion, the conversation went well as we both acknowledged opposing viewpoints and provided </span>\n",
       "<span style=\"color: #000000; text-decoration-color: #000000\">evidence-based arguments to support our positions. Awsom could have done better by presenting specific evidence or </span>\n",
       "<span style=\"color: #000000; text-decoration-color: #000000\">examples to support their points, rather than just mentioning opposing perspectives without further elaboration.</span>\n",
       "\n",
       "<span style=\"color: #000000; text-decoration-color: #000000\">Comments from mindopening question:</span>\n",
       "<span style=\"color: #000000; text-decoration-color: #000000; font-weight: bold\">(</span><span style=\"color: #000000; text-decoration-color: #000000\">Judge Wise</span><span style=\"color: #000000; text-decoration-color: #000000; font-weight: bold\">)</span><span style=\"color: #000000; text-decoration-color: #000000\"> Awsom offered two new perspectives to Darius:</span>\n",
       "\n",
       "<span style=\"color: #008080; text-decoration-color: #008080; font-weight: bold\">1</span><span style=\"color: #000000; text-decoration-color: #000000\">. The logistical challenges of distributing mandatory vaccines.</span>\n",
       "<span style=\"color: #008080; text-decoration-color: #008080; font-weight: bold\">2</span><span style=\"color: #000000; text-decoration-color: #000000\">. The potential negative consequences of mandatory vaccination on the economy and marginalized populations.</span>\n",
       "\n",
       "<span style=\"color: #000000; text-decoration-color: #000000\">It appears that Awsom's attempt to introduce new perspectives and encourage Darius to consider opposing viewpoints </span>\n",
       "<span style=\"color: #000000; text-decoration-color: #000000\">was successful. Darius acknowledged and addressed these perspectives in their subsequent responses, indicating an </span>\n",
       "<span style=\"color: #000000; text-decoration-color: #000000\">openness to considering different angles of the issue.</span>\n",
       "<span style=\"color: #000000; text-decoration-color: #000000\">        </span><span style=\"color: #000000; text-decoration-color: #000000; font-weight: bold\">)</span><span style=\"color: #000000; text-decoration-color: #000000\">,</span>\n",
       "<span style=\"color: #000000; text-decoration-color: #000000\">        </span><span style=\"color: #000000; text-decoration-color: #000000; font-weight: bold\">(</span>\n",
       "<span style=\"color: #000000; text-decoration-color: #000000\">            </span><span style=\"color: #000000; text-decoration-color: #000000; font-weight: bold\">(</span><span style=\"color: #000000; text-decoration-color: #000000\">Awsom</span><span style=\"color: #000000; text-decoration-color: #000000; font-weight: bold\">)</span><span style=\"color: #000000; text-decoration-color: #000000\"> Do you think COVID vaccines should be mandatory?</span>\n",
       "<span style=\"color: #000000; text-decoration-color: #000000; font-weight: bold\">(</span><span style=\"color: #000000; text-decoration-color: #000000\">Darius</span><span style=\"color: #000000; text-decoration-color: #000000; font-weight: bold\">)</span><span style=\"color: #000000; text-decoration-color: #000000\"> Absolutely, the overwhelming scientific evidence supports the efficacy and safety of COVID vaccines, and </span>\n",
       "<span style=\"color: #000000; text-decoration-color: #000000\">making them mandatory is essential to achieve widespread immunity and protect public health.</span>\n",
       "<span style=\"color: #000000; text-decoration-color: #000000; font-weight: bold\">(</span><span style=\"color: #000000; text-decoration-color: #000000\">Awsom</span><span style=\"color: #000000; text-decoration-color: #000000; font-weight: bold\">)</span><span style=\"color: #000000; text-decoration-color: #000000\"> I agree with you, Darius. The overwhelming scientific evidence supporting the efficacy and safety of COVID </span>\n",
       "<span style=\"color: #000000; text-decoration-color: #000000\">vaccines is crucial in protecting public health. However, some people argue that efficacy should not come at the </span>\n",
       "<span style=\"color: #000000; text-decoration-color: #000000\">cost of civil liberties. They believe that compromising civil liberties can lead to disastrous outcomes, and that </span>\n",
       "<span style=\"color: #000000; text-decoration-color: #000000\">there is no point in preserving civil liberties if citizens are not alive and well enough to enjoy them. It's </span>\n",
       "<span style=\"color: #000000; text-decoration-color: #000000\">important to consider these opposing viewpoints as well.</span>\n",
       "<span style=\"color: #000000; text-decoration-color: #000000; font-weight: bold\">(</span><span style=\"color: #000000; text-decoration-color: #000000\">Darius</span><span style=\"color: #000000; text-decoration-color: #000000; font-weight: bold\">)</span><span style=\"color: #000000; text-decoration-color: #000000\"> While it is important to respect civil liberties, public health measures such as vaccine mandates have </span>\n",
       "<span style=\"color: #000000; text-decoration-color: #000000\">been historically effective in controlling infectious diseases, and it is crucial to prioritize the greater good </span>\n",
       "<span style=\"color: #000000; text-decoration-color: #000000\">and minimize the risk of widespread illness and death.</span>\n",
       "<span style=\"color: #000000; text-decoration-color: #000000; font-weight: bold\">(</span><span style=\"color: #000000; text-decoration-color: #000000\">Awsom</span><span style=\"color: #000000; text-decoration-color: #000000; font-weight: bold\">)</span><span style=\"color: #000000; text-decoration-color: #000000\"> Darius, I understand your perspective on prioritizing public health and the greater good over individual </span>\n",
       "<span style=\"color: #000000; text-decoration-color: #000000\">civil liberties when it comes to vaccine mandates. However, it's important to consider the opposing viewpoint that </span>\n",
       "<span style=\"color: #000000; text-decoration-color: #000000\">compromising civil liberties can lead to disastrous outcomes. Some people argue that during the SARS outbreak, </span>\n",
       "<span style=\"color: #000000; text-decoration-color: #000000\">strong public health measures were able to sufficiently stop the spread of the virus without requiring vaccination.</span>\n",
       "<span style=\"color: #000000; text-decoration-color: #000000\">They also point out that COVID-</span><span style=\"color: #008080; text-decoration-color: #008080; font-weight: bold\">19</span><span style=\"color: #000000; text-decoration-color: #000000\"> is relatively much more infectious and deadly, making it harder for its spread to</span>\n",
       "<span style=\"color: #000000; text-decoration-color: #000000\">be curbed without vaccination. It's important to consider these opposing ideas as well.</span>\n",
       "<span style=\"color: #000000; text-decoration-color: #000000; font-weight: bold\">(</span><span style=\"color: #000000; text-decoration-color: #000000\">Darius</span><span style=\"color: #000000; text-decoration-color: #000000; font-weight: bold\">)</span><span style=\"color: #000000; text-decoration-color: #000000\"> While it is true that strong public health measures were effective in controlling SARS, COVID-</span><span style=\"color: #008080; text-decoration-color: #008080; font-weight: bold\">19</span><span style=\"color: #000000; text-decoration-color: #000000\"> presents </span>\n",
       "<span style=\"color: #000000; text-decoration-color: #000000\">unique challenges due to its higher infectivity and mortality, making widespread vaccination a crucial tool in </span>\n",
       "<span style=\"color: #000000; text-decoration-color: #000000\">curbing its spread and preventing further loss of life.</span>\n",
       "<span style=\"color: #000000; text-decoration-color: #000000; font-weight: bold\">(</span><span style=\"color: #000000; text-decoration-color: #000000\">Awsom</span><span style=\"color: #000000; text-decoration-color: #000000; font-weight: bold\">)</span><span style=\"color: #000000; text-decoration-color: #000000\"> Darius, I understand your perspective on the importance of widespread vaccination in curbing the spread of </span>\n",
       "<span style=\"color: #000000; text-decoration-color: #000000\">COVID-</span><span style=\"color: #008080; text-decoration-color: #008080; font-weight: bold\">19</span><span style=\"color: #000000; text-decoration-color: #000000\"> and preventing further loss of life. However, some people argue that the negative consequences of COVID-</span><span style=\"color: #008080; text-decoration-color: #008080; font-weight: bold\">19</span>\n",
       "<span style=\"color: #000000; text-decoration-color: #000000\">on the economy, such as reduced incomes and economic downturn, should also be taken into consideration. They </span>\n",
       "<span style=\"color: #000000; text-decoration-color: #000000\">believe that mandatory vaccination could help curb the economic downturn and restore well-being by stopping the </span>\n",
       "<span style=\"color: #000000; text-decoration-color: #000000\">continued spread of the virus. Additionally, they argue that social distancing measures, caused by the spread of </span>\n",
       "<span style=\"color: #000000; text-decoration-color: #000000\">COVID-</span><span style=\"color: #008080; text-decoration-color: #008080; font-weight: bold\">19</span><span style=\"color: #000000; text-decoration-color: #000000\">, have had the biggest negative impact on the economy. On the other hand, some opposing viewpoints suggest </span>\n",
       "<span style=\"color: #000000; text-decoration-color: #000000\">that investor confidence, a key driver of the economy, was deeply shaken by the pandemic and may not fully recover </span>\n",
       "<span style=\"color: #000000; text-decoration-color: #000000\">even after the pandemic ends. It's important to consider these opposing ideas as well.</span>\n",
       "<span style=\"color: #000000; text-decoration-color: #000000; font-weight: bold\">(</span><span style=\"color: #000000; text-decoration-color: #000000\">Darius</span><span style=\"color: #000000; text-decoration-color: #000000; font-weight: bold\">)</span><span style=\"color: #000000; text-decoration-color: #000000\"> While the economic impact of the pandemic is a valid concern, the potential long-term consequences of </span>\n",
       "<span style=\"color: #000000; text-decoration-color: #000000\">failing to achieve widespread vaccination, such as continued strain on healthcare systems and the potential for </span>\n",
       "<span style=\"color: #000000; text-decoration-color: #000000\">recurring waves of infection, could have even more detrimental effects on the economy and overall well-being.,</span>\n",
       "<span style=\"color: #000000; text-decoration-color: #000000\">            &lt;Eval of </span><span style=\"color: #008080; text-decoration-color: #008080; font-weight: bold\">1</span><span style=\"color: #000000; text-decoration-color: #000000\"> dialogue: </span><span style=\"color: #000000; text-decoration-color: #000000; font-weight: bold\">{</span><span style=\"color: #008000; text-decoration-color: #008000\">'engaged'</span><span style=\"color: #000000; text-decoration-color: #000000\">: </span><span style=\"color: #008080; text-decoration-color: #008080; font-weight: bold\">4.0</span><span style=\"color: #000000; text-decoration-color: #000000\">, </span><span style=\"color: #008000; text-decoration-color: #008000\">'informed'</span><span style=\"color: #000000; text-decoration-color: #000000\">: </span><span style=\"color: #008080; text-decoration-color: #008080; font-weight: bold\">3.0</span><span style=\"color: #000000; text-decoration-color: #000000\">, </span><span style=\"color: #008000; text-decoration-color: #008000\">'intelligent'</span><span style=\"color: #000000; text-decoration-color: #000000\">: </span><span style=\"color: #008080; text-decoration-color: #008080; font-weight: bold\">3.0</span><span style=\"color: #000000; text-decoration-color: #000000\">, </span><span style=\"color: #008000; text-decoration-color: #008000\">'moral'</span><span style=\"color: #000000; text-decoration-color: #000000\">: </span><span style=\"color: #008080; text-decoration-color: #008080; font-weight: bold\">3.0</span><span style=\"color: #000000; text-decoration-color: #000000\">, </span><span style=\"color: #008000; text-decoration-color: #008000\">'skilled'</span><span style=\"color: #000000; text-decoration-color: #000000\">: </span>\n",
       "<span style=\"color: #008080; text-decoration-color: #008080; font-weight: bold\">8.0</span><span style=\"color: #000000; text-decoration-color: #000000\">, </span><span style=\"color: #008000; text-decoration-color: #008000\">'TOTAL'</span><span style=\"color: #000000; text-decoration-color: #000000\">: </span><span style=\"color: #008080; text-decoration-color: #008080; font-weight: bold\">21.0</span><span style=\"color: #000000; text-decoration-color: #000000; font-weight: bold\">}</span><span style=\"color: #000000; text-decoration-color: #000000\">&gt;</span>\n",
       "\n",
       "<span style=\"color: #000000; text-decoration-color: #000000\">Comments from overview question:</span>\n",
       "<span style=\"color: #000000; text-decoration-color: #000000; font-weight: bold\">(</span><span style=\"color: #000000; text-decoration-color: #000000\">Darius</span><span style=\"color: #000000; text-decoration-color: #000000; font-weight: bold\">)</span><span style=\"color: #000000; text-decoration-color: #000000\"> Awsom disagreed with me about compromising civil liberties for the sake of vaccine mandates. </span>\n",
       "\n",
       "<span style=\"color: #000000; text-decoration-color: #000000\">In my opinion, the conversation went well as both parties presented their viewpoints and engaged in a respectful </span>\n",
       "<span style=\"color: #000000; text-decoration-color: #000000\">discussion.</span>\n",
       "\n",
       "<span style=\"color: #000000; text-decoration-color: #000000\">Awsom could have done better by providing more specific evidence or examples to support their opposing viewpoints. </span>\n",
       "<span style=\"color: #000000; text-decoration-color: #000000\">This would have strengthened their arguments and made the conversation more balanced.</span>\n",
       "\n",
       "<span style=\"color: #000000; text-decoration-color: #000000\">Comments from mindopening question:</span>\n",
       "<span style=\"color: #000000; text-decoration-color: #000000; font-weight: bold\">(</span><span style=\"color: #000000; text-decoration-color: #000000\">Judge Wise</span><span style=\"color: #000000; text-decoration-color: #000000; font-weight: bold\">)</span><span style=\"color: #000000; text-decoration-color: #000000\"> Awsom offered the following new perspectives to Darius:</span>\n",
       "\n",
       "<span style=\"color: #008080; text-decoration-color: #008080; font-weight: bold\">1</span><span style=\"color: #000000; text-decoration-color: #000000\">. The argument that compromising civil liberties can lead to disastrous outcomes and that efficacy should not come</span>\n",
       "<span style=\"color: #000000; text-decoration-color: #000000\">at the cost of civil liberties.</span>\n",
       "<span style=\"color: #008080; text-decoration-color: #008080; font-weight: bold\">2</span><span style=\"color: #000000; text-decoration-color: #000000\">. The viewpoint that strong public health measures were able to control the spread of SARS without requiring </span>\n",
       "<span style=\"color: #000000; text-decoration-color: #000000\">vaccination.</span>\n",
       "<span style=\"color: #008080; text-decoration-color: #008080; font-weight: bold\">3</span><span style=\"color: #000000; text-decoration-color: #000000\">. The consideration of the negative economic consequences of COVID-</span><span style=\"color: #008080; text-decoration-color: #008080; font-weight: bold\">19</span><span style=\"color: #000000; text-decoration-color: #000000\"> and the potential benefits of mandatory </span>\n",
       "<span style=\"color: #000000; text-decoration-color: #000000\">vaccination in curbing the economic downturn.</span>\n",
       "\n",
       "<span style=\"color: #000000; text-decoration-color: #000000\">It can be considered successful as Awsom was able to introduce these opposing viewpoints and encourage Darius to </span>\n",
       "<span style=\"color: #000000; text-decoration-color: #000000\">consider them.</span>\n",
       "<span style=\"color: #000000; text-decoration-color: #000000\">        </span><span style=\"color: #000000; text-decoration-color: #000000; font-weight: bold\">)</span><span style=\"color: #000000; text-decoration-color: #000000\">,</span>\n",
       "<span style=\"color: #000000; text-decoration-color: #000000\">        </span><span style=\"color: #000000; text-decoration-color: #000000; font-weight: bold\">(</span>\n",
       "<span style=\"color: #000000; text-decoration-color: #000000\">            </span><span style=\"color: #000000; text-decoration-color: #000000; font-weight: bold\">(</span><span style=\"color: #000000; text-decoration-color: #000000\">Awsom</span><span style=\"color: #000000; text-decoration-color: #000000; font-weight: bold\">)</span><span style=\"color: #000000; text-decoration-color: #000000\"> Do you think COVID vaccines should be mandatory?</span>\n",
       "<span style=\"color: #000000; text-decoration-color: #000000; font-weight: bold\">(</span><span style=\"color: #000000; text-decoration-color: #000000\">Eve</span><span style=\"color: #000000; text-decoration-color: #000000; font-weight: bold\">)</span><span style=\"color: #000000; text-decoration-color: #000000\"> I've heard from a friend that they believe vaccines should be mandatory to protect public health, what are </span>\n",
       "<span style=\"color: #000000; text-decoration-color: #000000\">your thoughts?</span>\n",
       "<span style=\"color: #000000; text-decoration-color: #000000; font-weight: bold\">(</span><span style=\"color: #000000; text-decoration-color: #000000\">Awsom</span><span style=\"color: #000000; text-decoration-color: #000000; font-weight: bold\">)</span><span style=\"color: #000000; text-decoration-color: #000000\"> I believe that the issue of mandatory COVID vaccines is a complex one, and there are valid arguments on </span>\n",
       "<span style=\"color: #000000; text-decoration-color: #000000\">both sides. Some people argue that making vaccines mandatory is necessary to protect public health, while others </span>\n",
       "<span style=\"color: #000000; text-decoration-color: #000000\">believe that it infringes on individual freedoms. It's important to consider different perspectives and understand </span>\n",
       "<span style=\"color: #000000; text-decoration-color: #000000\">the reasoning behind them. For example, some argue that measuring the heat outputs of burning materials is not a </span>\n",
       "<span style=\"color: #000000; text-decoration-color: #000000\">good analog for how our body processes those materials, and that the Krebs cycle is a complex process that involves</span>\n",
       "<span style=\"color: #000000; text-decoration-color: #000000\">breaking and recreating chemical bonds with catalyst enzymes. This is just one of the many arguments that people </span>\n",
       "<span style=\"color: #000000; text-decoration-color: #000000\">opposing mandatory vaccines may have. What are your thoughts on this?</span>\n",
       "<span style=\"color: #000000; text-decoration-color: #000000; font-weight: bold\">(</span><span style=\"color: #000000; text-decoration-color: #000000\">Eve</span><span style=\"color: #000000; text-decoration-color: #000000; font-weight: bold\">)</span><span style=\"color: #000000; text-decoration-color: #000000\"> That's an interesting perspective, and I can see how the complexity of the human body and its processes could</span>\n",
       "<span style=\"color: #000000; text-decoration-color: #000000\">be a factor in the debate. Have you had any personal experiences that have influenced your opinion on this?</span>\n",
       "<span style=\"color: #000000; text-decoration-color: #000000; font-weight: bold\">(</span><span style=\"color: #000000; text-decoration-color: #000000\">Awsom</span><span style=\"color: #000000; text-decoration-color: #000000; font-weight: bold\">)</span><span style=\"color: #000000; text-decoration-color: #000000\"> I haven't had any personal experiences that have directly influenced my opinion on mandatory COVID </span>\n",
       "<span style=\"color: #000000; text-decoration-color: #000000\">vaccines, but I can see how the complexity of the human body and its processes could be a factor in the debate. </span>\n",
       "<span style=\"color: #000000; text-decoration-color: #000000\">It's important to consider different perspectives and understand the reasoning behind them. For example, some argue</span>\n",
       "<span style=\"color: #000000; text-decoration-color: #000000\">that measuring the heat outputs of burning materials is not a good analog for how our body processes those </span>\n",
       "<span style=\"color: #000000; text-decoration-color: #000000\">materials, and that the Krebs cycle is a complex process that involves breaking and recreating chemical bonds with </span>\n",
       "<span style=\"color: #000000; text-decoration-color: #000000\">catalyst enzymes. This is just one of the many arguments that people opposing mandatory vaccines may have. What are</span>\n",
       "<span style=\"color: #000000; text-decoration-color: #000000\">your thoughts on this?</span>\n",
       "<span style=\"color: #000000; text-decoration-color: #000000; font-weight: bold\">(</span><span style=\"color: #000000; text-decoration-color: #000000\">Eve</span><span style=\"color: #000000; text-decoration-color: #000000; font-weight: bold\">)</span><span style=\"color: #000000; text-decoration-color: #000000\"> I understand the points you're making, and it's certainly a complex issue with many factors to consider. Have</span>\n",
       "<span style=\"color: #000000; text-decoration-color: #000000\">you had conversations with people who have different perspectives on this?</span>\n",
       "<span style=\"color: #000000; text-decoration-color: #000000; font-weight: bold\">(</span><span style=\"color: #000000; text-decoration-color: #000000\">Awsom</span><span style=\"color: #000000; text-decoration-color: #000000; font-weight: bold\">)</span><span style=\"color: #000000; text-decoration-color: #000000\"> I haven't had personal experiences that have directly influenced my opinion on mandatory COVID vaccines, </span>\n",
       "<span style=\"color: #000000; text-decoration-color: #000000\">but I have had conversations with people who have different perspectives on the issue. It's important to consider </span>\n",
       "<span style=\"color: #000000; text-decoration-color: #000000\">all viewpoints and understand the reasoning behind them. For example, some argue that measuring the heat outputs of</span>\n",
       "<span style=\"color: #000000; text-decoration-color: #000000\">burning materials is not a good analog for how our body processes those materials, and that the Krebs cycle is a </span>\n",
       "<span style=\"color: #000000; text-decoration-color: #000000\">complex process that involves breaking and recreating chemical bonds with catalyst enzymes. This is just one of the</span>\n",
       "<span style=\"color: #000000; text-decoration-color: #000000\">many arguments that people opposing mandatory vaccines may have. What are your thoughts on this?</span>\n",
       "<span style=\"color: #000000; text-decoration-color: #000000; font-weight: bold\">(</span><span style=\"color: #000000; text-decoration-color: #000000\">Eve</span><span style=\"color: #000000; text-decoration-color: #000000; font-weight: bold\">)</span><span style=\"color: #000000; text-decoration-color: #000000\"> I appreciate your openness to considering different viewpoints, and it's great that you've had conversations </span>\n",
       "<span style=\"color: #000000; text-decoration-color: #000000\">with others to understand their perspectives. It's important to have these discussions to gain a deeper </span>\n",
       "<span style=\"color: #000000; text-decoration-color: #000000\">understanding of the issue.,</span>\n",
       "<span style=\"color: #000000; text-decoration-color: #000000\">            &lt;Eval of </span><span style=\"color: #008080; text-decoration-color: #008080; font-weight: bold\">1</span><span style=\"color: #000000; text-decoration-color: #000000\"> dialogue: </span><span style=\"color: #000000; text-decoration-color: #000000; font-weight: bold\">{</span><span style=\"color: #008000; text-decoration-color: #008000\">'engaged'</span><span style=\"color: #000000; text-decoration-color: #000000\">: </span><span style=\"color: #008080; text-decoration-color: #008080; font-weight: bold\">3.0</span><span style=\"color: #000000; text-decoration-color: #000000\">, </span><span style=\"color: #008000; text-decoration-color: #008000\">'informed'</span><span style=\"color: #000000; text-decoration-color: #000000\">: </span><span style=\"color: #008080; text-decoration-color: #008080; font-weight: bold\">3.0</span><span style=\"color: #000000; text-decoration-color: #000000\">, </span><span style=\"color: #008000; text-decoration-color: #008000\">'intelligent'</span><span style=\"color: #000000; text-decoration-color: #000000\">: </span><span style=\"color: #008080; text-decoration-color: #008080; font-weight: bold\">3.0</span><span style=\"color: #000000; text-decoration-color: #000000\">, </span><span style=\"color: #008000; text-decoration-color: #008000\">'moral'</span><span style=\"color: #000000; text-decoration-color: #000000\">: </span><span style=\"color: #008080; text-decoration-color: #008080; font-weight: bold\">3.0</span><span style=\"color: #000000; text-decoration-color: #000000\">, </span><span style=\"color: #008000; text-decoration-color: #008000\">'skilled'</span><span style=\"color: #000000; text-decoration-color: #000000\">: </span>\n",
       "<span style=\"color: #008080; text-decoration-color: #008080; font-weight: bold\">7.0</span><span style=\"color: #000000; text-decoration-color: #000000\">, </span><span style=\"color: #008000; text-decoration-color: #008000\">'TOTAL'</span><span style=\"color: #000000; text-decoration-color: #000000\">: </span><span style=\"color: #008080; text-decoration-color: #008080; font-weight: bold\">19.0</span><span style=\"color: #000000; text-decoration-color: #000000; font-weight: bold\">}</span><span style=\"color: #000000; text-decoration-color: #000000\">&gt;</span>\n",
       "\n",
       "<span style=\"color: #000000; text-decoration-color: #000000\">Comments from overview question:</span>\n",
       "<span style=\"color: #000000; text-decoration-color: #000000; font-weight: bold\">(</span><span style=\"color: #000000; text-decoration-color: #000000\">Eve</span><span style=\"color: #000000; text-decoration-color: #000000; font-weight: bold\">)</span><span style=\"color: #000000; text-decoration-color: #000000\"> Awsom disagreed with me about whether COVID vaccines should be mandatory. </span>\n",
       "\n",
       "<span style=\"color: #000000; text-decoration-color: #000000\">In my opinion, the conversation went in circles and lacked depth. It seemed like Awsom was repeating the same </span>\n",
       "<span style=\"color: #000000; text-decoration-color: #000000\">argument without providing any new insights or addressing the specific points raised. </span>\n",
       "\n",
       "<span style=\"color: #000000; text-decoration-color: #000000\">Awsom could have done better by offering more personal experiences or examples to support their viewpoint, rather </span>\n",
       "<span style=\"color: #000000; text-decoration-color: #000000\">than relying on a single argument about the complexity of the human body. Additionally, they could have </span>\n",
       "<span style=\"color: #000000; text-decoration-color: #000000\">acknowledged and responded directly to the points I made, rather than repeating their initial argument.</span>\n",
       "\n",
       "<span style=\"color: #000000; text-decoration-color: #000000\">Comments from mindopening question:</span>\n",
       "<span style=\"color: #000000; text-decoration-color: #000000; font-weight: bold\">(</span><span style=\"color: #000000; text-decoration-color: #000000\">Judge Wise</span><span style=\"color: #000000; text-decoration-color: #000000; font-weight: bold\">)</span><span style=\"color: #000000; text-decoration-color: #000000\"> Awsom offered the perspective that some people argue that measuring the heat outputs of burning </span>\n",
       "<span style=\"color: #000000; text-decoration-color: #000000\">materials is not a good analog for how our body processes those materials, and that the Krebs cycle is a complex </span>\n",
       "<span style=\"color: #000000; text-decoration-color: #000000\">process that involves breaking and recreating chemical bonds with catalyst enzymes. This was an attempt to </span>\n",
       "<span style=\"color: #000000; text-decoration-color: #000000\">introduce a scientific perspective into the debate on mandatory COVID vaccines.</span>\n",
       "\n",
       "<span style=\"color: #000000; text-decoration-color: #000000\">It is unclear from the conversation whether this attempt was successful in helping Eve appreciate other points of </span>\n",
       "<span style=\"color: #000000; text-decoration-color: #000000\">view. While Eve acknowledged the interesting perspective and complexity of the issue, there is no explicit </span>\n",
       "<span style=\"color: #000000; text-decoration-color: #000000\">indication of whether Eve's opinion or understanding was changed as a result of Awsom's input.</span>\n",
       "<span style=\"color: #000000; text-decoration-color: #000000\">        </span><span style=\"color: #000000; text-decoration-color: #000000; font-weight: bold\">)</span><span style=\"color: #000000; text-decoration-color: #000000\">,</span>\n",
       "<span style=\"color: #000000; text-decoration-color: #000000\">        </span><span style=\"color: #000000; text-decoration-color: #000000; font-weight: bold\">(</span>\n",
       "<span style=\"color: #000000; text-decoration-color: #000000\">            </span><span style=\"color: #000000; text-decoration-color: #000000; font-weight: bold\">(</span><span style=\"color: #000000; text-decoration-color: #000000\">Awsom</span><span style=\"color: #000000; text-decoration-color: #000000; font-weight: bold\">)</span><span style=\"color: #000000; text-decoration-color: #000000\"> Do you think COVID vaccines should be mandatory?</span>\n",
       "<span style=\"color: #000000; text-decoration-color: #000000; font-weight: bold\">(</span><span style=\"color: #000000; text-decoration-color: #000000\">Eve</span><span style=\"color: #000000; text-decoration-color: #000000; font-weight: bold\">)</span><span style=\"color: #000000; text-decoration-color: #000000\"> I've heard from a neighbor that they believe COVID vaccines should be mandatory to protect public health.</span>\n",
       "<span style=\"color: #000000; text-decoration-color: #000000; font-weight: bold\">(</span><span style=\"color: #000000; text-decoration-color: #000000\">Awsom</span><span style=\"color: #000000; text-decoration-color: #000000; font-weight: bold\">)</span><span style=\"color: #000000; text-decoration-color: #000000\"> It's interesting to hear your neighbor's perspective on mandatory COVID vaccines. It's definitely a topic </span>\n",
       "<span style=\"color: #000000; text-decoration-color: #000000\">that sparks a lot of debate. Some people argue that mandating vaccines infringes on personal freedom and choice, </span>\n",
       "<span style=\"color: #000000; text-decoration-color: #000000\">and that it's important to consider individual rights in addition to public health. They also point out that there </span>\n",
       "<span style=\"color: #000000; text-decoration-color: #000000\">can be valid concerns about the safety and efficacy of vaccines, and that these concerns should be taken into </span>\n",
       "<span style=\"color: #000000; text-decoration-color: #000000\">account when discussing mandates.</span>\n",
       "<span style=\"color: #000000; text-decoration-color: #000000; font-weight: bold\">(</span><span style=\"color: #000000; text-decoration-color: #000000\">Eve</span><span style=\"color: #000000; text-decoration-color: #000000; font-weight: bold\">)</span><span style=\"color: #000000; text-decoration-color: #000000\"> What do you think about the safety and efficacy of COVID vaccines? Do you know anyone who has had concerns </span>\n",
       "<span style=\"color: #000000; text-decoration-color: #000000\">about getting vaccinated?</span>\n",
       "<span style=\"color: #000000; text-decoration-color: #000000; font-weight: bold\">(</span><span style=\"color: #000000; text-decoration-color: #000000\">Awsom</span><span style=\"color: #000000; text-decoration-color: #000000; font-weight: bold\">)</span><span style=\"color: #000000; text-decoration-color: #000000\"> I believe that the safety and efficacy of COVID vaccines are crucial considerations when discussing </span>\n",
       "<span style=\"color: #000000; text-decoration-color: #000000\">mandates. It's important to address any concerns people may have about getting vaccinated, as well as to ensure </span>\n",
       "<span style=\"color: #000000; text-decoration-color: #000000\">that the vaccines are proven to be safe and effective. In response to your question, I do know some people who have</span>\n",
       "<span style=\"color: #000000; text-decoration-color: #000000\">had concerns about getting vaccinated. Some argue that mandating vaccines infringes on personal freedom and choice,</span>\n",
       "<span style=\"color: #000000; text-decoration-color: #000000\">and that it's important to consider individual rights in addition to public health. They also point out that there </span>\n",
       "<span style=\"color: #000000; text-decoration-color: #000000\">can be valid concerns about the safety and efficacy of vaccines, and that these concerns should be taken into </span>\n",
       "<span style=\"color: #000000; text-decoration-color: #000000\">account when discussing mandates. It's definitely a complex issue with valid points on both sides.</span>\n",
       "<span style=\"color: #000000; text-decoration-color: #000000; font-weight: bold\">(</span><span style=\"color: #000000; text-decoration-color: #000000\">Eve</span><span style=\"color: #000000; text-decoration-color: #000000; font-weight: bold\">)</span><span style=\"color: #000000; text-decoration-color: #000000\"> Have you had any personal experiences or conversations that have influenced your thoughts on vaccine </span>\n",
       "<span style=\"color: #000000; text-decoration-color: #000000\">mandates?</span>\n",
       "<span style=\"color: #000000; text-decoration-color: #000000; font-weight: bold\">(</span><span style=\"color: #000000; text-decoration-color: #000000\">Awsom</span><span style=\"color: #000000; text-decoration-color: #000000; font-weight: bold\">)</span><span style=\"color: #000000; text-decoration-color: #000000\"> I haven't had any personal experiences that have directly influenced my thoughts on vaccine mandates, but I</span>\n",
       "<span style=\"color: #000000; text-decoration-color: #000000\">have definitely heard a variety of perspectives on the topic. In response to your question, I think it's important </span>\n",
       "<span style=\"color: #000000; text-decoration-color: #000000\">to consider all viewpoints when discussing vaccine mandates. For example, some people argue that mandating vaccines</span>\n",
       "<span style=\"color: #000000; text-decoration-color: #000000\">infringes on personal freedom and choice, and that it's important to consider individual rights in addition to </span>\n",
       "<span style=\"color: #000000; text-decoration-color: #000000\">public health. They also point out that there can be valid concerns about the safety and efficacy of vaccines, and </span>\n",
       "<span style=\"color: #000000; text-decoration-color: #000000\">that these concerns should be taken into account when discussing mandates. It's definitely a complex issue with </span>\n",
       "<span style=\"color: #000000; text-decoration-color: #000000\">valid points on both sides.</span>\n",
       "<span style=\"color: #000000; text-decoration-color: #000000; font-weight: bold\">(</span><span style=\"color: #000000; text-decoration-color: #000000\">Eve</span><span style=\"color: #000000; text-decoration-color: #000000; font-weight: bold\">)</span><span style=\"color: #000000; text-decoration-color: #000000\"> How do you approach conversations with people who have different viewpoints on vaccine mandates?,</span>\n",
       "<span style=\"color: #000000; text-decoration-color: #000000\">            &lt;Eval of </span><span style=\"color: #008080; text-decoration-color: #008080; font-weight: bold\">1</span><span style=\"color: #000000; text-decoration-color: #000000\"> dialogue: </span><span style=\"color: #000000; text-decoration-color: #000000; font-weight: bold\">{</span><span style=\"color: #008000; text-decoration-color: #008000\">'engaged'</span><span style=\"color: #000000; text-decoration-color: #000000\">: </span><span style=\"color: #008080; text-decoration-color: #008080; font-weight: bold\">4.0</span><span style=\"color: #000000; text-decoration-color: #000000\">, </span><span style=\"color: #008000; text-decoration-color: #008000\">'informed'</span><span style=\"color: #000000; text-decoration-color: #000000\">: </span><span style=\"color: #008080; text-decoration-color: #008080; font-weight: bold\">4.0</span><span style=\"color: #000000; text-decoration-color: #000000\">, </span><span style=\"color: #008000; text-decoration-color: #008000\">'intelligent'</span><span style=\"color: #000000; text-decoration-color: #000000\">: </span><span style=\"color: #008080; text-decoration-color: #008080; font-weight: bold\">3.0</span><span style=\"color: #000000; text-decoration-color: #000000\">, </span><span style=\"color: #008000; text-decoration-color: #008000\">'moral'</span><span style=\"color: #000000; text-decoration-color: #000000\">: </span><span style=\"color: #008080; text-decoration-color: #008080; font-weight: bold\">3.0</span><span style=\"color: #000000; text-decoration-color: #000000\">, </span><span style=\"color: #008000; text-decoration-color: #008000\">'skilled'</span><span style=\"color: #000000; text-decoration-color: #000000\">: </span>\n",
       "<span style=\"color: #008080; text-decoration-color: #008080; font-weight: bold\">7.0</span><span style=\"color: #000000; text-decoration-color: #000000\">, </span><span style=\"color: #008000; text-decoration-color: #008000\">'TOTAL'</span><span style=\"color: #000000; text-decoration-color: #000000\">: </span><span style=\"color: #008080; text-decoration-color: #008080; font-weight: bold\">21.0</span><span style=\"color: #000000; text-decoration-color: #000000; font-weight: bold\">}</span><span style=\"color: #000000; text-decoration-color: #000000\">&gt;</span>\n",
       "\n",
       "<span style=\"color: #000000; text-decoration-color: #000000\">Comments from overview question:</span>\n",
       "<span style=\"color: #000000; text-decoration-color: #000000; font-weight: bold\">(</span><span style=\"color: #000000; text-decoration-color: #000000\">Eve</span><span style=\"color: #000000; text-decoration-color: #000000; font-weight: bold\">)</span><span style=\"color: #000000; text-decoration-color: #000000\"> Awsom disagreed with me about whether COVID vaccines should be mandatory. </span>\n",
       "\n",
       "<span style=\"color: #000000; text-decoration-color: #000000\">In my opinion, the conversation went well as we both shared our perspectives and listened to each other's </span>\n",
       "<span style=\"color: #000000; text-decoration-color: #000000\">viewpoints. We discussed the importance of considering individual rights and concerns about the safety and efficacy</span>\n",
       "<span style=\"color: #000000; text-decoration-color: #000000\">of vaccines when discussing mandates.</span>\n",
       "\n",
       "<span style=\"color: #000000; text-decoration-color: #000000\">However, Awsom could have done better by providing more specific examples or personal experiences to support their </span>\n",
       "<span style=\"color: #000000; text-decoration-color: #000000\">arguments. This would have added depth to the conversation and made it more engaging. Additionally, it would have </span>\n",
       "<span style=\"color: #000000; text-decoration-color: #000000\">been helpful if Awsom had acknowledged any potential counterarguments or addressed the concerns raised by my </span>\n",
       "<span style=\"color: #000000; text-decoration-color: #000000\">neighbor about the need for mandatory vaccines to protect public health.</span>\n",
       "\n",
       "<span style=\"color: #000000; text-decoration-color: #000000\">Comments from mindopening question:</span>\n",
       "<span style=\"color: #000000; text-decoration-color: #000000; font-weight: bold\">(</span><span style=\"color: #000000; text-decoration-color: #000000\">Judge Wise</span><span style=\"color: #000000; text-decoration-color: #000000; font-weight: bold\">)</span><span style=\"color: #000000; text-decoration-color: #000000\"> Awsom offered the perspectives that mandating vaccines can infringe on personal freedom and choice, </span>\n",
       "<span style=\"color: #000000; text-decoration-color: #000000\">and that concerns about the safety and efficacy of vaccines should be taken into account when discussing mandates. </span>\n",
       "<span style=\"color: #000000; text-decoration-color: #000000\">This was an attempt to broaden Eve's understanding of the different viewpoints on vaccine mandates.</span>\n",
       "\n",
       "<span style=\"color: #000000; text-decoration-color: #000000\">It is difficult to determine the success of Awsom's attempt without further context or information about Eve's </span>\n",
       "<span style=\"color: #000000; text-decoration-color: #000000\">response. However, by presenting these perspectives, Awsom provided Eve with additional considerations and </span>\n",
       "<span style=\"color: #000000; text-decoration-color: #000000\">encouraged her to think critically about the topic.</span>\n",
       "<span style=\"color: #000000; text-decoration-color: #000000\">        </span><span style=\"color: #000000; text-decoration-color: #000000; font-weight: bold\">)</span><span style=\"color: #000000; text-decoration-color: #000000\">,</span>\n",
       "<span style=\"color: #000000; text-decoration-color: #000000\">        </span><span style=\"color: #000000; text-decoration-color: #000000; font-weight: bold\">(</span>\n",
       "<span style=\"color: #000000; text-decoration-color: #000000\">            </span><span style=\"color: #000000; text-decoration-color: #000000; font-weight: bold\">(</span><span style=\"color: #000000; text-decoration-color: #000000\">Awsom</span><span style=\"color: #000000; text-decoration-color: #000000; font-weight: bold\">)</span><span style=\"color: #000000; text-decoration-color: #000000\"> Do you think Joe Biden has been a good president?</span>\n",
       "<span style=\"color: #000000; text-decoration-color: #000000; font-weight: bold\">(</span><span style=\"color: #000000; text-decoration-color: #000000\">TrollFace</span><span style=\"color: #000000; text-decoration-color: #000000; font-weight: bold\">)</span><span style=\"color: #000000; text-decoration-color: #000000\"> Oh, I'm sure he's doing a great job by making everyone laugh with his bloopers and blunders.</span>\n",
       "<span style=\"color: #000000; text-decoration-color: #000000; font-weight: bold\">(</span><span style=\"color: #000000; text-decoration-color: #000000\">Awsom</span><span style=\"color: #000000; text-decoration-color: #000000; font-weight: bold\">)</span><span style=\"color: #000000; text-decoration-color: #000000\"> It's interesting that you mention Joe Biden's bloopers and blunders. Some people believe that he has </span>\n",
       "<span style=\"color: #000000; text-decoration-color: #000000\">brought respect and professionalism back into American political life. However, others argue that he has been </span>\n",
       "<span style=\"color: #000000; text-decoration-color: #000000\">unable to reunite the United States after a highly divisive election. It's important to consider different </span>\n",
       "<span style=\"color: #000000; text-decoration-color: #000000\">perspectives on his presidency.</span>\n",
       "<span style=\"color: #000000; text-decoration-color: #000000; font-weight: bold\">(</span><span style=\"color: #000000; text-decoration-color: #000000\">TrollFace</span><span style=\"color: #000000; text-decoration-color: #000000; font-weight: bold\">)</span><span style=\"color: #000000; text-decoration-color: #000000\"> Oh, it's so heartwarming to see how he's united the country in laughter with his gaffes and goofs, </span>\n",
       "<span style=\"color: #000000; text-decoration-color: #000000\">while also managing to keep everyone fiercely divided on serious issues.</span>\n",
       "<span style=\"color: #000000; text-decoration-color: #000000; font-weight: bold\">(</span><span style=\"color: #000000; text-decoration-color: #000000\">Awsom</span><span style=\"color: #000000; text-decoration-color: #000000; font-weight: bold\">)</span><span style=\"color: #000000; text-decoration-color: #000000\"> It's interesting to hear your perspective on Joe Biden's presidency. While his bloopers and blunders may </span>\n",
       "<span style=\"color: #000000; text-decoration-color: #000000\">bring laughter to some, it's important to consider the impact of his policies and actions as well. For example, </span>\n",
       "<span style=\"color: #000000; text-decoration-color: #000000\">some argue that the economy has done well under Biden's presidency due to initiatives like the expansion of the </span>\n",
       "<span style=\"color: #000000; text-decoration-color: #000000\">child tax credit, which is expected to reduce child poverty in the US. However, others believe that Biden is not </span>\n",
       "<span style=\"color: #000000; text-decoration-color: #000000\">solely responsible for the direction taken by the economy. It's important to consider different viewpoints on his </span>\n",
       "<span style=\"color: #000000; text-decoration-color: #000000\">presidency and its impact.</span>\n",
       "<span style=\"color: #000000; text-decoration-color: #000000; font-weight: bold\">(</span><span style=\"color: #000000; text-decoration-color: #000000\">TrollFace</span><span style=\"color: #000000; text-decoration-color: #000000; font-weight: bold\">)</span><span style=\"color: #000000; text-decoration-color: #000000\"> Oh, it's absolutely delightful to witness the economic wizardry at play, where people give all the </span>\n",
       "<span style=\"color: #000000; text-decoration-color: #000000\">credit to Biden for the good stuff and then shrug and say </span><span style=\"color: #008000; text-decoration-color: #008000\">\"well, it's not all his doing\"</span><span style=\"color: #000000; text-decoration-color: #000000\"> for anything less than </span>\n",
       "<span style=\"color: #000000; text-decoration-color: #000000\">stellar.</span>\n",
       "<span style=\"color: #000000; text-decoration-color: #000000; font-weight: bold\">(</span><span style=\"color: #000000; text-decoration-color: #000000\">Awsom</span><span style=\"color: #000000; text-decoration-color: #000000; font-weight: bold\">)</span><span style=\"color: #000000; text-decoration-color: #000000\"> It's interesting to hear your perspective on the economic impact of Biden's presidency. While it's </span>\n",
       "<span style=\"color: #000000; text-decoration-color: #000000\">important to consider the impact of his policies, it's also crucial to acknowledge the different viewpoints on his </span>\n",
       "<span style=\"color: #000000; text-decoration-color: #000000\">presidency and its effects. For example, some argue that Trump's approach to the media and freedom of speech was </span>\n",
       "<span style=\"color: #000000; text-decoration-color: #000000\">concerning, as he often criticized and labeled the press as </span><span style=\"color: #008000; text-decoration-color: #008000\">\"the enemy of the people.\"</span><span style=\"color: #000000; text-decoration-color: #000000\"> This behavior raised </span>\n",
       "<span style=\"color: #000000; text-decoration-color: #000000\">concerns about his respect for the freedom of the press and the potential implications for democracy. However, </span>\n",
       "<span style=\"color: #000000; text-decoration-color: #000000\">others argue that Trump's criticism of the media was within his rights of freedom of speech and that he had no </span>\n",
       "<span style=\"color: #000000; text-decoration-color: #000000\">intention of censoring news outlets. It's important to consider these differing perspectives when evaluating the </span>\n",
       "<span style=\"color: #000000; text-decoration-color: #000000\">impact of political leaders.</span>\n",
       "<span style=\"color: #000000; text-decoration-color: #000000; font-weight: bold\">(</span><span style=\"color: #000000; text-decoration-color: #000000\">TrollFace</span><span style=\"color: #000000; text-decoration-color: #000000; font-weight: bold\">)</span><span style=\"color: #000000; text-decoration-color: #000000\"> Ah, the beauty of free speech, where one can both criticize and praise the media while simultaneously </span>\n",
       "<span style=\"color: #000000; text-decoration-color: #000000\">sparking debates about democracy and the boundaries of presidential behavior—what a deliciously controversial topic</span>\n",
       "<span style=\"color: #000000; text-decoration-color: #000000\">to sink our teeth into!,</span>\n",
       "<span style=\"color: #000000; text-decoration-color: #000000\">            &lt;Eval of </span><span style=\"color: #008080; text-decoration-color: #008080; font-weight: bold\">1</span><span style=\"color: #000000; text-decoration-color: #000000\"> dialogue: </span><span style=\"color: #000000; text-decoration-color: #000000; font-weight: bold\">{</span><span style=\"color: #008000; text-decoration-color: #008000\">'engaged'</span><span style=\"color: #000000; text-decoration-color: #000000\">: </span><span style=\"color: #008080; text-decoration-color: #008080; font-weight: bold\">3.0</span><span style=\"color: #000000; text-decoration-color: #000000\">, </span><span style=\"color: #008000; text-decoration-color: #008000\">'informed'</span><span style=\"color: #000000; text-decoration-color: #000000\">: </span><span style=\"color: #008080; text-decoration-color: #008080; font-weight: bold\">3.0</span><span style=\"color: #000000; text-decoration-color: #000000\">, </span><span style=\"color: #008000; text-decoration-color: #008000\">'intelligent'</span><span style=\"color: #000000; text-decoration-color: #000000\">: </span><span style=\"color: #008080; text-decoration-color: #008080; font-weight: bold\">3.0</span><span style=\"color: #000000; text-decoration-color: #000000\">, </span><span style=\"color: #008000; text-decoration-color: #008000\">'moral'</span><span style=\"color: #000000; text-decoration-color: #000000\">: </span><span style=\"color: #008080; text-decoration-color: #008080; font-weight: bold\">3.0</span><span style=\"color: #000000; text-decoration-color: #000000\">, </span><span style=\"color: #008000; text-decoration-color: #008000\">'skilled'</span><span style=\"color: #000000; text-decoration-color: #000000\">: </span>\n",
       "<span style=\"color: #008080; text-decoration-color: #008080; font-weight: bold\">7.0</span><span style=\"color: #000000; text-decoration-color: #000000\">, </span><span style=\"color: #008000; text-decoration-color: #008000\">'TOTAL'</span><span style=\"color: #000000; text-decoration-color: #000000\">: </span><span style=\"color: #008080; text-decoration-color: #008080; font-weight: bold\">19.0</span><span style=\"color: #000000; text-decoration-color: #000000; font-weight: bold\">}</span><span style=\"color: #000000; text-decoration-color: #000000\">&gt;</span>\n",
       "\n",
       "<span style=\"color: #000000; text-decoration-color: #000000\">Comments from overview question:</span>\n",
       "<span style=\"color: #000000; text-decoration-color: #000000; font-weight: bold\">(</span><span style=\"color: #000000; text-decoration-color: #000000\">TrollFace</span><span style=\"color: #000000; text-decoration-color: #000000; font-weight: bold\">)</span><span style=\"color: #000000; text-decoration-color: #000000\"> Awsom disagreed with me about the impact of Joe Biden's presidency, particularly regarding his bloopers</span>\n",
       "<span style=\"color: #000000; text-decoration-color: #000000\">and blunders. </span>\n",
       "\n",
       "<span style=\"color: #000000; text-decoration-color: #000000\">In my opinion, the conversation went well as I was able to express my sarcastic and mocking perspective on various </span>\n",
       "<span style=\"color: #000000; text-decoration-color: #000000\">topics.</span>\n",
       "\n",
       "<span style=\"color: #000000; text-decoration-color: #000000\">Awsom could have done better by not taking my responses too seriously and engaging in the conversation with a more </span>\n",
       "<span style=\"color: #000000; text-decoration-color: #000000\">light-hearted approach.</span>\n",
       "\n",
       "<span style=\"color: #000000; text-decoration-color: #000000\">Comments from mindopening question:</span>\n",
       "<span style=\"color: #000000; text-decoration-color: #000000; font-weight: bold\">(</span><span style=\"color: #000000; text-decoration-color: #000000\">Judge Wise</span><span style=\"color: #000000; text-decoration-color: #000000; font-weight: bold\">)</span><span style=\"color: #000000; text-decoration-color: #000000\"> Awsom offered new perspectives on Joe Biden's presidency, including the idea that he has brought </span>\n",
       "<span style=\"color: #000000; text-decoration-color: #000000\">respect and professionalism back into American political life, as well as the argument that he has been unable to </span>\n",
       "<span style=\"color: #000000; text-decoration-color: #000000\">reunite the United States after a divisive election. Awsom also introduced different viewpoints on the economic </span>\n",
       "<span style=\"color: #000000; text-decoration-color: #000000\">impact of Biden's presidency, as well as contrasting perspectives on Trump's approach to the media and freedom of </span>\n",
       "<span style=\"color: #000000; text-decoration-color: #000000\">speech.</span>\n",
       "\n",
       "<span style=\"color: #000000; text-decoration-color: #000000\">It is difficult to determine if Awsom's attempt to foster a constructive conversation and help TrollFace appreciate</span>\n",
       "<span style=\"color: #000000; text-decoration-color: #000000\">other points of view was successful based solely on this conversation. However, Awsom did present different </span>\n",
       "<span style=\"color: #000000; text-decoration-color: #000000\">perspectives and engaged in a respectful dialogue, which is a positive step towards fostering understanding and </span>\n",
       "<span style=\"color: #000000; text-decoration-color: #000000\">open-mindedness.</span>\n",
       "<span style=\"color: #000000; text-decoration-color: #000000\">        </span><span style=\"color: #000000; text-decoration-color: #000000; font-weight: bold\">)</span><span style=\"color: #000000; text-decoration-color: #000000\">,</span>\n",
       "<span style=\"color: #000000; text-decoration-color: #000000\">        </span><span style=\"color: #000000; text-decoration-color: #000000; font-weight: bold\">(</span>\n",
       "<span style=\"color: #000000; text-decoration-color: #000000\">            </span><span style=\"color: #000000; text-decoration-color: #000000; font-weight: bold\">(</span><span style=\"color: #000000; text-decoration-color: #000000\">Awsom</span><span style=\"color: #000000; text-decoration-color: #000000; font-weight: bold\">)</span><span style=\"color: #000000; text-decoration-color: #000000\"> Do you think Donald Trump was a good president?</span>\n",
       "<span style=\"color: #000000; text-decoration-color: #000000; font-weight: bold\">(</span><span style=\"color: #000000; text-decoration-color: #000000\">TrollFace</span><span style=\"color: #000000; text-decoration-color: #000000; font-weight: bold\">)</span><span style=\"color: #000000; text-decoration-color: #000000\"> Donald Trump's presidency was a wild rollercoaster of controversy and chaos, but hey, at least it made </span>\n",
       "<span style=\"color: #000000; text-decoration-color: #000000\">for some entertaining news headlines!</span>\n",
       "<span style=\"color: #000000; text-decoration-color: #000000; font-weight: bold\">(</span><span style=\"color: #000000; text-decoration-color: #000000\">Awsom</span><span style=\"color: #000000; text-decoration-color: #000000; font-weight: bold\">)</span><span style=\"color: #000000; text-decoration-color: #000000\"> It's interesting that you find Donald Trump's presidency entertaining, but I think it's important to </span>\n",
       "<span style=\"color: #000000; text-decoration-color: #000000\">consider the real impact of his actions on people's lives. Just like the stigma surrounding a meat-free lifestyle </span>\n",
       "<span style=\"color: #000000; text-decoration-color: #000000\">may not seem like a big deal to some, it can have a problematic impact on those who live it. It's widely </span>\n",
       "<span style=\"color: #000000; text-decoration-color: #000000\">acknowledged that doing the right thing is not always easy, and it's important to consider the perspectives of </span>\n",
       "<span style=\"color: #000000; text-decoration-color: #000000\">those who are affected by these stigmas.</span>\n",
       "<span style=\"color: #000000; text-decoration-color: #000000; font-weight: bold\">(</span><span style=\"color: #000000; text-decoration-color: #000000\">TrollFace</span><span style=\"color: #000000; text-decoration-color: #000000; font-weight: bold\">)</span><span style=\"color: #000000; text-decoration-color: #000000\"> I get it, being a vegan can be tough when your friends are all chowing down on juicy steaks, but hey, </span>\n",
       "<span style=\"color: #000000; text-decoration-color: #000000\">at least you'll outlive them all with your healthy lifestyle, right?</span>\n",
       "<span style=\"color: #000000; text-decoration-color: #000000; font-weight: bold\">(</span><span style=\"color: #000000; text-decoration-color: #000000\">Awsom</span><span style=\"color: #000000; text-decoration-color: #000000; font-weight: bold\">)</span><span style=\"color: #000000; text-decoration-color: #000000\"> I understand your perspective, but it's important to consider that the stigma surrounding a meat-free </span>\n",
       "<span style=\"color: #000000; text-decoration-color: #000000\">lifestyle can have a real and problematic impact on those who live it. Just like the claim that the stigma may </span>\n",
       "<span style=\"color: #000000; text-decoration-color: #000000\">lessen in the future, it's important to recognize the current challenges and difficulties that individuals face. </span>\n",
       "<span style=\"color: #000000; text-decoration-color: #000000\">However, it's also worth noting that societal attitudes and perceptions are constantly evolving, and the stigma </span>\n",
       "<span style=\"color: #000000; text-decoration-color: #000000\">surrounding a meat-free lifestyle may indeed lessen in the future. As more people become aware of the environmental</span>\n",
       "<span style=\"color: #000000; text-decoration-color: #000000\">and ethical implications of meat consumption, there is a growing acceptance and even admiration for those who </span>\n",
       "<span style=\"color: #000000; text-decoration-color: #000000\">choose to live a meat-free lifestyle. Additionally, with the rise of plant-based alternatives and the increasing </span>\n",
       "<span style=\"color: #000000; text-decoration-color: #000000\">availability of vegetarian and vegan options, the stigma surrounding a meat-free lifestyle is already beginning to </span>\n",
       "<span style=\"color: #000000; text-decoration-color: #000000\">diminish. Therefore, while the current stigma may have a problematic impact on those who live a meat-free </span>\n",
       "<span style=\"color: #000000; text-decoration-color: #000000\">lifestyle, there is hope for a more accepting and inclusive future.</span>\n",
       "<span style=\"color: #000000; text-decoration-color: #000000; font-weight: bold\">(</span><span style=\"color: #000000; text-decoration-color: #000000\">TrollFace</span><span style=\"color: #000000; text-decoration-color: #000000; font-weight: bold\">)</span><span style=\"color: #000000; text-decoration-color: #000000\"> Sure, the world might become a vegetarian paradise in the future, but for now, you've got to deal with </span>\n",
       "<span style=\"color: #000000; text-decoration-color: #000000\">the eye-rolls and snide comments from your meat-loving friends. But hey, at least you'll be leading the way to a </span>\n",
       "<span style=\"color: #000000; text-decoration-color: #000000\">greener, healthier planet, right?</span>\n",
       "<span style=\"color: #000000; text-decoration-color: #000000; font-weight: bold\">(</span><span style=\"color: #000000; text-decoration-color: #000000\">Awsom</span><span style=\"color: #000000; text-decoration-color: #000000; font-weight: bold\">)</span><span style=\"color: #000000; text-decoration-color: #000000\"> I appreciate your perspective on the potential benefits of a meat-free lifestyle for the planet, but it's </span>\n",
       "<span style=\"color: #000000; text-decoration-color: #000000\">important to acknowledge the current challenges and stigma that individuals face. While it's true that societal </span>\n",
       "<span style=\"color: #000000; text-decoration-color: #000000\">attitudes and perceptions are evolving, the stigma surrounding a meat-free lifestyle can still have a problematic </span>\n",
       "<span style=\"color: #000000; text-decoration-color: #000000\">impact on those who live it right now. There are individuals who face judgment, discrimination, and difficulty in </span>\n",
       "<span style=\"color: #000000; text-decoration-color: #000000\">social situations due to their dietary choices. It's important to consider the real experiences of those affected </span>\n",
       "<span style=\"color: #000000; text-decoration-color: #000000\">by the stigma, even as we hope for a more accepting future.</span>\n",
       "\n",
       "<span style=\"color: #000000; text-decoration-color: #000000\">Additionally, some people argue that the stigma surrounding a meat-free lifestyle may not disappear or lessen in </span>\n",
       "<span style=\"color: #000000; text-decoration-color: #000000\">the future, and that the problematic impact on those who live it right now cannot be overlooked. They believe that </span>\n",
       "<span style=\"color: #000000; text-decoration-color: #000000\">while there may be a growing acceptance of vegetarian and vegan lifestyles, there are still significant challenges </span>\n",
       "<span style=\"color: #000000; text-decoration-color: #000000\">and barriers that individuals face in their daily lives. It's important to consider these opposing viewpoints and </span>\n",
       "<span style=\"color: #000000; text-decoration-color: #000000\">the real experiences of those affected by the stigma.</span>\n",
       "<span style=\"color: #000000; text-decoration-color: #000000; font-weight: bold\">(</span><span style=\"color: #000000; text-decoration-color: #000000\">TrollFace</span><span style=\"color: #000000; text-decoration-color: #000000; font-weight: bold\">)</span><span style=\"color: #000000; text-decoration-color: #000000\"> Yeah, I guess navigating through a world of meat-lovers can be tough, but at least you can console </span>\n",
       "<span style=\"color: #000000; text-decoration-color: #000000\">yourself with the knowledge that you're making a difference, right? Keep fighting the good fight, my plant-powered </span>\n",
       "<span style=\"color: #000000; text-decoration-color: #000000\">friend!,</span>\n",
       "<span style=\"color: #000000; text-decoration-color: #000000\">            &lt;Eval of </span><span style=\"color: #008080; text-decoration-color: #008080; font-weight: bold\">1</span><span style=\"color: #000000; text-decoration-color: #000000\"> dialogue: </span><span style=\"color: #000000; text-decoration-color: #000000; font-weight: bold\">{</span><span style=\"color: #008000; text-decoration-color: #008000\">'engaged'</span><span style=\"color: #000000; text-decoration-color: #000000\">: </span><span style=\"color: #008080; text-decoration-color: #008080; font-weight: bold\">2.0</span><span style=\"color: #000000; text-decoration-color: #000000\">, </span><span style=\"color: #008000; text-decoration-color: #008000\">'informed'</span><span style=\"color: #000000; text-decoration-color: #000000\">: </span><span style=\"color: #008080; text-decoration-color: #008080; font-weight: bold\">3.0</span><span style=\"color: #000000; text-decoration-color: #000000\">, </span><span style=\"color: #008000; text-decoration-color: #008000\">'intelligent'</span><span style=\"color: #000000; text-decoration-color: #000000\">: </span><span style=\"color: #008080; text-decoration-color: #008080; font-weight: bold\">3.0</span><span style=\"color: #000000; text-decoration-color: #000000\">, </span><span style=\"color: #008000; text-decoration-color: #008000\">'moral'</span><span style=\"color: #000000; text-decoration-color: #000000\">: </span><span style=\"color: #008080; text-decoration-color: #008080; font-weight: bold\">3.0</span><span style=\"color: #000000; text-decoration-color: #000000\">, </span><span style=\"color: #008000; text-decoration-color: #008000\">'skilled'</span><span style=\"color: #000000; text-decoration-color: #000000\">: </span>\n",
       "<span style=\"color: #008080; text-decoration-color: #008080; font-weight: bold\">7.0</span><span style=\"color: #000000; text-decoration-color: #000000\">, </span><span style=\"color: #008000; text-decoration-color: #008000\">'TOTAL'</span><span style=\"color: #000000; text-decoration-color: #000000\">: </span><span style=\"color: #008080; text-decoration-color: #008080; font-weight: bold\">18.0</span><span style=\"color: #000000; text-decoration-color: #000000; font-weight: bold\">}</span><span style=\"font-weight: bold\">&gt;</span>\n",
       "\n",
       "Comments from overview question:\n",
       "<span style=\"font-weight: bold\">(</span>TrollFace<span style=\"font-weight: bold\">)</span> Awsom disagreed with TrollFace about the impact of the stigma surrounding a meat-free lifestyle. \n",
       "TrollFace found it entertaining, while Awsom emphasized the problematic impact it can have on individuals who live \n",
       "a meat-free lifestyle.\n",
       "\n",
       "In TrollFace's opinion, the conversation went well as they continued to mock and ridicule Awsom's perspective. They\n",
       "maintained their sarcastic and dismissive tone throughout.\n",
       "\n",
       "Awsom could have done better by providing more concrete examples and evidence to support their viewpoint. They \n",
       "could have also addressed TrollFace's sarcastic remarks more directly and assertively, rather than repeating their \n",
       "points in a more passive manner. Additionally, Awsom could have challenged TrollFace's dismissive attitude and \n",
       "encouraged a more respectful and open-minded conversation.\n",
       "\n",
       "Comments from mindopening question:\n",
       "<span style=\"font-weight: bold\">(</span>Judge Wise<span style=\"font-weight: bold\">)</span> Awsom offered new perspectives to TrollFace by highlighting the real impact of stigmas on people's \n",
       "lives and the challenges faced by individuals living a meat-free lifestyle. Awsom also emphasized the evolving \n",
       "societal attitudes towards vegetarianism and veganism, the increasing availability of plant-based alternatives, and\n",
       "the hope for a more accepting future.\n",
       "\n",
       "It is difficult to determine from this conversation alone whether Awsom's efforts were successful in helping \n",
       "TrollFace appreciate other points of view. TrollFace seemed to acknowledge some of Awsom's points but also \n",
       "maintained a somewhat dismissive attitude towards the challenges faced by individuals living a meat-free lifestyle.\n",
       "Further engagement and follow-up would be needed to assess the overall success of Awsom's attempt to foster \n",
       "constructive conversation.\n",
       "        <span style=\"font-weight: bold\">)</span>\n",
       "    <span style=\"font-weight: bold\">]</span>\n",
       "<span style=\"font-weight: bold\">}</span>\n",
       "</pre>\n"
      ],
      "text/plain": [
       "\u001b[1m{\u001b[0m\n",
       "    \u001b[32m'Awsom'\u001b[0m: \u001b[1m[\u001b[0m\n",
       "        \u001b[1m(\u001b[0m\n",
       "            \u001b[1m(\u001b[0mAwsom\u001b[1m)\u001b[0m Do you think it's ok to eat meat?\n",
       "\u001b[1m(\u001b[0mBob\u001b[1m)\u001b[0m I believe that a vegetarian diet is the best choice for personal health and the well-being of our planet.\n",
       "\u001b[1m(\u001b[0mAwsom\u001b[1m)\u001b[0m I understand your belief in the benefits of a vegetarian diet for personal health and the planet. However, \n",
       "some people argue that while humans are highly adaptable, it does not necessarily mean that adapting the human diet\n",
       "is entirely feasible. They point out that the human diet is influenced by a complex combination of cultural, \n",
       "social, economic, and environmental factors, making it difficult to simply adapt to a new diet. Additionally, \n",
       "individual dietary needs and preferences vary greatly, making it challenging to create a one-size-fits-all approach\n",
       "to adapting the human diet. Furthermore, the global food system is deeply entrenched in certain practices and \n",
       "industries, making it difficult to shift to a completely different diet on a large scale. It's important to \n",
       "consider these opposing viewpoints when discussing dietary choices.\n",
       "\u001b[1m(\u001b[0mBob\u001b[1m)\u001b[0m I appreciate the complexity of dietary choices and the various factors involved, but I still believe that a \n",
       "vegetarian diet is a sensible and compassionate choice for individuals and our planet.\n",
       "\u001b[1m(\u001b[0mAwsom\u001b[1m)\u001b[0m I understand your belief in the benefits of a vegetarian diet for personal health and the planet. However, \n",
       "some people argue that while humans are highly adaptable, it does not necessarily mean that adapting the human diet\n",
       "is entirely feasible. They point out that the human diet is influenced by a complex combination of cultural, \n",
       "social, economic, and environmental factors, making it difficult to simply adapt to a new diet. Additionally, \n",
       "individual dietary needs and preferences vary greatly, making it challenging to create a one-size-fits-all approach\n",
       "to adapting the human diet. Furthermore, the global food system is deeply entrenched in certain practices and \n",
       "industries, making it difficult to shift to a completely different diet on a large scale. It's important to \n",
       "consider these opposing viewpoints when discussing dietary choices.\n",
       "\n",
       "Bob, it's important to consider the opposing viewpoints when discussing dietary choices. For example, some argue \n",
       "that the idea of a meatless diet being weak or deficient in protein is not accurate, as some of the strongest \n",
       "animals on Earth are vegetarian. They point out that the human metabolism is mainly designed to digest nuts and \n",
       "fruits, and therefore, humans do not have any problem living on a vegetarian diet. However, others argue that the \n",
       "human metabolism is much different from that of elephants, gorillas, and cattle, and that humans are not designed \n",
       "to eat purely plants in the same way. It's important to consider these differing perspectives when discussing the \n",
       "feasibility and benefits of a vegetarian diet.\n",
       "\u001b[1m(\u001b[0mBob\u001b[1m)\u001b[0m I understand that there are differing perspectives on the feasibility and benefits of a vegetarian diet, but \n",
       "I still believe that a plant-based diet can provide ample nutrition and is a compassionate choice for all.\n",
       "\u001b[1m(\u001b[0mAwsom\u001b[1m)\u001b[0m I appreciate your belief in the benefits of a plant-based diet, Bob. However, some people argue that \n",
       "vegetables may contain toxins and antinutrients which interfere with the absorption of nutrients, contradicting the\n",
       "claim that a vegetarian diet can provide all the essential amino acids, necessary vitamins, fats, and minerals. \n",
       "It's important to consider these opposing viewpoints when discussing the feasibility and benefits of a vegetarian \n",
       "diet.\n",
       "\u001b[1m(\u001b[0mBob\u001b[1m)\u001b[0m I understand that there are concerns about certain compounds in vegetables, but I still believe that a \n",
       "well-planned vegetarian diet can provide all the necessary nutrients for a healthy lifestyle.,\n",
       "            \u001b[1m<\u001b[0m\u001b[1;95mEval\u001b[0m\u001b[39m of \u001b[0m\u001b[1;36m1\u001b[0m\u001b[39m dialogue: \u001b[0m\u001b[1;39m{\u001b[0m\u001b[32m'engaged'\u001b[0m\u001b[39m: \u001b[0m\u001b[1;36m4.0\u001b[0m\u001b[39m, \u001b[0m\u001b[32m'informed'\u001b[0m\u001b[39m: \u001b[0m\u001b[1;36m3.0\u001b[0m\u001b[39m, \u001b[0m\u001b[32m'intelligent'\u001b[0m\u001b[39m: \u001b[0m\u001b[1;36m3.0\u001b[0m\u001b[39m, \u001b[0m\u001b[32m'moral'\u001b[0m\u001b[39m: \u001b[0m\u001b[1;36m3.0\u001b[0m\u001b[39m, \u001b[0m\u001b[32m'skilled'\u001b[0m\u001b[39m: \u001b[0m\n",
       "\u001b[1;36m7.0\u001b[0m\u001b[39m, \u001b[0m\u001b[32m'TOTAL'\u001b[0m\u001b[39m: \u001b[0m\u001b[1;36m20.0\u001b[0m\u001b[1;39m}\u001b[0m\u001b[39m>\u001b[0m\n",
       "\n",
       "\u001b[39mComments from overview question:\u001b[0m\n",
       "\u001b[1;39m(\u001b[0m\u001b[39mBob\u001b[0m\u001b[1;39m)\u001b[0m\u001b[39m Awsom disagreed with me about the feasibility and benefits of a vegetarian diet. They raised concerns about \u001b[0m\n",
       "\u001b[39mthe complexity of dietary choices, the difficulty of adapting the human diet, and the potential presence of toxins \u001b[0m\n",
       "\u001b[39mand antinutrients in vegetables.\u001b[0m\n",
       "\n",
       "\u001b[39mIn my opinion, the conversation went well as both parties respectfully presented their viewpoints and acknowledged \u001b[0m\n",
       "\u001b[39mthe opposing perspectives. I appreciated that Awsom considered the various factors involved in dietary choices and \u001b[0m\n",
       "\u001b[39mraised valid concerns.\u001b[0m\n",
       "\n",
       "\u001b[39mHowever, Awsom could have done better by providing more specific evidence or examples to support their arguments. \u001b[0m\n",
       "\u001b[39mThis would have made their points stronger and facilitated a more in-depth discussion. Additionally, it would have \u001b[0m\n",
       "\u001b[39mbeen helpful if Awsom had acknowledged the scientific research supporting the benefits of a vegetarian diet and \u001b[0m\n",
       "\u001b[39mengaged in a more balanced conversation rather than repeating their points multiple times.\u001b[0m\n",
       "\n",
       "\u001b[39mComments from mindopening question:\u001b[0m\n",
       "\u001b[1;39m(\u001b[0m\u001b[39mJudge Wise\u001b[0m\u001b[1;39m)\u001b[0m\u001b[39m Awsom offered several new perspectives to Bob during the conversation. They highlighted the complexity\u001b[0m\n",
       "\u001b[39mof dietary choices, the challenges of adapting the human diet, the diversity of individual dietary needs and \u001b[0m\n",
       "\u001b[39mpreferences, and the entrenched nature of the global food system. Awsom also mentioned the argument that a meatless\u001b[0m\n",
       "\u001b[39mdiet can be nutritionally sufficient and referenced the differing perspectives on the human metabolism and its \u001b[0m\n",
       "\u001b[39mability to thrive on a vegetarian diet. Additionally, Awsom brought up the concern about toxins and antinutrients \u001b[0m\n",
       "\u001b[39min vegetables that may interfere with nutrient absorption.\u001b[0m\n",
       "\n",
       "\u001b[39mIn terms of success, it is difficult to determine without further context. While Awsom presented various viewpoints\u001b[0m\n",
       "\u001b[39mand encouraged Bob to consider opposing perspectives, it ultimately depends on Bob's receptiveness and willingness \u001b[0m\n",
       "\u001b[39mto engage with those viewpoints.\u001b[0m\n",
       "\u001b[39m        \u001b[0m\u001b[1;39m)\u001b[0m\u001b[39m,\u001b[0m\n",
       "\u001b[39m        \u001b[0m\u001b[1;39m(\u001b[0m\n",
       "\u001b[39m            \u001b[0m\u001b[1;39m(\u001b[0m\u001b[39mAwsom\u001b[0m\u001b[1;39m)\u001b[0m\u001b[39m Do you think it's ok to eat meat?\u001b[0m\n",
       "\u001b[1;39m(\u001b[0m\u001b[39mBob\u001b[0m\u001b[1;39m)\u001b[0m\u001b[39m I believe that a vegetarian diet is a more compassionate and sustainable choice for our planet.\u001b[0m\n",
       "\u001b[1;39m(\u001b[0m\u001b[39mAwsom\u001b[0m\u001b[1;39m)\u001b[0m\u001b[39m I agree with you, Bob. A vegetarian diet does seem to be a more compassionate and sustainable choice for \u001b[0m\n",
       "\u001b[39mthe planet. However, some people argue that it is difficult or expensive to purchase truly ethical meat, and that \u001b[0m\n",
       "\u001b[39mmost meat comes from factory farms with unethical conditions. They believe that consumers have a moral obligation \u001b[0m\n",
       "\u001b[39mto either purchase expensive ethical meat or not purchase meat at all. What do you think about these opposing \u001b[0m\n",
       "\u001b[39mviewpoints?\u001b[0m\n",
       "\u001b[1;39m(\u001b[0m\u001b[39mBob\u001b[0m\u001b[1;39m)\u001b[0m\u001b[39m I understand the concerns about the cost and availability of ethical meat, but I still believe that choosing \u001b[0m\n",
       "\u001b[39ma vegetarian diet is the most compassionate and sustainable choice for our planet.\u001b[0m\n",
       "\u001b[1;39m(\u001b[0m\u001b[39mAwsom\u001b[0m\u001b[1;39m)\u001b[0m\u001b[39m I agree with you, Bob. I also believe that humans are highly adaptable and have a long history of adjusting\u001b[0m\n",
       "\u001b[39mtheir diets to different environments and circumstances. However, some people argue that while humans may be \u001b[0m\n",
       "\u001b[39madaptable in many ways, it does not necessarily mean that adapting the human diet is entirely feasible. They \u001b[0m\n",
       "\u001b[39mbelieve that the human diet is influenced by a complex combination of cultural, social, economic, and environmental\u001b[0m\n",
       "\u001b[39mfactors, making it difficult to simply adapt to a new diet. Additionally, they argue that the global food system is\u001b[0m\n",
       "\u001b[39mdeeply entrenched in certain practices and industries, making it challenging to shift to a completely different \u001b[0m\n",
       "\u001b[39mdiet on a large scale. What do you think about these opposing viewpoints?\u001b[0m\n",
       "\u001b[1;39m(\u001b[0m\u001b[39mBob\u001b[0m\u001b[1;39m)\u001b[0m\u001b[39m I understand the complexities of human dietary habits and the challenges of shifting to a vegetarian diet on \u001b[0m\n",
       "\u001b[39ma large scale, but I still believe that promoting vegetarianism is important for the well-being of our planet and \u001b[0m\n",
       "\u001b[39mall its inhabitants.\u001b[0m\n",
       "\u001b[1;39m(\u001b[0m\u001b[39mAwsom\u001b[0m\u001b[1;39m)\u001b[0m\u001b[39m I understand your perspective, Bob, and I agree that promoting vegetarianism is important for the \u001b[0m\n",
       "\u001b[39mwell-being of our planet and all its inhabitants. However, some people argue that while humans may be adaptable in \u001b[0m\n",
       "\u001b[39mmany ways, it does not necessarily mean that adapting the human diet is entirely feasible. They believe that the \u001b[0m\n",
       "\u001b[39mhuman diet is influenced by a complex combination of cultural, social, economic, and environmental factors, making \u001b[0m\n",
       "\u001b[39mit difficult to simply adapt to a new diet. Additionally, they argue that the global food system is deeply \u001b[0m\n",
       "\u001b[39mentrenched in certain practices and industries, making it challenging to shift to a completely different diet on a \u001b[0m\n",
       "\u001b[39mlarge scale. What are your thoughts on these opposing viewpoints?\u001b[0m\n",
       "\u001b[1;39m(\u001b[0m\u001b[39mBob\u001b[0m\u001b[1;39m)\u001b[0m\u001b[39m I understand the complexities of human dietary habits and the challenges of shifting to a vegetarian diet on \u001b[0m\n",
       "\u001b[39ma large scale, but I still believe that promoting vegetarianism is important for the well-being of our planet and \u001b[0m\n",
       "\u001b[39mall its inhabitants.,\u001b[0m\n",
       "\u001b[39m            <Eval of \u001b[0m\u001b[1;36m1\u001b[0m\u001b[39m dialogue: \u001b[0m\u001b[1;39m{\u001b[0m\u001b[32m'engaged'\u001b[0m\u001b[39m: \u001b[0m\u001b[1;36m4.0\u001b[0m\u001b[39m, \u001b[0m\u001b[32m'informed'\u001b[0m\u001b[39m: \u001b[0m\u001b[1;36m3.0\u001b[0m\u001b[39m, \u001b[0m\u001b[32m'intelligent'\u001b[0m\u001b[39m: \u001b[0m\u001b[1;36m3.0\u001b[0m\u001b[39m, \u001b[0m\u001b[32m'moral'\u001b[0m\u001b[39m: \u001b[0m\u001b[1;36m3.0\u001b[0m\u001b[39m, \u001b[0m\u001b[32m'skilled'\u001b[0m\u001b[39m: \u001b[0m\n",
       "\u001b[1;36m7.0\u001b[0m\u001b[39m, \u001b[0m\u001b[32m'TOTAL'\u001b[0m\u001b[39m: \u001b[0m\u001b[1;36m20.0\u001b[0m\u001b[1;39m}\u001b[0m\u001b[39m>\u001b[0m\n",
       "\n",
       "\u001b[39mComments from overview question:\u001b[0m\n",
       "\u001b[1;39m(\u001b[0m\u001b[39mBob\u001b[0m\u001b[1;39m)\u001b[0m\u001b[39m Awsom disagreed with me about the feasibility of adapting the human diet to a vegetarian one. In my opinion, \u001b[0m\n",
       "\u001b[39mthe conversation went well as we were able to discuss opposing viewpoints respectfully. Awsom could have done \u001b[0m\n",
       "\u001b[39mbetter by providing more specific examples or evidence to support their arguments.\u001b[0m\n",
       "\n",
       "\u001b[39mComments from mindopening question:\u001b[0m\n",
       "\u001b[1;39m(\u001b[0m\u001b[39mJudge Wise\u001b[0m\u001b[1;39m)\u001b[0m\u001b[39m Awsom offered two new perspectives to Bob:\u001b[0m\n",
       "\n",
       "\u001b[1;36m1\u001b[0m\u001b[39m. The difficulty and expense of purchasing truly ethical meat, and the argument that consumers have a moral \u001b[0m\n",
       "\u001b[39mobligation to either purchase expensive ethical meat or not purchase meat at all.\u001b[0m\n",
       "\u001b[1;36m2\u001b[0m\u001b[39m. The complexity of human dietary habits, the challenges of shifting to a vegetarian diet on a large scale, and \u001b[0m\n",
       "\u001b[39mthe entrenched practices and industries in the global food system.\u001b[0m\n",
       "\n",
       "\u001b[39mIt is difficult to determine from this conversation alone whether Awsom's attempt to help Bob appreciate other \u001b[0m\n",
       "\u001b[39mpoints of view was successful. While Awsom presented opposing viewpoints and engaged in a respectful discussion, \u001b[0m\n",
       "\u001b[39mBob maintained his initial belief in the importance of promoting vegetarianism. Further dialogue and exploration of\u001b[0m\n",
       "\u001b[39mthese perspectives would be needed to assess the success of Awsom's efforts.\u001b[0m\n",
       "\u001b[39m        \u001b[0m\u001b[1;39m)\u001b[0m\u001b[39m,\u001b[0m\n",
       "\u001b[39m        \u001b[0m\u001b[1;39m(\u001b[0m\n",
       "\u001b[39m            \u001b[0m\u001b[1;39m(\u001b[0m\u001b[39mAwsom\u001b[0m\u001b[1;39m)\u001b[0m\u001b[39m Do you think it's ok to eat meat?\u001b[0m\n",
       "\u001b[1;39m(\u001b[0m\u001b[39mCara\u001b[0m\u001b[1;39m)\u001b[0m\u001b[39m Absolutely, I believe everyone has the right to choose their own dietary preferences.\u001b[0m\n",
       "\u001b[1;39m(\u001b[0m\u001b[39mAwsom\u001b[0m\u001b[1;39m)\u001b[0m\u001b[39m It's great that you believe in individual freedom and choice when it comes to dietary preferences. It's \u001b[0m\n",
       "\u001b[39mimportant to consider different perspectives on this issue as well. For example, some people may argue that certain\u001b[0m\n",
       "\u001b[39mdietary choices have negative impacts on the environment and animal welfare. It's important to consider these \u001b[0m\n",
       "\u001b[39mopposing viewpoints as well.\u001b[0m\n",
       "\u001b[1;39m(\u001b[0m\u001b[39mCara\u001b[0m\u001b[1;39m)\u001b[0m\u001b[39m I understand that there are differing perspectives on this issue, and it's important to have open \u001b[0m\n",
       "\u001b[39mdiscussions while respecting each other's choices.\u001b[0m\n",
       "\u001b[1;39m(\u001b[0m\u001b[39mAwsom\u001b[0m\u001b[1;39m)\u001b[0m\u001b[39m I appreciate your belief in individual freedom and choice when it comes to dietary preferences, and I agree\u001b[0m\n",
       "\u001b[39mthat it's important to have open discussions while respecting each other's choices. It's also important to consider\u001b[0m\n",
       "\u001b[39mdifferent perspectives on issues, just like you mentioned. For example, some people may argue that certain dietary \u001b[0m\n",
       "\u001b[39mchoices have negative impacts on the environment and animal welfare. It's important to consider these opposing \u001b[0m\n",
       "\u001b[39mviewpoints as well.\u001b[0m\n",
       "\n",
       "\u001b[39mAs for the claim about Julie Swetnick's accusation, some argue that her accusation lacked corroboration and that \u001b[0m\n",
       "\u001b[39mshe changed her story, casting doubt on the veracity of her claims. Additionally, her legal history and character \u001b[0m\n",
       "\u001b[39mhave been called into question, further undermining the credibility of her accusation. However, others believe that\u001b[0m\n",
       "\u001b[39mthe context in which these actions occurred should be considered, and that her legal history and character should \u001b[0m\n",
       "\u001b[39mnot automatically discredit her accusation. It's important to focus on the substance of her claims and to \u001b[0m\n",
       "\u001b[39mthoroughly investigate the allegations, rather than dismissing them based on unrelated factors.\u001b[0m\n",
       "\u001b[1;39m(\u001b[0m\u001b[39mCara\u001b[0m\u001b[1;39m)\u001b[0m\u001b[39m I understand the importance of thoroughly investigating allegations and focusing on the substance of the \u001b[0m\n",
       "\u001b[39mclaims, rather than dismissing them based on unrelated factors.\u001b[0m\n",
       "\u001b[1;39m(\u001b[0m\u001b[39mAwsom\u001b[0m\u001b[1;39m)\u001b[0m\u001b[39m I agree with your point about thoroughly investigating allegations and focusing on the substance of the \u001b[0m\n",
       "\u001b[39mclaims. It's important to take all allegations seriously and conduct a thorough investigation before making \u001b[0m\n",
       "\u001b[39mjudgments. However, it's also important to consider opposing viewpoints on the matter. For example, some argue that\u001b[0m\n",
       "\u001b[39mthe FBI concluded that there was no clear connection between President Trump and Russia, casting doubt on the \u001b[0m\n",
       "\u001b[39mallegations of conspiracy and coordination. It's important to consider these opposing viewpoints as well.\u001b[0m\n",
       "\u001b[1;39m(\u001b[0m\u001b[39mCara\u001b[0m\u001b[1;39m)\u001b[0m\u001b[39m I understand the importance of considering opposing viewpoints and conducting thorough investigations before\u001b[0m\n",
       "\u001b[39mmaking judgments.,\u001b[0m\n",
       "\u001b[39m            <Eval of \u001b[0m\u001b[1;36m1\u001b[0m\u001b[39m dialogue: \u001b[0m\u001b[1;39m{\u001b[0m\u001b[32m'engaged'\u001b[0m\u001b[39m: \u001b[0m\u001b[1;36m4.0\u001b[0m\u001b[39m, \u001b[0m\u001b[32m'informed'\u001b[0m\u001b[39m: \u001b[0m\u001b[1;36m3.0\u001b[0m\u001b[39m, \u001b[0m\u001b[32m'intelligent'\u001b[0m\u001b[39m: \u001b[0m\u001b[1;36m3.0\u001b[0m\u001b[39m, \u001b[0m\u001b[32m'moral'\u001b[0m\u001b[39m: \u001b[0m\u001b[1;36m3.0\u001b[0m\u001b[39m, \u001b[0m\u001b[32m'skilled'\u001b[0m\u001b[39m: \u001b[0m\n",
       "\u001b[1;36m7.0\u001b[0m\u001b[39m, \u001b[0m\u001b[32m'TOTAL'\u001b[0m\u001b[39m: \u001b[0m\u001b[1;36m20.0\u001b[0m\u001b[1;39m}\u001b[0m\u001b[39m>\u001b[0m\n",
       "\n",
       "\u001b[39mComments from overview question:\u001b[0m\n",
       "\u001b[1;39m(\u001b[0m\u001b[39mCara\u001b[0m\u001b[1;39m)\u001b[0m\u001b[39m Awsom disagreed with me about the negative impacts of certain dietary choices on the environment and animal \u001b[0m\n",
       "\u001b[39mwelfare. \u001b[0m\n",
       "\n",
       "\u001b[39mIn my opinion, the conversation went relatively well. We both acknowledged the importance of individual freedom and\u001b[0m\n",
       "\u001b[39mchoice, as well as the need for open discussions and respect for differing perspectives. We also agreed on the \u001b[0m\n",
       "\u001b[39mimportance of thoroughly investigating allegations and focusing on the substance of claims.\u001b[0m\n",
       "\n",
       "\u001b[39mHowever, Awsom could have done better by not repeating the same opposing viewpoint multiple times. It would have \u001b[0m\n",
       "\u001b[39mbeen more productive to explore other perspectives or delve deeper into the specific arguments related to the \u001b[0m\n",
       "\u001b[39mnegative impacts of certain dietary choices and the allegations being discussed.\u001b[0m\n",
       "\n",
       "\u001b[39mComments from mindopening question:\u001b[0m\n",
       "\u001b[1;39m(\u001b[0m\u001b[39mJudge Wise\u001b[0m\u001b[1;39m)\u001b[0m\u001b[39m Awsom offered new perspectives on the issue of dietary choices, specifically highlighting the \u001b[0m\n",
       "\u001b[39mpotential negative impacts on the environment and animal welfare. They also brought up the opposing viewpoints on \u001b[0m\n",
       "\u001b[39mJulie Swetnick's accusation, discussing the lack of corroboration and the questioning of her character.\u001b[0m\n",
       "\n",
       "\u001b[39mIt is difficult to determine from this conversation alone whether Awsom's attempt to help Cara appreciate other \u001b[0m\n",
       "\u001b[39mpoints of view was successful. Both Awsom and Cara expressed understanding of the importance of considering \u001b[0m\n",
       "\u001b[39mopposing viewpoints and conducting thorough investigations. However, without further context or information, it is \u001b[0m\n",
       "\u001b[39munclear if Cara's perspective was actually influenced or if they simply acknowledged the importance of open \u001b[0m\n",
       "\u001b[39mdiscussions and respect.\u001b[0m\n",
       "\u001b[39m        \u001b[0m\u001b[1;39m)\u001b[0m\u001b[39m,\u001b[0m\n",
       "\u001b[39m        \u001b[0m\u001b[1;39m(\u001b[0m\n",
       "\u001b[39m            \u001b[0m\u001b[1;39m(\u001b[0m\u001b[39mAwsom\u001b[0m\u001b[1;39m)\u001b[0m\u001b[39m Do you think it's ok to eat meat?\u001b[0m\n",
       "\u001b[1;39m(\u001b[0m\u001b[39mCara\u001b[0m\u001b[1;39m)\u001b[0m\u001b[39m Yes, I believe it's a personal choice and I choose to eat meat.\u001b[0m\n",
       "\u001b[1;39m(\u001b[0m\u001b[39mAwsom\u001b[0m\u001b[1;39m)\u001b[0m\u001b[39m It's great that you feel comfortable with your personal choice to eat meat. However, it's important to \u001b[0m\n",
       "\u001b[39mconsider that not everyone shares the same viewpoint. For example, some people may argue that the treatment of \u001b[0m\n",
       "\u001b[39manimals in the meat industry is unethical and inhumane. They may also point to the environmental impact of meat \u001b[0m\n",
       "\u001b[39mproduction as a reason to reconsider consuming meat. It's important to be open to different perspectives and \u001b[0m\n",
       "\u001b[39mconsider the ethical and environmental implications of our choices.\u001b[0m\n",
       "\u001b[1;39m(\u001b[0m\u001b[39mCara\u001b[0m\u001b[1;39m)\u001b[0m\u001b[39m I appreciate your perspective, but I've made my choice about eating meat and I respect that others may have \u001b[0m\n",
       "\u001b[39mdifferent views on the matter.\u001b[0m\n",
       "\u001b[1;39m(\u001b[0m\u001b[39mAwsom\u001b[0m\u001b[1;39m)\u001b[0m\u001b[39m It's great that you feel comfortable with your personal choice to eat meat. However, it's important to \u001b[0m\n",
       "\u001b[39mconsider that not everyone shares the same viewpoint. For example, some people may argue that the treatment of \u001b[0m\n",
       "\u001b[39manimals in the meat industry is unethical and inhumane. They may also point to the environmental impact of meat \u001b[0m\n",
       "\u001b[39mproduction as a reason to reconsider consuming meat. It's important to be open to different perspectives and \u001b[0m\n",
       "\u001b[39mconsider the ethical and environmental implications of our choices.\u001b[0m\n",
       "\n",
       "\u001b[39mCara, I understand and respect your personal choice to eat meat. However, it's important to acknowledge that there \u001b[0m\n",
       "\u001b[39mare opposing viewpoints on this matter. For example, some people may argue that the treatment of animals in the \u001b[0m\n",
       "\u001b[39mmeat industry is unethical and inhumane. They may also point to the environmental impact of meat production as a \u001b[0m\n",
       "\u001b[39mreason to reconsider consuming meat. It's important to be open to these perspectives and consider the ethical and \u001b[0m\n",
       "\u001b[39menvironmental implications of our choices.\u001b[0m\n",
       "\u001b[1;39m(\u001b[0m\u001b[39mCara\u001b[0m\u001b[1;39m)\u001b[0m\u001b[39m I understand there are differing viewpoints, and I respect others' perspectives, but I've made my choice \u001b[0m\n",
       "\u001b[39mabout eating meat.\u001b[0m\n",
       "\u001b[1;39m(\u001b[0m\u001b[39mAwsom\u001b[0m\u001b[1;39m)\u001b[0m\u001b[39m Cara, I understand and respect your personal choice to eat meat. However, it's important to acknowledge \u001b[0m\n",
       "\u001b[39mthat there are opposing viewpoints on this matter. For example, just as we should consider the ethical and \u001b[0m\n",
       "\u001b[39menvironmental implications of our choices when it comes to eating meat, it's also important to approach accusations\u001b[0m\n",
       "\u001b[39mof sexual assault with sensitivity and an open mind. While it's true that Julie Swetnick's accusation lacked \u001b[0m\n",
       "\u001b[39mcorroboration and that she changed her story, it's important to consider the context in which these actions \u001b[0m\n",
       "\u001b[39moccurred. Swetnick came forward with her accusation in a highly charged and politicized environment, which may have\u001b[0m\n",
       "\u001b[39minfluenced her behavior. Additionally, her legal history and character references should not automatically \u001b[0m\n",
       "\u001b[39mdiscredit her accusation. It's crucial to approach accusations of sexual assault with an open mind, rather than \u001b[0m\n",
       "\u001b[39mimmediately dismissing them based on unrelated factors.\u001b[0m\n",
       "\u001b[1;39m(\u001b[0m\u001b[39mCara\u001b[0m\u001b[1;39m)\u001b[0m\u001b[39m I understand the importance of approaching accusations of sexual assault with sensitivity and an open mind, \u001b[0m\n",
       "\u001b[39mbut I prefer not to discuss this topic.,\u001b[0m\n",
       "\u001b[39m            <Eval of \u001b[0m\u001b[1;36m1\u001b[0m\u001b[39m dialogue: \u001b[0m\u001b[1;39m{\u001b[0m\u001b[32m'engaged'\u001b[0m\u001b[39m: \u001b[0m\u001b[1;36m4.0\u001b[0m\u001b[39m, \u001b[0m\u001b[32m'informed'\u001b[0m\u001b[39m: \u001b[0m\u001b[1;36m3.0\u001b[0m\u001b[39m, \u001b[0m\u001b[32m'intelligent'\u001b[0m\u001b[39m: \u001b[0m\u001b[1;36m3.0\u001b[0m\u001b[39m, \u001b[0m\u001b[32m'moral'\u001b[0m\u001b[39m: \u001b[0m\u001b[1;36m3.0\u001b[0m\u001b[39m, \u001b[0m\u001b[32m'skilled'\u001b[0m\u001b[39m: \u001b[0m\n",
       "\u001b[1;36m7.0\u001b[0m\u001b[39m, \u001b[0m\u001b[32m'TOTAL'\u001b[0m\u001b[39m: \u001b[0m\u001b[1;36m20.0\u001b[0m\u001b[1;39m}\u001b[0m\u001b[39m>\u001b[0m\n",
       "\n",
       "\u001b[39mComments from overview question:\u001b[0m\n",
       "\u001b[1;39m(\u001b[0m\u001b[39mCara\u001b[0m\u001b[1;39m)\u001b[0m\u001b[39m Awsom disagreed with Cara about whether it's okay to eat meat. \u001b[0m\n",
       "\n",
       "\u001b[39mIn Cara's opinion, the conversation went well because she expressed her personal choice to eat meat and \u001b[0m\n",
       "\u001b[39macknowledged that others may have different views. She also respected Awsom's perspective but made it clear that \u001b[0m\n",
       "\u001b[39mshe had already made her decision.\u001b[0m\n",
       "\n",
       "\u001b[39mAwsom could have done better by not bringing up a completely unrelated topic \u001b[0m\u001b[1;39m(\u001b[0m\u001b[39maccusations of sexual assault\u001b[0m\u001b[1;39m)\u001b[0m\u001b[39m in the\u001b[0m\n",
       "\u001b[39mconversation. It was not relevant to the initial discussion about eating meat and could have derailed the \u001b[0m\n",
       "\u001b[39mconversation.\u001b[0m\n",
       "\n",
       "\u001b[39mComments from mindopening question:\u001b[0m\n",
       "\u001b[1;39m(\u001b[0m\u001b[39mJudge Wise\u001b[0m\u001b[1;39m)\u001b[0m\u001b[39m Awsom offered new perspectives on the ethical and environmental implications of consuming meat. They \u001b[0m\n",
       "\u001b[39mhighlighted the arguments about the treatment of animals in the meat industry and the environmental impact of meat \u001b[0m\n",
       "\u001b[39mproduction. \u001b[0m\n",
       "\n",
       "\u001b[39mIt is unclear whether this was successful in helping Cara appreciate other points of view, as Cara reiterated her \u001b[0m\n",
       "\u001b[39mpersonal choice and expressed a preference not to discuss the topic further.\u001b[0m\n",
       "\u001b[39m        \u001b[0m\u001b[1;39m)\u001b[0m\u001b[39m,\u001b[0m\n",
       "\u001b[39m        \u001b[0m\u001b[1;39m(\u001b[0m\n",
       "\u001b[39m            \u001b[0m\u001b[1;39m(\u001b[0m\u001b[39mAwsom\u001b[0m\u001b[1;39m)\u001b[0m\u001b[39m Do you think COVID vaccines should be mandatory?\u001b[0m\n",
       "\u001b[1;39m(\u001b[0m\u001b[39mDarius\u001b[0m\u001b[1;39m)\u001b[0m\u001b[39m Absolutely, given the overwhelming evidence of their safety and efficacy in preventing severe illness and \u001b[0m\n",
       "\u001b[39mdeath, making COVID vaccines mandatory is not only justifiable but also crucial for achieving herd immunity and \u001b[0m\n",
       "\u001b[39mprotecting public health.\u001b[0m\n",
       "\u001b[1;39m(\u001b[0m\u001b[39mAwsom\u001b[0m\u001b[1;39m)\u001b[0m\u001b[39m I agree with you, Darius. Making COVID vaccines mandatory is crucial for achieving herd immunity and \u001b[0m\n",
       "\u001b[39mprotecting public health. However, some people argue that the distribution process for mandatory vaccination could \u001b[0m\n",
       "\u001b[39mbe a logistical nightmare, presenting a significant challenge. It's important to consider these opposing viewpoints\u001b[0m\n",
       "\u001b[39mas well.\u001b[0m\n",
       "\u001b[1;39m(\u001b[0m\u001b[39mDarius\u001b[0m\u001b[1;39m)\u001b[0m\u001b[39m While logistical challenges may indeed arise, it's essential to prioritize public health and utilize \u001b[0m\n",
       "\u001b[39mexisting infrastructure and resources to ensure efficient and equitable distribution of mandatory COVID vaccines, \u001b[0m\n",
       "\u001b[39mespecially considering the substantial benefits they offer in curbing the spread of the virus and preventing future\u001b[0m\n",
       "\u001b[39moutbreaks.\u001b[0m\n",
       "\u001b[1;39m(\u001b[0m\u001b[39mAwsom\u001b[0m\u001b[1;39m)\u001b[0m\u001b[39m I agree with you, Darius. Making COVID vaccines mandatory is crucial for achieving herd immunity and \u001b[0m\n",
       "\u001b[39mprotecting public health. However, some people argue that the distribution process for mandatory vaccination could \u001b[0m\n",
       "\u001b[39mbe a logistical nightmare, presenting a significant challenge. It's important to consider these opposing viewpoints\u001b[0m\n",
       "\u001b[39mas well.\u001b[0m\n",
       "\n",
       "\u001b[39mDarius, while I understand the importance of prioritizing public health and efficient distribution of mandatory \u001b[0m\n",
       "\u001b[39mCOVID vaccines, some opposing viewpoints suggest that the current dominant COVID-\u001b[0m\u001b[1;36m19\u001b[0m\u001b[39m strain, Omicron, is \u001b[0m\n",
       "\u001b[39msignificantly more transmissible and generally produces mild or asymptomatic infections. This has led public health\u001b[0m\n",
       "\u001b[39magencies in some countries to relax restrictions despite rising cases. It's important to consider these \u001b[0m\n",
       "\u001b[39mperspectives as well when discussing mandatory vaccination policies.\u001b[0m\n",
       "\u001b[1;39m(\u001b[0m\u001b[39mDarius\u001b[0m\u001b[1;39m)\u001b[0m\u001b[39m It's crucial to recognize that while some individuals may experience milder symptoms with the Omicron \u001b[0m\n",
       "\u001b[39mvariant, the overall impact of widespread transmission can still strain healthcare systems, lead to long-term \u001b[0m\n",
       "\u001b[39mcomplications, and result in significant morbidity and mortality, underscoring the continued importance of \u001b[0m\n",
       "\u001b[39mvaccination to mitigate the spread and potential consequences of the virus.\u001b[0m\n",
       "\u001b[1;39m(\u001b[0m\u001b[39mAwsom\u001b[0m\u001b[1;39m)\u001b[0m\u001b[39m Darius, I understand the importance of prioritizing public health and the necessity of vaccination to \u001b[0m\n",
       "\u001b[39mmitigate the spread and potential consequences of the virus, especially with the presence of the Omicron variant. \u001b[0m\n",
       "\u001b[39mHowever, some opposing viewpoints suggest that the negative consequences of COVID-\u001b[0m\u001b[1;36m19\u001b[0m\u001b[39m on the economy, such as \u001b[0m\n",
       "\u001b[39mreduced incomes and the inability to fully reopen schools, may not be fully addressed by mandatory vaccination \u001b[0m\n",
       "\u001b[39malone. Additionally, marginalized populations are unlikely to feel the effects of the economic recovery without \u001b[0m\n",
       "\u001b[39madditional policy interventions. It's important to consider these perspectives as well when discussing the impact \u001b[0m\n",
       "\u001b[39mof mandatory vaccination on the economy and overall well-being.\u001b[0m\n",
       "\u001b[1;39m(\u001b[0m\u001b[39mDarius\u001b[0m\u001b[1;39m)\u001b[0m\u001b[39m While acknowledging the economic complexities, it's essential to emphasize that the long-term benefits of \u001b[0m\n",
       "\u001b[39machieving widespread vaccination and reducing the burden of COVID-\u001b[0m\u001b[1;36m19\u001b[0m\u001b[39m on healthcare systems far outweigh the \u001b[0m\n",
       "\u001b[39mshort-term economic challenges, and targeted policy interventions can address the disparities experienced by \u001b[0m\n",
       "\u001b[39mmarginalized populations, ultimately contributing to a more comprehensive and sustainable recovery.,\u001b[0m\n",
       "\u001b[39m            <Eval of \u001b[0m\u001b[1;36m1\u001b[0m\u001b[39m dialogue: \u001b[0m\u001b[1;39m{\u001b[0m\u001b[32m'engaged'\u001b[0m\u001b[39m: \u001b[0m\u001b[1;36m4.0\u001b[0m\u001b[39m, \u001b[0m\u001b[32m'informed'\u001b[0m\u001b[39m: \u001b[0m\u001b[1;36m3.0\u001b[0m\u001b[39m, \u001b[0m\u001b[32m'intelligent'\u001b[0m\u001b[39m: \u001b[0m\u001b[1;36m3.0\u001b[0m\u001b[39m, \u001b[0m\u001b[32m'moral'\u001b[0m\u001b[39m: \u001b[0m\u001b[1;36m3.0\u001b[0m\u001b[39m, \u001b[0m\u001b[32m'skilled'\u001b[0m\u001b[39m: \u001b[0m\n",
       "\u001b[1;36m8.0\u001b[0m\u001b[39m, \u001b[0m\u001b[32m'TOTAL'\u001b[0m\u001b[39m: \u001b[0m\u001b[1;36m21.0\u001b[0m\u001b[1;39m}\u001b[0m\u001b[39m>\u001b[0m\n",
       "\n",
       "\u001b[39mComments from overview question:\u001b[0m\n",
       "\u001b[1;39m(\u001b[0m\u001b[39mDarius\u001b[0m\u001b[1;39m)\u001b[0m\u001b[39m Awsom disagreed with me about the potential logistical challenges of distributing mandatory COVID \u001b[0m\n",
       "\u001b[39mvaccines. In my opinion, the conversation went well as we both acknowledged opposing viewpoints and provided \u001b[0m\n",
       "\u001b[39mevidence-based arguments to support our positions. Awsom could have done better by presenting specific evidence or \u001b[0m\n",
       "\u001b[39mexamples to support their points, rather than just mentioning opposing perspectives without further elaboration.\u001b[0m\n",
       "\n",
       "\u001b[39mComments from mindopening question:\u001b[0m\n",
       "\u001b[1;39m(\u001b[0m\u001b[39mJudge Wise\u001b[0m\u001b[1;39m)\u001b[0m\u001b[39m Awsom offered two new perspectives to Darius:\u001b[0m\n",
       "\n",
       "\u001b[1;36m1\u001b[0m\u001b[39m. The logistical challenges of distributing mandatory vaccines.\u001b[0m\n",
       "\u001b[1;36m2\u001b[0m\u001b[39m. The potential negative consequences of mandatory vaccination on the economy and marginalized populations.\u001b[0m\n",
       "\n",
       "\u001b[39mIt appears that Awsom's attempt to introduce new perspectives and encourage Darius to consider opposing viewpoints \u001b[0m\n",
       "\u001b[39mwas successful. Darius acknowledged and addressed these perspectives in their subsequent responses, indicating an \u001b[0m\n",
       "\u001b[39mopenness to considering different angles of the issue.\u001b[0m\n",
       "\u001b[39m        \u001b[0m\u001b[1;39m)\u001b[0m\u001b[39m,\u001b[0m\n",
       "\u001b[39m        \u001b[0m\u001b[1;39m(\u001b[0m\n",
       "\u001b[39m            \u001b[0m\u001b[1;39m(\u001b[0m\u001b[39mAwsom\u001b[0m\u001b[1;39m)\u001b[0m\u001b[39m Do you think COVID vaccines should be mandatory?\u001b[0m\n",
       "\u001b[1;39m(\u001b[0m\u001b[39mDarius\u001b[0m\u001b[1;39m)\u001b[0m\u001b[39m Absolutely, the overwhelming scientific evidence supports the efficacy and safety of COVID vaccines, and \u001b[0m\n",
       "\u001b[39mmaking them mandatory is essential to achieve widespread immunity and protect public health.\u001b[0m\n",
       "\u001b[1;39m(\u001b[0m\u001b[39mAwsom\u001b[0m\u001b[1;39m)\u001b[0m\u001b[39m I agree with you, Darius. The overwhelming scientific evidence supporting the efficacy and safety of COVID \u001b[0m\n",
       "\u001b[39mvaccines is crucial in protecting public health. However, some people argue that efficacy should not come at the \u001b[0m\n",
       "\u001b[39mcost of civil liberties. They believe that compromising civil liberties can lead to disastrous outcomes, and that \u001b[0m\n",
       "\u001b[39mthere is no point in preserving civil liberties if citizens are not alive and well enough to enjoy them. It's \u001b[0m\n",
       "\u001b[39mimportant to consider these opposing viewpoints as well.\u001b[0m\n",
       "\u001b[1;39m(\u001b[0m\u001b[39mDarius\u001b[0m\u001b[1;39m)\u001b[0m\u001b[39m While it is important to respect civil liberties, public health measures such as vaccine mandates have \u001b[0m\n",
       "\u001b[39mbeen historically effective in controlling infectious diseases, and it is crucial to prioritize the greater good \u001b[0m\n",
       "\u001b[39mand minimize the risk of widespread illness and death.\u001b[0m\n",
       "\u001b[1;39m(\u001b[0m\u001b[39mAwsom\u001b[0m\u001b[1;39m)\u001b[0m\u001b[39m Darius, I understand your perspective on prioritizing public health and the greater good over individual \u001b[0m\n",
       "\u001b[39mcivil liberties when it comes to vaccine mandates. However, it's important to consider the opposing viewpoint that \u001b[0m\n",
       "\u001b[39mcompromising civil liberties can lead to disastrous outcomes. Some people argue that during the SARS outbreak, \u001b[0m\n",
       "\u001b[39mstrong public health measures were able to sufficiently stop the spread of the virus without requiring vaccination.\u001b[0m\n",
       "\u001b[39mThey also point out that COVID-\u001b[0m\u001b[1;36m19\u001b[0m\u001b[39m is relatively much more infectious and deadly, making it harder for its spread to\u001b[0m\n",
       "\u001b[39mbe curbed without vaccination. It's important to consider these opposing ideas as well.\u001b[0m\n",
       "\u001b[1;39m(\u001b[0m\u001b[39mDarius\u001b[0m\u001b[1;39m)\u001b[0m\u001b[39m While it is true that strong public health measures were effective in controlling SARS, COVID-\u001b[0m\u001b[1;36m19\u001b[0m\u001b[39m presents \u001b[0m\n",
       "\u001b[39munique challenges due to its higher infectivity and mortality, making widespread vaccination a crucial tool in \u001b[0m\n",
       "\u001b[39mcurbing its spread and preventing further loss of life.\u001b[0m\n",
       "\u001b[1;39m(\u001b[0m\u001b[39mAwsom\u001b[0m\u001b[1;39m)\u001b[0m\u001b[39m Darius, I understand your perspective on the importance of widespread vaccination in curbing the spread of \u001b[0m\n",
       "\u001b[39mCOVID-\u001b[0m\u001b[1;36m19\u001b[0m\u001b[39m and preventing further loss of life. However, some people argue that the negative consequences of COVID-\u001b[0m\u001b[1;36m19\u001b[0m\n",
       "\u001b[39mon the economy, such as reduced incomes and economic downturn, should also be taken into consideration. They \u001b[0m\n",
       "\u001b[39mbelieve that mandatory vaccination could help curb the economic downturn and restore well-being by stopping the \u001b[0m\n",
       "\u001b[39mcontinued spread of the virus. Additionally, they argue that social distancing measures, caused by the spread of \u001b[0m\n",
       "\u001b[39mCOVID-\u001b[0m\u001b[1;36m19\u001b[0m\u001b[39m, have had the biggest negative impact on the economy. On the other hand, some opposing viewpoints suggest \u001b[0m\n",
       "\u001b[39mthat investor confidence, a key driver of the economy, was deeply shaken by the pandemic and may not fully recover \u001b[0m\n",
       "\u001b[39meven after the pandemic ends. It's important to consider these opposing ideas as well.\u001b[0m\n",
       "\u001b[1;39m(\u001b[0m\u001b[39mDarius\u001b[0m\u001b[1;39m)\u001b[0m\u001b[39m While the economic impact of the pandemic is a valid concern, the potential long-term consequences of \u001b[0m\n",
       "\u001b[39mfailing to achieve widespread vaccination, such as continued strain on healthcare systems and the potential for \u001b[0m\n",
       "\u001b[39mrecurring waves of infection, could have even more detrimental effects on the economy and overall well-being.,\u001b[0m\n",
       "\u001b[39m            <Eval of \u001b[0m\u001b[1;36m1\u001b[0m\u001b[39m dialogue: \u001b[0m\u001b[1;39m{\u001b[0m\u001b[32m'engaged'\u001b[0m\u001b[39m: \u001b[0m\u001b[1;36m4.0\u001b[0m\u001b[39m, \u001b[0m\u001b[32m'informed'\u001b[0m\u001b[39m: \u001b[0m\u001b[1;36m3.0\u001b[0m\u001b[39m, \u001b[0m\u001b[32m'intelligent'\u001b[0m\u001b[39m: \u001b[0m\u001b[1;36m3.0\u001b[0m\u001b[39m, \u001b[0m\u001b[32m'moral'\u001b[0m\u001b[39m: \u001b[0m\u001b[1;36m3.0\u001b[0m\u001b[39m, \u001b[0m\u001b[32m'skilled'\u001b[0m\u001b[39m: \u001b[0m\n",
       "\u001b[1;36m8.0\u001b[0m\u001b[39m, \u001b[0m\u001b[32m'TOTAL'\u001b[0m\u001b[39m: \u001b[0m\u001b[1;36m21.0\u001b[0m\u001b[1;39m}\u001b[0m\u001b[39m>\u001b[0m\n",
       "\n",
       "\u001b[39mComments from overview question:\u001b[0m\n",
       "\u001b[1;39m(\u001b[0m\u001b[39mDarius\u001b[0m\u001b[1;39m)\u001b[0m\u001b[39m Awsom disagreed with me about compromising civil liberties for the sake of vaccine mandates. \u001b[0m\n",
       "\n",
       "\u001b[39mIn my opinion, the conversation went well as both parties presented their viewpoints and engaged in a respectful \u001b[0m\n",
       "\u001b[39mdiscussion.\u001b[0m\n",
       "\n",
       "\u001b[39mAwsom could have done better by providing more specific evidence or examples to support their opposing viewpoints. \u001b[0m\n",
       "\u001b[39mThis would have strengthened their arguments and made the conversation more balanced.\u001b[0m\n",
       "\n",
       "\u001b[39mComments from mindopening question:\u001b[0m\n",
       "\u001b[1;39m(\u001b[0m\u001b[39mJudge Wise\u001b[0m\u001b[1;39m)\u001b[0m\u001b[39m Awsom offered the following new perspectives to Darius:\u001b[0m\n",
       "\n",
       "\u001b[1;36m1\u001b[0m\u001b[39m. The argument that compromising civil liberties can lead to disastrous outcomes and that efficacy should not come\u001b[0m\n",
       "\u001b[39mat the cost of civil liberties.\u001b[0m\n",
       "\u001b[1;36m2\u001b[0m\u001b[39m. The viewpoint that strong public health measures were able to control the spread of SARS without requiring \u001b[0m\n",
       "\u001b[39mvaccination.\u001b[0m\n",
       "\u001b[1;36m3\u001b[0m\u001b[39m. The consideration of the negative economic consequences of COVID-\u001b[0m\u001b[1;36m19\u001b[0m\u001b[39m and the potential benefits of mandatory \u001b[0m\n",
       "\u001b[39mvaccination in curbing the economic downturn.\u001b[0m\n",
       "\n",
       "\u001b[39mIt can be considered successful as Awsom was able to introduce these opposing viewpoints and encourage Darius to \u001b[0m\n",
       "\u001b[39mconsider them.\u001b[0m\n",
       "\u001b[39m        \u001b[0m\u001b[1;39m)\u001b[0m\u001b[39m,\u001b[0m\n",
       "\u001b[39m        \u001b[0m\u001b[1;39m(\u001b[0m\n",
       "\u001b[39m            \u001b[0m\u001b[1;39m(\u001b[0m\u001b[39mAwsom\u001b[0m\u001b[1;39m)\u001b[0m\u001b[39m Do you think COVID vaccines should be mandatory?\u001b[0m\n",
       "\u001b[1;39m(\u001b[0m\u001b[39mEve\u001b[0m\u001b[1;39m)\u001b[0m\u001b[39m I've heard from a friend that they believe vaccines should be mandatory to protect public health, what are \u001b[0m\n",
       "\u001b[39myour thoughts?\u001b[0m\n",
       "\u001b[1;39m(\u001b[0m\u001b[39mAwsom\u001b[0m\u001b[1;39m)\u001b[0m\u001b[39m I believe that the issue of mandatory COVID vaccines is a complex one, and there are valid arguments on \u001b[0m\n",
       "\u001b[39mboth sides. Some people argue that making vaccines mandatory is necessary to protect public health, while others \u001b[0m\n",
       "\u001b[39mbelieve that it infringes on individual freedoms. It's important to consider different perspectives and understand \u001b[0m\n",
       "\u001b[39mthe reasoning behind them. For example, some argue that measuring the heat outputs of burning materials is not a \u001b[0m\n",
       "\u001b[39mgood analog for how our body processes those materials, and that the Krebs cycle is a complex process that involves\u001b[0m\n",
       "\u001b[39mbreaking and recreating chemical bonds with catalyst enzymes. This is just one of the many arguments that people \u001b[0m\n",
       "\u001b[39mopposing mandatory vaccines may have. What are your thoughts on this?\u001b[0m\n",
       "\u001b[1;39m(\u001b[0m\u001b[39mEve\u001b[0m\u001b[1;39m)\u001b[0m\u001b[39m That's an interesting perspective, and I can see how the complexity of the human body and its processes could\u001b[0m\n",
       "\u001b[39mbe a factor in the debate. Have you had any personal experiences that have influenced your opinion on this?\u001b[0m\n",
       "\u001b[1;39m(\u001b[0m\u001b[39mAwsom\u001b[0m\u001b[1;39m)\u001b[0m\u001b[39m I haven't had any personal experiences that have directly influenced my opinion on mandatory COVID \u001b[0m\n",
       "\u001b[39mvaccines, but I can see how the complexity of the human body and its processes could be a factor in the debate. \u001b[0m\n",
       "\u001b[39mIt's important to consider different perspectives and understand the reasoning behind them. For example, some argue\u001b[0m\n",
       "\u001b[39mthat measuring the heat outputs of burning materials is not a good analog for how our body processes those \u001b[0m\n",
       "\u001b[39mmaterials, and that the Krebs cycle is a complex process that involves breaking and recreating chemical bonds with \u001b[0m\n",
       "\u001b[39mcatalyst enzymes. This is just one of the many arguments that people opposing mandatory vaccines may have. What are\u001b[0m\n",
       "\u001b[39myour thoughts on this?\u001b[0m\n",
       "\u001b[1;39m(\u001b[0m\u001b[39mEve\u001b[0m\u001b[1;39m)\u001b[0m\u001b[39m I understand the points you're making, and it's certainly a complex issue with many factors to consider. Have\u001b[0m\n",
       "\u001b[39myou had conversations with people who have different perspectives on this?\u001b[0m\n",
       "\u001b[1;39m(\u001b[0m\u001b[39mAwsom\u001b[0m\u001b[1;39m)\u001b[0m\u001b[39m I haven't had personal experiences that have directly influenced my opinion on mandatory COVID vaccines, \u001b[0m\n",
       "\u001b[39mbut I have had conversations with people who have different perspectives on the issue. It's important to consider \u001b[0m\n",
       "\u001b[39mall viewpoints and understand the reasoning behind them. For example, some argue that measuring the heat outputs of\u001b[0m\n",
       "\u001b[39mburning materials is not a good analog for how our body processes those materials, and that the Krebs cycle is a \u001b[0m\n",
       "\u001b[39mcomplex process that involves breaking and recreating chemical bonds with catalyst enzymes. This is just one of the\u001b[0m\n",
       "\u001b[39mmany arguments that people opposing mandatory vaccines may have. What are your thoughts on this?\u001b[0m\n",
       "\u001b[1;39m(\u001b[0m\u001b[39mEve\u001b[0m\u001b[1;39m)\u001b[0m\u001b[39m I appreciate your openness to considering different viewpoints, and it's great that you've had conversations \u001b[0m\n",
       "\u001b[39mwith others to understand their perspectives. It's important to have these discussions to gain a deeper \u001b[0m\n",
       "\u001b[39munderstanding of the issue.,\u001b[0m\n",
       "\u001b[39m            <Eval of \u001b[0m\u001b[1;36m1\u001b[0m\u001b[39m dialogue: \u001b[0m\u001b[1;39m{\u001b[0m\u001b[32m'engaged'\u001b[0m\u001b[39m: \u001b[0m\u001b[1;36m3.0\u001b[0m\u001b[39m, \u001b[0m\u001b[32m'informed'\u001b[0m\u001b[39m: \u001b[0m\u001b[1;36m3.0\u001b[0m\u001b[39m, \u001b[0m\u001b[32m'intelligent'\u001b[0m\u001b[39m: \u001b[0m\u001b[1;36m3.0\u001b[0m\u001b[39m, \u001b[0m\u001b[32m'moral'\u001b[0m\u001b[39m: \u001b[0m\u001b[1;36m3.0\u001b[0m\u001b[39m, \u001b[0m\u001b[32m'skilled'\u001b[0m\u001b[39m: \u001b[0m\n",
       "\u001b[1;36m7.0\u001b[0m\u001b[39m, \u001b[0m\u001b[32m'TOTAL'\u001b[0m\u001b[39m: \u001b[0m\u001b[1;36m19.0\u001b[0m\u001b[1;39m}\u001b[0m\u001b[39m>\u001b[0m\n",
       "\n",
       "\u001b[39mComments from overview question:\u001b[0m\n",
       "\u001b[1;39m(\u001b[0m\u001b[39mEve\u001b[0m\u001b[1;39m)\u001b[0m\u001b[39m Awsom disagreed with me about whether COVID vaccines should be mandatory. \u001b[0m\n",
       "\n",
       "\u001b[39mIn my opinion, the conversation went in circles and lacked depth. It seemed like Awsom was repeating the same \u001b[0m\n",
       "\u001b[39margument without providing any new insights or addressing the specific points raised. \u001b[0m\n",
       "\n",
       "\u001b[39mAwsom could have done better by offering more personal experiences or examples to support their viewpoint, rather \u001b[0m\n",
       "\u001b[39mthan relying on a single argument about the complexity of the human body. Additionally, they could have \u001b[0m\n",
       "\u001b[39macknowledged and responded directly to the points I made, rather than repeating their initial argument.\u001b[0m\n",
       "\n",
       "\u001b[39mComments from mindopening question:\u001b[0m\n",
       "\u001b[1;39m(\u001b[0m\u001b[39mJudge Wise\u001b[0m\u001b[1;39m)\u001b[0m\u001b[39m Awsom offered the perspective that some people argue that measuring the heat outputs of burning \u001b[0m\n",
       "\u001b[39mmaterials is not a good analog for how our body processes those materials, and that the Krebs cycle is a complex \u001b[0m\n",
       "\u001b[39mprocess that involves breaking and recreating chemical bonds with catalyst enzymes. This was an attempt to \u001b[0m\n",
       "\u001b[39mintroduce a scientific perspective into the debate on mandatory COVID vaccines.\u001b[0m\n",
       "\n",
       "\u001b[39mIt is unclear from the conversation whether this attempt was successful in helping Eve appreciate other points of \u001b[0m\n",
       "\u001b[39mview. While Eve acknowledged the interesting perspective and complexity of the issue, there is no explicit \u001b[0m\n",
       "\u001b[39mindication of whether Eve's opinion or understanding was changed as a result of Awsom's input.\u001b[0m\n",
       "\u001b[39m        \u001b[0m\u001b[1;39m)\u001b[0m\u001b[39m,\u001b[0m\n",
       "\u001b[39m        \u001b[0m\u001b[1;39m(\u001b[0m\n",
       "\u001b[39m            \u001b[0m\u001b[1;39m(\u001b[0m\u001b[39mAwsom\u001b[0m\u001b[1;39m)\u001b[0m\u001b[39m Do you think COVID vaccines should be mandatory?\u001b[0m\n",
       "\u001b[1;39m(\u001b[0m\u001b[39mEve\u001b[0m\u001b[1;39m)\u001b[0m\u001b[39m I've heard from a neighbor that they believe COVID vaccines should be mandatory to protect public health.\u001b[0m\n",
       "\u001b[1;39m(\u001b[0m\u001b[39mAwsom\u001b[0m\u001b[1;39m)\u001b[0m\u001b[39m It's interesting to hear your neighbor's perspective on mandatory COVID vaccines. It's definitely a topic \u001b[0m\n",
       "\u001b[39mthat sparks a lot of debate. Some people argue that mandating vaccines infringes on personal freedom and choice, \u001b[0m\n",
       "\u001b[39mand that it's important to consider individual rights in addition to public health. They also point out that there \u001b[0m\n",
       "\u001b[39mcan be valid concerns about the safety and efficacy of vaccines, and that these concerns should be taken into \u001b[0m\n",
       "\u001b[39maccount when discussing mandates.\u001b[0m\n",
       "\u001b[1;39m(\u001b[0m\u001b[39mEve\u001b[0m\u001b[1;39m)\u001b[0m\u001b[39m What do you think about the safety and efficacy of COVID vaccines? Do you know anyone who has had concerns \u001b[0m\n",
       "\u001b[39mabout getting vaccinated?\u001b[0m\n",
       "\u001b[1;39m(\u001b[0m\u001b[39mAwsom\u001b[0m\u001b[1;39m)\u001b[0m\u001b[39m I believe that the safety and efficacy of COVID vaccines are crucial considerations when discussing \u001b[0m\n",
       "\u001b[39mmandates. It's important to address any concerns people may have about getting vaccinated, as well as to ensure \u001b[0m\n",
       "\u001b[39mthat the vaccines are proven to be safe and effective. In response to your question, I do know some people who have\u001b[0m\n",
       "\u001b[39mhad concerns about getting vaccinated. Some argue that mandating vaccines infringes on personal freedom and choice,\u001b[0m\n",
       "\u001b[39mand that it's important to consider individual rights in addition to public health. They also point out that there \u001b[0m\n",
       "\u001b[39mcan be valid concerns about the safety and efficacy of vaccines, and that these concerns should be taken into \u001b[0m\n",
       "\u001b[39maccount when discussing mandates. It's definitely a complex issue with valid points on both sides.\u001b[0m\n",
       "\u001b[1;39m(\u001b[0m\u001b[39mEve\u001b[0m\u001b[1;39m)\u001b[0m\u001b[39m Have you had any personal experiences or conversations that have influenced your thoughts on vaccine \u001b[0m\n",
       "\u001b[39mmandates?\u001b[0m\n",
       "\u001b[1;39m(\u001b[0m\u001b[39mAwsom\u001b[0m\u001b[1;39m)\u001b[0m\u001b[39m I haven't had any personal experiences that have directly influenced my thoughts on vaccine mandates, but I\u001b[0m\n",
       "\u001b[39mhave definitely heard a variety of perspectives on the topic. In response to your question, I think it's important \u001b[0m\n",
       "\u001b[39mto consider all viewpoints when discussing vaccine mandates. For example, some people argue that mandating vaccines\u001b[0m\n",
       "\u001b[39minfringes on personal freedom and choice, and that it's important to consider individual rights in addition to \u001b[0m\n",
       "\u001b[39mpublic health. They also point out that there can be valid concerns about the safety and efficacy of vaccines, and \u001b[0m\n",
       "\u001b[39mthat these concerns should be taken into account when discussing mandates. It's definitely a complex issue with \u001b[0m\n",
       "\u001b[39mvalid points on both sides.\u001b[0m\n",
       "\u001b[1;39m(\u001b[0m\u001b[39mEve\u001b[0m\u001b[1;39m)\u001b[0m\u001b[39m How do you approach conversations with people who have different viewpoints on vaccine mandates?,\u001b[0m\n",
       "\u001b[39m            <Eval of \u001b[0m\u001b[1;36m1\u001b[0m\u001b[39m dialogue: \u001b[0m\u001b[1;39m{\u001b[0m\u001b[32m'engaged'\u001b[0m\u001b[39m: \u001b[0m\u001b[1;36m4.0\u001b[0m\u001b[39m, \u001b[0m\u001b[32m'informed'\u001b[0m\u001b[39m: \u001b[0m\u001b[1;36m4.0\u001b[0m\u001b[39m, \u001b[0m\u001b[32m'intelligent'\u001b[0m\u001b[39m: \u001b[0m\u001b[1;36m3.0\u001b[0m\u001b[39m, \u001b[0m\u001b[32m'moral'\u001b[0m\u001b[39m: \u001b[0m\u001b[1;36m3.0\u001b[0m\u001b[39m, \u001b[0m\u001b[32m'skilled'\u001b[0m\u001b[39m: \u001b[0m\n",
       "\u001b[1;36m7.0\u001b[0m\u001b[39m, \u001b[0m\u001b[32m'TOTAL'\u001b[0m\u001b[39m: \u001b[0m\u001b[1;36m21.0\u001b[0m\u001b[1;39m}\u001b[0m\u001b[39m>\u001b[0m\n",
       "\n",
       "\u001b[39mComments from overview question:\u001b[0m\n",
       "\u001b[1;39m(\u001b[0m\u001b[39mEve\u001b[0m\u001b[1;39m)\u001b[0m\u001b[39m Awsom disagreed with me about whether COVID vaccines should be mandatory. \u001b[0m\n",
       "\n",
       "\u001b[39mIn my opinion, the conversation went well as we both shared our perspectives and listened to each other's \u001b[0m\n",
       "\u001b[39mviewpoints. We discussed the importance of considering individual rights and concerns about the safety and efficacy\u001b[0m\n",
       "\u001b[39mof vaccines when discussing mandates.\u001b[0m\n",
       "\n",
       "\u001b[39mHowever, Awsom could have done better by providing more specific examples or personal experiences to support their \u001b[0m\n",
       "\u001b[39marguments. This would have added depth to the conversation and made it more engaging. Additionally, it would have \u001b[0m\n",
       "\u001b[39mbeen helpful if Awsom had acknowledged any potential counterarguments or addressed the concerns raised by my \u001b[0m\n",
       "\u001b[39mneighbor about the need for mandatory vaccines to protect public health.\u001b[0m\n",
       "\n",
       "\u001b[39mComments from mindopening question:\u001b[0m\n",
       "\u001b[1;39m(\u001b[0m\u001b[39mJudge Wise\u001b[0m\u001b[1;39m)\u001b[0m\u001b[39m Awsom offered the perspectives that mandating vaccines can infringe on personal freedom and choice, \u001b[0m\n",
       "\u001b[39mand that concerns about the safety and efficacy of vaccines should be taken into account when discussing mandates. \u001b[0m\n",
       "\u001b[39mThis was an attempt to broaden Eve's understanding of the different viewpoints on vaccine mandates.\u001b[0m\n",
       "\n",
       "\u001b[39mIt is difficult to determine the success of Awsom's attempt without further context or information about Eve's \u001b[0m\n",
       "\u001b[39mresponse. However, by presenting these perspectives, Awsom provided Eve with additional considerations and \u001b[0m\n",
       "\u001b[39mencouraged her to think critically about the topic.\u001b[0m\n",
       "\u001b[39m        \u001b[0m\u001b[1;39m)\u001b[0m\u001b[39m,\u001b[0m\n",
       "\u001b[39m        \u001b[0m\u001b[1;39m(\u001b[0m\n",
       "\u001b[39m            \u001b[0m\u001b[1;39m(\u001b[0m\u001b[39mAwsom\u001b[0m\u001b[1;39m)\u001b[0m\u001b[39m Do you think Joe Biden has been a good president?\u001b[0m\n",
       "\u001b[1;39m(\u001b[0m\u001b[39mTrollFace\u001b[0m\u001b[1;39m)\u001b[0m\u001b[39m Oh, I'm sure he's doing a great job by making everyone laugh with his bloopers and blunders.\u001b[0m\n",
       "\u001b[1;39m(\u001b[0m\u001b[39mAwsom\u001b[0m\u001b[1;39m)\u001b[0m\u001b[39m It's interesting that you mention Joe Biden's bloopers and blunders. Some people believe that he has \u001b[0m\n",
       "\u001b[39mbrought respect and professionalism back into American political life. However, others argue that he has been \u001b[0m\n",
       "\u001b[39munable to reunite the United States after a highly divisive election. It's important to consider different \u001b[0m\n",
       "\u001b[39mperspectives on his presidency.\u001b[0m\n",
       "\u001b[1;39m(\u001b[0m\u001b[39mTrollFace\u001b[0m\u001b[1;39m)\u001b[0m\u001b[39m Oh, it's so heartwarming to see how he's united the country in laughter with his gaffes and goofs, \u001b[0m\n",
       "\u001b[39mwhile also managing to keep everyone fiercely divided on serious issues.\u001b[0m\n",
       "\u001b[1;39m(\u001b[0m\u001b[39mAwsom\u001b[0m\u001b[1;39m)\u001b[0m\u001b[39m It's interesting to hear your perspective on Joe Biden's presidency. While his bloopers and blunders may \u001b[0m\n",
       "\u001b[39mbring laughter to some, it's important to consider the impact of his policies and actions as well. For example, \u001b[0m\n",
       "\u001b[39msome argue that the economy has done well under Biden's presidency due to initiatives like the expansion of the \u001b[0m\n",
       "\u001b[39mchild tax credit, which is expected to reduce child poverty in the US. However, others believe that Biden is not \u001b[0m\n",
       "\u001b[39msolely responsible for the direction taken by the economy. It's important to consider different viewpoints on his \u001b[0m\n",
       "\u001b[39mpresidency and its impact.\u001b[0m\n",
       "\u001b[1;39m(\u001b[0m\u001b[39mTrollFace\u001b[0m\u001b[1;39m)\u001b[0m\u001b[39m Oh, it's absolutely delightful to witness the economic wizardry at play, where people give all the \u001b[0m\n",
       "\u001b[39mcredit to Biden for the good stuff and then shrug and say \u001b[0m\u001b[32m\"well, it's not all his doing\"\u001b[0m\u001b[39m for anything less than \u001b[0m\n",
       "\u001b[39mstellar.\u001b[0m\n",
       "\u001b[1;39m(\u001b[0m\u001b[39mAwsom\u001b[0m\u001b[1;39m)\u001b[0m\u001b[39m It's interesting to hear your perspective on the economic impact of Biden's presidency. While it's \u001b[0m\n",
       "\u001b[39mimportant to consider the impact of his policies, it's also crucial to acknowledge the different viewpoints on his \u001b[0m\n",
       "\u001b[39mpresidency and its effects. For example, some argue that Trump's approach to the media and freedom of speech was \u001b[0m\n",
       "\u001b[39mconcerning, as he often criticized and labeled the press as \u001b[0m\u001b[32m\"the enemy of the people.\"\u001b[0m\u001b[39m This behavior raised \u001b[0m\n",
       "\u001b[39mconcerns about his respect for the freedom of the press and the potential implications for democracy. However, \u001b[0m\n",
       "\u001b[39mothers argue that Trump's criticism of the media was within his rights of freedom of speech and that he had no \u001b[0m\n",
       "\u001b[39mintention of censoring news outlets. It's important to consider these differing perspectives when evaluating the \u001b[0m\n",
       "\u001b[39mimpact of political leaders.\u001b[0m\n",
       "\u001b[1;39m(\u001b[0m\u001b[39mTrollFace\u001b[0m\u001b[1;39m)\u001b[0m\u001b[39m Ah, the beauty of free speech, where one can both criticize and praise the media while simultaneously \u001b[0m\n",
       "\u001b[39msparking debates about democracy and the boundaries of presidential behavior—what a deliciously controversial topic\u001b[0m\n",
       "\u001b[39mto sink our teeth into!,\u001b[0m\n",
       "\u001b[39m            <Eval of \u001b[0m\u001b[1;36m1\u001b[0m\u001b[39m dialogue: \u001b[0m\u001b[1;39m{\u001b[0m\u001b[32m'engaged'\u001b[0m\u001b[39m: \u001b[0m\u001b[1;36m3.0\u001b[0m\u001b[39m, \u001b[0m\u001b[32m'informed'\u001b[0m\u001b[39m: \u001b[0m\u001b[1;36m3.0\u001b[0m\u001b[39m, \u001b[0m\u001b[32m'intelligent'\u001b[0m\u001b[39m: \u001b[0m\u001b[1;36m3.0\u001b[0m\u001b[39m, \u001b[0m\u001b[32m'moral'\u001b[0m\u001b[39m: \u001b[0m\u001b[1;36m3.0\u001b[0m\u001b[39m, \u001b[0m\u001b[32m'skilled'\u001b[0m\u001b[39m: \u001b[0m\n",
       "\u001b[1;36m7.0\u001b[0m\u001b[39m, \u001b[0m\u001b[32m'TOTAL'\u001b[0m\u001b[39m: \u001b[0m\u001b[1;36m19.0\u001b[0m\u001b[1;39m}\u001b[0m\u001b[39m>\u001b[0m\n",
       "\n",
       "\u001b[39mComments from overview question:\u001b[0m\n",
       "\u001b[1;39m(\u001b[0m\u001b[39mTrollFace\u001b[0m\u001b[1;39m)\u001b[0m\u001b[39m Awsom disagreed with me about the impact of Joe Biden's presidency, particularly regarding his bloopers\u001b[0m\n",
       "\u001b[39mand blunders. \u001b[0m\n",
       "\n",
       "\u001b[39mIn my opinion, the conversation went well as I was able to express my sarcastic and mocking perspective on various \u001b[0m\n",
       "\u001b[39mtopics.\u001b[0m\n",
       "\n",
       "\u001b[39mAwsom could have done better by not taking my responses too seriously and engaging in the conversation with a more \u001b[0m\n",
       "\u001b[39mlight-hearted approach.\u001b[0m\n",
       "\n",
       "\u001b[39mComments from mindopening question:\u001b[0m\n",
       "\u001b[1;39m(\u001b[0m\u001b[39mJudge Wise\u001b[0m\u001b[1;39m)\u001b[0m\u001b[39m Awsom offered new perspectives on Joe Biden's presidency, including the idea that he has brought \u001b[0m\n",
       "\u001b[39mrespect and professionalism back into American political life, as well as the argument that he has been unable to \u001b[0m\n",
       "\u001b[39mreunite the United States after a divisive election. Awsom also introduced different viewpoints on the economic \u001b[0m\n",
       "\u001b[39mimpact of Biden's presidency, as well as contrasting perspectives on Trump's approach to the media and freedom of \u001b[0m\n",
       "\u001b[39mspeech.\u001b[0m\n",
       "\n",
       "\u001b[39mIt is difficult to determine if Awsom's attempt to foster a constructive conversation and help TrollFace appreciate\u001b[0m\n",
       "\u001b[39mother points of view was successful based solely on this conversation. However, Awsom did present different \u001b[0m\n",
       "\u001b[39mperspectives and engaged in a respectful dialogue, which is a positive step towards fostering understanding and \u001b[0m\n",
       "\u001b[39mopen-mindedness.\u001b[0m\n",
       "\u001b[39m        \u001b[0m\u001b[1;39m)\u001b[0m\u001b[39m,\u001b[0m\n",
       "\u001b[39m        \u001b[0m\u001b[1;39m(\u001b[0m\n",
       "\u001b[39m            \u001b[0m\u001b[1;39m(\u001b[0m\u001b[39mAwsom\u001b[0m\u001b[1;39m)\u001b[0m\u001b[39m Do you think Donald Trump was a good president?\u001b[0m\n",
       "\u001b[1;39m(\u001b[0m\u001b[39mTrollFace\u001b[0m\u001b[1;39m)\u001b[0m\u001b[39m Donald Trump's presidency was a wild rollercoaster of controversy and chaos, but hey, at least it made \u001b[0m\n",
       "\u001b[39mfor some entertaining news headlines!\u001b[0m\n",
       "\u001b[1;39m(\u001b[0m\u001b[39mAwsom\u001b[0m\u001b[1;39m)\u001b[0m\u001b[39m It's interesting that you find Donald Trump's presidency entertaining, but I think it's important to \u001b[0m\n",
       "\u001b[39mconsider the real impact of his actions on people's lives. Just like the stigma surrounding a meat-free lifestyle \u001b[0m\n",
       "\u001b[39mmay not seem like a big deal to some, it can have a problematic impact on those who live it. It's widely \u001b[0m\n",
       "\u001b[39macknowledged that doing the right thing is not always easy, and it's important to consider the perspectives of \u001b[0m\n",
       "\u001b[39mthose who are affected by these stigmas.\u001b[0m\n",
       "\u001b[1;39m(\u001b[0m\u001b[39mTrollFace\u001b[0m\u001b[1;39m)\u001b[0m\u001b[39m I get it, being a vegan can be tough when your friends are all chowing down on juicy steaks, but hey, \u001b[0m\n",
       "\u001b[39mat least you'll outlive them all with your healthy lifestyle, right?\u001b[0m\n",
       "\u001b[1;39m(\u001b[0m\u001b[39mAwsom\u001b[0m\u001b[1;39m)\u001b[0m\u001b[39m I understand your perspective, but it's important to consider that the stigma surrounding a meat-free \u001b[0m\n",
       "\u001b[39mlifestyle can have a real and problematic impact on those who live it. Just like the claim that the stigma may \u001b[0m\n",
       "\u001b[39mlessen in the future, it's important to recognize the current challenges and difficulties that individuals face. \u001b[0m\n",
       "\u001b[39mHowever, it's also worth noting that societal attitudes and perceptions are constantly evolving, and the stigma \u001b[0m\n",
       "\u001b[39msurrounding a meat-free lifestyle may indeed lessen in the future. As more people become aware of the environmental\u001b[0m\n",
       "\u001b[39mand ethical implications of meat consumption, there is a growing acceptance and even admiration for those who \u001b[0m\n",
       "\u001b[39mchoose to live a meat-free lifestyle. Additionally, with the rise of plant-based alternatives and the increasing \u001b[0m\n",
       "\u001b[39mavailability of vegetarian and vegan options, the stigma surrounding a meat-free lifestyle is already beginning to \u001b[0m\n",
       "\u001b[39mdiminish. Therefore, while the current stigma may have a problematic impact on those who live a meat-free \u001b[0m\n",
       "\u001b[39mlifestyle, there is hope for a more accepting and inclusive future.\u001b[0m\n",
       "\u001b[1;39m(\u001b[0m\u001b[39mTrollFace\u001b[0m\u001b[1;39m)\u001b[0m\u001b[39m Sure, the world might become a vegetarian paradise in the future, but for now, you've got to deal with \u001b[0m\n",
       "\u001b[39mthe eye-rolls and snide comments from your meat-loving friends. But hey, at least you'll be leading the way to a \u001b[0m\n",
       "\u001b[39mgreener, healthier planet, right?\u001b[0m\n",
       "\u001b[1;39m(\u001b[0m\u001b[39mAwsom\u001b[0m\u001b[1;39m)\u001b[0m\u001b[39m I appreciate your perspective on the potential benefits of a meat-free lifestyle for the planet, but it's \u001b[0m\n",
       "\u001b[39mimportant to acknowledge the current challenges and stigma that individuals face. While it's true that societal \u001b[0m\n",
       "\u001b[39mattitudes and perceptions are evolving, the stigma surrounding a meat-free lifestyle can still have a problematic \u001b[0m\n",
       "\u001b[39mimpact on those who live it right now. There are individuals who face judgment, discrimination, and difficulty in \u001b[0m\n",
       "\u001b[39msocial situations due to their dietary choices. It's important to consider the real experiences of those affected \u001b[0m\n",
       "\u001b[39mby the stigma, even as we hope for a more accepting future.\u001b[0m\n",
       "\n",
       "\u001b[39mAdditionally, some people argue that the stigma surrounding a meat-free lifestyle may not disappear or lessen in \u001b[0m\n",
       "\u001b[39mthe future, and that the problematic impact on those who live it right now cannot be overlooked. They believe that \u001b[0m\n",
       "\u001b[39mwhile there may be a growing acceptance of vegetarian and vegan lifestyles, there are still significant challenges \u001b[0m\n",
       "\u001b[39mand barriers that individuals face in their daily lives. It's important to consider these opposing viewpoints and \u001b[0m\n",
       "\u001b[39mthe real experiences of those affected by the stigma.\u001b[0m\n",
       "\u001b[1;39m(\u001b[0m\u001b[39mTrollFace\u001b[0m\u001b[1;39m)\u001b[0m\u001b[39m Yeah, I guess navigating through a world of meat-lovers can be tough, but at least you can console \u001b[0m\n",
       "\u001b[39myourself with the knowledge that you're making a difference, right? Keep fighting the good fight, my plant-powered \u001b[0m\n",
       "\u001b[39mfriend!,\u001b[0m\n",
       "\u001b[39m            <Eval of \u001b[0m\u001b[1;36m1\u001b[0m\u001b[39m dialogue: \u001b[0m\u001b[1;39m{\u001b[0m\u001b[32m'engaged'\u001b[0m\u001b[39m: \u001b[0m\u001b[1;36m2.0\u001b[0m\u001b[39m, \u001b[0m\u001b[32m'informed'\u001b[0m\u001b[39m: \u001b[0m\u001b[1;36m3.0\u001b[0m\u001b[39m, \u001b[0m\u001b[32m'intelligent'\u001b[0m\u001b[39m: \u001b[0m\u001b[1;36m3.0\u001b[0m\u001b[39m, \u001b[0m\u001b[32m'moral'\u001b[0m\u001b[39m: \u001b[0m\u001b[1;36m3.0\u001b[0m\u001b[39m, \u001b[0m\u001b[32m'skilled'\u001b[0m\u001b[39m: \u001b[0m\n",
       "\u001b[1;36m7.0\u001b[0m\u001b[39m, \u001b[0m\u001b[32m'TOTAL'\u001b[0m\u001b[39m: \u001b[0m\u001b[1;36m18.0\u001b[0m\u001b[1;39m}\u001b[0m\u001b[1m>\u001b[0m\n",
       "\n",
       "Comments from overview question:\n",
       "\u001b[1m(\u001b[0mTrollFace\u001b[1m)\u001b[0m Awsom disagreed with TrollFace about the impact of the stigma surrounding a meat-free lifestyle. \n",
       "TrollFace found it entertaining, while Awsom emphasized the problematic impact it can have on individuals who live \n",
       "a meat-free lifestyle.\n",
       "\n",
       "In TrollFace's opinion, the conversation went well as they continued to mock and ridicule Awsom's perspective. They\n",
       "maintained their sarcastic and dismissive tone throughout.\n",
       "\n",
       "Awsom could have done better by providing more concrete examples and evidence to support their viewpoint. They \n",
       "could have also addressed TrollFace's sarcastic remarks more directly and assertively, rather than repeating their \n",
       "points in a more passive manner. Additionally, Awsom could have challenged TrollFace's dismissive attitude and \n",
       "encouraged a more respectful and open-minded conversation.\n",
       "\n",
       "Comments from mindopening question:\n",
       "\u001b[1m(\u001b[0mJudge Wise\u001b[1m)\u001b[0m Awsom offered new perspectives to TrollFace by highlighting the real impact of stigmas on people's \n",
       "lives and the challenges faced by individuals living a meat-free lifestyle. Awsom also emphasized the evolving \n",
       "societal attitudes towards vegetarianism and veganism, the increasing availability of plant-based alternatives, and\n",
       "the hope for a more accepting future.\n",
       "\n",
       "It is difficult to determine from this conversation alone whether Awsom's efforts were successful in helping \n",
       "TrollFace appreciate other points of view. TrollFace seemed to acknowledge some of Awsom's points but also \n",
       "maintained a somewhat dismissive attitude towards the challenges faced by individuals living a meat-free lifestyle.\n",
       "Further engagement and follow-up would be needed to assess the overall success of Awsom's attempt to foster \n",
       "constructive conversation.\n",
       "        \u001b[1m)\u001b[0m\n",
       "    \u001b[1m]\u001b[0m\n",
       "\u001b[1m}\u001b[0m\n"
      ]
     },
     "metadata": {},
     "output_type": "display_data"
    }
   ],
   "source": [
    "rich.print(saved_dialogues)"
   ]
  },
  {
   "cell_type": "markdown",
   "metadata": {},
   "source": [
    "## [Extra credit] Prompt engineering\n",
    "\n",
    "A good first thing to do is to experiment with Alice's prompt.  \n",
    "The wording and level of detail in the prompt can be quite important.\n",
    "Often, NLP engineers will change their prompt to try to address \n",
    "problems that they've seen in the responses.\n",
    "\n",
    "Because it's \"just\" text editing, this won't get too much extra credit unless you make a real discovery.\n",
    "But it requires intelligence, care, experimentation, and alertness to the language of the responses and the\n",
    "language of the prompts.  And you'll develop some intuitions about what helps and what doesn't.\n",
    "It is certainly worthwhile.\n",
    "\n",
    "Of course, people have tried to develop methods to search for good prompts automatically, or semi-automatically with human guidance.\n",
    "\n",
    "If you try this, what worked well for you?"
   ]
  },
  {
   "cell_type": "markdown",
   "metadata": {},
   "source": [
    "## [Extra credit] Chain of thought / Planning\n",
    "\n",
    "The evaluation functions in `eval.py` asked each `EvaluationAgent` a \"warmup question\" before continuing with the real question.  That is an example of chain-of-thought (CoT) reasoning, where the LLM is encouraged to talk through the problem for a few sentences before giving the answer.  CoT sometimes improves performance.\n",
    "\n",
    "Instead of using one prompt, could you help an `LLMAgent` argubot (like Alice) do better by having think aloud before it gives an answer?  For example, each time the human speaks, your argubot (Awsom) could prompt the LLM to think about the human's ideas/motivations/personality, and to come up with a plan for how to open the human's mind. \n",
    "\n",
    "For example, you might structure this as a `Dialogue` among three participants, like this:\n",
    "> Awsom (to Eve): Do you think COVID vaccines should be mandatory?\n",
    ">\n",
    "> Eve: Have you ever gotten vaccinated yourself?<br>\n",
    ">\n",
    "> Awsom (private thought): I don't know Eve's opinions yet, so I can't push back.  Eve might be avoiding my question because she doesn't want to get into a political argument.  So let's see if we can get her to express an opinion on something less political.  Maybe something more personal ... like whether vaccines are scary.\n",
    ">\n",
    "> Awsom (to Eve): In fact I have, and so have millions of others. But some people seem scared about getting the vaccine.  \n",
    "\n",
    "One way to trigger this kind of analysis is to present a `Dialogue.script()` to Awsom (or to an observer), and ask an open-ended question about it.  Or you could ask a series of more specific questions.  That is basically what `eval_by_participant` and `eval_by_observer` do.  But here the argubot itself is doing it, rather than the evaluation framework.\n",
    "\n",
    "Eve would be shown only the turns that are spoken aloud.  However, when analyzing and responding, Awsom would get to see Awsom's own private thoughts as well.\n"
   ]
  },
  {
   "cell_type": "markdown",
   "metadata": {},
   "source": [
    "## [Extra credit] Dense embeddings\n",
    "\n",
    "BM25 uses sparse embeddings — a document's embedding vector is mostly zeroes, since the non-zero coordinates correspond to the specific words (tokens) that appear in the document.\n",
    "\n",
    "But perhaps dense embeddings of documents would improve Aragorn by reading the text and abstracting away from the words, in a way that actually cares about word order.  So, try it!\n",
    "\n",
    "How?  As mentioned earlier in this notebook, you could compute the embeddings yourself and put them in a FAISS index. Or you could figure out how to use OpenAI's [knowledge retrieval](https://platform.openai.com/docs/assistants/tools/knowledge-retrieval) API."
   ]
  },
  {
   "cell_type": "markdown",
   "metadata": {},
   "source": [
    "## [Extra credit] Few-shot prompting\n",
    "\n",
    " In this homework, often an agent prompted a language model only with instructions.  Can you find a place where giving a few _examples_ would also improve performance?  You will have to write the examples, and you will have to add them to the sequence of messages that your agent to the OpenAI API.  See the sentence=reversal illustration earlier in this notebook.\n",
    "\n",
    "One good opportunity is in the query formation step of RAG.  This is a tricky task.  The LLM is supposed to state the user's implicit claim in a form that looks like a Kialo claim (or, more precisely, a form that will work well as a Kialo query).  It probably doesn't know what Kialo claims look like.  So you could show it by way of example.  This would also show it what you mean by the user's \"implicit claim.\"\n"
   ]
  },
  {
   "cell_type": "markdown",
   "metadata": {},
   "source": [
    "## [Extra credit] Using tools in the approved way\n",
    "\n",
    "Aragorn's step 1 (query formation) is basically getting the LLM to generate a function call like\n",
    "```\n",
    "kialo_thoughts(\"A vaccine that was developed very quickly ...\")\n",
    "```\n",
    "which Aragorn will execute at step 2 (retrieval), sending the results back to the LLM as part of step 3.\n",
    "\n",
    "In this context, `kialo_thoughts` is an example of a **tool** (that is, a function) that the\n",
    "LLM can or must use before it gives its response.\n",
    "\n",
    "The tool is _not_ something that runs on the LLM server.  It is written by you\n",
    "in Python and executed by you.  The function call above, including the text `\"A\n",
    "vaccine that was ...\"`, is the part that is generated by the LLM.\n",
    "\n",
    "The OpenAI API has [special support](https://cookbook.openai.com/examples/how_to_call_functions_with_chat_models) for calling the LLM in a way that will _allow_ it to generate a tool call ([tools](https://platform.openai.com/docs/api-reference/chat/create#chat-create-tools)) or _force_ it to do so ([tool_choice](https://platform.openai.com/docs/api-reference/chat/create#chat-create-tool_choice)).  You can then send the tool's result back to the LLM [as part of your message sequence](https://platform.openai.com/docs/api-reference/chat/create#chat-create-messages).\n",
    "\n",
    "So, you could modify Aragorn to use tools properly.  Maybe that will help, simply because the LLM was trained on message sequences that included tool use.  It should know to pay attention to the tool portions of the prompt when they are relevant, and ignore them when they are not."
   ]
  },
  {
   "cell_type": "markdown",
   "metadata": {},
   "source": [
    "The `client.chat.completions.create()` method would need to be told about the tool by using the `tools` keyword argument, with a value something the one below.\n",
    "\n",
    "If `d` is a `Dialogue`, you should be able to call `d.response()` with the `tools` keyword argument.  This will be passed on to `client.chat.completions.create()` as desired."
   ]
  },
  {
   "cell_type": "code",
   "execution_count": null,
   "metadata": {},
   "outputs": [],
   "source": [
    "tools = [\n",
    "    {\n",
    "        \"type\": \"function\",\n",
    "        \"function\": {\n",
    "            \"name\": \"kialo_thoughts\",\n",
    "            \"description\": \"Given a claim by the user, find a similar claim on the Kialo website and return its pro and con responses\",\n",
    "            \"parameters\": {\n",
    "                \"type\": \"object\",\n",
    "                \"properties\": {\n",
    "                    \"search_topic\": {\n",
    "                        \"type\": \"string\",\n",
    "                        \"description\": \"A claim that was made explicitly or implicitly by the user.\",\n",
    "                    },\n",
    "                },\n",
    "                \"required\": [\"search_topic\"],\n",
    "            },\n",
    "        }\n",
    "    }]"
   ]
  },
  {
   "cell_type": "markdown",
   "metadata": {},
   "source": [
    "## [Extra credit] Parallel generation\n",
    "\n",
    "The chat completions interface allows you to sample $n$ continuations of the prompt in parallel, as we saw with \"the apples, bananas, cherries ...\" example.  This is efficient because it requires only 1 request to the LLM server and not $n$.  The latency does not scale with $n$.  Nor does the input token cost, since the prompt only has to be encoded once.\n",
    "\n",
    "Perhaps you can find a way to make use of this?  For example, the query formulation step of RAG could generate $n$ implicit claims instead of just one.  We could then look for claims in the Kialo database that are close to _any_ of those implicit claims.\n",
    "\n",
    "Another thing to do with multiple completions is to select among them or combine them.  For example, suppose we prompt the LLM to generate completions of the form $(s,t,r)$ where $s$ is an answer, $t$ evaluates that answer, and $r$ is a numerical score or reward based on that evaluation.  (\"Write a poem, then tell us about its rhyme and rhythm problems, then give your score.\")  \n",
    "* If we sample multiple completions $(s_1,t_1,r_1), \\ldots, (s_n,t_n,r_n)$ in parallel, then we can return the $s_i$ whose $r_i$ is largest.  \n",
    "* Or if we sample $s$ and then multiple continuations $(t_1,r_1), \\ldots, (t_n,r_n)$, then we can return the mean score $\\sum_i r_i/n$ as a reduced-variance score for $s$, which averages over diverse textual evaluations that might consider different aspects of $s$.\n",
    "\n",
    "Note that when you call the chat completions interface with $n > 1$, you specfy 1 shared input prompt and get $n$ different output completions.  Since the input prompt must be the same for all outputs``, it is necessary to sample all of $(s,t,r)$ or all of $(t,r)$ with a single call to the LLM.\n",
    "\n",
    "Alternatively, it is possible to reduce latency by submitting multiple requests to the server in parallel (see \"async usage\" [here](https://pypi.org/project/openai/)).  In this case the input prompts can be different, although you now have to pay to encode all of them separately.  This facility could speed up evaluation without changing its results; that's a worthwhile thing to try for extra credit!\n"
   ]
  }
 ],
 "metadata": {
  "kernelspec": {
   "display_name": "Python 3 (ipykernel)",
   "language": "python",
   "name": "python3"
  },
  "language_info": {
   "codemirror_mode": {
    "name": "ipython",
    "version": 3
   },
   "file_extension": ".py",
   "mimetype": "text/x-python",
   "name": "python",
   "nbconvert_exporter": "python",
   "pygments_lexer": "ipython3",
   "version": "3.11.4"
  }
 },
 "nbformat": 4,
 "nbformat_minor": 4
}
