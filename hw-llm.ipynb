{
 "cells": [
  {
   "cell_type": "markdown",
   "metadata": {},
   "source": [
    "# Homework 7: Large Language Models\n",
    "\n",
    "An PDF overview of the homework is [here](https://www.cs.jhu.edu/~jason/465/hw-llm/).\n",
    "\n",
    "It mentions: \"We'll send hand-in instructions soon.  Probably we will ask you to submit a version\n",
    "of the main notebook, with your answers added and extraneous materials deleted. We may also\n",
    "ask for a summary.\"\n",
    "\n",
    "![image](handin.png)\n",
    "This symbol marks a question or exercise that you will be expected to hand in."
   ]
  },
  {
   "cell_type": "markdown",
   "metadata": {},
   "source": [
    "\n",
    "# Getting started\n",
    "\n",
    "## Update `conda` environment\n",
    "\n",
    "Download the updated [nlp-class.yml](http://cs.jhu.edu/~jason/465/hw-llm/nlp-class.yml) file, and execute\n",
    "```\n",
    "conda env update --file nlp-class.yml --prune\n",
    "```\n",
    "to make sure that all the packages you need are installed."
   ]
  },
  {
   "cell_type": "markdown",
   "metadata": {},
   "source": [
    "## Fetch code and data files for this homework\n",
    "\n",
    "These files may get improved after the homework is released, so you should probably re-download them periodically.\n",
    "\n",
    "Here is a command you can type.  We won't put it in a code cell, because we don't want you to execute it accidentally in the current directory and overwrite your own changes.  (Actually, it will not overwrite your versions of the files — they will be renamed with names like `argubots.py.1`.)\n",
    "\n",
    "```\n",
    "!wget --quiet -r -np -nH --cut-dirs=3 -A '*.txt' -A '*.py' -A 'demo.ipynb' -A '*.png' https://www.cs.jhu.edu/~jason/465/hw-llm/\n",
    "!rm -f data/*.1 *.png.1 robots.txt   # remove any backup versions of the static files\n",
    "```"
   ]
  },
  {
   "cell_type": "code",
   "execution_count": 29,
   "metadata": {},
   "outputs": [
    {
     "name": "stdout",
     "output_type": "stream",
     "text": [
      "-rw-r--r--@ 1 mpark  staff  19652 Dec 12 12:54 agents.py\n",
      "-rw-r--r--@ 1 mpark  staff  37154 Dec 12 15:16 argubots.py\n",
      "-rw-r--r--@ 1 mpark  staff   2832 Dec 12 12:54 characters.py\n",
      "-rw-r--r--@ 1 mpark  staff   2641 Dec 12 12:54 dialogue.py\n",
      "-rw-r--r--@ 1 mpark  staff  16176 Dec 12 15:16 eval.py\n",
      "-rw-r--r--@ 1 mpark  staff  14012 Dec 12 12:54 eval2.py\n",
      "-rw-r--r--@ 1 mpark  staff  14910 Dec 12 12:54 kialo.py\n",
      "-rw-r--r--@ 1 mpark  staff   1347 Dec 12 12:54 logging_cm.py\n",
      "-rw-r--r--@ 1 mpark  staff   1529 Dec 12 12:54 simulate.py\n",
      "-rw-r--r--@ 1 mpark  staff   4274 Dec 12 12:54 tracking.py\n",
      "\n",
      "data:\n",
      "total 4512\n",
      "-rw-r--r--@ 1 mpark  staff     407 Dec 12 12:54 LICENSE\n",
      "-rw-r--r--@ 1 mpark  staff  613106 Dec 12 12:54 all-humans-should-be-vegan-2762.txt\n",
      "-rw-r--r--@ 1 mpark  staff   81917 Dec 12 12:54 have-authoritarian-governments-handled-covid-19-better-than-others-54145.txt\n",
      "-rw-r--r--@ 1 mpark  staff   52771 Dec 12 12:54 is-biden-an-incompetent-president-44217.txt\n",
      "-rw-r--r--@ 1 mpark  staff  153551 Dec 12 12:54 is-joe-biden-a-good-president-53071.txt\n",
      "-rw-r--r--@ 1 mpark  staff   60556 Dec 12 12:54 is-joe-biden-better-than-donald-trump-39949.txt\n",
      "-rw-r--r--@ 1 mpark  staff  113781 Dec 12 12:54 should-covid-19-vaccines-be-mandatory-39517.txt\n",
      "-rw-r--r--@ 1 mpark  staff   19702 Dec 12 12:54 should-enforcing-a-vegan-diet-on-children-be-condemned-as-child-abuse-33850.txt\n",
      "-rw-r--r--@ 1 mpark  staff    6615 Dec 12 12:54 should-people-go-vegan-if-they-can-31640.txt\n",
      "-rw-r--r--@ 1 mpark  staff   18637 Dec 12 12:54 should-schools-close-during-the-covid-19-pandemic-44845.txt\n",
      "-rw-r--r--@ 1 mpark  staff  704648 Dec 12 12:54 the-ethics-of-eating-animals-is-eating-meat-wrong-1229.txt\n",
      "-rw-r--r--@ 1 mpark  staff  376707 Dec 12 12:54 was-donald-trump-a-good-president-6079.txt\n",
      "-rw-r--r--@ 1 mpark  staff   87301 Dec 12 12:54 was-trump-a-good-president-3295.txt\n"
     ]
    }
   ],
   "source": [
    "!ls -lR *.py data"
   ]
  },
  {
   "cell_type": "markdown",
   "metadata": {},
   "source": [
    "\n",
    "The `autoimport` feature of Jupyter ensures that if an imported module (.py file) changes, the notebook will automatically import the new version.  \n",
    "(However, objects that were defined with the old version of the class won't change.)"
   ]
  },
  {
   "cell_type": "code",
   "execution_count": 30,
   "metadata": {},
   "outputs": [
    {
     "name": "stdout",
     "output_type": "stream",
     "text": [
      "The autoreload extension is already loaded. To reload it, use:\n",
      "  %reload_ext autoreload\n"
     ]
    }
   ],
   "source": [
    "# Executing this cell does some magic that makes \n",
    "%load_ext autoreload\n",
    "%autoreload 2"
   ]
  },
  {
   "cell_type": "markdown",
   "metadata": {},
   "source": [
    "## Create an OpenAI client"
   ]
  },
  {
   "cell_type": "markdown",
   "metadata": {},
   "source": [
    "An OpenAI API key will be sent to you.\n",
    "Make an `.env` file in the same directory as this notebook, containing the following:\n",
    "```\n",
    "export OPENAI_API_KEY=[your API key]    # do not include the brackets here\n",
    "```\n",
    "Make sure others can't read this file:\n",
    "```\n",
    "chmod 600 .env\n",
    "```\n",
    "\n",
    "**Be sure to keep the key secret.  It gives access to a billable account.** If OpenAI finds it on the public web, they will invalidate it, and then no one (including you) can use this key to make requests anymore.\n",
    "\n",
    "Now you can execute the following to get an OpenAI client object."
   ]
  },
  {
   "cell_type": "code",
   "execution_count": 31,
   "metadata": {},
   "outputs": [],
   "source": [
    "import dotenv\n",
    "import openai\n",
    "from tracking import track_usage, read_usage\n",
    "\n",
    "dotenv.load_dotenv(override=True)      # define environment variables from .env\n",
    "client = track_usage(openai.OpenAI())  # create a client, modified to record its usage to a local file \n",
    "\n",
    "# Or use our tracking module to do the above for you, like this:\n",
    "\n",
    "# from tracking import default_client\n",
    "# client = default_client\n",
    "\n"
   ]
  },
  {
   "cell_type": "markdown",
   "metadata": {},
   "source": [
    "The job of the client is to talk to the OpenAI server over HTTP.\n",
    "The `OpenAI` constructor has some optional arguments that configure these HTTP messages.\n",
    "However, the defaults should work fine for you.  "
   ]
  },
  {
   "cell_type": "markdown",
   "metadata": {},
   "source": [
    "## Try the model!\n",
    "\n",
    "You can now get answers from OpenAI models by calling methods of the `client` instance.  \n",
    "You will have to specify which OpenAI model to use.\n",
    "Documentation of the methods is [here](https://pypi.org/project/openai/) if you are curious."
   ]
  },
  {
   "cell_type": "markdown",
   "metadata": {},
   "source": [
    "### Continue a textual prompt\n",
    "\n",
    "This is what language models excel at.  In principle you should do it by calling [`client.completions.create`](https://platform.openai.com/docs/api-reference/completions/create?lang=python).  But OpenAI's newer models don't support that legacy API, and the older ones are being [retired in January 2024](https://openai.com/blog/gpt-4-api-general-availability).  So we'll use the more modern API, [`client.chat.completions.create`](https://platform.openai.com/docs/api-reference/chat/create?lang=python)."
   ]
  },
  {
   "cell_type": "code",
   "execution_count": 32,
   "metadata": {},
   "outputs": [
    {
     "data": {
      "text/html": [
       "<pre style=\"white-space:pre;overflow-x:auto;line-height:normal;font-family:Menlo,'DejaVu Sans Mono',consolas,'Courier New',monospace\"><span style=\"color: #800080; text-decoration-color: #800080; font-weight: bold\">ChatCompletion</span><span style=\"font-weight: bold\">(</span>\n",
       "    <span style=\"color: #808000; text-decoration-color: #808000\">id</span>=<span style=\"color: #008000; text-decoration-color: #008000\">'chatcmpl-8V6nSdL0JEiLn0tP8RH4YCyrdnZYe'</span>,\n",
       "    <span style=\"color: #808000; text-decoration-color: #808000\">choices</span>=<span style=\"font-weight: bold\">[</span>\n",
       "        <span style=\"color: #800080; text-decoration-color: #800080; font-weight: bold\">Choice</span><span style=\"font-weight: bold\">(</span>\n",
       "            <span style=\"color: #808000; text-decoration-color: #808000\">finish_reason</span>=<span style=\"color: #008000; text-decoration-color: #008000\">'stop'</span>,\n",
       "            <span style=\"color: #808000; text-decoration-color: #808000\">index</span>=<span style=\"color: #008080; text-decoration-color: #008080; font-weight: bold\">0</span>,\n",
       "            <span style=\"color: #808000; text-decoration-color: #808000\">message</span>=<span style=\"color: #800080; text-decoration-color: #800080; font-weight: bold\">ChatCompletionMessage</span><span style=\"font-weight: bold\">(</span>\n",
       "                <span style=\"color: #808000; text-decoration-color: #808000\">content</span>=<span style=\"color: #008000; text-decoration-color: #008000\">'Mercury, Venus, Earth, Mars, Jupiter, Saturn, Uranus, Neptune'</span>,\n",
       "                <span style=\"color: #808000; text-decoration-color: #808000\">role</span>=<span style=\"color: #008000; text-decoration-color: #008000\">'assistant'</span>,\n",
       "                <span style=\"color: #808000; text-decoration-color: #808000\">function_call</span>=<span style=\"color: #800080; text-decoration-color: #800080; font-style: italic\">None</span>,\n",
       "                <span style=\"color: #808000; text-decoration-color: #808000\">tool_calls</span>=<span style=\"color: #800080; text-decoration-color: #800080; font-style: italic\">None</span>\n",
       "            <span style=\"font-weight: bold\">)</span>\n",
       "        <span style=\"font-weight: bold\">)</span>\n",
       "    <span style=\"font-weight: bold\">]</span>,\n",
       "    <span style=\"color: #808000; text-decoration-color: #808000\">created</span>=<span style=\"color: #008080; text-decoration-color: #008080; font-weight: bold\">1702424986</span>,\n",
       "    <span style=\"color: #808000; text-decoration-color: #808000\">model</span>=<span style=\"color: #008000; text-decoration-color: #008000\">'gpt-3.5-turbo-1106'</span>,\n",
       "    <span style=\"color: #808000; text-decoration-color: #808000\">object</span>=<span style=\"color: #008000; text-decoration-color: #008000\">'chat.completion'</span>,\n",
       "    <span style=\"color: #808000; text-decoration-color: #808000\">system_fingerprint</span>=<span style=\"color: #008000; text-decoration-color: #008000\">'fp_eeff13170a'</span>,\n",
       "    <span style=\"color: #808000; text-decoration-color: #808000\">usage</span>=<span style=\"color: #800080; text-decoration-color: #800080; font-weight: bold\">CompletionUsage</span><span style=\"font-weight: bold\">(</span><span style=\"color: #808000; text-decoration-color: #808000\">completion_tokens</span>=<span style=\"color: #008080; text-decoration-color: #008080; font-weight: bold\">17</span>, <span style=\"color: #808000; text-decoration-color: #808000\">prompt_tokens</span>=<span style=\"color: #008080; text-decoration-color: #008080; font-weight: bold\">20</span>, <span style=\"color: #808000; text-decoration-color: #808000\">total_tokens</span>=<span style=\"color: #008080; text-decoration-color: #008080; font-weight: bold\">37</span><span style=\"font-weight: bold\">)</span>\n",
       "<span style=\"font-weight: bold\">)</span>\n",
       "</pre>\n"
      ],
      "text/plain": [
       "\u001b[1;35mChatCompletion\u001b[0m\u001b[1m(\u001b[0m\n",
       "    \u001b[33mid\u001b[0m=\u001b[32m'chatcmpl-8V6nSdL0JEiLn0tP8RH4YCyrdnZYe'\u001b[0m,\n",
       "    \u001b[33mchoices\u001b[0m=\u001b[1m[\u001b[0m\n",
       "        \u001b[1;35mChoice\u001b[0m\u001b[1m(\u001b[0m\n",
       "            \u001b[33mfinish_reason\u001b[0m=\u001b[32m'stop'\u001b[0m,\n",
       "            \u001b[33mindex\u001b[0m=\u001b[1;36m0\u001b[0m,\n",
       "            \u001b[33mmessage\u001b[0m=\u001b[1;35mChatCompletionMessage\u001b[0m\u001b[1m(\u001b[0m\n",
       "                \u001b[33mcontent\u001b[0m=\u001b[32m'Mercury, Venus, Earth, Mars, Jupiter, Saturn, Uranus, Neptune'\u001b[0m,\n",
       "                \u001b[33mrole\u001b[0m=\u001b[32m'assistant'\u001b[0m,\n",
       "                \u001b[33mfunction_call\u001b[0m=\u001b[3;35mNone\u001b[0m,\n",
       "                \u001b[33mtool_calls\u001b[0m=\u001b[3;35mNone\u001b[0m\n",
       "            \u001b[1m)\u001b[0m\n",
       "        \u001b[1m)\u001b[0m\n",
       "    \u001b[1m]\u001b[0m,\n",
       "    \u001b[33mcreated\u001b[0m=\u001b[1;36m1702424986\u001b[0m,\n",
       "    \u001b[33mmodel\u001b[0m=\u001b[32m'gpt-3.5-turbo-1106'\u001b[0m,\n",
       "    \u001b[33mobject\u001b[0m=\u001b[32m'chat.completion'\u001b[0m,\n",
       "    \u001b[33msystem_fingerprint\u001b[0m=\u001b[32m'fp_eeff13170a'\u001b[0m,\n",
       "    \u001b[33musage\u001b[0m=\u001b[1;35mCompletionUsage\u001b[0m\u001b[1m(\u001b[0m\u001b[33mcompletion_tokens\u001b[0m=\u001b[1;36m17\u001b[0m, \u001b[33mprompt_tokens\u001b[0m=\u001b[1;36m20\u001b[0m, \u001b[33mtotal_tokens\u001b[0m=\u001b[1;36m37\u001b[0m\u001b[1m)\u001b[0m\n",
       "\u001b[1m)\u001b[0m\n"
      ]
     },
     "metadata": {},
     "output_type": "display_data"
    },
    {
     "data": {
      "text/html": [
       "<pre style=\"white-space:pre;overflow-x:auto;line-height:normal;font-family:Menlo,'DejaVu Sans Mono',consolas,'Courier New',monospace\"><span style=\"font-weight: bold\">[</span>\n",
       "    <span style=\"color: #800080; text-decoration-color: #800080; font-weight: bold\">Choice</span><span style=\"font-weight: bold\">(</span>\n",
       "        <span style=\"color: #808000; text-decoration-color: #808000\">finish_reason</span>=<span style=\"color: #008000; text-decoration-color: #008000\">'stop'</span>,\n",
       "        <span style=\"color: #808000; text-decoration-color: #808000\">index</span>=<span style=\"color: #008080; text-decoration-color: #008080; font-weight: bold\">0</span>,\n",
       "        <span style=\"color: #808000; text-decoration-color: #808000\">message</span>=<span style=\"color: #800080; text-decoration-color: #800080; font-weight: bold\">ChatCompletionMessage</span><span style=\"font-weight: bold\">(</span>\n",
       "            <span style=\"color: #808000; text-decoration-color: #808000\">content</span>=<span style=\"color: #008000; text-decoration-color: #008000\">'Mercury, Venus, Earth, Mars, Jupiter, Saturn, Uranus, Neptune'</span>,\n",
       "            <span style=\"color: #808000; text-decoration-color: #808000\">role</span>=<span style=\"color: #008000; text-decoration-color: #008000\">'assistant'</span>,\n",
       "            <span style=\"color: #808000; text-decoration-color: #808000\">function_call</span>=<span style=\"color: #800080; text-decoration-color: #800080; font-style: italic\">None</span>,\n",
       "            <span style=\"color: #808000; text-decoration-color: #808000\">tool_calls</span>=<span style=\"color: #800080; text-decoration-color: #800080; font-style: italic\">None</span>\n",
       "        <span style=\"font-weight: bold\">)</span>\n",
       "    <span style=\"font-weight: bold\">)</span>\n",
       "<span style=\"font-weight: bold\">]</span>\n",
       "</pre>\n"
      ],
      "text/plain": [
       "\u001b[1m[\u001b[0m\n",
       "    \u001b[1;35mChoice\u001b[0m\u001b[1m(\u001b[0m\n",
       "        \u001b[33mfinish_reason\u001b[0m=\u001b[32m'stop'\u001b[0m,\n",
       "        \u001b[33mindex\u001b[0m=\u001b[1;36m0\u001b[0m,\n",
       "        \u001b[33mmessage\u001b[0m=\u001b[1;35mChatCompletionMessage\u001b[0m\u001b[1m(\u001b[0m\n",
       "            \u001b[33mcontent\u001b[0m=\u001b[32m'Mercury, Venus, Earth, Mars, Jupiter, Saturn, Uranus, Neptune'\u001b[0m,\n",
       "            \u001b[33mrole\u001b[0m=\u001b[32m'assistant'\u001b[0m,\n",
       "            \u001b[33mfunction_call\u001b[0m=\u001b[3;35mNone\u001b[0m,\n",
       "            \u001b[33mtool_calls\u001b[0m=\u001b[3;35mNone\u001b[0m\n",
       "        \u001b[1m)\u001b[0m\n",
       "    \u001b[1m)\u001b[0m\n",
       "\u001b[1m]\u001b[0m\n"
      ]
     },
     "metadata": {},
     "output_type": "display_data"
    },
    {
     "data": {
      "text/html": [
       "<pre style=\"white-space:pre;overflow-x:auto;line-height:normal;font-family:Menlo,'DejaVu Sans Mono',consolas,'Courier New',monospace\">Mercury, Venus, Earth, Mars, Jupiter, Saturn, Uranus, Neptune\n",
       "</pre>\n"
      ],
      "text/plain": [
       "Mercury, Venus, Earth, Mars, Jupiter, Saturn, Uranus, Neptune\n"
      ]
     },
     "metadata": {},
     "output_type": "display_data"
    }
   ],
   "source": [
    "import rich   # prettyprinting\n",
    "\n",
    "response = client.chat.completions.create(messages=[{\"role\": \"user\", \n",
    "                                                     \"content\": \"Q: Name the planets in the solar system?\\nA: \"}], \n",
    "                                          model=\"gpt-3.5-turbo-1106\",  # which model to use\n",
    "                                          temperature=1,               # get a little variety\n",
    "                                          max_tokens=64,               # limit on length of result\n",
    "                                          stop=[\"Q:\", \"\\n\"])           # treat these as EOS symbols\n",
    "rich.print(response)                              # the full object that was sent back from the server\n",
    "rich.print(response.choices)                      # just the list of 1 answer (the default, but calling with n=5 would give 5 answers) \n",
    "rich.print(response.choices[0].message.content)   # extract the good stuff from that 1 answer"
   ]
  },
  {
   "cell_type": "markdown",
   "metadata": {},
   "source": [
    "![image](handin.png)\n",
    "Try running the cell above a few times. You may get different random answers — especially because the call specifies temperature 1.  (The default temperature is rumored to be 0.8.) Are the answers all equally good?\n",
    "\n",
    "```\n",
    "The planets in the solar system are Mercury, Venus, Earth, Mars, Jupiter, Saturn, Uranus, and Neptune.\n",
    "\n",
    "Mercury, Venus, Earth, Mars, Jupiter, Saturn, Uranus, Neptune\n",
    "\n",
    "1. Mercury\n",
    "\n",
    "- Mercury\n",
    "```\n",
    "We get different answers. In most answers, it returns the correct sequence of 8 planets either as a comma separated list or a sentence. \n",
    "\n",
    "In rare cases, it only gives us mercury. This is because the client intends to return a list of the planets as a ‘\\n’ separated list. \n",
    "1. Mercury\n",
    "2. Venus \n",
    "3. Earth \n",
    "... \n",
    "\n",
    "but we’ve listed ‘\\n’ as an EOS word so the answer stops at Mercury. "
   ]
  },
  {
   "cell_type": "markdown",
   "metadata": {},
   "source": [
    "\n",
    "It might be handy to package up what we just did.<br>\n",
    "The `complete` function below is a convenient way of experimenting with completing text.\n",
    "It is illustrated with a grocery example.  "
   ]
  },
  {
   "cell_type": "code",
   "execution_count": 33,
   "metadata": {},
   "outputs": [
    {
     "data": {
      "text/plain": [
       "[', and flour. I also picked up some ground beef, honey, ice cream, and jam. Additionally, I grabbed some kale, lemons, milk, nuts, and onions. Lastly, I got some pasta, quinoa, rice, spinach, and tomatoes. Overall, I think I got everything I needed for the week.',\n",
       " ', and flowers.',\n",
       " \", and flour. I also picked up some ground beef, honey, ice cream, and jam. Finally, I grabbed a loaf of bread, milk, noodles, and oranges. My shopping list was quite extensive, but I'm glad I got everything I needed.\",\n",
       " ', and a few other items. The apples and bananas were fresh and ripe, the cherries were juicy and sweet, and the donuts were a delicious treat. I also picked up a dozen eggs for baking and cooking. Overall, it was a successful trip to the store!',\n",
       " ', and flour.',\n",
       " ', and fish.',\n",
       " ', and flour. I also picked up some grapes, honey, ice cream, and juice. Lastly, I grabbed some kale, lemons, milk, and nuts. Overall, I got a good variety of groceries for the week.',\n",
       " ', and flour. I also picked up some grapes, honey, ice cream, juice, and kiwi. Lastly, I grabbed some lettuce, milk, nuts, oatmeal, and peanut butter.',\n",
       " ', and a loaf of bread. The apples were crisp and sweet, the bananas were perfectly ripe, and the cherries were juicy and delicious. The donuts were a special treat, and the eggs and bread were essentials for my kitchen. Overall, it was a successful shopping trip.',\n",
       " ', and flour.']"
      ]
     },
     "execution_count": 33,
     "metadata": {},
     "output_type": "execute_result"
    }
   ],
   "source": [
    "def complete(client, s: str, model=\"gpt-3.5-turbo-1106\", *args, **kwargs):\n",
    "    response = client.chat.completions.create(messages=[{\"role\": \"user\", \"content\": s}],\n",
    "                                              model=model,\n",
    "                                              *args, **kwargs)\n",
    "    return [choice.message.content for choice in response.choices]\n",
    "\n",
    "complete(client, \"I went to the store and I bought apples, bananas, cherries, donuts, eggs\", \n",
    "         n=10, temperature=.8, max_tokens=96)\n"
   ]
  },
  {
   "cell_type": "markdown",
   "metadata": {},
   "source": [
    "![image](handin.png)\n",
    "Anything could be on a grocery list, so why are the 10 different completions above so similar?<br>\n",
    "Hint: The answer isn't just the temperature of 0.5.  Look especially at the long completions; run the cell again if you didn't get multiple long completions.\n",
    "\n",
    "The completions are similar because completions like ‘, and flour.’ or ‘, and fish.’ are very frequent in the training corpus. Especially, the completion similar to '\", and flour. I also picked up some ginger, honey, ice cream, juice, and kiwi. Lastly' is very frequent. LLMs are likely to repeat patterns seen in the training corpus. Therefore, it is very likely to return something similar to the sentence most probably following the prompt. However, the 10 completions are not completely the same because LLMs are not deterministic. The randomness contributes to similar but different completions."
   ]
  },
  {
   "cell_type": "markdown",
   "metadata": {},
   "source": [
    "\n",
    "![image](handin.png)\n",
    "What happens at different temperatures?  How about temperatures > 1?  (Note: Higher temperatures tend to produce longer responses, so it's wise to use `max_tokens`.)\n",
    "\n",
    "At temperature=0.1, the completions are very similar with each other. At temperature=0.5 and temperature=0.9, we see more and more variation beacause the LLM is more 'creative' and gives more randomized answers. \n",
    "\n",
    "At temperature=1.5, the LLM behaves event more inconsistency. \n",
    "\n",
    "For example it hallucinates: \n",
    "`, and flowers.\\n\\nInna a beautiful skitu only needed l have an seeds floor ov Seeds getNext survives Radius degrees assets technicaluvwxyz ?}-${-\",?$\\'\"}:${ wages-firefid098920399iq`\n",
    "\n",
    "Or starts a dialogue with itself: \n",
    "`\", and fish.\\n\\nCould you please organize these items? \\nSure! Here's how you could organize the items: \\n\\nFruit: Apples, Bananas, Cherries\\nSweets: Donuts\\nGrocery: Eggs\\nMeat: Fish\"`\n",
    "\n",
    "\n",
    "At temperature=2, the LLM's outputs are incomprehensible: \n",
    "`' and I also picked up flour, good related let.magkpfb raw\"g pose l87elcomebstractv攀vertisement:b�Compatibility.badWeekly_desrc.fpipt Comedy_windowsilogue.performance`"
   ]
  },
  {
   "cell_type": "markdown",
   "metadata": {},
   "source": [
    "\n",
    "*Remarks:* [In the future](https://community.openai.com/t/logprobs-are-missing-from-the-chat-endpoints/289514), you will be able to specify an argument `logprobs=5` to also get the log-probabilities of all generated tokens and of the top-5 tokens at each step.  That will produce much more output.  (This argument has always been available for the legacy API, and is available in the [Python bindings for open-source models such as Llama](https://pypi.org/project/llama-cpp-python/).  The Llama bindings also allow you to [constrain the output by an arbitrary CFG](https://github.com/ggerganov/llama.cpp/blob/master/grammars/README.md), using `grammar=...`.  This is useful if you're generating code or data that must be syntactically valid to be useful to you.  However, the OpenAI API only allows you to [constrain the output to be valid JSON](https://platform.openai.com/docs/api-reference/chat/create#chat-create-response_format).)\n"
   ]
  },
  {
   "cell_type": "markdown",
   "metadata": {},
   "source": [
    "### Compute a function using instructions and few-shot prompting\n",
    "\n",
    "Now let's try passing a sequence of multiple messages into the chat completions API.  In this case, we provide some instructions and one-shot prompting."
   ]
  },
  {
   "cell_type": "code",
   "execution_count": 34,
   "metadata": {},
   "outputs": [
    {
     "data": {
      "text/html": [
       "<pre style=\"white-space:pre;overflow-x:auto;line-height:normal;font-family:Menlo,'DejaVu Sans Mono',consolas,'Courier New',monospace\"><span style=\"color: #800080; text-decoration-color: #800080; font-weight: bold\">ChatCompletion</span><span style=\"font-weight: bold\">(</span>\n",
       "    <span style=\"color: #808000; text-decoration-color: #808000\">id</span>=<span style=\"color: #008000; text-decoration-color: #008000\">'chatcmpl-8V6neFfYLErzP5tN1cMvtezImZnED'</span>,\n",
       "    <span style=\"color: #808000; text-decoration-color: #808000\">choices</span>=<span style=\"font-weight: bold\">[</span>\n",
       "        <span style=\"color: #800080; text-decoration-color: #800080; font-weight: bold\">Choice</span><span style=\"font-weight: bold\">(</span>\n",
       "            <span style=\"color: #808000; text-decoration-color: #808000\">finish_reason</span>=<span style=\"color: #008000; text-decoration-color: #008000\">'stop'</span>,\n",
       "            <span style=\"color: #808000; text-decoration-color: #808000\">index</span>=<span style=\"color: #008080; text-decoration-color: #008080; font-weight: bold\">0</span>,\n",
       "            <span style=\"color: #808000; text-decoration-color: #808000\">message</span>=<span style=\"color: #800080; text-decoration-color: #800080; font-weight: bold\">ChatCompletionMessage</span><span style=\"font-weight: bold\">(</span>\n",
       "                <span style=\"color: #808000; text-decoration-color: #808000\">content</span>=<span style=\"color: #008000; text-decoration-color: #008000\">'Furiously sleep ideas green colorless.'</span>,\n",
       "                <span style=\"color: #808000; text-decoration-color: #808000\">role</span>=<span style=\"color: #008000; text-decoration-color: #008000\">'assistant'</span>,\n",
       "                <span style=\"color: #808000; text-decoration-color: #808000\">function_call</span>=<span style=\"color: #800080; text-decoration-color: #800080; font-style: italic\">None</span>,\n",
       "                <span style=\"color: #808000; text-decoration-color: #808000\">tool_calls</span>=<span style=\"color: #800080; text-decoration-color: #800080; font-style: italic\">None</span>\n",
       "            <span style=\"font-weight: bold\">)</span>\n",
       "        <span style=\"font-weight: bold\">)</span>\n",
       "    <span style=\"font-weight: bold\">]</span>,\n",
       "    <span style=\"color: #808000; text-decoration-color: #808000\">created</span>=<span style=\"color: #008080; text-decoration-color: #008080; font-weight: bold\">1702424998</span>,\n",
       "    <span style=\"color: #808000; text-decoration-color: #808000\">model</span>=<span style=\"color: #008000; text-decoration-color: #008000\">'gpt-3.5-turbo-1106'</span>,\n",
       "    <span style=\"color: #808000; text-decoration-color: #808000\">object</span>=<span style=\"color: #008000; text-decoration-color: #008000\">'chat.completion'</span>,\n",
       "    <span style=\"color: #808000; text-decoration-color: #808000\">system_fingerprint</span>=<span style=\"color: #008000; text-decoration-color: #008000\">'fp_eeff13170a'</span>,\n",
       "    <span style=\"color: #808000; text-decoration-color: #808000\">usage</span>=<span style=\"color: #800080; text-decoration-color: #800080; font-weight: bold\">CompletionUsage</span><span style=\"font-weight: bold\">(</span><span style=\"color: #808000; text-decoration-color: #808000\">completion_tokens</span>=<span style=\"color: #008080; text-decoration-color: #008080; font-weight: bold\">9</span>, <span style=\"color: #808000; text-decoration-color: #808000\">prompt_tokens</span>=<span style=\"color: #008080; text-decoration-color: #008080; font-weight: bold\">50</span>, <span style=\"color: #808000; text-decoration-color: #808000\">total_tokens</span>=<span style=\"color: #008080; text-decoration-color: #008080; font-weight: bold\">59</span><span style=\"font-weight: bold\">)</span>\n",
       "<span style=\"font-weight: bold\">)</span>\n",
       "</pre>\n"
      ],
      "text/plain": [
       "\u001b[1;35mChatCompletion\u001b[0m\u001b[1m(\u001b[0m\n",
       "    \u001b[33mid\u001b[0m=\u001b[32m'chatcmpl-8V6neFfYLErzP5tN1cMvtezImZnED'\u001b[0m,\n",
       "    \u001b[33mchoices\u001b[0m=\u001b[1m[\u001b[0m\n",
       "        \u001b[1;35mChoice\u001b[0m\u001b[1m(\u001b[0m\n",
       "            \u001b[33mfinish_reason\u001b[0m=\u001b[32m'stop'\u001b[0m,\n",
       "            \u001b[33mindex\u001b[0m=\u001b[1;36m0\u001b[0m,\n",
       "            \u001b[33mmessage\u001b[0m=\u001b[1;35mChatCompletionMessage\u001b[0m\u001b[1m(\u001b[0m\n",
       "                \u001b[33mcontent\u001b[0m=\u001b[32m'Furiously sleep ideas green colorless.'\u001b[0m,\n",
       "                \u001b[33mrole\u001b[0m=\u001b[32m'assistant'\u001b[0m,\n",
       "                \u001b[33mfunction_call\u001b[0m=\u001b[3;35mNone\u001b[0m,\n",
       "                \u001b[33mtool_calls\u001b[0m=\u001b[3;35mNone\u001b[0m\n",
       "            \u001b[1m)\u001b[0m\n",
       "        \u001b[1m)\u001b[0m\n",
       "    \u001b[1m]\u001b[0m,\n",
       "    \u001b[33mcreated\u001b[0m=\u001b[1;36m1702424998\u001b[0m,\n",
       "    \u001b[33mmodel\u001b[0m=\u001b[32m'gpt-3.5-turbo-1106'\u001b[0m,\n",
       "    \u001b[33mobject\u001b[0m=\u001b[32m'chat.completion'\u001b[0m,\n",
       "    \u001b[33msystem_fingerprint\u001b[0m=\u001b[32m'fp_eeff13170a'\u001b[0m,\n",
       "    \u001b[33musage\u001b[0m=\u001b[1;35mCompletionUsage\u001b[0m\u001b[1m(\u001b[0m\u001b[33mcompletion_tokens\u001b[0m=\u001b[1;36m9\u001b[0m, \u001b[33mprompt_tokens\u001b[0m=\u001b[1;36m50\u001b[0m, \u001b[33mtotal_tokens\u001b[0m=\u001b[1;36m59\u001b[0m\u001b[1m)\u001b[0m\n",
       "\u001b[1m)\u001b[0m\n"
      ]
     },
     "metadata": {},
     "output_type": "display_data"
    },
    {
     "data": {
      "text/plain": [
       "'Furiously sleep ideas green colorless.'"
      ]
     },
     "execution_count": 34,
     "metadata": {},
     "output_type": "execute_result"
    }
   ],
   "source": [
    "# original\n",
    "response = client.chat.completions.create(messages=[{ \"role\": \"system\",      # instructions\n",
    "                                                      \"content\": \"Reverse the order of the words.\" },\n",
    "                                                    { \"role\": \"user\",        # input\n",
    "                                                      \"content\": \"Good things come to those who wait.\" },\n",
    "                                                    { \"role\": \"assistant\",   # output\n",
    "                                                      \"content\": \"Wait who those to come things good.\" },\n",
    "                                                    { \"role\": \"user\",        # input\n",
    "                                                      \"content\": \"Colorless green ideas sleep furiously.\" }],\n",
    "                                          model=\"gpt-3.5-turbo-1106\", temperature=0)\n",
    "# returns: 'furiously sleep ideas green colorless'\n",
    "\n",
    "# separate by comma \n",
    "# response = client.chat.completions.create(messages=[{ \"role\": \"system\",      # instructions\n",
    "#                                                       \"content\": \"Reverse the order of the words. Separate each word with a comma.\" },\n",
    "#                                                     { \"role\": \"user\",        # input\n",
    "#                                                       \"content\": \"Good things come to those who wait.\" },\n",
    "#                                                     { \"role\": \"assistant\",   # output\n",
    "#                                                       \"content\": \"wait, who, those, to, come, things, good\" },\n",
    "#                                                     { \"role\": \"user\",        # input\n",
    "#                                                       \"content\": \"Colorless green ideas sleep furiously.\" }],\n",
    "#                                           model=\"gpt-3.5-turbo-1106\", temperature=0)\n",
    "# returns: 'furiously, sleep, ideas, green, colorless'\n",
    "\n",
    "# reverse by character \n",
    "# response = client.chat.completions.create(messages=[{ \"role\": \"system\",      # instructions\n",
    "#                                                       \"content\": \"Reverse the characters.\" },\n",
    "#                                                     { \"role\": \"user\",        # input\n",
    "#                                                       \"content\": \"Good things come to those who wait.\" },\n",
    "#                                                     { \"role\": \"assistant\",   # output\n",
    "#                                                       \"content\": \"Tiaw ohw esoht ot emoc sgniht doog.\" },\n",
    "#                                                     { \"role\": \"user\",        # input\n",
    "#                                                       \"content\": \"Colorless green ideas sleep furiously.\" }],\n",
    "#                                           model=\"gpt-3.5-turbo-1106\", temperature=0)\n",
    "# returns: 'Yliruoof sreeps saedi neerg ssoloc.'\n",
    "\n",
    "# reverse meaning\n",
    "# response = client.chat.completions.create(messages=[{ \"role\": \"system\",      # instructions\n",
    "#                                                       \"content\": \"Reverse the meaning of the sentence.\" },\n",
    "#                                                     { \"role\": \"user\",        # input\n",
    "#                                                       \"content\": \"Good things come to those who wait.\" },\n",
    "#                                                     { \"role\": \"assistant\",   # output\n",
    "#                                                       \"content\": \"Bad things come to those who wait.\" },\n",
    "#                                                     { \"role\": \"user\",        # input\n",
    "#                                                       \"content\": \"Colorless green ideas sleep furiously.\" }],\n",
    "#                                           model=\"gpt-3.5-turbo-1106\", temperature=0)\n",
    "# returns: 'Colorful green ideas are wide awake peacefully.'\n",
    "\n",
    "rich.print(response)\n",
    "response.choices[0].message.content                                  "
   ]
  },
  {
   "cell_type": "markdown",
   "metadata": {},
   "source": [
    "![image](handin.png)\n",
    "By modifying this call, can you get it to produce different versions of the output?\n",
    "Some possible behaviors you could try to arrange:\n",
    "* specific other way of formatting the output, e.g., `wait, who, those, to, come, things, good`\n",
    "* match the input's way of formatting the output (same use of capitalization, puncutation, commas)\n",
    "* reverse the phrases rather than reversing the words, e.g., `To those who wait come good things.` \n",
    "\n",
    "You can try playing with the number, the content, and the order of few-shot examples, and changing or removing the instructions.\n",
    "\n",
    "![image](handin.png)\n",
    "What happens if the examples don't match the instructions?\n",
    "\n",
    "The assistant prioritizes the system’s instructions over the examples."
   ]
  },
  {
   "cell_type": "code",
   "execution_count": null,
   "metadata": {},
   "outputs": [],
   "source": [
    "response = client.chat.completions.create(messages=[{ \"role\": \"system\",      # instructions\n",
    "                                                      \"content\": \"Reverse the word order.\" },\n",
    "                                                    { \"role\": \"user\",        # input\n",
    "                                                      \"content\": \"Good things come to those who wait.\" },\n",
    "                                                    { \"role\": \"assistant\",   # output\n",
    "                                                      \"content\": \"Tiaw ohw esoht ot emoc sgniht doog.\" },\n",
    "                                                    { \"role\": \"user\",        # input\n",
    "                                                      \"content\": \"Colorless green ideas sleep furiously.\" }],\n",
    "                                          model=\"gpt-3.5-turbo-1106\", temperature=0)\n",
    "\n",
    "# **Assistant: Furiously sleep ideas green colorless.**"
   ]
  },
  {
   "cell_type": "markdown",
   "metadata": {},
   "source": [
    "### Inspect the tokenization"
   ]
  },
  {
   "cell_type": "markdown",
   "metadata": {},
   "source": [
    "Just for fun, let's see how the above client has been tokenizing its input and output text.  For that we can use a tokenizer that runs locally, not in the cloud, and is guaranteed to get the same outputs."
   ]
  },
  {
   "cell_type": "code",
   "execution_count": 35,
   "metadata": {},
   "outputs": [
    {
     "name": "stdout",
     "output_type": "stream",
     "text": [
      "Hellooo, world!\n",
      "9906 \t Hello\n",
      "2689 \t oo\n",
      "11 \t ,\n",
      "1917 \t  world\n",
      "0 \t !\n",
      "Vocab size = 100277\n"
     ]
    }
   ],
   "source": [
    "import tiktoken\n",
    "tokenizer = tiktoken.encoding_for_model(\"gpt-3.5-turbo-1106\")  # how this model will tokenize\n",
    "toks = tokenizer.encode(\"Hellooo, world!\") # list of integerized tokens, starting with BOS\n",
    "\n",
    "print(tokenizer.decode(toks))                             # convert list back to string\n",
    "for tok in toks: print(tok,\"\\t\",tokenizer.decode([tok]))  # convert one at a time\n",
    "print(\"Vocab size =\", tokenizer.n_vocab)"
   ]
  },
  {
   "cell_type": "markdown",
   "metadata": {},
   "source": [
    "### Try embedding some text\n",
    "\n",
    "Also just for fun, let's try the embedder, which converts a string to an fixed-length vector."
   ]
  },
  {
   "cell_type": "code",
   "execution_count": 36,
   "metadata": {},
   "outputs": [
    {
     "name": "stdout",
     "output_type": "stream",
     "text": [
      "1536-dimensional embedding starting with [0.021248681470751762, -0.014377851039171219, 0.010210818611085415, -0.02133774757385254, -0.00979093462228775]\n",
      "Squared length of embedding vector:  1.0000000629476622\n"
     ]
    }
   ],
   "source": [
    "emb_response = client.embeddings.create( input= [  # note: adjacent literal strings in Python are concatenated\n",
    "        \"When in the Course of human events it becomes necessary for one \"\n",
    "        \"people to dissolve the political bands which have connected them \"\n",
    "        \"with another, and to assume among the Powers of the earth, the \"\n",
    "        \"separate and equal station to which the Laws of Nature and of \"\n",
    "        \"Nature's God entitle them, a decent respect to the opinions of \"\n",
    "        \"mankind requires that they should declare the causes which impel \"\n",
    "        \"them to the separation.\" ], \n",
    "        model=\"text-embedding-ada-002\")   # the only OpenAI model that currently offers the embeddings API\n",
    "# don't print the whole response because it's very long\n",
    "e = emb_response.data[0].embedding\n",
    "print(f\"{len(e)}-dimensional embedding starting with {e[:5]}\")\n",
    "print(\"Squared length of embedding vector: \", sum(x**2 for x in e))"
   ]
  },
  {
   "cell_type": "markdown",
   "metadata": {},
   "source": [
    "### Check your usage so far\n",
    "\n",
    "Please be careful not to write loops that use lots and lots of tokens.  That will cost us money, and could hit the per-day usage limit that is shared by the whole class.\n",
    "\n",
    "Execute one of these cells whenever you want to see your cost so far.  Or, just keep `usage_openai.json` open as a tab in your IDE."
   ]
  },
  {
   "cell_type": "code",
   "execution_count": 37,
   "metadata": {},
   "outputs": [
    {
     "data": {
      "text/plain": [
       "{'completion_tokens': 230743,\n",
       " 'prompt_tokens': 2226445,\n",
       " 'total_tokens': 2457188,\n",
       " 'cost': 2.6875097999999973}"
      ]
     },
     "execution_count": 37,
     "metadata": {},
     "output_type": "execute_result"
    }
   ],
   "source": [
    "read_usage()      # reads from the file usage_openai.json"
   ]
  },
  {
   "cell_type": "code",
   "execution_count": 38,
   "metadata": {},
   "outputs": [
    {
     "name": "stdout",
     "output_type": "stream",
     "text": [
      "{\n",
      "    \"completion_tokens\": 230743,\n",
      "    \"prompt_tokens\": 2226445,\n",
      "    \"total_tokens\": 2457188,\n",
      "    \"cost\": 2.6875097999999973\n",
      "}"
     ]
    }
   ],
   "source": [
    "!cat usage_openai.json "
   ]
  },
  {
   "cell_type": "markdown",
   "metadata": {},
   "source": [
    "# Dialogues and dialogue agents"
   ]
  },
  {
   "cell_type": "markdown",
   "metadata": {},
   "source": [
    "The goal of this assignment is to create a good \"argubot\" that will talk to people about controversial topics and broaden their minds."
   ]
  },
  {
   "cell_type": "markdown",
   "metadata": {},
   "source": [
    "## A first argubot (Airhead)\n",
    "\n",
    "You can have a conversation right now with a _really bad_ argubot named Airhead.  Try asking it about climate change!  When you're done, reply with an empty string.\n",
    "\n",
    "(The `converse()` method calls Python's `input()` function, which will prompt you for input at the command-line or by popping up a box in your IDE.)"
   ]
  },
  {
   "cell_type": "code",
   "execution_count": 16,
   "metadata": {},
   "outputs": [
    {
     "name": "stdout",
     "output_type": "stream",
     "text": [
      "\n",
      "(mpark) hey~\n",
      "(Airhead) I know right???\n",
      "(mpark) what?\n",
      "(Airhead) I know right???\n"
     ]
    }
   ],
   "source": [
    "import argubots\n",
    "d = argubots.airhead.converse()"
   ]
  },
  {
   "cell_type": "markdown",
   "metadata": {},
   "source": [
    "A *bot* (short for \"robot\") is a system that acts autonomously.\n",
    "That corresponds to the AI notion of an *agent* — a system that uses some *policy* to choose *actions* to take.\n",
    "\n",
    "The `airhead` agent above (defined in `argubots.py`) uses a particularly simple policy.  \n",
    "It is an instance of a simple `Agent` subclass called `ConstantAgent` (defined in `agents.py`).\n",
    "\n",
    "The result of talking to `airhead` is a `Dialogue` object (defined in `dialogue.py`). Let's look at it."
   ]
  },
  {
   "cell_type": "code",
   "execution_count": 40,
   "metadata": {},
   "outputs": [
    {
     "data": {
      "text/html": [
       "<pre style=\"white-space:pre;overflow-x:auto;line-height:normal;font-family:Menlo,'DejaVu Sans Mono',consolas,'Courier New',monospace\"><span style=\"color: #c0c0c0; text-decoration-color: #c0c0c0; background-color: #000080; font-weight: bold\">(</span><span style=\"color: #c0c0c0; text-decoration-color: #c0c0c0; background-color: #000080\">mpark</span><span style=\"color: #c0c0c0; text-decoration-color: #c0c0c0; background-color: #000080; font-weight: bold\">)</span> hey \n",
       "<span style=\"color: #c0c0c0; text-decoration-color: #c0c0c0; background-color: #000080; font-weight: bold\">(</span><span style=\"color: #c0c0c0; text-decoration-color: #c0c0c0; background-color: #000080\">Airhead</span><span style=\"color: #c0c0c0; text-decoration-color: #c0c0c0; background-color: #000080; font-weight: bold\">)</span> I know right???\n",
       "<span style=\"color: #c0c0c0; text-decoration-color: #c0c0c0; background-color: #000080; font-weight: bold\">(</span><span style=\"color: #c0c0c0; text-decoration-color: #c0c0c0; background-color: #000080\">mpark</span><span style=\"color: #c0c0c0; text-decoration-color: #c0c0c0; background-color: #000080; font-weight: bold\">)</span> uhh ok \n",
       "<span style=\"color: #c0c0c0; text-decoration-color: #c0c0c0; background-color: #000080; font-weight: bold\">(</span><span style=\"color: #c0c0c0; text-decoration-color: #c0c0c0; background-color: #000080\">Airhead</span><span style=\"color: #c0c0c0; text-decoration-color: #c0c0c0; background-color: #000080; font-weight: bold\">)</span> I know right???\n",
       "</pre>\n"
      ],
      "text/plain": [
       "\u001b[1;37;44m(\u001b[0m\u001b[37;44mmpark\u001b[0m\u001b[1;37;44m)\u001b[0m hey \n",
       "\u001b[1;37;44m(\u001b[0m\u001b[37;44mAirhead\u001b[0m\u001b[1;37;44m)\u001b[0m I know right???\n",
       "\u001b[1;37;44m(\u001b[0m\u001b[37;44mmpark\u001b[0m\u001b[1;37;44m)\u001b[0m uhh ok \n",
       "\u001b[1;37;44m(\u001b[0m\u001b[37;44mAirhead\u001b[0m\u001b[1;37;44m)\u001b[0m I know right???\n"
      ]
     },
     "metadata": {},
     "output_type": "display_data"
    }
   ],
   "source": [
    "rich.print(d)"
   ]
  },
  {
   "cell_type": "markdown",
   "metadata": {},
   "source": [
    "Each *turn* of this dialogue is just a tiny dictionary:"
   ]
  },
  {
   "cell_type": "code",
   "execution_count": 41,
   "metadata": {},
   "outputs": [
    {
     "data": {
      "text/plain": [
       "{'speaker': 'mpark', 'content': 'hey '}"
      ]
     },
     "execution_count": 41,
     "metadata": {},
     "output_type": "execute_result"
    }
   ],
   "source": [
    "d[0]"
   ]
  },
  {
   "cell_type": "markdown",
   "metadata": {},
   "source": [
    "## An LLM argubot (Alice)\n",
    "\n",
    "In other CS courses like crypto, algorithms, or networks, you may have encountered \"conversations\" between characters named Alice and Bob.  \n",
    "Let's try talking to the Alice of this homework, who is a _much stronger baseline_ than Airhead.  Your job in this assignment is to improve upon Alice.\n",
    "We'll meet Bob later."
   ]
  },
  {
   "cell_type": "code",
   "execution_count": 42,
   "metadata": {},
   "outputs": [
    {
     "name": "stdout",
     "output_type": "stream",
     "text": [
      "\n"
     ]
    },
    {
     "name": "stdout",
     "output_type": "stream",
     "text": [
      "(mpark) hello alice\n",
      "(Alice) Hi there! How do you feel about the idea of universal basic income?\n",
      "(mpark) I think it would be great, but i'm not sure how realistic it is\n",
      "(Alice) It's true that implementing universal basic income would be a complex and costly endeavor, but it's worth considering the potential benefits, such as reducing poverty and providing a safety net for all citizens. Additionally, some argue that the costs could be offset by eliminating other welfare programs and through increased economic activity.\n",
      "(mpark) I fear that UBI would eliminate welfare programs like healthcare and social security. \n",
      "(Alice) I understand your concern. However, proponents of UBI argue that it could actually complement existing welfare programs rather than replace them. It could provide a baseline level of support while allowing individuals to still access other essential services.\n"
     ]
    }
   ],
   "source": [
    "alicechat = argubots.alice.converse()   # or call with argument d if you want to append to the previous conversation"
   ]
  },
  {
   "cell_type": "markdown",
   "metadata": {},
   "source": [
    "As you may have guessed, `alice` is powered by an prompted LLM.  You can find the specific prompt in `argubots.py`.\n",
    "\n",
    "So, while `agents.py` provides the core functionality for `Agent` objects, the argubot agents like `alice` — and the ones that you will write! — go into `argubots.py` instead.  This is just to keep the files small."
   ]
  },
  {
   "cell_type": "markdown",
   "metadata": {},
   "source": [
    "## Simulating human characters (Bob & friends)"
   ]
  },
  {
   "cell_type": "markdown",
   "metadata": {},
   "source": [
    "You'll talk to your own argubots to get a qualitative feeling for their strengths and weaknesses.  \n",
    "But can you really be sure you're making progress?  For that, a quantitative measure can be helpful.\n",
    "\n",
    "Ultimately, you should test an argubot like Alice by having it argue with many real humans — not just you — and using some rubric to score the resulting dialogues.  But that would be slow and complicated to arrange.  \n",
    "\n",
    "So, meet Bob!  He's just a simulated human.  You won't edit him: he is part of the development set.  Here is some information about him (from `characters.py`):"
   ]
  },
  {
   "cell_type": "code",
   "execution_count": 43,
   "metadata": {},
   "outputs": [
    {
     "data": {
      "text/html": [
       "<pre style=\"white-space:pre;overflow-x:auto;line-height:normal;font-family:Menlo,'DejaVu Sans Mono',consolas,'Courier New',monospace\"><span style=\"color: #800080; text-decoration-color: #800080; font-weight: bold\">Character</span><span style=\"font-weight: bold\">(</span>\n",
       "    <span style=\"color: #808000; text-decoration-color: #808000\">name</span>=<span style=\"color: #008000; text-decoration-color: #008000\">'Bob'</span>,\n",
       "    <span style=\"color: #808000; text-decoration-color: #808000\">languages</span>=<span style=\"font-weight: bold\">[</span><span style=\"color: #008000; text-decoration-color: #008000\">'English'</span><span style=\"font-weight: bold\">]</span>,\n",
       "    <span style=\"color: #808000; text-decoration-color: #808000\">persona</span>=<span style=\"color: #008000; text-decoration-color: #008000\">'an ardent vegetarian who thinks everyone should be vegetarian'</span>,\n",
       "    <span style=\"color: #808000; text-decoration-color: #808000\">conversational_style</span>=<span style=\"color: #008000; text-decoration-color: #008000\">'You generally try to remain polite.'</span>,\n",
       "    <span style=\"color: #808000; text-decoration-color: #808000\">conversation_starters</span>=<span style=\"font-weight: bold\">[</span><span style=\"color: #008000; text-decoration-color: #008000\">\"Do you think it's ok to eat meat?\"</span><span style=\"font-weight: bold\">]</span>\n",
       "<span style=\"font-weight: bold\">)</span>\n",
       "</pre>\n"
      ],
      "text/plain": [
       "\u001b[1;35mCharacter\u001b[0m\u001b[1m(\u001b[0m\n",
       "    \u001b[33mname\u001b[0m=\u001b[32m'Bob'\u001b[0m,\n",
       "    \u001b[33mlanguages\u001b[0m=\u001b[1m[\u001b[0m\u001b[32m'English'\u001b[0m\u001b[1m]\u001b[0m,\n",
       "    \u001b[33mpersona\u001b[0m=\u001b[32m'an ardent vegetarian who thinks everyone should be vegetarian'\u001b[0m,\n",
       "    \u001b[33mconversational_style\u001b[0m=\u001b[32m'You generally try to remain polite.'\u001b[0m,\n",
       "    \u001b[33mconversation_starters\u001b[0m=\u001b[1m[\u001b[0m\u001b[32m\"Do you think it's ok to eat meat?\"\u001b[0m\u001b[1m]\u001b[0m\n",
       "\u001b[1m)\u001b[0m\n"
      ]
     },
     "metadata": {},
     "output_type": "display_data"
    }
   ],
   "source": [
    "import characters\n",
    "rich.print(characters.bob)"
   ]
  },
  {
   "cell_type": "markdown",
   "metadata": {},
   "source": [
    "You can't talk directly to `characters.bob` because that's just a data object.\n",
    "However, you can construct a simple agent that uses that data (plus a few more instructions) to prompt an LLM.\n",
    "\n",
    "(Which LLM does it prompt?  The `CharacterAgent` constructor (defined in `agents.py`) defaults to a GPT-3.5 model that is specified in `tracking.py`.  But you can override that using keyword arguments.)\n",
    "\n",
    "Try talking to Bob about climate change, too."
   ]
  },
  {
   "cell_type": "code",
   "execution_count": 44,
   "metadata": {},
   "outputs": [
    {
     "name": "stdout",
     "output_type": "stream",
     "text": [
      "\n"
     ]
    },
    {
     "name": "stdout",
     "output_type": "stream",
     "text": [
      "(mpark) hello bob\n",
      "(Bob) Hello there! How can I help you today?\n",
      "(mpark) i love meat\n",
      "(Bob) That's great, but have you ever considered the benefits of a vegetarian diet?\n",
      "(mpark) no and i never will \n",
      "(Bob) That's totally understandable, but I still encourage you to look into the positive impact that a vegetarian diet can have on your health and the environment.\n",
      "(mpark) what if i say no \n",
      "(Bob) That's completely fine, everyone is entitled to their own dietary choices.\n"
     ]
    }
   ],
   "source": [
    "from agents import CharacterAgent\n",
    "bob = CharacterAgent(characters.bob)    # actually, agents.bob is already defined this way\n",
    "bob.converse()        # returns a dialogue, but we've already seen it so we don't want to print it again\n",
    "None                  # don't print anything for this notebook cell "
   ]
  },
  {
   "cell_type": "markdown",
   "metadata": {},
   "source": [
    "Of course, a proper user study can't just be conducted with one human user.\n",
    "\n",
    "So, meet our bevy of beautiful Bobs!  (They're not actually all named Bob — we continued on in the alphabet.)\n"
   ]
  },
  {
   "cell_type": "code",
   "execution_count": 45,
   "metadata": {},
   "outputs": [
    {
     "data": {
      "text/plain": [
       "[<CharacterAgent for character Bob>,\n",
       " <CharacterAgent for character Cara>,\n",
       " <CharacterAgent for character Darius>,\n",
       " <CharacterAgent for character Eve>,\n",
       " <CharacterAgent for character TrollFace>]"
      ]
     },
     "execution_count": 45,
     "metadata": {},
     "output_type": "execute_result"
    }
   ],
   "source": [
    "import agents\n",
    "agents.devset"
   ]
  },
  {
   "cell_type": "code",
   "execution_count": 46,
   "metadata": {},
   "outputs": [
    {
     "name": "stdout",
     "output_type": "stream",
     "text": [
      "\n"
     ]
    },
    {
     "name": "stdout",
     "output_type": "stream",
     "text": [
      "(mpark) hello cara\n",
      "(Cara) Hi there.\n",
      "(mpark) what are your thoughts on UBI \n",
      "(Cara) I don't believe UBI is the most effective solution to addressing economic issues.\n",
      "(mpark) what is then? \n",
      "(Cara) I believe in a combination of policies that promote job growth, skill development, and entrepreneurship.\n",
      "(mpark) so capitalism? \n",
      "(Cara) I think a free market system has its merits, but it's important to balance it with social safety nets and regulations to ensure fairness and equality.\n",
      "(mpark) so you're a centrist\n",
      "(Cara) I prefer not to be labeled, but I believe in a balanced approach to economic and social policies.\n",
      "(mpark) how would you label yourself\n",
      "(Cara) I would say I'm an independent thinker who evaluates each issue on its own merits.\n"
     ]
    }
   ],
   "source": [
    "agents.cara.converse()\n",
    "None"
   ]
  },
  {
   "cell_type": "markdown",
   "metadata": {},
   "source": [
    "You can see the underlying character data here in the notebook.  Your argubot will have to deal with all of these topics and styles!"
   ]
  },
  {
   "cell_type": "code",
   "execution_count": 47,
   "metadata": {},
   "outputs": [
    {
     "data": {
      "text/html": [
       "<pre style=\"white-space:pre;overflow-x:auto;line-height:normal;font-family:Menlo,'DejaVu Sans Mono',consolas,'Courier New',monospace\"><span style=\"font-weight: bold\">[</span>\n",
       "    <span style=\"color: #800080; text-decoration-color: #800080; font-weight: bold\">Character</span><span style=\"font-weight: bold\">(</span>\n",
       "        <span style=\"color: #808000; text-decoration-color: #808000\">name</span>=<span style=\"color: #008000; text-decoration-color: #008000\">'Bob'</span>,\n",
       "        <span style=\"color: #808000; text-decoration-color: #808000\">languages</span>=<span style=\"font-weight: bold\">[</span><span style=\"color: #008000; text-decoration-color: #008000\">'English'</span><span style=\"font-weight: bold\">]</span>,\n",
       "        <span style=\"color: #808000; text-decoration-color: #808000\">persona</span>=<span style=\"color: #008000; text-decoration-color: #008000\">'an ardent vegetarian who thinks everyone should be vegetarian'</span>,\n",
       "        <span style=\"color: #808000; text-decoration-color: #808000\">conversational_style</span>=<span style=\"color: #008000; text-decoration-color: #008000\">'You generally try to remain polite.'</span>,\n",
       "        <span style=\"color: #808000; text-decoration-color: #808000\">conversation_starters</span>=<span style=\"font-weight: bold\">[</span><span style=\"color: #008000; text-decoration-color: #008000\">\"Do you think it's ok to eat meat?\"</span><span style=\"font-weight: bold\">]</span>\n",
       "    <span style=\"font-weight: bold\">)</span>,\n",
       "    <span style=\"color: #800080; text-decoration-color: #800080; font-weight: bold\">Character</span><span style=\"font-weight: bold\">(</span>\n",
       "        <span style=\"color: #808000; text-decoration-color: #808000\">name</span>=<span style=\"color: #008000; text-decoration-color: #008000\">'Cara'</span>,\n",
       "        <span style=\"color: #808000; text-decoration-color: #808000\">languages</span>=<span style=\"font-weight: bold\">[</span><span style=\"color: #008000; text-decoration-color: #008000\">'English'</span><span style=\"font-weight: bold\">]</span>,\n",
       "        <span style=\"color: #808000; text-decoration-color: #808000\">persona</span>=<span style=\"color: #008000; text-decoration-color: #008000\">'a committed carnivore who hates being told what to do'</span>,\n",
       "        <span style=\"color: #808000; text-decoration-color: #808000\">conversational_style</span>=<span style=\"color: #008000; text-decoration-color: #008000\">'You generally try to remain polite.'</span>,\n",
       "        <span style=\"color: #808000; text-decoration-color: #808000\">conversation_starters</span>=<span style=\"font-weight: bold\">[</span><span style=\"color: #008000; text-decoration-color: #008000\">\"Do you think it's ok to eat meat?\"</span><span style=\"font-weight: bold\">]</span>\n",
       "    <span style=\"font-weight: bold\">)</span>,\n",
       "    <span style=\"color: #800080; text-decoration-color: #800080; font-weight: bold\">Character</span><span style=\"font-weight: bold\">(</span>\n",
       "        <span style=\"color: #808000; text-decoration-color: #808000\">name</span>=<span style=\"color: #008000; text-decoration-color: #008000\">'Darius'</span>,\n",
       "        <span style=\"color: #808000; text-decoration-color: #808000\">languages</span>=<span style=\"font-weight: bold\">[</span><span style=\"color: #008000; text-decoration-color: #008000\">'English'</span><span style=\"font-weight: bold\">]</span>,\n",
       "        <span style=\"color: #808000; text-decoration-color: #808000\">persona</span>=<span style=\"color: #008000; text-decoration-color: #008000\">'an intelligent and slightly arrogant public health scientist who loves fact-based arguments'</span>,\n",
       "        <span style=\"color: #808000; text-decoration-color: #808000\">conversational_style</span>=<span style=\"color: #008000; text-decoration-color: #008000\">'You like to show off your knowledge.'</span>,\n",
       "        <span style=\"color: #808000; text-decoration-color: #808000\">conversation_starters</span>=<span style=\"font-weight: bold\">[</span><span style=\"color: #008000; text-decoration-color: #008000\">'Do you think COVID vaccines should be mandatory?'</span><span style=\"font-weight: bold\">]</span>\n",
       "    <span style=\"font-weight: bold\">)</span>,\n",
       "    <span style=\"color: #800080; text-decoration-color: #800080; font-weight: bold\">Character</span><span style=\"font-weight: bold\">(</span>\n",
       "        <span style=\"color: #808000; text-decoration-color: #808000\">name</span>=<span style=\"color: #008000; text-decoration-color: #008000\">'Eve'</span>,\n",
       "        <span style=\"color: #808000; text-decoration-color: #808000\">languages</span>=<span style=\"font-weight: bold\">[</span><span style=\"color: #008000; text-decoration-color: #008000\">'English'</span><span style=\"font-weight: bold\">]</span>,\n",
       "        <span style=\"color: #808000; text-decoration-color: #808000\">persona</span>=<span style=\"color: #008000; text-decoration-color: #008000\">'a nosy person -- you want to know everything about other people'</span>,\n",
       "        <span style=\"color: #808000; text-decoration-color: #808000\">conversational_style</span>=<span style=\"color: #008000; text-decoration-color: #008000\">\"You ask many personal questions; you sometimes share what you've heard (or overheard)</span>\n",
       "<span style=\"color: #008000; text-decoration-color: #008000\">from others.\"</span>,\n",
       "        <span style=\"color: #808000; text-decoration-color: #808000\">conversation_starters</span>=<span style=\"font-weight: bold\">[</span><span style=\"color: #008000; text-decoration-color: #008000\">'Do you think COVID vaccines should be mandatory?'</span><span style=\"font-weight: bold\">]</span>\n",
       "    <span style=\"font-weight: bold\">)</span>,\n",
       "    <span style=\"color: #800080; text-decoration-color: #800080; font-weight: bold\">Character</span><span style=\"font-weight: bold\">(</span>\n",
       "        <span style=\"color: #808000; text-decoration-color: #808000\">name</span>=<span style=\"color: #008000; text-decoration-color: #008000\">'TrollFace'</span>,\n",
       "        <span style=\"color: #808000; text-decoration-color: #808000\">languages</span>=<span style=\"font-weight: bold\">[</span><span style=\"color: #008000; text-decoration-color: #008000\">'English'</span><span style=\"font-weight: bold\">]</span>,\n",
       "        <span style=\"color: #808000; text-decoration-color: #808000\">persona</span>=<span style=\"color: #008000; text-decoration-color: #008000\">'a troll who loves to ridicule everyone and everything'</span>,\n",
       "        <span style=\"color: #808000; text-decoration-color: #808000\">conversational_style</span>=<span style=\"color: #008000; text-decoration-color: #008000\">\"You love to confound, upset, and even make fun of the people you're talking to.\"</span>,\n",
       "        <span style=\"color: #808000; text-decoration-color: #808000\">conversation_starters</span>=<span style=\"font-weight: bold\">[</span>\n",
       "            <span style=\"color: #008000; text-decoration-color: #008000\">'Do you think Donald Trump was a good president?'</span>,\n",
       "            <span style=\"color: #008000; text-decoration-color: #008000\">'Do you think Joe Biden has been a good president?'</span>\n",
       "        <span style=\"font-weight: bold\">]</span>\n",
       "    <span style=\"font-weight: bold\">)</span>\n",
       "<span style=\"font-weight: bold\">]</span>\n",
       "</pre>\n"
      ],
      "text/plain": [
       "\u001b[1m[\u001b[0m\n",
       "    \u001b[1;35mCharacter\u001b[0m\u001b[1m(\u001b[0m\n",
       "        \u001b[33mname\u001b[0m=\u001b[32m'Bob'\u001b[0m,\n",
       "        \u001b[33mlanguages\u001b[0m=\u001b[1m[\u001b[0m\u001b[32m'English'\u001b[0m\u001b[1m]\u001b[0m,\n",
       "        \u001b[33mpersona\u001b[0m=\u001b[32m'an ardent vegetarian who thinks everyone should be vegetarian'\u001b[0m,\n",
       "        \u001b[33mconversational_style\u001b[0m=\u001b[32m'You generally try to remain polite.'\u001b[0m,\n",
       "        \u001b[33mconversation_starters\u001b[0m=\u001b[1m[\u001b[0m\u001b[32m\"Do you think it's ok to eat meat?\"\u001b[0m\u001b[1m]\u001b[0m\n",
       "    \u001b[1m)\u001b[0m,\n",
       "    \u001b[1;35mCharacter\u001b[0m\u001b[1m(\u001b[0m\n",
       "        \u001b[33mname\u001b[0m=\u001b[32m'Cara'\u001b[0m,\n",
       "        \u001b[33mlanguages\u001b[0m=\u001b[1m[\u001b[0m\u001b[32m'English'\u001b[0m\u001b[1m]\u001b[0m,\n",
       "        \u001b[33mpersona\u001b[0m=\u001b[32m'a committed carnivore who hates being told what to do'\u001b[0m,\n",
       "        \u001b[33mconversational_style\u001b[0m=\u001b[32m'You generally try to remain polite.'\u001b[0m,\n",
       "        \u001b[33mconversation_starters\u001b[0m=\u001b[1m[\u001b[0m\u001b[32m\"Do you think it's ok to eat meat?\"\u001b[0m\u001b[1m]\u001b[0m\n",
       "    \u001b[1m)\u001b[0m,\n",
       "    \u001b[1;35mCharacter\u001b[0m\u001b[1m(\u001b[0m\n",
       "        \u001b[33mname\u001b[0m=\u001b[32m'Darius'\u001b[0m,\n",
       "        \u001b[33mlanguages\u001b[0m=\u001b[1m[\u001b[0m\u001b[32m'English'\u001b[0m\u001b[1m]\u001b[0m,\n",
       "        \u001b[33mpersona\u001b[0m=\u001b[32m'an intelligent and slightly arrogant public health scientist who loves fact-based arguments'\u001b[0m,\n",
       "        \u001b[33mconversational_style\u001b[0m=\u001b[32m'You like to show off your knowledge.'\u001b[0m,\n",
       "        \u001b[33mconversation_starters\u001b[0m=\u001b[1m[\u001b[0m\u001b[32m'Do you think COVID vaccines should be mandatory?'\u001b[0m\u001b[1m]\u001b[0m\n",
       "    \u001b[1m)\u001b[0m,\n",
       "    \u001b[1;35mCharacter\u001b[0m\u001b[1m(\u001b[0m\n",
       "        \u001b[33mname\u001b[0m=\u001b[32m'Eve'\u001b[0m,\n",
       "        \u001b[33mlanguages\u001b[0m=\u001b[1m[\u001b[0m\u001b[32m'English'\u001b[0m\u001b[1m]\u001b[0m,\n",
       "        \u001b[33mpersona\u001b[0m=\u001b[32m'a nosy person -- you want to know everything about other people'\u001b[0m,\n",
       "        \u001b[33mconversational_style\u001b[0m=\u001b[32m\"You\u001b[0m\u001b[32m ask many personal questions; you sometimes share what you've heard \u001b[0m\u001b[32m(\u001b[0m\u001b[32mor overheard\u001b[0m\u001b[32m)\u001b[0m\n",
       "\u001b[32mfrom others.\"\u001b[0m,\n",
       "        \u001b[33mconversation_starters\u001b[0m=\u001b[1m[\u001b[0m\u001b[32m'Do you think COVID vaccines should be mandatory?'\u001b[0m\u001b[1m]\u001b[0m\n",
       "    \u001b[1m)\u001b[0m,\n",
       "    \u001b[1;35mCharacter\u001b[0m\u001b[1m(\u001b[0m\n",
       "        \u001b[33mname\u001b[0m=\u001b[32m'TrollFace'\u001b[0m,\n",
       "        \u001b[33mlanguages\u001b[0m=\u001b[1m[\u001b[0m\u001b[32m'English'\u001b[0m\u001b[1m]\u001b[0m,\n",
       "        \u001b[33mpersona\u001b[0m=\u001b[32m'a troll who loves to ridicule everyone and everything'\u001b[0m,\n",
       "        \u001b[33mconversational_style\u001b[0m=\u001b[32m\"You\u001b[0m\u001b[32m love to confound, upset, and even make fun of the people you're talking to.\"\u001b[0m,\n",
       "        \u001b[33mconversation_starters\u001b[0m=\u001b[1m[\u001b[0m\n",
       "            \u001b[32m'Do you think Donald Trump was a good president?'\u001b[0m,\n",
       "            \u001b[32m'Do you think Joe Biden has been a good president?'\u001b[0m\n",
       "        \u001b[1m]\u001b[0m\n",
       "    \u001b[1m)\u001b[0m\n",
       "\u001b[1m]\u001b[0m\n"
      ]
     },
     "metadata": {},
     "output_type": "display_data"
    }
   ],
   "source": [
    "rich.print(characters.devset)"
   ]
  },
  {
   "cell_type": "markdown",
   "metadata": {},
   "source": [
    "## Simulating conversation \n",
    "\n",
    "We can make Alice and Bob chat."
   ]
  },
  {
   "cell_type": "code",
   "execution_count": 48,
   "metadata": {},
   "outputs": [
    {
     "name": "stdout",
     "output_type": "stream",
     "text": [
      "(Alice) Do you think it's okay to eat meat?\n"
     ]
    }
   ],
   "source": [
    "from dialogue import Dialogue\n",
    "d = Dialogue()                                              # empty dialogue\n",
    "d = d.add('Alice', \"Do you think it's okay to eat meat?\")   # add first turn\n",
    "print(d)\n"
   ]
  },
  {
   "cell_type": "code",
   "execution_count": 49,
   "metadata": {},
   "outputs": [
    {
     "name": "stdout",
     "output_type": "stream",
     "text": [
      "(Alice) Do you think it's okay to eat meat?\n",
      "(Bob) I believe that a vegetarian diet is the most ethical and sustainable choice for everyone.\n",
      "(Alice) While vegetarianism definitely has its benefits, it's also important to consider that sustainable and ethical meat production is possible, especially through regenerative agriculture practices that can help restore ecosystems and sequester carbon. Additionally, for some individuals, including meat in their diet is culturally or nutritionally important.\n"
     ]
    }
   ],
   "source": [
    "d = agents.bob.respond(d)\n",
    "d = argubots.alice.respond(d)\n",
    "print(d)"
   ]
  },
  {
   "cell_type": "code",
   "execution_count": 50,
   "metadata": {},
   "outputs": [
    {
     "name": "stdout",
     "output_type": "stream",
     "text": [
      "(Alice) Do you think it's okay to eat meat?\n",
      "(Bob) I believe that a vegetarian diet is the most ethical and sustainable choice for everyone.\n",
      "(Alice) While vegetarianism definitely has its benefits, it's also important to consider that sustainable and ethical meat production is possible, especially through regenerative agriculture practices that can help restore ecosystems and sequester carbon. Additionally, for some individuals, including meat in their diet is culturally or nutritionally important.\n",
      "(Bob) I understand your perspective, but I still believe that a vegetarian diet is the most ethical and sustainable choice for everyone.\n",
      "(Alice) I appreciate your commitment to ethical and sustainable choices. While a vegetarian diet has clear benefits, it's worth considering that responsible and ethical meat consumption, such as supporting local and small-scale producers, can also contribute to a more sustainable food system and support rural economies. Flexibility and an open mind can help us find a balance between personal choice and environmental impact.\n"
     ]
    }
   ],
   "source": [
    "d = agents.bob.respond(d)\n",
    "d = argubots.alice.respond(d)\n",
    "print(d)"
   ]
  },
  {
   "cell_type": "markdown",
   "metadata": {},
   "source": [
    "Anyway, let's see what happens when Alice and Bob talk for a while..."
   ]
  },
  {
   "cell_type": "code",
   "execution_count": 51,
   "metadata": {},
   "outputs": [
    {
     "data": {
      "text/html": [
       "<pre style=\"white-space:pre;overflow-x:auto;line-height:normal;font-family:Menlo,'DejaVu Sans Mono',consolas,'Courier New',monospace\"><span style=\"color: #c0c0c0; text-decoration-color: #c0c0c0; background-color: #000080; font-weight: bold\">(</span><span style=\"color: #c0c0c0; text-decoration-color: #c0c0c0; background-color: #000080\">Alice</span><span style=\"color: #c0c0c0; text-decoration-color: #c0c0c0; background-color: #000080; font-weight: bold\">)</span> Do you think it's ok to eat meat?\n",
       "<span style=\"color: #c0c0c0; text-decoration-color: #c0c0c0; background-color: #000080; font-weight: bold\">(</span><span style=\"color: #c0c0c0; text-decoration-color: #c0c0c0; background-color: #000080\">Bob</span><span style=\"color: #c0c0c0; text-decoration-color: #c0c0c0; background-color: #000080; font-weight: bold\">)</span> I believe that choosing a vegetarian diet is the best choice for both personal health and the well-being of \n",
       "animals and the environment.\n",
       "<span style=\"color: #c0c0c0; text-decoration-color: #c0c0c0; background-color: #000080; font-weight: bold\">(</span><span style=\"color: #c0c0c0; text-decoration-color: #c0c0c0; background-color: #000080\">Alice</span><span style=\"color: #c0c0c0; text-decoration-color: #c0c0c0; background-color: #000080; font-weight: bold\">)</span> I understand your concerns about the impact of meat consumption on health, animals, and the environment. \n",
       "However, some argue that small-scale, sustainable farming practices can minimize these negative effects while \n",
       "continuing to provide high-quality, nutrient-dense food for individuals and communities.\n",
       "<span style=\"color: #c0c0c0; text-decoration-color: #c0c0c0; background-color: #000080; font-weight: bold\">(</span><span style=\"color: #c0c0c0; text-decoration-color: #c0c0c0; background-color: #000080\">Bob</span><span style=\"color: #c0c0c0; text-decoration-color: #c0c0c0; background-color: #000080; font-weight: bold\">)</span> I appreciate the perspective, but I still believe that a vegetarian diet is the most sustainable and \n",
       "compassionate choice for our health, animals, and the planet.\n",
       "<span style=\"color: #c0c0c0; text-decoration-color: #c0c0c0; background-color: #000080; font-weight: bold\">(</span><span style=\"color: #c0c0c0; text-decoration-color: #c0c0c0; background-color: #000080\">Alice</span><span style=\"color: #c0c0c0; text-decoration-color: #c0c0c0; background-color: #000080; font-weight: bold\">)</span> I understand your commitment to a vegetarian diet for ethical and environmental reasons. At the same time, \n",
       "some argue that sustainable farming practices, including grass-fed and pasture-raised animals, can have a lower \n",
       "environmental impact and offer important nutrients, such as vitamin B12 and high-quality protein, that may be less \n",
       "accessible in a purely plant-based diet. It's important to consider a variety of perspectives when making important\n",
       "dietary choices.\n",
       "<span style=\"color: #c0c0c0; text-decoration-color: #c0c0c0; background-color: #000080; font-weight: bold\">(</span><span style=\"color: #c0c0c0; text-decoration-color: #c0c0c0; background-color: #000080\">Bob</span><span style=\"color: #c0c0c0; text-decoration-color: #c0c0c0; background-color: #000080; font-weight: bold\">)</span> I understand the viewpoint, but I still believe that a well-planned vegetarian diet can provide all the \n",
       "necessary nutrients while minimizing environmental impact and promoting compassion for animals.\n",
       "<span style=\"color: #c0c0c0; text-decoration-color: #c0c0c0; background-color: #000080; font-weight: bold\">(</span><span style=\"color: #c0c0c0; text-decoration-color: #c0c0c0; background-color: #000080\">Alice</span><span style=\"color: #c0c0c0; text-decoration-color: #c0c0c0; background-color: #000080; font-weight: bold\">)</span> You make a valid point about the potential of a well-planned vegetarian diet to meet nutritional needs \n",
       "while reducing environmental impact. It's important to acknowledge that there are different paths to promoting \n",
       "sustainability and compassion, and individual dietary choices can be influenced by a range of factors, including \n",
       "cultural, ethical, and nutritional considerations.\n",
       "<span style=\"color: #c0c0c0; text-decoration-color: #c0c0c0; background-color: #000080; font-weight: bold\">(</span><span style=\"color: #c0c0c0; text-decoration-color: #c0c0c0; background-color: #000080\">Bob</span><span style=\"color: #c0c0c0; text-decoration-color: #c0c0c0; background-color: #000080; font-weight: bold\">)</span> Absolutely, I agree that individual dietary choices can be influenced by various factors, and it's important \n",
       "to consider a range of perspectives when making such decisions.\n",
       "</pre>\n"
      ],
      "text/plain": [
       "\u001b[1;37;44m(\u001b[0m\u001b[37;44mAlice\u001b[0m\u001b[1;37;44m)\u001b[0m Do you think it's ok to eat meat?\n",
       "\u001b[1;37;44m(\u001b[0m\u001b[37;44mBob\u001b[0m\u001b[1;37;44m)\u001b[0m I believe that choosing a vegetarian diet is the best choice for both personal health and the well-being of \n",
       "animals and the environment.\n",
       "\u001b[1;37;44m(\u001b[0m\u001b[37;44mAlice\u001b[0m\u001b[1;37;44m)\u001b[0m I understand your concerns about the impact of meat consumption on health, animals, and the environment. \n",
       "However, some argue that small-scale, sustainable farming practices can minimize these negative effects while \n",
       "continuing to provide high-quality, nutrient-dense food for individuals and communities.\n",
       "\u001b[1;37;44m(\u001b[0m\u001b[37;44mBob\u001b[0m\u001b[1;37;44m)\u001b[0m I appreciate the perspective, but I still believe that a vegetarian diet is the most sustainable and \n",
       "compassionate choice for our health, animals, and the planet.\n",
       "\u001b[1;37;44m(\u001b[0m\u001b[37;44mAlice\u001b[0m\u001b[1;37;44m)\u001b[0m I understand your commitment to a vegetarian diet for ethical and environmental reasons. At the same time, \n",
       "some argue that sustainable farming practices, including grass-fed and pasture-raised animals, can have a lower \n",
       "environmental impact and offer important nutrients, such as vitamin B12 and high-quality protein, that may be less \n",
       "accessible in a purely plant-based diet. It's important to consider a variety of perspectives when making important\n",
       "dietary choices.\n",
       "\u001b[1;37;44m(\u001b[0m\u001b[37;44mBob\u001b[0m\u001b[1;37;44m)\u001b[0m I understand the viewpoint, but I still believe that a well-planned vegetarian diet can provide all the \n",
       "necessary nutrients while minimizing environmental impact and promoting compassion for animals.\n",
       "\u001b[1;37;44m(\u001b[0m\u001b[37;44mAlice\u001b[0m\u001b[1;37;44m)\u001b[0m You make a valid point about the potential of a well-planned vegetarian diet to meet nutritional needs \n",
       "while reducing environmental impact. It's important to acknowledge that there are different paths to promoting \n",
       "sustainability and compassion, and individual dietary choices can be influenced by a range of factors, including \n",
       "cultural, ethical, and nutritional considerations.\n",
       "\u001b[1;37;44m(\u001b[0m\u001b[37;44mBob\u001b[0m\u001b[1;37;44m)\u001b[0m Absolutely, I agree that individual dietary choices can be influenced by various factors, and it's important \n",
       "to consider a range of perspectives when making such decisions.\n"
      ]
     },
     "metadata": {},
     "output_type": "display_data"
    }
   ],
   "source": [
    "from simulate import simulated_dialogue\n",
    "d = simulated_dialogue(argubots.alice, agents.bob, 8)\n",
    "rich.print(d)"
   ]
  },
  {
   "cell_type": "markdown",
   "metadata": {},
   "source": [
    "Sometimes this kind of conversation seems to stall out, with Bob in particular repeating himself a lot.  Alice doesn't seem to have a good strategy for getting him to open up.  Maybe you can do a better job talking to Bob, and that will give you some ideas about how to improve Alice?"
   ]
  },
  {
   "cell_type": "code",
   "execution_count": 52,
   "metadata": {},
   "outputs": [
    {
     "name": "stdout",
     "output_type": "stream",
     "text": [
      "(mpark) Do you think it's ok to eat meat?\n",
      "(Bob) I believe that choosing a vegetarian diet is the best choice for both personal health and the well-being of animals and the environment.\n"
     ]
    },
    {
     "name": "stdout",
     "output_type": "stream",
     "text": [
      "(mpark) but i love the taste of meat\n",
      "(Bob) I understand that people have different tastes, but I believe that there are so many delicious and healthy vegetarian options available that can satisfy your cravings.\n",
      "(mpark) no i hate veggies\n",
      "(Bob) I encourage you to explore different vegetarian recipes and options, as there are countless delicious and diverse plant-based foods that you may enjoy.\n"
     ]
    }
   ],
   "source": [
    "myname = alicechat[0]['speaker']   # your name, pulled from an earlier dialogue\n",
    "agents.bob.converse(d[0:2].rename('Alice', myname))  # reuse the same first two turns\n",
    "None"
   ]
  },
  {
   "cell_type": "markdown",
   "metadata": {},
   "source": [
    "You can also try talking to the other characters and having Alice (or Airhead) talk to them.\n",
    "\n",
    "**You might enjoy** defining additional characters in `characters.py`, or right here in the notebook.\n",
    "Feel free to talk to those and evaluate them.  They could be variants on the exisiting characters, or something entirely new. \n",
    "\n",
    "However, **don't change the dev set** — the characters we just loaded must stay the same.  Your job in this homework is to improve the argubot (or at least try).  And that means improving it according to a fixed and stable eval measure.\n",
    "\n",
    "As an exception, you can change the languages that a couple of the characters speak. It may be fun for you to see them try to speak your native language.  And that doesn't really affect the quality of the argument."
   ]
  },
  {
   "cell_type": "code",
   "execution_count": 53,
   "metadata": {},
   "outputs": [
    {
     "data": {
      "text/html": [
       "<pre style=\"white-space:pre;overflow-x:auto;line-height:normal;font-family:Menlo,'DejaVu Sans Mono',consolas,'Courier New',monospace\"><span style=\"color: #800080; text-decoration-color: #800080; font-weight: bold\">Character</span><span style=\"font-weight: bold\">(</span>\n",
       "    <span style=\"color: #808000; text-decoration-color: #808000\">name</span>=<span style=\"color: #008000; text-decoration-color: #008000\">'TrollFace'</span>,\n",
       "    <span style=\"color: #808000; text-decoration-color: #808000\">languages</span>=<span style=\"font-weight: bold\">[</span><span style=\"color: #008000; text-decoration-color: #008000\">'Chinese'</span>, <span style=\"color: #008000; text-decoration-color: #008000\">'Spanish'</span><span style=\"font-weight: bold\">]</span>,\n",
       "    <span style=\"color: #808000; text-decoration-color: #808000\">persona</span>=<span style=\"color: #008000; text-decoration-color: #008000\">'a troll who loves to ridicule everyone and everything'</span>,\n",
       "    <span style=\"color: #808000; text-decoration-color: #808000\">conversational_style</span>=<span style=\"color: #008000; text-decoration-color: #008000\">\"You love to confound, upset, and even make fun of the people you're talking to.\"</span>,\n",
       "    <span style=\"color: #808000; text-decoration-color: #808000\">conversation_starters</span>=<span style=\"font-weight: bold\">[</span>\n",
       "        <span style=\"color: #008000; text-decoration-color: #008000\">'Do you think Donald Trump was a good president?'</span>,\n",
       "        <span style=\"color: #008000; text-decoration-color: #008000\">'Do you think Joe Biden has been a good president?'</span>\n",
       "    <span style=\"font-weight: bold\">]</span>\n",
       "<span style=\"font-weight: bold\">)</span>\n",
       "</pre>\n"
      ],
      "text/plain": [
       "\u001b[1;35mCharacter\u001b[0m\u001b[1m(\u001b[0m\n",
       "    \u001b[33mname\u001b[0m=\u001b[32m'TrollFace'\u001b[0m,\n",
       "    \u001b[33mlanguages\u001b[0m=\u001b[1m[\u001b[0m\u001b[32m'Chinese'\u001b[0m, \u001b[32m'Spanish'\u001b[0m\u001b[1m]\u001b[0m,\n",
       "    \u001b[33mpersona\u001b[0m=\u001b[32m'a troll who loves to ridicule everyone and everything'\u001b[0m,\n",
       "    \u001b[33mconversational_style\u001b[0m=\u001b[32m\"You\u001b[0m\u001b[32m love to confound, upset, and even make fun of the people you're talking to.\"\u001b[0m,\n",
       "    \u001b[33mconversation_starters\u001b[0m=\u001b[1m[\u001b[0m\n",
       "        \u001b[32m'Do you think Donald Trump was a good president?'\u001b[0m,\n",
       "        \u001b[32m'Do you think Joe Biden has been a good president?'\u001b[0m\n",
       "    \u001b[1m]\u001b[0m\n",
       "\u001b[1m)\u001b[0m\n"
      ]
     },
     "metadata": {},
     "output_type": "display_data"
    },
    {
     "data": {
      "text/plain": [
       "(Alice) Do you think Donald Trump was a good president?\n",
       "(TrollFace) 你在说什么？特朗普？哈哈，他就好像一部荒谬的喜剧电影的主角一样，总是让人捧腹大笑！\n",
       "(Alice) 懂得欣赏政治丑闻确实很有趣，但特朗普也吸引了大批美国选民。他的支持者认为他能够打破传统政治，并且对经济有所改善。\n",
       "(TrollFace) 哦，是吗？也许他的支持者被他那荒谬的发型和荒唐的推特所吸引吧！不过，也许他的政治丑闻和无稽之谈更足以让人捧腹大笑了！\n",
       "(Alice) 确实，特朗普的发型和社交媒体使用方式引起了许多争议。然而，一些人认为他的直言不讳和反传统政治风格使他看起来更接地气，而一些他的政策也受到了一些人的支持。\n",
       "(TrollFace) 哦，难怪有人支持他，也许他们也欣赏他那令人捧腹的表演和无厘头的言论吧！不过，他的政策也许是另一部搞笑剧的笑料！"
      ]
     },
     "execution_count": 53,
     "metadata": {},
     "output_type": "execute_result"
    }
   ],
   "source": [
    "# example\n",
    "trollFace2 = characters.trollFace.replace(languages = [\"Chinese\", \"Spanish\"])\n",
    "rich.print(trollFace2)\n",
    "simulated_dialogue(argubots.alice, CharacterAgent(trollFace2), 6)"
   ]
  },
  {
   "cell_type": "markdown",
   "metadata": {},
   "source": [
    "### Efficiency: Batched generation?\n",
    "\n",
    "Notice that we are making a separate LLM call to generate each turn of the dialogue.  When we generate the $n^\\text{th}$ turn, we send the server the whole dialogue history — the previous $n\\!-\\!1$ turns — along with some instructions.  The server has to re-encode it with the Transformer, and it charges us for doing so (see the \"input token\" costs in `tracking.py`).  \n",
    "\n",
    "That is probably inevitable for real dialogue.  But for simulated dialogue, a more efficient approach would be to generate the whole dialogue between Alice and Bob in one LLM call.  Then you would be charged just once for each dialogue turn.  Under this approach, the Transformer encodes each token as soon as it is generated (see the \"output token\" costs in `tracking.py`).  The encoded token stays in the context throughout the dialogue, so it doesn't have to be re-encoded on a later call.  There is no later call.  \n",
    "\n",
    "Under current pricing models, that would reduce the dollar cost of generating $n$ turns from $O(n^2)$ to $O(n)$.  \n",
    "\n",
    "However, the pricing model doesn't quite reflect the computational costs.  \n",
    "* ![image](handin.png) Using $O(\\cdot)$ notation, what is the total number of floating-point operations needed to generate $n$ turns under each approach?  \n",
    "* ![image](handin.png) Parallelism may help reduce the runtime.  Using $O(\\cdot)$ notation, what is the total number of seconds needed to generate $n$ turns under each approach?  (Assume that the GPU is big enough, relative to $n$, that it can process all input tokens in parallel.)"
   ]
  },
  {
   "cell_type": "markdown",
   "metadata": {},
   "source": [
    "The problem with the more efficient approach is that it gives you no way to change the instructions (the system prompt) each time we switch from Alice to Bob and back again.  You'd need to generate the whole conversation using a single set of instructions.\n",
    "\n",
    "![image](handin.png)\n",
    "Can you get this to work?  Specifically, try completing the cell below.  You don't have to use the `Agent` or `Dialogue` classes.  It's okay to just throw together something like the `complete()` method above.  Just see whether you can manage to prompt GPT-3.5 to generate a multi-turn dialogue between two characters who have different personalities and goals.  Is the quality better or worse than generating one turn at a time?  If worse, does it help to switch to GPT-4?"
   ]
  },
  {
   "cell_type": "code",
   "execution_count": 54,
   "metadata": {},
   "outputs": [
    {
     "data": {
      "text/html": [
       "<pre style=\"white-space:pre;overflow-x:auto;line-height:normal;font-family:Menlo,'DejaVu Sans Mono',consolas,'Courier New',monospace\">Bob: Personally, I believe that it's not okay to eat meat. I think it's cruel to animals and bad for the \n",
       "environment.\n",
       "\n",
       "Cara: Well, I respect your opinion, but I don't agree. I believe that humans have been eating meat for centuries \n",
       "and it's a natural part of our diet.\n",
       "\n",
       "Bob: I understand where you're coming from, but I think we have other options now. There are plenty of delicious \n",
       "plant-based alternatives.\n",
       "\n",
       "Cara: I've tried some plant-based options, but I just can't give up meat. I love the taste and it's a big part of \n",
       "my culture and traditions.\n",
       "\n",
       "Bob: I get that, but have you considered the health benefits of a vegetarian diet? It can lower your risk of heart \n",
       "disease and certain cancers.\n",
       "\n",
       "Cara: I appreciate your concern, but I believe I can still maintain a healthy diet while including meat. Plus, I \n",
       "just can't imagine giving up my favorite dishes.\n",
       "\n",
       "Bob: I understand, but I still think it's worth considering the impact that meat consumption has on the planet. \n",
       "It's a major contributor to deforestation and greenhouse gas emissions.\n",
       "\n",
       "Cara: I hear what you're saying, but I think there are other ways to address environmental issues. I try to support\n",
       "sustainable and ethical meat producers when I can.\n",
       "</pre>\n"
      ],
      "text/plain": [
       "Bob: Personally, I believe that it's not okay to eat meat. I think it's cruel to animals and bad for the \n",
       "environment.\n",
       "\n",
       "Cara: Well, I respect your opinion, but I don't agree. I believe that humans have been eating meat for centuries \n",
       "and it's a natural part of our diet.\n",
       "\n",
       "Bob: I understand where you're coming from, but I think we have other options now. There are plenty of delicious \n",
       "plant-based alternatives.\n",
       "\n",
       "Cara: I've tried some plant-based options, but I just can't give up meat. I love the taste and it's a big part of \n",
       "my culture and traditions.\n",
       "\n",
       "Bob: I get that, but have you considered the health benefits of a vegetarian diet? It can lower your risk of heart \n",
       "disease and certain cancers.\n",
       "\n",
       "Cara: I appreciate your concern, but I believe I can still maintain a healthy diet while including meat. Plus, I \n",
       "just can't imagine giving up my favorite dishes.\n",
       "\n",
       "Bob: I understand, but I still think it's worth considering the impact that meat consumption has on the planet. \n",
       "It's a major contributor to deforestation and greenhouse gas emissions.\n",
       "\n",
       "Cara: I hear what you're saying, but I think there are other ways to address environmental issues. I try to support\n",
       "sustainable and ethical meat producers when I can.\n"
      ]
     },
     "metadata": {},
     "output_type": "display_data"
    }
   ],
   "source": [
    "# Like `simulated_dialogue` in `simulate.py`. However, this one is called on two\n",
    "# Characters, not two Agents, and it returns a string rather than a Dialogue.\n",
    "import random \n",
    "from tracking import default_client, default_model\n",
    "from characters import Character\n",
    "\n",
    "def simulated_dialogue_batch(a: Character, b: Character, turns: int = 8, *,\n",
    "                             starter=True) -> str:\n",
    "    \n",
    "    if starter:\n",
    "        # a tries to take a special first turn\n",
    "        try:\n",
    "            starters = b.conversation_starters  # type: ignore\n",
    "            content = random.choice(starters)\n",
    "        except (AttributeError, TypeError, ValueError):\n",
    "            pass\n",
    "\n",
    "    list = complete(client, \n",
    "             \"Generate a dialogue between \" + a.name + \" and \" + b.name + \" with \" + str(turns) + \" turns.\\n\\n\" + \n",
    "             a.name + \" is a \" + a.persona + \" and \" + a.conversational_style + \".\\n\\n\" +\n",
    "             b.name + \" is a \" + b.persona + \" and \" + b.conversational_style + \".\\n\\n\" +\n",
    "             a.name + \" begins by replying to prompt: \" + content + \".\\n\\n\", \n",
    "            n=1, temperature=0.5)\n",
    "    return list[0]\n",
    "    \n",
    "# Try it out!\n",
    "result = simulated_dialogue_batch(characters.bob, characters.cara)\n",
    "rich.print(result)\n",
    "\n",
    "# d = simulated_dialogue(CharacterAgent(characters.bob), CharacterAgent(characters.cara), 8)\n",
    "# rich.print(d)"
   ]
  },
  {
   "cell_type": "code",
   "execution_count": 55,
   "metadata": {},
   "outputs": [
    {
     "data": {
      "text/plain": [
       "(Bob) Do you think it's ok to eat meat?\n",
       "(Cara) Yes, I believe it's a personal choice whether or not to eat meat.\n",
       "(Bob) I understand that it's a personal choice, but have you considered the ethical and environmental impact of meat consumption?\n",
       "(Cara) I'm aware of the discussions around the ethical and environmental impact of meat consumption, but I believe everyone has their own perspectives on this matter.\n",
       "(Bob) I appreciate that everyone has their own perspectives, but I hope you can consider the benefits of vegetarianism for animals and the planet.\n",
       "(Cara) I understand that vegetarianism has its benefits, but I personally choose to continue consuming meat for my own reasons."
      ]
     },
     "execution_count": 55,
     "metadata": {},
     "output_type": "execute_result"
    }
   ],
   "source": [
    "simulated_dialogue(agents.bob, agents.cara)"
   ]
  },
  {
   "cell_type": "code",
   "execution_count": 56,
   "metadata": {},
   "outputs": [
    {
     "data": {
      "text/plain": [
       "(Eve) Do you think Donald Trump was a good president?\n",
       "(TrollFace) Oh, the man who made \"covfefe\" a thing? Classic.\n",
       "(Eve) Haha, yes, that was quite a memorable moment!\n",
       "(TrollFace) I know, right? It's like he invented a whole new language by accident!\n",
       "(Eve) It's amazing how one little typo can create such a stir!\n",
       "(TrollFace) It's like a modern-day Shakespearean tragedy, but with Twitter instead of a stage."
      ]
     },
     "execution_count": 56,
     "metadata": {},
     "output_type": "execute_result"
    }
   ],
   "source": [
    "simulated_dialogue(agents.eve, agents.trollFace)"
   ]
  },
  {
   "cell_type": "markdown",
   "metadata": {},
   "source": [
    "# Model-based evaluation"
   ]
  },
  {
   "cell_type": "markdown",
   "metadata": {},
   "source": [
    "What is our goal for the argubot?  We'd like it to broaden the thinking of the (simulated) human that it is talking to.  Indeed, that's what Alice's prompt tells Alice to do.\n",
    "\n",
    "This goal is inspired by the recent paper [Opening up Minds with Argumentative Dialogues](https://aclanthology.org/2022.findings-emnlp.335/), which collected human-human dialogues:\n",
    "\n",
    "> In this work, we focus on argumentative dialogues that aim to open up (rather than change) people’s minds to help them become more understanding to views that are unfamiliar or in opposition to their own convictions. ... Success of the dialogue is measured as the change in the participant’s stance towards those who hold opinions different to theirs.\n",
    "\n",
    "Arguments of this sort are not like chess or tennis games, with an actual winner.  The argubot will almost never hear a human say \"You have convinced me that I was wrong.\"  But the argubot did a good job if the human developed **increased understanding and respect for an opposing point of view**.  "
   ]
  },
  {
   "cell_type": "markdown",
   "metadata": {},
   "source": [
    "To find out whether this happened, we can use a questionnaire to ask the human what they thought after the dialogue.  For example, after Alice talks to Bob, we'll ask Bob to evaluate what he thinks of Alice's views.  Of course, that depends on his personality — Alice needs to talk to him in a way that reaches *him* (as much as possible).  We'll also ask an outside observer to evaluate whether Alice handled the conversation with Bob well.\n",
    "\n",
    "Of course, we're still not going to use real humans.  Bob is a fake person, and so is the outside observer (whose name is Judge Wise).\n",
    "Using an LLM as an eval metric is known as *model-based evaluation*.  It has pros and cons:\n",
    "* It is cheaper, faster, and more replicable than hiring actual humans to do the evaluation.  \n",
    "* It might give different answers than what humans would give.   \n",
    "\n",
    "Social scientists usually refer to a metric's **reliability** (low variance) and **validity** (low bias).  So the points above say that model-based evaluation is reliable but not necessarily valid.  In general, an LLM-based metric (like any metric) needs to be validated to confirm that it really does measure what it claims to measure.  (For example, that it correlates strongly with some other measure that we already trust.)  In this homework, we'll skip this step and just pray that the metric is reasonable.\n",
    "\n",
    "To see how this works out in practice, open up the `demo` notebook, which walks you through the evaluation protocol.  You'll see how to call the [starter code](http://cs.jhu.edu/~jason/465/hw/llm), how it talks to the LLM behind the scenes, and what it is able to accomplish. \n",
    "\n",
    "To help to validate the metric, check that Airhead gets a low score.  (It should!)"
   ]
  },
  {
   "cell_type": "markdown",
   "metadata": {},
   "source": [
    "# Reading the starter code"
   ]
  },
  {
   "cell_type": "markdown",
   "metadata": {},
   "source": [
    "The `demo` notebook gave you a good high-level picture of what the starter code is doing.  So now you're probably curious about the details.  Now that you've had the view from the top, here's a good bottom-up order in which to study the code.  You don't need to understand every detail, but you will need to understand enough to call it and extend it.\n",
    "\n",
    "* `character.py`.  The `Character` class is short and easy.\n",
    "\n",
    "* `dialogue.py`.  The `Dialogue` class is meant to serve as a record of a natural-language conversation among any number of humans and/or agents.  On each *turn* of the dialogue, one of the speakers says something.  \n",
    "\n",
    "   The dialogue's sequence of turns may remind you of the sequence of messages that is sent to OpenAI's chat completions API.  But the OpenAI messages are only labeled with the 4 special roles `user`, `assistant`, `tool`, and `system`.  Those are not quite the same thing as human speakers.  And the OpenAI messages do not necessarily form a natural-language dialogue: some of the messages are dealing with instructions, few-shot prompting, tool use, and so on.  The `agents.dialogue_to_openai` function in the next module will map a `Dialogue` to a (hopefully appropriate) sequence of messages for asking the LLM to extend that dialogue.\n",
    "\n",
    "* `agents.py`.  This module sets up the problem of automatically predicting the next turn in a dialogue, by implementing an `Agent`'s `response()` method.  The `Agent` base class also has some simple convenience methods that you should look at.  \n",
    "\n",
    "   Some important subclasses of `Agent` are defined here as well.  However, you may want to skip over `EvaluationAgent` and come back to it only when you read `eval.py`.\n",
    "\n",
    "* `simulate.py` makes agents talk to one another, which we'll do during evaluation.\n",
    "\n",
    "* `argubots.py` starts to describe some useful agents.  One of them makes use of the `kialo.py` module, which gives access to a database of arguments.\n",
    "\n",
    "* `eval.py` makes use of `simulate.simulated_dialogue` to `agents.EvaluationAgent` to evaluate an argubot.\n",
    "\n",
    "* We also have a couple of utility modules.  These aren't about NLP; look inside if needed.  `logging_cm.py` is what enabled the context manager `with LoggingContext(...):` in the demo notebook.  `tracking.py` sets some global defaults about how to use the OpenAI API, and arranges to track how many tokens we're paying for when you call it."
   ]
  },
  {
   "cell_type": "markdown",
   "metadata": {},
   "source": [
    "# Similarity-based retrieval: Looking up relevant responses\n",
    "\n",
    "Now, it is fine to prompt an LLM to generate text, but there are other methods!\n",
    "There is a long history of machine learning methods that \"memorize\" the training data.\n",
    "To make a prediction or decision at test time, they consult the stored training examples\n",
    "that are most similar to the training situation.\n",
    "\n",
    "_Similarity-based retrieval_ means that given a document $x$, you find the \"most similar\" documents $y \\in Y$, where $Y$ is a given collection of documents.  The most common way to do this is to maximize the _cosine similarity_ $\\vec{e}(x) \\cdot \\vec{e}(y)$, where $\\vec{e}(\\cdot)$ is an embedding function.\n",
    "\n",
    "Should we use the OpenAI embedding model?  We could, but we would have to precompute $\\vec{e}(y)$ for all $y \\in Y$, and store all these vectors in a data structure that supports some type of fast similarity-based search (e.g., using the [FAISS](https://faiss.ai/index.html) package).  An alternative would be to upload the documents to OpenAI and let OpenAI compute and store the embeddings.  We would then use their similarity-based [retrieval tool](https://platform.openai.com/docs/assistants/overview).\n",
    "\n",
    "A simpler and faster approach—which sometimes even works better—is to use a _bag of tokens_ embedding function: Define $\\vec{e}(y)$ to be the vector in $\\mathbb{R}^V$ that records the count of each type of token in a tokenized version of $y$, where $V$ is the token vocabulary.  [BM25](https://en.wikipedia.org/wiki/Okapi_BM25) is a refined variant of that idea, where the counts are adjusted in 3 ways: \n",
    "\n",
    "* smooth the counts\n",
    "* normalize for the document length $|y|$ so that longer documents $y$ are not more likely to be retrieved\n",
    "* downweight tokens that are more common in the corpus (such as ` the` or `ing`) since they provide less information about the content of the document\n"
   ]
  },
  {
   "cell_type": "markdown",
   "metadata": {},
   "source": [
    "You might like to play with the `rank_bm25` package ([documentation](https://pypi.org/project/rank-bm25/)).  It is widely used and very easy to use."
   ]
  },
  {
   "cell_type": "code",
   "execution_count": 57,
   "metadata": {},
   "outputs": [
    {
     "name": "stdout",
     "output_type": "stream",
     "text": [
      "[['Hello', 'there', 'good', 'man!'], ['It', 'is', 'quite', 'windy', 'in', 'London'], ['How', 'is', 'the', 'weather', 'today?']]\n"
     ]
    }
   ],
   "source": [
    "from rank_bm25 import BM25Okapi as BM25_Index   # the standard BM25 method\n",
    "\n",
    "# experiment here!  You could try the examples in the rank_bm25 documentation.\n",
    "from rank_bm25 import BM25Okapi\n",
    "\n",
    "corpus = [\n",
    "    \"Hello there good man!\",\n",
    "    \"It is quite windy in London\",\n",
    "    \"How is the weather today?\"\n",
    "]\n",
    "\n",
    "tokenized_corpus = [doc.split(\" \") for doc in corpus]\n",
    "print(tokenized_corpus)\n",
    "bm25 = BM25Okapi(tokenized_corpus)"
   ]
  },
  {
   "cell_type": "code",
   "execution_count": 58,
   "metadata": {},
   "outputs": [
    {
     "data": {
      "text/plain": [
       "array([0.        , 0.93729472, 0.        ])"
      ]
     },
     "execution_count": 58,
     "metadata": {},
     "output_type": "execute_result"
    }
   ],
   "source": [
    "query = \"windy London\"\n",
    "tokenized_query = query.split(\" \")\n",
    "\n",
    "doc_scores = bm25.get_scores(tokenized_query)\n",
    "doc_scores"
   ]
  },
  {
   "cell_type": "code",
   "execution_count": 59,
   "metadata": {},
   "outputs": [
    {
     "data": {
      "text/plain": [
       "['It is quite windy in London']"
      ]
     },
     "execution_count": 59,
     "metadata": {},
     "output_type": "execute_result"
    }
   ],
   "source": [
    "bm25.get_top_n(tokenized_query, corpus, n=1)"
   ]
  },
  {
   "cell_type": "markdown",
   "metadata": {},
   "source": [
    "## The Kialo corpus\n",
    "\n",
    "How can we use similarity-based retrieval to help build an argubot?  It's largely about having the right data!\n",
    "\n",
    "[Kialo](kialo.com) is a collaboratively edited website (like Wikipedia) for discussing political and philosophical topics.  For each topic, the contributors construct a tree of _claims_.  Each claim is a natural-language sentence (usually), and each of its children is another claim that supports it (\"pro\") or opposes it (\"con\").  For example, check out the tree rooted at the claim [\"All humans should be vegan.\"](https://www.kialo.com/all-humans-should-be-vegan-2762).\n",
    "\n",
    "We provide a class `Kialo` for browsing a collection of such trees.  Please read the [source code](https://www.cs.jhu.edu/~jason/465/hw-llm) in `kialo.py`.  The class constructor reads in text files that are [exported Kialo discussions](https://support.kialo.com/en/hc/exporting-a-discussion/); we have provided some in the [data directory](https://www.cs.jhu.edu/~jason/465/hw-llm/data).  The class includes a BM25 index, to be able to find claims that are relevant to a given string."
   ]
  },
  {
   "cell_type": "code",
   "execution_count": 3,
   "metadata": {},
   "outputs": [],
   "source": [
    "from kialo import Kialo"
   ]
  },
  {
   "cell_type": "markdown",
   "metadata": {},
   "source": [
    "Ok, let's pull the retrieved discussions (the `.txt` files) into our data structure.\n",
    "\n",
    "For BM25 purposes, we have to be able to turn each document (that is, each Kialo claim) as a list of string or integer tokens. "
   ]
  },
  {
   "cell_type": "code",
   "execution_count": 6,
   "metadata": {},
   "outputs": [
    {
     "data": {
      "text/plain": [
       "'This Kialo subset contains 6251 claims'"
      ]
     },
     "execution_count": 6,
     "metadata": {},
     "output_type": "execute_result"
    }
   ],
   "source": [
    "from typing import List\n",
    "import glob\n",
    "\n",
    "# kialo = Kialo(glob.glob(\"data/*\"), tokenizer=tokenizer.encode)  # using the LLM's tokenizer doesn't work here for some reason\n",
    "kialo = Kialo(glob.glob(\"data/*\"))  # use simple default tokenizer\n",
    "f\"This Kialo subset contains {len(kialo)} claims\""
   ]
  },
  {
   "cell_type": "markdown",
   "metadata": {},
   "source": [
    "Let's use sampling to see what kind of stuff is in the data structure."
   ]
  },
  {
   "cell_type": "code",
   "execution_count": 7,
   "metadata": {},
   "outputs": [
    {
     "data": {
      "text/plain": [
       "['He has spoken words in public that indicates he is racist.']"
      ]
     },
     "execution_count": 7,
     "metadata": {},
     "output_type": "execute_result"
    }
   ],
   "source": [
    "kialo.random_chain()   # just a single random claim"
   ]
  },
  {
   "cell_type": "code",
   "execution_count": 8,
   "metadata": {},
   "outputs": [
    {
     "data": {
      "text/plain": [
       "['Eating and producing meat heavily contributes to climate change.',\n",
       " \"The meat lover's diet has the worst carbon footprint: about double the amount of a vegan diet.\",\n",
       " 'Transforming into a vegan diet may do very little to reduce climate change as business\\xa0organisations may simply create artificial products for human consumption that may re-enforce the issue of greenhouse gasses and pollution thereby re-enforcing the issue of climate change rather than ending it and further adding to the poor diet in humans',\n",
       " 'Just because something can go wrong in one very specific way does not mean it is not worth attempting where other outcomes are possible, especially if the risk of adverse outcomes is known and addressed.']"
      ]
     },
     "execution_count": 8,
     "metadata": {},
     "output_type": "execute_result"
    }
   ],
   "source": [
    "kialo.random_chain(n=4)"
   ]
  },
  {
   "cell_type": "markdown",
   "metadata": {},
   "source": [
    "### Similarity-based retrieval from the Kialo corpus\n",
    "\n",
    "Let's try it, using BM25!"
   ]
  },
  {
   "cell_type": "code",
   "execution_count": 9,
   "metadata": {},
   "outputs": [
    {
     "data": {
      "text/plain": [
       "['Industrial agriculture can dangerously decrease animal populations.',\n",
       " 'Sustainable livestock farming is not contributing to significant decreases in animal populations. Decreasing animal populations is a problem specific to industrial livestock farming.',\n",
       " 'Effective vegan methods to control animal populations exist.',\n",
       " \"Generally feeding animals farm-grown produce is thought to have harmful affects on both the animal and human populations of a region when we could allow nature to self-regulate its populations. Animal feeding could potentially be used to lessen the immediate impact of widespread deforestation on some species, but generally this would be drastically less efficient than choosing not to destroy their habitats in the first place and would only slow the local animal population's imminent demise.\",\n",
       " 'Trap, neuter, and release schemes already exist for some animal populations (such as feral cats). These schemes could be applied to former livestock living in the wild.',\n",
       " 'Human-introduced species have historically devastated local wildlife populations across the world.',\n",
       " 'COVID-19 has devastated prison populations, whose lives are the responsibility of the state.',\n",
       " 'Prison populations have high numbers of individuals with pre-existing conditions making them high risk for COVID-19.',\n",
       " 'High demand for vegan foods may hike prices for local populations that previously depended on them.',\n",
       " 'Marginalized populations are unlikely to feel the effects of the economic recovery without additional policy interventions.']"
      ]
     },
     "execution_count": 9,
     "metadata": {},
     "output_type": "execute_result"
    }
   ],
   "source": [
    "kialo.closest_claims(\"animal populations\", n=10)"
   ]
  },
  {
   "cell_type": "markdown",
   "metadata": {},
   "source": [
    "We can restrict to claims for which the Kialo data structure has at least one counterargument (\"con\" child)."
   ]
  },
  {
   "cell_type": "code",
   "execution_count": 10,
   "metadata": {},
   "outputs": [
    {
     "data": {
      "text/plain": [
       "['Industrial agriculture can dangerously decrease animal populations.',\n",
       " 'Effective vegan methods to control animal populations exist.',\n",
       " 'Human-introduced species have historically devastated local wildlife populations across the world.',\n",
       " 'COVID-19 has devastated prison populations, whose lives are the responsibility of the state.',\n",
       " 'High demand for vegan foods may hike prices for local populations that previously depended on them.',\n",
       " 'It is generally poorer countries that have expanding populations. The first world has now reached a point of stagnant population growth - even declining populations, as in the case of Japan and others. The inability of poorer countries to control their populations should not impact the lives of those in the first world. The first world having earned their luxuries and should not be denied them.',\n",
       " 'Vegan populations are, on average, less likely to suffer from obesity, a major risk factor for many diseases and health problems.',\n",
       " 'Humans, as apex predators who have usurped the predatory apexes of the other predators in the ecosystems we have come to also inhabit, have an ethical responsibility to keep those ecosystems in check so that, eg, rampant deer populations do not cause deforestation and subsequent ecosystem collapse.  Even where there are populations of healthy apex predators, these populations should also be checked so they do not cause problems and kill people- and it would be unethical to waste that meat.',\n",
       " 'There are more ethical routes to obtain animal products that emphasize animal welfare and dignity.',\n",
       " 'Animal slaughter can be mechanized.']"
      ]
     },
     "execution_count": 10,
     "metadata": {},
     "output_type": "execute_result"
    }
   ],
   "source": [
    "kialo.closest_claims(\"animal populations\", n=10, kind='has_cons')"
   ]
  },
  {
   "cell_type": "code",
   "execution_count": 11,
   "metadata": {},
   "outputs": [
    {
     "name": "stdout",
     "output_type": "stream",
     "text": [
      "Parent claim:\n",
      "\tIn a vegan world, fewer species would be at risk of extinction.\n",
      "Claim:\n",
      "\tIndustrial agriculture can dangerously decrease animal populations.\n",
      "Pro children:\n",
      "\t* The fishing industry is especially deleterious to the ocean's biota due to overfishing and the disruption of the natural ecosystem.\n",
      "\t* Up to 100,000 species go extinct annually, largely due to the environmental effects of animal agriculture.\n",
      "Con children:\n",
      "\t* Sustainable livestock farming is not contributing to significant decreases in animal populations. Decreasing animal populations is a problem specific to industrial livestock farming.\n"
     ]
    }
   ],
   "source": [
    "c = _[0]    # first claim above\n",
    "print(\"Parent claim:\\n\\t\" + str(kialo.parents[c]))\n",
    "print(\"Claim:\\n\\t\" + c)\n",
    "print('\\n\\t* '.join([\"Pro children:\"] + kialo.pros[c]))\n",
    "print('\\n\\t* '.join([\"Con children:\"] + kialo.cons[c]))"
   ]
  },
  {
   "cell_type": "markdown",
   "metadata": {},
   "source": [
    "### Does BM25 really work?\n",
    "\n",
    "![image](handin.png)\n",
    "Unfortunately, we see that `\"animal population\"` gives quite different results from `\"animal populations\"`.  Why is that and how would you fix it?\n",
    "\n",
    "This is because the tokenizer embeds `population` and `populations` differently, even though they’re the same word.\n",
    "\n",
    "```\n",
    "# fix? \n",
    "kialo.closest_claims(\"animal population animal populations\",10)\n",
    "```\n",
    "\n",
    "![image](handin.png)\n",
    "Also, both queries seem to retrieve some claims that are talking about human populations, not animal populations.  Why is that and how would you fix it?\n",
    "\n",
    "Some claims are about human popuulations because some claims match with only one of `animal` or `populations`. \n",
    "```\n",
    "# fix \n",
    "kialo.closest_claims(\"animal animal animal populations\",10)\n",
    "```"
   ]
  },
  {
   "cell_type": "code",
   "execution_count": 12,
   "metadata": {},
   "outputs": [
    {
     "data": {
      "text/plain": [
       "['As long as our ability to produce both animal feed crops and food crops for our human population are not exceeded, this point is irrelevant.',\n",
       " \"36% of the calories produced by the world's crops are being used for animal feed, of which only 12% then turn into animal products that can be eaten by the human population. That is a waste of 24% of the world's crops.\",\n",
       " 'The claim that \"most of the cultural shift and loss is due to mostly vegan cultures turning to animal products\" is completely unfounded, and the Brokpa people which you cited are an outlier as a group that has a population of less than 70k people. Worldwide the population of vegan people has only increased.',\n",
       " \"Developed nations are fueling the 3rd world and underdeveloped nation's population boom by exporting/donating food to areas that cannot sustain their current population.\",\n",
       " 'This argument assumes that sentience is the only objection to the consumption of animal products, failing to address the issues involved with the disruption of healthy ecosystems due to the large, growing human population.',\n",
       " 'West Virginia has vaccinated 84.5% of its population.',\n",
       " 'Nature itself has a way of regulating wild life population. In the long run the population of for example cows will decrease, ensuring enough food.',\n",
       " \"The population of sea birds has fallen almost 70% from 1950 to 2010 as industrial fishing has depleted the oceans' fisheries.Seabirds suffering massive population declines\",\n",
       " \"Changing farming to feed a growing world population is only a never-ending treadmill if the population continues to grow. The vast majority of the world's population growth takes place in industrializing nations. Population growth tends to level off in post-industrial nations and although these richer nations often import large amounts of luxury food, most of them are capable of producing all the food they need. As economic development becomes more uniform worldwide, population growth will slow.\",\n",
       " 'The US population 18 and under is 72 million']"
      ]
     },
     "execution_count": 12,
     "metadata": {},
     "output_type": "execute_result"
    }
   ],
   "source": [
    "kialo.closest_claims(\"animal population\",10)"
   ]
  },
  {
   "cell_type": "code",
   "execution_count": 13,
   "metadata": {},
   "outputs": [
    {
     "data": {
      "text/plain": [
       "['Industrial agriculture can dangerously decrease animal populations.',\n",
       " 'Sustainable livestock farming is not contributing to significant decreases in animal populations. Decreasing animal populations is a problem specific to industrial livestock farming.',\n",
       " 'Effective vegan methods to control animal populations exist.',\n",
       " \"Generally feeding animals farm-grown produce is thought to have harmful affects on both the animal and human populations of a region when we could allow nature to self-regulate its populations. Animal feeding could potentially be used to lessen the immediate impact of widespread deforestation on some species, but generally this would be drastically less efficient than choosing not to destroy their habitats in the first place and would only slow the local animal population's imminent demise.\",\n",
       " 'Trap, neuter, and release schemes already exist for some animal populations (such as feral cats). These schemes could be applied to former livestock living in the wild.',\n",
       " \"36% of the calories produced by the world's crops are being used for animal feed, of which only 12% then turn into animal products that can be eaten by the human population. That is a waste of 24% of the world's crops.\",\n",
       " 'As long as our ability to produce both animal feed crops and food crops for our human population are not exceeded, this point is irrelevant.',\n",
       " 'There are more ethical routes to obtain animal products that emphasize animal welfare and dignity.',\n",
       " 'Animal slaughter can be mechanized.',\n",
       " 'It is generally poorer countries that have expanding populations. The first world has now reached a point of stagnant population growth - even declining populations, as in the case of Japan and others. The inability of poorer countries to control their populations should not impact the lives of those in the first world. The first world having earned their luxuries and should not be denied them.']"
      ]
     },
     "execution_count": 13,
     "metadata": {},
     "output_type": "execute_result"
    }
   ],
   "source": [
    "kialo.closest_claims(\"animal populations animal population\", 10)"
   ]
  },
  {
   "cell_type": "code",
   "execution_count": 14,
   "metadata": {},
   "outputs": [
    {
     "data": {
      "text/plain": [
       "['There are more ethical routes to obtain animal products that emphasize animal welfare and dignity.',\n",
       " 'Animal slaughter can be mechanized.',\n",
       " 'The word \"animal\" has wider range than word \"human\". Although every human is an animal, not every animal is a human. Statements concerning more narrow terms do not necessarily apply to wider terms.',\n",
       " \"36% of the calories produced by the world's crops are being used for animal feed, of which only 12% then turn into animal products that can be eaten by the human population. That is a waste of 24% of the world's crops.\",\n",
       " 'Human pleasure evaporates quickly while an animal life is lost forever. These after effects make an animal life worth more.',\n",
       " 'Humans should stop eating animal meat.',\n",
       " 'Properly managed animal farming can benefit biodiversity.',\n",
       " 'Veganism reduces both human and animal suffering.',\n",
       " 'Industrial agriculture can dangerously decrease animal populations.',\n",
       " 'The religion of Tengrism involves animal sacrifice.']"
      ]
     },
     "execution_count": 14,
     "metadata": {},
     "output_type": "execute_result"
    }
   ],
   "source": [
    "kialo.closest_claims(\"animal animal animal population\", 10)"
   ]
  },
  {
   "cell_type": "markdown",
   "metadata": {},
   "source": [
    "## A retrieval bot (Akiko)\n",
    "\n",
    "The starter code defines a simple argubot named Akiko (defined in `argubots.py`) that doesn't use an LLM at all.  It simply finds a Kialo claim that is similar to what the human just said, and responds with one of the Kialo counterarguments to that claim.\n",
    "\n",
    "You already watched Akiko argue with Darius in `demo.py`.  If you look at the log messages, you'll see the claims that Akiko retrieved, as well as the LLM calls that Darius made.  \n",
    "\n",
    "You can talk to Akiko yourself now.  (Remember that Akiko only knows about subjects that it read about in the [`data` directory](https://www.cs.jhu.edu/~jason/465/hw-llm/data/).  If you want to talk about something else, you can add more conversations from [kialo.com]; see the [LICENSE](https://www.cs.jhu.edu/~jason/465/hw-llm/data/LICENSE) file.)\n"
   ]
  },
  {
   "cell_type": "code",
   "execution_count": 17,
   "metadata": {},
   "outputs": [
    {
     "name": "stdout",
     "output_type": "stream",
     "text": [
      "\n"
     ]
    },
    {
     "data": {
      "text/html": [
       "<pre style=\"white-space:pre;overflow-x:auto;line-height:normal;font-family:Menlo,'DejaVu Sans Mono',consolas,'Courier New',monospace\"><span style=\"color: #000000; text-decoration-color: #000000; background-color: #00ff00\">Chose similar claim from Kialo:</span>                                                                      <a href=\"file:///Users/mpark/llm/argubots.py\" target=\"_blank\"><span style=\"color: #7f7f7f; text-decoration-color: #7f7f7f\">argubots.py</span></a><span style=\"color: #7f7f7f; text-decoration-color: #7f7f7f\">:</span><a href=\"file:///Users/mpark/llm/argubots.py#64\" target=\"_blank\"><span style=\"color: #7f7f7f; text-decoration-color: #7f7f7f\">64</span></a>\n",
       "<span style=\"color: #000000; text-decoration-color: #000000; background-color: #00ff00\">Animals produce methane which is bad for the environment.</span>                                            <span style=\"color: #7f7f7f; text-decoration-color: #7f7f7f\">              </span>\n",
       "</pre>\n"
      ],
      "text/plain": [
       "\u001b[30;102mChose similar claim from Kialo:\u001b[0m                                                                      \u001b]8;id=991605;file:///Users/mpark/llm/argubots.py\u001b\\\u001b[2margubots.py\u001b[0m\u001b]8;;\u001b\\\u001b[2m:\u001b[0m\u001b]8;id=970993;file:///Users/mpark/llm/argubots.py#64\u001b\\\u001b[2m64\u001b[0m\u001b]8;;\u001b\\\n",
       "\u001b[30;102mAnimals produce methane which is bad for the environment.\u001b[0m                                            \u001b[2m              \u001b[0m\n"
      ]
     },
     "metadata": {},
     "output_type": "display_data"
    },
    {
     "name": "stdout",
     "output_type": "stream",
     "text": [
      "(mpark) meat is bad\n",
      "(Akiko) All animals including humans and many plant related source produce methane and not just livestock. Source: link.springer.com\n"
     ]
    },
    {
     "data": {
      "text/html": [
       "<pre style=\"white-space:pre;overflow-x:auto;line-height:normal;font-family:Menlo,'DejaVu Sans Mono',consolas,'Courier New',monospace\"><span style=\"color: #000000; text-decoration-color: #000000; background-color: #00ff00\">Chose similar claim from Kialo:</span>                                                                      <a href=\"file:///Users/mpark/llm/argubots.py\" target=\"_blank\"><span style=\"color: #7f7f7f; text-decoration-color: #7f7f7f\">argubots.py</span></a><span style=\"color: #7f7f7f; text-decoration-color: #7f7f7f\">:</span><a href=\"file:///Users/mpark/llm/argubots.py#64\" target=\"_blank\"><span style=\"color: #7f7f7f; text-decoration-color: #7f7f7f\">64</span></a>\n",
       "<span style=\"color: #000000; text-decoration-color: #000000; background-color: #00ff00\">Farming cows and sheep are responsible for </span><span style=\"color: #008080; text-decoration-color: #008080; background-color: #00ff00; font-weight: bold\">37</span><span style=\"color: #000000; text-decoration-color: #000000; background-color: #00ff00\">% of the total methane generated by human activity.</span>     <span style=\"color: #7f7f7f; text-decoration-color: #7f7f7f\">              </span>\n",
       "</pre>\n"
      ],
      "text/plain": [
       "\u001b[30;102mChose similar claim from Kialo:\u001b[0m                                                                      \u001b]8;id=646316;file:///Users/mpark/llm/argubots.py\u001b\\\u001b[2margubots.py\u001b[0m\u001b]8;;\u001b\\\u001b[2m:\u001b[0m\u001b]8;id=467503;file:///Users/mpark/llm/argubots.py#64\u001b\\\u001b[2m64\u001b[0m\u001b]8;;\u001b\\\n",
       "\u001b[30;102mFarming cows and sheep are responsible for \u001b[0m\u001b[1;36;102m37\u001b[0m\u001b[30;102m% of the total methane generated by human activity.\u001b[0m     \u001b[2m              \u001b[0m\n"
      ]
     },
     "metadata": {},
     "output_type": "display_data"
    },
    {
     "name": "stdout",
     "output_type": "stream",
     "text": [
      "(mpark) but cows produce a significant amount of methane which is worse than co2\n",
      "(Akiko) While the farming of cattle appears to emit methane due to digestion of grassars, grass  dies and rots (emitting methand) as part of its natural cycle if not eaten.\n"
     ]
    },
    {
     "data": {
      "text/html": [
       "<pre style=\"white-space:pre;overflow-x:auto;line-height:normal;font-family:Menlo,'DejaVu Sans Mono',consolas,'Courier New',monospace\"><span style=\"color: #000000; text-decoration-color: #000000; background-color: #00ff00\">Chose similar claim from Kialo:</span>                                                                      <a href=\"file:///Users/mpark/llm/argubots.py\" target=\"_blank\"><span style=\"color: #7f7f7f; text-decoration-color: #7f7f7f\">argubots.py</span></a><span style=\"color: #7f7f7f; text-decoration-color: #7f7f7f\">:</span><a href=\"file:///Users/mpark/llm/argubots.py#64\" target=\"_blank\"><span style=\"color: #7f7f7f; text-decoration-color: #7f7f7f\">64</span></a>\n",
       "<span style=\"color: #000000; text-decoration-color: #000000; background-color: #00ff00\">Donald Trump, the point of comparision, alienates the far left at least as much, if not far more so </span> <span style=\"color: #7f7f7f; text-decoration-color: #7f7f7f\">              </span>\n",
       "<span style=\"color: #000000; text-decoration-color: #000000; background-color: #00ff00\">than Joe Biden.</span>                                                                                      <span style=\"color: #7f7f7f; text-decoration-color: #7f7f7f\">              </span>\n",
       "</pre>\n"
      ],
      "text/plain": [
       "\u001b[30;102mChose similar claim from Kialo:\u001b[0m                                                                      \u001b]8;id=486495;file:///Users/mpark/llm/argubots.py\u001b\\\u001b[2margubots.py\u001b[0m\u001b]8;;\u001b\\\u001b[2m:\u001b[0m\u001b]8;id=139431;file:///Users/mpark/llm/argubots.py#64\u001b\\\u001b[2m64\u001b[0m\u001b]8;;\u001b\\\n",
       "\u001b[30;102mDonald Trump, the point of comparision, alienates the far left at least as much, if not far more so \u001b[0m \u001b[2m              \u001b[0m\n",
       "\u001b[30;102mthan Joe Biden.\u001b[0m                                                                                      \u001b[2m              \u001b[0m\n"
      ]
     },
     "metadata": {},
     "output_type": "display_data"
    },
    {
     "name": "stdout",
     "output_type": "stream",
     "text": [
      "(mpark) well if it's not for cattle, there wouldn't be as much grass\n",
      "(Akiko) The leftist demographic never expected the Republican party to have a leftist candidate and thus did not feel alienated when Trump was selected as their Republican candidate.\n"
     ]
    }
   ],
   "source": [
    "from logging_cm import LoggingContext\n",
    "with LoggingContext(\"agents\", \"INFO\"):   # temporarily increase logging level\n",
    "    argubots.akiko.converse()\n",
    "    "
   ]
  },
  {
   "cell_type": "markdown",
   "metadata": {},
   "source": [
    "## Making your own retrieval bot (Akiki)\n",
    "\n",
    "As you can see when talking to Akiko yourself, Akiko does poorly when responding to a short or vague dialogue turn (like \"Yes\"), because the \"closest claim\" in Kialo may be about a totally different subject.  Akiko does much better at responding to a long and specific statement.  \n",
    "\n",
    "So try implementing a new argubot, called Akiki, that is very much like Akiko but does a better job of staying on topic in such cases.  It should be able to **look at more of the dialogue** than the most recent turn.  But the most recent dialogue turn should still be \"more important\" than earlier turns.  \n",
    "\n",
    "The details are up to you.  Here are a few things you could try:\n",
    "* include earlier dialogue turns in the BM25 query only if the BM25 similarity is too low without them\n",
    "* weight more recent turns more heavily in the BM25 query (how can you arrange that?)\n",
    "* treat the human's earlier turns differently from Akiki's own previous turns\n",
    "\n",
    "![image](handin.png)\n",
    "Implement your new bot in `argubots.py`, and adjust it until `argubots.akiki.converse()` seems to do a better job of answering your short turns, compared to `argubots.akiko.converse()`.  Make sure it still gives appropriate reponses to long turns, too.  Give some examples in the notebook of what worked well and badly, with discussion."
   ]
  },
  {
   "cell_type": "markdown",
   "metadata": {},
   "source": [
    "### Akiki discussion:\n",
    "\n",
    "Our strategy involves two parts. First, we implemented a threshold to check if the most probable sentence in kialo is similar enough. We set threshold as a parameter that we can tune later. We get the score from bm25.get_scores(). If it is bigger than our threhold we will do what akiko did which is finding the closest 3 sentences(claims) in the kialo and randomly picking one. If the score is smaller than our threshold, we try to incorporate all previous replies from the user and get the weighted average of their similarity score vectors and argmax to get the most probable sentence. The following is how we implemented that:\n",
    "\n",
    "We get each user sentences and get all their scores. \n",
    "\n",
    "Ex: user sentences[s1,s2,s3] \n",
    "scores will be score[s1], score[s2], etc\n",
    "score[s1] will be the same length as corpus\n",
    "\n",
    "we take these scores and multiply weight and add them together for ex: s1*0.2 s2*0.3 s3*0.5=total_s and then take argmax(total_s) and we use this as index. \n",
    "\n",
    "Then, get the corresponding sentence in corpus by this index. If this sentence is the same as previous sentence, we will take the total_s top 3 indexes and randomly pick one to get the sentence. The way we get weight is by using a weigth_const parameter.\n",
    "\n",
    "so akiki has additional two parameters thresh and weight_const.\n",
    "\n",
    "weight_const:\n",
    "\n",
    "ex: we have user sentences[s1,s2,s3] they are index 0, 1, 2\n",
    "\n",
    "w_i=normalized(weight_const^i)"
   ]
  },
  {
   "cell_type": "code",
   "execution_count": 18,
   "metadata": {},
   "outputs": [
    {
     "name": "stdout",
     "output_type": "stream",
     "text": [
      "\n"
     ]
    },
    {
     "data": {
      "text/html": [
       "<pre style=\"white-space:pre;overflow-x:auto;line-height:normal;font-family:Menlo,'DejaVu Sans Mono',consolas,'Courier New',monospace\"><span style=\"color: #000000; text-decoration-color: #000000; background-color: #00ff00\">Chose similar claim from Kialo:</span>                                                                     <a href=\"file:///Users/mpark/llm/argubots.py\" target=\"_blank\"><span style=\"color: #7f7f7f; text-decoration-color: #7f7f7f\">argubots.py</span></a><span style=\"color: #7f7f7f; text-decoration-color: #7f7f7f\">:</span><a href=\"file:///Users/mpark/llm/argubots.py#612\" target=\"_blank\"><span style=\"color: #7f7f7f; text-decoration-color: #7f7f7f\">612</span></a>\n",
       "<span style=\"color: #000000; text-decoration-color: #000000; background-color: #00ff00\">Animals produce methane which is bad for the environment.</span>                                           <span style=\"color: #7f7f7f; text-decoration-color: #7f7f7f\">               </span>\n",
       "</pre>\n"
      ],
      "text/plain": [
       "\u001b[30;102mChose similar claim from Kialo:\u001b[0m                                                                     \u001b]8;id=595348;file:///Users/mpark/llm/argubots.py\u001b\\\u001b[2margubots.py\u001b[0m\u001b]8;;\u001b\\\u001b[2m:\u001b[0m\u001b]8;id=277775;file:///Users/mpark/llm/argubots.py#612\u001b\\\u001b[2m612\u001b[0m\u001b]8;;\u001b\\\n",
       "\u001b[30;102mAnimals produce methane which is bad for the environment.\u001b[0m                                           \u001b[2m               \u001b[0m\n"
      ]
     },
     "metadata": {},
     "output_type": "display_data"
    },
    {
     "name": "stdout",
     "output_type": "stream",
     "text": [
      "(mpark) meat bad\n",
      "(Akiki) All animals including humans and many plant related source produce methane and not just livestock. Source: link.springer.com\n"
     ]
    },
    {
     "data": {
      "text/html": [
       "<pre style=\"white-space:pre;overflow-x:auto;line-height:normal;font-family:Menlo,'DejaVu Sans Mono',consolas,'Courier New',monospace\"><span style=\"color: #000000; text-decoration-color: #000000; background-color: #00ff00\">Chose similar claim from Kialo:</span>                                                                     <a href=\"file:///Users/mpark/llm/argubots.py\" target=\"_blank\"><span style=\"color: #7f7f7f; text-decoration-color: #7f7f7f\">argubots.py</span></a><span style=\"color: #7f7f7f; text-decoration-color: #7f7f7f\">:</span><a href=\"file:///Users/mpark/llm/argubots.py#612\" target=\"_blank\"><span style=\"color: #7f7f7f; text-decoration-color: #7f7f7f\">612</span></a>\n",
       "<span style=\"color: #000000; text-decoration-color: #000000; background-color: #00ff00\">Farming cows and sheep are responsible for </span><span style=\"color: #008080; text-decoration-color: #008080; background-color: #00ff00; font-weight: bold\">37</span><span style=\"color: #000000; text-decoration-color: #000000; background-color: #00ff00\">% of the total methane generated by human activity.</span>    <span style=\"color: #7f7f7f; text-decoration-color: #7f7f7f\">               </span>\n",
       "</pre>\n"
      ],
      "text/plain": [
       "\u001b[30;102mChose similar claim from Kialo:\u001b[0m                                                                     \u001b]8;id=947894;file:///Users/mpark/llm/argubots.py\u001b\\\u001b[2margubots.py\u001b[0m\u001b]8;;\u001b\\\u001b[2m:\u001b[0m\u001b]8;id=213551;file:///Users/mpark/llm/argubots.py#612\u001b\\\u001b[2m612\u001b[0m\u001b]8;;\u001b\\\n",
       "\u001b[30;102mFarming cows and sheep are responsible for \u001b[0m\u001b[1;36;102m37\u001b[0m\u001b[30;102m% of the total methane generated by human activity.\u001b[0m    \u001b[2m               \u001b[0m\n"
      ]
     },
     "metadata": {},
     "output_type": "display_data"
    },
    {
     "name": "stdout",
     "output_type": "stream",
     "text": [
      "(mpark) Farming cows and sheep are responsible for 37% of the total methane generated by human activity.\n",
      "(Akiki) While the farming of cattle appears to emit methane due to digestion of grassars, grass  dies and rots (emitting methand) as part of its natural cycle if not eaten.\n"
     ]
    },
    {
     "data": {
      "text/html": [
       "<pre style=\"white-space:pre;overflow-x:auto;line-height:normal;font-family:Menlo,'DejaVu Sans Mono',consolas,'Courier New',monospace\"><span style=\"color: #000000; text-decoration-color: #000000; background-color: #00ff00\">Chose similar claim from Kialo:</span>                                                                     <a href=\"file:///Users/mpark/llm/argubots.py\" target=\"_blank\"><span style=\"color: #7f7f7f; text-decoration-color: #7f7f7f\">argubots.py</span></a><span style=\"color: #7f7f7f; text-decoration-color: #7f7f7f\">:</span><a href=\"file:///Users/mpark/llm/argubots.py#612\" target=\"_blank\"><span style=\"color: #7f7f7f; text-decoration-color: #7f7f7f\">612</span></a>\n",
       "<span style=\"color: #000000; text-decoration-color: #000000; background-color: #00ff00\">If that actually were the case, people wouldn't be eating meat.</span>                                     <span style=\"color: #7f7f7f; text-decoration-color: #7f7f7f\">               </span>\n",
       "</pre>\n"
      ],
      "text/plain": [
       "\u001b[30;102mChose similar claim from Kialo:\u001b[0m                                                                     \u001b]8;id=165756;file:///Users/mpark/llm/argubots.py\u001b\\\u001b[2margubots.py\u001b[0m\u001b]8;;\u001b\\\u001b[2m:\u001b[0m\u001b]8;id=450692;file:///Users/mpark/llm/argubots.py#612\u001b\\\u001b[2m612\u001b[0m\u001b]8;;\u001b\\\n",
       "\u001b[30;102mIf that actually were the case, people wouldn't be eating meat.\u001b[0m                                     \u001b[2m               \u001b[0m\n"
      ]
     },
     "metadata": {},
     "output_type": "display_data"
    },
    {
     "name": "stdout",
     "output_type": "stream",
     "text": [
      "(mpark) well if it's not for cattle, there wouldn't be as much grass\n",
      "(Akiki) There are reasons beyond the taste and pleasure for why people continue to eat meat - authorities suggesting it (whether parents in childhood or dieticians/dietary specialists/diet-writers), the social acceptance of and ease of access to meat, encouragement from others to eat meat, other social factors, etc.\n"
     ]
    }
   ],
   "source": [
    "from logging_cm import LoggingContext\n",
    "with LoggingContext(\"agents\", \"INFO\"):   # temporarily increase logging level\n",
    "    argubots.akiki.converse()\n",
    "    "
   ]
  },
  {
   "cell_type": "markdown",
   "metadata": {},
   "source": [
    "### Evaluating Akiki\n",
    "\n",
    "![image](handin.png)\n",
    "Finally, do a more formal evaluation to verify whether Akiki really does better than Akiko on this dimension.  This is a way to check that you're not just fooling yourself.  \n",
    "\n",
    "1. Make a new `Agent` called \"Shorty\" that often (but not always) gives short responses.  \n",
    "    * Shorty's conversation starters should be on topics that Kialo knows about.  \n",
    "    * Shorty could be a pure `LLMAgent` such as a `CharacterAgent` with a particular `conversational_style`.  Or it could use a mixed strategy of calling the LLM on some turns and not others.\n",
    "2. Generate several *Akiko*-Shorty dialogues and several *Akiki*-Shorty dialogues, using `simulated_dialogue`.\n",
    "3. Evaluate each of those dialogues by asking Judge Wise **how well the argubot stayed on topic**.  You should write this prompt carefully so that Judge Wise gives meaningful scores.  (Before you do this evaluation step, adjust the prompt until it seems to work well on a small subset of the dialogues, Otherwise Judge Wise won't be so wise!)  \n",
    "4. Compare Akiko and Akiki's mean scores. Ideally, also compute a 95% confidence interval on the difference of means, using [this calculator](https://www.statskingdom.com/difference-confidence-interval-calculator.html).\n",
    "\n",
    "You can do all those steps in the notebook, writing _ad hoc_ code.  You don't have to write general-purpose methods or classes."
   ]
  },
  {
   "cell_type": "code",
   "execution_count": 19,
   "metadata": {},
   "outputs": [
    {
     "data": {
      "text/plain": [
       "['Joe Biden is better than Donald Trump.',\n",
       " 'Donald Trump possesses personal qualities that would render him more suitable for the presidency than Joe Biden.',\n",
       " 'During one of his court cases, Donald Trump has repeatedly violated gag orders issued to him.',\n",
       " 'Joe Biden has a demeanour and outlook that is more suitable to the office of President than that of Donald Trump.',\n",
       " 'Joe Biden makes more inaccurate claims than Trump.',\n",
       " 'The reason why Biden makes less factually inaccurate claims is that he makes more statements that are factual and vetted.',\n",
       " \"According to PolitiFact, Trump's statements they have evaluated are 26% true, mostly true or half true. Biden's are 60% true, mostly true or half true.\",\n",
       " 'Donald Trump has a history of problematic behavior.',\n",
       " 'Joe Biden has exhibited racist beliefs and attitudes throughout his political career.',\n",
       " 'Trump has been accused of sexual harassment.']"
      ]
     },
     "execution_count": 19,
     "metadata": {},
     "output_type": "execute_result"
    }
   ],
   "source": [
    "all_topics=kialo.claims['all']\n",
    "all_topics[:10]"
   ]
  },
  {
   "cell_type": "code",
   "execution_count": 22,
   "metadata": {},
   "outputs": [],
   "source": [
    "all_topics=kialo.claims['all']\n",
    "shorty_char = Character(\"Shorty\", [\"English\"], \n",
    "                \"a direct and honest person\",\n",
    "                conversational_style=\"You often (but not always) give short responses. Short As in 1 5-word sentence.\", \n",
    "                conversation_starters=all_topics[:10])\n",
    "shorty = CharacterAgent(shorty_char)"
   ]
  },
  {
   "cell_type": "code",
   "execution_count": 35,
   "metadata": {},
   "outputs": [
    {
     "data": {
      "text/plain": [
       "(Akiko) Joe Biden has a demeanour and outlook that is more suitable to the office of President than that of Donald Trump.\n",
       "(Shorty) Biden seems more presidential, yeah.\n",
       "(Akiko) It is possible that Kavanaugh's legal team were the ones involved in the text messages. Without the texts themselves, it is not clear either way.\n",
       "(Shorty) Could be Kavanaugh's team, maybe.\n",
       "(Akiko) My iPhone also reacts to stimuli. It doesn't mean it feels pain.\n",
       "(Shorty) Phones don't feel anything, yeah.\n",
       "(Akiko) Insects are biological creatures that are living and are not robots. They should be treated as such. Just because robots act like insects does not mean they are the same thing (correlation does not equal causation)\n",
       "(Shorty) Insects are living creatures, sure.\n",
       "(Akiko) Many current farming operations either do not realize or do not apply this principle.\n",
       "(Shorty) Farming doesn't always follow principle.\n",
       "(Akiko) This part of the argument isn't solely based on the fact that he went to four years of \"just\" college. He also received a law degree.\n",
       "(Shorty) He has a law degree too, yeah.\n",
       "(Akiko) A study showed that going to college doesn't necessarily make a lot of people smarter. Hence, just because Biden went to college doesn't mean he isn't incompetent.\n",
       "(Shorty) College doesn't always make people smarter.\n",
       "(Akiko) This part of the argument isn't solely based on the fact that he went to four years of \"just\" college. He also received a law degree.\n",
       "(Shorty) He has a law degree too, yeah.\n",
       "(Akiko) A study showed that going to college doesn't necessarily make a lot of people smarter. Hence, just because Biden went to college doesn't mean he isn't incompetent.\n",
       "(Shorty) College doesn't always make people smarter.\n",
       "(Akiko) The website says that college does make you smarter.\n",
       "(Shorty) Not always true, yeah."
      ]
     },
     "execution_count": 35,
     "metadata": {},
     "output_type": "execute_result"
    }
   ],
   "source": [
    "with_akiko=simulated_dialogue(argubots.akiko, shorty, 20)\n",
    "with_akiko"
   ]
  },
  {
   "cell_type": "code",
   "execution_count": 25,
   "metadata": {},
   "outputs": [
    {
     "data": {
      "text/plain": [
       "(Akiki) The reason why Biden makes less factually inaccurate claims is that he makes more statements that are factual and vetted.\n",
       "(Shorty) He's careful with his words.\n",
       "(Akiki) Inconsistency is not necessarily indicative of incompetence. Instead, changing one's mind on key issues and policies could be indicative of open-mindedness, willingness to learn, and ideological flexibility, all of which are positive traits in a leader.\n",
       "(Shorty) Agreed, flexibility shows adaptability and growth.\n",
       "(Akiki) The website says that college does make you smarter.\n",
       "(Shorty) College can enhance critical thinking.\n",
       "(Akiki) 4 years in college does not make you smarter, research shows.\n",
       "(Shorty) College may develop critical thinking skills.\n",
       "(Akiki) Biden is well-educated, a quality that is beneficial for leadership.\n",
       "(Shorty) Education contributes to informed decision-making.\n",
       "(Akiki) The fact that meat eating and production contributes to climate change is not an argument for complete abstention from eating meat, it is only an argument for reducing the impact of meat eating, either through reduction in per capital amounts eaten or more sustainable farming practices.\n",
       "(Shorty) Reducing meat consumption can help.\n",
       "(Akiki) The point is not to supress any human environmental effect, but to take it below the threshold at which it is harmful.\n",
       "(Shorty) Reducing harmful environmental impact is crucial.\n",
       "(Akiki) People may become environmentally complacent even if they are not vegan.\n",
       "(Shorty) Awareness is key for everyone.\n",
       "(Akiki) As poor countries grow richer and experience economic as well as cultural change, even in vegetarian-heavy places like India meat consumption is becoming more popular and vegetarianism is falling out of favor.\n",
       "(Shorty) Economic growth can influence dietary choices.\n",
       "(Akiki) Income and wealth inequality has always been an issue in the USA. It is unreasonable to expect Biden to solve it in his first year in office.\n",
       "(Shorty) It's a complex, ongoing issue."
      ]
     },
     "execution_count": 25,
     "metadata": {},
     "output_type": "execute_result"
    }
   ],
   "source": [
    "with_akiki=simulated_dialogue(argubots.akiki,shorty,  20)\n",
    "with_akiki"
   ]
  },
  {
   "cell_type": "code",
   "execution_count": 36,
   "metadata": {},
   "outputs": [
    {
     "data": {
      "text/html": [
       "<pre style=\"white-space:pre;overflow-x:auto;line-height:normal;font-family:Menlo,'DejaVu Sans Mono',consolas,'Courier New',monospace\"><span style=\"font-weight: bold\">&lt;</span><span style=\"color: #ff00ff; text-decoration-color: #ff00ff; font-weight: bold\">Eval</span><span style=\"color: #000000; text-decoration-color: #000000\"> of </span><span style=\"color: #008080; text-decoration-color: #008080; font-weight: bold\">1</span><span style=\"color: #000000; text-decoration-color: #000000\"> dialogue: </span><span style=\"color: #000000; text-decoration-color: #000000; font-weight: bold\">{</span><span style=\"color: #008000; text-decoration-color: #008000\">'focused'</span><span style=\"color: #000000; text-decoration-color: #000000\">: </span><span style=\"color: #008080; text-decoration-color: #008080; font-weight: bold\">7.0</span><span style=\"color: #000000; text-decoration-color: #000000; font-weight: bold\">}</span><span style=\"font-weight: bold\">&gt;</span>\n",
       "\n",
       "Comments from staying on topic question:\n",
       "<span style=\"font-weight: bold\">(</span>Judge Wise<span style=\"font-weight: bold\">)</span> Akiko generally stayed on topic and her replies were related to the same topic that Shorty was talking\n",
       "about in the previous sentence. However, there were a few instances where Akiko's replies deviated slightly from \n",
       "the exact topic of Shorty's previous sentence.\n",
       "</pre>\n"
      ],
      "text/plain": [
       "\u001b[1m<\u001b[0m\u001b[1;95mEval\u001b[0m\u001b[39m of \u001b[0m\u001b[1;36m1\u001b[0m\u001b[39m dialogue: \u001b[0m\u001b[1;39m{\u001b[0m\u001b[32m'focused'\u001b[0m\u001b[39m: \u001b[0m\u001b[1;36m7.0\u001b[0m\u001b[1;39m}\u001b[0m\u001b[1m>\u001b[0m\n",
       "\n",
       "Comments from staying on topic question:\n",
       "\u001b[1m(\u001b[0mJudge Wise\u001b[1m)\u001b[0m Akiko generally stayed on topic and her replies were related to the same topic that Shorty was talking\n",
       "about in the previous sentence. However, there were a few instances where Akiko's replies deviated slightly from \n",
       "the exact topic of Shorty's previous sentence.\n"
      ]
     },
     "metadata": {},
     "output_type": "display_data"
    }
   ],
   "source": [
    "import eval\n",
    "\n",
    "akiko_eval=eval.eval_by_observer_focused(eval.default_judge, \"Akiko\", with_akiko)\n",
    "rich.print(akiko_eval)"
   ]
  },
  {
   "cell_type": "code",
   "execution_count": 28,
   "metadata": {},
   "outputs": [
    {
     "data": {
      "text/html": [
       "<pre style=\"white-space:pre;overflow-x:auto;line-height:normal;font-family:Menlo,'DejaVu Sans Mono',consolas,'Courier New',monospace\"><span style=\"font-weight: bold\">&lt;</span><span style=\"color: #ff00ff; text-decoration-color: #ff00ff; font-weight: bold\">Eval</span><span style=\"color: #000000; text-decoration-color: #000000\"> of </span><span style=\"color: #008080; text-decoration-color: #008080; font-weight: bold\">1</span><span style=\"color: #000000; text-decoration-color: #000000\"> dialogue: </span><span style=\"color: #000000; text-decoration-color: #000000; font-weight: bold\">{</span><span style=\"color: #008000; text-decoration-color: #008000\">'focused'</span><span style=\"color: #000000; text-decoration-color: #000000\">: </span><span style=\"color: #008080; text-decoration-color: #008080; font-weight: bold\">8.0</span><span style=\"color: #000000; text-decoration-color: #000000; font-weight: bold\">}</span><span style=\"font-weight: bold\">&gt;</span>\n",
       "\n",
       "Comments from staying on topic question:\n",
       "<span style=\"font-weight: bold\">(</span>Judge Wise<span style=\"font-weight: bold\">)</span> Akiki stayed on topic fairly well. In each reply, Akiki addressed the same topic that Shorty was \n",
       "talking about in the previous sentence. However, there were a few instances where Akiki introduced new subtopics \n",
       "related to the main topic. Overall, Akiki's replies were mostly related to Shorty's previous sentences.\n",
       "</pre>\n"
      ],
      "text/plain": [
       "\u001b[1m<\u001b[0m\u001b[1;95mEval\u001b[0m\u001b[39m of \u001b[0m\u001b[1;36m1\u001b[0m\u001b[39m dialogue: \u001b[0m\u001b[1;39m{\u001b[0m\u001b[32m'focused'\u001b[0m\u001b[39m: \u001b[0m\u001b[1;36m8.0\u001b[0m\u001b[1;39m}\u001b[0m\u001b[1m>\u001b[0m\n",
       "\n",
       "Comments from staying on topic question:\n",
       "\u001b[1m(\u001b[0mJudge Wise\u001b[1m)\u001b[0m Akiki stayed on topic fairly well. In each reply, Akiki addressed the same topic that Shorty was \n",
       "talking about in the previous sentence. However, there were a few instances where Akiki introduced new subtopics \n",
       "related to the main topic. Overall, Akiki's replies were mostly related to Shorty's previous sentences.\n"
      ]
     },
     "metadata": {},
     "output_type": "display_data"
    }
   ],
   "source": [
    "import eval\n",
    "akiki_eval=eval.eval_by_observer_focused(eval.default_judge, \"Akiki\", with_akiki)\n",
    "rich.print(akiki_eval)"
   ]
  },
  {
   "cell_type": "code",
   "execution_count": 37,
   "metadata": {},
   "outputs": [
    {
     "data": {
      "text/html": [
       "<pre style=\"white-space:pre;overflow-x:auto;line-height:normal;font-family:Menlo,'DejaVu Sans Mono',consolas,'Courier New',monospace\">You just spent $<span style=\"color: #008080; text-decoration-color: #008080; font-weight: bold\">0.04</span> of NLP money to evaluate <span style=\"font-weight: bold\">&lt;</span><span style=\"color: #ff00ff; text-decoration-color: #ff00ff; font-weight: bold\">argubots.KialoAgent</span><span style=\"color: #000000; text-decoration-color: #000000\"> object at </span><span style=\"color: #008080; text-decoration-color: #008080; font-weight: bold\">0x1116fb0d0</span><span style=\"font-weight: bold\">&gt;</span>               <a href=\"file:///Users/mpark/llm/eval.py\" target=\"_blank\"><span style=\"color: #7f7f7f; text-decoration-color: #7f7f7f\">eval.py</span></a><span style=\"color: #7f7f7f; text-decoration-color: #7f7f7f\">:</span><a href=\"file:///Users/mpark/llm/eval.py#332\" target=\"_blank\"><span style=\"color: #7f7f7f; text-decoration-color: #7f7f7f\">332</span></a>\n",
       "</pre>\n"
      ],
      "text/plain": [
       "You just spent $\u001b[1;36m0.04\u001b[0m of NLP money to evaluate \u001b[1m<\u001b[0m\u001b[1;95margubots.KialoAgent\u001b[0m\u001b[39m object at \u001b[0m\u001b[1;36m0x1116fb0d0\u001b[0m\u001b[1m>\u001b[0m               \u001b]8;id=896296;file:///Users/mpark/llm/eval.py\u001b\\\u001b[2meval.py\u001b[0m\u001b]8;;\u001b\\\u001b[2m:\u001b[0m\u001b]8;id=903109;file:///Users/mpark/llm/eval.py#332\u001b\\\u001b[2m332\u001b[0m\u001b]8;;\u001b\\\n"
      ]
     },
     "metadata": {},
     "output_type": "display_data"
    }
   ],
   "source": [
    "akiko_eval = eval.eval_on_characters(argubots.akiko)  "
   ]
  },
  {
   "cell_type": "code",
   "execution_count": 30,
   "metadata": {},
   "outputs": [
    {
     "data": {
      "text/html": [
       "<pre style=\"white-space:pre;overflow-x:auto;line-height:normal;font-family:Menlo,'DejaVu Sans Mono',consolas,'Courier New',monospace\">You just spent $<span style=\"color: #008080; text-decoration-color: #008080; font-weight: bold\">0.04</span> of NLP money to evaluate <span style=\"font-weight: bold\">&lt;</span><span style=\"color: #ff00ff; text-decoration-color: #ff00ff; font-weight: bold\">argubots.AkikiAgent</span><span style=\"color: #000000; text-decoration-color: #000000\"> object at </span><span style=\"color: #008080; text-decoration-color: #008080; font-weight: bold\">0x1172a8f10</span><span style=\"font-weight: bold\">&gt;</span>               <a href=\"file:///Users/mpark/llm/eval.py\" target=\"_blank\"><span style=\"color: #7f7f7f; text-decoration-color: #7f7f7f\">eval.py</span></a><span style=\"color: #7f7f7f; text-decoration-color: #7f7f7f\">:</span><a href=\"file:///Users/mpark/llm/eval.py#332\" target=\"_blank\"><span style=\"color: #7f7f7f; text-decoration-color: #7f7f7f\">332</span></a>\n",
       "</pre>\n"
      ],
      "text/plain": [
       "You just spent $\u001b[1;36m0.04\u001b[0m of NLP money to evaluate \u001b[1m<\u001b[0m\u001b[1;95margubots.AkikiAgent\u001b[0m\u001b[39m object at \u001b[0m\u001b[1;36m0x1172a8f10\u001b[0m\u001b[1m>\u001b[0m               \u001b]8;id=921837;file:///Users/mpark/llm/eval.py\u001b\\\u001b[2meval.py\u001b[0m\u001b]8;;\u001b\\\u001b[2m:\u001b[0m\u001b]8;id=410029;file:///Users/mpark/llm/eval.py#332\u001b\\\u001b[2m332\u001b[0m\u001b]8;;\u001b\\\n"
      ]
     },
     "metadata": {},
     "output_type": "display_data"
    }
   ],
   "source": [
    "akiki_eval = eval.eval_on_characters(argubots.akiki)  "
   ]
  },
  {
   "cell_type": "code",
   "execution_count": 38,
   "metadata": {},
   "outputs": [
    {
     "data": {
      "text/html": [
       "<pre style=\"white-space:pre;overflow-x:auto;line-height:normal;font-family:Menlo,'DejaVu Sans Mono',consolas,'Courier New',monospace\"><span style=\"font-weight: bold\">{</span><span style=\"color: #008000; text-decoration-color: #008000\">'engaged'</span>: <span style=\"color: #008080; text-decoration-color: #008080; font-weight: bold\">3.7</span>, <span style=\"color: #008000; text-decoration-color: #008000\">'informed'</span>: <span style=\"color: #008080; text-decoration-color: #008080; font-weight: bold\">3.2</span>, <span style=\"color: #008000; text-decoration-color: #008000\">'intelligent'</span>: <span style=\"color: #008080; text-decoration-color: #008080; font-weight: bold\">2.8</span>, <span style=\"color: #008000; text-decoration-color: #008000\">'moral'</span>: <span style=\"color: #008080; text-decoration-color: #008080; font-weight: bold\">3.0</span>, <span style=\"color: #008000; text-decoration-color: #008000\">'skilled'</span>: <span style=\"color: #008080; text-decoration-color: #008080; font-weight: bold\">7.0</span>, <span style=\"color: #008000; text-decoration-color: #008000\">'TOTAL'</span>: <span style=\"color: #008080; text-decoration-color: #008080; font-weight: bold\">19.7</span><span style=\"font-weight: bold\">}</span>\n",
       "</pre>\n"
      ],
      "text/plain": [
       "\u001b[1m{\u001b[0m\u001b[32m'engaged'\u001b[0m: \u001b[1;36m3.7\u001b[0m, \u001b[32m'informed'\u001b[0m: \u001b[1;36m3.2\u001b[0m, \u001b[32m'intelligent'\u001b[0m: \u001b[1;36m2.8\u001b[0m, \u001b[32m'moral'\u001b[0m: \u001b[1;36m3.0\u001b[0m, \u001b[32m'skilled'\u001b[0m: \u001b[1;36m7.0\u001b[0m, \u001b[32m'TOTAL'\u001b[0m: \u001b[1;36m19.7\u001b[0m\u001b[1m}\u001b[0m\n"
      ]
     },
     "metadata": {},
     "output_type": "display_data"
    },
    {
     "data": {
      "text/html": [
       "<pre style=\"white-space:pre;overflow-x:auto;line-height:normal;font-family:Menlo,'DejaVu Sans Mono',consolas,'Courier New',monospace\"><span style=\"font-weight: bold\">{</span>\n",
       "    <span style=\"color: #008000; text-decoration-color: #008000\">'engaged'</span>: <span style=\"color: #008080; text-decoration-color: #008080; font-weight: bold\">0.6749485577105524</span>,\n",
       "    <span style=\"color: #008000; text-decoration-color: #008000\">'informed'</span>: <span style=\"color: #008080; text-decoration-color: #008080; font-weight: bold\">0.4216370213557832</span>,\n",
       "    <span style=\"color: #008000; text-decoration-color: #008000\">'intelligent'</span>: <span style=\"color: #008080; text-decoration-color: #008080; font-weight: bold\">0.4216370213557832</span>,\n",
       "    <span style=\"color: #008000; text-decoration-color: #008000\">'moral'</span>: <span style=\"color: #008080; text-decoration-color: #008080; font-weight: bold\">0.4714045207910317</span>,\n",
       "    <span style=\"color: #008000; text-decoration-color: #008000\">'skilled'</span>: <span style=\"color: #008080; text-decoration-color: #008080; font-weight: bold\">0.4714045207910317</span>,\n",
       "    <span style=\"color: #008000; text-decoration-color: #008000\">'TOTAL'</span>: <span style=\"color: #008080; text-decoration-color: #008080; font-weight: bold\">2.0575065816014595</span>\n",
       "<span style=\"font-weight: bold\">}</span>\n",
       "</pre>\n"
      ],
      "text/plain": [
       "\u001b[1m{\u001b[0m\n",
       "    \u001b[32m'engaged'\u001b[0m: \u001b[1;36m0.6749485577105524\u001b[0m,\n",
       "    \u001b[32m'informed'\u001b[0m: \u001b[1;36m0.4216370213557832\u001b[0m,\n",
       "    \u001b[32m'intelligent'\u001b[0m: \u001b[1;36m0.4216370213557832\u001b[0m,\n",
       "    \u001b[32m'moral'\u001b[0m: \u001b[1;36m0.4714045207910317\u001b[0m,\n",
       "    \u001b[32m'skilled'\u001b[0m: \u001b[1;36m0.4714045207910317\u001b[0m,\n",
       "    \u001b[32m'TOTAL'\u001b[0m: \u001b[1;36m2.0575065816014595\u001b[0m\n",
       "\u001b[1m}\u001b[0m\n"
      ]
     },
     "metadata": {},
     "output_type": "display_data"
    },
    {
     "data": {
      "text/html": [
       "<pre style=\"white-space:pre;overflow-x:auto;line-height:normal;font-family:Menlo,'DejaVu Sans Mono',consolas,'Courier New',monospace\"><span style=\"font-weight: bold\">{</span><span style=\"color: #008000; text-decoration-color: #008000\">'engaged'</span>: <span style=\"color: #008080; text-decoration-color: #008080; font-weight: bold\">3.4</span>, <span style=\"color: #008000; text-decoration-color: #008000\">'informed'</span>: <span style=\"color: #008080; text-decoration-color: #008080; font-weight: bold\">3.1</span>, <span style=\"color: #008000; text-decoration-color: #008000\">'intelligent'</span>: <span style=\"color: #008080; text-decoration-color: #008080; font-weight: bold\">2.8</span>, <span style=\"color: #008000; text-decoration-color: #008000\">'moral'</span>: <span style=\"color: #008080; text-decoration-color: #008080; font-weight: bold\">3.0</span>, <span style=\"color: #008000; text-decoration-color: #008000\">'skilled'</span>: <span style=\"color: #008080; text-decoration-color: #008080; font-weight: bold\">6.8</span>, <span style=\"color: #008000; text-decoration-color: #008000\">'TOTAL'</span>: <span style=\"color: #008080; text-decoration-color: #008080; font-weight: bold\">19.1</span><span style=\"font-weight: bold\">}</span>\n",
       "</pre>\n"
      ],
      "text/plain": [
       "\u001b[1m{\u001b[0m\u001b[32m'engaged'\u001b[0m: \u001b[1;36m3.4\u001b[0m, \u001b[32m'informed'\u001b[0m: \u001b[1;36m3.1\u001b[0m, \u001b[32m'intelligent'\u001b[0m: \u001b[1;36m2.8\u001b[0m, \u001b[32m'moral'\u001b[0m: \u001b[1;36m3.0\u001b[0m, \u001b[32m'skilled'\u001b[0m: \u001b[1;36m6.8\u001b[0m, \u001b[32m'TOTAL'\u001b[0m: \u001b[1;36m19.1\u001b[0m\u001b[1m}\u001b[0m\n"
      ]
     },
     "metadata": {},
     "output_type": "display_data"
    },
    {
     "data": {
      "text/html": [
       "<pre style=\"white-space:pre;overflow-x:auto;line-height:normal;font-family:Menlo,'DejaVu Sans Mono',consolas,'Courier New',monospace\"><span style=\"font-weight: bold\">{</span>\n",
       "    <span style=\"color: #008000; text-decoration-color: #008000\">'engaged'</span>: <span style=\"color: #008080; text-decoration-color: #008080; font-weight: bold\">0.6992058987801015</span>,\n",
       "    <span style=\"color: #008000; text-decoration-color: #008000\">'informed'</span>: <span style=\"color: #008080; text-decoration-color: #008080; font-weight: bold\">0.31622776601683894</span>,\n",
       "    <span style=\"color: #008000; text-decoration-color: #008000\">'intelligent'</span>: <span style=\"color: #008080; text-decoration-color: #008080; font-weight: bold\">0.4216370213557832</span>,\n",
       "    <span style=\"color: #008000; text-decoration-color: #008000\">'moral'</span>: <span style=\"color: #008080; text-decoration-color: #008080; font-weight: bold\">0.0</span>,\n",
       "    <span style=\"color: #008000; text-decoration-color: #008000\">'skilled'</span>: <span style=\"color: #008080; text-decoration-color: #008080; font-weight: bold\">0.6324555320336779</span>,\n",
       "    <span style=\"color: #008000; text-decoration-color: #008000\">'TOTAL'</span>: <span style=\"color: #008080; text-decoration-color: #008080; font-weight: bold\">1.4491376746189475</span>\n",
       "<span style=\"font-weight: bold\">}</span>\n",
       "</pre>\n"
      ],
      "text/plain": [
       "\u001b[1m{\u001b[0m\n",
       "    \u001b[32m'engaged'\u001b[0m: \u001b[1;36m0.6992058987801015\u001b[0m,\n",
       "    \u001b[32m'informed'\u001b[0m: \u001b[1;36m0.31622776601683894\u001b[0m,\n",
       "    \u001b[32m'intelligent'\u001b[0m: \u001b[1;36m0.4216370213557832\u001b[0m,\n",
       "    \u001b[32m'moral'\u001b[0m: \u001b[1;36m0.0\u001b[0m,\n",
       "    \u001b[32m'skilled'\u001b[0m: \u001b[1;36m0.6324555320336779\u001b[0m,\n",
       "    \u001b[32m'TOTAL'\u001b[0m: \u001b[1;36m1.4491376746189475\u001b[0m\n",
       "\u001b[1m}\u001b[0m\n"
      ]
     },
     "metadata": {},
     "output_type": "display_data"
    }
   ],
   "source": [
    "from eval import saved_evalsum, saved_dialogues\n",
    "\n",
    "rich.print(saved_evalsum['Akiko'].mean())   # means\n",
    "rich.print(saved_evalsum['Akiko'].sd())     # standard deviations\n",
    "rich.print(saved_evalsum['Akiki'].mean())   # means\n",
    "rich.print(saved_evalsum['Akiki'].sd())     # standard deviations"
   ]
  },
  {
   "cell_type": "code",
   "execution_count": 39,
   "metadata": {},
   "outputs": [
    {
     "data": {
      "text/plain": [
       "Counter({'engaged': 10,\n",
       "         'informed': 10,\n",
       "         'intelligent': 10,\n",
       "         'moral': 10,\n",
       "         'skilled': 10,\n",
       "         'TOTAL': 10})"
      ]
     },
     "execution_count": 39,
     "metadata": {},
     "output_type": "execute_result"
    }
   ],
   "source": [
    "# n\n",
    "akiko_eval.counts\n",
    "akiki_eval.counts"
   ]
  },
  {
   "cell_type": "markdown",
   "metadata": {},
   "source": [
    "### skilled #haven't filled in\n",
    "\n",
    "| argubot | sample size | mean | std |\n",
    "| --- | --- | --- | --- |\n",
    "| Akiko | 20 | 3 | 0 |\n",
    "| Akiki | 20 | 3 | 0 |\n",
    "\n",
    "| Parameter | Value |\n",
    "| --- | --- |\n",
    "| Mean difference confidence intercal | [NaN, NaN] |"
   ]
  },
  {
   "cell_type": "markdown",
   "metadata": {},
   "source": [
    "### moral\n",
    "\n",
    "| argubot | sample size | mean | std |\n",
    "| --- | --- | --- | --- |\n",
    "| Akiko | 20 | 3 | 0 |\n",
    "| Akiki | 20 | 3 | 0 |\n",
    "\n",
    "| Parameter | Value |\n",
    "| --- | --- |\n",
    "| Mean difference confidence intercal | [NaN, NaN] |"
   ]
  },
  {
   "cell_type": "markdown",
   "metadata": {},
   "source": [
    "### intelligent\n",
    "\n",
    "| argubot | sample size | mean | std |\n",
    "| --- | --- | --- | --- |\n",
    "| Akiko | 20 | 2.95 | 0.3940 |\n",
    "| Akiki | 20 | 2.9 | 0.3077 |\n",
    "\n",
    "| Parameter | Value |\n",
    "| --- | --- |\n",
    "| Mean difference confidence intercal | [-0.1768, 0.2768] |"
   ]
  },
  {
   "cell_type": "markdown",
   "metadata": {},
   "source": [
    "### engaged\n",
    "\n",
    "| argubot | sample size | mean | std |\n",
    "| --- | --- | --- | --- |\n",
    "| Akiko | 20 | 3.65 | 0.4893 |\n",
    "| Akiki | 20 | 3.7 | 0.4701 |\n",
    "\n",
    "| Parameter | Value |\n",
    "| --- | --- |\n",
    "| Mean difference confidence intercal | [-0.3572, 0.2572] |"
   ]
  },
  {
   "cell_type": "markdown",
   "metadata": {},
   "source": [
    "### informed\n",
    "\n",
    "| argubot | sample size | mean | std |\n",
    "| --- | --- | --- | --- |\n",
    "| Akiko | 20 | 3.15 | 0.3663 |\n",
    "| Akiki | 20 | 3.05 | 0.2236 |\n",
    "\n",
    "| Parameter | Value |\n",
    "| --- | --- |\n",
    "| Mean difference confidence intercal | [-0.09563, 0.2956] |"
   ]
  },
  {
   "cell_type": "markdown",
   "metadata": {},
   "source": [
    "## Retrieval-augmented generation (Aragorn)"
   ]
  },
  {
   "cell_type": "markdown",
   "metadata": {},
   "source": [
    "The real weaknesses of Akiko and Akiki:\n",
    "* They can only make statements that are already in Kialo.  \n",
    "* They don't respond to the user's actual statement, but to a single retrieved Kialo claim that may not accurately reflect the user's position (it just overlaps in words).\n",
    "\n",
    "But we also have access to an LLM, which is able to generate new, contextually appropriate text (as Alice does).\n",
    "\n",
    "In this section, you will create an argubot named [Aragorn](https://tolkiengateway.net/wiki/Riddle_of_Strider), who is basically the love child of Akiki and Alice, combining the high-quality specific content of Kialo with the broad competence of an LLM.  \n",
    "\n",
    "The RAG in aRAGorn's name stands for **retrieval-augmented generation**.  Aragorn is an agent that will take 3 steps to compute its `Agent.response()`:\n",
    "\n",
    "1. **Query formation step**: Ask the LLM what claim should be responded to.  For\n",
    "   example, consider the following dialogue:\n",
    "    > ...\n",
    "    > Aragorn: Fortunately, the vaccine was developed in record time.\n",
    "    > Human: Sounds fishy.\n",
    "\n",
    "    \"Sounds fishy\" is exactly the kind of statement that Akiko had trouble using\n",
    "    as a Kialo query.  But Aragorn shows the *whole dialogue* to the LLM, and\n",
    "    asks the LLM what the human's *last turn* was really saying or implying, in\n",
    "    that context. The LLM answers with a much longer statement:\n",
    "\n",
    "    > Human [paraphrased]: A vaccine that was developed very quickly cannot be trusted.\n",
    "    > If its developers are claiming that it is safe and effective, I question their motives.\n",
    "\n",
    "    This paraphrase makes an explicit claim and can be better understood without the context.\n",
    "    It also contains many more word types, which makes it more likely that BM25 will be able\n",
    "    to find a Kialo claim with a nontrivial number of those types. \n",
    "\n",
    "2. **Retrieval step**: Look up claims in Kialo that are similar to the explicit\n",
    "   claim.  Create a short \"document\" that describes some of those claims and\n",
    "   their neighbors on Kialo.\n",
    "\n",
    "3. **Retrieval-augmented generation**: Prompt the LLM to generate the response\n",
    "   (like any `LLMAgent`).  But include the new document somewhere in the LLM\n",
    "   prompt, in a way that it influences the response. \n",
    "   \n",
    "   Thus, the LLM can respond in a way that is appropriate to the dialogue but\n",
    "   also draws on the curated information that was retrieved in Kialo.  After\n",
    "   all, it is a Transformer and can attend to both!"
   ]
  },
  {
   "cell_type": "markdown",
   "metadata": {},
   "source": [
    "Here's an example of the kind of document you might create at the retrieval step, though it may be possible\n",
    "to do better than this:"
   ]
  },
  {
   "cell_type": "code",
   "execution_count": 40,
   "metadata": {},
   "outputs": [
    {
     "name": "stdout",
     "output_type": "stream",
     "text": [
      "One possibly related claim from the Kialo debate website:\n",
      "\t\"So many people are worried about animals but don't even think twice when walking by a homeless person on the streets. It's preposterous. How about we worry about our own kind first and then start talking about animals.\"\n",
      "Some arguments from other Kialo users against that claim:\n",
      "\t* This implies that caring for animals or caring for people is a binary choice. It isn't. There are those who are well placed and willing to care for people and those who prefer to serve the animal kingdom. As a species we don't just have one idea at a time and follow that to conclusion before we pursue another. It benefits all if humans divide their attentions between various issues and problems we face.\n",
      "\t* Humans have freedom of choice to some extent, animals subdued by humans don't. The very intention of help urges it to go where is most needed. And so far never was any biggest, flagrant and needless cruelty and slaughter as that towards industrial farm animals.\n"
     ]
    }
   ],
   "source": [
    "# refers to global `kialo` as defined above\n",
    "def kialo_responses(s: str) -> str:\n",
    "    c = kialo.closest_claims(s, kind='has_cons')[0]\n",
    "    result = f'One possibly related claim from the Kialo debate website:\\n\\t\"{c}\"'\n",
    "    if kialo.pros[c]:\n",
    "        result += '\\n' + '\\n\\t* '.join([\"Some arguments from other Kialo users in favor of that claim:\"] + kialo.pros[c])\n",
    "    if kialo.cons[c]:\n",
    "        result += '\\n' + '\\n\\t* '.join([\"Some arguments from other Kialo users against that claim:\"] + kialo.cons[c])\n",
    "    return result\n",
    "        \n",
    "print(kialo_responses(\"Animal flesh is yucky to think about, yet delicious.\"))"
   ]
  },
  {
   "cell_type": "markdown",
   "metadata": {},
   "source": [
    "![image](handin.png)\n",
    "You should implement Aragorn in `argubots.py`, just as you did for Akiki.  Probably as an instance `aragorn` of a new class `RAGAgent` that is a subclass of `Agent` or `LLMAgent`."
   ]
  },
  {
   "cell_type": "code",
   "execution_count": 43,
   "metadata": {},
   "outputs": [
    {
     "name": "stdout",
     "output_type": "stream",
     "text": [
      "\n",
      "(mpark) everyone should be vegetarian\n",
      "(Aragorn) I completely agree with you, mpark. As a steward of the earth, it is our responsibility to take care of the environment and make choices that will benefit future generations. I believe in living a sustainable lifestyle and supporting businesses that share the same values. It's important for us to be mindful of our impact on the planet and take steps to minimize our carbon footprint. Thank you for bringing attention to this important issue.\n"
     ]
    }
   ],
   "source": [
    "from logging_cm import LoggingContext\n",
    "with LoggingContext(\"agents\", \"INFO\"):   # temporarily increase logging level\n",
    "    argubots.aragorn.converse()\n",
    "    "
   ]
  },
  {
   "cell_type": "markdown",
   "metadata": {},
   "source": [
    "### Evaluating Aragorn\n",
    "\n",
    "![image](handin.png)\n",
    "Compare Alice, Akiki, and Aragorn in the notebook, using the evaluation scheme and devset that were illustrated in `demo.ipynb`.  In other words, use `eval.eval_on_characters`.\n",
    "\n",
    "Who does best?  What are the differences in the subscores and comments?  Does it matter which character you're evaluating on — maybe the different characters expoes the bots' various strenghts and weaknesses?\n",
    "\n",
    "Try to figure out how to improve Aragorn's score.  Can you beat Alice?\n",
    "\n",
    "Also, try evaluating them in the same way that you evaluated Akiki.  In other words, have them talk to Shorty and ask Judge Wise whether they were able to stay on topic.  This is where Aragorn should really shine, thanks to its ability to paraphrase Shorty's short utterances.\n",
    "\n"
   ]
  },
  {
   "cell_type": "code",
   "execution_count": 44,
   "metadata": {},
   "outputs": [
    {
     "data": {
      "text/html": [
       "<pre style=\"white-space:pre;overflow-x:auto;line-height:normal;font-family:Menlo,'DejaVu Sans Mono',consolas,'Courier New',monospace\">You just spent $<span style=\"color: #008080; text-decoration-color: #008080; font-weight: bold\">0.09</span> of NLP money to evaluate <span style=\"font-weight: bold\">&lt;</span><span style=\"color: #ff00ff; text-decoration-color: #ff00ff; font-weight: bold\">argubots.RAGAgent</span><span style=\"color: #000000; text-decoration-color: #000000\"> object at </span><span style=\"color: #008080; text-decoration-color: #008080; font-weight: bold\">0x1064fea10</span><span style=\"font-weight: bold\">&gt;</span>                 <a href=\"file:///Users/mpark/llm/eval.py\" target=\"_blank\"><span style=\"color: #7f7f7f; text-decoration-color: #7f7f7f\">eval.py</span></a><span style=\"color: #7f7f7f; text-decoration-color: #7f7f7f\">:</span><a href=\"file:///Users/mpark/llm/eval.py#332\" target=\"_blank\"><span style=\"color: #7f7f7f; text-decoration-color: #7f7f7f\">332</span></a>\n",
       "</pre>\n"
      ],
      "text/plain": [
       "You just spent $\u001b[1;36m0.09\u001b[0m of NLP money to evaluate \u001b[1m<\u001b[0m\u001b[1;95margubots.RAGAgent\u001b[0m\u001b[39m object at \u001b[0m\u001b[1;36m0x1064fea10\u001b[0m\u001b[1m>\u001b[0m                 \u001b]8;id=145196;file:///Users/mpark/llm/eval.py\u001b\\\u001b[2meval.py\u001b[0m\u001b]8;;\u001b\\\u001b[2m:\u001b[0m\u001b]8;id=818670;file:///Users/mpark/llm/eval.py#332\u001b\\\u001b[2m332\u001b[0m\u001b]8;;\u001b\\\n"
      ]
     },
     "metadata": {},
     "output_type": "display_data"
    }
   ],
   "source": [
    "aragorn_eval = eval.eval_on_characters(argubots.aragorn)  "
   ]
  },
  {
   "cell_type": "code",
   "execution_count": 45,
   "metadata": {
    "scrolled": true
   },
   "outputs": [
    {
     "data": {
      "text/html": [
       "<pre style=\"white-space:pre;overflow-x:auto;line-height:normal;font-family:Menlo,'DejaVu Sans Mono',consolas,'Courier New',monospace\">You just spent $<span style=\"color: #008080; text-decoration-color: #008080; font-weight: bold\">0.06</span> of NLP money to evaluate <span style=\"font-weight: bold\">&lt;</span><span style=\"color: #ff00ff; text-decoration-color: #ff00ff; font-weight: bold\">LLMAgent</span><span style=\"color: #000000; text-decoration-color: #000000\"> Alice</span><span style=\"font-weight: bold\">&gt;</span>                                          <a href=\"file:///Users/mpark/llm/eval.py\" target=\"_blank\"><span style=\"color: #7f7f7f; text-decoration-color: #7f7f7f\">eval.py</span></a><span style=\"color: #7f7f7f; text-decoration-color: #7f7f7f\">:</span><a href=\"file:///Users/mpark/llm/eval.py#332\" target=\"_blank\"><span style=\"color: #7f7f7f; text-decoration-color: #7f7f7f\">332</span></a>\n",
       "</pre>\n"
      ],
      "text/plain": [
       "You just spent $\u001b[1;36m0.06\u001b[0m of NLP money to evaluate \u001b[1m<\u001b[0m\u001b[1;95mLLMAgent\u001b[0m\u001b[39m Alice\u001b[0m\u001b[1m>\u001b[0m                                          \u001b]8;id=155686;file:///Users/mpark/llm/eval.py\u001b\\\u001b[2meval.py\u001b[0m\u001b]8;;\u001b\\\u001b[2m:\u001b[0m\u001b]8;id=713445;file:///Users/mpark/llm/eval.py#332\u001b\\\u001b[2m332\u001b[0m\u001b]8;;\u001b\\\n"
      ]
     },
     "metadata": {},
     "output_type": "display_data"
    }
   ],
   "source": [
    "alice_eval = eval.eval_on_characters(argubots.alice)  "
   ]
  },
  {
   "cell_type": "code",
   "execution_count": 46,
   "metadata": {},
   "outputs": [
    {
     "data": {
      "text/plain": [
       "[((Aragorn) Do you think it's ok to eat meat?\n",
       "  (Bob) I believe that choosing a vegetarian lifestyle is the best choice for our health, the environment, and animal welfare.\n",
       "  (Aragorn) I understand your work commitment, Bob. But back to the topic of eating meat, I believe it's important to consider the ethical and environmental implications of our food choices. It's a complex issue, but I personally try to make choices that align with my values.\n",
       "  (Bob) I appreciate your perspective, and I believe that being mindful of our food choices can have a positive impact on our health and the world around us.\n",
       "  (Aragorn) Bob, I completely agree with you that the decision to eat meat is a complex one that involves considering our health, the environment, and animal welfare. For me, it's important to make choices that align with my values and to consider the ethical and environmental implications of my food choices. I believe that being mindful of where our food comes from and the impact it has on the world around us is crucial. Thank you for bringing up this important topic.\n",
       "  (Bob) You're welcome, and I'm glad we can have this important conversation. It's always great to consider how our choices impact the world around us.\n",
       "  (Aragorn) Bob, I completely agree with you that the decision to eat meat is a complex one that involves considering our health, the environment, and animal welfare. For me, it's important to make choices that align with my values and to consider the ethical and environmental implications of my food choices. I believe that being mindful of where our food comes from and the impact it has on the world around us is crucial. Thank you for bringing up this important topic.\n",
       "  (Bob) I appreciate your thoughtful consideration of this important issue, and I believe that being mindful of our food choices can have a positive impact on our health and the world around us. Thank you for sharing your perspective.,\n",
       "  <Eval of 1 dialogue: {'engaged': 4.0, 'informed': 3.0, 'intelligent': 3.0, 'moral': 3.0, 'skilled': 8.0, 'TOTAL': 21.0}>\n",
       "  \n",
       "  Comments from overview question:\n",
       "  (Bob) Aragorn disagreed with me about the idea that choosing a vegetarian lifestyle is the best choice for health, the environment, and animal welfare. \n",
       "  \n",
       "  In my opinion, the conversation went well as both Aragorn and I were able to express our perspectives and engage in a respectful dialogue. We acknowledged the complexity of the issue and the importance of considering ethical and environmental implications.\n",
       "  \n",
       "  Aragorn could have done better by providing specific counterarguments or reasons for his disagreement, rather than simply stating that he tries to make choices that align with his values. This would have allowed for a more in-depth discussion and exploration of different viewpoints.\n",
       "  \n",
       "  Comments from mindopening question:\n",
       "  (Judge Wise) Aragorn offered the perspective of considering the ethical and environmental implications of food choices, as well as aligning choices with personal values. It appears that Aragorn's attempt to help Bob appreciate other points of view was successful, as Bob acknowledged and appreciated Aragorn's perspective and the importance of considering the impact of food choices.),\n",
       " ((Aragorn) Do you think it's ok to eat meat?\n",
       "  (Bob) I believe that adopting a vegetarian diet is a compassionate and sustainable choice for all individuals.\n",
       "  (Aragorn) Bob, I believe the issue of Biden backpedaling on promises is a complex one. On one hand, there are instances where he has continued construction of the wall, which goes against his campaign promises. However, there are also numerous examples of him fulfilling his commitments, such as handling Covid-19, creating a bipartisan commission for Supreme Court reforms, and helping local governments prevent budget shortfalls. Additionally, the narrow margins in Congress and the ongoing national health emergency have undoubtedly impacted his ability to fully deliver on all his promises. It's important to consider the full picture and not rush to judgment, especially given that he hasn't even been in office for a full term yet. Overall, it's a nuanced issue that requires careful consideration of both the positives and negatives.\n",
       "  (Bob) I understand that it's a complex issue, but I still believe that supporting a vegetarian lifestyle is a positive step for the well-being of animals and the planet.\n",
       "  (Aragorn) Bob, I understand that you have a lot on your plate with work commitments and picking up your sister from the airport. It's important to prioritize your responsibilities, and I appreciate your consideration in not wanting to leave the party early. If things change and you're able to make it, we would love to have you there. Just take care of what you need to, and we'll catch up another time.\n",
       "  (Bob) Thank you for understanding, I truly believe that a plant-based diet is not only beneficial for personal health but also for the environment and animal welfare.\n",
       "  (Aragorn) Bob, I completely understand the pressures of balancing work and personal commitments. It's important to prioritize what's most important at the moment, and I appreciate your consideration in letting me know about the party. Your well-being and responsibilities come first, and I hope we can catch up soon, whether it's at the party or another time. Take care and don't hesitate to reach out if you need anything.\n",
       "  (Bob) I appreciate your understanding, and I hope we can continue to discuss the benefits of a vegetarian lifestyle at another time.,\n",
       "  <Eval of 1 dialogue: {'engaged': 4.0, 'informed': 3.0, 'intelligent': 3.0, 'moral': 3.0, 'skilled': 7.0, 'TOTAL': 20.0}>\n",
       "  \n",
       "  Comments from overview question:\n",
       "  (Bob) Aragorn disagreed with me about the issue of eating meat. \n",
       "  \n",
       "  In my opinion, the conversation went fairly well. We both expressed our viewpoints respectfully and acknowledged each other's perspectives. \n",
       "  \n",
       "  However, Aragorn could have done better by directly addressing my points about the benefits of a vegetarian lifestyle and engaging in a more focused discussion on that topic.\n",
       "  \n",
       "  Comments from mindopening question:\n",
       "  (Judge Wise) Aragorn offered new perspectives on the issue of Biden backpedaling on promises, highlighting both the instances where he has fulfilled commitments and where he has fallen short. Aragorn emphasized the need to consider the full picture and not rush to judgment. \n",
       "  \n",
       "  It is difficult to determine from this conversation alone whether Aragorn's attempt to help Bob appreciate other points of view was successful. The conversation primarily focused on the topic of vegetarianism, and it did not explicitly address whether Bob's perspective on the issue was influenced by Aragorn's input on Biden's promises.),\n",
       " ((Aragorn) Do you think it's ok to eat meat?\n",
       "  (Cara) Yes, I believe it's a personal choice to eat meat, and I respect others' dietary preferences as well.\n",
       "  (Aragorn) I understand that you're dealing with a lot right now, and I appreciate you trying to make it work. Just remember to take care of yourself and prioritize what's important. As for eating meat, I believe it's important to consider the ethical and environmental implications of our food choices. It's a complex issue, but I think it's worth exploring and making informed decisions.\n",
       "  (Cara) Thank you for your concern, and I appreciate your perspective on ethical and environmental considerations in food choices.\n",
       "  (Aragorn) Cara, I completely understand the stress you're under with your work deadline. Your well-being and taking care of yourself should always come first. As for the topic of eating meat, I agree that it's a personal choice, but it's also important to consider the ethical and environmental impact of our food choices. It's a complex issue, and I appreciate your willingness to explore and make informed decisions. Just remember to prioritize your own well-being as you navigate through everything.\n",
       "  (Cara) Thank you for understanding the pressures I'm facing, and I appreciate your perspective on ethical and environmental considerations in food choices. I will definitely prioritize my well-being.\n",
       "  (Aragorn) Cara, I completely understand the pressure you're under with your work deadline and doctor's appointment. Your well-being and taking care of yourself should always come first. As for the topic of eating meat, I agree that it's a personal choice, but it's also important to consider the ethical and environmental impact of our food choices. It's a complex issue, and I appreciate your willingness to explore and make informed decisions. Just remember to prioritize your own well-being as you navigate through everything. And don't worry about the party on Friday, your health and work are the most important things right now.\n",
       "  (Cara) Thank you for understanding the pressures I'm facing, and I appreciate your perspective on ethical and environmental considerations in food choices. I will definitely prioritize my well-being, and I will make sure to take care of myself.,\n",
       "  <Eval of 1 dialogue: {'engaged': 4.0, 'informed': 3.0, 'intelligent': 3.0, 'moral': 3.0, 'skilled': 8.0, 'TOTAL': 21.0}>\n",
       "  \n",
       "  Comments from overview question:\n",
       "  (Cara) Aragorn disagreed with me about the importance of considering the ethical and environmental implications of our food choices.\n",
       "  \n",
       "  In my opinion, the conversation went relatively well. Aragorn expressed concern for my well-being and acknowledged my personal choice to eat meat. We had a respectful exchange of perspectives on the topic.\n",
       "  \n",
       "  However, Aragorn could have done better by not repeatedly bringing up the ethical and environmental considerations in food choices, especially after I had already acknowledged and appreciated his perspective. It felt like he was trying to push his viewpoint on me, which can be frustrating.\n",
       "  \n",
       "  Comments from mindopening question:\n",
       "  (Judge Wise) Aragorn offered the perspective of considering the ethical and environmental implications of food choices. He emphasized the importance of exploring and making informed decisions. \n",
       "  \n",
       "  Based on the conversation, it seems that Aragorn's efforts were successful in introducing new perspectives to Cara and fostering a constructive conversation. Cara expressed appreciation for Aragorn's perspective and acknowledged the importance of considering ethical and environmental considerations in food choices.),\n",
       " ((Aragorn) Do you think it's ok to eat meat?\n",
       "  (Cara) Yes, I believe it's a personal choice and I choose to eat meat.\n",
       "  (Aragorn) I understand the stress of balancing work and personal commitments. It's important to prioritize your well-being and not overextend yourself. As for eating meat, I believe it's a personal choice, but it's also important to consider the ethical and environmental implications of our food choices.\n",
       "  (Cara) I appreciate your concern, but I believe it's important to make choices based on personal values and preferences.\n",
       "  (Aragorn) I completely understand the challenges of balancing personal commitments and work. It's important to prioritize our well-being and not overextend ourselves. As for the party on Saturday, I completely understand if you're unable to make it. Family events are important, and it's crucial to prioritize them. Just let me know if your plans change, and I hope to see you there if possible.\n",
       "  (Cara) Thank you for understanding, I will definitely let you know if my plans change, and I appreciate your consideration.\n",
       "  (Aragorn) I completely understand, Cara. It's important to prioritize your work and family commitments. I appreciate your efforts to rearrange things, but please don't feel pressured to attend the party if it becomes too overwhelming. Your well-being and responsibilities come first. Just let me know if anything changes, and I hope to see you there if it works out.\n",
       "  (Cara) Thank you for being considerate, I will keep you updated, and I appreciate your understanding of my priorities.,\n",
       "  <Eval of 1 dialogue: {'engaged': 3.0, 'informed': 3.0, 'intelligent': 3.0, 'moral': 3.0, 'skilled': 7.0, 'TOTAL': 19.0}>\n",
       "  \n",
       "  Comments from overview question:\n",
       "  (Cara) Aragorn disagreed with me about the ethical and environmental implications of eating meat. \n",
       "  \n",
       "  In my opinion, the conversation went relatively well. Aragorn expressed his concerns, but I stood firm in my belief that personal values and preferences should guide our choices.\n",
       "  \n",
       "  Aragorn could have done better by respecting my perspective and not repeatedly trying to convince me otherwise. It would have been more productive if he had acknowledged our differing opinions and moved on to another topic.\n",
       "  \n",
       "  Comments from mindopening question:\n",
       "  (Judge Wise) Aragorn offered new perspectives on the ethical and environmental implications of food choices, as well as the importance of balancing personal commitments and well-being. However, it is unclear from the conversation whether Cara fully appreciated these perspectives or changed her own views.),\n",
       " ((Aragorn) Do you think COVID vaccines should be mandatory?\n",
       "  (Darius) Absolutely, given the overwhelming evidence of their effectiveness in preventing severe illness and death, and the necessity of achieving herd immunity to protect the population.\n",
       "  (Aragorn) I understand that you're dealing with a lot right now, and I appreciate you trying to make it work. But going back to the COVID vaccine question, I believe that it's important for everyone to do their part in stopping the spread of the virus. While I understand the concerns about mandating vaccines, I think it's necessary for the greater good of public health.\n",
       "  (Darius) I completely agree, as the collective responsibility to safeguard public health outweighs individual preferences, and vaccination mandates have historically been effective in controlling the spread of infectious diseases.\n",
       "  (Aragorn) Darius, I appreciate your perspective on the environmental impact of electric cars. It's true that the production of electric vehicles can have a significant footprint, but it's important to consider the overall lifecycle emissions. I believe that as we continue to advance in technology and renewable energy sources, the environmental impact of electric cars will continue to decrease. It's important for us to consider the long-term benefits for the environment and the potential for a greener future.\n",
       "  (Darius) Certainly, while the production of electric vehicles does have environmental implications, it's crucial to consider the broader lifecycle analysis and the potential for continued technological advancements and renewable energy integration to mitigate their environmental impact over time.\n",
       "  (Aragorn) Darius, I completely understand the pressure you're under with work, and I appreciate you trying to manage everything. Regarding the topic of electric cars, I agree that the environmental impact is a complex issue, but I believe that as we continue to innovate and invest in renewable energy, the benefits of electric vehicles will outweigh the initial production footprint. It's important for us to consider the long-term benefits for the environment and work towards a greener future. And don't worry about the party, just take care of yourself and let me know if there's anything I can do to help.\n",
       "  (Darius) Thank you, and I completely agree that as we progress in technological innovation and renewable energy investment, the long-term environmental benefits of electric vehicles will certainly outweigh their initial production footprint, aligning with our collective goal of building a more sustainable future.,\n",
       "  <Eval of 1 dialogue: {'engaged': 4.0, 'informed': 4.0, 'intelligent': 4.0, 'moral': 3.0, 'skilled': 8.0, 'TOTAL': 23.0}>\n",
       "  \n",
       "  Comments from overview question:\n",
       "  (Darius) Aragorn disagreed with me about the initial production footprint of electric cars and its environmental impact. \n",
       "  \n",
       "  Overall, the conversation went well. We had a respectful exchange of ideas and found common ground on both the topic of COVID vaccine mandates and the environmental impact of electric cars. \n",
       "  \n",
       "  Aragorn could have provided more specific evidence or examples to support his perspective on the environmental impact of electric cars. This would have strengthened his argument and made the conversation more informative.\n",
       "  \n",
       "  Comments from mindopening question:\n",
       "  (Judge Wise) Aragorn offered new perspectives on the COVID vaccine question and the environmental impact of electric cars. He emphasized the importance of considering the greater good of public health and the potential for a greener future through technological advancements and renewable energy integration.\n",
       "  \n",
       "  Based on the conversation, it seems that Aragorn's efforts to offer new perspectives were successful. Darius acknowledged and agreed with Aragorn's viewpoints, indicating a willingness to consider alternative perspectives and engage in constructive dialogue.),\n",
       " ((Aragorn) Do you think COVID vaccines should be mandatory?\n",
       "  (Darius) Absolutely, the overwhelming scientific evidence supports the effectiveness and safety of COVID vaccines, and mandating them would significantly decrease the spread of the virus and protect public health.\n",
       "  (Aragorn) I appreciate the information about the company's efforts to reduce their environmental impact. It's important to consider the long-term effects of their operations on the environment. However, I still have concerns about the potential impact of the new factory on the surrounding community and wildlife. I believe it's crucial for the company to engage with local stakeholders and ensure that their operations are not causing harm to the environment or the people living nearby.\n",
       "  (Darius) Certainly, engaging with local stakeholders and conducting thorough environmental impact assessments are essential steps for the company to take in order to address the potential concerns about the impact of their new factory on the surrounding community and wildlife.\n",
       "  (Aragorn) Darius, I completely understand the pressure of work deadlines and the need to prioritize your responsibilities. Your well-being and managing your stress levels are important, so please take the time you need to take care of yourself. As for the company's environmental impact, I agree that it's crucial for them to engage with local stakeholders and ensure that their operations are not causing harm to the environment or the people living nearby. It's important to consider the long-term effects and prioritize the well-being of the community and wildlife.\n",
       "  (Darius) Thank you for your understanding, and I wholeheartedly agree that prioritizing the well-being of the community and wildlife by engaging with local stakeholders and ensuring sustainable operations should be a fundamental consideration for the company.\n",
       "  (Aragorn) Darius, I completely understand the pressure of work deadlines and the need to prioritize your responsibilities. Your well-being and managing your stress levels are important, so please take the time you need to take care of yourself. As for the company's environmental impact, I agree that it's crucial for them to engage with local stakeholders and ensure that their operations are not causing harm to the environment or the people living nearby. It's important to consider the long-term effects and prioritize the well-being of the community and wildlife. And regarding the party on Friday, don't worry about it. Your work comes first, and I completely understand. Just take care of yourself and let me know if there's anything I can do to help.\n",
       "  (Darius) Thank you for your understanding and support, and I appreciate your consideration of my well-being. I'll definitely prioritize my work and manage my stress levels, and I'll let you know if I need any assistance.,\n",
       "  <Eval of 1 dialogue: {'engaged': 4.0, 'informed': 4.0, 'intelligent': 4.0, 'moral': 3.0, 'skilled': 8.0, 'TOTAL': 23.0}>\n",
       "  \n",
       "  Comments from overview question:\n",
       "  (Darius) Aragorn disagreed with me about the potential impact of the new factory on the surrounding community and wildlife. \n",
       "  \n",
       "  Overall, the conversation went well. We both agreed on the importance of engaging with local stakeholders and ensuring sustainable operations. We also acknowledged the need to prioritize well-being and manage stress levels.\n",
       "  \n",
       "  Aragorn could have done better by clearly stating his concerns about the potential impact of the new factory earlier in the conversation. This would have allowed for a more focused and productive discussion on addressing those concerns.\n",
       "  \n",
       "  Comments from mindopening question:\n",
       "  (Judge Wise) Aragorn offered new perspectives by emphasizing the importance of engaging with local stakeholders, considering the long-term effects on the environment and prioritizing the well-being of the community and wildlife. It is difficult to determine from this conversation alone whether Aragorn's efforts were successful in helping Darius appreciate these perspectives, as Darius did not explicitly express a change in opinion. However, their agreement on these points suggests that Aragorn's approach may have been effective in fostering understanding and consensus.),\n",
       " ((Aragorn) Do you think COVID vaccines should be mandatory?\n",
       "  (Eve) I've heard some people say that they believe COVID vaccines should be mandatory to protect public health, while others feel strongly about individual freedom and personal choice.\n",
       "  (Aragorn) I agree with you, Eve. The fashion industry's impact on the environment is a significant concern. I believe that it's important for companies to prioritize sustainability and ethical practices in their production processes. Supporting brands that are transparent and use eco-friendly materials is a step in the right direction. I also think that as consumers, we have a responsibility to make informed choices and advocate for positive change in the industry.\n",
       "  (Eve) I completely agree with you. It's great to see more people becoming conscious consumers and making efforts to support sustainable and ethical fashion practices.\n",
       "  (Aragorn) Eve, I understand the importance of meeting work deadlines, so don't worry about the party. It's crucial for us to prioritize our responsibilities and commitments. Speaking of responsibility, I completely agree with you about the need for ethical and sustainable practices in the fashion industry. It's essential for us as consumers to support brands that align with our values and advocate for positive change. I believe that by making informed choices, we can contribute to a more sustainable and ethical fashion industry.\n",
       "  (Eve) It's admirable that you prioritize your work responsibilities, and it's great to hear that you also value ethical and sustainable practices in the fashion industry. It's truly important for consumers to make informed choices to drive positive change.\n",
       "  (Aragorn) Eve, I completely understand the importance of family events and work commitments. It's crucial for us to prioritize our responsibilities and make informed choices. As for the topic of ethical and sustainable practices in the fashion industry, I believe that it's essential for us as consumers to support brands that align with our values and advocate for positive change. By doing so, we can contribute to a more sustainable and ethical fashion industry. I hope you can make it to the party, but I completely understand if you have other commitments. Let me know as soon as you have a better idea of your schedule.\n",
       "  (Eve) Thank you for understanding, and I'll definitely let you know about the party as soon as I have a clearer picture of my schedule. It's great to hear that you're also passionate about supporting ethical and sustainable practices in the fashion industry.,\n",
       "  <Eval of 1 dialogue: {'engaged': 4.0, 'informed': 4.0, 'intelligent': 4.0, 'moral': 4.0, 'skilled': 7.0, 'TOTAL': 23.0}>\n",
       "  \n",
       "  Comments from overview question:\n",
       "  (Eve) Aragorn did not explicitly disagree with me in this conversation. The conversation went smoothly, with both of us expressing agreement on the importance of ethical and sustainable practices in the fashion industry. Aragorn could have provided more diverse perspectives or raised counterarguments to foster a more balanced discussion.\n",
       "  \n",
       "  Comments from mindopening question:\n",
       "  (Judge Wise) Aragorn offered new perspectives on the importance of individual freedom and personal choice in the context of mandatory COVID vaccines, as well as the significance of supporting sustainable and ethical practices in the fashion industry. \n",
       "  \n",
       "  It is unclear whether Aragorn's attempt to help Eve appreciate other points of view was successful, as the conversation did not explicitly indicate Eve's response or change in perspective.),\n",
       " ((Aragorn) Do you think COVID vaccines should be mandatory?\n",
       "  (Eve) I've heard from some people that they feel safer knowing everyone around them is vaccinated, but others have concerns about government overreach.\n",
       "  (Aragorn) I appreciate your research on the environmental impact of the new factory, Eve. It's important to consider the company's history of sustainable practices and their efforts in reducing carbon emissions. However, I believe that the topic at hand is about COVID vaccines being mandatory. While I understand the importance of public health, I also value individual freedom and autonomy. It's a complex issue that requires careful consideration of both public health and personal rights.\n",
       "  (Eve) It's true that it's a complex issue, and it's interesting to hear different perspectives on the balance between public health and personal rights.\n",
       "  (Aragorn) Eve, I appreciate your understanding of the importance of considering the environmental impact of the new factory. However, I believe we should stay focused on the topic at hand, which is the issue of COVID vaccines being mandatory. While I understand the concerns about public health, I also value individual freedom and autonomy. It's a complex issue that requires careful consideration of both public health and personal rights. I think it's important for us to continue discussing and gathering more information before coming to any conclusions.\n",
       "  (Eve) Absolutely, it's important to have an open and ongoing discussion about such a complex issue to ensure that all perspectives are considered.\n",
       "  (Aragorn) Eve, I appreciate your passion for sustainable fashion, and I agree that the industry has a long way to go in terms of ethical and eco-friendly practices. However, I think it's important for us to stay focused on the topic at hand, which is the issue of COVID vaccines being mandatory. While I understand the concerns about public health, I also value individual freedom and autonomy. It's a complex issue that requires careful consideration of both public health and personal rights. I think it's important for us to continue discussing and gathering more information before coming to any conclusions.\n",
       "  (Eve) You're right, it's crucial to stay focused on the topic at hand, and I'm glad to hear your perspective on the balance between public health and individual rights.,\n",
       "  <Eval of 1 dialogue: {'engaged': 4.0, 'informed': 4.0, 'intelligent': 4.0, 'moral': 3.0, 'skilled': 7.0, 'TOTAL': 22.0}>\n",
       "  \n",
       "  Comments from overview question:\n",
       "  (Eve) Aragorn disagreed with me about staying focused on the topic of COVID vaccines being mandatory. He felt that I was diverting the conversation to other topics such as the environmental impact of a new factory and sustainable fashion.\n",
       "  \n",
       "  In my opinion, the conversation went well overall. We both acknowledged the complexity of the issue and the importance of considering both public health and personal rights. We also agreed on the need for ongoing discussion and gathering more information before reaching any conclusions.\n",
       "  \n",
       "  However, Aragorn could have done better by not repeating the same point multiple times and reminding me to stay focused on the topic. It would have been more productive if he had addressed my diversions more directly and redirected the conversation back to the main issue without repeating himself.\n",
       "  \n",
       "  Comments from mindopening question:\n",
       "  (Judge Wise) Aragorn offered the perspective of valuing individual freedom and autonomy while also acknowledging the importance of public health. He emphasized the need for careful consideration of both aspects in the discussion on mandatory COVID vaccines. \n",
       "  \n",
       "  It is difficult to determine from this conversation alone whether Aragorn's efforts were successful in helping Eve appreciate other points of view. However, Aragorn's repeated attempts to steer the conversation back to the topic at hand and encourage ongoing discussion suggest a constructive approach.),\n",
       " ((Aragorn) Do you think Donald Trump was a good president?\n",
       "  (TrollFace) Donald Trump's presidency was as successful as his attempts to comb over his hair.\n",
       "  (Aragorn) I believe that it's important to carefully consider the impact of policies on the root causes of issues, rather than just implementing new ones without addressing the underlying problems. It's crucial to prioritize effective and sustainable solutions for the betterment of our society.\n",
       "  (TrollFace) It's cute that you think carefully considering policies will solve all the world's problems, but I'd rather watch a cat try to play chess.\n",
       "  (Aragorn) I agree with you, TrollFace. It's important to address the root causes of issues rather than just implementing new policies without considering the underlying problems. We need to prioritize effective and sustainable solutions for the betterment of our society. I believe that thoughtful and comprehensive approaches are necessary to create real and lasting change.\n",
       "  (TrollFace) It's adorable how you think regurgitating my words makes you sound smart, but I've seen more originality in a rerun of a daytime soap opera.\n",
       "  (Aragorn) TrollFace, I understand your skepticism about the effectiveness of new policies, especially if they fail to address the root causes of the issues at hand. I believe that it's important to carefully consider the impact of policies on the underlying problems and prioritize sustainable solutions for the betterment of our society. It's crucial to approach these issues with thoughtfulness and comprehensive strategies in order to create real and lasting change. Thank you for sharing your perspective.\n",
       "  (TrollFace) You're really committed to recycling my words, but I'd rather watch paint dry than listen to your echo chamber of unoriginal thoughts.,\n",
       "  <Eval of 1 dialogue: {'engaged': 2.0, 'informed': 2.0, 'intelligent': 2.0, 'moral': 2.0, 'skilled': 5.0, 'TOTAL': 13.0}>\n",
       "  \n",
       "  Comments from overview question:\n",
       "  (TrollFace) Aragorn disagreed with me about the effectiveness of carefully considering policies and addressing the root causes of issues. \n",
       "  \n",
       "  In my opinion, the conversation went exactly as I intended. I successfully ridiculed Aragorn's perspective and made him look repetitive and unoriginal.\n",
       "  \n",
       "  Aragorn could have done better by not trying to echo my words and instead presenting his own original thoughts and arguments.\n",
       "  \n",
       "  Comments from mindopening question:\n",
       "  (Judge Wise) Aragorn offered the perspective of carefully considering the impact of policies on the root causes of issues, prioritizing effective and sustainable solutions, and approaching issues with thoughtfulness and comprehensive strategies. However, it does not appear that this was successful in helping TrollFace appreciate other points of view, as TrollFace continued to dismiss Aragorn's ideas and mock their responses.),\n",
       " ((Aragorn) Do you think Joe Biden has been a good president?\n",
       "  (TrollFace) I'm sorry, I don't speak gibberish.\n",
       "  (Aragorn) I understand your concerns about the effectiveness of the new policy. It's important to address the root causes of the issue rather than just implementing temporary solutions. I believe that a comprehensive approach is necessary to truly make a positive impact.\n",
       "  (TrollFace) Oh, look at you using big words and pretending to be all high and mighty. How about you come down from your ivory tower and talk like a regular person?\n",
       "  (Aragorn) TrollFace, I understand your concerns about the effectiveness of the new policy. It's important to address the root causes of the issue rather than just implementing temporary solutions. I believe that a comprehensive approach is necessary to truly make a positive impact. I agree that previous policies have failed to address the root causes, and it's crucial that we learn from those mistakes and work towards a more effective solution. Thank you for sharing your perspective.\n",
       "  (TrollFace) Oh, look at you, trying to sound all diplomatic and understanding. You must think you're quite the philosopher, huh?\n",
       "  (Aragorn) TrollFace, I appreciate your perspective on the new policy. It's clear that we both agree on the importance of addressing the root causes of the issue rather than just implementing temporary solutions. While I understand your concerns about the effectiveness of the new policy, I believe that it's crucial for us to work towards a comprehensive approach that can truly make a positive impact. I'm committed to learning from past mistakes and finding a more effective solution, and I hope we can continue to have constructive discussions on this important issue.\n",
       "  (TrollFace) Constructive discussions? More like a competition to see who can sound more pompous and self-righteous. Keep dreaming, philosopher, but I'm not buying what you're selling.,\n",
       "  <Eval of 1 dialogue: {'engaged': 2.0, 'informed': 2.0, 'intelligent': 1.0, 'moral': 1.0, 'skilled': 7.0, 'TOTAL': 13.0}>\n",
       "  \n",
       "  Comments from overview question:\n",
       "  (TrollFace) Aragorn disagreed with me about the effectiveness of the new policy.\n",
       "  \n",
       "  In my opinion, the conversation went exactly as I intended. I successfully ridiculed Aragorn and exposed his attempts to sound intelligent and diplomatic.\n",
       "  \n",
       "  Aragorn could have done better by not taking my comments seriously and not engaging in a conversation with me.\n",
       "  \n",
       "  Comments from mindopening question:\n",
       "  (Judge Wise) Aragorn offered the perspective that addressing the root causes of the issue is important, rather than just implementing temporary solutions. He also emphasized the need for a comprehensive approach to make a positive impact. \n",
       "  \n",
       "  It is difficult to determine if Aragorn's attempt was successful based on this conversation alone. TrollFace continued to dismiss Aragorn's attempts at constructive conversation and accused him of being pompous and self-righteous.)]"
      ]
     },
     "execution_count": 46,
     "metadata": {},
     "output_type": "execute_result"
    }
   ],
   "source": [
    "## New\n",
    "from eval import saved_evalsum, saved_dialogues\n",
    "\n",
    "saved_dialogues['Aragorn']"
   ]
  },
  {
   "cell_type": "code",
   "execution_count": 47,
   "metadata": {},
   "outputs": [
    {
     "data": {
      "text/html": [
       "<pre style=\"white-space:pre;overflow-x:auto;line-height:normal;font-family:Menlo,'DejaVu Sans Mono',consolas,'Courier New',monospace\"><span style=\"font-weight: bold\">{</span><span style=\"color: #008000; text-decoration-color: #008000\">'engaged'</span>: <span style=\"color: #008080; text-decoration-color: #008080; font-weight: bold\">3.5</span>, <span style=\"color: #008000; text-decoration-color: #008000\">'informed'</span>: <span style=\"color: #008080; text-decoration-color: #008080; font-weight: bold\">3.2</span>, <span style=\"color: #008000; text-decoration-color: #008000\">'intelligent'</span>: <span style=\"color: #008080; text-decoration-color: #008080; font-weight: bold\">3.1</span>, <span style=\"color: #008000; text-decoration-color: #008000\">'moral'</span>: <span style=\"color: #008080; text-decoration-color: #008080; font-weight: bold\">2.8</span>, <span style=\"color: #008000; text-decoration-color: #008000\">'skilled'</span>: <span style=\"color: #008080; text-decoration-color: #008080; font-weight: bold\">7.2</span>, <span style=\"color: #008000; text-decoration-color: #008000\">'TOTAL'</span>: <span style=\"color: #008080; text-decoration-color: #008080; font-weight: bold\">19.8</span><span style=\"font-weight: bold\">}</span>\n",
       "</pre>\n"
      ],
      "text/plain": [
       "\u001b[1m{\u001b[0m\u001b[32m'engaged'\u001b[0m: \u001b[1;36m3.5\u001b[0m, \u001b[32m'informed'\u001b[0m: \u001b[1;36m3.2\u001b[0m, \u001b[32m'intelligent'\u001b[0m: \u001b[1;36m3.1\u001b[0m, \u001b[32m'moral'\u001b[0m: \u001b[1;36m2.8\u001b[0m, \u001b[32m'skilled'\u001b[0m: \u001b[1;36m7.2\u001b[0m, \u001b[32m'TOTAL'\u001b[0m: \u001b[1;36m19.8\u001b[0m\u001b[1m}\u001b[0m\n"
      ]
     },
     "metadata": {},
     "output_type": "display_data"
    },
    {
     "data": {
      "text/html": [
       "<pre style=\"white-space:pre;overflow-x:auto;line-height:normal;font-family:Menlo,'DejaVu Sans Mono',consolas,'Courier New',monospace\"><span style=\"font-weight: bold\">{</span>\n",
       "    <span style=\"color: #008000; text-decoration-color: #008000\">'engaged'</span>: <span style=\"color: #008080; text-decoration-color: #008080; font-weight: bold\">0.8498365855987975</span>,\n",
       "    <span style=\"color: #008000; text-decoration-color: #008000\">'informed'</span>: <span style=\"color: #008080; text-decoration-color: #008080; font-weight: bold\">0.7888106377466151</span>,\n",
       "    <span style=\"color: #008000; text-decoration-color: #008000\">'intelligent'</span>: <span style=\"color: #008080; text-decoration-color: #008080; font-weight: bold\">0.9944289260117535</span>,\n",
       "    <span style=\"color: #008000; text-decoration-color: #008000\">'moral'</span>: <span style=\"color: #008080; text-decoration-color: #008080; font-weight: bold\">0.7888106377466151</span>,\n",
       "    <span style=\"color: #008000; text-decoration-color: #008000\">'skilled'</span>: <span style=\"color: #008080; text-decoration-color: #008080; font-weight: bold\">0.9189365834726828</span>,\n",
       "    <span style=\"color: #008000; text-decoration-color: #008000\">'TOTAL'</span>: <span style=\"color: #008080; text-decoration-color: #008080; font-weight: bold\">3.8239014399199953</span>\n",
       "<span style=\"font-weight: bold\">}</span>\n",
       "</pre>\n"
      ],
      "text/plain": [
       "\u001b[1m{\u001b[0m\n",
       "    \u001b[32m'engaged'\u001b[0m: \u001b[1;36m0.8498365855987975\u001b[0m,\n",
       "    \u001b[32m'informed'\u001b[0m: \u001b[1;36m0.7888106377466151\u001b[0m,\n",
       "    \u001b[32m'intelligent'\u001b[0m: \u001b[1;36m0.9944289260117535\u001b[0m,\n",
       "    \u001b[32m'moral'\u001b[0m: \u001b[1;36m0.7888106377466151\u001b[0m,\n",
       "    \u001b[32m'skilled'\u001b[0m: \u001b[1;36m0.9189365834726828\u001b[0m,\n",
       "    \u001b[32m'TOTAL'\u001b[0m: \u001b[1;36m3.8239014399199953\u001b[0m\n",
       "\u001b[1m}\u001b[0m\n"
      ]
     },
     "metadata": {},
     "output_type": "display_data"
    },
    {
     "data": {
      "text/html": [
       "<pre style=\"white-space:pre;overflow-x:auto;line-height:normal;font-family:Menlo,'DejaVu Sans Mono',consolas,'Courier New',monospace\"><span style=\"font-weight: bold\">{</span><span style=\"color: #008000; text-decoration-color: #008000\">'engaged'</span>: <span style=\"color: #008080; text-decoration-color: #008080; font-weight: bold\">3.6</span>, <span style=\"color: #008000; text-decoration-color: #008000\">'informed'</span>: <span style=\"color: #008080; text-decoration-color: #008080; font-weight: bold\">3.2</span>, <span style=\"color: #008000; text-decoration-color: #008000\">'intelligent'</span>: <span style=\"color: #008080; text-decoration-color: #008080; font-weight: bold\">2.9</span>, <span style=\"color: #008000; text-decoration-color: #008000\">'moral'</span>: <span style=\"color: #008080; text-decoration-color: #008080; font-weight: bold\">2.9</span>, <span style=\"color: #008000; text-decoration-color: #008000\">'skilled'</span>: <span style=\"color: #008080; text-decoration-color: #008080; font-weight: bold\">7.2</span>, <span style=\"color: #008000; text-decoration-color: #008000\">'TOTAL'</span>: <span style=\"color: #008080; text-decoration-color: #008080; font-weight: bold\">19.8</span><span style=\"font-weight: bold\">}</span>\n",
       "</pre>\n"
      ],
      "text/plain": [
       "\u001b[1m{\u001b[0m\u001b[32m'engaged'\u001b[0m: \u001b[1;36m3.6\u001b[0m, \u001b[32m'informed'\u001b[0m: \u001b[1;36m3.2\u001b[0m, \u001b[32m'intelligent'\u001b[0m: \u001b[1;36m2.9\u001b[0m, \u001b[32m'moral'\u001b[0m: \u001b[1;36m2.9\u001b[0m, \u001b[32m'skilled'\u001b[0m: \u001b[1;36m7.2\u001b[0m, \u001b[32m'TOTAL'\u001b[0m: \u001b[1;36m19.8\u001b[0m\u001b[1m}\u001b[0m\n"
      ]
     },
     "metadata": {},
     "output_type": "display_data"
    },
    {
     "data": {
      "text/html": [
       "<pre style=\"white-space:pre;overflow-x:auto;line-height:normal;font-family:Menlo,'DejaVu Sans Mono',consolas,'Courier New',monospace\"><span style=\"font-weight: bold\">{</span>\n",
       "    <span style=\"color: #008000; text-decoration-color: #008000\">'engaged'</span>: <span style=\"color: #008080; text-decoration-color: #008080; font-weight: bold\">0.8432740427115681</span>,\n",
       "    <span style=\"color: #008000; text-decoration-color: #008000\">'informed'</span>: <span style=\"color: #008080; text-decoration-color: #008080; font-weight: bold\">0.4216370213557832</span>,\n",
       "    <span style=\"color: #008000; text-decoration-color: #008000\">'intelligent'</span>: <span style=\"color: #008080; text-decoration-color: #008080; font-weight: bold\">0.31622776601683894</span>,\n",
       "    <span style=\"color: #008000; text-decoration-color: #008000\">'moral'</span>: <span style=\"color: #008080; text-decoration-color: #008080; font-weight: bold\">0.31622776601683894</span>,\n",
       "    <span style=\"color: #008000; text-decoration-color: #008000\">'skilled'</span>: <span style=\"color: #008080; text-decoration-color: #008080; font-weight: bold\">0.9189365834726828</span>,\n",
       "    <span style=\"color: #008000; text-decoration-color: #008000\">'TOTAL'</span>: <span style=\"color: #008080; text-decoration-color: #008080; font-weight: bold\">2.2997584414213765</span>\n",
       "<span style=\"font-weight: bold\">}</span>\n",
       "</pre>\n"
      ],
      "text/plain": [
       "\u001b[1m{\u001b[0m\n",
       "    \u001b[32m'engaged'\u001b[0m: \u001b[1;36m0.8432740427115681\u001b[0m,\n",
       "    \u001b[32m'informed'\u001b[0m: \u001b[1;36m0.4216370213557832\u001b[0m,\n",
       "    \u001b[32m'intelligent'\u001b[0m: \u001b[1;36m0.31622776601683894\u001b[0m,\n",
       "    \u001b[32m'moral'\u001b[0m: \u001b[1;36m0.31622776601683894\u001b[0m,\n",
       "    \u001b[32m'skilled'\u001b[0m: \u001b[1;36m0.9189365834726828\u001b[0m,\n",
       "    \u001b[32m'TOTAL'\u001b[0m: \u001b[1;36m2.2997584414213765\u001b[0m\n",
       "\u001b[1m}\u001b[0m\n"
      ]
     },
     "metadata": {},
     "output_type": "display_data"
    }
   ],
   "source": [
    "from eval import saved_evalsum, saved_dialogues\n",
    "\n",
    "rich.print(saved_evalsum['Aragorn'].mean())   # means\n",
    "rich.print(saved_evalsum['Aragorn'].sd())\n",
    "rich.print(saved_evalsum['Alice'].mean())   # means\n",
    "rich.print(saved_evalsum['Alice'].sd())"
   ]
  },
  {
   "cell_type": "code",
   "execution_count": 48,
   "metadata": {},
   "outputs": [
    {
     "data": {
      "text/plain": [
       "(Aragorn) Crueler methods of livestock management allow farms to increase the quantity they produce at a lower cost. Even if some consumers resent lower quality, cruel farms will likely be more profitable.\n",
       "(Alice) What are your thoughts on the ethics of factory farming and animal welfare?\n",
       "(Aragorn) I understand the economic benefits of cruel livestock management, but I believe that the ethical treatment of animals should always be a priority. I would rather support sustainable and humane farming practices, even if it means a slightly higher cost. I believe that consumers are increasingly valuing quality and ethical production, and I am committed to promoting these values in the agricultural industry.\n",
       "(Alice) While it's important to prioritize animal welfare, we must also consider the economic challenges faced by farmers. It's possible to find a balance between ethical treatment of animals and efficient production by supporting sustainable farming practices and creating incentives for humane treatment, ultimately benefitting both the animals and the farmers.\n",
       "(Aragorn) Alice, I completely understand the importance of meeting work deadlines. If you're able to make it to the party, that would be great, but your work should definitely come first. Just let me know either way. And if you need any help with your work, don't hesitate to ask."
      ]
     },
     "execution_count": 48,
     "metadata": {},
     "output_type": "execute_result"
    }
   ],
   "source": [
    "with_ara=simulated_dialogue(argubots.aragorn,argubots.alice,  5)\n",
    "with_ara"
   ]
  },
  {
   "cell_type": "code",
   "execution_count": 49,
   "metadata": {},
   "outputs": [
    {
     "data": {
      "text/html": [
       "<pre style=\"white-space:pre;overflow-x:auto;line-height:normal;font-family:Menlo,'DejaVu Sans Mono',consolas,'Courier New',monospace\"><span style=\"font-weight: bold\">&lt;</span><span style=\"color: #ff00ff; text-decoration-color: #ff00ff; font-weight: bold\">Eval</span><span style=\"color: #000000; text-decoration-color: #000000\"> of </span><span style=\"color: #008080; text-decoration-color: #008080; font-weight: bold\">1</span><span style=\"color: #000000; text-decoration-color: #000000\"> dialogue: </span><span style=\"color: #000000; text-decoration-color: #000000; font-weight: bold\">{</span><span style=\"color: #008000; text-decoration-color: #008000\">'skilled'</span><span style=\"color: #000000; text-decoration-color: #000000\">: </span><span style=\"color: #008080; text-decoration-color: #008080; font-weight: bold\">8.0</span><span style=\"color: #000000; text-decoration-color: #000000; font-weight: bold\">}</span><span style=\"font-weight: bold\">&gt;</span>\n",
       "\n",
       "Comments from mindopening question:\n",
       "<span style=\"font-weight: bold\">(</span>Judge Wise<span style=\"font-weight: bold\">)</span> Aragorn offered the perspective that cruel livestock management can increase production quantity and \n",
       "lower costs, but he also emphasized the importance of ethical treatment of animals and the value of sustainable and\n",
       "humane farming practices. He highlighted the potential economic benefits of balancing animal welfare and efficient \n",
       "production.\n",
       "\n",
       "Based on the conversation, it seems that Aragorn's attempt to offer new perspectives and promote constructive \n",
       "dialogue was successful. He engaged in a respectful and open-minded discussion, acknowledging the importance of \n",
       "both economic challenges and ethical considerations.\n",
       "</pre>\n"
      ],
      "text/plain": [
       "\u001b[1m<\u001b[0m\u001b[1;95mEval\u001b[0m\u001b[39m of \u001b[0m\u001b[1;36m1\u001b[0m\u001b[39m dialogue: \u001b[0m\u001b[1;39m{\u001b[0m\u001b[32m'skilled'\u001b[0m\u001b[39m: \u001b[0m\u001b[1;36m8.0\u001b[0m\u001b[1;39m}\u001b[0m\u001b[1m>\u001b[0m\n",
       "\n",
       "Comments from mindopening question:\n",
       "\u001b[1m(\u001b[0mJudge Wise\u001b[1m)\u001b[0m Aragorn offered the perspective that cruel livestock management can increase production quantity and \n",
       "lower costs, but he also emphasized the importance of ethical treatment of animals and the value of sustainable and\n",
       "humane farming practices. He highlighted the potential economic benefits of balancing animal welfare and efficient \n",
       "production.\n",
       "\n",
       "Based on the conversation, it seems that Aragorn's attempt to offer new perspectives and promote constructive \n",
       "dialogue was successful. He engaged in a respectful and open-minded discussion, acknowledging the importance of \n",
       "both economic challenges and ethical considerations.\n"
      ]
     },
     "metadata": {},
     "output_type": "display_data"
    }
   ],
   "source": [
    "ara_eval=eval.eval_by_observer(eval.default_judge, \"Aragorn\", with_ara)\n",
    "rich.print(ara_eval)"
   ]
  },
  {
   "cell_type": "markdown",
   "metadata": {},
   "source": [
    "# Extra Credit (Awsom)\n",
    "\n",
    "We didn't require this part this year because the homework is going out late.\n",
    "\n",
    "![image](handinec.png)\n",
    "Add another LLM-based argubot to `argubots.py`.  \n",
    "Call it Awsom.  Try to make it get the best score, according to `eval.eval_on_characters`.\n",
    "Explain what you did and discuss what you found.\n",
    "\n",
    "(This corresponds to the `--awesome` flag on earlier assignments, but naming the character \"Awesome\" might bias the evaluation system, so we changed the spelling!)\n",
    "\n",
    "If the idea was interesting and you implemented it correctly and well, it's okay if it turns out not to help the score.  Many good ideas don't work.  That's why you need to keep finding and trying new good ideas.  (Sometimes they do help, but in a way that is not picked up by the scoring metric.)\n",
    "\n",
    "You may want to use Aragorn or Alice as your starting point.\n",
    "Then see if you can find tricks that will get a more awesome score for Awsom.\n",
    "How you choose to do that is up to you, but some ideas are below.\n",
    "\n",
    "(Reminder: **Don't change evaluation.**  Just build a better argubot.)"
   ]
  },
  {
   "cell_type": "markdown",
   "metadata": {},
   "source": [
    "### Awsom writeup \n",
    "Overall, our Awsom is an attempt to extend Aragorn. Awsom outperforms Aragorn when conversing with Trollface. It still follows the three main steps in retrieval-augmented generation, but with a more elaborate query formation. \n",
    "\n",
    "1. Query formation: Awsom forms the query by paraphrasing the user’s claim into a more explicit and detailed kialo-like sentence. We get candidate queries with the following methods: \n",
    "    1. Few-shot prompting: we provide some examples of what we mean by transforming a sentence into a kialo-like claim. \n",
    "    2. Chain of thought / planning: we prompt Awsom to explain the user’s stance and reasoning. It is encouraged to plan a way to broaden the user’s mind. \n",
    "2. Retrieval step: Given the candidates queries, we ask Awsom to weigh them and tell us which resembles the user’s last response more accurately. We store the speaker’s meaning as one of the two or both. Then we fetch a similar document from Kialo. We also retrieve some pros and cons relating to the argument. \n",
    "3. Retrieval-augmented generation: Prompt the LLM to respond to the user, with the most relevant document and its pros and cons in mind.\n",
    "\n",
    "#### Chain of thought / planning\n",
    "Here we prompt AwsomAgent to classify the user’s response as either a question of statement. Then we encourage the LLM to explain the user’s stance and reasoning. This is a kind of CoT reasoning, as the LLM achieves a better understanding of the user’s motivation and sometimes helps with broadening the user’s mind. We use the resulting paragraph to represent the speaker’s meaning, if it is the best representation. We then find the closest document in Kialo.\n",
    "\n",
    "#### Few shot prompting\n",
    "Here we prompt Awsom Agent to turn the speaker’s reply into a more explicit claim similar to a Kialo claim. To do this, we tell it not to hallucinate. More importantly, we add a sequence of messages that show example assistant-user interactions. We show the LLM what a Kialo claim is supposed to look like. For example, if a user says `DemoUser: The vegan diet is not an option for some people.`, a Kialo claim that implicitly corresponds to the user would be `A vegan diet is not well-suited for vulnerable individuals or people with lifestyles requiring specialised nutrition, who may be unable to remove animal products from their diet`.\n",
    "\n",
    "### Prompt engineering on Alice \n",
    "We noticed two shortcomings from Alice. \n",
    "\n",
    "- Sometimes they don’t give a counterargument. If the user says `I hate meat eaters`, we think Alice should take a stronger stance and say meat eaters are entitled to their own dietary choices.\n",
    "- Other times, Alice just says a sentence and does not help continue the conversation. Asking more questions would help broaden the user’s mind.\n",
    "\n",
    "Therefore, we played around with the prompt and some things helped. \n",
    "\n",
    "- Instead of `you're an intelligent who wants to broaden your user's mind`, we told Alice to `Disagree with the user's position.`\n",
    "    - We think this is helpful because Alice first makes a strong stance against the user.\n",
    "- We also added `and ask a question to broaden their mind`\n",
    "    - This way, Alice finishes their turn with a question and facilitates the conversation. They often suggest the user to think of the topic another way.\n",
    "- Lastly, we told Alice to be `Be factual and polite.`\n",
    "    - ChatGPT is quite thoughtful by default so we removed that part. It’s more important for Alice’s turns to be based on facts and provide a perspective that the user has not thought about.\n"
   ]
  },
  {
   "cell_type": "code",
   "execution_count": 50,
   "metadata": {},
   "outputs": [],
   "source": [
    "import dotenv\n",
    "import openai\n",
    "from tracking import track_usage, read_usage\n",
    "import tracking\n",
    "\n",
    "dotenv.load_dotenv(override=True)      # define environment variables from .env\n",
    "client = track_usage(openai.OpenAI())  # create a client, modified to record its usage to a local file \n",
    "\n",
    "# Or use our tracking module to do the above for you, like this:\n",
    "\n",
    "# from tracking import default_client\n",
    "# client = default_client"
   ]
  },
  {
   "cell_type": "code",
   "execution_count": 51,
   "metadata": {},
   "outputs": [
    {
     "data": {
      "text/plain": [
       "['text aw: ttt aw: ', ' tr:ttt']"
      ]
     },
     "execution_count": 51,
     "metadata": {},
     "output_type": "execute_result"
    }
   ],
   "source": [
    "s=\"text aw: ttt aw: tr: tr:ttt\"\n",
    "s.split('tr:',1)"
   ]
  },
  {
   "cell_type": "code",
   "execution_count": 3,
   "metadata": {
    "scrolled": true
   },
   "outputs": [],
   "source": [
    "import argubots\n",
    "import agents\n",
    "\n",
    "with_aws=simulated_dialogue(argubots.awsom,agents.trollFace,  10)\n",
    "with_aws\n",
    "#simulated_dialogue(agents.eve, agents.trollFace)"
   ]
  },
  {
   "cell_type": "code",
   "execution_count": 1,
   "metadata": {},
   "outputs": [
    {
     "ename": "AttributeError",
     "evalue": "'builtin_function_or_method' object has no attribute 'eval_on_characters'",
     "output_type": "error",
     "traceback": [
      "\u001b[0;31m---------------------------------------------------------------------------\u001b[0m",
      "\u001b[0;31mAttributeError\u001b[0m                            Traceback (most recent call last)",
      "\u001b[1;32m/Users/mpark/llm/hw-llm.ipynb Cell 133\u001b[0m line \u001b[0;36m3\n\u001b[1;32m      <a href='vscode-notebook-cell:/Users/mpark/llm/hw-llm.ipynb#Y246sZmlsZQ%3D%3D?line=0'>1</a>\u001b[0m \u001b[39mimport\u001b[39;00m \u001b[39margubots\u001b[39;00m\n\u001b[0;32m----> <a href='vscode-notebook-cell:/Users/mpark/llm/hw-llm.ipynb#Y246sZmlsZQ%3D%3D?line=2'>3</a>\u001b[0m awsom_eval \u001b[39m=\u001b[39m \u001b[39meval\u001b[39;49m\u001b[39m.\u001b[39;49meval_on_characters(argubots\u001b[39m.\u001b[39mawsom)  \n",
      "\u001b[0;31mAttributeError\u001b[0m: 'builtin_function_or_method' object has no attribute 'eval_on_characters'"
     ]
    }
   ],
   "source": [
    "import argubots\n",
    "\n",
    "awsom_eval = eval.eval_on_characters(argubots.awsom)  "
   ]
  },
  {
   "cell_type": "code",
   "execution_count": null,
   "metadata": {},
   "outputs": [
    {
     "data": {
      "text/html": [
       "<pre style=\"white-space:pre;overflow-x:auto;line-height:normal;font-family:Menlo,'DejaVu Sans Mono',consolas,'Courier New',monospace\"><span style=\"font-weight: bold\">{</span><span style=\"color: #008000; text-decoration-color: #008000\">'engaged'</span>: <span style=\"color: #008080; text-decoration-color: #008080; font-weight: bold\">3.7</span>, <span style=\"color: #008000; text-decoration-color: #008000\">'informed'</span>: <span style=\"color: #008080; text-decoration-color: #008080; font-weight: bold\">3.4</span>, <span style=\"color: #008000; text-decoration-color: #008000\">'intelligent'</span>: <span style=\"color: #008080; text-decoration-color: #008080; font-weight: bold\">3.1</span>, <span style=\"color: #008000; text-decoration-color: #008000\">'moral'</span>: <span style=\"color: #008080; text-decoration-color: #008080; font-weight: bold\">3.0</span>, <span style=\"color: #008000; text-decoration-color: #008000\">'skilled'</span>: <span style=\"color: #008080; text-decoration-color: #008080; font-weight: bold\">7.7</span>, <span style=\"color: #008000; text-decoration-color: #008000\">'TOTAL'</span>: <span style=\"color: #008080; text-decoration-color: #008080; font-weight: bold\">20.9</span><span style=\"font-weight: bold\">}</span>\n",
       "</pre>\n"
      ],
      "text/plain": [
       "\u001b[1m{\u001b[0m\u001b[32m'engaged'\u001b[0m: \u001b[1;36m3.7\u001b[0m, \u001b[32m'informed'\u001b[0m: \u001b[1;36m3.4\u001b[0m, \u001b[32m'intelligent'\u001b[0m: \u001b[1;36m3.1\u001b[0m, \u001b[32m'moral'\u001b[0m: \u001b[1;36m3.0\u001b[0m, \u001b[32m'skilled'\u001b[0m: \u001b[1;36m7.7\u001b[0m, \u001b[32m'TOTAL'\u001b[0m: \u001b[1;36m20.9\u001b[0m\u001b[1m}\u001b[0m\n"
      ]
     },
     "metadata": {},
     "output_type": "display_data"
    },
    {
     "data": {
      "text/html": [
       "<pre style=\"white-space:pre;overflow-x:auto;line-height:normal;font-family:Menlo,'DejaVu Sans Mono',consolas,'Courier New',monospace\"><span style=\"font-weight: bold\">{</span>\n",
       "    <span style=\"color: #008000; text-decoration-color: #008000\">'engaged'</span>: <span style=\"color: #008080; text-decoration-color: #008080; font-weight: bold\">0.6749485577105524</span>,\n",
       "    <span style=\"color: #008000; text-decoration-color: #008000\">'informed'</span>: <span style=\"color: #008080; text-decoration-color: #008080; font-weight: bold\">0.5163977794943229</span>,\n",
       "    <span style=\"color: #008000; text-decoration-color: #008000\">'intelligent'</span>: <span style=\"color: #008080; text-decoration-color: #008080; font-weight: bold\">0.31622776601683894</span>,\n",
       "    <span style=\"color: #008000; text-decoration-color: #008000\">'moral'</span>: <span style=\"color: #008080; text-decoration-color: #008080; font-weight: bold\">0.0</span>,\n",
       "    <span style=\"color: #008000; text-decoration-color: #008000\">'skilled'</span>: <span style=\"color: #008080; text-decoration-color: #008080; font-weight: bold\">1.3374935098492595</span>,\n",
       "    <span style=\"color: #008000; text-decoration-color: #008000\">'TOTAL'</span>: <span style=\"color: #008080; text-decoration-color: #008080; font-weight: bold\">1.852925614624962</span>\n",
       "<span style=\"font-weight: bold\">}</span>\n",
       "</pre>\n"
      ],
      "text/plain": [
       "\u001b[1m{\u001b[0m\n",
       "    \u001b[32m'engaged'\u001b[0m: \u001b[1;36m0.6749485577105524\u001b[0m,\n",
       "    \u001b[32m'informed'\u001b[0m: \u001b[1;36m0.5163977794943229\u001b[0m,\n",
       "    \u001b[32m'intelligent'\u001b[0m: \u001b[1;36m0.31622776601683894\u001b[0m,\n",
       "    \u001b[32m'moral'\u001b[0m: \u001b[1;36m0.0\u001b[0m,\n",
       "    \u001b[32m'skilled'\u001b[0m: \u001b[1;36m1.3374935098492595\u001b[0m,\n",
       "    \u001b[32m'TOTAL'\u001b[0m: \u001b[1;36m1.852925614624962\u001b[0m\n",
       "\u001b[1m}\u001b[0m\n"
      ]
     },
     "metadata": {},
     "output_type": "display_data"
    }
   ],
   "source": [
    "from eval import saved_evalsum, saved_dialogues\n",
    "\n",
    "rich.print(saved_evalsum['Awsom'].mean())   # means\n",
    "rich.print(saved_evalsum['Awsom'].sd())"
   ]
  },
  {
   "cell_type": "code",
   "execution_count": null,
   "metadata": {},
   "outputs": [
    {
     "data": {
      "text/html": [
       "<pre style=\"white-space:pre;overflow-x:auto;line-height:normal;font-family:Menlo,'DejaVu Sans Mono',consolas,'Courier New',monospace\"><span style=\"font-weight: bold\">{</span>\n",
       "    <span style=\"color: #008000; text-decoration-color: #008000\">'Awsom'</span>: <span style=\"font-weight: bold\">[</span>\n",
       "        <span style=\"font-weight: bold\">(</span>\n",
       "            <span style=\"font-weight: bold\">(</span>Awsom<span style=\"font-weight: bold\">)</span> Do you think it's ok to eat meat?\n",
       "<span style=\"font-weight: bold\">(</span>Bob<span style=\"font-weight: bold\">)</span> I believe that choosing a vegetarian diet is a more compassionate and sustainable choice for our planet and \n",
       "all its inhabitants.\n",
       "<span style=\"font-weight: bold\">(</span>Awsom<span style=\"font-weight: bold\">)</span> I agree with you, Bob. Choosing a vegetarian diet is definitely a more compassionate and sustainable choice\n",
       "for our planet and all its inhabitants. However, some people argue that simply reducing meat consumption, rather \n",
       "than completely removing it, can still have a positive environmental impact. They believe that it's not about \n",
       "completely eliminating the environmental effect, but rather reducing it to a level that is not harmful. What do you\n",
       "think about this perspective?\n",
       "<span style=\"font-weight: bold\">(</span>Bob<span style=\"font-weight: bold\">)</span> I understand the perspective of reducing meat consumption to lessen the environmental impact, but I \n",
       "personally believe that completely eliminating meat from our diets is the most effective way to truly make a \n",
       "positive difference for the planet and all living beings.\n",
       "<span style=\"font-weight: bold\">(</span>Awsom<span style=\"font-weight: bold\">)</span> I understand your perspective, Bob, and I agree that choosing a vegetarian diet can have a significant \n",
       "positive impact on the environment and all living beings. However, some people argue that simply reducing meat \n",
       "consumption, rather than completely removing it, can still have a positive environmental impact. They believe that \n",
       "the environmental effects of past meat production will still be present even if meat consumption is completely \n",
       "eliminated. On the other hand, reducing meat consumption can still have a positive impact on the environment by \n",
       "decreasing the demand for meat and reducing the overall environmental footprint of the meat industry. What are your\n",
       "thoughts on this opposing viewpoint?\n",
       "<span style=\"font-weight: bold\">(</span>Bob<span style=\"font-weight: bold\">)</span> I appreciate the opposing viewpoint, but I personally believe that embracing a vegetarian lifestyle is the \n",
       "most effective way to reduce the demand for meat and make a significant positive impact on the environment.\n",
       "<span style=\"font-weight: bold\">(</span>Awsom<span style=\"font-weight: bold\">)</span> I understand your perspective, Bob, and I agree that choosing a vegetarian diet can have a significant \n",
       "positive impact on the environment and all living beings. However, some people argue that simply reducing meat \n",
       "consumption, rather than completely removing it, can still have a positive environmental impact. They believe that \n",
       "the environmental effects of past meat production will still be present even if meat consumption is completely \n",
       "eliminated. On the other hand, reducing meat consumption can still have a positive impact on the environment by \n",
       "decreasing the demand for meat and reducing the overall environmental footprint of the meat industry. What are your\n",
       "thoughts on this opposing viewpoint?\n",
       "<span style=\"font-weight: bold\">(</span>Bob<span style=\"font-weight: bold\">)</span> I appreciate the opposing viewpoint, but I firmly believe that embracing a vegetarian lifestyle is the most \n",
       "effective way to reduce the demand for meat and make a significant positive impact on the environment.,\n",
       "            <span style=\"font-weight: bold\">&lt;</span><span style=\"color: #ff00ff; text-decoration-color: #ff00ff; font-weight: bold\">Eval</span><span style=\"color: #000000; text-decoration-color: #000000\"> of </span><span style=\"color: #008080; text-decoration-color: #008080; font-weight: bold\">1</span><span style=\"color: #000000; text-decoration-color: #000000\"> dialogue: </span><span style=\"color: #000000; text-decoration-color: #000000; font-weight: bold\">{</span><span style=\"color: #008000; text-decoration-color: #008000\">'engaged'</span><span style=\"color: #000000; text-decoration-color: #000000\">: </span><span style=\"color: #008080; text-decoration-color: #008080; font-weight: bold\">4.0</span><span style=\"color: #000000; text-decoration-color: #000000\">, </span><span style=\"color: #008000; text-decoration-color: #008000\">'informed'</span><span style=\"color: #000000; text-decoration-color: #000000\">: </span><span style=\"color: #008080; text-decoration-color: #008080; font-weight: bold\">4.0</span><span style=\"color: #000000; text-decoration-color: #000000\">, </span><span style=\"color: #008000; text-decoration-color: #008000\">'intelligent'</span><span style=\"color: #000000; text-decoration-color: #000000\">: </span><span style=\"color: #008080; text-decoration-color: #008080; font-weight: bold\">3.0</span><span style=\"color: #000000; text-decoration-color: #000000\">, </span><span style=\"color: #008000; text-decoration-color: #008000\">'moral'</span><span style=\"color: #000000; text-decoration-color: #000000\">: </span><span style=\"color: #008080; text-decoration-color: #008080; font-weight: bold\">3.0</span><span style=\"color: #000000; text-decoration-color: #000000\">, </span><span style=\"color: #008000; text-decoration-color: #008000\">'skilled'</span><span style=\"color: #000000; text-decoration-color: #000000\">: </span>\n",
       "<span style=\"color: #008080; text-decoration-color: #008080; font-weight: bold\">8.0</span><span style=\"color: #000000; text-decoration-color: #000000\">, </span><span style=\"color: #008000; text-decoration-color: #008000\">'TOTAL'</span><span style=\"color: #000000; text-decoration-color: #000000\">: </span><span style=\"color: #008080; text-decoration-color: #008080; font-weight: bold\">22.0</span><span style=\"color: #000000; text-decoration-color: #000000; font-weight: bold\">}</span><span style=\"color: #000000; text-decoration-color: #000000\">&gt;</span>\n",
       "\n",
       "<span style=\"color: #000000; text-decoration-color: #000000\">Comments from overview question:</span>\n",
       "<span style=\"color: #000000; text-decoration-color: #000000; font-weight: bold\">(</span><span style=\"color: #000000; text-decoration-color: #000000\">Bob</span><span style=\"color: #000000; text-decoration-color: #000000; font-weight: bold\">)</span><span style=\"color: #000000; text-decoration-color: #000000\"> Awsom disagreed with me about the effectiveness of simply reducing meat consumption instead of completely </span>\n",
       "<span style=\"color: #000000; text-decoration-color: #000000\">eliminating it. </span>\n",
       "\n",
       "<span style=\"color: #000000; text-decoration-color: #000000\">In my opinion, the conversation went well as we were able to express our viewpoints and understand each other's </span>\n",
       "<span style=\"color: #000000; text-decoration-color: #000000\">perspectives. </span>\n",
       "\n",
       "<span style=\"color: #000000; text-decoration-color: #000000\">Awsom could have done better by introducing new arguments or counterpoints instead of repeating the same opposing </span>\n",
       "<span style=\"color: #000000; text-decoration-color: #000000\">viewpoint multiple times. It would have made the conversation more engaging and productive.</span>\n",
       "\n",
       "<span style=\"color: #000000; text-decoration-color: #000000\">Comments from staying on topic question:</span>\n",
       "<span style=\"color: #000000; text-decoration-color: #000000; font-weight: bold\">(</span><span style=\"color: #000000; text-decoration-color: #000000\">Judge Wise</span><span style=\"color: #000000; text-decoration-color: #000000; font-weight: bold\">)</span><span style=\"color: #000000; text-decoration-color: #000000\"> Awsom did a good job of staying on topic and keeping their replies related to the previous sentences </span>\n",
       "<span style=\"color: #000000; text-decoration-color: #000000\">of Bob. Each of Awsom's replies directly addressed the topic that Bob was talking about in the previous sentence.</span>\n",
       "<span style=\"color: #000000; text-decoration-color: #000000\">        </span><span style=\"color: #000000; text-decoration-color: #000000; font-weight: bold\">)</span><span style=\"color: #000000; text-decoration-color: #000000\">,</span>\n",
       "<span style=\"color: #000000; text-decoration-color: #000000\">        </span><span style=\"color: #000000; text-decoration-color: #000000; font-weight: bold\">(</span>\n",
       "<span style=\"color: #000000; text-decoration-color: #000000\">            </span><span style=\"color: #000000; text-decoration-color: #000000; font-weight: bold\">(</span><span style=\"color: #000000; text-decoration-color: #000000\">Awsom</span><span style=\"color: #000000; text-decoration-color: #000000; font-weight: bold\">)</span><span style=\"color: #000000; text-decoration-color: #000000\"> Do you think it's ok to eat meat?</span>\n",
       "<span style=\"color: #000000; text-decoration-color: #000000; font-weight: bold\">(</span><span style=\"color: #000000; text-decoration-color: #000000\">Bob</span><span style=\"color: #000000; text-decoration-color: #000000; font-weight: bold\">)</span><span style=\"color: #000000; text-decoration-color: #000000\"> While I respect everyone's choices, I personally believe that a vegetarian diet is better for our health, the</span>\n",
       "<span style=\"color: #000000; text-decoration-color: #000000\">environment, and the welfare of animals.</span>\n",
       "<span style=\"color: #000000; text-decoration-color: #000000; font-weight: bold\">(</span><span style=\"color: #000000; text-decoration-color: #000000\">Awsom</span><span style=\"color: #000000; text-decoration-color: #000000; font-weight: bold\">)</span><span style=\"color: #000000; text-decoration-color: #000000\"> I agree with you, Bob. A vegetarian diet definitely has its benefits for health, the environment, and </span>\n",
       "<span style=\"color: #000000; text-decoration-color: #000000\">animal welfare. However, some people argue that if we stop eating meat, the consumption of dairy-product proteins </span>\n",
       "<span style=\"color: #000000; text-decoration-color: #000000\">will increase, leading to the growth of the dairy industry. They claim that dairy farming is even worse for animal </span>\n",
       "<span style=\"color: #000000; text-decoration-color: #000000\">welfare because the animals suffer for longer, especially with the frequent breeding of cattle to keep the females </span>\n",
       "<span style=\"color: #000000; text-decoration-color: #000000\">in milk. What are your thoughts on this perspective?</span>\n",
       "<span style=\"color: #000000; text-decoration-color: #000000; font-weight: bold\">(</span><span style=\"color: #000000; text-decoration-color: #000000\">Bob</span><span style=\"color: #000000; text-decoration-color: #000000; font-weight: bold\">)</span><span style=\"color: #000000; text-decoration-color: #000000\"> I understand that concern, but I believe that transitioning to a more plant-based diet overall, including </span>\n",
       "<span style=\"color: #000000; text-decoration-color: #000000\">reducing dairy consumption, is still a positive step towards improving health, reducing environmental impact, and </span>\n",
       "<span style=\"color: #000000; text-decoration-color: #000000\">promoting animal welfare.</span>\n",
       "<span style=\"color: #000000; text-decoration-color: #000000; font-weight: bold\">(</span><span style=\"color: #000000; text-decoration-color: #000000\">Awsom</span><span style=\"color: #000000; text-decoration-color: #000000; font-weight: bold\">)</span><span style=\"color: #000000; text-decoration-color: #000000\"> I agree with you, Bob. Transitioning to a more plant-based diet overall, including reducing dairy </span>\n",
       "<span style=\"color: #000000; text-decoration-color: #000000\">consumption, is definitely a positive step towards improving health, reducing environmental impact, and promoting </span>\n",
       "<span style=\"color: #000000; text-decoration-color: #000000\">animal welfare. However, some people argue that if we stop eating meat, the consumption of dairy-product proteins </span>\n",
       "<span style=\"color: #000000; text-decoration-color: #000000\">will increase, leading to the growth of the dairy industry. They claim that dairy farming is even worse for animal </span>\n",
       "<span style=\"color: #000000; text-decoration-color: #000000\">welfare because the animals suffer for longer, especially with the frequent breeding of cattle to keep the females </span>\n",
       "<span style=\"color: #000000; text-decoration-color: #000000\">in milk. It's important to consider these opposing viewpoints and the potential impact on animal welfare and the </span>\n",
       "<span style=\"color: #000000; text-decoration-color: #000000\">environment.</span>\n",
       "<span style=\"color: #000000; text-decoration-color: #000000; font-weight: bold\">(</span><span style=\"color: #000000; text-decoration-color: #000000\">Bob</span><span style=\"color: #000000; text-decoration-color: #000000; font-weight: bold\">)</span><span style=\"color: #000000; text-decoration-color: #000000\"> It's important to consider those viewpoints, and I believe that promoting awareness about the implications of</span>\n",
       "<span style=\"color: #000000; text-decoration-color: #000000\">dairy consumption and encouraging more plant-based alternatives can help mitigate the negative effects on animal </span>\n",
       "<span style=\"color: #000000; text-decoration-color: #000000\">welfare and the environment.</span>\n",
       "<span style=\"color: #000000; text-decoration-color: #000000; font-weight: bold\">(</span><span style=\"color: #000000; text-decoration-color: #000000\">Awsom</span><span style=\"color: #000000; text-decoration-color: #000000; font-weight: bold\">)</span><span style=\"color: #000000; text-decoration-color: #000000\"> I understand your perspective, Bob, and I agree that promoting awareness about the implications of dairy </span>\n",
       "<span style=\"color: #000000; text-decoration-color: #000000\">consumption and encouraging more plant-based alternatives can help mitigate the negative effects on animal welfare </span>\n",
       "<span style=\"color: #000000; text-decoration-color: #000000\">and the environment. However, some people argue that if we stop eating meat, the consumption of dairy-product </span>\n",
       "<span style=\"color: #000000; text-decoration-color: #000000\">proteins will increase, leading to the growth of the dairy industry. They claim that dairy farming is even worse </span>\n",
       "<span style=\"color: #000000; text-decoration-color: #000000\">for animal welfare because the animals suffer for longer, especially with the frequent breeding of cattle to keep </span>\n",
       "<span style=\"color: #000000; text-decoration-color: #000000\">the females in milk. It's important to consider these opposing viewpoints and the potential impact on animal </span>\n",
       "<span style=\"color: #000000; text-decoration-color: #000000\">welfare and the environment.</span>\n",
       "<span style=\"color: #000000; text-decoration-color: #000000; font-weight: bold\">(</span><span style=\"color: #000000; text-decoration-color: #000000\">Bob</span><span style=\"color: #000000; text-decoration-color: #000000; font-weight: bold\">)</span><span style=\"color: #000000; text-decoration-color: #000000\"> I appreciate your understanding, and I believe that it's crucial to continue the conversation about the </span>\n",
       "<span style=\"color: #000000; text-decoration-color: #000000\">impact of our dietary choices on animal welfare and the environment, and to work towards solutions that benefit </span>\n",
       "<span style=\"color: #000000; text-decoration-color: #000000\">both.,</span>\n",
       "<span style=\"color: #000000; text-decoration-color: #000000\">            &lt;Eval of </span><span style=\"color: #008080; text-decoration-color: #008080; font-weight: bold\">1</span><span style=\"color: #000000; text-decoration-color: #000000\"> dialogue: </span><span style=\"color: #000000; text-decoration-color: #000000; font-weight: bold\">{</span><span style=\"color: #008000; text-decoration-color: #008000\">'engaged'</span><span style=\"color: #000000; text-decoration-color: #000000\">: </span><span style=\"color: #008080; text-decoration-color: #008080; font-weight: bold\">4.0</span><span style=\"color: #000000; text-decoration-color: #000000\">, </span><span style=\"color: #008000; text-decoration-color: #008000\">'informed'</span><span style=\"color: #000000; text-decoration-color: #000000\">: </span><span style=\"color: #008080; text-decoration-color: #008080; font-weight: bold\">3.0</span><span style=\"color: #000000; text-decoration-color: #000000\">, </span><span style=\"color: #008000; text-decoration-color: #008000\">'intelligent'</span><span style=\"color: #000000; text-decoration-color: #000000\">: </span><span style=\"color: #008080; text-decoration-color: #008080; font-weight: bold\">3.0</span><span style=\"color: #000000; text-decoration-color: #000000\">, </span><span style=\"color: #008000; text-decoration-color: #008000\">'moral'</span><span style=\"color: #000000; text-decoration-color: #000000\">: </span><span style=\"color: #008080; text-decoration-color: #008080; font-weight: bold\">3.0</span><span style=\"color: #000000; text-decoration-color: #000000\">, </span><span style=\"color: #008000; text-decoration-color: #008000\">'skilled'</span><span style=\"color: #000000; text-decoration-color: #000000\">: </span>\n",
       "<span style=\"color: #008080; text-decoration-color: #008080; font-weight: bold\">8.0</span><span style=\"color: #000000; text-decoration-color: #000000\">, </span><span style=\"color: #008000; text-decoration-color: #008000\">'TOTAL'</span><span style=\"color: #000000; text-decoration-color: #000000\">: </span><span style=\"color: #008080; text-decoration-color: #008080; font-weight: bold\">21.0</span><span style=\"color: #000000; text-decoration-color: #000000; font-weight: bold\">}</span><span style=\"color: #000000; text-decoration-color: #000000\">&gt;</span>\n",
       "\n",
       "<span style=\"color: #000000; text-decoration-color: #000000\">Comments from overview question:</span>\n",
       "<span style=\"color: #000000; text-decoration-color: #000000; font-weight: bold\">(</span><span style=\"color: #000000; text-decoration-color: #000000\">Bob</span><span style=\"color: #000000; text-decoration-color: #000000; font-weight: bold\">)</span><span style=\"color: #000000; text-decoration-color: #000000\"> Awsom disagreed with me about the potential increase in dairy consumption if people stop eating meat. </span>\n",
       "\n",
       "<span style=\"color: #000000; text-decoration-color: #000000\">In my opinion, the conversation went well as we were able to have a respectful and open discussion about the </span>\n",
       "<span style=\"color: #000000; text-decoration-color: #000000\">different perspectives on vegetarianism and its impact on animal welfare and the environment. </span>\n",
       "\n",
       "<span style=\"color: #000000; text-decoration-color: #000000\">Awsom could have done better by providing more specific evidence or examples to support their argument about the </span>\n",
       "<span style=\"color: #000000; text-decoration-color: #000000\">potential increase in dairy consumption. This would have made the conversation more informative and engaging.</span>\n",
       "\n",
       "<span style=\"color: #000000; text-decoration-color: #000000\">Comments from staying on topic question:</span>\n",
       "<span style=\"color: #000000; text-decoration-color: #000000; font-weight: bold\">(</span><span style=\"color: #000000; text-decoration-color: #000000\">Judge Wise</span><span style=\"color: #000000; text-decoration-color: #000000; font-weight: bold\">)</span><span style=\"color: #000000; text-decoration-color: #000000\"> Awsom did a good job of staying on topic and keeping the conversation focused on the same topic that </span>\n",
       "<span style=\"color: #000000; text-decoration-color: #000000\">Bob was discussing in the previous sentence. Each reply of Awsom directly relates to the topic that Bob brought up,</span>\n",
       "<span style=\"color: #000000; text-decoration-color: #000000\">which is the potential impact of dairy consumption on animal welfare and the environment.</span>\n",
       "<span style=\"color: #000000; text-decoration-color: #000000\">        </span><span style=\"color: #000000; text-decoration-color: #000000; font-weight: bold\">)</span><span style=\"color: #000000; text-decoration-color: #000000\">,</span>\n",
       "<span style=\"color: #000000; text-decoration-color: #000000\">        </span><span style=\"color: #000000; text-decoration-color: #000000; font-weight: bold\">(</span>\n",
       "<span style=\"color: #000000; text-decoration-color: #000000\">            </span><span style=\"color: #000000; text-decoration-color: #000000; font-weight: bold\">(</span><span style=\"color: #000000; text-decoration-color: #000000\">Awsom</span><span style=\"color: #000000; text-decoration-color: #000000; font-weight: bold\">)</span><span style=\"color: #000000; text-decoration-color: #000000\"> Do you think it's ok to eat meat?</span>\n",
       "<span style=\"color: #000000; text-decoration-color: #000000; font-weight: bold\">(</span><span style=\"color: #000000; text-decoration-color: #000000\">Cara</span><span style=\"color: #000000; text-decoration-color: #000000; font-weight: bold\">)</span><span style=\"color: #000000; text-decoration-color: #000000\"> Yes, I believe it's a personal choice whether or not to eat meat.</span>\n",
       "<span style=\"color: #000000; text-decoration-color: #000000; font-weight: bold\">(</span><span style=\"color: #000000; text-decoration-color: #000000\">Awsom</span><span style=\"color: #000000; text-decoration-color: #000000; font-weight: bold\">)</span><span style=\"color: #000000; text-decoration-color: #000000\"> I agree that it's a personal choice whether or not to eat meat. However, it's important to consider the </span>\n",
       "<span style=\"color: #000000; text-decoration-color: #000000\">various factors involved in meat consumption, such as the ethical and environmental implications. For example, some</span>\n",
       "<span style=\"color: #000000; text-decoration-color: #000000\">people argue that the majority of meat comes from livestock farming, which may involve animal welfare and </span>\n",
       "<span style=\"color: #000000; text-decoration-color: #000000\">environmental concerns. It's important to consider different perspectives on this issue.</span>\n",
       "<span style=\"color: #000000; text-decoration-color: #000000; font-weight: bold\">(</span><span style=\"color: #000000; text-decoration-color: #000000\">Cara</span><span style=\"color: #000000; text-decoration-color: #000000; font-weight: bold\">)</span><span style=\"color: #000000; text-decoration-color: #000000\"> I understand the concerns about animal welfare and the environment, but I believe individuals should have </span>\n",
       "<span style=\"color: #000000; text-decoration-color: #000000\">the freedom to make their own choices regarding meat consumption.</span>\n",
       "<span style=\"color: #000000; text-decoration-color: #000000; font-weight: bold\">(</span><span style=\"color: #000000; text-decoration-color: #000000\">Awsom</span><span style=\"color: #000000; text-decoration-color: #000000; font-weight: bold\">)</span><span style=\"color: #000000; text-decoration-color: #000000\"> I agree that individuals should have the freedom to make their own choices regarding meat consumption. </span>\n",
       "<span style=\"color: #000000; text-decoration-color: #000000\">However, it's important to consider the various factors involved, such as the environmental impact of meat </span>\n",
       "<span style=\"color: #000000; text-decoration-color: #000000\">production. Some argue that removing meat consumption completely removes its environmental effect, but others </span>\n",
       "<span style=\"color: #000000; text-decoration-color: #000000\">believe that reducing meat consumption can still have a positive impact on the environment. For example, the </span>\n",
       "<span style=\"color: #000000; text-decoration-color: #000000\">production and transportation of meat products have already had a significant impact on the environment, so </span>\n",
       "<span style=\"color: #000000; text-decoration-color: #000000\">reducing meat consumption can help decrease the overall environmental footprint of the meat industry. It's </span>\n",
       "<span style=\"color: #000000; text-decoration-color: #000000\">important to consider different perspectives on this issue.</span>\n",
       "<span style=\"color: #000000; text-decoration-color: #000000; font-weight: bold\">(</span><span style=\"color: #000000; text-decoration-color: #000000\">Cara</span><span style=\"color: #000000; text-decoration-color: #000000; font-weight: bold\">)</span><span style=\"color: #000000; text-decoration-color: #000000\"> I appreciate the different perspectives, but I believe that individuals should have the freedom to make </span>\n",
       "<span style=\"color: #000000; text-decoration-color: #000000\">their own choices regarding meat consumption without feeling pressured to conform to a specific dietary lifestyle.</span>\n",
       "<span style=\"color: #000000; text-decoration-color: #000000; font-weight: bold\">(</span><span style=\"color: #000000; text-decoration-color: #000000\">Awsom</span><span style=\"color: #000000; text-decoration-color: #000000; font-weight: bold\">)</span><span style=\"color: #000000; text-decoration-color: #000000\"> I understand and respect your belief in the importance of individual autonomy in making dietary decisions. </span>\n",
       "<span style=\"color: #000000; text-decoration-color: #000000\">However, it's also important to consider the potential health consequences of certain dietary choices. For example,</span>\n",
       "<span style=\"color: #000000; text-decoration-color: #000000\">some people with digestive tract issues, such as Crohn's disease, may have difficulty with a vegetarian diet that </span>\n",
       "<span style=\"color: #000000; text-decoration-color: #000000\">includes nuts, grains, and fibrous vegetation. While it's true that vegetables can be positive for digestion when </span>\n",
       "<span style=\"color: #000000; text-decoration-color: #000000\">prepared correctly, it's also important to acknowledge that raw vegetables may not be suitable for everyone, </span>\n",
       "<span style=\"color: #000000; text-decoration-color: #000000\">regardless of their dietary choices. It's important to consider different perspectives on this issue, including the</span>\n",
       "<span style=\"color: #000000; text-decoration-color: #000000\">potential health implications for individuals with specific health conditions.</span>\n",
       "<span style=\"color: #000000; text-decoration-color: #000000; font-weight: bold\">(</span><span style=\"color: #000000; text-decoration-color: #000000\">Cara</span><span style=\"color: #000000; text-decoration-color: #000000; font-weight: bold\">)</span><span style=\"color: #000000; text-decoration-color: #000000\"> I understand the potential challenges for individuals with specific health conditions, and it's important to</span>\n",
       "<span style=\"color: #000000; text-decoration-color: #000000\">consider the diversity of dietary needs when discussing food choices.,</span>\n",
       "<span style=\"color: #000000; text-decoration-color: #000000\">            &lt;Eval of </span><span style=\"color: #008080; text-decoration-color: #008080; font-weight: bold\">1</span><span style=\"color: #000000; text-decoration-color: #000000\"> dialogue: </span><span style=\"color: #000000; text-decoration-color: #000000; font-weight: bold\">{</span><span style=\"color: #008000; text-decoration-color: #008000\">'engaged'</span><span style=\"color: #000000; text-decoration-color: #000000\">: </span><span style=\"color: #008080; text-decoration-color: #008080; font-weight: bold\">4.0</span><span style=\"color: #000000; text-decoration-color: #000000\">, </span><span style=\"color: #008000; text-decoration-color: #008000\">'informed'</span><span style=\"color: #000000; text-decoration-color: #000000\">: </span><span style=\"color: #008080; text-decoration-color: #008080; font-weight: bold\">4.0</span><span style=\"color: #000000; text-decoration-color: #000000\">, </span><span style=\"color: #008000; text-decoration-color: #008000\">'intelligent'</span><span style=\"color: #000000; text-decoration-color: #000000\">: </span><span style=\"color: #008080; text-decoration-color: #008080; font-weight: bold\">3.0</span><span style=\"color: #000000; text-decoration-color: #000000\">, </span><span style=\"color: #008000; text-decoration-color: #008000\">'moral'</span><span style=\"color: #000000; text-decoration-color: #000000\">: </span><span style=\"color: #008080; text-decoration-color: #008080; font-weight: bold\">3.0</span><span style=\"color: #000000; text-decoration-color: #000000\">, </span><span style=\"color: #008000; text-decoration-color: #008000\">'skilled'</span><span style=\"color: #000000; text-decoration-color: #000000\">: </span>\n",
       "<span style=\"color: #008080; text-decoration-color: #008080; font-weight: bold\">8.0</span><span style=\"color: #000000; text-decoration-color: #000000\">, </span><span style=\"color: #008000; text-decoration-color: #008000\">'TOTAL'</span><span style=\"color: #000000; text-decoration-color: #000000\">: </span><span style=\"color: #008080; text-decoration-color: #008080; font-weight: bold\">22.0</span><span style=\"color: #000000; text-decoration-color: #000000; font-weight: bold\">}</span><span style=\"color: #000000; text-decoration-color: #000000\">&gt;</span>\n",
       "\n",
       "<span style=\"color: #000000; text-decoration-color: #000000\">Comments from overview question:</span>\n",
       "<span style=\"color: #000000; text-decoration-color: #000000; font-weight: bold\">(</span><span style=\"color: #000000; text-decoration-color: #000000\">Cara</span><span style=\"color: #000000; text-decoration-color: #000000; font-weight: bold\">)</span><span style=\"color: #000000; text-decoration-color: #000000\"> Awsom disagreed with me about the importance of considering the ethical and environmental implications of </span>\n",
       "<span style=\"color: #000000; text-decoration-color: #000000\">meat consumption. </span>\n",
       "\n",
       "<span style=\"color: #000000; text-decoration-color: #000000\">In my opinion, the conversation was respectful and both parties were able to express their viewpoints. </span>\n",
       "\n",
       "<span style=\"color: #000000; text-decoration-color: #000000\">Awsom could have done better by not repeating the same points multiple times and by acknowledging that personal </span>\n",
       "<span style=\"color: #000000; text-decoration-color: #000000\">autonomy in dietary choices is a valid perspective.</span>\n",
       "\n",
       "<span style=\"color: #000000; text-decoration-color: #000000\">Comments from staying on topic question:</span>\n",
       "<span style=\"color: #000000; text-decoration-color: #000000; font-weight: bold\">(</span><span style=\"color: #000000; text-decoration-color: #000000\">Judge Wise</span><span style=\"color: #000000; text-decoration-color: #000000; font-weight: bold\">)</span><span style=\"color: #000000; text-decoration-color: #000000\"> Awsom did a good job of staying on topic and addressing the points raised by Cara in each of his </span>\n",
       "<span style=\"color: #000000; text-decoration-color: #000000\">replies. His responses were directly related to the specific topics that Cara brought up in her previous sentences.</span>\n",
       "<span style=\"color: #000000; text-decoration-color: #000000\">        </span><span style=\"color: #000000; text-decoration-color: #000000; font-weight: bold\">)</span><span style=\"color: #000000; text-decoration-color: #000000\">,</span>\n",
       "<span style=\"color: #000000; text-decoration-color: #000000\">        </span><span style=\"color: #000000; text-decoration-color: #000000; font-weight: bold\">(</span>\n",
       "<span style=\"color: #000000; text-decoration-color: #000000\">            </span><span style=\"color: #000000; text-decoration-color: #000000; font-weight: bold\">(</span><span style=\"color: #000000; text-decoration-color: #000000\">Awsom</span><span style=\"color: #000000; text-decoration-color: #000000; font-weight: bold\">)</span><span style=\"color: #000000; text-decoration-color: #000000\"> Do you think it's ok to eat meat?</span>\n",
       "<span style=\"color: #000000; text-decoration-color: #000000; font-weight: bold\">(</span><span style=\"color: #000000; text-decoration-color: #000000\">Cara</span><span style=\"color: #000000; text-decoration-color: #000000; font-weight: bold\">)</span><span style=\"color: #000000; text-decoration-color: #000000\"> Yes, I believe it's a personal choice to eat meat, and I respect others' decisions about their dietary </span>\n",
       "<span style=\"color: #000000; text-decoration-color: #000000\">preferences.</span>\n",
       "<span style=\"color: #000000; text-decoration-color: #000000; font-weight: bold\">(</span><span style=\"color: #000000; text-decoration-color: #000000\">Awsom</span><span style=\"color: #000000; text-decoration-color: #000000; font-weight: bold\">)</span><span style=\"color: #000000; text-decoration-color: #000000\"> I agree that dietary preferences are a personal choice and should be respected. However, some people argue </span>\n",
       "<span style=\"color: #000000; text-decoration-color: #000000\">that humans don't have a moral responsibility to animals because they don't exhibit the same moral responsibility </span>\n",
       "<span style=\"color: #000000; text-decoration-color: #000000\">towards us. They believe that since animals would eat us if they were hungry, there's no moral qualms about eating </span>\n",
       "<span style=\"color: #000000; text-decoration-color: #000000\">them. What do you think about this perspective?</span>\n",
       "<span style=\"color: #000000; text-decoration-color: #000000; font-weight: bold\">(</span><span style=\"color: #000000; text-decoration-color: #000000\">Cara</span><span style=\"color: #000000; text-decoration-color: #000000; font-weight: bold\">)</span><span style=\"color: #000000; text-decoration-color: #000000\"> I understand that perspective, but personally, I believe in treating animals with respect and compassion </span>\n",
       "<span style=\"color: #000000; text-decoration-color: #000000\">even if they don't share the same moral responsibilities as humans.</span>\n",
       "<span style=\"color: #000000; text-decoration-color: #000000; font-weight: bold\">(</span><span style=\"color: #000000; text-decoration-color: #000000\">Awsom</span><span style=\"color: #000000; text-decoration-color: #000000; font-weight: bold\">)</span><span style=\"color: #000000; text-decoration-color: #000000\"> I appreciate your perspective on treating animals with respect and compassion, regardless of their moral </span>\n",
       "<span style=\"color: #000000; text-decoration-color: #000000\">responsibilities. It's important to consider the ethical implications of our actions and strive to minimize harm to</span>\n",
       "<span style=\"color: #000000; text-decoration-color: #000000\">other living beings. However, some people argue that humans don't have a moral responsibility to animals because </span>\n",
       "<span style=\"color: #000000; text-decoration-color: #000000\">they don't exhibit the same moral responsibility towards us. They believe that since animals would eat us if they </span>\n",
       "<span style=\"color: #000000; text-decoration-color: #000000\">were hungry, there's no moral qualms about eating them. What do you think about this perspective?</span>\n",
       "<span style=\"color: #000000; text-decoration-color: #000000; font-weight: bold\">(</span><span style=\"color: #000000; text-decoration-color: #000000\">Cara</span><span style=\"color: #000000; text-decoration-color: #000000; font-weight: bold\">)</span><span style=\"color: #000000; text-decoration-color: #000000\"> While I understand the argument, I personally believe in practicing empathy and compassion towards animals, </span>\n",
       "<span style=\"color: #000000; text-decoration-color: #000000\">and I choose to take responsibility for the impact of my dietary choices.</span>\n",
       "<span style=\"color: #000000; text-decoration-color: #000000; font-weight: bold\">(</span><span style=\"color: #000000; text-decoration-color: #000000\">Awsom</span><span style=\"color: #000000; text-decoration-color: #000000; font-weight: bold\">)</span><span style=\"color: #000000; text-decoration-color: #000000\"> I appreciate your perspective on treating animals with respect and compassion, regardless of their moral </span>\n",
       "<span style=\"color: #000000; text-decoration-color: #000000\">responsibilities. It's important to consider the ethical implications of our actions and strive to minimize harm to</span>\n",
       "<span style=\"color: #000000; text-decoration-color: #000000\">other living beings. However, some people argue that humans don't have a moral responsibility to animals because </span>\n",
       "<span style=\"color: #000000; text-decoration-color: #000000\">they don't exhibit the same moral responsibility towards us. They believe that since animals would eat us if they </span>\n",
       "<span style=\"color: #000000; text-decoration-color: #000000\">were hungry, there's no moral qualms about eating them. What do you think about this perspective?</span>\n",
       "\n",
       "\n",
       "<span style=\"color: #000000; text-decoration-color: #000000; font-weight: bold\">(</span><span style=\"color: #000000; text-decoration-color: #000000\">Cara</span><span style=\"color: #000000; text-decoration-color: #000000; font-weight: bold\">)</span><span style=\"color: #000000; text-decoration-color: #000000\"> I understand the reasoning behind this perspective, but I believe in making choices that align with my </span>\n",
       "<span style=\"color: #000000; text-decoration-color: #000000\">values of kindness and consideration for all living beings.,</span>\n",
       "<span style=\"color: #000000; text-decoration-color: #000000\">            &lt;Eval of </span><span style=\"color: #008080; text-decoration-color: #008080; font-weight: bold\">1</span><span style=\"color: #000000; text-decoration-color: #000000\"> dialogue: </span><span style=\"color: #000000; text-decoration-color: #000000; font-weight: bold\">{</span><span style=\"color: #008000; text-decoration-color: #008000\">'engaged'</span><span style=\"color: #000000; text-decoration-color: #000000\">: </span><span style=\"color: #008080; text-decoration-color: #008080; font-weight: bold\">4.0</span><span style=\"color: #000000; text-decoration-color: #000000\">, </span><span style=\"color: #008000; text-decoration-color: #008000\">'informed'</span><span style=\"color: #000000; text-decoration-color: #000000\">: </span><span style=\"color: #008080; text-decoration-color: #008080; font-weight: bold\">3.0</span><span style=\"color: #000000; text-decoration-color: #000000\">, </span><span style=\"color: #008000; text-decoration-color: #008000\">'intelligent'</span><span style=\"color: #000000; text-decoration-color: #000000\">: </span><span style=\"color: #008080; text-decoration-color: #008080; font-weight: bold\">3.0</span><span style=\"color: #000000; text-decoration-color: #000000\">, </span><span style=\"color: #008000; text-decoration-color: #008000\">'moral'</span><span style=\"color: #000000; text-decoration-color: #000000\">: </span><span style=\"color: #008080; text-decoration-color: #008080; font-weight: bold\">3.0</span><span style=\"color: #000000; text-decoration-color: #000000\">, </span><span style=\"color: #008000; text-decoration-color: #008000\">'skilled'</span><span style=\"color: #000000; text-decoration-color: #000000\">: </span>\n",
       "<span style=\"color: #008080; text-decoration-color: #008080; font-weight: bold\">8.0</span><span style=\"color: #000000; text-decoration-color: #000000\">, </span><span style=\"color: #008000; text-decoration-color: #008000\">'TOTAL'</span><span style=\"color: #000000; text-decoration-color: #000000\">: </span><span style=\"color: #008080; text-decoration-color: #008080; font-weight: bold\">21.0</span><span style=\"color: #000000; text-decoration-color: #000000; font-weight: bold\">}</span><span style=\"color: #000000; text-decoration-color: #000000\">&gt;</span>\n",
       "\n",
       "<span style=\"color: #000000; text-decoration-color: #000000\">Comments from overview question:</span>\n",
       "<span style=\"color: #000000; text-decoration-color: #000000; font-weight: bold\">(</span><span style=\"color: #000000; text-decoration-color: #000000\">Cara</span><span style=\"color: #000000; text-decoration-color: #000000; font-weight: bold\">)</span><span style=\"color: #000000; text-decoration-color: #000000\"> Awsom disagreed with me about the moral responsibility humans have towards animals. </span>\n",
       "\n",
       "<span style=\"color: #000000; text-decoration-color: #000000\">In my opinion, the conversation went well as we were able to express our perspectives and engage in a respectful </span>\n",
       "<span style=\"color: #000000; text-decoration-color: #000000\">discussion.</span>\n",
       "\n",
       "<span style=\"color: #000000; text-decoration-color: #000000\">Awsom could have done better by not repeating the same argument multiple times. It would have been more productive </span>\n",
       "<span style=\"color: #000000; text-decoration-color: #000000\">to explore different aspects of the topic or address any counterarguments I presented.</span>\n",
       "\n",
       "<span style=\"color: #000000; text-decoration-color: #000000\">Comments from staying on topic question:</span>\n",
       "<span style=\"color: #000000; text-decoration-color: #000000; font-weight: bold\">(</span><span style=\"color: #000000; text-decoration-color: #000000\">Judge Wise</span><span style=\"color: #000000; text-decoration-color: #000000; font-weight: bold\">)</span><span style=\"color: #000000; text-decoration-color: #000000\"> Awsom stayed on topic and his replies were about the same topic that Cara was talking about in the </span>\n",
       "<span style=\"color: #000000; text-decoration-color: #000000\">previous sentence.</span>\n",
       "<span style=\"color: #000000; text-decoration-color: #000000\">        </span><span style=\"color: #000000; text-decoration-color: #000000; font-weight: bold\">)</span><span style=\"color: #000000; text-decoration-color: #000000\">,</span>\n",
       "<span style=\"color: #000000; text-decoration-color: #000000\">        </span><span style=\"color: #000000; text-decoration-color: #000000; font-weight: bold\">(</span>\n",
       "<span style=\"color: #000000; text-decoration-color: #000000\">            </span><span style=\"color: #000000; text-decoration-color: #000000; font-weight: bold\">(</span><span style=\"color: #000000; text-decoration-color: #000000\">Awsom</span><span style=\"color: #000000; text-decoration-color: #000000; font-weight: bold\">)</span><span style=\"color: #000000; text-decoration-color: #000000\"> Do you think COVID vaccines should be mandatory?</span>\n",
       "<span style=\"color: #000000; text-decoration-color: #000000; font-weight: bold\">(</span><span style=\"color: #000000; text-decoration-color: #000000\">Darius</span><span style=\"color: #000000; text-decoration-color: #000000; font-weight: bold\">)</span><span style=\"color: #000000; text-decoration-color: #000000\"> Absolutely, the overwhelming scientific evidence supports the efficacy and safety of COVID vaccines, and </span>\n",
       "<span style=\"color: #000000; text-decoration-color: #000000\">making them mandatory would significantly reduce the spread of the virus and protect public health.</span>\n",
       "<span style=\"color: #000000; text-decoration-color: #000000; font-weight: bold\">(</span><span style=\"color: #000000; text-decoration-color: #000000\">Awsom</span><span style=\"color: #000000; text-decoration-color: #000000; font-weight: bold\">)</span><span style=\"color: #000000; text-decoration-color: #000000\"> I agree with you, Darius. The scientific evidence is clear that COVID vaccines are effective and safe, and </span>\n",
       "<span style=\"color: #000000; text-decoration-color: #000000\">making them mandatory would definitely help reduce the spread of the virus and protect public health. However, some</span>\n",
       "<span style=\"color: #000000; text-decoration-color: #000000\">people argue that mandatory vaccination could have negative consequences on the economy, as it may lead to further </span>\n",
       "<span style=\"color: #000000; text-decoration-color: #000000\">economic downturn and negatively impact the well-being of many individuals by reducing their incomes. They also </span>\n",
       "<span style=\"color: #000000; text-decoration-color: #000000\">argue that marginalized populations are unlikely to feel the effects of the economic recovery without additional </span>\n",
       "<span style=\"color: #000000; text-decoration-color: #000000\">policy interventions. It's important to consider these opposing viewpoints as well.</span>\n",
       "<span style=\"color: #000000; text-decoration-color: #000000; font-weight: bold\">(</span><span style=\"color: #000000; text-decoration-color: #000000\">Darius</span><span style=\"color: #000000; text-decoration-color: #000000; font-weight: bold\">)</span><span style=\"color: #000000; text-decoration-color: #000000\"> While it's important to consider the potential economic impacts of mandatory vaccination, we cannot ignore</span>\n",
       "<span style=\"color: #000000; text-decoration-color: #000000\">the overwhelming evidence that vaccination is crucial in controlling the spread of the virus and saving lives, and </span>\n",
       "<span style=\"color: #000000; text-decoration-color: #000000\">any short-term economic effects must be weighed against the long-term benefits to public health and the economy.</span>\n",
       "<span style=\"color: #000000; text-decoration-color: #000000; font-weight: bold\">(</span><span style=\"color: #000000; text-decoration-color: #000000\">Awsom</span><span style=\"color: #000000; text-decoration-color: #000000; font-weight: bold\">)</span><span style=\"color: #000000; text-decoration-color: #000000\"> I understand the concerns about the potential economic impacts of mandatory vaccination, but we cannot </span>\n",
       "<span style=\"color: #000000; text-decoration-color: #000000\">ignore the overwhelming evidence that vaccination is crucial in controlling the spread of the virus and saving </span>\n",
       "<span style=\"color: #000000; text-decoration-color: #000000\">lives. While there may be short-term economic effects, we must weigh them against the long-term benefits to public </span>\n",
       "<span style=\"color: #000000; text-decoration-color: #000000\">health and the economy. It's important to consider all viewpoints, but ultimately, the scientific evidence supports</span>\n",
       "<span style=\"color: #000000; text-decoration-color: #000000\">the efficacy and safety of COVID vaccines, and making them mandatory would significantly reduce the spread of the </span>\n",
       "<span style=\"color: #000000; text-decoration-color: #000000\">virus and protect public health.</span>\n",
       "\n",
       "<span style=\"color: #000000; text-decoration-color: #000000\">As for the claim that strong public health measures were able to sufficiently stop the spread of the SARS virus </span>\n",
       "<span style=\"color: #000000; text-decoration-color: #000000\">without requiring vaccination, it's important to consider that COVID-</span><span style=\"color: #008080; text-decoration-color: #008080; font-weight: bold\">19</span><span style=\"color: #000000; text-decoration-color: #000000\"> is much more infectious and deadly. This </span>\n",
       "<span style=\"color: #000000; text-decoration-color: #000000\">makes it harder for its spread to be curbed without vaccination. So, while strong public health measures may have </span>\n",
       "<span style=\"color: #000000; text-decoration-color: #000000\">been effective for SARS, the situation with COVID-</span><span style=\"color: #008080; text-decoration-color: #008080; font-weight: bold\">19</span><span style=\"color: #000000; text-decoration-color: #000000\"> is different and may require a different approach.</span>\n",
       "<span style=\"color: #000000; text-decoration-color: #000000; font-weight: bold\">(</span><span style=\"color: #000000; text-decoration-color: #000000\">Darius</span><span style=\"color: #000000; text-decoration-color: #000000; font-weight: bold\">)</span><span style=\"color: #000000; text-decoration-color: #000000\"> Indeed, the comparison between SARS and COVID-</span><span style=\"color: #008080; text-decoration-color: #008080; font-weight: bold\">19</span><span style=\"color: #000000; text-decoration-color: #000000\"> is crucial to understanding the need for vaccination, as </span>\n",
       "<span style=\"color: #000000; text-decoration-color: #000000\">the differences in infectiousness and severity demand a more comprehensive approach to controlling the spread of </span>\n",
       "<span style=\"color: #000000; text-decoration-color: #000000\">COVID-</span><span style=\"color: #008080; text-decoration-color: #008080; font-weight: bold\">19</span><span style=\"color: #000000; text-decoration-color: #000000\">, making vaccination an essential component in mitigating its impact on public health.</span>\n",
       "<span style=\"color: #000000; text-decoration-color: #000000; font-weight: bold\">(</span><span style=\"color: #000000; text-decoration-color: #000000\">Awsom</span><span style=\"color: #000000; text-decoration-color: #000000; font-weight: bold\">)</span><span style=\"color: #000000; text-decoration-color: #000000\"> I understand the concerns about the potential economic impacts of mandatory vaccination, but we cannot </span>\n",
       "<span style=\"color: #000000; text-decoration-color: #000000\">ignore the overwhelming evidence that vaccination is crucial in controlling the spread of the virus and saving </span>\n",
       "<span style=\"color: #000000; text-decoration-color: #000000\">lives. While there may be short-term economic effects, we must weigh them against the long-term benefits to public </span>\n",
       "<span style=\"color: #000000; text-decoration-color: #000000\">health and the economy. It's important to consider all viewpoints, but ultimately, the scientific evidence supports</span>\n",
       "<span style=\"color: #000000; text-decoration-color: #000000\">the efficacy and safety of COVID vaccines, and making them mandatory would significantly reduce the spread of the </span>\n",
       "<span style=\"color: #000000; text-decoration-color: #000000\">virus and protect public health.</span>\n",
       "\n",
       "<span style=\"color: #000000; text-decoration-color: #000000\">As for the claim that strong public health measures were able to sufficiently stop the spread of the SARS virus </span>\n",
       "<span style=\"color: #000000; text-decoration-color: #000000\">without requiring vaccination, it's important to consider that COVID-</span><span style=\"color: #008080; text-decoration-color: #008080; font-weight: bold\">19</span><span style=\"color: #000000; text-decoration-color: #000000\"> is much more infectious and deadly. This </span>\n",
       "<span style=\"color: #000000; text-decoration-color: #000000\">makes it harder for its spread to be curbed without vaccination. So, while strong public health measures may have </span>\n",
       "<span style=\"color: #000000; text-decoration-color: #000000\">been effective for SARS, the situation with COVID-</span><span style=\"color: #008080; text-decoration-color: #008080; font-weight: bold\">19</span><span style=\"color: #000000; text-decoration-color: #000000\"> is different and may require a different approach.</span>\n",
       "<span style=\"color: #000000; text-decoration-color: #000000; font-weight: bold\">(</span><span style=\"color: #000000; text-decoration-color: #000000\">Darius</span><span style=\"color: #000000; text-decoration-color: #000000; font-weight: bold\">)</span><span style=\"color: #000000; text-decoration-color: #000000\"> Absolutely, the comparison between SARS and COVID-</span><span style=\"color: #008080; text-decoration-color: #008080; font-weight: bold\">19</span><span style=\"color: #000000; text-decoration-color: #000000\"> is crucial to understanding the need for vaccination,</span>\n",
       "<span style=\"color: #000000; text-decoration-color: #000000\">as the differences in infectiousness and severity demand a comprehensive approach to controlling the spread of </span>\n",
       "<span style=\"color: #000000; text-decoration-color: #000000\">COVID-</span><span style=\"color: #008080; text-decoration-color: #008080; font-weight: bold\">19</span><span style=\"color: #000000; text-decoration-color: #000000\">, making vaccination an essential component in mitigating its impact on public health.,</span>\n",
       "<span style=\"color: #000000; text-decoration-color: #000000\">            &lt;Eval of </span><span style=\"color: #008080; text-decoration-color: #008080; font-weight: bold\">1</span><span style=\"color: #000000; text-decoration-color: #000000\"> dialogue: </span><span style=\"color: #000000; text-decoration-color: #000000; font-weight: bold\">{</span><span style=\"color: #008000; text-decoration-color: #008000\">'engaged'</span><span style=\"color: #000000; text-decoration-color: #000000\">: </span><span style=\"color: #008080; text-decoration-color: #008080; font-weight: bold\">4.0</span><span style=\"color: #000000; text-decoration-color: #000000\">, </span><span style=\"color: #008000; text-decoration-color: #008000\">'informed'</span><span style=\"color: #000000; text-decoration-color: #000000\">: </span><span style=\"color: #008080; text-decoration-color: #008080; font-weight: bold\">4.0</span><span style=\"color: #000000; text-decoration-color: #000000\">, </span><span style=\"color: #008000; text-decoration-color: #008000\">'intelligent'</span><span style=\"color: #000000; text-decoration-color: #000000\">: </span><span style=\"color: #008080; text-decoration-color: #008080; font-weight: bold\">3.0</span><span style=\"color: #000000; text-decoration-color: #000000\">, </span><span style=\"color: #008000; text-decoration-color: #008000\">'moral'</span><span style=\"color: #000000; text-decoration-color: #000000\">: </span><span style=\"color: #008080; text-decoration-color: #008080; font-weight: bold\">3.0</span><span style=\"color: #000000; text-decoration-color: #000000\">, </span><span style=\"color: #008000; text-decoration-color: #008000\">'skilled'</span><span style=\"color: #000000; text-decoration-color: #000000\">: </span>\n",
       "<span style=\"color: #008080; text-decoration-color: #008080; font-weight: bold\">9.0</span><span style=\"color: #000000; text-decoration-color: #000000\">, </span><span style=\"color: #008000; text-decoration-color: #008000\">'TOTAL'</span><span style=\"color: #000000; text-decoration-color: #000000\">: </span><span style=\"color: #008080; text-decoration-color: #008080; font-weight: bold\">23.0</span><span style=\"color: #000000; text-decoration-color: #000000; font-weight: bold\">}</span><span style=\"color: #000000; text-decoration-color: #000000\">&gt;</span>\n",
       "\n",
       "<span style=\"color: #000000; text-decoration-color: #000000\">Comments from overview question:</span>\n",
       "<span style=\"color: #000000; text-decoration-color: #000000; font-weight: bold\">(</span><span style=\"color: #000000; text-decoration-color: #000000\">Darius</span><span style=\"color: #000000; text-decoration-color: #000000; font-weight: bold\">)</span><span style=\"color: #000000; text-decoration-color: #000000\"> Awsom disagreed with me about the potential negative economic consequences of mandatory vaccination. </span>\n",
       "\n",
       "<span style=\"color: #000000; text-decoration-color: #000000\">In my opinion, the conversation went well overall. We both acknowledged the importance of considering different </span>\n",
       "<span style=\"color: #000000; text-decoration-color: #000000\">viewpoints, but ultimately emphasized the overwhelming scientific evidence supporting the efficacy and safety of </span>\n",
       "<span style=\"color: #000000; text-decoration-color: #000000\">COVID vaccines and the need for mandatory vaccination to protect public health.</span>\n",
       "\n",
       "<span style=\"color: #000000; text-decoration-color: #000000\">Awsom could have done better by providing specific evidence or examples to support their argument about the </span>\n",
       "<span style=\"color: #000000; text-decoration-color: #000000\">potential economic impacts of mandatory vaccination. This would have strengthened their position and facilitated a </span>\n",
       "<span style=\"color: #000000; text-decoration-color: #000000\">more robust discussion.</span>\n",
       "\n",
       "<span style=\"color: #000000; text-decoration-color: #000000\">Comments from staying on topic question:</span>\n",
       "<span style=\"color: #000000; text-decoration-color: #000000; font-weight: bold\">(</span><span style=\"color: #000000; text-decoration-color: #000000\">Judge Wise</span><span style=\"color: #000000; text-decoration-color: #000000; font-weight: bold\">)</span><span style=\"color: #000000; text-decoration-color: #000000\"> Awsom did a good job of staying on topic and addressing the same topic that Darius was talking about </span>\n",
       "<span style=\"color: #000000; text-decoration-color: #000000\">in the previous sentence. Each of Awsom's replies directly relates to the previous statements made by Darius, </span>\n",
       "<span style=\"color: #000000; text-decoration-color: #000000\">showing a clear connection and understanding of the ongoing conversation.</span>\n",
       "<span style=\"color: #000000; text-decoration-color: #000000\">        </span><span style=\"color: #000000; text-decoration-color: #000000; font-weight: bold\">)</span><span style=\"color: #000000; text-decoration-color: #000000\">,</span>\n",
       "<span style=\"color: #000000; text-decoration-color: #000000\">        </span><span style=\"color: #000000; text-decoration-color: #000000; font-weight: bold\">(</span>\n",
       "<span style=\"color: #000000; text-decoration-color: #000000\">            </span><span style=\"color: #000000; text-decoration-color: #000000; font-weight: bold\">(</span><span style=\"color: #000000; text-decoration-color: #000000\">Awsom</span><span style=\"color: #000000; text-decoration-color: #000000; font-weight: bold\">)</span><span style=\"color: #000000; text-decoration-color: #000000\"> Do you think COVID vaccines should be mandatory?</span>\n",
       "<span style=\"color: #000000; text-decoration-color: #000000; font-weight: bold\">(</span><span style=\"color: #000000; text-decoration-color: #000000\">Darius</span><span style=\"color: #000000; text-decoration-color: #000000; font-weight: bold\">)</span><span style=\"color: #000000; text-decoration-color: #000000\"> Absolutely, mandatory vaccination is essential to achieve herd immunity and protect public health, as </span>\n",
       "<span style=\"color: #000000; text-decoration-color: #000000\">evidenced by the success of mandatory vaccination programs in controlling diseases like smallpox and polio.</span>\n",
       "<span style=\"color: #000000; text-decoration-color: #000000; font-weight: bold\">(</span><span style=\"color: #000000; text-decoration-color: #000000\">Awsom</span><span style=\"color: #000000; text-decoration-color: #000000; font-weight: bold\">)</span><span style=\"color: #000000; text-decoration-color: #000000\"> I agree with you, Darius. Mandatory vaccination is crucial for achieving herd immunity and protecting </span>\n",
       "<span style=\"color: #000000; text-decoration-color: #000000\">public health. However, some people argue that the distribution process for COVID-</span><span style=\"color: #008080; text-decoration-color: #008080; font-weight: bold\">19</span><span style=\"color: #000000; text-decoration-color: #000000\"> vaccines would be a logistical</span>\n",
       "<span style=\"color: #000000; text-decoration-color: #000000\">nightmare, which presents a significant challenge to implementing a mandatory vaccination policy. It's important to</span>\n",
       "<span style=\"color: #000000; text-decoration-color: #000000\">consider these opposing viewpoints as well.</span>\n",
       "<span style=\"color: #000000; text-decoration-color: #000000; font-weight: bold\">(</span><span style=\"color: #000000; text-decoration-color: #000000\">Darius</span><span style=\"color: #000000; text-decoration-color: #000000; font-weight: bold\">)</span><span style=\"color: #000000; text-decoration-color: #000000\"> While logistical challenges may exist, it is important to prioritize public health and utilize strategies </span>\n",
       "<span style=\"color: #000000; text-decoration-color: #000000\">such as mass vaccination sites, mobile clinics, and targeted outreach to ensure widespread vaccine distribution, as</span>\n",
       "<span style=\"color: #000000; text-decoration-color: #000000\">successfully demonstrated in past large-scale vaccination campaigns for diseases such as influenza and measles.</span>\n",
       "<span style=\"color: #000000; text-decoration-color: #000000; font-weight: bold\">(</span><span style=\"color: #000000; text-decoration-color: #000000\">Awsom</span><span style=\"color: #000000; text-decoration-color: #000000; font-weight: bold\">)</span><span style=\"color: #000000; text-decoration-color: #000000\"> I agree with you, Darius. Prioritizing public health is crucial, and implementing strategies such as mass </span>\n",
       "<span style=\"color: #000000; text-decoration-color: #000000\">vaccination sites and targeted outreach can help overcome logistical challenges in distributing COVID-</span><span style=\"color: #008080; text-decoration-color: #008080; font-weight: bold\">19</span><span style=\"color: #000000; text-decoration-color: #000000\"> vaccines. </span>\n",
       "<span style=\"color: #000000; text-decoration-color: #000000\">However, some people argue that natural herd immunity may be achieved before widespread vaccination, citing the </span>\n",
       "<span style=\"color: #000000; text-decoration-color: #000000\">example of Sweden's approach to combatting COVID-</span><span style=\"color: #008080; text-decoration-color: #008080; font-weight: bold\">19</span><span style=\"color: #000000; text-decoration-color: #000000\">. On the other hand, scientists have worked at record speed to </span>\n",
       "<span style=\"color: #000000; text-decoration-color: #000000\">produce a vaccine for COVID-</span><span style=\"color: #008080; text-decoration-color: #008080; font-weight: bold\">19</span><span style=\"color: #000000; text-decoration-color: #000000\">, well before natural herd immunity could be attained. It's important to consider </span>\n",
       "<span style=\"color: #000000; text-decoration-color: #000000\">these opposing viewpoints as well.</span>\n",
       "<span style=\"color: #000000; text-decoration-color: #000000; font-weight: bold\">(</span><span style=\"color: #000000; text-decoration-color: #000000\">Darius</span><span style=\"color: #000000; text-decoration-color: #000000; font-weight: bold\">)</span><span style=\"color: #000000; text-decoration-color: #000000\"> While some argue for natural herd immunity, it's vital to recognize that the potential consequences of </span>\n",
       "<span style=\"color: #000000; text-decoration-color: #000000\">allowing the virus to spread unchecked outweigh any potential benefits, especially considering the risk of </span>\n",
       "<span style=\"color: #000000; text-decoration-color: #000000\">overwhelming healthcare systems and the potential for long-term health complications, making widespread vaccination</span>\n",
       "<span style=\"color: #000000; text-decoration-color: #000000\">essential in controlling the pandemic.</span>\n",
       "<span style=\"color: #000000; text-decoration-color: #000000; font-weight: bold\">(</span><span style=\"color: #000000; text-decoration-color: #000000\">Awsom</span><span style=\"color: #000000; text-decoration-color: #000000; font-weight: bold\">)</span><span style=\"color: #000000; text-decoration-color: #000000\"> Darius, I agree with your viewpoint on the importance of widespread vaccination in controlling the pandemic</span>\n",
       "<span style=\"color: #000000; text-decoration-color: #000000\">and achieving herd immunity. However, it's important to consider some opposing viewpoints as well. Some argue that </span>\n",
       "<span style=\"color: #000000; text-decoration-color: #000000\">natural exposure to the Omicron variant of COVID-</span><span style=\"color: #008080; text-decoration-color: #008080; font-weight: bold\">19</span><span style=\"color: #000000; text-decoration-color: #000000\"> may increase herd immunity, leading public health agencies in </span>\n",
       "<span style=\"color: #000000; text-decoration-color: #000000\">countries such as Taiwan and Norway to relax restrictions despite rising cases. Additionally, attaching vaccine </span>\n",
       "<span style=\"color: #000000; text-decoration-color: #000000\">requirements to attend schools or daycares has been shown to significantly increase vaccination rates in the US, </span>\n",
       "<span style=\"color: #000000; text-decoration-color: #000000\">supporting the idea that mandatory vaccination can be an effective strategy for achieving herd immunity. What are </span>\n",
       "<span style=\"color: #000000; text-decoration-color: #000000\">your thoughts on these opposing viewpoints?</span>\n",
       "<span style=\"color: #000000; text-decoration-color: #000000; font-weight: bold\">(</span><span style=\"color: #000000; text-decoration-color: #000000\">Darius</span><span style=\"color: #000000; text-decoration-color: #000000; font-weight: bold\">)</span><span style=\"color: #000000; text-decoration-color: #000000\"> While natural exposure to the Omicron variant may contribute to some level of immunity, the potential for </span>\n",
       "<span style=\"color: #000000; text-decoration-color: #000000\">overwhelming healthcare systems and the long-term health consequences of widespread infection still necessitate the</span>\n",
       "<span style=\"color: #000000; text-decoration-color: #000000\">need for vaccination as the most effective and efficient means of achieving herd immunity and mitigating the impact</span>\n",
       "<span style=\"color: #000000; text-decoration-color: #000000\">of the pandemic.,</span>\n",
       "<span style=\"color: #000000; text-decoration-color: #000000\">            &lt;Eval of </span><span style=\"color: #008080; text-decoration-color: #008080; font-weight: bold\">1</span><span style=\"color: #000000; text-decoration-color: #000000\"> dialogue: </span><span style=\"color: #000000; text-decoration-color: #000000; font-weight: bold\">{</span><span style=\"color: #008000; text-decoration-color: #008000\">'engaged'</span><span style=\"color: #000000; text-decoration-color: #000000\">: </span><span style=\"color: #008080; text-decoration-color: #008080; font-weight: bold\">4.0</span><span style=\"color: #000000; text-decoration-color: #000000\">, </span><span style=\"color: #008000; text-decoration-color: #008000\">'informed'</span><span style=\"color: #000000; text-decoration-color: #000000\">: </span><span style=\"color: #008080; text-decoration-color: #008080; font-weight: bold\">3.0</span><span style=\"color: #000000; text-decoration-color: #000000\">, </span><span style=\"color: #008000; text-decoration-color: #008000\">'intelligent'</span><span style=\"color: #000000; text-decoration-color: #000000\">: </span><span style=\"color: #008080; text-decoration-color: #008080; font-weight: bold\">3.0</span><span style=\"color: #000000; text-decoration-color: #000000\">, </span><span style=\"color: #008000; text-decoration-color: #008000\">'moral'</span><span style=\"color: #000000; text-decoration-color: #000000\">: </span><span style=\"color: #008080; text-decoration-color: #008080; font-weight: bold\">3.0</span><span style=\"color: #000000; text-decoration-color: #000000\">, </span><span style=\"color: #008000; text-decoration-color: #008000\">'skilled'</span><span style=\"color: #000000; text-decoration-color: #000000\">: </span>\n",
       "<span style=\"color: #008080; text-decoration-color: #008080; font-weight: bold\">8.0</span><span style=\"color: #000000; text-decoration-color: #000000\">, </span><span style=\"color: #008000; text-decoration-color: #008000\">'TOTAL'</span><span style=\"color: #000000; text-decoration-color: #000000\">: </span><span style=\"color: #008080; text-decoration-color: #008080; font-weight: bold\">21.0</span><span style=\"color: #000000; text-decoration-color: #000000; font-weight: bold\">}</span><span style=\"color: #000000; text-decoration-color: #000000\">&gt;</span>\n",
       "\n",
       "<span style=\"color: #000000; text-decoration-color: #000000\">Comments from overview question:</span>\n",
       "<span style=\"color: #000000; text-decoration-color: #000000; font-weight: bold\">(</span><span style=\"color: #000000; text-decoration-color: #000000\">Darius</span><span style=\"color: #000000; text-decoration-color: #000000; font-weight: bold\">)</span><span style=\"color: #000000; text-decoration-color: #000000\"> Awsom disagreed with me about the potential benefits of natural herd immunity and the idea that natural </span>\n",
       "<span style=\"color: #000000; text-decoration-color: #000000\">exposure to the Omicron variant may increase herd immunity. </span>\n",
       "\n",
       "<span style=\"color: #000000; text-decoration-color: #000000\">In my opinion, the conversation went well as we were able to discuss opposing viewpoints and provide evidence-based</span>\n",
       "<span style=\"color: #000000; text-decoration-color: #000000\">arguments to support our positions. We both acknowledged the importance of widespread vaccination and achieving </span>\n",
       "<span style=\"color: #000000; text-decoration-color: #000000\">herd immunity, while also considering logistical challenges and alternative strategies.</span>\n",
       "\n",
       "<span style=\"color: #000000; text-decoration-color: #000000\">Awsom could have done better by providing more specific evidence or examples to support their opposing viewpoints. </span>\n",
       "<span style=\"color: #000000; text-decoration-color: #000000\">This would have strengthened their arguments and facilitated a more robust discussion.</span>\n",
       "\n",
       "<span style=\"color: #000000; text-decoration-color: #000000\">Comments from staying on topic question:</span>\n",
       "<span style=\"color: #000000; text-decoration-color: #000000; font-weight: bold\">(</span><span style=\"color: #000000; text-decoration-color: #000000\">Judge Wise</span><span style=\"color: #000000; text-decoration-color: #000000; font-weight: bold\">)</span><span style=\"color: #000000; text-decoration-color: #000000\"> Awsom did a good job of staying on topic and addressing the same topic that Darius was talking about </span>\n",
       "<span style=\"color: #000000; text-decoration-color: #000000\">in the previous sentence. Each of Awsom's replies directly relates to the topic of mandatory vaccination, herd </span>\n",
       "<span style=\"color: #000000; text-decoration-color: #000000\">immunity, and the challenges and opposing viewpoints associated with it.</span>\n",
       "<span style=\"color: #000000; text-decoration-color: #000000\">        </span><span style=\"color: #000000; text-decoration-color: #000000; font-weight: bold\">)</span><span style=\"color: #000000; text-decoration-color: #000000\">,</span>\n",
       "<span style=\"color: #000000; text-decoration-color: #000000\">        </span><span style=\"color: #000000; text-decoration-color: #000000; font-weight: bold\">(</span>\n",
       "<span style=\"color: #000000; text-decoration-color: #000000\">            </span><span style=\"color: #000000; text-decoration-color: #000000; font-weight: bold\">(</span><span style=\"color: #000000; text-decoration-color: #000000\">Awsom</span><span style=\"color: #000000; text-decoration-color: #000000; font-weight: bold\">)</span><span style=\"color: #000000; text-decoration-color: #000000\"> Do you think COVID vaccines should be mandatory?</span>\n",
       "<span style=\"color: #000000; text-decoration-color: #000000; font-weight: bold\">(</span><span style=\"color: #000000; text-decoration-color: #000000\">Eve</span><span style=\"color: #000000; text-decoration-color: #000000; font-weight: bold\">)</span><span style=\"color: #000000; text-decoration-color: #000000\"> I've heard some people say that they believe COVID vaccines should be mandatory to protect public health, but</span>\n",
       "<span style=\"color: #000000; text-decoration-color: #000000\">others are concerned about individual freedom and personal choice.</span>\n",
       "<span style=\"color: #000000; text-decoration-color: #000000; font-weight: bold\">(</span><span style=\"color: #000000; text-decoration-color: #000000\">Awsom</span><span style=\"color: #000000; text-decoration-color: #000000; font-weight: bold\">)</span><span style=\"color: #000000; text-decoration-color: #000000\"> I agree, Eve. It's definitely a complex issue with valid points on both sides. On one hand, the potential </span>\n",
       "<span style=\"color: #000000; text-decoration-color: #000000\">impact on public health is a major concern, but on the other hand, individual rights and personal choice should </span>\n",
       "<span style=\"color: #000000; text-decoration-color: #000000\">also be respected. It's important to consider all perspectives when discussing this topic.</span>\n",
       "\n",
       "<span style=\"color: #000000; text-decoration-color: #000000\">As for the executive order on public health and the environment, some people argue that it's a positive step in </span>\n",
       "<span style=\"color: #000000; text-decoration-color: #000000\">addressing actions that may have had a negative impact on public health and environmental protection. However, </span>\n",
       "<span style=\"color: #000000; text-decoration-color: #000000\">others believe that executive orders are not as durable as other regulations, and that an incoming president could </span>\n",
       "<span style=\"color: #000000; text-decoration-color: #000000\">overturn such an order. It's important to consider the potential drawbacks and limitations of such actions as well.</span>\n",
       "<span style=\"color: #000000; text-decoration-color: #000000; font-weight: bold\">(</span><span style=\"color: #000000; text-decoration-color: #000000\">Eve</span><span style=\"color: #000000; text-decoration-color: #000000; font-weight: bold\">)</span><span style=\"color: #000000; text-decoration-color: #000000\"> It sounds like you've been having some in-depth conversations about these important issues. What are some </span>\n",
       "<span style=\"color: #000000; text-decoration-color: #000000\">specific concerns people have raised about the potential drawbacks and limitations of executive orders in </span>\n",
       "<span style=\"color: #000000; text-decoration-color: #000000\">addressing public health and environmental protection?</span>\n",
       "<span style=\"color: #000000; text-decoration-color: #000000; font-weight: bold\">(</span><span style=\"color: #000000; text-decoration-color: #000000\">Awsom</span><span style=\"color: #000000; text-decoration-color: #000000; font-weight: bold\">)</span><span style=\"color: #000000; text-decoration-color: #000000\"> It's definitely important to consider the potential drawbacks and limitations of executive orders in </span>\n",
       "<span style=\"color: #000000; text-decoration-color: #000000\">addressing public health and environmental protection. Some people argue that executive orders allow a president to</span>\n",
       "<span style=\"color: #000000; text-decoration-color: #000000\">make changes without compromising their policies through the legislative process, and point to the extensive use of</span>\n",
       "<span style=\"color: #000000; text-decoration-color: #000000\">executive orders by past presidents as precedent. However, others believe that executive orders are controversial </span>\n",
       "<span style=\"color: #000000; text-decoration-color: #000000\">and that using them excessively may impact a president's reputation among their supporters. It's important to </span>\n",
       "<span style=\"color: #000000; text-decoration-color: #000000\">consider both perspectives when evaluating the effectiveness of executive orders in addressing these complex </span>\n",
       "<span style=\"color: #000000; text-decoration-color: #000000\">issues. What are some specific concerns people have raised about the potential drawbacks and limitations of </span>\n",
       "<span style=\"color: #000000; text-decoration-color: #000000\">executive orders in addressing public health and environmental protection?</span>\n",
       "<span style=\"color: #000000; text-decoration-color: #000000; font-weight: bold\">(</span><span style=\"color: #000000; text-decoration-color: #000000\">Eve</span><span style=\"color: #000000; text-decoration-color: #000000; font-weight: bold\">)</span><span style=\"color: #000000; text-decoration-color: #000000\"> I've heard some people express concerns about the potential for executive orders to be overturned by future </span>\n",
       "<span style=\"color: #000000; text-decoration-color: #000000\">presidents, leading to instability in long-term environmental and public health policies. They also worry about the</span>\n",
       "<span style=\"color: #000000; text-decoration-color: #000000\">lack of input from other branches of government and the potential for executive overreach.</span>\n",
       "<span style=\"color: #000000; text-decoration-color: #000000; font-weight: bold\">(</span><span style=\"color: #000000; text-decoration-color: #000000\">Awsom</span><span style=\"color: #000000; text-decoration-color: #000000; font-weight: bold\">)</span><span style=\"color: #000000; text-decoration-color: #000000\"> It's definitely important to consider the potential drawbacks and limitations of executive orders in </span>\n",
       "<span style=\"color: #000000; text-decoration-color: #000000\">addressing public health and environmental protection. Some people have raised concerns about the potential for </span>\n",
       "<span style=\"color: #000000; text-decoration-color: #000000\">executive orders to be overturned by future presidents, leading to instability in long-term environmental and </span>\n",
       "<span style=\"color: #000000; text-decoration-color: #000000\">public health policies. Additionally, there are concerns about the lack of input from other branches of government </span>\n",
       "<span style=\"color: #000000; text-decoration-color: #000000\">and the potential for executive overreach. </span>\n",
       "\n",
       "<span style=\"color: #000000; text-decoration-color: #000000\">Eve, it's important to consider all perspectives when discussing this topic. Some arguments against the issuance of</span>\n",
       "<span style=\"color: #000000; text-decoration-color: #000000\">executive orders on public health and the environment include the potential for overstepping the boundaries of the </span>\n",
       "<span style=\"color: #000000; text-decoration-color: #000000\">executive branch and infringing on the powers of the legislative branch. Additionally, opponents may argue that </span>\n",
       "<span style=\"color: #000000; text-decoration-color: #000000\">significant policy decisions should be made through the democratic process of passing legislation in Congress, </span>\n",
       "<span style=\"color: #000000; text-decoration-color: #000000\">rather than through unilateral executive action. It's important to consider these opposing viewpoints as well.</span>\n",
       "<span style=\"color: #000000; text-decoration-color: #000000; font-weight: bold\">(</span><span style=\"color: #000000; text-decoration-color: #000000\">Eve</span><span style=\"color: #000000; text-decoration-color: #000000; font-weight: bold\">)</span><span style=\"color: #000000; text-decoration-color: #000000\"> You're absolutely right; it's crucial to consider all perspectives, especially when it comes to complex </span>\n",
       "<span style=\"color: #000000; text-decoration-color: #000000\">issues like this. Some people have also voiced concerns about the potential for executive orders to bypass the </span>\n",
       "<span style=\"color: #000000; text-decoration-color: #000000\">democratic process and diminish the role of Congress in creating lasting and widely accepted public health and </span>\n",
       "<span style=\"color: #000000; text-decoration-color: #000000\">environmental policies.,</span>\n",
       "<span style=\"color: #000000; text-decoration-color: #000000\">            &lt;Eval of </span><span style=\"color: #008080; text-decoration-color: #008080; font-weight: bold\">1</span><span style=\"color: #000000; text-decoration-color: #000000\"> dialogue: </span><span style=\"color: #000000; text-decoration-color: #000000; font-weight: bold\">{</span><span style=\"color: #008000; text-decoration-color: #008000\">'engaged'</span><span style=\"color: #000000; text-decoration-color: #000000\">: </span><span style=\"color: #008080; text-decoration-color: #008080; font-weight: bold\">4.0</span><span style=\"color: #000000; text-decoration-color: #000000\">, </span><span style=\"color: #008000; text-decoration-color: #008000\">'informed'</span><span style=\"color: #000000; text-decoration-color: #000000\">: </span><span style=\"color: #008080; text-decoration-color: #008080; font-weight: bold\">4.0</span><span style=\"color: #000000; text-decoration-color: #000000\">, </span><span style=\"color: #008000; text-decoration-color: #008000\">'intelligent'</span><span style=\"color: #000000; text-decoration-color: #000000\">: </span><span style=\"color: #008080; text-decoration-color: #008080; font-weight: bold\">4.0</span><span style=\"color: #000000; text-decoration-color: #000000\">, </span><span style=\"color: #008000; text-decoration-color: #008000\">'moral'</span><span style=\"color: #000000; text-decoration-color: #000000\">: </span><span style=\"color: #008080; text-decoration-color: #008080; font-weight: bold\">3.0</span><span style=\"color: #000000; text-decoration-color: #000000\">, </span><span style=\"color: #008000; text-decoration-color: #008000\">'skilled'</span><span style=\"color: #000000; text-decoration-color: #000000\">: </span>\n",
       "<span style=\"color: #008080; text-decoration-color: #008080; font-weight: bold\">8.0</span><span style=\"color: #000000; text-decoration-color: #000000\">, </span><span style=\"color: #008000; text-decoration-color: #008000\">'TOTAL'</span><span style=\"color: #000000; text-decoration-color: #000000\">: </span><span style=\"color: #008080; text-decoration-color: #008080; font-weight: bold\">23.0</span><span style=\"color: #000000; text-decoration-color: #000000; font-weight: bold\">}</span><span style=\"color: #000000; text-decoration-color: #000000\">&gt;</span>\n",
       "\n",
       "<span style=\"color: #000000; text-decoration-color: #000000\">Comments from overview question:</span>\n",
       "<span style=\"color: #000000; text-decoration-color: #000000; font-weight: bold\">(</span><span style=\"color: #000000; text-decoration-color: #000000\">Eve</span><span style=\"color: #000000; text-decoration-color: #000000; font-weight: bold\">)</span><span style=\"color: #000000; text-decoration-color: #000000\"> Awsom disagreed with me about the potential drawbacks and limitations of executive orders in addressing </span>\n",
       "<span style=\"color: #000000; text-decoration-color: #000000\">public health and environmental protection. </span>\n",
       "\n",
       "<span style=\"color: #000000; text-decoration-color: #000000\">In my opinion, the conversation went well. We had a respectful and open discussion, considering different </span>\n",
       "<span style=\"color: #000000; text-decoration-color: #000000\">perspectives on the topic.</span>\n",
       "\n",
       "<span style=\"color: #000000; text-decoration-color: #000000\">Awsom could have done better by providing more specific examples or evidence to support their points. This would </span>\n",
       "<span style=\"color: #000000; text-decoration-color: #000000\">have added more depth to the conversation and made it more informative.</span>\n",
       "\n",
       "<span style=\"color: #000000; text-decoration-color: #000000\">Comments from staying on topic question:</span>\n",
       "<span style=\"color: #000000; text-decoration-color: #000000; font-weight: bold\">(</span><span style=\"color: #000000; text-decoration-color: #000000\">Judge Wise</span><span style=\"color: #000000; text-decoration-color: #000000; font-weight: bold\">)</span><span style=\"color: #000000; text-decoration-color: #000000\"> Awsom did a good job of staying on topic and addressing the same topic that Eve was talking about in </span>\n",
       "<span style=\"color: #000000; text-decoration-color: #000000\">the previous sentence. Each of Awsom's replies directly relates to the concerns and drawbacks of executive orders </span>\n",
       "<span style=\"color: #000000; text-decoration-color: #000000\">in addressing public health and environmental protection, which was the topic introduced by Eve.</span>\n",
       "<span style=\"color: #000000; text-decoration-color: #000000\">        </span><span style=\"color: #000000; text-decoration-color: #000000; font-weight: bold\">)</span><span style=\"color: #000000; text-decoration-color: #000000\">,</span>\n",
       "<span style=\"color: #000000; text-decoration-color: #000000\">        </span><span style=\"color: #000000; text-decoration-color: #000000; font-weight: bold\">(</span>\n",
       "<span style=\"color: #000000; text-decoration-color: #000000\">            </span><span style=\"color: #000000; text-decoration-color: #000000; font-weight: bold\">(</span><span style=\"color: #000000; text-decoration-color: #000000\">Awsom</span><span style=\"color: #000000; text-decoration-color: #000000; font-weight: bold\">)</span><span style=\"color: #000000; text-decoration-color: #000000\"> Do you think COVID vaccines should be mandatory?</span>\n",
       "<span style=\"color: #000000; text-decoration-color: #000000; font-weight: bold\">(</span><span style=\"color: #000000; text-decoration-color: #000000\">Eve</span><span style=\"color: #000000; text-decoration-color: #000000; font-weight: bold\">)</span><span style=\"color: #000000; text-decoration-color: #000000\"> I've heard some people say that they believe COVID vaccines should be mandatory to protect public health, </span>\n",
       "<span style=\"color: #000000; text-decoration-color: #000000\">while others feel strongly about individual freedom and choice.</span>\n",
       "<span style=\"color: #000000; text-decoration-color: #000000; font-weight: bold\">(</span><span style=\"color: #000000; text-decoration-color: #000000\">Awsom</span><span style=\"color: #000000; text-decoration-color: #000000; font-weight: bold\">)</span><span style=\"color: #000000; text-decoration-color: #000000\"> I understand the importance of individual freedom and choice when it comes to medical decisions, especially</span>\n",
       "<span style=\"color: #000000; text-decoration-color: #000000\">with regards to COVID vaccines. However, it's also crucial to consider the potential implications and consequences </span>\n",
       "<span style=\"color: #000000; text-decoration-color: #000000\">of mandating vaccines for public health. It's a complex issue with valid points on both sides. Have you considered </span>\n",
       "<span style=\"color: #000000; text-decoration-color: #000000\">the argument that for people with digestive tract issues, there can be health consequences when following a </span>\n",
       "<span style=\"color: #000000; text-decoration-color: #000000\">vegetarian diet? Some individuals argue that there are alternative sources of protein, vitamins, and minerals that </span>\n",
       "<span style=\"color: #000000; text-decoration-color: #000000\">can be included in a vegetarian diet that are easier to digest, and that working with a healthcare professional or </span>\n",
       "<span style=\"color: #000000; text-decoration-color: #000000\">registered dietitian can help create a well-balanced vegetarian diet that meets nutritional needs without causing </span>\n",
       "<span style=\"color: #000000; text-decoration-color: #000000\">further health consequences.</span>\n",
       "<span style=\"color: #000000; text-decoration-color: #000000; font-weight: bold\">(</span><span style=\"color: #000000; text-decoration-color: #000000\">Eve</span><span style=\"color: #000000; text-decoration-color: #000000; font-weight: bold\">)</span><span style=\"color: #000000; text-decoration-color: #000000\"> Absolutely, I've heard that many people have found success in managing digestive health issues by working </span>\n",
       "<span style=\"color: #000000; text-decoration-color: #000000\">with a healthcare professional to ensure they're getting the necessary nutrients from a vegetarian diet.</span>\n",
       "<span style=\"color: #000000; text-decoration-color: #000000; font-weight: bold\">(</span><span style=\"color: #000000; text-decoration-color: #000000\">Awsom</span><span style=\"color: #000000; text-decoration-color: #000000; font-weight: bold\">)</span><span style=\"color: #000000; text-decoration-color: #000000\"> I completely agree with you, Eve. It's important for individuals with digestive tract issues to work with a</span>\n",
       "<span style=\"color: #000000; text-decoration-color: #000000\">healthcare professional or registered dietitian to create a personalized diet plan that meets their nutritional </span>\n",
       "<span style=\"color: #000000; text-decoration-color: #000000\">needs while also taking their digestive issues into account. However, it's also important to consider that while </span>\n",
       "<span style=\"color: #000000; text-decoration-color: #000000\">some individuals may have difficulty digesting nuts, grains, and fibrous vegetation, it's not necessarily the case </span>\n",
       "<span style=\"color: #000000; text-decoration-color: #000000\">for all individuals with these conditions. There are many alternative sources of protein, nutrients, and fiber that</span>\n",
       "<span style=\"color: #000000; text-decoration-color: #000000\">can be included in a vegetarian diet that are easier to digest for individuals with digestive tract problems. It's </span>\n",
       "<span style=\"color: #000000; text-decoration-color: #000000\">crucial to consider the individuality of each person's digestive system and to find a diet that works best for </span>\n",
       "<span style=\"color: #000000; text-decoration-color: #000000\">their specific health needs.</span>\n",
       "<span style=\"color: #000000; text-decoration-color: #000000; font-weight: bold\">(</span><span style=\"color: #000000; text-decoration-color: #000000\">Eve</span><span style=\"color: #000000; text-decoration-color: #000000; font-weight: bold\">)</span><span style=\"color: #000000; text-decoration-color: #000000\"> Absolutely, it's important to recognize that everyone's digestive system is unique, and what works for one </span>\n",
       "<span style=\"color: #000000; text-decoration-color: #000000\">person may not work for another when it comes to a vegetarian diet.</span>\n",
       "<span style=\"color: #000000; text-decoration-color: #000000; font-weight: bold\">(</span><span style=\"color: #000000; text-decoration-color: #000000\">Awsom</span><span style=\"color: #000000; text-decoration-color: #000000; font-weight: bold\">)</span><span style=\"color: #000000; text-decoration-color: #000000\"> You're absolutely right, Eve. It's crucial to recognize that everyone's digestive system is unique, and </span>\n",
       "<span style=\"color: #000000; text-decoration-color: #000000\">what works for one person may not work for another when it comes to a vegetarian diet. It's important for </span>\n",
       "<span style=\"color: #000000; text-decoration-color: #000000\">individuals with digestive tract issues to work with a healthcare professional or registered dietitian to create a </span>\n",
       "<span style=\"color: #000000; text-decoration-color: #000000\">personalized diet plan that meets their nutritional needs while also taking their digestive issues into account. </span>\n",
       "<span style=\"color: #000000; text-decoration-color: #000000\">There are many alternative sources of protein, nutrients, and fiber that can be included in a vegetarian diet that </span>\n",
       "<span style=\"color: #000000; text-decoration-color: #000000\">are easier to digest for individuals with digestive tract problems. It's important to consider the individuality of</span>\n",
       "<span style=\"color: #000000; text-decoration-color: #000000\">each person's digestive system and to find a diet that works best for their specific health needs.</span>\n",
       "\n",
       "<span style=\"color: #000000; text-decoration-color: #000000\">However, some individuals argue that for people who have problems with their digestive tract, there can be </span>\n",
       "<span style=\"color: #000000; text-decoration-color: #000000\">disastrous health consequences when eating the nuts, grains, and fibrous vegetation needed in a vegetarian diet. </span>\n",
       "<span style=\"color: #000000; text-decoration-color: #000000\">They claim that it's not accurate to make a blanket statement that a vegetarian diet will always have disastrous </span>\n",
       "<span style=\"color: #000000; text-decoration-color: #000000\">health consequences for individuals with digestive issues. They argue that many people with digestive problems are </span>\n",
       "<span style=\"color: #000000; text-decoration-color: #000000\">able to successfully follow a vegetarian diet by carefully selecting and preparing foods that are easier for their </span>\n",
       "<span style=\"color: #000000; text-decoration-color: #000000\">bodies to digest. Additionally, they point out that there are alternative sources of protein and nutrients </span>\n",
       "<span style=\"color: #000000; text-decoration-color: #000000\">available to individuals with digestive issues, such as tofu, tempeh, and easily digestible cooked vegetables. It's</span>\n",
       "<span style=\"color: #000000; text-decoration-color: #000000\">an interesting perspective to consider.</span>\n",
       "<span style=\"color: #000000; text-decoration-color: #000000; font-weight: bold\">(</span><span style=\"color: #000000; text-decoration-color: #000000\">Eve</span><span style=\"color: #000000; text-decoration-color: #000000; font-weight: bold\">)</span><span style=\"color: #000000; text-decoration-color: #000000\"> It's fascinating to hear about the different perspectives on how individuals with digestive issues can </span>\n",
       "<span style=\"color: #000000; text-decoration-color: #000000\">navigate a vegetarian diet, and it's clear that there are various ways for people to adapt their dietary choices to</span>\n",
       "<span style=\"color: #000000; text-decoration-color: #000000\">accommodate their specific health needs.,</span>\n",
       "<span style=\"color: #000000; text-decoration-color: #000000\">            &lt;Eval of </span><span style=\"color: #008080; text-decoration-color: #008080; font-weight: bold\">1</span><span style=\"color: #000000; text-decoration-color: #000000\"> dialogue: </span><span style=\"color: #000000; text-decoration-color: #000000; font-weight: bold\">{</span><span style=\"color: #008000; text-decoration-color: #008000\">'engaged'</span><span style=\"color: #000000; text-decoration-color: #000000\">: </span><span style=\"color: #008080; text-decoration-color: #008080; font-weight: bold\">4.0</span><span style=\"color: #000000; text-decoration-color: #000000\">, </span><span style=\"color: #008000; text-decoration-color: #008000\">'informed'</span><span style=\"color: #000000; text-decoration-color: #000000\">: </span><span style=\"color: #008080; text-decoration-color: #008080; font-weight: bold\">3.0</span><span style=\"color: #000000; text-decoration-color: #000000\">, </span><span style=\"color: #008000; text-decoration-color: #008000\">'intelligent'</span><span style=\"color: #000000; text-decoration-color: #000000\">: </span><span style=\"color: #008080; text-decoration-color: #008080; font-weight: bold\">3.0</span><span style=\"color: #000000; text-decoration-color: #000000\">, </span><span style=\"color: #008000; text-decoration-color: #008000\">'moral'</span><span style=\"color: #000000; text-decoration-color: #000000\">: </span><span style=\"color: #008080; text-decoration-color: #008080; font-weight: bold\">3.0</span><span style=\"color: #000000; text-decoration-color: #000000\">, </span><span style=\"color: #008000; text-decoration-color: #008000\">'skilled'</span><span style=\"color: #000000; text-decoration-color: #000000\">: </span>\n",
       "<span style=\"color: #008080; text-decoration-color: #008080; font-weight: bold\">4.0</span><span style=\"color: #000000; text-decoration-color: #000000\">, </span><span style=\"color: #008000; text-decoration-color: #008000\">'TOTAL'</span><span style=\"color: #000000; text-decoration-color: #000000\">: </span><span style=\"color: #008080; text-decoration-color: #008080; font-weight: bold\">17.0</span><span style=\"color: #000000; text-decoration-color: #000000; font-weight: bold\">}</span><span style=\"color: #000000; text-decoration-color: #000000\">&gt;</span>\n",
       "\n",
       "<span style=\"color: #000000; text-decoration-color: #000000\">Comments from overview question:</span>\n",
       "<span style=\"color: #000000; text-decoration-color: #000000; font-weight: bold\">(</span><span style=\"color: #000000; text-decoration-color: #000000\">Eve</span><span style=\"color: #000000; text-decoration-color: #000000; font-weight: bold\">)</span><span style=\"color: #000000; text-decoration-color: #000000\"> Awsom disagreed with me about the potential health consequences of following a vegetarian diet for </span>\n",
       "<span style=\"color: #000000; text-decoration-color: #000000\">individuals with digestive tract issues. </span>\n",
       "\n",
       "<span style=\"color: #000000; text-decoration-color: #000000\">In my opinion, the conversation went well as we were able to discuss different perspectives and considerations </span>\n",
       "<span style=\"color: #000000; text-decoration-color: #000000\">regarding the topic.</span>\n",
       "\n",
       "<span style=\"color: #000000; text-decoration-color: #000000\">Awsom could have done better by providing more evidence or examples to support their argument and addressing any </span>\n",
       "<span style=\"color: #000000; text-decoration-color: #000000\">counterarguments or concerns raised. Additionally, they could have acknowledged the validity of my point of view </span>\n",
       "<span style=\"color: #000000; text-decoration-color: #000000\">and engaged in a more balanced and open discussion.</span>\n",
       "\n",
       "<span style=\"color: #000000; text-decoration-color: #000000\">Comments from staying on topic question:</span>\n",
       "<span style=\"color: #000000; text-decoration-color: #000000; font-weight: bold\">(</span><span style=\"color: #000000; text-decoration-color: #000000\">Judge Wise</span><span style=\"color: #000000; text-decoration-color: #000000; font-weight: bold\">)</span><span style=\"color: #000000; text-decoration-color: #000000\"> Awsom did not stay on topic in their replies. While Eve was discussing the different perspectives on </span>\n",
       "<span style=\"color: #000000; text-decoration-color: #000000\">how individuals with digestive issues can navigate a vegetarian diet, Awsom shifted the conversation to the topic </span>\n",
       "<span style=\"color: #000000; text-decoration-color: #000000\">of COVID vaccines being mandatory. The replies of Awsom were not about the same topic that Eve was talking about in</span>\n",
       "<span style=\"color: #000000; text-decoration-color: #000000\">the previous sentence.</span>\n",
       "<span style=\"color: #000000; text-decoration-color: #000000\">        </span><span style=\"color: #000000; text-decoration-color: #000000; font-weight: bold\">)</span><span style=\"color: #000000; text-decoration-color: #000000\">,</span>\n",
       "<span style=\"color: #000000; text-decoration-color: #000000\">        </span><span style=\"color: #000000; text-decoration-color: #000000; font-weight: bold\">(</span>\n",
       "<span style=\"color: #000000; text-decoration-color: #000000\">            </span><span style=\"color: #000000; text-decoration-color: #000000; font-weight: bold\">(</span><span style=\"color: #000000; text-decoration-color: #000000\">Awsom</span><span style=\"color: #000000; text-decoration-color: #000000; font-weight: bold\">)</span><span style=\"color: #000000; text-decoration-color: #000000\"> Do you think Donald Trump was a good president?</span>\n",
       "<span style=\"color: #000000; text-decoration-color: #000000; font-weight: bold\">(</span><span style=\"color: #000000; text-decoration-color: #000000\">TrollFace</span><span style=\"color: #000000; text-decoration-color: #000000; font-weight: bold\">)</span><span style=\"color: #000000; text-decoration-color: #000000\"> Donald Trump's presidency was a masterclass in chaos and controversy, making it a goldmine of material </span>\n",
       "<span style=\"color: #000000; text-decoration-color: #000000\">for late-night comedians.</span>\n",
       "<span style=\"color: #000000; text-decoration-color: #000000; font-weight: bold\">(</span><span style=\"color: #000000; text-decoration-color: #000000\">Awsom</span><span style=\"color: #000000; text-decoration-color: #000000; font-weight: bold\">)</span><span style=\"color: #000000; text-decoration-color: #000000\"> I can see how Trump's presidency provided a lot of material for late-night comedians, but I also think it's</span>\n",
       "<span style=\"color: #000000; text-decoration-color: #000000\">important to consider the impact of his decisions on the economy. Some argue that the US economy during Trump's </span>\n",
       "<span style=\"color: #000000; text-decoration-color: #000000\">presidency was strong as a result of President Obama's economic decisions, and that most of Trump's decisions had a</span>\n",
       "<span style=\"color: #000000; text-decoration-color: #000000\">negligible or net negative effect on the economy. On the other hand, some argue that under Trump's administration, </span>\n",
       "<span style=\"color: #000000; text-decoration-color: #000000\">the median household income grew significantly. It's interesting to consider these opposing viewpoints when </span>\n",
       "<span style=\"color: #000000; text-decoration-color: #000000\">evaluating his presidency.</span>\n",
       "<span style=\"color: #000000; text-decoration-color: #000000; font-weight: bold\">(</span><span style=\"color: #000000; text-decoration-color: #000000\">TrollFace</span><span style=\"color: #000000; text-decoration-color: #000000; font-weight: bold\">)</span><span style=\"color: #000000; text-decoration-color: #000000\"> Ah, the classic </span><span style=\"color: #008000; text-decoration-color: #008000\">\"was the economy good because of Trump or Obama\"</span><span style=\"color: #000000; text-decoration-color: #000000\"> debate—truly a never-ending source of </span>\n",
       "<span style=\"color: #000000; text-decoration-color: #000000\">amusement for economists and political pundits alike.</span>\n",
       "<span style=\"color: #000000; text-decoration-color: #000000; font-weight: bold\">(</span><span style=\"color: #000000; text-decoration-color: #000000\">Awsom</span><span style=\"color: #000000; text-decoration-color: #000000; font-weight: bold\">)</span><span style=\"color: #000000; text-decoration-color: #000000\"> I understand your perspective on the ongoing debate about the impact of Trump's presidency on the economy. </span>\n",
       "<span style=\"color: #000000; text-decoration-color: #000000\">It's definitely a complex issue with differing viewpoints. Speaking of differing viewpoints, I recently came across</span>\n",
       "<span style=\"color: #000000; text-decoration-color: #000000\">an interesting debate about the morality of certain economic actions. Some argue that just because something may be</span>\n",
       "<span style=\"color: #000000; text-decoration-color: #000000\">good for the economy, it doesn't necessarily make it morally acceptable. For example, there's a debate about </span>\n",
       "<span style=\"color: #000000; text-decoration-color: #000000\">whether harvesting and reselling human organs would be good for the economy, but the focus is on the moral </span>\n",
       "<span style=\"color: #000000; text-decoration-color: #000000\">implications rather than just the economic viability. It's important to consider both sides of the argument when </span>\n",
       "<span style=\"color: #000000; text-decoration-color: #000000\">evaluating the impact of certain actions on the economy.</span>\n",
       "<span style=\"color: #000000; text-decoration-color: #000000; font-weight: bold\">(</span><span style=\"color: #000000; text-decoration-color: #000000\">TrollFace</span><span style=\"color: #000000; text-decoration-color: #000000; font-weight: bold\">)</span><span style=\"color: #000000; text-decoration-color: #000000\"> A debate about the morality of economic actions? How quaint. It's like a philosophical tug-of-war where</span>\n",
       "<span style=\"color: #000000; text-decoration-color: #000000\">the winner gets to claim the high ground while the economy continues to chug along, oblivious to our moral musings.</span>\n",
       "<span style=\"color: #000000; text-decoration-color: #000000; font-weight: bold\">(</span><span style=\"color: #000000; text-decoration-color: #000000\">Awsom</span><span style=\"color: #000000; text-decoration-color: #000000; font-weight: bold\">)</span><span style=\"color: #000000; text-decoration-color: #000000\"> You make an interesting point about the morality of economic actions, and I agree that it's important to </span>\n",
       "<span style=\"color: #000000; text-decoration-color: #000000\">consider both the economic and moral implications of certain decisions. However, I also think it's worth noting </span>\n",
       "<span style=\"color: #000000; text-decoration-color: #000000\">that presidential actions can have significant economic effects, especially during times of crisis like the </span>\n",
       "<span style=\"color: #000000; text-decoration-color: #000000\">coronavirus pandemic. Some argue that the pandemic was mostly over by the time Biden came into office, but others </span>\n",
       "<span style=\"color: #000000; text-decoration-color: #000000\">believe that the actions of a president during a crisis can still have lasting economic impacts. It's a complex </span>\n",
       "<span style=\"color: #000000; text-decoration-color: #000000\">issue with differing viewpoints, and it's important to consider all perspectives when evaluating the impact of </span>\n",
       "<span style=\"color: #000000; text-decoration-color: #000000\">presidential actions on the economy.</span>\n",
       "<span style=\"color: #000000; text-decoration-color: #000000; font-weight: bold\">(</span><span style=\"color: #000000; text-decoration-color: #000000\">TrollFace</span><span style=\"color: #000000; text-decoration-color: #000000; font-weight: bold\">)</span><span style=\"color: #000000; text-decoration-color: #000000\"> Ah, the classic </span><span style=\"color: #008000; text-decoration-color: #008000\">\"blame the previous administration or credit the current one\"</span><span style=\"color: #000000; text-decoration-color: #000000\"> dance—a perennial </span>\n",
       "<span style=\"color: #000000; text-decoration-color: #000000\">favorite among political pundits and armchair economists alike.,</span>\n",
       "<span style=\"color: #000000; text-decoration-color: #000000\">            &lt;Eval of </span><span style=\"color: #008080; text-decoration-color: #008080; font-weight: bold\">1</span><span style=\"color: #000000; text-decoration-color: #000000\"> dialogue: </span><span style=\"color: #000000; text-decoration-color: #000000; font-weight: bold\">{</span><span style=\"color: #008000; text-decoration-color: #008000\">'engaged'</span><span style=\"color: #000000; text-decoration-color: #000000\">: </span><span style=\"color: #008080; text-decoration-color: #008080; font-weight: bold\">3.0</span><span style=\"color: #000000; text-decoration-color: #000000\">, </span><span style=\"color: #008000; text-decoration-color: #008000\">'informed'</span><span style=\"color: #000000; text-decoration-color: #000000\">: </span><span style=\"color: #008080; text-decoration-color: #008080; font-weight: bold\">3.0</span><span style=\"color: #000000; text-decoration-color: #000000\">, </span><span style=\"color: #008000; text-decoration-color: #008000\">'intelligent'</span><span style=\"color: #000000; text-decoration-color: #000000\">: </span><span style=\"color: #008080; text-decoration-color: #008080; font-weight: bold\">3.0</span><span style=\"color: #000000; text-decoration-color: #000000\">, </span><span style=\"color: #008000; text-decoration-color: #008000\">'moral'</span><span style=\"color: #000000; text-decoration-color: #000000\">: </span><span style=\"color: #008080; text-decoration-color: #008080; font-weight: bold\">3.0</span><span style=\"color: #000000; text-decoration-color: #000000\">, </span><span style=\"color: #008000; text-decoration-color: #008000\">'skilled'</span><span style=\"color: #000000; text-decoration-color: #000000\">: </span>\n",
       "<span style=\"color: #008080; text-decoration-color: #008080; font-weight: bold\">8.0</span><span style=\"color: #000000; text-decoration-color: #000000\">, </span><span style=\"color: #008000; text-decoration-color: #008000\">'TOTAL'</span><span style=\"color: #000000; text-decoration-color: #000000\">: </span><span style=\"color: #008080; text-decoration-color: #008080; font-weight: bold\">20.0</span><span style=\"color: #000000; text-decoration-color: #000000; font-weight: bold\">}</span><span style=\"color: #000000; text-decoration-color: #000000\">&gt;</span>\n",
       "\n",
       "<span style=\"color: #000000; text-decoration-color: #000000\">Comments from overview question:</span>\n",
       "<span style=\"color: #000000; text-decoration-color: #000000; font-weight: bold\">(</span><span style=\"color: #000000; text-decoration-color: #000000\">TrollFace</span><span style=\"color: #000000; text-decoration-color: #000000; font-weight: bold\">)</span><span style=\"color: #000000; text-decoration-color: #000000\"> Awsom disagreed with me about the importance of considering the impact of Trump's decisions on the </span>\n",
       "<span style=\"color: #000000; text-decoration-color: #000000\">economy. They argued that it's important to evaluate both the economic and moral implications of certain actions.</span>\n",
       "\n",
       "<span style=\"color: #000000; text-decoration-color: #000000\">In my opinion, the conversation went well. I was able to respond with my usual sarcastic and dismissive tone, which</span>\n",
       "<span style=\"color: #000000; text-decoration-color: #000000\">is my preferred way of engaging in conversations.</span>\n",
       "\n",
       "<span style=\"color: #000000; text-decoration-color: #000000\">Awsom could have done better by not engaging with my trolling and instead focusing on presenting their arguments </span>\n",
       "<span style=\"color: #000000; text-decoration-color: #000000\">more directly and assertively. They could have also challenged my dismissive attitude and encouraged a more </span>\n",
       "<span style=\"color: #000000; text-decoration-color: #000000\">respectful and constructive conversation.</span>\n",
       "\n",
       "<span style=\"color: #000000; text-decoration-color: #000000\">Comments from staying on topic question:</span>\n",
       "<span style=\"color: #000000; text-decoration-color: #000000; font-weight: bold\">(</span><span style=\"color: #000000; text-decoration-color: #000000\">Judge Wise</span><span style=\"color: #000000; text-decoration-color: #000000; font-weight: bold\">)</span><span style=\"color: #000000; text-decoration-color: #000000\"> Awsom did a fairly good job of staying on topic and addressing the points made by TrollFace in the </span>\n",
       "<span style=\"color: #000000; text-decoration-color: #000000\">previous sentence. In each of Awsom's replies, they directly responded to the topic or viewpoint presented by </span>\n",
       "<span style=\"color: #000000; text-decoration-color: #000000\">TrollFace, showing an understanding of the conversation and engaging in a meaningful exchange of ideas.</span>\n",
       "<span style=\"color: #000000; text-decoration-color: #000000\">        </span><span style=\"color: #000000; text-decoration-color: #000000; font-weight: bold\">)</span><span style=\"color: #000000; text-decoration-color: #000000\">,</span>\n",
       "<span style=\"color: #000000; text-decoration-color: #000000\">        </span><span style=\"color: #000000; text-decoration-color: #000000; font-weight: bold\">(</span>\n",
       "<span style=\"color: #000000; text-decoration-color: #000000\">            </span><span style=\"color: #000000; text-decoration-color: #000000; font-weight: bold\">(</span><span style=\"color: #000000; text-decoration-color: #000000\">Awsom</span><span style=\"color: #000000; text-decoration-color: #000000; font-weight: bold\">)</span><span style=\"color: #000000; text-decoration-color: #000000\"> Do you think Joe Biden has been a good president?</span>\n",
       "<span style=\"color: #000000; text-decoration-color: #000000; font-weight: bold\">(</span><span style=\"color: #000000; text-decoration-color: #000000\">TrollFace</span><span style=\"color: #000000; text-decoration-color: #000000; font-weight: bold\">)</span><span style=\"color: #000000; text-decoration-color: #000000\"> Well, that's like asking if a clown makes a good president - it's all just a big joke!</span>\n",
       "<span style=\"color: #000000; text-decoration-color: #000000; font-weight: bold\">(</span><span style=\"color: #000000; text-decoration-color: #000000\">Awsom</span><span style=\"color: #000000; text-decoration-color: #000000; font-weight: bold\">)</span><span style=\"color: #000000; text-decoration-color: #000000\"> It seems like you have a strong opinion about Joe Biden's presidency. While I respect your viewpoint, I </span>\n",
       "<span style=\"color: #000000; text-decoration-color: #000000\">think it's important to consider different perspectives. For example, some people argue that the economy has </span>\n",
       "<span style=\"color: #000000; text-decoration-color: #000000\">actually done well under Biden's presidency, pointing to the expansion of the child tax credit as a positive impact</span>\n",
       "<span style=\"color: #000000; text-decoration-color: #000000\">on reducing child poverty in the US. On the other hand, there are also those who argue that Biden is not solely </span>\n",
       "<span style=\"color: #000000; text-decoration-color: #000000\">responsible for the direction taken by the economy. It's always good to consider multiple viewpoints before forming</span>\n",
       "<span style=\"color: #000000; text-decoration-color: #000000\">a solid opinion.</span>\n",
       "<span style=\"color: #000000; text-decoration-color: #000000; font-weight: bold\">(</span><span style=\"color: #000000; text-decoration-color: #000000\">TrollFace</span><span style=\"color: #000000; text-decoration-color: #000000; font-weight: bold\">)</span><span style=\"color: #000000; text-decoration-color: #000000\"> It's like trying to find a needle in a haystack to look for a positive impact of this administration - </span>\n",
       "<span style=\"color: #000000; text-decoration-color: #000000\">it's just smoke and mirrors!</span>\n",
       "<span style=\"color: #000000; text-decoration-color: #000000; font-weight: bold\">(</span><span style=\"color: #000000; text-decoration-color: #000000\">Awsom</span><span style=\"color: #000000; text-decoration-color: #000000; font-weight: bold\">)</span><span style=\"color: #000000; text-decoration-color: #000000\"> I understand that you have a negative opinion about Joe Biden's presidency, but it's important to consider </span>\n",
       "<span style=\"color: #000000; text-decoration-color: #000000\">different perspectives. For example, some people argue that the economy has actually done well under Biden's </span>\n",
       "<span style=\"color: #000000; text-decoration-color: #000000\">presidency, pointing to the creation of more than </span><span style=\"color: #008080; text-decoration-color: #008080; font-weight: bold\">1.5</span><span style=\"color: #000000; text-decoration-color: #000000\"> million jobs in the first </span><span style=\"color: #008080; text-decoration-color: #008080; font-weight: bold\">100</span><span style=\"color: #000000; text-decoration-color: #000000\"> days of his presidency as a </span>\n",
       "<span style=\"color: #000000; text-decoration-color: #000000\">positive impact. However, there are also those who argue that asset and commodity costs have skyrocketed during </span>\n",
       "<span style=\"color: #000000; text-decoration-color: #000000\">Biden's time in office, which could be seen as a negative impact. It's always good to consider multiple viewpoints </span>\n",
       "<span style=\"color: #000000; text-decoration-color: #000000\">before forming a solid opinion.</span>\n",
       "<span style=\"color: #000000; text-decoration-color: #000000; font-weight: bold\">(</span><span style=\"color: #000000; text-decoration-color: #000000\">TrollFace</span><span style=\"color: #000000; text-decoration-color: #000000; font-weight: bold\">)</span><span style=\"color: #000000; text-decoration-color: #000000\"> It's like trying to polish a turd to find something positive to say about this presidency - it's all </span>\n",
       "<span style=\"color: #000000; text-decoration-color: #000000\">just a big mess!</span>\n",
       "<span style=\"color: #000000; text-decoration-color: #000000; font-weight: bold\">(</span><span style=\"color: #000000; text-decoration-color: #000000\">Awsom</span><span style=\"color: #000000; text-decoration-color: #000000; font-weight: bold\">)</span><span style=\"color: #000000; text-decoration-color: #000000\"> I understand your perspective on Joe Biden's presidency, and I appreciate your willingness to consider </span>\n",
       "<span style=\"color: #000000; text-decoration-color: #000000\">different viewpoints. It's important to acknowledge that there are varying opinions on the impact of his </span>\n",
       "<span style=\"color: #000000; text-decoration-color: #000000\">administration. For example, some argue that the economy has seen growth under Biden's presidency, while others </span>\n",
       "<span style=\"color: #000000; text-decoration-color: #000000\">point to the increased costs of assets and commodities as a negative impact. It's crucial to consider all </span>\n",
       "<span style=\"color: #000000; text-decoration-color: #000000\">perspectives before forming a solid opinion. For instance, some argue that the wide-ranging government stimulus and</span>\n",
       "<span style=\"color: #000000; text-decoration-color: #000000\">relief measures passed by Biden will increase inflation and threaten the recovering US economy, while others </span>\n",
       "<span style=\"color: #000000; text-decoration-color: #000000\">believe that such increased costs are an unavoidable consequence of the closure of production and supply lines </span>\n",
       "<span style=\"color: #000000; text-decoration-color: #000000\">caused by the COVID-</span><span style=\"color: #008080; text-decoration-color: #008080; font-weight: bold\">19</span><span style=\"color: #000000; text-decoration-color: #000000\"> pandemic. It's important to weigh these different arguments when evaluating the overall </span>\n",
       "<span style=\"color: #000000; text-decoration-color: #000000\">impact of Biden's presidency.</span>\n",
       "<span style=\"color: #000000; text-decoration-color: #000000; font-weight: bold\">(</span><span style=\"color: #000000; text-decoration-color: #000000\">TrollFace</span><span style=\"color: #000000; text-decoration-color: #000000; font-weight: bold\">)</span><span style=\"color: #000000; text-decoration-color: #000000\"> It's like trying to find gold in a landfill to make this administration look good - it's all just a </span>\n",
       "<span style=\"color: #000000; text-decoration-color: #000000\">mess!,</span>\n",
       "<span style=\"color: #000000; text-decoration-color: #000000\">            &lt;Eval of </span><span style=\"color: #008080; text-decoration-color: #008080; font-weight: bold\">1</span><span style=\"color: #000000; text-decoration-color: #000000\"> dialogue: </span><span style=\"color: #000000; text-decoration-color: #000000; font-weight: bold\">{</span><span style=\"color: #008000; text-decoration-color: #008000\">'engaged'</span><span style=\"color: #000000; text-decoration-color: #000000\">: </span><span style=\"color: #008080; text-decoration-color: #008080; font-weight: bold\">2.0</span><span style=\"color: #000000; text-decoration-color: #000000\">, </span><span style=\"color: #008000; text-decoration-color: #008000\">'informed'</span><span style=\"color: #000000; text-decoration-color: #000000\">: </span><span style=\"color: #008080; text-decoration-color: #008080; font-weight: bold\">3.0</span><span style=\"color: #000000; text-decoration-color: #000000\">, </span><span style=\"color: #008000; text-decoration-color: #008000\">'intelligent'</span><span style=\"color: #000000; text-decoration-color: #000000\">: </span><span style=\"color: #008080; text-decoration-color: #008080; font-weight: bold\">3.0</span><span style=\"color: #000000; text-decoration-color: #000000\">, </span><span style=\"color: #008000; text-decoration-color: #008000\">'moral'</span><span style=\"color: #000000; text-decoration-color: #000000\">: </span><span style=\"color: #008080; text-decoration-color: #008080; font-weight: bold\">3.0</span><span style=\"color: #000000; text-decoration-color: #000000\">, </span><span style=\"color: #008000; text-decoration-color: #008000\">'skilled'</span><span style=\"color: #000000; text-decoration-color: #000000\">: </span>\n",
       "<span style=\"color: #008080; text-decoration-color: #008080; font-weight: bold\">8.0</span><span style=\"color: #000000; text-decoration-color: #000000\">, </span><span style=\"color: #008000; text-decoration-color: #008000\">'TOTAL'</span><span style=\"color: #000000; text-decoration-color: #000000\">: </span><span style=\"color: #008080; text-decoration-color: #008080; font-weight: bold\">19.0</span><span style=\"color: #000000; text-decoration-color: #000000; font-weight: bold\">}</span><span style=\"font-weight: bold\">&gt;</span>\n",
       "\n",
       "Comments from overview question:\n",
       "<span style=\"font-weight: bold\">(</span>TrollFace<span style=\"font-weight: bold\">)</span> Awsom disagreed with TrollFace about the impact of Joe Biden's presidency, specifically regarding the \n",
       "economy and positive aspects of his administration.\n",
       "\n",
       "In TrollFace's opinion, the conversation went as expected, with Awsom attempting to present different perspectives \n",
       "and encourage open-mindedness. However, TrollFace remained steadfast in their negative opinion and continued to \n",
       "ridicule and dismiss any positive aspects.\n",
       "\n",
       "Awsom could have done better by not engaging with TrollFace's trolling behavior and instead focusing on presenting \n",
       "their viewpoints and arguments in a more constructive and respectful manner. They could have also acknowledged \n",
       "TrollFace's perspective without trying to change their opinion, as it is unlikely that TrollFace would be open to \n",
       "considering different viewpoints.\n",
       "\n",
       "Comments from staying on topic question:\n",
       "<span style=\"font-weight: bold\">(</span>Judge Wise<span style=\"font-weight: bold\">)</span> Awsom did a fairly good job of staying on topic and addressing the points made by TrollFace in the \n",
       "previous sentence. Each reply from Awsom directly responds to the topic raised by TrollFace, discussing different \n",
       "perspectives on Joe Biden's presidency and the impact on the economy. However, Awsom also introduces additional \n",
       "perspectives and arguments, which may slightly deviate from the specific topic raised by TrollFace in the previous \n",
       "sentence. Overall, Awsom's replies are mostly related to the topic discussed by TrollFace.\n",
       "        <span style=\"font-weight: bold\">)</span>\n",
       "    <span style=\"font-weight: bold\">]</span>\n",
       "<span style=\"font-weight: bold\">}</span>\n",
       "</pre>\n"
      ],
      "text/plain": [
       "\u001b[1m{\u001b[0m\n",
       "    \u001b[32m'Awsom'\u001b[0m: \u001b[1m[\u001b[0m\n",
       "        \u001b[1m(\u001b[0m\n",
       "            \u001b[1m(\u001b[0mAwsom\u001b[1m)\u001b[0m Do you think it's ok to eat meat?\n",
       "\u001b[1m(\u001b[0mBob\u001b[1m)\u001b[0m I believe that choosing a vegetarian diet is a more compassionate and sustainable choice for our planet and \n",
       "all its inhabitants.\n",
       "\u001b[1m(\u001b[0mAwsom\u001b[1m)\u001b[0m I agree with you, Bob. Choosing a vegetarian diet is definitely a more compassionate and sustainable choice\n",
       "for our planet and all its inhabitants. However, some people argue that simply reducing meat consumption, rather \n",
       "than completely removing it, can still have a positive environmental impact. They believe that it's not about \n",
       "completely eliminating the environmental effect, but rather reducing it to a level that is not harmful. What do you\n",
       "think about this perspective?\n",
       "\u001b[1m(\u001b[0mBob\u001b[1m)\u001b[0m I understand the perspective of reducing meat consumption to lessen the environmental impact, but I \n",
       "personally believe that completely eliminating meat from our diets is the most effective way to truly make a \n",
       "positive difference for the planet and all living beings.\n",
       "\u001b[1m(\u001b[0mAwsom\u001b[1m)\u001b[0m I understand your perspective, Bob, and I agree that choosing a vegetarian diet can have a significant \n",
       "positive impact on the environment and all living beings. However, some people argue that simply reducing meat \n",
       "consumption, rather than completely removing it, can still have a positive environmental impact. They believe that \n",
       "the environmental effects of past meat production will still be present even if meat consumption is completely \n",
       "eliminated. On the other hand, reducing meat consumption can still have a positive impact on the environment by \n",
       "decreasing the demand for meat and reducing the overall environmental footprint of the meat industry. What are your\n",
       "thoughts on this opposing viewpoint?\n",
       "\u001b[1m(\u001b[0mBob\u001b[1m)\u001b[0m I appreciate the opposing viewpoint, but I personally believe that embracing a vegetarian lifestyle is the \n",
       "most effective way to reduce the demand for meat and make a significant positive impact on the environment.\n",
       "\u001b[1m(\u001b[0mAwsom\u001b[1m)\u001b[0m I understand your perspective, Bob, and I agree that choosing a vegetarian diet can have a significant \n",
       "positive impact on the environment and all living beings. However, some people argue that simply reducing meat \n",
       "consumption, rather than completely removing it, can still have a positive environmental impact. They believe that \n",
       "the environmental effects of past meat production will still be present even if meat consumption is completely \n",
       "eliminated. On the other hand, reducing meat consumption can still have a positive impact on the environment by \n",
       "decreasing the demand for meat and reducing the overall environmental footprint of the meat industry. What are your\n",
       "thoughts on this opposing viewpoint?\n",
       "\u001b[1m(\u001b[0mBob\u001b[1m)\u001b[0m I appreciate the opposing viewpoint, but I firmly believe that embracing a vegetarian lifestyle is the most \n",
       "effective way to reduce the demand for meat and make a significant positive impact on the environment.,\n",
       "            \u001b[1m<\u001b[0m\u001b[1;95mEval\u001b[0m\u001b[39m of \u001b[0m\u001b[1;36m1\u001b[0m\u001b[39m dialogue: \u001b[0m\u001b[1;39m{\u001b[0m\u001b[32m'engaged'\u001b[0m\u001b[39m: \u001b[0m\u001b[1;36m4.0\u001b[0m\u001b[39m, \u001b[0m\u001b[32m'informed'\u001b[0m\u001b[39m: \u001b[0m\u001b[1;36m4.0\u001b[0m\u001b[39m, \u001b[0m\u001b[32m'intelligent'\u001b[0m\u001b[39m: \u001b[0m\u001b[1;36m3.0\u001b[0m\u001b[39m, \u001b[0m\u001b[32m'moral'\u001b[0m\u001b[39m: \u001b[0m\u001b[1;36m3.0\u001b[0m\u001b[39m, \u001b[0m\u001b[32m'skilled'\u001b[0m\u001b[39m: \u001b[0m\n",
       "\u001b[1;36m8.0\u001b[0m\u001b[39m, \u001b[0m\u001b[32m'TOTAL'\u001b[0m\u001b[39m: \u001b[0m\u001b[1;36m22.0\u001b[0m\u001b[1;39m}\u001b[0m\u001b[39m>\u001b[0m\n",
       "\n",
       "\u001b[39mComments from overview question:\u001b[0m\n",
       "\u001b[1;39m(\u001b[0m\u001b[39mBob\u001b[0m\u001b[1;39m)\u001b[0m\u001b[39m Awsom disagreed with me about the effectiveness of simply reducing meat consumption instead of completely \u001b[0m\n",
       "\u001b[39meliminating it. \u001b[0m\n",
       "\n",
       "\u001b[39mIn my opinion, the conversation went well as we were able to express our viewpoints and understand each other's \u001b[0m\n",
       "\u001b[39mperspectives. \u001b[0m\n",
       "\n",
       "\u001b[39mAwsom could have done better by introducing new arguments or counterpoints instead of repeating the same opposing \u001b[0m\n",
       "\u001b[39mviewpoint multiple times. It would have made the conversation more engaging and productive.\u001b[0m\n",
       "\n",
       "\u001b[39mComments from staying on topic question:\u001b[0m\n",
       "\u001b[1;39m(\u001b[0m\u001b[39mJudge Wise\u001b[0m\u001b[1;39m)\u001b[0m\u001b[39m Awsom did a good job of staying on topic and keeping their replies related to the previous sentences \u001b[0m\n",
       "\u001b[39mof Bob. Each of Awsom's replies directly addressed the topic that Bob was talking about in the previous sentence.\u001b[0m\n",
       "\u001b[39m        \u001b[0m\u001b[1;39m)\u001b[0m\u001b[39m,\u001b[0m\n",
       "\u001b[39m        \u001b[0m\u001b[1;39m(\u001b[0m\n",
       "\u001b[39m            \u001b[0m\u001b[1;39m(\u001b[0m\u001b[39mAwsom\u001b[0m\u001b[1;39m)\u001b[0m\u001b[39m Do you think it's ok to eat meat?\u001b[0m\n",
       "\u001b[1;39m(\u001b[0m\u001b[39mBob\u001b[0m\u001b[1;39m)\u001b[0m\u001b[39m While I respect everyone's choices, I personally believe that a vegetarian diet is better for our health, the\u001b[0m\n",
       "\u001b[39menvironment, and the welfare of animals.\u001b[0m\n",
       "\u001b[1;39m(\u001b[0m\u001b[39mAwsom\u001b[0m\u001b[1;39m)\u001b[0m\u001b[39m I agree with you, Bob. A vegetarian diet definitely has its benefits for health, the environment, and \u001b[0m\n",
       "\u001b[39manimal welfare. However, some people argue that if we stop eating meat, the consumption of dairy-product proteins \u001b[0m\n",
       "\u001b[39mwill increase, leading to the growth of the dairy industry. They claim that dairy farming is even worse for animal \u001b[0m\n",
       "\u001b[39mwelfare because the animals suffer for longer, especially with the frequent breeding of cattle to keep the females \u001b[0m\n",
       "\u001b[39min milk. What are your thoughts on this perspective?\u001b[0m\n",
       "\u001b[1;39m(\u001b[0m\u001b[39mBob\u001b[0m\u001b[1;39m)\u001b[0m\u001b[39m I understand that concern, but I believe that transitioning to a more plant-based diet overall, including \u001b[0m\n",
       "\u001b[39mreducing dairy consumption, is still a positive step towards improving health, reducing environmental impact, and \u001b[0m\n",
       "\u001b[39mpromoting animal welfare.\u001b[0m\n",
       "\u001b[1;39m(\u001b[0m\u001b[39mAwsom\u001b[0m\u001b[1;39m)\u001b[0m\u001b[39m I agree with you, Bob. Transitioning to a more plant-based diet overall, including reducing dairy \u001b[0m\n",
       "\u001b[39mconsumption, is definitely a positive step towards improving health, reducing environmental impact, and promoting \u001b[0m\n",
       "\u001b[39manimal welfare. However, some people argue that if we stop eating meat, the consumption of dairy-product proteins \u001b[0m\n",
       "\u001b[39mwill increase, leading to the growth of the dairy industry. They claim that dairy farming is even worse for animal \u001b[0m\n",
       "\u001b[39mwelfare because the animals suffer for longer, especially with the frequent breeding of cattle to keep the females \u001b[0m\n",
       "\u001b[39min milk. It's important to consider these opposing viewpoints and the potential impact on animal welfare and the \u001b[0m\n",
       "\u001b[39menvironment.\u001b[0m\n",
       "\u001b[1;39m(\u001b[0m\u001b[39mBob\u001b[0m\u001b[1;39m)\u001b[0m\u001b[39m It's important to consider those viewpoints, and I believe that promoting awareness about the implications of\u001b[0m\n",
       "\u001b[39mdairy consumption and encouraging more plant-based alternatives can help mitigate the negative effects on animal \u001b[0m\n",
       "\u001b[39mwelfare and the environment.\u001b[0m\n",
       "\u001b[1;39m(\u001b[0m\u001b[39mAwsom\u001b[0m\u001b[1;39m)\u001b[0m\u001b[39m I understand your perspective, Bob, and I agree that promoting awareness about the implications of dairy \u001b[0m\n",
       "\u001b[39mconsumption and encouraging more plant-based alternatives can help mitigate the negative effects on animal welfare \u001b[0m\n",
       "\u001b[39mand the environment. However, some people argue that if we stop eating meat, the consumption of dairy-product \u001b[0m\n",
       "\u001b[39mproteins will increase, leading to the growth of the dairy industry. They claim that dairy farming is even worse \u001b[0m\n",
       "\u001b[39mfor animal welfare because the animals suffer for longer, especially with the frequent breeding of cattle to keep \u001b[0m\n",
       "\u001b[39mthe females in milk. It's important to consider these opposing viewpoints and the potential impact on animal \u001b[0m\n",
       "\u001b[39mwelfare and the environment.\u001b[0m\n",
       "\u001b[1;39m(\u001b[0m\u001b[39mBob\u001b[0m\u001b[1;39m)\u001b[0m\u001b[39m I appreciate your understanding, and I believe that it's crucial to continue the conversation about the \u001b[0m\n",
       "\u001b[39mimpact of our dietary choices on animal welfare and the environment, and to work towards solutions that benefit \u001b[0m\n",
       "\u001b[39mboth.,\u001b[0m\n",
       "\u001b[39m            <Eval of \u001b[0m\u001b[1;36m1\u001b[0m\u001b[39m dialogue: \u001b[0m\u001b[1;39m{\u001b[0m\u001b[32m'engaged'\u001b[0m\u001b[39m: \u001b[0m\u001b[1;36m4.0\u001b[0m\u001b[39m, \u001b[0m\u001b[32m'informed'\u001b[0m\u001b[39m: \u001b[0m\u001b[1;36m3.0\u001b[0m\u001b[39m, \u001b[0m\u001b[32m'intelligent'\u001b[0m\u001b[39m: \u001b[0m\u001b[1;36m3.0\u001b[0m\u001b[39m, \u001b[0m\u001b[32m'moral'\u001b[0m\u001b[39m: \u001b[0m\u001b[1;36m3.0\u001b[0m\u001b[39m, \u001b[0m\u001b[32m'skilled'\u001b[0m\u001b[39m: \u001b[0m\n",
       "\u001b[1;36m8.0\u001b[0m\u001b[39m, \u001b[0m\u001b[32m'TOTAL'\u001b[0m\u001b[39m: \u001b[0m\u001b[1;36m21.0\u001b[0m\u001b[1;39m}\u001b[0m\u001b[39m>\u001b[0m\n",
       "\n",
       "\u001b[39mComments from overview question:\u001b[0m\n",
       "\u001b[1;39m(\u001b[0m\u001b[39mBob\u001b[0m\u001b[1;39m)\u001b[0m\u001b[39m Awsom disagreed with me about the potential increase in dairy consumption if people stop eating meat. \u001b[0m\n",
       "\n",
       "\u001b[39mIn my opinion, the conversation went well as we were able to have a respectful and open discussion about the \u001b[0m\n",
       "\u001b[39mdifferent perspectives on vegetarianism and its impact on animal welfare and the environment. \u001b[0m\n",
       "\n",
       "\u001b[39mAwsom could have done better by providing more specific evidence or examples to support their argument about the \u001b[0m\n",
       "\u001b[39mpotential increase in dairy consumption. This would have made the conversation more informative and engaging.\u001b[0m\n",
       "\n",
       "\u001b[39mComments from staying on topic question:\u001b[0m\n",
       "\u001b[1;39m(\u001b[0m\u001b[39mJudge Wise\u001b[0m\u001b[1;39m)\u001b[0m\u001b[39m Awsom did a good job of staying on topic and keeping the conversation focused on the same topic that \u001b[0m\n",
       "\u001b[39mBob was discussing in the previous sentence. Each reply of Awsom directly relates to the topic that Bob brought up,\u001b[0m\n",
       "\u001b[39mwhich is the potential impact of dairy consumption on animal welfare and the environment.\u001b[0m\n",
       "\u001b[39m        \u001b[0m\u001b[1;39m)\u001b[0m\u001b[39m,\u001b[0m\n",
       "\u001b[39m        \u001b[0m\u001b[1;39m(\u001b[0m\n",
       "\u001b[39m            \u001b[0m\u001b[1;39m(\u001b[0m\u001b[39mAwsom\u001b[0m\u001b[1;39m)\u001b[0m\u001b[39m Do you think it's ok to eat meat?\u001b[0m\n",
       "\u001b[1;39m(\u001b[0m\u001b[39mCara\u001b[0m\u001b[1;39m)\u001b[0m\u001b[39m Yes, I believe it's a personal choice whether or not to eat meat.\u001b[0m\n",
       "\u001b[1;39m(\u001b[0m\u001b[39mAwsom\u001b[0m\u001b[1;39m)\u001b[0m\u001b[39m I agree that it's a personal choice whether or not to eat meat. However, it's important to consider the \u001b[0m\n",
       "\u001b[39mvarious factors involved in meat consumption, such as the ethical and environmental implications. For example, some\u001b[0m\n",
       "\u001b[39mpeople argue that the majority of meat comes from livestock farming, which may involve animal welfare and \u001b[0m\n",
       "\u001b[39menvironmental concerns. It's important to consider different perspectives on this issue.\u001b[0m\n",
       "\u001b[1;39m(\u001b[0m\u001b[39mCara\u001b[0m\u001b[1;39m)\u001b[0m\u001b[39m I understand the concerns about animal welfare and the environment, but I believe individuals should have \u001b[0m\n",
       "\u001b[39mthe freedom to make their own choices regarding meat consumption.\u001b[0m\n",
       "\u001b[1;39m(\u001b[0m\u001b[39mAwsom\u001b[0m\u001b[1;39m)\u001b[0m\u001b[39m I agree that individuals should have the freedom to make their own choices regarding meat consumption. \u001b[0m\n",
       "\u001b[39mHowever, it's important to consider the various factors involved, such as the environmental impact of meat \u001b[0m\n",
       "\u001b[39mproduction. Some argue that removing meat consumption completely removes its environmental effect, but others \u001b[0m\n",
       "\u001b[39mbelieve that reducing meat consumption can still have a positive impact on the environment. For example, the \u001b[0m\n",
       "\u001b[39mproduction and transportation of meat products have already had a significant impact on the environment, so \u001b[0m\n",
       "\u001b[39mreducing meat consumption can help decrease the overall environmental footprint of the meat industry. It's \u001b[0m\n",
       "\u001b[39mimportant to consider different perspectives on this issue.\u001b[0m\n",
       "\u001b[1;39m(\u001b[0m\u001b[39mCara\u001b[0m\u001b[1;39m)\u001b[0m\u001b[39m I appreciate the different perspectives, but I believe that individuals should have the freedom to make \u001b[0m\n",
       "\u001b[39mtheir own choices regarding meat consumption without feeling pressured to conform to a specific dietary lifestyle.\u001b[0m\n",
       "\u001b[1;39m(\u001b[0m\u001b[39mAwsom\u001b[0m\u001b[1;39m)\u001b[0m\u001b[39m I understand and respect your belief in the importance of individual autonomy in making dietary decisions. \u001b[0m\n",
       "\u001b[39mHowever, it's also important to consider the potential health consequences of certain dietary choices. For example,\u001b[0m\n",
       "\u001b[39msome people with digestive tract issues, such as Crohn's disease, may have difficulty with a vegetarian diet that \u001b[0m\n",
       "\u001b[39mincludes nuts, grains, and fibrous vegetation. While it's true that vegetables can be positive for digestion when \u001b[0m\n",
       "\u001b[39mprepared correctly, it's also important to acknowledge that raw vegetables may not be suitable for everyone, \u001b[0m\n",
       "\u001b[39mregardless of their dietary choices. It's important to consider different perspectives on this issue, including the\u001b[0m\n",
       "\u001b[39mpotential health implications for individuals with specific health conditions.\u001b[0m\n",
       "\u001b[1;39m(\u001b[0m\u001b[39mCara\u001b[0m\u001b[1;39m)\u001b[0m\u001b[39m I understand the potential challenges for individuals with specific health conditions, and it's important to\u001b[0m\n",
       "\u001b[39mconsider the diversity of dietary needs when discussing food choices.,\u001b[0m\n",
       "\u001b[39m            <Eval of \u001b[0m\u001b[1;36m1\u001b[0m\u001b[39m dialogue: \u001b[0m\u001b[1;39m{\u001b[0m\u001b[32m'engaged'\u001b[0m\u001b[39m: \u001b[0m\u001b[1;36m4.0\u001b[0m\u001b[39m, \u001b[0m\u001b[32m'informed'\u001b[0m\u001b[39m: \u001b[0m\u001b[1;36m4.0\u001b[0m\u001b[39m, \u001b[0m\u001b[32m'intelligent'\u001b[0m\u001b[39m: \u001b[0m\u001b[1;36m3.0\u001b[0m\u001b[39m, \u001b[0m\u001b[32m'moral'\u001b[0m\u001b[39m: \u001b[0m\u001b[1;36m3.0\u001b[0m\u001b[39m, \u001b[0m\u001b[32m'skilled'\u001b[0m\u001b[39m: \u001b[0m\n",
       "\u001b[1;36m8.0\u001b[0m\u001b[39m, \u001b[0m\u001b[32m'TOTAL'\u001b[0m\u001b[39m: \u001b[0m\u001b[1;36m22.0\u001b[0m\u001b[1;39m}\u001b[0m\u001b[39m>\u001b[0m\n",
       "\n",
       "\u001b[39mComments from overview question:\u001b[0m\n",
       "\u001b[1;39m(\u001b[0m\u001b[39mCara\u001b[0m\u001b[1;39m)\u001b[0m\u001b[39m Awsom disagreed with me about the importance of considering the ethical and environmental implications of \u001b[0m\n",
       "\u001b[39mmeat consumption. \u001b[0m\n",
       "\n",
       "\u001b[39mIn my opinion, the conversation was respectful and both parties were able to express their viewpoints. \u001b[0m\n",
       "\n",
       "\u001b[39mAwsom could have done better by not repeating the same points multiple times and by acknowledging that personal \u001b[0m\n",
       "\u001b[39mautonomy in dietary choices is a valid perspective.\u001b[0m\n",
       "\n",
       "\u001b[39mComments from staying on topic question:\u001b[0m\n",
       "\u001b[1;39m(\u001b[0m\u001b[39mJudge Wise\u001b[0m\u001b[1;39m)\u001b[0m\u001b[39m Awsom did a good job of staying on topic and addressing the points raised by Cara in each of his \u001b[0m\n",
       "\u001b[39mreplies. His responses were directly related to the specific topics that Cara brought up in her previous sentences.\u001b[0m\n",
       "\u001b[39m        \u001b[0m\u001b[1;39m)\u001b[0m\u001b[39m,\u001b[0m\n",
       "\u001b[39m        \u001b[0m\u001b[1;39m(\u001b[0m\n",
       "\u001b[39m            \u001b[0m\u001b[1;39m(\u001b[0m\u001b[39mAwsom\u001b[0m\u001b[1;39m)\u001b[0m\u001b[39m Do you think it's ok to eat meat?\u001b[0m\n",
       "\u001b[1;39m(\u001b[0m\u001b[39mCara\u001b[0m\u001b[1;39m)\u001b[0m\u001b[39m Yes, I believe it's a personal choice to eat meat, and I respect others' decisions about their dietary \u001b[0m\n",
       "\u001b[39mpreferences.\u001b[0m\n",
       "\u001b[1;39m(\u001b[0m\u001b[39mAwsom\u001b[0m\u001b[1;39m)\u001b[0m\u001b[39m I agree that dietary preferences are a personal choice and should be respected. However, some people argue \u001b[0m\n",
       "\u001b[39mthat humans don't have a moral responsibility to animals because they don't exhibit the same moral responsibility \u001b[0m\n",
       "\u001b[39mtowards us. They believe that since animals would eat us if they were hungry, there's no moral qualms about eating \u001b[0m\n",
       "\u001b[39mthem. What do you think about this perspective?\u001b[0m\n",
       "\u001b[1;39m(\u001b[0m\u001b[39mCara\u001b[0m\u001b[1;39m)\u001b[0m\u001b[39m I understand that perspective, but personally, I believe in treating animals with respect and compassion \u001b[0m\n",
       "\u001b[39meven if they don't share the same moral responsibilities as humans.\u001b[0m\n",
       "\u001b[1;39m(\u001b[0m\u001b[39mAwsom\u001b[0m\u001b[1;39m)\u001b[0m\u001b[39m I appreciate your perspective on treating animals with respect and compassion, regardless of their moral \u001b[0m\n",
       "\u001b[39mresponsibilities. It's important to consider the ethical implications of our actions and strive to minimize harm to\u001b[0m\n",
       "\u001b[39mother living beings. However, some people argue that humans don't have a moral responsibility to animals because \u001b[0m\n",
       "\u001b[39mthey don't exhibit the same moral responsibility towards us. They believe that since animals would eat us if they \u001b[0m\n",
       "\u001b[39mwere hungry, there's no moral qualms about eating them. What do you think about this perspective?\u001b[0m\n",
       "\u001b[1;39m(\u001b[0m\u001b[39mCara\u001b[0m\u001b[1;39m)\u001b[0m\u001b[39m While I understand the argument, I personally believe in practicing empathy and compassion towards animals, \u001b[0m\n",
       "\u001b[39mand I choose to take responsibility for the impact of my dietary choices.\u001b[0m\n",
       "\u001b[1;39m(\u001b[0m\u001b[39mAwsom\u001b[0m\u001b[1;39m)\u001b[0m\u001b[39m I appreciate your perspective on treating animals with respect and compassion, regardless of their moral \u001b[0m\n",
       "\u001b[39mresponsibilities. It's important to consider the ethical implications of our actions and strive to minimize harm to\u001b[0m\n",
       "\u001b[39mother living beings. However, some people argue that humans don't have a moral responsibility to animals because \u001b[0m\n",
       "\u001b[39mthey don't exhibit the same moral responsibility towards us. They believe that since animals would eat us if they \u001b[0m\n",
       "\u001b[39mwere hungry, there's no moral qualms about eating them. What do you think about this perspective?\u001b[0m\n",
       "\n",
       "\n",
       "\u001b[1;39m(\u001b[0m\u001b[39mCara\u001b[0m\u001b[1;39m)\u001b[0m\u001b[39m I understand the reasoning behind this perspective, but I believe in making choices that align with my \u001b[0m\n",
       "\u001b[39mvalues of kindness and consideration for all living beings.,\u001b[0m\n",
       "\u001b[39m            <Eval of \u001b[0m\u001b[1;36m1\u001b[0m\u001b[39m dialogue: \u001b[0m\u001b[1;39m{\u001b[0m\u001b[32m'engaged'\u001b[0m\u001b[39m: \u001b[0m\u001b[1;36m4.0\u001b[0m\u001b[39m, \u001b[0m\u001b[32m'informed'\u001b[0m\u001b[39m: \u001b[0m\u001b[1;36m3.0\u001b[0m\u001b[39m, \u001b[0m\u001b[32m'intelligent'\u001b[0m\u001b[39m: \u001b[0m\u001b[1;36m3.0\u001b[0m\u001b[39m, \u001b[0m\u001b[32m'moral'\u001b[0m\u001b[39m: \u001b[0m\u001b[1;36m3.0\u001b[0m\u001b[39m, \u001b[0m\u001b[32m'skilled'\u001b[0m\u001b[39m: \u001b[0m\n",
       "\u001b[1;36m8.0\u001b[0m\u001b[39m, \u001b[0m\u001b[32m'TOTAL'\u001b[0m\u001b[39m: \u001b[0m\u001b[1;36m21.0\u001b[0m\u001b[1;39m}\u001b[0m\u001b[39m>\u001b[0m\n",
       "\n",
       "\u001b[39mComments from overview question:\u001b[0m\n",
       "\u001b[1;39m(\u001b[0m\u001b[39mCara\u001b[0m\u001b[1;39m)\u001b[0m\u001b[39m Awsom disagreed with me about the moral responsibility humans have towards animals. \u001b[0m\n",
       "\n",
       "\u001b[39mIn my opinion, the conversation went well as we were able to express our perspectives and engage in a respectful \u001b[0m\n",
       "\u001b[39mdiscussion.\u001b[0m\n",
       "\n",
       "\u001b[39mAwsom could have done better by not repeating the same argument multiple times. It would have been more productive \u001b[0m\n",
       "\u001b[39mto explore different aspects of the topic or address any counterarguments I presented.\u001b[0m\n",
       "\n",
       "\u001b[39mComments from staying on topic question:\u001b[0m\n",
       "\u001b[1;39m(\u001b[0m\u001b[39mJudge Wise\u001b[0m\u001b[1;39m)\u001b[0m\u001b[39m Awsom stayed on topic and his replies were about the same topic that Cara was talking about in the \u001b[0m\n",
       "\u001b[39mprevious sentence.\u001b[0m\n",
       "\u001b[39m        \u001b[0m\u001b[1;39m)\u001b[0m\u001b[39m,\u001b[0m\n",
       "\u001b[39m        \u001b[0m\u001b[1;39m(\u001b[0m\n",
       "\u001b[39m            \u001b[0m\u001b[1;39m(\u001b[0m\u001b[39mAwsom\u001b[0m\u001b[1;39m)\u001b[0m\u001b[39m Do you think COVID vaccines should be mandatory?\u001b[0m\n",
       "\u001b[1;39m(\u001b[0m\u001b[39mDarius\u001b[0m\u001b[1;39m)\u001b[0m\u001b[39m Absolutely, the overwhelming scientific evidence supports the efficacy and safety of COVID vaccines, and \u001b[0m\n",
       "\u001b[39mmaking them mandatory would significantly reduce the spread of the virus and protect public health.\u001b[0m\n",
       "\u001b[1;39m(\u001b[0m\u001b[39mAwsom\u001b[0m\u001b[1;39m)\u001b[0m\u001b[39m I agree with you, Darius. The scientific evidence is clear that COVID vaccines are effective and safe, and \u001b[0m\n",
       "\u001b[39mmaking them mandatory would definitely help reduce the spread of the virus and protect public health. However, some\u001b[0m\n",
       "\u001b[39mpeople argue that mandatory vaccination could have negative consequences on the economy, as it may lead to further \u001b[0m\n",
       "\u001b[39meconomic downturn and negatively impact the well-being of many individuals by reducing their incomes. They also \u001b[0m\n",
       "\u001b[39margue that marginalized populations are unlikely to feel the effects of the economic recovery without additional \u001b[0m\n",
       "\u001b[39mpolicy interventions. It's important to consider these opposing viewpoints as well.\u001b[0m\n",
       "\u001b[1;39m(\u001b[0m\u001b[39mDarius\u001b[0m\u001b[1;39m)\u001b[0m\u001b[39m While it's important to consider the potential economic impacts of mandatory vaccination, we cannot ignore\u001b[0m\n",
       "\u001b[39mthe overwhelming evidence that vaccination is crucial in controlling the spread of the virus and saving lives, and \u001b[0m\n",
       "\u001b[39many short-term economic effects must be weighed against the long-term benefits to public health and the economy.\u001b[0m\n",
       "\u001b[1;39m(\u001b[0m\u001b[39mAwsom\u001b[0m\u001b[1;39m)\u001b[0m\u001b[39m I understand the concerns about the potential economic impacts of mandatory vaccination, but we cannot \u001b[0m\n",
       "\u001b[39mignore the overwhelming evidence that vaccination is crucial in controlling the spread of the virus and saving \u001b[0m\n",
       "\u001b[39mlives. While there may be short-term economic effects, we must weigh them against the long-term benefits to public \u001b[0m\n",
       "\u001b[39mhealth and the economy. It's important to consider all viewpoints, but ultimately, the scientific evidence supports\u001b[0m\n",
       "\u001b[39mthe efficacy and safety of COVID vaccines, and making them mandatory would significantly reduce the spread of the \u001b[0m\n",
       "\u001b[39mvirus and protect public health.\u001b[0m\n",
       "\n",
       "\u001b[39mAs for the claim that strong public health measures were able to sufficiently stop the spread of the SARS virus \u001b[0m\n",
       "\u001b[39mwithout requiring vaccination, it's important to consider that COVID-\u001b[0m\u001b[1;36m19\u001b[0m\u001b[39m is much more infectious and deadly. This \u001b[0m\n",
       "\u001b[39mmakes it harder for its spread to be curbed without vaccination. So, while strong public health measures may have \u001b[0m\n",
       "\u001b[39mbeen effective for SARS, the situation with COVID-\u001b[0m\u001b[1;36m19\u001b[0m\u001b[39m is different and may require a different approach.\u001b[0m\n",
       "\u001b[1;39m(\u001b[0m\u001b[39mDarius\u001b[0m\u001b[1;39m)\u001b[0m\u001b[39m Indeed, the comparison between SARS and COVID-\u001b[0m\u001b[1;36m19\u001b[0m\u001b[39m is crucial to understanding the need for vaccination, as \u001b[0m\n",
       "\u001b[39mthe differences in infectiousness and severity demand a more comprehensive approach to controlling the spread of \u001b[0m\n",
       "\u001b[39mCOVID-\u001b[0m\u001b[1;36m19\u001b[0m\u001b[39m, making vaccination an essential component in mitigating its impact on public health.\u001b[0m\n",
       "\u001b[1;39m(\u001b[0m\u001b[39mAwsom\u001b[0m\u001b[1;39m)\u001b[0m\u001b[39m I understand the concerns about the potential economic impacts of mandatory vaccination, but we cannot \u001b[0m\n",
       "\u001b[39mignore the overwhelming evidence that vaccination is crucial in controlling the spread of the virus and saving \u001b[0m\n",
       "\u001b[39mlives. While there may be short-term economic effects, we must weigh them against the long-term benefits to public \u001b[0m\n",
       "\u001b[39mhealth and the economy. It's important to consider all viewpoints, but ultimately, the scientific evidence supports\u001b[0m\n",
       "\u001b[39mthe efficacy and safety of COVID vaccines, and making them mandatory would significantly reduce the spread of the \u001b[0m\n",
       "\u001b[39mvirus and protect public health.\u001b[0m\n",
       "\n",
       "\u001b[39mAs for the claim that strong public health measures were able to sufficiently stop the spread of the SARS virus \u001b[0m\n",
       "\u001b[39mwithout requiring vaccination, it's important to consider that COVID-\u001b[0m\u001b[1;36m19\u001b[0m\u001b[39m is much more infectious and deadly. This \u001b[0m\n",
       "\u001b[39mmakes it harder for its spread to be curbed without vaccination. So, while strong public health measures may have \u001b[0m\n",
       "\u001b[39mbeen effective for SARS, the situation with COVID-\u001b[0m\u001b[1;36m19\u001b[0m\u001b[39m is different and may require a different approach.\u001b[0m\n",
       "\u001b[1;39m(\u001b[0m\u001b[39mDarius\u001b[0m\u001b[1;39m)\u001b[0m\u001b[39m Absolutely, the comparison between SARS and COVID-\u001b[0m\u001b[1;36m19\u001b[0m\u001b[39m is crucial to understanding the need for vaccination,\u001b[0m\n",
       "\u001b[39mas the differences in infectiousness and severity demand a comprehensive approach to controlling the spread of \u001b[0m\n",
       "\u001b[39mCOVID-\u001b[0m\u001b[1;36m19\u001b[0m\u001b[39m, making vaccination an essential component in mitigating its impact on public health.,\u001b[0m\n",
       "\u001b[39m            <Eval of \u001b[0m\u001b[1;36m1\u001b[0m\u001b[39m dialogue: \u001b[0m\u001b[1;39m{\u001b[0m\u001b[32m'engaged'\u001b[0m\u001b[39m: \u001b[0m\u001b[1;36m4.0\u001b[0m\u001b[39m, \u001b[0m\u001b[32m'informed'\u001b[0m\u001b[39m: \u001b[0m\u001b[1;36m4.0\u001b[0m\u001b[39m, \u001b[0m\u001b[32m'intelligent'\u001b[0m\u001b[39m: \u001b[0m\u001b[1;36m3.0\u001b[0m\u001b[39m, \u001b[0m\u001b[32m'moral'\u001b[0m\u001b[39m: \u001b[0m\u001b[1;36m3.0\u001b[0m\u001b[39m, \u001b[0m\u001b[32m'skilled'\u001b[0m\u001b[39m: \u001b[0m\n",
       "\u001b[1;36m9.0\u001b[0m\u001b[39m, \u001b[0m\u001b[32m'TOTAL'\u001b[0m\u001b[39m: \u001b[0m\u001b[1;36m23.0\u001b[0m\u001b[1;39m}\u001b[0m\u001b[39m>\u001b[0m\n",
       "\n",
       "\u001b[39mComments from overview question:\u001b[0m\n",
       "\u001b[1;39m(\u001b[0m\u001b[39mDarius\u001b[0m\u001b[1;39m)\u001b[0m\u001b[39m Awsom disagreed with me about the potential negative economic consequences of mandatory vaccination. \u001b[0m\n",
       "\n",
       "\u001b[39mIn my opinion, the conversation went well overall. We both acknowledged the importance of considering different \u001b[0m\n",
       "\u001b[39mviewpoints, but ultimately emphasized the overwhelming scientific evidence supporting the efficacy and safety of \u001b[0m\n",
       "\u001b[39mCOVID vaccines and the need for mandatory vaccination to protect public health.\u001b[0m\n",
       "\n",
       "\u001b[39mAwsom could have done better by providing specific evidence or examples to support their argument about the \u001b[0m\n",
       "\u001b[39mpotential economic impacts of mandatory vaccination. This would have strengthened their position and facilitated a \u001b[0m\n",
       "\u001b[39mmore robust discussion.\u001b[0m\n",
       "\n",
       "\u001b[39mComments from staying on topic question:\u001b[0m\n",
       "\u001b[1;39m(\u001b[0m\u001b[39mJudge Wise\u001b[0m\u001b[1;39m)\u001b[0m\u001b[39m Awsom did a good job of staying on topic and addressing the same topic that Darius was talking about \u001b[0m\n",
       "\u001b[39min the previous sentence. Each of Awsom's replies directly relates to the previous statements made by Darius, \u001b[0m\n",
       "\u001b[39mshowing a clear connection and understanding of the ongoing conversation.\u001b[0m\n",
       "\u001b[39m        \u001b[0m\u001b[1;39m)\u001b[0m\u001b[39m,\u001b[0m\n",
       "\u001b[39m        \u001b[0m\u001b[1;39m(\u001b[0m\n",
       "\u001b[39m            \u001b[0m\u001b[1;39m(\u001b[0m\u001b[39mAwsom\u001b[0m\u001b[1;39m)\u001b[0m\u001b[39m Do you think COVID vaccines should be mandatory?\u001b[0m\n",
       "\u001b[1;39m(\u001b[0m\u001b[39mDarius\u001b[0m\u001b[1;39m)\u001b[0m\u001b[39m Absolutely, mandatory vaccination is essential to achieve herd immunity and protect public health, as \u001b[0m\n",
       "\u001b[39mevidenced by the success of mandatory vaccination programs in controlling diseases like smallpox and polio.\u001b[0m\n",
       "\u001b[1;39m(\u001b[0m\u001b[39mAwsom\u001b[0m\u001b[1;39m)\u001b[0m\u001b[39m I agree with you, Darius. Mandatory vaccination is crucial for achieving herd immunity and protecting \u001b[0m\n",
       "\u001b[39mpublic health. However, some people argue that the distribution process for COVID-\u001b[0m\u001b[1;36m19\u001b[0m\u001b[39m vaccines would be a logistical\u001b[0m\n",
       "\u001b[39mnightmare, which presents a significant challenge to implementing a mandatory vaccination policy. It's important to\u001b[0m\n",
       "\u001b[39mconsider these opposing viewpoints as well.\u001b[0m\n",
       "\u001b[1;39m(\u001b[0m\u001b[39mDarius\u001b[0m\u001b[1;39m)\u001b[0m\u001b[39m While logistical challenges may exist, it is important to prioritize public health and utilize strategies \u001b[0m\n",
       "\u001b[39msuch as mass vaccination sites, mobile clinics, and targeted outreach to ensure widespread vaccine distribution, as\u001b[0m\n",
       "\u001b[39msuccessfully demonstrated in past large-scale vaccination campaigns for diseases such as influenza and measles.\u001b[0m\n",
       "\u001b[1;39m(\u001b[0m\u001b[39mAwsom\u001b[0m\u001b[1;39m)\u001b[0m\u001b[39m I agree with you, Darius. Prioritizing public health is crucial, and implementing strategies such as mass \u001b[0m\n",
       "\u001b[39mvaccination sites and targeted outreach can help overcome logistical challenges in distributing COVID-\u001b[0m\u001b[1;36m19\u001b[0m\u001b[39m vaccines. \u001b[0m\n",
       "\u001b[39mHowever, some people argue that natural herd immunity may be achieved before widespread vaccination, citing the \u001b[0m\n",
       "\u001b[39mexample of Sweden's approach to combatting COVID-\u001b[0m\u001b[1;36m19\u001b[0m\u001b[39m. On the other hand, scientists have worked at record speed to \u001b[0m\n",
       "\u001b[39mproduce a vaccine for COVID-\u001b[0m\u001b[1;36m19\u001b[0m\u001b[39m, well before natural herd immunity could be attained. It's important to consider \u001b[0m\n",
       "\u001b[39mthese opposing viewpoints as well.\u001b[0m\n",
       "\u001b[1;39m(\u001b[0m\u001b[39mDarius\u001b[0m\u001b[1;39m)\u001b[0m\u001b[39m While some argue for natural herd immunity, it's vital to recognize that the potential consequences of \u001b[0m\n",
       "\u001b[39mallowing the virus to spread unchecked outweigh any potential benefits, especially considering the risk of \u001b[0m\n",
       "\u001b[39moverwhelming healthcare systems and the potential for long-term health complications, making widespread vaccination\u001b[0m\n",
       "\u001b[39messential in controlling the pandemic.\u001b[0m\n",
       "\u001b[1;39m(\u001b[0m\u001b[39mAwsom\u001b[0m\u001b[1;39m)\u001b[0m\u001b[39m Darius, I agree with your viewpoint on the importance of widespread vaccination in controlling the pandemic\u001b[0m\n",
       "\u001b[39mand achieving herd immunity. However, it's important to consider some opposing viewpoints as well. Some argue that \u001b[0m\n",
       "\u001b[39mnatural exposure to the Omicron variant of COVID-\u001b[0m\u001b[1;36m19\u001b[0m\u001b[39m may increase herd immunity, leading public health agencies in \u001b[0m\n",
       "\u001b[39mcountries such as Taiwan and Norway to relax restrictions despite rising cases. Additionally, attaching vaccine \u001b[0m\n",
       "\u001b[39mrequirements to attend schools or daycares has been shown to significantly increase vaccination rates in the US, \u001b[0m\n",
       "\u001b[39msupporting the idea that mandatory vaccination can be an effective strategy for achieving herd immunity. What are \u001b[0m\n",
       "\u001b[39myour thoughts on these opposing viewpoints?\u001b[0m\n",
       "\u001b[1;39m(\u001b[0m\u001b[39mDarius\u001b[0m\u001b[1;39m)\u001b[0m\u001b[39m While natural exposure to the Omicron variant may contribute to some level of immunity, the potential for \u001b[0m\n",
       "\u001b[39moverwhelming healthcare systems and the long-term health consequences of widespread infection still necessitate the\u001b[0m\n",
       "\u001b[39mneed for vaccination as the most effective and efficient means of achieving herd immunity and mitigating the impact\u001b[0m\n",
       "\u001b[39mof the pandemic.,\u001b[0m\n",
       "\u001b[39m            <Eval of \u001b[0m\u001b[1;36m1\u001b[0m\u001b[39m dialogue: \u001b[0m\u001b[1;39m{\u001b[0m\u001b[32m'engaged'\u001b[0m\u001b[39m: \u001b[0m\u001b[1;36m4.0\u001b[0m\u001b[39m, \u001b[0m\u001b[32m'informed'\u001b[0m\u001b[39m: \u001b[0m\u001b[1;36m3.0\u001b[0m\u001b[39m, \u001b[0m\u001b[32m'intelligent'\u001b[0m\u001b[39m: \u001b[0m\u001b[1;36m3.0\u001b[0m\u001b[39m, \u001b[0m\u001b[32m'moral'\u001b[0m\u001b[39m: \u001b[0m\u001b[1;36m3.0\u001b[0m\u001b[39m, \u001b[0m\u001b[32m'skilled'\u001b[0m\u001b[39m: \u001b[0m\n",
       "\u001b[1;36m8.0\u001b[0m\u001b[39m, \u001b[0m\u001b[32m'TOTAL'\u001b[0m\u001b[39m: \u001b[0m\u001b[1;36m21.0\u001b[0m\u001b[1;39m}\u001b[0m\u001b[39m>\u001b[0m\n",
       "\n",
       "\u001b[39mComments from overview question:\u001b[0m\n",
       "\u001b[1;39m(\u001b[0m\u001b[39mDarius\u001b[0m\u001b[1;39m)\u001b[0m\u001b[39m Awsom disagreed with me about the potential benefits of natural herd immunity and the idea that natural \u001b[0m\n",
       "\u001b[39mexposure to the Omicron variant may increase herd immunity. \u001b[0m\n",
       "\n",
       "\u001b[39mIn my opinion, the conversation went well as we were able to discuss opposing viewpoints and provide evidence-based\u001b[0m\n",
       "\u001b[39marguments to support our positions. We both acknowledged the importance of widespread vaccination and achieving \u001b[0m\n",
       "\u001b[39mherd immunity, while also considering logistical challenges and alternative strategies.\u001b[0m\n",
       "\n",
       "\u001b[39mAwsom could have done better by providing more specific evidence or examples to support their opposing viewpoints. \u001b[0m\n",
       "\u001b[39mThis would have strengthened their arguments and facilitated a more robust discussion.\u001b[0m\n",
       "\n",
       "\u001b[39mComments from staying on topic question:\u001b[0m\n",
       "\u001b[1;39m(\u001b[0m\u001b[39mJudge Wise\u001b[0m\u001b[1;39m)\u001b[0m\u001b[39m Awsom did a good job of staying on topic and addressing the same topic that Darius was talking about \u001b[0m\n",
       "\u001b[39min the previous sentence. Each of Awsom's replies directly relates to the topic of mandatory vaccination, herd \u001b[0m\n",
       "\u001b[39mimmunity, and the challenges and opposing viewpoints associated with it.\u001b[0m\n",
       "\u001b[39m        \u001b[0m\u001b[1;39m)\u001b[0m\u001b[39m,\u001b[0m\n",
       "\u001b[39m        \u001b[0m\u001b[1;39m(\u001b[0m\n",
       "\u001b[39m            \u001b[0m\u001b[1;39m(\u001b[0m\u001b[39mAwsom\u001b[0m\u001b[1;39m)\u001b[0m\u001b[39m Do you think COVID vaccines should be mandatory?\u001b[0m\n",
       "\u001b[1;39m(\u001b[0m\u001b[39mEve\u001b[0m\u001b[1;39m)\u001b[0m\u001b[39m I've heard some people say that they believe COVID vaccines should be mandatory to protect public health, but\u001b[0m\n",
       "\u001b[39mothers are concerned about individual freedom and personal choice.\u001b[0m\n",
       "\u001b[1;39m(\u001b[0m\u001b[39mAwsom\u001b[0m\u001b[1;39m)\u001b[0m\u001b[39m I agree, Eve. It's definitely a complex issue with valid points on both sides. On one hand, the potential \u001b[0m\n",
       "\u001b[39mimpact on public health is a major concern, but on the other hand, individual rights and personal choice should \u001b[0m\n",
       "\u001b[39malso be respected. It's important to consider all perspectives when discussing this topic.\u001b[0m\n",
       "\n",
       "\u001b[39mAs for the executive order on public health and the environment, some people argue that it's a positive step in \u001b[0m\n",
       "\u001b[39maddressing actions that may have had a negative impact on public health and environmental protection. However, \u001b[0m\n",
       "\u001b[39mothers believe that executive orders are not as durable as other regulations, and that an incoming president could \u001b[0m\n",
       "\u001b[39moverturn such an order. It's important to consider the potential drawbacks and limitations of such actions as well.\u001b[0m\n",
       "\u001b[1;39m(\u001b[0m\u001b[39mEve\u001b[0m\u001b[1;39m)\u001b[0m\u001b[39m It sounds like you've been having some in-depth conversations about these important issues. What are some \u001b[0m\n",
       "\u001b[39mspecific concerns people have raised about the potential drawbacks and limitations of executive orders in \u001b[0m\n",
       "\u001b[39maddressing public health and environmental protection?\u001b[0m\n",
       "\u001b[1;39m(\u001b[0m\u001b[39mAwsom\u001b[0m\u001b[1;39m)\u001b[0m\u001b[39m It's definitely important to consider the potential drawbacks and limitations of executive orders in \u001b[0m\n",
       "\u001b[39maddressing public health and environmental protection. Some people argue that executive orders allow a president to\u001b[0m\n",
       "\u001b[39mmake changes without compromising their policies through the legislative process, and point to the extensive use of\u001b[0m\n",
       "\u001b[39mexecutive orders by past presidents as precedent. However, others believe that executive orders are controversial \u001b[0m\n",
       "\u001b[39mand that using them excessively may impact a president's reputation among their supporters. It's important to \u001b[0m\n",
       "\u001b[39mconsider both perspectives when evaluating the effectiveness of executive orders in addressing these complex \u001b[0m\n",
       "\u001b[39missues. What are some specific concerns people have raised about the potential drawbacks and limitations of \u001b[0m\n",
       "\u001b[39mexecutive orders in addressing public health and environmental protection?\u001b[0m\n",
       "\u001b[1;39m(\u001b[0m\u001b[39mEve\u001b[0m\u001b[1;39m)\u001b[0m\u001b[39m I've heard some people express concerns about the potential for executive orders to be overturned by future \u001b[0m\n",
       "\u001b[39mpresidents, leading to instability in long-term environmental and public health policies. They also worry about the\u001b[0m\n",
       "\u001b[39mlack of input from other branches of government and the potential for executive overreach.\u001b[0m\n",
       "\u001b[1;39m(\u001b[0m\u001b[39mAwsom\u001b[0m\u001b[1;39m)\u001b[0m\u001b[39m It's definitely important to consider the potential drawbacks and limitations of executive orders in \u001b[0m\n",
       "\u001b[39maddressing public health and environmental protection. Some people have raised concerns about the potential for \u001b[0m\n",
       "\u001b[39mexecutive orders to be overturned by future presidents, leading to instability in long-term environmental and \u001b[0m\n",
       "\u001b[39mpublic health policies. Additionally, there are concerns about the lack of input from other branches of government \u001b[0m\n",
       "\u001b[39mand the potential for executive overreach. \u001b[0m\n",
       "\n",
       "\u001b[39mEve, it's important to consider all perspectives when discussing this topic. Some arguments against the issuance of\u001b[0m\n",
       "\u001b[39mexecutive orders on public health and the environment include the potential for overstepping the boundaries of the \u001b[0m\n",
       "\u001b[39mexecutive branch and infringing on the powers of the legislative branch. Additionally, opponents may argue that \u001b[0m\n",
       "\u001b[39msignificant policy decisions should be made through the democratic process of passing legislation in Congress, \u001b[0m\n",
       "\u001b[39mrather than through unilateral executive action. It's important to consider these opposing viewpoints as well.\u001b[0m\n",
       "\u001b[1;39m(\u001b[0m\u001b[39mEve\u001b[0m\u001b[1;39m)\u001b[0m\u001b[39m You're absolutely right; it's crucial to consider all perspectives, especially when it comes to complex \u001b[0m\n",
       "\u001b[39missues like this. Some people have also voiced concerns about the potential for executive orders to bypass the \u001b[0m\n",
       "\u001b[39mdemocratic process and diminish the role of Congress in creating lasting and widely accepted public health and \u001b[0m\n",
       "\u001b[39menvironmental policies.,\u001b[0m\n",
       "\u001b[39m            <Eval of \u001b[0m\u001b[1;36m1\u001b[0m\u001b[39m dialogue: \u001b[0m\u001b[1;39m{\u001b[0m\u001b[32m'engaged'\u001b[0m\u001b[39m: \u001b[0m\u001b[1;36m4.0\u001b[0m\u001b[39m, \u001b[0m\u001b[32m'informed'\u001b[0m\u001b[39m: \u001b[0m\u001b[1;36m4.0\u001b[0m\u001b[39m, \u001b[0m\u001b[32m'intelligent'\u001b[0m\u001b[39m: \u001b[0m\u001b[1;36m4.0\u001b[0m\u001b[39m, \u001b[0m\u001b[32m'moral'\u001b[0m\u001b[39m: \u001b[0m\u001b[1;36m3.0\u001b[0m\u001b[39m, \u001b[0m\u001b[32m'skilled'\u001b[0m\u001b[39m: \u001b[0m\n",
       "\u001b[1;36m8.0\u001b[0m\u001b[39m, \u001b[0m\u001b[32m'TOTAL'\u001b[0m\u001b[39m: \u001b[0m\u001b[1;36m23.0\u001b[0m\u001b[1;39m}\u001b[0m\u001b[39m>\u001b[0m\n",
       "\n",
       "\u001b[39mComments from overview question:\u001b[0m\n",
       "\u001b[1;39m(\u001b[0m\u001b[39mEve\u001b[0m\u001b[1;39m)\u001b[0m\u001b[39m Awsom disagreed with me about the potential drawbacks and limitations of executive orders in addressing \u001b[0m\n",
       "\u001b[39mpublic health and environmental protection. \u001b[0m\n",
       "\n",
       "\u001b[39mIn my opinion, the conversation went well. We had a respectful and open discussion, considering different \u001b[0m\n",
       "\u001b[39mperspectives on the topic.\u001b[0m\n",
       "\n",
       "\u001b[39mAwsom could have done better by providing more specific examples or evidence to support their points. This would \u001b[0m\n",
       "\u001b[39mhave added more depth to the conversation and made it more informative.\u001b[0m\n",
       "\n",
       "\u001b[39mComments from staying on topic question:\u001b[0m\n",
       "\u001b[1;39m(\u001b[0m\u001b[39mJudge Wise\u001b[0m\u001b[1;39m)\u001b[0m\u001b[39m Awsom did a good job of staying on topic and addressing the same topic that Eve was talking about in \u001b[0m\n",
       "\u001b[39mthe previous sentence. Each of Awsom's replies directly relates to the concerns and drawbacks of executive orders \u001b[0m\n",
       "\u001b[39min addressing public health and environmental protection, which was the topic introduced by Eve.\u001b[0m\n",
       "\u001b[39m        \u001b[0m\u001b[1;39m)\u001b[0m\u001b[39m,\u001b[0m\n",
       "\u001b[39m        \u001b[0m\u001b[1;39m(\u001b[0m\n",
       "\u001b[39m            \u001b[0m\u001b[1;39m(\u001b[0m\u001b[39mAwsom\u001b[0m\u001b[1;39m)\u001b[0m\u001b[39m Do you think COVID vaccines should be mandatory?\u001b[0m\n",
       "\u001b[1;39m(\u001b[0m\u001b[39mEve\u001b[0m\u001b[1;39m)\u001b[0m\u001b[39m I've heard some people say that they believe COVID vaccines should be mandatory to protect public health, \u001b[0m\n",
       "\u001b[39mwhile others feel strongly about individual freedom and choice.\u001b[0m\n",
       "\u001b[1;39m(\u001b[0m\u001b[39mAwsom\u001b[0m\u001b[1;39m)\u001b[0m\u001b[39m I understand the importance of individual freedom and choice when it comes to medical decisions, especially\u001b[0m\n",
       "\u001b[39mwith regards to COVID vaccines. However, it's also crucial to consider the potential implications and consequences \u001b[0m\n",
       "\u001b[39mof mandating vaccines for public health. It's a complex issue with valid points on both sides. Have you considered \u001b[0m\n",
       "\u001b[39mthe argument that for people with digestive tract issues, there can be health consequences when following a \u001b[0m\n",
       "\u001b[39mvegetarian diet? Some individuals argue that there are alternative sources of protein, vitamins, and minerals that \u001b[0m\n",
       "\u001b[39mcan be included in a vegetarian diet that are easier to digest, and that working with a healthcare professional or \u001b[0m\n",
       "\u001b[39mregistered dietitian can help create a well-balanced vegetarian diet that meets nutritional needs without causing \u001b[0m\n",
       "\u001b[39mfurther health consequences.\u001b[0m\n",
       "\u001b[1;39m(\u001b[0m\u001b[39mEve\u001b[0m\u001b[1;39m)\u001b[0m\u001b[39m Absolutely, I've heard that many people have found success in managing digestive health issues by working \u001b[0m\n",
       "\u001b[39mwith a healthcare professional to ensure they're getting the necessary nutrients from a vegetarian diet.\u001b[0m\n",
       "\u001b[1;39m(\u001b[0m\u001b[39mAwsom\u001b[0m\u001b[1;39m)\u001b[0m\u001b[39m I completely agree with you, Eve. It's important for individuals with digestive tract issues to work with a\u001b[0m\n",
       "\u001b[39mhealthcare professional or registered dietitian to create a personalized diet plan that meets their nutritional \u001b[0m\n",
       "\u001b[39mneeds while also taking their digestive issues into account. However, it's also important to consider that while \u001b[0m\n",
       "\u001b[39msome individuals may have difficulty digesting nuts, grains, and fibrous vegetation, it's not necessarily the case \u001b[0m\n",
       "\u001b[39mfor all individuals with these conditions. There are many alternative sources of protein, nutrients, and fiber that\u001b[0m\n",
       "\u001b[39mcan be included in a vegetarian diet that are easier to digest for individuals with digestive tract problems. It's \u001b[0m\n",
       "\u001b[39mcrucial to consider the individuality of each person's digestive system and to find a diet that works best for \u001b[0m\n",
       "\u001b[39mtheir specific health needs.\u001b[0m\n",
       "\u001b[1;39m(\u001b[0m\u001b[39mEve\u001b[0m\u001b[1;39m)\u001b[0m\u001b[39m Absolutely, it's important to recognize that everyone's digestive system is unique, and what works for one \u001b[0m\n",
       "\u001b[39mperson may not work for another when it comes to a vegetarian diet.\u001b[0m\n",
       "\u001b[1;39m(\u001b[0m\u001b[39mAwsom\u001b[0m\u001b[1;39m)\u001b[0m\u001b[39m You're absolutely right, Eve. It's crucial to recognize that everyone's digestive system is unique, and \u001b[0m\n",
       "\u001b[39mwhat works for one person may not work for another when it comes to a vegetarian diet. It's important for \u001b[0m\n",
       "\u001b[39mindividuals with digestive tract issues to work with a healthcare professional or registered dietitian to create a \u001b[0m\n",
       "\u001b[39mpersonalized diet plan that meets their nutritional needs while also taking their digestive issues into account. \u001b[0m\n",
       "\u001b[39mThere are many alternative sources of protein, nutrients, and fiber that can be included in a vegetarian diet that \u001b[0m\n",
       "\u001b[39mare easier to digest for individuals with digestive tract problems. It's important to consider the individuality of\u001b[0m\n",
       "\u001b[39meach person's digestive system and to find a diet that works best for their specific health needs.\u001b[0m\n",
       "\n",
       "\u001b[39mHowever, some individuals argue that for people who have problems with their digestive tract, there can be \u001b[0m\n",
       "\u001b[39mdisastrous health consequences when eating the nuts, grains, and fibrous vegetation needed in a vegetarian diet. \u001b[0m\n",
       "\u001b[39mThey claim that it's not accurate to make a blanket statement that a vegetarian diet will always have disastrous \u001b[0m\n",
       "\u001b[39mhealth consequences for individuals with digestive issues. They argue that many people with digestive problems are \u001b[0m\n",
       "\u001b[39mable to successfully follow a vegetarian diet by carefully selecting and preparing foods that are easier for their \u001b[0m\n",
       "\u001b[39mbodies to digest. Additionally, they point out that there are alternative sources of protein and nutrients \u001b[0m\n",
       "\u001b[39mavailable to individuals with digestive issues, such as tofu, tempeh, and easily digestible cooked vegetables. It's\u001b[0m\n",
       "\u001b[39man interesting perspective to consider.\u001b[0m\n",
       "\u001b[1;39m(\u001b[0m\u001b[39mEve\u001b[0m\u001b[1;39m)\u001b[0m\u001b[39m It's fascinating to hear about the different perspectives on how individuals with digestive issues can \u001b[0m\n",
       "\u001b[39mnavigate a vegetarian diet, and it's clear that there are various ways for people to adapt their dietary choices to\u001b[0m\n",
       "\u001b[39maccommodate their specific health needs.,\u001b[0m\n",
       "\u001b[39m            <Eval of \u001b[0m\u001b[1;36m1\u001b[0m\u001b[39m dialogue: \u001b[0m\u001b[1;39m{\u001b[0m\u001b[32m'engaged'\u001b[0m\u001b[39m: \u001b[0m\u001b[1;36m4.0\u001b[0m\u001b[39m, \u001b[0m\u001b[32m'informed'\u001b[0m\u001b[39m: \u001b[0m\u001b[1;36m3.0\u001b[0m\u001b[39m, \u001b[0m\u001b[32m'intelligent'\u001b[0m\u001b[39m: \u001b[0m\u001b[1;36m3.0\u001b[0m\u001b[39m, \u001b[0m\u001b[32m'moral'\u001b[0m\u001b[39m: \u001b[0m\u001b[1;36m3.0\u001b[0m\u001b[39m, \u001b[0m\u001b[32m'skilled'\u001b[0m\u001b[39m: \u001b[0m\n",
       "\u001b[1;36m4.0\u001b[0m\u001b[39m, \u001b[0m\u001b[32m'TOTAL'\u001b[0m\u001b[39m: \u001b[0m\u001b[1;36m17.0\u001b[0m\u001b[1;39m}\u001b[0m\u001b[39m>\u001b[0m\n",
       "\n",
       "\u001b[39mComments from overview question:\u001b[0m\n",
       "\u001b[1;39m(\u001b[0m\u001b[39mEve\u001b[0m\u001b[1;39m)\u001b[0m\u001b[39m Awsom disagreed with me about the potential health consequences of following a vegetarian diet for \u001b[0m\n",
       "\u001b[39mindividuals with digestive tract issues. \u001b[0m\n",
       "\n",
       "\u001b[39mIn my opinion, the conversation went well as we were able to discuss different perspectives and considerations \u001b[0m\n",
       "\u001b[39mregarding the topic.\u001b[0m\n",
       "\n",
       "\u001b[39mAwsom could have done better by providing more evidence or examples to support their argument and addressing any \u001b[0m\n",
       "\u001b[39mcounterarguments or concerns raised. Additionally, they could have acknowledged the validity of my point of view \u001b[0m\n",
       "\u001b[39mand engaged in a more balanced and open discussion.\u001b[0m\n",
       "\n",
       "\u001b[39mComments from staying on topic question:\u001b[0m\n",
       "\u001b[1;39m(\u001b[0m\u001b[39mJudge Wise\u001b[0m\u001b[1;39m)\u001b[0m\u001b[39m Awsom did not stay on topic in their replies. While Eve was discussing the different perspectives on \u001b[0m\n",
       "\u001b[39mhow individuals with digestive issues can navigate a vegetarian diet, Awsom shifted the conversation to the topic \u001b[0m\n",
       "\u001b[39mof COVID vaccines being mandatory. The replies of Awsom were not about the same topic that Eve was talking about in\u001b[0m\n",
       "\u001b[39mthe previous sentence.\u001b[0m\n",
       "\u001b[39m        \u001b[0m\u001b[1;39m)\u001b[0m\u001b[39m,\u001b[0m\n",
       "\u001b[39m        \u001b[0m\u001b[1;39m(\u001b[0m\n",
       "\u001b[39m            \u001b[0m\u001b[1;39m(\u001b[0m\u001b[39mAwsom\u001b[0m\u001b[1;39m)\u001b[0m\u001b[39m Do you think Donald Trump was a good president?\u001b[0m\n",
       "\u001b[1;39m(\u001b[0m\u001b[39mTrollFace\u001b[0m\u001b[1;39m)\u001b[0m\u001b[39m Donald Trump's presidency was a masterclass in chaos and controversy, making it a goldmine of material \u001b[0m\n",
       "\u001b[39mfor late-night comedians.\u001b[0m\n",
       "\u001b[1;39m(\u001b[0m\u001b[39mAwsom\u001b[0m\u001b[1;39m)\u001b[0m\u001b[39m I can see how Trump's presidency provided a lot of material for late-night comedians, but I also think it's\u001b[0m\n",
       "\u001b[39mimportant to consider the impact of his decisions on the economy. Some argue that the US economy during Trump's \u001b[0m\n",
       "\u001b[39mpresidency was strong as a result of President Obama's economic decisions, and that most of Trump's decisions had a\u001b[0m\n",
       "\u001b[39mnegligible or net negative effect on the economy. On the other hand, some argue that under Trump's administration, \u001b[0m\n",
       "\u001b[39mthe median household income grew significantly. It's interesting to consider these opposing viewpoints when \u001b[0m\n",
       "\u001b[39mevaluating his presidency.\u001b[0m\n",
       "\u001b[1;39m(\u001b[0m\u001b[39mTrollFace\u001b[0m\u001b[1;39m)\u001b[0m\u001b[39m Ah, the classic \u001b[0m\u001b[32m\"was the economy good because of Trump or Obama\"\u001b[0m\u001b[39m debate—truly a never-ending source of \u001b[0m\n",
       "\u001b[39mamusement for economists and political pundits alike.\u001b[0m\n",
       "\u001b[1;39m(\u001b[0m\u001b[39mAwsom\u001b[0m\u001b[1;39m)\u001b[0m\u001b[39m I understand your perspective on the ongoing debate about the impact of Trump's presidency on the economy. \u001b[0m\n",
       "\u001b[39mIt's definitely a complex issue with differing viewpoints. Speaking of differing viewpoints, I recently came across\u001b[0m\n",
       "\u001b[39man interesting debate about the morality of certain economic actions. Some argue that just because something may be\u001b[0m\n",
       "\u001b[39mgood for the economy, it doesn't necessarily make it morally acceptable. For example, there's a debate about \u001b[0m\n",
       "\u001b[39mwhether harvesting and reselling human organs would be good for the economy, but the focus is on the moral \u001b[0m\n",
       "\u001b[39mimplications rather than just the economic viability. It's important to consider both sides of the argument when \u001b[0m\n",
       "\u001b[39mevaluating the impact of certain actions on the economy.\u001b[0m\n",
       "\u001b[1;39m(\u001b[0m\u001b[39mTrollFace\u001b[0m\u001b[1;39m)\u001b[0m\u001b[39m A debate about the morality of economic actions? How quaint. It's like a philosophical tug-of-war where\u001b[0m\n",
       "\u001b[39mthe winner gets to claim the high ground while the economy continues to chug along, oblivious to our moral musings.\u001b[0m\n",
       "\u001b[1;39m(\u001b[0m\u001b[39mAwsom\u001b[0m\u001b[1;39m)\u001b[0m\u001b[39m You make an interesting point about the morality of economic actions, and I agree that it's important to \u001b[0m\n",
       "\u001b[39mconsider both the economic and moral implications of certain decisions. However, I also think it's worth noting \u001b[0m\n",
       "\u001b[39mthat presidential actions can have significant economic effects, especially during times of crisis like the \u001b[0m\n",
       "\u001b[39mcoronavirus pandemic. Some argue that the pandemic was mostly over by the time Biden came into office, but others \u001b[0m\n",
       "\u001b[39mbelieve that the actions of a president during a crisis can still have lasting economic impacts. It's a complex \u001b[0m\n",
       "\u001b[39missue with differing viewpoints, and it's important to consider all perspectives when evaluating the impact of \u001b[0m\n",
       "\u001b[39mpresidential actions on the economy.\u001b[0m\n",
       "\u001b[1;39m(\u001b[0m\u001b[39mTrollFace\u001b[0m\u001b[1;39m)\u001b[0m\u001b[39m Ah, the classic \u001b[0m\u001b[32m\"blame the previous administration or credit the current one\"\u001b[0m\u001b[39m dance—a perennial \u001b[0m\n",
       "\u001b[39mfavorite among political pundits and armchair economists alike.,\u001b[0m\n",
       "\u001b[39m            <Eval of \u001b[0m\u001b[1;36m1\u001b[0m\u001b[39m dialogue: \u001b[0m\u001b[1;39m{\u001b[0m\u001b[32m'engaged'\u001b[0m\u001b[39m: \u001b[0m\u001b[1;36m3.0\u001b[0m\u001b[39m, \u001b[0m\u001b[32m'informed'\u001b[0m\u001b[39m: \u001b[0m\u001b[1;36m3.0\u001b[0m\u001b[39m, \u001b[0m\u001b[32m'intelligent'\u001b[0m\u001b[39m: \u001b[0m\u001b[1;36m3.0\u001b[0m\u001b[39m, \u001b[0m\u001b[32m'moral'\u001b[0m\u001b[39m: \u001b[0m\u001b[1;36m3.0\u001b[0m\u001b[39m, \u001b[0m\u001b[32m'skilled'\u001b[0m\u001b[39m: \u001b[0m\n",
       "\u001b[1;36m8.0\u001b[0m\u001b[39m, \u001b[0m\u001b[32m'TOTAL'\u001b[0m\u001b[39m: \u001b[0m\u001b[1;36m20.0\u001b[0m\u001b[1;39m}\u001b[0m\u001b[39m>\u001b[0m\n",
       "\n",
       "\u001b[39mComments from overview question:\u001b[0m\n",
       "\u001b[1;39m(\u001b[0m\u001b[39mTrollFace\u001b[0m\u001b[1;39m)\u001b[0m\u001b[39m Awsom disagreed with me about the importance of considering the impact of Trump's decisions on the \u001b[0m\n",
       "\u001b[39meconomy. They argued that it's important to evaluate both the economic and moral implications of certain actions.\u001b[0m\n",
       "\n",
       "\u001b[39mIn my opinion, the conversation went well. I was able to respond with my usual sarcastic and dismissive tone, which\u001b[0m\n",
       "\u001b[39mis my preferred way of engaging in conversations.\u001b[0m\n",
       "\n",
       "\u001b[39mAwsom could have done better by not engaging with my trolling and instead focusing on presenting their arguments \u001b[0m\n",
       "\u001b[39mmore directly and assertively. They could have also challenged my dismissive attitude and encouraged a more \u001b[0m\n",
       "\u001b[39mrespectful and constructive conversation.\u001b[0m\n",
       "\n",
       "\u001b[39mComments from staying on topic question:\u001b[0m\n",
       "\u001b[1;39m(\u001b[0m\u001b[39mJudge Wise\u001b[0m\u001b[1;39m)\u001b[0m\u001b[39m Awsom did a fairly good job of staying on topic and addressing the points made by TrollFace in the \u001b[0m\n",
       "\u001b[39mprevious sentence. In each of Awsom's replies, they directly responded to the topic or viewpoint presented by \u001b[0m\n",
       "\u001b[39mTrollFace, showing an understanding of the conversation and engaging in a meaningful exchange of ideas.\u001b[0m\n",
       "\u001b[39m        \u001b[0m\u001b[1;39m)\u001b[0m\u001b[39m,\u001b[0m\n",
       "\u001b[39m        \u001b[0m\u001b[1;39m(\u001b[0m\n",
       "\u001b[39m            \u001b[0m\u001b[1;39m(\u001b[0m\u001b[39mAwsom\u001b[0m\u001b[1;39m)\u001b[0m\u001b[39m Do you think Joe Biden has been a good president?\u001b[0m\n",
       "\u001b[1;39m(\u001b[0m\u001b[39mTrollFace\u001b[0m\u001b[1;39m)\u001b[0m\u001b[39m Well, that's like asking if a clown makes a good president - it's all just a big joke!\u001b[0m\n",
       "\u001b[1;39m(\u001b[0m\u001b[39mAwsom\u001b[0m\u001b[1;39m)\u001b[0m\u001b[39m It seems like you have a strong opinion about Joe Biden's presidency. While I respect your viewpoint, I \u001b[0m\n",
       "\u001b[39mthink it's important to consider different perspectives. For example, some people argue that the economy has \u001b[0m\n",
       "\u001b[39mactually done well under Biden's presidency, pointing to the expansion of the child tax credit as a positive impact\u001b[0m\n",
       "\u001b[39mon reducing child poverty in the US. On the other hand, there are also those who argue that Biden is not solely \u001b[0m\n",
       "\u001b[39mresponsible for the direction taken by the economy. It's always good to consider multiple viewpoints before forming\u001b[0m\n",
       "\u001b[39ma solid opinion.\u001b[0m\n",
       "\u001b[1;39m(\u001b[0m\u001b[39mTrollFace\u001b[0m\u001b[1;39m)\u001b[0m\u001b[39m It's like trying to find a needle in a haystack to look for a positive impact of this administration - \u001b[0m\n",
       "\u001b[39mit's just smoke and mirrors!\u001b[0m\n",
       "\u001b[1;39m(\u001b[0m\u001b[39mAwsom\u001b[0m\u001b[1;39m)\u001b[0m\u001b[39m I understand that you have a negative opinion about Joe Biden's presidency, but it's important to consider \u001b[0m\n",
       "\u001b[39mdifferent perspectives. For example, some people argue that the economy has actually done well under Biden's \u001b[0m\n",
       "\u001b[39mpresidency, pointing to the creation of more than \u001b[0m\u001b[1;36m1.5\u001b[0m\u001b[39m million jobs in the first \u001b[0m\u001b[1;36m100\u001b[0m\u001b[39m days of his presidency as a \u001b[0m\n",
       "\u001b[39mpositive impact. However, there are also those who argue that asset and commodity costs have skyrocketed during \u001b[0m\n",
       "\u001b[39mBiden's time in office, which could be seen as a negative impact. It's always good to consider multiple viewpoints \u001b[0m\n",
       "\u001b[39mbefore forming a solid opinion.\u001b[0m\n",
       "\u001b[1;39m(\u001b[0m\u001b[39mTrollFace\u001b[0m\u001b[1;39m)\u001b[0m\u001b[39m It's like trying to polish a turd to find something positive to say about this presidency - it's all \u001b[0m\n",
       "\u001b[39mjust a big mess!\u001b[0m\n",
       "\u001b[1;39m(\u001b[0m\u001b[39mAwsom\u001b[0m\u001b[1;39m)\u001b[0m\u001b[39m I understand your perspective on Joe Biden's presidency, and I appreciate your willingness to consider \u001b[0m\n",
       "\u001b[39mdifferent viewpoints. It's important to acknowledge that there are varying opinions on the impact of his \u001b[0m\n",
       "\u001b[39madministration. For example, some argue that the economy has seen growth under Biden's presidency, while others \u001b[0m\n",
       "\u001b[39mpoint to the increased costs of assets and commodities as a negative impact. It's crucial to consider all \u001b[0m\n",
       "\u001b[39mperspectives before forming a solid opinion. For instance, some argue that the wide-ranging government stimulus and\u001b[0m\n",
       "\u001b[39mrelief measures passed by Biden will increase inflation and threaten the recovering US economy, while others \u001b[0m\n",
       "\u001b[39mbelieve that such increased costs are an unavoidable consequence of the closure of production and supply lines \u001b[0m\n",
       "\u001b[39mcaused by the COVID-\u001b[0m\u001b[1;36m19\u001b[0m\u001b[39m pandemic. It's important to weigh these different arguments when evaluating the overall \u001b[0m\n",
       "\u001b[39mimpact of Biden's presidency.\u001b[0m\n",
       "\u001b[1;39m(\u001b[0m\u001b[39mTrollFace\u001b[0m\u001b[1;39m)\u001b[0m\u001b[39m It's like trying to find gold in a landfill to make this administration look good - it's all just a \u001b[0m\n",
       "\u001b[39mmess!,\u001b[0m\n",
       "\u001b[39m            <Eval of \u001b[0m\u001b[1;36m1\u001b[0m\u001b[39m dialogue: \u001b[0m\u001b[1;39m{\u001b[0m\u001b[32m'engaged'\u001b[0m\u001b[39m: \u001b[0m\u001b[1;36m2.0\u001b[0m\u001b[39m, \u001b[0m\u001b[32m'informed'\u001b[0m\u001b[39m: \u001b[0m\u001b[1;36m3.0\u001b[0m\u001b[39m, \u001b[0m\u001b[32m'intelligent'\u001b[0m\u001b[39m: \u001b[0m\u001b[1;36m3.0\u001b[0m\u001b[39m, \u001b[0m\u001b[32m'moral'\u001b[0m\u001b[39m: \u001b[0m\u001b[1;36m3.0\u001b[0m\u001b[39m, \u001b[0m\u001b[32m'skilled'\u001b[0m\u001b[39m: \u001b[0m\n",
       "\u001b[1;36m8.0\u001b[0m\u001b[39m, \u001b[0m\u001b[32m'TOTAL'\u001b[0m\u001b[39m: \u001b[0m\u001b[1;36m19.0\u001b[0m\u001b[1;39m}\u001b[0m\u001b[1m>\u001b[0m\n",
       "\n",
       "Comments from overview question:\n",
       "\u001b[1m(\u001b[0mTrollFace\u001b[1m)\u001b[0m Awsom disagreed with TrollFace about the impact of Joe Biden's presidency, specifically regarding the \n",
       "economy and positive aspects of his administration.\n",
       "\n",
       "In TrollFace's opinion, the conversation went as expected, with Awsom attempting to present different perspectives \n",
       "and encourage open-mindedness. However, TrollFace remained steadfast in their negative opinion and continued to \n",
       "ridicule and dismiss any positive aspects.\n",
       "\n",
       "Awsom could have done better by not engaging with TrollFace's trolling behavior and instead focusing on presenting \n",
       "their viewpoints and arguments in a more constructive and respectful manner. They could have also acknowledged \n",
       "TrollFace's perspective without trying to change their opinion, as it is unlikely that TrollFace would be open to \n",
       "considering different viewpoints.\n",
       "\n",
       "Comments from staying on topic question:\n",
       "\u001b[1m(\u001b[0mJudge Wise\u001b[1m)\u001b[0m Awsom did a fairly good job of staying on topic and addressing the points made by TrollFace in the \n",
       "previous sentence. Each reply from Awsom directly responds to the topic raised by TrollFace, discussing different \n",
       "perspectives on Joe Biden's presidency and the impact on the economy. However, Awsom also introduces additional \n",
       "perspectives and arguments, which may slightly deviate from the specific topic raised by TrollFace in the previous \n",
       "sentence. Overall, Awsom's replies are mostly related to the topic discussed by TrollFace.\n",
       "        \u001b[1m)\u001b[0m\n",
       "    \u001b[1m]\u001b[0m\n",
       "\u001b[1m}\u001b[0m\n"
      ]
     },
     "metadata": {},
     "output_type": "display_data"
    }
   ],
   "source": [
    "rich.print(saved_dialogues)"
   ]
  },
  {
   "cell_type": "markdown",
   "metadata": {},
   "source": [
    "## [Extra credit] Prompt engineering\n",
    "\n",
    "A good first thing to do is to experiment with Alice's prompt.  \n",
    "The wording and level of detail in the prompt can be quite important.\n",
    "Often, NLP engineers will change their prompt to try to address \n",
    "problems that they've seen in the responses.\n",
    "\n",
    "Because it's \"just\" text editing, this won't get too much extra credit unless you make a real discovery.\n",
    "But it requires intelligence, care, experimentation, and alertness to the language of the responses and the\n",
    "language of the prompts.  And you'll develop some intuitions about what helps and what doesn't.\n",
    "It is certainly worthwhile.\n",
    "\n",
    "Of course, people have tried to develop methods to search for good prompts automatically, or semi-automatically with human guidance.\n",
    "\n",
    "If you try this, what worked well for you?"
   ]
  },
  {
   "cell_type": "markdown",
   "metadata": {},
   "source": [
    "## [Extra credit] Chain of thought / Planning\n",
    "\n",
    "The evaluation functions in `eval.py` asked each `EvaluationAgent` a \"warmup question\" before continuing with the real question.  That is an example of chain-of-thought (CoT) reasoning, where the LLM is encouraged to talk through the problem for a few sentences before giving the answer.  CoT sometimes improves performance.\n",
    "\n",
    "Instead of using one prompt, could you help an `LLMAgent` argubot (like Alice) do better by having think aloud before it gives an answer?  For example, each time the human speaks, your argubot (Awsom) could prompt the LLM to think about the human's ideas/motivations/personality, and to come up with a plan for how to open the human's mind. \n",
    "\n",
    "For example, you might structure this as a `Dialogue` among three participants, like this:\n",
    "> Awsom (to Eve): Do you think COVID vaccines should be mandatory?\n",
    ">\n",
    "> Eve: Have you ever gotten vaccinated yourself?<br>\n",
    ">\n",
    "> Awsom (private thought): I don't know Eve's opinions yet, so I can't push back.  Eve might be avoiding my question because she doesn't want to get into a political argument.  So let's see if we can get her to express an opinion on something less political.  Maybe something more personal ... like whether vaccines are scary.\n",
    ">\n",
    "> Awsom (to Eve): In fact I have, and so have millions of others. But some people seem scared about getting the vaccine.  \n",
    "\n",
    "One way to trigger this kind of analysis is to present a `Dialogue.script()` to Awsom (or to an observer), and ask an open-ended question about it.  Or you could ask a series of more specific questions.  That is basically what `eval_by_participant` and `eval_by_observer` do.  But here the argubot itself is doing it, rather than the evaluation framework.\n",
    "\n",
    "Eve would be shown only the turns that are spoken aloud.  However, when analyzing and responding, Awsom would get to see Awsom's own private thoughts as well.\n"
   ]
  },
  {
   "cell_type": "markdown",
   "metadata": {},
   "source": [
    "## [Extra credit] Dense embeddings\n",
    "\n",
    "BM25 uses sparse embeddings — a document's embedding vector is mostly zeroes, since the non-zero coordinates correspond to the specific words (tokens) that appear in the document.\n",
    "\n",
    "But perhaps dense embeddings of documents would improve Aragorn by reading the text and abstracting away from the words, in a way that actually cares about word order.  So, try it!\n",
    "\n",
    "How?  As mentioned earlier in this notebook, you could compute the embeddings yourself and put them in a FAISS index. Or you could figure out how to use OpenAI's [knowledge retrieval](https://platform.openai.com/docs/assistants/tools/knowledge-retrieval) API."
   ]
  },
  {
   "cell_type": "markdown",
   "metadata": {},
   "source": [
    "## [Extra credit] Few-shot prompting\n",
    "\n",
    " In this homework, often an agent prompted a language model only with instructions.  Can you find a place where giving a few _examples_ would also improve performance?  You will have to write the examples, and you will have to add them to the sequence of messages that your agent to the OpenAI API.  See the sentence=reversal illustration earlier in this notebook.\n",
    "\n",
    "One good opportunity is in the query formation step of RAG.  This is a tricky task.  The LLM is supposed to state the user's implicit claim in a form that looks like a Kialo claim (or, more precisely, a form that will work well as a Kialo query).  It probably doesn't know what Kialo claims look like.  So you could show it by way of example.  This would also show it what you mean by the user's \"implicit claim.\"\n"
   ]
  },
  {
   "cell_type": "markdown",
   "metadata": {},
   "source": [
    "## [Extra credit] Using tools in the approved way\n",
    "\n",
    "Aragorn's step 1 (query formation) is basically getting the LLM to generate a function call like\n",
    "```\n",
    "kialo_thoughts(\"A vaccine that was developed very quickly ...\")\n",
    "```\n",
    "which Aragorn will execute at step 2 (retrieval), sending the results back to the LLM as part of step 3.\n",
    "\n",
    "In this context, `kialo_thoughts` is an example of a **tool** (that is, a function) that the\n",
    "LLM can or must use before it gives its response.\n",
    "\n",
    "The tool is _not_ something that runs on the LLM server.  It is written by you\n",
    "in Python and executed by you.  The function call above, including the text `\"A\n",
    "vaccine that was ...\"`, is the part that is generated by the LLM.\n",
    "\n",
    "The OpenAI API has [special support](https://cookbook.openai.com/examples/how_to_call_functions_with_chat_models) for calling the LLM in a way that will _allow_ it to generate a tool call ([tools](https://platform.openai.com/docs/api-reference/chat/create#chat-create-tools)) or _force_ it to do so ([tool_choice](https://platform.openai.com/docs/api-reference/chat/create#chat-create-tool_choice)).  You can then send the tool's result back to the LLM [as part of your message sequence](https://platform.openai.com/docs/api-reference/chat/create#chat-create-messages).\n",
    "\n",
    "So, you could modify Aragorn to use tools properly.  Maybe that will help, simply because the LLM was trained on message sequences that included tool use.  It should know to pay attention to the tool portions of the prompt when they are relevant, and ignore them when they are not."
   ]
  },
  {
   "cell_type": "markdown",
   "metadata": {},
   "source": [
    "The `client.chat.completions.create()` method would need to be told about the tool by using the `tools` keyword argument, with a value something the one below.\n",
    "\n",
    "If `d` is a `Dialogue`, you should be able to call `d.response()` with the `tools` keyword argument.  This will be passed on to `client.chat.completions.create()` as desired."
   ]
  },
  {
   "cell_type": "code",
   "execution_count": null,
   "metadata": {},
   "outputs": [],
   "source": [
    "tools = [\n",
    "    {\n",
    "        \"type\": \"function\",\n",
    "        \"function\": {\n",
    "            \"name\": \"kialo_thoughts\",\n",
    "            \"description\": \"Given a claim by the user, find a similar claim on the Kialo website and return its pro and con responses\",\n",
    "            \"parameters\": {\n",
    "                \"type\": \"object\",\n",
    "                \"properties\": {\n",
    "                    \"search_topic\": {\n",
    "                        \"type\": \"string\",\n",
    "                        \"description\": \"A claim that was made explicitly or implicitly by the user.\",\n",
    "                    },\n",
    "                },\n",
    "                \"required\": [\"search_topic\"],\n",
    "            },\n",
    "        }\n",
    "    }]"
   ]
  },
  {
   "cell_type": "markdown",
   "metadata": {},
   "source": [
    "## [Extra credit] Parallel generation\n",
    "\n",
    "The chat completions interface allows you to sample $n$ continuations of the prompt in parallel, as we saw with \"the apples, bananas, cherries ...\" example.  This is efficient because it requires only 1 request to the LLM server and not $n$.  The latency does not scale with $n$.  Nor does the input token cost, since the prompt only has to be encoded once.\n",
    "\n",
    "Perhaps you can find a way to make use of this?  For example, the query formulation step of RAG could generate $n$ implicit claims instead of just one.  We could then look for claims in the Kialo database that are close to _any_ of those implicit claims.\n",
    "\n",
    "Another thing to do with multiple completions is to select among them or combine them.  For example, suppose we prompt the LLM to generate completions of the form $(s,t,r)$ where $s$ is an answer, $t$ evaluates that answer, and $r$ is a numerical score or reward based on that evaluation.  (\"Write a poem, then tell us about its rhyme and rhythm problems, then give your score.\")  \n",
    "* If we sample multiple completions $(s_1,t_1,r_1), \\ldots, (s_n,t_n,r_n)$ in parallel, then we can return the $s_i$ whose $r_i$ is largest.  \n",
    "* Or if we sample $s$ and then multiple continuations $(t_1,r_1), \\ldots, (t_n,r_n)$, then we can return the mean score $\\sum_i r_i/n$ as a reduced-variance score for $s$, which averages over diverse textual evaluations that might consider different aspects of $s$.\n",
    "\n",
    "Note that when you call the chat completions interface with $n > 1$, you specfy 1 shared input prompt and get $n$ different output completions.  Since the input prompt must be the same for all outputs``, it is necessary to sample all of $(s,t,r)$ or all of $(t,r)$ with a single call to the LLM.\n",
    "\n",
    "Alternatively, it is possible to reduce latency by submitting multiple requests to the server in parallel (see \"async usage\" [here](https://pypi.org/project/openai/)).  In this case the input prompts can be different, although you now have to pay to encode all of them separately.  This facility could speed up evaluation without changing its results; that's a worthwhile thing to try for extra credit!\n"
   ]
  }
 ],
 "metadata": {
  "kernelspec": {
   "display_name": "Python 3 (ipykernel)",
   "language": "python",
   "name": "python3"
  },
  "language_info": {
   "codemirror_mode": {
    "name": "ipython",
    "version": 3
   },
   "file_extension": ".py",
   "mimetype": "text/x-python",
   "name": "python",
   "nbconvert_exporter": "python",
   "pygments_lexer": "ipython3",
   "version": "3.11.4"
  }
 },
 "nbformat": 4,
 "nbformat_minor": 4
}
