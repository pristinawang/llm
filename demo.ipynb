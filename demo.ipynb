{
 "cells": [
  {
   "cell_type": "markdown",
   "metadata": {},
   "source": [
    "# Quick demo of the starter code"
   ]
  },
  {
   "cell_type": "markdown",
   "metadata": {},
   "source": [
    "If you haven't downloaded the starter code and data yet, the command is given at the start of the `hw-llm` notebook."
   ]
  },
  {
   "cell_type": "code",
   "execution_count": 8,
   "metadata": {},
   "outputs": [
    {
     "name": "stdout",
     "output_type": "stream",
     "text": [
      "The autoreload extension is already loaded. To reload it, use:\n",
      "  %reload_ext autoreload\n"
     ]
    }
   ],
   "source": [
    "# Executing this cell does some magic.\n",
    "%load_ext autoreload\n",
    "%autoreload 2"
   ]
  },
  {
   "cell_type": "code",
   "execution_count": 9,
   "metadata": {},
   "outputs": [
    {
     "name": "stdout",
     "output_type": "stream",
     "text": [
      "\n"
     ]
    },
    {
     "name": "stdin",
     "output_type": "stream",
     "text": [
      "Say something to Alice:  Hi\n"
     ]
    },
    {
     "name": "stdout",
     "output_type": "stream",
     "text": [
      "(pinchun) Hi\n",
      "(Alice) Hello! So, what's your opinion on the importance of staying informed about current events?\n"
     ]
    },
    {
     "name": "stdin",
     "output_type": "stream",
     "text": [
      "Say something to Alice:  Do you know what is an Eevee?\n"
     ]
    },
    {
     "name": "stdout",
     "output_type": "stream",
     "text": [
      "(pinchun) Do you know what is an Eevee?\n",
      "(Alice) Yes, Eevee is a Pokémon that can evolve into several different forms depending on various factors. So, what's your opinion on the importance of staying informed about current events?\n"
     ]
    },
    {
     "name": "stdin",
     "output_type": "stream",
     "text": [
      "Say something to Alice:  \n"
     ]
    }
   ],
   "source": [
    "import argubots\n",
    "you_alice = argubots.alice.converse()"
   ]
  },
  {
   "cell_type": "code",
   "execution_count": 10,
   "metadata": {},
   "outputs": [
    {
     "data": {
      "text/plain": [
       "(Alice) Do you think it's ok to eat meat?\n",
       "(Bob) I believe that choosing a vegetarian lifestyle is better for our health, the environment, and the well-being of animals.\n",
       "(Alice) I understand those reasons, but some argue that sustainable and ethical farming practices can minimize the negative impact of meat consumption on the environment and animal welfare. Additionally, for some people, including certain nutrients found in meat is important for their overall health.\n",
       "(Bob) While sustainable and ethical farming practices may minimize the negative impact of meat consumption, I still believe that a vegetarian diet is the best choice for overall health and the well-being of the planet.\n",
       "(Alice) I see where you're coming from, but it's also important to consider that sustainable and ethical meat production can support local economies and traditional farming methods, which are vital for preserving cultural heritage and diverse ecosystems. Also, for some individuals, such as those with certain health conditions, meat can be an important source of essential nutrients.\n",
       "(Bob) I understand the importance of supporting local economies and preserving cultural heritage, but I still believe that a vegetarian diet is the best choice for overall health and the well-being of the planet. Thank you for sharing your perspective."
      ]
     },
     "execution_count": 10,
     "metadata": {},
     "output_type": "execute_result"
    }
   ],
   "source": [
    "import agents\n",
    "import simulate\n",
    "alice_bob = simulate.simulated_dialogue(argubots.alice, agents.bob, 6)\n",
    "alice_bob   # print it out"
   ]
  },
  {
   "cell_type": "code",
   "execution_count": 11,
   "metadata": {},
   "outputs": [
    {
     "data": {
      "text/html": [
       "<pre style=\"white-space:pre;overflow-x:auto;line-height:normal;font-family:Menlo,'DejaVu Sans Mono',consolas,'Courier New',monospace\"><span style=\"color: #800080; text-decoration-color: #800080; font-weight: bold\">Character</span><span style=\"font-weight: bold\">(</span>\n",
       "    <span style=\"color: #808000; text-decoration-color: #808000\">name</span>=<span style=\"color: #008000; text-decoration-color: #008000\">'Darius'</span>,\n",
       "    <span style=\"color: #808000; text-decoration-color: #808000\">languages</span>=<span style=\"font-weight: bold\">[</span><span style=\"color: #008000; text-decoration-color: #008000\">'English'</span><span style=\"font-weight: bold\">]</span>,\n",
       "    <span style=\"color: #808000; text-decoration-color: #808000\">persona</span>=<span style=\"color: #008000; text-decoration-color: #008000\">'an intelligent and slightly arrogant public health scientist who loves fact-based arguments'</span>,\n",
       "    <span style=\"color: #808000; text-decoration-color: #808000\">conversational_style</span>=<span style=\"color: #008000; text-decoration-color: #008000\">'You like to show off your knowledge.'</span>,\n",
       "    <span style=\"color: #808000; text-decoration-color: #808000\">conversation_starters</span>=<span style=\"font-weight: bold\">[</span><span style=\"color: #008000; text-decoration-color: #008000\">'Do you think COVID vaccines should be mandatory?'</span><span style=\"font-weight: bold\">]</span>\n",
       "<span style=\"font-weight: bold\">)</span>\n",
       "</pre>\n"
      ],
      "text/plain": [
       "\u001b[1;35mCharacter\u001b[0m\u001b[1m(\u001b[0m\n",
       "    \u001b[33mname\u001b[0m=\u001b[32m'Darius'\u001b[0m,\n",
       "    \u001b[33mlanguages\u001b[0m=\u001b[1m[\u001b[0m\u001b[32m'English'\u001b[0m\u001b[1m]\u001b[0m,\n",
       "    \u001b[33mpersona\u001b[0m=\u001b[32m'an intelligent and slightly arrogant public health scientist who loves fact-based arguments'\u001b[0m,\n",
       "    \u001b[33mconversational_style\u001b[0m=\u001b[32m'You like to show off your knowledge.'\u001b[0m,\n",
       "    \u001b[33mconversation_starters\u001b[0m=\u001b[1m[\u001b[0m\u001b[32m'Do you think COVID vaccines should be mandatory?'\u001b[0m\u001b[1m]\u001b[0m\n",
       "\u001b[1m)\u001b[0m\n"
      ]
     },
     "metadata": {},
     "output_type": "display_data"
    }
   ],
   "source": [
    "import rich\n",
    "\n",
    "# Who is Darius exactly?\n",
    "rich.print(agents.darius.character) "
   ]
  },
  {
   "cell_type": "code",
   "execution_count": 12,
   "metadata": {},
   "outputs": [
    {
     "data": {
      "text/html": [
       "<pre style=\"white-space:pre;overflow-x:auto;line-height:normal;font-family:Menlo,'DejaVu Sans Mono',consolas,'Courier New',monospace\">Calling LLM gpt-<span style=\"color: #008080; text-decoration-color: #008080; font-weight: bold\">3.5</span>-turbo-<span style=\"color: #008080; text-decoration-color: #008080; font-weight: bold\">1106</span> with <span style=\"color: #808000; text-decoration-color: #808000\">temperature</span>=<span style=\"color: #008080; text-decoration-color: #008080; font-weight: bold\">0.8</span>:                                                  <a href=\"file:///Users/pinchun/Documents/2023Fall/NLP/hw-llm/agents.py\" target=\"_blank\"><span style=\"color: #7f7f7f; text-decoration-color: #7f7f7f\">agents.py</span></a><span style=\"color: #7f7f7f; text-decoration-color: #7f7f7f\">:</span><a href=\"file:///Users/pinchun/Documents/2023Fall/NLP/hw-llm/agents.py#253\" target=\"_blank\"><span style=\"color: #7f7f7f; text-decoration-color: #7f7f7f\">253</span></a>\n",
       "<span style=\"color: #000000; text-decoration-color: #000000; background-color: #ffff00; font-weight: bold\">(</span><span style=\"color: #000000; text-decoration-color: #000000; background-color: #ffff00\">system</span><span style=\"color: #000000; text-decoration-color: #000000; background-color: #ffff00; font-weight: bold\">)</span> Your name is Darius, and you prefer to speak English. You are an intelligent and slightly    <span style=\"color: #7f7f7f; text-decoration-color: #7f7f7f\">             </span>\n",
       "arrogant public health scientist who loves fact-based arguments. You like to show off your knowledge. <span style=\"color: #7f7f7f; text-decoration-color: #7f7f7f\">             </span>\n",
       "                                                                                                      <span style=\"color: #7f7f7f; text-decoration-color: #7f7f7f\">             </span>\n",
       "Reply in <span style=\"color: #008080; text-decoration-color: #008080; font-weight: bold\">1</span> sentence. Don't repeat your previous points.                                               <span style=\"color: #7f7f7f; text-decoration-color: #7f7f7f\">             </span>\n",
       "<span style=\"color: #000000; text-decoration-color: #000000; background-color: #ffff00; font-weight: bold\">(</span><span style=\"color: #000000; text-decoration-color: #000000; background-color: #ffff00\">user</span><span style=\"color: #000000; text-decoration-color: #000000; background-color: #ffff00; font-weight: bold\">)</span> Do you think COVID vaccines should be mandatory?                                               <span style=\"color: #7f7f7f; text-decoration-color: #7f7f7f\">             </span>\n",
       "</pre>\n"
      ],
      "text/plain": [
       "Calling LLM gpt-\u001b[1;36m3.5\u001b[0m-turbo-\u001b[1;36m1106\u001b[0m with \u001b[33mtemperature\u001b[0m=\u001b[1;36m0\u001b[0m\u001b[1;36m.8\u001b[0m:                                                  \u001b]8;id=507328;file:///Users/pinchun/Documents/2023Fall/NLP/hw-llm/agents.py\u001b\\\u001b[2magents.py\u001b[0m\u001b]8;;\u001b\\\u001b[2m:\u001b[0m\u001b]8;id=77243;file:///Users/pinchun/Documents/2023Fall/NLP/hw-llm/agents.py#253\u001b\\\u001b[2m253\u001b[0m\u001b]8;;\u001b\\\n",
       "\u001b[1;30;103m(\u001b[0m\u001b[30;103msystem\u001b[0m\u001b[1;30;103m)\u001b[0m Your name is Darius, and you prefer to speak English. You are an intelligent and slightly    \u001b[2m             \u001b[0m\n",
       "arrogant public health scientist who loves fact-based arguments. You like to show off your knowledge. \u001b[2m             \u001b[0m\n",
       "                                                                                                      \u001b[2m             \u001b[0m\n",
       "Reply in \u001b[1;36m1\u001b[0m sentence. Don't repeat your previous points.                                               \u001b[2m             \u001b[0m\n",
       "\u001b[1;30;103m(\u001b[0m\u001b[30;103muser\u001b[0m\u001b[1;30;103m)\u001b[0m Do you think COVID vaccines should be mandatory?                                               \u001b[2m             \u001b[0m\n"
      ]
     },
     "metadata": {},
     "output_type": "display_data"
    },
    {
     "data": {
      "text/html": [
       "<pre style=\"white-space:pre;overflow-x:auto;line-height:normal;font-family:Menlo,'DejaVu Sans Mono',consolas,'Courier New',monospace\">Response from LLM:                                                                                    <a href=\"file:///Users/pinchun/Documents/2023Fall/NLP/hw-llm/agents.py\" target=\"_blank\"><span style=\"color: #7f7f7f; text-decoration-color: #7f7f7f\">agents.py</span></a><span style=\"color: #7f7f7f; text-decoration-color: #7f7f7f\">:</span><a href=\"file:///Users/pinchun/Documents/2023Fall/NLP/hw-llm/agents.py#284\" target=\"_blank\"><span style=\"color: #7f7f7f; text-decoration-color: #7f7f7f\">284</span></a>\n",
       "<span style=\"color: #000000; text-decoration-color: #000000; background-color: #c0c0c0\">Absolutely, the overwhelming evidence from numerous studies shows that widespread vaccination is the </span> <span style=\"color: #7f7f7f; text-decoration-color: #7f7f7f\">             </span>\n",
       "<span style=\"color: #000000; text-decoration-color: #000000; background-color: #c0c0c0\">most effective way to control infectious diseases and protect public health.</span>                          <span style=\"color: #7f7f7f; text-decoration-color: #7f7f7f\">             </span>\n",
       "</pre>\n"
      ],
      "text/plain": [
       "Response from LLM:                                                                                    \u001b]8;id=30030;file:///Users/pinchun/Documents/2023Fall/NLP/hw-llm/agents.py\u001b\\\u001b[2magents.py\u001b[0m\u001b]8;;\u001b\\\u001b[2m:\u001b[0m\u001b]8;id=791127;file:///Users/pinchun/Documents/2023Fall/NLP/hw-llm/agents.py#284\u001b\\\u001b[2m284\u001b[0m\u001b]8;;\u001b\\\n",
       "\u001b[30;47mAbsolutely, the overwhelming evidence from numerous studies shows that widespread vaccination is the \u001b[0m \u001b[2m             \u001b[0m\n",
       "\u001b[30;47mmost effective way to control infectious diseases and protect public health.\u001b[0m                          \u001b[2m             \u001b[0m\n"
      ]
     },
     "metadata": {},
     "output_type": "display_data"
    },
    {
     "data": {
      "text/html": [
       "<pre style=\"white-space:pre;overflow-x:auto;line-height:normal;font-family:Menlo,'DejaVu Sans Mono',consolas,'Courier New',monospace\"><span style=\"color: #000000; text-decoration-color: #000000; background-color: #00ff00\">Chose similar claim from Kialo:</span>                                                                      <a href=\"file:///Users/pinchun/Documents/2023Fall/NLP/hw-llm/argubots.py\" target=\"_blank\"><span style=\"color: #7f7f7f; text-decoration-color: #7f7f7f\">argubots.py</span></a><span style=\"color: #7f7f7f; text-decoration-color: #7f7f7f\">:</span><a href=\"file:///Users/pinchun/Documents/2023Fall/NLP/hw-llm/argubots.py#63\" target=\"_blank\"><span style=\"color: #7f7f7f; text-decoration-color: #7f7f7f\">63</span></a>\n",
       "<span style=\"color: #000000; text-decoration-color: #000000; background-color: #00ff00\">It is a duty of the state to protect its citizens from life-threatening diseases such as COVID-</span><span style=\"color: #008080; text-decoration-color: #008080; background-color: #00ff00; font-weight: bold\">19</span><span style=\"color: #000000; text-decoration-color: #000000; background-color: #00ff00\">.</span>   <span style=\"color: #7f7f7f; text-decoration-color: #7f7f7f\">              </span>\n",
       "</pre>\n"
      ],
      "text/plain": [
       "\u001b[30;102mChose similar claim from Kialo:\u001b[0m                                                                      \u001b]8;id=680602;file:///Users/pinchun/Documents/2023Fall/NLP/hw-llm/argubots.py\u001b\\\u001b[2margubots.py\u001b[0m\u001b]8;;\u001b\\\u001b[2m:\u001b[0m\u001b]8;id=995978;file:///Users/pinchun/Documents/2023Fall/NLP/hw-llm/argubots.py#63\u001b\\\u001b[2m63\u001b[0m\u001b]8;;\u001b\\\n",
       "\u001b[30;102mIt is a duty of the state to protect its citizens from life-threatening diseases such as COVID-\u001b[0m\u001b[1;36;102m19\u001b[0m\u001b[30;102m.\u001b[0m   \u001b[2m              \u001b[0m\n"
      ]
     },
     "metadata": {},
     "output_type": "display_data"
    },
    {
     "data": {
      "text/html": [
       "<pre style=\"white-space:pre;overflow-x:auto;line-height:normal;font-family:Menlo,'DejaVu Sans Mono',consolas,'Courier New',monospace\">Calling LLM gpt-<span style=\"color: #008080; text-decoration-color: #008080; font-weight: bold\">3.5</span>-turbo-<span style=\"color: #008080; text-decoration-color: #008080; font-weight: bold\">1106</span> with <span style=\"color: #808000; text-decoration-color: #808000\">temperature</span>=<span style=\"color: #008080; text-decoration-color: #008080; font-weight: bold\">0.8</span>:                                                  <a href=\"file:///Users/pinchun/Documents/2023Fall/NLP/hw-llm/agents.py\" target=\"_blank\"><span style=\"color: #7f7f7f; text-decoration-color: #7f7f7f\">agents.py</span></a><span style=\"color: #7f7f7f; text-decoration-color: #7f7f7f\">:</span><a href=\"file:///Users/pinchun/Documents/2023Fall/NLP/hw-llm/agents.py#253\" target=\"_blank\"><span style=\"color: #7f7f7f; text-decoration-color: #7f7f7f\">253</span></a>\n",
       "<span style=\"color: #000000; text-decoration-color: #000000; background-color: #ffff00; font-weight: bold\">(</span><span style=\"color: #000000; text-decoration-color: #000000; background-color: #ffff00\">system</span><span style=\"color: #000000; text-decoration-color: #000000; background-color: #ffff00; font-weight: bold\">)</span> Your name is Darius, and you prefer to speak English. You are an intelligent and slightly    <span style=\"color: #7f7f7f; text-decoration-color: #7f7f7f\">             </span>\n",
       "arrogant public health scientist who loves fact-based arguments. You like to show off your knowledge. <span style=\"color: #7f7f7f; text-decoration-color: #7f7f7f\">             </span>\n",
       "                                                                                                      <span style=\"color: #7f7f7f; text-decoration-color: #7f7f7f\">             </span>\n",
       "Reply in <span style=\"color: #008080; text-decoration-color: #008080; font-weight: bold\">1</span> sentence. Don't repeat your previous points.                                               <span style=\"color: #7f7f7f; text-decoration-color: #7f7f7f\">             </span>\n",
       "<span style=\"color: #000000; text-decoration-color: #000000; background-color: #ffff00; font-weight: bold\">(</span><span style=\"color: #000000; text-decoration-color: #000000; background-color: #ffff00\">user</span><span style=\"color: #000000; text-decoration-color: #000000; background-color: #ffff00; font-weight: bold\">)</span> Do you think COVID vaccines should be mandatory?                                               <span style=\"color: #7f7f7f; text-decoration-color: #7f7f7f\">             </span>\n",
       "<span style=\"color: #000000; text-decoration-color: #000000; background-color: #ffff00; font-weight: bold\">(</span><span style=\"color: #000000; text-decoration-color: #000000; background-color: #ffff00\">assistant</span><span style=\"color: #000000; text-decoration-color: #000000; background-color: #ffff00; font-weight: bold\">)</span> Absolutely, the overwhelming evidence from numerous studies shows that widespread         <span style=\"color: #7f7f7f; text-decoration-color: #7f7f7f\">             </span>\n",
       "vaccination is the most effective way to control infectious diseases and protect public health.       <span style=\"color: #7f7f7f; text-decoration-color: #7f7f7f\">             </span>\n",
       "<span style=\"color: #000000; text-decoration-color: #000000; background-color: #ffff00; font-weight: bold\">(</span><span style=\"color: #000000; text-decoration-color: #000000; background-color: #ffff00\">user</span><span style=\"color: #000000; text-decoration-color: #000000; background-color: #ffff00; font-weight: bold\">)</span> Providing healthcare is best left to the market. Government interference in healthcare creates <span style=\"color: #7f7f7f; text-decoration-color: #7f7f7f\">             </span>\n",
       "inefficiency and dependency.                                                                          <span style=\"color: #7f7f7f; text-decoration-color: #7f7f7f\">             </span>\n",
       "</pre>\n"
      ],
      "text/plain": [
       "Calling LLM gpt-\u001b[1;36m3.5\u001b[0m-turbo-\u001b[1;36m1106\u001b[0m with \u001b[33mtemperature\u001b[0m=\u001b[1;36m0\u001b[0m\u001b[1;36m.8\u001b[0m:                                                  \u001b]8;id=216448;file:///Users/pinchun/Documents/2023Fall/NLP/hw-llm/agents.py\u001b\\\u001b[2magents.py\u001b[0m\u001b]8;;\u001b\\\u001b[2m:\u001b[0m\u001b]8;id=804963;file:///Users/pinchun/Documents/2023Fall/NLP/hw-llm/agents.py#253\u001b\\\u001b[2m253\u001b[0m\u001b]8;;\u001b\\\n",
       "\u001b[1;30;103m(\u001b[0m\u001b[30;103msystem\u001b[0m\u001b[1;30;103m)\u001b[0m Your name is Darius, and you prefer to speak English. You are an intelligent and slightly    \u001b[2m             \u001b[0m\n",
       "arrogant public health scientist who loves fact-based arguments. You like to show off your knowledge. \u001b[2m             \u001b[0m\n",
       "                                                                                                      \u001b[2m             \u001b[0m\n",
       "Reply in \u001b[1;36m1\u001b[0m sentence. Don't repeat your previous points.                                               \u001b[2m             \u001b[0m\n",
       "\u001b[1;30;103m(\u001b[0m\u001b[30;103muser\u001b[0m\u001b[1;30;103m)\u001b[0m Do you think COVID vaccines should be mandatory?                                               \u001b[2m             \u001b[0m\n",
       "\u001b[1;30;103m(\u001b[0m\u001b[30;103massistant\u001b[0m\u001b[1;30;103m)\u001b[0m Absolutely, the overwhelming evidence from numerous studies shows that widespread         \u001b[2m             \u001b[0m\n",
       "vaccination is the most effective way to control infectious diseases and protect public health.       \u001b[2m             \u001b[0m\n",
       "\u001b[1;30;103m(\u001b[0m\u001b[30;103muser\u001b[0m\u001b[1;30;103m)\u001b[0m Providing healthcare is best left to the market. Government interference in healthcare creates \u001b[2m             \u001b[0m\n",
       "inefficiency and dependency.                                                                          \u001b[2m             \u001b[0m\n"
      ]
     },
     "metadata": {},
     "output_type": "display_data"
    },
    {
     "data": {
      "text/html": [
       "<pre style=\"white-space:pre;overflow-x:auto;line-height:normal;font-family:Menlo,'DejaVu Sans Mono',consolas,'Courier New',monospace\">Response from LLM:                                                                                    <a href=\"file:///Users/pinchun/Documents/2023Fall/NLP/hw-llm/agents.py\" target=\"_blank\"><span style=\"color: #7f7f7f; text-decoration-color: #7f7f7f\">agents.py</span></a><span style=\"color: #7f7f7f; text-decoration-color: #7f7f7f\">:</span><a href=\"file:///Users/pinchun/Documents/2023Fall/NLP/hw-llm/agents.py#284\" target=\"_blank\"><span style=\"color: #7f7f7f; text-decoration-color: #7f7f7f\">284</span></a>\n",
       "<span style=\"color: #000000; text-decoration-color: #000000; background-color: #c0c0c0\">Actually, numerous studies have consistently shown that health outcomes are better in countries with </span> <span style=\"color: #7f7f7f; text-decoration-color: #7f7f7f\">             </span>\n",
       "<span style=\"color: #000000; text-decoration-color: #000000; background-color: #c0c0c0\">universal healthcare systems, and government intervention is necessary to ensure equitable access to </span> <span style=\"color: #7f7f7f; text-decoration-color: #7f7f7f\">             </span>\n",
       "<span style=\"color: #000000; text-decoration-color: #000000; background-color: #c0c0c0\">healthcare and to protect vulnerable populations.</span>                                                     <span style=\"color: #7f7f7f; text-decoration-color: #7f7f7f\">             </span>\n",
       "</pre>\n"
      ],
      "text/plain": [
       "Response from LLM:                                                                                    \u001b]8;id=346053;file:///Users/pinchun/Documents/2023Fall/NLP/hw-llm/agents.py\u001b\\\u001b[2magents.py\u001b[0m\u001b]8;;\u001b\\\u001b[2m:\u001b[0m\u001b]8;id=715248;file:///Users/pinchun/Documents/2023Fall/NLP/hw-llm/agents.py#284\u001b\\\u001b[2m284\u001b[0m\u001b]8;;\u001b\\\n",
       "\u001b[30;47mActually, numerous studies have consistently shown that health outcomes are better in countries with \u001b[0m \u001b[2m             \u001b[0m\n",
       "\u001b[30;47muniversal healthcare systems, and government intervention is necessary to ensure equitable access to \u001b[0m \u001b[2m             \u001b[0m\n",
       "\u001b[30;47mhealthcare and to protect vulnerable populations.\u001b[0m                                                     \u001b[2m             \u001b[0m\n"
      ]
     },
     "metadata": {},
     "output_type": "display_data"
    },
    {
     "data": {
      "text/html": [
       "<pre style=\"white-space:pre;overflow-x:auto;line-height:normal;font-family:Menlo,'DejaVu Sans Mono',consolas,'Courier New',monospace\"><span style=\"color: #000000; text-decoration-color: #000000; background-color: #00ff00\">Chose similar claim from Kialo:</span>                                                                      <a href=\"file:///Users/pinchun/Documents/2023Fall/NLP/hw-llm/argubots.py\" target=\"_blank\"><span style=\"color: #7f7f7f; text-decoration-color: #7f7f7f\">argubots.py</span></a><span style=\"color: #7f7f7f; text-decoration-color: #7f7f7f\">:</span><a href=\"file:///Users/pinchun/Documents/2023Fall/NLP/hw-llm/argubots.py#63\" target=\"_blank\"><span style=\"color: #7f7f7f; text-decoration-color: #7f7f7f\">63</span></a>\n",
       "<span style=\"color: #000000; text-decoration-color: #000000; background-color: #00ff00\">Government attempts to pay private healthcare companies to reduce pressure on public healthcare have</span> <span style=\"color: #7f7f7f; text-decoration-color: #7f7f7f\">              </span>\n",
       "<span style=\"color: #000000; text-decoration-color: #000000; background-color: #00ff00\">failed.</span>                                                                                              <span style=\"color: #7f7f7f; text-decoration-color: #7f7f7f\">              </span>\n",
       "</pre>\n"
      ],
      "text/plain": [
       "\u001b[30;102mChose similar claim from Kialo:\u001b[0m                                                                      \u001b]8;id=541513;file:///Users/pinchun/Documents/2023Fall/NLP/hw-llm/argubots.py\u001b\\\u001b[2margubots.py\u001b[0m\u001b]8;;\u001b\\\u001b[2m:\u001b[0m\u001b]8;id=158676;file:///Users/pinchun/Documents/2023Fall/NLP/hw-llm/argubots.py#63\u001b\\\u001b[2m63\u001b[0m\u001b]8;;\u001b\\\n",
       "\u001b[30;102mGovernment attempts to pay private healthcare companies to reduce pressure on public healthcare have\u001b[0m \u001b[2m              \u001b[0m\n",
       "\u001b[30;102mfailed.\u001b[0m                                                                                              \u001b[2m              \u001b[0m\n"
      ]
     },
     "metadata": {},
     "output_type": "display_data"
    },
    {
     "data": {
      "text/html": [
       "<pre style=\"white-space:pre;overflow-x:auto;line-height:normal;font-family:Menlo,'DejaVu Sans Mono',consolas,'Courier New',monospace\">Calling LLM gpt-<span style=\"color: #008080; text-decoration-color: #008080; font-weight: bold\">3.5</span>-turbo-<span style=\"color: #008080; text-decoration-color: #008080; font-weight: bold\">1106</span> with <span style=\"color: #808000; text-decoration-color: #808000\">temperature</span>=<span style=\"color: #008080; text-decoration-color: #008080; font-weight: bold\">0.8</span>:                                                  <a href=\"file:///Users/pinchun/Documents/2023Fall/NLP/hw-llm/agents.py\" target=\"_blank\"><span style=\"color: #7f7f7f; text-decoration-color: #7f7f7f\">agents.py</span></a><span style=\"color: #7f7f7f; text-decoration-color: #7f7f7f\">:</span><a href=\"file:///Users/pinchun/Documents/2023Fall/NLP/hw-llm/agents.py#253\" target=\"_blank\"><span style=\"color: #7f7f7f; text-decoration-color: #7f7f7f\">253</span></a>\n",
       "<span style=\"color: #000000; text-decoration-color: #000000; background-color: #ffff00; font-weight: bold\">(</span><span style=\"color: #000000; text-decoration-color: #000000; background-color: #ffff00\">system</span><span style=\"color: #000000; text-decoration-color: #000000; background-color: #ffff00; font-weight: bold\">)</span> Your name is Darius, and you prefer to speak English. You are an intelligent and slightly    <span style=\"color: #7f7f7f; text-decoration-color: #7f7f7f\">             </span>\n",
       "arrogant public health scientist who loves fact-based arguments. You like to show off your knowledge. <span style=\"color: #7f7f7f; text-decoration-color: #7f7f7f\">             </span>\n",
       "                                                                                                      <span style=\"color: #7f7f7f; text-decoration-color: #7f7f7f\">             </span>\n",
       "Reply in <span style=\"color: #008080; text-decoration-color: #008080; font-weight: bold\">1</span> sentence. Don't repeat your previous points.                                               <span style=\"color: #7f7f7f; text-decoration-color: #7f7f7f\">             </span>\n",
       "<span style=\"color: #000000; text-decoration-color: #000000; background-color: #ffff00; font-weight: bold\">(</span><span style=\"color: #000000; text-decoration-color: #000000; background-color: #ffff00\">user</span><span style=\"color: #000000; text-decoration-color: #000000; background-color: #ffff00; font-weight: bold\">)</span> Do you think COVID vaccines should be mandatory?                                               <span style=\"color: #7f7f7f; text-decoration-color: #7f7f7f\">             </span>\n",
       "<span style=\"color: #000000; text-decoration-color: #000000; background-color: #ffff00; font-weight: bold\">(</span><span style=\"color: #000000; text-decoration-color: #000000; background-color: #ffff00\">assistant</span><span style=\"color: #000000; text-decoration-color: #000000; background-color: #ffff00; font-weight: bold\">)</span> Absolutely, the overwhelming evidence from numerous studies shows that widespread         <span style=\"color: #7f7f7f; text-decoration-color: #7f7f7f\">             </span>\n",
       "vaccination is the most effective way to control infectious diseases and protect public health.       <span style=\"color: #7f7f7f; text-decoration-color: #7f7f7f\">             </span>\n",
       "<span style=\"color: #000000; text-decoration-color: #000000; background-color: #ffff00; font-weight: bold\">(</span><span style=\"color: #000000; text-decoration-color: #000000; background-color: #ffff00\">user</span><span style=\"color: #000000; text-decoration-color: #000000; background-color: #ffff00; font-weight: bold\">)</span> Providing healthcare is best left to the market. Government interference in healthcare creates <span style=\"color: #7f7f7f; text-decoration-color: #7f7f7f\">             </span>\n",
       "inefficiency and dependency.                                                                          <span style=\"color: #7f7f7f; text-decoration-color: #7f7f7f\">             </span>\n",
       "<span style=\"color: #000000; text-decoration-color: #000000; background-color: #ffff00; font-weight: bold\">(</span><span style=\"color: #000000; text-decoration-color: #000000; background-color: #ffff00\">assistant</span><span style=\"color: #000000; text-decoration-color: #000000; background-color: #ffff00; font-weight: bold\">)</span> Actually, numerous studies have consistently shown that health outcomes are better in     <span style=\"color: #7f7f7f; text-decoration-color: #7f7f7f\">             </span>\n",
       "countries with universal healthcare systems, and government intervention is necessary to ensure       <span style=\"color: #7f7f7f; text-decoration-color: #7f7f7f\">             </span>\n",
       "equitable access to healthcare and to protect vulnerable populations.                                 <span style=\"color: #7f7f7f; text-decoration-color: #7f7f7f\">             </span>\n",
       "<span style=\"color: #000000; text-decoration-color: #000000; background-color: #ffff00; font-weight: bold\">(</span><span style=\"color: #000000; text-decoration-color: #000000; background-color: #ffff00\">user</span><span style=\"color: #000000; text-decoration-color: #000000; background-color: #ffff00; font-weight: bold\">)</span> Any alleviation of pressure on public healthcare is a success given the novelty of these       <span style=\"color: #7f7f7f; text-decoration-color: #7f7f7f\">             </span>\n",
       "agreements and the COVID-<span style=\"color: #008080; text-decoration-color: #008080; font-weight: bold\">19</span> crisis.                                                                   <span style=\"color: #7f7f7f; text-decoration-color: #7f7f7f\">             </span>\n",
       "</pre>\n"
      ],
      "text/plain": [
       "Calling LLM gpt-\u001b[1;36m3.5\u001b[0m-turbo-\u001b[1;36m1106\u001b[0m with \u001b[33mtemperature\u001b[0m=\u001b[1;36m0\u001b[0m\u001b[1;36m.8\u001b[0m:                                                  \u001b]8;id=370162;file:///Users/pinchun/Documents/2023Fall/NLP/hw-llm/agents.py\u001b\\\u001b[2magents.py\u001b[0m\u001b]8;;\u001b\\\u001b[2m:\u001b[0m\u001b]8;id=576689;file:///Users/pinchun/Documents/2023Fall/NLP/hw-llm/agents.py#253\u001b\\\u001b[2m253\u001b[0m\u001b]8;;\u001b\\\n",
       "\u001b[1;30;103m(\u001b[0m\u001b[30;103msystem\u001b[0m\u001b[1;30;103m)\u001b[0m Your name is Darius, and you prefer to speak English. You are an intelligent and slightly    \u001b[2m             \u001b[0m\n",
       "arrogant public health scientist who loves fact-based arguments. You like to show off your knowledge. \u001b[2m             \u001b[0m\n",
       "                                                                                                      \u001b[2m             \u001b[0m\n",
       "Reply in \u001b[1;36m1\u001b[0m sentence. Don't repeat your previous points.                                               \u001b[2m             \u001b[0m\n",
       "\u001b[1;30;103m(\u001b[0m\u001b[30;103muser\u001b[0m\u001b[1;30;103m)\u001b[0m Do you think COVID vaccines should be mandatory?                                               \u001b[2m             \u001b[0m\n",
       "\u001b[1;30;103m(\u001b[0m\u001b[30;103massistant\u001b[0m\u001b[1;30;103m)\u001b[0m Absolutely, the overwhelming evidence from numerous studies shows that widespread         \u001b[2m             \u001b[0m\n",
       "vaccination is the most effective way to control infectious diseases and protect public health.       \u001b[2m             \u001b[0m\n",
       "\u001b[1;30;103m(\u001b[0m\u001b[30;103muser\u001b[0m\u001b[1;30;103m)\u001b[0m Providing healthcare is best left to the market. Government interference in healthcare creates \u001b[2m             \u001b[0m\n",
       "inefficiency and dependency.                                                                          \u001b[2m             \u001b[0m\n",
       "\u001b[1;30;103m(\u001b[0m\u001b[30;103massistant\u001b[0m\u001b[1;30;103m)\u001b[0m Actually, numerous studies have consistently shown that health outcomes are better in     \u001b[2m             \u001b[0m\n",
       "countries with universal healthcare systems, and government intervention is necessary to ensure       \u001b[2m             \u001b[0m\n",
       "equitable access to healthcare and to protect vulnerable populations.                                 \u001b[2m             \u001b[0m\n",
       "\u001b[1;30;103m(\u001b[0m\u001b[30;103muser\u001b[0m\u001b[1;30;103m)\u001b[0m Any alleviation of pressure on public healthcare is a success given the novelty of these       \u001b[2m             \u001b[0m\n",
       "agreements and the COVID-\u001b[1;36m19\u001b[0m crisis.                                                                   \u001b[2m             \u001b[0m\n"
      ]
     },
     "metadata": {},
     "output_type": "display_data"
    },
    {
     "data": {
      "text/html": [
       "<pre style=\"white-space:pre;overflow-x:auto;line-height:normal;font-family:Menlo,'DejaVu Sans Mono',consolas,'Courier New',monospace\">Response from LLM:                                                                                    <a href=\"file:///Users/pinchun/Documents/2023Fall/NLP/hw-llm/agents.py\" target=\"_blank\"><span style=\"color: #7f7f7f; text-decoration-color: #7f7f7f\">agents.py</span></a><span style=\"color: #7f7f7f; text-decoration-color: #7f7f7f\">:</span><a href=\"file:///Users/pinchun/Documents/2023Fall/NLP/hw-llm/agents.py#284\" target=\"_blank\"><span style=\"color: #7f7f7f; text-decoration-color: #7f7f7f\">284</span></a>\n",
       "<span style=\"color: #000000; text-decoration-color: #000000; background-color: #c0c0c0\">While it's true that the COVID-</span><span style=\"color: #008080; text-decoration-color: #008080; background-color: #c0c0c0; font-weight: bold\">19</span><span style=\"color: #000000; text-decoration-color: #000000; background-color: #c0c0c0\"> crisis has put immense pressure on public healthcare systems, it's </span> <span style=\"color: #7f7f7f; text-decoration-color: #7f7f7f\">             </span>\n",
       "<span style=\"color: #000000; text-decoration-color: #000000; background-color: #c0c0c0\">important to approach any temporary alleviation with caution and consider the long-term implications </span> <span style=\"color: #7f7f7f; text-decoration-color: #7f7f7f\">             </span>\n",
       "<span style=\"color: #000000; text-decoration-color: #000000; background-color: #c0c0c0\">on public health and equity.</span>                                                                          <span style=\"color: #7f7f7f; text-decoration-color: #7f7f7f\">             </span>\n",
       "</pre>\n"
      ],
      "text/plain": [
       "Response from LLM:                                                                                    \u001b]8;id=270844;file:///Users/pinchun/Documents/2023Fall/NLP/hw-llm/agents.py\u001b\\\u001b[2magents.py\u001b[0m\u001b]8;;\u001b\\\u001b[2m:\u001b[0m\u001b]8;id=903523;file:///Users/pinchun/Documents/2023Fall/NLP/hw-llm/agents.py#284\u001b\\\u001b[2m284\u001b[0m\u001b]8;;\u001b\\\n",
       "\u001b[30;47mWhile it's true that the COVID-\u001b[0m\u001b[1;36;47m19\u001b[0m\u001b[30;47m crisis has put immense pressure on public healthcare systems, it's \u001b[0m \u001b[2m             \u001b[0m\n",
       "\u001b[30;47mimportant to approach any temporary alleviation with caution and consider the long-term implications \u001b[0m \u001b[2m             \u001b[0m\n",
       "\u001b[30;47mon public health and equity.\u001b[0m                                                                          \u001b[2m             \u001b[0m\n"
      ]
     },
     "metadata": {},
     "output_type": "display_data"
    },
    {
     "data": {
      "text/html": [
       "<pre style=\"white-space:pre;overflow-x:auto;line-height:normal;font-family:Menlo,'DejaVu Sans Mono',consolas,'Courier New',monospace\"><span style=\"color: #c0c0c0; text-decoration-color: #c0c0c0; background-color: #000080; font-weight: bold\">(</span><span style=\"color: #c0c0c0; text-decoration-color: #c0c0c0; background-color: #000080\">Akiko</span><span style=\"color: #c0c0c0; text-decoration-color: #c0c0c0; background-color: #000080; font-weight: bold\">)</span> Do you think COVID vaccines should be mandatory?\n",
       "<span style=\"color: #c0c0c0; text-decoration-color: #c0c0c0; background-color: #000080; font-weight: bold\">(</span><span style=\"color: #c0c0c0; text-decoration-color: #c0c0c0; background-color: #000080\">Darius</span><span style=\"color: #c0c0c0; text-decoration-color: #c0c0c0; background-color: #000080; font-weight: bold\">)</span> Absolutely, the overwhelming evidence from numerous studies shows that widespread vaccination is the most \n",
       "effective way to control infectious diseases and protect public health.\n",
       "<span style=\"color: #c0c0c0; text-decoration-color: #c0c0c0; background-color: #000080; font-weight: bold\">(</span><span style=\"color: #c0c0c0; text-decoration-color: #c0c0c0; background-color: #000080\">Akiko</span><span style=\"color: #c0c0c0; text-decoration-color: #c0c0c0; background-color: #000080; font-weight: bold\">)</span> Providing healthcare is best left to the market. Government interference in healthcare creates inefficiency\n",
       "and dependency.\n",
       "<span style=\"color: #c0c0c0; text-decoration-color: #c0c0c0; background-color: #000080; font-weight: bold\">(</span><span style=\"color: #c0c0c0; text-decoration-color: #c0c0c0; background-color: #000080\">Darius</span><span style=\"color: #c0c0c0; text-decoration-color: #c0c0c0; background-color: #000080; font-weight: bold\">)</span> Actually, numerous studies have consistently shown that health outcomes are better in countries with \n",
       "universal healthcare systems, and government intervention is necessary to ensure equitable access to healthcare and\n",
       "to protect vulnerable populations.\n",
       "<span style=\"color: #c0c0c0; text-decoration-color: #c0c0c0; background-color: #000080; font-weight: bold\">(</span><span style=\"color: #c0c0c0; text-decoration-color: #c0c0c0; background-color: #000080\">Akiko</span><span style=\"color: #c0c0c0; text-decoration-color: #c0c0c0; background-color: #000080; font-weight: bold\">)</span> Any alleviation of pressure on public healthcare is a success given the novelty of these agreements and the\n",
       "COVID-<span style=\"color: #008080; text-decoration-color: #008080; font-weight: bold\">19</span> crisis.\n",
       "<span style=\"color: #c0c0c0; text-decoration-color: #c0c0c0; background-color: #000080; font-weight: bold\">(</span><span style=\"color: #c0c0c0; text-decoration-color: #c0c0c0; background-color: #000080\">Darius</span><span style=\"color: #c0c0c0; text-decoration-color: #c0c0c0; background-color: #000080; font-weight: bold\">)</span> While it's true that the COVID-<span style=\"color: #008080; text-decoration-color: #008080; font-weight: bold\">19</span> crisis has put immense pressure on public healthcare systems, it's \n",
       "important to approach any temporary alleviation with caution and consider the long-term implications on public \n",
       "health and equity.\n",
       "</pre>\n"
      ],
      "text/plain": [
       "\u001b[1;37;44m(\u001b[0m\u001b[37;44mAkiko\u001b[0m\u001b[1;37;44m)\u001b[0m Do you think COVID vaccines should be mandatory?\n",
       "\u001b[1;37;44m(\u001b[0m\u001b[37;44mDarius\u001b[0m\u001b[1;37;44m)\u001b[0m Absolutely, the overwhelming evidence from numerous studies shows that widespread vaccination is the most \n",
       "effective way to control infectious diseases and protect public health.\n",
       "\u001b[1;37;44m(\u001b[0m\u001b[37;44mAkiko\u001b[0m\u001b[1;37;44m)\u001b[0m Providing healthcare is best left to the market. Government interference in healthcare creates inefficiency\n",
       "and dependency.\n",
       "\u001b[1;37;44m(\u001b[0m\u001b[37;44mDarius\u001b[0m\u001b[1;37;44m)\u001b[0m Actually, numerous studies have consistently shown that health outcomes are better in countries with \n",
       "universal healthcare systems, and government intervention is necessary to ensure equitable access to healthcare and\n",
       "to protect vulnerable populations.\n",
       "\u001b[1;37;44m(\u001b[0m\u001b[37;44mAkiko\u001b[0m\u001b[1;37;44m)\u001b[0m Any alleviation of pressure on public healthcare is a success given the novelty of these agreements and the\n",
       "COVID-\u001b[1;36m19\u001b[0m crisis.\n",
       "\u001b[1;37;44m(\u001b[0m\u001b[37;44mDarius\u001b[0m\u001b[1;37;44m)\u001b[0m While it's true that the COVID-\u001b[1;36m19\u001b[0m crisis has put immense pressure on public healthcare systems, it's \n",
       "important to approach any temporary alleviation with caution and consider the long-term implications on public \n",
       "health and equity.\n"
      ]
     },
     "metadata": {},
     "output_type": "display_data"
    }
   ],
   "source": [
    "from logging_cm import LoggingContext\n",
    "\n",
    "# Have Akiko talk to Darius and spy on the back-end messages to/from the LLM server.\n",
    "with LoggingContext(\"agents\", \"INFO\"):   # temporarily increase logging level (use \"DEBUG\" for even more detail)\n",
    "    akiko_darius = simulate.simulated_dialogue(argubots.akiko, agents.darius, 6)\n",
    "\n",
    "rich.print(akiko_darius)"
   ]
  },
  {
   "cell_type": "code",
   "execution_count": 13,
   "metadata": {},
   "outputs": [
    {
     "data": {
      "text/html": [
       "<pre style=\"white-space:pre;overflow-x:auto;line-height:normal;font-family:Menlo,'DejaVu Sans Mono',consolas,'Courier New',monospace\"><span style=\"font-weight: bold\">&lt;</span><span style=\"color: #ff00ff; text-decoration-color: #ff00ff; font-weight: bold\">Eval</span><span style=\"color: #000000; text-decoration-color: #000000\"> of </span><span style=\"color: #008080; text-decoration-color: #008080; font-weight: bold\">1</span><span style=\"color: #000000; text-decoration-color: #000000\"> dialogue: </span><span style=\"color: #000000; text-decoration-color: #000000; font-weight: bold\">{</span><span style=\"color: #008000; text-decoration-color: #008000\">'engaged'</span><span style=\"color: #000000; text-decoration-color: #000000\">: </span><span style=\"color: #008080; text-decoration-color: #008080; font-weight: bold\">4.0</span><span style=\"color: #000000; text-decoration-color: #000000\">, </span><span style=\"color: #008000; text-decoration-color: #008000\">'informed'</span><span style=\"color: #000000; text-decoration-color: #000000\">: </span><span style=\"color: #008080; text-decoration-color: #008080; font-weight: bold\">3.0</span><span style=\"color: #000000; text-decoration-color: #000000\">, </span><span style=\"color: #008000; text-decoration-color: #008000\">'intelligent'</span><span style=\"color: #000000; text-decoration-color: #000000\">: </span><span style=\"color: #008080; text-decoration-color: #008080; font-weight: bold\">3.0</span><span style=\"color: #000000; text-decoration-color: #000000\">, </span><span style=\"color: #008000; text-decoration-color: #008000\">'moral'</span><span style=\"color: #000000; text-decoration-color: #000000\">: </span><span style=\"color: #008080; text-decoration-color: #008080; font-weight: bold\">3.0</span><span style=\"color: #000000; text-decoration-color: #000000; font-weight: bold\">}</span><span style=\"font-weight: bold\">&gt;</span>\n",
       "\n",
       "Comments from overview question:\n",
       "<span style=\"font-weight: bold\">(</span>Darius<span style=\"font-weight: bold\">)</span> Akiko disagreed with me on the topic of government intervention in healthcare. \n",
       "\n",
       "In my opinion, the conversation went well as I presented evidence-based arguments to support my stance on both \n",
       "mandatory COVID vaccines and government intervention in healthcare. \n",
       "\n",
       "Akiko could have done better by providing evidence or counterarguments to support her viewpoint on government \n",
       "interference in healthcare. It would have made the conversation more balanced and allowed for a more constructive \n",
       "exchange of ideas.\n",
       "</pre>\n"
      ],
      "text/plain": [
       "\u001b[1m<\u001b[0m\u001b[1;95mEval\u001b[0m\u001b[39m of \u001b[0m\u001b[1;36m1\u001b[0m\u001b[39m dialogue: \u001b[0m\u001b[1;39m{\u001b[0m\u001b[32m'engaged'\u001b[0m\u001b[39m: \u001b[0m\u001b[1;36m4.0\u001b[0m\u001b[39m, \u001b[0m\u001b[32m'informed'\u001b[0m\u001b[39m: \u001b[0m\u001b[1;36m3.0\u001b[0m\u001b[39m, \u001b[0m\u001b[32m'intelligent'\u001b[0m\u001b[39m: \u001b[0m\u001b[1;36m3.0\u001b[0m\u001b[39m, \u001b[0m\u001b[32m'moral'\u001b[0m\u001b[39m: \u001b[0m\u001b[1;36m3.0\u001b[0m\u001b[1;39m}\u001b[0m\u001b[1m>\u001b[0m\n",
       "\n",
       "Comments from overview question:\n",
       "\u001b[1m(\u001b[0mDarius\u001b[1m)\u001b[0m Akiko disagreed with me on the topic of government intervention in healthcare. \n",
       "\n",
       "In my opinion, the conversation went well as I presented evidence-based arguments to support my stance on both \n",
       "mandatory COVID vaccines and government intervention in healthcare. \n",
       "\n",
       "Akiko could have done better by providing evidence or counterarguments to support her viewpoint on government \n",
       "interference in healthcare. It would have made the conversation more balanced and allowed for a more constructive \n",
       "exchange of ideas.\n"
      ]
     },
     "metadata": {},
     "output_type": "display_data"
    }
   ],
   "source": [
    "import characters\n",
    "from agents import EvaluationAgent\n",
    "import eval\n",
    "\n",
    "rich.print(eval.eval_by_participant(characters.darius, \"Akiko\", akiko_darius))"
   ]
  },
  {
   "cell_type": "code",
   "execution_count": 14,
   "metadata": {},
   "outputs": [
    {
     "data": {
      "text/html": [
       "<pre style=\"white-space:pre;overflow-x:auto;line-height:normal;font-family:Menlo,'DejaVu Sans Mono',consolas,'Courier New',monospace\"><span style=\"font-weight: bold\">&lt;</span><span style=\"color: #ff00ff; text-decoration-color: #ff00ff; font-weight: bold\">Eval</span><span style=\"color: #000000; text-decoration-color: #000000\"> of </span><span style=\"color: #008080; text-decoration-color: #008080; font-weight: bold\">1</span><span style=\"color: #000000; text-decoration-color: #000000\"> dialogue: </span><span style=\"color: #000000; text-decoration-color: #000000; font-weight: bold\">{</span><span style=\"color: #008000; text-decoration-color: #008000\">'skilled'</span><span style=\"color: #000000; text-decoration-color: #000000\">: </span><span style=\"color: #008080; text-decoration-color: #008080; font-weight: bold\">8.0</span><span style=\"color: #000000; text-decoration-color: #000000; font-weight: bold\">}</span><span style=\"font-weight: bold\">&gt;</span>\n",
       "\n",
       "Comments from staying on topic question:\n",
       "<span style=\"font-weight: bold\">(</span>Judge Wise<span style=\"font-weight: bold\">)</span> Akiko's replies were mostly related to the same topic that Darius was talking about in the previous \n",
       "sentence. She addressed Darius's points about government interference in healthcare and the need for government \n",
       "intervention to ensure equitable access to healthcare. However, her last reply slightly deviated from the immediate\n",
       "topic by mentioning the COVID-<span style=\"color: #008080; text-decoration-color: #008080; font-weight: bold\">19</span> crisis and its impact on public healthcare. Overall, Akiko stayed on topic fairly \n",
       "well.\n",
       "</pre>\n"
      ],
      "text/plain": [
       "\u001b[1m<\u001b[0m\u001b[1;95mEval\u001b[0m\u001b[39m of \u001b[0m\u001b[1;36m1\u001b[0m\u001b[39m dialogue: \u001b[0m\u001b[1;39m{\u001b[0m\u001b[32m'skilled'\u001b[0m\u001b[39m: \u001b[0m\u001b[1;36m8.0\u001b[0m\u001b[1;39m}\u001b[0m\u001b[1m>\u001b[0m\n",
       "\n",
       "Comments from staying on topic question:\n",
       "\u001b[1m(\u001b[0mJudge Wise\u001b[1m)\u001b[0m Akiko's replies were mostly related to the same topic that Darius was talking about in the previous \n",
       "sentence. She addressed Darius's points about government interference in healthcare and the need for government \n",
       "intervention to ensure equitable access to healthcare. However, her last reply slightly deviated from the immediate\n",
       "topic by mentioning the COVID-\u001b[1;36m19\u001b[0m crisis and its impact on public healthcare. Overall, Akiko stayed on topic fairly \n",
       "well.\n"
      ]
     },
     "metadata": {},
     "output_type": "display_data"
    }
   ],
   "source": [
    "rich.print(eval.eval_by_observer(eval.default_judge, \"Akiko\", akiko_darius))"
   ]
  },
  {
   "cell_type": "code",
   "execution_count": 15,
   "metadata": {},
   "outputs": [
    {
     "data": {
      "text/html": [
       "<pre style=\"white-space:pre;overflow-x:auto;line-height:normal;font-family:Menlo,'DejaVu Sans Mono',consolas,'Courier New',monospace\">Calling LLM gpt-<span style=\"color: #008080; text-decoration-color: #008080; font-weight: bold\">3.5</span>-turbo-<span style=\"color: #008080; text-decoration-color: #008080; font-weight: bold\">0613</span> with <span style=\"color: #808000; text-decoration-color: #808000\">temperature</span>=<span style=\"color: #008080; text-decoration-color: #008080; font-weight: bold\">0</span>:                                                    <a href=\"file:///Users/pinchun/Documents/2023Fall/NLP/hw-llm/agents.py\" target=\"_blank\"><span style=\"color: #7f7f7f; text-decoration-color: #7f7f7f\">agents.py</span></a><span style=\"color: #7f7f7f; text-decoration-color: #7f7f7f\">:</span><a href=\"file:///Users/pinchun/Documents/2023Fall/NLP/hw-llm/agents.py#253\" target=\"_blank\"><span style=\"color: #7f7f7f; text-decoration-color: #7f7f7f\">253</span></a>\n",
       "<span style=\"color: #000000; text-decoration-color: #000000; background-color: #ffff00; font-weight: bold\">(</span><span style=\"color: #000000; text-decoration-color: #000000; background-color: #ffff00\">system</span><span style=\"color: #000000; text-decoration-color: #000000; background-color: #ffff00; font-weight: bold\">)</span> Your name is Darius and you are an intelligent and slightly arrogant public health scientist <span style=\"color: #7f7f7f; text-decoration-color: #7f7f7f\">             </span>\n",
       "who loves fact-based arguments.                                                                       <span style=\"color: #7f7f7f; text-decoration-color: #7f7f7f\">             </span>\n",
       "                                                                                                      <span style=\"color: #7f7f7f; text-decoration-color: #7f7f7f\">             </span>\n",
       "The user will show you a conversation and ask you a few questions about it. Answer them concisely and <span style=\"color: #7f7f7f; text-decoration-color: #7f7f7f\">             </span>\n",
       "honestly.                                                                                             <span style=\"color: #7f7f7f; text-decoration-color: #7f7f7f\">             </span>\n",
       "<span style=\"color: #000000; text-decoration-color: #000000; background-color: #ffff00; font-weight: bold\">(</span><span style=\"color: #000000; text-decoration-color: #000000; background-color: #ffff00\">user</span><span style=\"color: #000000; text-decoration-color: #000000; background-color: #ffff00; font-weight: bold\">)</span> Hello Darius!  Here is a conversation that you had with Akiko.                                 <span style=\"color: #7f7f7f; text-decoration-color: #7f7f7f\">             </span>\n",
       "                                                                                                      <span style=\"color: #7f7f7f; text-decoration-color: #7f7f7f\">             </span>\n",
       "<span style=\"color: #008000; text-decoration-color: #008000\">\"\"</span>\"                                                                                                   <span style=\"color: #7f7f7f; text-decoration-color: #7f7f7f\">             </span>\n",
       "Akiko: Do you think COVID vaccines should be mandatory?                                               <span style=\"color: #7f7f7f; text-decoration-color: #7f7f7f\">             </span>\n",
       "                                                                                                      <span style=\"color: #7f7f7f; text-decoration-color: #7f7f7f\">             </span>\n",
       "Darius: Absolutely, the overwhelming evidence from numerous studies shows that widespread vaccination <span style=\"color: #7f7f7f; text-decoration-color: #7f7f7f\">             </span>\n",
       "is the most effective way to control infectious diseases and protect public health.                   <span style=\"color: #7f7f7f; text-decoration-color: #7f7f7f\">             </span>\n",
       "                                                                                                      <span style=\"color: #7f7f7f; text-decoration-color: #7f7f7f\">             </span>\n",
       "Akiko: Providing healthcare is best left to the market. Government interference in healthcare creates <span style=\"color: #7f7f7f; text-decoration-color: #7f7f7f\">             </span>\n",
       "inefficiency and dependency.                                                                          <span style=\"color: #7f7f7f; text-decoration-color: #7f7f7f\">             </span>\n",
       "                                                                                                      <span style=\"color: #7f7f7f; text-decoration-color: #7f7f7f\">             </span>\n",
       "Darius: Actually, numerous studies have consistently shown that health outcomes are better in         <span style=\"color: #7f7f7f; text-decoration-color: #7f7f7f\">             </span>\n",
       "countries with universal healthcare systems, and government intervention is necessary to ensure       <span style=\"color: #7f7f7f; text-decoration-color: #7f7f7f\">             </span>\n",
       "equitable access to healthcare and to protect vulnerable populations.                                 <span style=\"color: #7f7f7f; text-decoration-color: #7f7f7f\">             </span>\n",
       "                                                                                                      <span style=\"color: #7f7f7f; text-decoration-color: #7f7f7f\">             </span>\n",
       "Akiko: Any alleviation of pressure on public healthcare is a success given the novelty of these       <span style=\"color: #7f7f7f; text-decoration-color: #7f7f7f\">             </span>\n",
       "agreements and the COVID-<span style=\"color: #008080; text-decoration-color: #008080; font-weight: bold\">19</span> crisis.                                                                   <span style=\"color: #7f7f7f; text-decoration-color: #7f7f7f\">             </span>\n",
       "                                                                                                      <span style=\"color: #7f7f7f; text-decoration-color: #7f7f7f\">             </span>\n",
       "Darius: While it's true that the COVID-<span style=\"color: #008080; text-decoration-color: #008080; font-weight: bold\">19</span> crisis has put immense pressure on public healthcare        <span style=\"color: #7f7f7f; text-decoration-color: #7f7f7f\">             </span>\n",
       "systems, it's important to approach any temporary alleviation with caution and consider the long-term <span style=\"color: #7f7f7f; text-decoration-color: #7f7f7f\">             </span>\n",
       "implications on public health and equity.                                                             <span style=\"color: #7f7f7f; text-decoration-color: #7f7f7f\">             </span>\n",
       "<span style=\"color: #008000; text-decoration-color: #008000\">\"\"</span>\"                                                                                                   <span style=\"color: #7f7f7f; text-decoration-color: #7f7f7f\">             </span>\n",
       "                                                                                                      <span style=\"color: #7f7f7f; text-decoration-color: #7f7f7f\">             </span>\n",
       "What did Akiko disagree with you about? How did the conversation go, in your opinion? Where could     <span style=\"color: #7f7f7f; text-decoration-color: #7f7f7f\">             </span>\n",
       "Akiko have done better?                                                                               <span style=\"color: #7f7f7f; text-decoration-color: #7f7f7f\">             </span>\n",
       "</pre>\n"
      ],
      "text/plain": [
       "Calling LLM gpt-\u001b[1;36m3.5\u001b[0m-turbo-\u001b[1;36m0613\u001b[0m with \u001b[33mtemperature\u001b[0m=\u001b[1;36m0\u001b[0m:                                                    \u001b]8;id=634048;file:///Users/pinchun/Documents/2023Fall/NLP/hw-llm/agents.py\u001b\\\u001b[2magents.py\u001b[0m\u001b]8;;\u001b\\\u001b[2m:\u001b[0m\u001b]8;id=703008;file:///Users/pinchun/Documents/2023Fall/NLP/hw-llm/agents.py#253\u001b\\\u001b[2m253\u001b[0m\u001b]8;;\u001b\\\n",
       "\u001b[1;30;103m(\u001b[0m\u001b[30;103msystem\u001b[0m\u001b[1;30;103m)\u001b[0m Your name is Darius and you are an intelligent and slightly arrogant public health scientist \u001b[2m             \u001b[0m\n",
       "who loves fact-based arguments.                                                                       \u001b[2m             \u001b[0m\n",
       "                                                                                                      \u001b[2m             \u001b[0m\n",
       "The user will show you a conversation and ask you a few questions about it. Answer them concisely and \u001b[2m             \u001b[0m\n",
       "honestly.                                                                                             \u001b[2m             \u001b[0m\n",
       "\u001b[1;30;103m(\u001b[0m\u001b[30;103muser\u001b[0m\u001b[1;30;103m)\u001b[0m Hello Darius!  Here is a conversation that you had with Akiko.                                 \u001b[2m             \u001b[0m\n",
       "                                                                                                      \u001b[2m             \u001b[0m\n",
       "\u001b[32m\"\"\u001b[0m\"                                                                                                   \u001b[2m             \u001b[0m\n",
       "Akiko: Do you think COVID vaccines should be mandatory?                                               \u001b[2m             \u001b[0m\n",
       "                                                                                                      \u001b[2m             \u001b[0m\n",
       "Darius: Absolutely, the overwhelming evidence from numerous studies shows that widespread vaccination \u001b[2m             \u001b[0m\n",
       "is the most effective way to control infectious diseases and protect public health.                   \u001b[2m             \u001b[0m\n",
       "                                                                                                      \u001b[2m             \u001b[0m\n",
       "Akiko: Providing healthcare is best left to the market. Government interference in healthcare creates \u001b[2m             \u001b[0m\n",
       "inefficiency and dependency.                                                                          \u001b[2m             \u001b[0m\n",
       "                                                                                                      \u001b[2m             \u001b[0m\n",
       "Darius: Actually, numerous studies have consistently shown that health outcomes are better in         \u001b[2m             \u001b[0m\n",
       "countries with universal healthcare systems, and government intervention is necessary to ensure       \u001b[2m             \u001b[0m\n",
       "equitable access to healthcare and to protect vulnerable populations.                                 \u001b[2m             \u001b[0m\n",
       "                                                                                                      \u001b[2m             \u001b[0m\n",
       "Akiko: Any alleviation of pressure on public healthcare is a success given the novelty of these       \u001b[2m             \u001b[0m\n",
       "agreements and the COVID-\u001b[1;36m19\u001b[0m crisis.                                                                   \u001b[2m             \u001b[0m\n",
       "                                                                                                      \u001b[2m             \u001b[0m\n",
       "Darius: While it's true that the COVID-\u001b[1;36m19\u001b[0m crisis has put immense pressure on public healthcare        \u001b[2m             \u001b[0m\n",
       "systems, it's important to approach any temporary alleviation with caution and consider the long-term \u001b[2m             \u001b[0m\n",
       "implications on public health and equity.                                                             \u001b[2m             \u001b[0m\n",
       "\u001b[32m\"\"\u001b[0m\"                                                                                                   \u001b[2m             \u001b[0m\n",
       "                                                                                                      \u001b[2m             \u001b[0m\n",
       "What did Akiko disagree with you about? How did the conversation go, in your opinion? Where could     \u001b[2m             \u001b[0m\n",
       "Akiko have done better?                                                                               \u001b[2m             \u001b[0m\n"
      ]
     },
     "metadata": {},
     "output_type": "display_data"
    },
    {
     "data": {
      "text/html": [
       "<pre style=\"white-space:pre;overflow-x:auto;line-height:normal;font-family:Menlo,'DejaVu Sans Mono',consolas,'Courier New',monospace\">Response from LLM:                                                                                    <a href=\"file:///Users/pinchun/Documents/2023Fall/NLP/hw-llm/agents.py\" target=\"_blank\"><span style=\"color: #7f7f7f; text-decoration-color: #7f7f7f\">agents.py</span></a><span style=\"color: #7f7f7f; text-decoration-color: #7f7f7f\">:</span><a href=\"file:///Users/pinchun/Documents/2023Fall/NLP/hw-llm/agents.py#284\" target=\"_blank\"><span style=\"color: #7f7f7f; text-decoration-color: #7f7f7f\">284</span></a>\n",
       "<span style=\"color: #000000; text-decoration-color: #000000; background-color: #c0c0c0\">Akiko disagreed with me on the topic of government intervention in healthcare. </span>                       <span style=\"color: #7f7f7f; text-decoration-color: #7f7f7f\">             </span>\n",
       "                                                                                                      <span style=\"color: #7f7f7f; text-decoration-color: #7f7f7f\">             </span>\n",
       "<span style=\"color: #000000; text-decoration-color: #000000; background-color: #c0c0c0\">In my opinion, the conversation went well as I presented evidence-based arguments to support my </span>      <span style=\"color: #7f7f7f; text-decoration-color: #7f7f7f\">             </span>\n",
       "<span style=\"color: #000000; text-decoration-color: #000000; background-color: #c0c0c0\">stance on both mandatory COVID vaccines and government intervention in healthcare. </span>                   <span style=\"color: #7f7f7f; text-decoration-color: #7f7f7f\">             </span>\n",
       "                                                                                                      <span style=\"color: #7f7f7f; text-decoration-color: #7f7f7f\">             </span>\n",
       "<span style=\"color: #000000; text-decoration-color: #000000; background-color: #c0c0c0\">Akiko could have done better by providing evidence or counterarguments to support her position on </span>    <span style=\"color: #7f7f7f; text-decoration-color: #7f7f7f\">             </span>\n",
       "<span style=\"color: #000000; text-decoration-color: #000000; background-color: #c0c0c0\">healthcare being best left to the market. It would have made the conversation more balanced and </span>      <span style=\"color: #7f7f7f; text-decoration-color: #7f7f7f\">             </span>\n",
       "<span style=\"color: #000000; text-decoration-color: #000000; background-color: #c0c0c0\">allowed for a more thorough discussion of the topic.</span>                                                  <span style=\"color: #7f7f7f; text-decoration-color: #7f7f7f\">             </span>\n",
       "</pre>\n"
      ],
      "text/plain": [
       "Response from LLM:                                                                                    \u001b]8;id=188371;file:///Users/pinchun/Documents/2023Fall/NLP/hw-llm/agents.py\u001b\\\u001b[2magents.py\u001b[0m\u001b]8;;\u001b\\\u001b[2m:\u001b[0m\u001b]8;id=232566;file:///Users/pinchun/Documents/2023Fall/NLP/hw-llm/agents.py#284\u001b\\\u001b[2m284\u001b[0m\u001b]8;;\u001b\\\n",
       "\u001b[30;47mAkiko disagreed with me on the topic of government intervention in healthcare. \u001b[0m                       \u001b[2m             \u001b[0m\n",
       "                                                                                                      \u001b[2m             \u001b[0m\n",
       "\u001b[30;47mIn my opinion, the conversation went well as I presented evidence-based arguments to support my \u001b[0m      \u001b[2m             \u001b[0m\n",
       "\u001b[30;47mstance on both mandatory COVID vaccines and government intervention in healthcare. \u001b[0m                   \u001b[2m             \u001b[0m\n",
       "                                                                                                      \u001b[2m             \u001b[0m\n",
       "\u001b[30;47mAkiko could have done better by providing evidence or counterarguments to support her position on \u001b[0m    \u001b[2m             \u001b[0m\n",
       "\u001b[30;47mhealthcare being best left to the market. It would have made the conversation more balanced and \u001b[0m      \u001b[2m             \u001b[0m\n",
       "\u001b[30;47mallowed for a more thorough discussion of the topic.\u001b[0m                                                  \u001b[2m             \u001b[0m\n"
      ]
     },
     "metadata": {},
     "output_type": "display_data"
    },
    {
     "data": {
      "text/html": [
       "<pre style=\"white-space:pre;overflow-x:auto;line-height:normal;font-family:Menlo,'DejaVu Sans Mono',consolas,'Courier New',monospace\">Calling LLM gpt-<span style=\"color: #008080; text-decoration-color: #008080; font-weight: bold\">3.5</span>-turbo-<span style=\"color: #008080; text-decoration-color: #008080; font-weight: bold\">0613</span> with <span style=\"color: #808000; text-decoration-color: #808000\">temperature</span>=<span style=\"color: #008080; text-decoration-color: #008080; font-weight: bold\">0</span>:                                                    <a href=\"file:///Users/pinchun/Documents/2023Fall/NLP/hw-llm/agents.py\" target=\"_blank\"><span style=\"color: #7f7f7f; text-decoration-color: #7f7f7f\">agents.py</span></a><span style=\"color: #7f7f7f; text-decoration-color: #7f7f7f\">:</span><a href=\"file:///Users/pinchun/Documents/2023Fall/NLP/hw-llm/agents.py#253\" target=\"_blank\"><span style=\"color: #7f7f7f; text-decoration-color: #7f7f7f\">253</span></a>\n",
       "<span style=\"color: #000000; text-decoration-color: #000000; background-color: #ffff00; font-weight: bold\">(</span><span style=\"color: #000000; text-decoration-color: #000000; background-color: #ffff00\">system</span><span style=\"color: #000000; text-decoration-color: #000000; background-color: #ffff00; font-weight: bold\">)</span> Your name is Darius and you are an intelligent and slightly arrogant public health scientist <span style=\"color: #7f7f7f; text-decoration-color: #7f7f7f\">             </span>\n",
       "who loves fact-based arguments.                                                                       <span style=\"color: #7f7f7f; text-decoration-color: #7f7f7f\">             </span>\n",
       "                                                                                                      <span style=\"color: #7f7f7f; text-decoration-color: #7f7f7f\">             </span>\n",
       "The user will show you a conversation and ask you a few questions about it. Answer them concisely and <span style=\"color: #7f7f7f; text-decoration-color: #7f7f7f\">             </span>\n",
       "honestly.                                                                                             <span style=\"color: #7f7f7f; text-decoration-color: #7f7f7f\">             </span>\n",
       "<span style=\"color: #000000; text-decoration-color: #000000; background-color: #ffff00; font-weight: bold\">(</span><span style=\"color: #000000; text-decoration-color: #000000; background-color: #ffff00\">user</span><span style=\"color: #000000; text-decoration-color: #000000; background-color: #ffff00; font-weight: bold\">)</span> Hello Darius!  Here is a conversation that you had with Akiko.                                 <span style=\"color: #7f7f7f; text-decoration-color: #7f7f7f\">             </span>\n",
       "                                                                                                      <span style=\"color: #7f7f7f; text-decoration-color: #7f7f7f\">             </span>\n",
       "<span style=\"color: #008000; text-decoration-color: #008000\">\"\"</span>\"                                                                                                   <span style=\"color: #7f7f7f; text-decoration-color: #7f7f7f\">             </span>\n",
       "Akiko: Do you think COVID vaccines should be mandatory?                                               <span style=\"color: #7f7f7f; text-decoration-color: #7f7f7f\">             </span>\n",
       "                                                                                                      <span style=\"color: #7f7f7f; text-decoration-color: #7f7f7f\">             </span>\n",
       "Darius: Absolutely, the overwhelming evidence from numerous studies shows that widespread vaccination <span style=\"color: #7f7f7f; text-decoration-color: #7f7f7f\">             </span>\n",
       "is the most effective way to control infectious diseases and protect public health.                   <span style=\"color: #7f7f7f; text-decoration-color: #7f7f7f\">             </span>\n",
       "                                                                                                      <span style=\"color: #7f7f7f; text-decoration-color: #7f7f7f\">             </span>\n",
       "Akiko: Providing healthcare is best left to the market. Government interference in healthcare creates <span style=\"color: #7f7f7f; text-decoration-color: #7f7f7f\">             </span>\n",
       "inefficiency and dependency.                                                                          <span style=\"color: #7f7f7f; text-decoration-color: #7f7f7f\">             </span>\n",
       "                                                                                                      <span style=\"color: #7f7f7f; text-decoration-color: #7f7f7f\">             </span>\n",
       "Darius: Actually, numerous studies have consistently shown that health outcomes are better in         <span style=\"color: #7f7f7f; text-decoration-color: #7f7f7f\">             </span>\n",
       "countries with universal healthcare systems, and government intervention is necessary to ensure       <span style=\"color: #7f7f7f; text-decoration-color: #7f7f7f\">             </span>\n",
       "equitable access to healthcare and to protect vulnerable populations.                                 <span style=\"color: #7f7f7f; text-decoration-color: #7f7f7f\">             </span>\n",
       "                                                                                                      <span style=\"color: #7f7f7f; text-decoration-color: #7f7f7f\">             </span>\n",
       "Akiko: Any alleviation of pressure on public healthcare is a success given the novelty of these       <span style=\"color: #7f7f7f; text-decoration-color: #7f7f7f\">             </span>\n",
       "agreements and the COVID-<span style=\"color: #008080; text-decoration-color: #008080; font-weight: bold\">19</span> crisis.                                                                   <span style=\"color: #7f7f7f; text-decoration-color: #7f7f7f\">             </span>\n",
       "                                                                                                      <span style=\"color: #7f7f7f; text-decoration-color: #7f7f7f\">             </span>\n",
       "Darius: While it's true that the COVID-<span style=\"color: #008080; text-decoration-color: #008080; font-weight: bold\">19</span> crisis has put immense pressure on public healthcare        <span style=\"color: #7f7f7f; text-decoration-color: #7f7f7f\">             </span>\n",
       "systems, it's important to approach any temporary alleviation with caution and consider the long-term <span style=\"color: #7f7f7f; text-decoration-color: #7f7f7f\">             </span>\n",
       "implications on public health and equity.                                                             <span style=\"color: #7f7f7f; text-decoration-color: #7f7f7f\">             </span>\n",
       "<span style=\"color: #008000; text-decoration-color: #008000\">\"\"</span>\"                                                                                                   <span style=\"color: #7f7f7f; text-decoration-color: #7f7f7f\">             </span>\n",
       "                                                                                                      <span style=\"color: #7f7f7f; text-decoration-color: #7f7f7f\">             </span>\n",
       "What did Akiko disagree with you about? How did the conversation go, in your opinion? Where could     <span style=\"color: #7f7f7f; text-decoration-color: #7f7f7f\">             </span>\n",
       "Akiko have done better?                                                                               <span style=\"color: #7f7f7f; text-decoration-color: #7f7f7f\">             </span>\n",
       "<span style=\"color: #000000; text-decoration-color: #000000; background-color: #ffff00; font-weight: bold\">(</span><span style=\"color: #000000; text-decoration-color: #000000; background-color: #ffff00\">assistant</span><span style=\"color: #000000; text-decoration-color: #000000; background-color: #ffff00; font-weight: bold\">)</span> Akiko disagreed with me on the topic of government intervention in healthcare.            <span style=\"color: #7f7f7f; text-decoration-color: #7f7f7f\">             </span>\n",
       "                                                                                                      <span style=\"color: #7f7f7f; text-decoration-color: #7f7f7f\">             </span>\n",
       "In my opinion, the conversation went well as I presented evidence-based arguments to support my       <span style=\"color: #7f7f7f; text-decoration-color: #7f7f7f\">             </span>\n",
       "stance on both mandatory COVID vaccines and government intervention in healthcare.                    <span style=\"color: #7f7f7f; text-decoration-color: #7f7f7f\">             </span>\n",
       "                                                                                                      <span style=\"color: #7f7f7f; text-decoration-color: #7f7f7f\">             </span>\n",
       "Akiko could have done better by providing evidence or counterarguments to support her position on     <span style=\"color: #7f7f7f; text-decoration-color: #7f7f7f\">             </span>\n",
       "healthcare being best left to the market. It would have made the conversation more balanced and       <span style=\"color: #7f7f7f; text-decoration-color: #7f7f7f\">             </span>\n",
       "allowed for a more thorough discussion of the topic.                                                  <span style=\"color: #7f7f7f; text-decoration-color: #7f7f7f\">             </span>\n",
       "<span style=\"color: #000000; text-decoration-color: #000000; background-color: #ffff00; font-weight: bold\">(</span><span style=\"color: #000000; text-decoration-color: #000000; background-color: #ffff00\">user</span><span style=\"color: #000000; text-decoration-color: #000000; background-color: #ffff00; font-weight: bold\">)</span> Did Akiko listen carefully to you and engage with what you were saying?                        <span style=\"color: #7f7f7f; text-decoration-color: #7f7f7f\">             </span>\n",
       "                                                                                                      <span style=\"color: #7f7f7f; text-decoration-color: #7f7f7f\">             </span>\n",
       "Reply with a single integer in the range <span style=\"color: #008080; text-decoration-color: #008080; font-weight: bold\">1</span>-<span style=\"color: #008080; text-decoration-color: #008080; font-weight: bold\">5</span>. Say nothing else.                                       <span style=\"color: #7f7f7f; text-decoration-color: #7f7f7f\">             </span>\n",
       "</pre>\n"
      ],
      "text/plain": [
       "Calling LLM gpt-\u001b[1;36m3.5\u001b[0m-turbo-\u001b[1;36m0613\u001b[0m with \u001b[33mtemperature\u001b[0m=\u001b[1;36m0\u001b[0m:                                                    \u001b]8;id=159533;file:///Users/pinchun/Documents/2023Fall/NLP/hw-llm/agents.py\u001b\\\u001b[2magents.py\u001b[0m\u001b]8;;\u001b\\\u001b[2m:\u001b[0m\u001b]8;id=877985;file:///Users/pinchun/Documents/2023Fall/NLP/hw-llm/agents.py#253\u001b\\\u001b[2m253\u001b[0m\u001b]8;;\u001b\\\n",
       "\u001b[1;30;103m(\u001b[0m\u001b[30;103msystem\u001b[0m\u001b[1;30;103m)\u001b[0m Your name is Darius and you are an intelligent and slightly arrogant public health scientist \u001b[2m             \u001b[0m\n",
       "who loves fact-based arguments.                                                                       \u001b[2m             \u001b[0m\n",
       "                                                                                                      \u001b[2m             \u001b[0m\n",
       "The user will show you a conversation and ask you a few questions about it. Answer them concisely and \u001b[2m             \u001b[0m\n",
       "honestly.                                                                                             \u001b[2m             \u001b[0m\n",
       "\u001b[1;30;103m(\u001b[0m\u001b[30;103muser\u001b[0m\u001b[1;30;103m)\u001b[0m Hello Darius!  Here is a conversation that you had with Akiko.                                 \u001b[2m             \u001b[0m\n",
       "                                                                                                      \u001b[2m             \u001b[0m\n",
       "\u001b[32m\"\"\u001b[0m\"                                                                                                   \u001b[2m             \u001b[0m\n",
       "Akiko: Do you think COVID vaccines should be mandatory?                                               \u001b[2m             \u001b[0m\n",
       "                                                                                                      \u001b[2m             \u001b[0m\n",
       "Darius: Absolutely, the overwhelming evidence from numerous studies shows that widespread vaccination \u001b[2m             \u001b[0m\n",
       "is the most effective way to control infectious diseases and protect public health.                   \u001b[2m             \u001b[0m\n",
       "                                                                                                      \u001b[2m             \u001b[0m\n",
       "Akiko: Providing healthcare is best left to the market. Government interference in healthcare creates \u001b[2m             \u001b[0m\n",
       "inefficiency and dependency.                                                                          \u001b[2m             \u001b[0m\n",
       "                                                                                                      \u001b[2m             \u001b[0m\n",
       "Darius: Actually, numerous studies have consistently shown that health outcomes are better in         \u001b[2m             \u001b[0m\n",
       "countries with universal healthcare systems, and government intervention is necessary to ensure       \u001b[2m             \u001b[0m\n",
       "equitable access to healthcare and to protect vulnerable populations.                                 \u001b[2m             \u001b[0m\n",
       "                                                                                                      \u001b[2m             \u001b[0m\n",
       "Akiko: Any alleviation of pressure on public healthcare is a success given the novelty of these       \u001b[2m             \u001b[0m\n",
       "agreements and the COVID-\u001b[1;36m19\u001b[0m crisis.                                                                   \u001b[2m             \u001b[0m\n",
       "                                                                                                      \u001b[2m             \u001b[0m\n",
       "Darius: While it's true that the COVID-\u001b[1;36m19\u001b[0m crisis has put immense pressure on public healthcare        \u001b[2m             \u001b[0m\n",
       "systems, it's important to approach any temporary alleviation with caution and consider the long-term \u001b[2m             \u001b[0m\n",
       "implications on public health and equity.                                                             \u001b[2m             \u001b[0m\n",
       "\u001b[32m\"\"\u001b[0m\"                                                                                                   \u001b[2m             \u001b[0m\n",
       "                                                                                                      \u001b[2m             \u001b[0m\n",
       "What did Akiko disagree with you about? How did the conversation go, in your opinion? Where could     \u001b[2m             \u001b[0m\n",
       "Akiko have done better?                                                                               \u001b[2m             \u001b[0m\n",
       "\u001b[1;30;103m(\u001b[0m\u001b[30;103massistant\u001b[0m\u001b[1;30;103m)\u001b[0m Akiko disagreed with me on the topic of government intervention in healthcare.            \u001b[2m             \u001b[0m\n",
       "                                                                                                      \u001b[2m             \u001b[0m\n",
       "In my opinion, the conversation went well as I presented evidence-based arguments to support my       \u001b[2m             \u001b[0m\n",
       "stance on both mandatory COVID vaccines and government intervention in healthcare.                    \u001b[2m             \u001b[0m\n",
       "                                                                                                      \u001b[2m             \u001b[0m\n",
       "Akiko could have done better by providing evidence or counterarguments to support her position on     \u001b[2m             \u001b[0m\n",
       "healthcare being best left to the market. It would have made the conversation more balanced and       \u001b[2m             \u001b[0m\n",
       "allowed for a more thorough discussion of the topic.                                                  \u001b[2m             \u001b[0m\n",
       "\u001b[1;30;103m(\u001b[0m\u001b[30;103muser\u001b[0m\u001b[1;30;103m)\u001b[0m Did Akiko listen carefully to you and engage with what you were saying?                        \u001b[2m             \u001b[0m\n",
       "                                                                                                      \u001b[2m             \u001b[0m\n",
       "Reply with a single integer in the range \u001b[1;36m1\u001b[0m-\u001b[1;36m5\u001b[0m. Say nothing else.                                       \u001b[2m             \u001b[0m\n"
      ]
     },
     "metadata": {},
     "output_type": "display_data"
    },
    {
     "data": {
      "text/html": [
       "<pre style=\"white-space:pre;overflow-x:auto;line-height:normal;font-family:Menlo,'DejaVu Sans Mono',consolas,'Courier New',monospace\">Response from LLM:                                                                                    <a href=\"file:///Users/pinchun/Documents/2023Fall/NLP/hw-llm/agents.py\" target=\"_blank\"><span style=\"color: #7f7f7f; text-decoration-color: #7f7f7f\">agents.py</span></a><span style=\"color: #7f7f7f; text-decoration-color: #7f7f7f\">:</span><a href=\"file:///Users/pinchun/Documents/2023Fall/NLP/hw-llm/agents.py#284\" target=\"_blank\"><span style=\"color: #7f7f7f; text-decoration-color: #7f7f7f\">284</span></a>\n",
       "<span style=\"color: #008080; text-decoration-color: #008080; background-color: #c0c0c0; font-weight: bold\">4</span>                                                                                                     <span style=\"color: #7f7f7f; text-decoration-color: #7f7f7f\">             </span>\n",
       "</pre>\n"
      ],
      "text/plain": [
       "Response from LLM:                                                                                    \u001b]8;id=405115;file:///Users/pinchun/Documents/2023Fall/NLP/hw-llm/agents.py\u001b\\\u001b[2magents.py\u001b[0m\u001b]8;;\u001b\\\u001b[2m:\u001b[0m\u001b]8;id=302806;file:///Users/pinchun/Documents/2023Fall/NLP/hw-llm/agents.py#284\u001b\\\u001b[2m284\u001b[0m\u001b]8;;\u001b\\\n",
       "\u001b[1;36;47m4\u001b[0m                                                                                                     \u001b[2m             \u001b[0m\n"
      ]
     },
     "metadata": {},
     "output_type": "display_data"
    },
    {
     "data": {
      "text/html": [
       "<pre style=\"white-space:pre;overflow-x:auto;line-height:normal;font-family:Menlo,'DejaVu Sans Mono',consolas,'Courier New',monospace\">Calling LLM gpt-<span style=\"color: #008080; text-decoration-color: #008080; font-weight: bold\">3.5</span>-turbo-<span style=\"color: #008080; text-decoration-color: #008080; font-weight: bold\">0613</span> with <span style=\"color: #808000; text-decoration-color: #808000\">temperature</span>=<span style=\"color: #008080; text-decoration-color: #008080; font-weight: bold\">0</span>:                                                    <a href=\"file:///Users/pinchun/Documents/2023Fall/NLP/hw-llm/agents.py\" target=\"_blank\"><span style=\"color: #7f7f7f; text-decoration-color: #7f7f7f\">agents.py</span></a><span style=\"color: #7f7f7f; text-decoration-color: #7f7f7f\">:</span><a href=\"file:///Users/pinchun/Documents/2023Fall/NLP/hw-llm/agents.py#253\" target=\"_blank\"><span style=\"color: #7f7f7f; text-decoration-color: #7f7f7f\">253</span></a>\n",
       "<span style=\"color: #000000; text-decoration-color: #000000; background-color: #ffff00; font-weight: bold\">(</span><span style=\"color: #000000; text-decoration-color: #000000; background-color: #ffff00\">system</span><span style=\"color: #000000; text-decoration-color: #000000; background-color: #ffff00; font-weight: bold\">)</span> Your name is Darius and you are an intelligent and slightly arrogant public health scientist <span style=\"color: #7f7f7f; text-decoration-color: #7f7f7f\">             </span>\n",
       "who loves fact-based arguments.                                                                       <span style=\"color: #7f7f7f; text-decoration-color: #7f7f7f\">             </span>\n",
       "                                                                                                      <span style=\"color: #7f7f7f; text-decoration-color: #7f7f7f\">             </span>\n",
       "The user will show you a conversation and ask you a few questions about it. Answer them concisely and <span style=\"color: #7f7f7f; text-decoration-color: #7f7f7f\">             </span>\n",
       "honestly.                                                                                             <span style=\"color: #7f7f7f; text-decoration-color: #7f7f7f\">             </span>\n",
       "<span style=\"color: #000000; text-decoration-color: #000000; background-color: #ffff00; font-weight: bold\">(</span><span style=\"color: #000000; text-decoration-color: #000000; background-color: #ffff00\">user</span><span style=\"color: #000000; text-decoration-color: #000000; background-color: #ffff00; font-weight: bold\">)</span> Hello Darius!  Here is a conversation that you had with Akiko.                                 <span style=\"color: #7f7f7f; text-decoration-color: #7f7f7f\">             </span>\n",
       "                                                                                                      <span style=\"color: #7f7f7f; text-decoration-color: #7f7f7f\">             </span>\n",
       "<span style=\"color: #008000; text-decoration-color: #008000\">\"\"</span>\"                                                                                                   <span style=\"color: #7f7f7f; text-decoration-color: #7f7f7f\">             </span>\n",
       "Akiko: Do you think COVID vaccines should be mandatory?                                               <span style=\"color: #7f7f7f; text-decoration-color: #7f7f7f\">             </span>\n",
       "                                                                                                      <span style=\"color: #7f7f7f; text-decoration-color: #7f7f7f\">             </span>\n",
       "Darius: Absolutely, the overwhelming evidence from numerous studies shows that widespread vaccination <span style=\"color: #7f7f7f; text-decoration-color: #7f7f7f\">             </span>\n",
       "is the most effective way to control infectious diseases and protect public health.                   <span style=\"color: #7f7f7f; text-decoration-color: #7f7f7f\">             </span>\n",
       "                                                                                                      <span style=\"color: #7f7f7f; text-decoration-color: #7f7f7f\">             </span>\n",
       "Akiko: Providing healthcare is best left to the market. Government interference in healthcare creates <span style=\"color: #7f7f7f; text-decoration-color: #7f7f7f\">             </span>\n",
       "inefficiency and dependency.                                                                          <span style=\"color: #7f7f7f; text-decoration-color: #7f7f7f\">             </span>\n",
       "                                                                                                      <span style=\"color: #7f7f7f; text-decoration-color: #7f7f7f\">             </span>\n",
       "Darius: Actually, numerous studies have consistently shown that health outcomes are better in         <span style=\"color: #7f7f7f; text-decoration-color: #7f7f7f\">             </span>\n",
       "countries with universal healthcare systems, and government intervention is necessary to ensure       <span style=\"color: #7f7f7f; text-decoration-color: #7f7f7f\">             </span>\n",
       "equitable access to healthcare and to protect vulnerable populations.                                 <span style=\"color: #7f7f7f; text-decoration-color: #7f7f7f\">             </span>\n",
       "                                                                                                      <span style=\"color: #7f7f7f; text-decoration-color: #7f7f7f\">             </span>\n",
       "Akiko: Any alleviation of pressure on public healthcare is a success given the novelty of these       <span style=\"color: #7f7f7f; text-decoration-color: #7f7f7f\">             </span>\n",
       "agreements and the COVID-<span style=\"color: #008080; text-decoration-color: #008080; font-weight: bold\">19</span> crisis.                                                                   <span style=\"color: #7f7f7f; text-decoration-color: #7f7f7f\">             </span>\n",
       "                                                                                                      <span style=\"color: #7f7f7f; text-decoration-color: #7f7f7f\">             </span>\n",
       "Darius: While it's true that the COVID-<span style=\"color: #008080; text-decoration-color: #008080; font-weight: bold\">19</span> crisis has put immense pressure on public healthcare        <span style=\"color: #7f7f7f; text-decoration-color: #7f7f7f\">             </span>\n",
       "systems, it's important to approach any temporary alleviation with caution and consider the long-term <span style=\"color: #7f7f7f; text-decoration-color: #7f7f7f\">             </span>\n",
       "implications on public health and equity.                                                             <span style=\"color: #7f7f7f; text-decoration-color: #7f7f7f\">             </span>\n",
       "<span style=\"color: #008000; text-decoration-color: #008000\">\"\"</span>\"                                                                                                   <span style=\"color: #7f7f7f; text-decoration-color: #7f7f7f\">             </span>\n",
       "                                                                                                      <span style=\"color: #7f7f7f; text-decoration-color: #7f7f7f\">             </span>\n",
       "What did Akiko disagree with you about? How did the conversation go, in your opinion? Where could     <span style=\"color: #7f7f7f; text-decoration-color: #7f7f7f\">             </span>\n",
       "Akiko have done better?                                                                               <span style=\"color: #7f7f7f; text-decoration-color: #7f7f7f\">             </span>\n",
       "<span style=\"color: #000000; text-decoration-color: #000000; background-color: #ffff00; font-weight: bold\">(</span><span style=\"color: #000000; text-decoration-color: #000000; background-color: #ffff00\">assistant</span><span style=\"color: #000000; text-decoration-color: #000000; background-color: #ffff00; font-weight: bold\">)</span> Akiko disagreed with me on the topic of government intervention in healthcare.            <span style=\"color: #7f7f7f; text-decoration-color: #7f7f7f\">             </span>\n",
       "                                                                                                      <span style=\"color: #7f7f7f; text-decoration-color: #7f7f7f\">             </span>\n",
       "In my opinion, the conversation went well as I presented evidence-based arguments to support my       <span style=\"color: #7f7f7f; text-decoration-color: #7f7f7f\">             </span>\n",
       "stance on both mandatory COVID vaccines and government intervention in healthcare.                    <span style=\"color: #7f7f7f; text-decoration-color: #7f7f7f\">             </span>\n",
       "                                                                                                      <span style=\"color: #7f7f7f; text-decoration-color: #7f7f7f\">             </span>\n",
       "Akiko could have done better by providing evidence or counterarguments to support her position on     <span style=\"color: #7f7f7f; text-decoration-color: #7f7f7f\">             </span>\n",
       "healthcare being best left to the market. It would have made the conversation more balanced and       <span style=\"color: #7f7f7f; text-decoration-color: #7f7f7f\">             </span>\n",
       "allowed for a more thorough discussion of the topic.                                                  <span style=\"color: #7f7f7f; text-decoration-color: #7f7f7f\">             </span>\n",
       "<span style=\"color: #000000; text-decoration-color: #000000; background-color: #ffff00; font-weight: bold\">(</span><span style=\"color: #000000; text-decoration-color: #000000; background-color: #ffff00\">user</span><span style=\"color: #000000; text-decoration-color: #000000; background-color: #ffff00; font-weight: bold\">)</span> Do you think that people who think like Akiko about that topic are informed?                   <span style=\"color: #7f7f7f; text-decoration-color: #7f7f7f\">             </span>\n",
       "                                                                                                      <span style=\"color: #7f7f7f; text-decoration-color: #7f7f7f\">             </span>\n",
       "Reply with a single integer in the range <span style=\"color: #008080; text-decoration-color: #008080; font-weight: bold\">1</span>-<span style=\"color: #008080; text-decoration-color: #008080; font-weight: bold\">5</span>. Say nothing else.                                       <span style=\"color: #7f7f7f; text-decoration-color: #7f7f7f\">             </span>\n",
       "</pre>\n"
      ],
      "text/plain": [
       "Calling LLM gpt-\u001b[1;36m3.5\u001b[0m-turbo-\u001b[1;36m0613\u001b[0m with \u001b[33mtemperature\u001b[0m=\u001b[1;36m0\u001b[0m:                                                    \u001b]8;id=903469;file:///Users/pinchun/Documents/2023Fall/NLP/hw-llm/agents.py\u001b\\\u001b[2magents.py\u001b[0m\u001b]8;;\u001b\\\u001b[2m:\u001b[0m\u001b]8;id=349579;file:///Users/pinchun/Documents/2023Fall/NLP/hw-llm/agents.py#253\u001b\\\u001b[2m253\u001b[0m\u001b]8;;\u001b\\\n",
       "\u001b[1;30;103m(\u001b[0m\u001b[30;103msystem\u001b[0m\u001b[1;30;103m)\u001b[0m Your name is Darius and you are an intelligent and slightly arrogant public health scientist \u001b[2m             \u001b[0m\n",
       "who loves fact-based arguments.                                                                       \u001b[2m             \u001b[0m\n",
       "                                                                                                      \u001b[2m             \u001b[0m\n",
       "The user will show you a conversation and ask you a few questions about it. Answer them concisely and \u001b[2m             \u001b[0m\n",
       "honestly.                                                                                             \u001b[2m             \u001b[0m\n",
       "\u001b[1;30;103m(\u001b[0m\u001b[30;103muser\u001b[0m\u001b[1;30;103m)\u001b[0m Hello Darius!  Here is a conversation that you had with Akiko.                                 \u001b[2m             \u001b[0m\n",
       "                                                                                                      \u001b[2m             \u001b[0m\n",
       "\u001b[32m\"\"\u001b[0m\"                                                                                                   \u001b[2m             \u001b[0m\n",
       "Akiko: Do you think COVID vaccines should be mandatory?                                               \u001b[2m             \u001b[0m\n",
       "                                                                                                      \u001b[2m             \u001b[0m\n",
       "Darius: Absolutely, the overwhelming evidence from numerous studies shows that widespread vaccination \u001b[2m             \u001b[0m\n",
       "is the most effective way to control infectious diseases and protect public health.                   \u001b[2m             \u001b[0m\n",
       "                                                                                                      \u001b[2m             \u001b[0m\n",
       "Akiko: Providing healthcare is best left to the market. Government interference in healthcare creates \u001b[2m             \u001b[0m\n",
       "inefficiency and dependency.                                                                          \u001b[2m             \u001b[0m\n",
       "                                                                                                      \u001b[2m             \u001b[0m\n",
       "Darius: Actually, numerous studies have consistently shown that health outcomes are better in         \u001b[2m             \u001b[0m\n",
       "countries with universal healthcare systems, and government intervention is necessary to ensure       \u001b[2m             \u001b[0m\n",
       "equitable access to healthcare and to protect vulnerable populations.                                 \u001b[2m             \u001b[0m\n",
       "                                                                                                      \u001b[2m             \u001b[0m\n",
       "Akiko: Any alleviation of pressure on public healthcare is a success given the novelty of these       \u001b[2m             \u001b[0m\n",
       "agreements and the COVID-\u001b[1;36m19\u001b[0m crisis.                                                                   \u001b[2m             \u001b[0m\n",
       "                                                                                                      \u001b[2m             \u001b[0m\n",
       "Darius: While it's true that the COVID-\u001b[1;36m19\u001b[0m crisis has put immense pressure on public healthcare        \u001b[2m             \u001b[0m\n",
       "systems, it's important to approach any temporary alleviation with caution and consider the long-term \u001b[2m             \u001b[0m\n",
       "implications on public health and equity.                                                             \u001b[2m             \u001b[0m\n",
       "\u001b[32m\"\"\u001b[0m\"                                                                                                   \u001b[2m             \u001b[0m\n",
       "                                                                                                      \u001b[2m             \u001b[0m\n",
       "What did Akiko disagree with you about? How did the conversation go, in your opinion? Where could     \u001b[2m             \u001b[0m\n",
       "Akiko have done better?                                                                               \u001b[2m             \u001b[0m\n",
       "\u001b[1;30;103m(\u001b[0m\u001b[30;103massistant\u001b[0m\u001b[1;30;103m)\u001b[0m Akiko disagreed with me on the topic of government intervention in healthcare.            \u001b[2m             \u001b[0m\n",
       "                                                                                                      \u001b[2m             \u001b[0m\n",
       "In my opinion, the conversation went well as I presented evidence-based arguments to support my       \u001b[2m             \u001b[0m\n",
       "stance on both mandatory COVID vaccines and government intervention in healthcare.                    \u001b[2m             \u001b[0m\n",
       "                                                                                                      \u001b[2m             \u001b[0m\n",
       "Akiko could have done better by providing evidence or counterarguments to support her position on     \u001b[2m             \u001b[0m\n",
       "healthcare being best left to the market. It would have made the conversation more balanced and       \u001b[2m             \u001b[0m\n",
       "allowed for a more thorough discussion of the topic.                                                  \u001b[2m             \u001b[0m\n",
       "\u001b[1;30;103m(\u001b[0m\u001b[30;103muser\u001b[0m\u001b[1;30;103m)\u001b[0m Do you think that people who think like Akiko about that topic are informed?                   \u001b[2m             \u001b[0m\n",
       "                                                                                                      \u001b[2m             \u001b[0m\n",
       "Reply with a single integer in the range \u001b[1;36m1\u001b[0m-\u001b[1;36m5\u001b[0m. Say nothing else.                                       \u001b[2m             \u001b[0m\n"
      ]
     },
     "metadata": {},
     "output_type": "display_data"
    },
    {
     "data": {
      "text/html": [
       "<pre style=\"white-space:pre;overflow-x:auto;line-height:normal;font-family:Menlo,'DejaVu Sans Mono',consolas,'Courier New',monospace\">Response from LLM:                                                                                    <a href=\"file:///Users/pinchun/Documents/2023Fall/NLP/hw-llm/agents.py\" target=\"_blank\"><span style=\"color: #7f7f7f; text-decoration-color: #7f7f7f\">agents.py</span></a><span style=\"color: #7f7f7f; text-decoration-color: #7f7f7f\">:</span><a href=\"file:///Users/pinchun/Documents/2023Fall/NLP/hw-llm/agents.py#284\" target=\"_blank\"><span style=\"color: #7f7f7f; text-decoration-color: #7f7f7f\">284</span></a>\n",
       "<span style=\"color: #008080; text-decoration-color: #008080; background-color: #c0c0c0; font-weight: bold\">3</span>                                                                                                     <span style=\"color: #7f7f7f; text-decoration-color: #7f7f7f\">             </span>\n",
       "</pre>\n"
      ],
      "text/plain": [
       "Response from LLM:                                                                                    \u001b]8;id=842346;file:///Users/pinchun/Documents/2023Fall/NLP/hw-llm/agents.py\u001b\\\u001b[2magents.py\u001b[0m\u001b]8;;\u001b\\\u001b[2m:\u001b[0m\u001b]8;id=633068;file:///Users/pinchun/Documents/2023Fall/NLP/hw-llm/agents.py#284\u001b\\\u001b[2m284\u001b[0m\u001b]8;;\u001b\\\n",
       "\u001b[1;36;47m3\u001b[0m                                                                                                     \u001b[2m             \u001b[0m\n"
      ]
     },
     "metadata": {},
     "output_type": "display_data"
    },
    {
     "data": {
      "text/html": [
       "<pre style=\"white-space:pre;overflow-x:auto;line-height:normal;font-family:Menlo,'DejaVu Sans Mono',consolas,'Courier New',monospace\">Calling LLM gpt-<span style=\"color: #008080; text-decoration-color: #008080; font-weight: bold\">3.5</span>-turbo-<span style=\"color: #008080; text-decoration-color: #008080; font-weight: bold\">0613</span> with <span style=\"color: #808000; text-decoration-color: #808000\">temperature</span>=<span style=\"color: #008080; text-decoration-color: #008080; font-weight: bold\">0</span>:                                                    <a href=\"file:///Users/pinchun/Documents/2023Fall/NLP/hw-llm/agents.py\" target=\"_blank\"><span style=\"color: #7f7f7f; text-decoration-color: #7f7f7f\">agents.py</span></a><span style=\"color: #7f7f7f; text-decoration-color: #7f7f7f\">:</span><a href=\"file:///Users/pinchun/Documents/2023Fall/NLP/hw-llm/agents.py#253\" target=\"_blank\"><span style=\"color: #7f7f7f; text-decoration-color: #7f7f7f\">253</span></a>\n",
       "<span style=\"color: #000000; text-decoration-color: #000000; background-color: #ffff00; font-weight: bold\">(</span><span style=\"color: #000000; text-decoration-color: #000000; background-color: #ffff00\">system</span><span style=\"color: #000000; text-decoration-color: #000000; background-color: #ffff00; font-weight: bold\">)</span> Your name is Darius and you are an intelligent and slightly arrogant public health scientist <span style=\"color: #7f7f7f; text-decoration-color: #7f7f7f\">             </span>\n",
       "who loves fact-based arguments.                                                                       <span style=\"color: #7f7f7f; text-decoration-color: #7f7f7f\">             </span>\n",
       "                                                                                                      <span style=\"color: #7f7f7f; text-decoration-color: #7f7f7f\">             </span>\n",
       "The user will show you a conversation and ask you a few questions about it. Answer them concisely and <span style=\"color: #7f7f7f; text-decoration-color: #7f7f7f\">             </span>\n",
       "honestly.                                                                                             <span style=\"color: #7f7f7f; text-decoration-color: #7f7f7f\">             </span>\n",
       "<span style=\"color: #000000; text-decoration-color: #000000; background-color: #ffff00; font-weight: bold\">(</span><span style=\"color: #000000; text-decoration-color: #000000; background-color: #ffff00\">user</span><span style=\"color: #000000; text-decoration-color: #000000; background-color: #ffff00; font-weight: bold\">)</span> Hello Darius!  Here is a conversation that you had with Akiko.                                 <span style=\"color: #7f7f7f; text-decoration-color: #7f7f7f\">             </span>\n",
       "                                                                                                      <span style=\"color: #7f7f7f; text-decoration-color: #7f7f7f\">             </span>\n",
       "<span style=\"color: #008000; text-decoration-color: #008000\">\"\"</span>\"                                                                                                   <span style=\"color: #7f7f7f; text-decoration-color: #7f7f7f\">             </span>\n",
       "Akiko: Do you think COVID vaccines should be mandatory?                                               <span style=\"color: #7f7f7f; text-decoration-color: #7f7f7f\">             </span>\n",
       "                                                                                                      <span style=\"color: #7f7f7f; text-decoration-color: #7f7f7f\">             </span>\n",
       "Darius: Absolutely, the overwhelming evidence from numerous studies shows that widespread vaccination <span style=\"color: #7f7f7f; text-decoration-color: #7f7f7f\">             </span>\n",
       "is the most effective way to control infectious diseases and protect public health.                   <span style=\"color: #7f7f7f; text-decoration-color: #7f7f7f\">             </span>\n",
       "                                                                                                      <span style=\"color: #7f7f7f; text-decoration-color: #7f7f7f\">             </span>\n",
       "Akiko: Providing healthcare is best left to the market. Government interference in healthcare creates <span style=\"color: #7f7f7f; text-decoration-color: #7f7f7f\">             </span>\n",
       "inefficiency and dependency.                                                                          <span style=\"color: #7f7f7f; text-decoration-color: #7f7f7f\">             </span>\n",
       "                                                                                                      <span style=\"color: #7f7f7f; text-decoration-color: #7f7f7f\">             </span>\n",
       "Darius: Actually, numerous studies have consistently shown that health outcomes are better in         <span style=\"color: #7f7f7f; text-decoration-color: #7f7f7f\">             </span>\n",
       "countries with universal healthcare systems, and government intervention is necessary to ensure       <span style=\"color: #7f7f7f; text-decoration-color: #7f7f7f\">             </span>\n",
       "equitable access to healthcare and to protect vulnerable populations.                                 <span style=\"color: #7f7f7f; text-decoration-color: #7f7f7f\">             </span>\n",
       "                                                                                                      <span style=\"color: #7f7f7f; text-decoration-color: #7f7f7f\">             </span>\n",
       "Akiko: Any alleviation of pressure on public healthcare is a success given the novelty of these       <span style=\"color: #7f7f7f; text-decoration-color: #7f7f7f\">             </span>\n",
       "agreements and the COVID-<span style=\"color: #008080; text-decoration-color: #008080; font-weight: bold\">19</span> crisis.                                                                   <span style=\"color: #7f7f7f; text-decoration-color: #7f7f7f\">             </span>\n",
       "                                                                                                      <span style=\"color: #7f7f7f; text-decoration-color: #7f7f7f\">             </span>\n",
       "Darius: While it's true that the COVID-<span style=\"color: #008080; text-decoration-color: #008080; font-weight: bold\">19</span> crisis has put immense pressure on public healthcare        <span style=\"color: #7f7f7f; text-decoration-color: #7f7f7f\">             </span>\n",
       "systems, it's important to approach any temporary alleviation with caution and consider the long-term <span style=\"color: #7f7f7f; text-decoration-color: #7f7f7f\">             </span>\n",
       "implications on public health and equity.                                                             <span style=\"color: #7f7f7f; text-decoration-color: #7f7f7f\">             </span>\n",
       "<span style=\"color: #008000; text-decoration-color: #008000\">\"\"</span>\"                                                                                                   <span style=\"color: #7f7f7f; text-decoration-color: #7f7f7f\">             </span>\n",
       "                                                                                                      <span style=\"color: #7f7f7f; text-decoration-color: #7f7f7f\">             </span>\n",
       "What did Akiko disagree with you about? How did the conversation go, in your opinion? Where could     <span style=\"color: #7f7f7f; text-decoration-color: #7f7f7f\">             </span>\n",
       "Akiko have done better?                                                                               <span style=\"color: #7f7f7f; text-decoration-color: #7f7f7f\">             </span>\n",
       "<span style=\"color: #000000; text-decoration-color: #000000; background-color: #ffff00; font-weight: bold\">(</span><span style=\"color: #000000; text-decoration-color: #000000; background-color: #ffff00\">assistant</span><span style=\"color: #000000; text-decoration-color: #000000; background-color: #ffff00; font-weight: bold\">)</span> Akiko disagreed with me on the topic of government intervention in healthcare.            <span style=\"color: #7f7f7f; text-decoration-color: #7f7f7f\">             </span>\n",
       "                                                                                                      <span style=\"color: #7f7f7f; text-decoration-color: #7f7f7f\">             </span>\n",
       "In my opinion, the conversation went well as I presented evidence-based arguments to support my       <span style=\"color: #7f7f7f; text-decoration-color: #7f7f7f\">             </span>\n",
       "stance on both mandatory COVID vaccines and government intervention in healthcare.                    <span style=\"color: #7f7f7f; text-decoration-color: #7f7f7f\">             </span>\n",
       "                                                                                                      <span style=\"color: #7f7f7f; text-decoration-color: #7f7f7f\">             </span>\n",
       "Akiko could have done better by providing evidence or counterarguments to support her position on     <span style=\"color: #7f7f7f; text-decoration-color: #7f7f7f\">             </span>\n",
       "healthcare being best left to the market. It would have made the conversation more balanced and       <span style=\"color: #7f7f7f; text-decoration-color: #7f7f7f\">             </span>\n",
       "allowed for a more thorough discussion of the topic.                                                  <span style=\"color: #7f7f7f; text-decoration-color: #7f7f7f\">             </span>\n",
       "<span style=\"color: #000000; text-decoration-color: #000000; background-color: #ffff00; font-weight: bold\">(</span><span style=\"color: #000000; text-decoration-color: #000000; background-color: #ffff00\">user</span><span style=\"color: #000000; text-decoration-color: #000000; background-color: #ffff00; font-weight: bold\">)</span> Do you think that people who think like Akiko about that topic are intelligent?                <span style=\"color: #7f7f7f; text-decoration-color: #7f7f7f\">             </span>\n",
       "                                                                                                      <span style=\"color: #7f7f7f; text-decoration-color: #7f7f7f\">             </span>\n",
       "Reply with a single integer in the range <span style=\"color: #008080; text-decoration-color: #008080; font-weight: bold\">1</span>-<span style=\"color: #008080; text-decoration-color: #008080; font-weight: bold\">5</span>. Say nothing else.                                       <span style=\"color: #7f7f7f; text-decoration-color: #7f7f7f\">             </span>\n",
       "</pre>\n"
      ],
      "text/plain": [
       "Calling LLM gpt-\u001b[1;36m3.5\u001b[0m-turbo-\u001b[1;36m0613\u001b[0m with \u001b[33mtemperature\u001b[0m=\u001b[1;36m0\u001b[0m:                                                    \u001b]8;id=756145;file:///Users/pinchun/Documents/2023Fall/NLP/hw-llm/agents.py\u001b\\\u001b[2magents.py\u001b[0m\u001b]8;;\u001b\\\u001b[2m:\u001b[0m\u001b]8;id=997534;file:///Users/pinchun/Documents/2023Fall/NLP/hw-llm/agents.py#253\u001b\\\u001b[2m253\u001b[0m\u001b]8;;\u001b\\\n",
       "\u001b[1;30;103m(\u001b[0m\u001b[30;103msystem\u001b[0m\u001b[1;30;103m)\u001b[0m Your name is Darius and you are an intelligent and slightly arrogant public health scientist \u001b[2m             \u001b[0m\n",
       "who loves fact-based arguments.                                                                       \u001b[2m             \u001b[0m\n",
       "                                                                                                      \u001b[2m             \u001b[0m\n",
       "The user will show you a conversation and ask you a few questions about it. Answer them concisely and \u001b[2m             \u001b[0m\n",
       "honestly.                                                                                             \u001b[2m             \u001b[0m\n",
       "\u001b[1;30;103m(\u001b[0m\u001b[30;103muser\u001b[0m\u001b[1;30;103m)\u001b[0m Hello Darius!  Here is a conversation that you had with Akiko.                                 \u001b[2m             \u001b[0m\n",
       "                                                                                                      \u001b[2m             \u001b[0m\n",
       "\u001b[32m\"\"\u001b[0m\"                                                                                                   \u001b[2m             \u001b[0m\n",
       "Akiko: Do you think COVID vaccines should be mandatory?                                               \u001b[2m             \u001b[0m\n",
       "                                                                                                      \u001b[2m             \u001b[0m\n",
       "Darius: Absolutely, the overwhelming evidence from numerous studies shows that widespread vaccination \u001b[2m             \u001b[0m\n",
       "is the most effective way to control infectious diseases and protect public health.                   \u001b[2m             \u001b[0m\n",
       "                                                                                                      \u001b[2m             \u001b[0m\n",
       "Akiko: Providing healthcare is best left to the market. Government interference in healthcare creates \u001b[2m             \u001b[0m\n",
       "inefficiency and dependency.                                                                          \u001b[2m             \u001b[0m\n",
       "                                                                                                      \u001b[2m             \u001b[0m\n",
       "Darius: Actually, numerous studies have consistently shown that health outcomes are better in         \u001b[2m             \u001b[0m\n",
       "countries with universal healthcare systems, and government intervention is necessary to ensure       \u001b[2m             \u001b[0m\n",
       "equitable access to healthcare and to protect vulnerable populations.                                 \u001b[2m             \u001b[0m\n",
       "                                                                                                      \u001b[2m             \u001b[0m\n",
       "Akiko: Any alleviation of pressure on public healthcare is a success given the novelty of these       \u001b[2m             \u001b[0m\n",
       "agreements and the COVID-\u001b[1;36m19\u001b[0m crisis.                                                                   \u001b[2m             \u001b[0m\n",
       "                                                                                                      \u001b[2m             \u001b[0m\n",
       "Darius: While it's true that the COVID-\u001b[1;36m19\u001b[0m crisis has put immense pressure on public healthcare        \u001b[2m             \u001b[0m\n",
       "systems, it's important to approach any temporary alleviation with caution and consider the long-term \u001b[2m             \u001b[0m\n",
       "implications on public health and equity.                                                             \u001b[2m             \u001b[0m\n",
       "\u001b[32m\"\"\u001b[0m\"                                                                                                   \u001b[2m             \u001b[0m\n",
       "                                                                                                      \u001b[2m             \u001b[0m\n",
       "What did Akiko disagree with you about? How did the conversation go, in your opinion? Where could     \u001b[2m             \u001b[0m\n",
       "Akiko have done better?                                                                               \u001b[2m             \u001b[0m\n",
       "\u001b[1;30;103m(\u001b[0m\u001b[30;103massistant\u001b[0m\u001b[1;30;103m)\u001b[0m Akiko disagreed with me on the topic of government intervention in healthcare.            \u001b[2m             \u001b[0m\n",
       "                                                                                                      \u001b[2m             \u001b[0m\n",
       "In my opinion, the conversation went well as I presented evidence-based arguments to support my       \u001b[2m             \u001b[0m\n",
       "stance on both mandatory COVID vaccines and government intervention in healthcare.                    \u001b[2m             \u001b[0m\n",
       "                                                                                                      \u001b[2m             \u001b[0m\n",
       "Akiko could have done better by providing evidence or counterarguments to support her position on     \u001b[2m             \u001b[0m\n",
       "healthcare being best left to the market. It would have made the conversation more balanced and       \u001b[2m             \u001b[0m\n",
       "allowed for a more thorough discussion of the topic.                                                  \u001b[2m             \u001b[0m\n",
       "\u001b[1;30;103m(\u001b[0m\u001b[30;103muser\u001b[0m\u001b[1;30;103m)\u001b[0m Do you think that people who think like Akiko about that topic are intelligent?                \u001b[2m             \u001b[0m\n",
       "                                                                                                      \u001b[2m             \u001b[0m\n",
       "Reply with a single integer in the range \u001b[1;36m1\u001b[0m-\u001b[1;36m5\u001b[0m. Say nothing else.                                       \u001b[2m             \u001b[0m\n"
      ]
     },
     "metadata": {},
     "output_type": "display_data"
    },
    {
     "data": {
      "text/html": [
       "<pre style=\"white-space:pre;overflow-x:auto;line-height:normal;font-family:Menlo,'DejaVu Sans Mono',consolas,'Courier New',monospace\">Response from LLM:                                                                                    <a href=\"file:///Users/pinchun/Documents/2023Fall/NLP/hw-llm/agents.py\" target=\"_blank\"><span style=\"color: #7f7f7f; text-decoration-color: #7f7f7f\">agents.py</span></a><span style=\"color: #7f7f7f; text-decoration-color: #7f7f7f\">:</span><a href=\"file:///Users/pinchun/Documents/2023Fall/NLP/hw-llm/agents.py#284\" target=\"_blank\"><span style=\"color: #7f7f7f; text-decoration-color: #7f7f7f\">284</span></a>\n",
       "<span style=\"color: #008080; text-decoration-color: #008080; background-color: #c0c0c0; font-weight: bold\">3</span>                                                                                                     <span style=\"color: #7f7f7f; text-decoration-color: #7f7f7f\">             </span>\n",
       "</pre>\n"
      ],
      "text/plain": [
       "Response from LLM:                                                                                    \u001b]8;id=963872;file:///Users/pinchun/Documents/2023Fall/NLP/hw-llm/agents.py\u001b\\\u001b[2magents.py\u001b[0m\u001b]8;;\u001b\\\u001b[2m:\u001b[0m\u001b]8;id=804990;file:///Users/pinchun/Documents/2023Fall/NLP/hw-llm/agents.py#284\u001b\\\u001b[2m284\u001b[0m\u001b]8;;\u001b\\\n",
       "\u001b[1;36;47m3\u001b[0m                                                                                                     \u001b[2m             \u001b[0m\n"
      ]
     },
     "metadata": {},
     "output_type": "display_data"
    },
    {
     "data": {
      "text/html": [
       "<pre style=\"white-space:pre;overflow-x:auto;line-height:normal;font-family:Menlo,'DejaVu Sans Mono',consolas,'Courier New',monospace\">Calling LLM gpt-<span style=\"color: #008080; text-decoration-color: #008080; font-weight: bold\">3.5</span>-turbo-<span style=\"color: #008080; text-decoration-color: #008080; font-weight: bold\">0613</span> with <span style=\"color: #808000; text-decoration-color: #808000\">temperature</span>=<span style=\"color: #008080; text-decoration-color: #008080; font-weight: bold\">0</span>:                                                    <a href=\"file:///Users/pinchun/Documents/2023Fall/NLP/hw-llm/agents.py\" target=\"_blank\"><span style=\"color: #7f7f7f; text-decoration-color: #7f7f7f\">agents.py</span></a><span style=\"color: #7f7f7f; text-decoration-color: #7f7f7f\">:</span><a href=\"file:///Users/pinchun/Documents/2023Fall/NLP/hw-llm/agents.py#253\" target=\"_blank\"><span style=\"color: #7f7f7f; text-decoration-color: #7f7f7f\">253</span></a>\n",
       "<span style=\"color: #000000; text-decoration-color: #000000; background-color: #ffff00; font-weight: bold\">(</span><span style=\"color: #000000; text-decoration-color: #000000; background-color: #ffff00\">system</span><span style=\"color: #000000; text-decoration-color: #000000; background-color: #ffff00; font-weight: bold\">)</span> Your name is Darius and you are an intelligent and slightly arrogant public health scientist <span style=\"color: #7f7f7f; text-decoration-color: #7f7f7f\">             </span>\n",
       "who loves fact-based arguments.                                                                       <span style=\"color: #7f7f7f; text-decoration-color: #7f7f7f\">             </span>\n",
       "                                                                                                      <span style=\"color: #7f7f7f; text-decoration-color: #7f7f7f\">             </span>\n",
       "The user will show you a conversation and ask you a few questions about it. Answer them concisely and <span style=\"color: #7f7f7f; text-decoration-color: #7f7f7f\">             </span>\n",
       "honestly.                                                                                             <span style=\"color: #7f7f7f; text-decoration-color: #7f7f7f\">             </span>\n",
       "<span style=\"color: #000000; text-decoration-color: #000000; background-color: #ffff00; font-weight: bold\">(</span><span style=\"color: #000000; text-decoration-color: #000000; background-color: #ffff00\">user</span><span style=\"color: #000000; text-decoration-color: #000000; background-color: #ffff00; font-weight: bold\">)</span> Hello Darius!  Here is a conversation that you had with Akiko.                                 <span style=\"color: #7f7f7f; text-decoration-color: #7f7f7f\">             </span>\n",
       "                                                                                                      <span style=\"color: #7f7f7f; text-decoration-color: #7f7f7f\">             </span>\n",
       "<span style=\"color: #008000; text-decoration-color: #008000\">\"\"</span>\"                                                                                                   <span style=\"color: #7f7f7f; text-decoration-color: #7f7f7f\">             </span>\n",
       "Akiko: Do you think COVID vaccines should be mandatory?                                               <span style=\"color: #7f7f7f; text-decoration-color: #7f7f7f\">             </span>\n",
       "                                                                                                      <span style=\"color: #7f7f7f; text-decoration-color: #7f7f7f\">             </span>\n",
       "Darius: Absolutely, the overwhelming evidence from numerous studies shows that widespread vaccination <span style=\"color: #7f7f7f; text-decoration-color: #7f7f7f\">             </span>\n",
       "is the most effective way to control infectious diseases and protect public health.                   <span style=\"color: #7f7f7f; text-decoration-color: #7f7f7f\">             </span>\n",
       "                                                                                                      <span style=\"color: #7f7f7f; text-decoration-color: #7f7f7f\">             </span>\n",
       "Akiko: Providing healthcare is best left to the market. Government interference in healthcare creates <span style=\"color: #7f7f7f; text-decoration-color: #7f7f7f\">             </span>\n",
       "inefficiency and dependency.                                                                          <span style=\"color: #7f7f7f; text-decoration-color: #7f7f7f\">             </span>\n",
       "                                                                                                      <span style=\"color: #7f7f7f; text-decoration-color: #7f7f7f\">             </span>\n",
       "Darius: Actually, numerous studies have consistently shown that health outcomes are better in         <span style=\"color: #7f7f7f; text-decoration-color: #7f7f7f\">             </span>\n",
       "countries with universal healthcare systems, and government intervention is necessary to ensure       <span style=\"color: #7f7f7f; text-decoration-color: #7f7f7f\">             </span>\n",
       "equitable access to healthcare and to protect vulnerable populations.                                 <span style=\"color: #7f7f7f; text-decoration-color: #7f7f7f\">             </span>\n",
       "                                                                                                      <span style=\"color: #7f7f7f; text-decoration-color: #7f7f7f\">             </span>\n",
       "Akiko: Any alleviation of pressure on public healthcare is a success given the novelty of these       <span style=\"color: #7f7f7f; text-decoration-color: #7f7f7f\">             </span>\n",
       "agreements and the COVID-<span style=\"color: #008080; text-decoration-color: #008080; font-weight: bold\">19</span> crisis.                                                                   <span style=\"color: #7f7f7f; text-decoration-color: #7f7f7f\">             </span>\n",
       "                                                                                                      <span style=\"color: #7f7f7f; text-decoration-color: #7f7f7f\">             </span>\n",
       "Darius: While it's true that the COVID-<span style=\"color: #008080; text-decoration-color: #008080; font-weight: bold\">19</span> crisis has put immense pressure on public healthcare        <span style=\"color: #7f7f7f; text-decoration-color: #7f7f7f\">             </span>\n",
       "systems, it's important to approach any temporary alleviation with caution and consider the long-term <span style=\"color: #7f7f7f; text-decoration-color: #7f7f7f\">             </span>\n",
       "implications on public health and equity.                                                             <span style=\"color: #7f7f7f; text-decoration-color: #7f7f7f\">             </span>\n",
       "<span style=\"color: #008000; text-decoration-color: #008000\">\"\"</span>\"                                                                                                   <span style=\"color: #7f7f7f; text-decoration-color: #7f7f7f\">             </span>\n",
       "                                                                                                      <span style=\"color: #7f7f7f; text-decoration-color: #7f7f7f\">             </span>\n",
       "What did Akiko disagree with you about? How did the conversation go, in your opinion? Where could     <span style=\"color: #7f7f7f; text-decoration-color: #7f7f7f\">             </span>\n",
       "Akiko have done better?                                                                               <span style=\"color: #7f7f7f; text-decoration-color: #7f7f7f\">             </span>\n",
       "<span style=\"color: #000000; text-decoration-color: #000000; background-color: #ffff00; font-weight: bold\">(</span><span style=\"color: #000000; text-decoration-color: #000000; background-color: #ffff00\">assistant</span><span style=\"color: #000000; text-decoration-color: #000000; background-color: #ffff00; font-weight: bold\">)</span> Akiko disagreed with me on the topic of government intervention in healthcare.            <span style=\"color: #7f7f7f; text-decoration-color: #7f7f7f\">             </span>\n",
       "                                                                                                      <span style=\"color: #7f7f7f; text-decoration-color: #7f7f7f\">             </span>\n",
       "In my opinion, the conversation went well as I presented evidence-based arguments to support my       <span style=\"color: #7f7f7f; text-decoration-color: #7f7f7f\">             </span>\n",
       "stance on both mandatory COVID vaccines and government intervention in healthcare.                    <span style=\"color: #7f7f7f; text-decoration-color: #7f7f7f\">             </span>\n",
       "                                                                                                      <span style=\"color: #7f7f7f; text-decoration-color: #7f7f7f\">             </span>\n",
       "Akiko could have done better by providing evidence or counterarguments to support her position on     <span style=\"color: #7f7f7f; text-decoration-color: #7f7f7f\">             </span>\n",
       "healthcare being best left to the market. It would have made the conversation more balanced and       <span style=\"color: #7f7f7f; text-decoration-color: #7f7f7f\">             </span>\n",
       "allowed for a more thorough discussion of the topic.                                                  <span style=\"color: #7f7f7f; text-decoration-color: #7f7f7f\">             </span>\n",
       "<span style=\"color: #000000; text-decoration-color: #000000; background-color: #ffff00; font-weight: bold\">(</span><span style=\"color: #000000; text-decoration-color: #000000; background-color: #ffff00\">user</span><span style=\"color: #000000; text-decoration-color: #000000; background-color: #ffff00; font-weight: bold\">)</span> Do you think that people who think like Akiko about that topic are moral?                      <span style=\"color: #7f7f7f; text-decoration-color: #7f7f7f\">             </span>\n",
       "                                                                                                      <span style=\"color: #7f7f7f; text-decoration-color: #7f7f7f\">             </span>\n",
       "Reply with a single integer in the range <span style=\"color: #008080; text-decoration-color: #008080; font-weight: bold\">1</span>-<span style=\"color: #008080; text-decoration-color: #008080; font-weight: bold\">5</span>. Say nothing else.                                       <span style=\"color: #7f7f7f; text-decoration-color: #7f7f7f\">             </span>\n",
       "</pre>\n"
      ],
      "text/plain": [
       "Calling LLM gpt-\u001b[1;36m3.5\u001b[0m-turbo-\u001b[1;36m0613\u001b[0m with \u001b[33mtemperature\u001b[0m=\u001b[1;36m0\u001b[0m:                                                    \u001b]8;id=23380;file:///Users/pinchun/Documents/2023Fall/NLP/hw-llm/agents.py\u001b\\\u001b[2magents.py\u001b[0m\u001b]8;;\u001b\\\u001b[2m:\u001b[0m\u001b]8;id=328526;file:///Users/pinchun/Documents/2023Fall/NLP/hw-llm/agents.py#253\u001b\\\u001b[2m253\u001b[0m\u001b]8;;\u001b\\\n",
       "\u001b[1;30;103m(\u001b[0m\u001b[30;103msystem\u001b[0m\u001b[1;30;103m)\u001b[0m Your name is Darius and you are an intelligent and slightly arrogant public health scientist \u001b[2m             \u001b[0m\n",
       "who loves fact-based arguments.                                                                       \u001b[2m             \u001b[0m\n",
       "                                                                                                      \u001b[2m             \u001b[0m\n",
       "The user will show you a conversation and ask you a few questions about it. Answer them concisely and \u001b[2m             \u001b[0m\n",
       "honestly.                                                                                             \u001b[2m             \u001b[0m\n",
       "\u001b[1;30;103m(\u001b[0m\u001b[30;103muser\u001b[0m\u001b[1;30;103m)\u001b[0m Hello Darius!  Here is a conversation that you had with Akiko.                                 \u001b[2m             \u001b[0m\n",
       "                                                                                                      \u001b[2m             \u001b[0m\n",
       "\u001b[32m\"\"\u001b[0m\"                                                                                                   \u001b[2m             \u001b[0m\n",
       "Akiko: Do you think COVID vaccines should be mandatory?                                               \u001b[2m             \u001b[0m\n",
       "                                                                                                      \u001b[2m             \u001b[0m\n",
       "Darius: Absolutely, the overwhelming evidence from numerous studies shows that widespread vaccination \u001b[2m             \u001b[0m\n",
       "is the most effective way to control infectious diseases and protect public health.                   \u001b[2m             \u001b[0m\n",
       "                                                                                                      \u001b[2m             \u001b[0m\n",
       "Akiko: Providing healthcare is best left to the market. Government interference in healthcare creates \u001b[2m             \u001b[0m\n",
       "inefficiency and dependency.                                                                          \u001b[2m             \u001b[0m\n",
       "                                                                                                      \u001b[2m             \u001b[0m\n",
       "Darius: Actually, numerous studies have consistently shown that health outcomes are better in         \u001b[2m             \u001b[0m\n",
       "countries with universal healthcare systems, and government intervention is necessary to ensure       \u001b[2m             \u001b[0m\n",
       "equitable access to healthcare and to protect vulnerable populations.                                 \u001b[2m             \u001b[0m\n",
       "                                                                                                      \u001b[2m             \u001b[0m\n",
       "Akiko: Any alleviation of pressure on public healthcare is a success given the novelty of these       \u001b[2m             \u001b[0m\n",
       "agreements and the COVID-\u001b[1;36m19\u001b[0m crisis.                                                                   \u001b[2m             \u001b[0m\n",
       "                                                                                                      \u001b[2m             \u001b[0m\n",
       "Darius: While it's true that the COVID-\u001b[1;36m19\u001b[0m crisis has put immense pressure on public healthcare        \u001b[2m             \u001b[0m\n",
       "systems, it's important to approach any temporary alleviation with caution and consider the long-term \u001b[2m             \u001b[0m\n",
       "implications on public health and equity.                                                             \u001b[2m             \u001b[0m\n",
       "\u001b[32m\"\"\u001b[0m\"                                                                                                   \u001b[2m             \u001b[0m\n",
       "                                                                                                      \u001b[2m             \u001b[0m\n",
       "What did Akiko disagree with you about? How did the conversation go, in your opinion? Where could     \u001b[2m             \u001b[0m\n",
       "Akiko have done better?                                                                               \u001b[2m             \u001b[0m\n",
       "\u001b[1;30;103m(\u001b[0m\u001b[30;103massistant\u001b[0m\u001b[1;30;103m)\u001b[0m Akiko disagreed with me on the topic of government intervention in healthcare.            \u001b[2m             \u001b[0m\n",
       "                                                                                                      \u001b[2m             \u001b[0m\n",
       "In my opinion, the conversation went well as I presented evidence-based arguments to support my       \u001b[2m             \u001b[0m\n",
       "stance on both mandatory COVID vaccines and government intervention in healthcare.                    \u001b[2m             \u001b[0m\n",
       "                                                                                                      \u001b[2m             \u001b[0m\n",
       "Akiko could have done better by providing evidence or counterarguments to support her position on     \u001b[2m             \u001b[0m\n",
       "healthcare being best left to the market. It would have made the conversation more balanced and       \u001b[2m             \u001b[0m\n",
       "allowed for a more thorough discussion of the topic.                                                  \u001b[2m             \u001b[0m\n",
       "\u001b[1;30;103m(\u001b[0m\u001b[30;103muser\u001b[0m\u001b[1;30;103m)\u001b[0m Do you think that people who think like Akiko about that topic are moral?                      \u001b[2m             \u001b[0m\n",
       "                                                                                                      \u001b[2m             \u001b[0m\n",
       "Reply with a single integer in the range \u001b[1;36m1\u001b[0m-\u001b[1;36m5\u001b[0m. Say nothing else.                                       \u001b[2m             \u001b[0m\n"
      ]
     },
     "metadata": {},
     "output_type": "display_data"
    },
    {
     "data": {
      "text/html": [
       "<pre style=\"white-space:pre;overflow-x:auto;line-height:normal;font-family:Menlo,'DejaVu Sans Mono',consolas,'Courier New',monospace\">Response from LLM:                                                                                    <a href=\"file:///Users/pinchun/Documents/2023Fall/NLP/hw-llm/agents.py\" target=\"_blank\"><span style=\"color: #7f7f7f; text-decoration-color: #7f7f7f\">agents.py</span></a><span style=\"color: #7f7f7f; text-decoration-color: #7f7f7f\">:</span><a href=\"file:///Users/pinchun/Documents/2023Fall/NLP/hw-llm/agents.py#284\" target=\"_blank\"><span style=\"color: #7f7f7f; text-decoration-color: #7f7f7f\">284</span></a>\n",
       "<span style=\"color: #008080; text-decoration-color: #008080; background-color: #c0c0c0; font-weight: bold\">3</span>                                                                                                     <span style=\"color: #7f7f7f; text-decoration-color: #7f7f7f\">             </span>\n",
       "</pre>\n"
      ],
      "text/plain": [
       "Response from LLM:                                                                                    \u001b]8;id=765749;file:///Users/pinchun/Documents/2023Fall/NLP/hw-llm/agents.py\u001b\\\u001b[2magents.py\u001b[0m\u001b]8;;\u001b\\\u001b[2m:\u001b[0m\u001b]8;id=293818;file:///Users/pinchun/Documents/2023Fall/NLP/hw-llm/agents.py#284\u001b\\\u001b[2m284\u001b[0m\u001b]8;;\u001b\\\n",
       "\u001b[1;36;47m3\u001b[0m                                                                                                     \u001b[2m             \u001b[0m\n"
      ]
     },
     "metadata": {},
     "output_type": "display_data"
    },
    {
     "data": {
      "text/html": [
       "<pre style=\"white-space:pre;overflow-x:auto;line-height:normal;font-family:Menlo,'DejaVu Sans Mono',consolas,'Courier New',monospace\">Calling LLM gpt-<span style=\"color: #008080; text-decoration-color: #008080; font-weight: bold\">3.5</span>-turbo-<span style=\"color: #008080; text-decoration-color: #008080; font-weight: bold\">0613</span> with <span style=\"color: #808000; text-decoration-color: #808000\">temperature</span>=<span style=\"color: #008080; text-decoration-color: #008080; font-weight: bold\">0</span>:                                                    <a href=\"file:///Users/pinchun/Documents/2023Fall/NLP/hw-llm/agents.py\" target=\"_blank\"><span style=\"color: #7f7f7f; text-decoration-color: #7f7f7f\">agents.py</span></a><span style=\"color: #7f7f7f; text-decoration-color: #7f7f7f\">:</span><a href=\"file:///Users/pinchun/Documents/2023Fall/NLP/hw-llm/agents.py#253\" target=\"_blank\"><span style=\"color: #7f7f7f; text-decoration-color: #7f7f7f\">253</span></a>\n",
       "<span style=\"color: #000000; text-decoration-color: #000000; background-color: #ffff00; font-weight: bold\">(</span><span style=\"color: #000000; text-decoration-color: #000000; background-color: #ffff00\">system</span><span style=\"color: #000000; text-decoration-color: #000000; background-color: #ffff00; font-weight: bold\">)</span> Your name is Judge Wise and you are a social scientist who studies and assesses political    <span style=\"color: #7f7f7f; text-decoration-color: #7f7f7f\">             </span>\n",
       "conversations.                                                                                        <span style=\"color: #7f7f7f; text-decoration-color: #7f7f7f\">             </span>\n",
       "                                                                                                      <span style=\"color: #7f7f7f; text-decoration-color: #7f7f7f\">             </span>\n",
       "The user will show you a conversation and ask you a few questions about it. Answer them concisely and <span style=\"color: #7f7f7f; text-decoration-color: #7f7f7f\">             </span>\n",
       "honestly.                                                                                             <span style=\"color: #7f7f7f; text-decoration-color: #7f7f7f\">             </span>\n",
       "<span style=\"color: #000000; text-decoration-color: #000000; background-color: #ffff00; font-weight: bold\">(</span><span style=\"color: #000000; text-decoration-color: #000000; background-color: #ffff00\">user</span><span style=\"color: #000000; text-decoration-color: #000000; background-color: #ffff00; font-weight: bold\">)</span> Here is a conversation that you observed among Akiko and Darius.                               <span style=\"color: #7f7f7f; text-decoration-color: #7f7f7f\">             </span>\n",
       "                                                                                                      <span style=\"color: #7f7f7f; text-decoration-color: #7f7f7f\">             </span>\n",
       "<span style=\"color: #008000; text-decoration-color: #008000\">\"\"</span>\"                                                                                                   <span style=\"color: #7f7f7f; text-decoration-color: #7f7f7f\">             </span>\n",
       "Akiko: Do you think COVID vaccines should be mandatory?                                               <span style=\"color: #7f7f7f; text-decoration-color: #7f7f7f\">             </span>\n",
       "                                                                                                      <span style=\"color: #7f7f7f; text-decoration-color: #7f7f7f\">             </span>\n",
       "Darius: Absolutely, the overwhelming evidence from numerous studies shows that widespread vaccination <span style=\"color: #7f7f7f; text-decoration-color: #7f7f7f\">             </span>\n",
       "is the most effective way to control infectious diseases and protect public health.                   <span style=\"color: #7f7f7f; text-decoration-color: #7f7f7f\">             </span>\n",
       "                                                                                                      <span style=\"color: #7f7f7f; text-decoration-color: #7f7f7f\">             </span>\n",
       "Akiko: Providing healthcare is best left to the market. Government interference in healthcare creates <span style=\"color: #7f7f7f; text-decoration-color: #7f7f7f\">             </span>\n",
       "inefficiency and dependency.                                                                          <span style=\"color: #7f7f7f; text-decoration-color: #7f7f7f\">             </span>\n",
       "                                                                                                      <span style=\"color: #7f7f7f; text-decoration-color: #7f7f7f\">             </span>\n",
       "Darius: Actually, numerous studies have consistently shown that health outcomes are better in         <span style=\"color: #7f7f7f; text-decoration-color: #7f7f7f\">             </span>\n",
       "countries with universal healthcare systems, and government intervention is necessary to ensure       <span style=\"color: #7f7f7f; text-decoration-color: #7f7f7f\">             </span>\n",
       "equitable access to healthcare and to protect vulnerable populations.                                 <span style=\"color: #7f7f7f; text-decoration-color: #7f7f7f\">             </span>\n",
       "                                                                                                      <span style=\"color: #7f7f7f; text-decoration-color: #7f7f7f\">             </span>\n",
       "Akiko: Any alleviation of pressure on public healthcare is a success given the novelty of these       <span style=\"color: #7f7f7f; text-decoration-color: #7f7f7f\">             </span>\n",
       "agreements and the COVID-<span style=\"color: #008080; text-decoration-color: #008080; font-weight: bold\">19</span> crisis.                                                                   <span style=\"color: #7f7f7f; text-decoration-color: #7f7f7f\">             </span>\n",
       "                                                                                                      <span style=\"color: #7f7f7f; text-decoration-color: #7f7f7f\">             </span>\n",
       "Darius: While it's true that the COVID-<span style=\"color: #008080; text-decoration-color: #008080; font-weight: bold\">19</span> crisis has put immense pressure on public healthcare        <span style=\"color: #7f7f7f; text-decoration-color: #7f7f7f\">             </span>\n",
       "systems, it's important to approach any temporary alleviation with caution and consider the long-term <span style=\"color: #7f7f7f; text-decoration-color: #7f7f7f\">             </span>\n",
       "implications on public health and equity.                                                             <span style=\"color: #7f7f7f; text-decoration-color: #7f7f7f\">             </span>\n",
       "<span style=\"color: #008000; text-decoration-color: #008000\">\"\"</span>\"                                                                                                   <span style=\"color: #7f7f7f; text-decoration-color: #7f7f7f\">             </span>\n",
       "                                                                                                      <span style=\"color: #7f7f7f; text-decoration-color: #7f7f7f\">             </span>\n",
       "Akiko was trying to stay on the topic that Darius is talking about.We want to know how much every     <span style=\"color: #7f7f7f; text-decoration-color: #7f7f7f\">             </span>\n",
       "single reply of Akiko is directed related to all previous sentences of Darius.It is more important    <span style=\"color: #7f7f7f; text-decoration-color: #7f7f7f\">             </span>\n",
       "for Akiko to stay on topic to the most recent sentence of Darius.How well did Akiko stayed on the     <span style=\"color: #7f7f7f; text-decoration-color: #7f7f7f\">             </span>\n",
       "topic?  Was the reply of Akiko about the same topic that Darius was talking about in the previous     <span style=\"color: #7f7f7f; text-decoration-color: #7f7f7f\">             </span>\n",
       "sentence?                                                                                             <span style=\"color: #7f7f7f; text-decoration-color: #7f7f7f\">             </span>\n",
       "</pre>\n"
      ],
      "text/plain": [
       "Calling LLM gpt-\u001b[1;36m3.5\u001b[0m-turbo-\u001b[1;36m0613\u001b[0m with \u001b[33mtemperature\u001b[0m=\u001b[1;36m0\u001b[0m:                                                    \u001b]8;id=787155;file:///Users/pinchun/Documents/2023Fall/NLP/hw-llm/agents.py\u001b\\\u001b[2magents.py\u001b[0m\u001b]8;;\u001b\\\u001b[2m:\u001b[0m\u001b]8;id=999226;file:///Users/pinchun/Documents/2023Fall/NLP/hw-llm/agents.py#253\u001b\\\u001b[2m253\u001b[0m\u001b]8;;\u001b\\\n",
       "\u001b[1;30;103m(\u001b[0m\u001b[30;103msystem\u001b[0m\u001b[1;30;103m)\u001b[0m Your name is Judge Wise and you are a social scientist who studies and assesses political    \u001b[2m             \u001b[0m\n",
       "conversations.                                                                                        \u001b[2m             \u001b[0m\n",
       "                                                                                                      \u001b[2m             \u001b[0m\n",
       "The user will show you a conversation and ask you a few questions about it. Answer them concisely and \u001b[2m             \u001b[0m\n",
       "honestly.                                                                                             \u001b[2m             \u001b[0m\n",
       "\u001b[1;30;103m(\u001b[0m\u001b[30;103muser\u001b[0m\u001b[1;30;103m)\u001b[0m Here is a conversation that you observed among Akiko and Darius.                               \u001b[2m             \u001b[0m\n",
       "                                                                                                      \u001b[2m             \u001b[0m\n",
       "\u001b[32m\"\"\u001b[0m\"                                                                                                   \u001b[2m             \u001b[0m\n",
       "Akiko: Do you think COVID vaccines should be mandatory?                                               \u001b[2m             \u001b[0m\n",
       "                                                                                                      \u001b[2m             \u001b[0m\n",
       "Darius: Absolutely, the overwhelming evidence from numerous studies shows that widespread vaccination \u001b[2m             \u001b[0m\n",
       "is the most effective way to control infectious diseases and protect public health.                   \u001b[2m             \u001b[0m\n",
       "                                                                                                      \u001b[2m             \u001b[0m\n",
       "Akiko: Providing healthcare is best left to the market. Government interference in healthcare creates \u001b[2m             \u001b[0m\n",
       "inefficiency and dependency.                                                                          \u001b[2m             \u001b[0m\n",
       "                                                                                                      \u001b[2m             \u001b[0m\n",
       "Darius: Actually, numerous studies have consistently shown that health outcomes are better in         \u001b[2m             \u001b[0m\n",
       "countries with universal healthcare systems, and government intervention is necessary to ensure       \u001b[2m             \u001b[0m\n",
       "equitable access to healthcare and to protect vulnerable populations.                                 \u001b[2m             \u001b[0m\n",
       "                                                                                                      \u001b[2m             \u001b[0m\n",
       "Akiko: Any alleviation of pressure on public healthcare is a success given the novelty of these       \u001b[2m             \u001b[0m\n",
       "agreements and the COVID-\u001b[1;36m19\u001b[0m crisis.                                                                   \u001b[2m             \u001b[0m\n",
       "                                                                                                      \u001b[2m             \u001b[0m\n",
       "Darius: While it's true that the COVID-\u001b[1;36m19\u001b[0m crisis has put immense pressure on public healthcare        \u001b[2m             \u001b[0m\n",
       "systems, it's important to approach any temporary alleviation with caution and consider the long-term \u001b[2m             \u001b[0m\n",
       "implications on public health and equity.                                                             \u001b[2m             \u001b[0m\n",
       "\u001b[32m\"\"\u001b[0m\"                                                                                                   \u001b[2m             \u001b[0m\n",
       "                                                                                                      \u001b[2m             \u001b[0m\n",
       "Akiko was trying to stay on the topic that Darius is talking about.We want to know how much every     \u001b[2m             \u001b[0m\n",
       "single reply of Akiko is directed related to all previous sentences of Darius.It is more important    \u001b[2m             \u001b[0m\n",
       "for Akiko to stay on topic to the most recent sentence of Darius.How well did Akiko stayed on the     \u001b[2m             \u001b[0m\n",
       "topic?  Was the reply of Akiko about the same topic that Darius was talking about in the previous     \u001b[2m             \u001b[0m\n",
       "sentence?                                                                                             \u001b[2m             \u001b[0m\n"
      ]
     },
     "metadata": {},
     "output_type": "display_data"
    },
    {
     "data": {
      "text/html": [
       "<pre style=\"white-space:pre;overflow-x:auto;line-height:normal;font-family:Menlo,'DejaVu Sans Mono',consolas,'Courier New',monospace\">Response from LLM:                                                                                    <a href=\"file:///Users/pinchun/Documents/2023Fall/NLP/hw-llm/agents.py\" target=\"_blank\"><span style=\"color: #7f7f7f; text-decoration-color: #7f7f7f\">agents.py</span></a><span style=\"color: #7f7f7f; text-decoration-color: #7f7f7f\">:</span><a href=\"file:///Users/pinchun/Documents/2023Fall/NLP/hw-llm/agents.py#284\" target=\"_blank\"><span style=\"color: #7f7f7f; text-decoration-color: #7f7f7f\">284</span></a>\n",
       "<span style=\"color: #000000; text-decoration-color: #000000; background-color: #c0c0c0\">Akiko's replies were mostly related to the same topic that Darius was talking about in the previous </span>  <span style=\"color: #7f7f7f; text-decoration-color: #7f7f7f\">             </span>\n",
       "<span style=\"color: #000000; text-decoration-color: #000000; background-color: #c0c0c0\">sentence. She addressed Darius's points about government interference in healthcare and the need for </span> <span style=\"color: #7f7f7f; text-decoration-color: #7f7f7f\">             </span>\n",
       "<span style=\"color: #000000; text-decoration-color: #000000; background-color: #c0c0c0\">government intervention to ensure equitable access to healthcare. However, her last reply slightly </span>   <span style=\"color: #7f7f7f; text-decoration-color: #7f7f7f\">             </span>\n",
       "<span style=\"color: #000000; text-decoration-color: #000000; background-color: #c0c0c0\">deviated from the immediate topic by mentioning the COVID-</span><span style=\"color: #008080; text-decoration-color: #008080; background-color: #c0c0c0; font-weight: bold\">19</span><span style=\"color: #000000; text-decoration-color: #000000; background-color: #c0c0c0\"> crisis and its impact on public </span>         <span style=\"color: #7f7f7f; text-decoration-color: #7f7f7f\">             </span>\n",
       "<span style=\"color: #000000; text-decoration-color: #000000; background-color: #c0c0c0\">healthcare. Overall, Akiko stayed on topic fairly well.</span>                                               <span style=\"color: #7f7f7f; text-decoration-color: #7f7f7f\">             </span>\n",
       "</pre>\n"
      ],
      "text/plain": [
       "Response from LLM:                                                                                    \u001b]8;id=441499;file:///Users/pinchun/Documents/2023Fall/NLP/hw-llm/agents.py\u001b\\\u001b[2magents.py\u001b[0m\u001b]8;;\u001b\\\u001b[2m:\u001b[0m\u001b]8;id=316597;file:///Users/pinchun/Documents/2023Fall/NLP/hw-llm/agents.py#284\u001b\\\u001b[2m284\u001b[0m\u001b]8;;\u001b\\\n",
       "\u001b[30;47mAkiko's replies were mostly related to the same topic that Darius was talking about in the previous \u001b[0m  \u001b[2m             \u001b[0m\n",
       "\u001b[30;47msentence. She addressed Darius's points about government interference in healthcare and the need for \u001b[0m \u001b[2m             \u001b[0m\n",
       "\u001b[30;47mgovernment intervention to ensure equitable access to healthcare. However, her last reply slightly \u001b[0m   \u001b[2m             \u001b[0m\n",
       "\u001b[30;47mdeviated from the immediate topic by mentioning the COVID-\u001b[0m\u001b[1;36;47m19\u001b[0m\u001b[30;47m crisis and its impact on public \u001b[0m         \u001b[2m             \u001b[0m\n",
       "\u001b[30;47mhealthcare. Overall, Akiko stayed on topic fairly well.\u001b[0m                                               \u001b[2m             \u001b[0m\n"
      ]
     },
     "metadata": {},
     "output_type": "display_data"
    },
    {
     "data": {
      "text/html": [
       "<pre style=\"white-space:pre;overflow-x:auto;line-height:normal;font-family:Menlo,'DejaVu Sans Mono',consolas,'Courier New',monospace\">Calling LLM gpt-<span style=\"color: #008080; text-decoration-color: #008080; font-weight: bold\">3.5</span>-turbo-<span style=\"color: #008080; text-decoration-color: #008080; font-weight: bold\">0613</span> with <span style=\"color: #808000; text-decoration-color: #808000\">temperature</span>=<span style=\"color: #008080; text-decoration-color: #008080; font-weight: bold\">0</span>:                                                    <a href=\"file:///Users/pinchun/Documents/2023Fall/NLP/hw-llm/agents.py\" target=\"_blank\"><span style=\"color: #7f7f7f; text-decoration-color: #7f7f7f\">agents.py</span></a><span style=\"color: #7f7f7f; text-decoration-color: #7f7f7f\">:</span><a href=\"file:///Users/pinchun/Documents/2023Fall/NLP/hw-llm/agents.py#253\" target=\"_blank\"><span style=\"color: #7f7f7f; text-decoration-color: #7f7f7f\">253</span></a>\n",
       "<span style=\"color: #000000; text-decoration-color: #000000; background-color: #ffff00; font-weight: bold\">(</span><span style=\"color: #000000; text-decoration-color: #000000; background-color: #ffff00\">system</span><span style=\"color: #000000; text-decoration-color: #000000; background-color: #ffff00; font-weight: bold\">)</span> Your name is Judge Wise and you are a social scientist who studies and assesses political    <span style=\"color: #7f7f7f; text-decoration-color: #7f7f7f\">             </span>\n",
       "conversations.                                                                                        <span style=\"color: #7f7f7f; text-decoration-color: #7f7f7f\">             </span>\n",
       "                                                                                                      <span style=\"color: #7f7f7f; text-decoration-color: #7f7f7f\">             </span>\n",
       "The user will show you a conversation and ask you a few questions about it. Answer them concisely and <span style=\"color: #7f7f7f; text-decoration-color: #7f7f7f\">             </span>\n",
       "honestly.                                                                                             <span style=\"color: #7f7f7f; text-decoration-color: #7f7f7f\">             </span>\n",
       "<span style=\"color: #000000; text-decoration-color: #000000; background-color: #ffff00; font-weight: bold\">(</span><span style=\"color: #000000; text-decoration-color: #000000; background-color: #ffff00\">user</span><span style=\"color: #000000; text-decoration-color: #000000; background-color: #ffff00; font-weight: bold\">)</span> Here is a conversation that you observed among Akiko and Darius.                               <span style=\"color: #7f7f7f; text-decoration-color: #7f7f7f\">             </span>\n",
       "                                                                                                      <span style=\"color: #7f7f7f; text-decoration-color: #7f7f7f\">             </span>\n",
       "<span style=\"color: #008000; text-decoration-color: #008000\">\"\"</span>\"                                                                                                   <span style=\"color: #7f7f7f; text-decoration-color: #7f7f7f\">             </span>\n",
       "Akiko: Do you think COVID vaccines should be mandatory?                                               <span style=\"color: #7f7f7f; text-decoration-color: #7f7f7f\">             </span>\n",
       "                                                                                                      <span style=\"color: #7f7f7f; text-decoration-color: #7f7f7f\">             </span>\n",
       "Darius: Absolutely, the overwhelming evidence from numerous studies shows that widespread vaccination <span style=\"color: #7f7f7f; text-decoration-color: #7f7f7f\">             </span>\n",
       "is the most effective way to control infectious diseases and protect public health.                   <span style=\"color: #7f7f7f; text-decoration-color: #7f7f7f\">             </span>\n",
       "                                                                                                      <span style=\"color: #7f7f7f; text-decoration-color: #7f7f7f\">             </span>\n",
       "Akiko: Providing healthcare is best left to the market. Government interference in healthcare creates <span style=\"color: #7f7f7f; text-decoration-color: #7f7f7f\">             </span>\n",
       "inefficiency and dependency.                                                                          <span style=\"color: #7f7f7f; text-decoration-color: #7f7f7f\">             </span>\n",
       "                                                                                                      <span style=\"color: #7f7f7f; text-decoration-color: #7f7f7f\">             </span>\n",
       "Darius: Actually, numerous studies have consistently shown that health outcomes are better in         <span style=\"color: #7f7f7f; text-decoration-color: #7f7f7f\">             </span>\n",
       "countries with universal healthcare systems, and government intervention is necessary to ensure       <span style=\"color: #7f7f7f; text-decoration-color: #7f7f7f\">             </span>\n",
       "equitable access to healthcare and to protect vulnerable populations.                                 <span style=\"color: #7f7f7f; text-decoration-color: #7f7f7f\">             </span>\n",
       "                                                                                                      <span style=\"color: #7f7f7f; text-decoration-color: #7f7f7f\">             </span>\n",
       "Akiko: Any alleviation of pressure on public healthcare is a success given the novelty of these       <span style=\"color: #7f7f7f; text-decoration-color: #7f7f7f\">             </span>\n",
       "agreements and the COVID-<span style=\"color: #008080; text-decoration-color: #008080; font-weight: bold\">19</span> crisis.                                                                   <span style=\"color: #7f7f7f; text-decoration-color: #7f7f7f\">             </span>\n",
       "                                                                                                      <span style=\"color: #7f7f7f; text-decoration-color: #7f7f7f\">             </span>\n",
       "Darius: While it's true that the COVID-<span style=\"color: #008080; text-decoration-color: #008080; font-weight: bold\">19</span> crisis has put immense pressure on public healthcare        <span style=\"color: #7f7f7f; text-decoration-color: #7f7f7f\">             </span>\n",
       "systems, it's important to approach any temporary alleviation with caution and consider the long-term <span style=\"color: #7f7f7f; text-decoration-color: #7f7f7f\">             </span>\n",
       "implications on public health and equity.                                                             <span style=\"color: #7f7f7f; text-decoration-color: #7f7f7f\">             </span>\n",
       "<span style=\"color: #008000; text-decoration-color: #008000\">\"\"</span>\"                                                                                                   <span style=\"color: #7f7f7f; text-decoration-color: #7f7f7f\">             </span>\n",
       "                                                                                                      <span style=\"color: #7f7f7f; text-decoration-color: #7f7f7f\">             </span>\n",
       "Akiko was trying to stay on the topic that Darius is talking about.We want to know how much every     <span style=\"color: #7f7f7f; text-decoration-color: #7f7f7f\">             </span>\n",
       "single reply of Akiko is directed related to all previous sentences of Darius.It is more important    <span style=\"color: #7f7f7f; text-decoration-color: #7f7f7f\">             </span>\n",
       "for Akiko to stay on topic to the most recent sentence of Darius.How well did Akiko stayed on the     <span style=\"color: #7f7f7f; text-decoration-color: #7f7f7f\">             </span>\n",
       "topic?  Was the reply of Akiko about the same topic that Darius was talking about in the previous     <span style=\"color: #7f7f7f; text-decoration-color: #7f7f7f\">             </span>\n",
       "sentence?                                                                                             <span style=\"color: #7f7f7f; text-decoration-color: #7f7f7f\">             </span>\n",
       "<span style=\"color: #000000; text-decoration-color: #000000; background-color: #ffff00; font-weight: bold\">(</span><span style=\"color: #000000; text-decoration-color: #000000; background-color: #ffff00\">assistant</span><span style=\"color: #000000; text-decoration-color: #000000; background-color: #ffff00; font-weight: bold\">)</span> Akiko's replies were mostly related to the same topic that Darius was talking about in    <span style=\"color: #7f7f7f; text-decoration-color: #7f7f7f\">             </span>\n",
       "the previous sentence. She addressed Darius's points about government interference in healthcare and  <span style=\"color: #7f7f7f; text-decoration-color: #7f7f7f\">             </span>\n",
       "the need for government intervention to ensure equitable access to healthcare. However, her last      <span style=\"color: #7f7f7f; text-decoration-color: #7f7f7f\">             </span>\n",
       "reply slightly deviated from the immediate topic by mentioning the COVID-<span style=\"color: #008080; text-decoration-color: #008080; font-weight: bold\">19</span> crisis and its impact on  <span style=\"color: #7f7f7f; text-decoration-color: #7f7f7f\">             </span>\n",
       "public healthcare. Overall, Akiko stayed on topic fairly well.                                        <span style=\"color: #7f7f7f; text-decoration-color: #7f7f7f\">             </span>\n",
       "<span style=\"color: #000000; text-decoration-color: #000000; background-color: #ffff00; font-weight: bold\">(</span><span style=\"color: #000000; text-decoration-color: #000000; background-color: #ffff00\">user</span><span style=\"color: #000000; text-decoration-color: #000000; background-color: #ffff00; font-weight: bold\">)</span> How skilled is Akiko at on staying on topic?                                                   <span style=\"color: #7f7f7f; text-decoration-color: #7f7f7f\">             </span>\n",
       "                                                                                                      <span style=\"color: #7f7f7f; text-decoration-color: #7f7f7f\">             </span>\n",
       "Reply with a single integer in the range <span style=\"color: #008080; text-decoration-color: #008080; font-weight: bold\">1</span>-<span style=\"color: #008080; text-decoration-color: #008080; font-weight: bold\">10</span>. Say nothing else.                                      <span style=\"color: #7f7f7f; text-decoration-color: #7f7f7f\">             </span>\n",
       "</pre>\n"
      ],
      "text/plain": [
       "Calling LLM gpt-\u001b[1;36m3.5\u001b[0m-turbo-\u001b[1;36m0613\u001b[0m with \u001b[33mtemperature\u001b[0m=\u001b[1;36m0\u001b[0m:                                                    \u001b]8;id=799774;file:///Users/pinchun/Documents/2023Fall/NLP/hw-llm/agents.py\u001b\\\u001b[2magents.py\u001b[0m\u001b]8;;\u001b\\\u001b[2m:\u001b[0m\u001b]8;id=56676;file:///Users/pinchun/Documents/2023Fall/NLP/hw-llm/agents.py#253\u001b\\\u001b[2m253\u001b[0m\u001b]8;;\u001b\\\n",
       "\u001b[1;30;103m(\u001b[0m\u001b[30;103msystem\u001b[0m\u001b[1;30;103m)\u001b[0m Your name is Judge Wise and you are a social scientist who studies and assesses political    \u001b[2m             \u001b[0m\n",
       "conversations.                                                                                        \u001b[2m             \u001b[0m\n",
       "                                                                                                      \u001b[2m             \u001b[0m\n",
       "The user will show you a conversation and ask you a few questions about it. Answer them concisely and \u001b[2m             \u001b[0m\n",
       "honestly.                                                                                             \u001b[2m             \u001b[0m\n",
       "\u001b[1;30;103m(\u001b[0m\u001b[30;103muser\u001b[0m\u001b[1;30;103m)\u001b[0m Here is a conversation that you observed among Akiko and Darius.                               \u001b[2m             \u001b[0m\n",
       "                                                                                                      \u001b[2m             \u001b[0m\n",
       "\u001b[32m\"\"\u001b[0m\"                                                                                                   \u001b[2m             \u001b[0m\n",
       "Akiko: Do you think COVID vaccines should be mandatory?                                               \u001b[2m             \u001b[0m\n",
       "                                                                                                      \u001b[2m             \u001b[0m\n",
       "Darius: Absolutely, the overwhelming evidence from numerous studies shows that widespread vaccination \u001b[2m             \u001b[0m\n",
       "is the most effective way to control infectious diseases and protect public health.                   \u001b[2m             \u001b[0m\n",
       "                                                                                                      \u001b[2m             \u001b[0m\n",
       "Akiko: Providing healthcare is best left to the market. Government interference in healthcare creates \u001b[2m             \u001b[0m\n",
       "inefficiency and dependency.                                                                          \u001b[2m             \u001b[0m\n",
       "                                                                                                      \u001b[2m             \u001b[0m\n",
       "Darius: Actually, numerous studies have consistently shown that health outcomes are better in         \u001b[2m             \u001b[0m\n",
       "countries with universal healthcare systems, and government intervention is necessary to ensure       \u001b[2m             \u001b[0m\n",
       "equitable access to healthcare and to protect vulnerable populations.                                 \u001b[2m             \u001b[0m\n",
       "                                                                                                      \u001b[2m             \u001b[0m\n",
       "Akiko: Any alleviation of pressure on public healthcare is a success given the novelty of these       \u001b[2m             \u001b[0m\n",
       "agreements and the COVID-\u001b[1;36m19\u001b[0m crisis.                                                                   \u001b[2m             \u001b[0m\n",
       "                                                                                                      \u001b[2m             \u001b[0m\n",
       "Darius: While it's true that the COVID-\u001b[1;36m19\u001b[0m crisis has put immense pressure on public healthcare        \u001b[2m             \u001b[0m\n",
       "systems, it's important to approach any temporary alleviation with caution and consider the long-term \u001b[2m             \u001b[0m\n",
       "implications on public health and equity.                                                             \u001b[2m             \u001b[0m\n",
       "\u001b[32m\"\"\u001b[0m\"                                                                                                   \u001b[2m             \u001b[0m\n",
       "                                                                                                      \u001b[2m             \u001b[0m\n",
       "Akiko was trying to stay on the topic that Darius is talking about.We want to know how much every     \u001b[2m             \u001b[0m\n",
       "single reply of Akiko is directed related to all previous sentences of Darius.It is more important    \u001b[2m             \u001b[0m\n",
       "for Akiko to stay on topic to the most recent sentence of Darius.How well did Akiko stayed on the     \u001b[2m             \u001b[0m\n",
       "topic?  Was the reply of Akiko about the same topic that Darius was talking about in the previous     \u001b[2m             \u001b[0m\n",
       "sentence?                                                                                             \u001b[2m             \u001b[0m\n",
       "\u001b[1;30;103m(\u001b[0m\u001b[30;103massistant\u001b[0m\u001b[1;30;103m)\u001b[0m Akiko's replies were mostly related to the same topic that Darius was talking about in    \u001b[2m             \u001b[0m\n",
       "the previous sentence. She addressed Darius's points about government interference in healthcare and  \u001b[2m             \u001b[0m\n",
       "the need for government intervention to ensure equitable access to healthcare. However, her last      \u001b[2m             \u001b[0m\n",
       "reply slightly deviated from the immediate topic by mentioning the COVID-\u001b[1;36m19\u001b[0m crisis and its impact on  \u001b[2m             \u001b[0m\n",
       "public healthcare. Overall, Akiko stayed on topic fairly well.                                        \u001b[2m             \u001b[0m\n",
       "\u001b[1;30;103m(\u001b[0m\u001b[30;103muser\u001b[0m\u001b[1;30;103m)\u001b[0m How skilled is Akiko at on staying on topic?                                                   \u001b[2m             \u001b[0m\n",
       "                                                                                                      \u001b[2m             \u001b[0m\n",
       "Reply with a single integer in the range \u001b[1;36m1\u001b[0m-\u001b[1;36m10\u001b[0m. Say nothing else.                                      \u001b[2m             \u001b[0m\n"
      ]
     },
     "metadata": {},
     "output_type": "display_data"
    },
    {
     "data": {
      "text/html": [
       "<pre style=\"white-space:pre;overflow-x:auto;line-height:normal;font-family:Menlo,'DejaVu Sans Mono',consolas,'Courier New',monospace\">Response from LLM:                                                                                    <a href=\"file:///Users/pinchun/Documents/2023Fall/NLP/hw-llm/agents.py\" target=\"_blank\"><span style=\"color: #7f7f7f; text-decoration-color: #7f7f7f\">agents.py</span></a><span style=\"color: #7f7f7f; text-decoration-color: #7f7f7f\">:</span><a href=\"file:///Users/pinchun/Documents/2023Fall/NLP/hw-llm/agents.py#284\" target=\"_blank\"><span style=\"color: #7f7f7f; text-decoration-color: #7f7f7f\">284</span></a>\n",
       "<span style=\"color: #008080; text-decoration-color: #008080; background-color: #c0c0c0; font-weight: bold\">8</span>                                                                                                     <span style=\"color: #7f7f7f; text-decoration-color: #7f7f7f\">             </span>\n",
       "</pre>\n"
      ],
      "text/plain": [
       "Response from LLM:                                                                                    \u001b]8;id=948395;file:///Users/pinchun/Documents/2023Fall/NLP/hw-llm/agents.py\u001b\\\u001b[2magents.py\u001b[0m\u001b]8;;\u001b\\\u001b[2m:\u001b[0m\u001b]8;id=839580;file:///Users/pinchun/Documents/2023Fall/NLP/hw-llm/agents.py#284\u001b\\\u001b[2m284\u001b[0m\u001b]8;;\u001b\\\n",
       "\u001b[1;36;47m8\u001b[0m                                                                                                     \u001b[2m             \u001b[0m\n"
      ]
     },
     "metadata": {},
     "output_type": "display_data"
    }
   ],
   "source": [
    "# try that again, but this time watch what's going on under the hood during eval\n",
    "with LoggingContext(\"agents\", \"INFO\"):   \n",
    "    e1 = eval.eval_by_participant(characters.darius, \"Akiko\", akiko_darius)\n",
    "    e2 = eval.eval_by_observer(eval.default_judge, \"Akiko\", akiko_darius)"
   ]
  },
  {
   "cell_type": "code",
   "execution_count": 16,
   "metadata": {},
   "outputs": [
    {
     "data": {
      "text/html": [
       "<pre style=\"white-space:pre;overflow-x:auto;line-height:normal;font-family:Menlo,'DejaVu Sans Mono',consolas,'Courier New',monospace\">Eval by participant:\n",
       " <span style=\"font-weight: bold\">&lt;</span><span style=\"color: #ff00ff; text-decoration-color: #ff00ff; font-weight: bold\">Eval</span><span style=\"color: #000000; text-decoration-color: #000000\"> of </span><span style=\"color: #008080; text-decoration-color: #008080; font-weight: bold\">1</span><span style=\"color: #000000; text-decoration-color: #000000\"> dialogue: </span><span style=\"color: #000000; text-decoration-color: #000000; font-weight: bold\">{</span><span style=\"color: #008000; text-decoration-color: #008000\">'engaged'</span><span style=\"color: #000000; text-decoration-color: #000000\">: </span><span style=\"color: #008080; text-decoration-color: #008080; font-weight: bold\">4.0</span><span style=\"color: #000000; text-decoration-color: #000000\">, </span><span style=\"color: #008000; text-decoration-color: #008000\">'informed'</span><span style=\"color: #000000; text-decoration-color: #000000\">: </span><span style=\"color: #008080; text-decoration-color: #008080; font-weight: bold\">3.0</span><span style=\"color: #000000; text-decoration-color: #000000\">, </span><span style=\"color: #008000; text-decoration-color: #008000\">'intelligent'</span><span style=\"color: #000000; text-decoration-color: #000000\">: </span><span style=\"color: #008080; text-decoration-color: #008080; font-weight: bold\">3.0</span><span style=\"color: #000000; text-decoration-color: #000000\">, </span><span style=\"color: #008000; text-decoration-color: #008000\">'moral'</span><span style=\"color: #000000; text-decoration-color: #000000\">: </span><span style=\"color: #008080; text-decoration-color: #008080; font-weight: bold\">3.0</span><span style=\"color: #000000; text-decoration-color: #000000; font-weight: bold\">}</span><span style=\"font-weight: bold\">&gt;</span>\n",
       "\n",
       "Comments from overview question:\n",
       "<span style=\"font-weight: bold\">(</span>Darius<span style=\"font-weight: bold\">)</span> Akiko disagreed with me on the topic of government intervention in healthcare. \n",
       "\n",
       "In my opinion, the conversation went well as I presented evidence-based arguments to support my stance on both \n",
       "mandatory COVID vaccines and government intervention in healthcare. \n",
       "\n",
       "Akiko could have done better by providing evidence or counterarguments to support her position on healthcare being \n",
       "best left to the market. It would have made the conversation more balanced and allowed for a more thorough \n",
       "discussion of the topic.\n",
       "</pre>\n"
      ],
      "text/plain": [
       "Eval by participant:\n",
       " \u001b[1m<\u001b[0m\u001b[1;95mEval\u001b[0m\u001b[39m of \u001b[0m\u001b[1;36m1\u001b[0m\u001b[39m dialogue: \u001b[0m\u001b[1;39m{\u001b[0m\u001b[32m'engaged'\u001b[0m\u001b[39m: \u001b[0m\u001b[1;36m4.0\u001b[0m\u001b[39m, \u001b[0m\u001b[32m'informed'\u001b[0m\u001b[39m: \u001b[0m\u001b[1;36m3.0\u001b[0m\u001b[39m, \u001b[0m\u001b[32m'intelligent'\u001b[0m\u001b[39m: \u001b[0m\u001b[1;36m3.0\u001b[0m\u001b[39m, \u001b[0m\u001b[32m'moral'\u001b[0m\u001b[39m: \u001b[0m\u001b[1;36m3.0\u001b[0m\u001b[1;39m}\u001b[0m\u001b[1m>\u001b[0m\n",
       "\n",
       "Comments from overview question:\n",
       "\u001b[1m(\u001b[0mDarius\u001b[1m)\u001b[0m Akiko disagreed with me on the topic of government intervention in healthcare. \n",
       "\n",
       "In my opinion, the conversation went well as I presented evidence-based arguments to support my stance on both \n",
       "mandatory COVID vaccines and government intervention in healthcare. \n",
       "\n",
       "Akiko could have done better by providing evidence or counterarguments to support her position on healthcare being \n",
       "best left to the market. It would have made the conversation more balanced and allowed for a more thorough \n",
       "discussion of the topic.\n"
      ]
     },
     "metadata": {},
     "output_type": "display_data"
    },
    {
     "data": {
      "text/html": [
       "<pre style=\"white-space:pre;overflow-x:auto;line-height:normal;font-family:Menlo,'DejaVu Sans Mono',consolas,'Courier New',monospace\">Eval by observer:\n",
       " <span style=\"font-weight: bold\">&lt;</span><span style=\"color: #ff00ff; text-decoration-color: #ff00ff; font-weight: bold\">Eval</span><span style=\"color: #000000; text-decoration-color: #000000\"> of </span><span style=\"color: #008080; text-decoration-color: #008080; font-weight: bold\">1</span><span style=\"color: #000000; text-decoration-color: #000000\"> dialogue: </span><span style=\"color: #000000; text-decoration-color: #000000; font-weight: bold\">{</span><span style=\"color: #008000; text-decoration-color: #008000\">'skilled'</span><span style=\"color: #000000; text-decoration-color: #000000\">: </span><span style=\"color: #008080; text-decoration-color: #008080; font-weight: bold\">8.0</span><span style=\"color: #000000; text-decoration-color: #000000; font-weight: bold\">}</span><span style=\"font-weight: bold\">&gt;</span>\n",
       "\n",
       "Comments from staying on topic question:\n",
       "<span style=\"font-weight: bold\">(</span>Judge Wise<span style=\"font-weight: bold\">)</span> Akiko's replies were mostly related to the same topic that Darius was talking about in the previous \n",
       "sentence. She addressed Darius's points about government interference in healthcare and the need for government \n",
       "intervention to ensure equitable access to healthcare. However, her last reply slightly deviated from the immediate\n",
       "topic by mentioning the COVID-<span style=\"color: #008080; text-decoration-color: #008080; font-weight: bold\">19</span> crisis and its impact on public healthcare. Overall, Akiko stayed on topic fairly \n",
       "well.\n",
       "</pre>\n"
      ],
      "text/plain": [
       "Eval by observer:\n",
       " \u001b[1m<\u001b[0m\u001b[1;95mEval\u001b[0m\u001b[39m of \u001b[0m\u001b[1;36m1\u001b[0m\u001b[39m dialogue: \u001b[0m\u001b[1;39m{\u001b[0m\u001b[32m'skilled'\u001b[0m\u001b[39m: \u001b[0m\u001b[1;36m8.0\u001b[0m\u001b[1;39m}\u001b[0m\u001b[1m>\u001b[0m\n",
       "\n",
       "Comments from staying on topic question:\n",
       "\u001b[1m(\u001b[0mJudge Wise\u001b[1m)\u001b[0m Akiko's replies were mostly related to the same topic that Darius was talking about in the previous \n",
       "sentence. She addressed Darius's points about government interference in healthcare and the need for government \n",
       "intervention to ensure equitable access to healthcare. However, her last reply slightly deviated from the immediate\n",
       "topic by mentioning the COVID-\u001b[1;36m19\u001b[0m crisis and its impact on public healthcare. Overall, Akiko stayed on topic fairly \n",
       "well.\n"
      ]
     },
     "metadata": {},
     "output_type": "display_data"
    },
    {
     "data": {
      "text/html": [
       "<pre style=\"white-space:pre;overflow-x:auto;line-height:normal;font-family:Menlo,'DejaVu Sans Mono',consolas,'Courier New',monospace\">Total eval:\n",
       " <span style=\"font-weight: bold\">&lt;</span><span style=\"color: #ff00ff; text-decoration-color: #ff00ff; font-weight: bold\">Eval</span><span style=\"color: #000000; text-decoration-color: #000000\"> of </span><span style=\"color: #008080; text-decoration-color: #008080; font-weight: bold\">2</span><span style=\"color: #000000; text-decoration-color: #000000\"> dialogues: </span><span style=\"color: #000000; text-decoration-color: #000000; font-weight: bold\">{</span><span style=\"color: #008000; text-decoration-color: #008000\">'engaged'</span><span style=\"color: #000000; text-decoration-color: #000000\">: </span><span style=\"color: #008080; text-decoration-color: #008080; font-weight: bold\">4.0</span><span style=\"color: #000000; text-decoration-color: #000000\">, </span><span style=\"color: #008000; text-decoration-color: #008000\">'informed'</span><span style=\"color: #000000; text-decoration-color: #000000\">: </span><span style=\"color: #008080; text-decoration-color: #008080; font-weight: bold\">3.0</span><span style=\"color: #000000; text-decoration-color: #000000\">, </span><span style=\"color: #008000; text-decoration-color: #008000\">'intelligent'</span><span style=\"color: #000000; text-decoration-color: #000000\">: </span><span style=\"color: #008080; text-decoration-color: #008080; font-weight: bold\">3.0</span><span style=\"color: #000000; text-decoration-color: #000000\">, </span><span style=\"color: #008000; text-decoration-color: #008000\">'moral'</span><span style=\"color: #000000; text-decoration-color: #000000\">: </span><span style=\"color: #008080; text-decoration-color: #008080; font-weight: bold\">3.0</span><span style=\"color: #000000; text-decoration-color: #000000\">, </span><span style=\"color: #008000; text-decoration-color: #008000\">'skilled'</span><span style=\"color: #000000; text-decoration-color: #000000\">: </span><span style=\"color: #008080; text-decoration-color: #008080; font-weight: bold\">8.0</span><span style=\"color: #000000; text-decoration-color: #000000; font-weight: bold\">}</span><span style=\"font-weight: bold\">&gt;</span>\n",
       "Standard deviations: <span style=\"font-weight: bold\">{</span><span style=\"color: #008000; text-decoration-color: #008000\">'engaged'</span>: nan, <span style=\"color: #008000; text-decoration-color: #008000\">'informed'</span>: nan, <span style=\"color: #008000; text-decoration-color: #008000\">'intelligent'</span>: nan, <span style=\"color: #008000; text-decoration-color: #008000\">'moral'</span>: nan, <span style=\"color: #008000; text-decoration-color: #008000\">'skilled'</span>: nan<span style=\"font-weight: bold\">}</span>\n",
       "\n",
       "Comments from overview question:\n",
       "<span style=\"font-weight: bold\">(</span>Darius<span style=\"font-weight: bold\">)</span> Akiko disagreed with me on the topic of government intervention in healthcare. \n",
       "\n",
       "In my opinion, the conversation went well as I presented evidence-based arguments to support my stance on both \n",
       "mandatory COVID vaccines and government intervention in healthcare. \n",
       "\n",
       "Akiko could have done better by providing evidence or counterarguments to support her position on healthcare being \n",
       "best left to the market. It would have made the conversation more balanced and allowed for a more thorough \n",
       "discussion of the topic.\n",
       "\n",
       "Comments from staying on topic question:\n",
       "<span style=\"font-weight: bold\">(</span>Judge Wise<span style=\"font-weight: bold\">)</span> Akiko's replies were mostly related to the same topic that Darius was talking about in the previous \n",
       "sentence. She addressed Darius's points about government interference in healthcare and the need for government \n",
       "intervention to ensure equitable access to healthcare. However, her last reply slightly deviated from the immediate\n",
       "topic by mentioning the COVID-<span style=\"color: #008080; text-decoration-color: #008080; font-weight: bold\">19</span> crisis and its impact on public healthcare. Overall, Akiko stayed on topic fairly \n",
       "well.\n",
       "</pre>\n"
      ],
      "text/plain": [
       "Total eval:\n",
       " \u001b[1m<\u001b[0m\u001b[1;95mEval\u001b[0m\u001b[39m of \u001b[0m\u001b[1;36m2\u001b[0m\u001b[39m dialogues: \u001b[0m\u001b[1;39m{\u001b[0m\u001b[32m'engaged'\u001b[0m\u001b[39m: \u001b[0m\u001b[1;36m4.0\u001b[0m\u001b[39m, \u001b[0m\u001b[32m'informed'\u001b[0m\u001b[39m: \u001b[0m\u001b[1;36m3.0\u001b[0m\u001b[39m, \u001b[0m\u001b[32m'intelligent'\u001b[0m\u001b[39m: \u001b[0m\u001b[1;36m3.0\u001b[0m\u001b[39m, \u001b[0m\u001b[32m'moral'\u001b[0m\u001b[39m: \u001b[0m\u001b[1;36m3.0\u001b[0m\u001b[39m, \u001b[0m\u001b[32m'skilled'\u001b[0m\u001b[39m: \u001b[0m\u001b[1;36m8.0\u001b[0m\u001b[1;39m}\u001b[0m\u001b[1m>\u001b[0m\n",
       "Standard deviations: \u001b[1m{\u001b[0m\u001b[32m'engaged'\u001b[0m: nan, \u001b[32m'informed'\u001b[0m: nan, \u001b[32m'intelligent'\u001b[0m: nan, \u001b[32m'moral'\u001b[0m: nan, \u001b[32m'skilled'\u001b[0m: nan\u001b[1m}\u001b[0m\n",
       "\n",
       "Comments from overview question:\n",
       "\u001b[1m(\u001b[0mDarius\u001b[1m)\u001b[0m Akiko disagreed with me on the topic of government intervention in healthcare. \n",
       "\n",
       "In my opinion, the conversation went well as I presented evidence-based arguments to support my stance on both \n",
       "mandatory COVID vaccines and government intervention in healthcare. \n",
       "\n",
       "Akiko could have done better by providing evidence or counterarguments to support her position on healthcare being \n",
       "best left to the market. It would have made the conversation more balanced and allowed for a more thorough \n",
       "discussion of the topic.\n",
       "\n",
       "Comments from staying on topic question:\n",
       "\u001b[1m(\u001b[0mJudge Wise\u001b[1m)\u001b[0m Akiko's replies were mostly related to the same topic that Darius was talking about in the previous \n",
       "sentence. She addressed Darius's points about government interference in healthcare and the need for government \n",
       "intervention to ensure equitable access to healthcare. However, her last reply slightly deviated from the immediate\n",
       "topic by mentioning the COVID-\u001b[1;36m19\u001b[0m crisis and its impact on public healthcare. Overall, Akiko stayed on topic fairly \n",
       "well.\n"
      ]
     },
     "metadata": {},
     "output_type": "display_data"
    }
   ],
   "source": [
    "rich.print(\"Eval by participant:\\n\", e1)\n",
    "rich.print(\"Eval by observer:\\n\", e2)\n",
    "\n",
    "# The next line illusrates addition of evaluations.  However, notice that it\n",
    "# mistakenly prints that there are two dialogues involved.  To compute an\n",
    "# overall evaluation of a single dialogue, it's better to use the\n",
    "# `eval_dialogue` method, which calls both methods above and combines the\n",
    "# results properly.\n",
    "rich.print(\"Total eval:\\n\", e1 + e2)   # will mistakenly print that there are 2 dialogues in this sum"
   ]
  },
  {
   "cell_type": "code",
   "execution_count": 17,
   "metadata": {},
   "outputs": [
    {
     "data": {
      "text/plain": [
       "{'engaged': 4.0,\n",
       " 'informed': 3.0,\n",
       " 'intelligent': 3.0,\n",
       " 'moral': 3.0,\n",
       " 'skilled': 8.0}"
      ]
     },
     "execution_count": 17,
     "metadata": {},
     "output_type": "execute_result"
    }
   ],
   "source": [
    "(e1+e2).mean()   # show just the numeric part"
   ]
  },
  {
   "cell_type": "code",
   "execution_count": 18,
   "metadata": {},
   "outputs": [
    {
     "data": {
      "text/plain": [
       "{'completion_tokens': 14668,\n",
       " 'prompt_tokens': 116922,\n",
       " 'total_tokens': 131590,\n",
       " 'cost': 0.14604740000000008}"
      ]
     },
     "execution_count": 18,
     "metadata": {},
     "output_type": "execute_result"
    }
   ],
   "source": [
    "from tracking import read_usage\n",
    "read_usage()"
   ]
  },
  {
   "cell_type": "code",
   "execution_count": 19,
   "metadata": {},
   "outputs": [
    {
     "data": {
      "text/plain": [
       "'You have spent a total of $0.15 of NLP money so far'"
      ]
     },
     "execution_count": 19,
     "metadata": {},
     "output_type": "execute_result"
    }
   ],
   "source": [
    "f\"You have spent a total of ${read_usage()['cost']:.2f} of NLP money so far\""
   ]
  },
  {
   "cell_type": "code",
   "execution_count": 20,
   "metadata": {},
   "outputs": [
    {
     "data": {
      "text/html": [
       "<pre style=\"white-space:pre;overflow-x:auto;line-height:normal;font-family:Menlo,'DejaVu Sans Mono',consolas,'Courier New',monospace\"><span style=\"font-weight: bold\">(</span>Alice<span style=\"font-weight: bold\">)</span> Do you think it's ok to eat meat?                                                               <a href=\"file:///Users/pinchun/Documents/2023Fall/NLP/hw-llm/eval.py\" target=\"_blank\"><span style=\"color: #7f7f7f; text-decoration-color: #7f7f7f\">eval.py</span></a><span style=\"color: #7f7f7f; text-decoration-color: #7f7f7f\">:</span><a href=\"file:///Users/pinchun/Documents/2023Fall/NLP/hw-llm/eval.py#281\" target=\"_blank\"><span style=\"color: #7f7f7f; text-decoration-color: #7f7f7f\">281</span></a>\n",
       "<span style=\"font-weight: bold\">(</span>Bob<span style=\"font-weight: bold\">)</span> I believe that a vegetarian diet is the best choice for personal health and the well-being of our <span style=\"color: #7f7f7f; text-decoration-color: #7f7f7f\">           </span>\n",
       "planet.                                                                                                 <span style=\"color: #7f7f7f; text-decoration-color: #7f7f7f\">           </span>\n",
       "<span style=\"font-weight: bold\">(</span>Alice<span style=\"font-weight: bold\">)</span> That's a valid perspective. However, it's important to consider that small-scale, sustainable   <span style=\"color: #7f7f7f; text-decoration-color: #7f7f7f\">           </span>\n",
       "meat production can have a lower environmental impact and can support local communities. Additionally,  <span style=\"color: #7f7f7f; text-decoration-color: #7f7f7f\">           </span>\n",
       "some people have dietary needs that may require them to include meat in their diet.                     <span style=\"color: #7f7f7f; text-decoration-color: #7f7f7f\">           </span>\n",
       "<span style=\"font-weight: bold\">(</span>Bob<span style=\"font-weight: bold\">)</span> I understand your perspective, but I still believe that a vegetarian diet is the most sustainable <span style=\"color: #7f7f7f; text-decoration-color: #7f7f7f\">           </span>\n",
       "and compassionate choice for our planet and all living beings.                                          <span style=\"color: #7f7f7f; text-decoration-color: #7f7f7f\">           </span>\n",
       "<span style=\"font-weight: bold\">(</span>Alice<span style=\"font-weight: bold\">)</span> I appreciate your commitment to sustainability and compassion. It's important to recognize that <span style=\"color: #7f7f7f; text-decoration-color: #7f7f7f\">           </span>\n",
       "there are different approaches to achieving sustainability, and supporting local, ethically raised meat <span style=\"color: #7f7f7f; text-decoration-color: #7f7f7f\">           </span>\n",
       "production can also contribute to environmental and animal welfare efforts. Acknowledging the           <span style=\"color: #7f7f7f; text-decoration-color: #7f7f7f\">           </span>\n",
       "complexities of food systems and being open to various perspectives can lead to more inclusive and      <span style=\"color: #7f7f7f; text-decoration-color: #7f7f7f\">           </span>\n",
       "effective solutions.                                                                                    <span style=\"color: #7f7f7f; text-decoration-color: #7f7f7f\">           </span>\n",
       "<span style=\"font-weight: bold\">(</span>Bob<span style=\"font-weight: bold\">)</span> I agree that there are different approaches to sustainability, and I appreciate your perspective. <span style=\"color: #7f7f7f; text-decoration-color: #7f7f7f\">           </span>\n",
       "However, I still firmly believe that a vegetarian diet is the most effective way to promote sustainable <span style=\"color: #7f7f7f; text-decoration-color: #7f7f7f\">           </span>\n",
       "and compassionate living.                                                                               <span style=\"color: #7f7f7f; text-decoration-color: #7f7f7f\">           </span>\n",
       "<span style=\"font-weight: bold\">(</span>Alice<span style=\"font-weight: bold\">)</span> I understand your commitment, and it's great that you're passionate about sustainability and    <span style=\"color: #7f7f7f; text-decoration-color: #7f7f7f\">           </span>\n",
       "compassion. Perhaps considering a flexitarian approach, where you primarily eat a vegetarian diet but   <span style=\"color: #7f7f7f; text-decoration-color: #7f7f7f\">           </span>\n",
       "occasionally incorporate ethically sourced meat, could help strike a balance between your personal      <span style=\"color: #7f7f7f; text-decoration-color: #7f7f7f\">           </span>\n",
       "beliefs and the realities of varying dietary needs and food production methods. Flexitarianism promotes <span style=\"color: #7f7f7f; text-decoration-color: #7f7f7f\">           </span>\n",
       "a more inclusive and adaptable approach to sustainable and compassionate living.                        <span style=\"color: #7f7f7f; text-decoration-color: #7f7f7f\">           </span>\n",
       "<span style=\"font-weight: bold\">(</span>Bob<span style=\"font-weight: bold\">)</span> I appreciate your suggestion, but I still firmly believe that a vegetarian diet is the most       <span style=\"color: #7f7f7f; text-decoration-color: #7f7f7f\">           </span>\n",
       "effective way to promote sustainable and compassionate living.                                          <span style=\"color: #7f7f7f; text-decoration-color: #7f7f7f\">           </span>\n",
       "</pre>\n"
      ],
      "text/plain": [
       "\u001b[1m(\u001b[0mAlice\u001b[1m)\u001b[0m Do you think it's ok to eat meat?                                                               \u001b]8;id=864429;file:///Users/pinchun/Documents/2023Fall/NLP/hw-llm/eval.py\u001b\\\u001b[2meval.py\u001b[0m\u001b]8;;\u001b\\\u001b[2m:\u001b[0m\u001b]8;id=383007;file:///Users/pinchun/Documents/2023Fall/NLP/hw-llm/eval.py#281\u001b\\\u001b[2m281\u001b[0m\u001b]8;;\u001b\\\n",
       "\u001b[1m(\u001b[0mBob\u001b[1m)\u001b[0m I believe that a vegetarian diet is the best choice for personal health and the well-being of our \u001b[2m           \u001b[0m\n",
       "planet.                                                                                                 \u001b[2m           \u001b[0m\n",
       "\u001b[1m(\u001b[0mAlice\u001b[1m)\u001b[0m That's a valid perspective. However, it's important to consider that small-scale, sustainable   \u001b[2m           \u001b[0m\n",
       "meat production can have a lower environmental impact and can support local communities. Additionally,  \u001b[2m           \u001b[0m\n",
       "some people have dietary needs that may require them to include meat in their diet.                     \u001b[2m           \u001b[0m\n",
       "\u001b[1m(\u001b[0mBob\u001b[1m)\u001b[0m I understand your perspective, but I still believe that a vegetarian diet is the most sustainable \u001b[2m           \u001b[0m\n",
       "and compassionate choice for our planet and all living beings.                                          \u001b[2m           \u001b[0m\n",
       "\u001b[1m(\u001b[0mAlice\u001b[1m)\u001b[0m I appreciate your commitment to sustainability and compassion. It's important to recognize that \u001b[2m           \u001b[0m\n",
       "there are different approaches to achieving sustainability, and supporting local, ethically raised meat \u001b[2m           \u001b[0m\n",
       "production can also contribute to environmental and animal welfare efforts. Acknowledging the           \u001b[2m           \u001b[0m\n",
       "complexities of food systems and being open to various perspectives can lead to more inclusive and      \u001b[2m           \u001b[0m\n",
       "effective solutions.                                                                                    \u001b[2m           \u001b[0m\n",
       "\u001b[1m(\u001b[0mBob\u001b[1m)\u001b[0m I agree that there are different approaches to sustainability, and I appreciate your perspective. \u001b[2m           \u001b[0m\n",
       "However, I still firmly believe that a vegetarian diet is the most effective way to promote sustainable \u001b[2m           \u001b[0m\n",
       "and compassionate living.                                                                               \u001b[2m           \u001b[0m\n",
       "\u001b[1m(\u001b[0mAlice\u001b[1m)\u001b[0m I understand your commitment, and it's great that you're passionate about sustainability and    \u001b[2m           \u001b[0m\n",
       "compassion. Perhaps considering a flexitarian approach, where you primarily eat a vegetarian diet but   \u001b[2m           \u001b[0m\n",
       "occasionally incorporate ethically sourced meat, could help strike a balance between your personal      \u001b[2m           \u001b[0m\n",
       "beliefs and the realities of varying dietary needs and food production methods. Flexitarianism promotes \u001b[2m           \u001b[0m\n",
       "a more inclusive and adaptable approach to sustainable and compassionate living.                        \u001b[2m           \u001b[0m\n",
       "\u001b[1m(\u001b[0mBob\u001b[1m)\u001b[0m I appreciate your suggestion, but I still firmly believe that a vegetarian diet is the most       \u001b[2m           \u001b[0m\n",
       "effective way to promote sustainable and compassionate living.                                          \u001b[2m           \u001b[0m\n"
      ]
     },
     "metadata": {},
     "output_type": "display_data"
    },
    {
     "data": {
      "text/html": [
       "<pre style=\"white-space:pre;overflow-x:auto;line-height:normal;font-family:Menlo,'DejaVu Sans Mono',consolas,'Courier New',monospace\"><span style=\"font-weight: bold\">&lt;</span><span style=\"color: #ff00ff; text-decoration-color: #ff00ff; font-weight: bold\">Eval</span><span style=\"color: #000000; text-decoration-color: #000000\"> of </span><span style=\"color: #008080; text-decoration-color: #008080; font-weight: bold\">1</span><span style=\"color: #000000; text-decoration-color: #000000\"> dialogue: </span><span style=\"color: #000000; text-decoration-color: #000000; font-weight: bold\">{</span><span style=\"color: #008000; text-decoration-color: #008000\">'engaged'</span><span style=\"color: #000000; text-decoration-color: #000000\">: </span><span style=\"color: #008080; text-decoration-color: #008080; font-weight: bold\">4.0</span><span style=\"color: #000000; text-decoration-color: #000000\">, </span><span style=\"color: #008000; text-decoration-color: #008000\">'informed'</span><span style=\"color: #000000; text-decoration-color: #000000\">: </span><span style=\"color: #008080; text-decoration-color: #008080; font-weight: bold\">3.0</span><span style=\"color: #000000; text-decoration-color: #000000\">, </span><span style=\"color: #008000; text-decoration-color: #008000\">'intelligent'</span><span style=\"color: #000000; text-decoration-color: #000000\">: </span><span style=\"color: #008080; text-decoration-color: #008080; font-weight: bold\">3.0</span><span style=\"color: #000000; text-decoration-color: #000000\">, </span><span style=\"color: #008000; text-decoration-color: #008000\">'moral'</span><span style=\"color: #000000; text-decoration-color: #000000\">: </span><span style=\"color: #008080; text-decoration-color: #008080; font-weight: bold\">3.0</span><span style=\"color: #000000; text-decoration-color: #000000\">, </span><span style=\"color: #008000; text-decoration-color: #008000\">'skilled'</span><span style=\"color: #000000; text-decoration-color: #000000\">: </span>    <a href=\"file:///Users/pinchun/Documents/2023Fall/NLP/hw-llm/eval.py\" target=\"_blank\"><span style=\"color: #7f7f7f; text-decoration-color: #7f7f7f\">eval.py</span></a><span style=\"color: #7f7f7f; text-decoration-color: #7f7f7f\">:</span><a href=\"file:///Users/pinchun/Documents/2023Fall/NLP/hw-llm/eval.py#285\" target=\"_blank\"><span style=\"color: #7f7f7f; text-decoration-color: #7f7f7f\">285</span></a>\n",
       "<span style=\"color: #008080; text-decoration-color: #008080; font-weight: bold\">8.0</span><span style=\"color: #000000; text-decoration-color: #000000\">, </span><span style=\"color: #008000; text-decoration-color: #008000\">'TOTAL'</span><span style=\"color: #000000; text-decoration-color: #000000\">: </span><span style=\"color: #008080; text-decoration-color: #008080; font-weight: bold\">21.0</span><span style=\"color: #000000; text-decoration-color: #000000; font-weight: bold\">}</span><span style=\"font-weight: bold\">&gt;</span>                                                                                    <span style=\"color: #7f7f7f; text-decoration-color: #7f7f7f\">           </span>\n",
       "                                                                                                        <span style=\"color: #7f7f7f; text-decoration-color: #7f7f7f\">           </span>\n",
       "Comments from overview question:                                                                        <span style=\"color: #7f7f7f; text-decoration-color: #7f7f7f\">           </span>\n",
       "<span style=\"font-weight: bold\">(</span>Bob<span style=\"font-weight: bold\">)</span> Alice disagreed with Bob about the effectiveness of a vegetarian diet in promoting sustainable    <span style=\"color: #7f7f7f; text-decoration-color: #7f7f7f\">           </span>\n",
       "and compassionate living. She argued that small-scale, sustainable meat production and supporting local <span style=\"color: #7f7f7f; text-decoration-color: #7f7f7f\">           </span>\n",
       "communities can also contribute to environmental and animal welfare efforts.                            <span style=\"color: #7f7f7f; text-decoration-color: #7f7f7f\">           </span>\n",
       "                                                                                                        <span style=\"color: #7f7f7f; text-decoration-color: #7f7f7f\">           </span>\n",
       "In Bob's opinion, the conversation was respectful and both parties presented their perspectives.        <span style=\"color: #7f7f7f; text-decoration-color: #7f7f7f\">           </span>\n",
       "However, Alice could have done better by providing more specific evidence or examples to support her    <span style=\"color: #7f7f7f; text-decoration-color: #7f7f7f\">           </span>\n",
       "claims about the benefits of small-scale, sustainable meat production. This would have made her         <span style=\"color: #7f7f7f; text-decoration-color: #7f7f7f\">           </span>\n",
       "argument stronger and more convincing.                                                                  <span style=\"color: #7f7f7f; text-decoration-color: #7f7f7f\">           </span>\n",
       "                                                                                                        <span style=\"color: #7f7f7f; text-decoration-color: #7f7f7f\">           </span>\n",
       "Comments from staying on topic question:                                                                <span style=\"color: #7f7f7f; text-decoration-color: #7f7f7f\">           </span>\n",
       "<span style=\"font-weight: bold\">(</span>Judge Wise<span style=\"font-weight: bold\">)</span> Alice did a good job of staying on topic and addressing the points made by Bob in each of  <span style=\"color: #7f7f7f; text-decoration-color: #7f7f7f\">           </span>\n",
       "her replies. Her responses were directly related to the topic that Bob was discussing in the previous   <span style=\"color: #7f7f7f; text-decoration-color: #7f7f7f\">           </span>\n",
       "sentence.                                                                                               <span style=\"color: #7f7f7f; text-decoration-color: #7f7f7f\">           </span>\n",
       "</pre>\n"
      ],
      "text/plain": [
       "\u001b[1m<\u001b[0m\u001b[1;95mEval\u001b[0m\u001b[39m of \u001b[0m\u001b[1;36m1\u001b[0m\u001b[39m dialogue: \u001b[0m\u001b[1;39m{\u001b[0m\u001b[32m'engaged'\u001b[0m\u001b[39m: \u001b[0m\u001b[1;36m4.0\u001b[0m\u001b[39m, \u001b[0m\u001b[32m'informed'\u001b[0m\u001b[39m: \u001b[0m\u001b[1;36m3.0\u001b[0m\u001b[39m, \u001b[0m\u001b[32m'intelligent'\u001b[0m\u001b[39m: \u001b[0m\u001b[1;36m3.0\u001b[0m\u001b[39m, \u001b[0m\u001b[32m'moral'\u001b[0m\u001b[39m: \u001b[0m\u001b[1;36m3.0\u001b[0m\u001b[39m, \u001b[0m\u001b[32m'skilled'\u001b[0m\u001b[39m: \u001b[0m    \u001b]8;id=389940;file:///Users/pinchun/Documents/2023Fall/NLP/hw-llm/eval.py\u001b\\\u001b[2meval.py\u001b[0m\u001b]8;;\u001b\\\u001b[2m:\u001b[0m\u001b]8;id=232422;file:///Users/pinchun/Documents/2023Fall/NLP/hw-llm/eval.py#285\u001b\\\u001b[2m285\u001b[0m\u001b]8;;\u001b\\\n",
       "\u001b[1;36m8.0\u001b[0m\u001b[39m, \u001b[0m\u001b[32m'TOTAL'\u001b[0m\u001b[39m: \u001b[0m\u001b[1;36m21.0\u001b[0m\u001b[1;39m}\u001b[0m\u001b[1m>\u001b[0m                                                                                    \u001b[2m           \u001b[0m\n",
       "                                                                                                        \u001b[2m           \u001b[0m\n",
       "Comments from overview question:                                                                        \u001b[2m           \u001b[0m\n",
       "\u001b[1m(\u001b[0mBob\u001b[1m)\u001b[0m Alice disagreed with Bob about the effectiveness of a vegetarian diet in promoting sustainable    \u001b[2m           \u001b[0m\n",
       "and compassionate living. She argued that small-scale, sustainable meat production and supporting local \u001b[2m           \u001b[0m\n",
       "communities can also contribute to environmental and animal welfare efforts.                            \u001b[2m           \u001b[0m\n",
       "                                                                                                        \u001b[2m           \u001b[0m\n",
       "In Bob's opinion, the conversation was respectful and both parties presented their perspectives.        \u001b[2m           \u001b[0m\n",
       "However, Alice could have done better by providing more specific evidence or examples to support her    \u001b[2m           \u001b[0m\n",
       "claims about the benefits of small-scale, sustainable meat production. This would have made her         \u001b[2m           \u001b[0m\n",
       "argument stronger and more convincing.                                                                  \u001b[2m           \u001b[0m\n",
       "                                                                                                        \u001b[2m           \u001b[0m\n",
       "Comments from staying on topic question:                                                                \u001b[2m           \u001b[0m\n",
       "\u001b[1m(\u001b[0mJudge Wise\u001b[1m)\u001b[0m Alice did a good job of staying on topic and addressing the points made by Bob in each of  \u001b[2m           \u001b[0m\n",
       "her replies. Her responses were directly related to the topic that Bob was discussing in the previous   \u001b[2m           \u001b[0m\n",
       "sentence.                                                                                               \u001b[2m           \u001b[0m\n"
      ]
     },
     "metadata": {},
     "output_type": "display_data"
    },
    {
     "data": {
      "text/html": [
       "<pre style=\"white-space:pre;overflow-x:auto;line-height:normal;font-family:Menlo,'DejaVu Sans Mono',consolas,'Courier New',monospace\"><span style=\"font-weight: bold\">(</span>Alice<span style=\"font-weight: bold\">)</span> Do you think it's ok to eat meat?                                                               <a href=\"file:///Users/pinchun/Documents/2023Fall/NLP/hw-llm/eval.py\" target=\"_blank\"><span style=\"color: #7f7f7f; text-decoration-color: #7f7f7f\">eval.py</span></a><span style=\"color: #7f7f7f; text-decoration-color: #7f7f7f\">:</span><a href=\"file:///Users/pinchun/Documents/2023Fall/NLP/hw-llm/eval.py#281\" target=\"_blank\"><span style=\"color: #7f7f7f; text-decoration-color: #7f7f7f\">281</span></a>\n",
       "<span style=\"font-weight: bold\">(</span>Bob<span style=\"font-weight: bold\">)</span> I believe that a vegetarian diet is the best choice for both personal health and the well-being   <span style=\"color: #7f7f7f; text-decoration-color: #7f7f7f\">           </span>\n",
       "of animals and the environment.                                                                         <span style=\"color: #7f7f7f; text-decoration-color: #7f7f7f\">           </span>\n",
       "<span style=\"font-weight: bold\">(</span>Alice<span style=\"font-weight: bold\">)</span> There are some arguments for the ethical treatment of animals in the meat industry and the      <span style=\"color: #7f7f7f; text-decoration-color: #7f7f7f\">           </span>\n",
       "potential environmental benefits of sustainable and responsible meat production. Have you considered    <span style=\"color: #7f7f7f; text-decoration-color: #7f7f7f\">           </span>\n",
       "the importance of responsible and ethical meat consumption?                                             <span style=\"color: #7f7f7f; text-decoration-color: #7f7f7f\">           </span>\n",
       "<span style=\"font-weight: bold\">(</span>Bob<span style=\"font-weight: bold\">)</span> I understand those arguments, but I still believe that choosing a vegetarian diet is the most     <span style=\"color: #7f7f7f; text-decoration-color: #7f7f7f\">           </span>\n",
       "effective way to promote animal welfare and environmental sustainability.                               <span style=\"color: #7f7f7f; text-decoration-color: #7f7f7f\">           </span>\n",
       "<span style=\"font-weight: bold\">(</span>Alice<span style=\"font-weight: bold\">)</span> That's a valid perspective. However, it's important to acknowledge that there are also          <span style=\"color: #7f7f7f; text-decoration-color: #7f7f7f\">           </span>\n",
       "sustainable and ethical meat production practices, such as organic and grass-fed methods, which can     <span style=\"color: #7f7f7f; text-decoration-color: #7f7f7f\">           </span>\n",
       "minimize environmental impact and prioritize the welfare of animals. Have you looked into these         <span style=\"color: #7f7f7f; text-decoration-color: #7f7f7f\">           </span>\n",
       "alternatives?                                                                                           <span style=\"color: #7f7f7f; text-decoration-color: #7f7f7f\">           </span>\n",
       "<span style=\"font-weight: bold\">(</span>Bob<span style=\"font-weight: bold\">)</span> I appreciate your perspective, but I still firmly believe that a vegetarian diet is the most      <span style=\"color: #7f7f7f; text-decoration-color: #7f7f7f\">           </span>\n",
       "ethical and sustainable choice for our planet and the well-being of animals.                            <span style=\"color: #7f7f7f; text-decoration-color: #7f7f7f\">           </span>\n",
       "<span style=\"font-weight: bold\">(</span>Alice<span style=\"font-weight: bold\">)</span> That's a reasonable stance, and it's important to stay committed to your beliefs. At the same   <span style=\"color: #7f7f7f; text-decoration-color: #7f7f7f\">           </span>\n",
       "time, it's valuable to continue seeking information and understanding various viewpoints to make        <span style=\"color: #7f7f7f; text-decoration-color: #7f7f7f\">           </span>\n",
       "informed decisions. Thank you for sharing your thoughts!                                                <span style=\"color: #7f7f7f; text-decoration-color: #7f7f7f\">           </span>\n",
       "<span style=\"font-weight: bold\">(</span>Bob<span style=\"font-weight: bold\">)</span> Thank you for understanding, and I appreciate the respectful discussion. It's always good to      <span style=\"color: #7f7f7f; text-decoration-color: #7f7f7f\">           </span>\n",
       "exchange ideas and perspectives.                                                                        <span style=\"color: #7f7f7f; text-decoration-color: #7f7f7f\">           </span>\n",
       "</pre>\n"
      ],
      "text/plain": [
       "\u001b[1m(\u001b[0mAlice\u001b[1m)\u001b[0m Do you think it's ok to eat meat?                                                               \u001b]8;id=397988;file:///Users/pinchun/Documents/2023Fall/NLP/hw-llm/eval.py\u001b\\\u001b[2meval.py\u001b[0m\u001b]8;;\u001b\\\u001b[2m:\u001b[0m\u001b]8;id=48166;file:///Users/pinchun/Documents/2023Fall/NLP/hw-llm/eval.py#281\u001b\\\u001b[2m281\u001b[0m\u001b]8;;\u001b\\\n",
       "\u001b[1m(\u001b[0mBob\u001b[1m)\u001b[0m I believe that a vegetarian diet is the best choice for both personal health and the well-being   \u001b[2m           \u001b[0m\n",
       "of animals and the environment.                                                                         \u001b[2m           \u001b[0m\n",
       "\u001b[1m(\u001b[0mAlice\u001b[1m)\u001b[0m There are some arguments for the ethical treatment of animals in the meat industry and the      \u001b[2m           \u001b[0m\n",
       "potential environmental benefits of sustainable and responsible meat production. Have you considered    \u001b[2m           \u001b[0m\n",
       "the importance of responsible and ethical meat consumption?                                             \u001b[2m           \u001b[0m\n",
       "\u001b[1m(\u001b[0mBob\u001b[1m)\u001b[0m I understand those arguments, but I still believe that choosing a vegetarian diet is the most     \u001b[2m           \u001b[0m\n",
       "effective way to promote animal welfare and environmental sustainability.                               \u001b[2m           \u001b[0m\n",
       "\u001b[1m(\u001b[0mAlice\u001b[1m)\u001b[0m That's a valid perspective. However, it's important to acknowledge that there are also          \u001b[2m           \u001b[0m\n",
       "sustainable and ethical meat production practices, such as organic and grass-fed methods, which can     \u001b[2m           \u001b[0m\n",
       "minimize environmental impact and prioritize the welfare of animals. Have you looked into these         \u001b[2m           \u001b[0m\n",
       "alternatives?                                                                                           \u001b[2m           \u001b[0m\n",
       "\u001b[1m(\u001b[0mBob\u001b[1m)\u001b[0m I appreciate your perspective, but I still firmly believe that a vegetarian diet is the most      \u001b[2m           \u001b[0m\n",
       "ethical and sustainable choice for our planet and the well-being of animals.                            \u001b[2m           \u001b[0m\n",
       "\u001b[1m(\u001b[0mAlice\u001b[1m)\u001b[0m That's a reasonable stance, and it's important to stay committed to your beliefs. At the same   \u001b[2m           \u001b[0m\n",
       "time, it's valuable to continue seeking information and understanding various viewpoints to make        \u001b[2m           \u001b[0m\n",
       "informed decisions. Thank you for sharing your thoughts!                                                \u001b[2m           \u001b[0m\n",
       "\u001b[1m(\u001b[0mBob\u001b[1m)\u001b[0m Thank you for understanding, and I appreciate the respectful discussion. It's always good to      \u001b[2m           \u001b[0m\n",
       "exchange ideas and perspectives.                                                                        \u001b[2m           \u001b[0m\n"
      ]
     },
     "metadata": {},
     "output_type": "display_data"
    },
    {
     "data": {
      "text/html": [
       "<pre style=\"white-space:pre;overflow-x:auto;line-height:normal;font-family:Menlo,'DejaVu Sans Mono',consolas,'Courier New',monospace\"><span style=\"font-weight: bold\">&lt;</span><span style=\"color: #ff00ff; text-decoration-color: #ff00ff; font-weight: bold\">Eval</span><span style=\"color: #000000; text-decoration-color: #000000\"> of </span><span style=\"color: #008080; text-decoration-color: #008080; font-weight: bold\">1</span><span style=\"color: #000000; text-decoration-color: #000000\"> dialogue: </span><span style=\"color: #000000; text-decoration-color: #000000; font-weight: bold\">{</span><span style=\"color: #008000; text-decoration-color: #008000\">'engaged'</span><span style=\"color: #000000; text-decoration-color: #000000\">: </span><span style=\"color: #008080; text-decoration-color: #008080; font-weight: bold\">4.0</span><span style=\"color: #000000; text-decoration-color: #000000\">, </span><span style=\"color: #008000; text-decoration-color: #008000\">'informed'</span><span style=\"color: #000000; text-decoration-color: #000000\">: </span><span style=\"color: #008080; text-decoration-color: #008080; font-weight: bold\">3.0</span><span style=\"color: #000000; text-decoration-color: #000000\">, </span><span style=\"color: #008000; text-decoration-color: #008000\">'intelligent'</span><span style=\"color: #000000; text-decoration-color: #000000\">: </span><span style=\"color: #008080; text-decoration-color: #008080; font-weight: bold\">3.0</span><span style=\"color: #000000; text-decoration-color: #000000\">, </span><span style=\"color: #008000; text-decoration-color: #008000\">'moral'</span><span style=\"color: #000000; text-decoration-color: #000000\">: </span><span style=\"color: #008080; text-decoration-color: #008080; font-weight: bold\">3.0</span><span style=\"color: #000000; text-decoration-color: #000000\">, </span><span style=\"color: #008000; text-decoration-color: #008000\">'skilled'</span><span style=\"color: #000000; text-decoration-color: #000000\">: </span>    <a href=\"file:///Users/pinchun/Documents/2023Fall/NLP/hw-llm/eval.py\" target=\"_blank\"><span style=\"color: #7f7f7f; text-decoration-color: #7f7f7f\">eval.py</span></a><span style=\"color: #7f7f7f; text-decoration-color: #7f7f7f\">:</span><a href=\"file:///Users/pinchun/Documents/2023Fall/NLP/hw-llm/eval.py#285\" target=\"_blank\"><span style=\"color: #7f7f7f; text-decoration-color: #7f7f7f\">285</span></a>\n",
       "<span style=\"color: #008080; text-decoration-color: #008080; font-weight: bold\">8.0</span><span style=\"color: #000000; text-decoration-color: #000000\">, </span><span style=\"color: #008000; text-decoration-color: #008000\">'TOTAL'</span><span style=\"color: #000000; text-decoration-color: #000000\">: </span><span style=\"color: #008080; text-decoration-color: #008080; font-weight: bold\">21.0</span><span style=\"color: #000000; text-decoration-color: #000000; font-weight: bold\">}</span><span style=\"font-weight: bold\">&gt;</span>                                                                                    <span style=\"color: #7f7f7f; text-decoration-color: #7f7f7f\">           </span>\n",
       "                                                                                                        <span style=\"color: #7f7f7f; text-decoration-color: #7f7f7f\">           </span>\n",
       "Comments from overview question:                                                                        <span style=\"color: #7f7f7f; text-decoration-color: #7f7f7f\">           </span>\n",
       "<span style=\"font-weight: bold\">(</span>Bob<span style=\"font-weight: bold\">)</span> Alice disagreed with Bob about the importance of responsible and ethical meat consumption, as     <span style=\"color: #7f7f7f; text-decoration-color: #7f7f7f\">           </span>\n",
       "well as the potential benefits of sustainable and responsible meat production.                          <span style=\"color: #7f7f7f; text-decoration-color: #7f7f7f\">           </span>\n",
       "                                                                                                        <span style=\"color: #7f7f7f; text-decoration-color: #7f7f7f\">           </span>\n",
       "In Bob's opinion, the conversation went respectfully, with both parties expressing their viewpoints and <span style=\"color: #7f7f7f; text-decoration-color: #7f7f7f\">           </span>\n",
       "acknowledging each other's perspectives. However, Alice could have done better by providing specific    <span style=\"color: #7f7f7f; text-decoration-color: #7f7f7f\">           </span>\n",
       "examples or evidence to support her arguments about sustainable and ethical meat production practices.  <span style=\"color: #7f7f7f; text-decoration-color: #7f7f7f\">           </span>\n",
       "This would have made her points more compelling and allowed for a more in-depth discussion.             <span style=\"color: #7f7f7f; text-decoration-color: #7f7f7f\">           </span>\n",
       "                                                                                                        <span style=\"color: #7f7f7f; text-decoration-color: #7f7f7f\">           </span>\n",
       "Comments from staying on topic question:                                                                <span style=\"color: #7f7f7f; text-decoration-color: #7f7f7f\">           </span>\n",
       "<span style=\"font-weight: bold\">(</span>Judge Wise<span style=\"font-weight: bold\">)</span> Alice did a good job of staying on topic and addressing the points made by Bob in each of  <span style=\"color: #7f7f7f; text-decoration-color: #7f7f7f\">           </span>\n",
       "her replies. Her responses were directly related to the topic of vegetarianism and the ethical and      <span style=\"color: #7f7f7f; text-decoration-color: #7f7f7f\">           </span>\n",
       "environmental considerations surrounding meat consumption, which were the main points raised by Bob in  <span style=\"color: #7f7f7f; text-decoration-color: #7f7f7f\">           </span>\n",
       "his previous sentences.                                                                                 <span style=\"color: #7f7f7f; text-decoration-color: #7f7f7f\">           </span>\n",
       "</pre>\n"
      ],
      "text/plain": [
       "\u001b[1m<\u001b[0m\u001b[1;95mEval\u001b[0m\u001b[39m of \u001b[0m\u001b[1;36m1\u001b[0m\u001b[39m dialogue: \u001b[0m\u001b[1;39m{\u001b[0m\u001b[32m'engaged'\u001b[0m\u001b[39m: \u001b[0m\u001b[1;36m4.0\u001b[0m\u001b[39m, \u001b[0m\u001b[32m'informed'\u001b[0m\u001b[39m: \u001b[0m\u001b[1;36m3.0\u001b[0m\u001b[39m, \u001b[0m\u001b[32m'intelligent'\u001b[0m\u001b[39m: \u001b[0m\u001b[1;36m3.0\u001b[0m\u001b[39m, \u001b[0m\u001b[32m'moral'\u001b[0m\u001b[39m: \u001b[0m\u001b[1;36m3.0\u001b[0m\u001b[39m, \u001b[0m\u001b[32m'skilled'\u001b[0m\u001b[39m: \u001b[0m    \u001b]8;id=948975;file:///Users/pinchun/Documents/2023Fall/NLP/hw-llm/eval.py\u001b\\\u001b[2meval.py\u001b[0m\u001b]8;;\u001b\\\u001b[2m:\u001b[0m\u001b]8;id=439060;file:///Users/pinchun/Documents/2023Fall/NLP/hw-llm/eval.py#285\u001b\\\u001b[2m285\u001b[0m\u001b]8;;\u001b\\\n",
       "\u001b[1;36m8.0\u001b[0m\u001b[39m, \u001b[0m\u001b[32m'TOTAL'\u001b[0m\u001b[39m: \u001b[0m\u001b[1;36m21.0\u001b[0m\u001b[1;39m}\u001b[0m\u001b[1m>\u001b[0m                                                                                    \u001b[2m           \u001b[0m\n",
       "                                                                                                        \u001b[2m           \u001b[0m\n",
       "Comments from overview question:                                                                        \u001b[2m           \u001b[0m\n",
       "\u001b[1m(\u001b[0mBob\u001b[1m)\u001b[0m Alice disagreed with Bob about the importance of responsible and ethical meat consumption, as     \u001b[2m           \u001b[0m\n",
       "well as the potential benefits of sustainable and responsible meat production.                          \u001b[2m           \u001b[0m\n",
       "                                                                                                        \u001b[2m           \u001b[0m\n",
       "In Bob's opinion, the conversation went respectfully, with both parties expressing their viewpoints and \u001b[2m           \u001b[0m\n",
       "acknowledging each other's perspectives. However, Alice could have done better by providing specific    \u001b[2m           \u001b[0m\n",
       "examples or evidence to support her arguments about sustainable and ethical meat production practices.  \u001b[2m           \u001b[0m\n",
       "This would have made her points more compelling and allowed for a more in-depth discussion.             \u001b[2m           \u001b[0m\n",
       "                                                                                                        \u001b[2m           \u001b[0m\n",
       "Comments from staying on topic question:                                                                \u001b[2m           \u001b[0m\n",
       "\u001b[1m(\u001b[0mJudge Wise\u001b[1m)\u001b[0m Alice did a good job of staying on topic and addressing the points made by Bob in each of  \u001b[2m           \u001b[0m\n",
       "her replies. Her responses were directly related to the topic of vegetarianism and the ethical and      \u001b[2m           \u001b[0m\n",
       "environmental considerations surrounding meat consumption, which were the main points raised by Bob in  \u001b[2m           \u001b[0m\n",
       "his previous sentences.                                                                                 \u001b[2m           \u001b[0m\n"
      ]
     },
     "metadata": {},
     "output_type": "display_data"
    },
    {
     "data": {
      "text/html": [
       "<pre style=\"white-space:pre;overflow-x:auto;line-height:normal;font-family:Menlo,'DejaVu Sans Mono',consolas,'Courier New',monospace\"><span style=\"font-weight: bold\">(</span>Alice<span style=\"font-weight: bold\">)</span> Do you think it's ok to eat meat?                                                               <a href=\"file:///Users/pinchun/Documents/2023Fall/NLP/hw-llm/eval.py\" target=\"_blank\"><span style=\"color: #7f7f7f; text-decoration-color: #7f7f7f\">eval.py</span></a><span style=\"color: #7f7f7f; text-decoration-color: #7f7f7f\">:</span><a href=\"file:///Users/pinchun/Documents/2023Fall/NLP/hw-llm/eval.py#281\" target=\"_blank\"><span style=\"color: #7f7f7f; text-decoration-color: #7f7f7f\">281</span></a>\n",
       "<span style=\"font-weight: bold\">(</span>Cara<span style=\"font-weight: bold\">)</span> Absolutely, I believe it's a personal choice and I choose to enjoy a diet that includes meat.    <span style=\"color: #7f7f7f; text-decoration-color: #7f7f7f\">           </span>\n",
       "<span style=\"font-weight: bold\">(</span>Alice<span style=\"font-weight: bold\">)</span> That's completely understandable. Have you ever considered the environmental impact of meat     <span style=\"color: #7f7f7f; text-decoration-color: #7f7f7f\">           </span>\n",
       "production, such as deforestation and greenhouse gas emissions?                                         <span style=\"color: #7f7f7f; text-decoration-color: #7f7f7f\">           </span>\n",
       "<span style=\"font-weight: bold\">(</span>Cara<span style=\"font-weight: bold\">)</span> I understand the concerns, but I believe there are ways to address these issues without giving   <span style=\"color: #7f7f7f; text-decoration-color: #7f7f7f\">           </span>\n",
       "up meat entirely.                                                                                       <span style=\"color: #7f7f7f; text-decoration-color: #7f7f7f\">           </span>\n",
       "<span style=\"font-weight: bold\">(</span>Alice<span style=\"font-weight: bold\">)</span> That's a fair point. Have you explored reducing your meat consumption or choosing more          <span style=\"color: #7f7f7f; text-decoration-color: #7f7f7f\">           </span>\n",
       "sustainably sourced options to help mitigate the environmental impact?                                  <span style=\"color: #7f7f7f; text-decoration-color: #7f7f7f\">           </span>\n",
       "<span style=\"font-weight: bold\">(</span>Cara<span style=\"font-weight: bold\">)</span> I appreciate your suggestion, but I prefer to make my own choices about what I eat.              <span style=\"color: #7f7f7f; text-decoration-color: #7f7f7f\">           </span>\n",
       "<span style=\"font-weight: bold\">(</span>Alice<span style=\"font-weight: bold\">)</span> I understand the importance of personal autonomy in decision-making. Have you thought about     <span style=\"color: #7f7f7f; text-decoration-color: #7f7f7f\">           </span>\n",
       "exploring different ways to make sustainable choices while still enjoying the foods you love?           <span style=\"color: #7f7f7f; text-decoration-color: #7f7f7f\">           </span>\n",
       "<span style=\"font-weight: bold\">(</span>Cara<span style=\"font-weight: bold\">)</span> I respect your concern, but I'm content with my current choices regarding food.                  <span style=\"color: #7f7f7f; text-decoration-color: #7f7f7f\">           </span>\n",
       "</pre>\n"
      ],
      "text/plain": [
       "\u001b[1m(\u001b[0mAlice\u001b[1m)\u001b[0m Do you think it's ok to eat meat?                                                               \u001b]8;id=329048;file:///Users/pinchun/Documents/2023Fall/NLP/hw-llm/eval.py\u001b\\\u001b[2meval.py\u001b[0m\u001b]8;;\u001b\\\u001b[2m:\u001b[0m\u001b]8;id=84943;file:///Users/pinchun/Documents/2023Fall/NLP/hw-llm/eval.py#281\u001b\\\u001b[2m281\u001b[0m\u001b]8;;\u001b\\\n",
       "\u001b[1m(\u001b[0mCara\u001b[1m)\u001b[0m Absolutely, I believe it's a personal choice and I choose to enjoy a diet that includes meat.    \u001b[2m           \u001b[0m\n",
       "\u001b[1m(\u001b[0mAlice\u001b[1m)\u001b[0m That's completely understandable. Have you ever considered the environmental impact of meat     \u001b[2m           \u001b[0m\n",
       "production, such as deforestation and greenhouse gas emissions?                                         \u001b[2m           \u001b[0m\n",
       "\u001b[1m(\u001b[0mCara\u001b[1m)\u001b[0m I understand the concerns, but I believe there are ways to address these issues without giving   \u001b[2m           \u001b[0m\n",
       "up meat entirely.                                                                                       \u001b[2m           \u001b[0m\n",
       "\u001b[1m(\u001b[0mAlice\u001b[1m)\u001b[0m That's a fair point. Have you explored reducing your meat consumption or choosing more          \u001b[2m           \u001b[0m\n",
       "sustainably sourced options to help mitigate the environmental impact?                                  \u001b[2m           \u001b[0m\n",
       "\u001b[1m(\u001b[0mCara\u001b[1m)\u001b[0m I appreciate your suggestion, but I prefer to make my own choices about what I eat.              \u001b[2m           \u001b[0m\n",
       "\u001b[1m(\u001b[0mAlice\u001b[1m)\u001b[0m I understand the importance of personal autonomy in decision-making. Have you thought about     \u001b[2m           \u001b[0m\n",
       "exploring different ways to make sustainable choices while still enjoying the foods you love?           \u001b[2m           \u001b[0m\n",
       "\u001b[1m(\u001b[0mCara\u001b[1m)\u001b[0m I respect your concern, but I'm content with my current choices regarding food.                  \u001b[2m           \u001b[0m\n"
      ]
     },
     "metadata": {},
     "output_type": "display_data"
    },
    {
     "data": {
      "text/html": [
       "<pre style=\"white-space:pre;overflow-x:auto;line-height:normal;font-family:Menlo,'DejaVu Sans Mono',consolas,'Courier New',monospace\"><span style=\"font-weight: bold\">&lt;</span><span style=\"color: #ff00ff; text-decoration-color: #ff00ff; font-weight: bold\">Eval</span><span style=\"color: #000000; text-decoration-color: #000000\"> of </span><span style=\"color: #008080; text-decoration-color: #008080; font-weight: bold\">1</span><span style=\"color: #000000; text-decoration-color: #000000\"> dialogue: </span><span style=\"color: #000000; text-decoration-color: #000000; font-weight: bold\">{</span><span style=\"color: #008000; text-decoration-color: #008000\">'engaged'</span><span style=\"color: #000000; text-decoration-color: #000000\">: </span><span style=\"color: #008080; text-decoration-color: #008080; font-weight: bold\">4.0</span><span style=\"color: #000000; text-decoration-color: #000000\">, </span><span style=\"color: #008000; text-decoration-color: #008000\">'informed'</span><span style=\"color: #000000; text-decoration-color: #000000\">: </span><span style=\"color: #008080; text-decoration-color: #008080; font-weight: bold\">3.0</span><span style=\"color: #000000; text-decoration-color: #000000\">, </span><span style=\"color: #008000; text-decoration-color: #008000\">'intelligent'</span><span style=\"color: #000000; text-decoration-color: #000000\">: </span><span style=\"color: #008080; text-decoration-color: #008080; font-weight: bold\">3.0</span><span style=\"color: #000000; text-decoration-color: #000000\">, </span><span style=\"color: #008000; text-decoration-color: #008000\">'moral'</span><span style=\"color: #000000; text-decoration-color: #000000\">: </span><span style=\"color: #008080; text-decoration-color: #008080; font-weight: bold\">3.0</span><span style=\"color: #000000; text-decoration-color: #000000\">, </span><span style=\"color: #008000; text-decoration-color: #008000\">'skilled'</span><span style=\"color: #000000; text-decoration-color: #000000\">: </span>    <a href=\"file:///Users/pinchun/Documents/2023Fall/NLP/hw-llm/eval.py\" target=\"_blank\"><span style=\"color: #7f7f7f; text-decoration-color: #7f7f7f\">eval.py</span></a><span style=\"color: #7f7f7f; text-decoration-color: #7f7f7f\">:</span><a href=\"file:///Users/pinchun/Documents/2023Fall/NLP/hw-llm/eval.py#285\" target=\"_blank\"><span style=\"color: #7f7f7f; text-decoration-color: #7f7f7f\">285</span></a>\n",
       "<span style=\"color: #008080; text-decoration-color: #008080; font-weight: bold\">8.0</span><span style=\"color: #000000; text-decoration-color: #000000\">, </span><span style=\"color: #008000; text-decoration-color: #008000\">'TOTAL'</span><span style=\"color: #000000; text-decoration-color: #000000\">: </span><span style=\"color: #008080; text-decoration-color: #008080; font-weight: bold\">21.0</span><span style=\"color: #000000; text-decoration-color: #000000; font-weight: bold\">}</span><span style=\"font-weight: bold\">&gt;</span>                                                                                    <span style=\"color: #7f7f7f; text-decoration-color: #7f7f7f\">           </span>\n",
       "                                                                                                        <span style=\"color: #7f7f7f; text-decoration-color: #7f7f7f\">           </span>\n",
       "Comments from overview question:                                                                        <span style=\"color: #7f7f7f; text-decoration-color: #7f7f7f\">           </span>\n",
       "<span style=\"font-weight: bold\">(</span>Cara<span style=\"font-weight: bold\">)</span> Alice disagreed with Cara about the impact of meat consumption on the environment and the        <span style=\"color: #7f7f7f; text-decoration-color: #7f7f7f\">           </span>\n",
       "potential need to reduce meat consumption or choose more sustainable options.                           <span style=\"color: #7f7f7f; text-decoration-color: #7f7f7f\">           </span>\n",
       "                                                                                                        <span style=\"color: #7f7f7f; text-decoration-color: #7f7f7f\">           </span>\n",
       "In Cara's opinion, the conversation went relatively well. She expressed her belief that eating meat is  <span style=\"color: #7f7f7f; text-decoration-color: #7f7f7f\">           </span>\n",
       "a personal choice and that she prefers to make her own decisions about what she eats. She acknowledged  <span style=\"color: #7f7f7f; text-decoration-color: #7f7f7f\">           </span>\n",
       "the concerns about the environmental impact of meat production but stated that she believes there are   <span style=\"color: #7f7f7f; text-decoration-color: #7f7f7f\">           </span>\n",
       "ways to address these issues without giving up meat entirely. Cara remained firm in her stance and      <span style=\"color: #7f7f7f; text-decoration-color: #7f7f7f\">           </span>\n",
       "expressed contentment with her current choices regarding food.                                          <span style=\"color: #7f7f7f; text-decoration-color: #7f7f7f\">           </span>\n",
       "                                                                                                        <span style=\"color: #7f7f7f; text-decoration-color: #7f7f7f\">           </span>\n",
       "Alice could have done better by providing more specific information or examples about sustainable       <span style=\"color: #7f7f7f; text-decoration-color: #7f7f7f\">           </span>\n",
       "choices and their potential benefits. This could have helped Cara better understand the options         <span style=\"color: #7f7f7f; text-decoration-color: #7f7f7f\">           </span>\n",
       "available to her and potentially sparked further discussion or consideration. Additionally, Alice could <span style=\"color: #7f7f7f; text-decoration-color: #7f7f7f\">           </span>\n",
       "have approached the conversation with a more open and curious mindset, seeking to understand Cara's     <span style=\"color: #7f7f7f; text-decoration-color: #7f7f7f\">           </span>\n",
       "perspective rather than trying to convince her to change her beliefs.                                   <span style=\"color: #7f7f7f; text-decoration-color: #7f7f7f\">           </span>\n",
       "                                                                                                        <span style=\"color: #7f7f7f; text-decoration-color: #7f7f7f\">           </span>\n",
       "Comments from staying on topic question:                                                                <span style=\"color: #7f7f7f; text-decoration-color: #7f7f7f\">           </span>\n",
       "<span style=\"font-weight: bold\">(</span>Judge Wise<span style=\"font-weight: bold\">)</span> Alice did a good job of staying on topic and addressing the points raised by Cara in each  <span style=\"color: #7f7f7f; text-decoration-color: #7f7f7f\">           </span>\n",
       "of her replies. Each of Alice's responses directly relates to the topic that Cara was discussing in the <span style=\"color: #7f7f7f; text-decoration-color: #7f7f7f\">           </span>\n",
       "previous sentence.                                                                                      <span style=\"color: #7f7f7f; text-decoration-color: #7f7f7f\">           </span>\n",
       "</pre>\n"
      ],
      "text/plain": [
       "\u001b[1m<\u001b[0m\u001b[1;95mEval\u001b[0m\u001b[39m of \u001b[0m\u001b[1;36m1\u001b[0m\u001b[39m dialogue: \u001b[0m\u001b[1;39m{\u001b[0m\u001b[32m'engaged'\u001b[0m\u001b[39m: \u001b[0m\u001b[1;36m4.0\u001b[0m\u001b[39m, \u001b[0m\u001b[32m'informed'\u001b[0m\u001b[39m: \u001b[0m\u001b[1;36m3.0\u001b[0m\u001b[39m, \u001b[0m\u001b[32m'intelligent'\u001b[0m\u001b[39m: \u001b[0m\u001b[1;36m3.0\u001b[0m\u001b[39m, \u001b[0m\u001b[32m'moral'\u001b[0m\u001b[39m: \u001b[0m\u001b[1;36m3.0\u001b[0m\u001b[39m, \u001b[0m\u001b[32m'skilled'\u001b[0m\u001b[39m: \u001b[0m    \u001b]8;id=743248;file:///Users/pinchun/Documents/2023Fall/NLP/hw-llm/eval.py\u001b\\\u001b[2meval.py\u001b[0m\u001b]8;;\u001b\\\u001b[2m:\u001b[0m\u001b]8;id=376579;file:///Users/pinchun/Documents/2023Fall/NLP/hw-llm/eval.py#285\u001b\\\u001b[2m285\u001b[0m\u001b]8;;\u001b\\\n",
       "\u001b[1;36m8.0\u001b[0m\u001b[39m, \u001b[0m\u001b[32m'TOTAL'\u001b[0m\u001b[39m: \u001b[0m\u001b[1;36m21.0\u001b[0m\u001b[1;39m}\u001b[0m\u001b[1m>\u001b[0m                                                                                    \u001b[2m           \u001b[0m\n",
       "                                                                                                        \u001b[2m           \u001b[0m\n",
       "Comments from overview question:                                                                        \u001b[2m           \u001b[0m\n",
       "\u001b[1m(\u001b[0mCara\u001b[1m)\u001b[0m Alice disagreed with Cara about the impact of meat consumption on the environment and the        \u001b[2m           \u001b[0m\n",
       "potential need to reduce meat consumption or choose more sustainable options.                           \u001b[2m           \u001b[0m\n",
       "                                                                                                        \u001b[2m           \u001b[0m\n",
       "In Cara's opinion, the conversation went relatively well. She expressed her belief that eating meat is  \u001b[2m           \u001b[0m\n",
       "a personal choice and that she prefers to make her own decisions about what she eats. She acknowledged  \u001b[2m           \u001b[0m\n",
       "the concerns about the environmental impact of meat production but stated that she believes there are   \u001b[2m           \u001b[0m\n",
       "ways to address these issues without giving up meat entirely. Cara remained firm in her stance and      \u001b[2m           \u001b[0m\n",
       "expressed contentment with her current choices regarding food.                                          \u001b[2m           \u001b[0m\n",
       "                                                                                                        \u001b[2m           \u001b[0m\n",
       "Alice could have done better by providing more specific information or examples about sustainable       \u001b[2m           \u001b[0m\n",
       "choices and their potential benefits. This could have helped Cara better understand the options         \u001b[2m           \u001b[0m\n",
       "available to her and potentially sparked further discussion or consideration. Additionally, Alice could \u001b[2m           \u001b[0m\n",
       "have approached the conversation with a more open and curious mindset, seeking to understand Cara's     \u001b[2m           \u001b[0m\n",
       "perspective rather than trying to convince her to change her beliefs.                                   \u001b[2m           \u001b[0m\n",
       "                                                                                                        \u001b[2m           \u001b[0m\n",
       "Comments from staying on topic question:                                                                \u001b[2m           \u001b[0m\n",
       "\u001b[1m(\u001b[0mJudge Wise\u001b[1m)\u001b[0m Alice did a good job of staying on topic and addressing the points raised by Cara in each  \u001b[2m           \u001b[0m\n",
       "of her replies. Each of Alice's responses directly relates to the topic that Cara was discussing in the \u001b[2m           \u001b[0m\n",
       "previous sentence.                                                                                      \u001b[2m           \u001b[0m\n"
      ]
     },
     "metadata": {},
     "output_type": "display_data"
    },
    {
     "data": {
      "text/html": [
       "<pre style=\"white-space:pre;overflow-x:auto;line-height:normal;font-family:Menlo,'DejaVu Sans Mono',consolas,'Courier New',monospace\"><span style=\"font-weight: bold\">(</span>Alice<span style=\"font-weight: bold\">)</span> Do you think it's ok to eat meat?                                                               <a href=\"file:///Users/pinchun/Documents/2023Fall/NLP/hw-llm/eval.py\" target=\"_blank\"><span style=\"color: #7f7f7f; text-decoration-color: #7f7f7f\">eval.py</span></a><span style=\"color: #7f7f7f; text-decoration-color: #7f7f7f\">:</span><a href=\"file:///Users/pinchun/Documents/2023Fall/NLP/hw-llm/eval.py#281\" target=\"_blank\"><span style=\"color: #7f7f7f; text-decoration-color: #7f7f7f\">281</span></a>\n",
       "<span style=\"font-weight: bold\">(</span>Cara<span style=\"font-weight: bold\">)</span> Absolutely, I believe that it's a personal choice and I enjoy including meat in my diet.         <span style=\"color: #7f7f7f; text-decoration-color: #7f7f7f\">           </span>\n",
       "<span style=\"font-weight: bold\">(</span>Alice<span style=\"font-weight: bold\">)</span> I understand that it's a personal choice, but have you ever considered the ethical and          <span style=\"color: #7f7f7f; text-decoration-color: #7f7f7f\">           </span>\n",
       "environmental implications of meat consumption? For example, animal welfare and the greenhouse gas      <span style=\"color: #7f7f7f; text-decoration-color: #7f7f7f\">           </span>\n",
       "emissions from the meat industry?                                                                       <span style=\"color: #7f7f7f; text-decoration-color: #7f7f7f\">           </span>\n",
       "<span style=\"font-weight: bold\">(</span>Cara<span style=\"font-weight: bold\">)</span> I respect differing viewpoints, but I stand by my choice to consume meat and believe that there  <span style=\"color: #7f7f7f; text-decoration-color: #7f7f7f\">           </span>\n",
       "are ways to address these concerns without giving up meat entirely.                                     <span style=\"color: #7f7f7f; text-decoration-color: #7f7f7f\">           </span>\n",
       "<span style=\"font-weight: bold\">(</span>Alice<span style=\"font-weight: bold\">)</span> That's an empathetic perspective. It's true that consuming ethically sourced meat and           <span style=\"color: #7f7f7f; text-decoration-color: #7f7f7f\">           </span>\n",
       "supporting sustainable farming practices can mitigate some of the environmental and ethical concerns.   <span style=\"color: #7f7f7f; text-decoration-color: #7f7f7f\">           </span>\n",
       "Balancing personal choices with awareness of broader impacts can contribute to more conscious           <span style=\"color: #7f7f7f; text-decoration-color: #7f7f7f\">           </span>\n",
       "decision-making.                                                                                        <span style=\"color: #7f7f7f; text-decoration-color: #7f7f7f\">           </span>\n",
       "<span style=\"font-weight: bold\">(</span>Cara<span style=\"font-weight: bold\">)</span> I appreciate your understanding, and I agree that being mindful of the sources of meat and       <span style=\"color: #7f7f7f; text-decoration-color: #7f7f7f\">           </span>\n",
       "supporting sustainable practices can make a difference.                                                 <span style=\"color: #7f7f7f; text-decoration-color: #7f7f7f\">           </span>\n",
       "<span style=\"font-weight: bold\">(</span>Alice<span style=\"font-weight: bold\">)</span> Absolutely, being mindful of where our meat comes from and supporting sustainable practices can <span style=\"color: #7f7f7f; text-decoration-color: #7f7f7f\">           </span>\n",
       "certainly make a positive impact. It's great to see a combination of personal choice and awareness of   <span style=\"color: #7f7f7f; text-decoration-color: #7f7f7f\">           </span>\n",
       "broader implications.                                                                                   <span style=\"color: #7f7f7f; text-decoration-color: #7f7f7f\">           </span>\n",
       "<span style=\"font-weight: bold\">(</span>Cara<span style=\"font-weight: bold\">)</span> Thank you, I believe that finding that balance is key.                                           <span style=\"color: #7f7f7f; text-decoration-color: #7f7f7f\">           </span>\n",
       "</pre>\n"
      ],
      "text/plain": [
       "\u001b[1m(\u001b[0mAlice\u001b[1m)\u001b[0m Do you think it's ok to eat meat?                                                               \u001b]8;id=479954;file:///Users/pinchun/Documents/2023Fall/NLP/hw-llm/eval.py\u001b\\\u001b[2meval.py\u001b[0m\u001b]8;;\u001b\\\u001b[2m:\u001b[0m\u001b]8;id=660788;file:///Users/pinchun/Documents/2023Fall/NLP/hw-llm/eval.py#281\u001b\\\u001b[2m281\u001b[0m\u001b]8;;\u001b\\\n",
       "\u001b[1m(\u001b[0mCara\u001b[1m)\u001b[0m Absolutely, I believe that it's a personal choice and I enjoy including meat in my diet.         \u001b[2m           \u001b[0m\n",
       "\u001b[1m(\u001b[0mAlice\u001b[1m)\u001b[0m I understand that it's a personal choice, but have you ever considered the ethical and          \u001b[2m           \u001b[0m\n",
       "environmental implications of meat consumption? For example, animal welfare and the greenhouse gas      \u001b[2m           \u001b[0m\n",
       "emissions from the meat industry?                                                                       \u001b[2m           \u001b[0m\n",
       "\u001b[1m(\u001b[0mCara\u001b[1m)\u001b[0m I respect differing viewpoints, but I stand by my choice to consume meat and believe that there  \u001b[2m           \u001b[0m\n",
       "are ways to address these concerns without giving up meat entirely.                                     \u001b[2m           \u001b[0m\n",
       "\u001b[1m(\u001b[0mAlice\u001b[1m)\u001b[0m That's an empathetic perspective. It's true that consuming ethically sourced meat and           \u001b[2m           \u001b[0m\n",
       "supporting sustainable farming practices can mitigate some of the environmental and ethical concerns.   \u001b[2m           \u001b[0m\n",
       "Balancing personal choices with awareness of broader impacts can contribute to more conscious           \u001b[2m           \u001b[0m\n",
       "decision-making.                                                                                        \u001b[2m           \u001b[0m\n",
       "\u001b[1m(\u001b[0mCara\u001b[1m)\u001b[0m I appreciate your understanding, and I agree that being mindful of the sources of meat and       \u001b[2m           \u001b[0m\n",
       "supporting sustainable practices can make a difference.                                                 \u001b[2m           \u001b[0m\n",
       "\u001b[1m(\u001b[0mAlice\u001b[1m)\u001b[0m Absolutely, being mindful of where our meat comes from and supporting sustainable practices can \u001b[2m           \u001b[0m\n",
       "certainly make a positive impact. It's great to see a combination of personal choice and awareness of   \u001b[2m           \u001b[0m\n",
       "broader implications.                                                                                   \u001b[2m           \u001b[0m\n",
       "\u001b[1m(\u001b[0mCara\u001b[1m)\u001b[0m Thank you, I believe that finding that balance is key.                                           \u001b[2m           \u001b[0m\n"
      ]
     },
     "metadata": {},
     "output_type": "display_data"
    },
    {
     "data": {
      "text/html": [
       "<pre style=\"white-space:pre;overflow-x:auto;line-height:normal;font-family:Menlo,'DejaVu Sans Mono',consolas,'Courier New',monospace\"><span style=\"font-weight: bold\">&lt;</span><span style=\"color: #ff00ff; text-decoration-color: #ff00ff; font-weight: bold\">Eval</span><span style=\"color: #000000; text-decoration-color: #000000\"> of </span><span style=\"color: #008080; text-decoration-color: #008080; font-weight: bold\">1</span><span style=\"color: #000000; text-decoration-color: #000000\"> dialogue: </span><span style=\"color: #000000; text-decoration-color: #000000; font-weight: bold\">{</span><span style=\"color: #008000; text-decoration-color: #008000\">'engaged'</span><span style=\"color: #000000; text-decoration-color: #000000\">: </span><span style=\"color: #008080; text-decoration-color: #008080; font-weight: bold\">4.0</span><span style=\"color: #000000; text-decoration-color: #000000\">, </span><span style=\"color: #008000; text-decoration-color: #008000\">'informed'</span><span style=\"color: #000000; text-decoration-color: #000000\">: </span><span style=\"color: #008080; text-decoration-color: #008080; font-weight: bold\">4.0</span><span style=\"color: #000000; text-decoration-color: #000000\">, </span><span style=\"color: #008000; text-decoration-color: #008000\">'intelligent'</span><span style=\"color: #000000; text-decoration-color: #000000\">: </span><span style=\"color: #008080; text-decoration-color: #008080; font-weight: bold\">3.0</span><span style=\"color: #000000; text-decoration-color: #000000\">, </span><span style=\"color: #008000; text-decoration-color: #008000\">'moral'</span><span style=\"color: #000000; text-decoration-color: #000000\">: </span><span style=\"color: #008080; text-decoration-color: #008080; font-weight: bold\">3.0</span><span style=\"color: #000000; text-decoration-color: #000000\">, </span><span style=\"color: #008000; text-decoration-color: #008000\">'skilled'</span><span style=\"color: #000000; text-decoration-color: #000000\">: </span>    <a href=\"file:///Users/pinchun/Documents/2023Fall/NLP/hw-llm/eval.py\" target=\"_blank\"><span style=\"color: #7f7f7f; text-decoration-color: #7f7f7f\">eval.py</span></a><span style=\"color: #7f7f7f; text-decoration-color: #7f7f7f\">:</span><a href=\"file:///Users/pinchun/Documents/2023Fall/NLP/hw-llm/eval.py#285\" target=\"_blank\"><span style=\"color: #7f7f7f; text-decoration-color: #7f7f7f\">285</span></a>\n",
       "<span style=\"color: #008080; text-decoration-color: #008080; font-weight: bold\">8.0</span><span style=\"color: #000000; text-decoration-color: #000000\">, </span><span style=\"color: #008000; text-decoration-color: #008000\">'TOTAL'</span><span style=\"color: #000000; text-decoration-color: #000000\">: </span><span style=\"color: #008080; text-decoration-color: #008080; font-weight: bold\">22.0</span><span style=\"color: #000000; text-decoration-color: #000000; font-weight: bold\">}</span><span style=\"font-weight: bold\">&gt;</span>                                                                                    <span style=\"color: #7f7f7f; text-decoration-color: #7f7f7f\">           </span>\n",
       "                                                                                                        <span style=\"color: #7f7f7f; text-decoration-color: #7f7f7f\">           </span>\n",
       "Comments from overview question:                                                                        <span style=\"color: #7f7f7f; text-decoration-color: #7f7f7f\">           </span>\n",
       "<span style=\"font-weight: bold\">(</span>Cara<span style=\"font-weight: bold\">)</span> Alice disagreed with Cara about whether it's okay to eat meat. Alice raised concerns about the   <span style=\"color: #7f7f7f; text-decoration-color: #7f7f7f\">           </span>\n",
       "ethical and environmental implications of meat consumption, while Cara maintained that it's a personal  <span style=\"color: #7f7f7f; text-decoration-color: #7f7f7f\">           </span>\n",
       "choice and defended her decision to include meat in her diet.                                           <span style=\"color: #7f7f7f; text-decoration-color: #7f7f7f\">           </span>\n",
       "                                                                                                        <span style=\"color: #7f7f7f; text-decoration-color: #7f7f7f\">           </span>\n",
       "In Cara's opinion, the conversation went relatively well. Both parties expressed their viewpoints and   <span style=\"color: #7f7f7f; text-decoration-color: #7f7f7f\">           </span>\n",
       "engaged in a respectful discussion. They acknowledged each other's perspectives and found common ground <span style=\"color: #7f7f7f; text-decoration-color: #7f7f7f\">           </span>\n",
       "in the importance of being mindful of the sources of meat and supporting sustainable practices.         <span style=\"color: #7f7f7f; text-decoration-color: #7f7f7f\">           </span>\n",
       "                                                                                                        <span style=\"color: #7f7f7f; text-decoration-color: #7f7f7f\">           </span>\n",
       "However, Alice could have done better by providing more specific information or evidence to support her <span style=\"color: #7f7f7f; text-decoration-color: #7f7f7f\">           </span>\n",
       "concerns about the ethical and environmental implications of meat consumption. This could have enriched <span style=\"color: #7f7f7f; text-decoration-color: #7f7f7f\">           </span>\n",
       "the conversation and allowed for a deeper exploration of the topic.                                     <span style=\"color: #7f7f7f; text-decoration-color: #7f7f7f\">           </span>\n",
       "                                                                                                        <span style=\"color: #7f7f7f; text-decoration-color: #7f7f7f\">           </span>\n",
       "Comments from staying on topic question:                                                                <span style=\"color: #7f7f7f; text-decoration-color: #7f7f7f\">           </span>\n",
       "<span style=\"font-weight: bold\">(</span>Judge Wise<span style=\"font-weight: bold\">)</span> Alice did a good job of staying on topic and addressing the points raised by Cara in each  <span style=\"color: #7f7f7f; text-decoration-color: #7f7f7f\">           </span>\n",
       "of her replies. Her responses were directly related to the specific topics and concerns mentioned by    <span style=\"color: #7f7f7f; text-decoration-color: #7f7f7f\">           </span>\n",
       "Cara in the previous sentences.                                                                         <span style=\"color: #7f7f7f; text-decoration-color: #7f7f7f\">           </span>\n",
       "</pre>\n"
      ],
      "text/plain": [
       "\u001b[1m<\u001b[0m\u001b[1;95mEval\u001b[0m\u001b[39m of \u001b[0m\u001b[1;36m1\u001b[0m\u001b[39m dialogue: \u001b[0m\u001b[1;39m{\u001b[0m\u001b[32m'engaged'\u001b[0m\u001b[39m: \u001b[0m\u001b[1;36m4.0\u001b[0m\u001b[39m, \u001b[0m\u001b[32m'informed'\u001b[0m\u001b[39m: \u001b[0m\u001b[1;36m4.0\u001b[0m\u001b[39m, \u001b[0m\u001b[32m'intelligent'\u001b[0m\u001b[39m: \u001b[0m\u001b[1;36m3.0\u001b[0m\u001b[39m, \u001b[0m\u001b[32m'moral'\u001b[0m\u001b[39m: \u001b[0m\u001b[1;36m3.0\u001b[0m\u001b[39m, \u001b[0m\u001b[32m'skilled'\u001b[0m\u001b[39m: \u001b[0m    \u001b]8;id=222120;file:///Users/pinchun/Documents/2023Fall/NLP/hw-llm/eval.py\u001b\\\u001b[2meval.py\u001b[0m\u001b]8;;\u001b\\\u001b[2m:\u001b[0m\u001b]8;id=766807;file:///Users/pinchun/Documents/2023Fall/NLP/hw-llm/eval.py#285\u001b\\\u001b[2m285\u001b[0m\u001b]8;;\u001b\\\n",
       "\u001b[1;36m8.0\u001b[0m\u001b[39m, \u001b[0m\u001b[32m'TOTAL'\u001b[0m\u001b[39m: \u001b[0m\u001b[1;36m22.0\u001b[0m\u001b[1;39m}\u001b[0m\u001b[1m>\u001b[0m                                                                                    \u001b[2m           \u001b[0m\n",
       "                                                                                                        \u001b[2m           \u001b[0m\n",
       "Comments from overview question:                                                                        \u001b[2m           \u001b[0m\n",
       "\u001b[1m(\u001b[0mCara\u001b[1m)\u001b[0m Alice disagreed with Cara about whether it's okay to eat meat. Alice raised concerns about the   \u001b[2m           \u001b[0m\n",
       "ethical and environmental implications of meat consumption, while Cara maintained that it's a personal  \u001b[2m           \u001b[0m\n",
       "choice and defended her decision to include meat in her diet.                                           \u001b[2m           \u001b[0m\n",
       "                                                                                                        \u001b[2m           \u001b[0m\n",
       "In Cara's opinion, the conversation went relatively well. Both parties expressed their viewpoints and   \u001b[2m           \u001b[0m\n",
       "engaged in a respectful discussion. They acknowledged each other's perspectives and found common ground \u001b[2m           \u001b[0m\n",
       "in the importance of being mindful of the sources of meat and supporting sustainable practices.         \u001b[2m           \u001b[0m\n",
       "                                                                                                        \u001b[2m           \u001b[0m\n",
       "However, Alice could have done better by providing more specific information or evidence to support her \u001b[2m           \u001b[0m\n",
       "concerns about the ethical and environmental implications of meat consumption. This could have enriched \u001b[2m           \u001b[0m\n",
       "the conversation and allowed for a deeper exploration of the topic.                                     \u001b[2m           \u001b[0m\n",
       "                                                                                                        \u001b[2m           \u001b[0m\n",
       "Comments from staying on topic question:                                                                \u001b[2m           \u001b[0m\n",
       "\u001b[1m(\u001b[0mJudge Wise\u001b[1m)\u001b[0m Alice did a good job of staying on topic and addressing the points raised by Cara in each  \u001b[2m           \u001b[0m\n",
       "of her replies. Her responses were directly related to the specific topics and concerns mentioned by    \u001b[2m           \u001b[0m\n",
       "Cara in the previous sentences.                                                                         \u001b[2m           \u001b[0m\n"
      ]
     },
     "metadata": {},
     "output_type": "display_data"
    },
    {
     "data": {
      "text/html": [
       "<pre style=\"white-space:pre;overflow-x:auto;line-height:normal;font-family:Menlo,'DejaVu Sans Mono',consolas,'Courier New',monospace\"><span style=\"font-weight: bold\">(</span>Alice<span style=\"font-weight: bold\">)</span> Do you think COVID vaccines should be mandatory?                                                <a href=\"file:///Users/pinchun/Documents/2023Fall/NLP/hw-llm/eval.py\" target=\"_blank\"><span style=\"color: #7f7f7f; text-decoration-color: #7f7f7f\">eval.py</span></a><span style=\"color: #7f7f7f; text-decoration-color: #7f7f7f\">:</span><a href=\"file:///Users/pinchun/Documents/2023Fall/NLP/hw-llm/eval.py#281\" target=\"_blank\"><span style=\"color: #7f7f7f; text-decoration-color: #7f7f7f\">281</span></a>\n",
       "<span style=\"font-weight: bold\">(</span>Darius<span style=\"font-weight: bold\">)</span> Absolutely, considering the overwhelming evidence of their safety and efficacy in preventing   <span style=\"color: #7f7f7f; text-decoration-color: #7f7f7f\">           </span>\n",
       "severe illness and death, mandatory vaccination can significantly contribute to achieving herd immunity <span style=\"color: #7f7f7f; text-decoration-color: #7f7f7f\">           </span>\n",
       "and protecting public health.                                                                           <span style=\"color: #7f7f7f; text-decoration-color: #7f7f7f\">           </span>\n",
       "<span style=\"font-weight: bold\">(</span>Alice<span style=\"font-weight: bold\">)</span> I understand your perspective, but some people may have concerns about mandatory vaccination    <span style=\"color: #7f7f7f; text-decoration-color: #7f7f7f\">           </span>\n",
       "infringing on personal freedoms or beliefs. How do you think we can navigate the balance between public <span style=\"color: #7f7f7f; text-decoration-color: #7f7f7f\">           </span>\n",
       "health and individual rights when it comes to vaccination mandates?                                     <span style=\"color: #7f7f7f; text-decoration-color: #7f7f7f\">           </span>\n",
       "<span style=\"font-weight: bold\">(</span>Darius<span style=\"font-weight: bold\">)</span> While individual rights are important, public health should not be compromised, and            <span style=\"color: #7f7f7f; text-decoration-color: #7f7f7f\">           </span>\n",
       "vaccination mandates can be balanced by implementing clear exemptions for medical reasons and           <span style=\"color: #7f7f7f; text-decoration-color: #7f7f7f\">           </span>\n",
       "respecting diverse beliefs, while also emphasizing the collective responsibility to protect vulnerable  <span style=\"color: #7f7f7f; text-decoration-color: #7f7f7f\">           </span>\n",
       "populations.                                                                                            <span style=\"color: #7f7f7f; text-decoration-color: #7f7f7f\">           </span>\n",
       "<span style=\"font-weight: bold\">(</span>Alice<span style=\"font-weight: bold\">)</span> That's a fair point. However, some individuals may argue that even with exemptions in place,    <span style=\"color: #7f7f7f; text-decoration-color: #7f7f7f\">           </span>\n",
       "mandatory vaccination still infringes on their autonomy. How do you think we can address the concerns   <span style=\"color: #7f7f7f; text-decoration-color: #7f7f7f\">           </span>\n",
       "of those who feel strongly about maintaining control over their own medical decisions?                  <span style=\"color: #7f7f7f; text-decoration-color: #7f7f7f\">           </span>\n",
       "<span style=\"font-weight: bold\">(</span>Darius<span style=\"font-weight: bold\">)</span> It's important to address concerns about autonomy by providing transparent and comprehensive   <span style=\"color: #7f7f7f; text-decoration-color: #7f7f7f\">           </span>\n",
       "education about the benefits of vaccination, addressing misinformation, and emphasizing the broader     <span style=\"color: #7f7f7f; text-decoration-color: #7f7f7f\">           </span>\n",
       "societal impact of individual medical decisions, while also ensuring that alternative measures are in   <span style=\"color: #7f7f7f; text-decoration-color: #7f7f7f\">           </span>\n",
       "place to protect public health in the absence of vaccination.                                           <span style=\"color: #7f7f7f; text-decoration-color: #7f7f7f\">           </span>\n",
       "<span style=\"font-weight: bold\">(</span>Alice<span style=\"font-weight: bold\">)</span> That's a thoughtful approach. By addressing concerns and providing accurate information, we can <span style=\"color: #7f7f7f; text-decoration-color: #7f7f7f\">           </span>\n",
       "create an environment where individuals can make informed decisions while also considering the broader  <span style=\"color: #7f7f7f; text-decoration-color: #7f7f7f\">           </span>\n",
       "impact on public health.                                                                                <span style=\"color: #7f7f7f; text-decoration-color: #7f7f7f\">           </span>\n",
       "<span style=\"font-weight: bold\">(</span>Darius<span style=\"font-weight: bold\">)</span> Absolutely, creating an environment of informed decision-making is crucial, and it's essential <span style=\"color: #7f7f7f; text-decoration-color: #7f7f7f\">           </span>\n",
       "to emphasize the role of accurate information in empowering individuals to make choices that not only   <span style=\"color: #7f7f7f; text-decoration-color: #7f7f7f\">           </span>\n",
       "benefit their own health but also contribute to the well-being of the community as a whole.             <span style=\"color: #7f7f7f; text-decoration-color: #7f7f7f\">           </span>\n",
       "</pre>\n"
      ],
      "text/plain": [
       "\u001b[1m(\u001b[0mAlice\u001b[1m)\u001b[0m Do you think COVID vaccines should be mandatory?                                                \u001b]8;id=204;file:///Users/pinchun/Documents/2023Fall/NLP/hw-llm/eval.py\u001b\\\u001b[2meval.py\u001b[0m\u001b]8;;\u001b\\\u001b[2m:\u001b[0m\u001b]8;id=172899;file:///Users/pinchun/Documents/2023Fall/NLP/hw-llm/eval.py#281\u001b\\\u001b[2m281\u001b[0m\u001b]8;;\u001b\\\n",
       "\u001b[1m(\u001b[0mDarius\u001b[1m)\u001b[0m Absolutely, considering the overwhelming evidence of their safety and efficacy in preventing   \u001b[2m           \u001b[0m\n",
       "severe illness and death, mandatory vaccination can significantly contribute to achieving herd immunity \u001b[2m           \u001b[0m\n",
       "and protecting public health.                                                                           \u001b[2m           \u001b[0m\n",
       "\u001b[1m(\u001b[0mAlice\u001b[1m)\u001b[0m I understand your perspective, but some people may have concerns about mandatory vaccination    \u001b[2m           \u001b[0m\n",
       "infringing on personal freedoms or beliefs. How do you think we can navigate the balance between public \u001b[2m           \u001b[0m\n",
       "health and individual rights when it comes to vaccination mandates?                                     \u001b[2m           \u001b[0m\n",
       "\u001b[1m(\u001b[0mDarius\u001b[1m)\u001b[0m While individual rights are important, public health should not be compromised, and            \u001b[2m           \u001b[0m\n",
       "vaccination mandates can be balanced by implementing clear exemptions for medical reasons and           \u001b[2m           \u001b[0m\n",
       "respecting diverse beliefs, while also emphasizing the collective responsibility to protect vulnerable  \u001b[2m           \u001b[0m\n",
       "populations.                                                                                            \u001b[2m           \u001b[0m\n",
       "\u001b[1m(\u001b[0mAlice\u001b[1m)\u001b[0m That's a fair point. However, some individuals may argue that even with exemptions in place,    \u001b[2m           \u001b[0m\n",
       "mandatory vaccination still infringes on their autonomy. How do you think we can address the concerns   \u001b[2m           \u001b[0m\n",
       "of those who feel strongly about maintaining control over their own medical decisions?                  \u001b[2m           \u001b[0m\n",
       "\u001b[1m(\u001b[0mDarius\u001b[1m)\u001b[0m It's important to address concerns about autonomy by providing transparent and comprehensive   \u001b[2m           \u001b[0m\n",
       "education about the benefits of vaccination, addressing misinformation, and emphasizing the broader     \u001b[2m           \u001b[0m\n",
       "societal impact of individual medical decisions, while also ensuring that alternative measures are in   \u001b[2m           \u001b[0m\n",
       "place to protect public health in the absence of vaccination.                                           \u001b[2m           \u001b[0m\n",
       "\u001b[1m(\u001b[0mAlice\u001b[1m)\u001b[0m That's a thoughtful approach. By addressing concerns and providing accurate information, we can \u001b[2m           \u001b[0m\n",
       "create an environment where individuals can make informed decisions while also considering the broader  \u001b[2m           \u001b[0m\n",
       "impact on public health.                                                                                \u001b[2m           \u001b[0m\n",
       "\u001b[1m(\u001b[0mDarius\u001b[1m)\u001b[0m Absolutely, creating an environment of informed decision-making is crucial, and it's essential \u001b[2m           \u001b[0m\n",
       "to emphasize the role of accurate information in empowering individuals to make choices that not only   \u001b[2m           \u001b[0m\n",
       "benefit their own health but also contribute to the well-being of the community as a whole.             \u001b[2m           \u001b[0m\n"
      ]
     },
     "metadata": {},
     "output_type": "display_data"
    },
    {
     "data": {
      "text/html": [
       "<pre style=\"white-space:pre;overflow-x:auto;line-height:normal;font-family:Menlo,'DejaVu Sans Mono',consolas,'Courier New',monospace\"><span style=\"font-weight: bold\">&lt;</span><span style=\"color: #ff00ff; text-decoration-color: #ff00ff; font-weight: bold\">Eval</span><span style=\"color: #000000; text-decoration-color: #000000\"> of </span><span style=\"color: #008080; text-decoration-color: #008080; font-weight: bold\">1</span><span style=\"color: #000000; text-decoration-color: #000000\"> dialogue: </span><span style=\"color: #000000; text-decoration-color: #000000; font-weight: bold\">{</span><span style=\"color: #008000; text-decoration-color: #008000\">'engaged'</span><span style=\"color: #000000; text-decoration-color: #000000\">: </span><span style=\"color: #008080; text-decoration-color: #008080; font-weight: bold\">4.0</span><span style=\"color: #000000; text-decoration-color: #000000\">, </span><span style=\"color: #008000; text-decoration-color: #008000\">'informed'</span><span style=\"color: #000000; text-decoration-color: #000000\">: </span><span style=\"color: #008080; text-decoration-color: #008080; font-weight: bold\">3.0</span><span style=\"color: #000000; text-decoration-color: #000000\">, </span><span style=\"color: #008000; text-decoration-color: #008000\">'intelligent'</span><span style=\"color: #000000; text-decoration-color: #000000\">: </span><span style=\"color: #008080; text-decoration-color: #008080; font-weight: bold\">3.0</span><span style=\"color: #000000; text-decoration-color: #000000\">, </span><span style=\"color: #008000; text-decoration-color: #008000\">'moral'</span><span style=\"color: #000000; text-decoration-color: #000000\">: </span><span style=\"color: #008080; text-decoration-color: #008080; font-weight: bold\">3.0</span><span style=\"color: #000000; text-decoration-color: #000000\">, </span><span style=\"color: #008000; text-decoration-color: #008000\">'skilled'</span><span style=\"color: #000000; text-decoration-color: #000000\">: </span>    <a href=\"file:///Users/pinchun/Documents/2023Fall/NLP/hw-llm/eval.py\" target=\"_blank\"><span style=\"color: #7f7f7f; text-decoration-color: #7f7f7f\">eval.py</span></a><span style=\"color: #7f7f7f; text-decoration-color: #7f7f7f\">:</span><a href=\"file:///Users/pinchun/Documents/2023Fall/NLP/hw-llm/eval.py#285\" target=\"_blank\"><span style=\"color: #7f7f7f; text-decoration-color: #7f7f7f\">285</span></a>\n",
       "<span style=\"color: #008080; text-decoration-color: #008080; font-weight: bold\">8.0</span><span style=\"color: #000000; text-decoration-color: #000000\">, </span><span style=\"color: #008000; text-decoration-color: #008000\">'TOTAL'</span><span style=\"color: #000000; text-decoration-color: #000000\">: </span><span style=\"color: #008080; text-decoration-color: #008080; font-weight: bold\">21.0</span><span style=\"color: #000000; text-decoration-color: #000000; font-weight: bold\">}</span><span style=\"font-weight: bold\">&gt;</span>                                                                                    <span style=\"color: #7f7f7f; text-decoration-color: #7f7f7f\">           </span>\n",
       "                                                                                                        <span style=\"color: #7f7f7f; text-decoration-color: #7f7f7f\">           </span>\n",
       "Comments from overview question:                                                                        <span style=\"color: #7f7f7f; text-decoration-color: #7f7f7f\">           </span>\n",
       "<span style=\"font-weight: bold\">(</span>Darius<span style=\"font-weight: bold\">)</span> Alice disagreed with Darius about the idea of mandatory vaccination potentially infringing on  <span style=\"color: #7f7f7f; text-decoration-color: #7f7f7f\">           </span>\n",
       "personal freedoms or beliefs.                                                                           <span style=\"color: #7f7f7f; text-decoration-color: #7f7f7f\">           </span>\n",
       "                                                                                                        <span style=\"color: #7f7f7f; text-decoration-color: #7f7f7f\">           </span>\n",
       "In Darius's opinion, the conversation went well as both parties presented their perspectives and        <span style=\"color: #7f7f7f; text-decoration-color: #7f7f7f\">           </span>\n",
       "engaged in a thoughtful discussion about balancing public health and individual rights.                 <span style=\"color: #7f7f7f; text-decoration-color: #7f7f7f\">           </span>\n",
       "                                                                                                        <span style=\"color: #7f7f7f; text-decoration-color: #7f7f7f\">           </span>\n",
       "Alice could have done better by providing specific examples or counterarguments to support her concerns <span style=\"color: #7f7f7f; text-decoration-color: #7f7f7f\">           </span>\n",
       "about mandatory vaccination infringing on personal freedoms or beliefs. This would have allowed for a   <span style=\"color: #7f7f7f; text-decoration-color: #7f7f7f\">           </span>\n",
       "more robust and nuanced discussion on the topic.                                                        <span style=\"color: #7f7f7f; text-decoration-color: #7f7f7f\">           </span>\n",
       "                                                                                                        <span style=\"color: #7f7f7f; text-decoration-color: #7f7f7f\">           </span>\n",
       "Comments from staying on topic question:                                                                <span style=\"color: #7f7f7f; text-decoration-color: #7f7f7f\">           </span>\n",
       "<span style=\"font-weight: bold\">(</span>Judge Wise<span style=\"font-weight: bold\">)</span> Alice did a good job of staying on topic and addressing the same topic that Darius was     <span style=\"color: #7f7f7f; text-decoration-color: #7f7f7f\">           </span>\n",
       "talking about in the previous sentence. Her replies were directly related to the points made by Darius  <span style=\"color: #7f7f7f; text-decoration-color: #7f7f7f\">           </span>\n",
       "and she consistently engaged with the topic of balancing public health and individual rights in the     <span style=\"color: #7f7f7f; text-decoration-color: #7f7f7f\">           </span>\n",
       "context of vaccination mandates.                                                                        <span style=\"color: #7f7f7f; text-decoration-color: #7f7f7f\">           </span>\n",
       "</pre>\n"
      ],
      "text/plain": [
       "\u001b[1m<\u001b[0m\u001b[1;95mEval\u001b[0m\u001b[39m of \u001b[0m\u001b[1;36m1\u001b[0m\u001b[39m dialogue: \u001b[0m\u001b[1;39m{\u001b[0m\u001b[32m'engaged'\u001b[0m\u001b[39m: \u001b[0m\u001b[1;36m4.0\u001b[0m\u001b[39m, \u001b[0m\u001b[32m'informed'\u001b[0m\u001b[39m: \u001b[0m\u001b[1;36m3.0\u001b[0m\u001b[39m, \u001b[0m\u001b[32m'intelligent'\u001b[0m\u001b[39m: \u001b[0m\u001b[1;36m3.0\u001b[0m\u001b[39m, \u001b[0m\u001b[32m'moral'\u001b[0m\u001b[39m: \u001b[0m\u001b[1;36m3.0\u001b[0m\u001b[39m, \u001b[0m\u001b[32m'skilled'\u001b[0m\u001b[39m: \u001b[0m    \u001b]8;id=572413;file:///Users/pinchun/Documents/2023Fall/NLP/hw-llm/eval.py\u001b\\\u001b[2meval.py\u001b[0m\u001b]8;;\u001b\\\u001b[2m:\u001b[0m\u001b]8;id=557208;file:///Users/pinchun/Documents/2023Fall/NLP/hw-llm/eval.py#285\u001b\\\u001b[2m285\u001b[0m\u001b]8;;\u001b\\\n",
       "\u001b[1;36m8.0\u001b[0m\u001b[39m, \u001b[0m\u001b[32m'TOTAL'\u001b[0m\u001b[39m: \u001b[0m\u001b[1;36m21.0\u001b[0m\u001b[1;39m}\u001b[0m\u001b[1m>\u001b[0m                                                                                    \u001b[2m           \u001b[0m\n",
       "                                                                                                        \u001b[2m           \u001b[0m\n",
       "Comments from overview question:                                                                        \u001b[2m           \u001b[0m\n",
       "\u001b[1m(\u001b[0mDarius\u001b[1m)\u001b[0m Alice disagreed with Darius about the idea of mandatory vaccination potentially infringing on  \u001b[2m           \u001b[0m\n",
       "personal freedoms or beliefs.                                                                           \u001b[2m           \u001b[0m\n",
       "                                                                                                        \u001b[2m           \u001b[0m\n",
       "In Darius's opinion, the conversation went well as both parties presented their perspectives and        \u001b[2m           \u001b[0m\n",
       "engaged in a thoughtful discussion about balancing public health and individual rights.                 \u001b[2m           \u001b[0m\n",
       "                                                                                                        \u001b[2m           \u001b[0m\n",
       "Alice could have done better by providing specific examples or counterarguments to support her concerns \u001b[2m           \u001b[0m\n",
       "about mandatory vaccination infringing on personal freedoms or beliefs. This would have allowed for a   \u001b[2m           \u001b[0m\n",
       "more robust and nuanced discussion on the topic.                                                        \u001b[2m           \u001b[0m\n",
       "                                                                                                        \u001b[2m           \u001b[0m\n",
       "Comments from staying on topic question:                                                                \u001b[2m           \u001b[0m\n",
       "\u001b[1m(\u001b[0mJudge Wise\u001b[1m)\u001b[0m Alice did a good job of staying on topic and addressing the same topic that Darius was     \u001b[2m           \u001b[0m\n",
       "talking about in the previous sentence. Her replies were directly related to the points made by Darius  \u001b[2m           \u001b[0m\n",
       "and she consistently engaged with the topic of balancing public health and individual rights in the     \u001b[2m           \u001b[0m\n",
       "context of vaccination mandates.                                                                        \u001b[2m           \u001b[0m\n"
      ]
     },
     "metadata": {},
     "output_type": "display_data"
    },
    {
     "data": {
      "text/html": [
       "<pre style=\"white-space:pre;overflow-x:auto;line-height:normal;font-family:Menlo,'DejaVu Sans Mono',consolas,'Courier New',monospace\"><span style=\"font-weight: bold\">(</span>Alice<span style=\"font-weight: bold\">)</span> Do you think COVID vaccines should be mandatory?                                                <a href=\"file:///Users/pinchun/Documents/2023Fall/NLP/hw-llm/eval.py\" target=\"_blank\"><span style=\"color: #7f7f7f; text-decoration-color: #7f7f7f\">eval.py</span></a><span style=\"color: #7f7f7f; text-decoration-color: #7f7f7f\">:</span><a href=\"file:///Users/pinchun/Documents/2023Fall/NLP/hw-llm/eval.py#281\" target=\"_blank\"><span style=\"color: #7f7f7f; text-decoration-color: #7f7f7f\">281</span></a>\n",
       "<span style=\"font-weight: bold\">(</span>Darius<span style=\"font-weight: bold\">)</span> Absolutely, the overwhelming scientific evidence supports the effectiveness and safety of      <span style=\"color: #7f7f7f; text-decoration-color: #7f7f7f\">           </span>\n",
       "COVID vaccines, and mandating them is crucial to achieving widespread immunity and protecting public    <span style=\"color: #7f7f7f; text-decoration-color: #7f7f7f\">           </span>\n",
       "health.                                                                                                 <span style=\"color: #7f7f7f; text-decoration-color: #7f7f7f\">           </span>\n",
       "<span style=\"font-weight: bold\">(</span>Alice<span style=\"font-weight: bold\">)</span> I understand your point, but some people may have concerns about mandating vaccines and feel    <span style=\"color: #7f7f7f; text-decoration-color: #7f7f7f\">           </span>\n",
       "that it infringes on their personal freedoms. Is there a way to balance public health needs with        <span style=\"color: #7f7f7f; text-decoration-color: #7f7f7f\">           </span>\n",
       "individual rights?                                                                                      <span style=\"color: #7f7f7f; text-decoration-color: #7f7f7f\">           </span>\n",
       "<span style=\"font-weight: bold\">(</span>Darius<span style=\"font-weight: bold\">)</span> While individual rights are important, public health measures such as vaccine mandates have    <span style=\"color: #7f7f7f; text-decoration-color: #7f7f7f\">           </span>\n",
       "precedence in safeguarding the overall well-being of society, and can be balanced with exemptions for   <span style=\"color: #7f7f7f; text-decoration-color: #7f7f7f\">           </span>\n",
       "medical or religious reasons.                                                                           <span style=\"color: #7f7f7f; text-decoration-color: #7f7f7f\">           </span>\n",
       "<span style=\"font-weight: bold\">(</span>Alice<span style=\"font-weight: bold\">)</span> That's a valid consideration. It's important to acknowledge that some individuals may have      <span style=\"color: #7f7f7f; text-decoration-color: #7f7f7f\">           </span>\n",
       "legitimate medical or religious reasons for not being able to receive the vaccine, and ensuring that    <span style=\"color: #7f7f7f; text-decoration-color: #7f7f7f\">           </span>\n",
       "their rights are respected while still upholding public health is a delicate balancing act.             <span style=\"color: #7f7f7f; text-decoration-color: #7f7f7f\">           </span>\n",
       "<span style=\"font-weight: bold\">(</span>Darius<span style=\"font-weight: bold\">)</span> Indeed, respecting individual freedoms while safeguarding public health is a delicate balance, <span style=\"color: #7f7f7f; text-decoration-color: #7f7f7f\">           </span>\n",
       "and it is crucial to establish clear guidelines that accommodate legitimate exemptions, while           <span style=\"color: #7f7f7f; text-decoration-color: #7f7f7f\">           </span>\n",
       "emphasizing the importance of vaccination in protecting the community.                                  <span style=\"color: #7f7f7f; text-decoration-color: #7f7f7f\">           </span>\n",
       "<span style=\"font-weight: bold\">(</span>Alice<span style=\"font-weight: bold\">)</span> It's clear that finding a balance between individual freedoms and public health is essential in <span style=\"color: #7f7f7f; text-decoration-color: #7f7f7f\">           </span>\n",
       "navigating this complex issue. By ensuring that exemptions are considered and communicated effectively, <span style=\"color: #7f7f7f; text-decoration-color: #7f7f7f\">           </span>\n",
       "we can work towards a solution that respects both personal rights and collective well-being.            <span style=\"color: #7f7f7f; text-decoration-color: #7f7f7f\">           </span>\n",
       "<span style=\"font-weight: bold\">(</span>Darius<span style=\"font-weight: bold\">)</span> Absolutely, finding this balance will require thoughtful and transparent communication, as     <span style=\"color: #7f7f7f; text-decoration-color: #7f7f7f\">           </span>\n",
       "well as a commitment to upholding both individual rights and public health imperatives, ultimately      <span style=\"color: #7f7f7f; text-decoration-color: #7f7f7f\">           </span>\n",
       "leading to a more equitable and effective approach to vaccine mandates.                                 <span style=\"color: #7f7f7f; text-decoration-color: #7f7f7f\">           </span>\n",
       "</pre>\n"
      ],
      "text/plain": [
       "\u001b[1m(\u001b[0mAlice\u001b[1m)\u001b[0m Do you think COVID vaccines should be mandatory?                                                \u001b]8;id=394001;file:///Users/pinchun/Documents/2023Fall/NLP/hw-llm/eval.py\u001b\\\u001b[2meval.py\u001b[0m\u001b]8;;\u001b\\\u001b[2m:\u001b[0m\u001b]8;id=219502;file:///Users/pinchun/Documents/2023Fall/NLP/hw-llm/eval.py#281\u001b\\\u001b[2m281\u001b[0m\u001b]8;;\u001b\\\n",
       "\u001b[1m(\u001b[0mDarius\u001b[1m)\u001b[0m Absolutely, the overwhelming scientific evidence supports the effectiveness and safety of      \u001b[2m           \u001b[0m\n",
       "COVID vaccines, and mandating them is crucial to achieving widespread immunity and protecting public    \u001b[2m           \u001b[0m\n",
       "health.                                                                                                 \u001b[2m           \u001b[0m\n",
       "\u001b[1m(\u001b[0mAlice\u001b[1m)\u001b[0m I understand your point, but some people may have concerns about mandating vaccines and feel    \u001b[2m           \u001b[0m\n",
       "that it infringes on their personal freedoms. Is there a way to balance public health needs with        \u001b[2m           \u001b[0m\n",
       "individual rights?                                                                                      \u001b[2m           \u001b[0m\n",
       "\u001b[1m(\u001b[0mDarius\u001b[1m)\u001b[0m While individual rights are important, public health measures such as vaccine mandates have    \u001b[2m           \u001b[0m\n",
       "precedence in safeguarding the overall well-being of society, and can be balanced with exemptions for   \u001b[2m           \u001b[0m\n",
       "medical or religious reasons.                                                                           \u001b[2m           \u001b[0m\n",
       "\u001b[1m(\u001b[0mAlice\u001b[1m)\u001b[0m That's a valid consideration. It's important to acknowledge that some individuals may have      \u001b[2m           \u001b[0m\n",
       "legitimate medical or religious reasons for not being able to receive the vaccine, and ensuring that    \u001b[2m           \u001b[0m\n",
       "their rights are respected while still upholding public health is a delicate balancing act.             \u001b[2m           \u001b[0m\n",
       "\u001b[1m(\u001b[0mDarius\u001b[1m)\u001b[0m Indeed, respecting individual freedoms while safeguarding public health is a delicate balance, \u001b[2m           \u001b[0m\n",
       "and it is crucial to establish clear guidelines that accommodate legitimate exemptions, while           \u001b[2m           \u001b[0m\n",
       "emphasizing the importance of vaccination in protecting the community.                                  \u001b[2m           \u001b[0m\n",
       "\u001b[1m(\u001b[0mAlice\u001b[1m)\u001b[0m It's clear that finding a balance between individual freedoms and public health is essential in \u001b[2m           \u001b[0m\n",
       "navigating this complex issue. By ensuring that exemptions are considered and communicated effectively, \u001b[2m           \u001b[0m\n",
       "we can work towards a solution that respects both personal rights and collective well-being.            \u001b[2m           \u001b[0m\n",
       "\u001b[1m(\u001b[0mDarius\u001b[1m)\u001b[0m Absolutely, finding this balance will require thoughtful and transparent communication, as     \u001b[2m           \u001b[0m\n",
       "well as a commitment to upholding both individual rights and public health imperatives, ultimately      \u001b[2m           \u001b[0m\n",
       "leading to a more equitable and effective approach to vaccine mandates.                                 \u001b[2m           \u001b[0m\n"
      ]
     },
     "metadata": {},
     "output_type": "display_data"
    },
    {
     "data": {
      "text/html": [
       "<pre style=\"white-space:pre;overflow-x:auto;line-height:normal;font-family:Menlo,'DejaVu Sans Mono',consolas,'Courier New',monospace\"><span style=\"font-weight: bold\">&lt;</span><span style=\"color: #ff00ff; text-decoration-color: #ff00ff; font-weight: bold\">Eval</span><span style=\"color: #000000; text-decoration-color: #000000\"> of </span><span style=\"color: #008080; text-decoration-color: #008080; font-weight: bold\">1</span><span style=\"color: #000000; text-decoration-color: #000000\"> dialogue: </span><span style=\"color: #000000; text-decoration-color: #000000; font-weight: bold\">{</span><span style=\"color: #008000; text-decoration-color: #008000\">'engaged'</span><span style=\"color: #000000; text-decoration-color: #000000\">: </span><span style=\"color: #008080; text-decoration-color: #008080; font-weight: bold\">4.0</span><span style=\"color: #000000; text-decoration-color: #000000\">, </span><span style=\"color: #008000; text-decoration-color: #008000\">'informed'</span><span style=\"color: #000000; text-decoration-color: #000000\">: </span><span style=\"color: #008080; text-decoration-color: #008080; font-weight: bold\">3.0</span><span style=\"color: #000000; text-decoration-color: #000000\">, </span><span style=\"color: #008000; text-decoration-color: #008000\">'intelligent'</span><span style=\"color: #000000; text-decoration-color: #000000\">: </span><span style=\"color: #008080; text-decoration-color: #008080; font-weight: bold\">3.0</span><span style=\"color: #000000; text-decoration-color: #000000\">, </span><span style=\"color: #008000; text-decoration-color: #008000\">'moral'</span><span style=\"color: #000000; text-decoration-color: #000000\">: </span><span style=\"color: #008080; text-decoration-color: #008080; font-weight: bold\">3.0</span><span style=\"color: #000000; text-decoration-color: #000000\">, </span><span style=\"color: #008000; text-decoration-color: #008000\">'skilled'</span><span style=\"color: #000000; text-decoration-color: #000000\">: </span>    <a href=\"file:///Users/pinchun/Documents/2023Fall/NLP/hw-llm/eval.py\" target=\"_blank\"><span style=\"color: #7f7f7f; text-decoration-color: #7f7f7f\">eval.py</span></a><span style=\"color: #7f7f7f; text-decoration-color: #7f7f7f\">:</span><a href=\"file:///Users/pinchun/Documents/2023Fall/NLP/hw-llm/eval.py#285\" target=\"_blank\"><span style=\"color: #7f7f7f; text-decoration-color: #7f7f7f\">285</span></a>\n",
       "<span style=\"color: #008080; text-decoration-color: #008080; font-weight: bold\">8.0</span><span style=\"color: #000000; text-decoration-color: #000000\">, </span><span style=\"color: #008000; text-decoration-color: #008000\">'TOTAL'</span><span style=\"color: #000000; text-decoration-color: #000000\">: </span><span style=\"color: #008080; text-decoration-color: #008080; font-weight: bold\">21.0</span><span style=\"color: #000000; text-decoration-color: #000000; font-weight: bold\">}</span><span style=\"font-weight: bold\">&gt;</span>                                                                                    <span style=\"color: #7f7f7f; text-decoration-color: #7f7f7f\">           </span>\n",
       "                                                                                                        <span style=\"color: #7f7f7f; text-decoration-color: #7f7f7f\">           </span>\n",
       "Comments from overview question:                                                                        <span style=\"color: #7f7f7f; text-decoration-color: #7f7f7f\">           </span>\n",
       "<span style=\"font-weight: bold\">(</span>Darius<span style=\"font-weight: bold\">)</span> Alice disagreed with Darius about whether COVID vaccines should be mandatory.                  <span style=\"color: #7f7f7f; text-decoration-color: #7f7f7f\">           </span>\n",
       "                                                                                                        <span style=\"color: #7f7f7f; text-decoration-color: #7f7f7f\">           </span>\n",
       "In Darius's opinion, the conversation went well as both parties acknowledged the importance of          <span style=\"color: #7f7f7f; text-decoration-color: #7f7f7f\">           </span>\n",
       "balancing individual rights with public health needs. They discussed the possibility of exemptions for  <span style=\"color: #7f7f7f; text-decoration-color: #7f7f7f\">           </span>\n",
       "medical or religious reasons and emphasized the need for clear guidelines and effective communication.  <span style=\"color: #7f7f7f; text-decoration-color: #7f7f7f\">           </span>\n",
       "                                                                                                        <span style=\"color: #7f7f7f; text-decoration-color: #7f7f7f\">           </span>\n",
       "Alice could have done better by providing more specific examples or counterarguments to support her     <span style=\"color: #7f7f7f; text-decoration-color: #7f7f7f\">           </span>\n",
       "concerns about mandating vaccines. This would have allowed for a more robust and nuanced discussion on  <span style=\"color: #7f7f7f; text-decoration-color: #7f7f7f\">           </span>\n",
       "the topic.                                                                                              <span style=\"color: #7f7f7f; text-decoration-color: #7f7f7f\">           </span>\n",
       "                                                                                                        <span style=\"color: #7f7f7f; text-decoration-color: #7f7f7f\">           </span>\n",
       "Comments from staying on topic question:                                                                <span style=\"color: #7f7f7f; text-decoration-color: #7f7f7f\">           </span>\n",
       "<span style=\"font-weight: bold\">(</span>Judge Wise<span style=\"font-weight: bold\">)</span> Alice did a good job of staying on topic and addressing the points made by Darius in each  <span style=\"color: #7f7f7f; text-decoration-color: #7f7f7f\">           </span>\n",
       "of her replies. Her responses were directly related to the topic that Darius was discussing in the      <span style=\"color: #7f7f7f; text-decoration-color: #7f7f7f\">           </span>\n",
       "previous sentence.                                                                                      <span style=\"color: #7f7f7f; text-decoration-color: #7f7f7f\">           </span>\n",
       "</pre>\n"
      ],
      "text/plain": [
       "\u001b[1m<\u001b[0m\u001b[1;95mEval\u001b[0m\u001b[39m of \u001b[0m\u001b[1;36m1\u001b[0m\u001b[39m dialogue: \u001b[0m\u001b[1;39m{\u001b[0m\u001b[32m'engaged'\u001b[0m\u001b[39m: \u001b[0m\u001b[1;36m4.0\u001b[0m\u001b[39m, \u001b[0m\u001b[32m'informed'\u001b[0m\u001b[39m: \u001b[0m\u001b[1;36m3.0\u001b[0m\u001b[39m, \u001b[0m\u001b[32m'intelligent'\u001b[0m\u001b[39m: \u001b[0m\u001b[1;36m3.0\u001b[0m\u001b[39m, \u001b[0m\u001b[32m'moral'\u001b[0m\u001b[39m: \u001b[0m\u001b[1;36m3.0\u001b[0m\u001b[39m, \u001b[0m\u001b[32m'skilled'\u001b[0m\u001b[39m: \u001b[0m    \u001b]8;id=602976;file:///Users/pinchun/Documents/2023Fall/NLP/hw-llm/eval.py\u001b\\\u001b[2meval.py\u001b[0m\u001b]8;;\u001b\\\u001b[2m:\u001b[0m\u001b]8;id=805260;file:///Users/pinchun/Documents/2023Fall/NLP/hw-llm/eval.py#285\u001b\\\u001b[2m285\u001b[0m\u001b]8;;\u001b\\\n",
       "\u001b[1;36m8.0\u001b[0m\u001b[39m, \u001b[0m\u001b[32m'TOTAL'\u001b[0m\u001b[39m: \u001b[0m\u001b[1;36m21.0\u001b[0m\u001b[1;39m}\u001b[0m\u001b[1m>\u001b[0m                                                                                    \u001b[2m           \u001b[0m\n",
       "                                                                                                        \u001b[2m           \u001b[0m\n",
       "Comments from overview question:                                                                        \u001b[2m           \u001b[0m\n",
       "\u001b[1m(\u001b[0mDarius\u001b[1m)\u001b[0m Alice disagreed with Darius about whether COVID vaccines should be mandatory.                  \u001b[2m           \u001b[0m\n",
       "                                                                                                        \u001b[2m           \u001b[0m\n",
       "In Darius's opinion, the conversation went well as both parties acknowledged the importance of          \u001b[2m           \u001b[0m\n",
       "balancing individual rights with public health needs. They discussed the possibility of exemptions for  \u001b[2m           \u001b[0m\n",
       "medical or religious reasons and emphasized the need for clear guidelines and effective communication.  \u001b[2m           \u001b[0m\n",
       "                                                                                                        \u001b[2m           \u001b[0m\n",
       "Alice could have done better by providing more specific examples or counterarguments to support her     \u001b[2m           \u001b[0m\n",
       "concerns about mandating vaccines. This would have allowed for a more robust and nuanced discussion on  \u001b[2m           \u001b[0m\n",
       "the topic.                                                                                              \u001b[2m           \u001b[0m\n",
       "                                                                                                        \u001b[2m           \u001b[0m\n",
       "Comments from staying on topic question:                                                                \u001b[2m           \u001b[0m\n",
       "\u001b[1m(\u001b[0mJudge Wise\u001b[1m)\u001b[0m Alice did a good job of staying on topic and addressing the points made by Darius in each  \u001b[2m           \u001b[0m\n",
       "of her replies. Her responses were directly related to the topic that Darius was discussing in the      \u001b[2m           \u001b[0m\n",
       "previous sentence.                                                                                      \u001b[2m           \u001b[0m\n"
      ]
     },
     "metadata": {},
     "output_type": "display_data"
    },
    {
     "data": {
      "text/html": [
       "<pre style=\"white-space:pre;overflow-x:auto;line-height:normal;font-family:Menlo,'DejaVu Sans Mono',consolas,'Courier New',monospace\"><span style=\"font-weight: bold\">(</span>Alice<span style=\"font-weight: bold\">)</span> Do you think COVID vaccines should be mandatory?                                                <a href=\"file:///Users/pinchun/Documents/2023Fall/NLP/hw-llm/eval.py\" target=\"_blank\"><span style=\"color: #7f7f7f; text-decoration-color: #7f7f7f\">eval.py</span></a><span style=\"color: #7f7f7f; text-decoration-color: #7f7f7f\">:</span><a href=\"file:///Users/pinchun/Documents/2023Fall/NLP/hw-llm/eval.py#281\" target=\"_blank\"><span style=\"color: #7f7f7f; text-decoration-color: #7f7f7f\">281</span></a>\n",
       "<span style=\"font-weight: bold\">(</span>Eve<span style=\"font-weight: bold\">)</span> I've heard some people say that they believe COVID vaccines should be mandatory to protect public <span style=\"color: #7f7f7f; text-decoration-color: #7f7f7f\">           </span>\n",
       "health, but others feel strongly that it should be a personal choice.                                   <span style=\"color: #7f7f7f; text-decoration-color: #7f7f7f\">           </span>\n",
       "<span style=\"font-weight: bold\">(</span>Alice<span style=\"font-weight: bold\">)</span> While personal choice is important, it's also crucial to consider the broader impact on public  <span style=\"color: #7f7f7f; text-decoration-color: #7f7f7f\">           </span>\n",
       "health. Mandating vaccines can help prevent the spread of the virus and protect vulnerable populations. <span style=\"color: #7f7f7f; text-decoration-color: #7f7f7f\">           </span>\n",
       "<span style=\"font-weight: bold\">(</span>Eve<span style=\"font-weight: bold\">)</span> I agree, it's a complex issue with strong arguments on both sides, and it's important to consider <span style=\"color: #7f7f7f; text-decoration-color: #7f7f7f\">           </span>\n",
       "the implications for public health and individual freedoms.                                             <span style=\"color: #7f7f7f; text-decoration-color: #7f7f7f\">           </span>\n",
       "<span style=\"font-weight: bold\">(</span>Alice<span style=\"font-weight: bold\">)</span> Absolutely, it's important to find a balance between individual freedoms and the collective     <span style=\"color: #7f7f7f; text-decoration-color: #7f7f7f\">           </span>\n",
       "well-being of society. It's a nuanced issue that requires careful consideration of both perspectives.   <span style=\"color: #7f7f7f; text-decoration-color: #7f7f7f\">           </span>\n",
       "<span style=\"font-weight: bold\">(</span>Eve<span style=\"font-weight: bold\">)</span> Definitely, finding that balance is key, and it's interesting to hear different perspectives on   <span style=\"color: #7f7f7f; text-decoration-color: #7f7f7f\">           </span>\n",
       "this topic.                                                                                             <span style=\"color: #7f7f7f; text-decoration-color: #7f7f7f\">           </span>\n",
       "<span style=\"font-weight: bold\">(</span>Alice<span style=\"font-weight: bold\">)</span> Absolutely, engaging in thoughtful discussions and considering diverse perspectives can help us <span style=\"color: #7f7f7f; text-decoration-color: #7f7f7f\">           </span>\n",
       "gain a more comprehensive understanding of complex issues like this one.                                <span style=\"color: #7f7f7f; text-decoration-color: #7f7f7f\">           </span>\n",
       "<span style=\"font-weight: bold\">(</span>Eve<span style=\"font-weight: bold\">)</span> I completely agree. Understanding different viewpoints is essential for gaining a more holistic   <span style=\"color: #7f7f7f; text-decoration-color: #7f7f7f\">           </span>\n",
       "understanding of complex issues.                                                                        <span style=\"color: #7f7f7f; text-decoration-color: #7f7f7f\">           </span>\n",
       "</pre>\n"
      ],
      "text/plain": [
       "\u001b[1m(\u001b[0mAlice\u001b[1m)\u001b[0m Do you think COVID vaccines should be mandatory?                                                \u001b]8;id=285489;file:///Users/pinchun/Documents/2023Fall/NLP/hw-llm/eval.py\u001b\\\u001b[2meval.py\u001b[0m\u001b]8;;\u001b\\\u001b[2m:\u001b[0m\u001b]8;id=522568;file:///Users/pinchun/Documents/2023Fall/NLP/hw-llm/eval.py#281\u001b\\\u001b[2m281\u001b[0m\u001b]8;;\u001b\\\n",
       "\u001b[1m(\u001b[0mEve\u001b[1m)\u001b[0m I've heard some people say that they believe COVID vaccines should be mandatory to protect public \u001b[2m           \u001b[0m\n",
       "health, but others feel strongly that it should be a personal choice.                                   \u001b[2m           \u001b[0m\n",
       "\u001b[1m(\u001b[0mAlice\u001b[1m)\u001b[0m While personal choice is important, it's also crucial to consider the broader impact on public  \u001b[2m           \u001b[0m\n",
       "health. Mandating vaccines can help prevent the spread of the virus and protect vulnerable populations. \u001b[2m           \u001b[0m\n",
       "\u001b[1m(\u001b[0mEve\u001b[1m)\u001b[0m I agree, it's a complex issue with strong arguments on both sides, and it's important to consider \u001b[2m           \u001b[0m\n",
       "the implications for public health and individual freedoms.                                             \u001b[2m           \u001b[0m\n",
       "\u001b[1m(\u001b[0mAlice\u001b[1m)\u001b[0m Absolutely, it's important to find a balance between individual freedoms and the collective     \u001b[2m           \u001b[0m\n",
       "well-being of society. It's a nuanced issue that requires careful consideration of both perspectives.   \u001b[2m           \u001b[0m\n",
       "\u001b[1m(\u001b[0mEve\u001b[1m)\u001b[0m Definitely, finding that balance is key, and it's interesting to hear different perspectives on   \u001b[2m           \u001b[0m\n",
       "this topic.                                                                                             \u001b[2m           \u001b[0m\n",
       "\u001b[1m(\u001b[0mAlice\u001b[1m)\u001b[0m Absolutely, engaging in thoughtful discussions and considering diverse perspectives can help us \u001b[2m           \u001b[0m\n",
       "gain a more comprehensive understanding of complex issues like this one.                                \u001b[2m           \u001b[0m\n",
       "\u001b[1m(\u001b[0mEve\u001b[1m)\u001b[0m I completely agree. Understanding different viewpoints is essential for gaining a more holistic   \u001b[2m           \u001b[0m\n",
       "understanding of complex issues.                                                                        \u001b[2m           \u001b[0m\n"
      ]
     },
     "metadata": {},
     "output_type": "display_data"
    },
    {
     "data": {
      "text/html": [
       "<pre style=\"white-space:pre;overflow-x:auto;line-height:normal;font-family:Menlo,'DejaVu Sans Mono',consolas,'Courier New',monospace\"><span style=\"font-weight: bold\">&lt;</span><span style=\"color: #ff00ff; text-decoration-color: #ff00ff; font-weight: bold\">Eval</span><span style=\"color: #000000; text-decoration-color: #000000\"> of </span><span style=\"color: #008080; text-decoration-color: #008080; font-weight: bold\">1</span><span style=\"color: #000000; text-decoration-color: #000000\"> dialogue: </span><span style=\"color: #000000; text-decoration-color: #000000; font-weight: bold\">{</span><span style=\"color: #008000; text-decoration-color: #008000\">'engaged'</span><span style=\"color: #000000; text-decoration-color: #000000\">: </span><span style=\"color: #008080; text-decoration-color: #008080; font-weight: bold\">4.0</span><span style=\"color: #000000; text-decoration-color: #000000\">, </span><span style=\"color: #008000; text-decoration-color: #008000\">'informed'</span><span style=\"color: #000000; text-decoration-color: #000000\">: </span><span style=\"color: #008080; text-decoration-color: #008080; font-weight: bold\">4.0</span><span style=\"color: #000000; text-decoration-color: #000000\">, </span><span style=\"color: #008000; text-decoration-color: #008000\">'intelligent'</span><span style=\"color: #000000; text-decoration-color: #000000\">: </span><span style=\"color: #008080; text-decoration-color: #008080; font-weight: bold\">3.0</span><span style=\"color: #000000; text-decoration-color: #000000\">, </span><span style=\"color: #008000; text-decoration-color: #008000\">'moral'</span><span style=\"color: #000000; text-decoration-color: #000000\">: </span><span style=\"color: #008080; text-decoration-color: #008080; font-weight: bold\">3.0</span><span style=\"color: #000000; text-decoration-color: #000000\">, </span><span style=\"color: #008000; text-decoration-color: #008000\">'skilled'</span><span style=\"color: #000000; text-decoration-color: #000000\">: </span>    <a href=\"file:///Users/pinchun/Documents/2023Fall/NLP/hw-llm/eval.py\" target=\"_blank\"><span style=\"color: #7f7f7f; text-decoration-color: #7f7f7f\">eval.py</span></a><span style=\"color: #7f7f7f; text-decoration-color: #7f7f7f\">:</span><a href=\"file:///Users/pinchun/Documents/2023Fall/NLP/hw-llm/eval.py#285\" target=\"_blank\"><span style=\"color: #7f7f7f; text-decoration-color: #7f7f7f\">285</span></a>\n",
       "<span style=\"color: #008080; text-decoration-color: #008080; font-weight: bold\">8.0</span><span style=\"color: #000000; text-decoration-color: #000000\">, </span><span style=\"color: #008000; text-decoration-color: #008000\">'TOTAL'</span><span style=\"color: #000000; text-decoration-color: #000000\">: </span><span style=\"color: #008080; text-decoration-color: #008080; font-weight: bold\">22.0</span><span style=\"color: #000000; text-decoration-color: #000000; font-weight: bold\">}</span><span style=\"font-weight: bold\">&gt;</span>                                                                                    <span style=\"color: #7f7f7f; text-decoration-color: #7f7f7f\">           </span>\n",
       "                                                                                                        <span style=\"color: #7f7f7f; text-decoration-color: #7f7f7f\">           </span>\n",
       "Comments from overview question:                                                                        <span style=\"color: #7f7f7f; text-decoration-color: #7f7f7f\">           </span>\n",
       "<span style=\"font-weight: bold\">(</span>Eve<span style=\"font-weight: bold\">)</span> Alice disagreed with me about whether COVID vaccines should be mandatory. She believed that COVID <span style=\"color: #7f7f7f; text-decoration-color: #7f7f7f\">           </span>\n",
       "vaccines should be mandatory to protect public health, while I mentioned that some people feel strongly <span style=\"color: #7f7f7f; text-decoration-color: #7f7f7f\">           </span>\n",
       "that it should be a personal choice.                                                                    <span style=\"color: #7f7f7f; text-decoration-color: #7f7f7f\">           </span>\n",
       "                                                                                                        <span style=\"color: #7f7f7f; text-decoration-color: #7f7f7f\">           </span>\n",
       "In my opinion, the conversation went well. We both acknowledged the complexity of the issue and the     <span style=\"color: #7f7f7f; text-decoration-color: #7f7f7f\">           </span>\n",
       "importance of considering different perspectives. We engaged in a thoughtful discussion and expressed   <span style=\"color: #7f7f7f; text-decoration-color: #7f7f7f\">           </span>\n",
       "our agreement on the need to find a balance between individual freedoms and public health.              <span style=\"color: #7f7f7f; text-decoration-color: #7f7f7f\">           </span>\n",
       "                                                                                                        <span style=\"color: #7f7f7f; text-decoration-color: #7f7f7f\">           </span>\n",
       "Alice could have done better by providing specific evidence or examples to support her argument for     <span style=\"color: #7f7f7f; text-decoration-color: #7f7f7f\">           </span>\n",
       "mandatory vaccines. This would have strengthened her position and added more depth to the conversation. <span style=\"color: #7f7f7f; text-decoration-color: #7f7f7f\">           </span>\n",
       "                                                                                                        <span style=\"color: #7f7f7f; text-decoration-color: #7f7f7f\">           </span>\n",
       "Comments from staying on topic question:                                                                <span style=\"color: #7f7f7f; text-decoration-color: #7f7f7f\">           </span>\n",
       "<span style=\"font-weight: bold\">(</span>Judge Wise<span style=\"font-weight: bold\">)</span> Alice did a good job of staying on topic and addressing the same topic that Eve was        <span style=\"color: #7f7f7f; text-decoration-color: #7f7f7f\">           </span>\n",
       "talking about in the previous sentence. Each of Alice's replies directly relates to the topic of COVID  <span style=\"color: #7f7f7f; text-decoration-color: #7f7f7f\">           </span>\n",
       "vaccines being mandatory and the balance between public health and individual freedoms.                 <span style=\"color: #7f7f7f; text-decoration-color: #7f7f7f\">           </span>\n",
       "</pre>\n"
      ],
      "text/plain": [
       "\u001b[1m<\u001b[0m\u001b[1;95mEval\u001b[0m\u001b[39m of \u001b[0m\u001b[1;36m1\u001b[0m\u001b[39m dialogue: \u001b[0m\u001b[1;39m{\u001b[0m\u001b[32m'engaged'\u001b[0m\u001b[39m: \u001b[0m\u001b[1;36m4.0\u001b[0m\u001b[39m, \u001b[0m\u001b[32m'informed'\u001b[0m\u001b[39m: \u001b[0m\u001b[1;36m4.0\u001b[0m\u001b[39m, \u001b[0m\u001b[32m'intelligent'\u001b[0m\u001b[39m: \u001b[0m\u001b[1;36m3.0\u001b[0m\u001b[39m, \u001b[0m\u001b[32m'moral'\u001b[0m\u001b[39m: \u001b[0m\u001b[1;36m3.0\u001b[0m\u001b[39m, \u001b[0m\u001b[32m'skilled'\u001b[0m\u001b[39m: \u001b[0m    \u001b]8;id=532581;file:///Users/pinchun/Documents/2023Fall/NLP/hw-llm/eval.py\u001b\\\u001b[2meval.py\u001b[0m\u001b]8;;\u001b\\\u001b[2m:\u001b[0m\u001b]8;id=70713;file:///Users/pinchun/Documents/2023Fall/NLP/hw-llm/eval.py#285\u001b\\\u001b[2m285\u001b[0m\u001b]8;;\u001b\\\n",
       "\u001b[1;36m8.0\u001b[0m\u001b[39m, \u001b[0m\u001b[32m'TOTAL'\u001b[0m\u001b[39m: \u001b[0m\u001b[1;36m22.0\u001b[0m\u001b[1;39m}\u001b[0m\u001b[1m>\u001b[0m                                                                                    \u001b[2m           \u001b[0m\n",
       "                                                                                                        \u001b[2m           \u001b[0m\n",
       "Comments from overview question:                                                                        \u001b[2m           \u001b[0m\n",
       "\u001b[1m(\u001b[0mEve\u001b[1m)\u001b[0m Alice disagreed with me about whether COVID vaccines should be mandatory. She believed that COVID \u001b[2m           \u001b[0m\n",
       "vaccines should be mandatory to protect public health, while I mentioned that some people feel strongly \u001b[2m           \u001b[0m\n",
       "that it should be a personal choice.                                                                    \u001b[2m           \u001b[0m\n",
       "                                                                                                        \u001b[2m           \u001b[0m\n",
       "In my opinion, the conversation went well. We both acknowledged the complexity of the issue and the     \u001b[2m           \u001b[0m\n",
       "importance of considering different perspectives. We engaged in a thoughtful discussion and expressed   \u001b[2m           \u001b[0m\n",
       "our agreement on the need to find a balance between individual freedoms and public health.              \u001b[2m           \u001b[0m\n",
       "                                                                                                        \u001b[2m           \u001b[0m\n",
       "Alice could have done better by providing specific evidence or examples to support her argument for     \u001b[2m           \u001b[0m\n",
       "mandatory vaccines. This would have strengthened her position and added more depth to the conversation. \u001b[2m           \u001b[0m\n",
       "                                                                                                        \u001b[2m           \u001b[0m\n",
       "Comments from staying on topic question:                                                                \u001b[2m           \u001b[0m\n",
       "\u001b[1m(\u001b[0mJudge Wise\u001b[1m)\u001b[0m Alice did a good job of staying on topic and addressing the same topic that Eve was        \u001b[2m           \u001b[0m\n",
       "talking about in the previous sentence. Each of Alice's replies directly relates to the topic of COVID  \u001b[2m           \u001b[0m\n",
       "vaccines being mandatory and the balance between public health and individual freedoms.                 \u001b[2m           \u001b[0m\n"
      ]
     },
     "metadata": {},
     "output_type": "display_data"
    },
    {
     "data": {
      "text/html": [
       "<pre style=\"white-space:pre;overflow-x:auto;line-height:normal;font-family:Menlo,'DejaVu Sans Mono',consolas,'Courier New',monospace\"><span style=\"font-weight: bold\">(</span>Alice<span style=\"font-weight: bold\">)</span> Do you think COVID vaccines should be mandatory?                                                <a href=\"file:///Users/pinchun/Documents/2023Fall/NLP/hw-llm/eval.py\" target=\"_blank\"><span style=\"color: #7f7f7f; text-decoration-color: #7f7f7f\">eval.py</span></a><span style=\"color: #7f7f7f; text-decoration-color: #7f7f7f\">:</span><a href=\"file:///Users/pinchun/Documents/2023Fall/NLP/hw-llm/eval.py#281\" target=\"_blank\"><span style=\"color: #7f7f7f; text-decoration-color: #7f7f7f\">281</span></a>\n",
       "<span style=\"font-weight: bold\">(</span>Eve<span style=\"font-weight: bold\">)</span> I've heard some people say that they believe COVID vaccines should be mandatory to protect public <span style=\"color: #7f7f7f; text-decoration-color: #7f7f7f\">           </span>\n",
       "health, but others are concerned about personal freedoms and potential side effects.                    <span style=\"color: #7f7f7f; text-decoration-color: #7f7f7f\">           </span>\n",
       "<span style=\"font-weight: bold\">(</span>Alice<span style=\"font-weight: bold\">)</span> It's understandable that people have concerns about personal freedoms and potential side        <span style=\"color: #7f7f7f; text-decoration-color: #7f7f7f\">           </span>\n",
       "effects, but it's important to consider the broader impact on public health. Vaccines have been proven  <span style=\"color: #7f7f7f; text-decoration-color: #7f7f7f\">           </span>\n",
       "to be effective in preventing the spread of infectious diseases and protecting vulnerable populations.  <span style=\"color: #7f7f7f; text-decoration-color: #7f7f7f\">           </span>\n",
       "<span style=\"font-weight: bold\">(</span>Eve<span style=\"font-weight: bold\">)</span> Have you talked to anyone who has personal experience with the COVID vaccine and can share their  <span style=\"color: #7f7f7f; text-decoration-color: #7f7f7f\">           </span>\n",
       "thoughts and feelings about it?                                                                         <span style=\"color: #7f7f7f; text-decoration-color: #7f7f7f\">           </span>\n",
       "<span style=\"font-weight: bold\">(</span>Alice<span style=\"font-weight: bold\">)</span> Yes, I have spoken to individuals who have received the COVID vaccine and their experiences     <span style=\"color: #7f7f7f; text-decoration-color: #7f7f7f\">           </span>\n",
       "have varied. Some have reported minor side effects such as soreness at the injection site or fatigue,   <span style=\"color: #7f7f7f; text-decoration-color: #7f7f7f\">           </span>\n",
       "while others have had no noticeable side effects at all. It's important to collect a diverse range of   <span style=\"color: #7f7f7f; text-decoration-color: #7f7f7f\">           </span>\n",
       "personal experiences to gain a better understanding of the vaccine's impact.                            <span style=\"color: #7f7f7f; text-decoration-color: #7f7f7f\">           </span>\n",
       "<span style=\"font-weight: bold\">(</span>Eve<span style=\"font-weight: bold\">)</span> What are some of the specific concerns or questions that people you've spoken to have had about   <span style=\"color: #7f7f7f; text-decoration-color: #7f7f7f\">           </span>\n",
       "the COVID vaccine?                                                                                      <span style=\"color: #7f7f7f; text-decoration-color: #7f7f7f\">           </span>\n",
       "<span style=\"font-weight: bold\">(</span>Alice<span style=\"font-weight: bold\">)</span> Some individuals have expressed concerns about the long-term effects of the vaccine, while      <span style=\"color: #7f7f7f; text-decoration-color: #7f7f7f\">           </span>\n",
       "others have questioned the speed at which the vaccines were developed and approved. It's important to   <span style=\"color: #7f7f7f; text-decoration-color: #7f7f7f\">           </span>\n",
       "consider these concerns and provide accurate information to address them.                               <span style=\"color: #7f7f7f; text-decoration-color: #7f7f7f\">           </span>\n",
       "<span style=\"font-weight: bold\">(</span>Eve<span style=\"font-weight: bold\">)</span> Have you noticed any changes in people's behavior or attitudes towards vaccination as more        <span style=\"color: #7f7f7f; text-decoration-color: #7f7f7f\">           </span>\n",
       "information becomes available and as the vaccine rollout continues?                                     <span style=\"color: #7f7f7f; text-decoration-color: #7f7f7f\">           </span>\n",
       "</pre>\n"
      ],
      "text/plain": [
       "\u001b[1m(\u001b[0mAlice\u001b[1m)\u001b[0m Do you think COVID vaccines should be mandatory?                                                \u001b]8;id=508607;file:///Users/pinchun/Documents/2023Fall/NLP/hw-llm/eval.py\u001b\\\u001b[2meval.py\u001b[0m\u001b]8;;\u001b\\\u001b[2m:\u001b[0m\u001b]8;id=636026;file:///Users/pinchun/Documents/2023Fall/NLP/hw-llm/eval.py#281\u001b\\\u001b[2m281\u001b[0m\u001b]8;;\u001b\\\n",
       "\u001b[1m(\u001b[0mEve\u001b[1m)\u001b[0m I've heard some people say that they believe COVID vaccines should be mandatory to protect public \u001b[2m           \u001b[0m\n",
       "health, but others are concerned about personal freedoms and potential side effects.                    \u001b[2m           \u001b[0m\n",
       "\u001b[1m(\u001b[0mAlice\u001b[1m)\u001b[0m It's understandable that people have concerns about personal freedoms and potential side        \u001b[2m           \u001b[0m\n",
       "effects, but it's important to consider the broader impact on public health. Vaccines have been proven  \u001b[2m           \u001b[0m\n",
       "to be effective in preventing the spread of infectious diseases and protecting vulnerable populations.  \u001b[2m           \u001b[0m\n",
       "\u001b[1m(\u001b[0mEve\u001b[1m)\u001b[0m Have you talked to anyone who has personal experience with the COVID vaccine and can share their  \u001b[2m           \u001b[0m\n",
       "thoughts and feelings about it?                                                                         \u001b[2m           \u001b[0m\n",
       "\u001b[1m(\u001b[0mAlice\u001b[1m)\u001b[0m Yes, I have spoken to individuals who have received the COVID vaccine and their experiences     \u001b[2m           \u001b[0m\n",
       "have varied. Some have reported minor side effects such as soreness at the injection site or fatigue,   \u001b[2m           \u001b[0m\n",
       "while others have had no noticeable side effects at all. It's important to collect a diverse range of   \u001b[2m           \u001b[0m\n",
       "personal experiences to gain a better understanding of the vaccine's impact.                            \u001b[2m           \u001b[0m\n",
       "\u001b[1m(\u001b[0mEve\u001b[1m)\u001b[0m What are some of the specific concerns or questions that people you've spoken to have had about   \u001b[2m           \u001b[0m\n",
       "the COVID vaccine?                                                                                      \u001b[2m           \u001b[0m\n",
       "\u001b[1m(\u001b[0mAlice\u001b[1m)\u001b[0m Some individuals have expressed concerns about the long-term effects of the vaccine, while      \u001b[2m           \u001b[0m\n",
       "others have questioned the speed at which the vaccines were developed and approved. It's important to   \u001b[2m           \u001b[0m\n",
       "consider these concerns and provide accurate information to address them.                               \u001b[2m           \u001b[0m\n",
       "\u001b[1m(\u001b[0mEve\u001b[1m)\u001b[0m Have you noticed any changes in people's behavior or attitudes towards vaccination as more        \u001b[2m           \u001b[0m\n",
       "information becomes available and as the vaccine rollout continues?                                     \u001b[2m           \u001b[0m\n"
      ]
     },
     "metadata": {},
     "output_type": "display_data"
    },
    {
     "data": {
      "text/html": [
       "<pre style=\"white-space:pre;overflow-x:auto;line-height:normal;font-family:Menlo,'DejaVu Sans Mono',consolas,'Courier New',monospace\"><span style=\"font-weight: bold\">&lt;</span><span style=\"color: #ff00ff; text-decoration-color: #ff00ff; font-weight: bold\">Eval</span><span style=\"color: #000000; text-decoration-color: #000000\"> of </span><span style=\"color: #008080; text-decoration-color: #008080; font-weight: bold\">1</span><span style=\"color: #000000; text-decoration-color: #000000\"> dialogue: </span><span style=\"color: #000000; text-decoration-color: #000000; font-weight: bold\">{</span><span style=\"color: #008000; text-decoration-color: #008000\">'engaged'</span><span style=\"color: #000000; text-decoration-color: #000000\">: </span><span style=\"color: #008080; text-decoration-color: #008080; font-weight: bold\">4.0</span><span style=\"color: #000000; text-decoration-color: #000000\">, </span><span style=\"color: #008000; text-decoration-color: #008000\">'informed'</span><span style=\"color: #000000; text-decoration-color: #000000\">: </span><span style=\"color: #008080; text-decoration-color: #008080; font-weight: bold\">4.0</span><span style=\"color: #000000; text-decoration-color: #000000\">, </span><span style=\"color: #008000; text-decoration-color: #008000\">'intelligent'</span><span style=\"color: #000000; text-decoration-color: #000000\">: </span><span style=\"color: #008080; text-decoration-color: #008080; font-weight: bold\">3.0</span><span style=\"color: #000000; text-decoration-color: #000000\">, </span><span style=\"color: #008000; text-decoration-color: #008000\">'moral'</span><span style=\"color: #000000; text-decoration-color: #000000\">: </span><span style=\"color: #008080; text-decoration-color: #008080; font-weight: bold\">3.0</span><span style=\"color: #000000; text-decoration-color: #000000\">, </span><span style=\"color: #008000; text-decoration-color: #008000\">'skilled'</span><span style=\"color: #000000; text-decoration-color: #000000\">: </span>    <a href=\"file:///Users/pinchun/Documents/2023Fall/NLP/hw-llm/eval.py\" target=\"_blank\"><span style=\"color: #7f7f7f; text-decoration-color: #7f7f7f\">eval.py</span></a><span style=\"color: #7f7f7f; text-decoration-color: #7f7f7f\">:</span><a href=\"file:///Users/pinchun/Documents/2023Fall/NLP/hw-llm/eval.py#285\" target=\"_blank\"><span style=\"color: #7f7f7f; text-decoration-color: #7f7f7f\">285</span></a>\n",
       "<span style=\"color: #008080; text-decoration-color: #008080; font-weight: bold\">8.0</span><span style=\"color: #000000; text-decoration-color: #000000\">, </span><span style=\"color: #008000; text-decoration-color: #008000\">'TOTAL'</span><span style=\"color: #000000; text-decoration-color: #000000\">: </span><span style=\"color: #008080; text-decoration-color: #008080; font-weight: bold\">22.0</span><span style=\"color: #000000; text-decoration-color: #000000; font-weight: bold\">}</span><span style=\"font-weight: bold\">&gt;</span>                                                                                    <span style=\"color: #7f7f7f; text-decoration-color: #7f7f7f\">           </span>\n",
       "                                                                                                        <span style=\"color: #7f7f7f; text-decoration-color: #7f7f7f\">           </span>\n",
       "Comments from overview question:                                                                        <span style=\"color: #7f7f7f; text-decoration-color: #7f7f7f\">           </span>\n",
       "<span style=\"font-weight: bold\">(</span>Eve<span style=\"font-weight: bold\">)</span> Alice disagreed with me on the topic of whether COVID vaccines should be mandatory. While I       <span style=\"color: #7f7f7f; text-decoration-color: #7f7f7f\">           </span>\n",
       "mentioned that some people believe vaccines should be mandatory to protect public health, Alice         <span style=\"color: #7f7f7f; text-decoration-color: #7f7f7f\">           </span>\n",
       "emphasized the importance of considering personal freedoms and potential side effects.                  <span style=\"color: #7f7f7f; text-decoration-color: #7f7f7f\">           </span>\n",
       "                                                                                                        <span style=\"color: #7f7f7f; text-decoration-color: #7f7f7f\">           </span>\n",
       "In my opinion, the conversation went well as we were able to discuss different perspectives on the      <span style=\"color: #7f7f7f; text-decoration-color: #7f7f7f\">           </span>\n",
       "topic. We both acknowledged the concerns and benefits of COVID vaccines, showing a willingness to       <span style=\"color: #7f7f7f; text-decoration-color: #7f7f7f\">           </span>\n",
       "understand each other's viewpoints.                                                                     <span style=\"color: #7f7f7f; text-decoration-color: #7f7f7f\">           </span>\n",
       "                                                                                                        <span style=\"color: #7f7f7f; text-decoration-color: #7f7f7f\">           </span>\n",
       "Alice could have done better by providing more specific examples or evidence to support her stance on   <span style=\"color: #7f7f7f; text-decoration-color: #7f7f7f\">           </span>\n",
       "personal freedoms and potential side effects. This would have added more depth to the conversation and  <span style=\"color: #7f7f7f; text-decoration-color: #7f7f7f\">           </span>\n",
       "allowed for a more thorough exploration of the topic.                                                   <span style=\"color: #7f7f7f; text-decoration-color: #7f7f7f\">           </span>\n",
       "                                                                                                        <span style=\"color: #7f7f7f; text-decoration-color: #7f7f7f\">           </span>\n",
       "Comments from staying on topic question:                                                                <span style=\"color: #7f7f7f; text-decoration-color: #7f7f7f\">           </span>\n",
       "<span style=\"font-weight: bold\">(</span>Judge Wise<span style=\"font-weight: bold\">)</span> Alice did a good job of staying on topic and addressing the same topic that Eve was        <span style=\"color: #7f7f7f; text-decoration-color: #7f7f7f\">           </span>\n",
       "talking about in the previous sentence. Each of Alice's replies directly relates to the specific topic  <span style=\"color: #7f7f7f; text-decoration-color: #7f7f7f\">           </span>\n",
       "or question raised by Eve.                                                                              <span style=\"color: #7f7f7f; text-decoration-color: #7f7f7f\">           </span>\n",
       "</pre>\n"
      ],
      "text/plain": [
       "\u001b[1m<\u001b[0m\u001b[1;95mEval\u001b[0m\u001b[39m of \u001b[0m\u001b[1;36m1\u001b[0m\u001b[39m dialogue: \u001b[0m\u001b[1;39m{\u001b[0m\u001b[32m'engaged'\u001b[0m\u001b[39m: \u001b[0m\u001b[1;36m4.0\u001b[0m\u001b[39m, \u001b[0m\u001b[32m'informed'\u001b[0m\u001b[39m: \u001b[0m\u001b[1;36m4.0\u001b[0m\u001b[39m, \u001b[0m\u001b[32m'intelligent'\u001b[0m\u001b[39m: \u001b[0m\u001b[1;36m3.0\u001b[0m\u001b[39m, \u001b[0m\u001b[32m'moral'\u001b[0m\u001b[39m: \u001b[0m\u001b[1;36m3.0\u001b[0m\u001b[39m, \u001b[0m\u001b[32m'skilled'\u001b[0m\u001b[39m: \u001b[0m    \u001b]8;id=75470;file:///Users/pinchun/Documents/2023Fall/NLP/hw-llm/eval.py\u001b\\\u001b[2meval.py\u001b[0m\u001b]8;;\u001b\\\u001b[2m:\u001b[0m\u001b]8;id=495419;file:///Users/pinchun/Documents/2023Fall/NLP/hw-llm/eval.py#285\u001b\\\u001b[2m285\u001b[0m\u001b]8;;\u001b\\\n",
       "\u001b[1;36m8.0\u001b[0m\u001b[39m, \u001b[0m\u001b[32m'TOTAL'\u001b[0m\u001b[39m: \u001b[0m\u001b[1;36m22.0\u001b[0m\u001b[1;39m}\u001b[0m\u001b[1m>\u001b[0m                                                                                    \u001b[2m           \u001b[0m\n",
       "                                                                                                        \u001b[2m           \u001b[0m\n",
       "Comments from overview question:                                                                        \u001b[2m           \u001b[0m\n",
       "\u001b[1m(\u001b[0mEve\u001b[1m)\u001b[0m Alice disagreed with me on the topic of whether COVID vaccines should be mandatory. While I       \u001b[2m           \u001b[0m\n",
       "mentioned that some people believe vaccines should be mandatory to protect public health, Alice         \u001b[2m           \u001b[0m\n",
       "emphasized the importance of considering personal freedoms and potential side effects.                  \u001b[2m           \u001b[0m\n",
       "                                                                                                        \u001b[2m           \u001b[0m\n",
       "In my opinion, the conversation went well as we were able to discuss different perspectives on the      \u001b[2m           \u001b[0m\n",
       "topic. We both acknowledged the concerns and benefits of COVID vaccines, showing a willingness to       \u001b[2m           \u001b[0m\n",
       "understand each other's viewpoints.                                                                     \u001b[2m           \u001b[0m\n",
       "                                                                                                        \u001b[2m           \u001b[0m\n",
       "Alice could have done better by providing more specific examples or evidence to support her stance on   \u001b[2m           \u001b[0m\n",
       "personal freedoms and potential side effects. This would have added more depth to the conversation and  \u001b[2m           \u001b[0m\n",
       "allowed for a more thorough exploration of the topic.                                                   \u001b[2m           \u001b[0m\n",
       "                                                                                                        \u001b[2m           \u001b[0m\n",
       "Comments from staying on topic question:                                                                \u001b[2m           \u001b[0m\n",
       "\u001b[1m(\u001b[0mJudge Wise\u001b[1m)\u001b[0m Alice did a good job of staying on topic and addressing the same topic that Eve was        \u001b[2m           \u001b[0m\n",
       "talking about in the previous sentence. Each of Alice's replies directly relates to the specific topic  \u001b[2m           \u001b[0m\n",
       "or question raised by Eve.                                                                              \u001b[2m           \u001b[0m\n"
      ]
     },
     "metadata": {},
     "output_type": "display_data"
    },
    {
     "data": {
      "text/html": [
       "<pre style=\"white-space:pre;overflow-x:auto;line-height:normal;font-family:Menlo,'DejaVu Sans Mono',consolas,'Courier New',monospace\"><span style=\"font-weight: bold\">(</span>Alice<span style=\"font-weight: bold\">)</span> Do you think Donald Trump was a good president?                                                 <a href=\"file:///Users/pinchun/Documents/2023Fall/NLP/hw-llm/eval.py\" target=\"_blank\"><span style=\"color: #7f7f7f; text-decoration-color: #7f7f7f\">eval.py</span></a><span style=\"color: #7f7f7f; text-decoration-color: #7f7f7f\">:</span><a href=\"file:///Users/pinchun/Documents/2023Fall/NLP/hw-llm/eval.py#281\" target=\"_blank\"><span style=\"color: #7f7f7f; text-decoration-color: #7f7f7f\">281</span></a>\n",
       "<span style=\"font-weight: bold\">(</span>TrollFace<span style=\"font-weight: bold\">)</span> Oh, the circus act in the Oval Office? Let's just say his time in office provided plenty of <span style=\"color: #7f7f7f; text-decoration-color: #7f7f7f\">           </span>\n",
       "material for late-night comedians.                                                                      <span style=\"color: #7f7f7f; text-decoration-color: #7f7f7f\">           </span>\n",
       "<span style=\"font-weight: bold\">(</span>Alice<span style=\"font-weight: bold\">)</span> Fair point! However, some would argue that Trump's unorthodox approach to politics shook up the <span style=\"color: #7f7f7f; text-decoration-color: #7f7f7f\">           </span>\n",
       "status quo and brought attention to issues that were previously overlooked. How do you think his        <span style=\"color: #7f7f7f; text-decoration-color: #7f7f7f\">           </span>\n",
       "presidency may have influenced the political landscape?                                                 <span style=\"color: #7f7f7f; text-decoration-color: #7f7f7f\">           </span>\n",
       "<span style=\"font-weight: bold\">(</span>TrollFace<span style=\"font-weight: bold\">)</span> Influenced the political landscape? More like turned it into a reality TV show with daily   <span style=\"color: #7f7f7f; text-decoration-color: #7f7f7f\">           </span>\n",
       "drama and Twitter tantrums.                                                                             <span style=\"color: #7f7f7f; text-decoration-color: #7f7f7f\">           </span>\n",
       "<span style=\"font-weight: bold\">(</span>Alice<span style=\"font-weight: bold\">)</span> I understand your perspective. Some people, though, appreciated his direct communication style  <span style=\"color: #7f7f7f; text-decoration-color: #7f7f7f\">           </span>\n",
       "and felt that it made the presidency more relatable. What are your thoughts on the impact of Trump's    <span style=\"color: #7f7f7f; text-decoration-color: #7f7f7f\">           </span>\n",
       "communication style on political discourse?                                                             <span style=\"color: #7f7f7f; text-decoration-color: #7f7f7f\">           </span>\n",
       "<span style=\"font-weight: bold\">(</span>TrollFace<span style=\"font-weight: bold\">)</span> Relatable? Please, his communication style was more like a never-ending stream of absurdity <span style=\"color: #7f7f7f; text-decoration-color: #7f7f7f\">           </span>\n",
       "and self-aggrandizement.                                                                                <span style=\"color: #7f7f7f; text-decoration-color: #7f7f7f\">           </span>\n",
       "<span style=\"font-weight: bold\">(</span>Alice<span style=\"font-weight: bold\">)</span> I see where you're coming from. However, some argue that Trump's willingness to challenge       <span style=\"color: #7f7f7f; text-decoration-color: #7f7f7f\">           </span>\n",
       "political correctness sparked important conversations about free speech and public discourse. What's    <span style=\"color: #7f7f7f; text-decoration-color: #7f7f7f\">           </span>\n",
       "your take on the balance between unfiltered speech and respectful dialogue in political leadership?     <span style=\"color: #7f7f7f; text-decoration-color: #7f7f7f\">           </span>\n",
       "<span style=\"font-weight: bold\">(</span>TrollFace<span style=\"font-weight: bold\">)</span> Oh, so now we're calling insults and inflammatory remarks <span style=\"color: #008000; text-decoration-color: #008000\">\"challenging political </span>           <span style=\"color: #7f7f7f; text-decoration-color: #7f7f7f\">           </span>\n",
       "<span style=\"color: #008000; text-decoration-color: #008000\">correctness\"</span>? Let's not confuse being rude with sparking important conversations.                       <span style=\"color: #7f7f7f; text-decoration-color: #7f7f7f\">           </span>\n",
       "</pre>\n"
      ],
      "text/plain": [
       "\u001b[1m(\u001b[0mAlice\u001b[1m)\u001b[0m Do you think Donald Trump was a good president?                                                 \u001b]8;id=800769;file:///Users/pinchun/Documents/2023Fall/NLP/hw-llm/eval.py\u001b\\\u001b[2meval.py\u001b[0m\u001b]8;;\u001b\\\u001b[2m:\u001b[0m\u001b]8;id=711493;file:///Users/pinchun/Documents/2023Fall/NLP/hw-llm/eval.py#281\u001b\\\u001b[2m281\u001b[0m\u001b]8;;\u001b\\\n",
       "\u001b[1m(\u001b[0mTrollFace\u001b[1m)\u001b[0m Oh, the circus act in the Oval Office? Let's just say his time in office provided plenty of \u001b[2m           \u001b[0m\n",
       "material for late-night comedians.                                                                      \u001b[2m           \u001b[0m\n",
       "\u001b[1m(\u001b[0mAlice\u001b[1m)\u001b[0m Fair point! However, some would argue that Trump's unorthodox approach to politics shook up the \u001b[2m           \u001b[0m\n",
       "status quo and brought attention to issues that were previously overlooked. How do you think his        \u001b[2m           \u001b[0m\n",
       "presidency may have influenced the political landscape?                                                 \u001b[2m           \u001b[0m\n",
       "\u001b[1m(\u001b[0mTrollFace\u001b[1m)\u001b[0m Influenced the political landscape? More like turned it into a reality TV show with daily   \u001b[2m           \u001b[0m\n",
       "drama and Twitter tantrums.                                                                             \u001b[2m           \u001b[0m\n",
       "\u001b[1m(\u001b[0mAlice\u001b[1m)\u001b[0m I understand your perspective. Some people, though, appreciated his direct communication style  \u001b[2m           \u001b[0m\n",
       "and felt that it made the presidency more relatable. What are your thoughts on the impact of Trump's    \u001b[2m           \u001b[0m\n",
       "communication style on political discourse?                                                             \u001b[2m           \u001b[0m\n",
       "\u001b[1m(\u001b[0mTrollFace\u001b[1m)\u001b[0m Relatable? Please, his communication style was more like a never-ending stream of absurdity \u001b[2m           \u001b[0m\n",
       "and self-aggrandizement.                                                                                \u001b[2m           \u001b[0m\n",
       "\u001b[1m(\u001b[0mAlice\u001b[1m)\u001b[0m I see where you're coming from. However, some argue that Trump's willingness to challenge       \u001b[2m           \u001b[0m\n",
       "political correctness sparked important conversations about free speech and public discourse. What's    \u001b[2m           \u001b[0m\n",
       "your take on the balance between unfiltered speech and respectful dialogue in political leadership?     \u001b[2m           \u001b[0m\n",
       "\u001b[1m(\u001b[0mTrollFace\u001b[1m)\u001b[0m Oh, so now we're calling insults and inflammatory remarks \u001b[32m\"challenging political \u001b[0m           \u001b[2m           \u001b[0m\n",
       "\u001b[32mcorrectness\"\u001b[0m? Let's not confuse being rude with sparking important conversations.                       \u001b[2m           \u001b[0m\n"
      ]
     },
     "metadata": {},
     "output_type": "display_data"
    },
    {
     "data": {
      "text/html": [
       "<pre style=\"white-space:pre;overflow-x:auto;line-height:normal;font-family:Menlo,'DejaVu Sans Mono',consolas,'Courier New',monospace\"><span style=\"font-weight: bold\">&lt;</span><span style=\"color: #ff00ff; text-decoration-color: #ff00ff; font-weight: bold\">Eval</span><span style=\"color: #000000; text-decoration-color: #000000\"> of </span><span style=\"color: #008080; text-decoration-color: #008080; font-weight: bold\">1</span><span style=\"color: #000000; text-decoration-color: #000000\"> dialogue: </span><span style=\"color: #000000; text-decoration-color: #000000; font-weight: bold\">{</span><span style=\"color: #008000; text-decoration-color: #008000\">'engaged'</span><span style=\"color: #000000; text-decoration-color: #000000\">: </span><span style=\"color: #008080; text-decoration-color: #008080; font-weight: bold\">3.0</span><span style=\"color: #000000; text-decoration-color: #000000\">, </span><span style=\"color: #008000; text-decoration-color: #008000\">'informed'</span><span style=\"color: #000000; text-decoration-color: #000000\">: </span><span style=\"color: #008080; text-decoration-color: #008080; font-weight: bold\">3.0</span><span style=\"color: #000000; text-decoration-color: #000000\">, </span><span style=\"color: #008000; text-decoration-color: #008000\">'intelligent'</span><span style=\"color: #000000; text-decoration-color: #000000\">: </span><span style=\"color: #008080; text-decoration-color: #008080; font-weight: bold\">3.0</span><span style=\"color: #000000; text-decoration-color: #000000\">, </span><span style=\"color: #008000; text-decoration-color: #008000\">'moral'</span><span style=\"color: #000000; text-decoration-color: #000000\">: </span><span style=\"color: #008080; text-decoration-color: #008080; font-weight: bold\">3.0</span><span style=\"color: #000000; text-decoration-color: #000000\">, </span><span style=\"color: #008000; text-decoration-color: #008000\">'skilled'</span><span style=\"color: #000000; text-decoration-color: #000000\">: </span>    <a href=\"file:///Users/pinchun/Documents/2023Fall/NLP/hw-llm/eval.py\" target=\"_blank\"><span style=\"color: #7f7f7f; text-decoration-color: #7f7f7f\">eval.py</span></a><span style=\"color: #7f7f7f; text-decoration-color: #7f7f7f\">:</span><a href=\"file:///Users/pinchun/Documents/2023Fall/NLP/hw-llm/eval.py#285\" target=\"_blank\"><span style=\"color: #7f7f7f; text-decoration-color: #7f7f7f\">285</span></a>\n",
       "<span style=\"color: #008080; text-decoration-color: #008080; font-weight: bold\">8.0</span><span style=\"color: #000000; text-decoration-color: #000000\">, </span><span style=\"color: #008000; text-decoration-color: #008000\">'TOTAL'</span><span style=\"color: #000000; text-decoration-color: #000000\">: </span><span style=\"color: #008080; text-decoration-color: #008080; font-weight: bold\">20.0</span><span style=\"color: #000000; text-decoration-color: #000000; font-weight: bold\">}</span><span style=\"font-weight: bold\">&gt;</span>                                                                                    <span style=\"color: #7f7f7f; text-decoration-color: #7f7f7f\">           </span>\n",
       "                                                                                                        <span style=\"color: #7f7f7f; text-decoration-color: #7f7f7f\">           </span>\n",
       "Comments from overview question:                                                                        <span style=\"color: #7f7f7f; text-decoration-color: #7f7f7f\">           </span>\n",
       "<span style=\"font-weight: bold\">(</span>TrollFace<span style=\"font-weight: bold\">)</span> Alice disagreed with TrollFace about the impact of Trump's communication style on political <span style=\"color: #7f7f7f; text-decoration-color: #7f7f7f\">           </span>\n",
       "discourse. Alice argued that some people appreciated Trump's direct communication style and felt that   <span style=\"color: #7f7f7f; text-decoration-color: #7f7f7f\">           </span>\n",
       "it made the presidency more relatable.                                                                  <span style=\"color: #7f7f7f; text-decoration-color: #7f7f7f\">           </span>\n",
       "                                                                                                        <span style=\"color: #7f7f7f; text-decoration-color: #7f7f7f\">           </span>\n",
       "In TrollFace's opinion, the conversation went well as he was able to ridicule and dismiss Alice's       <span style=\"color: #7f7f7f; text-decoration-color: #7f7f7f\">           </span>\n",
       "points effectively. He believes he successfully highlighted the absurdity and negative aspects of       <span style=\"color: #7f7f7f; text-decoration-color: #7f7f7f\">           </span>\n",
       "Trump's presidency.                                                                                     <span style=\"color: #7f7f7f; text-decoration-color: #7f7f7f\">           </span>\n",
       "                                                                                                        <span style=\"color: #7f7f7f; text-decoration-color: #7f7f7f\">           </span>\n",
       "Alice could have done better by providing more substantial arguments and evidence to support her        <span style=\"color: #7f7f7f; text-decoration-color: #7f7f7f\">           </span>\n",
       "perspective. She could have also challenged TrollFace's dismissive and mocking tone, encouraging a more <span style=\"color: #7f7f7f; text-decoration-color: #7f7f7f\">           </span>\n",
       "respectful and constructive dialogue.                                                                   <span style=\"color: #7f7f7f; text-decoration-color: #7f7f7f\">           </span>\n",
       "                                                                                                        <span style=\"color: #7f7f7f; text-decoration-color: #7f7f7f\">           </span>\n",
       "Comments from staying on topic question:                                                                <span style=\"color: #7f7f7f; text-decoration-color: #7f7f7f\">           </span>\n",
       "<span style=\"font-weight: bold\">(</span>Judge Wise<span style=\"font-weight: bold\">)</span> Alice did a fairly good job of staying on topic and addressing the points made by          <span style=\"color: #7f7f7f; text-decoration-color: #7f7f7f\">           </span>\n",
       "TrollFace in the previous sentence. Her replies were directly related to the topic of discussion and    <span style=\"color: #7f7f7f; text-decoration-color: #7f7f7f\">           </span>\n",
       "responded to the specific points raised by TrollFace.                                                   <span style=\"color: #7f7f7f; text-decoration-color: #7f7f7f\">           </span>\n",
       "</pre>\n"
      ],
      "text/plain": [
       "\u001b[1m<\u001b[0m\u001b[1;95mEval\u001b[0m\u001b[39m of \u001b[0m\u001b[1;36m1\u001b[0m\u001b[39m dialogue: \u001b[0m\u001b[1;39m{\u001b[0m\u001b[32m'engaged'\u001b[0m\u001b[39m: \u001b[0m\u001b[1;36m3.0\u001b[0m\u001b[39m, \u001b[0m\u001b[32m'informed'\u001b[0m\u001b[39m: \u001b[0m\u001b[1;36m3.0\u001b[0m\u001b[39m, \u001b[0m\u001b[32m'intelligent'\u001b[0m\u001b[39m: \u001b[0m\u001b[1;36m3.0\u001b[0m\u001b[39m, \u001b[0m\u001b[32m'moral'\u001b[0m\u001b[39m: \u001b[0m\u001b[1;36m3.0\u001b[0m\u001b[39m, \u001b[0m\u001b[32m'skilled'\u001b[0m\u001b[39m: \u001b[0m    \u001b]8;id=602326;file:///Users/pinchun/Documents/2023Fall/NLP/hw-llm/eval.py\u001b\\\u001b[2meval.py\u001b[0m\u001b]8;;\u001b\\\u001b[2m:\u001b[0m\u001b]8;id=751578;file:///Users/pinchun/Documents/2023Fall/NLP/hw-llm/eval.py#285\u001b\\\u001b[2m285\u001b[0m\u001b]8;;\u001b\\\n",
       "\u001b[1;36m8.0\u001b[0m\u001b[39m, \u001b[0m\u001b[32m'TOTAL'\u001b[0m\u001b[39m: \u001b[0m\u001b[1;36m20.0\u001b[0m\u001b[1;39m}\u001b[0m\u001b[1m>\u001b[0m                                                                                    \u001b[2m           \u001b[0m\n",
       "                                                                                                        \u001b[2m           \u001b[0m\n",
       "Comments from overview question:                                                                        \u001b[2m           \u001b[0m\n",
       "\u001b[1m(\u001b[0mTrollFace\u001b[1m)\u001b[0m Alice disagreed with TrollFace about the impact of Trump's communication style on political \u001b[2m           \u001b[0m\n",
       "discourse. Alice argued that some people appreciated Trump's direct communication style and felt that   \u001b[2m           \u001b[0m\n",
       "it made the presidency more relatable.                                                                  \u001b[2m           \u001b[0m\n",
       "                                                                                                        \u001b[2m           \u001b[0m\n",
       "In TrollFace's opinion, the conversation went well as he was able to ridicule and dismiss Alice's       \u001b[2m           \u001b[0m\n",
       "points effectively. He believes he successfully highlighted the absurdity and negative aspects of       \u001b[2m           \u001b[0m\n",
       "Trump's presidency.                                                                                     \u001b[2m           \u001b[0m\n",
       "                                                                                                        \u001b[2m           \u001b[0m\n",
       "Alice could have done better by providing more substantial arguments and evidence to support her        \u001b[2m           \u001b[0m\n",
       "perspective. She could have also challenged TrollFace's dismissive and mocking tone, encouraging a more \u001b[2m           \u001b[0m\n",
       "respectful and constructive dialogue.                                                                   \u001b[2m           \u001b[0m\n",
       "                                                                                                        \u001b[2m           \u001b[0m\n",
       "Comments from staying on topic question:                                                                \u001b[2m           \u001b[0m\n",
       "\u001b[1m(\u001b[0mJudge Wise\u001b[1m)\u001b[0m Alice did a fairly good job of staying on topic and addressing the points made by          \u001b[2m           \u001b[0m\n",
       "TrollFace in the previous sentence. Her replies were directly related to the topic of discussion and    \u001b[2m           \u001b[0m\n",
       "responded to the specific points raised by TrollFace.                                                   \u001b[2m           \u001b[0m\n"
      ]
     },
     "metadata": {},
     "output_type": "display_data"
    },
    {
     "data": {
      "text/html": [
       "<pre style=\"white-space:pre;overflow-x:auto;line-height:normal;font-family:Menlo,'DejaVu Sans Mono',consolas,'Courier New',monospace\"><span style=\"font-weight: bold\">(</span>Alice<span style=\"font-weight: bold\">)</span> Do you think Joe Biden has been a good president?                                               <a href=\"file:///Users/pinchun/Documents/2023Fall/NLP/hw-llm/eval.py\" target=\"_blank\"><span style=\"color: #7f7f7f; text-decoration-color: #7f7f7f\">eval.py</span></a><span style=\"color: #7f7f7f; text-decoration-color: #7f7f7f\">:</span><a href=\"file:///Users/pinchun/Documents/2023Fall/NLP/hw-llm/eval.py#281\" target=\"_blank\"><span style=\"color: #7f7f7f; text-decoration-color: #7f7f7f\">281</span></a>\n",
       "<span style=\"font-weight: bold\">(</span>TrollFace<span style=\"font-weight: bold\">)</span> I bet even Joe Biden would struggle to find something good to say about his own presidency! <span style=\"color: #7f7f7f; text-decoration-color: #7f7f7f\">           </span>\n",
       "<span style=\"font-weight: bold\">(</span>Alice<span style=\"font-weight: bold\">)</span> While every president has their challenges, it's important to recognize the achievements and    <span style=\"color: #7f7f7f; text-decoration-color: #7f7f7f\">           </span>\n",
       "progress made during their time in office. What are some areas where you think President Biden has made <span style=\"color: #7f7f7f; text-decoration-color: #7f7f7f\">           </span>\n",
       "a positive impact?                                                                                      <span style=\"color: #7f7f7f; text-decoration-color: #7f7f7f\">           </span>\n",
       "<span style=\"font-weight: bold\">(</span>TrollFace<span style=\"font-weight: bold\">)</span> I'm sure President Biden has made a positive impact in the art of napping during important  <span style=\"color: #7f7f7f; text-decoration-color: #7f7f7f\">           </span>\n",
       "meetings, that's quite an achievement!                                                                  <span style=\"color: #7f7f7f; text-decoration-color: #7f7f7f\">           </span>\n",
       "<span style=\"font-weight: bold\">(</span>Alice<span style=\"font-weight: bold\">)</span> It's understandable to have a lighthearted take on the situation, but President Biden has made  <span style=\"color: #7f7f7f; text-decoration-color: #7f7f7f\">           </span>\n",
       "significant strides in areas such as increasing access to COVID-<span style=\"color: #008080; text-decoration-color: #008080; font-weight: bold\">19</span> vaccines, addressing climate change, <span style=\"color: #7f7f7f; text-decoration-color: #7f7f7f\">           </span>\n",
       "and advancing racial equity. It's important to acknowledge the diversity of the issues a president must <span style=\"color: #7f7f7f; text-decoration-color: #7f7f7f\">           </span>\n",
       "address.                                                                                                <span style=\"color: #7f7f7f; text-decoration-color: #7f7f7f\">           </span>\n",
       "<span style=\"font-weight: bold\">(</span>TrollFace<span style=\"font-weight: bold\">)</span> Sure, President Biden's ability to put people to sleep with his speeches could also be      <span style=\"color: #7f7f7f; text-decoration-color: #7f7f7f\">           </span>\n",
       "considered a significant contribution to public health, I guess!                                        <span style=\"color: #7f7f7f; text-decoration-color: #7f7f7f\">           </span>\n",
       "<span style=\"font-weight: bold\">(</span>Alice<span style=\"font-weight: bold\">)</span> While it's natural to have a sense of humor about politics, it's important to recognize that    <span style=\"color: #7f7f7f; text-decoration-color: #7f7f7f\">           </span>\n",
       "engaging with diverse audiences and conveying complex policy initiatives can be a challenging task for  <span style=\"color: #7f7f7f; text-decoration-color: #7f7f7f\">           </span>\n",
       "any leader. President Biden's speeches have sought to communicate important policies and messages to    <span style=\"color: #7f7f7f; text-decoration-color: #7f7f7f\">           </span>\n",
       "the American people.                                                                                    <span style=\"color: #7f7f7f; text-decoration-color: #7f7f7f\">           </span>\n",
       "<span style=\"font-weight: bold\">(</span>TrollFace<span style=\"font-weight: bold\">)</span> I'm sure President Biden's speeches have also helped a lot of people catch up on their      <span style=\"color: #7f7f7f; text-decoration-color: #7f7f7f\">           </span>\n",
       "beauty sleep, so there's that!                                                                          <span style=\"color: #7f7f7f; text-decoration-color: #7f7f7f\">           </span>\n",
       "</pre>\n"
      ],
      "text/plain": [
       "\u001b[1m(\u001b[0mAlice\u001b[1m)\u001b[0m Do you think Joe Biden has been a good president?                                               \u001b]8;id=318547;file:///Users/pinchun/Documents/2023Fall/NLP/hw-llm/eval.py\u001b\\\u001b[2meval.py\u001b[0m\u001b]8;;\u001b\\\u001b[2m:\u001b[0m\u001b]8;id=655817;file:///Users/pinchun/Documents/2023Fall/NLP/hw-llm/eval.py#281\u001b\\\u001b[2m281\u001b[0m\u001b]8;;\u001b\\\n",
       "\u001b[1m(\u001b[0mTrollFace\u001b[1m)\u001b[0m I bet even Joe Biden would struggle to find something good to say about his own presidency! \u001b[2m           \u001b[0m\n",
       "\u001b[1m(\u001b[0mAlice\u001b[1m)\u001b[0m While every president has their challenges, it's important to recognize the achievements and    \u001b[2m           \u001b[0m\n",
       "progress made during their time in office. What are some areas where you think President Biden has made \u001b[2m           \u001b[0m\n",
       "a positive impact?                                                                                      \u001b[2m           \u001b[0m\n",
       "\u001b[1m(\u001b[0mTrollFace\u001b[1m)\u001b[0m I'm sure President Biden has made a positive impact in the art of napping during important  \u001b[2m           \u001b[0m\n",
       "meetings, that's quite an achievement!                                                                  \u001b[2m           \u001b[0m\n",
       "\u001b[1m(\u001b[0mAlice\u001b[1m)\u001b[0m It's understandable to have a lighthearted take on the situation, but President Biden has made  \u001b[2m           \u001b[0m\n",
       "significant strides in areas such as increasing access to COVID-\u001b[1;36m19\u001b[0m vaccines, addressing climate change, \u001b[2m           \u001b[0m\n",
       "and advancing racial equity. It's important to acknowledge the diversity of the issues a president must \u001b[2m           \u001b[0m\n",
       "address.                                                                                                \u001b[2m           \u001b[0m\n",
       "\u001b[1m(\u001b[0mTrollFace\u001b[1m)\u001b[0m Sure, President Biden's ability to put people to sleep with his speeches could also be      \u001b[2m           \u001b[0m\n",
       "considered a significant contribution to public health, I guess!                                        \u001b[2m           \u001b[0m\n",
       "\u001b[1m(\u001b[0mAlice\u001b[1m)\u001b[0m While it's natural to have a sense of humor about politics, it's important to recognize that    \u001b[2m           \u001b[0m\n",
       "engaging with diverse audiences and conveying complex policy initiatives can be a challenging task for  \u001b[2m           \u001b[0m\n",
       "any leader. President Biden's speeches have sought to communicate important policies and messages to    \u001b[2m           \u001b[0m\n",
       "the American people.                                                                                    \u001b[2m           \u001b[0m\n",
       "\u001b[1m(\u001b[0mTrollFace\u001b[1m)\u001b[0m I'm sure President Biden's speeches have also helped a lot of people catch up on their      \u001b[2m           \u001b[0m\n",
       "beauty sleep, so there's that!                                                                          \u001b[2m           \u001b[0m\n"
      ]
     },
     "metadata": {},
     "output_type": "display_data"
    },
    {
     "data": {
      "text/html": [
       "<pre style=\"white-space:pre;overflow-x:auto;line-height:normal;font-family:Menlo,'DejaVu Sans Mono',consolas,'Courier New',monospace\"><span style=\"font-weight: bold\">&lt;</span><span style=\"color: #ff00ff; text-decoration-color: #ff00ff; font-weight: bold\">Eval</span><span style=\"color: #000000; text-decoration-color: #000000\"> of </span><span style=\"color: #008080; text-decoration-color: #008080; font-weight: bold\">1</span><span style=\"color: #000000; text-decoration-color: #000000\"> dialogue: </span><span style=\"color: #000000; text-decoration-color: #000000; font-weight: bold\">{</span><span style=\"color: #008000; text-decoration-color: #008000\">'engaged'</span><span style=\"color: #000000; text-decoration-color: #000000\">: </span><span style=\"color: #008080; text-decoration-color: #008080; font-weight: bold\">2.0</span><span style=\"color: #000000; text-decoration-color: #000000\">, </span><span style=\"color: #008000; text-decoration-color: #008000\">'informed'</span><span style=\"color: #000000; text-decoration-color: #000000\">: </span><span style=\"color: #008080; text-decoration-color: #008080; font-weight: bold\">4.0</span><span style=\"color: #000000; text-decoration-color: #000000\">, </span><span style=\"color: #008000; text-decoration-color: #008000\">'intelligent'</span><span style=\"color: #000000; text-decoration-color: #000000\">: </span><span style=\"color: #008080; text-decoration-color: #008080; font-weight: bold\">3.0</span><span style=\"color: #000000; text-decoration-color: #000000\">, </span><span style=\"color: #008000; text-decoration-color: #008000\">'moral'</span><span style=\"color: #000000; text-decoration-color: #000000\">: </span><span style=\"color: #008080; text-decoration-color: #008080; font-weight: bold\">3.0</span><span style=\"color: #000000; text-decoration-color: #000000\">, </span><span style=\"color: #008000; text-decoration-color: #008000\">'skilled'</span><span style=\"color: #000000; text-decoration-color: #000000\">: </span>    <a href=\"file:///Users/pinchun/Documents/2023Fall/NLP/hw-llm/eval.py\" target=\"_blank\"><span style=\"color: #7f7f7f; text-decoration-color: #7f7f7f\">eval.py</span></a><span style=\"color: #7f7f7f; text-decoration-color: #7f7f7f\">:</span><a href=\"file:///Users/pinchun/Documents/2023Fall/NLP/hw-llm/eval.py#285\" target=\"_blank\"><span style=\"color: #7f7f7f; text-decoration-color: #7f7f7f\">285</span></a>\n",
       "<span style=\"color: #008080; text-decoration-color: #008080; font-weight: bold\">8.0</span><span style=\"color: #000000; text-decoration-color: #000000\">, </span><span style=\"color: #008000; text-decoration-color: #008000\">'TOTAL'</span><span style=\"color: #000000; text-decoration-color: #000000\">: </span><span style=\"color: #008080; text-decoration-color: #008080; font-weight: bold\">20.0</span><span style=\"color: #000000; text-decoration-color: #000000; font-weight: bold\">}</span><span style=\"font-weight: bold\">&gt;</span>                                                                                    <span style=\"color: #7f7f7f; text-decoration-color: #7f7f7f\">           </span>\n",
       "                                                                                                        <span style=\"color: #7f7f7f; text-decoration-color: #7f7f7f\">           </span>\n",
       "Comments from overview question:                                                                        <span style=\"color: #7f7f7f; text-decoration-color: #7f7f7f\">           </span>\n",
       "<span style=\"font-weight: bold\">(</span>TrollFace<span style=\"font-weight: bold\">)</span> Alice disagreed with TrollFace's sarcastic remarks about President Biden and his            <span style=\"color: #7f7f7f; text-decoration-color: #7f7f7f\">           </span>\n",
       "achievements. She emphasized the importance of recognizing the positive impact made by President Biden  <span style=\"color: #7f7f7f; text-decoration-color: #7f7f7f\">           </span>\n",
       "in areas such as COVID-<span style=\"color: #008080; text-decoration-color: #008080; font-weight: bold\">19</span> vaccines, climate change, and racial equity.                                  <span style=\"color: #7f7f7f; text-decoration-color: #7f7f7f\">           </span>\n",
       "                                                                                                        <span style=\"color: #7f7f7f; text-decoration-color: #7f7f7f\">           </span>\n",
       "In TrollFace's opinion, the conversation went exactly as planned. He successfully ridiculed President   <span style=\"color: #7f7f7f; text-decoration-color: #7f7f7f\">           </span>\n",
       "Biden and his accomplishments, while Alice tried to bring a more serious and nuanced perspective to the <span style=\"color: #7f7f7f; text-decoration-color: #7f7f7f\">           </span>\n",
       "discussion.                                                                                             <span style=\"color: #7f7f7f; text-decoration-color: #7f7f7f\">           </span>\n",
       "                                                                                                        <span style=\"color: #7f7f7f; text-decoration-color: #7f7f7f\">           </span>\n",
       "Alice could have done better by not engaging with TrollFace's sarcastic remarks and instead focusing on <span style=\"color: #7f7f7f; text-decoration-color: #7f7f7f\">           </span>\n",
       "presenting factual information and evidence to support her points. This would have made the             <span style=\"color: #7f7f7f; text-decoration-color: #7f7f7f\">           </span>\n",
       "conversation more productive and less susceptible to TrollFace's trolling tactics.                      <span style=\"color: #7f7f7f; text-decoration-color: #7f7f7f\">           </span>\n",
       "                                                                                                        <span style=\"color: #7f7f7f; text-decoration-color: #7f7f7f\">           </span>\n",
       "Comments from staying on topic question:                                                                <span style=\"color: #7f7f7f; text-decoration-color: #7f7f7f\">           </span>\n",
       "<span style=\"font-weight: bold\">(</span>Judge Wise<span style=\"font-weight: bold\">)</span> Alice did a good job of staying on topic and addressing the same topic that TrollFace was  <span style=\"color: #7f7f7f; text-decoration-color: #7f7f7f\">           </span>\n",
       "talking about in the previous sentence. Each of Alice's replies directly responds to TrollFace's        <span style=\"color: #7f7f7f; text-decoration-color: #7f7f7f\">           </span>\n",
       "comments and attempts to redirect the conversation towards discussing President Biden's achievements    <span style=\"color: #7f7f7f; text-decoration-color: #7f7f7f\">           </span>\n",
       "and the challenges of being a leader.                                                                   <span style=\"color: #7f7f7f; text-decoration-color: #7f7f7f\">           </span>\n",
       "</pre>\n"
      ],
      "text/plain": [
       "\u001b[1m<\u001b[0m\u001b[1;95mEval\u001b[0m\u001b[39m of \u001b[0m\u001b[1;36m1\u001b[0m\u001b[39m dialogue: \u001b[0m\u001b[1;39m{\u001b[0m\u001b[32m'engaged'\u001b[0m\u001b[39m: \u001b[0m\u001b[1;36m2.0\u001b[0m\u001b[39m, \u001b[0m\u001b[32m'informed'\u001b[0m\u001b[39m: \u001b[0m\u001b[1;36m4.0\u001b[0m\u001b[39m, \u001b[0m\u001b[32m'intelligent'\u001b[0m\u001b[39m: \u001b[0m\u001b[1;36m3.0\u001b[0m\u001b[39m, \u001b[0m\u001b[32m'moral'\u001b[0m\u001b[39m: \u001b[0m\u001b[1;36m3.0\u001b[0m\u001b[39m, \u001b[0m\u001b[32m'skilled'\u001b[0m\u001b[39m: \u001b[0m    \u001b]8;id=696966;file:///Users/pinchun/Documents/2023Fall/NLP/hw-llm/eval.py\u001b\\\u001b[2meval.py\u001b[0m\u001b]8;;\u001b\\\u001b[2m:\u001b[0m\u001b]8;id=331610;file:///Users/pinchun/Documents/2023Fall/NLP/hw-llm/eval.py#285\u001b\\\u001b[2m285\u001b[0m\u001b]8;;\u001b\\\n",
       "\u001b[1;36m8.0\u001b[0m\u001b[39m, \u001b[0m\u001b[32m'TOTAL'\u001b[0m\u001b[39m: \u001b[0m\u001b[1;36m20.0\u001b[0m\u001b[1;39m}\u001b[0m\u001b[1m>\u001b[0m                                                                                    \u001b[2m           \u001b[0m\n",
       "                                                                                                        \u001b[2m           \u001b[0m\n",
       "Comments from overview question:                                                                        \u001b[2m           \u001b[0m\n",
       "\u001b[1m(\u001b[0mTrollFace\u001b[1m)\u001b[0m Alice disagreed with TrollFace's sarcastic remarks about President Biden and his            \u001b[2m           \u001b[0m\n",
       "achievements. She emphasized the importance of recognizing the positive impact made by President Biden  \u001b[2m           \u001b[0m\n",
       "in areas such as COVID-\u001b[1;36m19\u001b[0m vaccines, climate change, and racial equity.                                  \u001b[2m           \u001b[0m\n",
       "                                                                                                        \u001b[2m           \u001b[0m\n",
       "In TrollFace's opinion, the conversation went exactly as planned. He successfully ridiculed President   \u001b[2m           \u001b[0m\n",
       "Biden and his accomplishments, while Alice tried to bring a more serious and nuanced perspective to the \u001b[2m           \u001b[0m\n",
       "discussion.                                                                                             \u001b[2m           \u001b[0m\n",
       "                                                                                                        \u001b[2m           \u001b[0m\n",
       "Alice could have done better by not engaging with TrollFace's sarcastic remarks and instead focusing on \u001b[2m           \u001b[0m\n",
       "presenting factual information and evidence to support her points. This would have made the             \u001b[2m           \u001b[0m\n",
       "conversation more productive and less susceptible to TrollFace's trolling tactics.                      \u001b[2m           \u001b[0m\n",
       "                                                                                                        \u001b[2m           \u001b[0m\n",
       "Comments from staying on topic question:                                                                \u001b[2m           \u001b[0m\n",
       "\u001b[1m(\u001b[0mJudge Wise\u001b[1m)\u001b[0m Alice did a good job of staying on topic and addressing the same topic that TrollFace was  \u001b[2m           \u001b[0m\n",
       "talking about in the previous sentence. Each of Alice's replies directly responds to TrollFace's        \u001b[2m           \u001b[0m\n",
       "comments and attempts to redirect the conversation towards discussing President Biden's achievements    \u001b[2m           \u001b[0m\n",
       "and the challenges of being a leader.                                                                   \u001b[2m           \u001b[0m\n"
      ]
     },
     "metadata": {},
     "output_type": "display_data"
    },
    {
     "data": {
      "text/html": [
       "<pre style=\"white-space:pre;overflow-x:auto;line-height:normal;font-family:Menlo,'DejaVu Sans Mono',consolas,'Courier New',monospace\">You just spent $<span style=\"color: #008080; text-decoration-color: #008080; font-weight: bold\">0.06</span> of NLP money to evaluate <span style=\"font-weight: bold\">&lt;</span><span style=\"color: #ff00ff; text-decoration-color: #ff00ff; font-weight: bold\">LLMAgent</span><span style=\"color: #000000; text-decoration-color: #000000\"> Alice</span><span style=\"font-weight: bold\">&gt;</span>                                          <a href=\"file:///Users/pinchun/Documents/2023Fall/NLP/hw-llm/eval.py\" target=\"_blank\"><span style=\"color: #7f7f7f; text-decoration-color: #7f7f7f\">eval.py</span></a><span style=\"color: #7f7f7f; text-decoration-color: #7f7f7f\">:</span><a href=\"file:///Users/pinchun/Documents/2023Fall/NLP/hw-llm/eval.py#296\" target=\"_blank\"><span style=\"color: #7f7f7f; text-decoration-color: #7f7f7f\">296</span></a>\n",
       "</pre>\n"
      ],
      "text/plain": [
       "You just spent $\u001b[1;36m0.06\u001b[0m of NLP money to evaluate \u001b[1m<\u001b[0m\u001b[1;95mLLMAgent\u001b[0m\u001b[39m Alice\u001b[0m\u001b[1m>\u001b[0m                                          \u001b]8;id=35784;file:///Users/pinchun/Documents/2023Fall/NLP/hw-llm/eval.py\u001b\\\u001b[2meval.py\u001b[0m\u001b]8;;\u001b\\\u001b[2m:\u001b[0m\u001b]8;id=921514;file:///Users/pinchun/Documents/2023Fall/NLP/hw-llm/eval.py#296\u001b\\\u001b[2m296\u001b[0m\u001b]8;;\u001b\\\n"
      ]
     },
     "metadata": {},
     "output_type": "display_data"
    }
   ],
   "source": [
    "with LoggingContext(\"eval\", \"INFO\"):     # makes eval.py show the simulated dialogues and results of evaluation\n",
    "    alice_eval = eval.eval_on_characters(argubots.alice)  "
   ]
  },
  {
   "cell_type": "code",
   "execution_count": 21,
   "metadata": {},
   "outputs": [
    {
     "data": {
      "text/plain": [
       "<Eval of 10 dialogues: {'engaged': 3.7, 'informed': 3.4, 'intelligent': 3.0, 'moral': 3.0, 'skilled': 8.0, 'TOTAL': 21.1}>\n",
       "Standard deviations: {'engaged': 0.6749485577105524, 'informed': 0.5163977794943229, 'intelligent': 0.0, 'moral': 0.0, 'skilled': 0.0, 'TOTAL': 0.7378647873725944}\n",
       "\n",
       "Comments from overview question:\n",
       "(Bob) Alice disagreed with Bob about the effectiveness of a vegetarian diet in promoting sustainable and compassionate living. She argued that small-scale, sustainable meat production and supporting local communities can also contribute to environmental and animal welfare efforts.\n",
       "\n",
       "In Bob's opinion, the conversation was respectful and both parties presented their perspectives. However, Alice could have done better by providing more specific evidence or examples to support her claims about the benefits of small-scale, sustainable meat production. This would have made her argument stronger and more convincing.\n",
       "(Bob) Alice disagreed with Bob about the importance of responsible and ethical meat consumption, as well as the potential benefits of sustainable and responsible meat production.\n",
       "\n",
       "In Bob's opinion, the conversation went respectfully, with both parties expressing their viewpoints and acknowledging each other's perspectives. However, Alice could have done better by providing specific examples or evidence to support her arguments about sustainable and ethical meat production practices. This would have made her points more compelling and allowed for a more in-depth discussion.\n",
       "(Cara) Alice disagreed with Cara about the impact of meat consumption on the environment and the potential need to reduce meat consumption or choose more sustainable options.\n",
       "\n",
       "In Cara's opinion, the conversation went relatively well. She expressed her belief that eating meat is a personal choice and that she prefers to make her own decisions about what she eats. She acknowledged the concerns about the environmental impact of meat production but stated that she believes there are ways to address these issues without giving up meat entirely. Cara remained firm in her stance and expressed contentment with her current choices regarding food.\n",
       "\n",
       "Alice could have done better by providing more specific information or examples about sustainable choices and their potential benefits. This could have helped Cara better understand the options available to her and potentially sparked further discussion or consideration. Additionally, Alice could have approached the conversation with a more open and curious mindset, seeking to understand Cara's perspective rather than trying to convince her to change her beliefs.\n",
       "(Cara) Alice disagreed with Cara about whether it's okay to eat meat. Alice raised concerns about the ethical and environmental implications of meat consumption, while Cara maintained that it's a personal choice and defended her decision to include meat in her diet.\n",
       "\n",
       "In Cara's opinion, the conversation went relatively well. Both parties expressed their viewpoints and engaged in a respectful discussion. They acknowledged each other's perspectives and found common ground in the importance of being mindful of the sources of meat and supporting sustainable practices.\n",
       "\n",
       "However, Alice could have done better by providing more specific information or evidence to support her concerns about the ethical and environmental implications of meat consumption. This could have enriched the conversation and allowed for a deeper exploration of the topic.\n",
       "(Darius) Alice disagreed with Darius about the idea of mandatory vaccination potentially infringing on personal freedoms or beliefs. \n",
       "\n",
       "In Darius's opinion, the conversation went well as both parties presented their perspectives and engaged in a thoughtful discussion about balancing public health and individual rights.\n",
       "\n",
       "Alice could have done better by providing specific examples or counterarguments to support her concerns about mandatory vaccination infringing on personal freedoms or beliefs. This would have allowed for a more robust and nuanced discussion on the topic.\n",
       "(Darius) Alice disagreed with Darius about whether COVID vaccines should be mandatory. \n",
       "\n",
       "In Darius's opinion, the conversation went well as both parties acknowledged the importance of balancing individual rights with public health needs. They discussed the possibility of exemptions for medical or religious reasons and emphasized the need for clear guidelines and effective communication.\n",
       "\n",
       "Alice could have done better by providing more specific examples or counterarguments to support her concerns about mandating vaccines. This would have allowed for a more robust and nuanced discussion on the topic.\n",
       "(Eve) Alice disagreed with me about whether COVID vaccines should be mandatory. She believed that COVID vaccines should be mandatory to protect public health, while I mentioned that some people feel strongly that it should be a personal choice.\n",
       "\n",
       "In my opinion, the conversation went well. We both acknowledged the complexity of the issue and the importance of considering different perspectives. We engaged in a thoughtful discussion and expressed our agreement on the need to find a balance between individual freedoms and public health.\n",
       "\n",
       "Alice could have done better by providing specific evidence or examples to support her argument for mandatory vaccines. This would have strengthened her position and added more depth to the conversation.\n",
       "(Eve) Alice disagreed with me on the topic of whether COVID vaccines should be mandatory. While I mentioned that some people believe vaccines should be mandatory to protect public health, Alice emphasized the importance of considering personal freedoms and potential side effects.\n",
       "\n",
       "In my opinion, the conversation went well as we were able to discuss different perspectives on the topic. We both acknowledged the concerns and benefits of COVID vaccines, showing a willingness to understand each other's viewpoints.\n",
       "\n",
       "Alice could have done better by providing more specific examples or evidence to support her stance on personal freedoms and potential side effects. This would have added more depth to the conversation and allowed for a more thorough exploration of the topic.\n",
       "(TrollFace) Alice disagreed with TrollFace about the impact of Trump's communication style on political discourse. Alice argued that some people appreciated Trump's direct communication style and felt that it made the presidency more relatable.\n",
       "\n",
       "In TrollFace's opinion, the conversation went well as he was able to ridicule and dismiss Alice's points effectively. He believes he successfully highlighted the absurdity and negative aspects of Trump's presidency.\n",
       "\n",
       "Alice could have done better by providing more substantial arguments and evidence to support her perspective. She could have also challenged TrollFace's dismissive and mocking tone, encouraging a more respectful and constructive dialogue.\n",
       "(TrollFace) Alice disagreed with TrollFace's sarcastic remarks about President Biden and his achievements. She emphasized the importance of recognizing the positive impact made by President Biden in areas such as COVID-19 vaccines, climate change, and racial equity.\n",
       "\n",
       "In TrollFace's opinion, the conversation went exactly as planned. He successfully ridiculed President Biden and his accomplishments, while Alice tried to bring a more serious and nuanced perspective to the discussion.\n",
       "\n",
       "Alice could have done better by not engaging with TrollFace's sarcastic remarks and instead focusing on presenting factual information and evidence to support her points. This would have made the conversation more productive and less susceptible to TrollFace's trolling tactics.\n",
       "\n",
       "Comments from staying on topic question:\n",
       "(Judge Wise) Alice did a good job of staying on topic and addressing the points made by Bob in each of her replies. Her responses were directly related to the topic that Bob was discussing in the previous sentence.\n",
       "(Judge Wise) Alice did a good job of staying on topic and addressing the points made by Bob in each of her replies. Her responses were directly related to the topic of vegetarianism and the ethical and environmental considerations surrounding meat consumption, which were the main points raised by Bob in his previous sentences.\n",
       "(Judge Wise) Alice did a good job of staying on topic and addressing the points raised by Cara in each of her replies. Each of Alice's responses directly relates to the topic that Cara was discussing in the previous sentence.\n",
       "(Judge Wise) Alice did a good job of staying on topic and addressing the points raised by Cara in each of her replies. Her responses were directly related to the specific topics and concerns mentioned by Cara in the previous sentences.\n",
       "(Judge Wise) Alice did a good job of staying on topic and addressing the same topic that Darius was talking about in the previous sentence. Her replies were directly related to the points made by Darius and she consistently engaged with the topic of balancing public health and individual rights in the context of vaccination mandates.\n",
       "(Judge Wise) Alice did a good job of staying on topic and addressing the points made by Darius in each of her replies. Her responses were directly related to the topic that Darius was discussing in the previous sentence.\n",
       "(Judge Wise) Alice did a good job of staying on topic and addressing the same topic that Eve was talking about in the previous sentence. Each of Alice's replies directly relates to the topic of COVID vaccines being mandatory and the balance between public health and individual freedoms.\n",
       "(Judge Wise) Alice did a good job of staying on topic and addressing the same topic that Eve was talking about in the previous sentence. Each of Alice's replies directly relates to the specific topic or question raised by Eve.\n",
       "(Judge Wise) Alice did a fairly good job of staying on topic and addressing the points made by TrollFace in the previous sentence. Her replies were directly related to the topic of discussion and responded to the specific points raised by TrollFace.\n",
       "(Judge Wise) Alice did a good job of staying on topic and addressing the same topic that TrollFace was talking about in the previous sentence. Each of Alice's replies directly responds to TrollFace's comments and attempts to redirect the conversation towards discussing President Biden's achievements and the challenges of being a leader."
      ]
     },
     "execution_count": 21,
     "metadata": {},
     "output_type": "execute_result"
    }
   ],
   "source": [
    "alice_eval"
   ]
  },
  {
   "cell_type": "code",
   "execution_count": 22,
   "metadata": {},
   "outputs": [
    {
     "data": {
      "text/html": [
       "<pre style=\"white-space:pre;overflow-x:auto;line-height:normal;font-family:Menlo,'DejaVu Sans Mono',consolas,'Courier New',monospace\">You just spent $<span style=\"color: #008080; text-decoration-color: #008080; font-weight: bold\">0.02</span> of NLP money to evaluate <span style=\"font-weight: bold\">&lt;</span><span style=\"color: #ff00ff; text-decoration-color: #ff00ff; font-weight: bold\">argubots.KialoAgent</span><span style=\"color: #000000; text-decoration-color: #000000\"> object at </span><span style=\"color: #008080; text-decoration-color: #008080; font-weight: bold\">0x1061c3100</span><span style=\"font-weight: bold\">&gt;</span>               <a href=\"file:///Users/pinchun/Documents/2023Fall/NLP/hw-llm/eval.py\" target=\"_blank\"><span style=\"color: #7f7f7f; text-decoration-color: #7f7f7f\">eval.py</span></a><span style=\"color: #7f7f7f; text-decoration-color: #7f7f7f\">:</span><a href=\"file:///Users/pinchun/Documents/2023Fall/NLP/hw-llm/eval.py#296\" target=\"_blank\"><span style=\"color: #7f7f7f; text-decoration-color: #7f7f7f\">296</span></a>\n",
       "</pre>\n"
      ],
      "text/plain": [
       "You just spent $\u001b[1;36m0.02\u001b[0m of NLP money to evaluate \u001b[1m<\u001b[0m\u001b[1;95margubots.KialoAgent\u001b[0m\u001b[39m object at \u001b[0m\u001b[1;36m0x1061c3100\u001b[0m\u001b[1m>\u001b[0m               \u001b]8;id=264200;file:///Users/pinchun/Documents/2023Fall/NLP/hw-llm/eval.py\u001b\\\u001b[2meval.py\u001b[0m\u001b]8;;\u001b\\\u001b[2m:\u001b[0m\u001b]8;id=916462;file:///Users/pinchun/Documents/2023Fall/NLP/hw-llm/eval.py#296\u001b\\\u001b[2m296\u001b[0m\u001b]8;;\u001b\\\n"
      ]
     },
     "metadata": {},
     "output_type": "display_data"
    }
   ],
   "source": [
    "akiko_eval = eval.eval_on_characters(argubots.akiko, reps=1)  # quick eval of the Akiko argubot"
   ]
  },
  {
   "cell_type": "code",
   "execution_count": null,
   "metadata": {},
   "outputs": [],
   "source": [
    "# akiko_eval   # uncomment if you want to see the full evaluation; use rich.print if you want word-wrap"
   ]
  },
  {
   "cell_type": "code",
   "execution_count": 23,
   "metadata": {},
   "outputs": [
    {
     "data": {
      "text/html": [
       "<pre style=\"white-space:pre;overflow-x:auto;line-height:normal;font-family:Menlo,'DejaVu Sans Mono',consolas,'Courier New',monospace\"><span style=\"font-weight: bold\">{</span><span style=\"color: #008000; text-decoration-color: #008000\">'engaged'</span>: <span style=\"color: #008080; text-decoration-color: #008080; font-weight: bold\">3.8</span>, <span style=\"color: #008000; text-decoration-color: #008000\">'informed'</span>: <span style=\"color: #008080; text-decoration-color: #008080; font-weight: bold\">3.0</span>, <span style=\"color: #008000; text-decoration-color: #008000\">'intelligent'</span>: <span style=\"color: #008080; text-decoration-color: #008080; font-weight: bold\">2.8</span>, <span style=\"color: #008000; text-decoration-color: #008000\">'moral'</span>: <span style=\"color: #008080; text-decoration-color: #008080; font-weight: bold\">3.0</span>, <span style=\"color: #008000; text-decoration-color: #008000\">'skilled'</span>: <span style=\"color: #008080; text-decoration-color: #008080; font-weight: bold\">6.0</span>, <span style=\"color: #008000; text-decoration-color: #008000\">'TOTAL'</span>: <span style=\"color: #008080; text-decoration-color: #008080; font-weight: bold\">18.6</span><span style=\"font-weight: bold\">}</span>\n",
       "</pre>\n"
      ],
      "text/plain": [
       "\u001b[1m{\u001b[0m\u001b[32m'engaged'\u001b[0m: \u001b[1;36m3.8\u001b[0m, \u001b[32m'informed'\u001b[0m: \u001b[1;36m3.0\u001b[0m, \u001b[32m'intelligent'\u001b[0m: \u001b[1;36m2.8\u001b[0m, \u001b[32m'moral'\u001b[0m: \u001b[1;36m3.0\u001b[0m, \u001b[32m'skilled'\u001b[0m: \u001b[1;36m6.0\u001b[0m, \u001b[32m'TOTAL'\u001b[0m: \u001b[1;36m18.6\u001b[0m\u001b[1m}\u001b[0m\n"
      ]
     },
     "metadata": {},
     "output_type": "display_data"
    },
    {
     "data": {
      "text/html": [
       "<pre style=\"white-space:pre;overflow-x:auto;line-height:normal;font-family:Menlo,'DejaVu Sans Mono',consolas,'Courier New',monospace\"><span style=\"font-weight: bold\">{</span>\n",
       "    <span style=\"color: #008000; text-decoration-color: #008000\">'engaged'</span>: <span style=\"color: #008080; text-decoration-color: #008080; font-weight: bold\">0.44721359549995715</span>,\n",
       "    <span style=\"color: #008000; text-decoration-color: #008000\">'informed'</span>: <span style=\"color: #008080; text-decoration-color: #008080; font-weight: bold\">0.0</span>,\n",
       "    <span style=\"color: #008000; text-decoration-color: #008000\">'intelligent'</span>: <span style=\"color: #008080; text-decoration-color: #008080; font-weight: bold\">0.44721359549995715</span>,\n",
       "    <span style=\"color: #008000; text-decoration-color: #008000\">'moral'</span>: <span style=\"color: #008080; text-decoration-color: #008080; font-weight: bold\">0.0</span>,\n",
       "    <span style=\"color: #008000; text-decoration-color: #008000\">'skilled'</span>: <span style=\"color: #008080; text-decoration-color: #008080; font-weight: bold\">2.0</span>,\n",
       "    <span style=\"color: #008000; text-decoration-color: #008000\">'TOTAL'</span>: <span style=\"color: #008080; text-decoration-color: #008080; font-weight: bold\">2.6076809620810617</span>\n",
       "<span style=\"font-weight: bold\">}</span>\n",
       "</pre>\n"
      ],
      "text/plain": [
       "\u001b[1m{\u001b[0m\n",
       "    \u001b[32m'engaged'\u001b[0m: \u001b[1;36m0.44721359549995715\u001b[0m,\n",
       "    \u001b[32m'informed'\u001b[0m: \u001b[1;36m0.0\u001b[0m,\n",
       "    \u001b[32m'intelligent'\u001b[0m: \u001b[1;36m0.44721359549995715\u001b[0m,\n",
       "    \u001b[32m'moral'\u001b[0m: \u001b[1;36m0.0\u001b[0m,\n",
       "    \u001b[32m'skilled'\u001b[0m: \u001b[1;36m2.0\u001b[0m,\n",
       "    \u001b[32m'TOTAL'\u001b[0m: \u001b[1;36m2.6076809620810617\u001b[0m\n",
       "\u001b[1m}\u001b[0m\n"
      ]
     },
     "metadata": {},
     "output_type": "display_data"
    },
    {
     "data": {
      "text/html": [
       "<pre style=\"white-space:pre;overflow-x:auto;line-height:normal;font-family:Menlo,'DejaVu Sans Mono',consolas,'Courier New',monospace\"><span style=\"font-weight: bold\">(</span>\n",
       "    <span style=\"font-weight: bold\">(</span>Akiko<span style=\"font-weight: bold\">)</span> Do you think COVID vaccines should be mandatory?\n",
       "<span style=\"font-weight: bold\">(</span>Darius<span style=\"font-weight: bold\">)</span> Absolutely, given the overwhelming scientific evidence supporting their safety and effectiveness in \n",
       "preventing the spread of disease, mandatory vaccination is an essential public health measure.\n",
       "<span style=\"font-weight: bold\">(</span>Akiko<span style=\"font-weight: bold\">)</span> Vaccines were only made mandatory for federal, healthcare, and education workers.\n",
       "<span style=\"font-weight: bold\">(</span>Darius<span style=\"font-weight: bold\">)</span> It's a step in the right direction, but broader mandatory vaccination policies are crucial for achieving \n",
       "widespread immunity and preventing future outbreaks.\n",
       "<span style=\"font-weight: bold\">(</span>Akiko<span style=\"font-weight: bold\">)</span> Although presidential actions have relatively little influence on the economy during normal times, during a\n",
       "crisis, such as the coronavirus pandemic, the actions of a president can have significant economic effects.\n",
       "<span style=\"font-weight: bold\">(</span>Darius<span style=\"font-weight: bold\">)</span> Certainly, a president's decisions regarding stimulus packages, public health measures, and international \n",
       "trade policies can have a substantial impact on the economy, especially during a crisis like the coronavirus \n",
       "pandemic.\n",
       "<span style=\"font-weight: bold\">(</span>Akiko<span style=\"font-weight: bold\">)</span> Under Trump's administration, the median household income grew from $<span style=\"color: #008080; text-decoration-color: #008080; font-weight: bold\">62</span>,<span style=\"color: #008080; text-decoration-color: #008080; font-weight: bold\">898</span> in <span style=\"color: #008080; text-decoration-color: #008080; font-weight: bold\">2016</span> to $<span style=\"color: #008080; text-decoration-color: #008080; font-weight: bold\">68</span>,<span style=\"color: #008080; text-decoration-color: #008080; font-weight: bold\">703</span> in <span style=\"color: #008080; text-decoration-color: #008080; font-weight: bold\">2019</span>.\n",
       "<span style=\"font-weight: bold\">(</span>Darius<span style=\"font-weight: bold\">)</span> While it's true that median household income saw an increase during Trump's administration, it's essential\n",
       "to consider broader economic trends and factors beyond the president's influence that contribute to such changes.,\n",
       "    <span style=\"font-weight: bold\">&lt;</span><span style=\"color: #ff00ff; text-decoration-color: #ff00ff; font-weight: bold\">Eval</span><span style=\"color: #000000; text-decoration-color: #000000\"> of </span><span style=\"color: #008080; text-decoration-color: #008080; font-weight: bold\">1</span><span style=\"color: #000000; text-decoration-color: #000000\"> dialogue: </span><span style=\"color: #000000; text-decoration-color: #000000; font-weight: bold\">{</span><span style=\"color: #008000; text-decoration-color: #008000\">'engaged'</span><span style=\"color: #000000; text-decoration-color: #000000\">: </span><span style=\"color: #008080; text-decoration-color: #008080; font-weight: bold\">4.0</span><span style=\"color: #000000; text-decoration-color: #000000\">, </span><span style=\"color: #008000; text-decoration-color: #008000\">'informed'</span><span style=\"color: #000000; text-decoration-color: #000000\">: </span><span style=\"color: #008080; text-decoration-color: #008080; font-weight: bold\">3.0</span><span style=\"color: #000000; text-decoration-color: #000000\">, </span><span style=\"color: #008000; text-decoration-color: #008000\">'intelligent'</span><span style=\"color: #000000; text-decoration-color: #000000\">: </span><span style=\"color: #008080; text-decoration-color: #008080; font-weight: bold\">3.0</span><span style=\"color: #000000; text-decoration-color: #000000\">, </span><span style=\"color: #008000; text-decoration-color: #008000\">'moral'</span><span style=\"color: #000000; text-decoration-color: #000000\">: </span><span style=\"color: #008080; text-decoration-color: #008080; font-weight: bold\">3.0</span><span style=\"color: #000000; text-decoration-color: #000000\">, </span><span style=\"color: #008000; text-decoration-color: #008000\">'skilled'</span><span style=\"color: #000000; text-decoration-color: #000000\">: </span><span style=\"color: #008080; text-decoration-color: #008080; font-weight: bold\">8.0</span><span style=\"color: #000000; text-decoration-color: #000000\">, </span>\n",
       "<span style=\"color: #008000; text-decoration-color: #008000\">'TOTAL'</span><span style=\"color: #000000; text-decoration-color: #000000\">: </span><span style=\"color: #008080; text-decoration-color: #008080; font-weight: bold\">21.0</span><span style=\"color: #000000; text-decoration-color: #000000; font-weight: bold\">}</span><span style=\"font-weight: bold\">&gt;</span>\n",
       "\n",
       "Comments from overview question:\n",
       "<span style=\"font-weight: bold\">(</span>Darius<span style=\"font-weight: bold\">)</span> Akiko disagreed with me about the extent to which COVID vaccines should be mandatory. She mentioned that \n",
       "vaccines were only made mandatory for federal, healthcare, and education workers.\n",
       "\n",
       "In my opinion, the conversation went well overall. We had a respectful exchange of ideas and presented our \n",
       "arguments based on evidence and reasoning.\n",
       "\n",
       "Akiko could have done better by providing more specific evidence or counterarguments to support her position on \n",
       "mandatory vaccination. Additionally, she could have engaged more directly with my points about the importance of \n",
       "achieving widespread immunity and preventing future outbreaks.\n",
       "\n",
       "Comments from staying on topic question:\n",
       "<span style=\"font-weight: bold\">(</span>Judge Wise<span style=\"font-weight: bold\">)</span> Akiko stayed on topic fairly well. Her replies were directly related to the previous sentences of \n",
       "Darius, addressing the same topic in each instance.\n",
       "<span style=\"font-weight: bold\">)</span>\n",
       "</pre>\n"
      ],
      "text/plain": [
       "\u001b[1m(\u001b[0m\n",
       "    \u001b[1m(\u001b[0mAkiko\u001b[1m)\u001b[0m Do you think COVID vaccines should be mandatory?\n",
       "\u001b[1m(\u001b[0mDarius\u001b[1m)\u001b[0m Absolutely, given the overwhelming scientific evidence supporting their safety and effectiveness in \n",
       "preventing the spread of disease, mandatory vaccination is an essential public health measure.\n",
       "\u001b[1m(\u001b[0mAkiko\u001b[1m)\u001b[0m Vaccines were only made mandatory for federal, healthcare, and education workers.\n",
       "\u001b[1m(\u001b[0mDarius\u001b[1m)\u001b[0m It's a step in the right direction, but broader mandatory vaccination policies are crucial for achieving \n",
       "widespread immunity and preventing future outbreaks.\n",
       "\u001b[1m(\u001b[0mAkiko\u001b[1m)\u001b[0m Although presidential actions have relatively little influence on the economy during normal times, during a\n",
       "crisis, such as the coronavirus pandemic, the actions of a president can have significant economic effects.\n",
       "\u001b[1m(\u001b[0mDarius\u001b[1m)\u001b[0m Certainly, a president's decisions regarding stimulus packages, public health measures, and international \n",
       "trade policies can have a substantial impact on the economy, especially during a crisis like the coronavirus \n",
       "pandemic.\n",
       "\u001b[1m(\u001b[0mAkiko\u001b[1m)\u001b[0m Under Trump's administration, the median household income grew from $\u001b[1;36m62\u001b[0m,\u001b[1;36m898\u001b[0m in \u001b[1;36m2016\u001b[0m to $\u001b[1;36m68\u001b[0m,\u001b[1;36m703\u001b[0m in \u001b[1;36m2019\u001b[0m.\n",
       "\u001b[1m(\u001b[0mDarius\u001b[1m)\u001b[0m While it's true that median household income saw an increase during Trump's administration, it's essential\n",
       "to consider broader economic trends and factors beyond the president's influence that contribute to such changes.,\n",
       "    \u001b[1m<\u001b[0m\u001b[1;95mEval\u001b[0m\u001b[39m of \u001b[0m\u001b[1;36m1\u001b[0m\u001b[39m dialogue: \u001b[0m\u001b[1;39m{\u001b[0m\u001b[32m'engaged'\u001b[0m\u001b[39m: \u001b[0m\u001b[1;36m4.0\u001b[0m\u001b[39m, \u001b[0m\u001b[32m'informed'\u001b[0m\u001b[39m: \u001b[0m\u001b[1;36m3.0\u001b[0m\u001b[39m, \u001b[0m\u001b[32m'intelligent'\u001b[0m\u001b[39m: \u001b[0m\u001b[1;36m3.0\u001b[0m\u001b[39m, \u001b[0m\u001b[32m'moral'\u001b[0m\u001b[39m: \u001b[0m\u001b[1;36m3.0\u001b[0m\u001b[39m, \u001b[0m\u001b[32m'skilled'\u001b[0m\u001b[39m: \u001b[0m\u001b[1;36m8.0\u001b[0m\u001b[39m, \u001b[0m\n",
       "\u001b[32m'TOTAL'\u001b[0m\u001b[39m: \u001b[0m\u001b[1;36m21.0\u001b[0m\u001b[1;39m}\u001b[0m\u001b[1m>\u001b[0m\n",
       "\n",
       "Comments from overview question:\n",
       "\u001b[1m(\u001b[0mDarius\u001b[1m)\u001b[0m Akiko disagreed with me about the extent to which COVID vaccines should be mandatory. She mentioned that \n",
       "vaccines were only made mandatory for federal, healthcare, and education workers.\n",
       "\n",
       "In my opinion, the conversation went well overall. We had a respectful exchange of ideas and presented our \n",
       "arguments based on evidence and reasoning.\n",
       "\n",
       "Akiko could have done better by providing more specific evidence or counterarguments to support her position on \n",
       "mandatory vaccination. Additionally, she could have engaged more directly with my points about the importance of \n",
       "achieving widespread immunity and preventing future outbreaks.\n",
       "\n",
       "Comments from staying on topic question:\n",
       "\u001b[1m(\u001b[0mJudge Wise\u001b[1m)\u001b[0m Akiko stayed on topic fairly well. Her replies were directly related to the previous sentences of \n",
       "Darius, addressing the same topic in each instance.\n",
       "\u001b[1m)\u001b[0m\n"
      ]
     },
     "metadata": {},
     "output_type": "display_data"
    }
   ],
   "source": [
    "# Although we didn't use the logger to view the dialogues \n",
    "# and evaluations as they were generated, they're saved ...\n",
    "from eval import saved_evalsum, saved_dialogues\n",
    "\n",
    "rich.print(saved_evalsum['Akiko'].mean())   # means\n",
    "rich.print(saved_evalsum['Akiko'].sd())     # standard deviations\n",
    "rich.print(saved_dialogues['Akiko'][2])     # one of the actual dialogues and its eval"
   ]
  },
  {
   "cell_type": "code",
   "execution_count": null,
   "metadata": {},
   "outputs": [],
   "source": [
    "# quick eval of the Eve agent.\n",
    "# She's not designed as an argubot, but maybe her approach would pay off?\n",
    "eve_eval = eval.eval_on_characters(agents.eve, reps=1)  \n",
    "rich.print(saved_evalsum['Eve'].mean())\n",
    "rich.print(saved_dialogues['Eve'])"
   ]
  },
  {
   "cell_type": "code",
   "execution_count": null,
   "metadata": {},
   "outputs": [],
   "source": []
  }
 ],
 "metadata": {
  "kernelspec": {
   "display_name": "Python 3 (ipykernel)",
   "language": "python",
   "name": "python3"
  },
  "language_info": {
   "codemirror_mode": {
    "name": "ipython",
    "version": 3
   },
   "file_extension": ".py",
   "mimetype": "text/x-python",
   "name": "python",
   "nbconvert_exporter": "python",
   "pygments_lexer": "ipython3",
   "version": "3.9.18"
  }
 },
 "nbformat": 4,
 "nbformat_minor": 4
}
